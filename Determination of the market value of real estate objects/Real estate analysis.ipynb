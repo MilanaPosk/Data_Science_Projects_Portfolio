{
 "cells": [
  {
   "cell_type": "markdown",
   "metadata": {},
   "source": [
    "## Data exploration"
   ]
  },
  {
   "cell_type": "code",
   "execution_count": 1,
   "metadata": {},
   "outputs": [],
   "source": [
    "import pandas as pd\n",
    "import numpy as np\n",
    "import matplotlib.pyplot as plt\n",
    "pd.set_option('display.float_format', '{:,.2f}'.format)\n",
    "data = pd.read_csv('/datasets/real_estate_data.csv', sep='\\t')\n",
    "# to fully display the columns, you can apply pd.set_option('display.max_columns',None)"
   ]
  },
  {
   "cell_type": "code",
   "execution_count": 2,
   "metadata": {
    "scrolled": true
   },
   "outputs": [
    {
     "data": {
      "text/html": [
       "<div>\n",
       "<style scoped>\n",
       "    .dataframe tbody tr th:only-of-type {\n",
       "        vertical-align: middle;\n",
       "    }\n",
       "\n",
       "    .dataframe tbody tr th {\n",
       "        vertical-align: top;\n",
       "    }\n",
       "\n",
       "    .dataframe thead th {\n",
       "        text-align: right;\n",
       "    }\n",
       "</style>\n",
       "<table border=\"1\" class=\"dataframe\">\n",
       "  <thead>\n",
       "    <tr style=\"text-align: right;\">\n",
       "      <th></th>\n",
       "      <th>total_images</th>\n",
       "      <th>last_price</th>\n",
       "      <th>total_area</th>\n",
       "      <th>first_day_exposition</th>\n",
       "      <th>rooms</th>\n",
       "      <th>ceiling_height</th>\n",
       "      <th>floors_total</th>\n",
       "      <th>living_area</th>\n",
       "      <th>floor</th>\n",
       "      <th>is_apartment</th>\n",
       "      <th>...</th>\n",
       "      <th>kitchen_area</th>\n",
       "      <th>balcony</th>\n",
       "      <th>locality_name</th>\n",
       "      <th>airports_nearest</th>\n",
       "      <th>cityCenters_nearest</th>\n",
       "      <th>parks_around3000</th>\n",
       "      <th>parks_nearest</th>\n",
       "      <th>ponds_around3000</th>\n",
       "      <th>ponds_nearest</th>\n",
       "      <th>days_exposition</th>\n",
       "    </tr>\n",
       "  </thead>\n",
       "  <tbody>\n",
       "    <tr>\n",
       "      <th>0</th>\n",
       "      <td>20</td>\n",
       "      <td>13,000,000.00</td>\n",
       "      <td>108.00</td>\n",
       "      <td>2019-03-07T00:00:00</td>\n",
       "      <td>3</td>\n",
       "      <td>2.70</td>\n",
       "      <td>16.00</td>\n",
       "      <td>51.00</td>\n",
       "      <td>8</td>\n",
       "      <td>NaN</td>\n",
       "      <td>...</td>\n",
       "      <td>25.00</td>\n",
       "      <td>NaN</td>\n",
       "      <td>Санкт-Петербург</td>\n",
       "      <td>18,863.00</td>\n",
       "      <td>16,028.00</td>\n",
       "      <td>1.00</td>\n",
       "      <td>482.00</td>\n",
       "      <td>2.00</td>\n",
       "      <td>755.00</td>\n",
       "      <td>NaN</td>\n",
       "    </tr>\n",
       "    <tr>\n",
       "      <th>1</th>\n",
       "      <td>7</td>\n",
       "      <td>3,350,000.00</td>\n",
       "      <td>40.40</td>\n",
       "      <td>2018-12-04T00:00:00</td>\n",
       "      <td>1</td>\n",
       "      <td>NaN</td>\n",
       "      <td>11.00</td>\n",
       "      <td>18.60</td>\n",
       "      <td>1</td>\n",
       "      <td>NaN</td>\n",
       "      <td>...</td>\n",
       "      <td>11.00</td>\n",
       "      <td>2.00</td>\n",
       "      <td>посёлок Шушары</td>\n",
       "      <td>12,817.00</td>\n",
       "      <td>18,603.00</td>\n",
       "      <td>0.00</td>\n",
       "      <td>NaN</td>\n",
       "      <td>0.00</td>\n",
       "      <td>NaN</td>\n",
       "      <td>81.00</td>\n",
       "    </tr>\n",
       "    <tr>\n",
       "      <th>2</th>\n",
       "      <td>10</td>\n",
       "      <td>5,196,000.00</td>\n",
       "      <td>56.00</td>\n",
       "      <td>2015-08-20T00:00:00</td>\n",
       "      <td>2</td>\n",
       "      <td>NaN</td>\n",
       "      <td>5.00</td>\n",
       "      <td>34.30</td>\n",
       "      <td>4</td>\n",
       "      <td>NaN</td>\n",
       "      <td>...</td>\n",
       "      <td>8.30</td>\n",
       "      <td>0.00</td>\n",
       "      <td>Санкт-Петербург</td>\n",
       "      <td>21,741.00</td>\n",
       "      <td>13,933.00</td>\n",
       "      <td>1.00</td>\n",
       "      <td>90.00</td>\n",
       "      <td>2.00</td>\n",
       "      <td>574.00</td>\n",
       "      <td>558.00</td>\n",
       "    </tr>\n",
       "    <tr>\n",
       "      <th>3</th>\n",
       "      <td>0</td>\n",
       "      <td>64,900,000.00</td>\n",
       "      <td>159.00</td>\n",
       "      <td>2015-07-24T00:00:00</td>\n",
       "      <td>3</td>\n",
       "      <td>NaN</td>\n",
       "      <td>14.00</td>\n",
       "      <td>NaN</td>\n",
       "      <td>9</td>\n",
       "      <td>NaN</td>\n",
       "      <td>...</td>\n",
       "      <td>NaN</td>\n",
       "      <td>0.00</td>\n",
       "      <td>Санкт-Петербург</td>\n",
       "      <td>28,098.00</td>\n",
       "      <td>6,800.00</td>\n",
       "      <td>2.00</td>\n",
       "      <td>84.00</td>\n",
       "      <td>3.00</td>\n",
       "      <td>234.00</td>\n",
       "      <td>424.00</td>\n",
       "    </tr>\n",
       "    <tr>\n",
       "      <th>4</th>\n",
       "      <td>2</td>\n",
       "      <td>10,000,000.00</td>\n",
       "      <td>100.00</td>\n",
       "      <td>2018-06-19T00:00:00</td>\n",
       "      <td>2</td>\n",
       "      <td>3.03</td>\n",
       "      <td>14.00</td>\n",
       "      <td>32.00</td>\n",
       "      <td>13</td>\n",
       "      <td>NaN</td>\n",
       "      <td>...</td>\n",
       "      <td>41.00</td>\n",
       "      <td>NaN</td>\n",
       "      <td>Санкт-Петербург</td>\n",
       "      <td>31,856.00</td>\n",
       "      <td>8,098.00</td>\n",
       "      <td>2.00</td>\n",
       "      <td>112.00</td>\n",
       "      <td>1.00</td>\n",
       "      <td>48.00</td>\n",
       "      <td>121.00</td>\n",
       "    </tr>\n",
       "    <tr>\n",
       "      <th>5</th>\n",
       "      <td>10</td>\n",
       "      <td>2,890,000.00</td>\n",
       "      <td>30.40</td>\n",
       "      <td>2018-09-10T00:00:00</td>\n",
       "      <td>1</td>\n",
       "      <td>NaN</td>\n",
       "      <td>12.00</td>\n",
       "      <td>14.40</td>\n",
       "      <td>5</td>\n",
       "      <td>NaN</td>\n",
       "      <td>...</td>\n",
       "      <td>9.10</td>\n",
       "      <td>NaN</td>\n",
       "      <td>городской посёлок Янино-1</td>\n",
       "      <td>NaN</td>\n",
       "      <td>NaN</td>\n",
       "      <td>NaN</td>\n",
       "      <td>NaN</td>\n",
       "      <td>NaN</td>\n",
       "      <td>NaN</td>\n",
       "      <td>55.00</td>\n",
       "    </tr>\n",
       "    <tr>\n",
       "      <th>6</th>\n",
       "      <td>6</td>\n",
       "      <td>3,700,000.00</td>\n",
       "      <td>37.30</td>\n",
       "      <td>2017-11-02T00:00:00</td>\n",
       "      <td>1</td>\n",
       "      <td>NaN</td>\n",
       "      <td>26.00</td>\n",
       "      <td>10.60</td>\n",
       "      <td>6</td>\n",
       "      <td>NaN</td>\n",
       "      <td>...</td>\n",
       "      <td>14.40</td>\n",
       "      <td>1.00</td>\n",
       "      <td>посёлок Парголово</td>\n",
       "      <td>52,996.00</td>\n",
       "      <td>19,143.00</td>\n",
       "      <td>0.00</td>\n",
       "      <td>NaN</td>\n",
       "      <td>0.00</td>\n",
       "      <td>NaN</td>\n",
       "      <td>155.00</td>\n",
       "    </tr>\n",
       "    <tr>\n",
       "      <th>7</th>\n",
       "      <td>5</td>\n",
       "      <td>7,915,000.00</td>\n",
       "      <td>71.60</td>\n",
       "      <td>2019-04-18T00:00:00</td>\n",
       "      <td>2</td>\n",
       "      <td>NaN</td>\n",
       "      <td>24.00</td>\n",
       "      <td>NaN</td>\n",
       "      <td>22</td>\n",
       "      <td>NaN</td>\n",
       "      <td>...</td>\n",
       "      <td>18.90</td>\n",
       "      <td>2.00</td>\n",
       "      <td>Санкт-Петербург</td>\n",
       "      <td>23,982.00</td>\n",
       "      <td>11,634.00</td>\n",
       "      <td>0.00</td>\n",
       "      <td>NaN</td>\n",
       "      <td>0.00</td>\n",
       "      <td>NaN</td>\n",
       "      <td>NaN</td>\n",
       "    </tr>\n",
       "    <tr>\n",
       "      <th>8</th>\n",
       "      <td>20</td>\n",
       "      <td>2,900,000.00</td>\n",
       "      <td>33.16</td>\n",
       "      <td>2018-05-23T00:00:00</td>\n",
       "      <td>1</td>\n",
       "      <td>NaN</td>\n",
       "      <td>27.00</td>\n",
       "      <td>15.43</td>\n",
       "      <td>26</td>\n",
       "      <td>NaN</td>\n",
       "      <td>...</td>\n",
       "      <td>8.81</td>\n",
       "      <td>NaN</td>\n",
       "      <td>посёлок Мурино</td>\n",
       "      <td>NaN</td>\n",
       "      <td>NaN</td>\n",
       "      <td>NaN</td>\n",
       "      <td>NaN</td>\n",
       "      <td>NaN</td>\n",
       "      <td>NaN</td>\n",
       "      <td>189.00</td>\n",
       "    </tr>\n",
       "    <tr>\n",
       "      <th>9</th>\n",
       "      <td>18</td>\n",
       "      <td>5,400,000.00</td>\n",
       "      <td>61.00</td>\n",
       "      <td>2017-02-26T00:00:00</td>\n",
       "      <td>3</td>\n",
       "      <td>2.50</td>\n",
       "      <td>9.00</td>\n",
       "      <td>43.60</td>\n",
       "      <td>7</td>\n",
       "      <td>NaN</td>\n",
       "      <td>...</td>\n",
       "      <td>6.50</td>\n",
       "      <td>2.00</td>\n",
       "      <td>Санкт-Петербург</td>\n",
       "      <td>50,898.00</td>\n",
       "      <td>15,008.00</td>\n",
       "      <td>0.00</td>\n",
       "      <td>NaN</td>\n",
       "      <td>0.00</td>\n",
       "      <td>NaN</td>\n",
       "      <td>289.00</td>\n",
       "    </tr>\n",
       "  </tbody>\n",
       "</table>\n",
       "<p>10 rows × 22 columns</p>\n",
       "</div>"
      ],
      "text/plain": [
       "   total_images    last_price  total_area first_day_exposition  rooms  \\\n",
       "0            20 13,000,000.00      108.00  2019-03-07T00:00:00      3   \n",
       "1             7  3,350,000.00       40.40  2018-12-04T00:00:00      1   \n",
       "2            10  5,196,000.00       56.00  2015-08-20T00:00:00      2   \n",
       "3             0 64,900,000.00      159.00  2015-07-24T00:00:00      3   \n",
       "4             2 10,000,000.00      100.00  2018-06-19T00:00:00      2   \n",
       "5            10  2,890,000.00       30.40  2018-09-10T00:00:00      1   \n",
       "6             6  3,700,000.00       37.30  2017-11-02T00:00:00      1   \n",
       "7             5  7,915,000.00       71.60  2019-04-18T00:00:00      2   \n",
       "8            20  2,900,000.00       33.16  2018-05-23T00:00:00      1   \n",
       "9            18  5,400,000.00       61.00  2017-02-26T00:00:00      3   \n",
       "\n",
       "   ceiling_height  floors_total  living_area  floor is_apartment  ...  \\\n",
       "0            2.70         16.00        51.00      8          NaN  ...   \n",
       "1             NaN         11.00        18.60      1          NaN  ...   \n",
       "2             NaN          5.00        34.30      4          NaN  ...   \n",
       "3             NaN         14.00          NaN      9          NaN  ...   \n",
       "4            3.03         14.00        32.00     13          NaN  ...   \n",
       "5             NaN         12.00        14.40      5          NaN  ...   \n",
       "6             NaN         26.00        10.60      6          NaN  ...   \n",
       "7             NaN         24.00          NaN     22          NaN  ...   \n",
       "8             NaN         27.00        15.43     26          NaN  ...   \n",
       "9            2.50          9.00        43.60      7          NaN  ...   \n",
       "\n",
       "   kitchen_area  balcony              locality_name  airports_nearest  \\\n",
       "0         25.00      NaN            Санкт-Петербург         18,863.00   \n",
       "1         11.00     2.00             посёлок Шушары         12,817.00   \n",
       "2          8.30     0.00            Санкт-Петербург         21,741.00   \n",
       "3           NaN     0.00            Санкт-Петербург         28,098.00   \n",
       "4         41.00      NaN            Санкт-Петербург         31,856.00   \n",
       "5          9.10      NaN  городской посёлок Янино-1               NaN   \n",
       "6         14.40     1.00          посёлок Парголово         52,996.00   \n",
       "7         18.90     2.00            Санкт-Петербург         23,982.00   \n",
       "8          8.81      NaN             посёлок Мурино               NaN   \n",
       "9          6.50     2.00            Санкт-Петербург         50,898.00   \n",
       "\n",
       "  cityCenters_nearest  parks_around3000  parks_nearest  ponds_around3000  \\\n",
       "0           16,028.00              1.00         482.00              2.00   \n",
       "1           18,603.00              0.00            NaN              0.00   \n",
       "2           13,933.00              1.00          90.00              2.00   \n",
       "3            6,800.00              2.00          84.00              3.00   \n",
       "4            8,098.00              2.00         112.00              1.00   \n",
       "5                 NaN               NaN            NaN               NaN   \n",
       "6           19,143.00              0.00            NaN              0.00   \n",
       "7           11,634.00              0.00            NaN              0.00   \n",
       "8                 NaN               NaN            NaN               NaN   \n",
       "9           15,008.00              0.00            NaN              0.00   \n",
       "\n",
       "   ponds_nearest  days_exposition  \n",
       "0         755.00              NaN  \n",
       "1            NaN            81.00  \n",
       "2         574.00           558.00  \n",
       "3         234.00           424.00  \n",
       "4          48.00           121.00  \n",
       "5            NaN            55.00  \n",
       "6            NaN           155.00  \n",
       "7            NaN              NaN  \n",
       "8            NaN           189.00  \n",
       "9            NaN           289.00  \n",
       "\n",
       "[10 rows x 22 columns]"
      ]
     },
     "metadata": {},
     "output_type": "display_data"
    }
   ],
   "source": [
    "display(data.head(10))"
   ]
  },
  {
   "cell_type": "code",
   "execution_count": 3,
   "metadata": {
    "scrolled": true
   },
   "outputs": [
    {
     "data": {
      "text/html": [
       "<div>\n",
       "<style scoped>\n",
       "    .dataframe tbody tr th:only-of-type {\n",
       "        vertical-align: middle;\n",
       "    }\n",
       "\n",
       "    .dataframe tbody tr th {\n",
       "        vertical-align: top;\n",
       "    }\n",
       "\n",
       "    .dataframe thead th {\n",
       "        text-align: right;\n",
       "    }\n",
       "</style>\n",
       "<table border=\"1\" class=\"dataframe\">\n",
       "  <thead>\n",
       "    <tr style=\"text-align: right;\">\n",
       "      <th></th>\n",
       "      <th>total_images</th>\n",
       "      <th>last_price</th>\n",
       "      <th>total_area</th>\n",
       "      <th>rooms</th>\n",
       "      <th>ceiling_height</th>\n",
       "      <th>floors_total</th>\n",
       "      <th>living_area</th>\n",
       "      <th>floor</th>\n",
       "      <th>kitchen_area</th>\n",
       "      <th>balcony</th>\n",
       "      <th>airports_nearest</th>\n",
       "      <th>cityCenters_nearest</th>\n",
       "      <th>parks_around3000</th>\n",
       "      <th>parks_nearest</th>\n",
       "      <th>ponds_around3000</th>\n",
       "      <th>ponds_nearest</th>\n",
       "      <th>days_exposition</th>\n",
       "    </tr>\n",
       "  </thead>\n",
       "  <tbody>\n",
       "    <tr>\n",
       "      <th>count</th>\n",
       "      <td>23,699.00</td>\n",
       "      <td>23,699.00</td>\n",
       "      <td>23,699.00</td>\n",
       "      <td>23,699.00</td>\n",
       "      <td>14,504.00</td>\n",
       "      <td>23,613.00</td>\n",
       "      <td>21,796.00</td>\n",
       "      <td>23,699.00</td>\n",
       "      <td>21,421.00</td>\n",
       "      <td>12,180.00</td>\n",
       "      <td>18,157.00</td>\n",
       "      <td>18,180.00</td>\n",
       "      <td>18,181.00</td>\n",
       "      <td>8,079.00</td>\n",
       "      <td>18,181.00</td>\n",
       "      <td>9,110.00</td>\n",
       "      <td>20,518.00</td>\n",
       "    </tr>\n",
       "    <tr>\n",
       "      <th>mean</th>\n",
       "      <td>9.86</td>\n",
       "      <td>6,541,548.77</td>\n",
       "      <td>60.35</td>\n",
       "      <td>2.07</td>\n",
       "      <td>2.77</td>\n",
       "      <td>10.67</td>\n",
       "      <td>34.46</td>\n",
       "      <td>5.89</td>\n",
       "      <td>10.57</td>\n",
       "      <td>1.15</td>\n",
       "      <td>28,793.67</td>\n",
       "      <td>14,191.28</td>\n",
       "      <td>0.61</td>\n",
       "      <td>490.80</td>\n",
       "      <td>0.77</td>\n",
       "      <td>517.98</td>\n",
       "      <td>180.89</td>\n",
       "    </tr>\n",
       "    <tr>\n",
       "      <th>std</th>\n",
       "      <td>5.68</td>\n",
       "      <td>10,887,013.27</td>\n",
       "      <td>35.65</td>\n",
       "      <td>1.08</td>\n",
       "      <td>1.26</td>\n",
       "      <td>6.60</td>\n",
       "      <td>22.03</td>\n",
       "      <td>4.89</td>\n",
       "      <td>5.91</td>\n",
       "      <td>1.07</td>\n",
       "      <td>12,630.88</td>\n",
       "      <td>8,608.39</td>\n",
       "      <td>0.80</td>\n",
       "      <td>342.32</td>\n",
       "      <td>0.94</td>\n",
       "      <td>277.72</td>\n",
       "      <td>219.73</td>\n",
       "    </tr>\n",
       "    <tr>\n",
       "      <th>min</th>\n",
       "      <td>0.00</td>\n",
       "      <td>12,190.00</td>\n",
       "      <td>12.00</td>\n",
       "      <td>0.00</td>\n",
       "      <td>1.00</td>\n",
       "      <td>1.00</td>\n",
       "      <td>2.00</td>\n",
       "      <td>1.00</td>\n",
       "      <td>1.30</td>\n",
       "      <td>0.00</td>\n",
       "      <td>0.00</td>\n",
       "      <td>181.00</td>\n",
       "      <td>0.00</td>\n",
       "      <td>1.00</td>\n",
       "      <td>0.00</td>\n",
       "      <td>13.00</td>\n",
       "      <td>1.00</td>\n",
       "    </tr>\n",
       "    <tr>\n",
       "      <th>25%</th>\n",
       "      <td>6.00</td>\n",
       "      <td>3,400,000.00</td>\n",
       "      <td>40.00</td>\n",
       "      <td>1.00</td>\n",
       "      <td>2.52</td>\n",
       "      <td>5.00</td>\n",
       "      <td>18.60</td>\n",
       "      <td>2.00</td>\n",
       "      <td>7.00</td>\n",
       "      <td>0.00</td>\n",
       "      <td>18,585.00</td>\n",
       "      <td>9,238.00</td>\n",
       "      <td>0.00</td>\n",
       "      <td>288.00</td>\n",
       "      <td>0.00</td>\n",
       "      <td>294.00</td>\n",
       "      <td>45.00</td>\n",
       "    </tr>\n",
       "    <tr>\n",
       "      <th>50%</th>\n",
       "      <td>9.00</td>\n",
       "      <td>4,650,000.00</td>\n",
       "      <td>52.00</td>\n",
       "      <td>2.00</td>\n",
       "      <td>2.65</td>\n",
       "      <td>9.00</td>\n",
       "      <td>30.00</td>\n",
       "      <td>4.00</td>\n",
       "      <td>9.10</td>\n",
       "      <td>1.00</td>\n",
       "      <td>26,726.00</td>\n",
       "      <td>13,098.50</td>\n",
       "      <td>0.00</td>\n",
       "      <td>455.00</td>\n",
       "      <td>1.00</td>\n",
       "      <td>502.00</td>\n",
       "      <td>95.00</td>\n",
       "    </tr>\n",
       "    <tr>\n",
       "      <th>75%</th>\n",
       "      <td>14.00</td>\n",
       "      <td>6,800,000.00</td>\n",
       "      <td>69.90</td>\n",
       "      <td>3.00</td>\n",
       "      <td>2.80</td>\n",
       "      <td>16.00</td>\n",
       "      <td>42.30</td>\n",
       "      <td>8.00</td>\n",
       "      <td>12.00</td>\n",
       "      <td>2.00</td>\n",
       "      <td>37,273.00</td>\n",
       "      <td>16,293.00</td>\n",
       "      <td>1.00</td>\n",
       "      <td>612.00</td>\n",
       "      <td>1.00</td>\n",
       "      <td>729.00</td>\n",
       "      <td>232.00</td>\n",
       "    </tr>\n",
       "    <tr>\n",
       "      <th>max</th>\n",
       "      <td>50.00</td>\n",
       "      <td>763,000,000.00</td>\n",
       "      <td>900.00</td>\n",
       "      <td>19.00</td>\n",
       "      <td>100.00</td>\n",
       "      <td>60.00</td>\n",
       "      <td>409.70</td>\n",
       "      <td>33.00</td>\n",
       "      <td>112.00</td>\n",
       "      <td>5.00</td>\n",
       "      <td>84,869.00</td>\n",
       "      <td>65,968.00</td>\n",
       "      <td>3.00</td>\n",
       "      <td>3,190.00</td>\n",
       "      <td>3.00</td>\n",
       "      <td>1,344.00</td>\n",
       "      <td>1,580.00</td>\n",
       "    </tr>\n",
       "  </tbody>\n",
       "</table>\n",
       "</div>"
      ],
      "text/plain": [
       "       total_images     last_price  total_area     rooms  ceiling_height  \\\n",
       "count     23,699.00      23,699.00   23,699.00 23,699.00       14,504.00   \n",
       "mean           9.86   6,541,548.77       60.35      2.07            2.77   \n",
       "std            5.68  10,887,013.27       35.65      1.08            1.26   \n",
       "min            0.00      12,190.00       12.00      0.00            1.00   \n",
       "25%            6.00   3,400,000.00       40.00      1.00            2.52   \n",
       "50%            9.00   4,650,000.00       52.00      2.00            2.65   \n",
       "75%           14.00   6,800,000.00       69.90      3.00            2.80   \n",
       "max           50.00 763,000,000.00      900.00     19.00          100.00   \n",
       "\n",
       "       floors_total  living_area     floor  kitchen_area   balcony  \\\n",
       "count     23,613.00    21,796.00 23,699.00     21,421.00 12,180.00   \n",
       "mean          10.67        34.46      5.89         10.57      1.15   \n",
       "std            6.60        22.03      4.89          5.91      1.07   \n",
       "min            1.00         2.00      1.00          1.30      0.00   \n",
       "25%            5.00        18.60      2.00          7.00      0.00   \n",
       "50%            9.00        30.00      4.00          9.10      1.00   \n",
       "75%           16.00        42.30      8.00         12.00      2.00   \n",
       "max           60.00       409.70     33.00        112.00      5.00   \n",
       "\n",
       "       airports_nearest  cityCenters_nearest  parks_around3000  parks_nearest  \\\n",
       "count         18,157.00            18,180.00         18,181.00       8,079.00   \n",
       "mean          28,793.67            14,191.28              0.61         490.80   \n",
       "std           12,630.88             8,608.39              0.80         342.32   \n",
       "min                0.00               181.00              0.00           1.00   \n",
       "25%           18,585.00             9,238.00              0.00         288.00   \n",
       "50%           26,726.00            13,098.50              0.00         455.00   \n",
       "75%           37,273.00            16,293.00              1.00         612.00   \n",
       "max           84,869.00            65,968.00              3.00       3,190.00   \n",
       "\n",
       "       ponds_around3000  ponds_nearest  days_exposition  \n",
       "count         18,181.00       9,110.00        20,518.00  \n",
       "mean               0.77         517.98           180.89  \n",
       "std                0.94         277.72           219.73  \n",
       "min                0.00          13.00             1.00  \n",
       "25%                0.00         294.00            45.00  \n",
       "50%                1.00         502.00            95.00  \n",
       "75%                1.00         729.00           232.00  \n",
       "max                3.00       1,344.00         1,580.00  "
      ]
     },
     "execution_count": 3,
     "metadata": {},
     "output_type": "execute_result"
    }
   ],
   "source": [
    "data.describe() # let's check the spread of values, maximum, minimum, average and median"
   ]
  },
  {
   "cell_type": "code",
   "execution_count": 4,
   "metadata": {
    "scrolled": true
   },
   "outputs": [
    {
     "name": "stdout",
     "output_type": "stream",
     "text": [
      "<class 'pandas.core.frame.DataFrame'>\n",
      "RangeIndex: 23699 entries, 0 to 23698\n",
      "Data columns (total 22 columns):\n",
      " #   Column                Non-Null Count  Dtype  \n",
      "---  ------                --------------  -----  \n",
      " 0   total_images          23699 non-null  int64  \n",
      " 1   last_price            23699 non-null  float64\n",
      " 2   total_area            23699 non-null  float64\n",
      " 3   first_day_exposition  23699 non-null  object \n",
      " 4   rooms                 23699 non-null  int64  \n",
      " 5   ceiling_height        14504 non-null  float64\n",
      " 6   floors_total          23613 non-null  float64\n",
      " 7   living_area           21796 non-null  float64\n",
      " 8   floor                 23699 non-null  int64  \n",
      " 9   is_apartment          2775 non-null   object \n",
      " 10  studio                23699 non-null  bool   \n",
      " 11  open_plan             23699 non-null  bool   \n",
      " 12  kitchen_area          21421 non-null  float64\n",
      " 13  balcony               12180 non-null  float64\n",
      " 14  locality_name         23650 non-null  object \n",
      " 15  airports_nearest      18157 non-null  float64\n",
      " 16  cityCenters_nearest   18180 non-null  float64\n",
      " 17  parks_around3000      18181 non-null  float64\n",
      " 18  parks_nearest         8079 non-null   float64\n",
      " 19  ponds_around3000      18181 non-null  float64\n",
      " 20  ponds_nearest         9110 non-null   float64\n",
      " 21  days_exposition       20518 non-null  float64\n",
      "dtypes: bool(2), float64(14), int64(3), object(3)\n",
      "memory usage: 3.7+ MB\n"
     ]
    }
   ],
   "source": [
    "data.info() # we output general information on the dataset"
   ]
  },
  {
   "cell_type": "markdown",
   "metadata": {},
   "source": [
    "**Conclusion**\n",
    "\n",
    "Based on the output data of the table and obtaining general information on it, we see that the table has 22 columns and 23699 rows. A fairly large array, which is difficult to visually check. There are also quite a lot of missing values (NaN). And the dataset has boolean (bool) and real (float64) value types, which you will need to pay attention to and change them if necessary."
   ]
  },
  {
   "cell_type": "markdown",
   "metadata": {},
   "source": [
    "## Data preprocessing"
   ]
  },
  {
   "cell_type": "code",
   "execution_count": 5,
   "metadata": {
    "scrolled": true
   },
   "outputs": [
    {
     "name": "stdout",
     "output_type": "stream",
     "text": [
      "Missing values: total_images           0.00\n",
      "last_price             0.00\n",
      "total_area             0.00\n",
      "first_day_exposition   0.00\n",
      "rooms                  0.00\n",
      "ceiling_height         0.39\n",
      "floors_total           0.00\n",
      "living_area            0.08\n",
      "floor                  0.00\n",
      "is_apartment           0.88\n",
      "studio                 0.00\n",
      "open_plan              0.00\n",
      "kitchen_area           0.10\n",
      "balcony                0.49\n",
      "locality_name          0.00\n",
      "airports_nearest       0.23\n",
      "cityCenters_nearest    0.23\n",
      "parks_around3000       0.23\n",
      "parks_nearest          0.66\n",
      "ponds_around3000       0.23\n",
      "ponds_nearest          0.62\n",
      "days_exposition        0.13\n",
      "dtype: float64\n"
     ]
    }
   ],
   "source": [
    "print(\"Missing values:\", data.isnull().mean(axis=0))"
   ]
  },
  {
   "cell_type": "code",
   "execution_count": 6,
   "metadata": {
    "scrolled": true
   },
   "outputs": [],
   "source": [
    "data['total_area'] = data['total_area'].astype(int)\n",
    "data['last_price'] = data['last_price'].astype(int)\n",
    "data['rooms'] = data['rooms'].astype(int).round()\n",
    "data['studio'] = data['studio'].astype(\"Int64\")\n",
    "data['open_plan'] = data['open_plan'].astype(\"Int64\")\n",
    "data['balcony'] = data['balcony'].astype(\"Int64\")\n",
    "data['floors_total'] = data['floors_total'].astype(\"Int64\")\n",
    "data['floor'] = data['floor'].astype(\"Int64\")\n",
    "data['ceiling_height'] = data['ceiling_height'].astype(np.int64, errors='ignore')\n",
    "data['kitchen_area'] = data['kitchen_area'].astype(np.int64, errors='ignore')\n",
    "# change the data type for the required ones . Also for the column with the quantity \n",
    "# let's use rounding, because there are not integers (perhaps this situation occurred due to incorrect data entry)\n",
    "\n",
    "data['locality_name'] = data['locality_name'].str.lower()\n",
    "# for a column with names of settlements, we will use the lowercase function"
   ]
  },
  {
   "cell_type": "code",
   "execution_count": 7,
   "metadata": {
    "scrolled": false
   },
   "outputs": [],
   "source": [
    "data['ceiling_height'] = data.groupby('total_area')['ceiling_height'].transform(lambda x: x.fillna(x.mean()))\n",
    "# in \"ceiling height\", we use the median indicator grouped by the column \"apartment area\""
   ]
  },
  {
   "cell_type": "code",
   "execution_count": 8,
   "metadata": {},
   "outputs": [
    {
     "name": "stderr",
     "output_type": "stream",
     "text": [
      "/opt/conda/lib/python3.9/site-packages/numpy/lib/nanfunctions.py:1117: RuntimeWarning: Mean of empty slice\n",
      "  return np.nanmean(a, axis, out=out, keepdims=keepdims)\n",
      "/opt/conda/lib/python3.9/site-packages/numpy/lib/nanfunctions.py:1117: RuntimeWarning: Mean of empty slice\n",
      "  return np.nanmean(a, axis, out=out, keepdims=keepdims)\n",
      "/opt/conda/lib/python3.9/site-packages/numpy/lib/nanfunctions.py:1117: RuntimeWarning: Mean of empty slice\n",
      "  return np.nanmean(a, axis, out=out, keepdims=keepdims)\n",
      "/opt/conda/lib/python3.9/site-packages/numpy/lib/nanfunctions.py:1117: RuntimeWarning: Mean of empty slice\n",
      "  return np.nanmean(a, axis, out=out, keepdims=keepdims)\n",
      "/opt/conda/lib/python3.9/site-packages/numpy/lib/nanfunctions.py:1117: RuntimeWarning: Mean of empty slice\n",
      "  return np.nanmean(a, axis, out=out, keepdims=keepdims)\n",
      "/opt/conda/lib/python3.9/site-packages/numpy/lib/nanfunctions.py:1117: RuntimeWarning: Mean of empty slice\n",
      "  return np.nanmean(a, axis, out=out, keepdims=keepdims)\n",
      "/opt/conda/lib/python3.9/site-packages/numpy/lib/nanfunctions.py:1117: RuntimeWarning: Mean of empty slice\n",
      "  return np.nanmean(a, axis, out=out, keepdims=keepdims)\n",
      "/opt/conda/lib/python3.9/site-packages/numpy/lib/nanfunctions.py:1117: RuntimeWarning: Mean of empty slice\n",
      "  return np.nanmean(a, axis, out=out, keepdims=keepdims)\n",
      "/opt/conda/lib/python3.9/site-packages/numpy/lib/nanfunctions.py:1117: RuntimeWarning: Mean of empty slice\n",
      "  return np.nanmean(a, axis, out=out, keepdims=keepdims)\n",
      "/opt/conda/lib/python3.9/site-packages/numpy/lib/nanfunctions.py:1117: RuntimeWarning: Mean of empty slice\n",
      "  return np.nanmean(a, axis, out=out, keepdims=keepdims)\n",
      "/opt/conda/lib/python3.9/site-packages/numpy/lib/nanfunctions.py:1117: RuntimeWarning: Mean of empty slice\n",
      "  return np.nanmean(a, axis, out=out, keepdims=keepdims)\n",
      "/opt/conda/lib/python3.9/site-packages/numpy/lib/nanfunctions.py:1117: RuntimeWarning: Mean of empty slice\n",
      "  return np.nanmean(a, axis, out=out, keepdims=keepdims)\n",
      "/opt/conda/lib/python3.9/site-packages/numpy/lib/nanfunctions.py:1117: RuntimeWarning: Mean of empty slice\n",
      "  return np.nanmean(a, axis, out=out, keepdims=keepdims)\n",
      "/opt/conda/lib/python3.9/site-packages/numpy/lib/nanfunctions.py:1117: RuntimeWarning: Mean of empty slice\n",
      "  return np.nanmean(a, axis, out=out, keepdims=keepdims)\n",
      "/opt/conda/lib/python3.9/site-packages/numpy/lib/nanfunctions.py:1117: RuntimeWarning: Mean of empty slice\n",
      "  return np.nanmean(a, axis, out=out, keepdims=keepdims)\n",
      "/opt/conda/lib/python3.9/site-packages/numpy/lib/nanfunctions.py:1117: RuntimeWarning: Mean of empty slice\n",
      "  return np.nanmean(a, axis, out=out, keepdims=keepdims)\n"
     ]
    }
   ],
   "source": [
    "data['kitchen_area'] = data.groupby('total_area')['kitchen_area'].transform(lambda x: x.fillna(x.median()))\n",
    "# to process NaN in the \"kitchen area\", we use the median\n",
    "# indicator grouped by the \"apartment area\" column"
   ]
  },
  {
   "cell_type": "code",
   "execution_count": 9,
   "metadata": {},
   "outputs": [],
   "source": [
    "data['cityCenters_nearest'].fillna(0, inplace=True) # to process NaN in \"distance to city center\", \n",
    "# we use the replacement of the entire column by 0, where we take 0 as the center itself"
   ]
  },
  {
   "cell_type": "code",
   "execution_count": 10,
   "metadata": {},
   "outputs": [],
   "source": [
    "data['living_area'] = data['living_area'].fillna(value=data['total_area'] - data['kitchen_area']) # to process \n",
    "# NaN in \"living area\", replace with the difference between the common and kitchen area"
   ]
  },
  {
   "cell_type": "code",
   "execution_count": 11,
   "metadata": {},
   "outputs": [],
   "source": [
    "data['floor'] = data.groupby('last_price')['floor'].transform(lambda x: x.fillna(x.mean())) # to process NaN\n",
    "# in \"floor\", we use the median indicator grouped by the \"price\" column, because the floor affects the price of the apartment"
   ]
  },
  {
   "cell_type": "code",
   "execution_count": 12,
   "metadata": {},
   "outputs": [],
   "source": [
    "data['balcony'].fillna(0, inplace=True) # to process NaN in \"number of balconies\", we use the replacement\n",
    "# of the entire column by 0, where we take 0 as the absence of a balcony"
   ]
  },
  {
   "cell_type": "code",
   "execution_count": 13,
   "metadata": {},
   "outputs": [],
   "source": [
    "data['is_apartment'] = data['is_apartment'].replace({True: 1, False: 0}) # converting a column of boolean values \n",
    "# in a column of integers 1 or 0"
   ]
  },
  {
   "cell_type": "code",
   "execution_count": 14,
   "metadata": {},
   "outputs": [],
   "source": [
    "data['airports_nearest'] = data.groupby('locality_name')['airports_nearest'].apply(lambda x: x.fillna(x.mean()))"
   ]
  },
  {
   "cell_type": "code",
   "execution_count": 15,
   "metadata": {},
   "outputs": [],
   "source": [
    "data['cityCenters_nearest'] = data.groupby('locality_name')['cityCenters_nearest'].apply(lambda x: x.fillna(x.mean()))"
   ]
  },
  {
   "cell_type": "code",
   "execution_count": 16,
   "metadata": {},
   "outputs": [],
   "source": [
    "data['parks_around3000'] = data.groupby('locality_name')['parks_around3000'].apply(lambda x: x.fillna(x.mean()))"
   ]
  },
  {
   "cell_type": "code",
   "execution_count": 17,
   "metadata": {},
   "outputs": [],
   "source": [
    "data['parks_nearest'] = data.groupby('locality_name')['parks_nearest'].apply(lambda x: x.fillna(x.mean()))"
   ]
  },
  {
   "cell_type": "code",
   "execution_count": 18,
   "metadata": {},
   "outputs": [],
   "source": [
    "data['ponds_around3000'] = data.groupby('locality_name')['ponds_around3000'].apply(lambda x: x.fillna(x.mean()))"
   ]
  },
  {
   "cell_type": "code",
   "execution_count": 19,
   "metadata": {},
   "outputs": [],
   "source": [
    "data['ponds_nearest'] = data.groupby('locality_name')['ponds_nearest'].apply(lambda x: x.fillna(x.mean()))"
   ]
  },
  {
   "cell_type": "code",
   "execution_count": 20,
   "metadata": {
    "scrolled": true
   },
   "outputs": [
    {
     "data": {
      "text/html": [
       "<div>\n",
       "<style scoped>\n",
       "    .dataframe tbody tr th:only-of-type {\n",
       "        vertical-align: middle;\n",
       "    }\n",
       "\n",
       "    .dataframe tbody tr th {\n",
       "        vertical-align: top;\n",
       "    }\n",
       "\n",
       "    .dataframe thead th {\n",
       "        text-align: right;\n",
       "    }\n",
       "</style>\n",
       "<table border=\"1\" class=\"dataframe\">\n",
       "  <thead>\n",
       "    <tr style=\"text-align: right;\">\n",
       "      <th></th>\n",
       "      <th>total_images</th>\n",
       "      <th>last_price</th>\n",
       "      <th>total_area</th>\n",
       "      <th>first_day_exposition</th>\n",
       "      <th>rooms</th>\n",
       "      <th>ceiling_height</th>\n",
       "      <th>floors_total</th>\n",
       "      <th>living_area</th>\n",
       "      <th>floor</th>\n",
       "      <th>is_apartment</th>\n",
       "      <th>...</th>\n",
       "      <th>kitchen_area</th>\n",
       "      <th>balcony</th>\n",
       "      <th>locality_name</th>\n",
       "      <th>airports_nearest</th>\n",
       "      <th>cityCenters_nearest</th>\n",
       "      <th>parks_around3000</th>\n",
       "      <th>parks_nearest</th>\n",
       "      <th>ponds_around3000</th>\n",
       "      <th>ponds_nearest</th>\n",
       "      <th>days_exposition</th>\n",
       "    </tr>\n",
       "  </thead>\n",
       "  <tbody>\n",
       "    <tr>\n",
       "      <th>0</th>\n",
       "      <td>20</td>\n",
       "      <td>13000000</td>\n",
       "      <td>108</td>\n",
       "      <td>2019-03-07T00:00:00</td>\n",
       "      <td>3</td>\n",
       "      <td>2.70</td>\n",
       "      <td>16</td>\n",
       "      <td>51.00</td>\n",
       "      <td>8</td>\n",
       "      <td>NaN</td>\n",
       "      <td>...</td>\n",
       "      <td>25.00</td>\n",
       "      <td>0</td>\n",
       "      <td>санкт-петербург</td>\n",
       "      <td>18,863.00</td>\n",
       "      <td>16,028.00</td>\n",
       "      <td>1.00</td>\n",
       "      <td>482.00</td>\n",
       "      <td>2.00</td>\n",
       "      <td>755.00</td>\n",
       "      <td>NaN</td>\n",
       "    </tr>\n",
       "    <tr>\n",
       "      <th>1</th>\n",
       "      <td>7</td>\n",
       "      <td>3350000</td>\n",
       "      <td>40</td>\n",
       "      <td>2018-12-04T00:00:00</td>\n",
       "      <td>1</td>\n",
       "      <td>2.69</td>\n",
       "      <td>11</td>\n",
       "      <td>18.60</td>\n",
       "      <td>1</td>\n",
       "      <td>NaN</td>\n",
       "      <td>...</td>\n",
       "      <td>11.00</td>\n",
       "      <td>2</td>\n",
       "      <td>посёлок шушары</td>\n",
       "      <td>12,817.00</td>\n",
       "      <td>18,603.00</td>\n",
       "      <td>0.00</td>\n",
       "      <td>NaN</td>\n",
       "      <td>0.00</td>\n",
       "      <td>573.22</td>\n",
       "      <td>81.00</td>\n",
       "    </tr>\n",
       "    <tr>\n",
       "      <th>2</th>\n",
       "      <td>10</td>\n",
       "      <td>5196000</td>\n",
       "      <td>56</td>\n",
       "      <td>2015-08-20T00:00:00</td>\n",
       "      <td>2</td>\n",
       "      <td>2.84</td>\n",
       "      <td>5</td>\n",
       "      <td>34.30</td>\n",
       "      <td>4</td>\n",
       "      <td>NaN</td>\n",
       "      <td>...</td>\n",
       "      <td>8.30</td>\n",
       "      <td>0</td>\n",
       "      <td>санкт-петербург</td>\n",
       "      <td>21,741.00</td>\n",
       "      <td>13,933.00</td>\n",
       "      <td>1.00</td>\n",
       "      <td>90.00</td>\n",
       "      <td>2.00</td>\n",
       "      <td>574.00</td>\n",
       "      <td>558.00</td>\n",
       "    </tr>\n",
       "    <tr>\n",
       "      <th>3</th>\n",
       "      <td>0</td>\n",
       "      <td>64900000</td>\n",
       "      <td>159</td>\n",
       "      <td>2015-07-24T00:00:00</td>\n",
       "      <td>3</td>\n",
       "      <td>3.13</td>\n",
       "      <td>14</td>\n",
       "      <td>144.00</td>\n",
       "      <td>9</td>\n",
       "      <td>NaN</td>\n",
       "      <td>...</td>\n",
       "      <td>15.00</td>\n",
       "      <td>0</td>\n",
       "      <td>санкт-петербург</td>\n",
       "      <td>28,098.00</td>\n",
       "      <td>6,800.00</td>\n",
       "      <td>2.00</td>\n",
       "      <td>84.00</td>\n",
       "      <td>3.00</td>\n",
       "      <td>234.00</td>\n",
       "      <td>424.00</td>\n",
       "    </tr>\n",
       "    <tr>\n",
       "      <th>4</th>\n",
       "      <td>2</td>\n",
       "      <td>10000000</td>\n",
       "      <td>100</td>\n",
       "      <td>2018-06-19T00:00:00</td>\n",
       "      <td>2</td>\n",
       "      <td>3.03</td>\n",
       "      <td>14</td>\n",
       "      <td>32.00</td>\n",
       "      <td>13</td>\n",
       "      <td>NaN</td>\n",
       "      <td>...</td>\n",
       "      <td>41.00</td>\n",
       "      <td>0</td>\n",
       "      <td>санкт-петербург</td>\n",
       "      <td>31,856.00</td>\n",
       "      <td>8,098.00</td>\n",
       "      <td>2.00</td>\n",
       "      <td>112.00</td>\n",
       "      <td>1.00</td>\n",
       "      <td>48.00</td>\n",
       "      <td>121.00</td>\n",
       "    </tr>\n",
       "    <tr>\n",
       "      <th>5</th>\n",
       "      <td>10</td>\n",
       "      <td>2890000</td>\n",
       "      <td>30</td>\n",
       "      <td>2018-09-10T00:00:00</td>\n",
       "      <td>1</td>\n",
       "      <td>2.66</td>\n",
       "      <td>12</td>\n",
       "      <td>14.40</td>\n",
       "      <td>5</td>\n",
       "      <td>NaN</td>\n",
       "      <td>...</td>\n",
       "      <td>9.10</td>\n",
       "      <td>0</td>\n",
       "      <td>городской посёлок янино-1</td>\n",
       "      <td>NaN</td>\n",
       "      <td>0.00</td>\n",
       "      <td>NaN</td>\n",
       "      <td>NaN</td>\n",
       "      <td>NaN</td>\n",
       "      <td>NaN</td>\n",
       "      <td>55.00</td>\n",
       "    </tr>\n",
       "    <tr>\n",
       "      <th>6</th>\n",
       "      <td>6</td>\n",
       "      <td>3700000</td>\n",
       "      <td>37</td>\n",
       "      <td>2017-11-02T00:00:00</td>\n",
       "      <td>1</td>\n",
       "      <td>2.74</td>\n",
       "      <td>26</td>\n",
       "      <td>10.60</td>\n",
       "      <td>6</td>\n",
       "      <td>NaN</td>\n",
       "      <td>...</td>\n",
       "      <td>14.40</td>\n",
       "      <td>1</td>\n",
       "      <td>посёлок парголово</td>\n",
       "      <td>52,996.00</td>\n",
       "      <td>19,143.00</td>\n",
       "      <td>0.00</td>\n",
       "      <td>501.10</td>\n",
       "      <td>0.00</td>\n",
       "      <td>598.07</td>\n",
       "      <td>155.00</td>\n",
       "    </tr>\n",
       "    <tr>\n",
       "      <th>7</th>\n",
       "      <td>5</td>\n",
       "      <td>7915000</td>\n",
       "      <td>71</td>\n",
       "      <td>2019-04-18T00:00:00</td>\n",
       "      <td>2</td>\n",
       "      <td>2.76</td>\n",
       "      <td>24</td>\n",
       "      <td>52.10</td>\n",
       "      <td>22</td>\n",
       "      <td>NaN</td>\n",
       "      <td>...</td>\n",
       "      <td>18.90</td>\n",
       "      <td>2</td>\n",
       "      <td>санкт-петербург</td>\n",
       "      <td>23,982.00</td>\n",
       "      <td>11,634.00</td>\n",
       "      <td>0.00</td>\n",
       "      <td>498.60</td>\n",
       "      <td>0.00</td>\n",
       "      <td>520.21</td>\n",
       "      <td>NaN</td>\n",
       "    </tr>\n",
       "    <tr>\n",
       "      <th>8</th>\n",
       "      <td>20</td>\n",
       "      <td>2900000</td>\n",
       "      <td>33</td>\n",
       "      <td>2018-05-23T00:00:00</td>\n",
       "      <td>1</td>\n",
       "      <td>2.61</td>\n",
       "      <td>27</td>\n",
       "      <td>15.43</td>\n",
       "      <td>26</td>\n",
       "      <td>NaN</td>\n",
       "      <td>...</td>\n",
       "      <td>8.81</td>\n",
       "      <td>0</td>\n",
       "      <td>посёлок мурино</td>\n",
       "      <td>NaN</td>\n",
       "      <td>0.00</td>\n",
       "      <td>NaN</td>\n",
       "      <td>NaN</td>\n",
       "      <td>NaN</td>\n",
       "      <td>NaN</td>\n",
       "      <td>189.00</td>\n",
       "    </tr>\n",
       "    <tr>\n",
       "      <th>9</th>\n",
       "      <td>18</td>\n",
       "      <td>5400000</td>\n",
       "      <td>61</td>\n",
       "      <td>2017-02-26T00:00:00</td>\n",
       "      <td>3</td>\n",
       "      <td>2.50</td>\n",
       "      <td>9</td>\n",
       "      <td>43.60</td>\n",
       "      <td>7</td>\n",
       "      <td>NaN</td>\n",
       "      <td>...</td>\n",
       "      <td>6.50</td>\n",
       "      <td>2</td>\n",
       "      <td>санкт-петербург</td>\n",
       "      <td>50,898.00</td>\n",
       "      <td>15,008.00</td>\n",
       "      <td>0.00</td>\n",
       "      <td>498.60</td>\n",
       "      <td>0.00</td>\n",
       "      <td>520.21</td>\n",
       "      <td>289.00</td>\n",
       "    </tr>\n",
       "  </tbody>\n",
       "</table>\n",
       "<p>10 rows × 22 columns</p>\n",
       "</div>"
      ],
      "text/plain": [
       "   total_images  last_price  total_area first_day_exposition  rooms  \\\n",
       "0            20    13000000         108  2019-03-07T00:00:00      3   \n",
       "1             7     3350000          40  2018-12-04T00:00:00      1   \n",
       "2            10     5196000          56  2015-08-20T00:00:00      2   \n",
       "3             0    64900000         159  2015-07-24T00:00:00      3   \n",
       "4             2    10000000         100  2018-06-19T00:00:00      2   \n",
       "5            10     2890000          30  2018-09-10T00:00:00      1   \n",
       "6             6     3700000          37  2017-11-02T00:00:00      1   \n",
       "7             5     7915000          71  2019-04-18T00:00:00      2   \n",
       "8            20     2900000          33  2018-05-23T00:00:00      1   \n",
       "9            18     5400000          61  2017-02-26T00:00:00      3   \n",
       "\n",
       "   ceiling_height  floors_total  living_area  floor  is_apartment  ...  \\\n",
       "0            2.70            16        51.00      8           NaN  ...   \n",
       "1            2.69            11        18.60      1           NaN  ...   \n",
       "2            2.84             5        34.30      4           NaN  ...   \n",
       "3            3.13            14       144.00      9           NaN  ...   \n",
       "4            3.03            14        32.00     13           NaN  ...   \n",
       "5            2.66            12        14.40      5           NaN  ...   \n",
       "6            2.74            26        10.60      6           NaN  ...   \n",
       "7            2.76            24        52.10     22           NaN  ...   \n",
       "8            2.61            27        15.43     26           NaN  ...   \n",
       "9            2.50             9        43.60      7           NaN  ...   \n",
       "\n",
       "   kitchen_area  balcony              locality_name  airports_nearest  \\\n",
       "0         25.00        0            санкт-петербург         18,863.00   \n",
       "1         11.00        2             посёлок шушары         12,817.00   \n",
       "2          8.30        0            санкт-петербург         21,741.00   \n",
       "3         15.00        0            санкт-петербург         28,098.00   \n",
       "4         41.00        0            санкт-петербург         31,856.00   \n",
       "5          9.10        0  городской посёлок янино-1               NaN   \n",
       "6         14.40        1          посёлок парголово         52,996.00   \n",
       "7         18.90        2            санкт-петербург         23,982.00   \n",
       "8          8.81        0             посёлок мурино               NaN   \n",
       "9          6.50        2            санкт-петербург         50,898.00   \n",
       "\n",
       "  cityCenters_nearest  parks_around3000  parks_nearest  ponds_around3000  \\\n",
       "0           16,028.00              1.00         482.00              2.00   \n",
       "1           18,603.00              0.00            NaN              0.00   \n",
       "2           13,933.00              1.00          90.00              2.00   \n",
       "3            6,800.00              2.00          84.00              3.00   \n",
       "4            8,098.00              2.00         112.00              1.00   \n",
       "5                0.00               NaN            NaN               NaN   \n",
       "6           19,143.00              0.00         501.10              0.00   \n",
       "7           11,634.00              0.00         498.60              0.00   \n",
       "8                0.00               NaN            NaN               NaN   \n",
       "9           15,008.00              0.00         498.60              0.00   \n",
       "\n",
       "   ponds_nearest  days_exposition  \n",
       "0         755.00              NaN  \n",
       "1         573.22            81.00  \n",
       "2         574.00           558.00  \n",
       "3         234.00           424.00  \n",
       "4          48.00           121.00  \n",
       "5            NaN            55.00  \n",
       "6         598.07           155.00  \n",
       "7         520.21              NaN  \n",
       "8            NaN           189.00  \n",
       "9         520.21           289.00  \n",
       "\n",
       "[10 rows x 22 columns]"
      ]
     },
     "execution_count": 20,
     "metadata": {},
     "output_type": "execute_result"
    }
   ],
   "source": [
    "data.head(10)"
   ]
  },
  {
   "cell_type": "code",
   "execution_count": 21,
   "metadata": {
    "scrolled": true
   },
   "outputs": [
    {
     "data": {
      "text/html": [
       "<div>\n",
       "<style scoped>\n",
       "    .dataframe tbody tr th:only-of-type {\n",
       "        vertical-align: middle;\n",
       "    }\n",
       "\n",
       "    .dataframe tbody tr th {\n",
       "        vertical-align: top;\n",
       "    }\n",
       "\n",
       "    .dataframe thead th {\n",
       "        text-align: right;\n",
       "    }\n",
       "</style>\n",
       "<table border=\"1\" class=\"dataframe\">\n",
       "  <thead>\n",
       "    <tr style=\"text-align: right;\">\n",
       "      <th></th>\n",
       "      <th>total_images</th>\n",
       "      <th>last_price</th>\n",
       "      <th>total_area</th>\n",
       "      <th>rooms</th>\n",
       "      <th>ceiling_height</th>\n",
       "      <th>floors_total</th>\n",
       "      <th>living_area</th>\n",
       "      <th>floor</th>\n",
       "      <th>is_apartment</th>\n",
       "      <th>studio</th>\n",
       "      <th>open_plan</th>\n",
       "      <th>kitchen_area</th>\n",
       "      <th>balcony</th>\n",
       "      <th>airports_nearest</th>\n",
       "      <th>cityCenters_nearest</th>\n",
       "      <th>parks_around3000</th>\n",
       "      <th>parks_nearest</th>\n",
       "      <th>ponds_around3000</th>\n",
       "      <th>ponds_nearest</th>\n",
       "      <th>days_exposition</th>\n",
       "    </tr>\n",
       "  </thead>\n",
       "  <tbody>\n",
       "    <tr>\n",
       "      <th>count</th>\n",
       "      <td>23,699.00</td>\n",
       "      <td>23,699.00</td>\n",
       "      <td>23,699.00</td>\n",
       "      <td>23,699.00</td>\n",
       "      <td>23,665.00</td>\n",
       "      <td>23,613.00</td>\n",
       "      <td>23,684.00</td>\n",
       "      <td>23,699.00</td>\n",
       "      <td>2,775.00</td>\n",
       "      <td>23,699.00</td>\n",
       "      <td>23,699.00</td>\n",
       "      <td>23,676.00</td>\n",
       "      <td>23,699.00</td>\n",
       "      <td>18,264.00</td>\n",
       "      <td>23,650.00</td>\n",
       "      <td>18,264.00</td>\n",
       "      <td>17,652.00</td>\n",
       "      <td>18,264.00</td>\n",
       "      <td>18,156.00</td>\n",
       "      <td>20,518.00</td>\n",
       "    </tr>\n",
       "    <tr>\n",
       "      <th>mean</th>\n",
       "      <td>9.86</td>\n",
       "      <td>6,541,548.77</td>\n",
       "      <td>60.12</td>\n",
       "      <td>2.07</td>\n",
       "      <td>2.77</td>\n",
       "      <td>10.67</td>\n",
       "      <td>35.82</td>\n",
       "      <td>5.89</td>\n",
       "      <td>0.02</td>\n",
       "      <td>0.01</td>\n",
       "      <td>0.00</td>\n",
       "      <td>10.44</td>\n",
       "      <td>0.59</td>\n",
       "      <td>28,879.46</td>\n",
       "      <td>10,889.43</td>\n",
       "      <td>0.61</td>\n",
       "      <td>492.25</td>\n",
       "      <td>0.77</td>\n",
       "      <td>519.39</td>\n",
       "      <td>180.89</td>\n",
       "    </tr>\n",
       "    <tr>\n",
       "      <th>std</th>\n",
       "      <td>5.68</td>\n",
       "      <td>10,887,013.27</td>\n",
       "      <td>35.67</td>\n",
       "      <td>1.08</td>\n",
       "      <td>1.01</td>\n",
       "      <td>6.60</td>\n",
       "      <td>24.04</td>\n",
       "      <td>4.89</td>\n",
       "      <td>0.13</td>\n",
       "      <td>0.08</td>\n",
       "      <td>0.05</td>\n",
       "      <td>5.77</td>\n",
       "      <td>0.96</td>\n",
       "      <td>12,679.53</td>\n",
       "      <td>9,635.53</td>\n",
       "      <td>0.80</td>\n",
       "      <td>232.16</td>\n",
       "      <td>0.94</td>\n",
       "      <td>198.01</td>\n",
       "      <td>219.73</td>\n",
       "    </tr>\n",
       "    <tr>\n",
       "      <th>min</th>\n",
       "      <td>0.00</td>\n",
       "      <td>12,190.00</td>\n",
       "      <td>12.00</td>\n",
       "      <td>0.00</td>\n",
       "      <td>1.00</td>\n",
       "      <td>1.00</td>\n",
       "      <td>2.00</td>\n",
       "      <td>1.00</td>\n",
       "      <td>0.00</td>\n",
       "      <td>0.00</td>\n",
       "      <td>0.00</td>\n",
       "      <td>1.30</td>\n",
       "      <td>0.00</td>\n",
       "      <td>0.00</td>\n",
       "      <td>0.00</td>\n",
       "      <td>0.00</td>\n",
       "      <td>1.00</td>\n",
       "      <td>0.00</td>\n",
       "      <td>13.00</td>\n",
       "      <td>1.00</td>\n",
       "    </tr>\n",
       "    <tr>\n",
       "      <th>25%</th>\n",
       "      <td>6.00</td>\n",
       "      <td>3,400,000.00</td>\n",
       "      <td>40.00</td>\n",
       "      <td>1.00</td>\n",
       "      <td>2.60</td>\n",
       "      <td>5.00</td>\n",
       "      <td>19.00</td>\n",
       "      <td>2.00</td>\n",
       "      <td>0.00</td>\n",
       "      <td>0.00</td>\n",
       "      <td>0.00</td>\n",
       "      <td>7.00</td>\n",
       "      <td>0.00</td>\n",
       "      <td>18,625.00</td>\n",
       "      <td>2,242.00</td>\n",
       "      <td>0.00</td>\n",
       "      <td>446.00</td>\n",
       "      <td>0.00</td>\n",
       "      <td>477.00</td>\n",
       "      <td>45.00</td>\n",
       "    </tr>\n",
       "    <tr>\n",
       "      <th>50%</th>\n",
       "      <td>9.00</td>\n",
       "      <td>4,650,000.00</td>\n",
       "      <td>52.00</td>\n",
       "      <td>2.00</td>\n",
       "      <td>2.70</td>\n",
       "      <td>9.00</td>\n",
       "      <td>30.70</td>\n",
       "      <td>4.00</td>\n",
       "      <td>0.00</td>\n",
       "      <td>0.00</td>\n",
       "      <td>0.00</td>\n",
       "      <td>9.00</td>\n",
       "      <td>0.00</td>\n",
       "      <td>26,880.50</td>\n",
       "      <td>11,250.00</td>\n",
       "      <td>0.00</td>\n",
       "      <td>498.60</td>\n",
       "      <td>0.77</td>\n",
       "      <td>520.21</td>\n",
       "      <td>95.00</td>\n",
       "    </tr>\n",
       "    <tr>\n",
       "      <th>75%</th>\n",
       "      <td>14.00</td>\n",
       "      <td>6,800,000.00</td>\n",
       "      <td>69.00</td>\n",
       "      <td>3.00</td>\n",
       "      <td>2.79</td>\n",
       "      <td>16.00</td>\n",
       "      <td>43.30</td>\n",
       "      <td>8.00</td>\n",
       "      <td>0.00</td>\n",
       "      <td>0.00</td>\n",
       "      <td>0.00</td>\n",
       "      <td>11.80</td>\n",
       "      <td>1.00</td>\n",
       "      <td>37,348.00</td>\n",
       "      <td>15,247.00</td>\n",
       "      <td>1.00</td>\n",
       "      <td>498.60</td>\n",
       "      <td>1.00</td>\n",
       "      <td>561.00</td>\n",
       "      <td>232.00</td>\n",
       "    </tr>\n",
       "    <tr>\n",
       "      <th>max</th>\n",
       "      <td>50.00</td>\n",
       "      <td>763,000,000.00</td>\n",
       "      <td>900.00</td>\n",
       "      <td>19.00</td>\n",
       "      <td>100.00</td>\n",
       "      <td>60.00</td>\n",
       "      <td>571.00</td>\n",
       "      <td>33.00</td>\n",
       "      <td>1.00</td>\n",
       "      <td>1.00</td>\n",
       "      <td>1.00</td>\n",
       "      <td>112.00</td>\n",
       "      <td>5.00</td>\n",
       "      <td>84,869.00</td>\n",
       "      <td>65,968.00</td>\n",
       "      <td>3.00</td>\n",
       "      <td>3,190.00</td>\n",
       "      <td>3.00</td>\n",
       "      <td>1,344.00</td>\n",
       "      <td>1,580.00</td>\n",
       "    </tr>\n",
       "  </tbody>\n",
       "</table>\n",
       "</div>"
      ],
      "text/plain": [
       "       total_images     last_price  total_area     rooms  ceiling_height  \\\n",
       "count     23,699.00      23,699.00   23,699.00 23,699.00       23,665.00   \n",
       "mean           9.86   6,541,548.77       60.12      2.07            2.77   \n",
       "std            5.68  10,887,013.27       35.67      1.08            1.01   \n",
       "min            0.00      12,190.00       12.00      0.00            1.00   \n",
       "25%            6.00   3,400,000.00       40.00      1.00            2.60   \n",
       "50%            9.00   4,650,000.00       52.00      2.00            2.70   \n",
       "75%           14.00   6,800,000.00       69.00      3.00            2.79   \n",
       "max           50.00 763,000,000.00      900.00     19.00          100.00   \n",
       "\n",
       "       floors_total  living_area     floor  is_apartment    studio  open_plan  \\\n",
       "count     23,613.00    23,684.00 23,699.00      2,775.00 23,699.00  23,699.00   \n",
       "mean          10.67        35.82      5.89          0.02      0.01       0.00   \n",
       "std            6.60        24.04      4.89          0.13      0.08       0.05   \n",
       "min            1.00         2.00      1.00          0.00      0.00       0.00   \n",
       "25%            5.00        19.00      2.00          0.00      0.00       0.00   \n",
       "50%            9.00        30.70      4.00          0.00      0.00       0.00   \n",
       "75%           16.00        43.30      8.00          0.00      0.00       0.00   \n",
       "max           60.00       571.00     33.00          1.00      1.00       1.00   \n",
       "\n",
       "       kitchen_area   balcony  airports_nearest  cityCenters_nearest  \\\n",
       "count     23,676.00 23,699.00         18,264.00            23,650.00   \n",
       "mean          10.44      0.59         28,879.46            10,889.43   \n",
       "std            5.77      0.96         12,679.53             9,635.53   \n",
       "min            1.30      0.00              0.00                 0.00   \n",
       "25%            7.00      0.00         18,625.00             2,242.00   \n",
       "50%            9.00      0.00         26,880.50            11,250.00   \n",
       "75%           11.80      1.00         37,348.00            15,247.00   \n",
       "max          112.00      5.00         84,869.00            65,968.00   \n",
       "\n",
       "       parks_around3000  parks_nearest  ponds_around3000  ponds_nearest  \\\n",
       "count         18,264.00      17,652.00         18,264.00      18,156.00   \n",
       "mean               0.61         492.25              0.77         519.39   \n",
       "std                0.80         232.16              0.94         198.01   \n",
       "min                0.00           1.00              0.00          13.00   \n",
       "25%                0.00         446.00              0.00         477.00   \n",
       "50%                0.00         498.60              0.77         520.21   \n",
       "75%                1.00         498.60              1.00         561.00   \n",
       "max                3.00       3,190.00              3.00       1,344.00   \n",
       "\n",
       "       days_exposition  \n",
       "count        20,518.00  \n",
       "mean            180.89  \n",
       "std             219.73  \n",
       "min               1.00  \n",
       "25%              45.00  \n",
       "50%              95.00  \n",
       "75%             232.00  \n",
       "max           1,580.00  "
      ]
     },
     "execution_count": 21,
     "metadata": {},
     "output_type": "execute_result"
    }
   ],
   "source": [
    "data.describe()"
   ]
  },
  {
   "cell_type": "code",
   "execution_count": 22,
   "metadata": {},
   "outputs": [
    {
     "name": "stdout",
     "output_type": "stream",
     "text": [
      "<class 'pandas.core.frame.DataFrame'>\n",
      "RangeIndex: 23699 entries, 0 to 23698\n",
      "Data columns (total 22 columns):\n",
      " #   Column                Non-Null Count  Dtype  \n",
      "---  ------                --------------  -----  \n",
      " 0   total_images          23699 non-null  int64  \n",
      " 1   last_price            23699 non-null  int64  \n",
      " 2   total_area            23699 non-null  int64  \n",
      " 3   first_day_exposition  23699 non-null  object \n",
      " 4   rooms                 23699 non-null  int64  \n",
      " 5   ceiling_height        23665 non-null  float64\n",
      " 6   floors_total          23613 non-null  Int64  \n",
      " 7   living_area           23684 non-null  float64\n",
      " 8   floor                 23699 non-null  Int64  \n",
      " 9   is_apartment          2775 non-null   float64\n",
      " 10  studio                23699 non-null  Int64  \n",
      " 11  open_plan             23699 non-null  Int64  \n",
      " 12  kitchen_area          23676 non-null  float64\n",
      " 13  balcony               23699 non-null  Int64  \n",
      " 14  locality_name         23650 non-null  object \n",
      " 15  airports_nearest      18264 non-null  float64\n",
      " 16  cityCenters_nearest   23650 non-null  float64\n",
      " 17  parks_around3000      18264 non-null  float64\n",
      " 18  parks_nearest         17652 non-null  float64\n",
      " 19  ponds_around3000      18264 non-null  float64\n",
      " 20  ponds_nearest         18156 non-null  float64\n",
      " 21  days_exposition       20518 non-null  float64\n",
      "dtypes: Int64(5), float64(11), int64(4), object(2)\n",
      "memory usage: 4.1+ MB\n"
     ]
    }
   ],
   "source": [
    "data.info()"
   ]
  },
  {
   "cell_type": "markdown",
   "metadata": {},
   "source": [
    "## Calculations and adding results to the table"
   ]
  },
  {
   "cell_type": "code",
   "execution_count": 23,
   "metadata": {},
   "outputs": [],
   "source": [
    "data['price per meter'] = data['last_price'] / data['total_area'] # create a new column with the price per square meter"
   ]
  },
  {
   "cell_type": "code",
   "execution_count": 24,
   "metadata": {},
   "outputs": [
    {
     "data": {
      "text/plain": [
       "0          ThursdayMarch 2019\n",
       "1        TuesdayDecember 2018\n",
       "2         ThursdayAugust 2015\n",
       "3             FridayJuly 2015\n",
       "4            TuesdayJune 2018\n",
       "                 ...         \n",
       "23694       TuesdayMarch 2017\n",
       "23695      MondayJanuary 2018\n",
       "23696     SundayFebruary 2018\n",
       "23697       TuesdayMarch 2017\n",
       "23698         FridayJuly 2017\n",
       "Name: day_of_week, Length: 23699, dtype: object"
      ]
     },
     "execution_count": 24,
     "metadata": {},
     "output_type": "execute_result"
    }
   ],
   "source": [
    "data['first_day_exposition'] = pd.to_datetime(data['first_day_exposition'])\n",
    "data_1 = data['first_day_exposition'].dt.day_name()\n",
    "data['day_of_week'] = data_1 + data['first_day_exposition'].apply(lambda x: x.strftime('%B %Y'))\n",
    "data['day_of_week']\n",
    "# create a new column \"day of the week, month and year of publication of the ad\""
   ]
  },
  {
   "cell_type": "code",
   "execution_count": 25,
   "metadata": {},
   "outputs": [
    {
     "data": {
      "text/plain": [
       "другой         20782\n",
       "первый этаж     2917\n",
       "Name: apartment_floor, dtype: int64"
      ]
     },
     "execution_count": 25,
     "metadata": {},
     "output_type": "execute_result"
    }
   ],
   "source": [
    "def categories_floor(row):\n",
    "    \"\"\"A function with a variable to iterate over the elements of the floor column\n",
    "    \n",
    "    with the conditions of keeping certain floor numbers in them\n",
    "    \n",
    "    \"\"\"\n",
    "    floor = row['floor']\n",
    "    if floor == 1:\n",
    "        return 'первый этаж'\n",
    "    if floor == data['floors_total'].max():\n",
    "        return 'последний этаж'\n",
    "    return 'другой'\n",
    "\n",
    "data['apartment_floor'] = data.apply(categories_floor, axis=1) # create a new column for the collection of \n",
    "# the selected ones there data in three categories for each row\n",
    "data['apartment_floor'].value_counts()"
   ]
  },
  {
   "cell_type": "code",
   "execution_count": 26,
   "metadata": {},
   "outputs": [],
   "source": [
    "data['living_total_area'] = data['living_area'] / data['total_area'] # the ratio of residential and total area\n",
    "data['kitchen_total_area'] = data['kitchen_area'] / data['total_area'] # the ratio of the kitchen area to the total"
   ]
  },
  {
   "cell_type": "markdown",
   "metadata": {},
   "source": [
    "## Research data analysis"
   ]
  },
  {
   "cell_type": "code",
   "execution_count": 27,
   "metadata": {},
   "outputs": [
    {
     "data": {
      "image/png": "[encoded data removed]",
      "text/plain": [
       "<Figure size 648x648 with 16 Axes>"
      ]
     },
     "metadata": {
      "needs_background": "light"
     },
     "output_type": "display_data"
    }
   ],
   "source": [
    "df = data[['total_area', 'last_price', 'rooms', 'ceiling_height']].copy()\n",
    "pd.plotting.scatter_matrix(df, figsize=(9, 9))\n",
    "plt.show()\n",
    "# let's build a matrix of the scattering diagram by parameters: area, price, \n",
    "# number of rooms, ceiling height"
   ]
  },
  {
   "cell_type": "markdown",
   "metadata": {},
   "source": [
    "**Conclusion** \n",
    "\n",
    "The graphs show that there are ejection points. They are quite common in the number of rooms and the total area."
   ]
  },
  {
   "cell_type": "code",
   "execution_count": 28,
   "metadata": {},
   "outputs": [
    {
     "data": {
      "image/png": "[encoded data removed]",
      "text/plain": [
       "<Figure size 432x288 with 1 Axes>"
      ]
     },
     "metadata": {
      "needs_background": "light"
     },
     "output_type": "display_data"
    }
   ],
   "source": [
    "data['days_exposition'].plot(kind='hist', subplots=True, sharex=True, sharey=True,\n",
    "                             title='How many days has the ad been placed') \n",
    "plt.legend()\n",
    "plt.show() # build a histogram for the \"time of sale of the apartment\""
   ]
  },
  {
   "cell_type": "markdown",
   "metadata": {},
   "source": [
    "**Conclusion** \n",
    "\n",
    "The histogram shows that most apartment sales happen in the first 180 days."
   ]
  },
  {
   "cell_type": "code",
   "execution_count": 29,
   "metadata": {},
   "outputs": [
    {
     "data": {
      "text/plain": [
       "180.88863436982163"
      ]
     },
     "execution_count": 29,
     "metadata": {},
     "output_type": "execute_result"
    }
   ],
   "source": [
    "data['days_exposition'].mean() "
   ]
  },
  {
   "cell_type": "code",
   "execution_count": 30,
   "metadata": {},
   "outputs": [
    {
     "data": {
      "text/plain": [
       "95.0"
      ]
     },
     "execution_count": 30,
     "metadata": {},
     "output_type": "execute_result"
    }
   ],
   "source": [
    "data['days_exposition'].median()"
   ]
  },
  {
   "cell_type": "code",
   "execution_count": 31,
   "metadata": {},
   "outputs": [
    {
     "data": {
      "text/plain": [
       "20518"
      ]
     },
     "execution_count": 31,
     "metadata": {},
     "output_type": "execute_result"
    }
   ],
   "source": [
    "data['days_exposition'].count()"
   ]
  },
  {
   "cell_type": "code",
   "execution_count": 32,
   "metadata": {},
   "outputs": [
    {
     "data": {
      "image/png": "[encoded data removed]",
      "text/plain": [
       "<Figure size 432x288 with 1 Axes>"
      ]
     },
     "metadata": {
      "needs_background": "light"
     },
     "output_type": "display_data"
    }
   ],
   "source": [
    "data['days_exposition'] = data.query('days_exposition < 600') # filter out rare values\n",
    "data['days_exposition'].plot(kind='hist', subplots=True, sharex=True, \n",
    "                             sharey=True, title='How many days was the ad placed after filtering')\n",
    "plt.legend()\n",
    "plt.show()"
   ]
  },
  {
   "cell_type": "code",
   "execution_count": 33,
   "metadata": {},
   "outputs": [
    {
     "data": {
      "text/plain": [
       "19316"
      ]
     },
     "execution_count": 33,
     "metadata": {},
     "output_type": "execute_result"
    }
   ],
   "source": [
    "data['days_exposition'].count()"
   ]
  },
  {
   "cell_type": "code",
   "execution_count": 34,
   "metadata": {},
   "outputs": [
    {
     "data": {
      "text/plain": [
       "23699"
      ]
     },
     "execution_count": 34,
     "metadata": {},
     "output_type": "execute_result"
    }
   ],
   "source": [
    "data['rooms'].count()"
   ]
  },
  {
   "cell_type": "code",
   "execution_count": 35,
   "metadata": {},
   "outputs": [
    {
     "data": {
      "image/png": "[encoded data removed]",
      "text/plain": [
       "<Figure size 432x288 with 1 Axes>"
      ]
     },
     "metadata": {
      "needs_background": "light"
     },
     "output_type": "display_data"
    }
   ],
   "source": [
    "data['rooms'] = data.query('rooms < 4')\n",
    "data['rooms'].count()\n",
    "data['rooms'].plot(kind='hist', subplots=True, sharex=True, sharey=True, title='Number of rooms after filtration')\n",
    "plt.legend()\n",
    "plt.show()"
   ]
  },
  {
   "cell_type": "code",
   "execution_count": 36,
   "metadata": {},
   "outputs": [
    {
     "data": {
      "text/plain": [
       "23699"
      ]
     },
     "execution_count": 36,
     "metadata": {},
     "output_type": "execute_result"
    }
   ],
   "source": [
    "data['total_area'].count()"
   ]
  },
  {
   "cell_type": "code",
   "execution_count": 37,
   "metadata": {},
   "outputs": [
    {
     "data": {
      "image/png": "[encoded data removed]",
      "text/plain": [
       "<Figure size 432x288 with 1 Axes>"
      ]
     },
     "metadata": {
      "needs_background": "light"
     },
     "output_type": "display_data"
    }
   ],
   "source": [
    "data['total_area'] = data.query('total_area < 200')\n",
    "data['total_area'].plot(kind='hist', subplots=True, sharex=True, \n",
    "                        sharey=True, title='The area of the apartment in square meters (m2) after filtration')\n",
    "plt.legend()\n",
    "plt.show()"
   ]
  },
  {
   "cell_type": "code",
   "execution_count": 38,
   "metadata": {},
   "outputs": [
    {
     "data": {
      "text/plain": [
       "23468"
      ]
     },
     "execution_count": 38,
     "metadata": {},
     "output_type": "execute_result"
    }
   ],
   "source": [
    "data['total_area'].count()"
   ]
  },
  {
   "cell_type": "markdown",
   "metadata": {},
   "source": [
    "**Conclusion** \n",
    "\n",
    "Discarding rare values by columns: area, price, number of rooms, ceiling height, you can see how the graphs have changed. Now you can see that the main sales occur in the first 20 days, and by the total area and number of rooms, it is clear that most of these are studio apartments.\n",
    "You can also calculate the proportion of discarded values before and after. According to the column \"days_exposition\" 19316/20518=0.94, i.e. 6% was dropped, respectively, for \"rooms\" the share was 0.93 (7%), and for \"total_area\" 0.99 (1%)."
   ]
  },
  {
   "cell_type": "code",
   "execution_count": 39,
   "metadata": {},
   "outputs": [
    {
     "data": {
      "text/html": [
       "<div>\n",
       "<style scoped>\n",
       "    .dataframe tbody tr th:only-of-type {\n",
       "        vertical-align: middle;\n",
       "    }\n",
       "\n",
       "    .dataframe tbody tr th {\n",
       "        vertical-align: top;\n",
       "    }\n",
       "\n",
       "    .dataframe thead th {\n",
       "        text-align: right;\n",
       "    }\n",
       "</style>\n",
       "<table border=\"1\" class=\"dataframe\">\n",
       "  <thead>\n",
       "    <tr style=\"text-align: right;\">\n",
       "      <th></th>\n",
       "      <th></th>\n",
       "      <th></th>\n",
       "      <th>last_price</th>\n",
       "    </tr>\n",
       "    <tr>\n",
       "      <th>total_area</th>\n",
       "      <th>rooms</th>\n",
       "      <th>cityCenters_nearest</th>\n",
       "      <th></th>\n",
       "    </tr>\n",
       "  </thead>\n",
       "  <tbody>\n",
       "    <tr>\n",
       "      <th>19.00</th>\n",
       "      <th>19.00</th>\n",
       "      <th>1,197.00</th>\n",
       "      <td>330,000,000.00</td>\n",
       "    </tr>\n",
       "    <tr>\n",
       "      <th>18.00</th>\n",
       "      <th>18.00</th>\n",
       "      <th>1,073.00</th>\n",
       "      <td>289,238,400.00</td>\n",
       "    </tr>\n",
       "    <tr>\n",
       "      <th>17.00</th>\n",
       "      <th>17.00</th>\n",
       "      <th>5,955.00</th>\n",
       "      <td>135,000,000.00</td>\n",
       "    </tr>\n",
       "    <tr>\n",
       "      <th>15.00</th>\n",
       "      <th>15.00</th>\n",
       "      <th>7,023.00</th>\n",
       "      <td>122,000,000.00</td>\n",
       "    </tr>\n",
       "    <tr>\n",
       "      <th>10.00</th>\n",
       "      <th>10.00</th>\n",
       "      <th>5,297.00</th>\n",
       "      <td>98,000,000.00</td>\n",
       "    </tr>\n",
       "    <tr>\n",
       "      <th>...</th>\n",
       "      <th>...</th>\n",
       "      <th>...</th>\n",
       "      <td>...</td>\n",
       "    </tr>\n",
       "    <tr>\n",
       "      <th>9.00</th>\n",
       "      <th>9.00</th>\n",
       "      <th>16,376.00</th>\n",
       "      <td>1,550,000.00</td>\n",
       "    </tr>\n",
       "    <tr>\n",
       "      <th>5.00</th>\n",
       "      <th>5.00</th>\n",
       "      <th>29,846.00</th>\n",
       "      <td>1,500,000.00</td>\n",
       "    </tr>\n",
       "    <tr>\n",
       "      <th>8.00</th>\n",
       "      <th>8.00</th>\n",
       "      <th>21,226.00</th>\n",
       "      <td>1,400,000.00</td>\n",
       "    </tr>\n",
       "    <tr>\n",
       "      <th>5.00</th>\n",
       "      <th>5.00</th>\n",
       "      <th>11,122.00</th>\n",
       "      <td>1,190,000.00</td>\n",
       "    </tr>\n",
       "    <tr>\n",
       "      <th>7.00</th>\n",
       "      <th>7.00</th>\n",
       "      <th>9,176.00</th>\n",
       "      <td>12,190.00</td>\n",
       "    </tr>\n",
       "  </tbody>\n",
       "</table>\n",
       "<p>14788 rows × 1 columns</p>\n",
       "</div>"
      ],
      "text/plain": [
       "                                         last_price\n",
       "total_area rooms cityCenters_nearest               \n",
       "19.00      19.00 1,197.00            330,000,000.00\n",
       "18.00      18.00 1,073.00            289,238,400.00\n",
       "17.00      17.00 5,955.00            135,000,000.00\n",
       "15.00      15.00 7,023.00            122,000,000.00\n",
       "10.00      10.00 5,297.00             98,000,000.00\n",
       "...                                             ...\n",
       "9.00       9.00  16,376.00             1,550,000.00\n",
       "5.00       5.00  29,846.00             1,500,000.00\n",
       "8.00       8.00  21,226.00             1,400,000.00\n",
       "5.00       5.00  11,122.00             1,190,000.00\n",
       "7.00       7.00  9,176.00                 12,190.00\n",
       "\n",
       "[14788 rows x 1 columns]"
      ]
     },
     "execution_count": 39,
     "metadata": {},
     "output_type": "execute_result"
    }
   ],
   "source": [
    "data_pivot_last_price = data.pivot_table(index=['total_area','rooms','cityCenters_nearest'], \n",
    "                                         values='last_price', aggfunc='median') \n",
    "\n",
    "data_pivot_last_price.sort_values(by='last_price', ascending=False) "
   ]
  },
  {
   "cell_type": "code",
   "execution_count": 40,
   "metadata": {},
   "outputs": [
    {
     "data": {
      "text/html": [
       "<div>\n",
       "<style scoped>\n",
       "    .dataframe tbody tr th:only-of-type {\n",
       "        vertical-align: middle;\n",
       "    }\n",
       "\n",
       "    .dataframe tbody tr th {\n",
       "        vertical-align: top;\n",
       "    }\n",
       "\n",
       "    .dataframe thead th {\n",
       "        text-align: right;\n",
       "    }\n",
       "</style>\n",
       "<table border=\"1\" class=\"dataframe\">\n",
       "  <thead>\n",
       "    <tr style=\"text-align: right;\">\n",
       "      <th></th>\n",
       "      <th>last_price</th>\n",
       "    </tr>\n",
       "    <tr>\n",
       "      <th>apartment_floor</th>\n",
       "      <th></th>\n",
       "    </tr>\n",
       "  </thead>\n",
       "  <tbody>\n",
       "    <tr>\n",
       "      <th>другой</th>\n",
       "      <td>4750000</td>\n",
       "    </tr>\n",
       "    <tr>\n",
       "      <th>первый этаж</th>\n",
       "      <td>3900000</td>\n",
       "    </tr>\n",
       "  </tbody>\n",
       "</table>\n",
       "</div>"
      ],
      "text/plain": [
       "                 last_price\n",
       "apartment_floor            \n",
       "другой              4750000\n",
       "первый этаж         3900000"
      ]
     },
     "execution_count": 40,
     "metadata": {},
     "output_type": "execute_result"
    }
   ],
   "source": [
    "data_pivot_apartment_floor = data.pivot_table(index=['apartment_floor'], values='last_price', \n",
    "                                              aggfunc='median')\n",
    "data_pivot_apartment_floor.sort_values(by='last_price', ascending=False)"
   ]
  },
  {
   "cell_type": "code",
   "execution_count": 41,
   "metadata": {},
   "outputs": [
    {
     "data": {
      "text/html": [
       "<div>\n",
       "<style scoped>\n",
       "    .dataframe tbody tr th:only-of-type {\n",
       "        vertical-align: middle;\n",
       "    }\n",
       "\n",
       "    .dataframe tbody tr th {\n",
       "        vertical-align: top;\n",
       "    }\n",
       "\n",
       "    .dataframe thead th {\n",
       "        text-align: right;\n",
       "    }\n",
       "</style>\n",
       "<table border=\"1\" class=\"dataframe\">\n",
       "  <thead>\n",
       "    <tr style=\"text-align: right;\">\n",
       "      <th></th>\n",
       "      <th>last_price</th>\n",
       "    </tr>\n",
       "    <tr>\n",
       "      <th>day_of_week</th>\n",
       "      <th></th>\n",
       "    </tr>\n",
       "  </thead>\n",
       "  <tbody>\n",
       "    <tr>\n",
       "      <th>ThursdayFebruary 2018</th>\n",
       "      <td>521</td>\n",
       "    </tr>\n",
       "    <tr>\n",
       "      <th>FridayNovember 2017</th>\n",
       "      <td>332</td>\n",
       "    </tr>\n",
       "    <tr>\n",
       "      <th>WednesdaySeptember 2017</th>\n",
       "      <td>228</td>\n",
       "    </tr>\n",
       "    <tr>\n",
       "      <th>WednesdayNovember 2017</th>\n",
       "      <td>221</td>\n",
       "    </tr>\n",
       "    <tr>\n",
       "      <th>MondayApril 2019</th>\n",
       "      <td>218</td>\n",
       "    </tr>\n",
       "    <tr>\n",
       "      <th>...</th>\n",
       "      <td>...</td>\n",
       "    </tr>\n",
       "    <tr>\n",
       "      <th>SaturdayJune 2015</th>\n",
       "      <td>2</td>\n",
       "    </tr>\n",
       "    <tr>\n",
       "      <th>SundayJanuary 2015</th>\n",
       "      <td>1</td>\n",
       "    </tr>\n",
       "    <tr>\n",
       "      <th>SaturdayNovember 2014</th>\n",
       "      <td>1</td>\n",
       "    </tr>\n",
       "    <tr>\n",
       "      <th>SundayFebruary 2015</th>\n",
       "      <td>1</td>\n",
       "    </tr>\n",
       "    <tr>\n",
       "      <th>SundayApril 2015</th>\n",
       "      <td>1</td>\n",
       "    </tr>\n",
       "  </tbody>\n",
       "</table>\n",
       "<p>376 rows × 1 columns</p>\n",
       "</div>"
      ],
      "text/plain": [
       "                         last_price\n",
       "day_of_week                        \n",
       "ThursdayFebruary 2018           521\n",
       "FridayNovember 2017             332\n",
       "WednesdaySeptember 2017         228\n",
       "WednesdayNovember 2017          221\n",
       "MondayApril 2019                218\n",
       "...                             ...\n",
       "SaturdayJune 2015                 2\n",
       "SundayJanuary 2015                1\n",
       "SaturdayNovember 2014             1\n",
       "SundayFebruary 2015               1\n",
       "SundayApril 2015                  1\n",
       "\n",
       "[376 rows x 1 columns]"
      ]
     },
     "execution_count": 41,
     "metadata": {},
     "output_type": "execute_result"
    }
   ],
   "source": [
    "data_pivot_day_of_week = data.pivot_table(index=['day_of_week'], values='last_price', aggfunc='count')\n",
    "data_pivot_day_of_week.sort_values(by='last_price', ascending=False)"
   ]
  },
  {
   "cell_type": "markdown",
   "metadata": {},
   "source": [
    "**Conclusion** \n",
    "\n",
    "From the summary tables it can be seen that the larger the area, the number of rooms and the distance from the center is smaller, the cost of apartments is an order of magnitude greater than under the opposite conditions. Also, the apartments we are considering do not depend on which floor they are on, what is on the ground floor, what is on other floors, the cost of the apartment is about the same. There is a dependency when to submit ads. Sellers publish their ads on weekdays to reach more people, because everyone has a rest on weekends."
   ]
  },
  {
   "cell_type": "code",
   "execution_count": 42,
   "metadata": {
    "scrolled": true
   },
   "outputs": [
    {
     "data": {
      "text/html": [
       "<div>\n",
       "<style scoped>\n",
       "    .dataframe tbody tr th:only-of-type {\n",
       "        vertical-align: middle;\n",
       "    }\n",
       "\n",
       "    .dataframe tbody tr th {\n",
       "        vertical-align: top;\n",
       "    }\n",
       "\n",
       "    .dataframe thead th {\n",
       "        text-align: right;\n",
       "    }\n",
       "</style>\n",
       "<table border=\"1\" class=\"dataframe\">\n",
       "  <thead>\n",
       "    <tr style=\"text-align: right;\">\n",
       "      <th></th>\n",
       "      <th>last_price</th>\n",
       "      <th>price per meter</th>\n",
       "    </tr>\n",
       "    <tr>\n",
       "      <th>locality_name</th>\n",
       "      <th></th>\n",
       "      <th></th>\n",
       "    </tr>\n",
       "  </thead>\n",
       "  <tbody>\n",
       "    <tr>\n",
       "      <th>деревня хязельки</th>\n",
       "      <td>11,000,000.00</td>\n",
       "      <td>47,826.09</td>\n",
       "    </tr>\n",
       "    <tr>\n",
       "      <th>деревня бор</th>\n",
       "      <td>10,397,600.00</td>\n",
       "      <td>59,431.03</td>\n",
       "    </tr>\n",
       "    <tr>\n",
       "      <th>посёлок александровская</th>\n",
       "      <td>8,725,000.00</td>\n",
       "      <td>70,262.81</td>\n",
       "    </tr>\n",
       "    <tr>\n",
       "      <th>посёлок репино</th>\n",
       "      <td>8,083,708.00</td>\n",
       "      <td>86,542.21</td>\n",
       "    </tr>\n",
       "    <tr>\n",
       "      <th>санкт-петербург</th>\n",
       "      <td>5,500,000.00</td>\n",
       "      <td>105,263.16</td>\n",
       "    </tr>\n",
       "    <tr>\n",
       "      <th>сестрорецк</th>\n",
       "      <td>5,450,000.00</td>\n",
       "      <td>99,916.67</td>\n",
       "    </tr>\n",
       "    <tr>\n",
       "      <th>пушкин</th>\n",
       "      <td>5,180,000.00</td>\n",
       "      <td>100,000.00</td>\n",
       "    </tr>\n",
       "    <tr>\n",
       "      <th>посёлок лисий нос</th>\n",
       "      <td>5,027,500.00</td>\n",
       "      <td>123,136.30</td>\n",
       "    </tr>\n",
       "    <tr>\n",
       "      <th>зеленогорск</th>\n",
       "      <td>4,750,000.00</td>\n",
       "      <td>101,666.67</td>\n",
       "    </tr>\n",
       "    <tr>\n",
       "      <th>деревня глинка</th>\n",
       "      <td>4,750,000.00</td>\n",
       "      <td>52,675.97</td>\n",
       "    </tr>\n",
       "  </tbody>\n",
       "</table>\n",
       "</div>"
      ],
      "text/plain": [
       "                           last_price  price per meter\n",
       "locality_name                                         \n",
       "деревня хязельки        11,000,000.00        47,826.09\n",
       "деревня бор             10,397,600.00        59,431.03\n",
       "посёлок александровская  8,725,000.00        70,262.81\n",
       "посёлок репино           8,083,708.00        86,542.21\n",
       "санкт-петербург          5,500,000.00       105,263.16\n",
       "сестрорецк               5,450,000.00        99,916.67\n",
       "пушкин                   5,180,000.00       100,000.00\n",
       "посёлок лисий нос        5,027,500.00       123,136.30\n",
       "зеленогорск              4,750,000.00       101,666.67\n",
       "деревня глинка           4,750,000.00        52,675.97"
      ]
     },
     "execution_count": 42,
     "metadata": {},
     "output_type": "execute_result"
    }
   ],
   "source": [
    "locality_name = data.pivot_table(index='locality_name', values=['last_price', 'price per meter'], aggfunc='median')\n",
    "locality_name.sort_values(by=['last_price', 'price per meter'], ascending=False).head(10)\n",
    "# let's calculate 10 settlements with the highest cost of housing"
   ]
  },
  {
   "cell_type": "code",
   "execution_count": 43,
   "metadata": {
    "scrolled": true
   },
   "outputs": [
    {
     "data": {
      "text/html": [
       "<div>\n",
       "<style scoped>\n",
       "    .dataframe tbody tr th:only-of-type {\n",
       "        vertical-align: middle;\n",
       "    }\n",
       "\n",
       "    .dataframe tbody tr th {\n",
       "        vertical-align: top;\n",
       "    }\n",
       "\n",
       "    .dataframe thead th {\n",
       "        text-align: right;\n",
       "    }\n",
       "</style>\n",
       "<table border=\"1\" class=\"dataframe\">\n",
       "  <thead>\n",
       "    <tr style=\"text-align: right;\">\n",
       "      <th></th>\n",
       "      <th>last_price</th>\n",
       "      <th>price per meter</th>\n",
       "    </tr>\n",
       "    <tr>\n",
       "      <th>locality_name</th>\n",
       "      <th></th>\n",
       "      <th></th>\n",
       "    </tr>\n",
       "  </thead>\n",
       "  <tbody>\n",
       "    <tr>\n",
       "      <th>деревня старополье</th>\n",
       "      <td>450,000.00</td>\n",
       "      <td>11,000.00</td>\n",
       "    </tr>\n",
       "    <tr>\n",
       "      <th>деревня вахнова кара</th>\n",
       "      <td>450,000.00</td>\n",
       "      <td>11,842.11</td>\n",
       "    </tr>\n",
       "    <tr>\n",
       "      <th>деревня чудской бор</th>\n",
       "      <td>500,000.00</td>\n",
       "      <td>16,666.67</td>\n",
       "    </tr>\n",
       "    <tr>\n",
       "      <th>поселок совхозный</th>\n",
       "      <td>517,500.00</td>\n",
       "      <td>12,629.13</td>\n",
       "    </tr>\n",
       "    <tr>\n",
       "      <th>посёлок станции свирь</th>\n",
       "      <td>575,000.00</td>\n",
       "      <td>11,481.48</td>\n",
       "    </tr>\n",
       "    <tr>\n",
       "      <th>деревня выскатка</th>\n",
       "      <td>585,000.00</td>\n",
       "      <td>12,335.48</td>\n",
       "    </tr>\n",
       "    <tr>\n",
       "      <th>деревня ям-тесово</th>\n",
       "      <td>625,000.00</td>\n",
       "      <td>13,797.17</td>\n",
       "    </tr>\n",
       "    <tr>\n",
       "      <th>деревня фалилеево</th>\n",
       "      <td>650,000.00</td>\n",
       "      <td>16,388.89</td>\n",
       "    </tr>\n",
       "    <tr>\n",
       "      <th>поселок цвылёво</th>\n",
       "      <td>650,000.00</td>\n",
       "      <td>19,117.65</td>\n",
       "    </tr>\n",
       "    <tr>\n",
       "      <th>деревня коркино</th>\n",
       "      <td>650,000.00</td>\n",
       "      <td>21,344.09</td>\n",
       "    </tr>\n",
       "  </tbody>\n",
       "</table>\n",
       "</div>"
      ],
      "text/plain": [
       "                       last_price  price per meter\n",
       "locality_name                                     \n",
       "деревня старополье     450,000.00        11,000.00\n",
       "деревня вахнова кара   450,000.00        11,842.11\n",
       "деревня чудской бор    500,000.00        16,666.67\n",
       "поселок совхозный      517,500.00        12,629.13\n",
       "посёлок станции свирь  575,000.00        11,481.48\n",
       "деревня выскатка       585,000.00        12,335.48\n",
       "деревня ям-тесово      625,000.00        13,797.17\n",
       "деревня фалилеево      650,000.00        16,388.89\n",
       "поселок цвылёво        650,000.00        19,117.65\n",
       "деревня коркино        650,000.00        21,344.09"
      ]
     },
     "execution_count": 43,
     "metadata": {},
     "output_type": "execute_result"
    }
   ],
   "source": [
    "locality_name.sort_values(by=['last_price', 'price per meter'], ascending=True).head(10)\n",
    "# let's calculate 10 settlements with the lowest cost of housing"
   ]
  },
  {
   "cell_type": "markdown",
   "metadata": {},
   "source": [
    "**Conclusion** \n",
    "\n",
    "From the summary tables, it can be assumed that the first 10 settlements are most likely elite settlements with expensive houses, and the last 10 settlements are simple villages."
   ]
  },
  {
   "cell_type": "code",
   "execution_count": 44,
   "metadata": {
    "scrolled": true
   },
   "outputs": [
    {
     "data": {
      "image/png": "[encoded data removed]",
      "text/plain": [
       "<Figure size 432x288 with 1 Axes>"
      ]
     },
     "metadata": {
      "needs_background": "light"
     },
     "output_type": "display_data"
    }
   ],
   "source": [
    "data['cityCenters_km'] = round(data['cityCenters_nearest'] / 1000).astype(\"Int64\") # create a column with a distance \n",
    "# to the center in kilometers and rounded to integer values\n",
    "data['last_price_spt'] = data['last_price'].loc[(data['locality_name'] == 'санкт-петербург')].astype(\"Int64\")\n",
    "# let's create a column with prices in St. Petersburg\n",
    "spt_centers_mean = data['last_price_spt'] / data['cityCenters_km'] # calculated the average price for each kilometer\n",
    "centers_price_spt = data.groupby(['cityCenters_km'])[['last_price_spt']].count()\n",
    "centers_price_spt.unstack().plot()\n",
    "plt.xticks(rotation=45)\n",
    "plt.show()"
   ]
  },
  {
   "cell_type": "markdown",
   "metadata": {},
   "source": [
    "**Conclusion** \n",
    "\n",
    "The schedule changes a lot, after 0.2 km. I.e., almost all apartments after 300 m, drop significantly in price per kilometer."
   ]
  },
  {
   "cell_type": "code",
   "execution_count": 45,
   "metadata": {
    "scrolled": true
   },
   "outputs": [
    {
     "data": {
      "text/html": [
       "<div>\n",
       "<style scoped>\n",
       "    .dataframe tbody tr th:only-of-type {\n",
       "        vertical-align: middle;\n",
       "    }\n",
       "\n",
       "    .dataframe tbody tr th {\n",
       "        vertical-align: top;\n",
       "    }\n",
       "\n",
       "    .dataframe thead th {\n",
       "        text-align: right;\n",
       "    }\n",
       "</style>\n",
       "<table border=\"1\" class=\"dataframe\">\n",
       "  <thead>\n",
       "    <tr style=\"text-align: right;\">\n",
       "      <th></th>\n",
       "      <th>ceiling_height_spt</th>\n",
       "      <th>last_price_spt</th>\n",
       "      <th>rooms_spt</th>\n",
       "      <th>total_area_spt</th>\n",
       "    </tr>\n",
       "  </thead>\n",
       "  <tbody>\n",
       "    <tr>\n",
       "      <th>ceiling_height_spt</th>\n",
       "      <td>1.00</td>\n",
       "      <td>0.74</td>\n",
       "      <td>0.02</td>\n",
       "      <td>0.02</td>\n",
       "    </tr>\n",
       "    <tr>\n",
       "      <th>last_price_spt</th>\n",
       "      <td>0.74</td>\n",
       "      <td>1.00</td>\n",
       "      <td>0.16</td>\n",
       "      <td>0.16</td>\n",
       "    </tr>\n",
       "    <tr>\n",
       "      <th>rooms_spt</th>\n",
       "      <td>0.02</td>\n",
       "      <td>0.16</td>\n",
       "      <td>1.00</td>\n",
       "      <td>1.00</td>\n",
       "    </tr>\n",
       "    <tr>\n",
       "      <th>total_area_spt</th>\n",
       "      <td>0.02</td>\n",
       "      <td>0.16</td>\n",
       "      <td>1.00</td>\n",
       "      <td>1.00</td>\n",
       "    </tr>\n",
       "  </tbody>\n",
       "</table>\n",
       "</div>"
      ],
      "text/plain": [
       "                    ceiling_height_spt  last_price_spt  rooms_spt  \\\n",
       "ceiling_height_spt                1.00            0.74       0.02   \n",
       "last_price_spt                    0.74            1.00       0.16   \n",
       "rooms_spt                         0.02            0.16       1.00   \n",
       "total_area_spt                    0.02            0.16       1.00   \n",
       "\n",
       "                    total_area_spt  \n",
       "ceiling_height_spt            0.02  \n",
       "last_price_spt                0.16  \n",
       "rooms_spt                     1.00  \n",
       "total_area_spt                1.00  "
      ]
     },
     "execution_count": 45,
     "metadata": {},
     "output_type": "execute_result"
    }
   ],
   "source": [
    "data['cityCenters_km']  = data.query('cityCenters_km < 0.2') # we select a segment of apartments in the center\n",
    "data['total_area_spt'] = data['total_area'].loc[(data['locality_name'] == 'санкт-петербург')].astype(\"Int64\")\n",
    "data['rooms_spt'] = data['rooms'].loc[(data['locality_name'] == 'санкт-петербург')].astype(\"Int64\")\n",
    "data['total_area_spt'] = data['total_area'].loc[(data['locality_name'] == 'санкт-петербург')].astype(\"Int64\")\n",
    "data['ceiling_height_spt'] = data['ceiling_height'].loc[(data['locality_name'] == 'санкт-петербург')].astype(np.int64,\n",
    "                                                                                                             errors='ignore')\n",
    "# we allocate the area, price, number of rooms, ceiling height in St. Petersburg\n",
    "spt_centers_multi= data.pivot_table(index='cityCenters_km', values=['last_price_spt', 'total_area_spt',\n",
    "                                                                    'rooms_spt', 'ceiling_height_spt'], aggfunc='mean')\n",
    "spt_centers_multi.corr() # let's build a correlation matrix table"
   ]
  },
  {
   "cell_type": "code",
   "execution_count": 46,
   "metadata": {},
   "outputs": [
    {
     "data": {
      "image/png": "[encoded data removed]",
      "text/plain": [
       "<Figure size 432x288 with 1 Axes>"
      ]
     },
     "metadata": {
      "needs_background": "light"
     },
     "output_type": "display_data"
    }
   ],
   "source": [
    "ceiling_height_spt = data['ceiling_height_spt']\n",
    "ceiling_height = data['ceiling_height']\n",
    "ceiling_height_spt.plot.hist(alpha=0.6, bins=10)\n",
    "ceiling_height.plot.hist(alpha=0.6, bins=10)\n",
    "plt.legend()\n",
    "plt.show()"
   ]
  },
  {
   "cell_type": "code",
   "execution_count": 47,
   "metadata": {
    "scrolled": true
   },
   "outputs": [
    {
     "data": {
      "image/png": "[encoded data removed]",
      "text/plain": [
       "<Figure size 432x288 with 1 Axes>"
      ]
     },
     "metadata": {
      "needs_background": "light"
     },
     "output_type": "display_data"
    }
   ],
   "source": [
    "last_price_spt = data['last_price_spt']\n",
    "last_price = data['last_price']\n",
    "last_price_spt.plot.hist(alpha=0.6, bins=10)\n",
    "last_price.plot.hist(alpha=0.6, bins=10)\n",
    "plt.legend()\n",
    "plt.show()"
   ]
  },
  {
   "cell_type": "code",
   "execution_count": 48,
   "metadata": {},
   "outputs": [
    {
     "data": {
      "image/png": "[encoded data removed]",
      "text/plain": [
       "<Figure size 432x288 with 1 Axes>"
      ]
     },
     "metadata": {
      "needs_background": "light"
     },
     "output_type": "display_data"
    }
   ],
   "source": [
    "rooms_spt = data['rooms_spt']\n",
    "rooms = data['rooms']\n",
    "rooms_spt.plot.hist(alpha=0.6, bins=50)\n",
    "rooms.plot.hist(alpha=0.6, bins=50)\n",
    "plt.legend()\n",
    "plt.show()"
   ]
  },
  {
   "cell_type": "code",
   "execution_count": 49,
   "metadata": {},
   "outputs": [
    {
     "data": {
      "image/png": "[encoded data removed]",
      "text/plain": [
       "<Figure size 432x288 with 1 Axes>"
      ]
     },
     "metadata": {
      "needs_background": "light"
     },
     "output_type": "display_data"
    }
   ],
   "source": [
    "total_area_spt = data['total_area_spt']\n",
    "total_area = data['total_area']\n",
    "total_area_spt.plot.hist(alpha=0.6, bins=50)\n",
    "total_area.plot.hist(alpha=0.6, bins=50)\n",
    "plt.legend()\n",
    "plt.show()"
   ]
  },
  {
   "cell_type": "markdown",
   "metadata": {},
   "source": [
    "**Conclusion** \n",
    "\n",
    "At this stage, we have determined the dependencies by parameters: area, price, number of rooms, ceiling height in the context of the center. The price and ceiling height, as well as the number of rooms and the area showed a direct relationship between them. \n",
    "\n",
    "If we compare the central zone and the entire area as a whole by applying histograms, it is also evident from the similarity that the price and ceiling height, the number of rooms and the total area are correlated with each other."
   ]
  },
  {
   "cell_type": "markdown",
   "metadata": {},
   "source": [
    "## General conclusion"
   ]
  },
  {
   "cell_type": "markdown",
   "metadata": {},
   "source": [
    "To analyze data on apartment sales in St. Petersburg and neighboring settlements for several years, it was necessary to pre-process the data and exclude outliers from some of the columns studied. The preprocessing included:\n",
    "- data type replacement. Some columns had a real type and boolean values. To perform the necessary mathematical functions, the data was converted to integers\n",
    "- replacement of passes. There were omissions in the data, for correct operation, they replaced it with an average or median value grouped from dependent data.\n",
    "- exclusion of emissions. For a more visual picture, the studied parameters (the number of days of ads, the total area and the number of rooms) were excluded emissions of 6%, 1% and 7%, respectively. Since these exceptions were less than 10%, it did not affect the dependence of the indicators.\n",
    "According to the analysis, it can be concluded that there are indicators that depend directly on each other, and there are those that have no influence among themselves:\n",
    "- the price for an apartment depends on the height of the ceilings (0.74);\n",
    "- the price for an apartment has a slight dependence on the indicators: the number of rooms (0.16), the total area (0.16), most likely on the type of construction of the house;\n",
    "- the ceiling height of the apartment, except from the price, has no relationship with other indicators;\n",
    "- the number of rooms and the total area have 100% (1) dependence on each other;\n",
    "These dependencies are also traced in comparison with the central and general areas. These dependencies can be seen from the histograms (price/ceiling height, area/number of rooms). \n",
    "For a more accurate analysis, I would enter such an indicator as the level (cost of repairs).\n",
    "Also, by the indicator of the price per kilometer, you can estimate how much the price of real estate is overstated or understated."
   ]
  }
 ],
 "metadata": {
  "ExecuteTimeLog": [
   {
    "duration": 669,
    "start_time": "2022-02-05T13:21:50.073Z"
   },
   {
    "duration": 31,
    "start_time": "2022-02-05T13:21:52.372Z"
   },
   {
    "duration": 8,
    "start_time": "2022-02-05T13:22:25.251Z"
   },
   {
    "duration": 7,
    "start_time": "2022-02-05T13:22:53.260Z"
   },
   {
    "duration": 8,
    "start_time": "2022-02-05T13:23:01.092Z"
   },
   {
    "duration": 8,
    "start_time": "2022-02-05T13:23:05.622Z"
   },
   {
    "duration": 8,
    "start_time": "2022-02-05T13:23:33.948Z"
   },
   {
    "duration": 65,
    "start_time": "2022-02-05T13:26:05.079Z"
   },
   {
    "duration": 30,
    "start_time": "2022-02-05T13:26:10.610Z"
   },
   {
    "duration": 63,
    "start_time": "2022-02-05T13:26:15.071Z"
   },
   {
    "duration": 8,
    "start_time": "2022-02-05T13:26:17.743Z"
   },
   {
    "duration": 10,
    "start_time": "2022-02-05T13:26:27.006Z"
   },
   {
    "duration": 9,
    "start_time": "2022-02-05T14:05:03.130Z"
   },
   {
    "duration": 416,
    "start_time": "2022-02-05T14:33:57.896Z"
   },
   {
    "duration": 305,
    "start_time": "2022-02-05T14:34:40.667Z"
   },
   {
    "duration": 3,
    "start_time": "2022-02-05T14:34:57.554Z"
   },
   {
    "duration": 335,
    "start_time": "2022-02-05T14:35:01.347Z"
   },
   {
    "duration": 919,
    "start_time": "2022-02-05T14:35:43.932Z"
   },
   {
    "duration": 60,
    "start_time": "2022-02-05T14:36:05.252Z"
   },
   {
    "duration": 63,
    "start_time": "2022-02-05T14:36:11.949Z"
   },
   {
    "duration": 4,
    "start_time": "2022-02-05T14:36:54.029Z"
   },
   {
    "duration": 327,
    "start_time": "2022-02-05T14:37:03.061Z"
   },
   {
    "duration": 3,
    "start_time": "2022-02-05T14:37:25.750Z"
   },
   {
    "duration": 314,
    "start_time": "2022-02-05T14:37:56.453Z"
   },
   {
    "duration": 2,
    "start_time": "2022-02-05T14:39:32.671Z"
   },
   {
    "duration": 332,
    "start_time": "2022-02-05T14:39:33.472Z"
   },
   {
    "duration": 304,
    "start_time": "2022-02-05T14:39:45.175Z"
   },
   {
    "duration": 57,
    "start_time": "2022-02-05T14:39:47.479Z"
   },
   {
    "duration": 22,
    "start_time": "2022-02-05T14:39:49.154Z"
   },
   {
    "duration": 774,
    "start_time": "2022-02-05T14:40:29.613Z"
   },
   {
    "duration": 3,
    "start_time": "2022-02-05T14:40:30.388Z"
   },
   {
    "duration": 1549,
    "start_time": "2022-02-05T14:40:30.393Z"
   },
   {
    "duration": -49,
    "start_time": "2022-02-05T14:40:31.993Z"
   },
   {
    "duration": -61,
    "start_time": "2022-02-05T14:40:32.006Z"
   },
   {
    "duration": -63,
    "start_time": "2022-02-05T14:40:32.009Z"
   },
   {
    "duration": 7,
    "start_time": "2022-02-05T14:41:06.531Z"
   },
   {
    "duration": 326,
    "start_time": "2022-02-05T14:41:30.793Z"
   },
   {
    "duration": 62,
    "start_time": "2022-02-05T14:41:34.651Z"
   },
   {
    "duration": 25,
    "start_time": "2022-02-05T14:41:36.082Z"
   },
   {
    "duration": 61,
    "start_time": "2022-02-05T14:41:48.819Z"
   },
   {
    "duration": 9,
    "start_time": "2022-02-05T14:41:52.139Z"
   },
   {
    "duration": 31,
    "start_time": "2022-02-05T14:45:37.196Z"
   },
   {
    "duration": 9,
    "start_time": "2022-02-05T15:09:04.029Z"
   },
   {
    "duration": 14843,
    "start_time": "2022-02-05T15:10:13.219Z"
   },
   {
    "duration": 14880,
    "start_time": "2022-02-05T15:10:39.309Z"
   },
   {
    "duration": 15198,
    "start_time": "2022-02-05T15:21:07.680Z"
   },
   {
    "duration": 8029,
    "start_time": "2022-02-05T15:30:06.735Z"
   },
   {
    "duration": 12,
    "start_time": "2022-02-05T15:33:21.576Z"
   },
   {
    "duration": 402,
    "start_time": "2022-02-05T15:33:28.324Z"
   },
   {
    "duration": 13,
    "start_time": "2022-02-05T15:33:38.416Z"
   },
   {
    "duration": 16,
    "start_time": "2022-02-05T15:33:51.943Z"
   },
   {
    "duration": 16,
    "start_time": "2022-02-05T15:34:11.736Z"
   },
   {
    "duration": 107,
    "start_time": "2022-02-05T15:35:01.454Z"
   },
   {
    "duration": 304,
    "start_time": "2022-02-05T15:35:12.448Z"
   },
   {
    "duration": 15,
    "start_time": "2022-02-05T15:35:48.873Z"
   },
   {
    "duration": 52660,
    "start_time": "2022-02-05T15:42:36.018Z"
   },
   {
    "duration": 78171,
    "start_time": "2022-02-05T15:46:02.293Z"
   },
   {
    "duration": 22549,
    "start_time": "2022-02-05T16:06:48.766Z"
   },
   {
    "duration": 327,
    "start_time": "2022-02-05T16:22:40.154Z"
   },
   {
    "duration": 309,
    "start_time": "2022-02-05T16:24:29.000Z"
   },
   {
    "duration": 322,
    "start_time": "2022-02-05T16:24:49.326Z"
   },
   {
    "duration": 309,
    "start_time": "2022-02-05T16:25:50.998Z"
   },
   {
    "duration": 307,
    "start_time": "2022-02-05T16:26:36.536Z"
   },
   {
    "duration": 20,
    "start_time": "2022-02-05T16:27:29.984Z"
   },
   {
    "duration": 26,
    "start_time": "2022-02-05T16:27:53.103Z"
   },
   {
    "duration": 105,
    "start_time": "2022-02-05T16:28:08.505Z"
   },
   {
    "duration": 99,
    "start_time": "2022-02-05T16:28:27.269Z"
   },
   {
    "duration": 107,
    "start_time": "2022-02-05T16:28:31.897Z"
   },
   {
    "duration": 103,
    "start_time": "2022-02-05T16:28:50.400Z"
   },
   {
    "duration": 105,
    "start_time": "2022-02-05T16:30:00.256Z"
   },
   {
    "duration": 105,
    "start_time": "2022-02-05T16:30:13.666Z"
   },
   {
    "duration": 102,
    "start_time": "2022-02-05T16:30:27.907Z"
   },
   {
    "duration": 118,
    "start_time": "2022-02-05T16:31:46.325Z"
   },
   {
    "duration": 94,
    "start_time": "2022-02-05T16:32:05.629Z"
   },
   {
    "duration": 16316,
    "start_time": "2022-02-05T16:33:55.044Z"
   },
   {
    "duration": 16284,
    "start_time": "2022-02-05T16:34:14.052Z"
   },
   {
    "duration": 22548,
    "start_time": "2022-02-05T16:34:30.338Z"
   },
   {
    "duration": 22291,
    "start_time": "2022-02-05T16:34:52.888Z"
   },
   {
    "duration": 5,
    "start_time": "2022-02-05T16:35:15.180Z"
   },
   {
    "duration": 5,
    "start_time": "2022-02-05T16:35:15.186Z"
   },
   {
    "duration": 14,
    "start_time": "2022-02-05T16:35:15.193Z"
   },
   {
    "duration": 5,
    "start_time": "2022-02-05T16:43:59.189Z"
   },
   {
    "duration": 5,
    "start_time": "2022-02-05T16:44:27.590Z"
   },
   {
    "duration": 332,
    "start_time": "2022-02-05T16:47:43.056Z"
   },
   {
    "duration": 17,
    "start_time": "2022-02-05T17:17:45.139Z"
   },
   {
    "duration": 30,
    "start_time": "2022-02-05T17:19:59.519Z"
   },
   {
    "duration": 14,
    "start_time": "2022-02-05T17:21:14.948Z"
   },
   {
    "duration": 323,
    "start_time": "2022-02-05T17:22:02.724Z"
   },
   {
    "duration": 33,
    "start_time": "2022-02-05T17:25:09.530Z"
   },
   {
    "duration": 636,
    "start_time": "2022-02-05T17:38:27.994Z"
   },
   {
    "duration": 39,
    "start_time": "2022-02-05T17:38:28.633Z"
   },
   {
    "duration": 62,
    "start_time": "2022-02-05T17:38:28.675Z"
   },
   {
    "duration": 9,
    "start_time": "2022-02-05T17:38:28.738Z"
   },
   {
    "duration": 24,
    "start_time": "2022-02-05T17:38:28.749Z"
   },
   {
    "duration": 360,
    "start_time": "2022-02-05T17:38:28.775Z"
   },
   {
    "duration": -63,
    "start_time": "2022-02-05T17:38:29.200Z"
   },
   {
    "duration": -67,
    "start_time": "2022-02-05T17:38:29.205Z"
   },
   {
    "duration": -69,
    "start_time": "2022-02-05T17:38:29.208Z"
   },
   {
    "duration": -72,
    "start_time": "2022-02-05T17:38:29.212Z"
   },
   {
    "duration": -77,
    "start_time": "2022-02-05T17:38:29.218Z"
   },
   {
    "duration": -81,
    "start_time": "2022-02-05T17:38:29.222Z"
   },
   {
    "duration": -82,
    "start_time": "2022-02-05T17:38:29.224Z"
   },
   {
    "duration": -83,
    "start_time": "2022-02-05T17:38:29.226Z"
   },
   {
    "duration": -85,
    "start_time": "2022-02-05T17:38:29.229Z"
   },
   {
    "duration": -87,
    "start_time": "2022-02-05T17:38:29.232Z"
   },
   {
    "duration": 316,
    "start_time": "2022-02-05T18:11:40.500Z"
   },
   {
    "duration": 330,
    "start_time": "2022-02-05T18:16:36.962Z"
   },
   {
    "duration": 323,
    "start_time": "2022-02-05T18:17:55.898Z"
   },
   {
    "duration": 1265,
    "start_time": "2022-02-05T18:18:47.161Z"
   },
   {
    "duration": 2180,
    "start_time": "2022-02-05T18:21:15.901Z"
   },
   {
    "duration": 2226,
    "start_time": "2022-02-05T18:21:25.236Z"
   },
   {
    "duration": 657,
    "start_time": "2022-02-05T18:26:21.265Z"
   },
   {
    "duration": 38,
    "start_time": "2022-02-05T18:26:21.925Z"
   },
   {
    "duration": 60,
    "start_time": "2022-02-05T18:26:21.965Z"
   },
   {
    "duration": 9,
    "start_time": "2022-02-05T18:26:22.027Z"
   },
   {
    "duration": 8,
    "start_time": "2022-02-05T18:26:22.037Z"
   },
   {
    "duration": 26,
    "start_time": "2022-02-05T18:26:22.046Z"
   },
   {
    "duration": 14666,
    "start_time": "2022-02-05T18:26:22.073Z"
   },
   {
    "duration": 14982,
    "start_time": "2022-02-05T18:26:36.741Z"
   },
   {
    "duration": 20566,
    "start_time": "2022-02-05T18:26:51.724Z"
   },
   {
    "duration": 22463,
    "start_time": "2022-02-05T18:27:12.292Z"
   },
   {
    "duration": 7,
    "start_time": "2022-02-05T18:27:34.756Z"
   },
   {
    "duration": 5,
    "start_time": "2022-02-05T18:27:34.771Z"
   },
   {
    "duration": 78972,
    "start_time": "2022-02-05T18:27:34.777Z"
   },
   {
    "duration": -55,
    "start_time": "2022-02-05T18:28:53.806Z"
   },
   {
    "duration": -58,
    "start_time": "2022-02-05T18:28:53.810Z"
   },
   {
    "duration": -61,
    "start_time": "2022-02-05T18:28:53.813Z"
   },
   {
    "duration": 5,
    "start_time": "2022-02-05T18:29:08.585Z"
   },
   {
    "duration": 5,
    "start_time": "2022-02-05T18:29:17.067Z"
   },
   {
    "duration": 23648,
    "start_time": "2022-02-05T18:33:22.208Z"
   },
   {
    "duration": 82575,
    "start_time": "2022-02-05T18:34:09.990Z"
   },
   {
    "duration": 1234,
    "start_time": "2022-02-05T18:41:33.200Z"
   },
   {
    "duration": 4,
    "start_time": "2022-02-05T18:42:09.999Z"
   },
   {
    "duration": 307,
    "start_time": "2022-02-05T18:42:11.879Z"
   },
   {
    "duration": 690,
    "start_time": "2022-02-06T07:07:14.229Z"
   },
   {
    "duration": 857,
    "start_time": "2022-02-06T07:07:24.514Z"
   },
   {
    "duration": 70,
    "start_time": "2022-02-06T07:07:33.808Z"
   },
   {
    "duration": 15,
    "start_time": "2022-02-06T07:07:39.172Z"
   },
   {
    "duration": 12,
    "start_time": "2022-02-06T07:07:51.467Z"
   },
   {
    "duration": 1238,
    "start_time": "2022-02-06T07:07:54.347Z"
   },
   {
    "duration": 316,
    "start_time": "2022-02-06T07:09:37.432Z"
   },
   {
    "duration": 300,
    "start_time": "2022-02-06T07:11:33.517Z"
   },
   {
    "duration": 299,
    "start_time": "2022-02-06T07:12:00.144Z"
   },
   {
    "duration": 356,
    "start_time": "2022-02-06T07:13:11.240Z"
   },
   {
    "duration": 789,
    "start_time": "2022-02-06T07:13:36.359Z"
   },
   {
    "duration": 73,
    "start_time": "2022-02-06T07:13:37.151Z"
   },
   {
    "duration": 169,
    "start_time": "2022-02-06T07:13:37.227Z"
   },
   {
    "duration": 23,
    "start_time": "2022-02-06T07:13:37.400Z"
   },
   {
    "duration": 36,
    "start_time": "2022-02-06T07:13:37.426Z"
   },
   {
    "duration": 380,
    "start_time": "2022-02-06T07:13:37.465Z"
   },
   {
    "duration": -75,
    "start_time": "2022-02-06T07:13:37.923Z"
   },
   {
    "duration": -76,
    "start_time": "2022-02-06T07:13:37.926Z"
   },
   {
    "duration": -78,
    "start_time": "2022-02-06T07:13:37.929Z"
   },
   {
    "duration": -78,
    "start_time": "2022-02-06T07:13:37.931Z"
   },
   {
    "duration": -79,
    "start_time": "2022-02-06T07:13:37.933Z"
   },
   {
    "duration": -80,
    "start_time": "2022-02-06T07:13:37.935Z"
   },
   {
    "duration": -81,
    "start_time": "2022-02-06T07:13:37.938Z"
   },
   {
    "duration": -82,
    "start_time": "2022-02-06T07:13:37.940Z"
   },
   {
    "duration": -85,
    "start_time": "2022-02-06T07:13:37.944Z"
   },
   {
    "duration": -85,
    "start_time": "2022-02-06T07:13:37.946Z"
   },
   {
    "duration": 6,
    "start_time": "2022-02-06T07:16:14.354Z"
   },
   {
    "duration": 305,
    "start_time": "2022-02-06T07:16:35.776Z"
   },
   {
    "duration": 6,
    "start_time": "2022-02-06T07:17:17.618Z"
   },
   {
    "duration": 7,
    "start_time": "2022-02-06T07:17:23.672Z"
   },
   {
    "duration": 318,
    "start_time": "2022-02-06T07:18:01.474Z"
   },
   {
    "duration": 309,
    "start_time": "2022-02-06T07:18:18.434Z"
   },
   {
    "duration": 306,
    "start_time": "2022-02-06T07:21:28.566Z"
   },
   {
    "duration": 827,
    "start_time": "2022-02-06T07:22:31.451Z"
   },
   {
    "duration": 85,
    "start_time": "2022-02-06T07:22:32.281Z"
   },
   {
    "duration": 120,
    "start_time": "2022-02-06T07:22:32.370Z"
   },
   {
    "duration": 16,
    "start_time": "2022-02-06T07:22:32.493Z"
   },
   {
    "duration": 39,
    "start_time": "2022-02-06T07:22:32.511Z"
   },
   {
    "duration": 9,
    "start_time": "2022-02-06T07:22:32.553Z"
   },
   {
    "duration": 27452,
    "start_time": "2022-02-06T07:22:32.564Z"
   },
   {
    "duration": 49301,
    "start_time": "2022-02-06T07:23:00.020Z"
   },
   {
    "duration": -78,
    "start_time": "2022-02-06T07:23:49.402Z"
   },
   {
    "duration": -87,
    "start_time": "2022-02-06T07:23:49.412Z"
   },
   {
    "duration": -89,
    "start_time": "2022-02-06T07:23:49.415Z"
   },
   {
    "duration": -90,
    "start_time": "2022-02-06T07:23:49.418Z"
   },
   {
    "duration": -91,
    "start_time": "2022-02-06T07:23:49.420Z"
   },
   {
    "duration": -93,
    "start_time": "2022-02-06T07:23:49.423Z"
   },
   {
    "duration": -94,
    "start_time": "2022-02-06T07:23:49.426Z"
   },
   {
    "duration": -95,
    "start_time": "2022-02-06T07:23:49.428Z"
   },
   {
    "duration": 13,
    "start_time": "2022-02-06T07:26:22.701Z"
   },
   {
    "duration": 9,
    "start_time": "2022-02-06T07:26:30.673Z"
   },
   {
    "duration": 405,
    "start_time": "2022-02-06T07:26:44.781Z"
   },
   {
    "duration": 8,
    "start_time": "2022-02-06T07:27:33.817Z"
   },
   {
    "duration": 49715,
    "start_time": "2022-02-06T07:27:40.295Z"
   },
   {
    "duration": 289,
    "start_time": "2022-02-06T07:31:15.739Z"
   },
   {
    "duration": 13,
    "start_time": "2022-02-06T07:32:07.231Z"
   },
   {
    "duration": 313,
    "start_time": "2022-02-06T07:32:25.997Z"
   },
   {
    "duration": 13,
    "start_time": "2022-02-06T07:32:40.781Z"
   },
   {
    "duration": 47980,
    "start_time": "2022-02-06T07:32:50.493Z"
   },
   {
    "duration": 279,
    "start_time": "2022-02-06T07:36:23.271Z"
   },
   {
    "duration": 284,
    "start_time": "2022-02-06T07:37:01.038Z"
   },
   {
    "duration": 774,
    "start_time": "2022-02-06T07:37:47.968Z"
   },
   {
    "duration": 88,
    "start_time": "2022-02-06T07:37:48.745Z"
   },
   {
    "duration": 135,
    "start_time": "2022-02-06T07:37:48.836Z"
   },
   {
    "duration": 15,
    "start_time": "2022-02-06T07:37:48.974Z"
   },
   {
    "duration": 12,
    "start_time": "2022-02-06T07:37:48.992Z"
   },
   {
    "duration": 400,
    "start_time": "2022-02-06T07:37:49.006Z"
   },
   {
    "duration": -95,
    "start_time": "2022-02-06T07:37:49.504Z"
   },
   {
    "duration": -96,
    "start_time": "2022-02-06T07:37:49.507Z"
   },
   {
    "duration": -98,
    "start_time": "2022-02-06T07:37:49.510Z"
   },
   {
    "duration": -98,
    "start_time": "2022-02-06T07:37:49.512Z"
   },
   {
    "duration": -99,
    "start_time": "2022-02-06T07:37:49.514Z"
   },
   {
    "duration": -100,
    "start_time": "2022-02-06T07:37:49.517Z"
   },
   {
    "duration": -101,
    "start_time": "2022-02-06T07:37:49.519Z"
   },
   {
    "duration": -102,
    "start_time": "2022-02-06T07:37:49.521Z"
   },
   {
    "duration": -104,
    "start_time": "2022-02-06T07:37:49.525Z"
   },
   {
    "duration": -105,
    "start_time": "2022-02-06T07:37:49.527Z"
   },
   {
    "duration": 331,
    "start_time": "2022-02-06T07:38:53.581Z"
   },
   {
    "duration": 11,
    "start_time": "2022-02-06T07:39:04.710Z"
   },
   {
    "duration": 7,
    "start_time": "2022-02-06T07:39:13.334Z"
   },
   {
    "duration": 83,
    "start_time": "2022-02-06T07:40:55.441Z"
   },
   {
    "duration": 797,
    "start_time": "2022-02-06T07:41:11.337Z"
   },
   {
    "duration": 367,
    "start_time": "2022-02-06T07:41:12.137Z"
   },
   {
    "duration": -34,
    "start_time": "2022-02-06T07:41:12.541Z"
   },
   {
    "duration": -35,
    "start_time": "2022-02-06T07:41:12.543Z"
   },
   {
    "duration": -39,
    "start_time": "2022-02-06T07:41:12.549Z"
   },
   {
    "duration": -48,
    "start_time": "2022-02-06T07:41:12.559Z"
   },
   {
    "duration": -53,
    "start_time": "2022-02-06T07:41:12.566Z"
   },
   {
    "duration": -54,
    "start_time": "2022-02-06T07:41:12.569Z"
   },
   {
    "duration": -55,
    "start_time": "2022-02-06T07:41:12.571Z"
   },
   {
    "duration": -57,
    "start_time": "2022-02-06T07:41:12.574Z"
   },
   {
    "duration": -57,
    "start_time": "2022-02-06T07:41:12.576Z"
   },
   {
    "duration": -58,
    "start_time": "2022-02-06T07:41:12.578Z"
   },
   {
    "duration": -60,
    "start_time": "2022-02-06T07:41:12.581Z"
   },
   {
    "duration": -61,
    "start_time": "2022-02-06T07:41:12.584Z"
   },
   {
    "duration": -68,
    "start_time": "2022-02-06T07:41:12.592Z"
   },
   {
    "duration": -69,
    "start_time": "2022-02-06T07:41:12.594Z"
   },
   {
    "duration": 87,
    "start_time": "2022-02-06T07:41:39.014Z"
   },
   {
    "duration": 70,
    "start_time": "2022-02-06T07:41:39.104Z"
   },
   {
    "duration": 112,
    "start_time": "2022-02-06T07:41:39.177Z"
   },
   {
    "duration": 16,
    "start_time": "2022-02-06T07:41:39.291Z"
   },
   {
    "duration": 11,
    "start_time": "2022-02-06T07:41:39.309Z"
   },
   {
    "duration": 30,
    "start_time": "2022-02-06T07:41:39.323Z"
   },
   {
    "duration": 27536,
    "start_time": "2022-02-06T07:41:39.355Z"
   },
   {
    "duration": 298,
    "start_time": "2022-02-06T07:42:06.895Z"
   },
   {
    "duration": -53,
    "start_time": "2022-02-06T07:42:07.249Z"
   },
   {
    "duration": -56,
    "start_time": "2022-02-06T07:42:07.254Z"
   },
   {
    "duration": -71,
    "start_time": "2022-02-06T07:42:07.271Z"
   },
   {
    "duration": -72,
    "start_time": "2022-02-06T07:42:07.273Z"
   },
   {
    "duration": -77,
    "start_time": "2022-02-06T07:42:07.280Z"
   },
   {
    "duration": -78,
    "start_time": "2022-02-06T07:42:07.282Z"
   },
   {
    "duration": -78,
    "start_time": "2022-02-06T07:42:07.284Z"
   },
   {
    "duration": -78,
    "start_time": "2022-02-06T07:42:07.286Z"
   },
   {
    "duration": 95,
    "start_time": "2022-02-06T07:45:11.460Z"
   },
   {
    "duration": 13,
    "start_time": "2022-02-06T07:45:49.773Z"
   },
   {
    "duration": 27697,
    "start_time": "2022-02-06T07:45:57.677Z"
   },
   {
    "duration": 37722,
    "start_time": "2022-02-06T07:48:39.159Z"
   },
   {
    "duration": 9,
    "start_time": "2022-02-06T07:49:20.583Z"
   },
   {
    "duration": 360,
    "start_time": "2022-02-06T07:49:26.159Z"
   },
   {
    "duration": 9,
    "start_time": "2022-02-06T07:50:01.594Z"
   },
   {
    "duration": 1971,
    "start_time": "2022-02-06T07:50:04.641Z"
   },
   {
    "duration": 129308,
    "start_time": "2022-02-06T07:50:40.876Z"
   },
   {
    "duration": 53,
    "start_time": "2022-02-06T07:53:33.236Z"
   },
   {
    "duration": 6,
    "start_time": "2022-02-06T07:54:22.005Z"
   },
   {
    "duration": 55,
    "start_time": "2022-02-06T07:54:29.073Z"
   },
   {
    "duration": 9,
    "start_time": "2022-02-06T07:55:04.269Z"
   },
   {
    "duration": 55,
    "start_time": "2022-02-06T07:55:08.264Z"
   },
   {
    "duration": 9,
    "start_time": "2022-02-06T07:55:53.046Z"
   },
   {
    "duration": 56,
    "start_time": "2022-02-06T07:55:57.305Z"
   },
   {
    "duration": 9,
    "start_time": "2022-02-06T07:56:08.398Z"
   },
   {
    "duration": 56,
    "start_time": "2022-02-06T07:56:12.905Z"
   },
   {
    "duration": 6,
    "start_time": "2022-02-06T07:58:18.335Z"
   },
   {
    "duration": 55,
    "start_time": "2022-02-06T07:58:21.827Z"
   },
   {
    "duration": 16,
    "start_time": "2022-02-06T08:02:34.651Z"
   },
   {
    "duration": 19,
    "start_time": "2022-02-06T08:06:07.040Z"
   },
   {
    "duration": 12,
    "start_time": "2022-02-06T08:06:35.750Z"
   },
   {
    "duration": 60,
    "start_time": "2022-02-06T08:06:50.359Z"
   },
   {
    "duration": 10,
    "start_time": "2022-02-06T08:08:40.355Z"
   },
   {
    "duration": 7,
    "start_time": "2022-02-06T08:17:12.577Z"
   },
   {
    "duration": 7,
    "start_time": "2022-02-06T08:25:37.600Z"
   },
   {
    "duration": 132550,
    "start_time": "2022-02-06T08:25:43.016Z"
   },
   {
    "duration": 6,
    "start_time": "2022-02-06T08:28:31.370Z"
   },
   {
    "duration": 273,
    "start_time": "2022-02-06T08:28:39.450Z"
   },
   {
    "duration": 292,
    "start_time": "2022-02-06T08:33:36.576Z"
   },
   {
    "duration": 22,
    "start_time": "2022-02-06T08:36:16.793Z"
   },
   {
    "duration": 22,
    "start_time": "2022-02-06T08:36:28.113Z"
   },
   {
    "duration": 423,
    "start_time": "2022-02-06T08:47:47.083Z"
   },
   {
    "duration": 290,
    "start_time": "2022-02-06T08:48:02.748Z"
   },
   {
    "duration": 22,
    "start_time": "2022-02-06T08:48:27.373Z"
   },
   {
    "duration": 1280,
    "start_time": "2022-02-06T08:49:20.269Z"
   },
   {
    "duration": 176,
    "start_time": "2022-02-06T08:49:48.021Z"
   },
   {
    "duration": 179,
    "start_time": "2022-02-06T08:50:01.086Z"
   },
   {
    "duration": 530,
    "start_time": "2022-02-06T08:50:21.224Z"
   },
   {
    "duration": 177,
    "start_time": "2022-02-06T08:50:38.750Z"
   },
   {
    "duration": 181,
    "start_time": "2022-02-06T08:51:22.494Z"
   },
   {
    "duration": 197,
    "start_time": "2022-02-06T08:52:11.199Z"
   },
   {
    "duration": 219,
    "start_time": "2022-02-06T08:52:26.072Z"
   },
   {
    "duration": 202,
    "start_time": "2022-02-06T08:52:33.759Z"
   },
   {
    "duration": 9,
    "start_time": "2022-02-06T09:44:17.077Z"
   },
   {
    "duration": 5527,
    "start_time": "2022-02-06T09:49:58.045Z"
   },
   {
    "duration": 5797,
    "start_time": "2022-02-06T09:50:15.857Z"
   },
   {
    "duration": 5,
    "start_time": "2022-02-06T09:53:45.109Z"
   },
   {
    "duration": 6,
    "start_time": "2022-02-06T09:54:36.110Z"
   },
   {
    "duration": 321,
    "start_time": "2022-02-06T09:55:03.135Z"
   },
   {
    "duration": 9,
    "start_time": "2022-02-06T09:55:58.888Z"
   },
   {
    "duration": 61,
    "start_time": "2022-02-06T09:56:18.563Z"
   },
   {
    "duration": 9,
    "start_time": "2022-02-06T09:56:49.568Z"
   },
   {
    "duration": 64,
    "start_time": "2022-02-06T09:56:58.560Z"
   },
   {
    "duration": 10,
    "start_time": "2022-02-06T10:03:40.342Z"
   },
   {
    "duration": 12453,
    "start_time": "2022-02-06T10:04:45.887Z"
   },
   {
    "duration": 9989,
    "start_time": "2022-02-06T10:05:15.847Z"
   },
   {
    "duration": 443,
    "start_time": "2022-02-06T10:21:23.045Z"
   },
   {
    "duration": 482,
    "start_time": "2022-02-06T10:22:22.463Z"
   },
   {
    "duration": 263,
    "start_time": "2022-02-06T10:22:58.942Z"
   },
   {
    "duration": 295,
    "start_time": "2022-02-06T10:23:01.312Z"
   },
   {
    "duration": 291,
    "start_time": "2022-02-06T10:23:04.300Z"
   },
   {
    "duration": 300,
    "start_time": "2022-02-06T10:23:07.312Z"
   },
   {
    "duration": 262,
    "start_time": "2022-02-06T10:23:42.671Z"
   },
   {
    "duration": 475,
    "start_time": "2022-02-06T10:23:55.119Z"
   },
   {
    "duration": 287,
    "start_time": "2022-02-06T10:24:27.655Z"
   },
   {
    "duration": 297,
    "start_time": "2022-02-06T10:24:34.915Z"
   },
   {
    "duration": 5,
    "start_time": "2022-02-06T10:27:29.445Z"
   },
   {
    "duration": 295,
    "start_time": "2022-02-06T10:28:20.006Z"
   },
   {
    "duration": 303,
    "start_time": "2022-02-06T10:28:52.796Z"
   },
   {
    "duration": 8,
    "start_time": "2022-02-06T10:32:29.503Z"
   },
   {
    "duration": 6,
    "start_time": "2022-02-06T10:32:42.616Z"
   },
   {
    "duration": 7,
    "start_time": "2022-02-06T10:32:44.439Z"
   },
   {
    "duration": 3709,
    "start_time": "2022-02-06T10:37:13.043Z"
   },
   {
    "duration": 4120,
    "start_time": "2022-02-06T10:37:54.468Z"
   },
   {
    "duration": 631,
    "start_time": "2022-02-06T10:52:09.888Z"
   },
   {
    "duration": 3989,
    "start_time": "2022-02-06T10:53:55.355Z"
   },
   {
    "duration": 424,
    "start_time": "2022-02-06T10:56:17.027Z"
   },
   {
    "duration": 1599,
    "start_time": "2022-02-06T10:56:39.299Z"
   },
   {
    "duration": 1651,
    "start_time": "2022-02-06T10:57:08.724Z"
   },
   {
    "duration": 263,
    "start_time": "2022-02-06T10:57:19.856Z"
   },
   {
    "duration": 1491,
    "start_time": "2022-02-06T10:58:08.781Z"
   },
   {
    "duration": 272,
    "start_time": "2022-02-06T10:58:23.238Z"
   },
   {
    "duration": 979,
    "start_time": "2022-02-06T11:00:58.960Z"
   },
   {
    "duration": 3811,
    "start_time": "2022-02-06T11:04:03.348Z"
   },
   {
    "duration": 8525,
    "start_time": "2022-02-06T11:05:49.201Z"
   },
   {
    "duration": 278,
    "start_time": "2022-02-06T11:08:35.143Z"
   },
   {
    "duration": 3582,
    "start_time": "2022-02-06T11:08:42.566Z"
   },
   {
    "duration": 716,
    "start_time": "2022-02-06T11:09:22.264Z"
   },
   {
    "duration": 893,
    "start_time": "2022-02-06T11:09:39.032Z"
   },
   {
    "duration": 35,
    "start_time": "2022-02-06T11:18:20.216Z"
   },
   {
    "duration": 12,
    "start_time": "2022-02-06T11:19:18.248Z"
   },
   {
    "duration": 35,
    "start_time": "2022-02-06T11:19:23.811Z"
   },
   {
    "duration": 11,
    "start_time": "2022-02-06T11:20:12.538Z"
   },
   {
    "duration": 35,
    "start_time": "2022-02-06T11:20:18.356Z"
   },
   {
    "duration": 34,
    "start_time": "2022-02-06T11:23:45.645Z"
   },
   {
    "duration": 47,
    "start_time": "2022-02-06T11:23:57.228Z"
   },
   {
    "duration": 43,
    "start_time": "2022-02-06T11:24:29.997Z"
   },
   {
    "duration": 33,
    "start_time": "2022-02-06T11:25:31.861Z"
   },
   {
    "duration": 464,
    "start_time": "2022-02-06T11:26:40.575Z"
   },
   {
    "duration": 446,
    "start_time": "2022-02-06T11:38:33.080Z"
   },
   {
    "duration": 22,
    "start_time": "2022-02-06T11:39:08.532Z"
   },
   {
    "duration": 21,
    "start_time": "2022-02-06T11:39:57.339Z"
   },
   {
    "duration": 5679,
    "start_time": "2022-02-06T11:40:40.740Z"
   },
   {
    "duration": 26,
    "start_time": "2022-02-06T11:43:29.359Z"
   },
   {
    "duration": 24,
    "start_time": "2022-02-06T11:43:46.545Z"
   },
   {
    "duration": 25,
    "start_time": "2022-02-06T11:44:33.000Z"
   },
   {
    "duration": 30,
    "start_time": "2022-02-06T11:44:44.049Z"
   },
   {
    "duration": 24,
    "start_time": "2022-02-06T11:45:56.808Z"
   },
   {
    "duration": 465,
    "start_time": "2022-02-06T11:59:14.700Z"
   },
   {
    "duration": 370,
    "start_time": "2022-02-06T11:59:56.125Z"
   },
   {
    "duration": 15,
    "start_time": "2022-02-06T12:02:09.560Z"
   },
   {
    "duration": 23,
    "start_time": "2022-02-06T12:03:27.296Z"
   },
   {
    "duration": 17,
    "start_time": "2022-02-06T12:04:17.797Z"
   },
   {
    "duration": 24,
    "start_time": "2022-02-06T14:12:25.844Z"
   },
   {
    "duration": 64,
    "start_time": "2022-02-06T14:17:14.388Z"
   },
   {
    "duration": 50447,
    "start_time": "2022-02-06T14:19:12.618Z"
   },
   {
    "duration": 77,
    "start_time": "2022-02-06T14:24:06.690Z"
   },
   {
    "duration": 23,
    "start_time": "2022-02-06T14:31:09.837Z"
   },
   {
    "duration": 379,
    "start_time": "2022-02-06T14:40:42.097Z"
   },
   {
    "duration": 896,
    "start_time": "2022-02-06T14:41:07.248Z"
   },
   {
    "duration": 72,
    "start_time": "2022-02-06T14:41:08.147Z"
   },
   {
    "duration": 114,
    "start_time": "2022-02-06T14:41:08.222Z"
   },
   {
    "duration": 27,
    "start_time": "2022-02-06T14:41:08.339Z"
   },
   {
    "duration": 14,
    "start_time": "2022-02-06T14:41:08.369Z"
   },
   {
    "duration": 457,
    "start_time": "2022-02-06T14:41:08.386Z"
   },
   {
    "duration": -39,
    "start_time": "2022-02-06T14:41:08.886Z"
   },
   {
    "duration": -41,
    "start_time": "2022-02-06T14:41:08.889Z"
   },
   {
    "duration": -42,
    "start_time": "2022-02-06T14:41:08.892Z"
   },
   {
    "duration": -44,
    "start_time": "2022-02-06T14:41:08.895Z"
   },
   {
    "duration": -45,
    "start_time": "2022-02-06T14:41:08.898Z"
   },
   {
    "duration": -46,
    "start_time": "2022-02-06T14:41:08.900Z"
   },
   {
    "duration": -66,
    "start_time": "2022-02-06T14:41:08.922Z"
   },
   {
    "duration": -70,
    "start_time": "2022-02-06T14:41:08.927Z"
   },
   {
    "duration": -73,
    "start_time": "2022-02-06T14:41:08.931Z"
   },
   {
    "duration": -74,
    "start_time": "2022-02-06T14:41:08.934Z"
   },
   {
    "duration": -77,
    "start_time": "2022-02-06T14:41:08.938Z"
   },
   {
    "duration": -77,
    "start_time": "2022-02-06T14:41:08.940Z"
   },
   {
    "duration": -81,
    "start_time": "2022-02-06T14:41:08.945Z"
   },
   {
    "duration": -82,
    "start_time": "2022-02-06T14:41:08.948Z"
   },
   {
    "duration": -83,
    "start_time": "2022-02-06T14:41:08.950Z"
   },
   {
    "duration": -85,
    "start_time": "2022-02-06T14:41:08.953Z"
   },
   {
    "duration": -86,
    "start_time": "2022-02-06T14:41:08.956Z"
   },
   {
    "duration": -91,
    "start_time": "2022-02-06T14:41:08.962Z"
   },
   {
    "duration": -93,
    "start_time": "2022-02-06T14:41:08.966Z"
   },
   {
    "duration": -95,
    "start_time": "2022-02-06T14:41:08.969Z"
   },
   {
    "duration": -105,
    "start_time": "2022-02-06T14:41:08.981Z"
   },
   {
    "duration": -108,
    "start_time": "2022-02-06T14:41:08.985Z"
   },
   {
    "duration": -108,
    "start_time": "2022-02-06T14:41:08.987Z"
   },
   {
    "duration": -110,
    "start_time": "2022-02-06T14:41:08.990Z"
   },
   {
    "duration": -112,
    "start_time": "2022-02-06T14:41:08.994Z"
   },
   {
    "duration": -114,
    "start_time": "2022-02-06T14:41:08.997Z"
   },
   {
    "duration": -115,
    "start_time": "2022-02-06T14:41:08.999Z"
   },
   {
    "duration": -115,
    "start_time": "2022-02-06T14:41:09.001Z"
   },
   {
    "duration": 410,
    "start_time": "2022-02-06T14:41:45.026Z"
   },
   {
    "duration": 30,
    "start_time": "2022-02-06T14:42:04.571Z"
   },
   {
    "duration": 3718,
    "start_time": "2022-02-06T14:42:21.531Z"
   },
   {
    "duration": 3982,
    "start_time": "2022-02-06T14:42:41.247Z"
   },
   {
    "duration": 37715,
    "start_time": "2022-02-06T14:42:53.940Z"
   },
   {
    "duration": 89,
    "start_time": "2022-02-06T14:43:35.187Z"
   },
   {
    "duration": 59,
    "start_time": "2022-02-06T14:43:35.279Z"
   },
   {
    "duration": 110,
    "start_time": "2022-02-06T14:43:35.349Z"
   },
   {
    "duration": 14,
    "start_time": "2022-02-06T14:43:35.463Z"
   },
   {
    "duration": 12,
    "start_time": "2022-02-06T14:43:35.479Z"
   },
   {
    "duration": 59,
    "start_time": "2022-02-06T14:43:35.493Z"
   },
   {
    "duration": 3899,
    "start_time": "2022-02-06T14:43:35.555Z"
   },
   {
    "duration": 3843,
    "start_time": "2022-02-06T14:43:39.458Z"
   },
   {
    "duration": 36999,
    "start_time": "2022-02-06T14:43:43.305Z"
   },
   {
    "duration": 18,
    "start_time": "2022-02-06T14:44:20.307Z"
   },
   {
    "duration": 37503,
    "start_time": "2022-02-06T14:44:20.327Z"
   },
   {
    "duration": 16,
    "start_time": "2022-02-06T14:44:57.833Z"
   },
   {
    "duration": 36,
    "start_time": "2022-02-06T14:44:57.851Z"
   },
   {
    "duration": 44,
    "start_time": "2022-02-06T14:44:57.889Z"
   },
   {
    "duration": 5,
    "start_time": "2022-02-06T14:44:57.936Z"
   },
   {
    "duration": 68,
    "start_time": "2022-02-06T14:44:57.943Z"
   },
   {
    "duration": 5,
    "start_time": "2022-02-06T14:44:58.013Z"
   },
   {
    "duration": 274,
    "start_time": "2022-02-06T14:44:58.021Z"
   },
   {
    "duration": 5632,
    "start_time": "2022-02-06T14:44:58.298Z"
   },
   {
    "duration": 15,
    "start_time": "2022-02-06T14:45:03.933Z"
   },
   {
    "duration": 391,
    "start_time": "2022-02-06T14:45:03.951Z"
   },
   {
    "duration": 307,
    "start_time": "2022-02-06T14:45:04.344Z"
   },
   {
    "duration": 318,
    "start_time": "2022-02-06T14:45:04.655Z"
   },
   {
    "duration": 418,
    "start_time": "2022-02-06T14:45:04.976Z"
   },
   {
    "duration": 495,
    "start_time": "2022-02-06T14:45:05.397Z"
   },
   {
    "duration": 9,
    "start_time": "2022-02-06T14:45:05.894Z"
   },
   {
    "duration": 45,
    "start_time": "2022-02-06T14:45:05.905Z"
   },
   {
    "duration": 1072,
    "start_time": "2022-02-06T14:45:05.953Z"
   },
   {
    "duration": 5,
    "start_time": "2022-02-06T14:45:07.023Z"
   },
   {
    "duration": -1,
    "start_time": "2022-02-06T14:45:07.030Z"
   },
   {
    "duration": -16,
    "start_time": "2022-02-06T14:45:07.046Z"
   },
   {
    "duration": -26,
    "start_time": "2022-02-06T14:45:07.058Z"
   },
   {
    "duration": -13,
    "start_time": "2022-02-06T14:45:07.061Z"
   },
   {
    "duration": -15,
    "start_time": "2022-02-06T14:45:07.065Z"
   },
   {
    "duration": 314,
    "start_time": "2022-02-06T14:45:37.085Z"
   },
   {
    "duration": 295,
    "start_time": "2022-02-06T14:45:57.901Z"
   },
   {
    "duration": 495,
    "start_time": "2022-02-06T14:46:34.120Z"
   },
   {
    "duration": 21,
    "start_time": "2022-02-06T14:46:51.642Z"
   },
   {
    "duration": 335,
    "start_time": "2022-02-06T14:49:34.427Z"
   },
   {
    "duration": 38,
    "start_time": "2022-02-06T14:50:22.265Z"
   },
   {
    "duration": 24,
    "start_time": "2022-02-06T14:50:41.187Z"
   },
   {
    "duration": 25,
    "start_time": "2022-02-06T14:50:44.923Z"
   },
   {
    "duration": 11,
    "start_time": "2022-02-06T14:50:47.744Z"
   },
   {
    "duration": 338,
    "start_time": "2022-02-06T14:56:30.579Z"
   },
   {
    "duration": 811,
    "start_time": "2022-02-06T14:56:52.459Z"
   },
   {
    "duration": 77,
    "start_time": "2022-02-06T14:56:53.273Z"
   },
   {
    "duration": 118,
    "start_time": "2022-02-06T14:56:53.354Z"
   },
   {
    "duration": 14,
    "start_time": "2022-02-06T14:56:53.474Z"
   },
   {
    "duration": 22,
    "start_time": "2022-02-06T14:56:53.491Z"
   },
   {
    "duration": 54,
    "start_time": "2022-02-06T14:56:53.515Z"
   },
   {
    "duration": 3732,
    "start_time": "2022-02-06T14:56:53.572Z"
   },
   {
    "duration": 4154,
    "start_time": "2022-02-06T14:56:57.309Z"
   },
   {
    "duration": 39466,
    "start_time": "2022-02-06T14:57:01.467Z"
   },
   {
    "duration": 17,
    "start_time": "2022-02-06T14:57:40.936Z"
   },
   {
    "duration": 39326,
    "start_time": "2022-02-06T14:57:40.955Z"
   },
   {
    "duration": 5,
    "start_time": "2022-02-06T14:58:20.283Z"
   },
   {
    "duration": 5,
    "start_time": "2022-02-06T14:58:20.291Z"
   },
   {
    "duration": 12,
    "start_time": "2022-02-06T14:58:20.299Z"
   },
   {
    "duration": 2,
    "start_time": "2022-02-06T14:58:20.314Z"
   },
   {
    "duration": 81,
    "start_time": "2022-02-06T14:58:20.318Z"
   },
   {
    "duration": 6,
    "start_time": "2022-02-06T14:58:20.401Z"
   },
   {
    "duration": 231,
    "start_time": "2022-02-06T14:58:20.409Z"
   },
   {
    "duration": 5389,
    "start_time": "2022-02-06T14:58:20.643Z"
   },
   {
    "duration": 15,
    "start_time": "2022-02-06T14:58:26.034Z"
   },
   {
    "duration": 376,
    "start_time": "2022-02-06T14:58:26.052Z"
   },
   {
    "duration": 303,
    "start_time": "2022-02-06T14:58:26.431Z"
   },
   {
    "duration": 329,
    "start_time": "2022-02-06T14:58:26.737Z"
   },
   {
    "duration": 324,
    "start_time": "2022-02-06T14:58:27.069Z"
   },
   {
    "duration": 320,
    "start_time": "2022-02-06T14:58:27.396Z"
   },
   {
    "duration": 7,
    "start_time": "2022-02-06T14:58:27.721Z"
   },
   {
    "duration": 26,
    "start_time": "2022-02-06T14:58:27.731Z"
   },
   {
    "duration": 18,
    "start_time": "2022-02-06T14:58:27.760Z"
   },
   {
    "duration": 64,
    "start_time": "2022-02-06T14:58:27.780Z"
   },
   {
    "duration": 20,
    "start_time": "2022-02-06T14:58:27.847Z"
   },
   {
    "duration": 23,
    "start_time": "2022-02-06T14:58:27.870Z"
   },
   {
    "duration": 23,
    "start_time": "2022-02-06T14:58:27.896Z"
   },
   {
    "duration": 33,
    "start_time": "2022-02-06T14:58:27.922Z"
   },
   {
    "duration": 392,
    "start_time": "2022-02-06T14:58:27.958Z"
   },
   {
    "duration": 62,
    "start_time": "2022-02-06T15:00:49.175Z"
   },
   {
    "duration": 91,
    "start_time": "2022-02-06T15:01:42.089Z"
   },
   {
    "duration": 288,
    "start_time": "2022-02-06T15:01:50.630Z"
   },
   {
    "duration": 280,
    "start_time": "2022-02-06T15:02:08.314Z"
   },
   {
    "duration": 76,
    "start_time": "2022-02-06T15:02:18.236Z"
   },
   {
    "duration": 56,
    "start_time": "2022-02-06T15:02:25.261Z"
   },
   {
    "duration": 48319,
    "start_time": "2022-02-06T15:03:39.935Z"
   },
   {
    "duration": 61,
    "start_time": "2022-02-06T15:04:46.713Z"
   },
   {
    "duration": 55,
    "start_time": "2022-02-06T15:08:54.305Z"
   },
   {
    "duration": 12,
    "start_time": "2022-02-06T15:10:21.683Z"
   },
   {
    "duration": 58,
    "start_time": "2022-02-06T15:10:25.931Z"
   },
   {
    "duration": 882,
    "start_time": "2022-02-06T15:11:28.359Z"
   },
   {
    "duration": 73,
    "start_time": "2022-02-06T15:11:29.244Z"
   },
   {
    "duration": 130,
    "start_time": "2022-02-06T15:11:29.325Z"
   },
   {
    "duration": 16,
    "start_time": "2022-02-06T15:11:29.457Z"
   },
   {
    "duration": 12,
    "start_time": "2022-02-06T15:11:29.475Z"
   },
   {
    "duration": 73,
    "start_time": "2022-02-06T15:11:29.490Z"
   },
   {
    "duration": 4323,
    "start_time": "2022-02-06T15:11:29.568Z"
   },
   {
    "duration": 3968,
    "start_time": "2022-02-06T15:11:33.894Z"
   },
   {
    "duration": 4,
    "start_time": "2022-02-06T15:11:37.865Z"
   },
   {
    "duration": 24,
    "start_time": "2022-02-06T15:11:37.872Z"
   },
   {
    "duration": 37229,
    "start_time": "2022-02-06T15:11:37.898Z"
   },
   {
    "duration": 5,
    "start_time": "2022-02-06T15:12:15.130Z"
   },
   {
    "duration": 5,
    "start_time": "2022-02-06T15:12:15.148Z"
   },
   {
    "duration": 12,
    "start_time": "2022-02-06T15:12:15.155Z"
   },
   {
    "duration": 3,
    "start_time": "2022-02-06T15:12:15.169Z"
   },
   {
    "duration": 93,
    "start_time": "2022-02-06T15:12:15.175Z"
   },
   {
    "duration": 5,
    "start_time": "2022-02-06T15:12:15.270Z"
   },
   {
    "duration": 218,
    "start_time": "2022-02-06T15:12:15.278Z"
   },
   {
    "duration": 5586,
    "start_time": "2022-02-06T15:12:15.498Z"
   },
   {
    "duration": 7,
    "start_time": "2022-02-06T15:12:21.087Z"
   },
   {
    "duration": 391,
    "start_time": "2022-02-06T15:12:21.096Z"
   },
   {
    "duration": 306,
    "start_time": "2022-02-06T15:12:21.492Z"
   },
   {
    "duration": 375,
    "start_time": "2022-02-06T15:12:21.801Z"
   },
   {
    "duration": 331,
    "start_time": "2022-02-06T15:12:22.178Z"
   },
   {
    "duration": 330,
    "start_time": "2022-02-06T15:12:22.511Z"
   },
   {
    "duration": 6,
    "start_time": "2022-02-06T15:12:22.848Z"
   },
   {
    "duration": 20,
    "start_time": "2022-02-06T15:12:22.856Z"
   },
   {
    "duration": 14,
    "start_time": "2022-02-06T15:12:22.878Z"
   },
   {
    "duration": 53,
    "start_time": "2022-02-06T15:12:22.895Z"
   },
   {
    "duration": 21,
    "start_time": "2022-02-06T15:12:22.950Z"
   },
   {
    "duration": 22,
    "start_time": "2022-02-06T15:12:22.973Z"
   },
   {
    "duration": 31,
    "start_time": "2022-02-06T15:12:22.997Z"
   },
   {
    "duration": 25,
    "start_time": "2022-02-06T15:12:23.030Z"
   },
   {
    "duration": 107,
    "start_time": "2022-02-06T15:12:23.057Z"
   },
   {
    "duration": 6,
    "start_time": "2022-02-06T15:12:51.022Z"
   },
   {
    "duration": 10,
    "start_time": "2022-02-06T15:13:01.414Z"
   },
   {
    "duration": 10,
    "start_time": "2022-02-06T15:13:56.135Z"
   },
   {
    "duration": 375,
    "start_time": "2022-02-06T15:14:28.046Z"
   },
   {
    "duration": 300,
    "start_time": "2022-02-06T15:14:39.022Z"
   },
   {
    "duration": 97,
    "start_time": "2022-02-06T15:14:56.832Z"
   },
   {
    "duration": 9,
    "start_time": "2022-02-06T15:15:22.639Z"
   },
   {
    "duration": 355,
    "start_time": "2022-02-06T15:15:54.392Z"
   },
   {
    "duration": 338,
    "start_time": "2022-02-06T15:16:01.320Z"
   },
   {
    "duration": 10,
    "start_time": "2022-02-06T15:16:07.673Z"
   },
   {
    "duration": 12,
    "start_time": "2022-02-06T15:16:37.368Z"
   },
   {
    "duration": 334,
    "start_time": "2022-02-06T15:18:24.730Z"
   },
   {
    "duration": 818,
    "start_time": "2022-02-06T15:20:38.825Z"
   },
   {
    "duration": 71,
    "start_time": "2022-02-06T15:20:39.645Z"
   },
   {
    "duration": 117,
    "start_time": "2022-02-06T15:20:39.720Z"
   },
   {
    "duration": 14,
    "start_time": "2022-02-06T15:20:39.848Z"
   },
   {
    "duration": 12,
    "start_time": "2022-02-06T15:20:39.865Z"
   },
   {
    "duration": 39,
    "start_time": "2022-02-06T15:20:39.879Z"
   },
   {
    "duration": 3773,
    "start_time": "2022-02-06T15:20:39.920Z"
   },
   {
    "duration": 3928,
    "start_time": "2022-02-06T15:20:43.697Z"
   },
   {
    "duration": 20,
    "start_time": "2022-02-06T15:20:47.628Z"
   },
   {
    "duration": 22,
    "start_time": "2022-02-06T15:20:47.651Z"
   },
   {
    "duration": 37613,
    "start_time": "2022-02-06T15:20:47.675Z"
   },
   {
    "duration": 10,
    "start_time": "2022-02-06T15:21:25.293Z"
   },
   {
    "duration": 10,
    "start_time": "2022-02-06T15:21:25.306Z"
   },
   {
    "duration": 13,
    "start_time": "2022-02-06T15:21:25.319Z"
   },
   {
    "duration": 15,
    "start_time": "2022-02-06T15:21:25.334Z"
   },
   {
    "duration": 65,
    "start_time": "2022-02-06T15:21:25.351Z"
   },
   {
    "duration": 11,
    "start_time": "2022-02-06T15:21:25.419Z"
   },
   {
    "duration": 203,
    "start_time": "2022-02-06T15:21:25.450Z"
   },
   {
    "duration": 5627,
    "start_time": "2022-02-06T15:21:25.656Z"
   },
   {
    "duration": 7,
    "start_time": "2022-02-06T15:21:31.286Z"
   },
   {
    "duration": 389,
    "start_time": "2022-02-06T15:21:31.295Z"
   },
   {
    "duration": 299,
    "start_time": "2022-02-06T15:21:31.687Z"
   },
   {
    "duration": 363,
    "start_time": "2022-02-06T15:21:31.991Z"
   },
   {
    "duration": 422,
    "start_time": "2022-02-06T15:21:32.357Z"
   },
   {
    "duration": 339,
    "start_time": "2022-02-06T15:21:32.781Z"
   },
   {
    "duration": 7,
    "start_time": "2022-02-06T15:21:33.122Z"
   },
   {
    "duration": 22,
    "start_time": "2022-02-06T15:21:33.131Z"
   },
   {
    "duration": 3,
    "start_time": "2022-02-06T15:21:33.155Z"
   },
   {
    "duration": 44,
    "start_time": "2022-02-06T15:21:33.161Z"
   },
   {
    "duration": 49,
    "start_time": "2022-02-06T15:21:33.208Z"
   },
   {
    "duration": 24,
    "start_time": "2022-02-06T15:21:33.259Z"
   },
   {
    "duration": 25,
    "start_time": "2022-02-06T15:21:33.286Z"
   },
   {
    "duration": 43,
    "start_time": "2022-02-06T15:21:33.313Z"
   },
   {
    "duration": 122,
    "start_time": "2022-02-06T15:21:33.359Z"
   },
   {
    "duration": 718,
    "start_time": "2022-02-06T15:34:13.835Z"
   },
   {
    "duration": 633,
    "start_time": "2022-02-06T15:40:00.529Z"
   },
   {
    "duration": 8195,
    "start_time": "2022-02-06T15:42:13.628Z"
   },
   {
    "duration": 321,
    "start_time": "2022-02-06T15:44:50.821Z"
   },
   {
    "duration": 126,
    "start_time": "2022-02-06T15:45:22.566Z"
   },
   {
    "duration": 492,
    "start_time": "2022-02-06T15:45:27.034Z"
   },
   {
    "duration": 868,
    "start_time": "2022-02-06T15:46:08.712Z"
   },
   {
    "duration": 389,
    "start_time": "2022-02-06T15:54:07.187Z"
   },
   {
    "duration": 380,
    "start_time": "2022-02-06T15:55:14.085Z"
   },
   {
    "duration": 20,
    "start_time": "2022-02-06T15:55:21.444Z"
   },
   {
    "duration": 473,
    "start_time": "2022-02-06T15:56:17.261Z"
   },
   {
    "duration": 434,
    "start_time": "2022-02-06T15:57:12.097Z"
   },
   {
    "duration": 543,
    "start_time": "2022-02-06T15:57:42.377Z"
   },
   {
    "duration": 8001,
    "start_time": "2022-02-06T16:02:09.275Z"
   },
   {
    "duration": 7425,
    "start_time": "2022-02-06T16:03:45.350Z"
   },
   {
    "duration": 10,
    "start_time": "2022-02-06T16:04:30.088Z"
   },
   {
    "duration": 625,
    "start_time": "2022-02-06T16:04:50.397Z"
   },
   {
    "duration": 9,
    "start_time": "2022-02-06T16:05:49.464Z"
   },
   {
    "duration": 12,
    "start_time": "2022-02-06T16:05:52.967Z"
   },
   {
    "duration": 15,
    "start_time": "2022-02-06T16:06:02.510Z"
   },
   {
    "duration": 281,
    "start_time": "2022-02-06T16:07:22.593Z"
   },
   {
    "duration": 374,
    "start_time": "2022-02-06T16:10:01.971Z"
   },
   {
    "duration": 287,
    "start_time": "2022-02-06T16:10:14.165Z"
   },
   {
    "duration": 386,
    "start_time": "2022-02-06T16:16:32.220Z"
   },
   {
    "duration": 308,
    "start_time": "2022-02-06T16:18:59.829Z"
   },
   {
    "duration": 11,
    "start_time": "2022-02-06T16:19:45.556Z"
   },
   {
    "duration": 663,
    "start_time": "2022-02-06T16:21:47.327Z"
   },
   {
    "duration": 287,
    "start_time": "2022-02-06T16:22:29.160Z"
   },
   {
    "duration": 292,
    "start_time": "2022-02-06T16:22:34.735Z"
   },
   {
    "duration": 329,
    "start_time": "2022-02-06T16:23:13.504Z"
   },
   {
    "duration": 25304,
    "start_time": "2022-02-06T16:23:30.977Z"
   },
   {
    "duration": 284,
    "start_time": "2022-02-06T16:25:33.369Z"
   },
   {
    "duration": 326,
    "start_time": "2022-02-06T16:26:42.019Z"
   },
   {
    "duration": 7938,
    "start_time": "2022-02-06T16:27:16.851Z"
   },
   {
    "duration": 2505,
    "start_time": "2022-02-06T16:27:46.989Z"
   },
   {
    "duration": 8506,
    "start_time": "2022-02-06T16:27:59.042Z"
   },
   {
    "duration": 462,
    "start_time": "2022-02-06T16:30:47.334Z"
   },
   {
    "duration": 205,
    "start_time": "2022-02-06T16:31:48.693Z"
   },
   {
    "duration": 418,
    "start_time": "2022-02-06T16:32:19.219Z"
   },
   {
    "duration": 386,
    "start_time": "2022-02-06T16:32:49.643Z"
   },
   {
    "duration": 1525,
    "start_time": "2022-02-06T16:33:29.888Z"
   },
   {
    "duration": 401,
    "start_time": "2022-02-06T16:34:04.124Z"
   },
   {
    "duration": 380,
    "start_time": "2022-02-06T16:34:38.954Z"
   },
   {
    "duration": 426,
    "start_time": "2022-02-06T16:35:02.739Z"
   },
   {
    "duration": 405,
    "start_time": "2022-02-06T16:35:59.419Z"
   },
   {
    "duration": 432,
    "start_time": "2022-02-06T16:36:40.901Z"
   },
   {
    "duration": 388,
    "start_time": "2022-02-06T16:36:55.196Z"
   },
   {
    "duration": 382,
    "start_time": "2022-02-06T16:37:55.141Z"
   },
   {
    "duration": 384,
    "start_time": "2022-02-06T16:38:41.165Z"
   },
   {
    "duration": 112,
    "start_time": "2022-02-06T16:39:14.670Z"
   },
   {
    "duration": 286,
    "start_time": "2022-02-06T16:39:43.927Z"
   },
   {
    "duration": 117,
    "start_time": "2022-02-06T16:39:46.635Z"
   },
   {
    "duration": 114,
    "start_time": "2022-02-06T16:40:25.311Z"
   },
   {
    "duration": 289,
    "start_time": "2022-02-06T16:40:28.855Z"
   },
   {
    "duration": 115,
    "start_time": "2022-02-06T16:40:31.495Z"
   },
   {
    "duration": 516,
    "start_time": "2022-02-06T16:44:59.330Z"
   },
   {
    "duration": 190,
    "start_time": "2022-02-06T16:45:52.981Z"
   },
   {
    "duration": 376,
    "start_time": "2022-02-06T16:45:56.611Z"
   },
   {
    "duration": 120,
    "start_time": "2022-02-06T16:45:59.028Z"
   },
   {
    "duration": 338,
    "start_time": "2022-02-06T16:48:01.557Z"
   },
   {
    "duration": 120,
    "start_time": "2022-02-06T16:48:34.273Z"
   },
   {
    "duration": 305,
    "start_time": "2022-02-06T16:48:38.261Z"
   },
   {
    "duration": 113,
    "start_time": "2022-02-06T16:48:40.494Z"
   },
   {
    "duration": 381,
    "start_time": "2022-02-06T16:49:09.390Z"
   },
   {
    "duration": 334,
    "start_time": "2022-02-06T16:49:27.047Z"
   },
   {
    "duration": 406,
    "start_time": "2022-02-06T16:49:30.079Z"
   },
   {
    "duration": 115,
    "start_time": "2022-02-06T16:50:34.721Z"
   },
   {
    "duration": 734,
    "start_time": "2022-02-06T16:50:56.080Z"
   },
   {
    "duration": 475,
    "start_time": "2022-02-06T17:23:55.797Z"
   },
   {
    "duration": 382,
    "start_time": "2022-02-06T17:26:47.720Z"
   },
   {
    "duration": 392,
    "start_time": "2022-02-06T17:27:33.538Z"
   },
   {
    "duration": 373,
    "start_time": "2022-02-06T17:28:37.969Z"
   },
   {
    "duration": 383,
    "start_time": "2022-02-06T17:28:58.025Z"
   },
   {
    "duration": 405,
    "start_time": "2022-02-06T17:29:58.484Z"
   },
   {
    "duration": 495,
    "start_time": "2022-02-06T17:31:01.788Z"
   },
   {
    "duration": 412,
    "start_time": "2022-02-06T17:31:22.260Z"
   },
   {
    "duration": 409,
    "start_time": "2022-02-06T17:31:44.316Z"
   },
   {
    "duration": 585,
    "start_time": "2022-02-06T17:32:08.926Z"
   },
   {
    "duration": 406,
    "start_time": "2022-02-06T17:33:40.822Z"
   },
   {
    "duration": 421,
    "start_time": "2022-02-06T17:33:45.646Z"
   },
   {
    "duration": 409,
    "start_time": "2022-02-06T17:33:49.152Z"
   },
   {
    "duration": 341,
    "start_time": "2022-02-06T17:36:42.140Z"
   },
   {
    "duration": 788,
    "start_time": "2022-02-06T17:36:58.398Z"
   },
   {
    "duration": 70,
    "start_time": "2022-02-06T17:36:59.188Z"
   },
   {
    "duration": 120,
    "start_time": "2022-02-06T17:36:59.261Z"
   },
   {
    "duration": 15,
    "start_time": "2022-02-06T17:36:59.383Z"
   },
   {
    "duration": 11,
    "start_time": "2022-02-06T17:36:59.401Z"
   },
   {
    "duration": 55,
    "start_time": "2022-02-06T17:36:59.414Z"
   },
   {
    "duration": 3777,
    "start_time": "2022-02-06T17:36:59.471Z"
   },
   {
    "duration": 3896,
    "start_time": "2022-02-06T17:37:03.252Z"
   },
   {
    "duration": 3,
    "start_time": "2022-02-06T17:37:07.152Z"
   },
   {
    "duration": 30,
    "start_time": "2022-02-06T17:37:07.157Z"
   },
   {
    "duration": 36382,
    "start_time": "2022-02-06T17:37:07.190Z"
   },
   {
    "duration": 5,
    "start_time": "2022-02-06T17:37:43.575Z"
   },
   {
    "duration": 5,
    "start_time": "2022-02-06T17:37:43.583Z"
   },
   {
    "duration": 14,
    "start_time": "2022-02-06T17:37:43.591Z"
   },
   {
    "duration": 2,
    "start_time": "2022-02-06T17:37:43.608Z"
   },
   {
    "duration": 94,
    "start_time": "2022-02-06T17:37:43.612Z"
   },
   {
    "duration": 6,
    "start_time": "2022-02-06T17:37:43.708Z"
   },
   {
    "duration": 210,
    "start_time": "2022-02-06T17:37:43.717Z"
   },
   {
    "duration": 5498,
    "start_time": "2022-02-06T17:37:43.929Z"
   },
   {
    "duration": 6,
    "start_time": "2022-02-06T17:37:49.430Z"
   },
   {
    "duration": 358,
    "start_time": "2022-02-06T17:37:49.449Z"
   },
   {
    "duration": 288,
    "start_time": "2022-02-06T17:37:49.809Z"
   },
   {
    "duration": 358,
    "start_time": "2022-02-06T17:37:50.102Z"
   },
   {
    "duration": 301,
    "start_time": "2022-02-06T17:37:50.462Z"
   },
   {
    "duration": 321,
    "start_time": "2022-02-06T17:37:50.766Z"
   },
   {
    "duration": 7,
    "start_time": "2022-02-06T17:37:51.089Z"
   },
   {
    "duration": 8,
    "start_time": "2022-02-06T17:37:51.100Z"
   },
   {
    "duration": 39,
    "start_time": "2022-02-06T17:37:51.110Z"
   },
   {
    "duration": 51,
    "start_time": "2022-02-06T17:37:51.153Z"
   },
   {
    "duration": 41,
    "start_time": "2022-02-06T17:37:51.207Z"
   },
   {
    "duration": 23,
    "start_time": "2022-02-06T17:37:51.250Z"
   },
   {
    "duration": 21,
    "start_time": "2022-02-06T17:37:51.275Z"
   },
   {
    "duration": 9,
    "start_time": "2022-02-06T17:37:51.299Z"
   },
   {
    "duration": 357,
    "start_time": "2022-02-06T17:37:51.310Z"
   },
   {
    "duration": 173,
    "start_time": "2022-02-06T17:37:51.669Z"
   },
   {
    "duration": 7119,
    "start_time": "2022-02-06T17:48:51.528Z"
   },
   {
    "duration": 8596,
    "start_time": "2022-02-06T17:49:05.273Z"
   },
   {
    "duration": 417,
    "start_time": "2022-02-06T17:49:33.241Z"
   },
   {
    "duration": 427,
    "start_time": "2022-02-06T17:51:35.403Z"
   },
   {
    "duration": 141,
    "start_time": "2022-02-06T17:52:53.716Z"
   },
   {
    "duration": 328,
    "start_time": "2022-02-06T17:54:43.941Z"
   },
   {
    "duration": 174,
    "start_time": "2022-02-06T17:54:46.842Z"
   },
   {
    "duration": 156,
    "start_time": "2022-02-06T17:55:45.926Z"
   },
   {
    "duration": 345,
    "start_time": "2022-02-06T17:55:51.262Z"
   },
   {
    "duration": 190,
    "start_time": "2022-02-06T17:55:53.702Z"
   },
   {
    "duration": 107,
    "start_time": "2022-02-06T18:16:59.169Z"
   },
   {
    "duration": 297,
    "start_time": "2022-02-06T18:18:00.139Z"
   },
   {
    "duration": 293,
    "start_time": "2022-02-06T18:19:14.252Z"
   },
   {
    "duration": 460,
    "start_time": "2022-02-06T18:19:26.804Z"
   },
   {
    "duration": 290,
    "start_time": "2022-02-06T18:20:44.470Z"
   },
   {
    "duration": 5,
    "start_time": "2022-02-06T18:21:09.398Z"
   },
   {
    "duration": 4,
    "start_time": "2022-02-06T18:21:17.420Z"
   },
   {
    "duration": 291,
    "start_time": "2022-02-06T18:21:27.292Z"
   },
   {
    "duration": 287,
    "start_time": "2022-02-06T18:22:56.614Z"
   },
   {
    "duration": 8430,
    "start_time": "2022-02-06T18:32:15.239Z"
   },
   {
    "duration": 7397,
    "start_time": "2022-02-06T18:35:21.340Z"
   },
   {
    "duration": 4494,
    "start_time": "2022-02-06T18:38:40.597Z"
   },
   {
    "duration": 5,
    "start_time": "2022-02-06T18:41:47.339Z"
   },
   {
    "duration": 284,
    "start_time": "2022-02-06T18:44:05.915Z"
   },
   {
    "duration": 81247,
    "start_time": "2022-02-06T18:45:18.291Z"
   },
   {
    "duration": 80970,
    "start_time": "2022-02-06T18:47:40.174Z"
   },
   {
    "duration": 302,
    "start_time": "2022-02-06T18:51:30.472Z"
   },
   {
    "duration": 2860,
    "start_time": "2022-02-06T18:51:55.288Z"
   },
   {
    "duration": 292,
    "start_time": "2022-02-06T18:57:07.590Z"
   },
   {
    "duration": 1138,
    "start_time": "2022-02-06T18:58:30.127Z"
   },
   {
    "duration": 522,
    "start_time": "2022-02-06T18:58:41.015Z"
   },
   {
    "duration": 496,
    "start_time": "2022-02-06T18:58:54.759Z"
   },
   {
    "duration": 1594,
    "start_time": "2022-02-06T18:59:11.656Z"
   },
   {
    "duration": 85100,
    "start_time": "2022-02-06T18:59:31.073Z"
   },
   {
    "duration": 2417,
    "start_time": "2022-02-06T19:14:32.670Z"
   },
   {
    "duration": 2742,
    "start_time": "2022-02-06T19:14:54.830Z"
   },
   {
    "duration": 315,
    "start_time": "2022-02-06T19:15:58.520Z"
   },
   {
    "duration": 469,
    "start_time": "2022-02-06T19:16:40.208Z"
   },
   {
    "duration": 305,
    "start_time": "2022-02-06T19:16:59.407Z"
   },
   {
    "duration": 319,
    "start_time": "2022-02-06T19:17:32.848Z"
   },
   {
    "duration": 364,
    "start_time": "2022-02-06T19:18:32.505Z"
   },
   {
    "duration": 276,
    "start_time": "2022-02-06T19:18:56.104Z"
   },
   {
    "duration": 268,
    "start_time": "2022-02-06T19:19:28.938Z"
   },
   {
    "duration": 277,
    "start_time": "2022-02-06T19:19:51.594Z"
   },
   {
    "duration": 313,
    "start_time": "2022-02-06T19:20:56.882Z"
   },
   {
    "duration": 502,
    "start_time": "2022-02-06T19:25:30.568Z"
   },
   {
    "duration": 3010,
    "start_time": "2022-02-06T19:30:09.422Z"
   },
   {
    "duration": 279,
    "start_time": "2022-02-06T19:30:17.692Z"
   },
   {
    "duration": 362,
    "start_time": "2022-02-06T19:32:04.806Z"
   },
   {
    "duration": 79,
    "start_time": "2022-02-06T19:34:08.168Z"
   },
   {
    "duration": 4421,
    "start_time": "2022-02-06T19:34:20.459Z"
   },
   {
    "duration": 380,
    "start_time": "2022-02-06T19:34:58.888Z"
   },
   {
    "duration": 4826,
    "start_time": "2022-02-06T19:35:13.016Z"
   },
   {
    "duration": 159,
    "start_time": "2022-02-06T19:35:30.505Z"
   },
   {
    "duration": 447,
    "start_time": "2022-02-06T19:35:56.368Z"
   },
   {
    "duration": 8,
    "start_time": "2022-02-06T19:36:22.449Z"
   },
   {
    "duration": 267,
    "start_time": "2022-02-06T19:36:29.233Z"
   },
   {
    "duration": 369,
    "start_time": "2022-02-06T19:38:17.759Z"
   },
   {
    "duration": 394,
    "start_time": "2022-02-06T19:38:24.463Z"
   },
   {
    "duration": 366,
    "start_time": "2022-02-06T19:38:35.340Z"
   },
   {
    "duration": 365,
    "start_time": "2022-02-07T06:07:41.735Z"
   },
   {
    "duration": 803,
    "start_time": "2022-02-07T06:09:04.494Z"
   },
   {
    "duration": 73,
    "start_time": "2022-02-07T06:09:05.299Z"
   },
   {
    "duration": 115,
    "start_time": "2022-02-07T06:09:05.375Z"
   },
   {
    "duration": 14,
    "start_time": "2022-02-07T06:09:05.493Z"
   },
   {
    "duration": 12,
    "start_time": "2022-02-07T06:09:05.510Z"
   },
   {
    "duration": 30,
    "start_time": "2022-02-07T06:09:05.549Z"
   },
   {
    "duration": 3631,
    "start_time": "2022-02-07T06:09:05.582Z"
   },
   {
    "duration": 3737,
    "start_time": "2022-02-07T06:09:09.217Z"
   },
   {
    "duration": 3,
    "start_time": "2022-02-07T06:09:12.957Z"
   },
   {
    "duration": 21,
    "start_time": "2022-02-07T06:09:12.963Z"
   },
   {
    "duration": 34764,
    "start_time": "2022-02-07T06:09:12.986Z"
   },
   {
    "duration": 5,
    "start_time": "2022-02-07T06:09:47.753Z"
   },
   {
    "duration": 7,
    "start_time": "2022-02-07T06:09:47.760Z"
   },
   {
    "duration": 15,
    "start_time": "2022-02-07T06:09:47.769Z"
   },
   {
    "duration": 3,
    "start_time": "2022-02-07T06:09:47.786Z"
   },
   {
    "duration": 89,
    "start_time": "2022-02-07T06:09:47.792Z"
   },
   {
    "duration": 6,
    "start_time": "2022-02-07T06:09:47.883Z"
   },
   {
    "duration": 205,
    "start_time": "2022-02-07T06:09:47.891Z"
   },
   {
    "duration": 5331,
    "start_time": "2022-02-07T06:09:48.098Z"
   },
   {
    "duration": 16,
    "start_time": "2022-02-07T06:09:53.432Z"
   },
   {
    "duration": 4470,
    "start_time": "2022-02-07T06:09:53.451Z"
   },
   {
    "duration": 330,
    "start_time": "2022-02-07T06:09:57.924Z"
   },
   {
    "duration": 6,
    "start_time": "2022-02-07T06:09:58.259Z"
   },
   {
    "duration": 12,
    "start_time": "2022-02-07T06:09:58.268Z"
   },
   {
    "duration": 782,
    "start_time": "2022-02-07T06:09:58.282Z"
   },
   {
    "duration": -62,
    "start_time": "2022-02-07T06:09:59.129Z"
   },
   {
    "duration": -65,
    "start_time": "2022-02-07T06:09:59.133Z"
   },
   {
    "duration": -67,
    "start_time": "2022-02-07T06:09:59.137Z"
   },
   {
    "duration": -70,
    "start_time": "2022-02-07T06:09:59.141Z"
   },
   {
    "duration": -70,
    "start_time": "2022-02-07T06:09:59.143Z"
   },
   {
    "duration": -72,
    "start_time": "2022-02-07T06:09:59.146Z"
   },
   {
    "duration": -72,
    "start_time": "2022-02-07T06:09:59.148Z"
   },
   {
    "duration": -73,
    "start_time": "2022-02-07T06:09:59.151Z"
   },
   {
    "duration": -74,
    "start_time": "2022-02-07T06:09:59.153Z"
   },
   {
    "duration": 27,
    "start_time": "2022-02-07T06:13:38.019Z"
   },
   {
    "duration": 52343,
    "start_time": "2022-02-07T06:14:05.552Z"
   },
   {
    "duration": 34,
    "start_time": "2022-02-07T06:14:57.898Z"
   },
   {
    "duration": 52710,
    "start_time": "2022-02-07T06:15:03.226Z"
   },
   {
    "duration": 290,
    "start_time": "2022-02-07T06:16:26.660Z"
   },
   {
    "duration": 10,
    "start_time": "2022-02-07T06:16:26.953Z"
   },
   {
    "duration": 9,
    "start_time": "2022-02-07T06:16:38.574Z"
   },
   {
    "duration": 11,
    "start_time": "2022-02-07T06:16:39.804Z"
   },
   {
    "duration": 724,
    "start_time": "2022-02-07T06:17:01.245Z"
   },
   {
    "duration": 459,
    "start_time": "2022-02-07T06:18:12.854Z"
   },
   {
    "duration": 427,
    "start_time": "2022-02-07T06:18:38.208Z"
   },
   {
    "duration": 379,
    "start_time": "2022-02-07T06:19:01.144Z"
   },
   {
    "duration": 456,
    "start_time": "2022-02-07T06:19:08.768Z"
   },
   {
    "duration": 338,
    "start_time": "2022-02-07T06:19:44.794Z"
   },
   {
    "duration": 577,
    "start_time": "2022-02-07T06:19:50.196Z"
   },
   {
    "duration": 290,
    "start_time": "2022-02-07T06:20:24.194Z"
   },
   {
    "duration": 322,
    "start_time": "2022-02-07T06:20:30.259Z"
   },
   {
    "duration": 22,
    "start_time": "2022-02-07T06:20:46.842Z"
   },
   {
    "duration": 314,
    "start_time": "2022-02-07T06:20:50.186Z"
   },
   {
    "duration": 294,
    "start_time": "2022-02-07T06:21:25.643Z"
   },
   {
    "duration": 324,
    "start_time": "2022-02-07T06:21:33.730Z"
   },
   {
    "duration": 24,
    "start_time": "2022-02-07T06:22:10.108Z"
   },
   {
    "duration": 350,
    "start_time": "2022-02-07T06:22:26.436Z"
   },
   {
    "duration": 6,
    "start_time": "2022-02-07T06:23:37.683Z"
   },
   {
    "duration": 346,
    "start_time": "2022-02-07T06:24:13.009Z"
   },
   {
    "duration": 385,
    "start_time": "2022-02-07T06:24:21.020Z"
   },
   {
    "duration": 477,
    "start_time": "2022-02-07T06:25:27.093Z"
   },
   {
    "duration": 1715,
    "start_time": "2022-02-07T06:26:25.287Z"
   },
   {
    "duration": 847,
    "start_time": "2022-02-07T06:26:51.180Z"
   },
   {
    "duration": 97,
    "start_time": "2022-02-07T06:26:52.030Z"
   },
   {
    "duration": 170,
    "start_time": "2022-02-07T06:26:52.131Z"
   },
   {
    "duration": 21,
    "start_time": "2022-02-07T06:26:52.304Z"
   },
   {
    "duration": 32,
    "start_time": "2022-02-07T06:26:52.329Z"
   },
   {
    "duration": 536,
    "start_time": "2022-02-07T06:26:52.364Z"
   },
   {
    "duration": -100,
    "start_time": "2022-02-07T06:26:53.004Z"
   },
   {
    "duration": -116,
    "start_time": "2022-02-07T06:26:53.022Z"
   },
   {
    "duration": -169,
    "start_time": "2022-02-07T06:26:53.076Z"
   },
   {
    "duration": -171,
    "start_time": "2022-02-07T06:26:53.079Z"
   },
   {
    "duration": -172,
    "start_time": "2022-02-07T06:26:53.082Z"
   },
   {
    "duration": -173,
    "start_time": "2022-02-07T06:26:53.084Z"
   },
   {
    "duration": -174,
    "start_time": "2022-02-07T06:26:53.087Z"
   },
   {
    "duration": -180,
    "start_time": "2022-02-07T06:26:53.094Z"
   },
   {
    "duration": -180,
    "start_time": "2022-02-07T06:26:53.096Z"
   },
   {
    "duration": -181,
    "start_time": "2022-02-07T06:26:53.099Z"
   },
   {
    "duration": -182,
    "start_time": "2022-02-07T06:26:53.103Z"
   },
   {
    "duration": -188,
    "start_time": "2022-02-07T06:26:53.111Z"
   },
   {
    "duration": -190,
    "start_time": "2022-02-07T06:26:53.115Z"
   },
   {
    "duration": -192,
    "start_time": "2022-02-07T06:26:53.119Z"
   },
   {
    "duration": -195,
    "start_time": "2022-02-07T06:26:53.124Z"
   },
   {
    "duration": -196,
    "start_time": "2022-02-07T06:26:53.127Z"
   },
   {
    "duration": -197,
    "start_time": "2022-02-07T06:26:53.130Z"
   },
   {
    "duration": -185,
    "start_time": "2022-02-07T06:26:53.133Z"
   },
   {
    "duration": -186,
    "start_time": "2022-02-07T06:26:53.136Z"
   },
   {
    "duration": -191,
    "start_time": "2022-02-07T06:26:53.142Z"
   },
   {
    "duration": -194,
    "start_time": "2022-02-07T06:26:53.146Z"
   },
   {
    "duration": -195,
    "start_time": "2022-02-07T06:26:53.149Z"
   },
   {
    "duration": -198,
    "start_time": "2022-02-07T06:26:53.153Z"
   },
   {
    "duration": -199,
    "start_time": "2022-02-07T06:26:53.156Z"
   },
   {
    "duration": -201,
    "start_time": "2022-02-07T06:26:53.159Z"
   },
   {
    "duration": -202,
    "start_time": "2022-02-07T06:26:53.162Z"
   },
   {
    "duration": -204,
    "start_time": "2022-02-07T06:26:53.165Z"
   },
   {
    "duration": -205,
    "start_time": "2022-02-07T06:26:53.167Z"
   },
   {
    "duration": 458,
    "start_time": "2022-02-07T06:27:13.621Z"
   },
   {
    "duration": 907,
    "start_time": "2022-02-07T06:27:27.333Z"
   },
   {
    "duration": 71,
    "start_time": "2022-02-07T06:27:28.243Z"
   },
   {
    "duration": 124,
    "start_time": "2022-02-07T06:27:28.318Z"
   },
   {
    "duration": 17,
    "start_time": "2022-02-07T06:27:28.449Z"
   },
   {
    "duration": 12,
    "start_time": "2022-02-07T06:27:28.469Z"
   },
   {
    "duration": 514,
    "start_time": "2022-02-07T06:27:28.483Z"
   },
   {
    "duration": -113,
    "start_time": "2022-02-07T06:27:29.115Z"
   },
   {
    "duration": -114,
    "start_time": "2022-02-07T06:27:29.118Z"
   },
   {
    "duration": -116,
    "start_time": "2022-02-07T06:27:29.122Z"
   },
   {
    "duration": -117,
    "start_time": "2022-02-07T06:27:29.125Z"
   },
   {
    "duration": -118,
    "start_time": "2022-02-07T06:27:29.128Z"
   },
   {
    "duration": -119,
    "start_time": "2022-02-07T06:27:29.131Z"
   },
   {
    "duration": -121,
    "start_time": "2022-02-07T06:27:29.134Z"
   },
   {
    "duration": -123,
    "start_time": "2022-02-07T06:27:29.137Z"
   },
   {
    "duration": -125,
    "start_time": "2022-02-07T06:27:29.140Z"
   },
   {
    "duration": -127,
    "start_time": "2022-02-07T06:27:29.143Z"
   },
   {
    "duration": -128,
    "start_time": "2022-02-07T06:27:29.146Z"
   },
   {
    "duration": -130,
    "start_time": "2022-02-07T06:27:29.149Z"
   },
   {
    "duration": -132,
    "start_time": "2022-02-07T06:27:29.152Z"
   },
   {
    "duration": -136,
    "start_time": "2022-02-07T06:27:29.157Z"
   },
   {
    "duration": -138,
    "start_time": "2022-02-07T06:27:29.161Z"
   },
   {
    "duration": -142,
    "start_time": "2022-02-07T06:27:29.166Z"
   },
   {
    "duration": -169,
    "start_time": "2022-02-07T06:27:29.195Z"
   },
   {
    "duration": -173,
    "start_time": "2022-02-07T06:27:29.201Z"
   },
   {
    "duration": -174,
    "start_time": "2022-02-07T06:27:29.204Z"
   },
   {
    "duration": -176,
    "start_time": "2022-02-07T06:27:29.207Z"
   },
   {
    "duration": -161,
    "start_time": "2022-02-07T06:27:29.209Z"
   },
   {
    "duration": -161,
    "start_time": "2022-02-07T06:27:29.211Z"
   },
   {
    "duration": -162,
    "start_time": "2022-02-07T06:27:29.214Z"
   },
   {
    "duration": -161,
    "start_time": "2022-02-07T06:27:29.216Z"
   },
   {
    "duration": -162,
    "start_time": "2022-02-07T06:27:29.219Z"
   },
   {
    "duration": -163,
    "start_time": "2022-02-07T06:27:29.222Z"
   },
   {
    "duration": -164,
    "start_time": "2022-02-07T06:27:29.225Z"
   },
   {
    "duration": -164,
    "start_time": "2022-02-07T06:27:29.227Z"
   },
   {
    "duration": 1096,
    "start_time": "2022-02-07T06:27:57.016Z"
   },
   {
    "duration": 75,
    "start_time": "2022-02-07T06:27:58.115Z"
   },
   {
    "duration": 122,
    "start_time": "2022-02-07T06:27:58.194Z"
   },
   {
    "duration": 29,
    "start_time": "2022-02-07T06:27:58.319Z"
   },
   {
    "duration": 15,
    "start_time": "2022-02-07T06:27:58.350Z"
   },
   {
    "duration": 749,
    "start_time": "2022-02-07T06:27:58.368Z"
   },
   {
    "duration": -93,
    "start_time": "2022-02-07T06:27:59.214Z"
   },
   {
    "duration": -106,
    "start_time": "2022-02-07T06:27:59.228Z"
   },
   {
    "duration": -107,
    "start_time": "2022-02-07T06:27:59.231Z"
   },
   {
    "duration": -109,
    "start_time": "2022-02-07T06:27:59.234Z"
   },
   {
    "duration": -111,
    "start_time": "2022-02-07T06:27:59.237Z"
   },
   {
    "duration": -118,
    "start_time": "2022-02-07T06:27:59.246Z"
   },
   {
    "duration": -119,
    "start_time": "2022-02-07T06:27:59.249Z"
   },
   {
    "duration": -120,
    "start_time": "2022-02-07T06:27:59.252Z"
   },
   {
    "duration": -127,
    "start_time": "2022-02-07T06:27:59.260Z"
   },
   {
    "duration": -128,
    "start_time": "2022-02-07T06:27:59.263Z"
   },
   {
    "duration": -128,
    "start_time": "2022-02-07T06:27:59.265Z"
   },
   {
    "duration": -130,
    "start_time": "2022-02-07T06:27:59.268Z"
   },
   {
    "duration": -137,
    "start_time": "2022-02-07T06:27:59.277Z"
   },
   {
    "duration": -138,
    "start_time": "2022-02-07T06:27:59.280Z"
   },
   {
    "duration": -140,
    "start_time": "2022-02-07T06:27:59.283Z"
   },
   {
    "duration": -141,
    "start_time": "2022-02-07T06:27:59.286Z"
   },
   {
    "duration": -150,
    "start_time": "2022-02-07T06:27:59.296Z"
   },
   {
    "duration": -153,
    "start_time": "2022-02-07T06:27:59.301Z"
   },
   {
    "duration": -162,
    "start_time": "2022-02-07T06:27:59.311Z"
   },
   {
    "duration": -165,
    "start_time": "2022-02-07T06:27:59.316Z"
   },
   {
    "duration": -168,
    "start_time": "2022-02-07T06:27:59.321Z"
   },
   {
    "duration": -175,
    "start_time": "2022-02-07T06:27:59.329Z"
   },
   {
    "duration": -179,
    "start_time": "2022-02-07T06:27:59.335Z"
   },
   {
    "duration": -187,
    "start_time": "2022-02-07T06:27:59.345Z"
   },
   {
    "duration": -192,
    "start_time": "2022-02-07T06:27:59.351Z"
   },
   {
    "duration": -193,
    "start_time": "2022-02-07T06:27:59.354Z"
   },
   {
    "duration": -202,
    "start_time": "2022-02-07T06:27:59.364Z"
   },
   {
    "duration": -207,
    "start_time": "2022-02-07T06:27:59.371Z"
   },
   {
    "duration": 503,
    "start_time": "2022-02-07T06:28:18.476Z"
   },
   {
    "duration": 27,
    "start_time": "2022-02-07T06:29:10.463Z"
   },
   {
    "duration": 929,
    "start_time": "2022-02-07T06:29:23.078Z"
   },
   {
    "duration": 74,
    "start_time": "2022-02-07T06:29:24.010Z"
   },
   {
    "duration": 120,
    "start_time": "2022-02-07T06:29:24.087Z"
   },
   {
    "duration": 14,
    "start_time": "2022-02-07T06:29:24.210Z"
   },
   {
    "duration": 27,
    "start_time": "2022-02-07T06:29:24.227Z"
   },
   {
    "duration": 29,
    "start_time": "2022-02-07T06:29:24.256Z"
   },
   {
    "duration": 4107,
    "start_time": "2022-02-07T06:29:24.287Z"
   },
   {
    "duration": 3849,
    "start_time": "2022-02-07T06:29:28.399Z"
   },
   {
    "duration": 5,
    "start_time": "2022-02-07T06:29:32.251Z"
   },
   {
    "duration": 37,
    "start_time": "2022-02-07T06:29:32.259Z"
   },
   {
    "duration": 36800,
    "start_time": "2022-02-07T06:29:32.298Z"
   },
   {
    "duration": 6,
    "start_time": "2022-02-07T06:30:09.101Z"
   },
   {
    "duration": 21,
    "start_time": "2022-02-07T06:30:09.109Z"
   },
   {
    "duration": 23,
    "start_time": "2022-02-07T06:30:09.132Z"
   },
   {
    "duration": 68,
    "start_time": "2022-02-07T06:30:56.427Z"
   },
   {
    "duration": 6,
    "start_time": "2022-02-07T06:30:56.498Z"
   },
   {
    "duration": 225,
    "start_time": "2022-02-07T06:30:56.507Z"
   },
   {
    "duration": 5731,
    "start_time": "2022-02-07T06:30:56.734Z"
   },
   {
    "duration": 6,
    "start_time": "2022-02-07T06:31:02.468Z"
   },
   {
    "duration": 4988,
    "start_time": "2022-02-07T06:31:02.477Z"
   },
   {
    "duration": 352,
    "start_time": "2022-02-07T06:31:07.468Z"
   },
   {
    "duration": 6,
    "start_time": "2022-02-07T06:31:07.825Z"
   },
   {
    "duration": 7,
    "start_time": "2022-02-07T06:31:07.849Z"
   },
   {
    "duration": 432,
    "start_time": "2022-02-07T06:31:07.858Z"
   },
   {
    "duration": 506,
    "start_time": "2022-02-07T06:31:08.292Z"
   },
   {
    "duration": 453,
    "start_time": "2022-02-07T06:31:08.801Z"
   },
   {
    "duration": 65,
    "start_time": "2022-02-07T06:31:09.257Z"
   },
   {
    "duration": 39,
    "start_time": "2022-02-07T06:31:09.325Z"
   },
   {
    "duration": 22,
    "start_time": "2022-02-07T06:31:09.367Z"
   },
   {
    "duration": 22,
    "start_time": "2022-02-07T06:31:09.391Z"
   },
   {
    "duration": 43,
    "start_time": "2022-02-07T06:31:09.415Z"
   },
   {
    "duration": 347,
    "start_time": "2022-02-07T06:31:09.460Z"
   },
   {
    "duration": 246,
    "start_time": "2022-02-07T06:31:09.810Z"
   },
   {
    "duration": 63739,
    "start_time": "2022-02-07T06:31:10.058Z"
   },
   {
    "duration": 24,
    "start_time": "2022-02-07T06:32:13.800Z"
   },
   {
    "duration": 9,
    "start_time": "2022-02-07T06:32:13.826Z"
   },
   {
    "duration": 60,
    "start_time": "2022-02-07T06:32:26.397Z"
   },
   {
    "duration": 312,
    "start_time": "2022-02-07T06:32:48.020Z"
   },
   {
    "duration": 7,
    "start_time": "2022-02-07T06:32:50.864Z"
   },
   {
    "duration": 10,
    "start_time": "2022-02-07T06:32:51.611Z"
   },
   {
    "duration": 55,
    "start_time": "2022-02-07T06:32:59.290Z"
   },
   {
    "duration": 832,
    "start_time": "2022-02-07T06:33:44.300Z"
   },
   {
    "duration": 70,
    "start_time": "2022-02-07T06:33:45.135Z"
   },
   {
    "duration": 122,
    "start_time": "2022-02-07T06:33:45.208Z"
   },
   {
    "duration": 24,
    "start_time": "2022-02-07T06:33:45.333Z"
   },
   {
    "duration": 11,
    "start_time": "2022-02-07T06:33:45.360Z"
   },
   {
    "duration": 35,
    "start_time": "2022-02-07T06:33:45.374Z"
   },
   {
    "duration": 4159,
    "start_time": "2022-02-07T06:33:45.412Z"
   },
   {
    "duration": 4148,
    "start_time": "2022-02-07T06:33:49.576Z"
   },
   {
    "duration": 5,
    "start_time": "2022-02-07T06:33:53.728Z"
   },
   {
    "duration": 39,
    "start_time": "2022-02-07T06:33:53.735Z"
   },
   {
    "duration": 41005,
    "start_time": "2022-02-07T06:33:53.776Z"
   },
   {
    "duration": 7,
    "start_time": "2022-02-07T06:34:34.784Z"
   },
   {
    "duration": 11,
    "start_time": "2022-02-07T06:34:34.794Z"
   },
   {
    "duration": 18,
    "start_time": "2022-02-07T06:34:34.808Z"
   },
   {
    "duration": 102,
    "start_time": "2022-02-07T06:34:34.849Z"
   },
   {
    "duration": 6,
    "start_time": "2022-02-07T06:34:34.954Z"
   },
   {
    "duration": 372,
    "start_time": "2022-02-07T06:34:34.963Z"
   },
   {
    "duration": 8941,
    "start_time": "2022-02-07T06:34:35.338Z"
   },
   {
    "duration": 9,
    "start_time": "2022-02-07T06:34:44.282Z"
   },
   {
    "duration": 7503,
    "start_time": "2022-02-07T06:34:44.294Z"
   },
   {
    "duration": 506,
    "start_time": "2022-02-07T06:34:51.800Z"
   },
   {
    "duration": 8,
    "start_time": "2022-02-07T06:34:52.309Z"
   },
   {
    "duration": 32,
    "start_time": "2022-02-07T06:34:52.323Z"
   },
   {
    "duration": 635,
    "start_time": "2022-02-07T06:34:52.359Z"
   },
   {
    "duration": 713,
    "start_time": "2022-02-07T06:34:52.997Z"
   },
   {
    "duration": 592,
    "start_time": "2022-02-07T06:34:53.712Z"
   },
   {
    "duration": 79,
    "start_time": "2022-02-07T06:34:54.307Z"
   },
   {
    "duration": 27,
    "start_time": "2022-02-07T06:34:54.389Z"
   },
   {
    "duration": 47,
    "start_time": "2022-02-07T06:34:54.418Z"
   },
   {
    "duration": 30,
    "start_time": "2022-02-07T06:34:54.468Z"
   },
   {
    "duration": 10,
    "start_time": "2022-02-07T06:34:54.501Z"
   },
   {
    "duration": 516,
    "start_time": "2022-02-07T06:34:54.513Z"
   },
   {
    "duration": 373,
    "start_time": "2022-02-07T06:34:55.032Z"
   },
   {
    "duration": 431,
    "start_time": "2022-02-07T07:35:01.774Z"
   },
   {
    "duration": 505,
    "start_time": "2022-02-07T07:35:07.694Z"
   },
   {
    "duration": 430,
    "start_time": "2022-02-07T07:35:18.630Z"
   },
   {
    "duration": 422,
    "start_time": "2022-02-07T07:35:22.096Z"
   },
   {
    "duration": 22,
    "start_time": "2022-02-07T07:56:51.808Z"
   },
   {
    "duration": 9,
    "start_time": "2022-02-07T07:58:42.806Z"
   },
   {
    "duration": 10,
    "start_time": "2022-02-07T08:00:17.591Z"
   },
   {
    "duration": 34,
    "start_time": "2022-02-07T08:02:47.010Z"
   },
   {
    "duration": 25,
    "start_time": "2022-02-07T08:03:40.920Z"
   },
   {
    "duration": 444,
    "start_time": "2022-02-07T08:04:19.071Z"
   },
   {
    "duration": 293,
    "start_time": "2022-02-07T08:04:32.792Z"
   },
   {
    "duration": 32,
    "start_time": "2022-02-07T08:05:17.073Z"
   },
   {
    "duration": 15,
    "start_time": "2022-02-07T08:05:39.915Z"
   },
   {
    "duration": 934,
    "start_time": "2022-02-07T08:48:41.956Z"
   },
   {
    "duration": 77,
    "start_time": "2022-02-07T08:48:42.892Z"
   },
   {
    "duration": 134,
    "start_time": "2022-02-07T08:48:42.972Z"
   },
   {
    "duration": 22,
    "start_time": "2022-02-07T08:48:43.109Z"
   },
   {
    "duration": 30,
    "start_time": "2022-02-07T08:48:43.134Z"
   },
   {
    "duration": 47,
    "start_time": "2022-02-07T08:48:43.167Z"
   },
   {
    "duration": 3974,
    "start_time": "2022-02-07T08:48:43.217Z"
   },
   {
    "duration": 3950,
    "start_time": "2022-02-07T08:48:47.194Z"
   },
   {
    "duration": 5,
    "start_time": "2022-02-07T08:48:51.148Z"
   },
   {
    "duration": 23,
    "start_time": "2022-02-07T08:48:51.156Z"
   },
   {
    "duration": 37473,
    "start_time": "2022-02-07T08:48:51.182Z"
   },
   {
    "duration": 5,
    "start_time": "2022-02-07T08:49:28.657Z"
   },
   {
    "duration": 11,
    "start_time": "2022-02-07T08:49:28.664Z"
   },
   {
    "duration": 19,
    "start_time": "2022-02-07T08:49:28.677Z"
   },
   {
    "duration": 82,
    "start_time": "2022-02-07T08:49:28.699Z"
   },
   {
    "duration": 5,
    "start_time": "2022-02-07T08:49:28.784Z"
   },
   {
    "duration": 229,
    "start_time": "2022-02-07T08:49:28.792Z"
   },
   {
    "duration": 5820,
    "start_time": "2022-02-07T08:49:29.024Z"
   },
   {
    "duration": 6,
    "start_time": "2022-02-07T08:49:34.849Z"
   },
   {
    "duration": 4697,
    "start_time": "2022-02-07T08:49:34.858Z"
   },
   {
    "duration": 314,
    "start_time": "2022-02-07T08:49:39.558Z"
   },
   {
    "duration": 7,
    "start_time": "2022-02-07T08:49:39.874Z"
   },
   {
    "duration": 8,
    "start_time": "2022-02-07T08:49:39.885Z"
   },
   {
    "duration": 476,
    "start_time": "2022-02-07T08:49:39.897Z"
   },
   {
    "duration": 467,
    "start_time": "2022-02-07T08:49:40.376Z"
   },
   {
    "duration": 519,
    "start_time": "2022-02-07T08:49:40.848Z"
   },
   {
    "duration": 110,
    "start_time": "2022-02-07T08:49:41.370Z"
   },
   {
    "duration": 31,
    "start_time": "2022-02-07T08:49:41.483Z"
   },
   {
    "duration": 54,
    "start_time": "2022-02-07T08:49:41.517Z"
   },
   {
    "duration": 48,
    "start_time": "2022-02-07T08:49:41.574Z"
   },
   {
    "duration": 33,
    "start_time": "2022-02-07T08:49:41.624Z"
   },
   {
    "duration": 354,
    "start_time": "2022-02-07T08:49:41.660Z"
   },
   {
    "duration": 438,
    "start_time": "2022-02-07T08:49:42.017Z"
   },
   {
    "duration": 1085,
    "start_time": "2022-02-13T09:19:31.887Z"
   },
   {
    "duration": 55,
    "start_time": "2022-02-13T09:19:32.973Z"
   },
   {
    "duration": 142,
    "start_time": "2022-02-13T09:19:33.030Z"
   },
   {
    "duration": 14,
    "start_time": "2022-02-13T09:19:33.174Z"
   },
   {
    "duration": 10,
    "start_time": "2022-02-13T09:19:33.190Z"
   },
   {
    "duration": 82,
    "start_time": "2022-02-13T09:19:33.202Z"
   },
   {
    "duration": 2559,
    "start_time": "2022-02-13T09:19:33.286Z"
   },
   {
    "duration": -2132,
    "start_time": "2022-02-13T09:19:37.979Z"
   },
   {
    "duration": -2111,
    "start_time": "2022-02-13T09:19:37.982Z"
   },
   {
    "duration": -2113,
    "start_time": "2022-02-13T09:19:37.985Z"
   },
   {
    "duration": -2115,
    "start_time": "2022-02-13T09:19:37.988Z"
   },
   {
    "duration": -2116,
    "start_time": "2022-02-13T09:19:37.990Z"
   },
   {
    "duration": -2117,
    "start_time": "2022-02-13T09:19:37.992Z"
   },
   {
    "duration": -2118,
    "start_time": "2022-02-13T09:19:37.994Z"
   },
   {
    "duration": -2120,
    "start_time": "2022-02-13T09:19:37.996Z"
   },
   {
    "duration": -2120,
    "start_time": "2022-02-13T09:19:37.997Z"
   },
   {
    "duration": -2121,
    "start_time": "2022-02-13T09:19:37.999Z"
   },
   {
    "duration": -2122,
    "start_time": "2022-02-13T09:19:38.001Z"
   },
   {
    "duration": -2123,
    "start_time": "2022-02-13T09:19:38.002Z"
   },
   {
    "duration": -2123,
    "start_time": "2022-02-13T09:19:38.003Z"
   },
   {
    "duration": -2124,
    "start_time": "2022-02-13T09:19:38.005Z"
   },
   {
    "duration": -2123,
    "start_time": "2022-02-13T09:19:38.006Z"
   },
   {
    "duration": -2123,
    "start_time": "2022-02-13T09:19:38.007Z"
   },
   {
    "duration": -2123,
    "start_time": "2022-02-13T09:19:38.008Z"
   },
   {
    "duration": -2122,
    "start_time": "2022-02-13T09:19:38.009Z"
   },
   {
    "duration": -2122,
    "start_time": "2022-02-13T09:19:38.010Z"
   },
   {
    "duration": -2136,
    "start_time": "2022-02-13T09:19:38.026Z"
   },
   {
    "duration": -2136,
    "start_time": "2022-02-13T09:19:38.027Z"
   },
   {
    "duration": -2137,
    "start_time": "2022-02-13T09:19:38.029Z"
   },
   {
    "duration": -2137,
    "start_time": "2022-02-13T09:19:38.030Z"
   },
   {
    "duration": -2137,
    "start_time": "2022-02-13T09:19:38.031Z"
   },
   {
    "duration": -2137,
    "start_time": "2022-02-13T09:19:38.032Z"
   },
   {
    "duration": -2138,
    "start_time": "2022-02-13T09:19:38.034Z"
   },
   {
    "duration": 1152,
    "start_time": "2022-02-13T11:09:18.197Z"
   },
   {
    "duration": 82,
    "start_time": "2022-02-13T11:09:19.352Z"
   },
   {
    "duration": 159,
    "start_time": "2022-02-13T11:09:19.437Z"
   },
   {
    "duration": 36,
    "start_time": "2022-02-13T11:09:19.600Z"
   },
   {
    "duration": 15,
    "start_time": "2022-02-13T11:09:19.639Z"
   },
   {
    "duration": 36,
    "start_time": "2022-02-13T11:09:19.657Z"
   },
   {
    "duration": 6315,
    "start_time": "2022-02-13T11:09:19.696Z"
   },
   {
    "duration": 4214,
    "start_time": "2022-02-13T11:09:26.025Z"
   },
   {
    "duration": 5,
    "start_time": "2022-02-13T11:09:30.242Z"
   },
   {
    "duration": 25,
    "start_time": "2022-02-13T11:09:30.249Z"
   },
   {
    "duration": 53789,
    "start_time": "2022-02-13T11:09:30.276Z"
   },
   {
    "duration": 7,
    "start_time": "2022-02-13T11:10:24.067Z"
   },
   {
    "duration": 7,
    "start_time": "2022-02-13T11:10:24.076Z"
   },
   {
    "duration": 46,
    "start_time": "2022-02-13T11:10:24.086Z"
   },
   {
    "duration": 101,
    "start_time": "2022-02-13T11:10:24.135Z"
   },
   {
    "duration": 8,
    "start_time": "2022-02-13T11:10:24.239Z"
   },
   {
    "duration": 246,
    "start_time": "2022-02-13T11:10:24.250Z"
   },
   {
    "duration": 7625,
    "start_time": "2022-02-13T11:10:24.499Z"
   },
   {
    "duration": 8,
    "start_time": "2022-02-13T11:10:32.126Z"
   },
   {
    "duration": 4924,
    "start_time": "2022-02-13T11:10:32.137Z"
   },
   {
    "duration": 462,
    "start_time": "2022-02-13T11:10:37.065Z"
   },
   {
    "duration": 8,
    "start_time": "2022-02-13T11:10:37.530Z"
   },
   {
    "duration": 9,
    "start_time": "2022-02-13T11:10:37.546Z"
   },
   {
    "duration": 778,
    "start_time": "2022-02-13T11:10:37.560Z"
   },
   {
    "duration": 691,
    "start_time": "2022-02-13T11:10:38.341Z"
   },
   {
    "duration": 930,
    "start_time": "2022-02-13T11:10:39.036Z"
   },
   {
    "duration": 109,
    "start_time": "2022-02-13T11:10:39.970Z"
   },
   {
    "duration": 45,
    "start_time": "2022-02-13T11:10:40.082Z"
   },
   {
    "duration": 29,
    "start_time": "2022-02-13T11:10:40.130Z"
   },
   {
    "duration": 64,
    "start_time": "2022-02-13T11:10:40.162Z"
   },
   {
    "duration": 18,
    "start_time": "2022-02-13T11:10:40.229Z"
   },
   {
    "duration": 501,
    "start_time": "2022-02-13T11:10:40.250Z"
   },
   {
    "duration": 435,
    "start_time": "2022-02-13T11:10:40.755Z"
   },
   {
    "duration": 1587,
    "start_time": "2022-02-13T11:37:20.350Z"
   },
   {
    "duration": 372,
    "start_time": "2022-02-13T11:39:56.494Z"
   },
   {
    "duration": 1529,
    "start_time": "2022-02-13T11:41:26.528Z"
   },
   {
    "duration": 1077,
    "start_time": "2022-02-13T11:42:20.872Z"
   },
   {
    "duration": 1119,
    "start_time": "2022-02-13T11:42:43.587Z"
   },
   {
    "duration": 843,
    "start_time": "2022-02-13T11:43:13.111Z"
   },
   {
    "duration": 82,
    "start_time": "2022-02-13T11:43:13.957Z"
   },
   {
    "duration": 121,
    "start_time": "2022-02-13T11:43:14.043Z"
   },
   {
    "duration": 15,
    "start_time": "2022-02-13T11:43:14.167Z"
   },
   {
    "duration": 41,
    "start_time": "2022-02-13T11:43:14.185Z"
   },
   {
    "duration": 393,
    "start_time": "2022-02-13T11:43:14.229Z"
   },
   {
    "duration": -81,
    "start_time": "2022-02-13T11:43:14.709Z"
   },
   {
    "duration": -81,
    "start_time": "2022-02-13T11:43:14.711Z"
   },
   {
    "duration": -82,
    "start_time": "2022-02-13T11:43:14.714Z"
   },
   {
    "duration": -84,
    "start_time": "2022-02-13T11:43:14.717Z"
   },
   {
    "duration": -84,
    "start_time": "2022-02-13T11:43:14.719Z"
   },
   {
    "duration": -85,
    "start_time": "2022-02-13T11:43:14.721Z"
   },
   {
    "duration": -86,
    "start_time": "2022-02-13T11:43:14.724Z"
   },
   {
    "duration": -87,
    "start_time": "2022-02-13T11:43:14.727Z"
   },
   {
    "duration": -89,
    "start_time": "2022-02-13T11:43:14.731Z"
   },
   {
    "duration": -89,
    "start_time": "2022-02-13T11:43:14.735Z"
   },
   {
    "duration": -90,
    "start_time": "2022-02-13T11:43:14.738Z"
   },
   {
    "duration": -89,
    "start_time": "2022-02-13T11:43:14.740Z"
   },
   {
    "duration": -90,
    "start_time": "2022-02-13T11:43:14.743Z"
   },
   {
    "duration": -93,
    "start_time": "2022-02-13T11:43:14.748Z"
   },
   {
    "duration": -95,
    "start_time": "2022-02-13T11:43:14.752Z"
   },
   {
    "duration": -97,
    "start_time": "2022-02-13T11:43:14.757Z"
   },
   {
    "duration": -100,
    "start_time": "2022-02-13T11:43:14.762Z"
   },
   {
    "duration": -101,
    "start_time": "2022-02-13T11:43:14.765Z"
   },
   {
    "duration": -102,
    "start_time": "2022-02-13T11:43:14.768Z"
   },
   {
    "duration": -110,
    "start_time": "2022-02-13T11:43:14.778Z"
   },
   {
    "duration": -62,
    "start_time": "2022-02-13T11:43:14.784Z"
   },
   {
    "duration": -62,
    "start_time": "2022-02-13T11:43:14.787Z"
   },
   {
    "duration": -62,
    "start_time": "2022-02-13T11:43:14.789Z"
   },
   {
    "duration": -63,
    "start_time": "2022-02-13T11:43:14.793Z"
   },
   {
    "duration": -65,
    "start_time": "2022-02-13T11:43:14.797Z"
   },
   {
    "duration": -64,
    "start_time": "2022-02-13T11:43:14.800Z"
   },
   {
    "duration": -65,
    "start_time": "2022-02-13T11:43:14.803Z"
   },
   {
    "duration": 333,
    "start_time": "2022-02-13T11:43:44.241Z"
   },
   {
    "duration": 39,
    "start_time": "2022-02-13T11:45:38.980Z"
   },
   {
    "duration": 3951,
    "start_time": "2022-02-13T11:45:53.602Z"
   },
   {
    "duration": 874,
    "start_time": "2022-02-13T11:46:23.240Z"
   },
   {
    "duration": 71,
    "start_time": "2022-02-13T11:46:24.116Z"
   },
   {
    "duration": 124,
    "start_time": "2022-02-13T11:46:24.190Z"
   },
   {
    "duration": 19,
    "start_time": "2022-02-13T11:46:24.316Z"
   },
   {
    "duration": 12,
    "start_time": "2022-02-13T11:46:24.337Z"
   },
   {
    "duration": 33,
    "start_time": "2022-02-13T11:46:24.352Z"
   },
   {
    "duration": 4063,
    "start_time": "2022-02-13T11:46:24.388Z"
   },
   {
    "duration": 4032,
    "start_time": "2022-02-13T11:46:28.454Z"
   },
   {
    "duration": 5,
    "start_time": "2022-02-13T11:46:32.489Z"
   },
   {
    "duration": 42,
    "start_time": "2022-02-13T11:46:32.496Z"
   },
   {
    "duration": 44744,
    "start_time": "2022-02-13T11:46:32.542Z"
   },
   {
    "duration": 13,
    "start_time": "2022-02-13T11:47:17.290Z"
   },
   {
    "duration": 18,
    "start_time": "2022-02-13T11:47:17.306Z"
   },
   {
    "duration": 11,
    "start_time": "2022-02-13T11:47:17.327Z"
   },
   {
    "duration": 87,
    "start_time": "2022-02-13T11:47:17.341Z"
   },
   {
    "duration": 5,
    "start_time": "2022-02-13T11:47:17.431Z"
   },
   {
    "duration": 243,
    "start_time": "2022-02-13T11:47:17.438Z"
   },
   {
    "duration": 6420,
    "start_time": "2022-02-13T11:47:17.684Z"
   },
   {
    "duration": 16,
    "start_time": "2022-02-13T11:47:24.107Z"
   },
   {
    "duration": 4907,
    "start_time": "2022-02-13T11:47:24.126Z"
   },
   {
    "duration": 372,
    "start_time": "2022-02-13T11:47:29.036Z"
   },
   {
    "duration": 14,
    "start_time": "2022-02-13T11:47:29.410Z"
   },
   {
    "duration": 8,
    "start_time": "2022-02-13T11:47:29.429Z"
   },
   {
    "duration": 503,
    "start_time": "2022-02-13T11:47:29.441Z"
   },
   {
    "duration": 525,
    "start_time": "2022-02-13T11:47:29.947Z"
   },
   {
    "duration": 557,
    "start_time": "2022-02-13T11:47:30.474Z"
   },
   {
    "duration": 68,
    "start_time": "2022-02-13T11:47:31.034Z"
   },
   {
    "duration": 23,
    "start_time": "2022-02-13T11:47:31.124Z"
   },
   {
    "duration": 35,
    "start_time": "2022-02-13T11:47:31.150Z"
   },
   {
    "duration": 59,
    "start_time": "2022-02-13T11:47:31.187Z"
   },
   {
    "duration": 14,
    "start_time": "2022-02-13T11:47:31.248Z"
   },
   {
    "duration": 362,
    "start_time": "2022-02-13T11:47:31.265Z"
   },
   {
    "duration": 248,
    "start_time": "2022-02-13T11:47:31.629Z"
   },
   {
    "duration": 692,
    "start_time": "2022-02-13T12:53:22.883Z"
   },
   {
    "duration": 63,
    "start_time": "2022-02-13T12:53:23.577Z"
   },
   {
    "duration": 66,
    "start_time": "2022-02-13T12:53:23.642Z"
   },
   {
    "duration": 19,
    "start_time": "2022-02-13T12:53:23.710Z"
   },
   {
    "duration": 9,
    "start_time": "2022-02-13T12:53:23.731Z"
   },
   {
    "duration": 21,
    "start_time": "2022-02-13T12:53:23.742Z"
   },
   {
    "duration": 2200,
    "start_time": "2022-02-13T12:53:23.765Z"
   },
   {
    "duration": -2548,
    "start_time": "2022-02-13T12:53:28.516Z"
   },
   {
    "duration": -2553,
    "start_time": "2022-02-13T12:53:28.521Z"
   },
   {
    "duration": -2557,
    "start_time": "2022-02-13T12:53:28.526Z"
   },
   {
    "duration": -2562,
    "start_time": "2022-02-13T12:53:28.533Z"
   },
   {
    "duration": -2567,
    "start_time": "2022-02-13T12:53:28.539Z"
   },
   {
    "duration": -2570,
    "start_time": "2022-02-13T12:53:28.543Z"
   },
   {
    "duration": -2573,
    "start_time": "2022-02-13T12:53:28.547Z"
   },
   {
    "duration": -2576,
    "start_time": "2022-02-13T12:53:28.551Z"
   },
   {
    "duration": -2578,
    "start_time": "2022-02-13T12:53:28.554Z"
   },
   {
    "duration": -2606,
    "start_time": "2022-02-13T12:53:28.582Z"
   },
   {
    "duration": -2607,
    "start_time": "2022-02-13T12:53:28.584Z"
   },
   {
    "duration": -2608,
    "start_time": "2022-02-13T12:53:28.586Z"
   },
   {
    "duration": -2609,
    "start_time": "2022-02-13T12:53:28.588Z"
   },
   {
    "duration": -2609,
    "start_time": "2022-02-13T12:53:28.589Z"
   },
   {
    "duration": -2611,
    "start_time": "2022-02-13T12:53:28.591Z"
   },
   {
    "duration": -2611,
    "start_time": "2022-02-13T12:53:28.592Z"
   },
   {
    "duration": -2612,
    "start_time": "2022-02-13T12:53:28.594Z"
   },
   {
    "duration": -2614,
    "start_time": "2022-02-13T12:53:28.597Z"
   },
   {
    "duration": -2615,
    "start_time": "2022-02-13T12:53:28.599Z"
   },
   {
    "duration": -2617,
    "start_time": "2022-02-13T12:53:28.601Z"
   },
   {
    "duration": -2618,
    "start_time": "2022-02-13T12:53:28.603Z"
   },
   {
    "duration": -2618,
    "start_time": "2022-02-13T12:53:28.604Z"
   },
   {
    "duration": -2619,
    "start_time": "2022-02-13T12:53:28.606Z"
   },
   {
    "duration": -2619,
    "start_time": "2022-02-13T12:53:28.607Z"
   },
   {
    "duration": -2620,
    "start_time": "2022-02-13T12:53:28.609Z"
   },
   {
    "duration": -2645,
    "start_time": "2022-02-13T12:53:28.635Z"
   },
   {
    "duration": 1243,
    "start_time": "2022-02-13T13:02:04.635Z"
   },
   {
    "duration": 367,
    "start_time": "2022-02-14T06:48:41.073Z"
   },
   {
    "duration": 832,
    "start_time": "2022-02-14T06:48:51.023Z"
   },
   {
    "duration": 71,
    "start_time": "2022-02-14T06:48:51.858Z"
   },
   {
    "duration": 134,
    "start_time": "2022-02-14T06:48:51.933Z"
   },
   {
    "duration": 18,
    "start_time": "2022-02-14T06:48:52.071Z"
   },
   {
    "duration": 15,
    "start_time": "2022-02-14T06:48:52.092Z"
   },
   {
    "duration": 67,
    "start_time": "2022-02-14T06:48:52.110Z"
   },
   {
    "duration": 416,
    "start_time": "2022-02-14T06:48:52.179Z"
   },
   {
    "duration": -51,
    "start_time": "2022-02-14T06:48:52.650Z"
   },
   {
    "duration": -54,
    "start_time": "2022-02-14T06:48:52.655Z"
   },
   {
    "duration": -59,
    "start_time": "2022-02-14T06:48:52.661Z"
   },
   {
    "duration": -61,
    "start_time": "2022-02-14T06:48:52.665Z"
   },
   {
    "duration": -63,
    "start_time": "2022-02-14T06:48:52.668Z"
   },
   {
    "duration": -71,
    "start_time": "2022-02-14T06:48:52.677Z"
   },
   {
    "duration": -72,
    "start_time": "2022-02-14T06:48:52.680Z"
   },
   {
    "duration": -79,
    "start_time": "2022-02-14T06:48:52.688Z"
   },
   {
    "duration": -83,
    "start_time": "2022-02-14T06:48:52.694Z"
   },
   {
    "duration": -85,
    "start_time": "2022-02-14T06:48:52.697Z"
   },
   {
    "duration": -86,
    "start_time": "2022-02-14T06:48:52.700Z"
   },
   {
    "duration": -91,
    "start_time": "2022-02-14T06:48:52.706Z"
   },
   {
    "duration": -93,
    "start_time": "2022-02-14T06:48:52.709Z"
   },
   {
    "duration": -94,
    "start_time": "2022-02-14T06:48:52.712Z"
   },
   {
    "duration": -97,
    "start_time": "2022-02-14T06:48:52.716Z"
   },
   {
    "duration": -102,
    "start_time": "2022-02-14T06:48:52.722Z"
   },
   {
    "duration": -108,
    "start_time": "2022-02-14T06:48:52.730Z"
   },
   {
    "duration": -110,
    "start_time": "2022-02-14T06:48:52.733Z"
   },
   {
    "duration": -114,
    "start_time": "2022-02-14T06:48:52.739Z"
   },
   {
    "duration": -116,
    "start_time": "2022-02-14T06:48:52.742Z"
   },
   {
    "duration": -117,
    "start_time": "2022-02-14T06:48:52.745Z"
   },
   {
    "duration": -119,
    "start_time": "2022-02-14T06:48:52.748Z"
   },
   {
    "duration": -121,
    "start_time": "2022-02-14T06:48:52.751Z"
   },
   {
    "duration": -124,
    "start_time": "2022-02-14T06:48:52.755Z"
   },
   {
    "duration": -126,
    "start_time": "2022-02-14T06:48:52.759Z"
   },
   {
    "duration": -128,
    "start_time": "2022-02-14T06:48:52.762Z"
   },
   {
    "duration": 4505,
    "start_time": "2022-02-14T06:49:55.281Z"
   },
   {
    "duration": 298,
    "start_time": "2022-02-14T06:50:17.439Z"
   },
   {
    "duration": 264,
    "start_time": "2022-02-14T07:06:38.737Z"
   },
   {
    "duration": 957,
    "start_time": "2022-02-14T07:07:21.754Z"
   },
   {
    "duration": 72,
    "start_time": "2022-02-14T07:07:22.714Z"
   },
   {
    "duration": 121,
    "start_time": "2022-02-14T07:07:22.790Z"
   },
   {
    "duration": 34,
    "start_time": "2022-02-14T07:07:22.915Z"
   },
   {
    "duration": 13,
    "start_time": "2022-02-14T07:07:22.952Z"
   },
   {
    "duration": 33,
    "start_time": "2022-02-14T07:07:22.967Z"
   },
   {
    "duration": 259,
    "start_time": "2022-02-14T07:07:23.003Z"
   },
   {
    "duration": 241,
    "start_time": "2022-02-14T07:07:23.267Z"
   },
   {
    "duration": 5,
    "start_time": "2022-02-14T07:07:23.513Z"
   },
   {
    "duration": 18,
    "start_time": "2022-02-14T07:07:23.520Z"
   },
   {
    "duration": 2205,
    "start_time": "2022-02-14T07:07:23.541Z"
   },
   {
    "duration": -107,
    "start_time": "2022-02-14T07:07:25.857Z"
   },
   {
    "duration": -111,
    "start_time": "2022-02-14T07:07:25.862Z"
   },
   {
    "duration": -114,
    "start_time": "2022-02-14T07:07:25.867Z"
   },
   {
    "duration": -118,
    "start_time": "2022-02-14T07:07:25.872Z"
   },
   {
    "duration": -121,
    "start_time": "2022-02-14T07:07:25.878Z"
   },
   {
    "duration": -122,
    "start_time": "2022-02-14T07:07:25.880Z"
   },
   {
    "duration": -124,
    "start_time": "2022-02-14T07:07:25.884Z"
   },
   {
    "duration": -124,
    "start_time": "2022-02-14T07:07:25.886Z"
   },
   {
    "duration": -126,
    "start_time": "2022-02-14T07:07:25.889Z"
   },
   {
    "duration": -127,
    "start_time": "2022-02-14T07:07:25.892Z"
   },
   {
    "duration": -127,
    "start_time": "2022-02-14T07:07:25.895Z"
   },
   {
    "duration": -128,
    "start_time": "2022-02-14T07:07:25.898Z"
   },
   {
    "duration": -128,
    "start_time": "2022-02-14T07:07:25.900Z"
   },
   {
    "duration": -129,
    "start_time": "2022-02-14T07:07:25.903Z"
   },
   {
    "duration": -128,
    "start_time": "2022-02-14T07:07:25.905Z"
   },
   {
    "duration": -130,
    "start_time": "2022-02-14T07:07:25.908Z"
   },
   {
    "duration": -133,
    "start_time": "2022-02-14T07:07:25.913Z"
   },
   {
    "duration": -141,
    "start_time": "2022-02-14T07:07:25.922Z"
   },
   {
    "duration": -146,
    "start_time": "2022-02-14T07:07:25.928Z"
   },
   {
    "duration": -147,
    "start_time": "2022-02-14T07:07:25.931Z"
   },
   {
    "duration": -149,
    "start_time": "2022-02-14T07:07:25.934Z"
   },
   {
    "duration": -150,
    "start_time": "2022-02-14T07:07:25.936Z"
   },
   {
    "duration": 315,
    "start_time": "2022-02-14T07:09:44.772Z"
   },
   {
    "duration": 347,
    "start_time": "2022-02-14T07:10:07.410Z"
   },
   {
    "duration": 423,
    "start_time": "2022-02-14T07:10:16.700Z"
   },
   {
    "duration": 847,
    "start_time": "2022-02-14T07:10:30.433Z"
   },
   {
    "duration": 78,
    "start_time": "2022-02-14T07:10:31.284Z"
   },
   {
    "duration": 117,
    "start_time": "2022-02-14T07:10:31.365Z"
   },
   {
    "duration": 16,
    "start_time": "2022-02-14T07:10:31.485Z"
   },
   {
    "duration": 11,
    "start_time": "2022-02-14T07:10:31.504Z"
   },
   {
    "duration": 422,
    "start_time": "2022-02-14T07:10:31.518Z"
   },
   {
    "duration": -65,
    "start_time": "2022-02-14T07:10:32.008Z"
   },
   {
    "duration": -68,
    "start_time": "2022-02-14T07:10:32.013Z"
   },
   {
    "duration": -71,
    "start_time": "2022-02-14T07:10:32.017Z"
   },
   {
    "duration": -73,
    "start_time": "2022-02-14T07:10:32.021Z"
   },
   {
    "duration": -75,
    "start_time": "2022-02-14T07:10:32.024Z"
   },
   {
    "duration": -78,
    "start_time": "2022-02-14T07:10:32.028Z"
   },
   {
    "duration": -81,
    "start_time": "2022-02-14T07:10:32.032Z"
   },
   {
    "duration": -82,
    "start_time": "2022-02-14T07:10:32.035Z"
   },
   {
    "duration": -84,
    "start_time": "2022-02-14T07:10:32.038Z"
   },
   {
    "duration": -87,
    "start_time": "2022-02-14T07:10:32.042Z"
   },
   {
    "duration": -89,
    "start_time": "2022-02-14T07:10:32.045Z"
   },
   {
    "duration": -91,
    "start_time": "2022-02-14T07:10:32.049Z"
   },
   {
    "duration": -93,
    "start_time": "2022-02-14T07:10:32.052Z"
   },
   {
    "duration": -94,
    "start_time": "2022-02-14T07:10:32.054Z"
   },
   {
    "duration": -97,
    "start_time": "2022-02-14T07:10:32.058Z"
   },
   {
    "duration": -98,
    "start_time": "2022-02-14T07:10:32.061Z"
   },
   {
    "duration": -109,
    "start_time": "2022-02-14T07:10:32.073Z"
   },
   {
    "duration": -111,
    "start_time": "2022-02-14T07:10:32.077Z"
   },
   {
    "duration": -112,
    "start_time": "2022-02-14T07:10:32.079Z"
   },
   {
    "duration": -115,
    "start_time": "2022-02-14T07:10:32.083Z"
   },
   {
    "duration": -116,
    "start_time": "2022-02-14T07:10:32.086Z"
   },
   {
    "duration": -118,
    "start_time": "2022-02-14T07:10:32.089Z"
   },
   {
    "duration": -119,
    "start_time": "2022-02-14T07:10:32.092Z"
   },
   {
    "duration": -120,
    "start_time": "2022-02-14T07:10:32.094Z"
   },
   {
    "duration": -122,
    "start_time": "2022-02-14T07:10:32.097Z"
   },
   {
    "duration": -124,
    "start_time": "2022-02-14T07:10:32.100Z"
   },
   {
    "duration": -126,
    "start_time": "2022-02-14T07:10:32.103Z"
   },
   {
    "duration": 27,
    "start_time": "2022-02-14T07:11:03.726Z"
   },
   {
    "duration": 857,
    "start_time": "2022-02-14T07:11:48.515Z"
   },
   {
    "duration": 79,
    "start_time": "2022-02-14T07:11:49.375Z"
   },
   {
    "duration": 116,
    "start_time": "2022-02-14T07:11:49.456Z"
   },
   {
    "duration": 15,
    "start_time": "2022-02-14T07:11:49.575Z"
   },
   {
    "duration": 12,
    "start_time": "2022-02-14T07:11:49.593Z"
   },
   {
    "duration": 58,
    "start_time": "2022-02-14T07:11:49.608Z"
   },
   {
    "duration": 272,
    "start_time": "2022-02-14T07:11:49.668Z"
   },
   {
    "duration": 234,
    "start_time": "2022-02-14T07:11:49.948Z"
   },
   {
    "duration": 3,
    "start_time": "2022-02-14T07:11:50.186Z"
   },
   {
    "duration": 18,
    "start_time": "2022-02-14T07:11:50.192Z"
   },
   {
    "duration": 9284,
    "start_time": "2022-02-14T07:11:50.213Z"
   },
   {
    "duration": -42,
    "start_time": "2022-02-14T07:11:59.542Z"
   },
   {
    "duration": -49,
    "start_time": "2022-02-14T07:11:59.551Z"
   },
   {
    "duration": -52,
    "start_time": "2022-02-14T07:11:59.555Z"
   },
   {
    "duration": -55,
    "start_time": "2022-02-14T07:11:59.560Z"
   },
   {
    "duration": -57,
    "start_time": "2022-02-14T07:11:59.564Z"
   },
   {
    "duration": -59,
    "start_time": "2022-02-14T07:11:59.567Z"
   },
   {
    "duration": -59,
    "start_time": "2022-02-14T07:11:59.569Z"
   },
   {
    "duration": -62,
    "start_time": "2022-02-14T07:11:59.573Z"
   },
   {
    "duration": -62,
    "start_time": "2022-02-14T07:11:59.575Z"
   },
   {
    "duration": -65,
    "start_time": "2022-02-14T07:11:59.579Z"
   },
   {
    "duration": -66,
    "start_time": "2022-02-14T07:11:59.582Z"
   },
   {
    "duration": -67,
    "start_time": "2022-02-14T07:11:59.585Z"
   },
   {
    "duration": -69,
    "start_time": "2022-02-14T07:11:59.588Z"
   },
   {
    "duration": -69,
    "start_time": "2022-02-14T07:11:59.590Z"
   },
   {
    "duration": -71,
    "start_time": "2022-02-14T07:11:59.593Z"
   },
   {
    "duration": -72,
    "start_time": "2022-02-14T07:11:59.596Z"
   },
   {
    "duration": -73,
    "start_time": "2022-02-14T07:11:59.599Z"
   },
   {
    "duration": -75,
    "start_time": "2022-02-14T07:11:59.602Z"
   },
   {
    "duration": -76,
    "start_time": "2022-02-14T07:11:59.605Z"
   },
   {
    "duration": -84,
    "start_time": "2022-02-14T07:11:59.614Z"
   },
   {
    "duration": -87,
    "start_time": "2022-02-14T07:11:59.618Z"
   },
   {
    "duration": -88,
    "start_time": "2022-02-14T07:11:59.621Z"
   },
   {
    "duration": 2453,
    "start_time": "2022-02-14T07:12:13.029Z"
   },
   {
    "duration": 777,
    "start_time": "2022-02-14T07:12:36.894Z"
   },
   {
    "duration": 78,
    "start_time": "2022-02-14T07:12:37.674Z"
   },
   {
    "duration": 117,
    "start_time": "2022-02-14T07:12:37.756Z"
   },
   {
    "duration": 14,
    "start_time": "2022-02-14T07:12:37.876Z"
   },
   {
    "duration": 11,
    "start_time": "2022-02-14T07:12:37.893Z"
   },
   {
    "duration": 64,
    "start_time": "2022-02-14T07:12:37.907Z"
   },
   {
    "duration": 250,
    "start_time": "2022-02-14T07:12:37.973Z"
   },
   {
    "duration": 239,
    "start_time": "2022-02-14T07:12:38.227Z"
   },
   {
    "duration": 5,
    "start_time": "2022-02-14T07:12:38.469Z"
   },
   {
    "duration": 21,
    "start_time": "2022-02-14T07:12:38.476Z"
   },
   {
    "duration": 2116,
    "start_time": "2022-02-14T07:12:38.500Z"
   },
   {
    "duration": 11,
    "start_time": "2022-02-14T07:12:40.625Z"
   },
   {
    "duration": 128,
    "start_time": "2022-02-14T07:12:40.640Z"
   },
   {
    "duration": 84,
    "start_time": "2022-02-14T07:12:40.781Z"
   },
   {
    "duration": 57,
    "start_time": "2022-02-14T07:12:40.868Z"
   },
   {
    "duration": 4,
    "start_time": "2022-02-14T07:12:40.927Z"
   },
   {
    "duration": 246,
    "start_time": "2022-02-14T07:12:40.934Z"
   },
   {
    "duration": 5135,
    "start_time": "2022-02-14T07:12:41.183Z"
   },
   {
    "duration": 7,
    "start_time": "2022-02-14T07:12:46.320Z"
   },
   {
    "duration": 8689,
    "start_time": "2022-02-14T07:12:46.330Z"
   },
   {
    "duration": 347,
    "start_time": "2022-02-14T07:12:55.022Z"
   },
   {
    "duration": 6,
    "start_time": "2022-02-14T07:12:55.372Z"
   },
   {
    "duration": 7,
    "start_time": "2022-02-14T07:12:55.383Z"
   },
   {
    "duration": 459,
    "start_time": "2022-02-14T07:12:55.393Z"
   },
   {
    "duration": 513,
    "start_time": "2022-02-14T07:12:55.855Z"
   },
   {
    "duration": 453,
    "start_time": "2022-02-14T07:12:56.370Z"
   },
   {
    "duration": 72,
    "start_time": "2022-02-14T07:12:56.825Z"
   },
   {
    "duration": 20,
    "start_time": "2022-02-14T07:12:56.900Z"
   },
   {
    "duration": 46,
    "start_time": "2022-02-14T07:12:56.922Z"
   },
   {
    "duration": 31,
    "start_time": "2022-02-14T07:12:56.971Z"
   },
   {
    "duration": 14,
    "start_time": "2022-02-14T07:12:57.004Z"
   },
   {
    "duration": 353,
    "start_time": "2022-02-14T07:12:57.049Z"
   },
   {
    "duration": 671,
    "start_time": "2022-02-14T07:12:57.405Z"
   },
   {
    "duration": 166,
    "start_time": "2022-02-14T07:14:15.394Z"
   },
   {
    "duration": 425,
    "start_time": "2022-02-14T07:14:34.109Z"
   },
   {
    "duration": 442,
    "start_time": "2022-02-14T07:14:52.011Z"
   },
   {
    "duration": 107,
    "start_time": "2022-02-14T07:15:08.670Z"
   },
   {
    "duration": 445,
    "start_time": "2022-02-14T07:15:14.771Z"
   },
   {
    "duration": 428,
    "start_time": "2022-02-14T07:15:25.436Z"
   },
   {
    "duration": 1368,
    "start_time": "2022-02-14T07:18:36.870Z"
   },
   {
    "duration": 793,
    "start_time": "2022-02-14T07:18:51.802Z"
   },
   {
    "duration": 80,
    "start_time": "2022-02-14T07:18:52.598Z"
   },
   {
    "duration": 118,
    "start_time": "2022-02-14T07:18:52.681Z"
   },
   {
    "duration": 15,
    "start_time": "2022-02-14T07:18:52.802Z"
   },
   {
    "duration": 32,
    "start_time": "2022-02-14T07:18:52.820Z"
   },
   {
    "duration": 463,
    "start_time": "2022-02-14T07:18:52.854Z"
   },
   {
    "duration": -39,
    "start_time": "2022-02-14T07:18:53.360Z"
   },
   {
    "duration": -50,
    "start_time": "2022-02-14T07:18:53.372Z"
   },
   {
    "duration": -53,
    "start_time": "2022-02-14T07:18:53.376Z"
   },
   {
    "duration": -55,
    "start_time": "2022-02-14T07:18:53.380Z"
   },
   {
    "duration": -58,
    "start_time": "2022-02-14T07:18:53.384Z"
   },
   {
    "duration": -59,
    "start_time": "2022-02-14T07:18:53.386Z"
   },
   {
    "duration": -61,
    "start_time": "2022-02-14T07:18:53.390Z"
   },
   {
    "duration": -63,
    "start_time": "2022-02-14T07:18:53.393Z"
   },
   {
    "duration": -66,
    "start_time": "2022-02-14T07:18:53.397Z"
   },
   {
    "duration": -66,
    "start_time": "2022-02-14T07:18:53.399Z"
   },
   {
    "duration": -68,
    "start_time": "2022-02-14T07:18:53.402Z"
   },
   {
    "duration": -68,
    "start_time": "2022-02-14T07:18:53.404Z"
   },
   {
    "duration": -78,
    "start_time": "2022-02-14T07:18:53.415Z"
   },
   {
    "duration": -79,
    "start_time": "2022-02-14T07:18:53.418Z"
   },
   {
    "duration": -82,
    "start_time": "2022-02-14T07:18:53.422Z"
   },
   {
    "duration": -82,
    "start_time": "2022-02-14T07:18:53.424Z"
   },
   {
    "duration": -85,
    "start_time": "2022-02-14T07:18:53.428Z"
   },
   {
    "duration": -87,
    "start_time": "2022-02-14T07:18:53.432Z"
   },
   {
    "duration": -87,
    "start_time": "2022-02-14T07:18:53.434Z"
   },
   {
    "duration": -88,
    "start_time": "2022-02-14T07:18:53.436Z"
   },
   {
    "duration": -90,
    "start_time": "2022-02-14T07:18:53.439Z"
   },
   {
    "duration": -91,
    "start_time": "2022-02-14T07:18:53.442Z"
   },
   {
    "duration": -92,
    "start_time": "2022-02-14T07:18:53.445Z"
   },
   {
    "duration": -93,
    "start_time": "2022-02-14T07:18:53.447Z"
   },
   {
    "duration": -94,
    "start_time": "2022-02-14T07:18:53.450Z"
   },
   {
    "duration": -101,
    "start_time": "2022-02-14T07:18:53.458Z"
   },
   {
    "duration": -103,
    "start_time": "2022-02-14T07:18:53.462Z"
   },
   {
    "duration": 314,
    "start_time": "2022-02-14T07:19:15.568Z"
   },
   {
    "duration": 853,
    "start_time": "2022-02-14T07:20:19.145Z"
   },
   {
    "duration": 75,
    "start_time": "2022-02-14T07:20:20.001Z"
   },
   {
    "duration": 119,
    "start_time": "2022-02-14T07:20:20.078Z"
   },
   {
    "duration": 14,
    "start_time": "2022-02-14T07:20:20.201Z"
   },
   {
    "duration": 32,
    "start_time": "2022-02-14T07:20:20.218Z"
   },
   {
    "duration": 38,
    "start_time": "2022-02-14T07:20:20.253Z"
   },
   {
    "duration": 420,
    "start_time": "2022-02-14T07:20:20.294Z"
   },
   {
    "duration": 376,
    "start_time": "2022-02-14T07:20:20.720Z"
   },
   {
    "duration": 5,
    "start_time": "2022-02-14T07:20:21.099Z"
   },
   {
    "duration": 24,
    "start_time": "2022-02-14T07:20:21.106Z"
   },
   {
    "duration": 2480,
    "start_time": "2022-02-14T07:20:21.133Z"
   },
   {
    "duration": 6,
    "start_time": "2022-02-14T07:20:23.616Z"
   },
   {
    "duration": 25,
    "start_time": "2022-02-14T07:20:23.625Z"
   },
   {
    "duration": 16,
    "start_time": "2022-02-14T07:20:23.653Z"
   },
   {
    "duration": 87,
    "start_time": "2022-02-14T07:20:23.672Z"
   },
   {
    "duration": 6,
    "start_time": "2022-02-14T07:20:23.761Z"
   },
   {
    "duration": 247,
    "start_time": "2022-02-14T07:20:23.769Z"
   },
   {
    "duration": 5197,
    "start_time": "2022-02-14T07:20:24.018Z"
   },
   {
    "duration": 7,
    "start_time": "2022-02-14T07:20:29.218Z"
   },
   {
    "duration": 8494,
    "start_time": "2022-02-14T07:20:29.227Z"
   },
   {
    "duration": 310,
    "start_time": "2022-02-14T07:20:37.723Z"
   },
   {
    "duration": 13,
    "start_time": "2022-02-14T07:20:38.036Z"
   },
   {
    "duration": 8,
    "start_time": "2022-02-14T07:20:38.054Z"
   },
   {
    "duration": 457,
    "start_time": "2022-02-14T07:20:38.065Z"
   },
   {
    "duration": 507,
    "start_time": "2022-02-14T07:20:38.525Z"
   },
   {
    "duration": 459,
    "start_time": "2022-02-14T07:20:39.035Z"
   },
   {
    "duration": 80,
    "start_time": "2022-02-14T07:20:39.498Z"
   },
   {
    "duration": 22,
    "start_time": "2022-02-14T07:20:39.582Z"
   },
   {
    "duration": 54,
    "start_time": "2022-02-14T07:20:39.607Z"
   },
   {
    "duration": 32,
    "start_time": "2022-02-14T07:20:39.664Z"
   },
   {
    "duration": 15,
    "start_time": "2022-02-14T07:20:39.699Z"
   },
   {
    "duration": 364,
    "start_time": "2022-02-14T07:20:39.717Z"
   },
   {
    "duration": 564,
    "start_time": "2022-02-14T07:20:40.085Z"
   },
   {
    "duration": 1137,
    "start_time": "2022-02-14T07:21:08.634Z"
   },
   {
    "duration": 187,
    "start_time": "2022-02-14T07:21:50.459Z"
   },
   {
    "duration": 864,
    "start_time": "2022-02-14T07:22:31.830Z"
   },
   {
    "duration": 76,
    "start_time": "2022-02-14T07:22:32.697Z"
   },
   {
    "duration": 116,
    "start_time": "2022-02-14T07:22:32.776Z"
   },
   {
    "duration": 16,
    "start_time": "2022-02-14T07:22:32.895Z"
   },
   {
    "duration": 34,
    "start_time": "2022-02-14T07:22:32.914Z"
   },
   {
    "duration": 35,
    "start_time": "2022-02-14T07:22:32.950Z"
   },
   {
    "duration": 255,
    "start_time": "2022-02-14T07:22:32.988Z"
   },
   {
    "duration": 241,
    "start_time": "2022-02-14T07:22:33.247Z"
   },
   {
    "duration": 5,
    "start_time": "2022-02-14T07:22:33.491Z"
   },
   {
    "duration": 17,
    "start_time": "2022-02-14T07:22:33.498Z"
   },
   {
    "duration": 2040,
    "start_time": "2022-02-14T07:22:33.518Z"
   },
   {
    "duration": 5,
    "start_time": "2022-02-14T07:22:35.560Z"
   },
   {
    "duration": 17,
    "start_time": "2022-02-14T07:22:35.567Z"
   },
   {
    "duration": 19,
    "start_time": "2022-02-14T07:22:35.586Z"
   },
   {
    "duration": 65,
    "start_time": "2022-02-14T07:22:35.607Z"
   },
   {
    "duration": 6,
    "start_time": "2022-02-14T07:22:35.674Z"
   },
   {
    "duration": 251,
    "start_time": "2022-02-14T07:22:35.682Z"
   },
   {
    "duration": 5035,
    "start_time": "2022-02-14T07:22:35.936Z"
   },
   {
    "duration": 6,
    "start_time": "2022-02-14T07:22:40.974Z"
   },
   {
    "duration": 8777,
    "start_time": "2022-02-14T07:22:40.983Z"
   },
   {
    "duration": 324,
    "start_time": "2022-02-14T07:22:49.762Z"
   },
   {
    "duration": 7,
    "start_time": "2022-02-14T07:22:50.088Z"
   },
   {
    "duration": 11,
    "start_time": "2022-02-14T07:22:50.099Z"
   },
   {
    "duration": 466,
    "start_time": "2022-02-14T07:22:50.113Z"
   },
   {
    "duration": 508,
    "start_time": "2022-02-14T07:22:50.582Z"
   },
   {
    "duration": 448,
    "start_time": "2022-02-14T07:22:51.093Z"
   },
   {
    "duration": 65,
    "start_time": "2022-02-14T07:22:51.544Z"
   },
   {
    "duration": 41,
    "start_time": "2022-02-14T07:22:51.611Z"
   },
   {
    "duration": 21,
    "start_time": "2022-02-14T07:22:51.654Z"
   },
   {
    "duration": 30,
    "start_time": "2022-02-14T07:22:51.678Z"
   },
   {
    "duration": 46,
    "start_time": "2022-02-14T07:22:51.710Z"
   },
   {
    "duration": 340,
    "start_time": "2022-02-14T07:22:51.759Z"
   },
   {
    "duration": 249,
    "start_time": "2022-02-14T07:22:52.101Z"
   },
   {
    "duration": 155,
    "start_time": "2022-02-14T07:26:20.943Z"
   },
   {
    "duration": 390,
    "start_time": "2022-02-14T07:26:46.969Z"
   },
   {
    "duration": 1233,
    "start_time": "2022-02-14T07:27:00.224Z"
   },
   {
    "duration": 90,
    "start_time": "2022-02-14T07:27:01.459Z"
   },
   {
    "duration": 121,
    "start_time": "2022-02-14T07:27:01.552Z"
   },
   {
    "duration": 15,
    "start_time": "2022-02-14T07:27:01.676Z"
   },
   {
    "duration": 25,
    "start_time": "2022-02-14T07:27:01.693Z"
   },
   {
    "duration": 52,
    "start_time": "2022-02-14T07:27:01.721Z"
   },
   {
    "duration": 258,
    "start_time": "2022-02-14T07:27:01.775Z"
   },
   {
    "duration": 256,
    "start_time": "2022-02-14T07:27:02.037Z"
   },
   {
    "duration": 5,
    "start_time": "2022-02-14T07:27:02.296Z"
   },
   {
    "duration": 17,
    "start_time": "2022-02-14T07:27:02.304Z"
   },
   {
    "duration": 2061,
    "start_time": "2022-02-14T07:27:02.324Z"
   },
   {
    "duration": 5,
    "start_time": "2022-02-14T07:27:04.388Z"
   },
   {
    "duration": 25,
    "start_time": "2022-02-14T07:27:04.395Z"
   },
   {
    "duration": 15,
    "start_time": "2022-02-14T07:27:04.423Z"
   },
   {
    "duration": 58,
    "start_time": "2022-02-14T07:27:04.441Z"
   },
   {
    "duration": 6,
    "start_time": "2022-02-14T07:27:04.501Z"
   },
   {
    "duration": 261,
    "start_time": "2022-02-14T07:27:04.509Z"
   },
   {
    "duration": 4998,
    "start_time": "2022-02-14T07:27:04.772Z"
   },
   {
    "duration": 7,
    "start_time": "2022-02-14T07:27:09.772Z"
   },
   {
    "duration": 8619,
    "start_time": "2022-02-14T07:27:09.782Z"
   },
   {
    "duration": 347,
    "start_time": "2022-02-14T07:27:18.404Z"
   },
   {
    "duration": 6,
    "start_time": "2022-02-14T07:27:18.753Z"
   },
   {
    "duration": 7,
    "start_time": "2022-02-14T07:27:18.764Z"
   },
   {
    "duration": 568,
    "start_time": "2022-02-14T07:27:18.773Z"
   },
   {
    "duration": 552,
    "start_time": "2022-02-14T07:27:19.343Z"
   },
   {
    "duration": 467,
    "start_time": "2022-02-14T07:27:19.898Z"
   },
   {
    "duration": 84,
    "start_time": "2022-02-14T07:27:20.368Z"
   },
   {
    "duration": 21,
    "start_time": "2022-02-14T07:27:20.455Z"
   },
   {
    "duration": 23,
    "start_time": "2022-02-14T07:27:20.479Z"
   },
   {
    "duration": 63,
    "start_time": "2022-02-14T07:27:20.505Z"
   },
   {
    "duration": 15,
    "start_time": "2022-02-14T07:27:20.571Z"
   },
   {
    "duration": 366,
    "start_time": "2022-02-14T07:27:20.590Z"
   },
   {
    "duration": 1088,
    "start_time": "2022-02-14T07:27:20.958Z"
   },
   {
    "duration": 167,
    "start_time": "2022-02-14T07:31:53.078Z"
   },
   {
    "duration": 475,
    "start_time": "2022-02-14T07:32:41.714Z"
   },
   {
    "duration": 590,
    "start_time": "2022-02-14T07:32:56.703Z"
   },
   {
    "duration": 145,
    "start_time": "2022-02-14T07:33:08.719Z"
   },
   {
    "duration": 176,
    "start_time": "2022-02-14T07:34:10.330Z"
   },
   {
    "duration": 822,
    "start_time": "2022-02-14T07:34:21.461Z"
   },
   {
    "duration": 80,
    "start_time": "2022-02-14T07:34:22.286Z"
   },
   {
    "duration": 116,
    "start_time": "2022-02-14T07:34:22.368Z"
   },
   {
    "duration": 15,
    "start_time": "2022-02-14T07:34:22.486Z"
   },
   {
    "duration": 11,
    "start_time": "2022-02-14T07:34:22.503Z"
   },
   {
    "duration": 61,
    "start_time": "2022-02-14T07:34:22.516Z"
   },
   {
    "duration": 256,
    "start_time": "2022-02-14T07:34:22.580Z"
   },
   {
    "duration": 229,
    "start_time": "2022-02-14T07:34:22.849Z"
   },
   {
    "duration": 4,
    "start_time": "2022-02-14T07:34:23.082Z"
   },
   {
    "duration": 16,
    "start_time": "2022-02-14T07:34:23.090Z"
   },
   {
    "duration": 1982,
    "start_time": "2022-02-14T07:34:23.108Z"
   },
   {
    "duration": 6,
    "start_time": "2022-02-14T07:34:25.093Z"
   },
   {
    "duration": 13,
    "start_time": "2022-02-14T07:34:25.102Z"
   },
   {
    "duration": 14,
    "start_time": "2022-02-14T07:34:25.118Z"
   },
   {
    "duration": 66,
    "start_time": "2022-02-14T07:34:25.134Z"
   },
   {
    "duration": 5,
    "start_time": "2022-02-14T07:34:25.203Z"
   },
   {
    "duration": 252,
    "start_time": "2022-02-14T07:34:25.211Z"
   },
   {
    "duration": 5135,
    "start_time": "2022-02-14T07:34:25.466Z"
   },
   {
    "duration": 6,
    "start_time": "2022-02-14T07:34:30.603Z"
   },
   {
    "duration": 8431,
    "start_time": "2022-02-14T07:34:30.612Z"
   },
   {
    "duration": 320,
    "start_time": "2022-02-14T07:34:39.049Z"
   },
   {
    "duration": 6,
    "start_time": "2022-02-14T07:34:39.371Z"
   },
   {
    "duration": 9,
    "start_time": "2022-02-14T07:34:39.382Z"
   },
   {
    "duration": 468,
    "start_time": "2022-02-14T07:34:39.394Z"
   },
   {
    "duration": 512,
    "start_time": "2022-02-14T07:34:39.865Z"
   },
   {
    "duration": 455,
    "start_time": "2022-02-14T07:34:40.379Z"
   },
   {
    "duration": 69,
    "start_time": "2022-02-14T07:34:40.836Z"
   },
   {
    "duration": 20,
    "start_time": "2022-02-14T07:34:40.907Z"
   },
   {
    "duration": 38,
    "start_time": "2022-02-14T07:34:40.929Z"
   },
   {
    "duration": 32,
    "start_time": "2022-02-14T07:34:40.970Z"
   },
   {
    "duration": 45,
    "start_time": "2022-02-14T07:34:41.005Z"
   },
   {
    "duration": 329,
    "start_time": "2022-02-14T07:34:41.052Z"
   },
   {
    "duration": 239,
    "start_time": "2022-02-14T07:34:41.384Z"
   },
   {
    "duration": 833,
    "start_time": "2022-02-14T07:58:51.034Z"
   },
   {
    "duration": 82,
    "start_time": "2022-02-14T07:58:51.869Z"
   },
   {
    "duration": 115,
    "start_time": "2022-02-14T07:58:51.955Z"
   },
   {
    "duration": 17,
    "start_time": "2022-02-14T07:58:52.073Z"
   },
   {
    "duration": 15,
    "start_time": "2022-02-14T07:58:52.094Z"
   },
   {
    "duration": 66,
    "start_time": "2022-02-14T07:58:52.111Z"
   },
   {
    "duration": 253,
    "start_time": "2022-02-14T07:58:52.179Z"
   },
   {
    "duration": 231,
    "start_time": "2022-02-14T07:58:52.436Z"
   },
   {
    "duration": 5,
    "start_time": "2022-02-14T07:58:52.670Z"
   },
   {
    "duration": 17,
    "start_time": "2022-02-14T07:58:52.677Z"
   },
   {
    "duration": 1964,
    "start_time": "2022-02-14T07:58:52.697Z"
   },
   {
    "duration": 5,
    "start_time": "2022-02-14T07:58:54.663Z"
   },
   {
    "duration": 7,
    "start_time": "2022-02-14T07:58:54.671Z"
   },
   {
    "duration": 11,
    "start_time": "2022-02-14T07:58:54.680Z"
   },
   {
    "duration": 84,
    "start_time": "2022-02-14T07:58:54.694Z"
   },
   {
    "duration": 5,
    "start_time": "2022-02-14T07:58:54.780Z"
   },
   {
    "duration": 253,
    "start_time": "2022-02-14T07:58:54.787Z"
   },
   {
    "duration": 5494,
    "start_time": "2022-02-14T07:58:55.043Z"
   },
   {
    "duration": 13,
    "start_time": "2022-02-14T07:59:00.539Z"
   },
   {
    "duration": 8982,
    "start_time": "2022-02-14T07:59:00.554Z"
   },
   {
    "duration": 325,
    "start_time": "2022-02-14T07:59:09.539Z"
   },
   {
    "duration": 7,
    "start_time": "2022-02-14T07:59:09.866Z"
   },
   {
    "duration": 18,
    "start_time": "2022-02-14T07:59:09.877Z"
   },
   {
    "duration": 446,
    "start_time": "2022-02-14T07:59:09.898Z"
   },
   {
    "duration": 509,
    "start_time": "2022-02-14T07:59:10.349Z"
   },
   {
    "duration": 475,
    "start_time": "2022-02-14T07:59:10.861Z"
   },
   {
    "duration": 69,
    "start_time": "2022-02-14T07:59:11.347Z"
   },
   {
    "duration": 40,
    "start_time": "2022-02-14T07:59:11.418Z"
   },
   {
    "duration": 21,
    "start_time": "2022-02-14T07:59:11.460Z"
   },
   {
    "duration": 30,
    "start_time": "2022-02-14T07:59:11.483Z"
   },
   {
    "duration": 40,
    "start_time": "2022-02-14T07:59:11.516Z"
   },
   {
    "duration": 333,
    "start_time": "2022-02-14T07:59:11.558Z"
   },
   {
    "duration": 248,
    "start_time": "2022-02-14T07:59:11.893Z"
   },
   {
    "duration": 951,
    "start_time": "2022-02-14T13:09:40.802Z"
   },
   {
    "duration": 84,
    "start_time": "2022-02-14T13:09:41.756Z"
   },
   {
    "duration": 120,
    "start_time": "2022-02-14T13:09:41.844Z"
   },
   {
    "duration": 16,
    "start_time": "2022-02-14T13:09:41.968Z"
   },
   {
    "duration": 37,
    "start_time": "2022-02-14T13:09:41.986Z"
   },
   {
    "duration": 33,
    "start_time": "2022-02-14T13:09:42.025Z"
   },
   {
    "duration": 258,
    "start_time": "2022-02-14T13:09:42.061Z"
   },
   {
    "duration": 247,
    "start_time": "2022-02-14T13:09:42.324Z"
   },
   {
    "duration": 6,
    "start_time": "2022-02-14T13:09:42.574Z"
   },
   {
    "duration": 11,
    "start_time": "2022-02-14T13:09:42.583Z"
   },
   {
    "duration": 2162,
    "start_time": "2022-02-14T13:09:42.597Z"
   },
   {
    "duration": 5,
    "start_time": "2022-02-14T13:09:44.762Z"
   },
   {
    "duration": 4,
    "start_time": "2022-02-14T13:09:44.769Z"
   },
   {
    "duration": 9,
    "start_time": "2022-02-14T13:09:44.776Z"
   },
   {
    "duration": 87,
    "start_time": "2022-02-14T13:09:44.788Z"
   },
   {
    "duration": 5,
    "start_time": "2022-02-14T13:09:44.877Z"
   },
   {
    "duration": 278,
    "start_time": "2022-02-14T13:09:44.885Z"
   },
   {
    "duration": 5327,
    "start_time": "2022-02-14T13:09:45.166Z"
   },
   {
    "duration": 6,
    "start_time": "2022-02-14T13:09:50.496Z"
   },
   {
    "duration": 8360,
    "start_time": "2022-02-14T13:09:50.505Z"
   },
   {
    "duration": 335,
    "start_time": "2022-02-14T13:09:58.868Z"
   },
   {
    "duration": 17,
    "start_time": "2022-02-14T13:09:59.206Z"
   },
   {
    "duration": 6,
    "start_time": "2022-02-14T13:09:59.228Z"
   },
   {
    "duration": 480,
    "start_time": "2022-02-14T13:09:59.237Z"
   },
   {
    "duration": 515,
    "start_time": "2022-02-14T13:09:59.723Z"
   },
   {
    "duration": 504,
    "start_time": "2022-02-14T13:10:00.241Z"
   },
   {
    "duration": 87,
    "start_time": "2022-02-14T13:10:00.748Z"
   },
   {
    "duration": 21,
    "start_time": "2022-02-14T13:10:00.838Z"
   },
   {
    "duration": 24,
    "start_time": "2022-02-14T13:10:00.862Z"
   },
   {
    "duration": 66,
    "start_time": "2022-02-14T13:10:00.889Z"
   },
   {
    "duration": 15,
    "start_time": "2022-02-14T13:10:00.958Z"
   },
   {
    "duration": 379,
    "start_time": "2022-02-14T13:10:00.976Z"
   },
   {
    "duration": 245,
    "start_time": "2022-02-14T13:10:01.358Z"
   },
   {
    "duration": 702,
    "start_time": "2022-02-15T06:33:56.400Z"
   },
   {
    "duration": 673,
    "start_time": "2022-02-15T07:07:57.642Z"
   },
   {
    "duration": 37,
    "start_time": "2022-02-15T07:07:58.317Z"
   },
   {
    "duration": 80,
    "start_time": "2022-02-15T07:07:58.356Z"
   },
   {
    "duration": 11,
    "start_time": "2022-02-15T07:07:58.438Z"
   },
   {
    "duration": 29,
    "start_time": "2022-02-15T07:07:58.451Z"
   },
   {
    "duration": 30,
    "start_time": "2022-02-15T07:07:58.482Z"
   },
   {
    "duration": 149,
    "start_time": "2022-02-15T07:07:58.514Z"
   },
   {
    "duration": 170,
    "start_time": "2022-02-15T07:07:58.666Z"
   },
   {
    "duration": 3,
    "start_time": "2022-02-15T07:07:58.838Z"
   },
   {
    "duration": 18,
    "start_time": "2022-02-15T07:07:58.843Z"
   },
   {
    "duration": 1121,
    "start_time": "2022-02-15T07:07:58.863Z"
   },
   {
    "duration": 3,
    "start_time": "2022-02-15T07:07:59.986Z"
   },
   {
    "duration": 4,
    "start_time": "2022-02-15T07:07:59.991Z"
   },
   {
    "duration": 26,
    "start_time": "2022-02-15T07:07:59.997Z"
   },
   {
    "duration": 1311,
    "start_time": "2022-02-15T07:08:00.025Z"
   },
   {
    "duration": -860,
    "start_time": "2022-02-15T07:08:02.199Z"
   },
   {
    "duration": -872,
    "start_time": "2022-02-15T07:08:02.212Z"
   },
   {
    "duration": -877,
    "start_time": "2022-02-15T07:08:02.219Z"
   },
   {
    "duration": -884,
    "start_time": "2022-02-15T07:08:02.227Z"
   },
   {
    "duration": -1062,
    "start_time": "2022-02-15T07:08:02.407Z"
   },
   {
    "duration": -1085,
    "start_time": "2022-02-15T07:08:02.431Z"
   },
   {
    "duration": -1114,
    "start_time": "2022-02-15T07:08:02.462Z"
   },
   {
    "duration": -1122,
    "start_time": "2022-02-15T07:08:02.471Z"
   },
   {
    "duration": -1127,
    "start_time": "2022-02-15T07:08:02.478Z"
   },
   {
    "duration": -1132,
    "start_time": "2022-02-15T07:08:02.484Z"
   },
   {
    "duration": -1135,
    "start_time": "2022-02-15T07:08:02.489Z"
   },
   {
    "duration": -1138,
    "start_time": "2022-02-15T07:08:02.493Z"
   },
   {
    "duration": -1141,
    "start_time": "2022-02-15T07:08:02.498Z"
   },
   {
    "duration": -1373,
    "start_time": "2022-02-15T07:08:02.731Z"
   },
   {
    "duration": -1492,
    "start_time": "2022-02-15T07:08:02.852Z"
   },
   {
    "duration": -1533,
    "start_time": "2022-02-15T07:08:02.894Z"
   },
   {
    "duration": -1536,
    "start_time": "2022-02-15T07:08:02.898Z"
   },
   {
    "duration": -1539,
    "start_time": "2022-02-15T07:08:02.903Z"
   },
   {
    "duration": -1543,
    "start_time": "2022-02-15T07:08:02.908Z"
   },
   {
    "duration": -1544,
    "start_time": "2022-02-15T07:08:02.911Z"
   },
   {
    "duration": -1547,
    "start_time": "2022-02-15T07:08:02.915Z"
   },
   {
    "duration": -1552,
    "start_time": "2022-02-15T07:08:02.921Z"
   },
   {
    "duration": -1679,
    "start_time": "2022-02-15T07:08:03.050Z"
   },
   {
    "duration": -1694,
    "start_time": "2022-02-15T07:08:03.066Z"
   },
   {
    "duration": 156,
    "start_time": "2022-02-15T07:15:51.162Z"
   },
   {
    "duration": 1408,
    "start_time": "2022-02-15T07:15:58.607Z"
   },
   {
    "duration": 709,
    "start_time": "2022-02-15T07:16:54.891Z"
   },
   {
    "duration": 36,
    "start_time": "2022-02-15T07:16:55.602Z"
   },
   {
    "duration": 63,
    "start_time": "2022-02-15T07:16:55.640Z"
   },
   {
    "duration": 22,
    "start_time": "2022-02-15T07:16:55.705Z"
   },
   {
    "duration": 8,
    "start_time": "2022-02-15T07:16:55.729Z"
   },
   {
    "duration": 24,
    "start_time": "2022-02-15T07:16:55.739Z"
   },
   {
    "duration": 155,
    "start_time": "2022-02-15T07:16:55.765Z"
   },
   {
    "duration": 173,
    "start_time": "2022-02-15T07:16:55.922Z"
   },
   {
    "duration": 3,
    "start_time": "2022-02-15T07:16:56.097Z"
   },
   {
    "duration": 20,
    "start_time": "2022-02-15T07:16:56.101Z"
   },
   {
    "duration": 1153,
    "start_time": "2022-02-15T07:16:56.123Z"
   },
   {
    "duration": 4,
    "start_time": "2022-02-15T07:16:57.278Z"
   },
   {
    "duration": 14,
    "start_time": "2022-02-15T07:16:57.283Z"
   },
   {
    "duration": 19,
    "start_time": "2022-02-15T07:16:57.299Z"
   },
   {
    "duration": 148,
    "start_time": "2022-02-15T07:16:57.319Z"
   },
   {
    "duration": 164,
    "start_time": "2022-02-15T07:16:57.469Z"
   },
   {
    "duration": 122,
    "start_time": "2022-02-15T07:16:57.635Z"
   },
   {
    "duration": 113,
    "start_time": "2022-02-15T07:16:57.759Z"
   },
   {
    "duration": 121,
    "start_time": "2022-02-15T07:16:57.874Z"
   },
   {
    "duration": 125,
    "start_time": "2022-02-15T07:16:57.997Z"
   },
   {
    "duration": 31,
    "start_time": "2022-02-15T07:16:58.124Z"
   },
   {
    "duration": 4,
    "start_time": "2022-02-15T07:16:58.156Z"
   },
   {
    "duration": 159,
    "start_time": "2022-02-15T07:16:58.163Z"
   },
   {
    "duration": 3116,
    "start_time": "2022-02-15T07:16:58.324Z"
   },
   {
    "duration": 5,
    "start_time": "2022-02-15T07:17:01.442Z"
   },
   {
    "duration": 6847,
    "start_time": "2022-02-15T07:17:01.448Z"
   },
   {
    "duration": -915,
    "start_time": "2022-02-15T07:17:09.211Z"
   },
   {
    "duration": -922,
    "start_time": "2022-02-15T07:17:09.219Z"
   },
   {
    "duration": -928,
    "start_time": "2022-02-15T07:17:09.226Z"
   },
   {
    "duration": -936,
    "start_time": "2022-02-15T07:17:09.235Z"
   },
   {
    "duration": -944,
    "start_time": "2022-02-15T07:17:09.244Z"
   },
   {
    "duration": -950,
    "start_time": "2022-02-15T07:17:09.251Z"
   },
   {
    "duration": -958,
    "start_time": "2022-02-15T07:17:09.260Z"
   },
   {
    "duration": -964,
    "start_time": "2022-02-15T07:17:09.267Z"
   },
   {
    "duration": -967,
    "start_time": "2022-02-15T07:17:09.284Z"
   },
   {
    "duration": -978,
    "start_time": "2022-02-15T07:17:09.296Z"
   },
   {
    "duration": -992,
    "start_time": "2022-02-15T07:17:09.311Z"
   },
   {
    "duration": -997,
    "start_time": "2022-02-15T07:17:09.317Z"
   },
   {
    "duration": -1002,
    "start_time": "2022-02-15T07:17:09.323Z"
   },
   {
    "duration": 727,
    "start_time": "2022-02-15T07:19:50.075Z"
   },
   {
    "duration": 33,
    "start_time": "2022-02-15T07:19:50.804Z"
   },
   {
    "duration": 62,
    "start_time": "2022-02-15T07:19:50.839Z"
   },
   {
    "duration": 23,
    "start_time": "2022-02-15T07:19:50.903Z"
   },
   {
    "duration": 8,
    "start_time": "2022-02-15T07:19:50.928Z"
   },
   {
    "duration": 24,
    "start_time": "2022-02-15T07:19:50.938Z"
   },
   {
    "duration": 159,
    "start_time": "2022-02-15T07:19:50.964Z"
   },
   {
    "duration": 168,
    "start_time": "2022-02-15T07:19:51.127Z"
   },
   {
    "duration": 4,
    "start_time": "2022-02-15T07:19:51.298Z"
   },
   {
    "duration": 21,
    "start_time": "2022-02-15T07:19:51.304Z"
   },
   {
    "duration": 1171,
    "start_time": "2022-02-15T07:19:51.327Z"
   },
   {
    "duration": 3,
    "start_time": "2022-02-15T07:19:52.500Z"
   },
   {
    "duration": 13,
    "start_time": "2022-02-15T07:19:52.505Z"
   },
   {
    "duration": 15,
    "start_time": "2022-02-15T07:19:52.520Z"
   },
   {
    "duration": 131,
    "start_time": "2022-02-15T07:19:52.537Z"
   },
   {
    "duration": 126,
    "start_time": "2022-02-15T07:19:52.670Z"
   },
   {
    "duration": 130,
    "start_time": "2022-02-15T07:19:52.798Z"
   },
   {
    "duration": 124,
    "start_time": "2022-02-15T07:19:52.929Z"
   },
   {
    "duration": 125,
    "start_time": "2022-02-15T07:19:53.055Z"
   },
   {
    "duration": 121,
    "start_time": "2022-02-15T07:19:53.182Z"
   },
   {
    "duration": 36,
    "start_time": "2022-02-15T07:19:53.305Z"
   },
   {
    "duration": 4,
    "start_time": "2022-02-15T07:19:53.343Z"
   },
   {
    "duration": 156,
    "start_time": "2022-02-15T07:19:53.350Z"
   },
   {
    "duration": 3058,
    "start_time": "2022-02-15T07:19:53.508Z"
   },
   {
    "duration": 5,
    "start_time": "2022-02-15T07:19:56.568Z"
   },
   {
    "duration": 6075,
    "start_time": "2022-02-15T07:19:56.574Z"
   },
   {
    "duration": 228,
    "start_time": "2022-02-15T07:20:02.651Z"
   },
   {
    "duration": 5,
    "start_time": "2022-02-15T07:20:02.881Z"
   },
   {
    "duration": 16,
    "start_time": "2022-02-15T07:20:02.888Z"
   },
   {
    "duration": 298,
    "start_time": "2022-02-15T07:20:02.906Z"
   },
   {
    "duration": 394,
    "start_time": "2022-02-15T07:20:03.205Z"
   },
   {
    "duration": 327,
    "start_time": "2022-02-15T07:20:03.601Z"
   },
   {
    "duration": 46,
    "start_time": "2022-02-15T07:20:03.930Z"
   },
   {
    "duration": 16,
    "start_time": "2022-02-15T07:20:03.978Z"
   },
   {
    "duration": 20,
    "start_time": "2022-02-15T07:20:04.019Z"
   },
   {
    "duration": 22,
    "start_time": "2022-02-15T07:20:04.041Z"
   },
   {
    "duration": 9,
    "start_time": "2022-02-15T07:20:04.064Z"
   },
   {
    "duration": 248,
    "start_time": "2022-02-15T07:20:04.074Z"
   },
   {
    "duration": 165,
    "start_time": "2022-02-15T07:20:04.324Z"
   },
   {
    "duration": 836,
    "start_time": "2022-02-15T07:54:05.633Z"
   },
   {
    "duration": 433112,
    "start_time": "2022-02-15T07:54:58.561Z"
   },
   {
    "duration": 6,
    "start_time": "2022-02-15T08:04:36.434Z"
   },
   {
    "duration": 283,
    "start_time": "2022-02-15T08:08:15.278Z"
   },
   {
    "duration": 756,
    "start_time": "2022-02-15T08:14:44.214Z"
   },
   {
    "duration": 31,
    "start_time": "2022-02-15T08:14:44.972Z"
   },
   {
    "duration": 72,
    "start_time": "2022-02-15T08:14:45.005Z"
   },
   {
    "duration": 11,
    "start_time": "2022-02-15T08:14:45.079Z"
   },
   {
    "duration": 29,
    "start_time": "2022-02-15T08:14:45.091Z"
   },
   {
    "duration": 25,
    "start_time": "2022-02-15T08:14:45.121Z"
   },
   {
    "duration": 150,
    "start_time": "2022-02-15T08:14:45.148Z"
   },
   {
    "duration": 178,
    "start_time": "2022-02-15T08:14:45.300Z"
   },
   {
    "duration": 4,
    "start_time": "2022-02-15T08:14:45.481Z"
   },
   {
    "duration": 22,
    "start_time": "2022-02-15T08:14:45.487Z"
   },
   {
    "duration": 1395,
    "start_time": "2022-02-15T08:14:45.511Z"
   },
   {
    "duration": 13,
    "start_time": "2022-02-15T08:14:46.907Z"
   },
   {
    "duration": 9,
    "start_time": "2022-02-15T08:14:46.921Z"
   },
   {
    "duration": 19,
    "start_time": "2022-02-15T08:14:46.932Z"
   },
   {
    "duration": 137,
    "start_time": "2022-02-15T08:14:46.953Z"
   },
   {
    "duration": 121,
    "start_time": "2022-02-15T08:14:47.092Z"
   },
   {
    "duration": 126,
    "start_time": "2022-02-15T08:14:47.215Z"
   },
   {
    "duration": 115,
    "start_time": "2022-02-15T08:14:47.343Z"
   },
   {
    "duration": 123,
    "start_time": "2022-02-15T08:14:47.460Z"
   },
   {
    "duration": 122,
    "start_time": "2022-02-15T08:14:47.585Z"
   },
   {
    "duration": 34,
    "start_time": "2022-02-15T08:14:47.709Z"
   },
   {
    "duration": 35,
    "start_time": "2022-02-15T08:14:47.744Z"
   },
   {
    "duration": 147,
    "start_time": "2022-02-15T08:14:47.781Z"
   },
   {
    "duration": 3033,
    "start_time": "2022-02-15T08:14:47.930Z"
   },
   {
    "duration": 5,
    "start_time": "2022-02-15T08:14:50.965Z"
   },
   {
    "duration": 6134,
    "start_time": "2022-02-15T08:14:50.971Z"
   },
   {
    "duration": 193,
    "start_time": "2022-02-15T08:14:57.117Z"
   },
   {
    "duration": 4,
    "start_time": "2022-02-15T08:14:57.318Z"
   },
   {
    "duration": 6,
    "start_time": "2022-02-15T08:14:57.324Z"
   },
   {
    "duration": 304,
    "start_time": "2022-02-15T08:14:57.331Z"
   },
   {
    "duration": 362,
    "start_time": "2022-02-15T08:14:57.637Z"
   },
   {
    "duration": 295,
    "start_time": "2022-02-15T08:14:58.001Z"
   },
   {
    "duration": 45,
    "start_time": "2022-02-15T08:14:58.298Z"
   },
   {
    "duration": 13,
    "start_time": "2022-02-15T08:14:58.344Z"
   },
   {
    "duration": 15,
    "start_time": "2022-02-15T08:14:58.358Z"
   },
   {
    "duration": 20,
    "start_time": "2022-02-15T08:14:58.374Z"
   },
   {
    "duration": 30,
    "start_time": "2022-02-15T08:14:58.395Z"
   },
   {
    "duration": 185,
    "start_time": "2022-02-15T08:14:58.426Z"
   },
   {
    "duration": 167,
    "start_time": "2022-02-15T08:14:58.618Z"
   },
   {
    "duration": 5,
    "start_time": "2022-02-15T08:14:58.786Z"
   },
   {
    "duration": 432,
    "start_time": "2022-02-15T08:14:58.792Z"
   },
   {
    "duration": 807,
    "start_time": "2022-02-15T08:27:35.004Z"
   },
   {
    "duration": 35,
    "start_time": "2022-02-15T08:27:35.813Z"
   },
   {
    "duration": 73,
    "start_time": "2022-02-15T08:27:35.850Z"
   },
   {
    "duration": 11,
    "start_time": "2022-02-15T08:27:35.925Z"
   },
   {
    "duration": 26,
    "start_time": "2022-02-15T08:27:35.938Z"
   },
   {
    "duration": 25,
    "start_time": "2022-02-15T08:27:35.966Z"
   },
   {
    "duration": 165,
    "start_time": "2022-02-15T08:27:35.993Z"
   },
   {
    "duration": 174,
    "start_time": "2022-02-15T08:27:36.161Z"
   },
   {
    "duration": 4,
    "start_time": "2022-02-15T08:27:36.338Z"
   },
   {
    "duration": 35,
    "start_time": "2022-02-15T08:27:36.344Z"
   },
   {
    "duration": 1340,
    "start_time": "2022-02-15T08:27:36.381Z"
   },
   {
    "duration": 5,
    "start_time": "2022-02-15T08:27:37.723Z"
   },
   {
    "duration": 23,
    "start_time": "2022-02-15T08:27:37.729Z"
   },
   {
    "duration": 14,
    "start_time": "2022-02-15T08:27:37.754Z"
   },
   {
    "duration": 131,
    "start_time": "2022-02-15T08:27:37.770Z"
   },
   {
    "duration": 120,
    "start_time": "2022-02-15T08:27:37.903Z"
   },
   {
    "duration": 130,
    "start_time": "2022-02-15T08:27:38.025Z"
   },
   {
    "duration": 133,
    "start_time": "2022-02-15T08:27:38.157Z"
   },
   {
    "duration": 126,
    "start_time": "2022-02-15T08:27:38.292Z"
   },
   {
    "duration": 129,
    "start_time": "2022-02-15T08:27:38.420Z"
   },
   {
    "duration": 38,
    "start_time": "2022-02-15T08:27:38.551Z"
   },
   {
    "duration": 138,
    "start_time": "2022-02-15T08:27:38.591Z"
   },
   {
    "duration": 4,
    "start_time": "2022-02-15T08:27:38.733Z"
   },
   {
    "duration": 156,
    "start_time": "2022-02-15T08:27:38.739Z"
   },
   {
    "duration": 3155,
    "start_time": "2022-02-15T08:27:38.897Z"
   },
   {
    "duration": 6,
    "start_time": "2022-02-15T08:27:42.053Z"
   },
   {
    "duration": 6957,
    "start_time": "2022-02-15T08:27:42.061Z"
   },
   {
    "duration": 217,
    "start_time": "2022-02-15T08:27:49.020Z"
   },
   {
    "duration": 4,
    "start_time": "2022-02-15T08:27:49.239Z"
   },
   {
    "duration": 15,
    "start_time": "2022-02-15T08:27:49.245Z"
   },
   {
    "duration": 313,
    "start_time": "2022-02-15T08:27:49.262Z"
   },
   {
    "duration": 396,
    "start_time": "2022-02-15T08:27:49.577Z"
   },
   {
    "duration": 322,
    "start_time": "2022-02-15T08:27:49.975Z"
   },
   {
    "duration": 8466,
    "start_time": "2022-02-15T08:27:50.299Z"
   },
   {
    "duration": -381,
    "start_time": "2022-02-15T08:27:59.148Z"
   },
   {
    "duration": -397,
    "start_time": "2022-02-15T08:27:59.164Z"
   },
   {
    "duration": -410,
    "start_time": "2022-02-15T08:27:59.178Z"
   },
   {
    "duration": -420,
    "start_time": "2022-02-15T08:27:59.189Z"
   },
   {
    "duration": -436,
    "start_time": "2022-02-15T08:27:59.206Z"
   },
   {
    "duration": -452,
    "start_time": "2022-02-15T08:27:59.223Z"
   },
   {
    "duration": -462,
    "start_time": "2022-02-15T08:27:59.234Z"
   },
   {
    "duration": -475,
    "start_time": "2022-02-15T08:27:59.248Z"
   },
   {
    "duration": -486,
    "start_time": "2022-02-15T08:27:59.260Z"
   },
   {
    "duration": 133,
    "start_time": "2022-02-15T08:36:39.858Z"
   },
   {
    "duration": 43,
    "start_time": "2022-02-15T08:36:58.246Z"
   },
   {
    "duration": 15,
    "start_time": "2022-02-15T08:37:09.565Z"
   },
   {
    "duration": 18,
    "start_time": "2022-02-15T08:37:12.196Z"
   },
   {
    "duration": 21,
    "start_time": "2022-02-15T08:37:14.146Z"
   },
   {
    "duration": 9,
    "start_time": "2022-02-15T08:37:15.531Z"
   },
   {
    "duration": 185,
    "start_time": "2022-02-15T08:37:18.893Z"
   },
   {
    "duration": 164,
    "start_time": "2022-02-15T08:37:26.414Z"
   },
   {
    "duration": 5,
    "start_time": "2022-02-15T08:37:27.933Z"
   },
   {
    "duration": 684445,
    "start_time": "2022-02-15T08:37:30.476Z"
   },
   {
    "duration": 294,
    "start_time": "2022-02-15T10:52:43.495Z"
   },
   {
    "duration": -65,
    "start_time": "2022-02-15T10:53:41.696Z"
   },
   {
    "duration": -70,
    "start_time": "2022-02-15T10:53:41.702Z"
   },
   {
    "duration": -112,
    "start_time": "2022-02-15T10:53:41.744Z"
   },
   {
    "duration": -115,
    "start_time": "2022-02-15T10:53:41.748Z"
   },
   {
    "duration": -123,
    "start_time": "2022-02-15T10:53:41.757Z"
   },
   {
    "duration": -127,
    "start_time": "2022-02-15T10:53:41.762Z"
   },
   {
    "duration": -145,
    "start_time": "2022-02-15T10:53:41.781Z"
   },
   {
    "duration": -152,
    "start_time": "2022-02-15T10:53:41.789Z"
   },
   {
    "duration": -155,
    "start_time": "2022-02-15T10:53:41.792Z"
   },
   {
    "duration": -160,
    "start_time": "2022-02-15T10:53:41.798Z"
   },
   {
    "duration": -164,
    "start_time": "2022-02-15T10:53:41.803Z"
   },
   {
    "duration": -167,
    "start_time": "2022-02-15T10:53:41.807Z"
   },
   {
    "duration": -171,
    "start_time": "2022-02-15T10:53:41.811Z"
   },
   {
    "duration": -174,
    "start_time": "2022-02-15T10:53:41.815Z"
   },
   {
    "duration": -177,
    "start_time": "2022-02-15T10:53:41.819Z"
   },
   {
    "duration": -180,
    "start_time": "2022-02-15T10:53:41.823Z"
   },
   {
    "duration": -184,
    "start_time": "2022-02-15T10:53:41.827Z"
   },
   {
    "duration": -187,
    "start_time": "2022-02-15T10:53:41.831Z"
   },
   {
    "duration": -198,
    "start_time": "2022-02-15T10:53:41.843Z"
   },
   {
    "duration": -201,
    "start_time": "2022-02-15T10:53:41.847Z"
   },
   {
    "duration": -205,
    "start_time": "2022-02-15T10:53:41.852Z"
   },
   {
    "duration": -209,
    "start_time": "2022-02-15T10:53:41.856Z"
   },
   {
    "duration": -212,
    "start_time": "2022-02-15T10:53:41.860Z"
   },
   {
    "duration": -229,
    "start_time": "2022-02-15T10:53:41.878Z"
   },
   {
    "duration": -232,
    "start_time": "2022-02-15T10:53:41.882Z"
   },
   {
    "duration": -238,
    "start_time": "2022-02-15T10:53:41.890Z"
   },
   {
    "duration": -242,
    "start_time": "2022-02-15T10:53:41.895Z"
   },
   {
    "duration": -246,
    "start_time": "2022-02-15T10:53:41.900Z"
   },
   {
    "duration": -250,
    "start_time": "2022-02-15T10:53:41.905Z"
   },
   {
    "duration": -253,
    "start_time": "2022-02-15T10:53:41.909Z"
   },
   {
    "duration": -327,
    "start_time": "2022-02-15T10:53:41.984Z"
   },
   {
    "duration": -328,
    "start_time": "2022-02-15T10:53:41.987Z"
   },
   {
    "duration": -332,
    "start_time": "2022-02-15T10:53:41.994Z"
   },
   {
    "duration": -334,
    "start_time": "2022-02-15T10:53:41.997Z"
   },
   {
    "duration": -336,
    "start_time": "2022-02-15T10:53:42.001Z"
   },
   {
    "duration": -338,
    "start_time": "2022-02-15T10:53:42.004Z"
   },
   {
    "duration": -340,
    "start_time": "2022-02-15T10:53:42.007Z"
   },
   {
    "duration": -343,
    "start_time": "2022-02-15T10:53:42.011Z"
   },
   {
    "duration": -346,
    "start_time": "2022-02-15T10:53:42.015Z"
   },
   {
    "duration": -301,
    "start_time": "2022-02-15T10:53:42.019Z"
   },
   {
    "duration": -304,
    "start_time": "2022-02-15T10:53:42.024Z"
   },
   {
    "duration": -306,
    "start_time": "2022-02-15T10:53:42.027Z"
   },
   {
    "duration": -309,
    "start_time": "2022-02-15T10:53:42.031Z"
   },
   {
    "duration": -311,
    "start_time": "2022-02-15T10:53:42.034Z"
   },
   {
    "duration": 748,
    "start_time": "2022-02-15T10:54:32.453Z"
   },
   {
    "duration": 35,
    "start_time": "2022-02-15T10:54:33.203Z"
   },
   {
    "duration": 64,
    "start_time": "2022-02-15T10:54:33.241Z"
   },
   {
    "duration": 11,
    "start_time": "2022-02-15T10:54:33.319Z"
   },
   {
    "duration": 9,
    "start_time": "2022-02-15T10:54:33.332Z"
   },
   {
    "duration": 25,
    "start_time": "2022-02-15T10:54:33.343Z"
   },
   {
    "duration": 165,
    "start_time": "2022-02-15T10:54:33.370Z"
   },
   {
    "duration": 178,
    "start_time": "2022-02-15T10:54:33.538Z"
   },
   {
    "duration": 4,
    "start_time": "2022-02-15T10:54:33.719Z"
   },
   {
    "duration": 11,
    "start_time": "2022-02-15T10:54:33.726Z"
   },
   {
    "duration": 1224,
    "start_time": "2022-02-15T10:54:33.739Z"
   },
   {
    "duration": 3,
    "start_time": "2022-02-15T10:54:34.965Z"
   },
   {
    "duration": 6,
    "start_time": "2022-02-15T10:54:34.970Z"
   },
   {
    "duration": 12,
    "start_time": "2022-02-15T10:54:34.977Z"
   },
   {
    "duration": 142,
    "start_time": "2022-02-15T10:54:34.991Z"
   },
   {
    "duration": 136,
    "start_time": "2022-02-15T10:54:35.135Z"
   },
   {
    "duration": 135,
    "start_time": "2022-02-15T10:54:35.273Z"
   },
   {
    "duration": 135,
    "start_time": "2022-02-15T10:54:35.410Z"
   },
   {
    "duration": 128,
    "start_time": "2022-02-15T10:54:35.547Z"
   },
   {
    "duration": 137,
    "start_time": "2022-02-15T10:54:35.676Z"
   },
   {
    "duration": 32,
    "start_time": "2022-02-15T10:54:35.815Z"
   },
   {
    "duration": 138,
    "start_time": "2022-02-15T10:54:35.849Z"
   },
   {
    "duration": 4,
    "start_time": "2022-02-15T10:54:35.990Z"
   },
   {
    "duration": 162,
    "start_time": "2022-02-15T10:54:35.996Z"
   },
   {
    "duration": 3262,
    "start_time": "2022-02-15T10:54:36.161Z"
   },
   {
    "duration": 5,
    "start_time": "2022-02-15T10:54:39.425Z"
   },
   {
    "duration": 6034,
    "start_time": "2022-02-15T10:54:39.432Z"
   },
   {
    "duration": 218,
    "start_time": "2022-02-15T10:54:45.468Z"
   },
   {
    "duration": 4,
    "start_time": "2022-02-15T10:54:45.688Z"
   },
   {
    "duration": 6,
    "start_time": "2022-02-15T10:54:45.694Z"
   },
   {
    "duration": 322,
    "start_time": "2022-02-15T10:54:45.701Z"
   },
   {
    "duration": 418,
    "start_time": "2022-02-15T10:54:46.024Z"
   },
   {
    "duration": -57,
    "start_time": "2022-02-15T10:54:46.501Z"
   },
   {
    "duration": -69,
    "start_time": "2022-02-15T10:54:46.514Z"
   },
   {
    "duration": -75,
    "start_time": "2022-02-15T10:54:46.521Z"
   },
   {
    "duration": -78,
    "start_time": "2022-02-15T10:54:46.525Z"
   },
   {
    "duration": -80,
    "start_time": "2022-02-15T10:54:46.528Z"
   },
   {
    "duration": -83,
    "start_time": "2022-02-15T10:54:46.532Z"
   },
   {
    "duration": -85,
    "start_time": "2022-02-15T10:54:46.535Z"
   },
   {
    "duration": -89,
    "start_time": "2022-02-15T10:54:46.540Z"
   },
   {
    "duration": -100,
    "start_time": "2022-02-15T10:54:46.552Z"
   },
   {
    "duration": -114,
    "start_time": "2022-02-15T10:54:46.567Z"
   },
   {
    "duration": -125,
    "start_time": "2022-02-15T10:54:46.580Z"
   },
   {
    "duration": -139,
    "start_time": "2022-02-15T10:54:46.595Z"
   },
   {
    "duration": 195,
    "start_time": "2022-02-15T10:57:57.163Z"
   },
   {
    "duration": 6,
    "start_time": "2022-02-15T10:58:43.648Z"
   },
   {
    "duration": 804,
    "start_time": "2022-02-15T10:58:55.100Z"
   },
   {
    "duration": 32,
    "start_time": "2022-02-15T10:58:55.906Z"
   },
   {
    "duration": 72,
    "start_time": "2022-02-15T10:58:55.939Z"
   },
   {
    "duration": 13,
    "start_time": "2022-02-15T10:58:56.013Z"
   },
   {
    "duration": 8,
    "start_time": "2022-02-15T10:58:56.028Z"
   },
   {
    "duration": 26,
    "start_time": "2022-02-15T10:58:56.038Z"
   },
   {
    "duration": 168,
    "start_time": "2022-02-15T10:58:56.066Z"
   },
   {
    "duration": 182,
    "start_time": "2022-02-15T10:58:56.237Z"
   },
   {
    "duration": 4,
    "start_time": "2022-02-15T10:58:56.421Z"
   },
   {
    "duration": 23,
    "start_time": "2022-02-15T10:58:56.426Z"
   },
   {
    "duration": 1267,
    "start_time": "2022-02-15T10:58:56.451Z"
   },
   {
    "duration": 4,
    "start_time": "2022-02-15T10:58:57.720Z"
   },
   {
    "duration": 8,
    "start_time": "2022-02-15T10:58:57.726Z"
   },
   {
    "duration": 18,
    "start_time": "2022-02-15T10:58:57.735Z"
   },
   {
    "duration": 160,
    "start_time": "2022-02-15T10:58:57.754Z"
   },
   {
    "duration": 123,
    "start_time": "2022-02-15T10:58:57.916Z"
   },
   {
    "duration": 139,
    "start_time": "2022-02-15T10:58:58.040Z"
   },
   {
    "duration": 133,
    "start_time": "2022-02-15T10:58:58.181Z"
   },
   {
    "duration": 124,
    "start_time": "2022-02-15T10:58:58.316Z"
   },
   {
    "duration": 129,
    "start_time": "2022-02-15T10:58:58.442Z"
   },
   {
    "duration": 34,
    "start_time": "2022-02-15T10:58:58.573Z"
   },
   {
    "duration": 132,
    "start_time": "2022-02-15T10:58:58.619Z"
   },
   {
    "duration": 4,
    "start_time": "2022-02-15T10:58:58.755Z"
   },
   {
    "duration": 158,
    "start_time": "2022-02-15T10:58:58.761Z"
   },
   {
    "duration": 3423,
    "start_time": "2022-02-15T10:58:58.921Z"
   },
   {
    "duration": 6,
    "start_time": "2022-02-15T10:59:02.346Z"
   },
   {
    "duration": 6154,
    "start_time": "2022-02-15T10:59:02.353Z"
   },
   {
    "duration": 209,
    "start_time": "2022-02-15T10:59:08.509Z"
   },
   {
    "duration": 6,
    "start_time": "2022-02-15T10:59:08.720Z"
   },
   {
    "duration": 7,
    "start_time": "2022-02-15T10:59:08.728Z"
   },
   {
    "duration": 334,
    "start_time": "2022-02-15T10:59:08.737Z"
   },
   {
    "duration": 5,
    "start_time": "2022-02-15T10:59:09.074Z"
   },
   {
    "duration": 218,
    "start_time": "2022-02-15T10:59:09.081Z"
   },
   {
    "duration": 330,
    "start_time": "2022-02-15T10:59:09.302Z"
   },
   {
    "duration": 136,
    "start_time": "2022-02-15T10:59:09.634Z"
   },
   {
    "duration": 47,
    "start_time": "2022-02-15T10:59:09.772Z"
   },
   {
    "duration": 17,
    "start_time": "2022-02-15T10:59:09.821Z"
   },
   {
    "duration": 17,
    "start_time": "2022-02-15T10:59:09.840Z"
   },
   {
    "duration": 20,
    "start_time": "2022-02-15T10:59:09.859Z"
   },
   {
    "duration": 42,
    "start_time": "2022-02-15T10:59:09.881Z"
   },
   {
    "duration": 201,
    "start_time": "2022-02-15T10:59:09.924Z"
   },
   {
    "duration": 181,
    "start_time": "2022-02-15T10:59:10.127Z"
   },
   {
    "duration": 8,
    "start_time": "2022-02-15T10:59:10.310Z"
   },
   {
    "duration": 452143,
    "start_time": "2022-02-15T10:59:10.320Z"
   },
   {
    "duration": 31,
    "start_time": "2022-02-15T11:10:07.594Z"
   },
   {
    "duration": 7,
    "start_time": "2022-02-15T11:14:46.339Z"
   },
   {
    "duration": 10,
    "start_time": "2022-02-15T11:14:51.868Z"
   },
   {
    "duration": 10,
    "start_time": "2022-02-15T11:15:06.549Z"
   },
   {
    "duration": 814,
    "start_time": "2022-02-15T11:19:23.259Z"
   },
   {
    "duration": 43,
    "start_time": "2022-02-15T11:19:24.075Z"
   },
   {
    "duration": 112,
    "start_time": "2022-02-15T11:19:24.121Z"
   },
   {
    "duration": 16,
    "start_time": "2022-02-15T11:19:24.235Z"
   },
   {
    "duration": 15,
    "start_time": "2022-02-15T11:19:24.254Z"
   },
   {
    "duration": 60,
    "start_time": "2022-02-15T11:19:24.272Z"
   },
   {
    "duration": 226,
    "start_time": "2022-02-15T11:19:24.334Z"
   },
   {
    "duration": 272,
    "start_time": "2022-02-15T11:19:24.564Z"
   },
   {
    "duration": 4,
    "start_time": "2022-02-15T11:19:24.839Z"
   },
   {
    "duration": 49,
    "start_time": "2022-02-15T11:19:24.845Z"
   },
   {
    "duration": 1981,
    "start_time": "2022-02-15T11:19:24.896Z"
   },
   {
    "duration": 5,
    "start_time": "2022-02-15T11:19:26.880Z"
   },
   {
    "duration": 19,
    "start_time": "2022-02-15T11:19:26.887Z"
   },
   {
    "duration": 31,
    "start_time": "2022-02-15T11:19:26.909Z"
   },
   {
    "duration": 218,
    "start_time": "2022-02-15T11:19:26.942Z"
   },
   {
    "duration": 208,
    "start_time": "2022-02-15T11:19:27.162Z"
   },
   {
    "duration": 204,
    "start_time": "2022-02-15T11:19:27.372Z"
   },
   {
    "duration": 137,
    "start_time": "2022-02-15T11:19:27.578Z"
   },
   {
    "duration": 136,
    "start_time": "2022-02-15T11:19:27.719Z"
   },
   {
    "duration": 138,
    "start_time": "2022-02-15T11:19:27.857Z"
   },
   {
    "duration": 42,
    "start_time": "2022-02-15T11:19:27.996Z"
   },
   {
    "duration": 141,
    "start_time": "2022-02-15T11:19:28.039Z"
   },
   {
    "duration": 4,
    "start_time": "2022-02-15T11:19:28.184Z"
   },
   {
    "duration": 167,
    "start_time": "2022-02-15T11:19:28.190Z"
   },
   {
    "duration": 3333,
    "start_time": "2022-02-15T11:19:28.359Z"
   },
   {
    "duration": 6,
    "start_time": "2022-02-15T11:19:31.695Z"
   },
   {
    "duration": 6626,
    "start_time": "2022-02-15T11:19:31.702Z"
   },
   {
    "duration": 213,
    "start_time": "2022-02-15T11:19:38.330Z"
   },
   {
    "duration": 6,
    "start_time": "2022-02-15T11:19:38.545Z"
   },
   {
    "duration": 7,
    "start_time": "2022-02-15T11:19:38.553Z"
   },
   {
    "duration": 6,
    "start_time": "2022-02-15T11:19:38.562Z"
   },
   {
    "duration": 332,
    "start_time": "2022-02-15T11:19:38.570Z"
   },
   {
    "duration": 16,
    "start_time": "2022-02-15T11:19:38.905Z"
   },
   {
    "duration": 6,
    "start_time": "2022-02-15T11:19:38.923Z"
   },
   {
    "duration": 216,
    "start_time": "2022-02-15T11:19:38.931Z"
   },
   {
    "duration": 5,
    "start_time": "2022-02-15T11:19:39.150Z"
   },
   {
    "duration": 321,
    "start_time": "2022-02-15T11:19:39.157Z"
   },
   {
    "duration": 5,
    "start_time": "2022-02-15T11:19:39.480Z"
   },
   {
    "duration": 57,
    "start_time": "2022-02-15T11:19:39.487Z"
   },
   {
    "duration": 17,
    "start_time": "2022-02-15T11:19:39.546Z"
   },
   {
    "duration": 18,
    "start_time": "2022-02-15T11:19:39.566Z"
   },
   {
    "duration": 47,
    "start_time": "2022-02-15T11:19:39.586Z"
   },
   {
    "duration": 11,
    "start_time": "2022-02-15T11:19:39.635Z"
   },
   {
    "duration": 214,
    "start_time": "2022-02-15T11:19:39.648Z"
   },
   {
    "duration": 186,
    "start_time": "2022-02-15T11:19:39.863Z"
   },
   {
    "duration": 5,
    "start_time": "2022-02-15T11:19:40.051Z"
   },
   {
    "duration": 456475,
    "start_time": "2022-02-15T11:19:40.058Z"
   },
   {
    "duration": 193,
    "start_time": "2022-02-15T11:28:04.630Z"
   },
   {
    "duration": 185,
    "start_time": "2022-02-15T11:40:57.738Z"
   },
   {
    "duration": 189,
    "start_time": "2022-02-15T11:41:24.209Z"
   },
   {
    "duration": 334,
    "start_time": "2022-02-15T14:42:08.613Z"
   },
   {
    "duration": 915,
    "start_time": "2022-02-15T14:42:17.538Z"
   },
   {
    "duration": 48,
    "start_time": "2022-02-15T14:42:18.456Z"
   },
   {
    "duration": 110,
    "start_time": "2022-02-15T14:42:18.506Z"
   },
   {
    "duration": 23,
    "start_time": "2022-02-15T14:42:18.618Z"
   },
   {
    "duration": 11,
    "start_time": "2022-02-15T14:42:18.644Z"
   },
   {
    "duration": 32,
    "start_time": "2022-02-15T14:42:18.658Z"
   },
   {
    "duration": 274,
    "start_time": "2022-02-15T14:42:18.693Z"
   },
   {
    "duration": 289,
    "start_time": "2022-02-15T14:42:18.972Z"
   },
   {
    "duration": 5,
    "start_time": "2022-02-15T14:42:19.265Z"
   },
   {
    "duration": 15,
    "start_time": "2022-02-15T14:42:19.273Z"
   },
   {
    "duration": 2068,
    "start_time": "2022-02-15T14:42:19.290Z"
   },
   {
    "duration": 4,
    "start_time": "2022-02-15T14:42:21.361Z"
   },
   {
    "duration": 9,
    "start_time": "2022-02-15T14:42:21.367Z"
   },
   {
    "duration": 23,
    "start_time": "2022-02-15T14:42:21.379Z"
   },
   {
    "duration": 266,
    "start_time": "2022-02-15T14:42:21.405Z"
   },
   {
    "duration": 217,
    "start_time": "2022-02-15T14:42:21.674Z"
   },
   {
    "duration": 234,
    "start_time": "2022-02-15T14:42:21.893Z"
   },
   {
    "duration": 219,
    "start_time": "2022-02-15T14:42:22.129Z"
   },
   {
    "duration": 235,
    "start_time": "2022-02-15T14:42:22.350Z"
   },
   {
    "duration": 224,
    "start_time": "2022-02-15T14:42:22.587Z"
   },
   {
    "duration": 52,
    "start_time": "2022-02-15T14:42:22.814Z"
   },
   {
    "duration": 186,
    "start_time": "2022-02-15T14:42:22.869Z"
   },
   {
    "duration": 6,
    "start_time": "2022-02-15T14:42:23.060Z"
   },
   {
    "duration": 232,
    "start_time": "2022-02-15T14:42:23.069Z"
   },
   {
    "duration": 5437,
    "start_time": "2022-02-15T14:42:23.303Z"
   },
   {
    "duration": 8,
    "start_time": "2022-02-15T14:42:28.743Z"
   },
   {
    "duration": 8887,
    "start_time": "2022-02-15T14:42:28.753Z"
   },
   {
    "duration": 349,
    "start_time": "2022-02-15T14:42:37.643Z"
   },
   {
    "duration": 6,
    "start_time": "2022-02-15T14:42:37.994Z"
   },
   {
    "duration": 30,
    "start_time": "2022-02-15T14:42:38.002Z"
   },
   {
    "duration": 7,
    "start_time": "2022-02-15T14:42:38.035Z"
   },
   {
    "duration": 478,
    "start_time": "2022-02-15T14:42:38.045Z"
   },
   {
    "duration": 9,
    "start_time": "2022-02-15T14:42:38.526Z"
   },
   {
    "duration": 7,
    "start_time": "2022-02-15T14:42:38.537Z"
   },
   {
    "duration": 255,
    "start_time": "2022-02-15T14:42:38.546Z"
   },
   {
    "duration": 6,
    "start_time": "2022-02-15T14:42:38.803Z"
   },
   {
    "duration": 462,
    "start_time": "2022-02-15T14:42:38.811Z"
   },
   {
    "duration": 7,
    "start_time": "2022-02-15T14:42:39.275Z"
   },
   {
    "duration": 72,
    "start_time": "2022-02-15T14:42:39.284Z"
   },
   {
    "duration": 22,
    "start_time": "2022-02-15T14:42:39.359Z"
   },
   {
    "duration": 52,
    "start_time": "2022-02-15T14:42:39.384Z"
   },
   {
    "duration": 31,
    "start_time": "2022-02-15T14:42:39.439Z"
   },
   {
    "duration": 12,
    "start_time": "2022-02-15T14:42:39.473Z"
   },
   {
    "duration": 303,
    "start_time": "2022-02-15T14:42:39.487Z"
   },
   {
    "duration": 240,
    "start_time": "2022-02-15T14:42:39.792Z"
   },
   {
    "duration": 6,
    "start_time": "2022-02-15T14:42:40.035Z"
   },
   {
    "duration": 5,
    "start_time": "2022-02-15T14:42:40.043Z"
   },
   {
    "duration": 6787,
    "start_time": "2022-02-15T14:42:40.050Z"
   },
   {
    "duration": 512062,
    "start_time": "2022-02-15T14:43:00.947Z"
   },
   {
    "duration": 367322,
    "start_time": "2022-02-15T14:56:57.833Z"
   },
   {
    "duration": 367538,
    "start_time": "2022-02-15T16:26:11.271Z"
   },
   {
    "duration": 1022,
    "start_time": "2022-02-15T17:12:03.881Z"
   },
   {
    "duration": 53,
    "start_time": "2022-02-15T17:12:04.906Z"
   },
   {
    "duration": 116,
    "start_time": "2022-02-15T17:12:04.963Z"
   },
   {
    "duration": 14,
    "start_time": "2022-02-15T17:12:05.082Z"
   },
   {
    "duration": 34,
    "start_time": "2022-02-15T17:12:05.098Z"
   },
   {
    "duration": 33,
    "start_time": "2022-02-15T17:12:05.135Z"
   },
   {
    "duration": 291,
    "start_time": "2022-02-15T17:12:05.172Z"
   },
   {
    "duration": 338,
    "start_time": "2022-02-15T17:12:05.467Z"
   },
   {
    "duration": 4,
    "start_time": "2022-02-15T17:12:05.808Z"
   },
   {
    "duration": 27,
    "start_time": "2022-02-15T17:12:05.814Z"
   },
   {
    "duration": 2444,
    "start_time": "2022-02-15T17:12:05.845Z"
   },
   {
    "duration": 5,
    "start_time": "2022-02-15T17:12:08.292Z"
   },
   {
    "duration": 12,
    "start_time": "2022-02-15T17:12:08.299Z"
   },
   {
    "duration": 25,
    "start_time": "2022-02-15T17:12:08.313Z"
   },
   {
    "duration": 244,
    "start_time": "2022-02-15T17:12:08.340Z"
   },
   {
    "duration": 257,
    "start_time": "2022-02-15T17:12:08.587Z"
   },
   {
    "duration": 244,
    "start_time": "2022-02-15T17:12:08.846Z"
   },
   {
    "duration": 233,
    "start_time": "2022-02-15T17:12:09.093Z"
   },
   {
    "duration": 230,
    "start_time": "2022-02-15T17:12:09.329Z"
   },
   {
    "duration": 230,
    "start_time": "2022-02-15T17:12:09.562Z"
   },
   {
    "duration": 58,
    "start_time": "2022-02-15T17:12:09.795Z"
   },
   {
    "duration": 221,
    "start_time": "2022-02-15T17:12:09.855Z"
   },
   {
    "duration": 6,
    "start_time": "2022-02-15T17:12:10.084Z"
   },
   {
    "duration": 254,
    "start_time": "2022-02-15T17:12:10.094Z"
   },
   {
    "duration": 5610,
    "start_time": "2022-02-15T17:12:10.352Z"
   },
   {
    "duration": 7,
    "start_time": "2022-02-15T17:12:15.965Z"
   },
   {
    "duration": 8751,
    "start_time": "2022-02-15T17:12:15.974Z"
   },
   {
    "duration": 341,
    "start_time": "2022-02-15T17:12:24.728Z"
   },
   {
    "duration": 6,
    "start_time": "2022-02-15T17:12:25.071Z"
   },
   {
    "duration": 7,
    "start_time": "2022-02-15T17:12:25.079Z"
   },
   {
    "duration": 5,
    "start_time": "2022-02-15T17:12:25.088Z"
   },
   {
    "duration": 496,
    "start_time": "2022-02-15T17:12:25.096Z"
   },
   {
    "duration": 7,
    "start_time": "2022-02-15T17:12:25.595Z"
   },
   {
    "duration": 29,
    "start_time": "2022-02-15T17:12:25.604Z"
   },
   {
    "duration": 640,
    "start_time": "2022-02-15T17:12:25.635Z"
   },
   {
    "duration": 8,
    "start_time": "2022-02-15T17:12:26.278Z"
   },
   {
    "duration": 491,
    "start_time": "2022-02-15T17:12:26.289Z"
   },
   {
    "duration": 7,
    "start_time": "2022-02-15T17:12:26.783Z"
   },
   {
    "duration": 76,
    "start_time": "2022-02-15T17:12:26.792Z"
   },
   {
    "duration": 22,
    "start_time": "2022-02-15T17:12:26.870Z"
   },
   {
    "duration": 51,
    "start_time": "2022-02-15T17:12:26.894Z"
   },
   {
    "duration": 30,
    "start_time": "2022-02-15T17:12:26.947Z"
   },
   {
    "duration": 13,
    "start_time": "2022-02-15T17:12:26.980Z"
   },
   {
    "duration": 340,
    "start_time": "2022-02-15T17:12:26.995Z"
   },
   {
    "duration": 250,
    "start_time": "2022-02-15T17:12:27.338Z"
   },
   {
    "duration": 6,
    "start_time": "2022-02-15T17:12:27.590Z"
   },
   {
    "duration": 6,
    "start_time": "2022-02-15T17:12:27.598Z"
   },
   {
    "duration": 540394,
    "start_time": "2022-02-15T17:12:27.606Z"
   },
   {
    "duration": 381273,
    "start_time": "2022-02-15T17:21:28.003Z"
   },
   {
    "duration": 212,
    "start_time": "2022-02-15T18:17:01.605Z"
   },
   {
    "duration": 676,
    "start_time": "2022-02-15T18:17:09.144Z"
   },
   {
    "duration": 30,
    "start_time": "2022-02-15T18:17:09.821Z"
   },
   {
    "duration": 77,
    "start_time": "2022-02-15T18:17:09.855Z"
   },
   {
    "duration": 9,
    "start_time": "2022-02-15T18:17:09.934Z"
   },
   {
    "duration": 13,
    "start_time": "2022-02-15T18:17:09.945Z"
   },
   {
    "duration": 31,
    "start_time": "2022-02-15T18:17:09.959Z"
   },
   {
    "duration": 149,
    "start_time": "2022-02-15T18:17:09.992Z"
   },
   {
    "duration": 161,
    "start_time": "2022-02-15T18:17:10.143Z"
   },
   {
    "duration": 7,
    "start_time": "2022-02-15T18:17:10.306Z"
   },
   {
    "duration": 12,
    "start_time": "2022-02-15T18:17:10.314Z"
   },
   {
    "duration": 1127,
    "start_time": "2022-02-15T18:17:10.327Z"
   },
   {
    "duration": 4,
    "start_time": "2022-02-15T18:17:11.455Z"
   },
   {
    "duration": 17,
    "start_time": "2022-02-15T18:17:11.460Z"
   },
   {
    "duration": 30,
    "start_time": "2022-02-15T18:17:11.478Z"
   },
   {
    "duration": 139,
    "start_time": "2022-02-15T18:17:11.509Z"
   },
   {
    "duration": 113,
    "start_time": "2022-02-15T18:17:11.650Z"
   },
   {
    "duration": 117,
    "start_time": "2022-02-15T18:17:11.764Z"
   },
   {
    "duration": 118,
    "start_time": "2022-02-15T18:17:11.883Z"
   },
   {
    "duration": 112,
    "start_time": "2022-02-15T18:17:12.002Z"
   },
   {
    "duration": 120,
    "start_time": "2022-02-15T18:17:12.116Z"
   },
   {
    "duration": 29,
    "start_time": "2022-02-15T18:17:12.238Z"
   },
   {
    "duration": 129,
    "start_time": "2022-02-15T18:17:12.268Z"
   },
   {
    "duration": 12,
    "start_time": "2022-02-15T18:17:12.400Z"
   },
   {
    "duration": 140,
    "start_time": "2022-02-15T18:17:12.414Z"
   },
   {
    "duration": 3073,
    "start_time": "2022-02-15T18:17:12.556Z"
   },
   {
    "duration": 4,
    "start_time": "2022-02-15T18:17:15.631Z"
   },
   {
    "duration": 5370,
    "start_time": "2022-02-15T18:17:15.637Z"
   },
   {
    "duration": 221,
    "start_time": "2022-02-15T18:17:21.012Z"
   },
   {
    "duration": 4,
    "start_time": "2022-02-15T18:17:21.236Z"
   },
   {
    "duration": 5,
    "start_time": "2022-02-15T18:17:21.242Z"
   },
   {
    "duration": 4,
    "start_time": "2022-02-15T18:17:21.249Z"
   },
   {
    "duration": 335,
    "start_time": "2022-02-15T18:17:21.254Z"
   },
   {
    "duration": 5,
    "start_time": "2022-02-15T18:17:21.590Z"
   },
   {
    "duration": 17,
    "start_time": "2022-02-15T18:17:21.596Z"
   },
   {
    "duration": 383,
    "start_time": "2022-02-15T18:17:21.614Z"
   },
   {
    "duration": 4,
    "start_time": "2022-02-15T18:17:21.998Z"
   },
   {
    "duration": 315,
    "start_time": "2022-02-15T18:17:22.004Z"
   },
   {
    "duration": 4,
    "start_time": "2022-02-15T18:17:22.321Z"
   },
   {
    "duration": 38,
    "start_time": "2022-02-15T18:17:22.326Z"
   },
   {
    "duration": 14,
    "start_time": "2022-02-15T18:17:22.365Z"
   },
   {
    "duration": 40,
    "start_time": "2022-02-15T18:17:22.380Z"
   },
   {
    "duration": 21,
    "start_time": "2022-02-15T18:17:22.421Z"
   },
   {
    "duration": 8,
    "start_time": "2022-02-15T18:17:22.443Z"
   },
   {
    "duration": 201,
    "start_time": "2022-02-15T18:17:22.453Z"
   },
   {
    "duration": 156,
    "start_time": "2022-02-15T18:17:22.656Z"
   },
   {
    "duration": 4,
    "start_time": "2022-02-15T18:17:22.813Z"
   },
   {
    "duration": 4,
    "start_time": "2022-02-15T18:17:22.818Z"
   },
   {
    "duration": 5,
    "start_time": "2022-02-15T18:17:22.823Z"
   },
   {
    "duration": 416,
    "start_time": "2022-02-15T18:17:22.829Z"
   },
   {
    "duration": 392,
    "start_time": "2022-02-15T18:21:24.348Z"
   },
   {
    "duration": 338341,
    "start_time": "2022-02-15T18:21:47.074Z"
   },
   {
    "duration": 365,
    "start_time": "2022-02-15T18:28:45.429Z"
   },
   {
    "duration": 245570,
    "start_time": "2022-02-15T18:29:03.733Z"
   },
   {
    "duration": 236208,
    "start_time": "2022-02-15T18:35:02.985Z"
   },
   {
    "duration": 653,
    "start_time": "2022-02-15T18:52:06.046Z"
   },
   {
    "duration": 319568,
    "start_time": "2022-02-15T18:53:59.988Z"
   },
   {
    "duration": 350,
    "start_time": "2022-02-15T18:59:19.558Z"
   },
   {
    "duration": 378,
    "start_time": "2022-02-15T19:15:06.897Z"
   },
   {
    "duration": 63,
    "start_time": "2022-02-15T19:16:32.737Z"
   },
   {
    "duration": 208,
    "start_time": "2022-02-15T19:16:45.788Z"
   },
   {
    "duration": 212,
    "start_time": "2022-02-15T19:21:40.377Z"
   },
   {
    "duration": 187,
    "start_time": "2022-02-15T19:22:52.904Z"
   },
   {
    "duration": 248,
    "start_time": "2022-02-15T19:26:50.011Z"
   },
   {
    "duration": 267,
    "start_time": "2022-02-15T19:29:30.091Z"
   },
   {
    "duration": 4636,
    "start_time": "2022-02-15T19:38:22.736Z"
   },
   {
    "duration": 731,
    "start_time": "2022-02-15T19:40:05.703Z"
   },
   {
    "duration": 4619,
    "start_time": "2022-02-15T19:41:15.640Z"
   },
   {
    "duration": 4621,
    "start_time": "2022-02-15T19:41:56.581Z"
   },
   {
    "duration": 319,
    "start_time": "2022-02-15T19:42:34.479Z"
   },
   {
    "duration": 269,
    "start_time": "2022-02-15T19:43:12.613Z"
   },
   {
    "duration": 190,
    "start_time": "2022-02-15T19:44:45.724Z"
   },
   {
    "duration": 200,
    "start_time": "2022-02-15T19:45:44.634Z"
   },
   {
    "duration": 251,
    "start_time": "2022-02-15T19:49:38.761Z"
   },
   {
    "duration": 379,
    "start_time": "2022-02-16T06:37:42.969Z"
   },
   {
    "duration": 694,
    "start_time": "2022-02-16T06:37:55.043Z"
   },
   {
    "duration": 28,
    "start_time": "2022-02-16T06:37:55.739Z"
   },
   {
    "duration": 72,
    "start_time": "2022-02-16T06:37:55.769Z"
   },
   {
    "duration": 9,
    "start_time": "2022-02-16T06:37:55.843Z"
   },
   {
    "duration": 7,
    "start_time": "2022-02-16T06:37:55.853Z"
   },
   {
    "duration": 20,
    "start_time": "2022-02-16T06:37:55.862Z"
   },
   {
    "duration": 156,
    "start_time": "2022-02-16T06:37:55.884Z"
   },
   {
    "duration": 154,
    "start_time": "2022-02-16T06:37:56.042Z"
   },
   {
    "duration": 3,
    "start_time": "2022-02-16T06:37:56.198Z"
   },
   {
    "duration": 8,
    "start_time": "2022-02-16T06:37:56.202Z"
   },
   {
    "duration": 1053,
    "start_time": "2022-02-16T06:37:56.211Z"
   },
   {
    "duration": 3,
    "start_time": "2022-02-16T06:37:57.266Z"
   },
   {
    "duration": 2,
    "start_time": "2022-02-16T06:37:57.271Z"
   },
   {
    "duration": 8,
    "start_time": "2022-02-16T06:37:57.275Z"
   },
   {
    "duration": 118,
    "start_time": "2022-02-16T06:37:57.284Z"
   },
   {
    "duration": 110,
    "start_time": "2022-02-16T06:37:57.403Z"
   },
   {
    "duration": 111,
    "start_time": "2022-02-16T06:37:57.514Z"
   },
   {
    "duration": 115,
    "start_time": "2022-02-16T06:37:57.627Z"
   },
   {
    "duration": 114,
    "start_time": "2022-02-16T06:37:57.744Z"
   },
   {
    "duration": 128,
    "start_time": "2022-02-16T06:37:57.859Z"
   },
   {
    "duration": 26,
    "start_time": "2022-02-16T06:37:57.989Z"
   },
   {
    "duration": 107,
    "start_time": "2022-02-16T06:37:58.016Z"
   },
   {
    "duration": 8,
    "start_time": "2022-02-16T06:37:58.125Z"
   },
   {
    "duration": 131,
    "start_time": "2022-02-16T06:37:58.134Z"
   },
   {
    "duration": 2973,
    "start_time": "2022-02-16T06:37:58.267Z"
   },
   {
    "duration": 4,
    "start_time": "2022-02-16T06:38:01.242Z"
   },
   {
    "duration": 5557,
    "start_time": "2022-02-16T06:38:01.248Z"
   },
   {
    "duration": 185,
    "start_time": "2022-02-16T06:38:06.807Z"
   },
   {
    "duration": 4,
    "start_time": "2022-02-16T06:38:06.994Z"
   },
   {
    "duration": 8,
    "start_time": "2022-02-16T06:38:06.999Z"
   },
   {
    "duration": 13,
    "start_time": "2022-02-16T06:38:07.009Z"
   },
   {
    "duration": 280,
    "start_time": "2022-02-16T06:38:07.023Z"
   },
   {
    "duration": 4,
    "start_time": "2022-02-16T06:38:07.304Z"
   },
   {
    "duration": 20,
    "start_time": "2022-02-16T06:38:07.310Z"
   },
   {
    "duration": 383,
    "start_time": "2022-02-16T06:38:07.331Z"
   },
   {
    "duration": 4,
    "start_time": "2022-02-16T06:38:07.715Z"
   },
   {
    "duration": 450,
    "start_time": "2022-02-16T06:38:07.731Z"
   },
   {
    "duration": 6,
    "start_time": "2022-02-16T06:38:08.183Z"
   },
   {
    "duration": 65,
    "start_time": "2022-02-16T06:38:08.191Z"
   },
   {
    "duration": 13,
    "start_time": "2022-02-16T06:38:08.258Z"
   },
   {
    "duration": 35,
    "start_time": "2022-02-16T06:38:08.272Z"
   },
   {
    "duration": 29,
    "start_time": "2022-02-16T06:38:08.308Z"
   },
   {
    "duration": 10,
    "start_time": "2022-02-16T06:38:08.339Z"
   },
   {
    "duration": 188,
    "start_time": "2022-02-16T06:38:08.356Z"
   },
   {
    "duration": 145,
    "start_time": "2022-02-16T06:38:08.546Z"
   },
   {
    "duration": 179,
    "start_time": "2022-02-16T06:38:08.692Z"
   },
   {
    "duration": 183,
    "start_time": "2022-02-16T06:38:08.873Z"
   },
   {
    "duration": 302,
    "start_time": "2022-02-16T06:38:09.057Z"
   },
   {
    "duration": 113114,
    "start_time": "2022-02-16T06:53:57.562Z"
   },
   {
    "duration": 110452,
    "start_time": "2022-02-16T06:59:34.298Z"
   },
   {
    "duration": 991,
    "start_time": "2022-02-16T07:02:35.403Z"
   },
   {
    "duration": 488,
    "start_time": "2022-02-16T07:02:53.034Z"
   },
   {
    "duration": 118728,
    "start_time": "2022-02-16T07:03:07.305Z"
   },
   {
    "duration": 239,
    "start_time": "2022-02-16T07:05:26.631Z"
   },
   {
    "duration": 281047,
    "start_time": "2022-02-16T07:06:31.746Z"
   },
   {
    "duration": 596,
    "start_time": "2022-02-16T07:11:59.988Z"
   },
   {
    "duration": 448,
    "start_time": "2022-02-16T07:12:11.098Z"
   },
   {
    "duration": 409,
    "start_time": "2022-02-16T07:13:44.992Z"
   },
   {
    "duration": 412,
    "start_time": "2022-02-16T07:14:08.605Z"
   },
   {
    "duration": 171,
    "start_time": "2022-02-16T07:14:49.797Z"
   },
   {
    "duration": 166,
    "start_time": "2022-02-16T07:15:59.237Z"
   },
   {
    "duration": 182,
    "start_time": "2022-02-16T07:16:26.867Z"
   },
   {
    "duration": 251,
    "start_time": "2022-02-16T07:18:43.162Z"
   },
   {
    "duration": 204,
    "start_time": "2022-02-16T07:19:06.368Z"
   },
   {
    "duration": 124266,
    "start_time": "2022-02-16T07:19:53.004Z"
   },
   {
    "duration": 369,
    "start_time": "2022-02-16T07:22:29.396Z"
   },
   {
    "duration": 348,
    "start_time": "2022-02-16T07:26:46.201Z"
   },
   {
    "duration": 483,
    "start_time": "2022-02-16T07:28:47.158Z"
   },
   {
    "duration": 137,
    "start_time": "2022-02-16T07:29:21.632Z"
   },
   {
    "duration": 354,
    "start_time": "2022-02-16T07:29:40.446Z"
   },
   {
    "duration": 348,
    "start_time": "2022-02-16T07:30:55.074Z"
   },
   {
    "duration": 349,
    "start_time": "2022-02-16T07:34:49.768Z"
   },
   {
    "duration": 365,
    "start_time": "2022-02-16T07:36:33.238Z"
   },
   {
    "duration": 292,
    "start_time": "2022-02-16T08:16:59.055Z"
   },
   {
    "duration": 252,
    "start_time": "2022-02-16T08:17:15.518Z"
   },
   {
    "duration": 192,
    "start_time": "2022-02-16T08:17:50.136Z"
   },
   {
    "duration": 221,
    "start_time": "2022-02-16T08:17:53.303Z"
   },
   {
    "duration": 726,
    "start_time": "2022-02-16T08:21:29.219Z"
   },
   {
    "duration": 30,
    "start_time": "2022-02-16T08:21:29.946Z"
   },
   {
    "duration": 79,
    "start_time": "2022-02-16T08:21:29.979Z"
   },
   {
    "duration": 12,
    "start_time": "2022-02-16T08:21:30.060Z"
   },
   {
    "duration": 8,
    "start_time": "2022-02-16T08:21:30.073Z"
   },
   {
    "duration": 25,
    "start_time": "2022-02-16T08:21:30.082Z"
   },
   {
    "duration": 144,
    "start_time": "2022-02-16T08:21:30.109Z"
   },
   {
    "duration": 152,
    "start_time": "2022-02-16T08:21:30.255Z"
   },
   {
    "duration": 3,
    "start_time": "2022-02-16T08:21:30.409Z"
   },
   {
    "duration": 13,
    "start_time": "2022-02-16T08:21:30.413Z"
   },
   {
    "duration": 1089,
    "start_time": "2022-02-16T08:21:30.432Z"
   },
   {
    "duration": 3,
    "start_time": "2022-02-16T08:21:31.522Z"
   },
   {
    "duration": 2,
    "start_time": "2022-02-16T08:21:31.531Z"
   },
   {
    "duration": 11,
    "start_time": "2022-02-16T08:21:31.534Z"
   },
   {
    "duration": 114,
    "start_time": "2022-02-16T08:21:31.547Z"
   },
   {
    "duration": 118,
    "start_time": "2022-02-16T08:21:31.662Z"
   },
   {
    "duration": 108,
    "start_time": "2022-02-16T08:21:31.781Z"
   },
   {
    "duration": 114,
    "start_time": "2022-02-16T08:21:31.890Z"
   },
   {
    "duration": 115,
    "start_time": "2022-02-16T08:21:32.005Z"
   },
   {
    "duration": 100,
    "start_time": "2022-02-16T08:21:32.122Z"
   },
   {
    "duration": 31,
    "start_time": "2022-02-16T08:21:32.224Z"
   },
   {
    "duration": 114,
    "start_time": "2022-02-16T08:21:32.257Z"
   },
   {
    "duration": 4,
    "start_time": "2022-02-16T08:21:32.374Z"
   },
   {
    "duration": 146,
    "start_time": "2022-02-16T08:21:32.380Z"
   },
   {
    "duration": 2872,
    "start_time": "2022-02-16T08:21:32.527Z"
   },
   {
    "duration": 5,
    "start_time": "2022-02-16T08:21:35.401Z"
   },
   {
    "duration": 4976,
    "start_time": "2022-02-16T08:21:35.407Z"
   },
   {
    "duration": 192,
    "start_time": "2022-02-16T08:21:40.384Z"
   },
   {
    "duration": 4,
    "start_time": "2022-02-16T08:21:40.577Z"
   },
   {
    "duration": 5,
    "start_time": "2022-02-16T08:21:40.582Z"
   },
   {
    "duration": 3,
    "start_time": "2022-02-16T08:21:40.589Z"
   },
   {
    "duration": 294,
    "start_time": "2022-02-16T08:21:40.593Z"
   },
   {
    "duration": 5,
    "start_time": "2022-02-16T08:21:40.888Z"
   },
   {
    "duration": 6,
    "start_time": "2022-02-16T08:21:40.894Z"
   },
   {
    "duration": 379,
    "start_time": "2022-02-16T08:21:40.901Z"
   },
   {
    "duration": 4,
    "start_time": "2022-02-16T08:21:41.281Z"
   },
   {
    "duration": 288,
    "start_time": "2022-02-16T08:21:41.286Z"
   },
   {
    "duration": 5,
    "start_time": "2022-02-16T08:21:41.576Z"
   },
   {
    "duration": 35,
    "start_time": "2022-02-16T08:21:41.582Z"
   },
   {
    "duration": 14,
    "start_time": "2022-02-16T08:21:41.632Z"
   },
   {
    "duration": 15,
    "start_time": "2022-02-16T08:21:41.647Z"
   },
   {
    "duration": 19,
    "start_time": "2022-02-16T08:21:41.663Z"
   },
   {
    "duration": 7,
    "start_time": "2022-02-16T08:21:41.684Z"
   },
   {
    "duration": 185,
    "start_time": "2022-02-16T08:21:41.693Z"
   },
   {
    "duration": 140,
    "start_time": "2022-02-16T08:21:41.880Z"
   },
   {
    "duration": 200,
    "start_time": "2022-02-16T08:21:42.022Z"
   },
   {
    "duration": 217,
    "start_time": "2022-02-16T08:21:42.231Z"
   },
   {
    "duration": 429,
    "start_time": "2022-02-16T08:21:42.450Z"
   },
   {
    "duration": 360,
    "start_time": "2022-02-16T08:21:42.881Z"
   },
   {
    "duration": 957,
    "start_time": "2022-02-16T13:57:08.080Z"
   },
   {
    "duration": 50,
    "start_time": "2022-02-16T13:57:09.040Z"
   },
   {
    "duration": 119,
    "start_time": "2022-02-16T13:57:09.093Z"
   },
   {
    "duration": 20,
    "start_time": "2022-02-16T13:57:09.215Z"
   },
   {
    "duration": 15,
    "start_time": "2022-02-16T13:57:09.237Z"
   },
   {
    "duration": 71,
    "start_time": "2022-02-16T13:57:09.254Z"
   },
   {
    "duration": 253,
    "start_time": "2022-02-16T13:57:09.328Z"
   },
   {
    "duration": 314,
    "start_time": "2022-02-16T13:57:09.584Z"
   },
   {
    "duration": 5,
    "start_time": "2022-02-16T13:57:09.904Z"
   },
   {
    "duration": 17,
    "start_time": "2022-02-16T13:57:09.913Z"
   },
   {
    "duration": 3139,
    "start_time": "2022-02-16T13:57:09.933Z"
   },
   {
    "duration": 5,
    "start_time": "2022-02-16T13:57:13.075Z"
   },
   {
    "duration": 5,
    "start_time": "2022-02-16T13:57:13.083Z"
   },
   {
    "duration": 39,
    "start_time": "2022-02-16T13:57:13.091Z"
   },
   {
    "duration": 334,
    "start_time": "2022-02-16T13:57:13.133Z"
   },
   {
    "duration": 251,
    "start_time": "2022-02-16T13:57:13.470Z"
   },
   {
    "duration": 219,
    "start_time": "2022-02-16T13:57:13.723Z"
   },
   {
    "duration": 365,
    "start_time": "2022-02-16T13:57:13.945Z"
   },
   {
    "duration": 340,
    "start_time": "2022-02-16T13:57:14.313Z"
   },
   {
    "duration": 333,
    "start_time": "2022-02-16T13:57:14.656Z"
   },
   {
    "duration": 88,
    "start_time": "2022-02-16T13:57:14.992Z"
   },
   {
    "duration": 186,
    "start_time": "2022-02-16T13:57:15.083Z"
   },
   {
    "duration": 5,
    "start_time": "2022-02-16T13:57:15.271Z"
   },
   {
    "duration": 221,
    "start_time": "2022-02-16T13:57:15.278Z"
   },
   {
    "duration": 5286,
    "start_time": "2022-02-16T13:57:15.502Z"
   },
   {
    "duration": 8,
    "start_time": "2022-02-16T13:57:20.790Z"
   },
   {
    "duration": 8615,
    "start_time": "2022-02-16T13:57:20.824Z"
   },
   {
    "duration": 364,
    "start_time": "2022-02-16T13:57:29.441Z"
   },
   {
    "duration": 18,
    "start_time": "2022-02-16T13:57:29.807Z"
   },
   {
    "duration": 6,
    "start_time": "2022-02-16T13:57:29.827Z"
   },
   {
    "duration": 9,
    "start_time": "2022-02-16T13:57:29.836Z"
   },
   {
    "duration": 490,
    "start_time": "2022-02-16T13:57:29.847Z"
   },
   {
    "duration": 7,
    "start_time": "2022-02-16T13:57:30.339Z"
   },
   {
    "duration": 17,
    "start_time": "2022-02-16T13:57:30.349Z"
   },
   {
    "duration": 569,
    "start_time": "2022-02-16T13:57:30.369Z"
   },
   {
    "duration": 7,
    "start_time": "2022-02-16T13:57:30.940Z"
   },
   {
    "duration": 500,
    "start_time": "2022-02-16T13:57:30.950Z"
   },
   {
    "duration": 8,
    "start_time": "2022-02-16T13:57:31.453Z"
   },
   {
    "duration": 97,
    "start_time": "2022-02-16T13:57:31.464Z"
   },
   {
    "duration": 28,
    "start_time": "2022-02-16T13:57:31.564Z"
   },
   {
    "duration": 50,
    "start_time": "2022-02-16T13:57:31.595Z"
   },
   {
    "duration": 35,
    "start_time": "2022-02-16T13:57:31.647Z"
   },
   {
    "duration": 44,
    "start_time": "2022-02-16T13:57:31.684Z"
   },
   {
    "duration": 296,
    "start_time": "2022-02-16T13:57:31.731Z"
   },
   {
    "duration": 251,
    "start_time": "2022-02-16T13:57:32.030Z"
   },
   {
    "duration": 362,
    "start_time": "2022-02-16T13:57:32.283Z"
   },
   {
    "duration": 395,
    "start_time": "2022-02-16T13:57:32.647Z"
   },
   {
    "duration": 752,
    "start_time": "2022-02-16T13:57:33.044Z"
   },
   {
    "duration": 677,
    "start_time": "2022-02-16T13:57:33.799Z"
   },
   {
    "duration": 291,
    "start_time": "2022-02-16T13:57:44.338Z"
   },
   {
    "duration": 7,
    "start_time": "2022-02-16T13:58:00.611Z"
   },
   {
    "duration": 64,
    "start_time": "2022-02-16T13:58:18.926Z"
   },
   {
    "duration": 11,
    "start_time": "2022-02-16T13:58:45.674Z"
   },
   {
    "duration": 290,
    "start_time": "2022-02-16T13:58:50.196Z"
   },
   {
    "duration": 257,
    "start_time": "2022-02-16T13:59:18.664Z"
   },
   {
    "duration": 298,
    "start_time": "2022-02-16T13:59:30.780Z"
   },
   {
    "duration": 330,
    "start_time": "2022-02-16T17:35:14.726Z"
   },
   {
    "duration": 1313,
    "start_time": "2022-02-16T17:35:23.154Z"
   },
   {
    "duration": 61,
    "start_time": "2022-02-16T17:35:24.470Z"
   },
   {
    "duration": 139,
    "start_time": "2022-02-16T17:35:24.533Z"
   },
   {
    "duration": 21,
    "start_time": "2022-02-16T17:35:24.676Z"
   },
   {
    "duration": 16,
    "start_time": "2022-02-16T17:35:24.700Z"
   },
   {
    "duration": 79,
    "start_time": "2022-02-16T17:35:24.719Z"
   },
   {
    "duration": 281,
    "start_time": "2022-02-16T17:35:24.801Z"
   },
   {
    "duration": 338,
    "start_time": "2022-02-16T17:35:25.089Z"
   },
   {
    "duration": 4,
    "start_time": "2022-02-16T17:35:25.431Z"
   },
   {
    "duration": 18,
    "start_time": "2022-02-16T17:35:25.437Z"
   },
   {
    "duration": 2423,
    "start_time": "2022-02-16T17:35:25.457Z"
   },
   {
    "duration": 5,
    "start_time": "2022-02-16T17:35:27.884Z"
   },
   {
    "duration": 12,
    "start_time": "2022-02-16T17:35:27.893Z"
   },
   {
    "duration": 14,
    "start_time": "2022-02-16T17:35:27.908Z"
   },
   {
    "duration": 259,
    "start_time": "2022-02-16T17:35:27.924Z"
   },
   {
    "duration": 240,
    "start_time": "2022-02-16T17:35:28.186Z"
   },
   {
    "duration": 240,
    "start_time": "2022-02-16T17:35:28.429Z"
   },
   {
    "duration": 253,
    "start_time": "2022-02-16T17:35:28.673Z"
   },
   {
    "duration": 246,
    "start_time": "2022-02-16T17:35:28.928Z"
   },
   {
    "duration": 240,
    "start_time": "2022-02-16T17:35:29.177Z"
   },
   {
    "duration": 70,
    "start_time": "2022-02-16T17:35:29.420Z"
   },
   {
    "duration": 208,
    "start_time": "2022-02-16T17:35:29.492Z"
   },
   {
    "duration": 6,
    "start_time": "2022-02-16T17:35:29.705Z"
   },
   {
    "duration": 251,
    "start_time": "2022-02-16T17:35:29.715Z"
   },
   {
    "duration": 6276,
    "start_time": "2022-02-16T17:35:29.970Z"
   },
   {
    "duration": 19,
    "start_time": "2022-02-16T17:35:36.250Z"
   },
   {
    "duration": 10959,
    "start_time": "2022-02-16T17:35:36.274Z"
   },
   {
    "duration": 388,
    "start_time": "2022-02-16T17:35:47.235Z"
   },
   {
    "duration": 6,
    "start_time": "2022-02-16T17:35:47.626Z"
   },
   {
    "duration": 12,
    "start_time": "2022-02-16T17:35:47.634Z"
   },
   {
    "duration": 23,
    "start_time": "2022-02-16T17:35:47.649Z"
   },
   {
    "duration": 567,
    "start_time": "2022-02-16T17:35:47.676Z"
   },
   {
    "duration": 17,
    "start_time": "2022-02-16T17:35:48.246Z"
   },
   {
    "duration": 8,
    "start_time": "2022-02-16T17:35:48.269Z"
   },
   {
    "duration": 643,
    "start_time": "2022-02-16T17:35:48.284Z"
   },
   {
    "duration": 7,
    "start_time": "2022-02-16T17:35:48.930Z"
   },
   {
    "duration": 847,
    "start_time": "2022-02-16T17:35:48.940Z"
   },
   {
    "duration": 10,
    "start_time": "2022-02-16T17:35:49.790Z"
   },
   {
    "duration": 102,
    "start_time": "2022-02-16T17:35:49.804Z"
   },
   {
    "duration": 24,
    "start_time": "2022-02-16T17:35:49.909Z"
   },
   {
    "duration": 62,
    "start_time": "2022-02-16T17:35:49.936Z"
   },
   {
    "duration": 45,
    "start_time": "2022-02-16T17:35:50.001Z"
   },
   {
    "duration": 29,
    "start_time": "2022-02-16T17:35:50.049Z"
   },
   {
    "duration": 359,
    "start_time": "2022-02-16T17:35:50.081Z"
   },
   {
    "duration": 272,
    "start_time": "2022-02-16T17:35:50.444Z"
   },
   {
    "duration": 417,
    "start_time": "2022-02-16T17:35:50.718Z"
   },
   {
    "duration": 442,
    "start_time": "2022-02-16T17:35:51.138Z"
   },
   {
    "duration": 1004,
    "start_time": "2022-02-16T17:35:51.583Z"
   },
   {
    "duration": 747,
    "start_time": "2022-02-16T17:35:52.589Z"
   },
   {
    "duration": 350,
    "start_time": "2022-02-16T17:36:46.223Z"
   },
   {
    "duration": 353,
    "start_time": "2022-02-16T17:37:00.544Z"
   },
   {
    "duration": 399,
    "start_time": "2022-02-16T17:37:48.705Z"
   },
   {
    "duration": 357,
    "start_time": "2022-02-16T17:38:10.144Z"
   },
   {
    "duration": 324,
    "start_time": "2022-02-17T06:33:04.221Z"
   },
   {
    "duration": 774,
    "start_time": "2022-02-17T06:33:12.318Z"
   },
   {
    "duration": 37,
    "start_time": "2022-02-17T06:33:13.093Z"
   },
   {
    "duration": 97,
    "start_time": "2022-02-17T06:33:13.133Z"
   },
   {
    "duration": 11,
    "start_time": "2022-02-17T06:33:13.232Z"
   },
   {
    "duration": 26,
    "start_time": "2022-02-17T06:33:13.245Z"
   },
   {
    "duration": 28,
    "start_time": "2022-02-17T06:33:13.273Z"
   },
   {
    "duration": 157,
    "start_time": "2022-02-17T06:33:13.303Z"
   },
   {
    "duration": 180,
    "start_time": "2022-02-17T06:33:13.463Z"
   },
   {
    "duration": 3,
    "start_time": "2022-02-17T06:33:13.646Z"
   },
   {
    "duration": 26,
    "start_time": "2022-02-17T06:33:13.651Z"
   },
   {
    "duration": 1348,
    "start_time": "2022-02-17T06:33:13.679Z"
   },
   {
    "duration": 5,
    "start_time": "2022-02-17T06:33:15.029Z"
   },
   {
    "duration": 12,
    "start_time": "2022-02-17T06:33:15.036Z"
   },
   {
    "duration": 30,
    "start_time": "2022-02-17T06:33:15.050Z"
   },
   {
    "duration": 149,
    "start_time": "2022-02-17T06:33:15.082Z"
   },
   {
    "duration": 133,
    "start_time": "2022-02-17T06:33:15.233Z"
   },
   {
    "duration": 137,
    "start_time": "2022-02-17T06:33:15.369Z"
   },
   {
    "duration": 135,
    "start_time": "2022-02-17T06:33:15.508Z"
   },
   {
    "duration": 139,
    "start_time": "2022-02-17T06:33:15.646Z"
   },
   {
    "duration": 147,
    "start_time": "2022-02-17T06:33:15.787Z"
   },
   {
    "duration": 47,
    "start_time": "2022-02-17T06:33:15.936Z"
   },
   {
    "duration": 145,
    "start_time": "2022-02-17T06:33:15.985Z"
   },
   {
    "duration": 4,
    "start_time": "2022-02-17T06:33:16.133Z"
   },
   {
    "duration": 169,
    "start_time": "2022-02-17T06:33:16.139Z"
   },
   {
    "duration": 3336,
    "start_time": "2022-02-17T06:33:16.310Z"
   },
   {
    "duration": 5,
    "start_time": "2022-02-17T06:33:19.647Z"
   },
   {
    "duration": 6158,
    "start_time": "2022-02-17T06:33:19.654Z"
   },
   {
    "duration": 258,
    "start_time": "2022-02-17T06:33:25.815Z"
   },
   {
    "duration": 5,
    "start_time": "2022-02-17T06:33:26.075Z"
   },
   {
    "duration": 8,
    "start_time": "2022-02-17T06:33:26.082Z"
   },
   {
    "duration": 4,
    "start_time": "2022-02-17T06:33:26.091Z"
   },
   {
    "duration": 375,
    "start_time": "2022-02-17T06:33:26.097Z"
   },
   {
    "duration": 5,
    "start_time": "2022-02-17T06:33:26.474Z"
   },
   {
    "duration": 6,
    "start_time": "2022-02-17T06:33:26.480Z"
   },
   {
    "duration": 452,
    "start_time": "2022-02-17T06:33:26.487Z"
   },
   {
    "duration": 5,
    "start_time": "2022-02-17T06:33:26.941Z"
   },
   {
    "duration": 372,
    "start_time": "2022-02-17T06:33:26.947Z"
   },
   {
    "duration": 5,
    "start_time": "2022-02-17T06:33:27.321Z"
   },
   {
    "duration": 56,
    "start_time": "2022-02-17T06:33:27.328Z"
   },
   {
    "duration": 16,
    "start_time": "2022-02-17T06:33:27.386Z"
   },
   {
    "duration": 18,
    "start_time": "2022-02-17T06:33:27.403Z"
   },
   {
    "duration": 48,
    "start_time": "2022-02-17T06:33:27.422Z"
   },
   {
    "duration": 9,
    "start_time": "2022-02-17T06:33:27.472Z"
   },
   {
    "duration": 249,
    "start_time": "2022-02-17T06:33:27.483Z"
   },
   {
    "duration": 173,
    "start_time": "2022-02-17T06:33:27.734Z"
   },
   {
    "duration": 264,
    "start_time": "2022-02-17T06:33:27.909Z"
   },
   {
    "duration": 305,
    "start_time": "2022-02-17T06:33:28.175Z"
   },
   {
    "duration": 584,
    "start_time": "2022-02-17T06:33:28.482Z"
   },
   {
    "duration": 497,
    "start_time": "2022-02-17T06:33:29.069Z"
   },
   {
    "duration": 418,
    "start_time": "2022-02-17T06:37:53.447Z"
   },
   {
    "duration": 239,
    "start_time": "2022-02-17T06:38:30.562Z"
   },
   {
    "duration": 296,
    "start_time": "2022-02-17T06:44:00.816Z"
   },
   {
    "duration": 217,
    "start_time": "2022-02-17T06:46:26.334Z"
   },
   {
    "duration": 219,
    "start_time": "2022-02-17T06:46:40.913Z"
   },
   {
    "duration": 12448,
    "start_time": "2022-02-17T07:40:29.864Z"
   },
   {
    "duration": 231,
    "start_time": "2022-02-17T07:41:39.009Z"
   },
   {
    "duration": 209,
    "start_time": "2022-02-17T08:08:53.700Z"
   },
   {
    "duration": 193,
    "start_time": "2022-02-17T08:10:57.536Z"
   },
   {
    "duration": 207,
    "start_time": "2022-02-17T08:13:34.684Z"
   },
   {
    "duration": 267,
    "start_time": "2022-02-17T08:14:25.294Z"
   },
   {
    "duration": 207,
    "start_time": "2022-02-17T08:14:42.511Z"
   },
   {
    "duration": 225,
    "start_time": "2022-02-17T08:15:26.062Z"
   },
   {
    "duration": 214,
    "start_time": "2022-02-17T08:16:08.108Z"
   },
   {
    "duration": 219,
    "start_time": "2022-02-17T08:16:59.714Z"
   },
   {
    "duration": 228,
    "start_time": "2022-02-17T08:17:28.634Z"
   },
   {
    "duration": 645,
    "start_time": "2022-02-17T08:18:51.293Z"
   },
   {
    "duration": 193,
    "start_time": "2022-02-17T08:19:17.844Z"
   },
   {
    "duration": 225,
    "start_time": "2022-02-17T08:20:20.938Z"
   },
   {
    "duration": 99,
    "start_time": "2022-02-17T08:22:33.716Z"
   },
   {
    "duration": 288,
    "start_time": "2022-02-17T08:22:46.205Z"
   },
   {
    "duration": 221,
    "start_time": "2022-02-17T08:25:31.333Z"
   },
   {
    "duration": 231,
    "start_time": "2022-02-17T08:25:49.733Z"
   },
   {
    "duration": 229,
    "start_time": "2022-02-17T08:26:01.603Z"
   },
   {
    "duration": 210,
    "start_time": "2022-02-17T08:26:30.043Z"
   },
   {
    "duration": 895,
    "start_time": "2022-05-15T07:41:16.727Z"
   },
   {
    "duration": 21,
    "start_time": "2022-05-15T07:41:17.625Z"
   },
   {
    "duration": 60,
    "start_time": "2022-05-15T07:41:17.648Z"
   },
   {
    "duration": 14,
    "start_time": "2022-05-15T07:41:17.710Z"
   },
   {
    "duration": 8,
    "start_time": "2022-05-15T07:41:17.725Z"
   },
   {
    "duration": 44,
    "start_time": "2022-05-15T07:41:17.734Z"
   },
   {
    "duration": 83,
    "start_time": "2022-05-15T07:41:17.779Z"
   },
   {
    "duration": 115,
    "start_time": "2022-05-15T07:41:17.863Z"
   },
   {
    "duration": 4,
    "start_time": "2022-05-15T07:41:17.979Z"
   },
   {
    "duration": 6,
    "start_time": "2022-05-15T07:41:17.985Z"
   },
   {
    "duration": 642,
    "start_time": "2022-05-15T07:41:17.992Z"
   },
   {
    "duration": 3,
    "start_time": "2022-05-15T07:41:18.636Z"
   },
   {
    "duration": 12,
    "start_time": "2022-05-15T07:41:18.640Z"
   },
   {
    "duration": 74,
    "start_time": "2022-05-15T07:41:18.653Z"
   },
   {
    "duration": 88,
    "start_time": "2022-05-15T07:41:18.729Z"
   },
   {
    "duration": 76,
    "start_time": "2022-05-15T07:41:18.818Z"
   },
   {
    "duration": 77,
    "start_time": "2022-05-15T07:41:18.896Z"
   },
   {
    "duration": 70,
    "start_time": "2022-05-15T07:41:18.975Z"
   },
   {
    "duration": 80,
    "start_time": "2022-05-15T07:41:19.046Z"
   },
   {
    "duration": 19,
    "start_time": "2022-05-15T07:41:19.127Z"
   },
   {
    "duration": 120,
    "start_time": "2022-05-15T07:41:19.148Z"
   },
   {
    "duration": 12,
    "start_time": "2022-05-15T07:41:19.269Z"
   },
   {
    "duration": 3,
    "start_time": "2022-05-15T07:41:19.283Z"
   },
   {
    "duration": 164,
    "start_time": "2022-05-15T07:41:19.288Z"
   },
   {
    "duration": 1251,
    "start_time": "2022-05-15T07:41:19.454Z"
   },
   {
    "duration": 5,
    "start_time": "2022-05-15T07:41:20.706Z"
   },
   {
    "duration": 1507,
    "start_time": "2022-05-15T07:41:20.712Z"
   },
   {
    "duration": 148,
    "start_time": "2022-05-15T07:41:22.222Z"
   },
   {
    "duration": 5,
    "start_time": "2022-05-15T07:41:22.371Z"
   },
   {
    "duration": 9,
    "start_time": "2022-05-15T07:41:22.377Z"
   },
   {
    "duration": 4,
    "start_time": "2022-05-15T07:41:22.387Z"
   },
   {
    "duration": 293,
    "start_time": "2022-05-15T07:41:22.393Z"
   },
   {
    "duration": 5,
    "start_time": "2022-05-15T07:41:22.688Z"
   },
   {
    "duration": 6,
    "start_time": "2022-05-15T07:41:22.694Z"
   },
   {
    "duration": 230,
    "start_time": "2022-05-15T07:41:22.702Z"
   },
   {
    "duration": 4,
    "start_time": "2022-05-15T07:41:22.934Z"
   },
   {
    "duration": 241,
    "start_time": "2022-05-15T07:41:22.939Z"
   },
   {
    "duration": 5,
    "start_time": "2022-05-15T07:41:23.182Z"
   },
   {
    "duration": 29,
    "start_time": "2022-05-15T07:41:23.188Z"
   },
   {
    "duration": 10,
    "start_time": "2022-05-15T07:41:23.218Z"
   },
   {
    "duration": 18,
    "start_time": "2022-05-15T07:41:23.229Z"
   },
   {
    "duration": 30,
    "start_time": "2022-05-15T07:41:23.248Z"
   },
   {
    "duration": 7,
    "start_time": "2022-05-15T07:41:23.280Z"
   },
   {
    "duration": 147,
    "start_time": "2022-05-15T07:41:23.289Z"
   },
   {
    "duration": 188,
    "start_time": "2022-05-15T07:41:23.438Z"
   },
   {
    "duration": 146,
    "start_time": "2022-05-15T07:41:23.628Z"
   },
   {
    "duration": 170,
    "start_time": "2022-05-15T07:41:23.776Z"
   },
   {
    "duration": 265,
    "start_time": "2022-05-15T07:41:23.948Z"
   },
   {
    "duration": 266,
    "start_time": "2022-05-15T07:41:24.215Z"
   },
   {
    "duration": 710,
    "start_time": "2022-05-15T08:34:18.584Z"
   },
   {
    "duration": 20,
    "start_time": "2022-05-15T08:34:19.296Z"
   },
   {
    "duration": 64,
    "start_time": "2022-05-15T08:34:19.318Z"
   },
   {
    "duration": 13,
    "start_time": "2022-05-15T08:34:19.384Z"
   },
   {
    "duration": 8,
    "start_time": "2022-05-15T08:34:19.398Z"
   },
   {
    "duration": 23,
    "start_time": "2022-05-15T08:34:19.408Z"
   },
   {
    "duration": 101,
    "start_time": "2022-05-15T08:34:19.432Z"
   },
   {
    "duration": 115,
    "start_time": "2022-05-15T08:34:19.534Z"
   },
   {
    "duration": 3,
    "start_time": "2022-05-15T08:34:19.651Z"
   },
   {
    "duration": 5,
    "start_time": "2022-05-15T08:34:19.663Z"
   },
   {
    "duration": 640,
    "start_time": "2022-05-15T08:34:19.670Z"
   },
   {
    "duration": 3,
    "start_time": "2022-05-15T08:34:20.311Z"
   },
   {
    "duration": 10,
    "start_time": "2022-05-15T08:34:20.316Z"
   },
   {
    "duration": 82,
    "start_time": "2022-05-15T08:34:20.328Z"
   },
   {
    "duration": 87,
    "start_time": "2022-05-15T08:34:20.411Z"
   },
   {
    "duration": 79,
    "start_time": "2022-05-15T08:34:20.500Z"
   },
   {
    "duration": 67,
    "start_time": "2022-05-15T08:34:20.581Z"
   },
   {
    "duration": 74,
    "start_time": "2022-05-15T08:34:20.650Z"
   },
   {
    "duration": 76,
    "start_time": "2022-05-15T08:34:20.726Z"
   },
   {
    "duration": 19,
    "start_time": "2022-05-15T08:34:20.804Z"
   },
   {
    "duration": 117,
    "start_time": "2022-05-15T08:34:20.825Z"
   },
   {
    "duration": 25,
    "start_time": "2022-05-15T08:34:20.943Z"
   },
   {
    "duration": 4,
    "start_time": "2022-05-15T08:34:20.969Z"
   },
   {
    "duration": 121,
    "start_time": "2022-05-15T08:34:20.974Z"
   },
   {
    "duration": 1249,
    "start_time": "2022-05-15T08:34:21.097Z"
   },
   {
    "duration": 5,
    "start_time": "2022-05-15T08:34:22.347Z"
   },
   {
    "duration": 1481,
    "start_time": "2022-05-15T08:34:22.361Z"
   },
   {
    "duration": 140,
    "start_time": "2022-05-15T08:34:23.845Z"
   },
   {
    "duration": 5,
    "start_time": "2022-05-15T08:34:23.986Z"
   },
   {
    "duration": 6,
    "start_time": "2022-05-15T08:34:23.992Z"
   },
   {
    "duration": 4,
    "start_time": "2022-05-15T08:34:23.999Z"
   },
   {
    "duration": 307,
    "start_time": "2022-05-15T08:34:24.004Z"
   },
   {
    "duration": 6,
    "start_time": "2022-05-15T08:34:24.312Z"
   },
   {
    "duration": 5,
    "start_time": "2022-05-15T08:34:24.320Z"
   },
   {
    "duration": 237,
    "start_time": "2022-05-15T08:34:24.327Z"
   },
   {
    "duration": 4,
    "start_time": "2022-05-15T08:34:24.566Z"
   },
   {
    "duration": 229,
    "start_time": "2022-05-15T08:34:24.571Z"
   },
   {
    "duration": 4,
    "start_time": "2022-05-15T08:34:24.802Z"
   },
   {
    "duration": 37,
    "start_time": "2022-05-15T08:34:24.808Z"
   },
   {
    "duration": 26,
    "start_time": "2022-05-15T08:34:24.847Z"
   },
   {
    "duration": 15,
    "start_time": "2022-05-15T08:34:24.874Z"
   },
   {
    "duration": 20,
    "start_time": "2022-05-15T08:34:24.890Z"
   },
   {
    "duration": 8,
    "start_time": "2022-05-15T08:34:24.911Z"
   },
   {
    "duration": 159,
    "start_time": "2022-05-15T08:34:24.920Z"
   },
   {
    "duration": 114,
    "start_time": "2022-05-15T08:34:25.081Z"
   },
   {
    "duration": 220,
    "start_time": "2022-05-15T08:34:25.197Z"
   },
   {
    "duration": 163,
    "start_time": "2022-05-15T08:34:25.419Z"
   },
   {
    "duration": 263,
    "start_time": "2022-05-15T08:34:25.583Z"
   },
   {
    "duration": 257,
    "start_time": "2022-05-15T08:34:25.847Z"
   }
  ],
  "kernelspec": {
   "display_name": "Python 3 (ipykernel)",
   "language": "python",
   "name": "python3"
  },
  "language_info": {
   "codemirror_mode": {
    "name": "ipython",
    "version": 3
   },
   "file_extension": ".py",
   "mimetype": "text/x-python",
   "name": "python",
   "nbconvert_exporter": "python",
   "pygments_lexer": "ipython3",
   "version": "3.9.5"
  },
  "toc": {
   "base_numbering": 1,
   "nav_menu": {},
   "number_sections": true,
   "sideBar": true,
   "skip_h1_title": true,
   "title_cell": "Содержание",
   "title_sidebar": "Contents",
   "toc_cell": true,
   "toc_position": {
    "height": "calc(100% - 180px)",
    "left": "10px",
    "top": "150px",
    "width": "165px"
   },
   "toc_section_display": true,
   "toc_window_display": false
  }
 },
 "nbformat": 4,
 "nbformat_minor": 2
}
