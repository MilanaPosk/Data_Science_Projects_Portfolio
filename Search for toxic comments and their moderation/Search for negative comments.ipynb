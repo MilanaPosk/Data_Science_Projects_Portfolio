{
 "cells": [
  {
   "cell_type": "markdown",
   "metadata": {},
   "source": [
    "## Подготовка"
   ]
  },
  {
   "cell_type": "code",
   "execution_count": 1,
   "metadata": {},
   "outputs": [],
   "source": [
    "import matplotlib.pyplot as plt\n",
    "import nltk\n",
    "import numpy as np\n",
    "import pandas as pd\n",
    "import re\n",
    "import seaborn as sns\n",
    "import time\n",
    "import transformers\n",
    "m = Mystem()\n",
    "\n",
    "from catboost import CatBoostClassifier\n",
    "from lightgbm import LGBMClassifier\n",
    "from nltk.corpus import stopwords as nltk_stopwords\n",
    "from nltk.stem import WordNetLemmatizer\n",
    "from pymystem3 import Mystem\n",
    "from sklearn.ensemble import RandomForestClassifier\n",
    "from sklearn.feature_extraction.text import TfidfVectorizer\n",
    "from sklearn.linear_model import LogisticRegression\n",
    "from sklearn.metrics import f1_score\n",
    "from sklearn.metrics import roc_auc_score\n",
    "from sklearn.metrics import roc_curve\n",
    "from sklearn.model_selection import TimeSeriesSplit, GridSearchCV\n",
    "from sklearn.model_selection import cross_val_score\n",
    "from sklearn.model_selection import train_test_split\n",
    "from sklearn.utils import shuffle\n",
    "from tqdm.notebook import tqdm"
   ]
  },
  {
   "cell_type": "code",
   "execution_count": 2,
   "metadata": {},
   "outputs": [],
   "source": [
    "data = pd.read_csv('/datasets/toxic_comments.csv')"
   ]
  },
  {
   "cell_type": "code",
   "execution_count": 3,
   "metadata": {
    "scrolled": true
   },
   "outputs": [
    {
     "data": {
      "text/html": [
       "<div>\n",
       "<style scoped>\n",
       "    .dataframe tbody tr th:only-of-type {\n",
       "        vertical-align: middle;\n",
       "    }\n",
       "\n",
       "    .dataframe tbody tr th {\n",
       "        vertical-align: top;\n",
       "    }\n",
       "\n",
       "    .dataframe thead th {\n",
       "        text-align: right;\n",
       "    }\n",
       "</style>\n",
       "<table border=\"1\" class=\"dataframe\">\n",
       "  <thead>\n",
       "    <tr style=\"text-align: right;\">\n",
       "      <th></th>\n",
       "      <th>text</th>\n",
       "      <th>toxic</th>\n",
       "    </tr>\n",
       "  </thead>\n",
       "  <tbody>\n",
       "    <tr>\n",
       "      <th>0</th>\n",
       "      <td>Explanation\\nWhy the edits made under my usern...</td>\n",
       "      <td>0</td>\n",
       "    </tr>\n",
       "    <tr>\n",
       "      <th>1</th>\n",
       "      <td>D'aww! He matches this background colour I'm s...</td>\n",
       "      <td>0</td>\n",
       "    </tr>\n",
       "    <tr>\n",
       "      <th>2</th>\n",
       "      <td>Hey man, I'm really not trying to edit war. It...</td>\n",
       "      <td>0</td>\n",
       "    </tr>\n",
       "    <tr>\n",
       "      <th>3</th>\n",
       "      <td>\"\\nMore\\nI can't make any real suggestions on ...</td>\n",
       "      <td>0</td>\n",
       "    </tr>\n",
       "    <tr>\n",
       "      <th>4</th>\n",
       "      <td>You, sir, are my hero. Any chance you remember...</td>\n",
       "      <td>0</td>\n",
       "    </tr>\n",
       "  </tbody>\n",
       "</table>\n",
       "</div>"
      ],
      "text/plain": [
       "                                                text  toxic\n",
       "0  Explanation\\nWhy the edits made under my usern...      0\n",
       "1  D'aww! He matches this background colour I'm s...      0\n",
       "2  Hey man, I'm really not trying to edit war. It...      0\n",
       "3  \"\\nMore\\nI can't make any real suggestions on ...      0\n",
       "4  You, sir, are my hero. Any chance you remember...      0"
      ]
     },
     "metadata": {},
     "output_type": "display_data"
    },
    {
     "data": {
      "text/html": [
       "<div>\n",
       "<style scoped>\n",
       "    .dataframe tbody tr th:only-of-type {\n",
       "        vertical-align: middle;\n",
       "    }\n",
       "\n",
       "    .dataframe tbody tr th {\n",
       "        vertical-align: top;\n",
       "    }\n",
       "\n",
       "    .dataframe thead th {\n",
       "        text-align: right;\n",
       "    }\n",
       "</style>\n",
       "<table border=\"1\" class=\"dataframe\">\n",
       "  <thead>\n",
       "    <tr style=\"text-align: right;\">\n",
       "      <th></th>\n",
       "      <th>toxic</th>\n",
       "    </tr>\n",
       "  </thead>\n",
       "  <tbody>\n",
       "    <tr>\n",
       "      <th>count</th>\n",
       "      <td>159571.000000</td>\n",
       "    </tr>\n",
       "    <tr>\n",
       "      <th>mean</th>\n",
       "      <td>0.101679</td>\n",
       "    </tr>\n",
       "    <tr>\n",
       "      <th>std</th>\n",
       "      <td>0.302226</td>\n",
       "    </tr>\n",
       "    <tr>\n",
       "      <th>min</th>\n",
       "      <td>0.000000</td>\n",
       "    </tr>\n",
       "    <tr>\n",
       "      <th>25%</th>\n",
       "      <td>0.000000</td>\n",
       "    </tr>\n",
       "    <tr>\n",
       "      <th>50%</th>\n",
       "      <td>0.000000</td>\n",
       "    </tr>\n",
       "    <tr>\n",
       "      <th>75%</th>\n",
       "      <td>0.000000</td>\n",
       "    </tr>\n",
       "    <tr>\n",
       "      <th>max</th>\n",
       "      <td>1.000000</td>\n",
       "    </tr>\n",
       "  </tbody>\n",
       "</table>\n",
       "</div>"
      ],
      "text/plain": [
       "               toxic\n",
       "count  159571.000000\n",
       "mean        0.101679\n",
       "std         0.302226\n",
       "min         0.000000\n",
       "25%         0.000000\n",
       "50%         0.000000\n",
       "75%         0.000000\n",
       "max         1.000000"
      ]
     },
     "metadata": {},
     "output_type": "display_data"
    },
    {
     "name": "stdout",
     "output_type": "stream",
     "text": [
      "<class 'pandas.core.frame.DataFrame'>\n",
      "RangeIndex: 159571 entries, 0 to 159570\n",
      "Data columns (total 2 columns):\n",
      " #   Column  Non-Null Count   Dtype \n",
      "---  ------  --------------   ----- \n",
      " 0   text    159571 non-null  object\n",
      " 1   toxic   159571 non-null  int64 \n",
      "dtypes: int64(1), object(1)\n",
      "memory usage: 2.4+ MB\n"
     ]
    },
    {
     "data": {
      "text/plain": [
       "None"
      ]
     },
     "metadata": {},
     "output_type": "display_data"
    },
    {
     "data": {
      "text/plain": [
       "text     0\n",
       "toxic    0\n",
       "dtype: int64"
      ]
     },
     "metadata": {},
     "output_type": "display_data"
    }
   ],
   "source": [
    "display(data.head())\n",
    "display(data.describe())from catboost import CatBoostClassifier\n",
    "from lightgbm import LGBMClassifier\n",
    "from nltk.corpus import stopwords as nltk_stopwords\n",
    "from nltk.stem import WordNetLemmatizer\n",
    "from pymystem3 import Mystem\n",
    "from sklearn.ensemble import RandomForestClassifier\n",
    "from sklearn.feature_extraction.text import TfidfVectorizer\n",
    "from sklearn.linear_model import LogisticRegression\n",
    "from sklearn.metrics import f1_score\n",
    "from sklearn.metrics import roc_auc_score\n",
    "from sklearn.metrics import roc_curve\n",
    "from sklearn.model_selection import TimeSeriesSplit, GridSearchCV\n",
    "from sklearn.model_selection import cross_val_score\n",
    "from sklearn.model_selection import train_test_split\n",
    "from sklearn.utils import shuffle\n",
    "from tqdm.notebook import tqdm\n",
    "display(data.info())\n",
    "display(data.isnull().sum(axis = 0))"
   ]
  },
  {
   "cell_type": "code",
   "execution_count": 4,
   "metadata": {
    "scrolled": true
   },
   "outputs": [
    {
     "data": {
      "text/html": [
       "<div>\n",
       "<style scoped>\n",
       "    .dataframe tbody tr th:only-of-type {\n",
       "        vertical-align: middle;\n",
       "    }\n",
       "\n",
       "    .dataframe tbody tr th {\n",
       "        vertical-align: top;\n",
       "    }\n",
       "\n",
       "    .dataframe thead th {\n",
       "        text-align: right;\n",
       "    }\n",
       "</style>\n",
       "<table border=\"1\" class=\"dataframe\">\n",
       "  <thead>\n",
       "    <tr style=\"text-align: right;\">\n",
       "      <th></th>\n",
       "      <th>text</th>\n",
       "      <th>toxic</th>\n",
       "    </tr>\n",
       "  </thead>\n",
       "  <tbody>\n",
       "    <tr>\n",
       "      <th>143080</th>\n",
       "      <td>\"\\n\\n \"\"wikipedia isn't perfect, but its model...</td>\n",
       "      <td>0</td>\n",
       "    </tr>\n",
       "    <tr>\n",
       "      <th>36974</th>\n",
       "      <td>\"\\n\\n \"\"wikipedia isn't perfect, but its model...</td>\n",
       "      <td>0</td>\n",
       "    </tr>\n",
       "    <tr>\n",
       "      <th>136461</th>\n",
       "      <td>\"\\n\\n Please do not add nonsense to Wikipedia ...</td>\n",
       "      <td>0</td>\n",
       "    </tr>\n",
       "    <tr>\n",
       "      <th>78415</th>\n",
       "      <td>\"\\n\\n Please do not add nonsense to wikipedia ...</td>\n",
       "      <td>0</td>\n",
       "    </tr>\n",
       "    <tr>\n",
       "      <th>16019</th>\n",
       "      <td>\"\\n\\n Unblock Request \\n\\n\"</td>\n",
       "      <td>0</td>\n",
       "    </tr>\n",
       "    <tr>\n",
       "      <th>29636</th>\n",
       "      <td>\"\\n\\n Unblock request \\n\\n\"</td>\n",
       "      <td>0</td>\n",
       "    </tr>\n",
       "    <tr>\n",
       "      <th>96528</th>\n",
       "      <td>\"\\n\\n unblock request \\n\\n\"</td>\n",
       "      <td>0</td>\n",
       "    </tr>\n",
       "    <tr>\n",
       "      <th>135029</th>\n",
       "      <td>\"\\n\\nPlease do not add nonsense to Wikipedia. ...</td>\n",
       "      <td>0</td>\n",
       "    </tr>\n",
       "    <tr>\n",
       "      <th>68816</th>\n",
       "      <td>\"\\n\\nPlease do not add nonsense to Wikipedia. ...</td>\n",
       "      <td>0</td>\n",
       "    </tr>\n",
       "    <tr>\n",
       "      <th>141796</th>\n",
       "      <td>\"Thank you for experimenting with  Wikipedia. ...</td>\n",
       "      <td>0</td>\n",
       "    </tr>\n",
       "  </tbody>\n",
       "</table>\n",
       "</div>"
      ],
      "text/plain": [
       "                                                     text  toxic\n",
       "143080  \"\\n\\n \"\"wikipedia isn't perfect, but its model...      0\n",
       "36974   \"\\n\\n \"\"wikipedia isn't perfect, but its model...      0\n",
       "136461  \"\\n\\n Please do not add nonsense to Wikipedia ...      0\n",
       "78415   \"\\n\\n Please do not add nonsense to wikipedia ...      0\n",
       "16019                         \"\\n\\n Unblock Request \\n\\n\"      0\n",
       "29636                         \"\\n\\n Unblock request \\n\\n\"      0\n",
       "96528                         \"\\n\\n unblock request \\n\\n\"      0\n",
       "135029  \"\\n\\nPlease do not add nonsense to Wikipedia. ...      0\n",
       "68816   \"\\n\\nPlease do not add nonsense to Wikipedia. ...      0\n",
       "141796  \"Thank you for experimenting with  Wikipedia. ...      0"
      ]
     },
     "execution_count": 4,
     "metadata": {},
     "output_type": "execute_result"
    }
   ],
   "source": [
    "data[data['text'].str.lower().duplicated(keep=False)].sort_values(by='text').head(10)"
   ]
  },
  {
   "cell_type": "code",
   "execution_count": 5,
   "metadata": {},
   "outputs": [],
   "source": [
    "data['text'] = data['text'].str.lower()"
   ]
  },
  {
   "cell_type": "code",
   "execution_count": 6,
   "metadata": {},
   "outputs": [
    {
     "data": {
      "text/plain": [
       "45"
      ]
     },
     "execution_count": 6,
     "metadata": {},
     "output_type": "execute_result"
    }
   ],
   "source": [
    "data.duplicated().sum()"
   ]
  },
  {
   "cell_type": "code",
   "execution_count": 7,
   "metadata": {},
   "outputs": [],
   "source": [
    "data = data.drop_duplicates().reset_index(drop=True)"
   ]
  },
  {
   "cell_type": "code",
   "execution_count": 8,
   "metadata": {},
   "outputs": [
    {
     "data": {
      "text/plain": [
       "0"
      ]
     },
     "execution_count": 8,
     "metadata": {},
     "output_type": "execute_result"
    }
   ],
   "source": [
    "data.duplicated().sum()"
   ]
  },
  {
   "cell_type": "markdown",
   "metadata": {},
   "source": [
    "**Вывод:**\n",
    "\n",
    "Датасет состоит их 159571 строки и двух колонок. Пропусков нет. Целевой признак имеет значение только 0 и 1. После перевода текста твитов в нижний регистр, обнаружили полные дубликаты в количестве 45 строк. Количество незначительное, поэтому данные строки были удалены."
   ]
  },
  {
   "cell_type": "markdown",
   "metadata": {},
   "source": [
    "## Обучение"
   ]
  },
  {
   "cell_type": "markdown",
   "metadata": {},
   "source": [
    "Для обработки текстов используем только 80000 строк, при большем количестве ядро Юпитера умирает."
   ]
  },
  {
   "cell_type": "code",
   "execution_count": 9,
   "metadata": {},
   "outputs": [],
   "source": [
    "data = data.sample(80000).reset_index(drop=True)"
   ]
  },
  {
   "cell_type": "code",
   "execution_count": 10,
   "metadata": {
    "scrolled": true
   },
   "outputs": [
    {
     "name": "stdout",
     "output_type": "stream",
     "text": [
      "Исходный текст: of course, it is always a pleasure to see you.\n",
      "\n",
      "Очищенный и лемматизированный текст: of course it is always a pleasure to see you\n"
     ]
    }
   ],
   "source": [
    "corpus = data['text'].values.astype('U')\n",
    "\n",
    "lemmatizer = WordNetLemmatizer()\n",
    "def lemmatize(twit):\n",
    "    \"\"\" Функция токенизации и лемматизиции теста\n",
    "    \"\"\"\n",
    "    text = re.sub(r'[^a-zA-Z]', ' ', twit)\n",
    "    word_list = nltk.word_tokenize(text)\n",
    "    lemmatized_output = \" \".join([lemmatizer.lemmatize(i) for i in word_list])\n",
    "    return \" \".join(lemmatized_output.split())\n",
    "\n",
    "data['lem_text'] = data['text'].apply(lemmatize)\n",
    "\n",
    "print(\"Исходный текст:\", corpus[0])\n",
    "print(\"\")\n",
    "print(\"Очищенный и лемматизированный текст:\", data['lem_text'][0])"
   ]
  },
  {
   "cell_type": "code",
   "execution_count": null,
   "metadata": {},
   "outputs": [],
   "source": [
    "# Так можно следить за выполнением функции\n",
    "\n",
    "# from tqdm import tqdm\n",
    "# warnings.filterwarnings('ignore')\n",
    "\n",
    "# tqdm.pandas(desc=\"progress bar!\")\n",
    "\n",
    "# data['text'] = data['text'].progress_apply(lemmatize_sentence)"
   ]
  },
  {
   "cell_type": "markdown",
   "metadata": {},
   "source": [
    "Разобьём данные на обучающую и тестовую выборки."
   ]
  },
  {
   "cell_type": "code",
   "execution_count": 11,
   "metadata": {},
   "outputs": [
    {
     "name": "stdout",
     "output_type": "stream",
     "text": [
      "Размер тренировочной выборки: (72000, 2)\n",
      "Размер тренировочной выборки: (72000,)\n",
      "Размер тестовой выборки: (8000, 2)\n",
      "Размер тренировочной выборки: (8000,)\n"
     ]
    }
   ],
   "source": [
    "features = data.drop('toxic',axis=1)\n",
    "target = data['toxic']\n",
    "\n",
    "features_train, features_test, target_train, target_test = train_test_split(features, target, test_size=0.1,\n",
    "                                                              random_state=12345, stratify=target)\n",
    "\n",
    "print('Размер тренировочной выборки:',features_train.shape)\n",
    "print('Размер тренировочной выборки:',target_train.shape)\n",
    "print('Размер тестовой выборки:',features_test.shape)\n",
    "print('Размер тренировочной выборки:',target_test.shape)"
   ]
  },
  {
   "cell_type": "code",
   "execution_count": 12,
   "metadata": {},
   "outputs": [
    {
     "name": "stderr",
     "output_type": "stream",
     "text": [
      "[nltk_data] Downloading package stopwords to /home/jovyan/nltk_data...\n",
      "[nltk_data]   Package stopwords is already up-to-date!\n"
     ]
    }
   ],
   "source": [
    "nltk.download('stopwords')\n",
    "stopwords = set(nltk_stopwords.words('english'))"
   ]
  },
  {
   "cell_type": "markdown",
   "metadata": {},
   "source": [
    "Создадим корпуса из лемматизированных и очищенных слов"
   ]
  },
  {
   "cell_type": "code",
   "execution_count": 13,
   "metadata": {},
   "outputs": [
    {
     "name": "stdout",
     "output_type": "stream",
     "text": [
      "(72000,)\n"
     ]
    }
   ],
   "source": [
    "corpus_train = features_train['lem_text'].values.astype('U')\n",
    "\n",
    "print(corpus_train.shape)\n"
   ]
  },
  {
   "cell_type": "code",
   "execution_count": 14,
   "metadata": {},
   "outputs": [
    {
     "name": "stdout",
     "output_type": "stream",
     "text": [
      "(8000,)\n"
     ]
    }
   ],
   "source": [
    "corpus_test = features_test['lem_text'].values.astype('U')\n",
    "print(corpus_test.shape)"
   ]
  },
  {
   "cell_type": "markdown",
   "metadata": {},
   "source": [
    "Применим модель TfidfVectorizer и обучим её на наших тренировочных данных"
   ]
  },
  {
   "cell_type": "code",
   "execution_count": 15,
   "metadata": {},
   "outputs": [
    {
     "name": "stdout",
     "output_type": "stream",
     "text": [
      "Размер матрицы: (72000, 99225)\n",
      "Размер матрицы: (8000, 99225)\n"
     ]
    }
   ],
   "source": [
    "count_tf_idf = TfidfVectorizer(stop_words=stopwords, analyzer='word') \n",
    "\n",
    "tf_idf_train = count_tf_idf.fit_transform(corpus_train) \n",
    "tf_idf_test = count_tf_idf.transform(corpus_test) \n",
    "\n",
    "print(\"Размер матрицы:\", tf_idf_train.shape)\n",
    "print(\"Размер матрицы:\", tf_idf_test.shape)"
   ]
  },
  {
   "cell_type": "markdown",
   "metadata": {},
   "source": [
    "### Линейная регрессия"
   ]
  },
  {
   "cell_type": "code",
   "execution_count": 16,
   "metadata": {},
   "outputs": [
    {
     "name": "stdout",
     "output_type": "stream",
     "text": [
      "F1 модели линейной регрессии: 0.7526170798898073\n",
      "CPU times: user 11.5 s, sys: 14.2 s, total: 25.7 s\n",
      "Wall time: 25.8 s\n"
     ]
    }
   ],
   "source": [
    "%%time\n",
    "model_LR = LogisticRegression(random_state=12345, max_iter=1000, class_weight='balanced')\n",
    " \n",
    "model_LR.fit(tf_idf_train, target_train)\n",
    "pred_test_LR = model_LR.predict(tf_idf_test)\n",
    "F1_LR = f1_score(target_test, pred_test_LR)\n",
    "print(\"F1 модели линейной регрессии:\", F1_LR)"
   ]
  },
  {
   "cell_type": "code",
   "execution_count": 17,
   "metadata": {},
   "outputs": [
    {
     "name": "stderr",
     "output_type": "stream",
     "text": [
      "/opt/conda/lib/python3.9/site-packages/sklearn/linear_model/_sag.py:328: ConvergenceWarning: The max_iter was reached which means the coef_ did not converge\n",
      "  warnings.warn(\"The max_iter was reached which means \"\n",
      "/opt/conda/lib/python3.9/site-packages/sklearn/linear_model/_sag.py:328: ConvergenceWarning: The max_iter was reached which means the coef_ did not converge\n",
      "  warnings.warn(\"The max_iter was reached which means \"\n",
      "/opt/conda/lib/python3.9/site-packages/sklearn/linear_model/_sag.py:328: ConvergenceWarning: The max_iter was reached which means the coef_ did not converge\n",
      "  warnings.warn(\"The max_iter was reached which means \"\n",
      "/opt/conda/lib/python3.9/site-packages/sklearn/linear_model/_sag.py:328: ConvergenceWarning: The max_iter was reached which means the coef_ did not converge\n",
      "  warnings.warn(\"The max_iter was reached which means \"\n",
      "/opt/conda/lib/python3.9/site-packages/sklearn/linear_model/_sag.py:328: ConvergenceWarning: The max_iter was reached which means the coef_ did not converge\n",
      "  warnings.warn(\"The max_iter was reached which means \"\n",
      "/opt/conda/lib/python3.9/site-packages/sklearn/linear_model/_sag.py:328: ConvergenceWarning: The max_iter was reached which means the coef_ did not converge\n",
      "  warnings.warn(\"The max_iter was reached which means \"\n",
      "/opt/conda/lib/python3.9/site-packages/sklearn/linear_model/_sag.py:328: ConvergenceWarning: The max_iter was reached which means the coef_ did not converge\n",
      "  warnings.warn(\"The max_iter was reached which means \"\n",
      "/opt/conda/lib/python3.9/site-packages/sklearn/linear_model/_sag.py:328: ConvergenceWarning: The max_iter was reached which means the coef_ did not converge\n",
      "  warnings.warn(\"The max_iter was reached which means \"\n",
      "/opt/conda/lib/python3.9/site-packages/sklearn/linear_model/_sag.py:328: ConvergenceWarning: The max_iter was reached which means the coef_ did not converge\n",
      "  warnings.warn(\"The max_iter was reached which means \"\n",
      "/opt/conda/lib/python3.9/site-packages/sklearn/linear_model/_sag.py:328: ConvergenceWarning: The max_iter was reached which means the coef_ did not converge\n",
      "  warnings.warn(\"The max_iter was reached which means \"\n",
      "/opt/conda/lib/python3.9/site-packages/sklearn/linear_model/_sag.py:328: ConvergenceWarning: The max_iter was reached which means the coef_ did not converge\n",
      "  warnings.warn(\"The max_iter was reached which means \"\n",
      "/opt/conda/lib/python3.9/site-packages/sklearn/linear_model/_sag.py:328: ConvergenceWarning: The max_iter was reached which means the coef_ did not converge\n",
      "  warnings.warn(\"The max_iter was reached which means \"\n",
      "/opt/conda/lib/python3.9/site-packages/sklearn/linear_model/_sag.py:328: ConvergenceWarning: The max_iter was reached which means the coef_ did not converge\n",
      "  warnings.warn(\"The max_iter was reached which means \"\n",
      "/opt/conda/lib/python3.9/site-packages/sklearn/linear_model/_sag.py:328: ConvergenceWarning: The max_iter was reached which means the coef_ did not converge\n",
      "  warnings.warn(\"The max_iter was reached which means \"\n",
      "/opt/conda/lib/python3.9/site-packages/sklearn/linear_model/_sag.py:328: ConvergenceWarning: The max_iter was reached which means the coef_ did not converge\n",
      "  warnings.warn(\"The max_iter was reached which means \"\n",
      "/opt/conda/lib/python3.9/site-packages/sklearn/linear_model/_sag.py:328: ConvergenceWarning: The max_iter was reached which means the coef_ did not converge\n",
      "  warnings.warn(\"The max_iter was reached which means \"\n",
      "/opt/conda/lib/python3.9/site-packages/sklearn/linear_model/_sag.py:328: ConvergenceWarning: The max_iter was reached which means the coef_ did not converge\n",
      "  warnings.warn(\"The max_iter was reached which means \"\n",
      "/opt/conda/lib/python3.9/site-packages/sklearn/linear_model/_sag.py:328: ConvergenceWarning: The max_iter was reached which means the coef_ did not converge\n",
      "  warnings.warn(\"The max_iter was reached which means \"\n",
      "/opt/conda/lib/python3.9/site-packages/sklearn/linear_model/_sag.py:328: ConvergenceWarning: The max_iter was reached which means the coef_ did not converge\n",
      "  warnings.warn(\"The max_iter was reached which means \"\n",
      "/opt/conda/lib/python3.9/site-packages/sklearn/linear_model/_sag.py:328: ConvergenceWarning: The max_iter was reached which means the coef_ did not converge\n",
      "  warnings.warn(\"The max_iter was reached which means \"\n",
      "/opt/conda/lib/python3.9/site-packages/sklearn/linear_model/_sag.py:328: ConvergenceWarning: The max_iter was reached which means the coef_ did not converge\n",
      "  warnings.warn(\"The max_iter was reached which means \"\n",
      "/opt/conda/lib/python3.9/site-packages/sklearn/linear_model/_sag.py:328: ConvergenceWarning: The max_iter was reached which means the coef_ did not converge\n",
      "  warnings.warn(\"The max_iter was reached which means \"\n",
      "/opt/conda/lib/python3.9/site-packages/sklearn/linear_model/_sag.py:328: ConvergenceWarning: The max_iter was reached which means the coef_ did not converge\n",
      "  warnings.warn(\"The max_iter was reached which means \"\n",
      "/opt/conda/lib/python3.9/site-packages/sklearn/linear_model/_sag.py:328: ConvergenceWarning: The max_iter was reached which means the coef_ did not converge\n",
      "  warnings.warn(\"The max_iter was reached which means \"\n",
      "/opt/conda/lib/python3.9/site-packages/sklearn/linear_model/_sag.py:328: ConvergenceWarning: The max_iter was reached which means the coef_ did not converge\n",
      "  warnings.warn(\"The max_iter was reached which means \"\n",
      "/opt/conda/lib/python3.9/site-packages/sklearn/linear_model/_sag.py:328: ConvergenceWarning: The max_iter was reached which means the coef_ did not converge\n",
      "  warnings.warn(\"The max_iter was reached which means \"\n",
      "/opt/conda/lib/python3.9/site-packages/sklearn/linear_model/_sag.py:328: ConvergenceWarning: The max_iter was reached which means the coef_ did not converge\n",
      "  warnings.warn(\"The max_iter was reached which means \"\n",
      "/opt/conda/lib/python3.9/site-packages/sklearn/linear_model/_sag.py:328: ConvergenceWarning: The max_iter was reached which means the coef_ did not converge\n",
      "  warnings.warn(\"The max_iter was reached which means \"\n",
      "/opt/conda/lib/python3.9/site-packages/sklearn/linear_model/_sag.py:328: ConvergenceWarning: The max_iter was reached which means the coef_ did not converge\n",
      "  warnings.warn(\"The max_iter was reached which means \"\n",
      "/opt/conda/lib/python3.9/site-packages/sklearn/linear_model/_sag.py:328: ConvergenceWarning: The max_iter was reached which means the coef_ did not converge\n",
      "  warnings.warn(\"The max_iter was reached which means \"\n",
      "/opt/conda/lib/python3.9/site-packages/sklearn/linear_model/_sag.py:328: ConvergenceWarning: The max_iter was reached which means the coef_ did not converge\n",
      "  warnings.warn(\"The max_iter was reached which means \"\n",
      "/opt/conda/lib/python3.9/site-packages/sklearn/linear_model/_sag.py:328: ConvergenceWarning: The max_iter was reached which means the coef_ did not converge\n",
      "  warnings.warn(\"The max_iter was reached which means \"\n",
      "/opt/conda/lib/python3.9/site-packages/sklearn/linear_model/_sag.py:328: ConvergenceWarning: The max_iter was reached which means the coef_ did not converge\n",
      "  warnings.warn(\"The max_iter was reached which means \"\n",
      "/opt/conda/lib/python3.9/site-packages/sklearn/linear_model/_sag.py:328: ConvergenceWarning: The max_iter was reached which means the coef_ did not converge\n",
      "  warnings.warn(\"The max_iter was reached which means \"\n",
      "/opt/conda/lib/python3.9/site-packages/sklearn/linear_model/_sag.py:328: ConvergenceWarning: The max_iter was reached which means the coef_ did not converge\n",
      "  warnings.warn(\"The max_iter was reached which means \"\n",
      "/opt/conda/lib/python3.9/site-packages/sklearn/linear_model/_sag.py:328: ConvergenceWarning: The max_iter was reached which means the coef_ did not converge\n",
      "  warnings.warn(\"The max_iter was reached which means \"\n",
      "/opt/conda/lib/python3.9/site-packages/sklearn/linear_model/_sag.py:328: ConvergenceWarning: The max_iter was reached which means the coef_ did not converge\n",
      "  warnings.warn(\"The max_iter was reached which means \"\n",
      "/opt/conda/lib/python3.9/site-packages/sklearn/linear_model/_sag.py:328: ConvergenceWarning: The max_iter was reached which means the coef_ did not converge\n",
      "  warnings.warn(\"The max_iter was reached which means \"\n",
      "/opt/conda/lib/python3.9/site-packages/sklearn/linear_model/_sag.py:328: ConvergenceWarning: The max_iter was reached which means the coef_ did not converge\n",
      "  warnings.warn(\"The max_iter was reached which means \"\n",
      "/opt/conda/lib/python3.9/site-packages/sklearn/linear_model/_sag.py:328: ConvergenceWarning: The max_iter was reached which means the coef_ did not converge\n",
      "  warnings.warn(\"The max_iter was reached which means \"\n",
      "/opt/conda/lib/python3.9/site-packages/sklearn/linear_model/_sag.py:328: ConvergenceWarning: The max_iter was reached which means the coef_ did not converge\n",
      "  warnings.warn(\"The max_iter was reached which means \"\n",
      "/opt/conda/lib/python3.9/site-packages/sklearn/linear_model/_sag.py:328: ConvergenceWarning: The max_iter was reached which means the coef_ did not converge\n",
      "  warnings.warn(\"The max_iter was reached which means \"\n",
      "/opt/conda/lib/python3.9/site-packages/sklearn/linear_model/_sag.py:328: ConvergenceWarning: The max_iter was reached which means the coef_ did not converge\n",
      "  warnings.warn(\"The max_iter was reached which means \"\n",
      "/opt/conda/lib/python3.9/site-packages/sklearn/linear_model/_sag.py:328: ConvergenceWarning: The max_iter was reached which means the coef_ did not converge\n",
      "  warnings.warn(\"The max_iter was reached which means \"\n",
      "/opt/conda/lib/python3.9/site-packages/sklearn/linear_model/_sag.py:328: ConvergenceWarning: The max_iter was reached which means the coef_ did not converge\n",
      "  warnings.warn(\"The max_iter was reached which means \"\n",
      "/opt/conda/lib/python3.9/site-packages/sklearn/linear_model/_sag.py:328: ConvergenceWarning: The max_iter was reached which means the coef_ did not converge\n",
      "  warnings.warn(\"The max_iter was reached which means \"\n",
      "/opt/conda/lib/python3.9/site-packages/sklearn/linear_model/_sag.py:328: ConvergenceWarning: The max_iter was reached which means the coef_ did not converge\n",
      "  warnings.warn(\"The max_iter was reached which means \"\n",
      "/opt/conda/lib/python3.9/site-packages/sklearn/linear_model/_sag.py:328: ConvergenceWarning: The max_iter was reached which means the coef_ did not converge\n",
      "  warnings.warn(\"The max_iter was reached which means \"\n",
      "/opt/conda/lib/python3.9/site-packages/sklearn/linear_model/_sag.py:328: ConvergenceWarning: The max_iter was reached which means the coef_ did not converge\n",
      "  warnings.warn(\"The max_iter was reached which means \"\n",
      "/opt/conda/lib/python3.9/site-packages/sklearn/linear_model/_sag.py:328: ConvergenceWarning: The max_iter was reached which means the coef_ did not converge\n",
      "  warnings.warn(\"The max_iter was reached which means \"\n",
      "/opt/conda/lib/python3.9/site-packages/sklearn/linear_model/_sag.py:328: ConvergenceWarning: The max_iter was reached which means the coef_ did not converge\n",
      "  warnings.warn(\"The max_iter was reached which means \"\n",
      "/opt/conda/lib/python3.9/site-packages/sklearn/linear_model/_sag.py:328: ConvergenceWarning: The max_iter was reached which means the coef_ did not converge\n",
      "  warnings.warn(\"The max_iter was reached which means \"\n",
      "/opt/conda/lib/python3.9/site-packages/sklearn/linear_model/_sag.py:328: ConvergenceWarning: The max_iter was reached which means the coef_ did not converge\n",
      "  warnings.warn(\"The max_iter was reached which means \"\n",
      "/opt/conda/lib/python3.9/site-packages/sklearn/linear_model/_sag.py:328: ConvergenceWarning: The max_iter was reached which means the coef_ did not converge\n",
      "  warnings.warn(\"The max_iter was reached which means \"\n",
      "/opt/conda/lib/python3.9/site-packages/sklearn/linear_model/_sag.py:328: ConvergenceWarning: The max_iter was reached which means the coef_ did not converge\n",
      "  warnings.warn(\"The max_iter was reached which means \"\n",
      "/opt/conda/lib/python3.9/site-packages/sklearn/linear_model/_sag.py:328: ConvergenceWarning: The max_iter was reached which means the coef_ did not converge\n",
      "  warnings.warn(\"The max_iter was reached which means \"\n",
      "/opt/conda/lib/python3.9/site-packages/sklearn/linear_model/_sag.py:328: ConvergenceWarning: The max_iter was reached which means the coef_ did not converge\n",
      "  warnings.warn(\"The max_iter was reached which means \"\n",
      "/opt/conda/lib/python3.9/site-packages/sklearn/linear_model/_sag.py:328: ConvergenceWarning: The max_iter was reached which means the coef_ did not converge\n",
      "  warnings.warn(\"The max_iter was reached which means \"\n",
      "/opt/conda/lib/python3.9/site-packages/sklearn/linear_model/_sag.py:328: ConvergenceWarning: The max_iter was reached which means the coef_ did not converge\n",
      "  warnings.warn(\"The max_iter was reached which means \"\n",
      "/opt/conda/lib/python3.9/site-packages/sklearn/linear_model/_sag.py:328: ConvergenceWarning: The max_iter was reached which means the coef_ did not converge\n",
      "  warnings.warn(\"The max_iter was reached which means \"\n",
      "/opt/conda/lib/python3.9/site-packages/sklearn/linear_model/_sag.py:328: ConvergenceWarning: The max_iter was reached which means the coef_ did not converge\n",
      "  warnings.warn(\"The max_iter was reached which means \"\n",
      "/opt/conda/lib/python3.9/site-packages/sklearn/linear_model/_sag.py:328: ConvergenceWarning: The max_iter was reached which means the coef_ did not converge\n",
      "  warnings.warn(\"The max_iter was reached which means \"\n",
      "/opt/conda/lib/python3.9/site-packages/sklearn/linear_model/_sag.py:328: ConvergenceWarning: The max_iter was reached which means the coef_ did not converge\n",
      "  warnings.warn(\"The max_iter was reached which means \"\n",
      "/opt/conda/lib/python3.9/site-packages/sklearn/linear_model/_sag.py:328: ConvergenceWarning: The max_iter was reached which means the coef_ did not converge\n",
      "  warnings.warn(\"The max_iter was reached which means \"\n",
      "/opt/conda/lib/python3.9/site-packages/sklearn/linear_model/_sag.py:328: ConvergenceWarning: The max_iter was reached which means the coef_ did not converge\n",
      "  warnings.warn(\"The max_iter was reached which means \"\n",
      "/opt/conda/lib/python3.9/site-packages/sklearn/linear_model/_sag.py:328: ConvergenceWarning: The max_iter was reached which means the coef_ did not converge\n",
      "  warnings.warn(\"The max_iter was reached which means \"\n",
      "/opt/conda/lib/python3.9/site-packages/sklearn/linear_model/_sag.py:328: ConvergenceWarning: The max_iter was reached which means the coef_ did not converge\n",
      "  warnings.warn(\"The max_iter was reached which means \"\n",
      "/opt/conda/lib/python3.9/site-packages/sklearn/linear_model/_sag.py:328: ConvergenceWarning: The max_iter was reached which means the coef_ did not converge\n",
      "  warnings.warn(\"The max_iter was reached which means \"\n",
      "/opt/conda/lib/python3.9/site-packages/sklearn/linear_model/_sag.py:328: ConvergenceWarning: The max_iter was reached which means the coef_ did not converge\n",
      "  warnings.warn(\"The max_iter was reached which means \"\n",
      "/opt/conda/lib/python3.9/site-packages/sklearn/linear_model/_sag.py:328: ConvergenceWarning: The max_iter was reached which means the coef_ did not converge\n",
      "  warnings.warn(\"The max_iter was reached which means \"\n",
      "/opt/conda/lib/python3.9/site-packages/sklearn/linear_model/_sag.py:328: ConvergenceWarning: The max_iter was reached which means the coef_ did not converge\n",
      "  warnings.warn(\"The max_iter was reached which means \"\n",
      "/opt/conda/lib/python3.9/site-packages/sklearn/linear_model/_sag.py:328: ConvergenceWarning: The max_iter was reached which means the coef_ did not converge\n",
      "  warnings.warn(\"The max_iter was reached which means \"\n",
      "/opt/conda/lib/python3.9/site-packages/sklearn/linear_model/_sag.py:328: ConvergenceWarning: The max_iter was reached which means the coef_ did not converge\n",
      "  warnings.warn(\"The max_iter was reached which means \"\n",
      "/opt/conda/lib/python3.9/site-packages/sklearn/linear_model/_sag.py:328: ConvergenceWarning: The max_iter was reached which means the coef_ did not converge\n",
      "  warnings.warn(\"The max_iter was reached which means \"\n",
      "/opt/conda/lib/python3.9/site-packages/sklearn/linear_model/_sag.py:328: ConvergenceWarning: The max_iter was reached which means the coef_ did not converge\n",
      "  warnings.warn(\"The max_iter was reached which means \"\n",
      "/opt/conda/lib/python3.9/site-packages/sklearn/linear_model/_sag.py:328: ConvergenceWarning: The max_iter was reached which means the coef_ did not converge\n",
      "  warnings.warn(\"The max_iter was reached which means \"\n",
      "/opt/conda/lib/python3.9/site-packages/sklearn/linear_model/_sag.py:328: ConvergenceWarning: The max_iter was reached which means the coef_ did not converge\n",
      "  warnings.warn(\"The max_iter was reached which means \"\n",
      "/opt/conda/lib/python3.9/site-packages/sklearn/linear_model/_sag.py:328: ConvergenceWarning: The max_iter was reached which means the coef_ did not converge\n",
      "  warnings.warn(\"The max_iter was reached which means \"\n",
      "/opt/conda/lib/python3.9/site-packages/sklearn/linear_model/_sag.py:328: ConvergenceWarning: The max_iter was reached which means the coef_ did not converge\n",
      "  warnings.warn(\"The max_iter was reached which means \"\n",
      "/opt/conda/lib/python3.9/site-packages/sklearn/linear_model/_sag.py:328: ConvergenceWarning: The max_iter was reached which means the coef_ did not converge\n",
      "  warnings.warn(\"The max_iter was reached which means \"\n",
      "/opt/conda/lib/python3.9/site-packages/sklearn/linear_model/_sag.py:328: ConvergenceWarning: The max_iter was reached which means the coef_ did not converge\n",
      "  warnings.warn(\"The max_iter was reached which means \"\n",
      "/opt/conda/lib/python3.9/site-packages/sklearn/linear_model/_sag.py:328: ConvergenceWarning: The max_iter was reached which means the coef_ did not converge\n",
      "  warnings.warn(\"The max_iter was reached which means \"\n",
      "/opt/conda/lib/python3.9/site-packages/sklearn/linear_model/_sag.py:328: ConvergenceWarning: The max_iter was reached which means the coef_ did not converge\n",
      "  warnings.warn(\"The max_iter was reached which means \"\n",
      "/opt/conda/lib/python3.9/site-packages/sklearn/linear_model/_sag.py:328: ConvergenceWarning: The max_iter was reached which means the coef_ did not converge\n",
      "  warnings.warn(\"The max_iter was reached which means \"\n",
      "/opt/conda/lib/python3.9/site-packages/sklearn/linear_model/_sag.py:328: ConvergenceWarning: The max_iter was reached which means the coef_ did not converge\n",
      "  warnings.warn(\"The max_iter was reached which means \"\n",
      "/opt/conda/lib/python3.9/site-packages/sklearn/linear_model/_sag.py:328: ConvergenceWarning: The max_iter was reached which means the coef_ did not converge\n",
      "  warnings.warn(\"The max_iter was reached which means \"\n",
      "/opt/conda/lib/python3.9/site-packages/sklearn/linear_model/_sag.py:328: ConvergenceWarning: The max_iter was reached which means the coef_ did not converge\n",
      "  warnings.warn(\"The max_iter was reached which means \"\n",
      "/opt/conda/lib/python3.9/site-packages/sklearn/linear_model/_sag.py:328: ConvergenceWarning: The max_iter was reached which means the coef_ did not converge\n",
      "  warnings.warn(\"The max_iter was reached which means \"\n",
      "/opt/conda/lib/python3.9/site-packages/sklearn/linear_model/_sag.py:328: ConvergenceWarning: The max_iter was reached which means the coef_ did not converge\n",
      "  warnings.warn(\"The max_iter was reached which means \"\n",
      "/opt/conda/lib/python3.9/site-packages/sklearn/linear_model/_sag.py:328: ConvergenceWarning: The max_iter was reached which means the coef_ did not converge\n",
      "  warnings.warn(\"The max_iter was reached which means \"\n",
      "/opt/conda/lib/python3.9/site-packages/sklearn/linear_model/_sag.py:328: ConvergenceWarning: The max_iter was reached which means the coef_ did not converge\n",
      "  warnings.warn(\"The max_iter was reached which means \"\n",
      "/opt/conda/lib/python3.9/site-packages/sklearn/linear_model/_sag.py:328: ConvergenceWarning: The max_iter was reached which means the coef_ did not converge\n",
      "  warnings.warn(\"The max_iter was reached which means \"\n",
      "/opt/conda/lib/python3.9/site-packages/sklearn/linear_model/_sag.py:328: ConvergenceWarning: The max_iter was reached which means the coef_ did not converge\n",
      "  warnings.warn(\"The max_iter was reached which means \"\n",
      "/opt/conda/lib/python3.9/site-packages/sklearn/linear_model/_sag.py:328: ConvergenceWarning: The max_iter was reached which means the coef_ did not converge\n",
      "  warnings.warn(\"The max_iter was reached which means \"\n",
      "/opt/conda/lib/python3.9/site-packages/sklearn/linear_model/_sag.py:328: ConvergenceWarning: The max_iter was reached which means the coef_ did not converge\n",
      "  warnings.warn(\"The max_iter was reached which means \"\n",
      "/opt/conda/lib/python3.9/site-packages/sklearn/linear_model/_sag.py:328: ConvergenceWarning: The max_iter was reached which means the coef_ did not converge\n",
      "  warnings.warn(\"The max_iter was reached which means \"\n",
      "/opt/conda/lib/python3.9/site-packages/sklearn/linear_model/_sag.py:328: ConvergenceWarning: The max_iter was reached which means the coef_ did not converge\n",
      "  warnings.warn(\"The max_iter was reached which means \"\n",
      "/opt/conda/lib/python3.9/site-packages/sklearn/linear_model/_sag.py:328: ConvergenceWarning: The max_iter was reached which means the coef_ did not converge\n",
      "  warnings.warn(\"The max_iter was reached which means \"\n",
      "/opt/conda/lib/python3.9/site-packages/sklearn/linear_model/_sag.py:328: ConvergenceWarning: The max_iter was reached which means the coef_ did not converge\n",
      "  warnings.warn(\"The max_iter was reached which means \"\n",
      "/opt/conda/lib/python3.9/site-packages/sklearn/linear_model/_sag.py:328: ConvergenceWarning: The max_iter was reached which means the coef_ did not converge\n",
      "  warnings.warn(\"The max_iter was reached which means \"\n",
      "/opt/conda/lib/python3.9/site-packages/sklearn/linear_model/_sag.py:328: ConvergenceWarning: The max_iter was reached which means the coef_ did not converge\n",
      "  warnings.warn(\"The max_iter was reached which means \"\n",
      "/opt/conda/lib/python3.9/site-packages/sklearn/linear_model/_sag.py:328: ConvergenceWarning: The max_iter was reached which means the coef_ did not converge\n",
      "  warnings.warn(\"The max_iter was reached which means \"\n",
      "/opt/conda/lib/python3.9/site-packages/sklearn/linear_model/_sag.py:328: ConvergenceWarning: The max_iter was reached which means the coef_ did not converge\n",
      "  warnings.warn(\"The max_iter was reached which means \"\n",
      "/opt/conda/lib/python3.9/site-packages/sklearn/linear_model/_sag.py:328: ConvergenceWarning: The max_iter was reached which means the coef_ did not converge\n",
      "  warnings.warn(\"The max_iter was reached which means \"\n",
      "/opt/conda/lib/python3.9/site-packages/sklearn/linear_model/_sag.py:328: ConvergenceWarning: The max_iter was reached which means the coef_ did not converge\n",
      "  warnings.warn(\"The max_iter was reached which means \"\n",
      "/opt/conda/lib/python3.9/site-packages/sklearn/linear_model/_sag.py:328: ConvergenceWarning: The max_iter was reached which means the coef_ did not converge\n",
      "  warnings.warn(\"The max_iter was reached which means \"\n",
      "/opt/conda/lib/python3.9/site-packages/sklearn/linear_model/_sag.py:328: ConvergenceWarning: The max_iter was reached which means the coef_ did not converge\n",
      "  warnings.warn(\"The max_iter was reached which means \"\n",
      "/opt/conda/lib/python3.9/site-packages/sklearn/linear_model/_sag.py:328: ConvergenceWarning: The max_iter was reached which means the coef_ did not converge\n",
      "  warnings.warn(\"The max_iter was reached which means \"\n",
      "/opt/conda/lib/python3.9/site-packages/sklearn/linear_model/_sag.py:328: ConvergenceWarning: The max_iter was reached which means the coef_ did not converge\n",
      "  warnings.warn(\"The max_iter was reached which means \"\n",
      "/opt/conda/lib/python3.9/site-packages/sklearn/linear_model/_sag.py:328: ConvergenceWarning: The max_iter was reached which means the coef_ did not converge\n",
      "  warnings.warn(\"The max_iter was reached which means \"\n",
      "/opt/conda/lib/python3.9/site-packages/sklearn/linear_model/_sag.py:328: ConvergenceWarning: The max_iter was reached which means the coef_ did not converge\n",
      "  warnings.warn(\"The max_iter was reached which means \"\n",
      "/opt/conda/lib/python3.9/site-packages/sklearn/linear_model/_sag.py:328: ConvergenceWarning: The max_iter was reached which means the coef_ did not converge\n",
      "  warnings.warn(\"The max_iter was reached which means \"\n",
      "/opt/conda/lib/python3.9/site-packages/sklearn/linear_model/_sag.py:328: ConvergenceWarning: The max_iter was reached which means the coef_ did not converge\n",
      "  warnings.warn(\"The max_iter was reached which means \"\n",
      "/opt/conda/lib/python3.9/site-packages/sklearn/linear_model/_sag.py:328: ConvergenceWarning: The max_iter was reached which means the coef_ did not converge\n",
      "  warnings.warn(\"The max_iter was reached which means \"\n",
      "/opt/conda/lib/python3.9/site-packages/sklearn/linear_model/_sag.py:328: ConvergenceWarning: The max_iter was reached which means the coef_ did not converge\n",
      "  warnings.warn(\"The max_iter was reached which means \"\n",
      "/opt/conda/lib/python3.9/site-packages/sklearn/linear_model/_sag.py:328: ConvergenceWarning: The max_iter was reached which means the coef_ did not converge\n",
      "  warnings.warn(\"The max_iter was reached which means \"\n",
      "/opt/conda/lib/python3.9/site-packages/sklearn/linear_model/_sag.py:328: ConvergenceWarning: The max_iter was reached which means the coef_ did not converge\n",
      "  warnings.warn(\"The max_iter was reached which means \"\n",
      "/opt/conda/lib/python3.9/site-packages/sklearn/linear_model/_sag.py:328: ConvergenceWarning: The max_iter was reached which means the coef_ did not converge\n",
      "  warnings.warn(\"The max_iter was reached which means \"\n",
      "/opt/conda/lib/python3.9/site-packages/sklearn/linear_model/_sag.py:328: ConvergenceWarning: The max_iter was reached which means the coef_ did not converge\n",
      "  warnings.warn(\"The max_iter was reached which means \"\n",
      "/opt/conda/lib/python3.9/site-packages/sklearn/linear_model/_sag.py:328: ConvergenceWarning: The max_iter was reached which means the coef_ did not converge\n",
      "  warnings.warn(\"The max_iter was reached which means \"\n",
      "/opt/conda/lib/python3.9/site-packages/sklearn/linear_model/_sag.py:328: ConvergenceWarning: The max_iter was reached which means the coef_ did not converge\n",
      "  warnings.warn(\"The max_iter was reached which means \"\n",
      "/opt/conda/lib/python3.9/site-packages/sklearn/linear_model/_sag.py:328: ConvergenceWarning: The max_iter was reached which means the coef_ did not converge\n",
      "  warnings.warn(\"The max_iter was reached which means \"\n",
      "/opt/conda/lib/python3.9/site-packages/sklearn/linear_model/_sag.py:328: ConvergenceWarning: The max_iter was reached which means the coef_ did not converge\n",
      "  warnings.warn(\"The max_iter was reached which means \"\n",
      "/opt/conda/lib/python3.9/site-packages/sklearn/linear_model/_sag.py:328: ConvergenceWarning: The max_iter was reached which means the coef_ did not converge\n",
      "  warnings.warn(\"The max_iter was reached which means \"\n",
      "/opt/conda/lib/python3.9/site-packages/sklearn/linear_model/_sag.py:328: ConvergenceWarning: The max_iter was reached which means the coef_ did not converge\n",
      "  warnings.warn(\"The max_iter was reached which means \"\n",
      "/opt/conda/lib/python3.9/site-packages/sklearn/linear_model/_sag.py:328: ConvergenceWarning: The max_iter was reached which means the coef_ did not converge\n",
      "  warnings.warn(\"The max_iter was reached which means \"\n",
      "/opt/conda/lib/python3.9/site-packages/sklearn/linear_model/_sag.py:328: ConvergenceWarning: The max_iter was reached which means the coef_ did not converge\n",
      "  warnings.warn(\"The max_iter was reached which means \"\n",
      "/opt/conda/lib/python3.9/site-packages/sklearn/linear_model/_sag.py:328: ConvergenceWarning: The max_iter was reached which means the coef_ did not converge\n",
      "  warnings.warn(\"The max_iter was reached which means \"\n",
      "/opt/conda/lib/python3.9/site-packages/sklearn/linear_model/_sag.py:328: ConvergenceWarning: The max_iter was reached which means the coef_ did not converge\n",
      "  warnings.warn(\"The max_iter was reached which means \"\n",
      "/opt/conda/lib/python3.9/site-packages/sklearn/linear_model/_sag.py:328: ConvergenceWarning: The max_iter was reached which means the coef_ did not converge\n",
      "  warnings.warn(\"The max_iter was reached which means \"\n",
      "/opt/conda/lib/python3.9/site-packages/sklearn/linear_model/_sag.py:328: ConvergenceWarning: The max_iter was reached which means the coef_ did not converge\n",
      "  warnings.warn(\"The max_iter was reached which means \"\n",
      "/opt/conda/lib/python3.9/site-packages/sklearn/linear_model/_sag.py:328: ConvergenceWarning: The max_iter was reached which means the coef_ did not converge\n",
      "  warnings.warn(\"The max_iter was reached which means \"\n",
      "/opt/conda/lib/python3.9/site-packages/sklearn/linear_model/_sag.py:328: ConvergenceWarning: The max_iter was reached which means the coef_ did not converge\n",
      "  warnings.warn(\"The max_iter was reached which means \"\n",
      "/opt/conda/lib/python3.9/site-packages/sklearn/linear_model/_sag.py:328: ConvergenceWarning: The max_iter was reached which means the coef_ did not converge\n",
      "  warnings.warn(\"The max_iter was reached which means \"\n",
      "/opt/conda/lib/python3.9/site-packages/sklearn/linear_model/_sag.py:328: ConvergenceWarning: The max_iter was reached which means the coef_ did not converge\n",
      "  warnings.warn(\"The max_iter was reached which means \"\n"
     ]
    },
    {
     "name": "stdout",
     "output_type": "stream",
     "text": [
      "F1 модели линейной регрессии с GridSearch\" : 0.7543959160521837\n",
      "CPU times: user 1min 27s, sys: 248 ms, total: 1min 28s\n",
      "Wall time: 1min 28s\n"
     ]
    },
    {
     "name": "stderr",
     "output_type": "stream",
     "text": [
      "/opt/conda/lib/python3.9/site-packages/sklearn/linear_model/_sag.py:328: ConvergenceWarning: The max_iter was reached which means the coef_ did not converge\n",
      "  warnings.warn(\"The max_iter was reached which means \"\n"
     ]
    }
   ],
   "source": [
    "%%time\n",
    "clf_LR = LogisticRegression(random_state=12345, solver='sag',class_weight='balanced')\n",
    "parametrs_LR = { 'C': range (1, 10),\n",
    "              'max_iter': range (10,15,2),\n",
    "              }\n",
    "grid_LR = GridSearchCV(clf_LR, parametrs_LR, cv=5, scoring='f1')\n",
    "grid_LR.fit(tf_idf_train, target_train)\n",
    "\n",
    "predicted_LR = grid_LR.predict(tf_idf_test)\n",
    "\n",
    "F1_clf_LR = f1_score(target_test, predicted_LR)\n",
    "#print('Лучшие параметры модели :',grid_LR.best_params_)\n",
    "print('F1 модели линейной регрессии с GridSearch\" :',F1_clf_LR)"
   ]
  },
  {
   "cell_type": "markdown",
   "metadata": {},
   "source": [
    "### Случайный лес"
   ]
  },
  {
   "cell_type": "code",
   "execution_count": 18,
   "metadata": {},
   "outputs": [
    {
     "name": "stdout",
     "output_type": "stream",
     "text": [
      "F1 модели случайный лес: 0.6227661638422046\n",
      "CPU times: user 2min 12s, sys: 464 ms, total: 2min 12s\n",
      "Wall time: 2min 12s\n"
     ]
    }
   ],
   "source": [
    "%%time\n",
    "model_RFR = RandomForestClassifier()\n",
    "\n",
    "param_RFR = {'n_estimators' : [1, 12, 4]}\n",
    "\n",
    "tscv = TimeSeriesSplit(n_splits=3)\n",
    "\n",
    "model_GS = GridSearchCV(estimator=model_RFR, cv=tscv,\n",
    "                        param_grid=param_RFR, scoring='f1')\n",
    "\n",
    "model_GS.fit(tf_idf_train, target_train)\n",
    "F1_RFR = model_GS.best_score_\n",
    "#print(\"Лучшие гиперпараметры модели случайный лес:\", model_GS.best_params_)\n",
    "print(\"F1 модели случайный лес:\", F1_RFR)"
   ]
  },
  {
   "cell_type": "markdown",
   "metadata": {},
   "source": [
    "### Градиентный бустинг с LightGBM"
   ]
  },
  {
   "cell_type": "code",
   "execution_count": 19,
   "metadata": {},
   "outputs": [],
   "source": [
    "#%%time\n",
    "#model_LGBM = LGBMClassifier(learning_rate=0.1, \n",
    "                      #num_leaves=1000, \n",
    "                      #random_state=12345)\n",
    "#model_LGBM.fit(tf_idf_train, target_train)\n",
    "\n",
    "#predictions_LGBM = model_LGBM.predict(tf_idf_test)\n",
    "\n",
    "#F1_LGBM = f1_score(target_test, predictions_LGBM)\n",
    "\n",
    "#print(\"F1 LightGBM:\", F1_LGBM)"
   ]
  },
  {
   "cell_type": "markdown",
   "metadata": {},
   "source": [
    "### Градиентный бустинг с CatBoost"
   ]
  },
  {
   "cell_type": "code",
   "execution_count": 20,
   "metadata": {},
   "outputs": [],
   "source": [
    "#%%time\n",
    "#model_CBR = CatBoostClassifier(random_state=12345,learning_rate=0.4, verbose=100, n_estimators=100)\n",
    "#model_CBR.fit(tf_idf_train, target_train, eval_set=(tf_idf_test,target_test))\n",
    "#predict_CBR=model_CBR.predict(tf_idf_test)\n",
    "#F1_CBR = f1_score(target_test, predict_CBR)\n",
    "\n",
    "#print(\"F1 CatBoost:\", F1_CBR)"
   ]
  },
  {
   "cell_type": "markdown",
   "metadata": {},
   "source": [
    "## Выводы"
   ]
  },
  {
   "cell_type": "code",
   "execution_count": 21,
   "metadata": {},
   "outputs": [
    {
     "data": {
      "text/html": [
       "<div>\n",
       "<style scoped>\n",
       "    .dataframe tbody tr th:only-of-type {\n",
       "        vertical-align: middle;\n",
       "    }\n",
       "\n",
       "    .dataframe tbody tr th {\n",
       "        vertical-align: top;\n",
       "    }\n",
       "\n",
       "    .dataframe thead th {\n",
       "        text-align: right;\n",
       "    }\n",
       "</style>\n",
       "<table border=\"1\" class=\"dataframe\">\n",
       "  <thead>\n",
       "    <tr style=\"text-align: right;\">\n",
       "      <th></th>\n",
       "      <th>Learning model</th>\n",
       "    </tr>\n",
       "  </thead>\n",
       "  <tbody>\n",
       "    <tr>\n",
       "      <th>LogisticRegression</th>\n",
       "      <td>0.752617</td>\n",
       "    </tr>\n",
       "    <tr>\n",
       "      <th>LogisticRegression with GridSearch</th>\n",
       "      <td>0.754396</td>\n",
       "    </tr>\n",
       "    <tr>\n",
       "      <th>RandomForestClassifier</th>\n",
       "      <td>0.622766</td>\n",
       "    </tr>\n",
       "  </tbody>\n",
       "</table>\n",
       "</div>"
      ],
      "text/plain": [
       "                                    Learning model\n",
       "LogisticRegression                        0.752617\n",
       "LogisticRegression with GridSearch        0.754396\n",
       "RandomForestClassifier                    0.622766"
      ]
     },
     "execution_count": 21,
     "metadata": {},
     "output_type": "execute_result"
    }
   ],
   "source": [
    "result = {'Learning model': pd.Series([F1_LR, F1_clf_LR, F1_RFR],\n",
    "                      index=['LogisticRegression', 'LogisticRegression with GridSearch',\n",
    "                             'RandomForestClassifier'])}\n",
    "pd.DataFrame(result)"
   ]
  },
  {
   "cell_type": "code",
   "execution_count": 22,
   "metadata": {},
   "outputs": [
    {
     "data": {
      "image/png": "[encoded data removed]",
      "text/plain": [
       "<Figure size 720x432 with 1 Axes>"
      ]
     },
     "metadata": {
      "needs_background": "light"
     },
     "output_type": "display_data"
    }
   ],
   "source": [
    "plt.figure(figsize=(10,6))\n",
    "target_test.plot(kind='kde', linewidth=2)\n",
    "pd.Series(pred_test_LR).plot(kind='kde',linewidth=2)\n",
    "plt.title('График распределения плотности предсказанных и истинных значений', y=1.01)\n",
    "plt.legend(['Истинные значения','Предсказанные значения'])\n",
    "plt.xlabel('')\n",
    "plt.ylabel('Плотность')\n",
    "plt.show()"
   ]
  },
  {
   "cell_type": "code",
   "execution_count": 23,
   "metadata": {},
   "outputs": [
    {
     "name": "stdout",
     "output_type": "stream",
     "text": [
      "ROC-AUC: 0.9667841663391415\n"
     ]
    },
    {
     "data": {
      "image/png": "[encoded data removed]",
      "text/plain": [
       "<Figure size 432x288 with 1 Axes>"
      ]
     },
     "metadata": {
      "needs_background": "light"
     },
     "output_type": "display_data"
    }
   ],
   "source": [
    "def plt_roc_curve(model, features, target):\n",
    "    \"\"\"Построение ROC-кривой и расчет метрики AUC-ROC\"\"\"\n",
    "    probabilities_one_test = model.predict_proba(features)[:, 1]\n",
    "    print(\"ROC-AUC:\", roc_auc_score(target, probabilities_one_test))\n",
    "    fpr, tpr, thresholds = roc_curve(target, probabilities_one_test)\n",
    "\n",
    "    plt.figure()\n",
    "    plt.plot(fpr, tpr)\n",
    "    plt.plot([0, 1], [0, 1], linestyle='--')\n",
    "    plt.xlim([0.0, 1.0])\n",
    "    plt.ylim([0.0, 1.0])\n",
    "    plt.xlabel('False Positive Rate')\n",
    "    plt.ylabel('True Positive Rate')\n",
    "    plt.title('ROC-кривая')\n",
    "    plt.show()\n",
    "plt_roc_curve(model_LR, tf_idf_test, target_test)"
   ]
  },
  {
   "cell_type": "markdown",
   "metadata": {},
   "source": [
    "- Для анализа было взято 80 тыс. строк, которые были обработаны с помощью токенизации и лемматизации;\n",
    "\n",
    "- Тексты твитов были векторизованы с помощью модели TfidfVectorizer;\n",
    "\n",
    "- Данные разделены выборки обучающая и тестировочная, в процентном соотношении 90/10 соответственно;\n",
    "\n",
    "- Для анализа данных были использованы модели обучения: логистическая регрессия, логистическая регрессия с кросс-валидацией, случайный лес. При попытке улучшения метрики F1, была проведена попытка уменьшение выборки, но на результат это не повлияло;\n",
    "\n",
    "- Лучшей моделью с метрикой F1 стала логистическая регрессия с GridSearch 0.754396. Данную модель можно рекомендовать магазину для поиска токсичных комментариев и дальнейшей их модерации."
   ]
  }
 ],
 "metadata": {
  "ExecuteTimeLog": [
   {
    "duration": 1246,
    "start_time": "2022-06-21T15:31:19.281Z"
   },
   {
    "duration": 3504,
    "start_time": "2022-06-21T15:31:32.189Z"
   },
   {
    "duration": 88,
    "start_time": "2022-06-21T15:31:46.082Z"
   },
   {
    "duration": 138,
    "start_time": "2022-06-21T15:44:25.882Z"
   },
   {
    "duration": 110171,
    "start_time": "2022-06-21T15:44:40.789Z"
   },
   {
    "duration": 311,
    "start_time": "2022-06-21T15:46:30.961Z"
   },
   {
    "duration": 70076,
    "start_time": "2022-06-22T17:44:16.569Z"
   },
   {
    "duration": 2842,
    "start_time": "2022-06-22T17:45:26.648Z"
   },
   {
    "duration": 103,
    "start_time": "2022-06-22T17:45:29.492Z"
   },
   {
    "duration": 3,
    "start_time": "2022-06-22T17:45:29.598Z"
   },
   {
    "duration": 2645,
    "start_time": "2022-06-22T17:45:29.603Z"
   },
   {
    "duration": 0,
    "start_time": "2022-06-22T17:45:32.251Z"
   },
   {
    "duration": 4,
    "start_time": "2022-06-22T17:46:29.167Z"
   },
   {
    "duration": 57994,
    "start_time": "2022-06-22T17:46:55.048Z"
   },
   {
    "duration": 2713,
    "start_time": "2022-06-22T17:47:53.046Z"
   },
   {
    "duration": 92,
    "start_time": "2022-06-22T17:47:55.761Z"
   },
   {
    "duration": 3,
    "start_time": "2022-06-22T17:47:55.856Z"
   },
   {
    "duration": 2465,
    "start_time": "2022-06-22T17:47:55.860Z"
   },
   {
    "duration": 0,
    "start_time": "2022-06-22T17:47:58.327Z"
   },
   {
    "duration": 6,
    "start_time": "2022-06-22T17:50:11.308Z"
   },
   {
    "duration": 68,
    "start_time": "2022-06-22T17:51:55.751Z"
   },
   {
    "duration": 59410,
    "start_time": "2022-06-22T17:52:03.222Z"
   },
   {
    "duration": 2471,
    "start_time": "2022-06-22T17:53:02.634Z"
   },
   {
    "duration": 91,
    "start_time": "2022-06-22T17:53:05.107Z"
   },
   {
    "duration": 23,
    "start_time": "2022-06-22T17:53:05.201Z"
   },
   {
    "duration": 848,
    "start_time": "2022-06-22T17:53:05.226Z"
   },
   {
    "duration": 332,
    "start_time": "2022-06-22T17:54:52.393Z"
   },
   {
    "duration": 660,
    "start_time": "2022-06-22T17:55:18.871Z"
   },
   {
    "duration": 53,
    "start_time": "2022-06-22T17:55:23.139Z"
   },
   {
    "duration": 4,
    "start_time": "2022-06-22T17:55:41.305Z"
   },
   {
    "duration": 454,
    "start_time": "2022-06-22T17:55:44.628Z"
   },
   {
    "duration": 73,
    "start_time": "2022-06-22T18:02:15.067Z"
   },
   {
    "duration": 77,
    "start_time": "2022-06-22T18:03:13.088Z"
   },
   {
    "duration": 61,
    "start_time": "2022-06-22T18:03:35.699Z"
   },
   {
    "duration": 59929,
    "start_time": "2022-06-22T18:04:26.880Z"
   },
   {
    "duration": 801,
    "start_time": "2022-06-22T18:05:26.813Z"
   },
   {
    "duration": 108,
    "start_time": "2022-06-22T18:05:27.616Z"
   },
   {
    "duration": 34,
    "start_time": "2022-06-22T18:05:27.726Z"
   },
   {
    "duration": 76,
    "start_time": "2022-06-22T18:05:27.762Z"
   },
   {
    "duration": 0,
    "start_time": "2022-06-22T18:05:27.841Z"
   },
   {
    "duration": 0,
    "start_time": "2022-06-22T18:05:27.842Z"
   },
   {
    "duration": 561,
    "start_time": "2022-06-22T18:06:41.668Z"
   },
   {
    "duration": 80,
    "start_time": "2022-06-22T18:09:14.537Z"
   },
   {
    "duration": 5,
    "start_time": "2022-06-22T18:09:47.554Z"
   },
   {
    "duration": 3703,
    "start_time": "2022-06-22T18:09:51.146Z"
   },
   {
    "duration": 77,
    "start_time": "2022-06-22T18:10:35.558Z"
   },
   {
    "duration": 31,
    "start_time": "2022-06-22T18:11:54.881Z"
   },
   {
    "duration": 2583,
    "start_time": "2022-06-22T18:11:58.597Z"
   },
   {
    "duration": 6,
    "start_time": "2022-06-22T18:12:02.764Z"
   },
   {
    "duration": 18,
    "start_time": "2022-06-22T18:12:07.090Z"
   },
   {
    "duration": 408,
    "start_time": "2022-06-22T18:14:48.547Z"
   },
   {
    "duration": 6,
    "start_time": "2022-06-22T18:15:09.829Z"
   },
   {
    "duration": 20,
    "start_time": "2022-06-22T18:26:11.394Z"
   },
   {
    "duration": 29,
    "start_time": "2022-06-22T18:26:40.982Z"
   },
   {
    "duration": 8,
    "start_time": "2022-06-22T18:26:45.327Z"
   },
   {
    "duration": 5,
    "start_time": "2022-06-22T18:30:23.823Z"
   },
   {
    "duration": 4,
    "start_time": "2022-06-22T18:31:41.764Z"
   },
   {
    "duration": 4,
    "start_time": "2022-06-22T18:32:01.229Z"
   },
   {
    "duration": 18,
    "start_time": "2022-06-22T18:32:58.619Z"
   },
   {
    "duration": 17,
    "start_time": "2022-06-22T18:33:16.398Z"
   },
   {
    "duration": 15,
    "start_time": "2022-06-22T18:33:20.459Z"
   },
   {
    "duration": 5,
    "start_time": "2022-06-22T18:33:31.248Z"
   },
   {
    "duration": 7,
    "start_time": "2022-06-22T18:34:14.392Z"
   },
   {
    "duration": 4,
    "start_time": "2022-06-22T18:34:24.296Z"
   },
   {
    "duration": 6,
    "start_time": "2022-06-22T18:35:48.368Z"
   },
   {
    "duration": 76983,
    "start_time": "2022-06-23T07:08:18.100Z"
   },
   {
    "duration": 3459,
    "start_time": "2022-06-23T07:09:35.085Z"
   },
   {
    "duration": 98,
    "start_time": "2022-06-23T07:09:38.546Z"
   },
   {
    "duration": 17,
    "start_time": "2022-06-23T07:09:38.646Z"
   },
   {
    "duration": 2503,
    "start_time": "2022-06-23T07:09:38.665Z"
   },
   {
    "duration": 15,
    "start_time": "2022-06-23T07:09:41.171Z"
   },
   {
    "duration": 13,
    "start_time": "2022-06-23T07:09:41.188Z"
   },
   {
    "duration": 272,
    "start_time": "2022-06-23T07:09:41.203Z"
   },
   {
    "duration": 37,
    "start_time": "2022-06-23T07:09:41.477Z"
   },
   {
    "duration": 304,
    "start_time": "2022-06-23T07:09:41.517Z"
   },
   {
    "duration": 0,
    "start_time": "2022-06-23T07:09:41.823Z"
   },
   {
    "duration": 0,
    "start_time": "2022-06-23T07:09:41.824Z"
   },
   {
    "duration": 0,
    "start_time": "2022-06-23T07:09:41.825Z"
   },
   {
    "duration": 0,
    "start_time": "2022-06-23T07:09:41.827Z"
   },
   {
    "duration": 0,
    "start_time": "2022-06-23T07:09:41.828Z"
   },
   {
    "duration": 200,
    "start_time": "2022-06-23T07:12:05.192Z"
   },
   {
    "duration": 4660,
    "start_time": "2022-06-23T07:12:14.085Z"
   },
   {
    "duration": 2979,
    "start_time": "2022-06-23T07:18:56.676Z"
   },
   {
    "duration": 204,
    "start_time": "2022-06-23T07:23:32.334Z"
   },
   {
    "duration": 121763,
    "start_time": "2022-06-23T08:34:22.204Z"
   },
   {
    "duration": 800,
    "start_time": "2022-06-23T08:36:23.969Z"
   },
   {
    "duration": 90,
    "start_time": "2022-06-23T08:36:24.771Z"
   },
   {
    "duration": 3,
    "start_time": "2022-06-23T08:36:24.863Z"
   },
   {
    "duration": 92310,
    "start_time": "2022-06-23T08:36:24.867Z"
   },
   {
    "duration": 35,
    "start_time": "2022-06-23T08:37:57.178Z"
   },
   {
    "duration": 119,
    "start_time": "2022-06-23T08:37:57.215Z"
   },
   {
    "duration": 165,
    "start_time": "2022-06-23T08:37:57.342Z"
   },
   {
    "duration": 52,
    "start_time": "2022-06-23T08:38:26.926Z"
   },
   {
    "duration": 6,
    "start_time": "2022-06-23T08:40:03.251Z"
   },
   {
    "duration": 94134,
    "start_time": "2022-06-23T08:40:11.424Z"
   },
   {
    "duration": 3300,
    "start_time": "2022-06-23T08:41:45.560Z"
   },
   {
    "duration": 81,
    "start_time": "2022-06-23T08:41:48.861Z"
   },
   {
    "duration": 17,
    "start_time": "2022-06-23T08:41:48.944Z"
   },
   {
    "duration": 2558,
    "start_time": "2022-06-23T08:41:48.964Z"
   },
   {
    "duration": 34,
    "start_time": "2022-06-23T08:41:51.524Z"
   },
   {
    "duration": 17,
    "start_time": "2022-06-23T08:41:51.559Z"
   },
   {
    "duration": 155,
    "start_time": "2022-06-23T08:41:51.577Z"
   },
   {
    "duration": 39,
    "start_time": "2022-06-23T08:41:51.733Z"
   },
   {
    "duration": 192,
    "start_time": "2022-06-23T08:41:51.774Z"
   },
   {
    "duration": 2302,
    "start_time": "2022-06-23T08:41:51.967Z"
   },
   {
    "duration": 121,
    "start_time": "2022-06-23T08:41:54.271Z"
   },
   {
    "duration": 2,
    "start_time": "2022-06-23T08:41:54.394Z"
   },
   {
    "duration": 2862,
    "start_time": "2022-06-23T08:41:54.398Z"
   },
   {
    "duration": 807,
    "start_time": "2022-06-23T08:41:57.261Z"
   },
   {
    "duration": 40,
    "start_time": "2022-06-23T08:45:05.251Z"
   },
   {
    "duration": 31,
    "start_time": "2022-06-23T08:45:08.187Z"
   },
   {
    "duration": 24,
    "start_time": "2022-06-23T08:47:07.845Z"
   },
   {
    "duration": 20,
    "start_time": "2022-06-23T08:48:41.759Z"
   },
   {
    "duration": 38,
    "start_time": "2022-06-23T08:48:53.357Z"
   },
   {
    "duration": 167,
    "start_time": "2022-06-23T08:48:57.579Z"
   },
   {
    "duration": 41,
    "start_time": "2022-06-23T08:49:33.508Z"
   },
   {
    "duration": 188,
    "start_time": "2022-06-23T08:49:36.330Z"
   },
   {
    "duration": 215,
    "start_time": "2022-06-23T08:50:59.554Z"
   },
   {
    "duration": 4343,
    "start_time": "2022-06-23T08:51:04.312Z"
   },
   {
    "duration": 106,
    "start_time": "2022-06-23T08:55:09.974Z"
   },
   {
    "duration": 23,
    "start_time": "2022-06-23T08:56:04.678Z"
   },
   {
    "duration": 5,
    "start_time": "2022-06-23T08:57:56.444Z"
   },
   {
    "duration": 94,
    "start_time": "2022-06-23T08:58:10.138Z"
   },
   {
    "duration": 27,
    "start_time": "2022-06-23T08:58:32.737Z"
   },
   {
    "duration": 95,
    "start_time": "2022-06-23T08:58:57.584Z"
   },
   {
    "duration": 307,
    "start_time": "2022-06-23T08:59:13.438Z"
   },
   {
    "duration": 303,
    "start_time": "2022-06-23T08:59:35.149Z"
   },
   {
    "duration": 339,
    "start_time": "2022-06-23T08:59:52.221Z"
   },
   {
    "duration": 426,
    "start_time": "2022-06-23T08:59:58.641Z"
   },
   {
    "duration": 498,
    "start_time": "2022-06-23T09:00:20.797Z"
   },
   {
    "duration": 596,
    "start_time": "2022-06-23T09:00:30.207Z"
   },
   {
    "duration": 622,
    "start_time": "2022-06-23T09:00:43.179Z"
   },
   {
    "duration": 636,
    "start_time": "2022-06-23T09:01:02.751Z"
   },
   {
    "duration": 596,
    "start_time": "2022-06-23T09:01:06.656Z"
   },
   {
    "duration": 627,
    "start_time": "2022-06-23T09:01:16.071Z"
   },
   {
    "duration": 547,
    "start_time": "2022-06-23T09:01:22.443Z"
   },
   {
    "duration": 435,
    "start_time": "2022-06-23T09:01:29.473Z"
   },
   {
    "duration": 486,
    "start_time": "2022-06-23T09:01:35.694Z"
   },
   {
    "duration": 666,
    "start_time": "2022-06-23T09:01:45.667Z"
   },
   {
    "duration": 1018,
    "start_time": "2022-06-23T09:01:53.227Z"
   },
   {
    "duration": 714,
    "start_time": "2022-06-23T09:01:59.617Z"
   },
   {
    "duration": 970,
    "start_time": "2022-06-23T09:03:55.696Z"
   },
   {
    "duration": 2523,
    "start_time": "2022-06-23T09:04:57.251Z"
   },
   {
    "duration": 2750,
    "start_time": "2022-06-23T09:05:19.794Z"
   },
   {
    "duration": 625,
    "start_time": "2022-06-23T09:06:49.362Z"
   },
   {
    "duration": 636,
    "start_time": "2022-06-23T09:06:57.979Z"
   },
   {
    "duration": 764,
    "start_time": "2022-06-23T09:07:04.718Z"
   },
   {
    "duration": 912,
    "start_time": "2022-06-23T09:07:16.030Z"
   },
   {
    "duration": 631,
    "start_time": "2022-06-23T09:07:21.476Z"
   },
   {
    "duration": 1359,
    "start_time": "2022-06-23T09:07:34.918Z"
   },
   {
    "duration": 1168,
    "start_time": "2022-06-23T09:07:43.814Z"
   },
   {
    "duration": 1274,
    "start_time": "2022-06-23T09:07:50.230Z"
   },
   {
    "duration": 672,
    "start_time": "2022-06-23T09:08:06.402Z"
   },
   {
    "duration": 72,
    "start_time": "2022-06-23T09:10:26.153Z"
   },
   {
    "duration": 3351,
    "start_time": "2022-06-23T09:10:34.899Z"
   },
   {
    "duration": 86,
    "start_time": "2022-06-23T09:10:48.017Z"
   },
   {
    "duration": 99,
    "start_time": "2022-06-23T09:10:54.123Z"
   },
   {
    "duration": 72,
    "start_time": "2022-06-23T09:10:59.674Z"
   },
   {
    "duration": 78034,
    "start_time": "2022-06-23T09:11:17.999Z"
   },
   {
    "duration": 890,
    "start_time": "2022-06-23T09:12:36.035Z"
   },
   {
    "duration": 130,
    "start_time": "2022-06-23T09:12:36.927Z"
   },
   {
    "duration": 25,
    "start_time": "2022-06-23T09:12:37.060Z"
   },
   {
    "duration": 4533,
    "start_time": "2022-06-23T09:12:37.087Z"
   },
   {
    "duration": 37,
    "start_time": "2022-06-23T09:12:41.622Z"
   },
   {
    "duration": 16,
    "start_time": "2022-06-23T09:12:41.662Z"
   },
   {
    "duration": 197,
    "start_time": "2022-06-23T09:12:41.681Z"
   },
   {
    "duration": 76,
    "start_time": "2022-06-23T09:12:41.880Z"
   },
   {
    "duration": 384,
    "start_time": "2022-06-23T09:12:41.959Z"
   },
   {
    "duration": 96,
    "start_time": "2022-06-23T09:12:42.345Z"
   },
   {
    "duration": 1256,
    "start_time": "2022-06-23T09:12:42.443Z"
   },
   {
    "duration": 7062,
    "start_time": "2022-06-23T09:12:43.701Z"
   },
   {
    "duration": 3024,
    "start_time": "2022-06-23T09:12:50.765Z"
   },
   {
    "duration": 20,
    "start_time": "2022-06-23T09:12:53.791Z"
   },
   {
    "duration": 421,
    "start_time": "2022-06-23T09:12:53.813Z"
   },
   {
    "duration": 2076,
    "start_time": "2022-06-23T09:17:01.973Z"
   },
   {
    "duration": 3534,
    "start_time": "2022-06-23T09:17:41.883Z"
   },
   {
    "duration": 6328,
    "start_time": "2022-06-23T09:18:22.832Z"
   },
   {
    "duration": 606,
    "start_time": "2022-06-23T09:20:33.845Z"
   },
   {
    "duration": 3595,
    "start_time": "2022-06-23T09:20:34.722Z"
   },
   {
    "duration": 80843,
    "start_time": "2022-06-23T09:20:48.787Z"
   },
   {
    "duration": 803,
    "start_time": "2022-06-23T09:22:09.632Z"
   },
   {
    "duration": 106,
    "start_time": "2022-06-23T09:22:10.437Z"
   },
   {
    "duration": 21,
    "start_time": "2022-06-23T09:22:10.545Z"
   },
   {
    "duration": 5321,
    "start_time": "2022-06-23T09:22:10.569Z"
   },
   {
    "duration": 27,
    "start_time": "2022-06-23T09:22:15.892Z"
   },
   {
    "duration": 32,
    "start_time": "2022-06-23T09:22:15.921Z"
   },
   {
    "duration": 247,
    "start_time": "2022-06-23T09:22:15.955Z"
   },
   {
    "duration": 102,
    "start_time": "2022-06-23T09:22:16.204Z"
   },
   {
    "duration": 571,
    "start_time": "2022-06-23T09:22:16.310Z"
   },
   {
    "duration": 193,
    "start_time": "2022-06-23T09:22:16.884Z"
   },
   {
    "duration": 8377,
    "start_time": "2022-06-23T09:22:17.079Z"
   },
   {
    "duration": 2498,
    "start_time": "2022-06-23T09:22:25.458Z"
   },
   {
    "duration": 14007,
    "start_time": "2022-06-23T09:22:27.958Z"
   },
   {
    "duration": 4043,
    "start_time": "2022-06-23T09:22:41.967Z"
   },
   {
    "duration": 14,
    "start_time": "2022-06-23T09:22:46.012Z"
   },
   {
    "duration": 370,
    "start_time": "2022-06-23T09:22:46.027Z"
   },
   {
    "duration": 77734,
    "start_time": "2022-06-23T09:23:47.585Z"
   },
   {
    "duration": 829,
    "start_time": "2022-06-23T09:25:05.321Z"
   },
   {
    "duration": 105,
    "start_time": "2022-06-23T09:25:06.151Z"
   },
   {
    "duration": 22,
    "start_time": "2022-06-23T09:25:06.259Z"
   },
   {
    "duration": 6724,
    "start_time": "2022-06-23T09:25:06.284Z"
   },
   {
    "duration": 38,
    "start_time": "2022-06-23T09:25:13.010Z"
   },
   {
    "duration": 13,
    "start_time": "2022-06-23T09:25:13.050Z"
   },
   {
    "duration": 204,
    "start_time": "2022-06-23T09:25:13.065Z"
   },
   {
    "duration": 123,
    "start_time": "2022-06-23T09:25:13.270Z"
   },
   {
    "duration": 620,
    "start_time": "2022-06-23T09:25:13.395Z"
   },
   {
    "duration": 198,
    "start_time": "2022-06-23T09:25:14.017Z"
   },
   {
    "duration": 3323,
    "start_time": "2022-06-23T09:25:14.216Z"
   },
   {
    "duration": 19108,
    "start_time": "2022-06-23T09:25:17.543Z"
   },
   {
    "duration": 4649,
    "start_time": "2022-06-23T09:25:36.654Z"
   },
   {
    "duration": 17,
    "start_time": "2022-06-23T09:25:41.305Z"
   },
   {
    "duration": 400,
    "start_time": "2022-06-23T09:25:41.324Z"
   },
   {
    "duration": 333,
    "start_time": "2022-06-23T09:54:46.169Z"
   },
   {
    "duration": 208,
    "start_time": "2022-06-23T09:58:15.162Z"
   },
   {
    "duration": 270,
    "start_time": "2022-06-23T09:58:42.332Z"
   },
   {
    "duration": 287,
    "start_time": "2022-06-23T09:59:08.193Z"
   },
   {
    "duration": 266,
    "start_time": "2022-06-23T09:59:19.041Z"
   },
   {
    "duration": 203,
    "start_time": "2022-06-23T10:12:00.607Z"
   },
   {
    "duration": 101,
    "start_time": "2022-06-23T10:13:08.958Z"
   },
   {
    "duration": 87,
    "start_time": "2022-06-23T10:14:03.534Z"
   },
   {
    "duration": 3638,
    "start_time": "2022-06-23T10:15:09.517Z"
   },
   {
    "duration": 80,
    "start_time": "2022-06-23T10:15:24.707Z"
   },
   {
    "duration": 86,
    "start_time": "2022-06-23T10:17:03.638Z"
   },
   {
    "duration": 87,
    "start_time": "2022-06-23T10:17:15.846Z"
   },
   {
    "duration": 77,
    "start_time": "2022-06-23T10:17:31.598Z"
   },
   {
    "duration": 8,
    "start_time": "2022-06-23T10:19:39.165Z"
   },
   {
    "duration": 26,
    "start_time": "2022-06-23T10:20:36.741Z"
   },
   {
    "duration": 12,
    "start_time": "2022-06-23T10:21:06.519Z"
   },
   {
    "duration": 40,
    "start_time": "2022-06-23T10:29:52.522Z"
   },
   {
    "duration": 28,
    "start_time": "2022-06-23T10:30:30.912Z"
   },
   {
    "duration": 43,
    "start_time": "2022-06-23T10:30:34.374Z"
   },
   {
    "duration": 7,
    "start_time": "2022-06-23T10:30:48.365Z"
   },
   {
    "duration": 158,
    "start_time": "2022-06-23T10:30:52.454Z"
   },
   {
    "duration": 90783,
    "start_time": "2022-06-23T10:31:55.630Z"
   },
   {
    "duration": 906,
    "start_time": "2022-06-23T10:33:26.417Z"
   },
   {
    "duration": 121,
    "start_time": "2022-06-23T10:33:27.327Z"
   },
   {
    "duration": 24,
    "start_time": "2022-06-23T10:33:27.451Z"
   },
   {
    "duration": 8863,
    "start_time": "2022-06-23T10:33:27.479Z"
   },
   {
    "duration": 36,
    "start_time": "2022-06-23T10:33:36.345Z"
   },
   {
    "duration": 19,
    "start_time": "2022-06-23T10:33:36.384Z"
   },
   {
    "duration": 310,
    "start_time": "2022-06-23T10:33:36.405Z"
   },
   {
    "duration": 189,
    "start_time": "2022-06-23T10:33:36.717Z"
   },
   {
    "duration": 797,
    "start_time": "2022-06-23T10:33:36.910Z"
   },
   {
    "duration": 168,
    "start_time": "2022-06-23T10:33:37.709Z"
   },
   {
    "duration": 3822,
    "start_time": "2022-06-23T10:33:37.879Z"
   },
   {
    "duration": 39139,
    "start_time": "2022-06-23T10:33:41.704Z"
   },
   {
    "duration": 5843,
    "start_time": "2022-06-23T10:34:20.846Z"
   },
   {
    "duration": 15,
    "start_time": "2022-06-23T10:34:26.691Z"
   },
   {
    "duration": 420,
    "start_time": "2022-06-23T10:34:26.708Z"
   },
   {
    "duration": 194,
    "start_time": "2022-06-23T10:34:27.130Z"
   },
   {
    "duration": 123353,
    "start_time": "2022-06-23T10:35:07.443Z"
   },
   {
    "duration": 882,
    "start_time": "2022-06-23T10:37:10.799Z"
   },
   {
    "duration": 108,
    "start_time": "2022-06-23T10:37:11.683Z"
   },
   {
    "duration": 25,
    "start_time": "2022-06-23T10:37:11.794Z"
   },
   {
    "duration": 7323,
    "start_time": "2022-06-23T10:37:11.846Z"
   },
   {
    "duration": 28,
    "start_time": "2022-06-23T10:37:19.171Z"
   },
   {
    "duration": 16,
    "start_time": "2022-06-23T10:37:19.201Z"
   },
   {
    "duration": 233,
    "start_time": "2022-06-23T10:37:19.243Z"
   },
   {
    "duration": 122,
    "start_time": "2022-06-23T10:37:19.477Z"
   },
   {
    "duration": 633,
    "start_time": "2022-06-23T10:37:19.601Z"
   },
   {
    "duration": 185,
    "start_time": "2022-06-23T10:37:20.236Z"
   },
   {
    "duration": 3551,
    "start_time": "2022-06-23T10:37:20.423Z"
   },
   {
    "duration": 20981,
    "start_time": "2022-06-23T10:37:23.977Z"
   },
   {
    "duration": 4877,
    "start_time": "2022-06-23T10:37:44.961Z"
   },
   {
    "duration": 10,
    "start_time": "2022-06-23T10:37:49.841Z"
   },
   {
    "duration": 365,
    "start_time": "2022-06-23T10:37:49.853Z"
   },
   {
    "duration": 177,
    "start_time": "2022-06-23T10:37:50.221Z"
   },
   {
    "duration": 92922,
    "start_time": "2022-06-25T09:31:00.303Z"
   },
   {
    "duration": 3046,
    "start_time": "2022-06-25T09:32:33.227Z"
   },
   {
    "duration": 79,
    "start_time": "2022-06-25T09:32:36.274Z"
   },
   {
    "duration": 18,
    "start_time": "2022-06-25T09:32:36.355Z"
   },
   {
    "duration": 2682,
    "start_time": "2022-06-25T09:32:36.375Z"
   },
   {
    "duration": 15,
    "start_time": "2022-06-25T09:32:39.059Z"
   },
   {
    "duration": 11,
    "start_time": "2022-06-25T09:32:39.075Z"
   },
   {
    "duration": 175,
    "start_time": "2022-06-25T09:32:39.087Z"
   },
   {
    "duration": 52,
    "start_time": "2022-06-25T09:32:39.263Z"
   },
   {
    "duration": 218,
    "start_time": "2022-06-25T09:32:39.317Z"
   },
   {
    "duration": 55,
    "start_time": "2022-06-25T09:32:39.536Z"
   },
   {
    "duration": 800,
    "start_time": "2022-06-25T09:32:39.592Z"
   },
   {
    "duration": 2665,
    "start_time": "2022-06-25T09:32:40.394Z"
   },
   {
    "duration": 2267,
    "start_time": "2022-06-25T09:32:43.061Z"
   },
   {
    "duration": 8,
    "start_time": "2022-06-25T09:32:45.330Z"
   },
   {
    "duration": 219,
    "start_time": "2022-06-25T09:32:45.340Z"
   },
   {
    "duration": 125,
    "start_time": "2022-06-25T09:32:45.561Z"
   },
   {
    "duration": 1316,
    "start_time": "2022-06-25T09:37:51.090Z"
   },
   {
    "duration": 86867,
    "start_time": "2022-06-25T09:38:24.575Z"
   },
   {
    "duration": 696,
    "start_time": "2022-06-25T09:39:51.444Z"
   },
   {
    "duration": 70,
    "start_time": "2022-06-25T09:39:52.142Z"
   },
   {
    "duration": 18,
    "start_time": "2022-06-25T09:39:52.229Z"
   },
   {
    "duration": 3780,
    "start_time": "2022-06-25T09:39:52.249Z"
   },
   {
    "duration": 23,
    "start_time": "2022-06-25T09:39:56.032Z"
   },
   {
    "duration": 17,
    "start_time": "2022-06-25T09:39:56.057Z"
   },
   {
    "duration": 166,
    "start_time": "2022-06-25T09:39:56.076Z"
   },
   {
    "duration": 77,
    "start_time": "2022-06-25T09:39:56.244Z"
   },
   {
    "duration": 319,
    "start_time": "2022-06-25T09:39:56.323Z"
   },
   {
    "duration": 92,
    "start_time": "2022-06-25T09:39:56.644Z"
   },
   {
    "duration": 1783,
    "start_time": "2022-06-25T09:39:56.738Z"
   },
   {
    "duration": 1366,
    "start_time": "2022-06-25T09:39:58.528Z"
   },
   {
    "duration": 7456,
    "start_time": "2022-06-25T09:39:59.896Z"
   },
   {
    "duration": 4962,
    "start_time": "2022-06-25T09:40:07.354Z"
   },
   {
    "duration": 7,
    "start_time": "2022-06-25T09:40:12.318Z"
   },
   {
    "duration": 218,
    "start_time": "2022-06-25T09:40:12.326Z"
   },
   {
    "duration": 113,
    "start_time": "2022-06-25T09:40:12.546Z"
   },
   {
    "duration": 84891,
    "start_time": "2022-06-25T09:40:47.500Z"
   },
   {
    "duration": 689,
    "start_time": "2022-06-25T09:42:12.393Z"
   },
   {
    "duration": 78,
    "start_time": "2022-06-25T09:42:13.083Z"
   },
   {
    "duration": 21,
    "start_time": "2022-06-25T09:42:13.163Z"
   },
   {
    "duration": 4026,
    "start_time": "2022-06-25T09:42:13.186Z"
   },
   {
    "duration": 29,
    "start_time": "2022-06-25T09:42:17.213Z"
   },
   {
    "duration": 25,
    "start_time": "2022-06-25T09:42:17.243Z"
   },
   {
    "duration": 186,
    "start_time": "2022-06-25T09:42:17.269Z"
   },
   {
    "duration": 90,
    "start_time": "2022-06-25T09:42:17.456Z"
   },
   {
    "duration": 405,
    "start_time": "2022-06-25T09:42:17.548Z"
   },
   {
    "duration": 114,
    "start_time": "2022-06-25T09:42:17.955Z"
   },
   {
    "duration": 2126,
    "start_time": "2022-06-25T09:42:18.070Z"
   },
   {
    "duration": 1803,
    "start_time": "2022-06-25T09:42:20.198Z"
   },
   {
    "duration": 10346,
    "start_time": "2022-06-25T09:42:22.003Z"
   },
   {
    "duration": 3380,
    "start_time": "2022-06-25T09:42:32.350Z"
   },
   {
    "duration": 8,
    "start_time": "2022-06-25T09:42:35.732Z"
   },
   {
    "duration": 266,
    "start_time": "2022-06-25T09:42:35.743Z"
   },
   {
    "duration": 140,
    "start_time": "2022-06-25T09:42:36.012Z"
   },
   {
    "duration": 83087,
    "start_time": "2022-06-25T09:42:54.187Z"
   },
   {
    "duration": 704,
    "start_time": "2022-06-25T09:44:17.276Z"
   },
   {
    "duration": 81,
    "start_time": "2022-06-25T09:44:17.981Z"
   },
   {
    "duration": 19,
    "start_time": "2022-06-25T09:44:18.063Z"
   },
   {
    "duration": 3685,
    "start_time": "2022-06-25T09:44:18.085Z"
   },
   {
    "duration": 18,
    "start_time": "2022-06-25T09:44:21.772Z"
   },
   {
    "duration": 10,
    "start_time": "2022-06-25T09:44:21.791Z"
   },
   {
    "duration": 252,
    "start_time": "2022-06-25T09:44:21.802Z"
   },
   {
    "duration": 80,
    "start_time": "2022-06-25T09:44:22.055Z"
   },
   {
    "duration": 336,
    "start_time": "2022-06-25T09:44:22.136Z"
   },
   {
    "duration": 100,
    "start_time": "2022-06-25T09:44:22.474Z"
   },
   {
    "duration": 2008,
    "start_time": "2022-06-25T09:44:22.576Z"
   },
   {
    "duration": 1616,
    "start_time": "2022-06-25T09:44:24.585Z"
   },
   {
    "duration": 9334,
    "start_time": "2022-06-25T09:44:26.203Z"
   },
   {
    "duration": 3486,
    "start_time": "2022-06-25T09:44:35.539Z"
   },
   {
    "duration": 8,
    "start_time": "2022-06-25T09:44:39.026Z"
   },
   {
    "duration": 223,
    "start_time": "2022-06-25T09:44:39.036Z"
   },
   {
    "duration": 109,
    "start_time": "2022-06-25T09:44:39.261Z"
   },
   {
    "duration": 81,
    "start_time": "2022-06-25T09:46:59.971Z"
   },
   {
    "duration": 33875,
    "start_time": "2022-06-25T09:49:04.660Z"
   },
   {
    "duration": 36841,
    "start_time": "2022-06-25T09:52:07.180Z"
   },
   {
    "duration": 81316,
    "start_time": "2022-06-25T09:53:40.947Z"
   },
   {
    "duration": 688,
    "start_time": "2022-06-25T09:55:02.265Z"
   },
   {
    "duration": 85,
    "start_time": "2022-06-25T09:55:02.955Z"
   },
   {
    "duration": 17,
    "start_time": "2022-06-25T09:55:03.042Z"
   },
   {
    "duration": 3694,
    "start_time": "2022-06-25T09:55:03.061Z"
   },
   {
    "duration": 16,
    "start_time": "2022-06-25T09:55:06.757Z"
   },
   {
    "duration": 27,
    "start_time": "2022-06-25T09:55:06.775Z"
   },
   {
    "duration": 233,
    "start_time": "2022-06-25T09:55:06.803Z"
   },
   {
    "duration": 75,
    "start_time": "2022-06-25T09:55:07.037Z"
   },
   {
    "duration": 348,
    "start_time": "2022-06-25T09:55:07.114Z"
   },
   {
    "duration": 111,
    "start_time": "2022-06-25T09:55:07.463Z"
   },
   {
    "duration": 90,
    "start_time": "2022-06-25T09:55:07.576Z"
   },
   {
    "duration": 32562,
    "start_time": "2022-06-25T09:55:07.667Z"
   },
   {
    "duration": 1856,
    "start_time": "2022-06-25T09:55:40.234Z"
   },
   {
    "duration": 1577,
    "start_time": "2022-06-25T09:55:42.092Z"
   },
   {
    "duration": 8068,
    "start_time": "2022-06-25T09:55:43.671Z"
   },
   {
    "duration": 3811,
    "start_time": "2022-06-25T09:55:51.740Z"
   },
   {
    "duration": 9,
    "start_time": "2022-06-25T09:55:55.553Z"
   },
   {
    "duration": 231,
    "start_time": "2022-06-25T09:55:55.564Z"
   },
   {
    "duration": 133,
    "start_time": "2022-06-25T09:55:55.797Z"
   },
   {
    "duration": 301,
    "start_time": "2022-06-25T09:58:45.277Z"
   },
   {
    "duration": 84782,
    "start_time": "2022-06-25T10:02:32.979Z"
   },
   {
    "duration": 674,
    "start_time": "2022-06-25T10:03:57.763Z"
   },
   {
    "duration": 74,
    "start_time": "2022-06-25T10:03:58.439Z"
   },
   {
    "duration": 19,
    "start_time": "2022-06-25T10:03:58.528Z"
   },
   {
    "duration": 3567,
    "start_time": "2022-06-25T10:03:58.549Z"
   },
   {
    "duration": 23,
    "start_time": "2022-06-25T10:04:02.117Z"
   },
   {
    "duration": 11,
    "start_time": "2022-06-25T10:04:02.141Z"
   },
   {
    "duration": 121,
    "start_time": "2022-06-25T10:04:02.153Z"
   },
   {
    "duration": 300,
    "start_time": "2022-06-25T10:04:02.275Z"
   },
   {
    "duration": 0,
    "start_time": "2022-06-25T10:04:02.577Z"
   },
   {
    "duration": 0,
    "start_time": "2022-06-25T10:04:02.578Z"
   },
   {
    "duration": 0,
    "start_time": "2022-06-25T10:04:02.579Z"
   },
   {
    "duration": 0,
    "start_time": "2022-06-25T10:04:02.581Z"
   },
   {
    "duration": 0,
    "start_time": "2022-06-25T10:04:02.581Z"
   },
   {
    "duration": 0,
    "start_time": "2022-06-25T10:04:02.583Z"
   },
   {
    "duration": 0,
    "start_time": "2022-06-25T10:04:02.583Z"
   },
   {
    "duration": 0,
    "start_time": "2022-06-25T10:04:02.584Z"
   },
   {
    "duration": 0,
    "start_time": "2022-06-25T10:04:02.585Z"
   },
   {
    "duration": 0,
    "start_time": "2022-06-25T10:04:02.586Z"
   },
   {
    "duration": 0,
    "start_time": "2022-06-25T10:04:02.587Z"
   },
   {
    "duration": 0,
    "start_time": "2022-06-25T10:04:02.588Z"
   },
   {
    "duration": 0,
    "start_time": "2022-06-25T10:04:02.589Z"
   },
   {
    "duration": 0,
    "start_time": "2022-06-25T10:04:02.590Z"
   },
   {
    "duration": 32,
    "start_time": "2022-06-25T10:04:37.422Z"
   },
   {
    "duration": 28,
    "start_time": "2022-06-25T10:05:07.524Z"
   },
   {
    "duration": 22,
    "start_time": "2022-06-25T10:05:12.119Z"
   },
   {
    "duration": 9,
    "start_time": "2022-06-25T10:08:20.594Z"
   },
   {
    "duration": 90,
    "start_time": "2022-06-25T10:08:21.647Z"
   },
   {
    "duration": 10,
    "start_time": "2022-06-25T10:08:27.847Z"
   },
   {
    "duration": 96,
    "start_time": "2022-06-25T10:08:28.815Z"
   },
   {
    "duration": 166,
    "start_time": "2022-06-25T10:08:35.384Z"
   },
   {
    "duration": 77,
    "start_time": "2022-06-25T10:08:37.674Z"
   },
   {
    "duration": 332,
    "start_time": "2022-06-25T10:08:40.302Z"
   },
   {
    "duration": 105,
    "start_time": "2022-06-25T10:12:14.329Z"
   },
   {
    "duration": 25,
    "start_time": "2022-06-25T10:12:16.872Z"
   },
   {
    "duration": 3,
    "start_time": "2022-06-25T10:14:13.949Z"
   },
   {
    "duration": 82428,
    "start_time": "2022-06-25T10:17:00.258Z"
   },
   {
    "duration": 658,
    "start_time": "2022-06-25T10:18:22.688Z"
   },
   {
    "duration": 84,
    "start_time": "2022-06-25T10:18:23.348Z"
   },
   {
    "duration": 18,
    "start_time": "2022-06-25T10:18:23.434Z"
   },
   {
    "duration": 3882,
    "start_time": "2022-06-25T10:18:23.454Z"
   },
   {
    "duration": 18,
    "start_time": "2022-06-25T10:18:27.337Z"
   },
   {
    "duration": 13,
    "start_time": "2022-06-25T10:18:27.356Z"
   },
   {
    "duration": 121,
    "start_time": "2022-06-25T10:18:27.370Z"
   },
   {
    "duration": 9,
    "start_time": "2022-06-25T10:18:27.492Z"
   },
   {
    "duration": 111,
    "start_time": "2022-06-25T10:18:27.504Z"
   },
   {
    "duration": 19,
    "start_time": "2022-06-25T10:18:27.616Z"
   },
   {
    "duration": 103,
    "start_time": "2022-06-25T10:18:27.636Z"
   },
   {
    "duration": 229,
    "start_time": "2022-06-25T10:18:27.740Z"
   },
   {
    "duration": 37,
    "start_time": "2022-06-25T10:18:27.971Z"
   },
   {
    "duration": 153,
    "start_time": "2022-06-25T10:18:28.010Z"
   },
   {
    "duration": 4,
    "start_time": "2022-06-25T10:18:28.165Z"
   },
   {
    "duration": 407,
    "start_time": "2022-06-25T10:18:28.170Z"
   },
   {
    "duration": 20,
    "start_time": "2022-06-25T10:18:28.578Z"
   },
   {
    "duration": 0,
    "start_time": "2022-06-25T10:18:28.600Z"
   },
   {
    "duration": 0,
    "start_time": "2022-06-25T10:18:28.602Z"
   },
   {
    "duration": 0,
    "start_time": "2022-06-25T10:18:28.603Z"
   },
   {
    "duration": 0,
    "start_time": "2022-06-25T10:18:28.605Z"
   },
   {
    "duration": 0,
    "start_time": "2022-06-25T10:18:28.606Z"
   },
   {
    "duration": 0,
    "start_time": "2022-06-25T10:18:28.608Z"
   },
   {
    "duration": 0,
    "start_time": "2022-06-25T10:18:28.609Z"
   },
   {
    "duration": 0,
    "start_time": "2022-06-25T10:18:28.610Z"
   },
   {
    "duration": 9,
    "start_time": "2022-06-25T10:33:10.781Z"
   },
   {
    "duration": 92,
    "start_time": "2022-06-25T10:33:12.065Z"
   },
   {
    "duration": 44,
    "start_time": "2022-06-25T10:33:17.927Z"
   },
   {
    "duration": 21,
    "start_time": "2022-06-25T10:35:16.879Z"
   },
   {
    "duration": 9,
    "start_time": "2022-06-25T10:36:10.018Z"
   },
   {
    "duration": 86,
    "start_time": "2022-06-25T10:36:11.888Z"
   },
   {
    "duration": 4,
    "start_time": "2022-06-25T10:36:17.998Z"
   },
   {
    "duration": 78,
    "start_time": "2022-06-25T10:36:19.489Z"
   },
   {
    "duration": 297,
    "start_time": "2022-06-25T10:36:22.200Z"
   },
   {
    "duration": 3,
    "start_time": "2022-06-25T10:36:32.891Z"
   },
   {
    "duration": 134,
    "start_time": "2022-06-25T10:37:01.607Z"
   },
   {
    "duration": 21,
    "start_time": "2022-06-25T10:38:41.581Z"
   },
   {
    "duration": 53,
    "start_time": "2022-06-25T10:39:50.513Z"
   },
   {
    "duration": 57,
    "start_time": "2022-06-25T10:40:42.390Z"
   },
   {
    "duration": 106023,
    "start_time": "2022-06-25T11:28:58.288Z"
   },
   {
    "duration": 773,
    "start_time": "2022-06-25T11:30:44.313Z"
   },
   {
    "duration": 84,
    "start_time": "2022-06-25T11:30:45.088Z"
   },
   {
    "duration": 19,
    "start_time": "2022-06-25T11:30:45.174Z"
   },
   {
    "duration": 4365,
    "start_time": "2022-06-25T11:30:45.196Z"
   },
   {
    "duration": 19,
    "start_time": "2022-06-25T11:30:49.563Z"
   },
   {
    "duration": 12,
    "start_time": "2022-06-25T11:30:49.584Z"
   },
   {
    "duration": 150,
    "start_time": "2022-06-25T11:30:49.597Z"
   },
   {
    "duration": 15,
    "start_time": "2022-06-25T11:30:49.749Z"
   },
   {
    "duration": 108,
    "start_time": "2022-06-25T11:30:49.766Z"
   },
   {
    "duration": 241,
    "start_time": "2022-06-25T11:30:49.876Z"
   },
   {
    "duration": 79,
    "start_time": "2022-06-25T11:30:50.119Z"
   },
   {
    "duration": 369,
    "start_time": "2022-06-25T11:30:50.200Z"
   },
   {
    "duration": 329,
    "start_time": "2022-06-25T11:30:50.572Z"
   },
   {
    "duration": 0,
    "start_time": "2022-06-25T11:30:50.903Z"
   },
   {
    "duration": 0,
    "start_time": "2022-06-25T11:30:50.904Z"
   },
   {
    "duration": 0,
    "start_time": "2022-06-25T11:30:50.905Z"
   },
   {
    "duration": 0,
    "start_time": "2022-06-25T11:30:50.906Z"
   },
   {
    "duration": 0,
    "start_time": "2022-06-25T11:30:50.907Z"
   },
   {
    "duration": 0,
    "start_time": "2022-06-25T11:30:50.908Z"
   },
   {
    "duration": 0,
    "start_time": "2022-06-25T11:30:50.909Z"
   },
   {
    "duration": 0,
    "start_time": "2022-06-25T11:30:50.910Z"
   },
   {
    "duration": 0,
    "start_time": "2022-06-25T11:30:50.933Z"
   },
   {
    "duration": 0,
    "start_time": "2022-06-25T11:30:50.935Z"
   },
   {
    "duration": 4,
    "start_time": "2022-06-25T11:32:59.655Z"
   },
   {
    "duration": 39,
    "start_time": "2022-06-25T11:33:08.647Z"
   },
   {
    "duration": 59,
    "start_time": "2022-06-25T11:33:12.485Z"
   },
   {
    "duration": 2061,
    "start_time": "2022-06-25T11:34:13.424Z"
   },
   {
    "duration": 150114,
    "start_time": "2022-06-25T11:34:56.981Z"
   },
   {
    "duration": 809,
    "start_time": "2022-06-25T11:37:27.097Z"
   },
   {
    "duration": 100,
    "start_time": "2022-06-25T11:37:27.907Z"
   },
   {
    "duration": 31,
    "start_time": "2022-06-25T11:37:28.009Z"
   },
   {
    "duration": 2813,
    "start_time": "2022-06-25T11:37:28.042Z"
   },
   {
    "duration": 15,
    "start_time": "2022-06-25T11:37:30.860Z"
   },
   {
    "duration": 14,
    "start_time": "2022-06-25T11:37:30.877Z"
   },
   {
    "duration": 132,
    "start_time": "2022-06-25T11:37:30.893Z"
   },
   {
    "duration": 12,
    "start_time": "2022-06-25T11:37:31.039Z"
   },
   {
    "duration": 109,
    "start_time": "2022-06-25T11:37:31.053Z"
   },
   {
    "duration": 230,
    "start_time": "2022-06-25T11:37:31.164Z"
   },
   {
    "duration": 43,
    "start_time": "2022-06-25T11:37:31.396Z"
   },
   {
    "duration": 200,
    "start_time": "2022-06-25T11:37:31.441Z"
   },
   {
    "duration": 5,
    "start_time": "2022-06-25T11:37:31.643Z"
   },
   {
    "duration": 36,
    "start_time": "2022-06-25T11:37:31.654Z"
   },
   {
    "duration": 22,
    "start_time": "2022-06-25T11:37:31.692Z"
   },
   {
    "duration": 1112,
    "start_time": "2022-06-25T11:37:31.716Z"
   },
   {
    "duration": 454,
    "start_time": "2022-06-25T11:37:32.832Z"
   },
   {
    "duration": 139,
    "start_time": "2022-06-25T11:37:33.287Z"
   },
   {
    "duration": 149,
    "start_time": "2022-06-25T11:37:33.428Z"
   },
   {
    "duration": 28,
    "start_time": "2022-06-25T11:37:33.579Z"
   },
   {
    "duration": 0,
    "start_time": "2022-06-25T11:37:33.609Z"
   },
   {
    "duration": 0,
    "start_time": "2022-06-25T11:37:33.611Z"
   },
   {
    "duration": 111047,
    "start_time": "2022-06-25T11:38:20.666Z"
   },
   {
    "duration": 752,
    "start_time": "2022-06-25T11:40:11.715Z"
   },
   {
    "duration": 88,
    "start_time": "2022-06-25T11:40:12.469Z"
   },
   {
    "duration": 20,
    "start_time": "2022-06-25T11:40:12.559Z"
   },
   {
    "duration": 6898,
    "start_time": "2022-06-25T11:40:12.581Z"
   },
   {
    "duration": 21,
    "start_time": "2022-06-25T11:40:19.481Z"
   },
   {
    "duration": 34,
    "start_time": "2022-06-25T11:40:19.503Z"
   },
   {
    "duration": 123,
    "start_time": "2022-06-25T11:40:19.539Z"
   },
   {
    "duration": 12,
    "start_time": "2022-06-25T11:40:19.664Z"
   },
   {
    "duration": 129,
    "start_time": "2022-06-25T11:40:19.678Z"
   },
   {
    "duration": 229,
    "start_time": "2022-06-25T11:40:19.809Z"
   },
   {
    "duration": 135,
    "start_time": "2022-06-25T11:40:20.040Z"
   },
   {
    "duration": 594,
    "start_time": "2022-06-25T11:40:20.176Z"
   },
   {
    "duration": 4,
    "start_time": "2022-06-25T11:40:20.771Z"
   },
   {
    "duration": 93,
    "start_time": "2022-06-25T11:40:20.776Z"
   },
   {
    "duration": 76,
    "start_time": "2022-06-25T11:40:20.870Z"
   },
   {
    "duration": 3170,
    "start_time": "2022-06-25T11:40:20.953Z"
   },
   {
    "duration": 538,
    "start_time": "2022-06-25T11:40:24.128Z"
   },
   {
    "duration": 307,
    "start_time": "2022-06-25T11:40:24.668Z"
   },
   {
    "duration": 251,
    "start_time": "2022-06-25T11:40:24.977Z"
   },
   {
    "duration": 21,
    "start_time": "2022-06-25T11:40:25.230Z"
   },
   {
    "duration": 0,
    "start_time": "2022-06-25T11:40:25.253Z"
   },
   {
    "duration": 0,
    "start_time": "2022-06-25T11:40:25.254Z"
   },
   {
    "duration": 5996,
    "start_time": "2022-06-25T11:42:00.957Z"
   },
   {
    "duration": 103818,
    "start_time": "2022-06-25T11:43:28.556Z"
   },
   {
    "duration": 713,
    "start_time": "2022-06-25T11:45:12.376Z"
   },
   {
    "duration": 83,
    "start_time": "2022-06-25T11:45:13.091Z"
   },
   {
    "duration": 21,
    "start_time": "2022-06-25T11:45:13.176Z"
   },
   {
    "duration": 7056,
    "start_time": "2022-06-25T11:45:13.200Z"
   },
   {
    "duration": 21,
    "start_time": "2022-06-25T11:45:20.258Z"
   },
   {
    "duration": 11,
    "start_time": "2022-06-25T11:45:20.281Z"
   },
   {
    "duration": 129,
    "start_time": "2022-06-25T11:45:20.293Z"
   },
   {
    "duration": 24,
    "start_time": "2022-06-25T11:45:20.434Z"
   },
   {
    "duration": 116,
    "start_time": "2022-06-25T11:45:20.460Z"
   },
   {
    "duration": 226,
    "start_time": "2022-06-25T11:45:20.578Z"
   },
   {
    "duration": 130,
    "start_time": "2022-06-25T11:45:20.806Z"
   },
   {
    "duration": 597,
    "start_time": "2022-06-25T11:45:20.939Z"
   },
   {
    "duration": 14,
    "start_time": "2022-06-25T11:45:21.545Z"
   },
   {
    "duration": 5009,
    "start_time": "2022-06-25T11:45:21.563Z"
   },
   {
    "duration": 71,
    "start_time": "2022-06-25T11:45:26.630Z"
   },
   {
    "duration": 7077,
    "start_time": "2022-06-25T11:45:26.703Z"
   },
   {
    "duration": 476,
    "start_time": "2022-06-25T11:45:33.782Z"
   },
   {
    "duration": 134,
    "start_time": "2022-06-25T11:45:34.259Z"
   },
   {
    "duration": 117,
    "start_time": "2022-06-25T11:45:34.395Z"
   },
   {
    "duration": 22,
    "start_time": "2022-06-25T11:45:34.514Z"
   },
   {
    "duration": 0,
    "start_time": "2022-06-25T11:45:34.537Z"
   },
   {
    "duration": 0,
    "start_time": "2022-06-25T11:45:34.538Z"
   },
   {
    "duration": 6786,
    "start_time": "2022-06-25T11:47:49.572Z"
   },
   {
    "duration": 8898,
    "start_time": "2022-06-25T11:49:49.446Z"
   },
   {
    "duration": 5968,
    "start_time": "2022-06-25T11:50:05.669Z"
   },
   {
    "duration": 107825,
    "start_time": "2022-06-25T11:52:31.483Z"
   },
   {
    "duration": 878,
    "start_time": "2022-06-25T11:54:19.310Z"
   },
   {
    "duration": 104,
    "start_time": "2022-06-25T11:54:20.190Z"
   },
   {
    "duration": 17,
    "start_time": "2022-06-25T11:54:20.296Z"
   },
   {
    "duration": 4307,
    "start_time": "2022-06-25T11:54:20.315Z"
   },
   {
    "duration": 28,
    "start_time": "2022-06-25T11:54:24.633Z"
   },
   {
    "duration": 20,
    "start_time": "2022-06-25T11:54:24.667Z"
   },
   {
    "duration": 120,
    "start_time": "2022-06-25T11:54:24.688Z"
   },
   {
    "duration": 11,
    "start_time": "2022-06-25T11:54:24.809Z"
   },
   {
    "duration": 139,
    "start_time": "2022-06-25T11:54:24.823Z"
   },
   {
    "duration": 202,
    "start_time": "2022-06-25T11:54:24.971Z"
   },
   {
    "duration": 75,
    "start_time": "2022-06-25T11:54:25.174Z"
   },
   {
    "duration": 374,
    "start_time": "2022-06-25T11:54:25.252Z"
   },
   {
    "duration": 13,
    "start_time": "2022-06-25T11:54:25.634Z"
   },
   {
    "duration": 6004,
    "start_time": "2022-06-25T11:54:25.649Z"
   },
   {
    "duration": 204,
    "start_time": "2022-06-25T11:54:31.666Z"
   },
   {
    "duration": 5009,
    "start_time": "2022-06-25T11:54:31.876Z"
   },
   {
    "duration": 520,
    "start_time": "2022-06-25T11:54:36.887Z"
   },
   {
    "duration": 193,
    "start_time": "2022-06-25T11:54:37.410Z"
   },
   {
    "duration": 161,
    "start_time": "2022-06-25T11:54:37.605Z"
   },
   {
    "duration": 29,
    "start_time": "2022-06-25T11:54:37.768Z"
   },
   {
    "duration": 0,
    "start_time": "2022-06-25T11:54:37.799Z"
   },
   {
    "duration": 0,
    "start_time": "2022-06-25T11:54:37.800Z"
   },
   {
    "duration": 78957,
    "start_time": "2022-06-26T17:24:20.640Z"
   },
   {
    "duration": 2890,
    "start_time": "2022-06-26T17:25:39.599Z"
   },
   {
    "duration": 82,
    "start_time": "2022-06-26T17:25:42.491Z"
   },
   {
    "duration": 16,
    "start_time": "2022-06-26T17:25:42.575Z"
   },
   {
    "duration": 3538,
    "start_time": "2022-06-26T17:25:42.593Z"
   },
   {
    "duration": 25,
    "start_time": "2022-06-26T17:25:46.133Z"
   },
   {
    "duration": 9,
    "start_time": "2022-06-26T17:25:46.160Z"
   },
   {
    "duration": 116,
    "start_time": "2022-06-26T17:25:46.170Z"
   },
   {
    "duration": 13,
    "start_time": "2022-06-26T17:25:46.288Z"
   },
   {
    "duration": 127,
    "start_time": "2022-06-26T17:25:46.304Z"
   },
   {
    "duration": 228,
    "start_time": "2022-06-26T17:25:46.433Z"
   },
   {
    "duration": 63,
    "start_time": "2022-06-26T17:25:46.663Z"
   },
   {
    "duration": 292,
    "start_time": "2022-06-26T17:25:46.727Z"
   },
   {
    "duration": 4,
    "start_time": "2022-06-26T17:25:47.020Z"
   },
   {
    "duration": 2929,
    "start_time": "2022-06-26T17:25:47.025Z"
   },
   {
    "duration": 42,
    "start_time": "2022-06-26T17:25:49.956Z"
   },
   {
    "duration": 3784,
    "start_time": "2022-06-26T17:25:50.000Z"
   },
   {
    "duration": 403,
    "start_time": "2022-06-26T17:25:53.785Z"
   },
   {
    "duration": 130,
    "start_time": "2022-06-26T17:25:54.190Z"
   },
   {
    "duration": 122,
    "start_time": "2022-06-26T17:25:54.321Z"
   },
   {
    "duration": 16,
    "start_time": "2022-06-26T17:25:54.445Z"
   },
   {
    "duration": 1,
    "start_time": "2022-06-26T17:25:54.462Z"
   },
   {
    "duration": 0,
    "start_time": "2022-06-26T17:25:54.464Z"
   },
   {
    "duration": 80429,
    "start_time": "2022-06-26T17:30:11.784Z"
   },
   {
    "duration": 723,
    "start_time": "2022-06-26T17:31:32.215Z"
   },
   {
    "duration": 81,
    "start_time": "2022-06-26T17:31:32.940Z"
   },
   {
    "duration": 30,
    "start_time": "2022-06-26T17:31:33.023Z"
   },
   {
    "duration": 3203,
    "start_time": "2022-06-26T17:31:33.056Z"
   },
   {
    "duration": 17,
    "start_time": "2022-06-26T17:31:36.260Z"
   },
   {
    "duration": 11,
    "start_time": "2022-06-26T17:31:36.278Z"
   },
   {
    "duration": 122,
    "start_time": "2022-06-26T17:31:36.290Z"
   },
   {
    "duration": 10,
    "start_time": "2022-06-26T17:31:36.414Z"
   },
   {
    "duration": 105,
    "start_time": "2022-06-26T17:31:36.426Z"
   },
   {
    "duration": 261,
    "start_time": "2022-06-26T17:31:36.532Z"
   },
   {
    "duration": 68,
    "start_time": "2022-06-26T17:31:36.795Z"
   },
   {
    "duration": 280,
    "start_time": "2022-06-26T17:31:36.865Z"
   },
   {
    "duration": 5,
    "start_time": "2022-06-26T17:31:37.148Z"
   },
   {
    "duration": 1400,
    "start_time": "2022-06-26T17:31:37.154Z"
   },
   {
    "duration": 35,
    "start_time": "2022-06-26T17:31:38.555Z"
   },
   {
    "duration": 3515,
    "start_time": "2022-06-26T17:31:38.591Z"
   },
   {
    "duration": 390,
    "start_time": "2022-06-26T17:31:42.108Z"
   },
   {
    "duration": 96,
    "start_time": "2022-06-26T17:31:42.499Z"
   },
   {
    "duration": 95,
    "start_time": "2022-06-26T17:31:42.596Z"
   },
   {
    "duration": 14,
    "start_time": "2022-06-26T17:31:42.692Z"
   },
   {
    "duration": 0,
    "start_time": "2022-06-26T17:31:42.708Z"
   },
   {
    "duration": 0,
    "start_time": "2022-06-26T17:31:42.709Z"
   },
   {
    "duration": 122146,
    "start_time": "2022-06-26T17:35:08.938Z"
   },
   {
    "duration": 710,
    "start_time": "2022-06-26T17:37:11.086Z"
   },
   {
    "duration": 79,
    "start_time": "2022-06-26T17:37:11.797Z"
   },
   {
    "duration": 17,
    "start_time": "2022-06-26T17:37:11.878Z"
   },
   {
    "duration": 3214,
    "start_time": "2022-06-26T17:37:11.896Z"
   },
   {
    "duration": 18,
    "start_time": "2022-06-26T17:37:15.112Z"
   },
   {
    "duration": 10,
    "start_time": "2022-06-26T17:37:15.152Z"
   },
   {
    "duration": 130,
    "start_time": "2022-06-26T17:37:15.164Z"
   },
   {
    "duration": 10,
    "start_time": "2022-06-26T17:37:15.295Z"
   },
   {
    "duration": 110,
    "start_time": "2022-06-26T17:37:15.308Z"
   },
   {
    "duration": 187,
    "start_time": "2022-06-26T17:37:15.420Z"
   },
   {
    "duration": 65,
    "start_time": "2022-06-26T17:37:15.609Z"
   },
   {
    "duration": 309,
    "start_time": "2022-06-26T17:37:15.676Z"
   },
   {
    "duration": 3,
    "start_time": "2022-06-26T17:37:15.986Z"
   },
   {
    "duration": 1167,
    "start_time": "2022-06-26T17:37:15.990Z"
   },
   {
    "duration": 94,
    "start_time": "2022-06-26T17:37:17.159Z"
   },
   {
    "duration": 82,
    "start_time": "2022-06-26T17:37:17.254Z"
   },
   {
    "duration": 1,
    "start_time": "2022-06-26T17:37:17.337Z"
   },
   {
    "duration": 0,
    "start_time": "2022-06-26T17:37:17.339Z"
   },
   {
    "duration": 0,
    "start_time": "2022-06-26T17:37:17.340Z"
   },
   {
    "duration": 0,
    "start_time": "2022-06-26T17:37:17.342Z"
   },
   {
    "duration": 0,
    "start_time": "2022-06-26T17:37:17.343Z"
   },
   {
    "duration": 0,
    "start_time": "2022-06-26T17:37:17.344Z"
   },
   {
    "duration": 2212,
    "start_time": "2022-06-26T17:39:44.941Z"
   },
   {
    "duration": 1966,
    "start_time": "2022-06-26T17:40:05.993Z"
   },
   {
    "duration": 1614,
    "start_time": "2022-06-26T17:40:39.240Z"
   },
   {
    "duration": 3366,
    "start_time": "2022-06-26T17:42:40.193Z"
   },
   {
    "duration": 1532,
    "start_time": "2022-06-26T17:43:07.131Z"
   },
   {
    "duration": 75,
    "start_time": "2022-06-26T17:44:04.826Z"
   },
   {
    "duration": 87096,
    "start_time": "2022-06-26T17:44:42.422Z"
   },
   {
    "duration": 727,
    "start_time": "2022-06-26T17:46:09.520Z"
   },
   {
    "duration": 73,
    "start_time": "2022-06-26T17:46:10.249Z"
   },
   {
    "duration": 34,
    "start_time": "2022-06-26T17:46:10.324Z"
   },
   {
    "duration": 4076,
    "start_time": "2022-06-26T17:46:10.360Z"
   },
   {
    "duration": 32,
    "start_time": "2022-06-26T17:46:14.438Z"
   },
   {
    "duration": 11,
    "start_time": "2022-06-26T17:46:14.471Z"
   },
   {
    "duration": 145,
    "start_time": "2022-06-26T17:46:14.483Z"
   },
   {
    "duration": 10,
    "start_time": "2022-06-26T17:46:14.629Z"
   },
   {
    "duration": 127,
    "start_time": "2022-06-26T17:46:14.641Z"
   },
   {
    "duration": 251,
    "start_time": "2022-06-26T17:46:14.769Z"
   },
   {
    "duration": 92,
    "start_time": "2022-06-26T17:46:15.022Z"
   },
   {
    "duration": 363,
    "start_time": "2022-06-26T17:46:15.115Z"
   },
   {
    "duration": 4,
    "start_time": "2022-06-26T17:46:15.480Z"
   },
   {
    "duration": 2668,
    "start_time": "2022-06-26T17:46:15.485Z"
   },
   {
    "duration": 3,
    "start_time": "2022-06-26T17:46:18.154Z"
   },
   {
    "duration": 101,
    "start_time": "2022-06-26T17:46:18.158Z"
   },
   {
    "duration": 0,
    "start_time": "2022-06-26T17:46:18.260Z"
   },
   {
    "duration": 0,
    "start_time": "2022-06-26T17:46:18.262Z"
   },
   {
    "duration": 0,
    "start_time": "2022-06-26T17:46:18.263Z"
   },
   {
    "duration": 0,
    "start_time": "2022-06-26T17:46:18.265Z"
   },
   {
    "duration": 0,
    "start_time": "2022-06-26T17:46:18.266Z"
   },
   {
    "duration": 0,
    "start_time": "2022-06-26T17:46:18.267Z"
   },
   {
    "duration": 79794,
    "start_time": "2022-06-26T17:49:43.803Z"
   },
   {
    "duration": 711,
    "start_time": "2022-06-26T17:51:03.599Z"
   },
   {
    "duration": 76,
    "start_time": "2022-06-26T17:51:04.312Z"
   },
   {
    "duration": 16,
    "start_time": "2022-06-26T17:51:04.389Z"
   },
   {
    "duration": 3290,
    "start_time": "2022-06-26T17:51:04.408Z"
   },
   {
    "duration": 18,
    "start_time": "2022-06-26T17:51:07.700Z"
   },
   {
    "duration": 12,
    "start_time": "2022-06-26T17:51:07.720Z"
   },
   {
    "duration": 130,
    "start_time": "2022-06-26T17:51:07.733Z"
   },
   {
    "duration": 11,
    "start_time": "2022-06-26T17:51:07.865Z"
   },
   {
    "duration": 112,
    "start_time": "2022-06-26T17:51:07.877Z"
   },
   {
    "duration": 151,
    "start_time": "2022-06-26T17:51:07.990Z"
   },
   {
    "duration": 66,
    "start_time": "2022-06-26T17:51:08.143Z"
   },
   {
    "duration": 370,
    "start_time": "2022-06-26T17:51:08.211Z"
   },
   {
    "duration": 2,
    "start_time": "2022-06-26T17:51:08.584Z"
   },
   {
    "duration": 1267,
    "start_time": "2022-06-26T17:51:08.588Z"
   },
   {
    "duration": 3,
    "start_time": "2022-06-26T17:51:09.858Z"
   },
   {
    "duration": 130,
    "start_time": "2022-06-26T17:51:09.863Z"
   },
   {
    "duration": 0,
    "start_time": "2022-06-26T17:51:09.994Z"
   },
   {
    "duration": 0,
    "start_time": "2022-06-26T17:51:09.995Z"
   },
   {
    "duration": 0,
    "start_time": "2022-06-26T17:51:09.996Z"
   },
   {
    "duration": 0,
    "start_time": "2022-06-26T17:51:09.998Z"
   },
   {
    "duration": 0,
    "start_time": "2022-06-26T17:51:09.999Z"
   },
   {
    "duration": 0,
    "start_time": "2022-06-26T17:51:10.000Z"
   },
   {
    "duration": 77958,
    "start_time": "2022-06-26T17:58:41.661Z"
   },
   {
    "duration": 732,
    "start_time": "2022-06-26T17:59:59.621Z"
   },
   {
    "duration": 78,
    "start_time": "2022-06-26T18:00:00.354Z"
   },
   {
    "duration": 35,
    "start_time": "2022-06-26T18:00:00.434Z"
   },
   {
    "duration": 421,
    "start_time": "2022-06-26T18:00:00.472Z"
   },
   {
    "duration": 0,
    "start_time": "2022-06-26T18:00:00.896Z"
   },
   {
    "duration": 0,
    "start_time": "2022-06-26T18:00:00.897Z"
   },
   {
    "duration": 0,
    "start_time": "2022-06-26T18:00:00.898Z"
   },
   {
    "duration": 0,
    "start_time": "2022-06-26T18:00:00.900Z"
   },
   {
    "duration": 0,
    "start_time": "2022-06-26T18:00:00.901Z"
   },
   {
    "duration": 0,
    "start_time": "2022-06-26T18:00:00.902Z"
   },
   {
    "duration": 0,
    "start_time": "2022-06-26T18:00:00.904Z"
   },
   {
    "duration": 0,
    "start_time": "2022-06-26T18:00:00.905Z"
   },
   {
    "duration": 0,
    "start_time": "2022-06-26T18:00:00.906Z"
   },
   {
    "duration": 0,
    "start_time": "2022-06-26T18:00:00.908Z"
   },
   {
    "duration": 0,
    "start_time": "2022-06-26T18:00:00.909Z"
   },
   {
    "duration": 0,
    "start_time": "2022-06-26T18:00:00.910Z"
   },
   {
    "duration": 0,
    "start_time": "2022-06-26T18:00:00.911Z"
   },
   {
    "duration": 0,
    "start_time": "2022-06-26T18:00:00.912Z"
   },
   {
    "duration": 0,
    "start_time": "2022-06-26T18:00:00.914Z"
   },
   {
    "duration": 0,
    "start_time": "2022-06-26T18:00:00.914Z"
   },
   {
    "duration": 0,
    "start_time": "2022-06-26T18:00:00.916Z"
   },
   {
    "duration": 0,
    "start_time": "2022-06-26T18:00:00.917Z"
   },
   {
    "duration": 152,
    "start_time": "2022-06-26T18:00:58.414Z"
   },
   {
    "duration": 7262,
    "start_time": "2022-06-26T18:01:14.321Z"
   },
   {
    "duration": 17,
    "start_time": "2022-06-26T18:01:25.287Z"
   },
   {
    "duration": 10,
    "start_time": "2022-06-26T18:01:26.297Z"
   },
   {
    "duration": 112,
    "start_time": "2022-06-26T18:01:27.262Z"
   },
   {
    "duration": 287,
    "start_time": "2022-06-26T18:01:35.310Z"
   },
   {
    "duration": 67,
    "start_time": "2022-06-26T18:01:37.426Z"
   },
   {
    "duration": 303,
    "start_time": "2022-06-26T18:01:40.008Z"
   },
   {
    "duration": 1910,
    "start_time": "2022-06-26T18:01:43.844Z"
   },
   {
    "duration": 1190,
    "start_time": "2022-06-26T18:01:56.167Z"
   },
   {
    "duration": 79869,
    "start_time": "2022-06-26T18:02:06.986Z"
   },
   {
    "duration": 725,
    "start_time": "2022-06-26T18:03:26.856Z"
   },
   {
    "duration": 78,
    "start_time": "2022-06-26T18:03:27.582Z"
   },
   {
    "duration": 16,
    "start_time": "2022-06-26T18:03:27.662Z"
   },
   {
    "duration": 6735,
    "start_time": "2022-06-26T18:03:27.680Z"
   },
   {
    "duration": 18,
    "start_time": "2022-06-26T18:03:34.417Z"
   },
   {
    "duration": 10,
    "start_time": "2022-06-26T18:03:34.454Z"
   },
   {
    "duration": 121,
    "start_time": "2022-06-26T18:03:34.465Z"
   },
   {
    "duration": 11,
    "start_time": "2022-06-26T18:03:34.588Z"
   },
   {
    "duration": 105,
    "start_time": "2022-06-26T18:03:34.601Z"
   },
   {
    "duration": 155,
    "start_time": "2022-06-26T18:03:34.707Z"
   },
   {
    "duration": 60,
    "start_time": "2022-06-26T18:03:34.864Z"
   },
   {
    "duration": 297,
    "start_time": "2022-06-26T18:03:34.925Z"
   },
   {
    "duration": 2,
    "start_time": "2022-06-26T18:03:35.224Z"
   },
   {
    "duration": 1331,
    "start_time": "2022-06-26T18:03:35.228Z"
   },
   {
    "duration": 92,
    "start_time": "2022-06-26T18:03:36.562Z"
   },
   {
    "duration": 90,
    "start_time": "2022-06-26T18:03:36.655Z"
   },
   {
    "duration": 0,
    "start_time": "2022-06-26T18:03:36.747Z"
   },
   {
    "duration": 0,
    "start_time": "2022-06-26T18:03:36.748Z"
   },
   {
    "duration": 0,
    "start_time": "2022-06-26T18:03:36.750Z"
   },
   {
    "duration": 0,
    "start_time": "2022-06-26T18:03:36.751Z"
   },
   {
    "duration": 0,
    "start_time": "2022-06-26T18:03:36.753Z"
   },
   {
    "duration": 0,
    "start_time": "2022-06-26T18:03:36.754Z"
   },
   {
    "duration": 3522,
    "start_time": "2022-06-26T18:04:06.232Z"
   },
   {
    "duration": 7474,
    "start_time": "2022-06-26T18:04:52.201Z"
   },
   {
    "duration": 14736,
    "start_time": "2022-06-26T18:05:41.061Z"
   },
   {
    "duration": 78645,
    "start_time": "2022-06-26T18:10:14.940Z"
   },
   {
    "duration": 701,
    "start_time": "2022-06-26T18:11:33.587Z"
   },
   {
    "duration": 80,
    "start_time": "2022-06-26T18:11:34.290Z"
   },
   {
    "duration": 18,
    "start_time": "2022-06-26T18:11:34.372Z"
   },
   {
    "duration": 432,
    "start_time": "2022-06-26T18:11:34.392Z"
   },
   {
    "duration": 0,
    "start_time": "2022-06-26T18:11:34.826Z"
   },
   {
    "duration": 0,
    "start_time": "2022-06-26T18:11:34.828Z"
   },
   {
    "duration": 0,
    "start_time": "2022-06-26T18:11:34.829Z"
   },
   {
    "duration": 0,
    "start_time": "2022-06-26T18:11:34.830Z"
   },
   {
    "duration": 0,
    "start_time": "2022-06-26T18:11:34.832Z"
   },
   {
    "duration": 0,
    "start_time": "2022-06-26T18:11:34.833Z"
   },
   {
    "duration": 0,
    "start_time": "2022-06-26T18:11:34.834Z"
   },
   {
    "duration": 0,
    "start_time": "2022-06-26T18:11:34.853Z"
   },
   {
    "duration": 0,
    "start_time": "2022-06-26T18:11:34.854Z"
   },
   {
    "duration": 0,
    "start_time": "2022-06-26T18:11:34.856Z"
   },
   {
    "duration": 0,
    "start_time": "2022-06-26T18:11:34.857Z"
   },
   {
    "duration": 0,
    "start_time": "2022-06-26T18:11:34.858Z"
   },
   {
    "duration": 0,
    "start_time": "2022-06-26T18:11:34.860Z"
   },
   {
    "duration": 0,
    "start_time": "2022-06-26T18:11:34.861Z"
   },
   {
    "duration": 0,
    "start_time": "2022-06-26T18:11:34.862Z"
   },
   {
    "duration": 0,
    "start_time": "2022-06-26T18:11:34.864Z"
   },
   {
    "duration": 0,
    "start_time": "2022-06-26T18:11:34.865Z"
   },
   {
    "duration": 0,
    "start_time": "2022-06-26T18:11:34.866Z"
   },
   {
    "duration": 143,
    "start_time": "2022-06-26T18:18:50.720Z"
   },
   {
    "duration": 138,
    "start_time": "2022-06-26T18:21:01.897Z"
   },
   {
    "duration": 81340,
    "start_time": "2022-06-27T07:14:10.812Z"
   },
   {
    "duration": 2801,
    "start_time": "2022-06-27T07:15:32.155Z"
   },
   {
    "duration": 83,
    "start_time": "2022-06-27T07:15:34.958Z"
   },
   {
    "duration": 20,
    "start_time": "2022-06-27T07:15:35.047Z"
   },
   {
    "duration": 2121,
    "start_time": "2022-06-27T07:15:35.070Z"
   },
   {
    "duration": 0,
    "start_time": "2022-06-27T07:15:37.193Z"
   },
   {
    "duration": 0,
    "start_time": "2022-06-27T07:15:37.194Z"
   },
   {
    "duration": 0,
    "start_time": "2022-06-27T07:15:37.196Z"
   },
   {
    "duration": 0,
    "start_time": "2022-06-27T07:15:37.197Z"
   },
   {
    "duration": 0,
    "start_time": "2022-06-27T07:15:37.199Z"
   },
   {
    "duration": 0,
    "start_time": "2022-06-27T07:15:37.200Z"
   },
   {
    "duration": 0,
    "start_time": "2022-06-27T07:15:37.201Z"
   },
   {
    "duration": 0,
    "start_time": "2022-06-27T07:15:37.202Z"
   },
   {
    "duration": 0,
    "start_time": "2022-06-27T07:15:37.204Z"
   },
   {
    "duration": 0,
    "start_time": "2022-06-27T07:15:37.205Z"
   },
   {
    "duration": 0,
    "start_time": "2022-06-27T07:15:37.225Z"
   },
   {
    "duration": 0,
    "start_time": "2022-06-27T07:15:37.226Z"
   },
   {
    "duration": 0,
    "start_time": "2022-06-27T07:15:37.226Z"
   },
   {
    "duration": 0,
    "start_time": "2022-06-27T07:15:37.227Z"
   },
   {
    "duration": 0,
    "start_time": "2022-06-27T07:15:37.228Z"
   },
   {
    "duration": 0,
    "start_time": "2022-06-27T07:15:37.228Z"
   },
   {
    "duration": 0,
    "start_time": "2022-06-27T07:15:37.229Z"
   },
   {
    "duration": 0,
    "start_time": "2022-06-27T07:15:37.230Z"
   },
   {
    "duration": 172,
    "start_time": "2022-06-27T07:22:03.787Z"
   },
   {
    "duration": 5906,
    "start_time": "2022-06-27T07:22:19.809Z"
   },
   {
    "duration": 5898,
    "start_time": "2022-06-27T07:22:44.738Z"
   },
   {
    "duration": 5768,
    "start_time": "2022-06-27T07:23:21.776Z"
   },
   {
    "duration": 5928,
    "start_time": "2022-06-27T07:23:57.414Z"
   },
   {
    "duration": 61033,
    "start_time": "2022-06-27T07:25:35.869Z"
   },
   {
    "duration": 769,
    "start_time": "2022-06-27T07:26:36.904Z"
   },
   {
    "duration": 93,
    "start_time": "2022-06-27T07:26:37.675Z"
   },
   {
    "duration": 19,
    "start_time": "2022-06-27T07:26:37.771Z"
   },
   {
    "duration": 500,
    "start_time": "2022-06-27T07:26:37.792Z"
   },
   {
    "duration": 0,
    "start_time": "2022-06-27T07:26:38.294Z"
   },
   {
    "duration": 0,
    "start_time": "2022-06-27T07:26:38.295Z"
   },
   {
    "duration": 0,
    "start_time": "2022-06-27T07:26:38.297Z"
   },
   {
    "duration": 0,
    "start_time": "2022-06-27T07:26:38.299Z"
   },
   {
    "duration": 0,
    "start_time": "2022-06-27T07:26:38.300Z"
   },
   {
    "duration": 0,
    "start_time": "2022-06-27T07:26:38.302Z"
   },
   {
    "duration": 0,
    "start_time": "2022-06-27T07:26:38.303Z"
   },
   {
    "duration": 0,
    "start_time": "2022-06-27T07:26:38.304Z"
   },
   {
    "duration": 0,
    "start_time": "2022-06-27T07:26:38.305Z"
   },
   {
    "duration": 0,
    "start_time": "2022-06-27T07:26:38.325Z"
   },
   {
    "duration": 0,
    "start_time": "2022-06-27T07:26:38.329Z"
   },
   {
    "duration": 0,
    "start_time": "2022-06-27T07:26:38.329Z"
   },
   {
    "duration": 0,
    "start_time": "2022-06-27T07:26:38.330Z"
   },
   {
    "duration": 0,
    "start_time": "2022-06-27T07:26:38.331Z"
   },
   {
    "duration": 0,
    "start_time": "2022-06-27T07:26:38.332Z"
   },
   {
    "duration": 0,
    "start_time": "2022-06-27T07:26:38.333Z"
   },
   {
    "duration": 0,
    "start_time": "2022-06-27T07:26:38.334Z"
   },
   {
    "duration": 59178,
    "start_time": "2022-06-27T07:28:44.315Z"
   },
   {
    "duration": 756,
    "start_time": "2022-06-27T07:29:43.495Z"
   },
   {
    "duration": 93,
    "start_time": "2022-06-27T07:29:44.252Z"
   },
   {
    "duration": 18,
    "start_time": "2022-06-27T07:29:44.347Z"
   },
   {
    "duration": 7220,
    "start_time": "2022-06-27T07:29:44.367Z"
   },
   {
    "duration": 12,
    "start_time": "2022-06-27T07:29:51.589Z"
   },
   {
    "duration": 136,
    "start_time": "2022-06-27T07:29:51.603Z"
   },
   {
    "duration": 13,
    "start_time": "2022-06-27T07:29:51.742Z"
   },
   {
    "duration": 110,
    "start_time": "2022-06-27T07:29:51.757Z"
   },
   {
    "duration": 177,
    "start_time": "2022-06-27T07:29:51.870Z"
   },
   {
    "duration": 126,
    "start_time": "2022-06-27T07:29:52.049Z"
   },
   {
    "duration": 715,
    "start_time": "2022-06-27T07:29:52.177Z"
   },
   {
    "duration": 4,
    "start_time": "2022-06-27T07:29:52.894Z"
   },
   {
    "duration": 6832,
    "start_time": "2022-06-27T07:29:52.900Z"
   },
   {
    "duration": 5,
    "start_time": "2022-06-27T07:29:59.743Z"
   },
   {
    "duration": 79,
    "start_time": "2022-06-27T07:29:59.751Z"
   },
   {
    "duration": 0,
    "start_time": "2022-06-27T07:29:59.832Z"
   },
   {
    "duration": 0,
    "start_time": "2022-06-27T07:29:59.833Z"
   },
   {
    "duration": 0,
    "start_time": "2022-06-27T07:29:59.834Z"
   },
   {
    "duration": 0,
    "start_time": "2022-06-27T07:29:59.836Z"
   },
   {
    "duration": 0,
    "start_time": "2022-06-27T07:29:59.837Z"
   },
   {
    "duration": 0,
    "start_time": "2022-06-27T07:29:59.838Z"
   },
   {
    "duration": 40246,
    "start_time": "2022-06-27T07:31:08.784Z"
   },
   {
    "duration": 6042,
    "start_time": "2022-06-27T07:49:45.007Z"
   },
   {
    "duration": 37,
    "start_time": "2022-06-27T07:50:29.241Z"
   },
   {
    "duration": 62079,
    "start_time": "2022-06-27T07:50:42.774Z"
   },
   {
    "duration": 795,
    "start_time": "2022-06-27T07:51:44.855Z"
   },
   {
    "duration": 100,
    "start_time": "2022-06-27T07:51:45.651Z"
   },
   {
    "duration": 416,
    "start_time": "2022-06-27T07:51:45.753Z"
   },
   {
    "duration": 9,
    "start_time": "2022-06-27T07:51:46.171Z"
   },
   {
    "duration": 8027,
    "start_time": "2022-06-27T07:51:46.182Z"
   },
   {
    "duration": 23,
    "start_time": "2022-06-27T07:51:54.210Z"
   },
   {
    "duration": 116,
    "start_time": "2022-06-27T07:51:54.240Z"
   },
   {
    "duration": 13,
    "start_time": "2022-06-27T07:51:54.358Z"
   },
   {
    "duration": 180,
    "start_time": "2022-06-27T07:51:54.374Z"
   },
   {
    "duration": 142,
    "start_time": "2022-06-27T07:51:54.559Z"
   },
   {
    "duration": 137,
    "start_time": "2022-06-27T07:51:54.704Z"
   },
   {
    "duration": 657,
    "start_time": "2022-06-27T07:51:54.847Z"
   },
   {
    "duration": 3,
    "start_time": "2022-06-27T07:51:55.506Z"
   },
   {
    "duration": 6820,
    "start_time": "2022-06-27T07:51:55.510Z"
   },
   {
    "duration": 7,
    "start_time": "2022-06-27T07:52:02.332Z"
   },
   {
    "duration": 99,
    "start_time": "2022-06-27T07:52:02.358Z"
   },
   {
    "duration": 0,
    "start_time": "2022-06-27T07:52:02.459Z"
   },
   {
    "duration": 0,
    "start_time": "2022-06-27T07:52:02.461Z"
   },
   {
    "duration": 0,
    "start_time": "2022-06-27T07:52:02.462Z"
   },
   {
    "duration": 0,
    "start_time": "2022-06-27T07:52:02.464Z"
   },
   {
    "duration": 0,
    "start_time": "2022-06-27T07:52:02.465Z"
   },
   {
    "duration": 0,
    "start_time": "2022-06-27T07:52:02.467Z"
   },
   {
    "duration": 59602,
    "start_time": "2022-06-27T07:52:33.640Z"
   },
   {
    "duration": 821,
    "start_time": "2022-06-27T07:53:55.794Z"
   },
   {
    "duration": 88,
    "start_time": "2022-06-27T07:53:56.680Z"
   },
   {
    "duration": 110,
    "start_time": "2022-06-27T07:54:03.140Z"
   },
   {
    "duration": 388,
    "start_time": "2022-06-27T07:54:09.582Z"
   },
   {
    "duration": 337,
    "start_time": "2022-06-27T07:54:53.139Z"
   },
   {
    "duration": 261,
    "start_time": "2022-06-27T07:55:02.418Z"
   },
   {
    "duration": 22,
    "start_time": "2022-06-27T07:55:32.646Z"
   },
   {
    "duration": 237,
    "start_time": "2022-06-27T07:55:38.004Z"
   },
   {
    "duration": 217,
    "start_time": "2022-06-27T07:56:04.151Z"
   },
   {
    "duration": 219,
    "start_time": "2022-06-27T07:56:19.066Z"
   },
   {
    "duration": 14,
    "start_time": "2022-06-27T07:56:23.744Z"
   },
   {
    "duration": 7776,
    "start_time": "2022-06-27T07:56:25.165Z"
   },
   {
    "duration": 13,
    "start_time": "2022-06-27T07:56:58.384Z"
   },
   {
    "duration": 193,
    "start_time": "2022-06-27T07:57:05.399Z"
   },
   {
    "duration": 158,
    "start_time": "2022-06-27T07:57:10.055Z"
   },
   {
    "duration": 680,
    "start_time": "2022-06-27T07:57:15.100Z"
   },
   {
    "duration": 6460,
    "start_time": "2022-06-27T07:57:17.894Z"
   },
   {
    "duration": 9516,
    "start_time": "2022-06-27T07:59:43.213Z"
   },
   {
    "duration": 20,
    "start_time": "2022-06-27T08:01:33.167Z"
   },
   {
    "duration": 5,
    "start_time": "2022-06-27T08:02:01.703Z"
   },
   {
    "duration": 24834,
    "start_time": "2022-06-27T08:02:10.290Z"
   },
   {
    "duration": 69072,
    "start_time": "2022-06-27T08:03:58.914Z"
   },
   {
    "duration": 785,
    "start_time": "2022-06-27T08:05:07.988Z"
   },
   {
    "duration": 91,
    "start_time": "2022-06-27T08:05:08.775Z"
   },
   {
    "duration": 404,
    "start_time": "2022-06-27T08:05:08.868Z"
   },
   {
    "duration": 267,
    "start_time": "2022-06-27T08:05:09.274Z"
   },
   {
    "duration": 223,
    "start_time": "2022-06-27T08:05:09.544Z"
   },
   {
    "duration": 248,
    "start_time": "2022-06-27T08:05:09.769Z"
   },
   {
    "duration": 227,
    "start_time": "2022-06-27T08:05:10.019Z"
   },
   {
    "duration": 32,
    "start_time": "2022-06-27T08:05:10.248Z"
   },
   {
    "duration": 61520,
    "start_time": "2022-06-27T08:05:10.283Z"
   },
   {
    "duration": 53,
    "start_time": "2022-06-27T08:06:11.805Z"
   },
   {
    "duration": 157,
    "start_time": "2022-06-27T08:06:11.860Z"
   },
   {
    "duration": 52,
    "start_time": "2022-06-27T08:06:12.018Z"
   },
   {
    "duration": 104,
    "start_time": "2022-06-27T08:06:12.072Z"
   },
   {
    "duration": 189,
    "start_time": "2022-06-27T08:06:12.177Z"
   },
   {
    "duration": 64026,
    "start_time": "2022-06-27T08:07:23.085Z"
   },
   {
    "duration": 2661,
    "start_time": "2022-06-27T08:08:27.113Z"
   },
   {
    "duration": 93,
    "start_time": "2022-06-27T08:08:29.776Z"
   },
   {
    "duration": 413,
    "start_time": "2022-06-27T08:08:29.871Z"
   },
   {
    "duration": 265,
    "start_time": "2022-06-27T08:08:30.286Z"
   },
   {
    "duration": 220,
    "start_time": "2022-06-27T08:08:30.553Z"
   },
   {
    "duration": 220,
    "start_time": "2022-06-27T08:08:30.775Z"
   },
   {
    "duration": 222,
    "start_time": "2022-06-27T08:08:30.997Z"
   },
   {
    "duration": 37,
    "start_time": "2022-06-27T08:08:31.222Z"
   },
   {
    "duration": 31650,
    "start_time": "2022-06-27T08:08:31.264Z"
   },
   {
    "duration": 37,
    "start_time": "2022-06-27T08:09:02.915Z"
   },
   {
    "duration": 124,
    "start_time": "2022-06-27T08:09:02.954Z"
   },
   {
    "duration": 20,
    "start_time": "2022-06-27T08:09:03.080Z"
   },
   {
    "duration": 124,
    "start_time": "2022-06-27T08:09:03.101Z"
   },
   {
    "duration": 221,
    "start_time": "2022-06-27T08:09:03.228Z"
   },
   {
    "duration": 658,
    "start_time": "2022-06-27T08:09:03.451Z"
   },
   {
    "duration": 3121,
    "start_time": "2022-06-27T08:09:04.122Z"
   },
   {
    "duration": 3,
    "start_time": "2022-06-27T08:09:07.244Z"
   },
   {
    "duration": 13188,
    "start_time": "2022-06-27T08:09:07.249Z"
   },
   {
    "duration": 66299,
    "start_time": "2022-06-27T08:09:20.439Z"
   },
   {
    "duration": 64,
    "start_time": "2022-06-27T08:10:26.740Z"
   },
   {
    "duration": 0,
    "start_time": "2022-06-27T08:10:26.806Z"
   },
   {
    "duration": 0,
    "start_time": "2022-06-27T08:10:26.807Z"
   },
   {
    "duration": 0,
    "start_time": "2022-06-27T08:10:26.809Z"
   },
   {
    "duration": 0,
    "start_time": "2022-06-27T08:10:26.810Z"
   },
   {
    "duration": 0,
    "start_time": "2022-06-27T08:10:26.812Z"
   },
   {
    "duration": 0,
    "start_time": "2022-06-27T08:10:26.813Z"
   },
   {
    "duration": 100468,
    "start_time": "2022-06-27T08:10:47.687Z"
   },
   {
    "duration": 60324,
    "start_time": "2022-06-27T08:17:10.471Z"
   },
   {
    "duration": 802,
    "start_time": "2022-06-27T08:18:10.797Z"
   },
   {
    "duration": 95,
    "start_time": "2022-06-27T08:18:11.603Z"
   },
   {
    "duration": 407,
    "start_time": "2022-06-27T08:18:11.700Z"
   },
   {
    "duration": 245,
    "start_time": "2022-06-27T08:18:12.109Z"
   },
   {
    "duration": 232,
    "start_time": "2022-06-27T08:18:12.356Z"
   },
   {
    "duration": 257,
    "start_time": "2022-06-27T08:18:12.590Z"
   },
   {
    "duration": 207,
    "start_time": "2022-06-27T08:18:12.849Z"
   },
   {
    "duration": 27,
    "start_time": "2022-06-27T08:18:13.057Z"
   },
   {
    "duration": 47727,
    "start_time": "2022-06-27T08:18:13.086Z"
   },
   {
    "duration": 39,
    "start_time": "2022-06-27T08:19:00.814Z"
   },
   {
    "duration": 129,
    "start_time": "2022-06-27T08:19:00.855Z"
   },
   {
    "duration": 50,
    "start_time": "2022-06-27T08:19:00.988Z"
   },
   {
    "duration": 106,
    "start_time": "2022-06-27T08:19:01.040Z"
   },
   {
    "duration": 198,
    "start_time": "2022-06-27T08:19:01.147Z"
   },
   {
    "duration": 1050,
    "start_time": "2022-06-27T08:19:01.347Z"
   },
   {
    "duration": 5014,
    "start_time": "2022-06-27T08:19:02.398Z"
   },
   {
    "duration": 3,
    "start_time": "2022-06-27T08:19:07.413Z"
   },
   {
    "duration": 22102,
    "start_time": "2022-06-27T08:19:07.425Z"
   },
   {
    "duration": 108705,
    "start_time": "2022-06-27T08:19:29.535Z"
   },
   {
    "duration": 87,
    "start_time": "2022-06-27T08:21:18.323Z"
   },
   {
    "duration": 0,
    "start_time": "2022-06-27T08:21:18.411Z"
   },
   {
    "duration": 0,
    "start_time": "2022-06-27T08:21:18.413Z"
   },
   {
    "duration": 0,
    "start_time": "2022-06-27T08:21:18.414Z"
   },
   {
    "duration": 0,
    "start_time": "2022-06-27T08:21:18.415Z"
   },
   {
    "duration": 0,
    "start_time": "2022-06-27T08:21:18.416Z"
   },
   {
    "duration": 0,
    "start_time": "2022-06-27T08:21:18.417Z"
   },
   {
    "duration": 59309,
    "start_time": "2022-06-27T08:22:21.588Z"
   },
   {
    "duration": 837,
    "start_time": "2022-06-27T08:23:20.899Z"
   },
   {
    "duration": 98,
    "start_time": "2022-06-27T08:23:21.747Z"
   },
   {
    "duration": 405,
    "start_time": "2022-06-27T08:23:21.847Z"
   },
   {
    "duration": 248,
    "start_time": "2022-06-27T08:23:22.253Z"
   },
   {
    "duration": 252,
    "start_time": "2022-06-27T08:23:22.503Z"
   },
   {
    "duration": 237,
    "start_time": "2022-06-27T08:23:22.757Z"
   },
   {
    "duration": 215,
    "start_time": "2022-06-27T08:23:22.996Z"
   },
   {
    "duration": 43,
    "start_time": "2022-06-27T08:23:23.213Z"
   },
   {
    "duration": 53823,
    "start_time": "2022-06-27T08:23:23.263Z"
   },
   {
    "duration": 47,
    "start_time": "2022-06-27T08:24:17.087Z"
   },
   {
    "duration": 118,
    "start_time": "2022-06-27T08:24:17.136Z"
   },
   {
    "duration": 30,
    "start_time": "2022-06-27T08:24:17.255Z"
   },
   {
    "duration": 109,
    "start_time": "2022-06-27T08:24:17.287Z"
   },
   {
    "duration": 217,
    "start_time": "2022-06-27T08:24:17.398Z"
   },
   {
    "duration": 60572,
    "start_time": "2022-06-27T08:31:39.869Z"
   },
   {
    "duration": 2628,
    "start_time": "2022-06-27T08:37:04.771Z"
   },
   {
    "duration": 102,
    "start_time": "2022-06-27T08:37:09.208Z"
   },
   {
    "duration": 355,
    "start_time": "2022-06-27T08:37:14.850Z"
   },
   {
    "duration": 259,
    "start_time": "2022-06-27T08:37:16.045Z"
   },
   {
    "duration": 234,
    "start_time": "2022-06-27T08:37:17.306Z"
   },
   {
    "duration": 208,
    "start_time": "2022-06-27T08:37:18.203Z"
   },
   {
    "duration": 203,
    "start_time": "2022-06-27T08:37:18.977Z"
   },
   {
    "duration": 23,
    "start_time": "2022-06-27T08:37:19.861Z"
   },
   {
    "duration": 59870,
    "start_time": "2022-06-27T08:37:21.343Z"
   },
   {
    "duration": 43,
    "start_time": "2022-06-27T08:38:43.748Z"
   },
   {
    "duration": 114,
    "start_time": "2022-06-27T08:38:44.867Z"
   },
   {
    "duration": 155,
    "start_time": "2022-06-27T08:38:50.655Z"
   },
   {
    "duration": 69266,
    "start_time": "2022-06-27T08:39:46.689Z"
   },
   {
    "duration": 2757,
    "start_time": "2022-06-27T08:43:49.879Z"
   },
   {
    "duration": 109,
    "start_time": "2022-06-27T08:43:52.638Z"
   },
   {
    "duration": 420,
    "start_time": "2022-06-27T08:43:52.754Z"
   },
   {
    "duration": 258,
    "start_time": "2022-06-27T08:43:53.176Z"
   },
   {
    "duration": 246,
    "start_time": "2022-06-27T08:43:56.813Z"
   },
   {
    "duration": 209,
    "start_time": "2022-06-27T08:43:57.480Z"
   },
   {
    "duration": 197,
    "start_time": "2022-06-27T08:43:58.285Z"
   },
   {
    "duration": 27,
    "start_time": "2022-06-27T08:43:59.038Z"
   },
   {
    "duration": 57179,
    "start_time": "2022-06-27T08:43:59.885Z"
   },
   {
    "duration": 36,
    "start_time": "2022-06-27T08:44:57.067Z"
   },
   {
    "duration": 275,
    "start_time": "2022-06-27T08:44:57.105Z"
   },
   {
    "duration": 898,
    "start_time": "2022-06-27T08:48:49.943Z"
   },
   {
    "duration": 71639,
    "start_time": "2022-06-27T08:58:41.273Z"
   },
   {
    "duration": 2765,
    "start_time": "2022-06-27T08:59:52.915Z"
   },
   {
    "duration": 90,
    "start_time": "2022-06-27T08:59:55.681Z"
   },
   {
    "duration": 414,
    "start_time": "2022-06-27T08:59:55.773Z"
   },
   {
    "duration": 259,
    "start_time": "2022-06-27T08:59:56.190Z"
   },
   {
    "duration": 216,
    "start_time": "2022-06-27T08:59:56.451Z"
   },
   {
    "duration": 210,
    "start_time": "2022-06-27T08:59:56.669Z"
   },
   {
    "duration": 202,
    "start_time": "2022-06-27T08:59:56.881Z"
   },
   {
    "duration": 27,
    "start_time": "2022-06-27T08:59:57.084Z"
   },
   {
    "duration": 54796,
    "start_time": "2022-06-27T08:59:57.114Z"
   },
   {
    "duration": 48,
    "start_time": "2022-06-27T09:00:51.911Z"
   },
   {
    "duration": 159,
    "start_time": "2022-06-27T09:00:51.962Z"
   },
   {
    "duration": 52,
    "start_time": "2022-06-27T09:00:52.122Z"
   },
   {
    "duration": 143,
    "start_time": "2022-06-27T09:00:52.177Z"
   },
   {
    "duration": 238,
    "start_time": "2022-06-27T09:00:52.322Z"
   },
   {
    "duration": 911,
    "start_time": "2022-06-27T09:00:52.562Z"
   },
   {
    "duration": 296,
    "start_time": "2022-06-27T09:00:53.475Z"
   },
   {
    "duration": 5360,
    "start_time": "2022-06-27T09:00:53.772Z"
   },
   {
    "duration": 3,
    "start_time": "2022-06-27T09:00:59.133Z"
   },
   {
    "duration": 19709,
    "start_time": "2022-06-27T09:00:59.137Z"
   },
   {
    "duration": 58,
    "start_time": "2022-06-27T09:01:18.852Z"
   },
   {
    "duration": 0,
    "start_time": "2022-06-27T09:01:18.912Z"
   },
   {
    "duration": 1,
    "start_time": "2022-06-27T09:01:18.913Z"
   },
   {
    "duration": 0,
    "start_time": "2022-06-27T09:01:18.915Z"
   },
   {
    "duration": 0,
    "start_time": "2022-06-27T09:01:18.916Z"
   },
   {
    "duration": 0,
    "start_time": "2022-06-27T09:01:18.918Z"
   },
   {
    "duration": 0,
    "start_time": "2022-06-27T09:01:18.920Z"
   },
   {
    "duration": 63676,
    "start_time": "2022-06-27T09:21:10.195Z"
   },
   {
    "duration": 2825,
    "start_time": "2022-06-27T09:22:13.873Z"
   },
   {
    "duration": 95,
    "start_time": "2022-06-27T09:22:16.700Z"
   },
   {
    "duration": 420,
    "start_time": "2022-06-27T09:22:16.798Z"
   },
   {
    "duration": 268,
    "start_time": "2022-06-27T09:22:17.220Z"
   },
   {
    "duration": 224,
    "start_time": "2022-06-27T09:22:17.489Z"
   },
   {
    "duration": 240,
    "start_time": "2022-06-27T09:22:17.715Z"
   },
   {
    "duration": 210,
    "start_time": "2022-06-27T09:22:17.958Z"
   },
   {
    "duration": 29,
    "start_time": "2022-06-27T09:22:18.170Z"
   },
   {
    "duration": 56767,
    "start_time": "2022-06-27T09:22:18.202Z"
   },
   {
    "duration": 40,
    "start_time": "2022-06-27T09:23:14.971Z"
   },
   {
    "duration": 151,
    "start_time": "2022-06-27T09:23:15.024Z"
   },
   {
    "duration": 31,
    "start_time": "2022-06-27T09:23:15.177Z"
   },
   {
    "duration": 145,
    "start_time": "2022-06-27T09:23:15.210Z"
   },
   {
    "duration": 201,
    "start_time": "2022-06-27T09:23:15.357Z"
   },
   {
    "duration": 864,
    "start_time": "2022-06-27T09:23:15.559Z"
   },
   {
    "duration": 312,
    "start_time": "2022-06-27T09:23:16.429Z"
   },
   {
    "duration": 5151,
    "start_time": "2022-06-27T09:23:16.744Z"
   },
   {
    "duration": 3,
    "start_time": "2022-06-27T09:23:21.896Z"
   },
   {
    "duration": 411,
    "start_time": "2022-06-27T09:23:21.900Z"
   },
   {
    "duration": 85,
    "start_time": "2022-06-27T09:23:22.312Z"
   },
   {
    "duration": 0,
    "start_time": "2022-06-27T09:23:22.399Z"
   },
   {
    "duration": 0,
    "start_time": "2022-06-27T09:23:22.401Z"
   },
   {
    "duration": 0,
    "start_time": "2022-06-27T09:23:22.402Z"
   },
   {
    "duration": 0,
    "start_time": "2022-06-27T09:23:22.404Z"
   },
   {
    "duration": 0,
    "start_time": "2022-06-27T09:23:22.406Z"
   },
   {
    "duration": 0,
    "start_time": "2022-06-27T09:23:22.407Z"
   },
   {
    "duration": 90,
    "start_time": "2022-06-27T09:31:30.784Z"
   },
   {
    "duration": 28746,
    "start_time": "2022-06-27T09:31:46.402Z"
   },
   {
    "duration": 65152,
    "start_time": "2022-06-27T09:33:45.161Z"
   },
   {
    "duration": 1891,
    "start_time": "2022-06-27T09:34:50.316Z"
   },
   {
    "duration": 98,
    "start_time": "2022-06-27T09:34:52.209Z"
   },
   {
    "duration": 435,
    "start_time": "2022-06-27T09:34:52.309Z"
   },
   {
    "duration": 292,
    "start_time": "2022-06-27T09:34:52.747Z"
   },
   {
    "duration": 224,
    "start_time": "2022-06-27T09:34:53.047Z"
   },
   {
    "duration": 205,
    "start_time": "2022-06-27T09:34:53.273Z"
   },
   {
    "duration": 199,
    "start_time": "2022-06-27T09:34:53.480Z"
   },
   {
    "duration": 42,
    "start_time": "2022-06-27T09:34:53.681Z"
   },
   {
    "duration": 55332,
    "start_time": "2022-06-27T09:34:53.728Z"
   },
   {
    "duration": 38,
    "start_time": "2022-06-27T09:35:49.061Z"
   },
   {
    "duration": 150,
    "start_time": "2022-06-27T09:35:49.100Z"
   },
   {
    "duration": 33,
    "start_time": "2022-06-27T09:35:49.252Z"
   },
   {
    "duration": 108,
    "start_time": "2022-06-27T09:35:49.287Z"
   },
   {
    "duration": 204,
    "start_time": "2022-06-27T09:35:49.396Z"
   },
   {
    "duration": 831,
    "start_time": "2022-06-27T09:35:49.602Z"
   },
   {
    "duration": 291,
    "start_time": "2022-06-27T09:35:50.435Z"
   },
   {
    "duration": 5461,
    "start_time": "2022-06-27T09:35:50.734Z"
   },
   {
    "duration": 2,
    "start_time": "2022-06-27T09:35:56.197Z"
   },
   {
    "duration": 25557,
    "start_time": "2022-06-27T09:35:56.201Z"
   },
   {
    "duration": 70,
    "start_time": "2022-06-27T09:36:21.761Z"
   },
   {
    "duration": 0,
    "start_time": "2022-06-27T09:36:21.833Z"
   },
   {
    "duration": 0,
    "start_time": "2022-06-27T09:36:21.833Z"
   },
   {
    "duration": 0,
    "start_time": "2022-06-27T09:36:21.834Z"
   },
   {
    "duration": 0,
    "start_time": "2022-06-27T09:36:21.836Z"
   },
   {
    "duration": 0,
    "start_time": "2022-06-27T09:36:21.837Z"
   },
   {
    "duration": 0,
    "start_time": "2022-06-27T09:36:21.838Z"
   },
   {
    "duration": 39,
    "start_time": "2022-06-27T09:37:20.299Z"
   },
   {
    "duration": 5,
    "start_time": "2022-06-27T09:37:28.907Z"
   },
   {
    "duration": 62591,
    "start_time": "2022-06-27T09:37:39.875Z"
   },
   {
    "duration": 2824,
    "start_time": "2022-06-27T09:38:42.468Z"
   },
   {
    "duration": 92,
    "start_time": "2022-06-27T09:38:45.294Z"
   },
   {
    "duration": 406,
    "start_time": "2022-06-27T09:38:45.388Z"
   },
   {
    "duration": 268,
    "start_time": "2022-06-27T09:38:45.796Z"
   },
   {
    "duration": 223,
    "start_time": "2022-06-27T09:38:46.066Z"
   },
   {
    "duration": 226,
    "start_time": "2022-06-27T09:38:46.291Z"
   },
   {
    "duration": 213,
    "start_time": "2022-06-27T09:38:46.519Z"
   },
   {
    "duration": 37,
    "start_time": "2022-06-27T09:38:46.736Z"
   },
   {
    "duration": 54412,
    "start_time": "2022-06-27T09:38:46.776Z"
   },
   {
    "duration": 49,
    "start_time": "2022-06-27T09:39:41.189Z"
   },
   {
    "duration": 122,
    "start_time": "2022-06-27T09:39:41.243Z"
   },
   {
    "duration": 35,
    "start_time": "2022-06-27T09:39:41.367Z"
   },
   {
    "duration": 114,
    "start_time": "2022-06-27T09:39:41.404Z"
   },
   {
    "duration": 154,
    "start_time": "2022-06-27T09:39:41.522Z"
   },
   {
    "duration": 841,
    "start_time": "2022-06-27T09:39:41.677Z"
   },
   {
    "duration": 344,
    "start_time": "2022-06-27T09:39:42.523Z"
   },
   {
    "duration": 5323,
    "start_time": "2022-06-27T09:39:42.869Z"
   },
   {
    "duration": 2,
    "start_time": "2022-06-27T09:39:48.194Z"
   },
   {
    "duration": 15540,
    "start_time": "2022-06-27T09:39:48.198Z"
   },
   {
    "duration": 58,
    "start_time": "2022-06-27T09:40:03.739Z"
   },
   {
    "duration": 0,
    "start_time": "2022-06-27T09:40:03.798Z"
   },
   {
    "duration": 0,
    "start_time": "2022-06-27T09:40:03.799Z"
   },
   {
    "duration": 0,
    "start_time": "2022-06-27T09:40:03.800Z"
   },
   {
    "duration": 0,
    "start_time": "2022-06-27T09:40:03.802Z"
   },
   {
    "duration": 0,
    "start_time": "2022-06-27T09:40:03.803Z"
   },
   {
    "duration": 0,
    "start_time": "2022-06-27T09:40:03.804Z"
   },
   {
    "duration": 358,
    "start_time": "2022-06-27T09:43:23.575Z"
   },
   {
    "duration": 85773,
    "start_time": "2022-06-27T09:43:44.838Z"
   },
   {
    "duration": 66238,
    "start_time": "2022-06-27T09:48:19.670Z"
   },
   {
    "duration": 98602,
    "start_time": "2022-06-27T09:54:26.872Z"
   },
   {
    "duration": 59776,
    "start_time": "2022-06-27T10:00:40.794Z"
   },
   {
    "duration": 2434,
    "start_time": "2022-06-27T10:01:40.572Z"
   },
   {
    "duration": 85,
    "start_time": "2022-06-27T10:01:43.008Z"
   },
   {
    "duration": 400,
    "start_time": "2022-06-27T10:01:43.095Z"
   },
   {
    "duration": 257,
    "start_time": "2022-06-27T10:01:43.496Z"
   },
   {
    "duration": 230,
    "start_time": "2022-06-27T10:01:43.755Z"
   },
   {
    "duration": 239,
    "start_time": "2022-06-27T10:01:43.986Z"
   },
   {
    "duration": 213,
    "start_time": "2022-06-27T10:01:44.228Z"
   },
   {
    "duration": 36,
    "start_time": "2022-06-27T10:01:44.443Z"
   },
   {
    "duration": 49278,
    "start_time": "2022-06-27T10:01:44.483Z"
   },
   {
    "duration": 47,
    "start_time": "2022-06-27T10:02:33.763Z"
   },
   {
    "duration": 163,
    "start_time": "2022-06-27T10:02:33.812Z"
   },
   {
    "duration": 820,
    "start_time": "2022-06-27T10:02:33.977Z"
   },
   {
    "duration": 293,
    "start_time": "2022-06-27T10:02:34.799Z"
   },
   {
    "duration": 4998,
    "start_time": "2022-06-27T10:02:35.094Z"
   },
   {
    "duration": 3,
    "start_time": "2022-06-27T10:02:40.093Z"
   },
   {
    "duration": 25527,
    "start_time": "2022-06-27T10:02:40.098Z"
   },
   {
    "duration": 557,
    "start_time": "2022-06-27T10:03:05.627Z"
   },
   {
    "duration": 97822,
    "start_time": "2022-06-27T10:03:06.186Z"
   },
   {
    "duration": 53561,
    "start_time": "2022-06-27T10:05:26.132Z"
   },
   {
    "duration": 2488,
    "start_time": "2022-06-27T10:06:19.695Z"
   },
   {
    "duration": 91,
    "start_time": "2022-06-27T10:06:22.185Z"
   },
   {
    "duration": 439,
    "start_time": "2022-06-27T10:06:22.277Z"
   },
   {
    "duration": 258,
    "start_time": "2022-06-27T10:06:22.718Z"
   },
   {
    "duration": 231,
    "start_time": "2022-06-27T10:06:22.978Z"
   },
   {
    "duration": 231,
    "start_time": "2022-06-27T10:06:23.211Z"
   },
   {
    "duration": 212,
    "start_time": "2022-06-27T10:06:23.444Z"
   },
   {
    "duration": 37,
    "start_time": "2022-06-27T10:06:23.658Z"
   },
   {
    "duration": 49274,
    "start_time": "2022-06-27T10:06:23.699Z"
   },
   {
    "duration": 52,
    "start_time": "2022-06-27T10:07:12.975Z"
   },
   {
    "duration": 120,
    "start_time": "2022-06-27T10:07:13.029Z"
   },
   {
    "duration": 832,
    "start_time": "2022-06-27T10:07:13.151Z"
   },
   {
    "duration": 282,
    "start_time": "2022-06-27T10:07:13.985Z"
   },
   {
    "duration": 4923,
    "start_time": "2022-06-27T10:07:14.269Z"
   },
   {
    "duration": 2,
    "start_time": "2022-06-27T10:07:19.194Z"
   },
   {
    "duration": 28530,
    "start_time": "2022-06-27T10:07:19.198Z"
   },
   {
    "duration": 378,
    "start_time": "2022-06-27T10:07:47.729Z"
   },
   {
    "duration": 97857,
    "start_time": "2022-06-27T10:07:48.109Z"
   },
   {
    "duration": 55037,
    "start_time": "2022-06-27T10:11:44.764Z"
   },
   {
    "duration": 2404,
    "start_time": "2022-06-27T10:12:39.804Z"
   },
   {
    "duration": 87,
    "start_time": "2022-06-27T10:12:42.210Z"
   },
   {
    "duration": 428,
    "start_time": "2022-06-27T10:12:42.300Z"
   },
   {
    "duration": 264,
    "start_time": "2022-06-27T10:12:42.730Z"
   },
   {
    "duration": 245,
    "start_time": "2022-06-27T10:12:42.996Z"
   },
   {
    "duration": 237,
    "start_time": "2022-06-27T10:12:43.243Z"
   },
   {
    "duration": 222,
    "start_time": "2022-06-27T10:12:43.482Z"
   },
   {
    "duration": 40,
    "start_time": "2022-06-27T10:12:43.706Z"
   },
   {
    "duration": 51732,
    "start_time": "2022-06-27T10:12:43.749Z"
   },
   {
    "duration": 48,
    "start_time": "2022-06-27T10:13:35.482Z"
   },
   {
    "duration": 119,
    "start_time": "2022-06-27T10:13:35.532Z"
   },
   {
    "duration": 827,
    "start_time": "2022-06-27T10:13:35.652Z"
   },
   {
    "duration": 286,
    "start_time": "2022-06-27T10:13:36.481Z"
   },
   {
    "duration": 4950,
    "start_time": "2022-06-27T10:13:36.769Z"
   },
   {
    "duration": 2,
    "start_time": "2022-06-27T10:13:41.723Z"
   },
   {
    "duration": 14304,
    "start_time": "2022-06-27T10:13:41.727Z"
   },
   {
    "duration": 405,
    "start_time": "2022-06-27T10:13:56.033Z"
   },
   {
    "duration": 97960,
    "start_time": "2022-06-27T10:13:56.440Z"
   },
   {
    "duration": 60791,
    "start_time": "2022-06-27T10:16:51.302Z"
   },
   {
    "duration": 2593,
    "start_time": "2022-06-27T10:17:52.095Z"
   },
   {
    "duration": 94,
    "start_time": "2022-06-27T10:17:54.689Z"
   },
   {
    "duration": 426,
    "start_time": "2022-06-27T10:17:54.786Z"
   },
   {
    "duration": 264,
    "start_time": "2022-06-27T10:17:55.214Z"
   },
   {
    "duration": 237,
    "start_time": "2022-06-27T10:17:55.480Z"
   },
   {
    "duration": 244,
    "start_time": "2022-06-27T10:17:55.724Z"
   },
   {
    "duration": 228,
    "start_time": "2022-06-27T10:17:55.969Z"
   },
   {
    "duration": 51,
    "start_time": "2022-06-27T10:17:56.200Z"
   },
   {
    "duration": 52796,
    "start_time": "2022-06-27T10:17:56.255Z"
   },
   {
    "duration": 53,
    "start_time": "2022-06-27T10:18:49.053Z"
   },
   {
    "duration": 151,
    "start_time": "2022-06-27T10:18:49.108Z"
   },
   {
    "duration": 916,
    "start_time": "2022-06-27T10:18:49.260Z"
   },
   {
    "duration": 301,
    "start_time": "2022-06-27T10:18:50.178Z"
   },
   {
    "duration": 5502,
    "start_time": "2022-06-27T10:18:50.481Z"
   },
   {
    "duration": 3,
    "start_time": "2022-06-27T10:18:55.985Z"
   },
   {
    "duration": 27445,
    "start_time": "2022-06-27T10:18:55.989Z"
   },
   {
    "duration": 78479,
    "start_time": "2022-06-27T10:19:23.445Z"
   },
   {
    "duration": 105415,
    "start_time": "2022-06-27T10:20:41.928Z"
   },
   {
    "duration": 102,
    "start_time": "2022-06-27T10:23:27.651Z"
   },
   {
    "duration": 70094,
    "start_time": "2022-06-27T10:23:50.652Z"
   },
   {
    "duration": 2702,
    "start_time": "2022-06-27T10:26:15.740Z"
   },
   {
    "duration": 99,
    "start_time": "2022-06-27T10:26:18.445Z"
   },
   {
    "duration": 426,
    "start_time": "2022-06-27T10:26:18.547Z"
   },
   {
    "duration": 260,
    "start_time": "2022-06-27T10:26:21.054Z"
   },
   {
    "duration": 263,
    "start_time": "2022-06-27T10:26:22.322Z"
   },
   {
    "duration": 231,
    "start_time": "2022-06-27T10:26:23.444Z"
   },
   {
    "duration": 209,
    "start_time": "2022-06-27T10:26:24.489Z"
   },
   {
    "duration": 24,
    "start_time": "2022-06-27T10:26:25.444Z"
   },
   {
    "duration": 56003,
    "start_time": "2022-06-27T10:26:26.930Z"
   },
   {
    "duration": 50,
    "start_time": "2022-06-27T10:28:16.045Z"
   },
   {
    "duration": 147,
    "start_time": "2022-06-27T10:28:20.359Z"
   },
   {
    "duration": 1002,
    "start_time": "2022-06-27T10:28:22.644Z"
   },
   {
    "duration": 289,
    "start_time": "2022-06-27T10:28:25.240Z"
   },
   {
    "duration": 6172,
    "start_time": "2022-06-27T10:28:29.497Z"
   },
   {
    "duration": 29551,
    "start_time": "2022-06-27T10:28:43.598Z"
   },
   {
    "duration": 83962,
    "start_time": "2022-06-27T10:29:42.718Z"
   },
   {
    "duration": 109877,
    "start_time": "2022-06-27T10:31:42.888Z"
   },
   {
    "duration": 115007,
    "start_time": "2022-06-27T10:35:15.676Z"
   },
   {
    "duration": 54922,
    "start_time": "2022-06-27T10:41:00.548Z"
   },
   {
    "duration": 2449,
    "start_time": "2022-06-27T10:41:55.472Z"
   },
   {
    "duration": 102,
    "start_time": "2022-06-27T10:41:57.923Z"
   },
   {
    "duration": 384,
    "start_time": "2022-06-27T10:41:58.028Z"
   },
   {
    "duration": 246,
    "start_time": "2022-06-27T10:41:58.414Z"
   },
   {
    "duration": 226,
    "start_time": "2022-06-27T10:41:58.662Z"
   },
   {
    "duration": 228,
    "start_time": "2022-06-27T10:41:58.890Z"
   },
   {
    "duration": 226,
    "start_time": "2022-06-27T10:41:59.122Z"
   },
   {
    "duration": 42,
    "start_time": "2022-06-27T10:41:59.351Z"
   },
   {
    "duration": 47069,
    "start_time": "2022-06-27T10:41:59.397Z"
   },
   {
    "duration": 40,
    "start_time": "2022-06-27T10:42:46.468Z"
   },
   {
    "duration": 150,
    "start_time": "2022-06-27T10:42:46.510Z"
   },
   {
    "duration": 778,
    "start_time": "2022-06-27T10:42:46.662Z"
   },
   {
    "duration": 270,
    "start_time": "2022-06-27T10:42:47.442Z"
   },
   {
    "duration": 4797,
    "start_time": "2022-06-27T10:42:47.714Z"
   },
   {
    "duration": 18010,
    "start_time": "2022-06-27T10:42:52.513Z"
   },
   {
    "duration": 66901,
    "start_time": "2022-06-27T10:43:10.526Z"
   },
   {
    "duration": 94155,
    "start_time": "2022-06-27T10:44:17.428Z"
   },
   {
    "duration": 57304,
    "start_time": "2022-06-27T10:49:17.112Z"
   },
   {
    "duration": 2524,
    "start_time": "2022-06-27T10:50:14.418Z"
   },
   {
    "duration": 95,
    "start_time": "2022-06-27T10:50:16.944Z"
   },
   {
    "duration": 386,
    "start_time": "2022-06-27T10:50:17.041Z"
   },
   {
    "duration": 242,
    "start_time": "2022-06-27T10:50:17.429Z"
   },
   {
    "duration": 230,
    "start_time": "2022-06-27T10:50:17.674Z"
   },
   {
    "duration": 236,
    "start_time": "2022-06-27T10:50:17.906Z"
   },
   {
    "duration": 221,
    "start_time": "2022-06-27T10:50:18.144Z"
   },
   {
    "duration": 37,
    "start_time": "2022-06-27T10:50:18.367Z"
   },
   {
    "duration": 46149,
    "start_time": "2022-06-27T10:50:18.422Z"
   },
   {
    "duration": 66,
    "start_time": "2022-06-27T10:51:04.573Z"
   },
   {
    "duration": 149,
    "start_time": "2022-06-27T10:51:04.641Z"
   },
   {
    "duration": 824,
    "start_time": "2022-06-27T10:51:04.792Z"
   },
   {
    "duration": 217,
    "start_time": "2022-06-27T10:51:05.623Z"
   },
   {
    "duration": 4869,
    "start_time": "2022-06-27T10:51:05.842Z"
   },
   {
    "duration": 26217,
    "start_time": "2022-06-27T10:51:10.713Z"
   },
   {
    "duration": 72288,
    "start_time": "2022-06-27T10:51:36.932Z"
   },
   {
    "duration": 104110,
    "start_time": "2022-06-27T10:52:49.222Z"
   },
   {
    "duration": 65763,
    "start_time": "2022-06-27T11:01:43.475Z"
   },
   {
    "duration": 2762,
    "start_time": "2022-06-27T11:02:49.244Z"
   },
   {
    "duration": 89,
    "start_time": "2022-06-27T11:02:52.010Z"
   },
   {
    "duration": 411,
    "start_time": "2022-06-27T11:02:52.101Z"
   },
   {
    "duration": 293,
    "start_time": "2022-06-27T11:02:52.514Z"
   },
   {
    "duration": 7,
    "start_time": "2022-06-27T11:03:31.251Z"
   },
   {
    "duration": 834,
    "start_time": "2022-06-27T11:03:36.863Z"
   },
   {
    "duration": 83,
    "start_time": "2022-06-27T11:03:38.181Z"
   },
   {
    "duration": 414,
    "start_time": "2022-06-27T11:03:40.599Z"
   },
   {
    "duration": 264,
    "start_time": "2022-06-27T11:03:43.897Z"
   },
   {
    "duration": 235,
    "start_time": "2022-06-27T11:03:44.944Z"
   },
   {
    "duration": 265,
    "start_time": "2022-06-27T11:03:45.926Z"
   },
   {
    "duration": 256,
    "start_time": "2022-06-27T11:03:51.120Z"
   },
   {
    "duration": 27,
    "start_time": "2022-06-27T11:03:52.269Z"
   },
   {
    "duration": 51689,
    "start_time": "2022-06-27T11:03:53.709Z"
   },
   {
    "duration": 72,
    "start_time": "2022-06-27T11:04:45.401Z"
   },
   {
    "duration": 195,
    "start_time": "2022-06-27T11:10:58.689Z"
   },
   {
    "duration": 814,
    "start_time": "2022-06-27T11:11:03.218Z"
   },
   {
    "duration": 268,
    "start_time": "2022-06-27T11:11:05.135Z"
   },
   {
    "duration": 4811,
    "start_time": "2022-06-27T11:11:07.356Z"
   },
   {
    "duration": 17600,
    "start_time": "2022-06-27T11:11:25.029Z"
   },
   {
    "duration": 70053,
    "start_time": "2022-06-27T11:12:24.438Z"
   },
   {
    "duration": 95404,
    "start_time": "2022-06-27T11:13:59.165Z"
   },
   {
    "duration": 61919,
    "start_time": "2022-06-27T11:16:38.506Z"
   },
   {
    "duration": 2482,
    "start_time": "2022-06-27T11:17:40.427Z"
   },
   {
    "duration": 91,
    "start_time": "2022-06-27T11:17:42.911Z"
   },
   {
    "duration": 418,
    "start_time": "2022-06-27T11:17:43.005Z"
   },
   {
    "duration": 243,
    "start_time": "2022-06-27T11:17:43.425Z"
   },
   {
    "duration": 227,
    "start_time": "2022-06-27T11:17:43.670Z"
   },
   {
    "duration": 236,
    "start_time": "2022-06-27T11:17:43.899Z"
   },
   {
    "duration": 215,
    "start_time": "2022-06-27T11:17:44.137Z"
   },
   {
    "duration": 36,
    "start_time": "2022-06-27T11:17:44.354Z"
   },
   {
    "duration": 46310,
    "start_time": "2022-06-27T11:17:44.394Z"
   },
   {
    "duration": 65,
    "start_time": "2022-06-27T11:18:30.706Z"
   },
   {
    "duration": 157,
    "start_time": "2022-06-27T11:18:30.773Z"
   },
   {
    "duration": 857,
    "start_time": "2022-06-27T11:18:30.931Z"
   },
   {
    "duration": 227,
    "start_time": "2022-06-27T11:18:31.790Z"
   },
   {
    "duration": 4826,
    "start_time": "2022-06-27T11:18:32.022Z"
   },
   {
    "duration": 23674,
    "start_time": "2022-06-27T11:18:36.851Z"
   },
   {
    "duration": 73138,
    "start_time": "2022-06-27T11:19:00.526Z"
   },
   {
    "duration": 103824,
    "start_time": "2022-06-27T11:20:13.665Z"
   },
   {
    "duration": 108,
    "start_time": "2022-06-27T11:21:57.491Z"
   },
   {
    "duration": 0,
    "start_time": "2022-06-27T11:21:57.601Z"
   },
   {
    "duration": 0,
    "start_time": "2022-06-27T11:21:57.603Z"
   },
   {
    "duration": 0,
    "start_time": "2022-06-27T11:21:57.604Z"
   },
   {
    "duration": 0,
    "start_time": "2022-06-27T11:21:57.606Z"
   },
   {
    "duration": 54297,
    "start_time": "2022-06-27T11:27:05.062Z"
   },
   {
    "duration": 2574,
    "start_time": "2022-06-27T11:27:59.361Z"
   },
   {
    "duration": 104,
    "start_time": "2022-06-27T11:28:01.937Z"
   },
   {
    "duration": 388,
    "start_time": "2022-06-27T11:28:02.044Z"
   },
   {
    "duration": 293,
    "start_time": "2022-06-27T11:28:02.436Z"
   },
   {
    "duration": 247,
    "start_time": "2022-06-27T11:28:02.732Z"
   },
   {
    "duration": 227,
    "start_time": "2022-06-27T11:28:02.981Z"
   },
   {
    "duration": 209,
    "start_time": "2022-06-27T11:28:03.210Z"
   },
   {
    "duration": 45,
    "start_time": "2022-06-27T11:28:03.423Z"
   },
   {
    "duration": 45922,
    "start_time": "2022-06-27T11:28:03.472Z"
   },
   {
    "duration": 65,
    "start_time": "2022-06-27T11:28:49.396Z"
   },
   {
    "duration": 119,
    "start_time": "2022-06-27T11:28:49.463Z"
   },
   {
    "duration": 942,
    "start_time": "2022-06-27T11:28:49.584Z"
   },
   {
    "duration": 120,
    "start_time": "2022-06-27T11:28:50.528Z"
   },
   {
    "duration": 4825,
    "start_time": "2022-06-27T11:28:50.650Z"
   },
   {
    "duration": 27153,
    "start_time": "2022-06-27T11:28:55.476Z"
   },
   {
    "duration": 85106,
    "start_time": "2022-06-27T11:29:22.631Z"
   },
   {
    "duration": 130793,
    "start_time": "2022-06-27T11:30:47.738Z"
   },
   {
    "duration": 74,
    "start_time": "2022-06-27T11:32:58.533Z"
   },
   {
    "duration": 0,
    "start_time": "2022-06-27T11:32:58.609Z"
   },
   {
    "duration": 0,
    "start_time": "2022-06-27T11:32:58.611Z"
   },
   {
    "duration": 0,
    "start_time": "2022-06-27T11:32:58.613Z"
   },
   {
    "duration": 0,
    "start_time": "2022-06-27T11:32:58.614Z"
   },
   {
    "duration": 405,
    "start_time": "2022-06-27T11:38:32.273Z"
   },
   {
    "duration": 127,
    "start_time": "2022-06-27T11:38:35.131Z"
   },
   {
    "duration": 57065,
    "start_time": "2022-06-27T11:42:21.385Z"
   },
   {
    "duration": 2538,
    "start_time": "2022-06-27T11:43:18.453Z"
   },
   {
    "duration": 91,
    "start_time": "2022-06-27T11:43:20.993Z"
   },
   {
    "duration": 399,
    "start_time": "2022-06-27T11:43:21.085Z"
   },
   {
    "duration": 256,
    "start_time": "2022-06-27T11:43:21.486Z"
   },
   {
    "duration": 236,
    "start_time": "2022-06-27T11:43:21.743Z"
   },
   {
    "duration": 236,
    "start_time": "2022-06-27T11:43:21.981Z"
   },
   {
    "duration": 231,
    "start_time": "2022-06-27T11:43:22.222Z"
   },
   {
    "duration": 31,
    "start_time": "2022-06-27T11:43:22.455Z"
   },
   {
    "duration": 45777,
    "start_time": "2022-06-27T11:43:22.489Z"
   },
   {
    "duration": 71,
    "start_time": "2022-06-27T11:44:08.268Z"
   },
   {
    "duration": 194,
    "start_time": "2022-06-27T11:44:08.341Z"
   },
   {
    "duration": 973,
    "start_time": "2022-06-27T11:44:08.537Z"
   },
   {
    "duration": 113,
    "start_time": "2022-06-27T11:44:09.522Z"
   },
   {
    "duration": 4890,
    "start_time": "2022-06-27T11:44:09.637Z"
   },
   {
    "duration": 30503,
    "start_time": "2022-06-27T11:44:14.529Z"
   },
   {
    "duration": 82797,
    "start_time": "2022-06-27T11:44:45.036Z"
   },
   {
    "duration": 123254,
    "start_time": "2022-06-27T11:46:07.835Z"
   },
   {
    "duration": 2,
    "start_time": "2022-06-27T11:48:11.091Z"
   },
   {
    "duration": 71266,
    "start_time": "2022-06-27T11:48:56.970Z"
   },
   {
    "duration": 2444,
    "start_time": "2022-06-27T11:50:08.238Z"
   },
   {
    "duration": 91,
    "start_time": "2022-06-27T11:50:10.684Z"
   },
   {
    "duration": 385,
    "start_time": "2022-06-27T11:50:10.777Z"
   },
   {
    "duration": 240,
    "start_time": "2022-06-27T11:50:11.164Z"
   },
   {
    "duration": 233,
    "start_time": "2022-06-27T11:50:11.405Z"
   },
   {
    "duration": 231,
    "start_time": "2022-06-27T11:50:11.640Z"
   },
   {
    "duration": 212,
    "start_time": "2022-06-27T11:50:11.873Z"
   },
   {
    "duration": 45,
    "start_time": "2022-06-27T11:50:12.087Z"
   },
   {
    "duration": 46778,
    "start_time": "2022-06-27T11:50:12.136Z"
   },
   {
    "duration": 91,
    "start_time": "2022-06-27T11:50:58.916Z"
   },
   {
    "duration": 151,
    "start_time": "2022-06-27T11:50:59.009Z"
   },
   {
    "duration": 948,
    "start_time": "2022-06-27T11:50:59.162Z"
   },
   {
    "duration": 110,
    "start_time": "2022-06-27T11:51:00.124Z"
   },
   {
    "duration": 4769,
    "start_time": "2022-06-27T11:51:00.236Z"
   },
   {
    "duration": 32719,
    "start_time": "2022-06-27T11:51:05.007Z"
   },
   {
    "duration": 84633,
    "start_time": "2022-06-27T11:51:37.729Z"
   },
   {
    "duration": 126110,
    "start_time": "2022-06-27T11:53:02.365Z"
   },
   {
    "duration": 3,
    "start_time": "2022-06-27T11:55:08.477Z"
   },
   {
    "duration": 6,
    "start_time": "2022-06-27T11:55:08.482Z"
   },
   {
    "duration": 15,
    "start_time": "2022-06-27T11:55:08.490Z"
   },
   {
    "duration": 399,
    "start_time": "2022-06-27T11:55:08.507Z"
   },
   {
    "duration": 159,
    "start_time": "2022-06-27T11:55:08.908Z"
   },
   {
    "duration": 55077,
    "start_time": "2022-06-27T11:55:56.916Z"
   },
   {
    "duration": 876,
    "start_time": "2022-06-27T11:56:51.996Z"
   },
   {
    "duration": 97,
    "start_time": "2022-06-27T11:56:52.874Z"
   },
   {
    "duration": 435,
    "start_time": "2022-06-27T11:56:52.973Z"
   },
   {
    "duration": 244,
    "start_time": "2022-06-27T11:56:53.410Z"
   },
   {
    "duration": 235,
    "start_time": "2022-06-27T11:56:53.656Z"
   },
   {
    "duration": 278,
    "start_time": "2022-06-27T11:56:53.893Z"
   },
   {
    "duration": 216,
    "start_time": "2022-06-27T11:56:54.173Z"
   },
   {
    "duration": 53,
    "start_time": "2022-06-27T11:56:54.391Z"
   },
   {
    "duration": 51814,
    "start_time": "2022-06-27T11:56:54.449Z"
   },
   {
    "duration": 72,
    "start_time": "2022-06-27T11:57:46.265Z"
   },
   {
    "duration": 218,
    "start_time": "2022-06-27T11:57:46.339Z"
   },
   {
    "duration": 949,
    "start_time": "2022-06-27T11:57:46.559Z"
   },
   {
    "duration": 124,
    "start_time": "2022-06-27T11:57:47.510Z"
   },
   {
    "duration": 5111,
    "start_time": "2022-06-27T11:57:47.636Z"
   },
   {
    "duration": 25780,
    "start_time": "2022-06-27T11:57:52.753Z"
   },
   {
    "duration": 88576,
    "start_time": "2022-06-27T11:58:18.536Z"
   },
   {
    "duration": 132744,
    "start_time": "2022-06-27T11:59:47.114Z"
   },
   {
    "duration": 3,
    "start_time": "2022-06-27T12:01:59.860Z"
   },
   {
    "duration": 14,
    "start_time": "2022-06-27T12:01:59.865Z"
   },
   {
    "duration": 16,
    "start_time": "2022-06-27T12:01:59.881Z"
   },
   {
    "duration": 458,
    "start_time": "2022-06-27T12:01:59.899Z"
   },
   {
    "duration": 146,
    "start_time": "2022-06-27T12:02:00.359Z"
   }
  ],
  "kernelspec": {
   "display_name": "Python 3 (ipykernel)",
   "language": "python",
   "name": "python3"
  },
  "language_info": {
   "codemirror_mode": {
    "name": "ipython",
    "version": 3
   },
   "file_extension": ".py",
   "mimetype": "text/x-python",
   "name": "python",
   "nbconvert_exporter": "python",
   "pygments_lexer": "ipython3",
   "version": "3.9.5"
  },
  "toc": {
   "base_numbering": 1,
   "nav_menu": {},
   "number_sections": true,
   "sideBar": true,
   "skip_h1_title": true,
   "title_cell": "Содержание",
   "title_sidebar": "Contents",
   "toc_cell": true,
   "toc_position": {
    "height": "calc(100% - 180px)",
    "left": "10px",
    "top": "150px",
    "width": "302.391px"
   },
   "toc_section_display": true,
   "toc_window_display": false
  }
 },
 "nbformat": 4,
 "nbformat_minor": 2
}
