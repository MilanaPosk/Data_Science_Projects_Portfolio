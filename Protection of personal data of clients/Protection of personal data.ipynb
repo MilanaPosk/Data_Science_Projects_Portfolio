{
 "cells": [
  {
   "cell_type": "markdown",
   "metadata": {},
   "source": [
    "## Загрузка данных"
   ]
  },
  {
   "cell_type": "code",
   "execution_count": 1,
   "metadata": {},
   "outputs": [],
   "source": [
    "import pandas as pd\n",
    "import numpy as np\n",
    "from sklearn.metrics import r2_score"
   ]
  },
  {
   "cell_type": "code",
   "execution_count": 2,
   "metadata": {},
   "outputs": [],
   "source": [
    "data = pd.read_csv('/datasets/insurance.csv')"
   ]
  },
  {
   "cell_type": "code",
   "execution_count": 3,
   "metadata": {
    "scrolled": true
   },
   "outputs": [
    {
     "data": {
      "text/html": [
       "<div>\n",
       "<style scoped>\n",
       "    .dataframe tbody tr th:only-of-type {\n",
       "        vertical-align: middle;\n",
       "    }\n",
       "\n",
       "    .dataframe tbody tr th {\n",
       "        vertical-align: top;\n",
       "    }\n",
       "\n",
       "    .dataframe thead th {\n",
       "        text-align: right;\n",
       "    }\n",
       "</style>\n",
       "<table border=\"1\" class=\"dataframe\">\n",
       "  <thead>\n",
       "    <tr style=\"text-align: right;\">\n",
       "      <th></th>\n",
       "      <th>Пол</th>\n",
       "      <th>Возраст</th>\n",
       "      <th>Зарплата</th>\n",
       "      <th>Члены семьи</th>\n",
       "      <th>Страховые выплаты</th>\n",
       "    </tr>\n",
       "  </thead>\n",
       "  <tbody>\n",
       "    <tr>\n",
       "      <th>0</th>\n",
       "      <td>1</td>\n",
       "      <td>41.0</td>\n",
       "      <td>49600.0</td>\n",
       "      <td>1</td>\n",
       "      <td>0</td>\n",
       "    </tr>\n",
       "    <tr>\n",
       "      <th>1</th>\n",
       "      <td>0</td>\n",
       "      <td>46.0</td>\n",
       "      <td>38000.0</td>\n",
       "      <td>1</td>\n",
       "      <td>1</td>\n",
       "    </tr>\n",
       "    <tr>\n",
       "      <th>2</th>\n",
       "      <td>0</td>\n",
       "      <td>29.0</td>\n",
       "      <td>21000.0</td>\n",
       "      <td>0</td>\n",
       "      <td>0</td>\n",
       "    </tr>\n",
       "    <tr>\n",
       "      <th>3</th>\n",
       "      <td>0</td>\n",
       "      <td>21.0</td>\n",
       "      <td>41700.0</td>\n",
       "      <td>2</td>\n",
       "      <td>0</td>\n",
       "    </tr>\n",
       "    <tr>\n",
       "      <th>4</th>\n",
       "      <td>1</td>\n",
       "      <td>28.0</td>\n",
       "      <td>26100.0</td>\n",
       "      <td>0</td>\n",
       "      <td>0</td>\n",
       "    </tr>\n",
       "  </tbody>\n",
       "</table>\n",
       "</div>"
      ],
      "text/plain": [
       "   Пол  Возраст  Зарплата  Члены семьи  Страховые выплаты\n",
       "0    1     41.0   49600.0            1                  0\n",
       "1    0     46.0   38000.0            1                  1\n",
       "2    0     29.0   21000.0            0                  0\n",
       "3    0     21.0   41700.0            2                  0\n",
       "4    1     28.0   26100.0            0                  0"
      ]
     },
     "metadata": {},
     "output_type": "display_data"
    },
    {
     "name": "stdout",
     "output_type": "stream",
     "text": [
      "<class 'pandas.core.frame.DataFrame'>\n",
      "RangeIndex: 5000 entries, 0 to 4999\n",
      "Data columns (total 5 columns):\n",
      " #   Column             Non-Null Count  Dtype  \n",
      "---  ------             --------------  -----  \n",
      " 0   Пол                5000 non-null   int64  \n",
      " 1   Возраст            5000 non-null   float64\n",
      " 2   Зарплата           5000 non-null   float64\n",
      " 3   Члены семьи        5000 non-null   int64  \n",
      " 4   Страховые выплаты  5000 non-null   int64  \n",
      "dtypes: float64(2), int64(3)\n",
      "memory usage: 195.4 KB\n"
     ]
    },
    {
     "data": {
      "text/plain": [
       "None"
      ]
     },
     "metadata": {},
     "output_type": "display_data"
    },
    {
     "data": {
      "text/html": [
       "<div>\n",
       "<style scoped>\n",
       "    .dataframe tbody tr th:only-of-type {\n",
       "        vertical-align: middle;\n",
       "    }\n",
       "\n",
       "    .dataframe tbody tr th {\n",
       "        vertical-align: top;\n",
       "    }\n",
       "\n",
       "    .dataframe thead th {\n",
       "        text-align: right;\n",
       "    }\n",
       "</style>\n",
       "<table border=\"1\" class=\"dataframe\">\n",
       "  <thead>\n",
       "    <tr style=\"text-align: right;\">\n",
       "      <th></th>\n",
       "      <th>Пол</th>\n",
       "      <th>Возраст</th>\n",
       "      <th>Зарплата</th>\n",
       "      <th>Члены семьи</th>\n",
       "      <th>Страховые выплаты</th>\n",
       "    </tr>\n",
       "  </thead>\n",
       "  <tbody>\n",
       "    <tr>\n",
       "      <th>count</th>\n",
       "      <td>5000.000000</td>\n",
       "      <td>5000.000000</td>\n",
       "      <td>5000.000000</td>\n",
       "      <td>5000.000000</td>\n",
       "      <td>5000.000000</td>\n",
       "    </tr>\n",
       "    <tr>\n",
       "      <th>mean</th>\n",
       "      <td>0.499000</td>\n",
       "      <td>30.952800</td>\n",
       "      <td>39916.360000</td>\n",
       "      <td>1.194200</td>\n",
       "      <td>0.148000</td>\n",
       "    </tr>\n",
       "    <tr>\n",
       "      <th>std</th>\n",
       "      <td>0.500049</td>\n",
       "      <td>8.440807</td>\n",
       "      <td>9900.083569</td>\n",
       "      <td>1.091387</td>\n",
       "      <td>0.463183</td>\n",
       "    </tr>\n",
       "    <tr>\n",
       "      <th>min</th>\n",
       "      <td>0.000000</td>\n",
       "      <td>18.000000</td>\n",
       "      <td>5300.000000</td>\n",
       "      <td>0.000000</td>\n",
       "      <td>0.000000</td>\n",
       "    </tr>\n",
       "    <tr>\n",
       "      <th>25%</th>\n",
       "      <td>0.000000</td>\n",
       "      <td>24.000000</td>\n",
       "      <td>33300.000000</td>\n",
       "      <td>0.000000</td>\n",
       "      <td>0.000000</td>\n",
       "    </tr>\n",
       "    <tr>\n",
       "      <th>50%</th>\n",
       "      <td>0.000000</td>\n",
       "      <td>30.000000</td>\n",
       "      <td>40200.000000</td>\n",
       "      <td>1.000000</td>\n",
       "      <td>0.000000</td>\n",
       "    </tr>\n",
       "    <tr>\n",
       "      <th>75%</th>\n",
       "      <td>1.000000</td>\n",
       "      <td>37.000000</td>\n",
       "      <td>46600.000000</td>\n",
       "      <td>2.000000</td>\n",
       "      <td>0.000000</td>\n",
       "    </tr>\n",
       "    <tr>\n",
       "      <th>max</th>\n",
       "      <td>1.000000</td>\n",
       "      <td>65.000000</td>\n",
       "      <td>79000.000000</td>\n",
       "      <td>6.000000</td>\n",
       "      <td>5.000000</td>\n",
       "    </tr>\n",
       "  </tbody>\n",
       "</table>\n",
       "</div>"
      ],
      "text/plain": [
       "               Пол      Возраст      Зарплата  Члены семьи  Страховые выплаты\n",
       "count  5000.000000  5000.000000   5000.000000  5000.000000        5000.000000\n",
       "mean      0.499000    30.952800  39916.360000     1.194200           0.148000\n",
       "std       0.500049     8.440807   9900.083569     1.091387           0.463183\n",
       "min       0.000000    18.000000   5300.000000     0.000000           0.000000\n",
       "25%       0.000000    24.000000  33300.000000     0.000000           0.000000\n",
       "50%       0.000000    30.000000  40200.000000     1.000000           0.000000\n",
       "75%       1.000000    37.000000  46600.000000     2.000000           0.000000\n",
       "max       1.000000    65.000000  79000.000000     6.000000           5.000000"
      ]
     },
     "metadata": {},
     "output_type": "display_data"
    }
   ],
   "source": [
    "display(data.head())\n",
    "display(data.info())\n",
    "display(data.describe())"
   ]
  },
  {
   "cell_type": "code",
   "execution_count": 4,
   "metadata": {},
   "outputs": [
    {
     "data": {
      "text/plain": [
       "0    2505\n",
       "1    2495\n",
       "Name: Пол, dtype: int64"
      ]
     },
     "execution_count": 4,
     "metadata": {},
     "output_type": "execute_result"
    }
   ],
   "source": [
    "data['Пол'].value_counts()"
   ]
  },
  {
   "cell_type": "code",
   "execution_count": 5,
   "metadata": {},
   "outputs": [
    {
     "data": {
      "text/plain": [
       "1    1814\n",
       "0    1513\n",
       "2    1071\n",
       "3     439\n",
       "4     124\n",
       "5      32\n",
       "6       7\n",
       "Name: Члены семьи, dtype: int64"
      ]
     },
     "execution_count": 5,
     "metadata": {},
     "output_type": "execute_result"
    }
   ],
   "source": [
    "data['Члены семьи'].value_counts()"
   ]
  },
  {
   "cell_type": "code",
   "execution_count": 6,
   "metadata": {},
   "outputs": [],
   "source": [
    "data['Возраст'] = data['Возраст'].astype(int)\n",
    "data['Зарплата'] = data['Зарплата'].astype(int)"
   ]
  },
  {
   "cell_type": "code",
   "execution_count": 7,
   "metadata": {
    "scrolled": true
   },
   "outputs": [
    {
     "data": {
      "text/html": [
       "<div>\n",
       "<style scoped>\n",
       "    .dataframe tbody tr th:only-of-type {\n",
       "        vertical-align: middle;\n",
       "    }\n",
       "\n",
       "    .dataframe tbody tr th {\n",
       "        vertical-align: top;\n",
       "    }\n",
       "\n",
       "    .dataframe thead th {\n",
       "        text-align: right;\n",
       "    }\n",
       "</style>\n",
       "<table border=\"1\" class=\"dataframe\">\n",
       "  <thead>\n",
       "    <tr style=\"text-align: right;\">\n",
       "      <th></th>\n",
       "      <th>Пол</th>\n",
       "      <th>Возраст</th>\n",
       "      <th>Зарплата</th>\n",
       "      <th>Члены семьи</th>\n",
       "      <th>Страховые выплаты</th>\n",
       "    </tr>\n",
       "  </thead>\n",
       "  <tbody>\n",
       "    <tr>\n",
       "      <th>0</th>\n",
       "      <td>1</td>\n",
       "      <td>41</td>\n",
       "      <td>49600</td>\n",
       "      <td>1</td>\n",
       "      <td>0</td>\n",
       "    </tr>\n",
       "    <tr>\n",
       "      <th>1</th>\n",
       "      <td>0</td>\n",
       "      <td>46</td>\n",
       "      <td>38000</td>\n",
       "      <td>1</td>\n",
       "      <td>1</td>\n",
       "    </tr>\n",
       "    <tr>\n",
       "      <th>2</th>\n",
       "      <td>0</td>\n",
       "      <td>29</td>\n",
       "      <td>21000</td>\n",
       "      <td>0</td>\n",
       "      <td>0</td>\n",
       "    </tr>\n",
       "    <tr>\n",
       "      <th>3</th>\n",
       "      <td>0</td>\n",
       "      <td>21</td>\n",
       "      <td>41700</td>\n",
       "      <td>2</td>\n",
       "      <td>0</td>\n",
       "    </tr>\n",
       "    <tr>\n",
       "      <th>4</th>\n",
       "      <td>1</td>\n",
       "      <td>28</td>\n",
       "      <td>26100</td>\n",
       "      <td>0</td>\n",
       "      <td>0</td>\n",
       "    </tr>\n",
       "  </tbody>\n",
       "</table>\n",
       "</div>"
      ],
      "text/plain": [
       "   Пол  Возраст  Зарплата  Члены семьи  Страховые выплаты\n",
       "0    1       41     49600            1                  0\n",
       "1    0       46     38000            1                  1\n",
       "2    0       29     21000            0                  0\n",
       "3    0       21     41700            2                  0\n",
       "4    1       28     26100            0                  0"
      ]
     },
     "metadata": {},
     "output_type": "display_data"
    },
    {
     "name": "stdout",
     "output_type": "stream",
     "text": [
      "<class 'pandas.core.frame.DataFrame'>\n",
      "RangeIndex: 5000 entries, 0 to 4999\n",
      "Data columns (total 5 columns):\n",
      " #   Column             Non-Null Count  Dtype\n",
      "---  ------             --------------  -----\n",
      " 0   Пол                5000 non-null   int64\n",
      " 1   Возраст            5000 non-null   int64\n",
      " 2   Зарплата           5000 non-null   int64\n",
      " 3   Члены семьи        5000 non-null   int64\n",
      " 4   Страховые выплаты  5000 non-null   int64\n",
      "dtypes: int64(5)\n",
      "memory usage: 195.4 KB\n"
     ]
    },
    {
     "data": {
      "text/plain": [
       "None"
      ]
     },
     "metadata": {},
     "output_type": "display_data"
    }
   ],
   "source": [
    "display(data.head())\n",
    "display(data.info())"
   ]
  },
  {
   "cell_type": "markdown",
   "metadata": {},
   "source": [
    "**Вывод:**\n",
    "В датасете 5000 строк и пять столбцов. Пропусков нет. Произвели замену типа данных на количественные в столбцах \"Возраст\" и \"Зарплата\"."
   ]
  },
  {
   "cell_type": "markdown",
   "metadata": {},
   "source": [
    "## Умножение матриц"
   ]
  },
  {
   "cell_type": "markdown",
   "metadata": {},
   "source": [
    "Обозначения:\n",
    "\n",
    "- $X$ — матрица признаков (нулевой столбец состоит из единиц)\n",
    "\n",
    "- $y$ — вектор целевого признака\n",
    "\n",
    "- $P$ — матрица, на которую умножаются признаки\n",
    "\n",
    "- $w$ — вектор весов линейной регрессии (нулевой элемент равен сдвигу)"
   ]
  },
  {
   "cell_type": "markdown",
   "metadata": {},
   "source": [
    "Предсказания:\n",
    "\n",
    "$$\n",
    "a = Xw\n",
    "$$\n",
    "\n",
    "Задача обучения:\n",
    "\n",
    "$$\n",
    "w = \\arg\\min_w MSE(Xw, y)\n",
    "$$\n",
    "\n",
    "Формула обучения:\n",
    "\n",
    "$$\n",
    "w = (X^T X)^{-1} X^T y\n",
    "$$"
   ]
  },
  {
   "cell_type": "code",
   "execution_count": 8,
   "metadata": {},
   "outputs": [],
   "source": [
    "features = data.drop('Страховые выплаты', axis=1)\n",
    "target = data['Страховые выплаты']"
   ]
  },
  {
   "cell_type": "code",
   "execution_count": 9,
   "metadata": {},
   "outputs": [
    {
     "name": "stdout",
     "output_type": "stream",
     "text": [
      "R2 0.42494550308169177\n"
     ]
    }
   ],
   "source": [
    "class LinearRegression:\n",
    "    def fit(self, train_features, train_target):\n",
    "        X = np.concatenate((np.ones((train_features.shape[0], 1)), train_features), axis=1)\n",
    "        y = train_target\n",
    "        w = np.linalg.inv(X.T.dot(X)).dot(X.T).dot(y)\n",
    "        self.w = w[1:]\n",
    "        self.w0 = w[0]\n",
    "\n",
    "    def predict(self, test_features):\n",
    "        return test_features.dot(self.w) + self.w0\n",
    "    \n",
    "model = LinearRegression()\n",
    "model.fit(features, target)\n",
    "predictions = model.predict(features)\n",
    "print(\"R2\", r2_score(target, predictions))"
   ]
  },
  {
   "cell_type": "markdown",
   "metadata": {},
   "source": [
    "**Ответ:** Метрика R2 = 0.42494550308169177. \n",
    "\n",
    "**Обоснование:** Если перемножать фичи на коэффициент, то на результат это не повлияет"
   ]
  },
  {
   "cell_type": "markdown",
   "metadata": {},
   "source": [
    "## Алгоритм преобразования"
   ]
  },
  {
   "cell_type": "markdown",
   "metadata": {},
   "source": [
    "**Алгоритм**\n",
    "\n",
    "Умножим наши признаки на случайно взятую обратимую матрицу ($X*P$) и получим новые признаки, при обучении которых появится новый вектор предсказаний $a'$. Проверим, что $a'$ не будет сильно отличаться от изначальных предсказаний $a$:\n",
    "\n",
    "$E$ - единичная матрица\n",
    "$$\n",
    "E = XX^{-1}\n",
    "$$\n",
    "$$\n",
    "Ew = w\n",
    "$$\n",
    "\n",
    "Преобразуем предсказание:\n",
    "\n",
    "$$\n",
    "a = Xw \\longrightarrow XEw \\longrightarrow XPP^{-1}w \\longrightarrow (XP)w' = a'\n",
    "$$\n",
    "\n",
    "Преобразуем формулу обучения, перемножив на рандомную обратную матрицу $Р$:\n",
    "\n",
    "$$\n",
    "w = (X^T X)^{-1} X^T y \\longrightarrow \n",
    "$$\n",
    "$$\n",
    "w' = ((XP)^T XP)^{-1} (XP)^T y \\longrightarrow\n",
    "$$\n",
    "$$\n",
    "w' = (P^TX^T XP)^{-1} P^TX^T y\n",
    "$$"
   ]
  },
  {
   "cell_type": "markdown",
   "metadata": {},
   "source": [
    "Подставляем $w'$ в формулу $a'$:\n",
    "$$\n",
    "a' = XP(X^TP^T XP)^{-1} P^TX^T y \\longrightarrow\n",
    "$$\n",
    "$$\n",
    "a' = XP(P^{-1}(X^TX)^{-1}P^{T^{-1}})P^TX^Ty \\longrightarrow\n",
    "$$\n",
    "$$\n",
    "a' = XE(X^TX)^{-1}EX^Ty \\longrightarrow\n",
    "$$\n",
    "$$\n",
    "a' = X(X^TX)^{-1}X^Ty\n",
    "$$"
   ]
  },
  {
   "cell_type": "markdown",
   "metadata": {},
   "source": [
    "**Обоснование**\n",
    "\n",
    "Преобразование показало, что при дополнительном умножении признаков на случайно взятую матрицу, получаем те же предсказания. Это означает, что мы можем кодировать данные клиентов, без риска ухудшения модели."
   ]
  },
  {
   "cell_type": "markdown",
   "metadata": {},
   "source": [
    "## Проверка алгоритма"
   ]
  },
  {
   "cell_type": "code",
   "execution_count": 10,
   "metadata": {},
   "outputs": [
    {
     "data": {
      "text/plain": [
       "array([[148889, 397051,  99324, 297978],\n",
       "       [114096, 304278,  76138, 228422],\n",
       "       [ 63058, 168174,  42087, 126261],\n",
       "       ...,\n",
       "       [101748, 271324,  67860, 203596],\n",
       "       [ 98159, 261741,  65467, 196423],\n",
       "       [121863, 324973,  81285, 243861]])"
      ]
     },
     "execution_count": 10,
     "metadata": {},
     "output_type": "execute_result"
    }
   ],
   "source": [
    "# Умножаем фичи на рандомную матрицу\n",
    "features1 = np.dot(features, np.random.randint(10, size=(4,4)))\n",
    "features1"
   ]
  },
  {
   "cell_type": "code",
   "execution_count": 11,
   "metadata": {
    "scrolled": false
   },
   "outputs": [
    {
     "name": "stdout",
     "output_type": "stream",
     "text": [
      "R2 0.4249455030816396\n"
     ]
    }
   ],
   "source": [
    "model1 = LinearRegression()\n",
    "model1.fit(features1, target)\n",
    "predictions1 = model1.predict(features1)\n",
    "print(\"R2\", r2_score(target, predictions1))"
   ]
  },
  {
   "cell_type": "markdown",
   "metadata": {},
   "source": [
    "## Общий вывод\n",
    "\n",
    "При сравнении модели Линейной регрессии при стандартном наборе признаков и модели с признаками, перемноженными на коэффициент, в виде рандомной обратной матрице, получили метрику R2 одинаковой (или приблизительно равной). Это означает, что мы можем зашифровывать данные клиентов без потери качества модели обучения."
   ]
  }
 ],
 "metadata": {
  "ExecuteTimeLog": [
   {
    "duration": 723,
    "start_time": "2022-05-18T16:28:20.092Z"
   },
   {
    "duration": 74,
    "start_time": "2022-05-18T16:28:21.584Z"
   },
   {
    "duration": 57,
    "start_time": "2022-05-18T16:28:22.445Z"
   },
   {
    "duration": 54,
    "start_time": "2022-05-18T16:28:44.084Z"
   },
   {
    "duration": 49,
    "start_time": "2022-05-18T16:28:55.800Z"
   },
   {
    "duration": 7,
    "start_time": "2022-05-18T16:32:59.746Z"
   },
   {
    "duration": 11,
    "start_time": "2022-05-18T16:33:28.989Z"
   },
   {
    "duration": 6,
    "start_time": "2022-05-18T16:33:59.749Z"
   },
   {
    "duration": 3,
    "start_time": "2022-05-18T16:36:43.615Z"
   },
   {
    "duration": 4,
    "start_time": "2022-05-18T16:37:21.731Z"
   },
   {
    "duration": 11,
    "start_time": "2022-05-18T16:37:33.644Z"
   },
   {
    "duration": 16,
    "start_time": "2022-05-18T16:37:58.226Z"
   },
   {
    "duration": 159,
    "start_time": "2022-05-18T17:04:42.863Z"
   },
   {
    "duration": 2,
    "start_time": "2022-05-18T17:05:09.728Z"
   },
   {
    "duration": 12,
    "start_time": "2022-05-18T17:05:16.019Z"
   },
   {
    "duration": 1132,
    "start_time": "2022-05-18T17:05:50.528Z"
   },
   {
    "duration": 23,
    "start_time": "2022-05-18T17:05:54.688Z"
   },
   {
    "duration": 13,
    "start_time": "2022-05-18T17:08:10.625Z"
   },
   {
    "duration": 91,
    "start_time": "2022-05-18T17:10:35.581Z"
   },
   {
    "duration": 19,
    "start_time": "2022-05-19T18:38:19.987Z"
   },
   {
    "duration": 883,
    "start_time": "2022-05-20T18:36:54.521Z"
   },
   {
    "duration": 93,
    "start_time": "2022-05-20T18:36:55.406Z"
   },
   {
    "duration": 42,
    "start_time": "2022-05-20T18:36:55.501Z"
   },
   {
    "duration": 5,
    "start_time": "2022-05-20T18:36:55.545Z"
   },
   {
    "duration": 6,
    "start_time": "2022-05-20T18:36:55.552Z"
   },
   {
    "duration": 5,
    "start_time": "2022-05-20T18:36:55.560Z"
   },
   {
    "duration": 31,
    "start_time": "2022-05-20T18:36:55.566Z"
   },
   {
    "duration": 4,
    "start_time": "2022-05-20T18:36:55.599Z"
   },
   {
    "duration": 81,
    "start_time": "2022-05-20T18:36:55.605Z"
   },
   {
    "duration": 97,
    "start_time": "2022-05-20T18:36:55.690Z"
   },
   {
    "duration": 95,
    "start_time": "2022-05-20T18:36:55.790Z"
   },
   {
    "duration": 6,
    "start_time": "2022-05-20T19:24:59.112Z"
   },
   {
    "duration": 5,
    "start_time": "2022-05-20T19:25:22.939Z"
   },
   {
    "duration": 6,
    "start_time": "2022-05-20T19:25:27.818Z"
   },
   {
    "duration": 10,
    "start_time": "2022-05-20T19:25:49.785Z"
   },
   {
    "duration": 797,
    "start_time": "2022-05-20T19:52:28.230Z"
   },
   {
    "duration": 29,
    "start_time": "2022-05-20T19:52:29.029Z"
   },
   {
    "duration": 46,
    "start_time": "2022-05-20T19:52:29.060Z"
   },
   {
    "duration": 7,
    "start_time": "2022-05-20T19:52:29.107Z"
   },
   {
    "duration": 15,
    "start_time": "2022-05-20T19:52:29.116Z"
   },
   {
    "duration": 6,
    "start_time": "2022-05-20T19:52:29.132Z"
   },
   {
    "duration": 18,
    "start_time": "2022-05-20T19:52:29.140Z"
   },
   {
    "duration": 24,
    "start_time": "2022-05-20T19:52:29.159Z"
   },
   {
    "duration": 14,
    "start_time": "2022-05-20T19:52:29.185Z"
   },
   {
    "duration": 8,
    "start_time": "2022-05-20T19:52:29.285Z"
   },
   {
    "duration": 199,
    "start_time": "2022-05-20T19:52:29.385Z"
   },
   {
    "duration": 53,
    "start_time": "2022-05-20T19:56:35.398Z"
   },
   {
    "duration": 793,
    "start_time": "2022-05-20T19:57:11.918Z"
   },
   {
    "duration": 27,
    "start_time": "2022-05-20T19:57:12.713Z"
   },
   {
    "duration": 42,
    "start_time": "2022-05-20T19:57:12.742Z"
   },
   {
    "duration": 4,
    "start_time": "2022-05-20T19:57:12.786Z"
   },
   {
    "duration": 6,
    "start_time": "2022-05-20T19:57:12.792Z"
   },
   {
    "duration": 5,
    "start_time": "2022-05-20T19:57:12.800Z"
   },
   {
    "duration": 18,
    "start_time": "2022-05-20T19:57:12.806Z"
   },
   {
    "duration": 4,
    "start_time": "2022-05-20T19:57:12.825Z"
   },
   {
    "duration": 57,
    "start_time": "2022-05-20T19:57:12.830Z"
   },
   {
    "duration": 102,
    "start_time": "2022-05-20T19:57:12.891Z"
   },
   {
    "duration": 274,
    "start_time": "2022-05-20T19:57:12.995Z"
   },
   {
    "duration": 6,
    "start_time": "2022-05-20T19:59:01.045Z"
   },
   {
    "duration": 56,
    "start_time": "2022-05-20T19:59:02.232Z"
   },
   {
    "duration": 7,
    "start_time": "2022-05-20T20:03:18.709Z"
   },
   {
    "duration": 65,
    "start_time": "2022-05-20T20:03:20.628Z"
   },
   {
    "duration": 13,
    "start_time": "2022-05-20T20:04:10.762Z"
   },
   {
    "duration": 6,
    "start_time": "2022-05-20T20:07:55.379Z"
   },
   {
    "duration": 12,
    "start_time": "2022-05-20T20:07:56.074Z"
   },
   {
    "duration": 11,
    "start_time": "2022-05-20T20:08:53.876Z"
   },
   {
    "duration": 895,
    "start_time": "2022-05-22T16:04:51.318Z"
   },
   {
    "duration": 106,
    "start_time": "2022-05-22T16:04:52.215Z"
   },
   {
    "duration": 48,
    "start_time": "2022-05-22T16:04:52.323Z"
   },
   {
    "duration": 8,
    "start_time": "2022-05-22T16:04:52.373Z"
   },
   {
    "duration": 15,
    "start_time": "2022-05-22T16:04:52.382Z"
   },
   {
    "duration": 5,
    "start_time": "2022-05-22T16:04:52.399Z"
   },
   {
    "duration": 20,
    "start_time": "2022-05-22T16:04:52.406Z"
   },
   {
    "duration": 4,
    "start_time": "2022-05-22T16:04:52.427Z"
   },
   {
    "duration": 60,
    "start_time": "2022-05-22T16:04:52.433Z"
   },
   {
    "duration": 95,
    "start_time": "2022-05-22T16:04:52.498Z"
   },
   {
    "duration": 205,
    "start_time": "2022-05-22T16:04:52.594Z"
   },
   {
    "duration": 12,
    "start_time": "2022-05-22T16:05:17.467Z"
   },
   {
    "duration": 14,
    "start_time": "2022-05-22T16:05:30.906Z"
   },
   {
    "duration": 41,
    "start_time": "2022-05-22T16:06:33.092Z"
   },
   {
    "duration": 52,
    "start_time": "2022-05-22T16:07:00.437Z"
   },
   {
    "duration": 14,
    "start_time": "2022-05-22T16:07:57.610Z"
   },
   {
    "duration": 6,
    "start_time": "2022-05-22T16:12:14.999Z"
   },
   {
    "duration": 79,
    "start_time": "2022-05-22T16:13:36.906Z"
   },
   {
    "duration": 5,
    "start_time": "2022-05-22T16:13:53.641Z"
   },
   {
    "duration": 40,
    "start_time": "2022-05-22T16:13:59.806Z"
   },
   {
    "duration": 6,
    "start_time": "2022-05-22T16:16:39.575Z"
   },
   {
    "duration": 8,
    "start_time": "2022-05-22T16:17:20.626Z"
   },
   {
    "duration": 9,
    "start_time": "2022-05-22T16:17:48.732Z"
   },
   {
    "duration": 25,
    "start_time": "2022-05-22T16:18:18.694Z"
   },
   {
    "duration": 86,
    "start_time": "2022-05-22T16:18:44.306Z"
   },
   {
    "duration": 18,
    "start_time": "2022-05-22T16:18:47.632Z"
   },
   {
    "duration": 11,
    "start_time": "2022-05-22T16:19:00.084Z"
   },
   {
    "duration": 42,
    "start_time": "2022-05-22T16:19:02.052Z"
   },
   {
    "duration": 7,
    "start_time": "2022-05-22T16:19:15.440Z"
   },
   {
    "duration": 79,
    "start_time": "2022-05-22T16:19:20.210Z"
   },
   {
    "duration": 8,
    "start_time": "2022-05-22T16:23:23.948Z"
   },
   {
    "duration": 12,
    "start_time": "2022-05-22T16:23:42.113Z"
   },
   {
    "duration": 6,
    "start_time": "2022-05-22T16:31:54.377Z"
   },
   {
    "duration": 890,
    "start_time": "2022-05-22T17:38:24.593Z"
   },
   {
    "duration": 30,
    "start_time": "2022-05-22T17:38:25.491Z"
   },
   {
    "duration": 47,
    "start_time": "2022-05-22T17:38:25.522Z"
   },
   {
    "duration": 5,
    "start_time": "2022-05-22T17:38:25.571Z"
   },
   {
    "duration": 9,
    "start_time": "2022-05-22T17:38:25.578Z"
   },
   {
    "duration": 9,
    "start_time": "2022-05-22T17:38:25.588Z"
   },
   {
    "duration": 17,
    "start_time": "2022-05-22T17:38:25.600Z"
   },
   {
    "duration": 4,
    "start_time": "2022-05-22T17:38:25.618Z"
   },
   {
    "duration": 159,
    "start_time": "2022-05-22T17:38:25.624Z"
   },
   {
    "duration": 11,
    "start_time": "2022-05-22T17:38:25.791Z"
   },
   {
    "duration": 100,
    "start_time": "2022-05-22T17:38:25.803Z"
   },
   {
    "duration": 919,
    "start_time": "2022-05-24T16:25:01.341Z"
   },
   {
    "duration": 108,
    "start_time": "2022-05-24T16:25:02.263Z"
   },
   {
    "duration": 46,
    "start_time": "2022-05-24T16:25:02.373Z"
   },
   {
    "duration": 5,
    "start_time": "2022-05-24T16:25:02.420Z"
   },
   {
    "duration": 9,
    "start_time": "2022-05-24T16:25:02.427Z"
   },
   {
    "duration": 7,
    "start_time": "2022-05-24T16:25:02.437Z"
   },
   {
    "duration": 39,
    "start_time": "2022-05-24T16:25:02.445Z"
   },
   {
    "duration": 5,
    "start_time": "2022-05-24T16:25:02.486Z"
   },
   {
    "duration": 66,
    "start_time": "2022-05-24T16:25:02.493Z"
   },
   {
    "duration": 109,
    "start_time": "2022-05-24T16:25:02.561Z"
   },
   {
    "duration": 12,
    "start_time": "2022-05-24T16:25:02.673Z"
   }
  ],
  "kernelspec": {
   "display_name": "Python 3 (ipykernel)",
   "language": "python",
   "name": "python3"
  },
  "language_info": {
   "codemirror_mode": {
    "name": "ipython",
    "version": 3
   },
   "file_extension": ".py",
   "mimetype": "text/x-python",
   "name": "python",
   "nbconvert_exporter": "python",
   "pygments_lexer": "ipython3",
   "version": "3.9.5"
  },
  "toc": {
   "base_numbering": 1,
   "nav_menu": {},
   "number_sections": true,
   "sideBar": true,
   "skip_h1_title": true,
   "title_cell": "Содержание",
   "title_sidebar": "Contents",
   "toc_cell": true,
   "toc_position": {},
   "toc_section_display": true,
   "toc_window_display": true
  }
 },
 "nbformat": 4,
 "nbformat_minor": 2
}
