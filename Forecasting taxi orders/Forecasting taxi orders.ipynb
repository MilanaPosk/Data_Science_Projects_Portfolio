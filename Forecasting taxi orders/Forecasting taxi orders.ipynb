{
 "cells": [
  {
   "cell_type": "markdown",
   "metadata": {},
   "source": [
    "## Подготовка"
   ]
  },
  {
   "cell_type": "code",
   "execution_count": 1,
   "metadata": {},
   "outputs": [],
   "source": [
    "import pandas as pd\n",
    "import numpy as np\n",
    "import matplotlib.pyplot as plt\n",
    "from lightgbm import LGBMRegressor\n",
    "from sklearn.model_selection import train_test_split\n",
    "from sklearn.model_selection import TimeSeriesSplit\n",
    "from sklearn.model_selection import GridSearchCV\n",
    "from sklearn.linear_model import LinearRegression\n",
    "from sklearn.metrics import mean_squared_error\n",
    "from sklearn.ensemble import RandomForestRegressor\n",
    "from statsmodels.tsa.seasonal import seasonal_decompose"
   ]
  },
  {
   "cell_type": "code",
   "execution_count": 2,
   "metadata": {},
   "outputs": [],
   "source": [
    "data = pd.read_csv('/datasets/taxi.csv', index_col=[0], parse_dates=[0])\n",
    "data.sort_index(inplace=True)"
   ]
  },
  {
   "cell_type": "code",
   "execution_count": 3,
   "metadata": {
    "scrolled": false
   },
   "outputs": [
    {
     "data": {
      "text/plain": [
       "True"
      ]
     },
     "metadata": {},
     "output_type": "display_data"
    },
    {
     "data": {
      "text/html": [
       "<div>\n",
       "<style scoped>\n",
       "    .dataframe tbody tr th:only-of-type {\n",
       "        vertical-align: middle;\n",
       "    }\n",
       "\n",
       "    .dataframe tbody tr th {\n",
       "        vertical-align: top;\n",
       "    }\n",
       "\n",
       "    .dataframe thead th {\n",
       "        text-align: right;\n",
       "    }\n",
       "</style>\n",
       "<table border=\"1\" class=\"dataframe\">\n",
       "  <thead>\n",
       "    <tr style=\"text-align: right;\">\n",
       "      <th></th>\n",
       "      <th>num_orders</th>\n",
       "    </tr>\n",
       "    <tr>\n",
       "      <th>datetime</th>\n",
       "      <th></th>\n",
       "    </tr>\n",
       "  </thead>\n",
       "  <tbody>\n",
       "    <tr>\n",
       "      <th>2018-03-01 00:00:00</th>\n",
       "      <td>9</td>\n",
       "    </tr>\n",
       "    <tr>\n",
       "      <th>2018-03-01 00:10:00</th>\n",
       "      <td>14</td>\n",
       "    </tr>\n",
       "    <tr>\n",
       "      <th>2018-03-01 00:20:00</th>\n",
       "      <td>28</td>\n",
       "    </tr>\n",
       "    <tr>\n",
       "      <th>2018-03-01 00:30:00</th>\n",
       "      <td>20</td>\n",
       "    </tr>\n",
       "    <tr>\n",
       "      <th>2018-03-01 00:40:00</th>\n",
       "      <td>32</td>\n",
       "    </tr>\n",
       "  </tbody>\n",
       "</table>\n",
       "</div>"
      ],
      "text/plain": [
       "                     num_orders\n",
       "datetime                       \n",
       "2018-03-01 00:00:00           9\n",
       "2018-03-01 00:10:00          14\n",
       "2018-03-01 00:20:00          28\n",
       "2018-03-01 00:30:00          20\n",
       "2018-03-01 00:40:00          32"
      ]
     },
     "metadata": {},
     "output_type": "display_data"
    },
    {
     "data": {
      "text/html": [
       "<div>\n",
       "<style scoped>\n",
       "    .dataframe tbody tr th:only-of-type {\n",
       "        vertical-align: middle;\n",
       "    }\n",
       "\n",
       "    .dataframe tbody tr th {\n",
       "        vertical-align: top;\n",
       "    }\n",
       "\n",
       "    .dataframe thead th {\n",
       "        text-align: right;\n",
       "    }\n",
       "</style>\n",
       "<table border=\"1\" class=\"dataframe\">\n",
       "  <thead>\n",
       "    <tr style=\"text-align: right;\">\n",
       "      <th></th>\n",
       "      <th>num_orders</th>\n",
       "    </tr>\n",
       "    <tr>\n",
       "      <th>datetime</th>\n",
       "      <th></th>\n",
       "    </tr>\n",
       "  </thead>\n",
       "  <tbody>\n",
       "    <tr>\n",
       "      <th>2018-08-31 23:10:00</th>\n",
       "      <td>32</td>\n",
       "    </tr>\n",
       "    <tr>\n",
       "      <th>2018-08-31 23:20:00</th>\n",
       "      <td>24</td>\n",
       "    </tr>\n",
       "    <tr>\n",
       "      <th>2018-08-31 23:30:00</th>\n",
       "      <td>27</td>\n",
       "    </tr>\n",
       "    <tr>\n",
       "      <th>2018-08-31 23:40:00</th>\n",
       "      <td>39</td>\n",
       "    </tr>\n",
       "    <tr>\n",
       "      <th>2018-08-31 23:50:00</th>\n",
       "      <td>53</td>\n",
       "    </tr>\n",
       "  </tbody>\n",
       "</table>\n",
       "</div>"
      ],
      "text/plain": [
       "                     num_orders\n",
       "datetime                       \n",
       "2018-08-31 23:10:00          32\n",
       "2018-08-31 23:20:00          24\n",
       "2018-08-31 23:30:00          27\n",
       "2018-08-31 23:40:00          39\n",
       "2018-08-31 23:50:00          53"
      ]
     },
     "metadata": {},
     "output_type": "display_data"
    },
    {
     "data": {
      "text/html": [
       "<div>\n",
       "<style scoped>\n",
       "    .dataframe tbody tr th:only-of-type {\n",
       "        vertical-align: middle;\n",
       "    }\n",
       "\n",
       "    .dataframe tbody tr th {\n",
       "        vertical-align: top;\n",
       "    }\n",
       "\n",
       "    .dataframe thead th {\n",
       "        text-align: right;\n",
       "    }\n",
       "</style>\n",
       "<table border=\"1\" class=\"dataframe\">\n",
       "  <thead>\n",
       "    <tr style=\"text-align: right;\">\n",
       "      <th></th>\n",
       "      <th>num_orders</th>\n",
       "    </tr>\n",
       "  </thead>\n",
       "  <tbody>\n",
       "    <tr>\n",
       "      <th>count</th>\n",
       "      <td>26496.000000</td>\n",
       "    </tr>\n",
       "    <tr>\n",
       "      <th>mean</th>\n",
       "      <td>14.070463</td>\n",
       "    </tr>\n",
       "    <tr>\n",
       "      <th>std</th>\n",
       "      <td>9.211330</td>\n",
       "    </tr>\n",
       "    <tr>\n",
       "      <th>min</th>\n",
       "      <td>0.000000</td>\n",
       "    </tr>\n",
       "    <tr>\n",
       "      <th>25%</th>\n",
       "      <td>8.000000</td>\n",
       "    </tr>\n",
       "    <tr>\n",
       "      <th>50%</th>\n",
       "      <td>13.000000</td>\n",
       "    </tr>\n",
       "    <tr>\n",
       "      <th>75%</th>\n",
       "      <td>19.000000</td>\n",
       "    </tr>\n",
       "    <tr>\n",
       "      <th>max</th>\n",
       "      <td>119.000000</td>\n",
       "    </tr>\n",
       "  </tbody>\n",
       "</table>\n",
       "</div>"
      ],
      "text/plain": [
       "         num_orders\n",
       "count  26496.000000\n",
       "mean      14.070463\n",
       "std        9.211330\n",
       "min        0.000000\n",
       "25%        8.000000\n",
       "50%       13.000000\n",
       "75%       19.000000\n",
       "max      119.000000"
      ]
     },
     "metadata": {},
     "output_type": "display_data"
    },
    {
     "name": "stdout",
     "output_type": "stream",
     "text": [
      "<class 'pandas.core.frame.DataFrame'>\n",
      "DatetimeIndex: 26496 entries, 2018-03-01 00:00:00 to 2018-08-31 23:50:00\n",
      "Data columns (total 1 columns):\n",
      " #   Column      Non-Null Count  Dtype\n",
      "---  ------      --------------  -----\n",
      " 0   num_orders  26496 non-null  int64\n",
      "dtypes: int64(1)\n",
      "memory usage: 414.0 KB\n"
     ]
    },
    {
     "data": {
      "text/plain": [
       "None"
      ]
     },
     "metadata": {},
     "output_type": "display_data"
    },
    {
     "data": {
      "text/plain": [
       "'Колличество пропусков:'"
      ]
     },
     "metadata": {},
     "output_type": "display_data"
    },
    {
     "data": {
      "text/plain": [
       "num_orders    0\n",
       "dtype: int64"
      ]
     },
     "metadata": {},
     "output_type": "display_data"
    }
   ],
   "source": [
    "display(data.index.is_monotonic)\n",
    "display(data.head())\n",
    "display(data.tail())\n",
    "display(data.describe())\n",
    "display(data.info())\n",
    "display(\"Колличество пропусков:\", data.isnull().sum(axis = 0))"
   ]
  },
  {
   "cell_type": "markdown",
   "metadata": {},
   "source": [
    "По предварительному анализу данных, видно, что это монотонный временной ряд с шагом в 10 мин. Ресемплируем датасет на 1 час."
   ]
  },
  {
   "cell_type": "code",
   "execution_count": 4,
   "metadata": {
    "scrolled": false
   },
   "outputs": [
    {
     "data": {
      "text/plain": [
       "<AxesSubplot:xlabel='datetime'>"
      ]
     },
     "execution_count": 4,
     "metadata": {},
     "output_type": "execute_result"
    },
    {
     "data": {
      "image/png": "[encoded data removed]",
      "text/plain": [
       "<Figure size 720x288 with 1 Axes>"
      ]
     },
     "metadata": {
      "needs_background": "light"
     },
     "output_type": "display_data"
    }
   ],
   "source": [
    "data = data.resample('1H').sum()\n",
    "data.plot(figsize=(10, 4), grid=True)"
   ]
  },
  {
   "cell_type": "markdown",
   "metadata": {},
   "source": [
    "По данному графику видно, что примерно с середины исследуемого периода, есть небольшой рост количества заказов такси."
   ]
  },
  {
   "cell_type": "markdown",
   "metadata": {},
   "source": [
    "## Анализ"
   ]
  },
  {
   "cell_type": "markdown",
   "metadata": {},
   "source": [
    "Для прогнозирования количества заказов такси на следующий час, выделим из данных информацию о последнем месяце."
   ]
  },
  {
   "cell_type": "code",
   "execution_count": 5,
   "metadata": {
    "scrolled": true
   },
   "outputs": [
    {
     "data": {
      "text/plain": [
       "<AxesSubplot:xlabel='datetime'>"
      ]
     },
     "execution_count": 5,
     "metadata": {},
     "output_type": "execute_result"
    },
    {
     "data": {
      "image/png": "[encoded data removed]",
      "text/plain": [
       "<Figure size 720x288 with 1 Axes>"
      ]
     },
     "metadata": {
      "needs_background": "light"
     },
     "output_type": "display_data"
    }
   ],
   "source": [
    "data = data['2018-08':]\n",
    "data.plot(figsize=(10, 4), grid=True)"
   ]
  },
  {
   "cell_type": "markdown",
   "metadata": {},
   "source": [
    "Из графика видно, что есть некоторые закономерности - увеличение количества заказов в выходные дни. Далее проанализируем их тренды и сезонность."
   ]
  },
  {
   "cell_type": "code",
   "execution_count": 6,
   "metadata": {
    "scrolled": true
   },
   "outputs": [
    {
     "name": "stderr",
     "output_type": "stream",
     "text": [
      "/tmp/ipykernel_239/1301055494.py:1: SettingWithCopyWarning: \n",
      "A value is trying to be set on a copy of a slice from a DataFrame.\n",
      "Try using .loc[row_indexer,col_indexer] = value instead\n",
      "\n",
      "See the caveats in the documentation: https://pandas.pydata.org/pandas-docs/stable/user_guide/indexing.html#returning-a-view-versus-a-copy\n",
      "  data['rolling_mean'] = data.rolling(20).mean()\n"
     ]
    },
    {
     "data": {
      "text/plain": [
       "<AxesSubplot:xlabel='datetime'>"
      ]
     },
     "execution_count": 6,
     "metadata": {},
     "output_type": "execute_result"
    },
    {
     "data": {
      "image/png": "[encoded data removed]",
      "text/plain": [
       "<Figure size 720x288 with 1 Axes>"
      ]
     },
     "metadata": {
      "needs_background": "light"
     },
     "output_type": "display_data"
    }
   ],
   "source": [
    "data['rolling_mean'] = data.rolling(20).mean()\n",
    "data.plot(figsize=(10, 4), grid=True)"
   ]
  },
  {
   "cell_type": "code",
   "execution_count": 7,
   "metadata": {
    "scrolled": true
   },
   "outputs": [
    {
     "data": {
      "image/png": "[encoded data removed]",
      "text/plain": [
       "<Figure size 720x576 with 3 Axes>"
      ]
     },
     "metadata": {
      "needs_background": "light"
     },
     "output_type": "display_data"
    }
   ],
   "source": [
    "decomposed = seasonal_decompose(data['num_orders'])\n",
    "plt.figure(figsize=(10, 8))\n",
    "plt.subplot(311)\n",
    "decomposed.trend.plot(ax=plt.gca())\n",
    "plt.title('Trend')\n",
    "plt.subplot(312)\n",
    "decomposed.seasonal.plot(ax=plt.gca())\n",
    "plt.title('Seasonality')\n",
    "plt.subplot(313)\n",
    "decomposed.resid.plot(ax=plt.gca())\n",
    "plt.title('Residuals')\n",
    "plt.tight_layout()"
   ]
  },
  {
   "cell_type": "markdown",
   "metadata": {},
   "source": [
    "Сезонность - один день, это объясняется типичным жизнью людей, утром по делам, вечером заказов практически нет. Тренд идет по нарастающей вверх.\n",
    "Но ряд ещё не стационарный, поэтому вычислим разности временного ряда."
   ]
  },
  {
   "cell_type": "code",
   "execution_count": 8,
   "metadata": {
    "scrolled": true
   },
   "outputs": [
    {
     "data": {
      "text/plain": [
       "<AxesSubplot:xlabel='datetime'>"
      ]
     },
     "execution_count": 8,
     "metadata": {},
     "output_type": "execute_result"
    },
    {
     "data": {
      "image/png": "[encoded data removed]",
      "text/plain": [
       "<Figure size 576x432 with 1 Axes>"
      ]
     },
     "metadata": {
      "needs_background": "light"
     },
     "output_type": "display_data"
    }
   ],
   "source": [
    "data = data - data.shift()\n",
    "data['mean'] = data['num_orders'].rolling(15).mean()\n",
    "data['std'] = data['num_orders'].rolling(15).std()\n",
    "data.plot(figsize=(8, 6), grid=True)"
   ]
  },
  {
   "cell_type": "markdown",
   "metadata": {},
   "source": [
    "Тренд нулевой. Ряд стал более стационарным, это значит, что данные можно прогнозировать."
   ]
  },
  {
   "cell_type": "markdown",
   "metadata": {},
   "source": [
    "## Обучение"
   ]
  },
  {
   "cell_type": "code",
   "execution_count": 9,
   "metadata": {},
   "outputs": [],
   "source": [
    "# удалим столбцы ненужные для машинного обучения\n",
    "\n",
    "data = data.drop(['rolling_mean','mean','std'], axis=1)"
   ]
  },
  {
   "cell_type": "code",
   "execution_count": 10,
   "metadata": {},
   "outputs": [
    {
     "data": {
      "text/plain": [
       "num_orders    1\n",
       "dtype: int64"
      ]
     },
     "execution_count": 10,
     "metadata": {},
     "output_type": "execute_result"
    }
   ],
   "source": [
    "# проверим на пропуски\n",
    "\n",
    "data.isnull().sum(axis = 0)"
   ]
  },
  {
   "cell_type": "code",
   "execution_count": 11,
   "metadata": {},
   "outputs": [
    {
     "data": {
      "text/plain": [
       "num_orders    0\n",
       "dtype: int64"
      ]
     },
     "execution_count": 11,
     "metadata": {},
     "output_type": "execute_result"
    }
   ],
   "source": [
    "data = data.dropna()\n",
    "data.isna().sum()"
   ]
  },
  {
   "cell_type": "code",
   "execution_count": 12,
   "metadata": {
    "scrolled": true
   },
   "outputs": [],
   "source": [
    "def make_features(df, max_lag, rolling_mean_size):\n",
    "    \"\"\"Функция создает дополнительные признака: календарные, «Отстающие значения» и \n",
    "    скользящего среднего\n",
    "    \n",
    "    \"\"\"\n",
    "    df = data.copy()\n",
    "    df['year'] = df.index.year\n",
    "    df['month'] = df.index.month\n",
    "    df['day'] = df.index.day\n",
    "    df['dayofweek'] = df.index.dayofweek\n",
    "    \n",
    "    for lag in range(1, max_lag + 1):\n",
    "        df['lag_{}'.format(lag)] = df['num_orders'].shift(lag)\n",
    "\n",
    "    df['rolling_mean'] = df['num_orders'].shift().rolling(rolling_mean_size).mean()\n",
    "    return df\n",
    "\n",
    "df = make_features(data, 50, 50)"
   ]
  },
  {
   "cell_type": "code",
   "execution_count": 13,
   "metadata": {},
   "outputs": [
    {
     "data": {
      "text/html": [
       "<div>\n",
       "<style scoped>\n",
       "    .dataframe tbody tr th:only-of-type {\n",
       "        vertical-align: middle;\n",
       "    }\n",
       "\n",
       "    .dataframe tbody tr th {\n",
       "        vertical-align: top;\n",
       "    }\n",
       "\n",
       "    .dataframe thead th {\n",
       "        text-align: right;\n",
       "    }\n",
       "</style>\n",
       "<table border=\"1\" class=\"dataframe\">\n",
       "  <thead>\n",
       "    <tr style=\"text-align: right;\">\n",
       "      <th></th>\n",
       "      <th>num_orders</th>\n",
       "      <th>year</th>\n",
       "      <th>month</th>\n",
       "      <th>day</th>\n",
       "      <th>dayofweek</th>\n",
       "      <th>lag_1</th>\n",
       "      <th>lag_2</th>\n",
       "      <th>lag_3</th>\n",
       "      <th>lag_4</th>\n",
       "      <th>lag_5</th>\n",
       "      <th>...</th>\n",
       "      <th>lag_42</th>\n",
       "      <th>lag_43</th>\n",
       "      <th>lag_44</th>\n",
       "      <th>lag_45</th>\n",
       "      <th>lag_46</th>\n",
       "      <th>lag_47</th>\n",
       "      <th>lag_48</th>\n",
       "      <th>lag_49</th>\n",
       "      <th>lag_50</th>\n",
       "      <th>rolling_mean</th>\n",
       "    </tr>\n",
       "    <tr>\n",
       "      <th>datetime</th>\n",
       "      <th></th>\n",
       "      <th></th>\n",
       "      <th></th>\n",
       "      <th></th>\n",
       "      <th></th>\n",
       "      <th></th>\n",
       "      <th></th>\n",
       "      <th></th>\n",
       "      <th></th>\n",
       "      <th></th>\n",
       "      <th></th>\n",
       "      <th></th>\n",
       "      <th></th>\n",
       "      <th></th>\n",
       "      <th></th>\n",
       "      <th></th>\n",
       "      <th></th>\n",
       "      <th></th>\n",
       "      <th></th>\n",
       "      <th></th>\n",
       "      <th></th>\n",
       "    </tr>\n",
       "  </thead>\n",
       "  <tbody>\n",
       "    <tr>\n",
       "      <th>2018-08-01 01:00:00</th>\n",
       "      <td>-84.0</td>\n",
       "      <td>2018</td>\n",
       "      <td>8</td>\n",
       "      <td>1</td>\n",
       "      <td>2</td>\n",
       "      <td>NaN</td>\n",
       "      <td>NaN</td>\n",
       "      <td>NaN</td>\n",
       "      <td>NaN</td>\n",
       "      <td>NaN</td>\n",
       "      <td>...</td>\n",
       "      <td>NaN</td>\n",
       "      <td>NaN</td>\n",
       "      <td>NaN</td>\n",
       "      <td>NaN</td>\n",
       "      <td>NaN</td>\n",
       "      <td>NaN</td>\n",
       "      <td>NaN</td>\n",
       "      <td>NaN</td>\n",
       "      <td>NaN</td>\n",
       "      <td>NaN</td>\n",
       "    </tr>\n",
       "    <tr>\n",
       "      <th>2018-08-01 02:00:00</th>\n",
       "      <td>35.0</td>\n",
       "      <td>2018</td>\n",
       "      <td>8</td>\n",
       "      <td>1</td>\n",
       "      <td>2</td>\n",
       "      <td>-84.0</td>\n",
       "      <td>NaN</td>\n",
       "      <td>NaN</td>\n",
       "      <td>NaN</td>\n",
       "      <td>NaN</td>\n",
       "      <td>...</td>\n",
       "      <td>NaN</td>\n",
       "      <td>NaN</td>\n",
       "      <td>NaN</td>\n",
       "      <td>NaN</td>\n",
       "      <td>NaN</td>\n",
       "      <td>NaN</td>\n",
       "      <td>NaN</td>\n",
       "      <td>NaN</td>\n",
       "      <td>NaN</td>\n",
       "      <td>NaN</td>\n",
       "    </tr>\n",
       "    <tr>\n",
       "      <th>2018-08-01 03:00:00</th>\n",
       "      <td>-38.0</td>\n",
       "      <td>2018</td>\n",
       "      <td>8</td>\n",
       "      <td>1</td>\n",
       "      <td>2</td>\n",
       "      <td>35.0</td>\n",
       "      <td>-84.0</td>\n",
       "      <td>NaN</td>\n",
       "      <td>NaN</td>\n",
       "      <td>NaN</td>\n",
       "      <td>...</td>\n",
       "      <td>NaN</td>\n",
       "      <td>NaN</td>\n",
       "      <td>NaN</td>\n",
       "      <td>NaN</td>\n",
       "      <td>NaN</td>\n",
       "      <td>NaN</td>\n",
       "      <td>NaN</td>\n",
       "      <td>NaN</td>\n",
       "      <td>NaN</td>\n",
       "      <td>NaN</td>\n",
       "    </tr>\n",
       "    <tr>\n",
       "      <th>2018-08-01 04:00:00</th>\n",
       "      <td>27.0</td>\n",
       "      <td>2018</td>\n",
       "      <td>8</td>\n",
       "      <td>1</td>\n",
       "      <td>2</td>\n",
       "      <td>-38.0</td>\n",
       "      <td>35.0</td>\n",
       "      <td>-84.0</td>\n",
       "      <td>NaN</td>\n",
       "      <td>NaN</td>\n",
       "      <td>...</td>\n",
       "      <td>NaN</td>\n",
       "      <td>NaN</td>\n",
       "      <td>NaN</td>\n",
       "      <td>NaN</td>\n",
       "      <td>NaN</td>\n",
       "      <td>NaN</td>\n",
       "      <td>NaN</td>\n",
       "      <td>NaN</td>\n",
       "      <td>NaN</td>\n",
       "      <td>NaN</td>\n",
       "    </tr>\n",
       "    <tr>\n",
       "      <th>2018-08-01 05:00:00</th>\n",
       "      <td>-61.0</td>\n",
       "      <td>2018</td>\n",
       "      <td>8</td>\n",
       "      <td>1</td>\n",
       "      <td>2</td>\n",
       "      <td>27.0</td>\n",
       "      <td>-38.0</td>\n",
       "      <td>35.0</td>\n",
       "      <td>-84.0</td>\n",
       "      <td>NaN</td>\n",
       "      <td>...</td>\n",
       "      <td>NaN</td>\n",
       "      <td>NaN</td>\n",
       "      <td>NaN</td>\n",
       "      <td>NaN</td>\n",
       "      <td>NaN</td>\n",
       "      <td>NaN</td>\n",
       "      <td>NaN</td>\n",
       "      <td>NaN</td>\n",
       "      <td>NaN</td>\n",
       "      <td>NaN</td>\n",
       "    </tr>\n",
       "  </tbody>\n",
       "</table>\n",
       "<p>5 rows × 56 columns</p>\n",
       "</div>"
      ],
      "text/plain": [
       "                     num_orders  year  month  day  dayofweek  lag_1  lag_2  \\\n",
       "datetime                                                                     \n",
       "2018-08-01 01:00:00       -84.0  2018      8    1          2    NaN    NaN   \n",
       "2018-08-01 02:00:00        35.0  2018      8    1          2  -84.0    NaN   \n",
       "2018-08-01 03:00:00       -38.0  2018      8    1          2   35.0  -84.0   \n",
       "2018-08-01 04:00:00        27.0  2018      8    1          2  -38.0   35.0   \n",
       "2018-08-01 05:00:00       -61.0  2018      8    1          2   27.0  -38.0   \n",
       "\n",
       "                     lag_3  lag_4  lag_5  ...  lag_42  lag_43  lag_44  lag_45  \\\n",
       "datetime                                  ...                                   \n",
       "2018-08-01 01:00:00    NaN    NaN    NaN  ...     NaN     NaN     NaN     NaN   \n",
       "2018-08-01 02:00:00    NaN    NaN    NaN  ...     NaN     NaN     NaN     NaN   \n",
       "2018-08-01 03:00:00    NaN    NaN    NaN  ...     NaN     NaN     NaN     NaN   \n",
       "2018-08-01 04:00:00  -84.0    NaN    NaN  ...     NaN     NaN     NaN     NaN   \n",
       "2018-08-01 05:00:00   35.0  -84.0    NaN  ...     NaN     NaN     NaN     NaN   \n",
       "\n",
       "                     lag_46  lag_47  lag_48  lag_49  lag_50  rolling_mean  \n",
       "datetime                                                                   \n",
       "2018-08-01 01:00:00     NaN     NaN     NaN     NaN     NaN           NaN  \n",
       "2018-08-01 02:00:00     NaN     NaN     NaN     NaN     NaN           NaN  \n",
       "2018-08-01 03:00:00     NaN     NaN     NaN     NaN     NaN           NaN  \n",
       "2018-08-01 04:00:00     NaN     NaN     NaN     NaN     NaN           NaN  \n",
       "2018-08-01 05:00:00     NaN     NaN     NaN     NaN     NaN           NaN  \n",
       "\n",
       "[5 rows x 56 columns]"
      ]
     },
     "execution_count": 13,
     "metadata": {},
     "output_type": "execute_result"
    }
   ],
   "source": [
    "df.head()"
   ]
  },
  {
   "cell_type": "markdown",
   "metadata": {},
   "source": [
    "Создали 50 новых признаков для обучение. Далее раздели данные на обучающую и тестовую выборки (10%)."
   ]
  },
  {
   "cell_type": "code",
   "execution_count": 14,
   "metadata": {},
   "outputs": [],
   "source": [
    "train, test = train_test_split(df, shuffle=False, test_size=0.1)\n",
    "train = train.dropna()\n",
    "\n",
    "features_train = train.drop(['num_orders'], axis=1)\n",
    "target_train = train['num_orders']\n",
    " \n",
    "features_test = test.drop(['num_orders'], axis=1)\n",
    "target_test = test['num_orders']"
   ]
  },
  {
   "cell_type": "code",
   "execution_count": 15,
   "metadata": {},
   "outputs": [
    {
     "name": "stdout",
     "output_type": "stream",
     "text": [
      "2018-08-03 03:00:00 2018-08-28 20:00:00 (618, 56)\n",
      "2018-08-28 21:00:00 2018-08-31 23:00:00 (75, 56)\n"
     ]
    }
   ],
   "source": [
    "print(train.index.min(), train.index.max(), train.shape)\n",
    "print(test.index.min(), test.index.max(), test.shape)"
   ]
  },
  {
   "cell_type": "markdown",
   "metadata": {},
   "source": [
    "Данные разбиты верно - обучающая заканчивается 28 числа в 20.00, а тестовая начинается в 21.00 того же числа.\n",
    "\n",
    "Проверим качество временных рядов без обучения двумя способами:\n",
    "1. все значения тестовой выборки предсказываются константой;\n",
    "2. заполнив новое значение прогнозируется предыдущим значением ряда. "
   ]
  },
  {
   "cell_type": "code",
   "execution_count": 16,
   "metadata": {},
   "outputs": [
    {
     "name": "stdout",
     "output_type": "stream",
     "text": [
      "Среднее количество заказов такси в день: 1.48\n",
      "RMSE прогнозирования средним: 66.31480478244156\n"
     ]
    }
   ],
   "source": [
    "print(\"Среднее количество заказов такси в день:\", test['num_orders'].mean())\n",
    "\n",
    "pred_median = np.ones(target_test.shape) * target_train.median()\n",
    "\n",
    "print(\"RMSE прогнозирования средним:\", mean_squared_error(target_test, pred_median)**0.5)"
   ]
  },
  {
   "cell_type": "code",
   "execution_count": 17,
   "metadata": {},
   "outputs": [
    {
     "name": "stdout",
     "output_type": "stream",
     "text": [
      "RMSE прогнозируется предыдущим значением ряда: 101.10713789507314\n"
     ]
    }
   ],
   "source": [
    "pred_previous = target_test.shift(fill_value=target_train.iloc[target_train.shape[0]-1])\n",
    "\n",
    "print(\"RMSE прогнозируется предыдущим значением ряда:\", mean_squared_error(target_test, pred_previous)**0.5)"
   ]
  },
  {
   "cell_type": "markdown",
   "metadata": {},
   "source": [
    "## Тестирование"
   ]
  },
  {
   "cell_type": "markdown",
   "metadata": {},
   "source": [
    "Спрогнозируем данные с помощью трех моделей: линейной регрессии, случайного леса и градиентного бустинга с с LightGBM."
   ]
  },
  {
   "cell_type": "markdown",
   "metadata": {},
   "source": [
    "### Линейная регрессия"
   ]
  },
  {
   "cell_type": "code",
   "execution_count": 18,
   "metadata": {},
   "outputs": [
    {
     "name": "stdout",
     "output_type": "stream",
     "text": [
      "RMSE модели линейной регрессии: 46.349011206753374\n"
     ]
    }
   ],
   "source": [
    "model_LR = LinearRegression()\n",
    " \n",
    "model_LR.fit(features_train, target_train)\n",
    "pred_test_LR = model_LR.predict(features_test)\n",
    " \n",
    "print(\"RMSE модели линейной регрессии:\", mean_squared_error(target_test, pred_test_LR)**0.5)\n"
   ]
  },
  {
   "cell_type": "markdown",
   "metadata": {},
   "source": [
    "### Случайный лес"
   ]
  },
  {
   "cell_type": "code",
   "execution_count": 19,
   "metadata": {},
   "outputs": [
    {
     "name": "stdout",
     "output_type": "stream",
     "text": [
      "RMSE модели случайный лес: 57.872233247442935\n"
     ]
    }
   ],
   "source": [
    "model_RF = RandomForestRegressor()\n",
    "\n",
    "param_RF = {'max_depth' : [1, 6, 1], 'n_estimators' : [1, 5, 1]}\n",
    "\n",
    "tscv = TimeSeriesSplit(n_splits=3)\n",
    "\n",
    "model_GS = GridSearchCV(estimator=model_RF, cv=tscv,\n",
    "                        param_grid=param_RF, scoring=\"neg_mean_absolute_error\")\n",
    "\n",
    "model_GS.fit(features_train, target_train)\n",
    "\n",
    "pred_test_RF = model_GS.predict(features_test)\n",
    " \n",
    "print(\"RMSE модели случайный лес:\", mean_squared_error(target_test, pred_test_RF)**0.5)"
   ]
  },
  {
   "cell_type": "markdown",
   "metadata": {},
   "source": [
    "### Градиентный бустинг с LightGBM"
   ]
  },
  {
   "cell_type": "code",
   "execution_count": 20,
   "metadata": {},
   "outputs": [
    {
     "name": "stdout",
     "output_type": "stream",
     "text": [
      "RMSE LightGBM: 55.31000986682489\n"
     ]
    }
   ],
   "source": [
    "model_LGBM = LGBMRegressor(learning_rate=0.1, \n",
    "                      num_leaves=200, \n",
    "                      random_state=12345)\n",
    "model_LGBM.fit(features_train, target_train)\n",
    "\n",
    "predictions_LGBM = model_LGBM.predict(features_test)\n",
    "\n",
    "RMSE_LGBM = mean_squared_error(target_test, predictions_LGBM)**0.5\n",
    "\n",
    "print(\"RMSE LightGBM:\", RMSE_LGBM)"
   ]
  },
  {
   "cell_type": "code",
   "execution_count": 21,
   "metadata": {},
   "outputs": [
    {
     "name": "stderr",
     "output_type": "stream",
     "text": [
      "/tmp/ipykernel_239/1111088273.py:1: SettingWithCopyWarning: \n",
      "A value is trying to be set on a copy of a slice from a DataFrame.\n",
      "Try using .loc[row_indexer,col_indexer] = value instead\n",
      "\n",
      "See the caveats in the documentation: https://pandas.pydata.org/pandas-docs/stable/user_guide/indexing.html#returning-a-view-versus-a-copy\n",
      "  test['predictions_LGBM'] = predictions_LGBM\n"
     ]
    },
    {
     "data": {
      "image/png": "[encoded data removed]",
      "text/plain": [
       "<Figure size 648x432 with 1 Axes>"
      ]
     },
     "metadata": {
      "needs_background": "light"
     },
     "output_type": "display_data"
    }
   ],
   "source": [
    "test['predictions_LGBM'] = predictions_LGBM\n",
    "\n",
    "ax = test[['num_orders','predictions_LGBM']].plot(figsize=(9, 6), grid=True)\n",
    "\n",
    "ax.set_title('Предсказания модели LGBMR')\n",
    "ax.set_xlabel(\"Дата и время\");"
   ]
  },
  {
   "cell_type": "markdown",
   "metadata": {},
   "source": [
    "## Вывод\n",
    "\n",
    "При проверке качества данных без машинного обучение  при помощи константы, результат равен RMSE 66.3. Но линейная модель показала, еще более лучший результат, RMSE равно 46.3, что соответствует поставленному условию нашего проекта. Поэтому, чтобы понимать, нужно ли, привлекать больше водителей в период пиковой нагрузки, нужно использовать модель Линейной регрессии, которая лучше всего определяет количество заказов такси на следующий час."
   ]
  }
 ],
 "metadata": {
  "ExecuteTimeLog": [
   {
    "duration": 1059,
    "start_time": "2022-06-16T11:20:09.125Z"
   },
   {
    "duration": 245,
    "start_time": "2022-06-16T11:20:10.908Z"
   },
   {
    "duration": 53,
    "start_time": "2022-06-16T11:20:11.891Z"
   },
   {
    "duration": 134,
    "start_time": "2022-06-16T11:20:47.123Z"
   },
   {
    "duration": 35,
    "start_time": "2022-06-16T11:20:48.493Z"
   },
   {
    "duration": 137,
    "start_time": "2022-06-16T11:21:07.792Z"
   },
   {
    "duration": 34,
    "start_time": "2022-06-16T11:21:08.415Z"
   },
   {
    "duration": 30,
    "start_time": "2022-06-16T11:21:23.096Z"
   },
   {
    "duration": 22,
    "start_time": "2022-06-16T11:22:00.013Z"
   },
   {
    "duration": 1120,
    "start_time": "2022-06-16T11:22:32.916Z"
   },
   {
    "duration": 1620,
    "start_time": "2022-06-16T11:25:46.217Z"
   },
   {
    "duration": 348,
    "start_time": "2022-06-16T11:28:39.365Z"
   },
   {
    "duration": 1048,
    "start_time": "2022-06-16T11:29:16.993Z"
   },
   {
    "duration": 138,
    "start_time": "2022-06-16T11:29:18.044Z"
   },
   {
    "duration": 46,
    "start_time": "2022-06-16T11:29:18.184Z"
   },
   {
    "duration": 982,
    "start_time": "2022-06-16T11:29:18.232Z"
   },
   {
    "duration": 228,
    "start_time": "2022-06-16T11:29:19.216Z"
   },
   {
    "duration": 243,
    "start_time": "2022-06-16T11:29:19.446Z"
   },
   {
    "duration": 29,
    "start_time": "2022-06-16T11:31:14.091Z"
   },
   {
    "duration": 109,
    "start_time": "2022-06-16T11:31:17.652Z"
   },
   {
    "duration": 29,
    "start_time": "2022-06-16T11:38:03.117Z"
   },
   {
    "duration": 32,
    "start_time": "2022-06-16T11:38:10.400Z"
   },
   {
    "duration": 1049,
    "start_time": "2022-06-16T11:40:18.464Z"
   },
   {
    "duration": 152,
    "start_time": "2022-06-16T11:40:19.515Z"
   },
   {
    "duration": 59,
    "start_time": "2022-06-16T11:40:19.669Z"
   },
   {
    "duration": 715,
    "start_time": "2022-06-16T11:40:19.730Z"
   },
   {
    "duration": 201,
    "start_time": "2022-06-16T11:40:20.447Z"
   },
   {
    "duration": 237,
    "start_time": "2022-06-16T11:40:20.650Z"
   },
   {
    "duration": 116,
    "start_time": "2022-06-16T11:40:20.889Z"
   },
   {
    "duration": 209,
    "start_time": "2022-06-16T11:46:47.583Z"
   },
   {
    "duration": 236,
    "start_time": "2022-06-16T11:46:53.601Z"
   },
   {
    "duration": 297,
    "start_time": "2022-06-16T11:46:58.795Z"
   },
   {
    "duration": 127,
    "start_time": "2022-06-16T11:47:49.988Z"
   },
   {
    "duration": 1045,
    "start_time": "2022-06-16T11:48:13.252Z"
   },
   {
    "duration": 149,
    "start_time": "2022-06-16T11:48:14.299Z"
   },
   {
    "duration": 43,
    "start_time": "2022-06-16T11:48:14.450Z"
   },
   {
    "duration": 731,
    "start_time": "2022-06-16T11:48:14.495Z"
   },
   {
    "duration": 163,
    "start_time": "2022-06-16T11:48:15.227Z"
   },
   {
    "duration": 189,
    "start_time": "2022-06-16T11:48:15.392Z"
   },
   {
    "duration": 111,
    "start_time": "2022-06-16T11:48:15.582Z"
   },
   {
    "duration": 168,
    "start_time": "2022-06-16T11:49:15.082Z"
   },
   {
    "duration": 169,
    "start_time": "2022-06-16T11:49:25.191Z"
   },
   {
    "duration": 1016,
    "start_time": "2022-06-16T11:49:36.185Z"
   },
   {
    "duration": 157,
    "start_time": "2022-06-16T11:49:37.203Z"
   },
   {
    "duration": 64,
    "start_time": "2022-06-16T11:49:37.362Z"
   },
   {
    "duration": 1001,
    "start_time": "2022-06-16T11:49:37.429Z"
   },
   {
    "duration": 162,
    "start_time": "2022-06-16T11:49:38.431Z"
   },
   {
    "duration": 167,
    "start_time": "2022-06-16T11:49:38.595Z"
   },
   {
    "duration": 117,
    "start_time": "2022-06-16T11:49:38.764Z"
   },
   {
    "duration": 177,
    "start_time": "2022-06-16T11:50:18.247Z"
   },
   {
    "duration": 12,
    "start_time": "2022-06-16T11:50:59.151Z"
   },
   {
    "duration": 35,
    "start_time": "2022-06-16T11:52:04.263Z"
   },
   {
    "duration": 1020,
    "start_time": "2022-06-16T11:52:48.452Z"
   },
   {
    "duration": 142,
    "start_time": "2022-06-16T11:52:49.474Z"
   },
   {
    "duration": 46,
    "start_time": "2022-06-16T11:52:49.618Z"
   },
   {
    "duration": 965,
    "start_time": "2022-06-16T11:52:49.665Z"
   },
   {
    "duration": 229,
    "start_time": "2022-06-16T11:52:50.632Z"
   },
   {
    "duration": 260,
    "start_time": "2022-06-16T11:52:50.863Z"
   },
   {
    "duration": 129,
    "start_time": "2022-06-16T11:52:51.125Z"
   },
   {
    "duration": 1022,
    "start_time": "2022-06-17T05:32:16.234Z"
   },
   {
    "duration": 335,
    "start_time": "2022-06-17T05:32:17.257Z"
   },
   {
    "duration": 47,
    "start_time": "2022-06-17T05:32:17.593Z"
   },
   {
    "duration": 778,
    "start_time": "2022-06-17T05:32:17.642Z"
   },
   {
    "duration": 222,
    "start_time": "2022-06-17T05:32:18.425Z"
   },
   {
    "duration": 266,
    "start_time": "2022-06-17T05:32:18.649Z"
   },
   {
    "duration": 103,
    "start_time": "2022-06-17T05:32:18.917Z"
   },
   {
    "duration": 327,
    "start_time": "2022-06-17T05:32:28.744Z"
   },
   {
    "duration": 206,
    "start_time": "2022-06-17T05:32:40.302Z"
   },
   {
    "duration": 242,
    "start_time": "2022-06-17T05:33:16.553Z"
   },
   {
    "duration": 262,
    "start_time": "2022-06-17T05:33:23.809Z"
   },
   {
    "duration": 227,
    "start_time": "2022-06-17T05:33:34.521Z"
   },
   {
    "duration": 217,
    "start_time": "2022-06-17T05:33:43.187Z"
   },
   {
    "duration": 289,
    "start_time": "2022-06-17T05:33:53.220Z"
   },
   {
    "duration": 222,
    "start_time": "2022-06-17T05:34:55.790Z"
   },
   {
    "duration": 239,
    "start_time": "2022-06-17T05:35:12.087Z"
   },
   {
    "duration": 230,
    "start_time": "2022-06-17T05:35:20.520Z"
   },
   {
    "duration": 14,
    "start_time": "2022-06-17T05:36:08.036Z"
   },
   {
    "duration": 4,
    "start_time": "2022-06-17T05:36:27.222Z"
   },
   {
    "duration": 692,
    "start_time": "2022-06-17T05:36:31.897Z"
   },
   {
    "duration": 673,
    "start_time": "2022-06-17T05:37:15.294Z"
   },
   {
    "duration": 625,
    "start_time": "2022-06-17T05:38:16.681Z"
   },
   {
    "duration": 17,
    "start_time": "2022-06-17T05:39:10.882Z"
   },
   {
    "duration": 614,
    "start_time": "2022-06-17T05:39:20.607Z"
   },
   {
    "duration": 261,
    "start_time": "2022-06-17T05:42:34.001Z"
   },
   {
    "duration": 291,
    "start_time": "2022-06-17T05:43:00.136Z"
   },
   {
    "duration": 250,
    "start_time": "2022-06-17T05:43:10.075Z"
   },
   {
    "duration": 1153,
    "start_time": "2022-06-17T05:43:19.759Z"
   },
   {
    "duration": 129,
    "start_time": "2022-06-17T05:43:20.914Z"
   },
   {
    "duration": 41,
    "start_time": "2022-06-17T05:43:21.045Z"
   },
   {
    "duration": 444,
    "start_time": "2022-06-17T05:43:21.087Z"
   },
   {
    "duration": 227,
    "start_time": "2022-06-17T05:43:21.533Z"
   },
   {
    "duration": 270,
    "start_time": "2022-06-17T05:43:21.761Z"
   },
   {
    "duration": 660,
    "start_time": "2022-06-17T05:43:22.032Z"
   },
   {
    "duration": 311,
    "start_time": "2022-06-17T05:43:22.693Z"
   },
   {
    "duration": 298,
    "start_time": "2022-06-17T05:43:49.296Z"
   },
   {
    "duration": 298,
    "start_time": "2022-06-17T05:44:02.843Z"
   },
   {
    "duration": 13,
    "start_time": "2022-06-17T05:47:44.136Z"
   },
   {
    "duration": 5,
    "start_time": "2022-06-17T05:55:16.494Z"
   },
   {
    "duration": 7,
    "start_time": "2022-06-17T05:55:45.155Z"
   },
   {
    "duration": 7,
    "start_time": "2022-06-17T05:56:15.867Z"
   },
   {
    "duration": 7,
    "start_time": "2022-06-17T05:56:22.283Z"
   },
   {
    "duration": 15,
    "start_time": "2022-06-17T06:01:02.802Z"
   },
   {
    "duration": 22,
    "start_time": "2022-06-17T06:01:25.954Z"
   },
   {
    "duration": 9,
    "start_time": "2022-06-17T06:03:44.563Z"
   },
   {
    "duration": 4,
    "start_time": "2022-06-17T06:03:46.387Z"
   },
   {
    "duration": 109,
    "start_time": "2022-06-17T06:04:08.321Z"
   },
   {
    "duration": 16,
    "start_time": "2022-06-17T06:05:35.144Z"
   },
   {
    "duration": 14,
    "start_time": "2022-06-17T06:27:50.239Z"
   },
   {
    "duration": 3,
    "start_time": "2022-06-17T06:28:27.507Z"
   },
   {
    "duration": 13,
    "start_time": "2022-06-17T06:28:33.484Z"
   },
   {
    "duration": 8,
    "start_time": "2022-06-17T06:28:52.283Z"
   },
   {
    "duration": 1145,
    "start_time": "2022-06-17T06:29:07.260Z"
   },
   {
    "duration": 137,
    "start_time": "2022-06-17T06:29:08.407Z"
   },
   {
    "duration": 40,
    "start_time": "2022-06-17T06:29:08.545Z"
   },
   {
    "duration": 449,
    "start_time": "2022-06-17T06:29:08.587Z"
   },
   {
    "duration": 214,
    "start_time": "2022-06-17T06:29:09.038Z"
   },
   {
    "duration": 302,
    "start_time": "2022-06-17T06:29:09.253Z"
   },
   {
    "duration": 774,
    "start_time": "2022-06-17T06:29:09.557Z"
   },
   {
    "duration": 320,
    "start_time": "2022-06-17T06:29:10.332Z"
   },
   {
    "duration": 4,
    "start_time": "2022-06-17T06:29:10.654Z"
   },
   {
    "duration": 10,
    "start_time": "2022-06-17T06:29:10.660Z"
   },
   {
    "duration": 10,
    "start_time": "2022-06-17T06:29:10.672Z"
   },
   {
    "duration": 23,
    "start_time": "2022-06-17T06:29:10.683Z"
   },
   {
    "duration": 23,
    "start_time": "2022-06-17T06:29:10.707Z"
   },
   {
    "duration": 4,
    "start_time": "2022-06-17T06:29:10.732Z"
   },
   {
    "duration": 4,
    "start_time": "2022-06-17T06:29:10.737Z"
   },
   {
    "duration": 13,
    "start_time": "2022-06-17T06:29:10.742Z"
   },
   {
    "duration": 19,
    "start_time": "2022-06-17T06:29:22.380Z"
   },
   {
    "duration": 8,
    "start_time": "2022-06-17T06:29:23.886Z"
   },
   {
    "duration": 3,
    "start_time": "2022-06-17T06:29:25.312Z"
   },
   {
    "duration": 8,
    "start_time": "2022-06-17T06:29:27.384Z"
   },
   {
    "duration": 24,
    "start_time": "2022-06-17T06:37:36.278Z"
   },
   {
    "duration": 121,
    "start_time": "2022-06-17T06:37:44.704Z"
   },
   {
    "duration": 2594,
    "start_time": "2022-06-17T06:37:56.097Z"
   },
   {
    "duration": 2556,
    "start_time": "2022-06-17T06:38:35.712Z"
   },
   {
    "duration": 2523,
    "start_time": "2022-06-17T06:38:46.991Z"
   },
   {
    "duration": 2555,
    "start_time": "2022-06-17T06:39:29.732Z"
   },
   {
    "duration": 119,
    "start_time": "2022-06-17T06:40:25.180Z"
   },
   {
    "duration": 9,
    "start_time": "2022-06-17T06:45:41.899Z"
   },
   {
    "duration": 45,
    "start_time": "2022-06-17T06:45:48.244Z"
   },
   {
    "duration": 534,
    "start_time": "2022-06-17T06:45:51.791Z"
   },
   {
    "duration": 5,
    "start_time": "2022-06-17T06:49:36.708Z"
   },
   {
    "duration": 7,
    "start_time": "2022-06-17T06:50:06.432Z"
   },
   {
    "duration": 5,
    "start_time": "2022-06-17T06:50:23.433Z"
   },
   {
    "duration": 6,
    "start_time": "2022-06-17T06:50:50.039Z"
   },
   {
    "duration": 1210,
    "start_time": "2022-06-17T06:55:10.930Z"
   },
   {
    "duration": 132,
    "start_time": "2022-06-17T06:55:12.141Z"
   },
   {
    "duration": 54,
    "start_time": "2022-06-17T06:55:12.275Z"
   },
   {
    "duration": 471,
    "start_time": "2022-06-17T06:55:12.331Z"
   },
   {
    "duration": 224,
    "start_time": "2022-06-17T06:55:12.804Z"
   },
   {
    "duration": 282,
    "start_time": "2022-06-17T06:55:13.029Z"
   },
   {
    "duration": 712,
    "start_time": "2022-06-17T06:55:13.313Z"
   },
   {
    "duration": 331,
    "start_time": "2022-06-17T06:55:14.027Z"
   },
   {
    "duration": 4,
    "start_time": "2022-06-17T06:55:14.360Z"
   },
   {
    "duration": 8,
    "start_time": "2022-06-17T06:55:14.366Z"
   },
   {
    "duration": 9,
    "start_time": "2022-06-17T06:55:14.375Z"
   },
   {
    "duration": 41,
    "start_time": "2022-06-17T06:55:14.385Z"
   },
   {
    "duration": 8,
    "start_time": "2022-06-17T06:55:14.428Z"
   },
   {
    "duration": 4,
    "start_time": "2022-06-17T06:55:14.437Z"
   },
   {
    "duration": 127,
    "start_time": "2022-06-17T06:55:14.442Z"
   },
   {
    "duration": 0,
    "start_time": "2022-06-17T06:55:14.571Z"
   },
   {
    "duration": 0,
    "start_time": "2022-06-17T06:55:14.572Z"
   },
   {
    "duration": 0,
    "start_time": "2022-06-17T06:55:14.574Z"
   },
   {
    "duration": 0,
    "start_time": "2022-06-17T06:55:14.575Z"
   },
   {
    "duration": 14,
    "start_time": "2022-06-17T06:55:33.629Z"
   },
   {
    "duration": 5,
    "start_time": "2022-06-17T06:55:42.297Z"
   },
   {
    "duration": 13,
    "start_time": "2022-06-17T06:57:02.351Z"
   },
   {
    "duration": 1255,
    "start_time": "2022-06-17T06:58:32.914Z"
   },
   {
    "duration": 124,
    "start_time": "2022-06-17T06:58:34.170Z"
   },
   {
    "duration": 45,
    "start_time": "2022-06-17T06:58:34.296Z"
   },
   {
    "duration": 422,
    "start_time": "2022-06-17T06:58:34.343Z"
   },
   {
    "duration": 220,
    "start_time": "2022-06-17T06:58:34.766Z"
   },
   {
    "duration": 278,
    "start_time": "2022-06-17T06:58:34.988Z"
   },
   {
    "duration": 699,
    "start_time": "2022-06-17T06:58:35.268Z"
   },
   {
    "duration": 294,
    "start_time": "2022-06-17T06:58:35.969Z"
   },
   {
    "duration": 4,
    "start_time": "2022-06-17T06:58:36.265Z"
   },
   {
    "duration": 9,
    "start_time": "2022-06-17T06:58:36.271Z"
   },
   {
    "duration": 9,
    "start_time": "2022-06-17T06:58:36.281Z"
   },
   {
    "duration": 35,
    "start_time": "2022-06-17T06:58:36.292Z"
   },
   {
    "duration": 9,
    "start_time": "2022-06-17T06:58:36.328Z"
   },
   {
    "duration": 3,
    "start_time": "2022-06-17T06:58:36.338Z"
   },
   {
    "duration": 7,
    "start_time": "2022-06-17T06:58:36.343Z"
   },
   {
    "duration": 11,
    "start_time": "2022-06-17T06:58:36.352Z"
   },
   {
    "duration": 153,
    "start_time": "2022-06-17T06:58:36.364Z"
   },
   {
    "duration": 616,
    "start_time": "2022-06-17T06:58:36.518Z"
   },
   {
    "duration": 1218,
    "start_time": "2022-06-17T06:59:57.409Z"
   },
   {
    "duration": 132,
    "start_time": "2022-06-17T06:59:58.629Z"
   },
   {
    "duration": 44,
    "start_time": "2022-06-17T06:59:58.763Z"
   },
   {
    "duration": 622,
    "start_time": "2022-06-17T06:59:58.810Z"
   },
   {
    "duration": 392,
    "start_time": "2022-06-17T06:59:59.434Z"
   },
   {
    "duration": 463,
    "start_time": "2022-06-17T06:59:59.828Z"
   },
   {
    "duration": 131,
    "start_time": "2022-06-17T07:00:00.293Z"
   },
   {
    "duration": 0,
    "start_time": "2022-06-17T07:00:00.426Z"
   },
   {
    "duration": 0,
    "start_time": "2022-06-17T07:00:00.428Z"
   },
   {
    "duration": 0,
    "start_time": "2022-06-17T07:00:00.429Z"
   },
   {
    "duration": 0,
    "start_time": "2022-06-17T07:00:00.430Z"
   },
   {
    "duration": 0,
    "start_time": "2022-06-17T07:00:00.431Z"
   },
   {
    "duration": 0,
    "start_time": "2022-06-17T07:00:00.433Z"
   },
   {
    "duration": 0,
    "start_time": "2022-06-17T07:00:00.433Z"
   },
   {
    "duration": 0,
    "start_time": "2022-06-17T07:00:00.434Z"
   },
   {
    "duration": 0,
    "start_time": "2022-06-17T07:00:00.435Z"
   },
   {
    "duration": 0,
    "start_time": "2022-06-17T07:00:00.437Z"
   },
   {
    "duration": 0,
    "start_time": "2022-06-17T07:00:00.438Z"
   },
   {
    "duration": 1196,
    "start_time": "2022-06-17T07:02:18.762Z"
   },
   {
    "duration": 46,
    "start_time": "2022-06-17T07:02:19.960Z"
   },
   {
    "duration": 35,
    "start_time": "2022-06-17T07:02:20.008Z"
   },
   {
    "duration": 222,
    "start_time": "2022-06-17T07:02:20.045Z"
   },
   {
    "duration": 287,
    "start_time": "2022-06-17T07:02:20.268Z"
   },
   {
    "duration": 410,
    "start_time": "2022-06-17T07:02:20.557Z"
   },
   {
    "duration": 850,
    "start_time": "2022-06-17T07:02:20.968Z"
   },
   {
    "duration": 327,
    "start_time": "2022-06-17T07:02:21.819Z"
   },
   {
    "duration": 5,
    "start_time": "2022-06-17T07:02:22.147Z"
   },
   {
    "duration": 12,
    "start_time": "2022-06-17T07:02:22.154Z"
   },
   {
    "duration": 12,
    "start_time": "2022-06-17T07:02:22.167Z"
   },
   {
    "duration": 22,
    "start_time": "2022-06-17T07:02:22.181Z"
   },
   {
    "duration": 20,
    "start_time": "2022-06-17T07:02:22.205Z"
   },
   {
    "duration": 4,
    "start_time": "2022-06-17T07:02:22.227Z"
   },
   {
    "duration": 15,
    "start_time": "2022-06-17T07:02:22.233Z"
   },
   {
    "duration": 10,
    "start_time": "2022-06-17T07:02:22.250Z"
   },
   {
    "duration": 14,
    "start_time": "2022-06-17T07:02:22.262Z"
   },
   {
    "duration": 250,
    "start_time": "2022-06-17T07:02:22.277Z"
   },
   {
    "duration": 1001,
    "start_time": "2022-06-17T07:02:22.529Z"
   },
   {
    "duration": 561,
    "start_time": "2022-06-17T07:05:05.059Z"
   },
   {
    "duration": 1192,
    "start_time": "2022-06-17T07:05:47.521Z"
   },
   {
    "duration": 48,
    "start_time": "2022-06-17T07:05:48.715Z"
   },
   {
    "duration": 49,
    "start_time": "2022-06-17T07:05:48.765Z"
   },
   {
    "duration": 220,
    "start_time": "2022-06-17T07:05:48.816Z"
   },
   {
    "duration": 196,
    "start_time": "2022-06-17T07:05:49.037Z"
   },
   {
    "duration": 228,
    "start_time": "2022-06-17T07:05:49.235Z"
   },
   {
    "duration": 623,
    "start_time": "2022-06-17T07:05:49.464Z"
   },
   {
    "duration": 241,
    "start_time": "2022-06-17T07:05:50.089Z"
   },
   {
    "duration": 5,
    "start_time": "2022-06-17T07:05:50.331Z"
   },
   {
    "duration": 9,
    "start_time": "2022-06-17T07:05:50.338Z"
   },
   {
    "duration": 9,
    "start_time": "2022-06-17T07:05:50.348Z"
   },
   {
    "duration": 23,
    "start_time": "2022-06-17T07:05:50.358Z"
   },
   {
    "duration": 10,
    "start_time": "2022-06-17T07:05:50.383Z"
   },
   {
    "duration": 5,
    "start_time": "2022-06-17T07:05:50.395Z"
   },
   {
    "duration": 25,
    "start_time": "2022-06-17T07:05:50.402Z"
   },
   {
    "duration": 10,
    "start_time": "2022-06-17T07:05:50.428Z"
   },
   {
    "duration": 11,
    "start_time": "2022-06-17T07:05:50.439Z"
   },
   {
    "duration": 127,
    "start_time": "2022-06-17T07:05:50.451Z"
   },
   {
    "duration": 547,
    "start_time": "2022-06-17T07:05:50.579Z"
   },
   {
    "duration": 602,
    "start_time": "2022-06-17T07:07:08.126Z"
   },
   {
    "duration": 1249,
    "start_time": "2022-06-17T07:07:35.453Z"
   },
   {
    "duration": 53,
    "start_time": "2022-06-17T07:07:36.705Z"
   },
   {
    "duration": 39,
    "start_time": "2022-06-17T07:07:36.760Z"
   },
   {
    "duration": 234,
    "start_time": "2022-06-17T07:07:36.801Z"
   },
   {
    "duration": 190,
    "start_time": "2022-06-17T07:07:37.037Z"
   },
   {
    "duration": 232,
    "start_time": "2022-06-17T07:07:37.229Z"
   },
   {
    "duration": 635,
    "start_time": "2022-06-17T07:07:37.463Z"
   },
   {
    "duration": 244,
    "start_time": "2022-06-17T07:07:38.100Z"
   },
   {
    "duration": 5,
    "start_time": "2022-06-17T07:07:38.345Z"
   },
   {
    "duration": 8,
    "start_time": "2022-06-17T07:07:38.351Z"
   },
   {
    "duration": 9,
    "start_time": "2022-06-17T07:07:38.360Z"
   },
   {
    "duration": 35,
    "start_time": "2022-06-17T07:07:38.370Z"
   },
   {
    "duration": 10,
    "start_time": "2022-06-17T07:07:38.430Z"
   },
   {
    "duration": 5,
    "start_time": "2022-06-17T07:07:38.441Z"
   },
   {
    "duration": 7,
    "start_time": "2022-06-17T07:07:38.447Z"
   },
   {
    "duration": 7,
    "start_time": "2022-06-17T07:07:38.455Z"
   },
   {
    "duration": 10,
    "start_time": "2022-06-17T07:07:38.464Z"
   },
   {
    "duration": 239,
    "start_time": "2022-06-17T07:07:38.526Z"
   },
   {
    "duration": 761,
    "start_time": "2022-06-17T07:07:38.767Z"
   },
   {
    "duration": 1169,
    "start_time": "2022-06-17T07:08:14.389Z"
   },
   {
    "duration": 46,
    "start_time": "2022-06-17T07:08:15.560Z"
   },
   {
    "duration": 32,
    "start_time": "2022-06-17T07:08:15.607Z"
   },
   {
    "duration": 231,
    "start_time": "2022-06-17T07:08:15.640Z"
   },
   {
    "duration": 201,
    "start_time": "2022-06-17T07:08:15.873Z"
   },
   {
    "duration": 234,
    "start_time": "2022-06-17T07:08:16.076Z"
   },
   {
    "duration": 698,
    "start_time": "2022-06-17T07:08:16.312Z"
   },
   {
    "duration": 246,
    "start_time": "2022-06-17T07:08:17.012Z"
   },
   {
    "duration": 4,
    "start_time": "2022-06-17T07:08:17.259Z"
   },
   {
    "duration": 7,
    "start_time": "2022-06-17T07:08:17.265Z"
   },
   {
    "duration": 13,
    "start_time": "2022-06-17T07:08:17.273Z"
   },
   {
    "duration": 64,
    "start_time": "2022-06-17T07:08:17.288Z"
   },
   {
    "duration": 8,
    "start_time": "2022-06-17T07:08:17.354Z"
   },
   {
    "duration": 6,
    "start_time": "2022-06-17T07:08:17.363Z"
   },
   {
    "duration": 7,
    "start_time": "2022-06-17T07:08:17.370Z"
   },
   {
    "duration": 6,
    "start_time": "2022-06-17T07:08:17.379Z"
   },
   {
    "duration": 46,
    "start_time": "2022-06-17T07:08:17.386Z"
   },
   {
    "duration": 413,
    "start_time": "2022-06-17T07:08:17.433Z"
   },
   {
    "duration": 879,
    "start_time": "2022-06-17T07:08:17.847Z"
   },
   {
    "duration": 40,
    "start_time": "2022-06-17T08:15:28.351Z"
   },
   {
    "duration": 1242,
    "start_time": "2022-06-17T08:27:15.111Z"
   },
   {
    "duration": 47,
    "start_time": "2022-06-17T08:27:16.355Z"
   },
   {
    "duration": 35,
    "start_time": "2022-06-17T08:27:16.404Z"
   },
   {
    "duration": 360,
    "start_time": "2022-06-17T08:27:16.441Z"
   },
   {
    "duration": 244,
    "start_time": "2022-06-17T08:27:16.802Z"
   },
   {
    "duration": 225,
    "start_time": "2022-06-17T08:27:17.047Z"
   },
   {
    "duration": 736,
    "start_time": "2022-06-17T08:27:17.274Z"
   },
   {
    "duration": 264,
    "start_time": "2022-06-17T08:27:18.011Z"
   },
   {
    "duration": 4,
    "start_time": "2022-06-17T08:27:18.277Z"
   },
   {
    "duration": 7,
    "start_time": "2022-06-17T08:27:18.283Z"
   },
   {
    "duration": 9,
    "start_time": "2022-06-17T08:27:18.291Z"
   },
   {
    "duration": 10,
    "start_time": "2022-06-17T08:27:18.301Z"
   },
   {
    "duration": 0,
    "start_time": "2022-06-17T08:27:18.326Z"
   },
   {
    "duration": 0,
    "start_time": "2022-06-17T08:27:18.327Z"
   },
   {
    "duration": 0,
    "start_time": "2022-06-17T08:27:18.328Z"
   },
   {
    "duration": 0,
    "start_time": "2022-06-17T08:27:18.329Z"
   },
   {
    "duration": 0,
    "start_time": "2022-06-17T08:27:18.330Z"
   },
   {
    "duration": 0,
    "start_time": "2022-06-17T08:27:18.331Z"
   },
   {
    "duration": 0,
    "start_time": "2022-06-17T08:27:18.332Z"
   },
   {
    "duration": 4,
    "start_time": "2022-06-17T08:27:43.066Z"
   },
   {
    "duration": 59,
    "start_time": "2022-06-17T08:29:44.736Z"
   },
   {
    "duration": 1288,
    "start_time": "2022-06-17T08:30:10.794Z"
   },
   {
    "duration": 49,
    "start_time": "2022-06-17T08:30:12.084Z"
   },
   {
    "duration": 32,
    "start_time": "2022-06-17T08:30:12.134Z"
   },
   {
    "duration": 249,
    "start_time": "2022-06-17T08:30:12.167Z"
   },
   {
    "duration": 209,
    "start_time": "2022-06-17T08:30:12.418Z"
   },
   {
    "duration": 239,
    "start_time": "2022-06-17T08:30:12.629Z"
   },
   {
    "duration": 757,
    "start_time": "2022-06-17T08:30:12.869Z"
   },
   {
    "duration": 270,
    "start_time": "2022-06-17T08:30:13.627Z"
   },
   {
    "duration": 4,
    "start_time": "2022-06-17T08:30:13.898Z"
   },
   {
    "duration": 22,
    "start_time": "2022-06-17T08:30:13.904Z"
   },
   {
    "duration": 8,
    "start_time": "2022-06-17T08:30:13.927Z"
   },
   {
    "duration": 64,
    "start_time": "2022-06-17T08:30:13.936Z"
   },
   {
    "duration": 28,
    "start_time": "2022-06-17T08:30:14.002Z"
   },
   {
    "duration": 4,
    "start_time": "2022-06-17T08:30:14.031Z"
   },
   {
    "duration": 11,
    "start_time": "2022-06-17T08:30:14.037Z"
   },
   {
    "duration": 7,
    "start_time": "2022-06-17T08:30:14.050Z"
   },
   {
    "duration": 70,
    "start_time": "2022-06-17T08:30:14.058Z"
   },
   {
    "duration": 325,
    "start_time": "2022-06-17T08:30:14.129Z"
   },
   {
    "duration": 878,
    "start_time": "2022-06-17T08:30:14.456Z"
   },
   {
    "duration": 1714,
    "start_time": "2022-06-18T15:26:21.886Z"
   },
   {
    "duration": 128,
    "start_time": "2022-06-18T15:26:23.603Z"
   },
   {
    "duration": 46,
    "start_time": "2022-06-18T15:26:23.733Z"
   },
   {
    "duration": 282,
    "start_time": "2022-06-18T15:26:23.782Z"
   },
   {
    "duration": 241,
    "start_time": "2022-06-18T15:26:24.072Z"
   },
   {
    "duration": 281,
    "start_time": "2022-06-18T15:26:24.315Z"
   },
   {
    "duration": 878,
    "start_time": "2022-06-18T15:26:24.598Z"
   },
   {
    "duration": 302,
    "start_time": "2022-06-18T15:26:25.478Z"
   },
   {
    "duration": 5,
    "start_time": "2022-06-18T15:26:25.782Z"
   },
   {
    "duration": 9,
    "start_time": "2022-06-18T15:26:25.789Z"
   },
   {
    "duration": 8,
    "start_time": "2022-06-18T15:26:25.800Z"
   },
   {
    "duration": 175,
    "start_time": "2022-06-18T15:26:25.809Z"
   },
   {
    "duration": 0,
    "start_time": "2022-06-18T15:26:25.985Z"
   },
   {
    "duration": 0,
    "start_time": "2022-06-18T15:26:25.986Z"
   },
   {
    "duration": 0,
    "start_time": "2022-06-18T15:26:25.987Z"
   },
   {
    "duration": 0,
    "start_time": "2022-06-18T15:26:25.989Z"
   },
   {
    "duration": 0,
    "start_time": "2022-06-18T15:26:25.990Z"
   },
   {
    "duration": 0,
    "start_time": "2022-06-18T15:26:25.991Z"
   },
   {
    "duration": 0,
    "start_time": "2022-06-18T15:26:25.992Z"
   },
   {
    "duration": 0,
    "start_time": "2022-06-18T15:26:25.993Z"
   },
   {
    "duration": 0,
    "start_time": "2022-06-18T15:26:25.995Z"
   },
   {
    "duration": 44,
    "start_time": "2022-06-18T15:27:47.128Z"
   },
   {
    "duration": 10,
    "start_time": "2022-06-18T15:27:56.678Z"
   },
   {
    "duration": 3,
    "start_time": "2022-06-18T15:28:03.147Z"
   },
   {
    "duration": 37,
    "start_time": "2022-06-18T15:29:28.976Z"
   },
   {
    "duration": 33,
    "start_time": "2022-06-18T15:29:29.679Z"
   },
   {
    "duration": 1405,
    "start_time": "2022-06-18T15:29:53.169Z"
   },
   {
    "duration": 60,
    "start_time": "2022-06-18T15:29:54.577Z"
   },
   {
    "duration": 54,
    "start_time": "2022-06-18T15:29:54.639Z"
   },
   {
    "duration": 298,
    "start_time": "2022-06-18T15:29:54.696Z"
   },
   {
    "duration": 298,
    "start_time": "2022-06-18T15:29:54.996Z"
   },
   {
    "duration": 360,
    "start_time": "2022-06-18T15:29:55.296Z"
   },
   {
    "duration": 805,
    "start_time": "2022-06-18T15:29:55.658Z"
   },
   {
    "duration": 275,
    "start_time": "2022-06-18T15:29:56.468Z"
   },
   {
    "duration": 10,
    "start_time": "2022-06-18T15:29:56.744Z"
   },
   {
    "duration": 25,
    "start_time": "2022-06-18T15:29:56.757Z"
   },
   {
    "duration": 23,
    "start_time": "2022-06-18T15:29:56.784Z"
   },
   {
    "duration": 56,
    "start_time": "2022-06-18T15:29:56.810Z"
   },
   {
    "duration": 24,
    "start_time": "2022-06-18T15:29:56.874Z"
   },
   {
    "duration": 9,
    "start_time": "2022-06-18T15:29:56.899Z"
   },
   {
    "duration": 4,
    "start_time": "2022-06-18T15:29:56.910Z"
   },
   {
    "duration": 9,
    "start_time": "2022-06-18T15:29:56.916Z"
   },
   {
    "duration": 31,
    "start_time": "2022-06-18T15:29:56.926Z"
   },
   {
    "duration": 610,
    "start_time": "2022-06-18T15:29:56.964Z"
   },
   {
    "duration": 332,
    "start_time": "2022-06-18T15:29:57.582Z"
   },
   {
    "duration": 0,
    "start_time": "2022-06-18T15:29:57.917Z"
   },
   {
    "duration": 0,
    "start_time": "2022-06-18T15:29:57.956Z"
   },
   {
    "duration": 0,
    "start_time": "2022-06-18T15:29:57.957Z"
   },
   {
    "duration": 387,
    "start_time": "2022-06-18T15:33:47.988Z"
   },
   {
    "duration": 1371,
    "start_time": "2022-06-18T15:34:00.073Z"
   },
   {
    "duration": 58,
    "start_time": "2022-06-18T15:34:01.446Z"
   },
   {
    "duration": 37,
    "start_time": "2022-06-18T15:34:01.506Z"
   },
   {
    "duration": 280,
    "start_time": "2022-06-18T15:34:01.546Z"
   },
   {
    "duration": 275,
    "start_time": "2022-06-18T15:34:01.828Z"
   },
   {
    "duration": 279,
    "start_time": "2022-06-18T15:34:02.105Z"
   },
   {
    "duration": 793,
    "start_time": "2022-06-18T15:34:02.386Z"
   },
   {
    "duration": 305,
    "start_time": "2022-06-18T15:34:03.181Z"
   },
   {
    "duration": 5,
    "start_time": "2022-06-18T15:34:03.488Z"
   },
   {
    "duration": 15,
    "start_time": "2022-06-18T15:34:03.496Z"
   },
   {
    "duration": 10,
    "start_time": "2022-06-18T15:34:03.513Z"
   },
   {
    "duration": 61,
    "start_time": "2022-06-18T15:34:03.525Z"
   },
   {
    "duration": 24,
    "start_time": "2022-06-18T15:34:03.589Z"
   },
   {
    "duration": 10,
    "start_time": "2022-06-18T15:34:03.614Z"
   },
   {
    "duration": 6,
    "start_time": "2022-06-18T15:34:03.626Z"
   },
   {
    "duration": 26,
    "start_time": "2022-06-18T15:34:03.634Z"
   },
   {
    "duration": 26,
    "start_time": "2022-06-18T15:34:03.661Z"
   },
   {
    "duration": 163,
    "start_time": "2022-06-18T15:34:03.689Z"
   },
   {
    "duration": 481,
    "start_time": "2022-06-18T15:34:03.856Z"
   },
   {
    "duration": 193119,
    "start_time": "2022-06-18T15:34:04.339Z"
   },
   {
    "duration": 220,
    "start_time": "2022-06-18T15:37:17.459Z"
   },
   {
    "duration": 238,
    "start_time": "2022-06-18T15:37:17.681Z"
   },
   {
    "duration": 1353,
    "start_time": "2022-06-18T15:44:05.248Z"
   },
   {
    "duration": 48,
    "start_time": "2022-06-18T15:44:06.603Z"
   },
   {
    "duration": 43,
    "start_time": "2022-06-18T15:44:06.655Z"
   },
   {
    "duration": 281,
    "start_time": "2022-06-18T15:44:06.700Z"
   },
   {
    "duration": 232,
    "start_time": "2022-06-18T15:44:06.983Z"
   },
   {
    "duration": 299,
    "start_time": "2022-06-18T15:44:07.217Z"
   },
   {
    "duration": 759,
    "start_time": "2022-06-18T15:44:07.518Z"
   },
   {
    "duration": 300,
    "start_time": "2022-06-18T15:44:08.279Z"
   },
   {
    "duration": 6,
    "start_time": "2022-06-18T15:44:08.581Z"
   },
   {
    "duration": 9,
    "start_time": "2022-06-18T15:44:08.590Z"
   },
   {
    "duration": 11,
    "start_time": "2022-06-18T15:44:08.601Z"
   },
   {
    "duration": 77,
    "start_time": "2022-06-18T15:44:08.614Z"
   },
   {
    "duration": 34,
    "start_time": "2022-06-18T15:44:08.693Z"
   },
   {
    "duration": 30,
    "start_time": "2022-06-18T15:44:08.729Z"
   },
   {
    "duration": 7,
    "start_time": "2022-06-18T15:44:08.760Z"
   },
   {
    "duration": 10,
    "start_time": "2022-06-18T15:44:08.772Z"
   },
   {
    "duration": 7,
    "start_time": "2022-06-18T15:44:08.784Z"
   },
   {
    "duration": 72,
    "start_time": "2022-06-18T15:44:08.793Z"
   },
   {
    "duration": 481,
    "start_time": "2022-06-18T15:44:08.867Z"
   },
   {
    "duration": 172527,
    "start_time": "2022-06-18T15:44:09.351Z"
   },
   {
    "duration": 354,
    "start_time": "2022-06-18T15:47:01.880Z"
   },
   {
    "duration": 283,
    "start_time": "2022-06-18T15:47:02.236Z"
   },
   {
    "duration": 1324,
    "start_time": "2022-06-18T17:21:57.521Z"
   },
   {
    "duration": 55,
    "start_time": "2022-06-18T17:21:58.847Z"
   },
   {
    "duration": 56,
    "start_time": "2022-06-18T17:21:58.904Z"
   },
   {
    "duration": 295,
    "start_time": "2022-06-18T17:21:58.964Z"
   },
   {
    "duration": 248,
    "start_time": "2022-06-18T17:21:59.261Z"
   },
   {
    "duration": 292,
    "start_time": "2022-06-18T17:21:59.512Z"
   },
   {
    "duration": 780,
    "start_time": "2022-06-18T17:21:59.806Z"
   },
   {
    "duration": 293,
    "start_time": "2022-06-18T17:22:00.588Z"
   },
   {
    "duration": 5,
    "start_time": "2022-06-18T17:22:00.882Z"
   },
   {
    "duration": 12,
    "start_time": "2022-06-18T17:22:00.889Z"
   },
   {
    "duration": 19,
    "start_time": "2022-06-18T17:22:00.903Z"
   },
   {
    "duration": 57,
    "start_time": "2022-06-18T17:22:00.923Z"
   },
   {
    "duration": 23,
    "start_time": "2022-06-18T17:22:00.981Z"
   },
   {
    "duration": 11,
    "start_time": "2022-06-18T17:22:01.005Z"
   },
   {
    "duration": 14,
    "start_time": "2022-06-18T17:22:01.017Z"
   },
   {
    "duration": 13,
    "start_time": "2022-06-18T17:22:01.053Z"
   },
   {
    "duration": 17,
    "start_time": "2022-06-18T17:22:01.072Z"
   },
   {
    "duration": 83,
    "start_time": "2022-06-18T17:22:01.091Z"
   },
   {
    "duration": 502,
    "start_time": "2022-06-18T17:22:01.176Z"
   },
   {
    "duration": 1462,
    "start_time": "2022-06-18T17:25:35.571Z"
   },
   {
    "duration": 58,
    "start_time": "2022-06-18T17:25:37.035Z"
   },
   {
    "duration": 38,
    "start_time": "2022-06-18T17:25:37.094Z"
   },
   {
    "duration": 262,
    "start_time": "2022-06-18T17:25:37.134Z"
   },
   {
    "duration": 227,
    "start_time": "2022-06-18T17:25:37.398Z"
   },
   {
    "duration": 277,
    "start_time": "2022-06-18T17:25:37.627Z"
   },
   {
    "duration": 786,
    "start_time": "2022-06-18T17:25:37.906Z"
   },
   {
    "duration": 322,
    "start_time": "2022-06-18T17:25:38.694Z"
   },
   {
    "duration": 4,
    "start_time": "2022-06-18T17:25:39.017Z"
   },
   {
    "duration": 17,
    "start_time": "2022-06-18T17:25:39.023Z"
   },
   {
    "duration": 28,
    "start_time": "2022-06-18T17:25:39.041Z"
   },
   {
    "duration": 47,
    "start_time": "2022-06-18T17:25:39.071Z"
   },
   {
    "duration": 25,
    "start_time": "2022-06-18T17:25:39.120Z"
   },
   {
    "duration": 35,
    "start_time": "2022-06-18T17:25:39.148Z"
   },
   {
    "duration": 5,
    "start_time": "2022-06-18T17:25:39.185Z"
   },
   {
    "duration": 8,
    "start_time": "2022-06-18T17:25:39.192Z"
   },
   {
    "duration": 9,
    "start_time": "2022-06-18T17:25:39.201Z"
   },
   {
    "duration": 63,
    "start_time": "2022-06-18T17:25:39.212Z"
   },
   {
    "duration": 547,
    "start_time": "2022-06-18T17:25:39.276Z"
   },
   {
    "duration": 241686,
    "start_time": "2022-06-18T17:25:39.825Z"
   },
   {
    "duration": 332,
    "start_time": "2022-06-18T17:29:41.513Z"
   }
  ],
  "kernelspec": {
   "display_name": "Python 3 (ipykernel)",
   "language": "python",
   "name": "python3"
  },
  "language_info": {
   "codemirror_mode": {
    "name": "ipython",
    "version": 3
   },
   "file_extension": ".py",
   "mimetype": "text/x-python",
   "name": "python",
   "nbconvert_exporter": "python",
   "pygments_lexer": "ipython3",
   "version": "3.9.5"
  },
  "toc": {
   "base_numbering": 1,
   "nav_menu": {},
   "number_sections": true,
   "sideBar": true,
   "skip_h1_title": true,
   "title_cell": "Содержание",
   "title_sidebar": "Contents",
   "toc_cell": true,
   "toc_position": {},
   "toc_section_display": true,
   "toc_window_display": false
  }
 },
 "nbformat": 4,
 "nbformat_minor": 2
}
