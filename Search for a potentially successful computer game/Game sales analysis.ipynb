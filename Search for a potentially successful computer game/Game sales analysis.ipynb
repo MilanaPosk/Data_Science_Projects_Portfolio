{
 "cells": [
  {
   "cell_type": "markdown",
   "metadata": {},
   "source": [
    "## Открытие файла с данными и изучение информации\n"
   ]
  },
  {
   "cell_type": "code",
   "execution_count": 1,
   "metadata": {
    "scrolled": true
   },
   "outputs": [],
   "source": [
    "import pandas as pd\n",
    "import numpy as np\n",
    "import matplotlib.pyplot as plt\n",
    "import datetime as dt\n",
    "from datetime import datetime\n",
    "from scipy import stats as st\n",
    "import math\n",
    "import seaborn as sns"
   ]
  },
  {
   "cell_type": "code",
   "execution_count": 2,
   "metadata": {},
   "outputs": [
    {
     "data": {
      "text/html": [
       "<div>\n",
       "<style scoped>\n",
       "    .dataframe tbody tr th:only-of-type {\n",
       "        vertical-align: middle;\n",
       "    }\n",
       "\n",
       "    .dataframe tbody tr th {\n",
       "        vertical-align: top;\n",
       "    }\n",
       "\n",
       "    .dataframe thead th {\n",
       "        text-align: right;\n",
       "    }\n",
       "</style>\n",
       "<table border=\"1\" class=\"dataframe\">\n",
       "  <thead>\n",
       "    <tr style=\"text-align: right;\">\n",
       "      <th></th>\n",
       "      <th>Name</th>\n",
       "      <th>Platform</th>\n",
       "      <th>Year_of_Release</th>\n",
       "      <th>Genre</th>\n",
       "      <th>NA_sales</th>\n",
       "      <th>EU_sales</th>\n",
       "      <th>JP_sales</th>\n",
       "      <th>Other_sales</th>\n",
       "      <th>Critic_Score</th>\n",
       "      <th>User_Score</th>\n",
       "      <th>Rating</th>\n",
       "    </tr>\n",
       "  </thead>\n",
       "  <tbody>\n",
       "    <tr>\n",
       "      <th>0</th>\n",
       "      <td>Wii Sports</td>\n",
       "      <td>Wii</td>\n",
       "      <td>2,006.00</td>\n",
       "      <td>Sports</td>\n",
       "      <td>41.36</td>\n",
       "      <td>28.96</td>\n",
       "      <td>3.77</td>\n",
       "      <td>8.45</td>\n",
       "      <td>76.00</td>\n",
       "      <td>8</td>\n",
       "      <td>E</td>\n",
       "    </tr>\n",
       "    <tr>\n",
       "      <th>1</th>\n",
       "      <td>Super Mario Bros.</td>\n",
       "      <td>NES</td>\n",
       "      <td>1,985.00</td>\n",
       "      <td>Platform</td>\n",
       "      <td>29.08</td>\n",
       "      <td>3.58</td>\n",
       "      <td>6.81</td>\n",
       "      <td>0.77</td>\n",
       "      <td>NaN</td>\n",
       "      <td>NaN</td>\n",
       "      <td>NaN</td>\n",
       "    </tr>\n",
       "    <tr>\n",
       "      <th>2</th>\n",
       "      <td>Mario Kart Wii</td>\n",
       "      <td>Wii</td>\n",
       "      <td>2,008.00</td>\n",
       "      <td>Racing</td>\n",
       "      <td>15.68</td>\n",
       "      <td>12.76</td>\n",
       "      <td>3.79</td>\n",
       "      <td>3.29</td>\n",
       "      <td>82.00</td>\n",
       "      <td>8.3</td>\n",
       "      <td>E</td>\n",
       "    </tr>\n",
       "    <tr>\n",
       "      <th>3</th>\n",
       "      <td>Wii Sports Resort</td>\n",
       "      <td>Wii</td>\n",
       "      <td>2,009.00</td>\n",
       "      <td>Sports</td>\n",
       "      <td>15.61</td>\n",
       "      <td>10.93</td>\n",
       "      <td>3.28</td>\n",
       "      <td>2.95</td>\n",
       "      <td>80.00</td>\n",
       "      <td>8</td>\n",
       "      <td>E</td>\n",
       "    </tr>\n",
       "    <tr>\n",
       "      <th>4</th>\n",
       "      <td>Pokemon Red/Pokemon Blue</td>\n",
       "      <td>GB</td>\n",
       "      <td>1,996.00</td>\n",
       "      <td>Role-Playing</td>\n",
       "      <td>11.27</td>\n",
       "      <td>8.89</td>\n",
       "      <td>10.22</td>\n",
       "      <td>1.00</td>\n",
       "      <td>NaN</td>\n",
       "      <td>NaN</td>\n",
       "      <td>NaN</td>\n",
       "    </tr>\n",
       "    <tr>\n",
       "      <th>5</th>\n",
       "      <td>Tetris</td>\n",
       "      <td>GB</td>\n",
       "      <td>1,989.00</td>\n",
       "      <td>Puzzle</td>\n",
       "      <td>23.20</td>\n",
       "      <td>2.26</td>\n",
       "      <td>4.22</td>\n",
       "      <td>0.58</td>\n",
       "      <td>NaN</td>\n",
       "      <td>NaN</td>\n",
       "      <td>NaN</td>\n",
       "    </tr>\n",
       "    <tr>\n",
       "      <th>6</th>\n",
       "      <td>New Super Mario Bros.</td>\n",
       "      <td>DS</td>\n",
       "      <td>2,006.00</td>\n",
       "      <td>Platform</td>\n",
       "      <td>11.28</td>\n",
       "      <td>9.14</td>\n",
       "      <td>6.50</td>\n",
       "      <td>2.88</td>\n",
       "      <td>89.00</td>\n",
       "      <td>8.5</td>\n",
       "      <td>E</td>\n",
       "    </tr>\n",
       "    <tr>\n",
       "      <th>7</th>\n",
       "      <td>Wii Play</td>\n",
       "      <td>Wii</td>\n",
       "      <td>2,006.00</td>\n",
       "      <td>Misc</td>\n",
       "      <td>13.96</td>\n",
       "      <td>9.18</td>\n",
       "      <td>2.93</td>\n",
       "      <td>2.84</td>\n",
       "      <td>58.00</td>\n",
       "      <td>6.6</td>\n",
       "      <td>E</td>\n",
       "    </tr>\n",
       "    <tr>\n",
       "      <th>8</th>\n",
       "      <td>New Super Mario Bros. Wii</td>\n",
       "      <td>Wii</td>\n",
       "      <td>2,009.00</td>\n",
       "      <td>Platform</td>\n",
       "      <td>14.44</td>\n",
       "      <td>6.94</td>\n",
       "      <td>4.70</td>\n",
       "      <td>2.24</td>\n",
       "      <td>87.00</td>\n",
       "      <td>8.4</td>\n",
       "      <td>E</td>\n",
       "    </tr>\n",
       "    <tr>\n",
       "      <th>9</th>\n",
       "      <td>Duck Hunt</td>\n",
       "      <td>NES</td>\n",
       "      <td>1,984.00</td>\n",
       "      <td>Shooter</td>\n",
       "      <td>26.93</td>\n",
       "      <td>0.63</td>\n",
       "      <td>0.28</td>\n",
       "      <td>0.47</td>\n",
       "      <td>NaN</td>\n",
       "      <td>NaN</td>\n",
       "      <td>NaN</td>\n",
       "    </tr>\n",
       "  </tbody>\n",
       "</table>\n",
       "</div>"
      ],
      "text/plain": [
       "                        Name Platform  Year_of_Release         Genre  \\\n",
       "0                 Wii Sports      Wii         2,006.00        Sports   \n",
       "1          Super Mario Bros.      NES         1,985.00      Platform   \n",
       "2             Mario Kart Wii      Wii         2,008.00        Racing   \n",
       "3          Wii Sports Resort      Wii         2,009.00        Sports   \n",
       "4   Pokemon Red/Pokemon Blue       GB         1,996.00  Role-Playing   \n",
       "5                     Tetris       GB         1,989.00        Puzzle   \n",
       "6      New Super Mario Bros.       DS         2,006.00      Platform   \n",
       "7                   Wii Play      Wii         2,006.00          Misc   \n",
       "8  New Super Mario Bros. Wii      Wii         2,009.00      Platform   \n",
       "9                  Duck Hunt      NES         1,984.00       Shooter   \n",
       "\n",
       "   NA_sales  EU_sales  JP_sales  Other_sales  Critic_Score User_Score Rating  \n",
       "0     41.36     28.96      3.77         8.45         76.00          8      E  \n",
       "1     29.08      3.58      6.81         0.77           NaN        NaN    NaN  \n",
       "2     15.68     12.76      3.79         3.29         82.00        8.3      E  \n",
       "3     15.61     10.93      3.28         2.95         80.00          8      E  \n",
       "4     11.27      8.89     10.22         1.00           NaN        NaN    NaN  \n",
       "5     23.20      2.26      4.22         0.58           NaN        NaN    NaN  \n",
       "6     11.28      9.14      6.50         2.88         89.00        8.5      E  \n",
       "7     13.96      9.18      2.93         2.84         58.00        6.6      E  \n",
       "8     14.44      6.94      4.70         2.24         87.00        8.4      E  \n",
       "9     26.93      0.63      0.28         0.47           NaN        NaN    NaN  "
      ]
     },
     "execution_count": 2,
     "metadata": {},
     "output_type": "execute_result"
    }
   ],
   "source": [
    "pd.set_option('display.float_format', '{:,.2f}'.format)\n",
    "data = pd.read_csv('/datasets/games.csv')\n",
    "data.head(10)"
   ]
  },
  {
   "cell_type": "code",
   "execution_count": 3,
   "metadata": {},
   "outputs": [
    {
     "name": "stdout",
     "output_type": "stream",
     "text": [
      "<class 'pandas.core.frame.DataFrame'>\n",
      "RangeIndex: 16715 entries, 0 to 16714\n",
      "Data columns (total 11 columns):\n",
      " #   Column           Non-Null Count  Dtype  \n",
      "---  ------           --------------  -----  \n",
      " 0   Name             16713 non-null  object \n",
      " 1   Platform         16715 non-null  object \n",
      " 2   Year_of_Release  16446 non-null  float64\n",
      " 3   Genre            16713 non-null  object \n",
      " 4   NA_sales         16715 non-null  float64\n",
      " 5   EU_sales         16715 non-null  float64\n",
      " 6   JP_sales         16715 non-null  float64\n",
      " 7   Other_sales      16715 non-null  float64\n",
      " 8   Critic_Score     8137 non-null   float64\n",
      " 9   User_Score       10014 non-null  object \n",
      " 10  Rating           9949 non-null   object \n",
      "dtypes: float64(6), object(5)\n",
      "memory usage: 1.4+ MB\n"
     ]
    }
   ],
   "source": [
    "data.info()"
   ]
  },
  {
   "cell_type": "code",
   "execution_count": 4,
   "metadata": {},
   "outputs": [
    {
     "data": {
      "text/html": [
       "<div>\n",
       "<style scoped>\n",
       "    .dataframe tbody tr th:only-of-type {\n",
       "        vertical-align: middle;\n",
       "    }\n",
       "\n",
       "    .dataframe tbody tr th {\n",
       "        vertical-align: top;\n",
       "    }\n",
       "\n",
       "    .dataframe thead th {\n",
       "        text-align: right;\n",
       "    }\n",
       "</style>\n",
       "<table border=\"1\" class=\"dataframe\">\n",
       "  <thead>\n",
       "    <tr style=\"text-align: right;\">\n",
       "      <th></th>\n",
       "      <th>Year_of_Release</th>\n",
       "      <th>NA_sales</th>\n",
       "      <th>EU_sales</th>\n",
       "      <th>JP_sales</th>\n",
       "      <th>Other_sales</th>\n",
       "      <th>Critic_Score</th>\n",
       "    </tr>\n",
       "  </thead>\n",
       "  <tbody>\n",
       "    <tr>\n",
       "      <th>count</th>\n",
       "      <td>16,446.00</td>\n",
       "      <td>16,715.00</td>\n",
       "      <td>16,715.00</td>\n",
       "      <td>16,715.00</td>\n",
       "      <td>16,715.00</td>\n",
       "      <td>8,137.00</td>\n",
       "    </tr>\n",
       "    <tr>\n",
       "      <th>mean</th>\n",
       "      <td>2,006.48</td>\n",
       "      <td>0.26</td>\n",
       "      <td>0.15</td>\n",
       "      <td>0.08</td>\n",
       "      <td>0.05</td>\n",
       "      <td>68.97</td>\n",
       "    </tr>\n",
       "    <tr>\n",
       "      <th>std</th>\n",
       "      <td>5.88</td>\n",
       "      <td>0.81</td>\n",
       "      <td>0.50</td>\n",
       "      <td>0.31</td>\n",
       "      <td>0.19</td>\n",
       "      <td>13.94</td>\n",
       "    </tr>\n",
       "    <tr>\n",
       "      <th>min</th>\n",
       "      <td>1,980.00</td>\n",
       "      <td>0.00</td>\n",
       "      <td>0.00</td>\n",
       "      <td>0.00</td>\n",
       "      <td>0.00</td>\n",
       "      <td>13.00</td>\n",
       "    </tr>\n",
       "    <tr>\n",
       "      <th>25%</th>\n",
       "      <td>2,003.00</td>\n",
       "      <td>0.00</td>\n",
       "      <td>0.00</td>\n",
       "      <td>0.00</td>\n",
       "      <td>0.00</td>\n",
       "      <td>60.00</td>\n",
       "    </tr>\n",
       "    <tr>\n",
       "      <th>50%</th>\n",
       "      <td>2,007.00</td>\n",
       "      <td>0.08</td>\n",
       "      <td>0.02</td>\n",
       "      <td>0.00</td>\n",
       "      <td>0.01</td>\n",
       "      <td>71.00</td>\n",
       "    </tr>\n",
       "    <tr>\n",
       "      <th>75%</th>\n",
       "      <td>2,010.00</td>\n",
       "      <td>0.24</td>\n",
       "      <td>0.11</td>\n",
       "      <td>0.04</td>\n",
       "      <td>0.03</td>\n",
       "      <td>79.00</td>\n",
       "    </tr>\n",
       "    <tr>\n",
       "      <th>max</th>\n",
       "      <td>2,016.00</td>\n",
       "      <td>41.36</td>\n",
       "      <td>28.96</td>\n",
       "      <td>10.22</td>\n",
       "      <td>10.57</td>\n",
       "      <td>98.00</td>\n",
       "    </tr>\n",
       "  </tbody>\n",
       "</table>\n",
       "</div>"
      ],
      "text/plain": [
       "       Year_of_Release  NA_sales  EU_sales  JP_sales  Other_sales  \\\n",
       "count        16,446.00 16,715.00 16,715.00 16,715.00    16,715.00   \n",
       "mean          2,006.48      0.26      0.15      0.08         0.05   \n",
       "std               5.88      0.81      0.50      0.31         0.19   \n",
       "min           1,980.00      0.00      0.00      0.00         0.00   \n",
       "25%           2,003.00      0.00      0.00      0.00         0.00   \n",
       "50%           2,007.00      0.08      0.02      0.00         0.01   \n",
       "75%           2,010.00      0.24      0.11      0.04         0.03   \n",
       "max           2,016.00     41.36     28.96     10.22        10.57   \n",
       "\n",
       "       Critic_Score  \n",
       "count      8,137.00  \n",
       "mean          68.97  \n",
       "std           13.94  \n",
       "min           13.00  \n",
       "25%           60.00  \n",
       "50%           71.00  \n",
       "75%           79.00  \n",
       "max           98.00  "
      ]
     },
     "execution_count": 4,
     "metadata": {},
     "output_type": "execute_result"
    }
   ],
   "source": [
    "data.describe() "
   ]
  },
  {
   "cell_type": "markdown",
   "metadata": {},
   "source": [
    "**Вывод:** Всего в датасете 16715 строк и 11 колонок с типами данных float, object. есть пропущенные значения в некоторых столбцах. Данные рассматриваются с 1980-2016 года. Все данные по продажам близки к максимальным значениям. а оценки критиков распределены равномерно."
   ]
  },
  {
   "cell_type": "markdown",
   "metadata": {},
   "source": [
    "## Подготовка данных"
   ]
  },
  {
   "cell_type": "code",
   "execution_count": 5,
   "metadata": {},
   "outputs": [],
   "source": [
    "data.columns = data.columns.str.lower()"
   ]
  },
  {
   "cell_type": "code",
   "execution_count": 6,
   "metadata": {},
   "outputs": [
    {
     "data": {
      "text/plain": [
       "name                  2\n",
       "platform              0\n",
       "year_of_release     269\n",
       "genre                 2\n",
       "na_sales              0\n",
       "eu_sales              0\n",
       "jp_sales              0\n",
       "other_sales           0\n",
       "critic_score       8578\n",
       "user_score         6701\n",
       "rating             6766\n",
       "dtype: int64"
      ]
     },
     "execution_count": 6,
     "metadata": {},
     "output_type": "execute_result"
    }
   ],
   "source": [
    "data.isnull().sum(axis = 0)# получили количество NaN вхождений в каждую колонку можно с помощью метода df.isnull().sum и передали axis = 0 в методе sum, чтобы получить количество NaN вхождений в каждом столбце."
   ]
  },
  {
   "cell_type": "code",
   "execution_count": 7,
   "metadata": {},
   "outputs": [],
   "source": [
    "data['year_of_release'] = pd.to_datetime(data['year_of_release'], format='%Y').dt.year"
   ]
  },
  {
   "cell_type": "code",
   "execution_count": 8,
   "metadata": {},
   "outputs": [
    {
     "data": {
      "text/plain": [
       "Action          3369\n",
       "Sports          2348\n",
       "Misc            1750\n",
       "Role-Playing    1498\n",
       "Shooter         1323\n",
       "Adventure       1303\n",
       "Racing          1249\n",
       "Platform         888\n",
       "Simulation       873\n",
       "Fighting         849\n",
       "Strategy         683\n",
       "Puzzle           580\n",
       "Name: genre, dtype: int64"
      ]
     },
     "execution_count": 8,
     "metadata": {},
     "output_type": "execute_result"
    }
   ],
   "source": [
    "data['genre'].value_counts()"
   ]
  },
  {
   "cell_type": "code",
   "execution_count": 9,
   "metadata": {},
   "outputs": [
    {
     "data": {
      "text/plain": [
       "PS2     2161\n",
       "DS      2151\n",
       "PS3     1331\n",
       "Wii     1320\n",
       "X360    1262\n",
       "PSP     1209\n",
       "PS      1197\n",
       "PC       974\n",
       "XB       824\n",
       "GBA      822\n",
       "GC       556\n",
       "3DS      520\n",
       "PSV      430\n",
       "PS4      392\n",
       "N64      319\n",
       "XOne     247\n",
       "SNES     239\n",
       "SAT      173\n",
       "WiiU     147\n",
       "2600     133\n",
       "GB        98\n",
       "NES       98\n",
       "DC        52\n",
       "GEN       29\n",
       "NG        12\n",
       "WS         6\n",
       "SCD        6\n",
       "3DO        3\n",
       "TG16       2\n",
       "GG         1\n",
       "PCFX       1\n",
       "Name: platform, dtype: int64"
      ]
     },
     "execution_count": 9,
     "metadata": {},
     "output_type": "execute_result"
    }
   ],
   "source": [
    "data['platform'].value_counts()"
   ]
  },
  {
   "cell_type": "code",
   "execution_count": 10,
   "metadata": {},
   "outputs": [
    {
     "data": {
      "text/plain": [
       "Need for Speed: Most Wanted                 12\n",
       "LEGO Marvel Super Heroes                     9\n",
       "FIFA 14                                      9\n",
       "Madden NFL 07                                9\n",
       "Ratatouille                                  9\n",
       "                                            ..\n",
       "Smart Kid's Mega Game Mix                    1\n",
       "Wizardry XTH: Unlimited Students             1\n",
       "Triple Play 98                               1\n",
       "Super Real Mahjong Graffiti                  1\n",
       "SaGa 3: Jikuu no Hasha - Shadow or Light     1\n",
       "Name: name, Length: 11559, dtype: int64"
      ]
     },
     "execution_count": 10,
     "metadata": {},
     "output_type": "execute_result"
    }
   ],
   "source": [
    "data['name'].value_counts()"
   ]
  },
  {
   "cell_type": "code",
   "execution_count": 11,
   "metadata": {},
   "outputs": [
    {
     "data": {
      "text/plain": [
       "E       3990\n",
       "T       2961\n",
       "M       1563\n",
       "E10+    1420\n",
       "EC         8\n",
       "RP         3\n",
       "K-A        3\n",
       "AO         1\n",
       "Name: rating, dtype: int64"
      ]
     },
     "execution_count": 11,
     "metadata": {},
     "output_type": "execute_result"
    }
   ],
   "source": [
    "data['rating'].value_counts()"
   ]
  },
  {
   "cell_type": "code",
   "execution_count": 12,
   "metadata": {},
   "outputs": [
    {
     "data": {
      "text/plain": [
       "tbd    2424\n",
       "7.8     324\n",
       "8       290\n",
       "8.2     282\n",
       "8.3     254\n",
       "       ... \n",
       "1.9       2\n",
       "1.5       2\n",
       "0.2       2\n",
       "9.7       1\n",
       "0         1\n",
       "Name: user_score, Length: 96, dtype: int64"
      ]
     },
     "execution_count": 12,
     "metadata": {},
     "output_type": "execute_result"
    }
   ],
   "source": [
    "data['user_score'].value_counts()"
   ]
  },
  {
   "cell_type": "code",
   "execution_count": 13,
   "metadata": {},
   "outputs": [
    {
     "data": {
      "text/plain": [
       "70.00    256\n",
       "71.00    254\n",
       "75.00    245\n",
       "78.00    240\n",
       "73.00    238\n",
       "        ... \n",
       "29.00      3\n",
       "13.00      1\n",
       "22.00      1\n",
       "17.00      1\n",
       "21.00      1\n",
       "Name: critic_score, Length: 82, dtype: int64"
      ]
     },
     "execution_count": 13,
     "metadata": {},
     "output_type": "execute_result"
    }
   ],
   "source": [
    "data['critic_score'].value_counts()"
   ]
  },
  {
   "cell_type": "code",
   "execution_count": 14,
   "metadata": {},
   "outputs": [
    {
     "data": {
      "text/html": [
       "<div>\n",
       "<style scoped>\n",
       "    .dataframe tbody tr th:only-of-type {\n",
       "        vertical-align: middle;\n",
       "    }\n",
       "\n",
       "    .dataframe tbody tr th {\n",
       "        vertical-align: top;\n",
       "    }\n",
       "\n",
       "    .dataframe thead th {\n",
       "        text-align: right;\n",
       "    }\n",
       "</style>\n",
       "<table border=\"1\" class=\"dataframe\">\n",
       "  <thead>\n",
       "    <tr style=\"text-align: right;\">\n",
       "      <th></th>\n",
       "      <th>name</th>\n",
       "      <th>platform</th>\n",
       "      <th>year_of_release</th>\n",
       "      <th>genre</th>\n",
       "      <th>na_sales</th>\n",
       "      <th>eu_sales</th>\n",
       "      <th>jp_sales</th>\n",
       "      <th>other_sales</th>\n",
       "      <th>critic_score</th>\n",
       "      <th>user_score</th>\n",
       "      <th>rating</th>\n",
       "    </tr>\n",
       "  </thead>\n",
       "  <tbody>\n",
       "  </tbody>\n",
       "</table>\n",
       "</div>"
      ],
      "text/plain": [
       "Empty DataFrame\n",
       "Columns: [name, platform, year_of_release, genre, na_sales, eu_sales, jp_sales, other_sales, critic_score, user_score, rating]\n",
       "Index: []"
      ]
     },
     "execution_count": 14,
     "metadata": {},
     "output_type": "execute_result"
    }
   ],
   "source": [
    "data.loc[(data['critic_score'] == 0)]"
   ]
  },
  {
   "cell_type": "code",
   "execution_count": 15,
   "metadata": {},
   "outputs": [],
   "source": [
    "data['critic_score'] = data['critic_score'].fillna(-1).astype('Int64')"
   ]
  },
  {
   "cell_type": "code",
   "execution_count": 16,
   "metadata": {},
   "outputs": [],
   "source": [
    "data['rating'].fillna(0, inplace=True)\n",
    "data['user_score'].fillna(0, inplace=True)"
   ]
  },
  {
   "cell_type": "code",
   "execution_count": 17,
   "metadata": {},
   "outputs": [],
   "source": [
    "data.loc[(data['user_score'] == 'tbd')].head(20)\n",
    "data['user_score'] = data['user_score'].replace('tbd', 0).astype('float')"
   ]
  },
  {
   "cell_type": "code",
   "execution_count": 18,
   "metadata": {},
   "outputs": [
    {
     "data": {
      "text/html": [
       "<div>\n",
       "<style scoped>\n",
       "    .dataframe tbody tr th:only-of-type {\n",
       "        vertical-align: middle;\n",
       "    }\n",
       "\n",
       "    .dataframe tbody tr th {\n",
       "        vertical-align: top;\n",
       "    }\n",
       "\n",
       "    .dataframe thead th {\n",
       "        text-align: right;\n",
       "    }\n",
       "</style>\n",
       "<table border=\"1\" class=\"dataframe\">\n",
       "  <thead>\n",
       "    <tr style=\"text-align: right;\">\n",
       "      <th></th>\n",
       "      <th>name</th>\n",
       "      <th>platform</th>\n",
       "      <th>year_of_release</th>\n",
       "      <th>genre</th>\n",
       "      <th>na_sales</th>\n",
       "      <th>eu_sales</th>\n",
       "      <th>jp_sales</th>\n",
       "      <th>other_sales</th>\n",
       "      <th>critic_score</th>\n",
       "      <th>user_score</th>\n",
       "      <th>rating</th>\n",
       "    </tr>\n",
       "  </thead>\n",
       "  <tbody>\n",
       "  </tbody>\n",
       "</table>\n",
       "</div>"
      ],
      "text/plain": [
       "Empty DataFrame\n",
       "Columns: [name, platform, year_of_release, genre, na_sales, eu_sales, jp_sales, other_sales, critic_score, user_score, rating]\n",
       "Index: []"
      ]
     },
     "execution_count": 18,
     "metadata": {},
     "output_type": "execute_result"
    }
   ],
   "source": [
    "data.loc[(data['year_of_release'] == 'NaN')]# 269 строк, удалим, т.к. там есть суммы по продажам , чтоб не потерять данные по платформам"
   ]
  },
  {
   "cell_type": "code",
   "execution_count": 19,
   "metadata": {},
   "outputs": [
    {
     "data": {
      "text/html": [
       "<div>\n",
       "<style scoped>\n",
       "    .dataframe tbody tr th:only-of-type {\n",
       "        vertical-align: middle;\n",
       "    }\n",
       "\n",
       "    .dataframe tbody tr th {\n",
       "        vertical-align: top;\n",
       "    }\n",
       "\n",
       "    .dataframe thead th {\n",
       "        text-align: right;\n",
       "    }\n",
       "</style>\n",
       "<table border=\"1\" class=\"dataframe\">\n",
       "  <thead>\n",
       "    <tr style=\"text-align: right;\">\n",
       "      <th></th>\n",
       "      <th>name</th>\n",
       "      <th>platform</th>\n",
       "      <th>year_of_release</th>\n",
       "      <th>genre</th>\n",
       "      <th>na_sales</th>\n",
       "      <th>eu_sales</th>\n",
       "      <th>jp_sales</th>\n",
       "      <th>other_sales</th>\n",
       "      <th>critic_score</th>\n",
       "      <th>user_score</th>\n",
       "      <th>rating</th>\n",
       "    </tr>\n",
       "  </thead>\n",
       "  <tbody>\n",
       "  </tbody>\n",
       "</table>\n",
       "</div>"
      ],
      "text/plain": [
       "Empty DataFrame\n",
       "Columns: [name, platform, year_of_release, genre, na_sales, eu_sales, jp_sales, other_sales, critic_score, user_score, rating]\n",
       "Index: []"
      ]
     },
     "execution_count": 19,
     "metadata": {},
     "output_type": "execute_result"
    }
   ],
   "source": [
    "data.loc[(data['name'] == 'NaN')]# 2 строки удалим"
   ]
  },
  {
   "cell_type": "code",
   "execution_count": 20,
   "metadata": {},
   "outputs": [],
   "source": [
    "data = data.dropna(subset=['name','year_of_release']).reset_index(drop=True)\n",
    "data['year_of_release'] = data['year_of_release'].astype(int)"
   ]
  },
  {
   "cell_type": "code",
   "execution_count": 21,
   "metadata": {},
   "outputs": [],
   "source": [
    "data['all_sales'] = data.loc[:, 'na_sales':'other_sales'].sum(1)"
   ]
  },
  {
   "cell_type": "code",
   "execution_count": 22,
   "metadata": {
    "scrolled": true
   },
   "outputs": [
    {
     "data": {
      "text/html": [
       "<div>\n",
       "<style scoped>\n",
       "    .dataframe tbody tr th:only-of-type {\n",
       "        vertical-align: middle;\n",
       "    }\n",
       "\n",
       "    .dataframe tbody tr th {\n",
       "        vertical-align: top;\n",
       "    }\n",
       "\n",
       "    .dataframe thead th {\n",
       "        text-align: right;\n",
       "    }\n",
       "</style>\n",
       "<table border=\"1\" class=\"dataframe\">\n",
       "  <thead>\n",
       "    <tr style=\"text-align: right;\">\n",
       "      <th></th>\n",
       "      <th>name</th>\n",
       "      <th>platform</th>\n",
       "      <th>year_of_release</th>\n",
       "      <th>genre</th>\n",
       "      <th>na_sales</th>\n",
       "      <th>eu_sales</th>\n",
       "      <th>jp_sales</th>\n",
       "      <th>other_sales</th>\n",
       "      <th>critic_score</th>\n",
       "      <th>user_score</th>\n",
       "      <th>rating</th>\n",
       "      <th>all_sales</th>\n",
       "    </tr>\n",
       "  </thead>\n",
       "  <tbody>\n",
       "    <tr>\n",
       "      <th>0</th>\n",
       "      <td>Wii Sports</td>\n",
       "      <td>Wii</td>\n",
       "      <td>2006</td>\n",
       "      <td>Sports</td>\n",
       "      <td>41.36</td>\n",
       "      <td>28.96</td>\n",
       "      <td>3.77</td>\n",
       "      <td>8.45</td>\n",
       "      <td>76</td>\n",
       "      <td>8.00</td>\n",
       "      <td>E</td>\n",
       "      <td>82.54</td>\n",
       "    </tr>\n",
       "    <tr>\n",
       "      <th>1</th>\n",
       "      <td>Super Mario Bros.</td>\n",
       "      <td>NES</td>\n",
       "      <td>1985</td>\n",
       "      <td>Platform</td>\n",
       "      <td>29.08</td>\n",
       "      <td>3.58</td>\n",
       "      <td>6.81</td>\n",
       "      <td>0.77</td>\n",
       "      <td>-1</td>\n",
       "      <td>0.00</td>\n",
       "      <td>0</td>\n",
       "      <td>40.24</td>\n",
       "    </tr>\n",
       "    <tr>\n",
       "      <th>2</th>\n",
       "      <td>Mario Kart Wii</td>\n",
       "      <td>Wii</td>\n",
       "      <td>2008</td>\n",
       "      <td>Racing</td>\n",
       "      <td>15.68</td>\n",
       "      <td>12.76</td>\n",
       "      <td>3.79</td>\n",
       "      <td>3.29</td>\n",
       "      <td>82</td>\n",
       "      <td>8.30</td>\n",
       "      <td>E</td>\n",
       "      <td>35.52</td>\n",
       "    </tr>\n",
       "    <tr>\n",
       "      <th>3</th>\n",
       "      <td>Wii Sports Resort</td>\n",
       "      <td>Wii</td>\n",
       "      <td>2009</td>\n",
       "      <td>Sports</td>\n",
       "      <td>15.61</td>\n",
       "      <td>10.93</td>\n",
       "      <td>3.28</td>\n",
       "      <td>2.95</td>\n",
       "      <td>80</td>\n",
       "      <td>8.00</td>\n",
       "      <td>E</td>\n",
       "      <td>32.77</td>\n",
       "    </tr>\n",
       "    <tr>\n",
       "      <th>4</th>\n",
       "      <td>Pokemon Red/Pokemon Blue</td>\n",
       "      <td>GB</td>\n",
       "      <td>1996</td>\n",
       "      <td>Role-Playing</td>\n",
       "      <td>11.27</td>\n",
       "      <td>8.89</td>\n",
       "      <td>10.22</td>\n",
       "      <td>1.00</td>\n",
       "      <td>-1</td>\n",
       "      <td>0.00</td>\n",
       "      <td>0</td>\n",
       "      <td>31.38</td>\n",
       "    </tr>\n",
       "    <tr>\n",
       "      <th>5</th>\n",
       "      <td>Tetris</td>\n",
       "      <td>GB</td>\n",
       "      <td>1989</td>\n",
       "      <td>Puzzle</td>\n",
       "      <td>23.20</td>\n",
       "      <td>2.26</td>\n",
       "      <td>4.22</td>\n",
       "      <td>0.58</td>\n",
       "      <td>-1</td>\n",
       "      <td>0.00</td>\n",
       "      <td>0</td>\n",
       "      <td>30.26</td>\n",
       "    </tr>\n",
       "    <tr>\n",
       "      <th>6</th>\n",
       "      <td>New Super Mario Bros.</td>\n",
       "      <td>DS</td>\n",
       "      <td>2006</td>\n",
       "      <td>Platform</td>\n",
       "      <td>11.28</td>\n",
       "      <td>9.14</td>\n",
       "      <td>6.50</td>\n",
       "      <td>2.88</td>\n",
       "      <td>89</td>\n",
       "      <td>8.50</td>\n",
       "      <td>E</td>\n",
       "      <td>29.80</td>\n",
       "    </tr>\n",
       "    <tr>\n",
       "      <th>7</th>\n",
       "      <td>Wii Play</td>\n",
       "      <td>Wii</td>\n",
       "      <td>2006</td>\n",
       "      <td>Misc</td>\n",
       "      <td>13.96</td>\n",
       "      <td>9.18</td>\n",
       "      <td>2.93</td>\n",
       "      <td>2.84</td>\n",
       "      <td>58</td>\n",
       "      <td>6.60</td>\n",
       "      <td>E</td>\n",
       "      <td>28.91</td>\n",
       "    </tr>\n",
       "    <tr>\n",
       "      <th>8</th>\n",
       "      <td>New Super Mario Bros. Wii</td>\n",
       "      <td>Wii</td>\n",
       "      <td>2009</td>\n",
       "      <td>Platform</td>\n",
       "      <td>14.44</td>\n",
       "      <td>6.94</td>\n",
       "      <td>4.70</td>\n",
       "      <td>2.24</td>\n",
       "      <td>87</td>\n",
       "      <td>8.40</td>\n",
       "      <td>E</td>\n",
       "      <td>28.32</td>\n",
       "    </tr>\n",
       "    <tr>\n",
       "      <th>9</th>\n",
       "      <td>Duck Hunt</td>\n",
       "      <td>NES</td>\n",
       "      <td>1984</td>\n",
       "      <td>Shooter</td>\n",
       "      <td>26.93</td>\n",
       "      <td>0.63</td>\n",
       "      <td>0.28</td>\n",
       "      <td>0.47</td>\n",
       "      <td>-1</td>\n",
       "      <td>0.00</td>\n",
       "      <td>0</td>\n",
       "      <td>28.31</td>\n",
       "    </tr>\n",
       "  </tbody>\n",
       "</table>\n",
       "</div>"
      ],
      "text/plain": [
       "                        name platform  year_of_release         genre  \\\n",
       "0                 Wii Sports      Wii             2006        Sports   \n",
       "1          Super Mario Bros.      NES             1985      Platform   \n",
       "2             Mario Kart Wii      Wii             2008        Racing   \n",
       "3          Wii Sports Resort      Wii             2009        Sports   \n",
       "4   Pokemon Red/Pokemon Blue       GB             1996  Role-Playing   \n",
       "5                     Tetris       GB             1989        Puzzle   \n",
       "6      New Super Mario Bros.       DS             2006      Platform   \n",
       "7                   Wii Play      Wii             2006          Misc   \n",
       "8  New Super Mario Bros. Wii      Wii             2009      Platform   \n",
       "9                  Duck Hunt      NES             1984       Shooter   \n",
       "\n",
       "   na_sales  eu_sales  jp_sales  other_sales  critic_score  user_score rating  \\\n",
       "0     41.36     28.96      3.77         8.45            76        8.00      E   \n",
       "1     29.08      3.58      6.81         0.77            -1        0.00      0   \n",
       "2     15.68     12.76      3.79         3.29            82        8.30      E   \n",
       "3     15.61     10.93      3.28         2.95            80        8.00      E   \n",
       "4     11.27      8.89     10.22         1.00            -1        0.00      0   \n",
       "5     23.20      2.26      4.22         0.58            -1        0.00      0   \n",
       "6     11.28      9.14      6.50         2.88            89        8.50      E   \n",
       "7     13.96      9.18      2.93         2.84            58        6.60      E   \n",
       "8     14.44      6.94      4.70         2.24            87        8.40      E   \n",
       "9     26.93      0.63      0.28         0.47            -1        0.00      0   \n",
       "\n",
       "   all_sales  \n",
       "0      82.54  \n",
       "1      40.24  \n",
       "2      35.52  \n",
       "3      32.77  \n",
       "4      31.38  \n",
       "5      30.26  \n",
       "6      29.80  \n",
       "7      28.91  \n",
       "8      28.32  \n",
       "9      28.31  "
      ]
     },
     "execution_count": 22,
     "metadata": {},
     "output_type": "execute_result"
    }
   ],
   "source": [
    "data.head(10)"
   ]
  },
  {
   "cell_type": "code",
   "execution_count": 23,
   "metadata": {
    "scrolled": true
   },
   "outputs": [
    {
     "name": "stdout",
     "output_type": "stream",
     "text": [
      "<class 'pandas.core.frame.DataFrame'>\n",
      "RangeIndex: 16444 entries, 0 to 16443\n",
      "Data columns (total 12 columns):\n",
      " #   Column           Non-Null Count  Dtype  \n",
      "---  ------           --------------  -----  \n",
      " 0   name             16444 non-null  object \n",
      " 1   platform         16444 non-null  object \n",
      " 2   year_of_release  16444 non-null  int64  \n",
      " 3   genre            16444 non-null  object \n",
      " 4   na_sales         16444 non-null  float64\n",
      " 5   eu_sales         16444 non-null  float64\n",
      " 6   jp_sales         16444 non-null  float64\n",
      " 7   other_sales      16444 non-null  float64\n",
      " 8   critic_score     16444 non-null  Int64  \n",
      " 9   user_score       16444 non-null  float64\n",
      " 10  rating           16444 non-null  object \n",
      " 11  all_sales        16444 non-null  float64\n",
      "dtypes: Int64(1), float64(6), int64(1), object(4)\n",
      "memory usage: 1.5+ MB\n"
     ]
    }
   ],
   "source": [
    "data.info()"
   ]
  },
  {
   "cell_type": "markdown",
   "metadata": {},
   "source": [
    "**Вывод:**\n",
    "В ходе подготовке данных к исследованию были проделаны следующие действия:\n",
    "1. Обнаружены пропущенные значения в столбцах:\n",
    "- в столбцах \"Название игры\" всего 2 строки и в \"Год выпуска\" 269 строки с пропущенными значениями, что составляет менее 1% общих данных, поэтому их удалили. В эти удалённые строки вошли пропуски по столбцам \"Платформа\", \"Жанр\";\n",
    "- в столбцах \"Рейтинг от организации ESRB\" и \"Оценка критиков\" пропущенные значения, больше половины, но восполнить или заменить эти данные нечем, поэтому их преобразовали в 0;\n",
    "- в \"Оценка позьзователей\" значчниея с 0 только одна строка, поэтому все пропущенне значения тоже заменены на 0.\n",
    "2. Замена данных:\n",
    "- в столбце \"Оценка пользователей\" были обнаружены строки с значением tbd, что значит To Be Determined, то есть \"Будет определено\", поэтому данные значения заменим на 0.\n",
    "3. Преобразованный типы данные в столбце:\n",
    "- \"Год выпуска\" сначала переведен в формат года, а после в int;\n",
    "- столбец \"Оценка пользователей\" преобразован в вещественный тип.\n",
    "4. Создан новый столбец:\n",
    "- просуммированы данные по продажам во всех регионах и добавлены в новый столбец \"all_sales\".\n",
    "   "
   ]
  },
  {
   "cell_type": "markdown",
   "metadata": {},
   "source": [
    "## Исследовательский анализ данных"
   ]
  },
  {
   "cell_type": "code",
   "execution_count": 24,
   "metadata": {},
   "outputs": [],
   "source": [
    "#pip install -U seaborn"
   ]
  },
  {
   "cell_type": "markdown",
   "metadata": {},
   "source": [
    "### Расчет колличества выпуска игр в разные годы ###"
   ]
  },
  {
   "cell_type": "code",
   "execution_count": 25,
   "metadata": {},
   "outputs": [
    {
     "data": {
      "image/png": "[encoded data removed]",
      "text/plain": [
       "<Figure size 720x480 with 1 Axes>"
      ]
     },
     "metadata": {
      "needs_background": "light"
     },
     "output_type": "display_data"
    }
   ],
   "source": [
    "plt.figure(dpi=120)\n",
    "sns.histplot(data= data, x= 'year_of_release', bins=37)\n",
    "#=data_name_year_of_release.index, height=data['year_of_release'])\n",
    "plt.title('Количество игр по годам')\n",
    "plt.xlabel('Год')\n",
    "plt.ylabel('Колличество игр')\n",
    "plt.xticks(rotation = 65)\n",
    "plt.show() "
   ]
  },
  {
   "cell_type": "markdown",
   "metadata": {},
   "source": [
    "<font color='DarkBlue'><b>Комментарий ревьюера</b></font><br>\n",
    "<font color='DarkMagenta'>👉 Здесь была бы уместна визуализация количество игр по годам. А так таблица очень большая и не удобная для анализа. 😲</font>"
   ]
  },
  {
   "cell_type": "markdown",
   "metadata": {},
   "source": [
    "<font color='DarkBlue'><b>Комментарий студента</b></font><br>\n",
    "<font color='Blue'><b>Построила график</b></font>"
   ]
  },
  {
   "cell_type": "markdown",
   "metadata": {},
   "source": [
    "<font color='DarkBlue'><b>Комментарий ревьюера 2</b></font><br>\n",
    "<font color='DarkGreen'>👌 Ну вот, другое дело!</font>"
   ]
  },
  {
   "cell_type": "markdown",
   "metadata": {},
   "source": [
    "**Вывод:** Из сводной таблицы составленной по году впуска игры и количеству игр, видно, что данные начитаются с 1980г, в котором было всего 9 игр, а уже в 2008г было 1427шт.  Можно условно взять актуальный период по количеству игр с 2013г. Пик создания игр можно установивить с 2006 - 2011 года."
   ]
  },
  {
   "cell_type": "markdown",
   "metadata": {},
   "source": [
    "### Исследование характера изменения продаж по платформам ###"
   ]
  },
  {
   "cell_type": "code",
   "execution_count": 26,
   "metadata": {},
   "outputs": [
    {
     "data": {
      "image/png": "[encoded data removed]",
      "text/plain": [
       "<Figure size 720x480 with 1 Axes>"
      ]
     },
     "metadata": {
      "needs_background": "light"
     },
     "output_type": "display_data"
    }
   ],
   "source": [
    "data_platform_sales = data.pivot_table(index='platform', values='all_sales', aggfunc='sum').sort_values(by='all_sales', ascending=False)\n",
    "plt.figure(dpi=120)\n",
    "plt.bar(x=data_platform_sales.index, height=data_platform_sales['all_sales'])\n",
    "plt.title('Суммарные продажи по годам')\n",
    "plt.xlabel('Платформа')\n",
    "plt.ylabel('Сумма продаж')\n",
    "plt.xticks(rotation = 65)\n",
    "plt.show() "
   ]
  },
  {
   "cell_type": "code",
   "execution_count": 27,
   "metadata": {},
   "outputs": [
    {
     "data": {
      "text/plain": [
       "['PS2', 'X360', 'PS3', 'Wii', 'DS', 'PS']"
      ]
     },
     "execution_count": 27,
     "metadata": {},
     "output_type": "execute_result"
    }
   ],
   "source": [
    "platform_top = list(data_platform_sales.reset_index().head(6)['platform'])\n",
    "platform_top"
   ]
  },
  {
   "cell_type": "code",
   "execution_count": 28,
   "metadata": {},
   "outputs": [
    {
     "data": {
      "image/png": "[encoded data removed]",
      "text/plain": [
       "<Figure size 1440x720 with 1 Axes>"
      ]
     },
     "metadata": {
      "needs_background": "light"
     },
     "output_type": "display_data"
    }
   ],
   "source": [
    "plt.figure(figsize = (20,10))\n",
    "\n",
    "sns.barplot(data=data.query('platform == @platform_top').sort_values('year_of_release',ascending = False), x='year_of_release', y='all_sales', hue='platform',estimator=sum, ci=0)\n",
    "plt.title('Распределения суммарных продаж по продажам за весь период', fontsize =20)\n",
    "plt.xlabel('Года', fontsize =15)\n",
    "plt.ylabel('Продажи', fontsize =15)\n",
    "plt.xticks(rotation = 45)\n",
    "plt.show() "
   ]
  },
  {
   "cell_type": "code",
   "execution_count": 29,
   "metadata": {},
   "outputs": [
    {
     "name": "stdout",
     "output_type": "stream",
     "text": [
      "Среднее времяжизни платформы: 8 лет\n"
     ]
    }
   ],
   "source": [
    "mean_lifetime = data.pivot_table(index='platform', aggfunc={'year_of_release': ['min','max']}).reset_index()\n",
    "mean_lifetime = mean_lifetime[('year_of_release','max')] - mean_lifetime[('year_of_release','min')]\n",
    "print('Среднее времяжизни платформы:', round(mean_lifetime.mean()), 'лет')"
   ]
  },
  {
   "cell_type": "markdown",
   "metadata": {},
   "source": [
    "**Вывод:** \n",
    "- из графика 'Суммарные продажи по годам' лидирующее место занимает PS2 с 1200 млн и есть платформ с минимальными продажами близкими к 0, такие как SDS, WS, 3DO, PCFX, NG, GG, NG16;\n",
    "- отберем топ 6 платформ с суммарными продажами не менее 450 млн, это 'PS2', 'X360', 'Wii', 'PS3', 'DS', 'PS';\n",
    "- из графика 'Распределения суммарных продаж по продажам за весь период' видно, когда появляется, далее доходит до пика роста и идет на спад, каждая из отобранных платформ. В среднем продолжительность существования платформы равно 8 годам."
   ]
  },
  {
   "cell_type": "markdown",
   "metadata": {},
   "source": [
    "### Определение актуального периода ###"
   ]
  },
  {
   "cell_type": "code",
   "execution_count": 30,
   "metadata": {},
   "outputs": [
    {
     "data": {
      "text/html": [
       "<div>\n",
       "<style scoped>\n",
       "    .dataframe tbody tr th:only-of-type {\n",
       "        vertical-align: middle;\n",
       "    }\n",
       "\n",
       "    .dataframe tbody tr th {\n",
       "        vertical-align: top;\n",
       "    }\n",
       "\n",
       "    .dataframe thead th {\n",
       "        text-align: right;\n",
       "    }\n",
       "</style>\n",
       "<table border=\"1\" class=\"dataframe\">\n",
       "  <thead>\n",
       "    <tr style=\"text-align: right;\">\n",
       "      <th></th>\n",
       "      <th>name</th>\n",
       "      <th>platform</th>\n",
       "      <th>year_of_release</th>\n",
       "      <th>genre</th>\n",
       "      <th>na_sales</th>\n",
       "      <th>eu_sales</th>\n",
       "      <th>jp_sales</th>\n",
       "      <th>other_sales</th>\n",
       "      <th>critic_score</th>\n",
       "      <th>user_score</th>\n",
       "      <th>rating</th>\n",
       "      <th>all_sales</th>\n",
       "    </tr>\n",
       "  </thead>\n",
       "  <tbody>\n",
       "    <tr>\n",
       "      <th>16</th>\n",
       "      <td>Grand Theft Auto V</td>\n",
       "      <td>PS3</td>\n",
       "      <td>2013</td>\n",
       "      <td>Action</td>\n",
       "      <td>7.02</td>\n",
       "      <td>9.09</td>\n",
       "      <td>0.98</td>\n",
       "      <td>3.96</td>\n",
       "      <td>97</td>\n",
       "      <td>8.20</td>\n",
       "      <td>M</td>\n",
       "      <td>21.05</td>\n",
       "    </tr>\n",
       "    <tr>\n",
       "      <th>23</th>\n",
       "      <td>Grand Theft Auto V</td>\n",
       "      <td>X360</td>\n",
       "      <td>2013</td>\n",
       "      <td>Action</td>\n",
       "      <td>9.66</td>\n",
       "      <td>5.14</td>\n",
       "      <td>0.06</td>\n",
       "      <td>1.41</td>\n",
       "      <td>97</td>\n",
       "      <td>8.10</td>\n",
       "      <td>M</td>\n",
       "      <td>16.27</td>\n",
       "    </tr>\n",
       "    <tr>\n",
       "      <th>60</th>\n",
       "      <td>Call of Duty: Ghosts</td>\n",
       "      <td>X360</td>\n",
       "      <td>2013</td>\n",
       "      <td>Shooter</td>\n",
       "      <td>6.73</td>\n",
       "      <td>2.56</td>\n",
       "      <td>0.04</td>\n",
       "      <td>0.91</td>\n",
       "      <td>73</td>\n",
       "      <td>2.60</td>\n",
       "      <td>M</td>\n",
       "      <td>10.24</td>\n",
       "    </tr>\n",
       "    <tr>\n",
       "      <th>69</th>\n",
       "      <td>Call of Duty: Ghosts</td>\n",
       "      <td>PS3</td>\n",
       "      <td>2013</td>\n",
       "      <td>Shooter</td>\n",
       "      <td>4.10</td>\n",
       "      <td>3.63</td>\n",
       "      <td>0.38</td>\n",
       "      <td>1.25</td>\n",
       "      <td>71</td>\n",
       "      <td>2.60</td>\n",
       "      <td>M</td>\n",
       "      <td>9.36</td>\n",
       "    </tr>\n",
       "    <tr>\n",
       "      <th>72</th>\n",
       "      <td>Minecraft</td>\n",
       "      <td>X360</td>\n",
       "      <td>2013</td>\n",
       "      <td>Misc</td>\n",
       "      <td>5.70</td>\n",
       "      <td>2.65</td>\n",
       "      <td>0.02</td>\n",
       "      <td>0.81</td>\n",
       "      <td>-1</td>\n",
       "      <td>0.00</td>\n",
       "      <td>0</td>\n",
       "      <td>9.18</td>\n",
       "    </tr>\n",
       "    <tr>\n",
       "      <th>...</th>\n",
       "      <td>...</td>\n",
       "      <td>...</td>\n",
       "      <td>...</td>\n",
       "      <td>...</td>\n",
       "      <td>...</td>\n",
       "      <td>...</td>\n",
       "      <td>...</td>\n",
       "      <td>...</td>\n",
       "      <td>...</td>\n",
       "      <td>...</td>\n",
       "      <td>...</td>\n",
       "      <td>...</td>\n",
       "    </tr>\n",
       "    <tr>\n",
       "      <th>16367</th>\n",
       "      <td>Tour de France 2014</td>\n",
       "      <td>PS3</td>\n",
       "      <td>2014</td>\n",
       "      <td>Sports</td>\n",
       "      <td>0.00</td>\n",
       "      <td>0.01</td>\n",
       "      <td>0.00</td>\n",
       "      <td>0.00</td>\n",
       "      <td>-1</td>\n",
       "      <td>0.00</td>\n",
       "      <td>E</td>\n",
       "      <td>0.01</td>\n",
       "    </tr>\n",
       "    <tr>\n",
       "      <th>16383</th>\n",
       "      <td>Ben 10 Omniverse 2</td>\n",
       "      <td>X360</td>\n",
       "      <td>2013</td>\n",
       "      <td>Action</td>\n",
       "      <td>0.00</td>\n",
       "      <td>0.01</td>\n",
       "      <td>0.00</td>\n",
       "      <td>0.00</td>\n",
       "      <td>-1</td>\n",
       "      <td>5.10</td>\n",
       "      <td>E10+</td>\n",
       "      <td>0.01</td>\n",
       "    </tr>\n",
       "    <tr>\n",
       "      <th>16403</th>\n",
       "      <td>Tsukigime Ranko's Longest Day</td>\n",
       "      <td>PS3</td>\n",
       "      <td>2014</td>\n",
       "      <td>Action</td>\n",
       "      <td>0.00</td>\n",
       "      <td>0.01</td>\n",
       "      <td>0.00</td>\n",
       "      <td>0.00</td>\n",
       "      <td>-1</td>\n",
       "      <td>0.00</td>\n",
       "      <td>0</td>\n",
       "      <td>0.01</td>\n",
       "    </tr>\n",
       "    <tr>\n",
       "      <th>16420</th>\n",
       "      <td>Dynasty Warriors: Eiketsuden</td>\n",
       "      <td>PS3</td>\n",
       "      <td>2016</td>\n",
       "      <td>Action</td>\n",
       "      <td>0.00</td>\n",
       "      <td>0.00</td>\n",
       "      <td>0.01</td>\n",
       "      <td>0.00</td>\n",
       "      <td>-1</td>\n",
       "      <td>0.00</td>\n",
       "      <td>0</td>\n",
       "      <td>0.01</td>\n",
       "    </tr>\n",
       "    <tr>\n",
       "      <th>16439</th>\n",
       "      <td>Samurai Warriors: Sanada Maru</td>\n",
       "      <td>PS3</td>\n",
       "      <td>2016</td>\n",
       "      <td>Action</td>\n",
       "      <td>0.00</td>\n",
       "      <td>0.00</td>\n",
       "      <td>0.01</td>\n",
       "      <td>0.00</td>\n",
       "      <td>-1</td>\n",
       "      <td>0.00</td>\n",
       "      <td>0</td>\n",
       "      <td>0.01</td>\n",
       "    </tr>\n",
       "  </tbody>\n",
       "</table>\n",
       "<p>562 rows × 12 columns</p>\n",
       "</div>"
      ],
      "text/plain": [
       "                                name platform  year_of_release    genre  \\\n",
       "16                Grand Theft Auto V      PS3             2013   Action   \n",
       "23                Grand Theft Auto V     X360             2013   Action   \n",
       "60              Call of Duty: Ghosts     X360             2013  Shooter   \n",
       "69              Call of Duty: Ghosts      PS3             2013  Shooter   \n",
       "72                         Minecraft     X360             2013     Misc   \n",
       "...                              ...      ...              ...      ...   \n",
       "16367            Tour de France 2014      PS3             2014   Sports   \n",
       "16383             Ben 10 Omniverse 2     X360             2013   Action   \n",
       "16403  Tsukigime Ranko's Longest Day      PS3             2014   Action   \n",
       "16420   Dynasty Warriors: Eiketsuden      PS3             2016   Action   \n",
       "16439  Samurai Warriors: Sanada Maru      PS3             2016   Action   \n",
       "\n",
       "       na_sales  eu_sales  jp_sales  other_sales  critic_score  user_score  \\\n",
       "16         7.02      9.09      0.98         3.96            97        8.20   \n",
       "23         9.66      5.14      0.06         1.41            97        8.10   \n",
       "60         6.73      2.56      0.04         0.91            73        2.60   \n",
       "69         4.10      3.63      0.38         1.25            71        2.60   \n",
       "72         5.70      2.65      0.02         0.81            -1        0.00   \n",
       "...         ...       ...       ...          ...           ...         ...   \n",
       "16367      0.00      0.01      0.00         0.00            -1        0.00   \n",
       "16383      0.00      0.01      0.00         0.00            -1        5.10   \n",
       "16403      0.00      0.01      0.00         0.00            -1        0.00   \n",
       "16420      0.00      0.00      0.01         0.00            -1        0.00   \n",
       "16439      0.00      0.00      0.01         0.00            -1        0.00   \n",
       "\n",
       "      rating  all_sales  \n",
       "16         M      21.05  \n",
       "23         M      16.27  \n",
       "60         M      10.24  \n",
       "69         M       9.36  \n",
       "72         0       9.18  \n",
       "...      ...        ...  \n",
       "16367      E       0.01  \n",
       "16383   E10+       0.01  \n",
       "16403      0       0.01  \n",
       "16420      0       0.01  \n",
       "16439      0       0.01  \n",
       "\n",
       "[562 rows x 12 columns]"
      ]
     },
     "execution_count": 30,
     "metadata": {},
     "output_type": "execute_result"
    }
   ],
   "source": [
    "period_actual = data.query('year_of_release >= 2013')\n",
    "data_actual = period_actual[period_actual['platform'].isin(platform_top)]\n",
    "data_actual"
   ]
  },
  {
   "cell_type": "markdown",
   "metadata": {},
   "source": [
    "**Вывод:** Далее будем исследовать данные начиная с 2013 года. Эти данные помогут построить прогноз на 2017\n",
    "год."
   ]
  },
  {
   "cell_type": "markdown",
   "metadata": {},
   "source": [
    "### Построение графика по всем продажам игр в разбивке по платформам ###"
   ]
  },
  {
   "cell_type": "code",
   "execution_count": 31,
   "metadata": {
    "scrolled": true
   },
   "outputs": [
    {
     "data": {
      "image/png": "[encoded data removed]",
      "text/plain": [
       "<Figure size 432x288 with 1 Axes>"
      ]
     },
     "metadata": {
      "needs_background": "light"
     },
     "output_type": "display_data"
    }
   ],
   "source": [
    "sns.boxplot(data=data_actual, x='platform', y='all_sales')\n",
    "plt.grid()"
   ]
  },
  {
   "cell_type": "code",
   "execution_count": 32,
   "metadata": {},
   "outputs": [
    {
     "data": {
      "image/png": "[encoded data removed]",
      "text/plain": [
       "<Figure size 3600x1800 with 1 Axes>"
      ]
     },
     "metadata": {
      "needs_background": "light"
     },
     "output_type": "display_data"
    }
   ],
   "source": [
    "plt.figure(figsize = (20,10), dpi=180)\n",
    "sns.boxplot(data=data_actual, x='platform', y='all_sales')\n",
    "plt.ylim([0,1.8])\n",
    "plt.grid()"
   ]
  },
  {
   "cell_type": "code",
   "execution_count": 33,
   "metadata": {},
   "outputs": [
    {
     "data": {
      "text/html": [
       "<div>\n",
       "<style scoped>\n",
       "    .dataframe tbody tr th:only-of-type {\n",
       "        vertical-align: middle;\n",
       "    }\n",
       "\n",
       "    .dataframe tbody tr th {\n",
       "        vertical-align: top;\n",
       "    }\n",
       "\n",
       "    .dataframe thead th {\n",
       "        text-align: right;\n",
       "    }\n",
       "</style>\n",
       "<table border=\"1\" class=\"dataframe\">\n",
       "  <thead>\n",
       "    <tr style=\"text-align: right;\">\n",
       "      <th></th>\n",
       "      <th>name</th>\n",
       "      <th>platform</th>\n",
       "      <th>year_of_release</th>\n",
       "      <th>genre</th>\n",
       "      <th>na_sales</th>\n",
       "      <th>eu_sales</th>\n",
       "      <th>jp_sales</th>\n",
       "      <th>other_sales</th>\n",
       "      <th>critic_score</th>\n",
       "      <th>user_score</th>\n",
       "      <th>rating</th>\n",
       "      <th>all_sales</th>\n",
       "    </tr>\n",
       "  </thead>\n",
       "  <tbody>\n",
       "    <tr>\n",
       "      <th>16</th>\n",
       "      <td>Grand Theft Auto V</td>\n",
       "      <td>PS3</td>\n",
       "      <td>2013</td>\n",
       "      <td>Action</td>\n",
       "      <td>7.02</td>\n",
       "      <td>9.09</td>\n",
       "      <td>0.98</td>\n",
       "      <td>3.96</td>\n",
       "      <td>97</td>\n",
       "      <td>8.20</td>\n",
       "      <td>M</td>\n",
       "      <td>21.05</td>\n",
       "    </tr>\n",
       "    <tr>\n",
       "      <th>69</th>\n",
       "      <td>Call of Duty: Ghosts</td>\n",
       "      <td>PS3</td>\n",
       "      <td>2013</td>\n",
       "      <td>Shooter</td>\n",
       "      <td>4.10</td>\n",
       "      <td>3.63</td>\n",
       "      <td>0.38</td>\n",
       "      <td>1.25</td>\n",
       "      <td>71</td>\n",
       "      <td>2.60</td>\n",
       "      <td>M</td>\n",
       "      <td>9.36</td>\n",
       "    </tr>\n",
       "    <tr>\n",
       "      <th>126</th>\n",
       "      <td>FIFA 14</td>\n",
       "      <td>PS3</td>\n",
       "      <td>2013</td>\n",
       "      <td>Sports</td>\n",
       "      <td>0.78</td>\n",
       "      <td>4.24</td>\n",
       "      <td>0.07</td>\n",
       "      <td>1.37</td>\n",
       "      <td>86</td>\n",
       "      <td>4.30</td>\n",
       "      <td>E</td>\n",
       "      <td>6.46</td>\n",
       "    </tr>\n",
       "    <tr>\n",
       "      <th>149</th>\n",
       "      <td>The Last of Us</td>\n",
       "      <td>PS3</td>\n",
       "      <td>2013</td>\n",
       "      <td>Action</td>\n",
       "      <td>2.41</td>\n",
       "      <td>2.18</td>\n",
       "      <td>0.28</td>\n",
       "      <td>0.99</td>\n",
       "      <td>95</td>\n",
       "      <td>9.10</td>\n",
       "      <td>M</td>\n",
       "      <td>5.86</td>\n",
       "    </tr>\n",
       "    <tr>\n",
       "      <th>180</th>\n",
       "      <td>Minecraft</td>\n",
       "      <td>PS3</td>\n",
       "      <td>2014</td>\n",
       "      <td>Misc</td>\n",
       "      <td>2.03</td>\n",
       "      <td>2.37</td>\n",
       "      <td>0.00</td>\n",
       "      <td>0.87</td>\n",
       "      <td>-1</td>\n",
       "      <td>0.00</td>\n",
       "      <td>0</td>\n",
       "      <td>5.27</td>\n",
       "    </tr>\n",
       "    <tr>\n",
       "      <th>...</th>\n",
       "      <td>...</td>\n",
       "      <td>...</td>\n",
       "      <td>...</td>\n",
       "      <td>...</td>\n",
       "      <td>...</td>\n",
       "      <td>...</td>\n",
       "      <td>...</td>\n",
       "      <td>...</td>\n",
       "      <td>...</td>\n",
       "      <td>...</td>\n",
       "      <td>...</td>\n",
       "      <td>...</td>\n",
       "    </tr>\n",
       "    <tr>\n",
       "      <th>15923</th>\n",
       "      <td>Higurashi no Naku Koro ni Iki</td>\n",
       "      <td>PS3</td>\n",
       "      <td>2015</td>\n",
       "      <td>Action</td>\n",
       "      <td>0.00</td>\n",
       "      <td>0.00</td>\n",
       "      <td>0.01</td>\n",
       "      <td>0.00</td>\n",
       "      <td>-1</td>\n",
       "      <td>0.00</td>\n",
       "      <td>0</td>\n",
       "      <td>0.01</td>\n",
       "    </tr>\n",
       "    <tr>\n",
       "      <th>15887</th>\n",
       "      <td>Don Bradman Cricket 14</td>\n",
       "      <td>PS3</td>\n",
       "      <td>2014</td>\n",
       "      <td>Sports</td>\n",
       "      <td>0.00</td>\n",
       "      <td>0.01</td>\n",
       "      <td>0.00</td>\n",
       "      <td>0.00</td>\n",
       "      <td>73</td>\n",
       "      <td>6.90</td>\n",
       "      <td>E</td>\n",
       "      <td>0.01</td>\n",
       "    </tr>\n",
       "    <tr>\n",
       "      <th>15639</th>\n",
       "      <td>Rugby League Live 3</td>\n",
       "      <td>PS3</td>\n",
       "      <td>2015</td>\n",
       "      <td>Action</td>\n",
       "      <td>0.00</td>\n",
       "      <td>0.01</td>\n",
       "      <td>0.00</td>\n",
       "      <td>0.00</td>\n",
       "      <td>-1</td>\n",
       "      <td>0.00</td>\n",
       "      <td>0</td>\n",
       "      <td>0.01</td>\n",
       "    </tr>\n",
       "    <tr>\n",
       "      <th>15628</th>\n",
       "      <td>Turbo: Super Stunt Squad</td>\n",
       "      <td>PS3</td>\n",
       "      <td>2013</td>\n",
       "      <td>Sports</td>\n",
       "      <td>0.00</td>\n",
       "      <td>0.01</td>\n",
       "      <td>0.00</td>\n",
       "      <td>0.00</td>\n",
       "      <td>38</td>\n",
       "      <td>0.00</td>\n",
       "      <td>E</td>\n",
       "      <td>0.01</td>\n",
       "    </tr>\n",
       "    <tr>\n",
       "      <th>16439</th>\n",
       "      <td>Samurai Warriors: Sanada Maru</td>\n",
       "      <td>PS3</td>\n",
       "      <td>2016</td>\n",
       "      <td>Action</td>\n",
       "      <td>0.00</td>\n",
       "      <td>0.00</td>\n",
       "      <td>0.01</td>\n",
       "      <td>0.00</td>\n",
       "      <td>-1</td>\n",
       "      <td>0.00</td>\n",
       "      <td>0</td>\n",
       "      <td>0.01</td>\n",
       "    </tr>\n",
       "  </tbody>\n",
       "</table>\n",
       "<p>345 rows × 12 columns</p>\n",
       "</div>"
      ],
      "text/plain": [
       "                                name platform  year_of_release    genre  \\\n",
       "16                Grand Theft Auto V      PS3             2013   Action   \n",
       "69              Call of Duty: Ghosts      PS3             2013  Shooter   \n",
       "126                          FIFA 14      PS3             2013   Sports   \n",
       "149                   The Last of Us      PS3             2013   Action   \n",
       "180                        Minecraft      PS3             2014     Misc   \n",
       "...                              ...      ...              ...      ...   \n",
       "15923  Higurashi no Naku Koro ni Iki      PS3             2015   Action   \n",
       "15887         Don Bradman Cricket 14      PS3             2014   Sports   \n",
       "15639            Rugby League Live 3      PS3             2015   Action   \n",
       "15628       Turbo: Super Stunt Squad      PS3             2013   Sports   \n",
       "16439  Samurai Warriors: Sanada Maru      PS3             2016   Action   \n",
       "\n",
       "       na_sales  eu_sales  jp_sales  other_sales  critic_score  user_score  \\\n",
       "16         7.02      9.09      0.98         3.96            97        8.20   \n",
       "69         4.10      3.63      0.38         1.25            71        2.60   \n",
       "126        0.78      4.24      0.07         1.37            86        4.30   \n",
       "149        2.41      2.18      0.28         0.99            95        9.10   \n",
       "180        2.03      2.37      0.00         0.87            -1        0.00   \n",
       "...         ...       ...       ...          ...           ...         ...   \n",
       "15923      0.00      0.00      0.01         0.00            -1        0.00   \n",
       "15887      0.00      0.01      0.00         0.00            73        6.90   \n",
       "15639      0.00      0.01      0.00         0.00            -1        0.00   \n",
       "15628      0.00      0.01      0.00         0.00            38        0.00   \n",
       "16439      0.00      0.00      0.01         0.00            -1        0.00   \n",
       "\n",
       "      rating  all_sales  \n",
       "16         M      21.05  \n",
       "69         M       9.36  \n",
       "126        E       6.46  \n",
       "149        M       5.86  \n",
       "180        0       5.27  \n",
       "...      ...        ...  \n",
       "15923      0       0.01  \n",
       "15887      E       0.01  \n",
       "15639      0       0.01  \n",
       "15628      E       0.01  \n",
       "16439      0       0.01  \n",
       "\n",
       "[345 rows x 12 columns]"
      ]
     },
     "execution_count": 33,
     "metadata": {},
     "output_type": "execute_result"
    }
   ],
   "source": [
    "data_actual.loc[(data_actual['platform'] == 'PS3')].sort_values(by='all_sales', ascending=False)"
   ]
  },
  {
   "cell_type": "markdown",
   "metadata": {},
   "source": [
    "**Вывод:** Из графика «ящик с усами» по глобальным продажам игр в разбивке по исследуемым платформам видно, что сильный вброс имеет платформа 'PS3' c игрой \"Grand Theft Auto V\" в 2013г, с продажами 21.05 млн. Так же есть не значительно выбросы у платформ X360, Wii. А платформа DS сосредоточена в интервале 0-0.5 млн."
   ]
  },
  {
   "cell_type": "markdown",
   "metadata": {},
   "source": [
    "### Анализ влияния на продажи внутри одной популярной платформы отзывов пользователей и критиков ###"
   ]
  },
  {
   "cell_type": "code",
   "execution_count": 34,
   "metadata": {},
   "outputs": [
    {
     "name": "stderr",
     "output_type": "stream",
     "text": [
      "/tmp/ipykernel_115/3512233934.py:4: SettingWithCopyWarning: \n",
      "A value is trying to be set on a copy of a slice from a DataFrame.\n",
      "Try using .loc[row_indexer,col_indexer] = value instead\n",
      "\n",
      "See the caveats in the documentation: https://pandas.pydata.org/pandas-docs/stable/user_guide/indexing.html#returning-a-view-versus-a-copy\n",
      "  platform_ps2['user_score'] = pd.to_numeric(platform_ps2.user_score, errors='coerce')\n"
     ]
    }
   ],
   "source": [
    "platform_ps2 = data_actual.loc[(data_actual['platform'] == 'PS2')&(data_actual['critic_score'] > 0)\n",
    "                              &(data_actual['user_score'] > 0)]\n",
    "platform_ps2 = data_actual[['all_sales','critic_score','user_score']]\n",
    "platform_ps2['user_score'] = pd.to_numeric(platform_ps2.user_score, errors='coerce')"
   ]
  },
  {
   "cell_type": "code",
   "execution_count": 35,
   "metadata": {},
   "outputs": [
    {
     "data": {
      "image/png": "[encoded data removed]",
      "text/plain": [
       "<Figure size 1152x576 with 2 Axes>"
      ]
     },
     "metadata": {
      "needs_background": "light"
     },
     "output_type": "display_data"
    }
   ],
   "source": [
    "fig, ax = plt.subplots(2, figsize=(16, 8))\n",
    "fig.suptitle('Зависимость между отзывами и продажами')\n",
    "ax[0].scatter(x = platform_ps2['critic_score'], y = platform_ps2['all_sales'])\n",
    "ax[0].set_xlabel('Оценка критиков')\n",
    "ax[0].set_ylabel('Продажи')\n",
    "ax[1].scatter(x = platform_ps2['user_score'], y = platform_ps2['all_sales'])\n",
    "ax[1].set_xlabel('Оценка пользователей')\n",
    "ax[1].set_ylabel('Продажи')\n",
    "plt.show()"
   ]
  },
  {
   "cell_type": "code",
   "execution_count": 36,
   "metadata": {
    "scrolled": true
   },
   "outputs": [
    {
     "data": {
      "text/html": [
       "<div>\n",
       "<style scoped>\n",
       "    .dataframe tbody tr th:only-of-type {\n",
       "        vertical-align: middle;\n",
       "    }\n",
       "\n",
       "    .dataframe tbody tr th {\n",
       "        vertical-align: top;\n",
       "    }\n",
       "\n",
       "    .dataframe thead th {\n",
       "        text-align: right;\n",
       "    }\n",
       "</style>\n",
       "<table border=\"1\" class=\"dataframe\">\n",
       "  <thead>\n",
       "    <tr style=\"text-align: right;\">\n",
       "      <th></th>\n",
       "      <th>all_sales</th>\n",
       "      <th>critic_score</th>\n",
       "      <th>user_score</th>\n",
       "    </tr>\n",
       "  </thead>\n",
       "  <tbody>\n",
       "    <tr>\n",
       "      <th>all_sales</th>\n",
       "      <td>1.00</td>\n",
       "      <td>0.27</td>\n",
       "      <td>0.18</td>\n",
       "    </tr>\n",
       "    <tr>\n",
       "      <th>critic_score</th>\n",
       "      <td>0.27</td>\n",
       "      <td>1.00</td>\n",
       "      <td>0.65</td>\n",
       "    </tr>\n",
       "    <tr>\n",
       "      <th>user_score</th>\n",
       "      <td>0.18</td>\n",
       "      <td>0.65</td>\n",
       "      <td>1.00</td>\n",
       "    </tr>\n",
       "  </tbody>\n",
       "</table>\n",
       "</div>"
      ],
      "text/plain": [
       "              all_sales  critic_score  user_score\n",
       "all_sales          1.00          0.27        0.18\n",
       "critic_score       0.27          1.00        0.65\n",
       "user_score         0.18          0.65        1.00"
      ]
     },
     "execution_count": 36,
     "metadata": {},
     "output_type": "execute_result"
    }
   ],
   "source": [
    "platform_ps2.corr()"
   ]
  },
  {
   "cell_type": "markdown",
   "metadata": {},
   "source": [
    "**Вывод:** Для исследования отобрали платформу PS2 и провели исследование зависимости с оценками пользователей и критиков. Корреляция между оценками критиков и пользователей и всеми продажами относительно небольшая и прямая, с коэффициентами 0.27 и 0.18 соответственно. Но есть достаточно сильная зависимость между оценками критиков и пользователей, 0.65. Если оценки критиков высокая или будет увеличиваться, то скорее всего, что и оценка пользователей будет высокая или увеличиваться за ней."
   ]
  },
  {
   "cell_type": "markdown",
   "metadata": {},
   "source": [
    "### Исследование продажам игр на других платформах ###"
   ]
  },
  {
   "cell_type": "code",
   "execution_count": 37,
   "metadata": {},
   "outputs": [
    {
     "name": "stderr",
     "output_type": "stream",
     "text": [
      "/tmp/ipykernel_115/1349274710.py:4: SettingWithCopyWarning: \n",
      "A value is trying to be set on a copy of a slice from a DataFrame.\n",
      "Try using .loc[row_indexer,col_indexer] = value instead\n",
      "\n",
      "See the caveats in the documentation: https://pandas.pydata.org/pandas-docs/stable/user_guide/indexing.html#returning-a-view-versus-a-copy\n",
      "  platform_x360['user_score'] = pd.to_numeric(platform_x360.user_score, errors='coerce')\n"
     ]
    },
    {
     "data": {
      "image/png": "[encoded data removed]",
      "text/plain": [
       "<Figure size 1152x576 with 2 Axes>"
      ]
     },
     "metadata": {
      "needs_background": "light"
     },
     "output_type": "display_data"
    }
   ],
   "source": [
    "platform_x360 = data_actual.loc[(data_actual['platform'] == 'X360')&(data_actual['critic_score'] >0)\n",
    "                               &(data_actual['user_score'] >0)]\n",
    "platform_x360 = data_actual[['all_sales','critic_score','user_score']]\n",
    "platform_x360['user_score'] = pd.to_numeric(platform_x360.user_score, errors='coerce')\n",
    "\n",
    "fig, ax = plt.subplots(2, figsize=(16, 8))\n",
    "fig.suptitle('Зависимость между отзывами и продажами платформы X360')\n",
    "ax[0].scatter(x = platform_x360['critic_score'], y = platform_x360['all_sales'])\n",
    "ax[0].set_xlabel('Оценка критиков')\n",
    "ax[0].set_ylabel('Продажи')\n",
    "ax[1].scatter(x = platform_x360['user_score'], y = platform_x360['all_sales'])\n",
    "ax[1].set_xlabel('Оценка пользователей')\n",
    "ax[1].set_ylabel('Продажи')\n",
    "plt.show()"
   ]
  },
  {
   "cell_type": "code",
   "execution_count": 38,
   "metadata": {
    "scrolled": true
   },
   "outputs": [
    {
     "data": {
      "text/html": [
       "<div>\n",
       "<style scoped>\n",
       "    .dataframe tbody tr th:only-of-type {\n",
       "        vertical-align: middle;\n",
       "    }\n",
       "\n",
       "    .dataframe tbody tr th {\n",
       "        vertical-align: top;\n",
       "    }\n",
       "\n",
       "    .dataframe thead th {\n",
       "        text-align: right;\n",
       "    }\n",
       "</style>\n",
       "<table border=\"1\" class=\"dataframe\">\n",
       "  <thead>\n",
       "    <tr style=\"text-align: right;\">\n",
       "      <th></th>\n",
       "      <th>all_sales</th>\n",
       "      <th>critic_score</th>\n",
       "      <th>user_score</th>\n",
       "    </tr>\n",
       "  </thead>\n",
       "  <tbody>\n",
       "    <tr>\n",
       "      <th>all_sales</th>\n",
       "      <td>1.00</td>\n",
       "      <td>0.27</td>\n",
       "      <td>0.18</td>\n",
       "    </tr>\n",
       "    <tr>\n",
       "      <th>critic_score</th>\n",
       "      <td>0.27</td>\n",
       "      <td>1.00</td>\n",
       "      <td>0.65</td>\n",
       "    </tr>\n",
       "    <tr>\n",
       "      <th>user_score</th>\n",
       "      <td>0.18</td>\n",
       "      <td>0.65</td>\n",
       "      <td>1.00</td>\n",
       "    </tr>\n",
       "  </tbody>\n",
       "</table>\n",
       "</div>"
      ],
      "text/plain": [
       "              all_sales  critic_score  user_score\n",
       "all_sales          1.00          0.27        0.18\n",
       "critic_score       0.27          1.00        0.65\n",
       "user_score         0.18          0.65        1.00"
      ]
     },
     "execution_count": 38,
     "metadata": {},
     "output_type": "execute_result"
    }
   ],
   "source": [
    "platform_x360.corr()"
   ]
  },
  {
   "cell_type": "code",
   "execution_count": 39,
   "metadata": {},
   "outputs": [
    {
     "name": "stderr",
     "output_type": "stream",
     "text": [
      "/tmp/ipykernel_115/1010142737.py:4: SettingWithCopyWarning: \n",
      "A value is trying to be set on a copy of a slice from a DataFrame.\n",
      "Try using .loc[row_indexer,col_indexer] = value instead\n",
      "\n",
      "See the caveats in the documentation: https://pandas.pydata.org/pandas-docs/stable/user_guide/indexing.html#returning-a-view-versus-a-copy\n",
      "  platform_ps3['user_score'] = pd.to_numeric(platform_ps3.user_score, errors='coerce')\n"
     ]
    },
    {
     "data": {
      "image/png": "[encoded data removed]",
      "text/plain": [
       "<Figure size 1152x576 with 2 Axes>"
      ]
     },
     "metadata": {
      "needs_background": "light"
     },
     "output_type": "display_data"
    }
   ],
   "source": [
    "platform_ps3 = data_actual.loc[(data_actual['platform'] == 'PS3')&(data_actual['critic_score'] >0)\n",
    "                              &(data_actual['user_score'] >0)]\n",
    "platform_ps3 = data_actual[['all_sales','critic_score','user_score']]\n",
    "platform_ps3['user_score'] = pd.to_numeric(platform_ps3.user_score, errors='coerce')\n",
    "\n",
    "fig, ax = plt.subplots(2, figsize=(16, 8))\n",
    "fig.suptitle('Зависимость между отзывами и продажами платформы PS3')\n",
    "ax[0].scatter(x = platform_ps3['critic_score'], y = platform_ps3['all_sales'])\n",
    "ax[0].set_xlabel('Оценка критиков')\n",
    "ax[0].set_ylabel('Продажи')\n",
    "ax[1].scatter(x = platform_ps3['user_score'], y = platform_ps3['all_sales'])\n",
    "ax[1].set_xlabel('Оценка пользователей')\n",
    "ax[1].set_ylabel('Продажи')\n",
    "plt.show()"
   ]
  },
  {
   "cell_type": "code",
   "execution_count": 40,
   "metadata": {},
   "outputs": [
    {
     "data": {
      "text/html": [
       "<div>\n",
       "<style scoped>\n",
       "    .dataframe tbody tr th:only-of-type {\n",
       "        vertical-align: middle;\n",
       "    }\n",
       "\n",
       "    .dataframe tbody tr th {\n",
       "        vertical-align: top;\n",
       "    }\n",
       "\n",
       "    .dataframe thead th {\n",
       "        text-align: right;\n",
       "    }\n",
       "</style>\n",
       "<table border=\"1\" class=\"dataframe\">\n",
       "  <thead>\n",
       "    <tr style=\"text-align: right;\">\n",
       "      <th></th>\n",
       "      <th>all_sales</th>\n",
       "      <th>critic_score</th>\n",
       "      <th>user_score</th>\n",
       "    </tr>\n",
       "  </thead>\n",
       "  <tbody>\n",
       "    <tr>\n",
       "      <th>all_sales</th>\n",
       "      <td>1.00</td>\n",
       "      <td>0.27</td>\n",
       "      <td>0.18</td>\n",
       "    </tr>\n",
       "    <tr>\n",
       "      <th>critic_score</th>\n",
       "      <td>0.27</td>\n",
       "      <td>1.00</td>\n",
       "      <td>0.65</td>\n",
       "    </tr>\n",
       "    <tr>\n",
       "      <th>user_score</th>\n",
       "      <td>0.18</td>\n",
       "      <td>0.65</td>\n",
       "      <td>1.00</td>\n",
       "    </tr>\n",
       "  </tbody>\n",
       "</table>\n",
       "</div>"
      ],
      "text/plain": [
       "              all_sales  critic_score  user_score\n",
       "all_sales          1.00          0.27        0.18\n",
       "critic_score       0.27          1.00        0.65\n",
       "user_score         0.18          0.65        1.00"
      ]
     },
     "execution_count": 40,
     "metadata": {},
     "output_type": "execute_result"
    }
   ],
   "source": [
    "platform_ps3.corr()"
   ]
  },
  {
   "cell_type": "code",
   "execution_count": 41,
   "metadata": {},
   "outputs": [
    {
     "name": "stderr",
     "output_type": "stream",
     "text": [
      "/tmp/ipykernel_115/3948336023.py:4: SettingWithCopyWarning: \n",
      "A value is trying to be set on a copy of a slice from a DataFrame.\n",
      "Try using .loc[row_indexer,col_indexer] = value instead\n",
      "\n",
      "See the caveats in the documentation: https://pandas.pydata.org/pandas-docs/stable/user_guide/indexing.html#returning-a-view-versus-a-copy\n",
      "  platform_wii['user_score'] = pd.to_numeric(platform_wii.user_score, errors='coerce')\n"
     ]
    },
    {
     "data": {
      "image/png": "[encoded data removed]",
      "text/plain": [
       "<Figure size 1152x576 with 2 Axes>"
      ]
     },
     "metadata": {
      "needs_background": "light"
     },
     "output_type": "display_data"
    }
   ],
   "source": [
    "platform_wii = data_actual.loc[(data_actual['platform'] == 'Wii')&(data_actual['critic_score'] >0)\n",
    "                              &(data_actual['user_score'] >0)]\n",
    "platform_wii = data_actual[['all_sales','critic_score','user_score']]\n",
    "platform_wii['user_score'] = pd.to_numeric(platform_wii.user_score, errors='coerce')\n",
    "\n",
    "fig, ax = plt.subplots(2, figsize=(16, 8))\n",
    "fig.suptitle('Зависимость между отзывами и продажами платформы Wii')\n",
    "ax[0].scatter(x = platform_wii['critic_score'], y = platform_wii['all_sales'])\n",
    "ax[0].set_xlabel('Оценка критиков')\n",
    "ax[0].set_ylabel('Продажи')\n",
    "ax[1].scatter(x = platform_wii['user_score'], y = platform_wii['all_sales'])\n",
    "ax[1].set_xlabel('Оценка пользователей')\n",
    "ax[1].set_ylabel('Продажи')\n",
    "plt.show()"
   ]
  },
  {
   "cell_type": "code",
   "execution_count": 42,
   "metadata": {},
   "outputs": [
    {
     "data": {
      "text/html": [
       "<div>\n",
       "<style scoped>\n",
       "    .dataframe tbody tr th:only-of-type {\n",
       "        vertical-align: middle;\n",
       "    }\n",
       "\n",
       "    .dataframe tbody tr th {\n",
       "        vertical-align: top;\n",
       "    }\n",
       "\n",
       "    .dataframe thead th {\n",
       "        text-align: right;\n",
       "    }\n",
       "</style>\n",
       "<table border=\"1\" class=\"dataframe\">\n",
       "  <thead>\n",
       "    <tr style=\"text-align: right;\">\n",
       "      <th></th>\n",
       "      <th>all_sales</th>\n",
       "      <th>critic_score</th>\n",
       "      <th>user_score</th>\n",
       "    </tr>\n",
       "  </thead>\n",
       "  <tbody>\n",
       "    <tr>\n",
       "      <th>all_sales</th>\n",
       "      <td>1.00</td>\n",
       "      <td>0.27</td>\n",
       "      <td>0.18</td>\n",
       "    </tr>\n",
       "    <tr>\n",
       "      <th>critic_score</th>\n",
       "      <td>0.27</td>\n",
       "      <td>1.00</td>\n",
       "      <td>0.65</td>\n",
       "    </tr>\n",
       "    <tr>\n",
       "      <th>user_score</th>\n",
       "      <td>0.18</td>\n",
       "      <td>0.65</td>\n",
       "      <td>1.00</td>\n",
       "    </tr>\n",
       "  </tbody>\n",
       "</table>\n",
       "</div>"
      ],
      "text/plain": [
       "              all_sales  critic_score  user_score\n",
       "all_sales          1.00          0.27        0.18\n",
       "critic_score       0.27          1.00        0.65\n",
       "user_score         0.18          0.65        1.00"
      ]
     },
     "execution_count": 42,
     "metadata": {},
     "output_type": "execute_result"
    }
   ],
   "source": [
    "platform_wii.corr()"
   ]
  },
  {
   "cell_type": "code",
   "execution_count": 43,
   "metadata": {},
   "outputs": [
    {
     "name": "stderr",
     "output_type": "stream",
     "text": [
      "/tmp/ipykernel_115/3348528374.py:4: SettingWithCopyWarning: \n",
      "A value is trying to be set on a copy of a slice from a DataFrame.\n",
      "Try using .loc[row_indexer,col_indexer] = value instead\n",
      "\n",
      "See the caveats in the documentation: https://pandas.pydata.org/pandas-docs/stable/user_guide/indexing.html#returning-a-view-versus-a-copy\n",
      "  platform_ds['user_score'] = pd.to_numeric(platform_ds.user_score, errors='coerce')\n"
     ]
    },
    {
     "data": {
      "image/png": "[encoded data removed]",
      "text/plain": [
       "<Figure size 1152x576 with 2 Axes>"
      ]
     },
     "metadata": {
      "needs_background": "light"
     },
     "output_type": "display_data"
    }
   ],
   "source": [
    "platform_ds = data_actual.loc[(data_actual['platform'] == 'DS')&(data_actual['critic_score'] >0)\n",
    "                             &(data_actual['user_score'] >0)]\n",
    "platform_ds = data_actual[['all_sales','critic_score','user_score']]\n",
    "platform_ds['user_score'] = pd.to_numeric(platform_ds.user_score, errors='coerce')\n",
    "\n",
    "fig, ax = plt.subplots(2, figsize=(16, 8))\n",
    "fig.suptitle('Зависимость между отзывами и продажами платформы DS')\n",
    "ax[0].scatter(x = platform_ds['critic_score'], y = platform_ds['all_sales'])\n",
    "ax[0].set_xlabel('Оценка критиков')\n",
    "ax[0].set_ylabel('Продажи')\n",
    "ax[1].scatter(x = platform_ds['user_score'], y = platform_ds['all_sales'])\n",
    "ax[1].set_xlabel('Оценка пользователей')\n",
    "ax[1].set_ylabel('Продажи')\n",
    "plt.show()"
   ]
  },
  {
   "cell_type": "code",
   "execution_count": 44,
   "metadata": {},
   "outputs": [
    {
     "data": {
      "text/html": [
       "<div>\n",
       "<style scoped>\n",
       "    .dataframe tbody tr th:only-of-type {\n",
       "        vertical-align: middle;\n",
       "    }\n",
       "\n",
       "    .dataframe tbody tr th {\n",
       "        vertical-align: top;\n",
       "    }\n",
       "\n",
       "    .dataframe thead th {\n",
       "        text-align: right;\n",
       "    }\n",
       "</style>\n",
       "<table border=\"1\" class=\"dataframe\">\n",
       "  <thead>\n",
       "    <tr style=\"text-align: right;\">\n",
       "      <th></th>\n",
       "      <th>all_sales</th>\n",
       "      <th>critic_score</th>\n",
       "      <th>user_score</th>\n",
       "    </tr>\n",
       "  </thead>\n",
       "  <tbody>\n",
       "    <tr>\n",
       "      <th>all_sales</th>\n",
       "      <td>1.00</td>\n",
       "      <td>0.27</td>\n",
       "      <td>0.18</td>\n",
       "    </tr>\n",
       "    <tr>\n",
       "      <th>critic_score</th>\n",
       "      <td>0.27</td>\n",
       "      <td>1.00</td>\n",
       "      <td>0.65</td>\n",
       "    </tr>\n",
       "    <tr>\n",
       "      <th>user_score</th>\n",
       "      <td>0.18</td>\n",
       "      <td>0.65</td>\n",
       "      <td>1.00</td>\n",
       "    </tr>\n",
       "  </tbody>\n",
       "</table>\n",
       "</div>"
      ],
      "text/plain": [
       "              all_sales  critic_score  user_score\n",
       "all_sales          1.00          0.27        0.18\n",
       "critic_score       0.27          1.00        0.65\n",
       "user_score         0.18          0.65        1.00"
      ]
     },
     "execution_count": 44,
     "metadata": {},
     "output_type": "execute_result"
    }
   ],
   "source": [
    "platform_ds.corr()"
   ]
  },
  {
   "cell_type": "code",
   "execution_count": 45,
   "metadata": {},
   "outputs": [
    {
     "name": "stderr",
     "output_type": "stream",
     "text": [
      "/tmp/ipykernel_115/3128549159.py:4: SettingWithCopyWarning: \n",
      "A value is trying to be set on a copy of a slice from a DataFrame.\n",
      "Try using .loc[row_indexer,col_indexer] = value instead\n",
      "\n",
      "See the caveats in the documentation: https://pandas.pydata.org/pandas-docs/stable/user_guide/indexing.html#returning-a-view-versus-a-copy\n",
      "  platform_ps['user_score'] = pd.to_numeric(platform_ps.user_score, errors='coerce')\n"
     ]
    },
    {
     "data": {
      "image/png": "[encoded data removed]",
      "text/plain": [
       "<Figure size 1152x576 with 2 Axes>"
      ]
     },
     "metadata": {
      "needs_background": "light"
     },
     "output_type": "display_data"
    }
   ],
   "source": [
    "platform_ps = data_actual.loc[(data_actual['platform'] == 'PS')&(data_actual['critic_score'] >0)\n",
    "                             &(data_actual['user_score'] >0)]\n",
    "platform_ps = data_actual[['all_sales','critic_score','user_score']]\n",
    "platform_ps['user_score'] = pd.to_numeric(platform_ps.user_score, errors='coerce')\n",
    "\n",
    "fig, ax = plt.subplots(2, figsize=(16, 8))\n",
    "fig.suptitle('Зависимость между отзывами и продажами платформы PS')\n",
    "ax[0].scatter(x = platform_ps['critic_score'], y = platform_ps['all_sales'])\n",
    "ax[0].set_xlabel('Оценка критиков')\n",
    "ax[0].set_ylabel('Продажи')\n",
    "ax[1].scatter(x = platform_ps['user_score'], y = platform_ps['all_sales'])\n",
    "ax[1].set_xlabel('Оценка пользователей')\n",
    "ax[1].set_ylabel('Продажи')\n",
    "plt.show()"
   ]
  },
  {
   "cell_type": "markdown",
   "metadata": {},
   "source": [
    "**Вывод:** Исследования остальных платформ 'X360', 'PS3', 'Wii', 'DS', 'PS' провели к таким же результатам. Корреляция между оценками критиков и пользователей и всеми продажами относительно небольшая и прямая, с коэффициентами 0.27 и 0.18 соответственно. Но есть достаточно сильная зависимость между оценками критиков и пользователей, 0.65."
   ]
  },
  {
   "cell_type": "markdown",
   "metadata": {},
   "source": [
    "### Общее распределение игр по жанрам ###"
   ]
  },
  {
   "cell_type": "code",
   "execution_count": 46,
   "metadata": {
    "scrolled": false
   },
   "outputs": [
    {
     "data": {
      "image/png": "[encoded data removed]",
      "text/plain": [
       "<Figure size 2250x1200 with 1 Axes>"
      ]
     },
     "metadata": {
      "needs_background": "light"
     },
     "output_type": "display_data"
    }
   ],
   "source": [
    "plt.figure(figsize = (15,8), dpi=150)\n",
    "sns.boxplot(data=data_actual, x='all_sales', y='genre',linewidth=0.5)\n",
    "plt.title('Распределение игр по жанрам')\n",
    "plt.xlabel('Общие продажи')\n",
    "plt.ylabel('Жанр')\n",
    "plt.yticks(rotation = 65)\n",
    "plt.show()"
   ]
  },
  {
   "cell_type": "markdown",
   "metadata": {},
   "source": [
    "**Вывод:** Из графика можно выделить 3 лидирующих жанра это Shooter, Storts, Action с 11 млн, 7 млн и 25 млн соответственно. А с самыми низкими продажами приходится на жанры Puzzle, Adventure, Strategy.\n",
    "К Action, Shooter и Misc есть достоточно большие вбросы, поэтому их медиальное значение сдвинуто."
   ]
  },
  {
   "cell_type": "markdown",
   "metadata": {},
   "source": [
    "## Портрет пользователя каждого региона (NA, EU, JP)"
   ]
  },
  {
   "cell_type": "markdown",
   "metadata": {},
   "source": [
    "### Самые популярные платформы для пользователя каждого региона"
   ]
  },
  {
   "cell_type": "code",
   "execution_count": 47,
   "metadata": {},
   "outputs": [],
   "source": [
    "def top_platform_region(x, region):\n",
    "    result = data_actual.groupby(x)[[region, 'all_sales']].sum().sort_values(by=region, ascending = False).head()\n",
    "    result['ratio'] = result[region]/result['all_sales']\n",
    "    return result"
   ]
  },
  {
   "cell_type": "code",
   "execution_count": 48,
   "metadata": {},
   "outputs": [
    {
     "data": {
      "text/html": [
       "<div>\n",
       "<style scoped>\n",
       "    .dataframe tbody tr th:only-of-type {\n",
       "        vertical-align: middle;\n",
       "    }\n",
       "\n",
       "    .dataframe tbody tr th {\n",
       "        vertical-align: top;\n",
       "    }\n",
       "\n",
       "    .dataframe thead th {\n",
       "        text-align: right;\n",
       "    }\n",
       "</style>\n",
       "<table border=\"1\" class=\"dataframe\">\n",
       "  <thead>\n",
       "    <tr style=\"text-align: right;\">\n",
       "      <th></th>\n",
       "      <th>na_sales</th>\n",
       "      <th>all_sales</th>\n",
       "      <th>ratio</th>\n",
       "    </tr>\n",
       "    <tr>\n",
       "      <th>platform</th>\n",
       "      <th></th>\n",
       "      <th></th>\n",
       "      <th></th>\n",
       "    </tr>\n",
       "  </thead>\n",
       "  <tbody>\n",
       "    <tr>\n",
       "      <th>X360</th>\n",
       "      <td>81.66</td>\n",
       "      <td>136.80</td>\n",
       "      <td>0.60</td>\n",
       "    </tr>\n",
       "    <tr>\n",
       "      <th>PS3</th>\n",
       "      <td>63.50</td>\n",
       "      <td>181.43</td>\n",
       "      <td>0.35</td>\n",
       "    </tr>\n",
       "    <tr>\n",
       "      <th>Wii</th>\n",
       "      <td>6.56</td>\n",
       "      <td>13.66</td>\n",
       "      <td>0.48</td>\n",
       "    </tr>\n",
       "    <tr>\n",
       "      <th>DS</th>\n",
       "      <td>0.57</td>\n",
       "      <td>1.54</td>\n",
       "      <td>0.37</td>\n",
       "    </tr>\n",
       "  </tbody>\n",
       "</table>\n",
       "</div>"
      ],
      "text/plain": [
       "          na_sales  all_sales  ratio\n",
       "platform                            \n",
       "X360         81.66     136.80   0.60\n",
       "PS3          63.50     181.43   0.35\n",
       "Wii           6.56      13.66   0.48\n",
       "DS            0.57       1.54   0.37"
      ]
     },
     "execution_count": 48,
     "metadata": {},
     "output_type": "execute_result"
    }
   ],
   "source": [
    "top_platform_region('platform','na_sales')"
   ]
  },
  {
   "cell_type": "code",
   "execution_count": 49,
   "metadata": {},
   "outputs": [
    {
     "data": {
      "text/html": [
       "<div>\n",
       "<style scoped>\n",
       "    .dataframe tbody tr th:only-of-type {\n",
       "        vertical-align: middle;\n",
       "    }\n",
       "\n",
       "    .dataframe tbody tr th {\n",
       "        vertical-align: top;\n",
       "    }\n",
       "\n",
       "    .dataframe thead th {\n",
       "        text-align: right;\n",
       "    }\n",
       "</style>\n",
       "<table border=\"1\" class=\"dataframe\">\n",
       "  <thead>\n",
       "    <tr style=\"text-align: right;\">\n",
       "      <th></th>\n",
       "      <th>eu_sales</th>\n",
       "      <th>all_sales</th>\n",
       "      <th>ratio</th>\n",
       "    </tr>\n",
       "    <tr>\n",
       "      <th>platform</th>\n",
       "      <th></th>\n",
       "      <th></th>\n",
       "      <th></th>\n",
       "    </tr>\n",
       "  </thead>\n",
       "  <tbody>\n",
       "    <tr>\n",
       "      <th>PS3</th>\n",
       "      <td>67.81</td>\n",
       "      <td>181.43</td>\n",
       "      <td>0.37</td>\n",
       "    </tr>\n",
       "    <tr>\n",
       "      <th>X360</th>\n",
       "      <td>42.52</td>\n",
       "      <td>136.80</td>\n",
       "      <td>0.31</td>\n",
       "    </tr>\n",
       "    <tr>\n",
       "      <th>Wii</th>\n",
       "      <td>5.93</td>\n",
       "      <td>13.66</td>\n",
       "      <td>0.43</td>\n",
       "    </tr>\n",
       "    <tr>\n",
       "      <th>DS</th>\n",
       "      <td>0.85</td>\n",
       "      <td>1.54</td>\n",
       "      <td>0.55</td>\n",
       "    </tr>\n",
       "  </tbody>\n",
       "</table>\n",
       "</div>"
      ],
      "text/plain": [
       "          eu_sales  all_sales  ratio\n",
       "platform                            \n",
       "PS3          67.81     181.43   0.37\n",
       "X360         42.52     136.80   0.31\n",
       "Wii           5.93      13.66   0.43\n",
       "DS            0.85       1.54   0.55"
      ]
     },
     "execution_count": 49,
     "metadata": {},
     "output_type": "execute_result"
    }
   ],
   "source": [
    "top_platform_region('platform','eu_sales')"
   ]
  },
  {
   "cell_type": "code",
   "execution_count": 50,
   "metadata": {},
   "outputs": [
    {
     "data": {
      "text/html": [
       "<div>\n",
       "<style scoped>\n",
       "    .dataframe tbody tr th:only-of-type {\n",
       "        vertical-align: middle;\n",
       "    }\n",
       "\n",
       "    .dataframe tbody tr th {\n",
       "        vertical-align: top;\n",
       "    }\n",
       "\n",
       "    .dataframe thead th {\n",
       "        text-align: right;\n",
       "    }\n",
       "</style>\n",
       "<table border=\"1\" class=\"dataframe\">\n",
       "  <thead>\n",
       "    <tr style=\"text-align: right;\">\n",
       "      <th></th>\n",
       "      <th>jp_sales</th>\n",
       "      <th>all_sales</th>\n",
       "      <th>ratio</th>\n",
       "    </tr>\n",
       "    <tr>\n",
       "      <th>platform</th>\n",
       "      <th></th>\n",
       "      <th></th>\n",
       "      <th></th>\n",
       "    </tr>\n",
       "  </thead>\n",
       "  <tbody>\n",
       "    <tr>\n",
       "      <th>PS3</th>\n",
       "      <td>23.35</td>\n",
       "      <td>181.43</td>\n",
       "      <td>0.13</td>\n",
       "    </tr>\n",
       "    <tr>\n",
       "      <th>X360</th>\n",
       "      <td>0.51</td>\n",
       "      <td>136.80</td>\n",
       "      <td>0.00</td>\n",
       "    </tr>\n",
       "    <tr>\n",
       "      <th>Wii</th>\n",
       "      <td>0.05</td>\n",
       "      <td>13.66</td>\n",
       "      <td>0.00</td>\n",
       "    </tr>\n",
       "    <tr>\n",
       "      <th>DS</th>\n",
       "      <td>0.00</td>\n",
       "      <td>1.54</td>\n",
       "      <td>0.00</td>\n",
       "    </tr>\n",
       "  </tbody>\n",
       "</table>\n",
       "</div>"
      ],
      "text/plain": [
       "          jp_sales  all_sales  ratio\n",
       "platform                            \n",
       "PS3          23.35     181.43   0.13\n",
       "X360          0.51     136.80   0.00\n",
       "Wii           0.05      13.66   0.00\n",
       "DS            0.00       1.54   0.00"
      ]
     },
     "execution_count": 50,
     "metadata": {},
     "output_type": "execute_result"
    }
   ],
   "source": [
    "top_platform_region('platform','jp_sales')"
   ]
  },
  {
   "cell_type": "markdown",
   "metadata": {},
   "source": [
    "**Вывод:** Самые популярные платформы в Северной Америке можно выделить X360 с общей доле продаж на рынке 60%, в Европе откровенно лидирующих платформ нет, в среднем все имеют одинаковые доли в общем от рынка от 31-55%, в Японии PS3 13%, а остальные платформ не набирают и 0%."
   ]
  },
  {
   "cell_type": "markdown",
   "metadata": {},
   "source": [
    "### Самые популярные жанры для пользователя каждого региона"
   ]
  },
  {
   "cell_type": "code",
   "execution_count": 51,
   "metadata": {},
   "outputs": [
    {
     "data": {
      "text/html": [
       "<div>\n",
       "<style scoped>\n",
       "    .dataframe tbody tr th:only-of-type {\n",
       "        vertical-align: middle;\n",
       "    }\n",
       "\n",
       "    .dataframe tbody tr th {\n",
       "        vertical-align: top;\n",
       "    }\n",
       "\n",
       "    .dataframe thead th {\n",
       "        text-align: right;\n",
       "    }\n",
       "</style>\n",
       "<table border=\"1\" class=\"dataframe\">\n",
       "  <thead>\n",
       "    <tr style=\"text-align: right;\">\n",
       "      <th></th>\n",
       "      <th>na_sales</th>\n",
       "      <th>all_sales</th>\n",
       "      <th>ratio</th>\n",
       "    </tr>\n",
       "    <tr>\n",
       "      <th>genre</th>\n",
       "      <th></th>\n",
       "      <th></th>\n",
       "      <th></th>\n",
       "    </tr>\n",
       "  </thead>\n",
       "  <tbody>\n",
       "    <tr>\n",
       "      <th>Action</th>\n",
       "      <td>52.62</td>\n",
       "      <td>121.83</td>\n",
       "      <td>0.43</td>\n",
       "    </tr>\n",
       "    <tr>\n",
       "      <th>Shooter</th>\n",
       "      <td>34.37</td>\n",
       "      <td>67.27</td>\n",
       "      <td>0.51</td>\n",
       "    </tr>\n",
       "    <tr>\n",
       "      <th>Sports</th>\n",
       "      <td>28.18</td>\n",
       "      <td>59.29</td>\n",
       "      <td>0.48</td>\n",
       "    </tr>\n",
       "    <tr>\n",
       "      <th>Misc</th>\n",
       "      <td>14.80</td>\n",
       "      <td>27.99</td>\n",
       "      <td>0.53</td>\n",
       "    </tr>\n",
       "    <tr>\n",
       "      <th>Role-Playing</th>\n",
       "      <td>8.48</td>\n",
       "      <td>20.92</td>\n",
       "      <td>0.41</td>\n",
       "    </tr>\n",
       "  </tbody>\n",
       "</table>\n",
       "</div>"
      ],
      "text/plain": [
       "              na_sales  all_sales  ratio\n",
       "genre                                   \n",
       "Action           52.62     121.83   0.43\n",
       "Shooter          34.37      67.27   0.51\n",
       "Sports           28.18      59.29   0.48\n",
       "Misc             14.80      27.99   0.53\n",
       "Role-Playing      8.48      20.92   0.41"
      ]
     },
     "execution_count": 51,
     "metadata": {},
     "output_type": "execute_result"
    }
   ],
   "source": [
    "top_platform_region('genre','na_sales')"
   ]
  },
  {
   "cell_type": "code",
   "execution_count": 52,
   "metadata": {},
   "outputs": [
    {
     "data": {
      "text/html": [
       "<div>\n",
       "<style scoped>\n",
       "    .dataframe tbody tr th:only-of-type {\n",
       "        vertical-align: middle;\n",
       "    }\n",
       "\n",
       "    .dataframe tbody tr th {\n",
       "        vertical-align: top;\n",
       "    }\n",
       "\n",
       "    .dataframe thead th {\n",
       "        text-align: right;\n",
       "    }\n",
       "</style>\n",
       "<table border=\"1\" class=\"dataframe\">\n",
       "  <thead>\n",
       "    <tr style=\"text-align: right;\">\n",
       "      <th></th>\n",
       "      <th>eu_sales</th>\n",
       "      <th>all_sales</th>\n",
       "      <th>ratio</th>\n",
       "    </tr>\n",
       "    <tr>\n",
       "      <th>genre</th>\n",
       "      <th></th>\n",
       "      <th></th>\n",
       "      <th></th>\n",
       "    </tr>\n",
       "  </thead>\n",
       "  <tbody>\n",
       "    <tr>\n",
       "      <th>Action</th>\n",
       "      <td>44.15</td>\n",
       "      <td>121.83</td>\n",
       "      <td>0.36</td>\n",
       "    </tr>\n",
       "    <tr>\n",
       "      <th>Shooter</th>\n",
       "      <td>22.97</td>\n",
       "      <td>67.27</td>\n",
       "      <td>0.34</td>\n",
       "    </tr>\n",
       "    <tr>\n",
       "      <th>Sports</th>\n",
       "      <td>21.74</td>\n",
       "      <td>59.29</td>\n",
       "      <td>0.37</td>\n",
       "    </tr>\n",
       "    <tr>\n",
       "      <th>Misc</th>\n",
       "      <td>9.43</td>\n",
       "      <td>27.99</td>\n",
       "      <td>0.34</td>\n",
       "    </tr>\n",
       "    <tr>\n",
       "      <th>Racing</th>\n",
       "      <td>5.01</td>\n",
       "      <td>9.53</td>\n",
       "      <td>0.53</td>\n",
       "    </tr>\n",
       "  </tbody>\n",
       "</table>\n",
       "</div>"
      ],
      "text/plain": [
       "         eu_sales  all_sales  ratio\n",
       "genre                              \n",
       "Action      44.15     121.83   0.36\n",
       "Shooter     22.97      67.27   0.34\n",
       "Sports      21.74      59.29   0.37\n",
       "Misc         9.43      27.99   0.34\n",
       "Racing       5.01       9.53   0.53"
      ]
     },
     "execution_count": 52,
     "metadata": {},
     "output_type": "execute_result"
    }
   ],
   "source": [
    "top_platform_region('genre','eu_sales')"
   ]
  },
  {
   "cell_type": "code",
   "execution_count": 53,
   "metadata": {},
   "outputs": [
    {
     "data": {
      "text/html": [
       "<div>\n",
       "<style scoped>\n",
       "    .dataframe tbody tr th:only-of-type {\n",
       "        vertical-align: middle;\n",
       "    }\n",
       "\n",
       "    .dataframe tbody tr th {\n",
       "        vertical-align: top;\n",
       "    }\n",
       "\n",
       "    .dataframe thead th {\n",
       "        text-align: right;\n",
       "    }\n",
       "</style>\n",
       "<table border=\"1\" class=\"dataframe\">\n",
       "  <thead>\n",
       "    <tr style=\"text-align: right;\">\n",
       "      <th></th>\n",
       "      <th>jp_sales</th>\n",
       "      <th>all_sales</th>\n",
       "      <th>ratio</th>\n",
       "    </tr>\n",
       "    <tr>\n",
       "      <th>genre</th>\n",
       "      <th></th>\n",
       "      <th></th>\n",
       "      <th></th>\n",
       "    </tr>\n",
       "  </thead>\n",
       "  <tbody>\n",
       "    <tr>\n",
       "      <th>Action</th>\n",
       "      <td>9.78</td>\n",
       "      <td>121.83</td>\n",
       "      <td>0.08</td>\n",
       "    </tr>\n",
       "    <tr>\n",
       "      <th>Role-Playing</th>\n",
       "      <td>5.17</td>\n",
       "      <td>20.92</td>\n",
       "      <td>0.25</td>\n",
       "    </tr>\n",
       "    <tr>\n",
       "      <th>Fighting</th>\n",
       "      <td>2.30</td>\n",
       "      <td>8.60</td>\n",
       "      <td>0.27</td>\n",
       "    </tr>\n",
       "    <tr>\n",
       "      <th>Shooter</th>\n",
       "      <td>2.05</td>\n",
       "      <td>67.27</td>\n",
       "      <td>0.03</td>\n",
       "    </tr>\n",
       "    <tr>\n",
       "      <th>Sports</th>\n",
       "      <td>1.86</td>\n",
       "      <td>59.29</td>\n",
       "      <td>0.03</td>\n",
       "    </tr>\n",
       "  </tbody>\n",
       "</table>\n",
       "</div>"
      ],
      "text/plain": [
       "              jp_sales  all_sales  ratio\n",
       "genre                                   \n",
       "Action            9.78     121.83   0.08\n",
       "Role-Playing      5.17      20.92   0.25\n",
       "Fighting          2.30       8.60   0.27\n",
       "Shooter           2.05      67.27   0.03\n",
       "Sports            1.86      59.29   0.03"
      ]
     },
     "execution_count": 53,
     "metadata": {},
     "output_type": "execute_result"
    }
   ],
   "source": [
    "top_platform_region('genre','jp_sales')"
   ]
  },
  {
   "cell_type": "markdown",
   "metadata": {},
   "source": [
    "**Вывод:** В Северной Америке можно выделить топ 5 популярных жанров Action, Sports, Shooter, Misc, Role-Playing в среднем все имеют одинаковые доли в общем от рынка 0.41-0.53, в Европе откровенно лидирующих жанров нет, жанр Action имеет высокий уровень продаж 44.15 млн, но небольшую долю на рынке 0.36, в Японии лидер по продажам является жанр Action с продажами 9.78 млн, а большую долю ранка имеет жанр Fighting с 0,27 частью."
   ]
  },
  {
   "cell_type": "markdown",
   "metadata": {},
   "source": [
    "### Влияние рейтинга ESRB на продажи в отдельном регионе"
   ]
  },
  {
   "cell_type": "code",
   "execution_count": 54,
   "metadata": {},
   "outputs": [
    {
     "data": {
      "text/plain": [
       "0       186\n",
       "M       114\n",
       "T        94\n",
       "E        94\n",
       "E10+     74\n",
       "Name: rating, dtype: int64"
      ]
     },
     "execution_count": 54,
     "metadata": {},
     "output_type": "execute_result"
    }
   ],
   "source": [
    "data_actual['rating'].value_counts()"
   ]
  },
  {
   "cell_type": "code",
   "execution_count": 55,
   "metadata": {},
   "outputs": [
    {
     "data": {
      "image/png": "[encoded data removed]",
      "text/plain": [
       "<Figure size 1152x576 with 4 Axes>"
      ]
     },
     "metadata": {
      "needs_background": "light"
     },
     "output_type": "display_data"
    }
   ],
   "source": [
    "fig, axs = plt.subplots(2, 2, figsize=(16,8))\n",
    "fig.suptitle('Распределение рейтинга ESRB в отдельном регионе')\n",
    "\n",
    "sns.barplot(data=data_actual, x='rating', y='na_sales', estimator=np.sum, ax=axs[0,0])\n",
    "axs[0,0].set_title('в Северной Америке ', fontsize = 18)\n",
    "axs[0,0].set_xlabel('Рейтинг',fontsize = 15)\n",
    "axs[0,0].set_ylabel('Продажи',fontsize = 15)\n",
    " \n",
    "sns.barplot(data=data_actual, x='rating', y='eu_sales', estimator=np.sum, ax=axs[0,1])\n",
    "axs[0,1].set_title('в Европе', fontsize = 18)\n",
    "axs[0,1].set_xlabel('Рейтинг',fontsize = 15)\n",
    "axs[0,1].set_ylabel('Продажи',fontsize = 15)\n",
    " \n",
    "sns.barplot(data=data_actual, x='rating', y='jp_sales', estimator=np.sum, ax=axs[1,0]) \n",
    "axs[1,0].set_title('в Японии', fontsize = 18)\n",
    "axs[1,0].set_xlabel('Рейтинг',fontsize = 15)\n",
    "axs[1,0].set_ylabel('Продажи',fontsize = 15)\n",
    "\n",
    "sns.barplot(data=data_actual, x='rating', y='other_sales', estimator=np.sum, ax=axs[1,1])\n",
    "axs[1,1].set_title('в других странах', fontsize = 18)\n",
    "axs[1,1].set_xlabel('Рейтинг',fontsize = 15)\n",
    "axs[1,1].set_ylabel('Продажи',fontsize = 15)\n",
    "plt.show() "
   ]
  },
  {
   "cell_type": "markdown",
   "metadata": {},
   "source": [
    "**Вывод:** Самые популярные оценки рейтинга ESRB являются 'E', 'T', 'E10+', 'M', но чтоб не потерять данные в анализ включены пропущенные значения с 0. По всем регионам 'М' имеет наибольшее количество продаж, кроме Японии, там чуть меньше. Рейтинг 'E10+' в Японии имеет по отношению к другим регионам самый низкий уровень продаж, около 1 млн, тогда как в Северной Америке, Европе и других странах она составляет около 21 млн, 19 млн и 5 млн соответственно. В Японии заметно выделяются рейтинг с 'T', 0, где 'Т' это игры направлены на подростковую аудитория и уже могут содержать умеренное насилие, чисто подростковый юмор и умеренное количество откровенных сцен наряду с редким использованием ненормативной лексики, а 0 это игры, скорее всего, которые не котируются в Японии."
   ]
  },
  {
   "cell_type": "markdown",
   "metadata": {},
   "source": [
    "## Проверка гипотез"
   ]
  },
  {
   "cell_type": "markdown",
   "metadata": {},
   "source": [
    "**Гипотеза 1**\n",
    "Нулевая гипотеза: cредние пользовательские рейтинги платформ Xbox One и PC одинаковые.\n",
    "Альтернативная гипотеза: cредние пользовательские рейтинги платформ Xbox One и PC различаются."
   ]
  },
  {
   "cell_type": "code",
   "execution_count": 56,
   "metadata": {},
   "outputs": [
    {
     "name": "stdout",
     "output_type": "stream",
     "text": [
      "p-значение:  0.03981358558167057\n",
      "Отвергаем нулевую гипотезу\n"
     ]
    },
    {
     "name": "stderr",
     "output_type": "stream",
     "text": [
      "/tmp/ipykernel_115/3408259637.py:1: SettingWithCopyWarning: \n",
      "A value is trying to be set on a copy of a slice from a DataFrame.\n",
      "Try using .loc[row_indexer,col_indexer] = value instead\n",
      "\n",
      "See the caveats in the documentation: https://pandas.pydata.org/pandas-docs/stable/user_guide/indexing.html#returning-a-view-versus-a-copy\n",
      "  period_actual['user_score'] = period_actual['user_score'] > 0\n"
     ]
    }
   ],
   "source": [
    "period_actual['user_score'] = period_actual['user_score'] > 0\n",
    "alpha = .05 # критический уровень статистической значимости\n",
    "results = st.ttest_ind(period_actual['user_score'].loc[(period_actual['platform'] == \"XOne\")].dropna(),\n",
    "                       period_actual['user_score'].loc[(period_actual['platform'] == \"PC\")].dropna())\n",
    "print('p-значение: ', results.pvalue)\n",
    "\n",
    "if results.pvalue < alpha:\n",
    "    print(\"Отвергаем нулевую гипотезу\")\n",
    "else:\n",
    "    print(\"Не получилось отвергнуть нулевую гипотезу\") "
   ]
  },
  {
   "cell_type": "markdown",
   "metadata": {},
   "source": [
    "**Гипотеза 2**\n",
    "Нулевая гипотеза: cредние пользовательские рейтинги жанров Action и Sports равны.\n",
    "Альтернативная гипотеза: cредние пользовательские рейтинги жанров Action и Sports различаются."
   ]
  },
  {
   "cell_type": "code",
   "execution_count": 57,
   "metadata": {},
   "outputs": [
    {
     "name": "stdout",
     "output_type": "stream",
     "text": [
      "p-значение:  2.8887406123185774e-10\n",
      "Отвергаем нулевую гипотезу\n"
     ]
    }
   ],
   "source": [
    "alpha = .05 # критический уровень статистической значимости\n",
    "results = st.ttest_ind(period_actual['user_score'].loc[(period_actual['genre'] == \"Action\")].dropna(),\n",
    "                       period_actual['user_score'].loc[(period_actual['genre'] == \"Sports\")].dropna())\n",
    "print('p-значение: ', results.pvalue)\n",
    "\n",
    "if results.pvalue < alpha:\n",
    "    print(\"Отвергаем нулевую гипотезу\")\n",
    "else:\n",
    "    print(\"Не получилось отвергнуть нулевую гипотезу\") "
   ]
  },
  {
   "cell_type": "markdown",
   "metadata": {},
   "source": [
    "**Вывод:** Нулевая гипотеза всегда формулируется так, чтобы использовать знак равенства, т.е. чтобы все данные лежали в районе изначально предполагаемого значения. Соответственно гипотез данные по условию, принимает как альтернативные, т.к. они имеют знак неравенства.\n",
    "Для проверки данных гипотез используем ttest_ind, потому что этот метод подходит для проверки гипотезы о равенстве среднего двух генеральных совокупностей по взятым из них выборкам.\n"
   ]
  },
  {
   "cell_type": "markdown",
   "metadata": {},
   "source": [
    "## Общий вывод\n",
    "    Для анализа данных по определению потенциально выгодной платформы и игры были проделаны следующие действия:\n",
    "1. Открытие файла с данными и изучение информации\n",
    "- в датасете 16715 строк и 11 колонок с типами данных float, object;\n",
    "- есть пропущенные значения в некоторых столбцах \"Название игры\", \"Год выпуска\", \"Платформа\", \"Жанр\". Эти пропуски незначительны и возможно связаны с не корректным вводом. А пропуски в \"Рейтинг от организации ESRB\", \"Оценка пользователей\", \"Оценка критиков\" в основном относятся к старым данным, возможно в те года не было еще таких оценок.\n",
    "- данные рассматриваются с 1980-2016 года;\n",
    "- суммы по продажам близки к максимальным значениям.\n",
    "2. Подготовка данных\n",
    "- преобразованы форматы необходимых для расчетов столбцов из float64 в int64, а object в float64;\n",
    "- удалены с пропусками в \"Название игры\" всего 2 строки и в \"Год выпуска\" 269 строки, т.к. они составили менее 1% от всей совокупности данных;\n",
    "- в \"Рейтинг от организации ESRB\",\"Оценка критиков\" и \"Оценка пользователей\" пропущенные значения преобразовали в 0, для упрощения дальнейших расчетов;\n",
    "- значения tbd в \"Оценка пользователей\" заменим на 0, т.к. данные на момент выгрузки не были известны;\n",
    "- все продажи были округлены, переведены в количественный формат, а их суммы добавлены в новый столбец \"all_sales\".\n",
    "3. Исследовательский анализ данных\n",
    "- количество игр в 1980г составило всего 9 игр, а максимальное значение было в 2008г 1427шт. В 2016г было всего выпущено 502 игры.\n",
    "- первое место по всем продажам занимает PS2: 1200 млн, так же топовые платформ можно назвать такие как SDS, WS, 3DO, PCFX, NG, GG, NG16.\n",
    "- средняя продолжительность жизни платформы равно 8 годам;\n",
    "- актуальный период был выбран с 2013г;\n",
    "- по графику  «ящик с усами» по глобальным продажам игр в разбивке по топовым платформам видно, что сильный выброс имеет платформа 'PS3' c игрой \"Grand Theft Auto V\" в 2013г;\n",
    "- корреляция между оценками критиков и пользователей и всеми продажами по лидирующим платформам относительно небольшая и прямая, с коэффициентами 0.27 и 0.18 соответственно. Но есть достаточно сильная зависимость между оценками критиков и пользователей, 0.65;\n",
    "- можно выделить 3 лидирующих жанра это Shooter, Storts, Action с 11 млн, 7 млн и 25 млн соответственно. А с самыми низкими продажами приходится на жанры Puzzle, Adventure, Strategy.\n",
    "4. Портрет пользователя каждого региона (NA, EU, JP)\n",
    "- самые популярная платформа в Северной Америке  X360 с общей доле продаж 60%, в Европе лидиров нет, в среднем все имеют одинаковые доли от 31-55%, в Японии PS3 13%, а остальные не набирают и 0%;\n",
    "- в Северной Америке можно выделить топ 5 популярных жанров Action, Sports, Shooter, Misc, Role-Playing в среднем все имеют одинаковые доли рынка 0.41-0.53, в Европе откровенно лидирующих жанров нет, жанр Action имеет высокий уровень продаж 44.15 млн, но небольшую долю на рынке 0.36, в Японии лидер по продажам является жанр Action с продажами 9.78 млн, а большую долю ранка имеет жанр Fighting с 0,27 частью;\n",
    "- самые популярные оценки рейтинга ESRB являются 'E', 'T', 'E10+', 'M', но чтоб не потерять данные в анализ включены пропущенные значения с 0. По всем регионам 'М' имеет наибольшее количество продаж, кроме Японии, там чуть меньше. Рейтинг 'E10+' в Японии имеет по отношению к другим регионам самый низкий уровень продаж, около 1 млн, тогда как в Северной Америке, Европе и других странах она составляет около 21 млн, 19 млн и 5 млн соответственно. В Японии заметно выделяются рейтинг с 'T'и неопределенным рейтингом.\n",
    "5. Проверка гипотез\n",
    "- средние пользовательские рейтинги платформ Xbox One и PC не равны;\n",
    "- средние пользовательские рейтинги жанров Action и Sports равныю\n",
    "\n",
    "    Перспективным для вложения в развитие выделить практически невозможно, т.к. практически все платформы находятся в упадке, это видно по графику \"Распределения суммарных продаж по продажам за весь период\". Скорее всего это связанно с появлением новых платформ, например, планшеты и телефоны со своими площадками для игр. Но для поддержания жизни некоторых платформ, считаю что нужно обратить внимание на Американского пользователя по жанру Action Shooter на платформе PS2."
   ]
  }
 ],
 "metadata": {
  "ExecuteTimeLog": [
   {
    "duration": 679,
    "start_time": "2022-02-25T15:13:59.763Z"
   },
   {
    "duration": 43,
    "start_time": "2022-02-25T15:14:23.046Z"
   },
   {
    "duration": 10,
    "start_time": "2022-02-25T15:14:51.556Z"
   },
   {
    "duration": 43,
    "start_time": "2022-02-25T15:17:51.159Z"
   },
   {
    "duration": 9,
    "start_time": "2022-02-25T15:17:54.586Z"
   },
   {
    "duration": 45,
    "start_time": "2022-02-25T15:18:01.920Z"
   },
   {
    "duration": 3,
    "start_time": "2022-02-25T15:27:15.775Z"
   },
   {
    "duration": 10,
    "start_time": "2022-02-25T15:27:25.092Z"
   },
   {
    "duration": 9,
    "start_time": "2022-02-25T15:29:12.103Z"
   },
   {
    "duration": 10,
    "start_time": "2022-02-25T15:30:13.424Z"
   },
   {
    "duration": 16,
    "start_time": "2022-02-25T15:30:43.249Z"
   },
   {
    "duration": 9,
    "start_time": "2022-02-25T15:33:50.450Z"
   },
   {
    "duration": 362,
    "start_time": "2022-02-25T15:37:19.262Z"
   },
   {
    "duration": 4,
    "start_time": "2022-02-25T15:37:54.975Z"
   },
   {
    "duration": 10,
    "start_time": "2022-02-25T15:38:08.551Z"
   },
   {
    "duration": 9,
    "start_time": "2022-02-25T15:39:00.320Z"
   },
   {
    "duration": 657,
    "start_time": "2022-02-25T15:39:19.052Z"
   },
   {
    "duration": 3,
    "start_time": "2022-02-25T15:39:19.710Z"
   },
   {
    "duration": 11,
    "start_time": "2022-02-25T15:39:19.714Z"
   },
   {
    "duration": 7,
    "start_time": "2022-02-25T15:39:19.726Z"
   },
   {
    "duration": 3,
    "start_time": "2022-02-25T15:39:19.735Z"
   },
   {
    "duration": 11,
    "start_time": "2022-02-25T15:39:19.739Z"
   },
   {
    "duration": 9,
    "start_time": "2022-02-25T15:39:19.752Z"
   },
   {
    "duration": 390,
    "start_time": "2022-02-25T15:39:45.900Z"
   },
   {
    "duration": 7,
    "start_time": "2022-02-25T15:41:11.774Z"
   },
   {
    "duration": 10,
    "start_time": "2022-02-25T15:41:13.980Z"
   },
   {
    "duration": 7847,
    "start_time": "2022-02-25T15:41:39.574Z"
   },
   {
    "duration": -23,
    "start_time": "2022-02-25T15:41:47.445Z"
   },
   {
    "duration": 9,
    "start_time": "2022-02-25T15:42:29.458Z"
   },
   {
    "duration": 7,
    "start_time": "2022-02-25T15:42:48.047Z"
   },
   {
    "duration": 11,
    "start_time": "2022-02-25T15:42:49.980Z"
   },
   {
    "duration": 10,
    "start_time": "2022-02-25T15:42:53.820Z"
   },
   {
    "duration": 345,
    "start_time": "2022-02-25T15:47:00.642Z"
   },
   {
    "duration": 6,
    "start_time": "2022-02-25T15:48:09.159Z"
   },
   {
    "duration": 4,
    "start_time": "2022-02-25T15:48:17.838Z"
   },
   {
    "duration": 10,
    "start_time": "2022-02-25T15:48:20.376Z"
   },
   {
    "duration": 10,
    "start_time": "2022-02-25T15:48:57.740Z"
   },
   {
    "duration": 870,
    "start_time": "2022-02-25T15:51:28.930Z"
   },
   {
    "duration": 3,
    "start_time": "2022-02-25T15:51:29.801Z"
   },
   {
    "duration": 11,
    "start_time": "2022-02-25T15:51:29.805Z"
   },
   {
    "duration": 8,
    "start_time": "2022-02-25T15:51:29.817Z"
   },
   {
    "duration": 450,
    "start_time": "2022-02-25T15:51:29.827Z"
   },
   {
    "duration": 4,
    "start_time": "2022-02-25T15:51:30.275Z"
   },
   {
    "duration": -3,
    "start_time": "2022-02-25T15:51:30.284Z"
   },
   {
    "duration": 2148,
    "start_time": "2022-02-25T15:51:41.379Z"
   },
   {
    "duration": 6,
    "start_time": "2022-02-25T15:52:13.989Z"
   },
   {
    "duration": 12,
    "start_time": "2022-02-25T15:52:20.839Z"
   },
   {
    "duration": 5,
    "start_time": "2022-02-25T15:52:33.015Z"
   },
   {
    "duration": 12,
    "start_time": "2022-02-25T15:52:33.820Z"
   },
   {
    "duration": 689,
    "start_time": "2022-02-25T15:52:40.241Z"
   },
   {
    "duration": 3,
    "start_time": "2022-02-25T15:52:40.931Z"
   },
   {
    "duration": 10,
    "start_time": "2022-02-25T15:52:40.936Z"
   },
   {
    "duration": 7,
    "start_time": "2022-02-25T15:52:40.948Z"
   },
   {
    "duration": 2297,
    "start_time": "2022-02-25T15:52:40.956Z"
   },
   {
    "duration": -16,
    "start_time": "2022-02-25T15:52:43.271Z"
   },
   {
    "duration": -21,
    "start_time": "2022-02-25T15:52:43.277Z"
   },
   {
    "duration": 1450,
    "start_time": "2022-02-25T16:03:32.883Z"
   },
   {
    "duration": 304,
    "start_time": "2022-02-25T16:05:02.621Z"
   },
   {
    "duration": 3114,
    "start_time": "2022-02-25T16:05:35.517Z"
   },
   {
    "duration": 113,
    "start_time": "2022-02-25T16:06:38.974Z"
   },
   {
    "duration": 6843,
    "start_time": "2022-02-25T16:06:49.886Z"
   },
   {
    "duration": 1295,
    "start_time": "2022-02-25T16:07:44.153Z"
   },
   {
    "duration": 2067,
    "start_time": "2022-02-25T16:14:09.550Z"
   },
   {
    "duration": 706,
    "start_time": "2022-02-25T16:14:29.039Z"
   },
   {
    "duration": 2,
    "start_time": "2022-02-25T16:14:29.747Z"
   },
   {
    "duration": 11,
    "start_time": "2022-02-25T16:14:29.751Z"
   },
   {
    "duration": 14,
    "start_time": "2022-02-25T16:14:29.764Z"
   },
   {
    "duration": 2407,
    "start_time": "2022-02-25T16:14:29.780Z"
   },
   {
    "duration": 1,
    "start_time": "2022-02-25T16:14:32.188Z"
   },
   {
    "duration": -2,
    "start_time": "2022-02-25T16:14:32.192Z"
   },
   {
    "duration": 1378,
    "start_time": "2022-02-25T16:15:18.386Z"
   },
   {
    "duration": 8155,
    "start_time": "2022-02-25T16:22:19.088Z"
   },
   {
    "duration": 557,
    "start_time": "2022-02-25T16:24:47.171Z"
   },
   {
    "duration": 80,
    "start_time": "2022-02-25T16:25:15.011Z"
   },
   {
    "duration": 13,
    "start_time": "2022-02-25T16:25:48.331Z"
   },
   {
    "duration": 608,
    "start_time": "2022-02-25T16:26:55.189Z"
   },
   {
    "duration": 498,
    "start_time": "2022-02-25T16:27:25.444Z"
   },
   {
    "duration": 9,
    "start_time": "2022-02-25T16:29:51.879Z"
   },
   {
    "duration": 11,
    "start_time": "2022-02-25T16:30:16.335Z"
   },
   {
    "duration": 684,
    "start_time": "2022-02-25T16:30:54.462Z"
   },
   {
    "duration": 3,
    "start_time": "2022-02-25T16:30:55.148Z"
   },
   {
    "duration": 10,
    "start_time": "2022-02-25T16:30:55.157Z"
   },
   {
    "duration": 8,
    "start_time": "2022-02-25T16:30:55.168Z"
   },
   {
    "duration": 99,
    "start_time": "2022-02-25T16:30:55.178Z"
   },
   {
    "duration": 12,
    "start_time": "2022-02-25T16:30:55.279Z"
   },
   {
    "duration": 9,
    "start_time": "2022-02-25T16:30:55.294Z"
   },
   {
    "duration": 28,
    "start_time": "2022-02-25T16:30:55.304Z"
   },
   {
    "duration": 669,
    "start_time": "2022-02-25T16:30:55.334Z"
   },
   {
    "duration": 375,
    "start_time": "2022-02-25T16:31:14.214Z"
   },
   {
    "duration": 318,
    "start_time": "2022-02-25T16:31:28.695Z"
   },
   {
    "duration": 783,
    "start_time": "2022-02-25T16:31:41.603Z"
   },
   {
    "duration": 3,
    "start_time": "2022-02-25T16:31:42.388Z"
   },
   {
    "duration": 9,
    "start_time": "2022-02-25T16:31:42.393Z"
   },
   {
    "duration": 7,
    "start_time": "2022-02-25T16:31:42.404Z"
   },
   {
    "duration": 86,
    "start_time": "2022-02-25T16:31:42.412Z"
   },
   {
    "duration": 397,
    "start_time": "2022-02-25T16:31:42.500Z"
   },
   {
    "duration": 10,
    "start_time": "2022-02-25T16:31:42.889Z"
   },
   {
    "duration": 8,
    "start_time": "2022-02-25T16:31:42.892Z"
   },
   {
    "duration": 5,
    "start_time": "2022-02-25T16:31:42.895Z"
   },
   {
    "duration": 11,
    "start_time": "2022-02-25T16:31:52.977Z"
   },
   {
    "duration": 177,
    "start_time": "2022-02-26T13:16:17.693Z"
   },
   {
    "duration": 692,
    "start_time": "2022-02-26T13:16:29.432Z"
   },
   {
    "duration": 3,
    "start_time": "2022-02-26T13:16:30.126Z"
   },
   {
    "duration": 21,
    "start_time": "2022-02-26T13:16:30.130Z"
   },
   {
    "duration": 12,
    "start_time": "2022-02-26T13:16:30.153Z"
   },
   {
    "duration": 118,
    "start_time": "2022-02-26T13:16:30.167Z"
   },
   {
    "duration": 13,
    "start_time": "2022-02-26T13:16:30.287Z"
   },
   {
    "duration": 9,
    "start_time": "2022-02-26T13:16:30.303Z"
   },
   {
    "duration": 12,
    "start_time": "2022-02-26T13:16:40.489Z"
   },
   {
    "duration": 6,
    "start_time": "2022-02-26T13:17:49.849Z"
   },
   {
    "duration": 12,
    "start_time": "2022-02-26T13:17:51.616Z"
   },
   {
    "duration": 4,
    "start_time": "2022-02-26T13:18:32.025Z"
   },
   {
    "duration": 685,
    "start_time": "2022-02-26T13:18:41.975Z"
   },
   {
    "duration": 3,
    "start_time": "2022-02-26T13:18:42.662Z"
   },
   {
    "duration": 11,
    "start_time": "2022-02-26T13:18:42.667Z"
   },
   {
    "duration": 9,
    "start_time": "2022-02-26T13:18:42.680Z"
   },
   {
    "duration": 107,
    "start_time": "2022-02-26T13:18:42.690Z"
   },
   {
    "duration": 12,
    "start_time": "2022-02-26T13:18:42.799Z"
   },
   {
    "duration": 9,
    "start_time": "2022-02-26T13:18:42.813Z"
   },
   {
    "duration": 12,
    "start_time": "2022-02-26T13:18:42.832Z"
   },
   {
    "duration": 60,
    "start_time": "2022-02-26T13:19:05.018Z"
   },
   {
    "duration": 4,
    "start_time": "2022-02-26T13:19:10.657Z"
   },
   {
    "duration": 12,
    "start_time": "2022-02-26T13:19:11.809Z"
   },
   {
    "duration": 7,
    "start_time": "2022-02-26T13:19:56.884Z"
   },
   {
    "duration": 13,
    "start_time": "2022-02-26T13:19:59.244Z"
   },
   {
    "duration": 26,
    "start_time": "2022-02-26T13:26:38.792Z"
   },
   {
    "duration": 707,
    "start_time": "2022-02-26T13:27:10.605Z"
   },
   {
    "duration": 3,
    "start_time": "2022-02-26T13:27:11.314Z"
   },
   {
    "duration": 16,
    "start_time": "2022-02-26T13:27:11.320Z"
   },
   {
    "duration": 9,
    "start_time": "2022-02-26T13:27:11.339Z"
   },
   {
    "duration": 26,
    "start_time": "2022-02-26T13:27:11.350Z"
   },
   {
    "duration": 110,
    "start_time": "2022-02-26T13:27:11.378Z"
   },
   {
    "duration": 12,
    "start_time": "2022-02-26T13:27:11.490Z"
   },
   {
    "duration": 7,
    "start_time": "2022-02-26T13:27:11.505Z"
   },
   {
    "duration": 28,
    "start_time": "2022-02-26T13:27:11.514Z"
   },
   {
    "duration": 318,
    "start_time": "2022-02-26T13:30:13.250Z"
   },
   {
    "duration": 187,
    "start_time": "2022-02-26T13:31:09.353Z"
   },
   {
    "duration": 6,
    "start_time": "2022-02-26T13:31:46.757Z"
   },
   {
    "duration": 7,
    "start_time": "2022-02-26T13:34:11.509Z"
   },
   {
    "duration": 9,
    "start_time": "2022-02-26T13:35:05.437Z"
   },
   {
    "duration": 17,
    "start_time": "2022-02-26T13:36:01.407Z"
   },
   {
    "duration": 175,
    "start_time": "2022-02-26T13:37:59.503Z"
   },
   {
    "duration": 208,
    "start_time": "2022-02-26T13:38:18.767Z"
   },
   {
    "duration": 7,
    "start_time": "2022-02-26T13:39:32.357Z"
   },
   {
    "duration": 7,
    "start_time": "2022-02-26T13:40:15.449Z"
   },
   {
    "duration": 7,
    "start_time": "2022-02-26T13:41:18.498Z"
   },
   {
    "duration": 14,
    "start_time": "2022-02-26T13:41:46.640Z"
   },
   {
    "duration": 205,
    "start_time": "2022-02-26T13:43:36.114Z"
   },
   {
    "duration": 7,
    "start_time": "2022-02-26T13:44:07.322Z"
   },
   {
    "duration": 11,
    "start_time": "2022-02-26T13:44:33.386Z"
   },
   {
    "duration": 931,
    "start_time": "2022-02-26T13:45:20.351Z"
   },
   {
    "duration": 183,
    "start_time": "2022-02-26T13:46:01.223Z"
   },
   {
    "duration": 563,
    "start_time": "2022-02-26T13:46:25.232Z"
   },
   {
    "duration": 9,
    "start_time": "2022-02-26T13:47:47.034Z"
   },
   {
    "duration": 665,
    "start_time": "2022-02-26T13:47:58.446Z"
   },
   {
    "duration": 3,
    "start_time": "2022-02-26T13:47:59.113Z"
   },
   {
    "duration": 14,
    "start_time": "2022-02-26T13:47:59.117Z"
   },
   {
    "duration": 9,
    "start_time": "2022-02-26T13:47:59.133Z"
   },
   {
    "duration": 30,
    "start_time": "2022-02-26T13:47:59.144Z"
   },
   {
    "duration": 104,
    "start_time": "2022-02-26T13:47:59.176Z"
   },
   {
    "duration": 12,
    "start_time": "2022-02-26T13:47:59.281Z"
   },
   {
    "duration": 9,
    "start_time": "2022-02-26T13:47:59.295Z"
   },
   {
    "duration": 11,
    "start_time": "2022-02-26T13:47:59.306Z"
   },
   {
    "duration": 565,
    "start_time": "2022-02-26T13:47:59.333Z"
   },
   {
    "duration": -117,
    "start_time": "2022-02-26T13:48:00.017Z"
   },
   {
    "duration": 11,
    "start_time": "2022-02-26T13:48:55.253Z"
   },
   {
    "duration": 8,
    "start_time": "2022-02-26T13:49:54.446Z"
   },
   {
    "duration": 10,
    "start_time": "2022-02-26T13:49:55.834Z"
   },
   {
    "duration": 524,
    "start_time": "2022-02-26T13:50:08.916Z"
   },
   {
    "duration": 203,
    "start_time": "2022-02-26T13:51:44.806Z"
   },
   {
    "duration": 9,
    "start_time": "2022-02-26T13:53:45.351Z"
   },
   {
    "duration": 8,
    "start_time": "2022-02-26T13:53:55.621Z"
   },
   {
    "duration": 340,
    "start_time": "2022-02-26T13:54:12.501Z"
   },
   {
    "duration": 179,
    "start_time": "2022-02-26T13:54:42.379Z"
   },
   {
    "duration": 263,
    "start_time": "2022-02-26T13:55:51.944Z"
   },
   {
    "duration": 249,
    "start_time": "2022-02-26T13:56:18.945Z"
   },
   {
    "duration": 10,
    "start_time": "2022-02-26T13:57:18.680Z"
   },
   {
    "duration": 478,
    "start_time": "2022-02-26T13:58:20.427Z"
   },
   {
    "duration": 685,
    "start_time": "2022-02-26T14:02:21.160Z"
   },
   {
    "duration": 3,
    "start_time": "2022-02-26T14:02:21.846Z"
   },
   {
    "duration": 15,
    "start_time": "2022-02-26T14:02:21.851Z"
   },
   {
    "duration": 9,
    "start_time": "2022-02-26T14:02:21.868Z"
   },
   {
    "duration": 28,
    "start_time": "2022-02-26T14:02:21.879Z"
   },
   {
    "duration": 144,
    "start_time": "2022-02-26T14:02:21.932Z"
   },
   {
    "duration": 12,
    "start_time": "2022-02-26T14:02:22.078Z"
   },
   {
    "duration": 8,
    "start_time": "2022-02-26T14:02:22.093Z"
   },
   {
    "duration": 31,
    "start_time": "2022-02-26T14:02:22.102Z"
   },
   {
    "duration": 570,
    "start_time": "2022-02-26T14:02:22.135Z"
   },
   {
    "duration": -57,
    "start_time": "2022-02-26T14:02:22.765Z"
   },
   {
    "duration": 8,
    "start_time": "2022-02-26T14:03:40.732Z"
   },
   {
    "duration": 10,
    "start_time": "2022-02-26T14:03:41.684Z"
   },
   {
    "duration": 490,
    "start_time": "2022-02-26T14:03:43.477Z"
   },
   {
    "duration": 7,
    "start_time": "2022-02-26T14:04:29.631Z"
   },
   {
    "duration": 10,
    "start_time": "2022-02-26T14:04:39.100Z"
   },
   {
    "duration": 601,
    "start_time": "2022-02-26T14:04:40.118Z"
   },
   {
    "duration": 217,
    "start_time": "2022-02-26T14:05:01.893Z"
   },
   {
    "duration": 8,
    "start_time": "2022-02-26T14:05:33.088Z"
   },
   {
    "duration": 10,
    "start_time": "2022-02-26T14:05:34.084Z"
   },
   {
    "duration": 494,
    "start_time": "2022-02-26T14:05:35.158Z"
   },
   {
    "duration": 6,
    "start_time": "2022-02-26T14:06:44.347Z"
   },
   {
    "duration": 11,
    "start_time": "2022-02-26T14:06:45.685Z"
   },
   {
    "duration": 16,
    "start_time": "2022-02-26T14:06:48.040Z"
   },
   {
    "duration": 683,
    "start_time": "2022-02-27T15:27:50.589Z"
   },
   {
    "duration": 2,
    "start_time": "2022-02-27T15:27:51.274Z"
   },
   {
    "duration": 10,
    "start_time": "2022-02-27T15:27:51.278Z"
   },
   {
    "duration": 12,
    "start_time": "2022-02-27T15:27:51.290Z"
   },
   {
    "duration": 22,
    "start_time": "2022-02-27T15:27:51.303Z"
   },
   {
    "duration": 84,
    "start_time": "2022-02-27T15:27:51.326Z"
   },
   {
    "duration": 11,
    "start_time": "2022-02-27T15:27:51.411Z"
   },
   {
    "duration": 7,
    "start_time": "2022-02-27T15:27:51.424Z"
   },
   {
    "duration": 93,
    "start_time": "2022-02-27T15:27:51.432Z"
   },
   {
    "duration": -162,
    "start_time": "2022-02-27T15:27:51.689Z"
   },
   {
    "duration": -165,
    "start_time": "2022-02-27T15:27:51.693Z"
   },
   {
    "duration": -168,
    "start_time": "2022-02-27T15:27:51.697Z"
   },
   {
    "duration": 13,
    "start_time": "2022-02-27T15:28:12.617Z"
   },
   {
    "duration": 11,
    "start_time": "2022-02-27T15:28:16.573Z"
   },
   {
    "duration": 12,
    "start_time": "2022-02-27T15:28:59.318Z"
   },
   {
    "duration": 14,
    "start_time": "2022-02-27T15:28:59.383Z"
   },
   {
    "duration": 11,
    "start_time": "2022-02-27T15:29:09.563Z"
   },
   {
    "duration": 46,
    "start_time": "2022-02-27T15:29:56.811Z"
   },
   {
    "duration": 4,
    "start_time": "2022-02-27T15:29:56.859Z"
   },
   {
    "duration": 10,
    "start_time": "2022-02-27T15:29:56.864Z"
   },
   {
    "duration": 30,
    "start_time": "2022-02-27T15:29:56.876Z"
   },
   {
    "duration": 27,
    "start_time": "2022-02-27T15:29:56.908Z"
   },
   {
    "duration": 101,
    "start_time": "2022-02-27T15:29:56.937Z"
   },
   {
    "duration": 10,
    "start_time": "2022-02-27T15:29:57.039Z"
   },
   {
    "duration": 7,
    "start_time": "2022-02-27T15:29:57.051Z"
   },
   {
    "duration": 2,
    "start_time": "2022-02-27T15:29:57.059Z"
   },
   {
    "duration": 14,
    "start_time": "2022-02-27T15:29:57.064Z"
   },
   {
    "duration": 30,
    "start_time": "2022-02-27T15:29:57.080Z"
   },
   {
    "duration": 15,
    "start_time": "2022-02-27T15:29:57.111Z"
   },
   {
    "duration": 10,
    "start_time": "2022-02-27T15:29:57.128Z"
   },
   {
    "duration": 1176,
    "start_time": "2022-02-27T15:38:20.926Z"
   },
   {
    "duration": 11,
    "start_time": "2022-02-27T15:39:13.064Z"
   },
   {
    "duration": 10,
    "start_time": "2022-02-27T15:39:16.958Z"
   },
   {
    "duration": 15,
    "start_time": "2022-02-27T15:46:53.075Z"
   },
   {
    "duration": 17,
    "start_time": "2022-02-27T15:47:58.467Z"
   },
   {
    "duration": 234,
    "start_time": "2022-02-27T15:51:33.578Z"
   },
   {
    "duration": 10,
    "start_time": "2022-02-27T15:51:37.348Z"
   },
   {
    "duration": 674,
    "start_time": "2022-02-27T15:52:04.451Z"
   },
   {
    "duration": 648,
    "start_time": "2022-02-27T15:53:25.001Z"
   },
   {
    "duration": 1404,
    "start_time": "2022-02-27T15:53:50.114Z"
   },
   {
    "duration": 813,
    "start_time": "2022-02-27T15:54:11.388Z"
   },
   {
    "duration": 944,
    "start_time": "2022-02-27T15:54:21.769Z"
   },
   {
    "duration": 671,
    "start_time": "2022-02-27T15:54:35.110Z"
   },
   {
    "duration": 3,
    "start_time": "2022-02-27T15:54:35.783Z"
   },
   {
    "duration": 10,
    "start_time": "2022-02-27T15:54:35.788Z"
   },
   {
    "duration": 8,
    "start_time": "2022-02-27T15:54:35.799Z"
   },
   {
    "duration": 23,
    "start_time": "2022-02-27T15:54:35.808Z"
   },
   {
    "duration": 99,
    "start_time": "2022-02-27T15:54:35.833Z"
   },
   {
    "duration": 10,
    "start_time": "2022-02-27T15:54:35.934Z"
   },
   {
    "duration": 9,
    "start_time": "2022-02-27T15:54:35.947Z"
   },
   {
    "duration": 3,
    "start_time": "2022-02-27T15:54:35.957Z"
   },
   {
    "duration": 13,
    "start_time": "2022-02-27T15:54:35.961Z"
   },
   {
    "duration": 31,
    "start_time": "2022-02-27T15:54:35.975Z"
   },
   {
    "duration": 17,
    "start_time": "2022-02-27T15:54:36.008Z"
   },
   {
    "duration": 10,
    "start_time": "2022-02-27T15:54:36.027Z"
   },
   {
    "duration": 693,
    "start_time": "2022-02-27T15:56:16.027Z"
   },
   {
    "duration": 3,
    "start_time": "2022-02-27T15:56:16.722Z"
   },
   {
    "duration": 9,
    "start_time": "2022-02-27T15:56:16.728Z"
   },
   {
    "duration": 8,
    "start_time": "2022-02-27T15:56:16.739Z"
   },
   {
    "duration": 25,
    "start_time": "2022-02-27T15:56:16.749Z"
   },
   {
    "duration": 82,
    "start_time": "2022-02-27T15:56:16.801Z"
   },
   {
    "duration": 23,
    "start_time": "2022-02-27T15:56:16.885Z"
   },
   {
    "duration": 9,
    "start_time": "2022-02-27T15:56:16.911Z"
   },
   {
    "duration": 3,
    "start_time": "2022-02-27T15:56:16.922Z"
   },
   {
    "duration": 13,
    "start_time": "2022-02-27T15:56:16.926Z"
   },
   {
    "duration": 6,
    "start_time": "2022-02-27T15:56:16.940Z"
   },
   {
    "duration": 20,
    "start_time": "2022-02-27T15:56:16.948Z"
   },
   {
    "duration": 39,
    "start_time": "2022-02-27T15:56:16.969Z"
   },
   {
    "duration": 733,
    "start_time": "2022-02-27T15:57:53.226Z"
   },
   {
    "duration": 2,
    "start_time": "2022-02-27T15:57:53.961Z"
   },
   {
    "duration": 10,
    "start_time": "2022-02-27T15:57:53.965Z"
   },
   {
    "duration": 7,
    "start_time": "2022-02-27T15:57:53.977Z"
   },
   {
    "duration": 28,
    "start_time": "2022-02-27T15:57:53.985Z"
   },
   {
    "duration": 87,
    "start_time": "2022-02-27T15:57:54.014Z"
   },
   {
    "duration": 10,
    "start_time": "2022-02-27T15:57:54.102Z"
   },
   {
    "duration": 6,
    "start_time": "2022-02-27T15:57:54.114Z"
   },
   {
    "duration": 2,
    "start_time": "2022-02-27T15:57:54.121Z"
   },
   {
    "duration": 12,
    "start_time": "2022-02-27T15:57:54.125Z"
   },
   {
    "duration": 10,
    "start_time": "2022-02-27T15:57:54.138Z"
   },
   {
    "duration": 16,
    "start_time": "2022-02-27T15:57:54.149Z"
   },
   {
    "duration": 36,
    "start_time": "2022-02-27T15:57:54.166Z"
   },
   {
    "duration": 11,
    "start_time": "2022-02-27T15:58:19.836Z"
   },
   {
    "duration": 17,
    "start_time": "2022-02-27T16:01:13.995Z"
   },
   {
    "duration": 6,
    "start_time": "2022-02-27T16:06:55.993Z"
   },
   {
    "duration": 6,
    "start_time": "2022-02-27T16:07:13.828Z"
   },
   {
    "duration": 326,
    "start_time": "2022-02-27T16:07:28.453Z"
   },
   {
    "duration": 4,
    "start_time": "2022-02-27T16:11:11.030Z"
   },
   {
    "duration": 10,
    "start_time": "2022-02-27T16:11:20.302Z"
   },
   {
    "duration": 20,
    "start_time": "2022-02-27T16:12:22.908Z"
   },
   {
    "duration": 15,
    "start_time": "2022-02-27T16:15:37.360Z"
   },
   {
    "duration": 5,
    "start_time": "2022-02-27T16:17:47.873Z"
   },
   {
    "duration": 14,
    "start_time": "2022-02-27T16:17:49.549Z"
   },
   {
    "duration": 18,
    "start_time": "2022-02-27T16:18:03.743Z"
   },
   {
    "duration": 15,
    "start_time": "2022-02-27T16:19:55.064Z"
   },
   {
    "duration": 8,
    "start_time": "2022-02-27T16:27:14.665Z"
   },
   {
    "duration": 10,
    "start_time": "2022-02-27T16:27:25.575Z"
   },
   {
    "duration": 23,
    "start_time": "2022-02-27T16:28:06.342Z"
   },
   {
    "duration": 8,
    "start_time": "2022-02-27T16:28:34.851Z"
   },
   {
    "duration": 7,
    "start_time": "2022-02-27T16:28:34.905Z"
   },
   {
    "duration": 9,
    "start_time": "2022-02-27T16:28:48.011Z"
   },
   {
    "duration": 8,
    "start_time": "2022-02-27T16:28:53.619Z"
   },
   {
    "duration": 650,
    "start_time": "2022-02-27T16:29:03.312Z"
   },
   {
    "duration": 2,
    "start_time": "2022-02-27T16:29:03.964Z"
   },
   {
    "duration": 10,
    "start_time": "2022-02-27T16:29:03.968Z"
   },
   {
    "duration": 8,
    "start_time": "2022-02-27T16:29:03.979Z"
   },
   {
    "duration": 27,
    "start_time": "2022-02-27T16:29:03.988Z"
   },
   {
    "duration": 86,
    "start_time": "2022-02-27T16:29:04.017Z"
   },
   {
    "duration": 6,
    "start_time": "2022-02-27T16:29:04.105Z"
   },
   {
    "duration": 24,
    "start_time": "2022-02-27T16:29:04.113Z"
   },
   {
    "duration": 367,
    "start_time": "2022-02-27T16:29:04.139Z"
   },
   {
    "duration": -157,
    "start_time": "2022-02-27T16:29:04.665Z"
   },
   {
    "duration": -165,
    "start_time": "2022-02-27T16:29:04.674Z"
   },
   {
    "duration": -170,
    "start_time": "2022-02-27T16:29:04.680Z"
   },
   {
    "duration": -180,
    "start_time": "2022-02-27T16:29:04.690Z"
   },
   {
    "duration": -183,
    "start_time": "2022-02-27T16:29:04.694Z"
   },
   {
    "duration": -185,
    "start_time": "2022-02-27T16:29:04.697Z"
   },
   {
    "duration": -187,
    "start_time": "2022-02-27T16:29:04.700Z"
   },
   {
    "duration": 11,
    "start_time": "2022-02-27T16:29:37.236Z"
   },
   {
    "duration": 19,
    "start_time": "2022-02-27T16:29:39.303Z"
   },
   {
    "duration": 11,
    "start_time": "2022-02-27T16:29:40.990Z"
   },
   {
    "duration": 9,
    "start_time": "2022-02-27T16:29:42.179Z"
   },
   {
    "duration": 5,
    "start_time": "2022-02-27T16:29:43.035Z"
   },
   {
    "duration": 16,
    "start_time": "2022-02-27T16:29:44.251Z"
   },
   {
    "duration": 10,
    "start_time": "2022-02-27T16:29:45.867Z"
   },
   {
    "duration": 9,
    "start_time": "2022-02-27T16:29:47.041Z"
   },
   {
    "duration": 12,
    "start_time": "2022-02-27T16:30:17.963Z"
   },
   {
    "duration": 5,
    "start_time": "2022-02-27T16:30:34.684Z"
   },
   {
    "duration": 17,
    "start_time": "2022-02-27T16:30:42.111Z"
   },
   {
    "duration": 658,
    "start_time": "2022-02-27T16:30:47.826Z"
   },
   {
    "duration": 3,
    "start_time": "2022-02-27T16:30:48.485Z"
   },
   {
    "duration": 11,
    "start_time": "2022-02-27T16:30:48.490Z"
   },
   {
    "duration": 7,
    "start_time": "2022-02-27T16:30:48.503Z"
   },
   {
    "duration": 29,
    "start_time": "2022-02-27T16:30:48.512Z"
   },
   {
    "duration": 88,
    "start_time": "2022-02-27T16:30:48.542Z"
   },
   {
    "duration": 5,
    "start_time": "2022-02-27T16:30:48.632Z"
   },
   {
    "duration": 12,
    "start_time": "2022-02-27T16:30:48.639Z"
   },
   {
    "duration": 11,
    "start_time": "2022-02-27T16:30:48.652Z"
   },
   {
    "duration": 38,
    "start_time": "2022-02-27T16:30:48.664Z"
   },
   {
    "duration": 11,
    "start_time": "2022-02-27T16:30:48.704Z"
   },
   {
    "duration": 9,
    "start_time": "2022-02-27T16:30:48.717Z"
   },
   {
    "duration": 4,
    "start_time": "2022-02-27T16:30:48.728Z"
   },
   {
    "duration": 15,
    "start_time": "2022-02-27T16:30:48.734Z"
   },
   {
    "duration": 4,
    "start_time": "2022-02-27T16:30:48.751Z"
   },
   {
    "duration": 14,
    "start_time": "2022-02-27T16:30:48.756Z"
   },
   {
    "duration": 15,
    "start_time": "2022-02-27T16:31:08.661Z"
   },
   {
    "duration": 6,
    "start_time": "2022-02-27T16:31:24.570Z"
   },
   {
    "duration": 8,
    "start_time": "2022-02-27T16:31:25.791Z"
   },
   {
    "duration": 61,
    "start_time": "2022-02-27T16:32:26.948Z"
   },
   {
    "duration": 2,
    "start_time": "2022-02-27T16:32:27.011Z"
   },
   {
    "duration": 11,
    "start_time": "2022-02-27T16:32:27.015Z"
   },
   {
    "duration": 8,
    "start_time": "2022-02-27T16:32:27.027Z"
   },
   {
    "duration": 23,
    "start_time": "2022-02-27T16:32:27.037Z"
   },
   {
    "duration": 108,
    "start_time": "2022-02-27T16:32:27.062Z"
   },
   {
    "duration": 6,
    "start_time": "2022-02-27T16:32:27.172Z"
   },
   {
    "duration": 10,
    "start_time": "2022-02-27T16:32:27.180Z"
   },
   {
    "duration": 10,
    "start_time": "2022-02-27T16:32:27.202Z"
   },
   {
    "duration": 16,
    "start_time": "2022-02-27T16:32:27.214Z"
   },
   {
    "duration": 9,
    "start_time": "2022-02-27T16:32:27.232Z"
   },
   {
    "duration": 9,
    "start_time": "2022-02-27T16:32:27.243Z"
   },
   {
    "duration": 3,
    "start_time": "2022-02-27T16:32:27.254Z"
   },
   {
    "duration": 16,
    "start_time": "2022-02-27T16:32:27.259Z"
   },
   {
    "duration": 8,
    "start_time": "2022-02-27T16:33:14.443Z"
   },
   {
    "duration": 89,
    "start_time": "2022-02-27T16:33:40.209Z"
   },
   {
    "duration": 6,
    "start_time": "2022-02-27T16:36:37.948Z"
   },
   {
    "duration": 11,
    "start_time": "2022-02-27T16:37:10.048Z"
   },
   {
    "duration": 7,
    "start_time": "2022-02-27T16:39:43.540Z"
   },
   {
    "duration": 11,
    "start_time": "2022-02-27T16:39:57.110Z"
   },
   {
    "duration": 9,
    "start_time": "2022-02-27T16:40:10.342Z"
   },
   {
    "duration": 349,
    "start_time": "2022-02-27T16:40:48.568Z"
   },
   {
    "duration": 7,
    "start_time": "2022-02-27T16:44:23.223Z"
   },
   {
    "duration": 11,
    "start_time": "2022-02-27T16:44:30.592Z"
   },
   {
    "duration": 10,
    "start_time": "2022-02-27T16:44:30.650Z"
   },
   {
    "duration": 10,
    "start_time": "2022-02-27T16:44:33.481Z"
   },
   {
    "duration": 4,
    "start_time": "2022-02-27T16:45:06.064Z"
   },
   {
    "duration": 11,
    "start_time": "2022-02-27T16:45:07.553Z"
   },
   {
    "duration": 8,
    "start_time": "2022-02-27T16:45:07.612Z"
   },
   {
    "duration": 8,
    "start_time": "2022-02-27T16:48:42.842Z"
   },
   {
    "duration": 12,
    "start_time": "2022-02-27T16:48:44.699Z"
   },
   {
    "duration": 10,
    "start_time": "2022-02-27T16:48:47.341Z"
   },
   {
    "duration": 744,
    "start_time": "2022-02-28T13:51:21.936Z"
   },
   {
    "duration": 3,
    "start_time": "2022-02-28T13:51:22.683Z"
   },
   {
    "duration": 22,
    "start_time": "2022-02-28T13:51:22.688Z"
   },
   {
    "duration": 24,
    "start_time": "2022-02-28T13:51:22.712Z"
   },
   {
    "duration": 44,
    "start_time": "2022-02-28T13:51:22.738Z"
   },
   {
    "duration": 95,
    "start_time": "2022-02-28T13:51:22.784Z"
   },
   {
    "duration": 8,
    "start_time": "2022-02-28T13:51:22.881Z"
   },
   {
    "duration": 27,
    "start_time": "2022-02-28T13:51:22.892Z"
   },
   {
    "duration": 22,
    "start_time": "2022-02-28T13:51:22.921Z"
   },
   {
    "duration": 36,
    "start_time": "2022-02-28T13:51:22.944Z"
   },
   {
    "duration": 18,
    "start_time": "2022-02-28T13:51:22.981Z"
   },
   {
    "duration": 34,
    "start_time": "2022-02-28T13:51:23.000Z"
   },
   {
    "duration": 20,
    "start_time": "2022-02-28T13:51:23.036Z"
   },
   {
    "duration": 34,
    "start_time": "2022-02-28T13:51:23.058Z"
   },
   {
    "duration": 25,
    "start_time": "2022-02-28T13:51:23.093Z"
   },
   {
    "duration": 18,
    "start_time": "2022-02-28T13:51:23.120Z"
   },
   {
    "duration": 27,
    "start_time": "2022-02-28T13:51:23.139Z"
   },
   {
    "duration": 21,
    "start_time": "2022-02-28T13:51:23.168Z"
   },
   {
    "duration": 14,
    "start_time": "2022-02-28T13:51:35.268Z"
   },
   {
    "duration": 684,
    "start_time": "2022-02-28T13:53:05.288Z"
   },
   {
    "duration": 3,
    "start_time": "2022-02-28T13:53:05.974Z"
   },
   {
    "duration": 29,
    "start_time": "2022-02-28T13:53:05.978Z"
   },
   {
    "duration": 11,
    "start_time": "2022-02-28T13:53:06.009Z"
   },
   {
    "duration": 26,
    "start_time": "2022-02-28T13:53:06.022Z"
   },
   {
    "duration": 94,
    "start_time": "2022-02-28T13:53:06.050Z"
   },
   {
    "duration": 13,
    "start_time": "2022-02-28T13:53:06.146Z"
   },
   {
    "duration": 14,
    "start_time": "2022-02-28T13:53:06.161Z"
   },
   {
    "duration": 12,
    "start_time": "2022-02-28T13:53:06.177Z"
   },
   {
    "duration": 21,
    "start_time": "2022-02-28T13:53:06.191Z"
   },
   {
    "duration": 13,
    "start_time": "2022-02-28T13:53:06.213Z"
   },
   {
    "duration": 35,
    "start_time": "2022-02-28T13:53:06.227Z"
   },
   {
    "duration": 7,
    "start_time": "2022-02-28T13:53:06.264Z"
   },
   {
    "duration": 18,
    "start_time": "2022-02-28T13:53:06.273Z"
   },
   {
    "duration": 8,
    "start_time": "2022-02-28T13:53:06.292Z"
   },
   {
    "duration": 12,
    "start_time": "2022-02-28T13:53:06.302Z"
   },
   {
    "duration": 44,
    "start_time": "2022-02-28T13:53:06.315Z"
   },
   {
    "duration": 5,
    "start_time": "2022-02-28T13:53:06.361Z"
   },
   {
    "duration": 16,
    "start_time": "2022-02-28T13:53:06.368Z"
   },
   {
    "duration": 7,
    "start_time": "2022-02-28T13:54:13.055Z"
   },
   {
    "duration": 665,
    "start_time": "2022-02-28T13:54:20.310Z"
   },
   {
    "duration": 3,
    "start_time": "2022-02-28T13:54:20.977Z"
   },
   {
    "duration": 17,
    "start_time": "2022-02-28T13:54:20.982Z"
   },
   {
    "duration": 9,
    "start_time": "2022-02-28T13:54:21.001Z"
   },
   {
    "duration": 28,
    "start_time": "2022-02-28T13:54:21.012Z"
   },
   {
    "duration": 105,
    "start_time": "2022-02-28T13:54:21.042Z"
   },
   {
    "duration": 13,
    "start_time": "2022-02-28T13:54:21.149Z"
   },
   {
    "duration": 14,
    "start_time": "2022-02-28T13:54:21.165Z"
   },
   {
    "duration": 13,
    "start_time": "2022-02-28T13:54:21.181Z"
   },
   {
    "duration": 21,
    "start_time": "2022-02-28T13:54:21.196Z"
   },
   {
    "duration": 13,
    "start_time": "2022-02-28T13:54:21.218Z"
   },
   {
    "duration": 10,
    "start_time": "2022-02-28T13:54:21.260Z"
   },
   {
    "duration": 13,
    "start_time": "2022-02-28T13:54:21.272Z"
   },
   {
    "duration": 34,
    "start_time": "2022-02-28T13:54:21.286Z"
   },
   {
    "duration": 9,
    "start_time": "2022-02-28T13:54:21.322Z"
   },
   {
    "duration": 18,
    "start_time": "2022-02-28T13:54:21.332Z"
   },
   {
    "duration": 18,
    "start_time": "2022-02-28T13:54:21.359Z"
   },
   {
    "duration": 24,
    "start_time": "2022-02-28T13:54:21.379Z"
   },
   {
    "duration": 21,
    "start_time": "2022-02-28T13:54:21.405Z"
   },
   {
    "duration": 35,
    "start_time": "2022-02-28T13:59:55.770Z"
   },
   {
    "duration": 26,
    "start_time": "2022-02-28T14:00:35.419Z"
   },
   {
    "duration": 15,
    "start_time": "2022-02-28T14:00:56.059Z"
   },
   {
    "duration": 16,
    "start_time": "2022-02-28T14:01:30.268Z"
   },
   {
    "duration": 9,
    "start_time": "2022-02-28T14:02:43.645Z"
   },
   {
    "duration": 20,
    "start_time": "2022-02-28T14:04:01.113Z"
   },
   {
    "duration": 18,
    "start_time": "2022-02-28T14:04:45.970Z"
   },
   {
    "duration": 21,
    "start_time": "2022-02-28T14:10:07.874Z"
   },
   {
    "duration": 613,
    "start_time": "2022-02-28T14:10:39.325Z"
   },
   {
    "duration": 208,
    "start_time": "2022-02-28T14:12:00.424Z"
   },
   {
    "duration": 372,
    "start_time": "2022-02-28T14:13:16.518Z"
   },
   {
    "duration": 1029,
    "start_time": "2022-02-28T14:13:31.256Z"
   },
   {
    "duration": 816,
    "start_time": "2022-02-28T14:14:35.296Z"
   },
   {
    "duration": 228,
    "start_time": "2022-02-28T14:14:56.050Z"
   },
   {
    "duration": 8,
    "start_time": "2022-02-28T14:15:28.361Z"
   },
   {
    "duration": 4,
    "start_time": "2022-02-28T14:15:31.505Z"
   },
   {
    "duration": 12,
    "start_time": "2022-02-28T14:15:32.370Z"
   },
   {
    "duration": 702,
    "start_time": "2022-02-28T14:15:43.277Z"
   },
   {
    "duration": 3,
    "start_time": "2022-02-28T14:15:43.981Z"
   },
   {
    "duration": 10,
    "start_time": "2022-02-28T14:15:43.986Z"
   },
   {
    "duration": 9,
    "start_time": "2022-02-28T14:15:43.998Z"
   },
   {
    "duration": 28,
    "start_time": "2022-02-28T14:15:44.008Z"
   },
   {
    "duration": 125,
    "start_time": "2022-02-28T14:15:44.037Z"
   },
   {
    "duration": 6,
    "start_time": "2022-02-28T14:15:44.164Z"
   },
   {
    "duration": 15,
    "start_time": "2022-02-28T14:15:44.173Z"
   },
   {
    "duration": 13,
    "start_time": "2022-02-28T14:15:44.189Z"
   },
   {
    "duration": 20,
    "start_time": "2022-02-28T14:15:44.204Z"
   },
   {
    "duration": 38,
    "start_time": "2022-02-28T14:15:44.225Z"
   },
   {
    "duration": 11,
    "start_time": "2022-02-28T14:15:44.264Z"
   },
   {
    "duration": 5,
    "start_time": "2022-02-28T14:15:44.277Z"
   },
   {
    "duration": 27,
    "start_time": "2022-02-28T14:15:44.284Z"
   },
   {
    "duration": 8,
    "start_time": "2022-02-28T14:15:44.313Z"
   },
   {
    "duration": 6,
    "start_time": "2022-02-28T14:15:44.323Z"
   },
   {
    "duration": 34,
    "start_time": "2022-02-28T14:15:44.330Z"
   },
   {
    "duration": 15,
    "start_time": "2022-02-28T14:15:44.365Z"
   },
   {
    "duration": 275,
    "start_time": "2022-02-28T14:15:44.382Z"
   },
   {
    "duration": 717,
    "start_time": "2022-02-28T14:18:01.566Z"
   },
   {
    "duration": 3,
    "start_time": "2022-02-28T14:18:02.284Z"
   },
   {
    "duration": 42,
    "start_time": "2022-02-28T14:18:02.289Z"
   },
   {
    "duration": 18,
    "start_time": "2022-02-28T14:18:02.333Z"
   },
   {
    "duration": 45,
    "start_time": "2022-02-28T14:18:02.352Z"
   },
   {
    "duration": 94,
    "start_time": "2022-02-28T14:18:02.399Z"
   },
   {
    "duration": 409,
    "start_time": "2022-02-28T14:18:02.495Z"
   },
   {
    "duration": -50,
    "start_time": "2022-02-28T14:18:02.956Z"
   },
   {
    "duration": -52,
    "start_time": "2022-02-28T14:18:02.960Z"
   },
   {
    "duration": -53,
    "start_time": "2022-02-28T14:18:02.962Z"
   },
   {
    "duration": -56,
    "start_time": "2022-02-28T14:18:02.966Z"
   },
   {
    "duration": -58,
    "start_time": "2022-02-28T14:18:02.969Z"
   },
   {
    "duration": -59,
    "start_time": "2022-02-28T14:18:02.971Z"
   },
   {
    "duration": -60,
    "start_time": "2022-02-28T14:18:02.973Z"
   },
   {
    "duration": -62,
    "start_time": "2022-02-28T14:18:02.976Z"
   },
   {
    "duration": -63,
    "start_time": "2022-02-28T14:18:02.978Z"
   },
   {
    "duration": -65,
    "start_time": "2022-02-28T14:18:02.981Z"
   },
   {
    "duration": -67,
    "start_time": "2022-02-28T14:18:02.984Z"
   },
   {
    "duration": -69,
    "start_time": "2022-02-28T14:18:02.987Z"
   },
   {
    "duration": -70,
    "start_time": "2022-02-28T14:18:02.989Z"
   },
   {
    "duration": 727,
    "start_time": "2022-02-28T14:18:29.762Z"
   },
   {
    "duration": 3,
    "start_time": "2022-02-28T14:18:30.491Z"
   },
   {
    "duration": 20,
    "start_time": "2022-02-28T14:18:30.496Z"
   },
   {
    "duration": 28,
    "start_time": "2022-02-28T14:18:30.518Z"
   },
   {
    "duration": 31,
    "start_time": "2022-02-28T14:18:30.548Z"
   },
   {
    "duration": 97,
    "start_time": "2022-02-28T14:18:30.581Z"
   },
   {
    "duration": 6,
    "start_time": "2022-02-28T14:18:30.680Z"
   },
   {
    "duration": 31,
    "start_time": "2022-02-28T14:18:30.689Z"
   },
   {
    "duration": 15,
    "start_time": "2022-02-28T14:18:30.722Z"
   },
   {
    "duration": 27,
    "start_time": "2022-02-28T14:18:30.739Z"
   },
   {
    "duration": 12,
    "start_time": "2022-02-28T14:18:30.767Z"
   },
   {
    "duration": 23,
    "start_time": "2022-02-28T14:18:30.781Z"
   },
   {
    "duration": 15,
    "start_time": "2022-02-28T14:18:30.806Z"
   },
   {
    "duration": 38,
    "start_time": "2022-02-28T14:18:30.823Z"
   },
   {
    "duration": 10,
    "start_time": "2022-02-28T14:18:30.863Z"
   },
   {
    "duration": 12,
    "start_time": "2022-02-28T14:18:30.875Z"
   },
   {
    "duration": 10,
    "start_time": "2022-02-28T14:18:30.888Z"
   },
   {
    "duration": 25,
    "start_time": "2022-02-28T14:18:30.899Z"
   },
   {
    "duration": 289,
    "start_time": "2022-02-28T14:18:30.926Z"
   },
   {
    "duration": 14,
    "start_time": "2022-02-28T14:18:42.571Z"
   },
   {
    "duration": 203,
    "start_time": "2022-02-28T14:18:54.987Z"
   },
   {
    "duration": 19,
    "start_time": "2022-02-28T14:27:45.412Z"
   },
   {
    "duration": 674,
    "start_time": "2022-02-28T14:29:17.110Z"
   },
   {
    "duration": 3,
    "start_time": "2022-02-28T14:29:17.786Z"
   },
   {
    "duration": 34,
    "start_time": "2022-02-28T14:29:17.791Z"
   },
   {
    "duration": 17,
    "start_time": "2022-02-28T14:29:17.826Z"
   },
   {
    "duration": 51,
    "start_time": "2022-02-28T14:29:17.845Z"
   },
   {
    "duration": 90,
    "start_time": "2022-02-28T14:29:17.898Z"
   },
   {
    "duration": 7,
    "start_time": "2022-02-28T14:29:17.990Z"
   },
   {
    "duration": 30,
    "start_time": "2022-02-28T14:29:18.000Z"
   },
   {
    "duration": 17,
    "start_time": "2022-02-28T14:29:18.032Z"
   },
   {
    "duration": 27,
    "start_time": "2022-02-28T14:29:18.051Z"
   },
   {
    "duration": 23,
    "start_time": "2022-02-28T14:29:18.080Z"
   },
   {
    "duration": 27,
    "start_time": "2022-02-28T14:29:18.105Z"
   },
   {
    "duration": 26,
    "start_time": "2022-02-28T14:29:18.133Z"
   },
   {
    "duration": 28,
    "start_time": "2022-02-28T14:29:18.161Z"
   },
   {
    "duration": 10,
    "start_time": "2022-02-28T14:29:18.191Z"
   },
   {
    "duration": 33,
    "start_time": "2022-02-28T14:29:18.203Z"
   },
   {
    "duration": 6,
    "start_time": "2022-02-28T14:29:18.237Z"
   },
   {
    "duration": 34,
    "start_time": "2022-02-28T14:29:18.245Z"
   },
   {
    "duration": 29,
    "start_time": "2022-02-28T14:29:18.281Z"
   },
   {
    "duration": 35,
    "start_time": "2022-02-28T14:34:02.906Z"
   },
   {
    "duration": 17,
    "start_time": "2022-02-28T14:34:30.938Z"
   },
   {
    "duration": 17,
    "start_time": "2022-02-28T14:34:46.427Z"
   },
   {
    "duration": 4,
    "start_time": "2022-02-28T15:32:49.900Z"
   },
   {
    "duration": 269,
    "start_time": "2022-02-28T15:33:19.501Z"
   },
   {
    "duration": 1255,
    "start_time": "2022-02-28T15:33:41.631Z"
   },
   {
    "duration": 2,
    "start_time": "2022-02-28T15:33:42.888Z"
   },
   {
    "duration": 14,
    "start_time": "2022-02-28T15:33:42.892Z"
   },
   {
    "duration": 9,
    "start_time": "2022-02-28T15:33:42.908Z"
   },
   {
    "duration": 46,
    "start_time": "2022-02-28T15:33:42.919Z"
   },
   {
    "duration": 108,
    "start_time": "2022-02-28T15:33:42.966Z"
   },
   {
    "duration": 7,
    "start_time": "2022-02-28T15:33:43.076Z"
   },
   {
    "duration": 17,
    "start_time": "2022-02-28T15:33:43.086Z"
   },
   {
    "duration": 14,
    "start_time": "2022-02-28T15:33:43.105Z"
   },
   {
    "duration": 39,
    "start_time": "2022-02-28T15:33:43.121Z"
   },
   {
    "duration": 14,
    "start_time": "2022-02-28T15:33:43.162Z"
   },
   {
    "duration": 11,
    "start_time": "2022-02-28T15:33:43.178Z"
   },
   {
    "duration": 7,
    "start_time": "2022-02-28T15:33:43.190Z"
   },
   {
    "duration": 19,
    "start_time": "2022-02-28T15:33:43.198Z"
   },
   {
    "duration": 42,
    "start_time": "2022-02-28T15:33:43.218Z"
   },
   {
    "duration": 22,
    "start_time": "2022-02-28T15:33:43.261Z"
   },
   {
    "duration": 10,
    "start_time": "2022-02-28T15:33:43.285Z"
   },
   {
    "duration": 14,
    "start_time": "2022-02-28T15:33:43.297Z"
   },
   {
    "duration": 47,
    "start_time": "2022-02-28T15:33:43.313Z"
   },
   {
    "duration": 17,
    "start_time": "2022-02-28T15:33:43.362Z"
   },
   {
    "duration": 4,
    "start_time": "2022-02-28T15:33:43.382Z"
   },
   {
    "duration": 295,
    "start_time": "2022-02-28T15:33:43.388Z"
   },
   {
    "duration": 75,
    "start_time": "2022-02-28T15:35:46.893Z"
   },
   {
    "duration": 23,
    "start_time": "2022-02-28T15:35:46.947Z"
   },
   {
    "duration": 12,
    "start_time": "2022-02-28T15:35:46.959Z"
   },
   {
    "duration": 6,
    "start_time": "2022-02-28T15:35:46.966Z"
   },
   {
    "duration": 5,
    "start_time": "2022-02-28T15:35:46.968Z"
   },
   {
    "duration": 4,
    "start_time": "2022-02-28T15:35:46.970Z"
   },
   {
    "duration": 3,
    "start_time": "2022-02-28T15:35:46.972Z"
   },
   {
    "duration": -2,
    "start_time": "2022-02-28T15:35:46.978Z"
   },
   {
    "duration": -13,
    "start_time": "2022-02-28T15:35:46.990Z"
   },
   {
    "duration": -14,
    "start_time": "2022-02-28T15:35:46.992Z"
   },
   {
    "duration": -15,
    "start_time": "2022-02-28T15:35:46.994Z"
   },
   {
    "duration": -20,
    "start_time": "2022-02-28T15:35:47.000Z"
   },
   {
    "duration": -21,
    "start_time": "2022-02-28T15:35:47.002Z"
   },
   {
    "duration": -23,
    "start_time": "2022-02-28T15:35:47.005Z"
   },
   {
    "duration": -23,
    "start_time": "2022-02-28T15:35:47.006Z"
   },
   {
    "duration": -24,
    "start_time": "2022-02-28T15:35:47.008Z"
   },
   {
    "duration": -27,
    "start_time": "2022-02-28T15:35:47.012Z"
   },
   {
    "duration": -31,
    "start_time": "2022-02-28T15:35:47.017Z"
   },
   {
    "duration": -31,
    "start_time": "2022-02-28T15:35:47.019Z"
   },
   {
    "duration": -33,
    "start_time": "2022-02-28T15:35:47.022Z"
   },
   {
    "duration": -34,
    "start_time": "2022-02-28T15:35:47.024Z"
   },
   {
    "duration": -35,
    "start_time": "2022-02-28T15:35:47.026Z"
   },
   {
    "duration": 1267,
    "start_time": "2022-02-28T15:36:05.811Z"
   },
   {
    "duration": 105209,
    "start_time": "2022-02-28T15:36:13.254Z"
   },
   {
    "duration": 1213,
    "start_time": "2022-02-28T15:45:34.670Z"
   },
   {
    "duration": 3,
    "start_time": "2022-02-28T15:45:35.884Z"
   },
   {
    "duration": 6,
    "start_time": "2022-02-28T15:45:35.889Z"
   },
   {
    "duration": 15,
    "start_time": "2022-02-28T15:45:35.897Z"
   },
   {
    "duration": 8,
    "start_time": "2022-02-28T15:45:35.914Z"
   },
   {
    "duration": 44,
    "start_time": "2022-02-28T15:45:35.924Z"
   },
   {
    "duration": 101,
    "start_time": "2022-02-28T15:45:35.970Z"
   },
   {
    "duration": 8,
    "start_time": "2022-02-28T15:45:36.073Z"
   },
   {
    "duration": 14,
    "start_time": "2022-02-28T15:45:36.083Z"
   },
   {
    "duration": 16,
    "start_time": "2022-02-28T15:45:36.099Z"
   },
   {
    "duration": 45,
    "start_time": "2022-02-28T15:45:36.117Z"
   },
   {
    "duration": 23,
    "start_time": "2022-02-28T15:45:36.164Z"
   },
   {
    "duration": 41,
    "start_time": "2022-02-28T15:45:36.188Z"
   },
   {
    "duration": 11,
    "start_time": "2022-02-28T15:45:36.231Z"
   },
   {
    "duration": 37,
    "start_time": "2022-02-28T15:45:36.244Z"
   },
   {
    "duration": 39,
    "start_time": "2022-02-28T15:45:36.283Z"
   },
   {
    "duration": 52,
    "start_time": "2022-02-28T15:45:36.323Z"
   },
   {
    "duration": 26,
    "start_time": "2022-02-28T15:45:36.377Z"
   },
   {
    "duration": 38,
    "start_time": "2022-02-28T15:45:36.405Z"
   },
   {
    "duration": 44,
    "start_time": "2022-02-28T15:45:36.444Z"
   },
   {
    "duration": 20,
    "start_time": "2022-02-28T15:45:36.490Z"
   },
   {
    "duration": 24,
    "start_time": "2022-02-28T15:45:36.511Z"
   },
   {
    "duration": 299,
    "start_time": "2022-02-28T15:45:36.538Z"
   },
   {
    "duration": 1181,
    "start_time": "2022-02-28T15:46:14.680Z"
   },
   {
    "duration": 18430,
    "start_time": "2022-02-28T15:46:15.863Z"
   },
   {
    "duration": 4,
    "start_time": "2022-02-28T15:46:34.296Z"
   },
   {
    "duration": 32,
    "start_time": "2022-02-28T15:46:34.302Z"
   },
   {
    "duration": 19,
    "start_time": "2022-02-28T15:46:34.336Z"
   },
   {
    "duration": 64,
    "start_time": "2022-02-28T15:46:34.357Z"
   },
   {
    "duration": 94,
    "start_time": "2022-02-28T15:46:34.423Z"
   },
   {
    "duration": 7,
    "start_time": "2022-02-28T15:46:34.520Z"
   },
   {
    "duration": 37,
    "start_time": "2022-02-28T15:46:34.530Z"
   },
   {
    "duration": 15,
    "start_time": "2022-02-28T15:46:34.569Z"
   },
   {
    "duration": 20,
    "start_time": "2022-02-28T15:46:34.586Z"
   },
   {
    "duration": 14,
    "start_time": "2022-02-28T15:46:34.608Z"
   },
   {
    "duration": 28,
    "start_time": "2022-02-28T15:46:34.624Z"
   },
   {
    "duration": 6,
    "start_time": "2022-02-28T15:46:34.660Z"
   },
   {
    "duration": 25,
    "start_time": "2022-02-28T15:46:34.667Z"
   },
   {
    "duration": 14,
    "start_time": "2022-02-28T15:46:34.694Z"
   },
   {
    "duration": 29,
    "start_time": "2022-02-28T15:46:34.710Z"
   },
   {
    "duration": 20,
    "start_time": "2022-02-28T15:46:34.741Z"
   },
   {
    "duration": 45,
    "start_time": "2022-02-28T15:46:34.763Z"
   },
   {
    "duration": 34,
    "start_time": "2022-02-28T15:46:34.810Z"
   },
   {
    "duration": 15,
    "start_time": "2022-02-28T15:46:34.846Z"
   },
   {
    "duration": 10,
    "start_time": "2022-02-28T15:46:34.863Z"
   },
   {
    "duration": 316,
    "start_time": "2022-02-28T15:46:34.876Z"
   },
   {
    "duration": 1155,
    "start_time": "2022-03-01T17:48:15.828Z"
   },
   {
    "duration": 54925,
    "start_time": "2022-03-01T17:48:16.985Z"
   },
   {
    "duration": 5,
    "start_time": "2022-03-01T17:49:11.912Z"
   },
   {
    "duration": 31,
    "start_time": "2022-03-01T17:49:11.919Z"
   },
   {
    "duration": 14,
    "start_time": "2022-03-01T17:49:11.952Z"
   },
   {
    "duration": 41,
    "start_time": "2022-03-01T17:49:11.968Z"
   },
   {
    "duration": 92,
    "start_time": "2022-03-01T17:49:12.010Z"
   },
   {
    "duration": 7,
    "start_time": "2022-03-01T17:49:12.105Z"
   },
   {
    "duration": 16,
    "start_time": "2022-03-01T17:49:12.114Z"
   },
   {
    "duration": 27,
    "start_time": "2022-03-01T17:49:12.132Z"
   },
   {
    "duration": 20,
    "start_time": "2022-03-01T17:49:12.161Z"
   },
   {
    "duration": 15,
    "start_time": "2022-03-01T17:49:12.183Z"
   },
   {
    "duration": 21,
    "start_time": "2022-03-01T17:49:12.200Z"
   },
   {
    "duration": 10,
    "start_time": "2022-03-01T17:49:12.223Z"
   },
   {
    "duration": 35,
    "start_time": "2022-03-01T17:49:12.235Z"
   },
   {
    "duration": 8,
    "start_time": "2022-03-01T17:49:12.271Z"
   },
   {
    "duration": 33,
    "start_time": "2022-03-01T17:49:12.281Z"
   },
   {
    "duration": 16,
    "start_time": "2022-03-01T17:49:12.316Z"
   },
   {
    "duration": 34,
    "start_time": "2022-03-01T17:49:12.333Z"
   },
   {
    "duration": 26,
    "start_time": "2022-03-01T17:49:12.369Z"
   },
   {
    "duration": 15,
    "start_time": "2022-03-01T17:49:12.397Z"
   },
   {
    "duration": 17,
    "start_time": "2022-03-01T17:49:12.414Z"
   },
   {
    "duration": 310,
    "start_time": "2022-03-01T17:49:12.434Z"
   },
   {
    "duration": 231,
    "start_time": "2022-03-01T18:05:27.763Z"
   },
   {
    "duration": 0,
    "start_time": "2022-03-01T18:06:37.870Z"
   },
   {
    "duration": -2,
    "start_time": "2022-03-01T18:06:37.873Z"
   },
   {
    "duration": -3,
    "start_time": "2022-03-01T18:06:37.875Z"
   },
   {
    "duration": -5,
    "start_time": "2022-03-01T18:06:37.878Z"
   },
   {
    "duration": -7,
    "start_time": "2022-03-01T18:06:37.882Z"
   },
   {
    "duration": -25,
    "start_time": "2022-03-01T18:06:37.901Z"
   },
   {
    "duration": -31,
    "start_time": "2022-03-01T18:06:37.907Z"
   },
   {
    "duration": -34,
    "start_time": "2022-03-01T18:06:37.911Z"
   },
   {
    "duration": -35,
    "start_time": "2022-03-01T18:06:37.913Z"
   },
   {
    "duration": -35,
    "start_time": "2022-03-01T18:06:37.915Z"
   },
   {
    "duration": -36,
    "start_time": "2022-03-01T18:06:37.917Z"
   },
   {
    "duration": -36,
    "start_time": "2022-03-01T18:06:37.918Z"
   },
   {
    "duration": -38,
    "start_time": "2022-03-01T18:06:37.921Z"
   },
   {
    "duration": -39,
    "start_time": "2022-03-01T18:06:37.923Z"
   },
   {
    "duration": -39,
    "start_time": "2022-03-01T18:06:37.924Z"
   },
   {
    "duration": -41,
    "start_time": "2022-03-01T18:06:37.927Z"
   },
   {
    "duration": -45,
    "start_time": "2022-03-01T18:06:37.932Z"
   },
   {
    "duration": -47,
    "start_time": "2022-03-01T18:06:37.934Z"
   },
   {
    "duration": -51,
    "start_time": "2022-03-01T18:06:37.939Z"
   },
   {
    "duration": -52,
    "start_time": "2022-03-01T18:06:37.941Z"
   },
   {
    "duration": -57,
    "start_time": "2022-03-01T18:06:37.947Z"
   },
   {
    "duration": -59,
    "start_time": "2022-03-01T18:06:37.950Z"
   },
   {
    "duration": -60,
    "start_time": "2022-03-01T18:06:37.952Z"
   },
   {
    "duration": 1168,
    "start_time": "2022-03-01T18:08:02.591Z"
   },
   {
    "duration": 65,
    "start_time": "2022-03-01T18:08:03.761Z"
   },
   {
    "duration": -7,
    "start_time": "2022-03-01T18:08:03.836Z"
   },
   {
    "duration": -8,
    "start_time": "2022-03-01T18:08:03.838Z"
   },
   {
    "duration": -13,
    "start_time": "2022-03-01T18:08:03.844Z"
   },
   {
    "duration": -14,
    "start_time": "2022-03-01T18:08:03.846Z"
   },
   {
    "duration": -15,
    "start_time": "2022-03-01T18:08:03.848Z"
   },
   {
    "duration": -16,
    "start_time": "2022-03-01T18:08:03.850Z"
   },
   {
    "duration": -17,
    "start_time": "2022-03-01T18:08:03.851Z"
   },
   {
    "duration": -18,
    "start_time": "2022-03-01T18:08:03.853Z"
   },
   {
    "duration": -26,
    "start_time": "2022-03-01T18:08:03.862Z"
   },
   {
    "duration": -30,
    "start_time": "2022-03-01T18:08:03.867Z"
   },
   {
    "duration": -31,
    "start_time": "2022-03-01T18:08:03.869Z"
   },
   {
    "duration": -37,
    "start_time": "2022-03-01T18:08:03.876Z"
   },
   {
    "duration": -38,
    "start_time": "2022-03-01T18:08:03.878Z"
   },
   {
    "duration": -39,
    "start_time": "2022-03-01T18:08:03.880Z"
   },
   {
    "duration": -40,
    "start_time": "2022-03-01T18:08:03.882Z"
   },
   {
    "duration": -41,
    "start_time": "2022-03-01T18:08:03.884Z"
   },
   {
    "duration": -40,
    "start_time": "2022-03-01T18:08:03.885Z"
   },
   {
    "duration": -41,
    "start_time": "2022-03-01T18:08:03.887Z"
   },
   {
    "duration": -44,
    "start_time": "2022-03-01T18:08:03.891Z"
   },
   {
    "duration": -44,
    "start_time": "2022-03-01T18:08:03.892Z"
   },
   {
    "duration": -45,
    "start_time": "2022-03-01T18:08:03.894Z"
   },
   {
    "duration": 59,
    "start_time": "2022-03-01T18:08:49.193Z"
   },
   {
    "duration": 55,
    "start_time": "2022-03-01T18:12:12.702Z"
   },
   {
    "duration": 1200,
    "start_time": "2022-03-01T18:14:16.557Z"
   },
   {
    "duration": 2,
    "start_time": "2022-03-01T18:14:17.758Z"
   },
   {
    "duration": 4,
    "start_time": "2022-03-01T18:14:17.763Z"
   },
   {
    "duration": 12,
    "start_time": "2022-03-01T18:14:17.769Z"
   },
   {
    "duration": 8,
    "start_time": "2022-03-01T18:14:17.783Z"
   },
   {
    "duration": 28,
    "start_time": "2022-03-01T18:14:17.793Z"
   },
   {
    "duration": 116,
    "start_time": "2022-03-01T18:14:17.823Z"
   },
   {
    "duration": 17,
    "start_time": "2022-03-01T18:14:17.942Z"
   },
   {
    "duration": 13,
    "start_time": "2022-03-01T18:14:17.961Z"
   },
   {
    "duration": 12,
    "start_time": "2022-03-01T18:14:17.976Z"
   },
   {
    "duration": 20,
    "start_time": "2022-03-01T18:14:17.990Z"
   },
   {
    "duration": 11,
    "start_time": "2022-03-01T18:14:18.012Z"
   },
   {
    "duration": 48,
    "start_time": "2022-03-01T18:14:18.025Z"
   },
   {
    "duration": 5,
    "start_time": "2022-03-01T18:14:18.075Z"
   },
   {
    "duration": 17,
    "start_time": "2022-03-01T18:14:18.082Z"
   },
   {
    "duration": 9,
    "start_time": "2022-03-01T18:14:18.101Z"
   },
   {
    "duration": 17,
    "start_time": "2022-03-01T18:14:18.112Z"
   },
   {
    "duration": 28,
    "start_time": "2022-03-01T18:14:18.131Z"
   },
   {
    "duration": 15,
    "start_time": "2022-03-01T18:14:18.161Z"
   },
   {
    "duration": 20,
    "start_time": "2022-03-01T18:14:18.178Z"
   },
   {
    "duration": 18,
    "start_time": "2022-03-01T18:14:18.200Z"
   },
   {
    "duration": 4,
    "start_time": "2022-03-01T18:14:18.219Z"
   },
   {
    "duration": 293,
    "start_time": "2022-03-01T18:14:18.259Z"
   },
   {
    "duration": 477,
    "start_time": "2022-03-01T18:16:00.162Z"
   },
   {
    "duration": 6,
    "start_time": "2022-03-01T18:16:25.723Z"
   },
   {
    "duration": 566,
    "start_time": "2022-03-01T18:16:59.375Z"
   },
   {
    "duration": 8,
    "start_time": "2022-03-01T18:21:40.407Z"
   },
   {
    "duration": 436,
    "start_time": "2022-03-01T18:21:56.408Z"
   },
   {
    "duration": 4,
    "start_time": "2022-03-01T18:24:52.730Z"
   },
   {
    "duration": 9,
    "start_time": "2022-03-01T18:25:00.809Z"
   },
   {
    "duration": 9,
    "start_time": "2022-03-01T18:32:04.873Z"
   },
   {
    "duration": 5,
    "start_time": "2022-03-01T18:32:31.753Z"
   },
   {
    "duration": 10,
    "start_time": "2022-03-01T18:32:50.096Z"
   },
   {
    "duration": 11,
    "start_time": "2022-03-01T18:34:05.802Z"
   },
   {
    "duration": 231,
    "start_time": "2022-03-01T18:39:47.570Z"
   },
   {
    "duration": 10,
    "start_time": "2022-03-01T18:40:04.279Z"
   },
   {
    "duration": 1579,
    "start_time": "2022-03-02T15:04:18.534Z"
   },
   {
    "duration": 3,
    "start_time": "2022-03-02T15:04:20.116Z"
   },
   {
    "duration": 7,
    "start_time": "2022-03-02T15:04:20.122Z"
   },
   {
    "duration": 27,
    "start_time": "2022-03-02T15:04:20.132Z"
   },
   {
    "duration": 13,
    "start_time": "2022-03-02T15:04:20.162Z"
   },
   {
    "duration": 57,
    "start_time": "2022-03-02T15:04:20.177Z"
   },
   {
    "duration": 160,
    "start_time": "2022-03-02T15:04:20.236Z"
   },
   {
    "duration": 8,
    "start_time": "2022-03-02T15:04:20.400Z"
   },
   {
    "duration": 34,
    "start_time": "2022-03-02T15:04:20.411Z"
   },
   {
    "duration": 21,
    "start_time": "2022-03-02T15:04:20.448Z"
   },
   {
    "duration": 28,
    "start_time": "2022-03-02T15:04:20.471Z"
   },
   {
    "duration": 43,
    "start_time": "2022-03-02T15:04:20.502Z"
   },
   {
    "duration": 15,
    "start_time": "2022-03-02T15:04:20.548Z"
   },
   {
    "duration": 8,
    "start_time": "2022-03-02T15:04:20.565Z"
   },
   {
    "duration": 62,
    "start_time": "2022-03-02T15:04:20.575Z"
   },
   {
    "duration": 11,
    "start_time": "2022-03-02T15:04:20.639Z"
   },
   {
    "duration": 33,
    "start_time": "2022-03-02T15:04:20.653Z"
   },
   {
    "duration": 14,
    "start_time": "2022-03-02T15:04:20.688Z"
   },
   {
    "duration": 44,
    "start_time": "2022-03-02T15:04:20.705Z"
   },
   {
    "duration": 25,
    "start_time": "2022-03-02T15:04:20.752Z"
   },
   {
    "duration": 53,
    "start_time": "2022-03-02T15:04:20.781Z"
   },
   {
    "duration": 18,
    "start_time": "2022-03-02T15:04:20.836Z"
   },
   {
    "duration": 432,
    "start_time": "2022-03-02T15:04:20.858Z"
   },
   {
    "duration": 100,
    "start_time": "2022-03-02T15:13:07.614Z"
   },
   {
    "duration": 108,
    "start_time": "2022-03-02T15:13:17.903Z"
   },
   {
    "duration": 100,
    "start_time": "2022-03-02T15:13:28.854Z"
   },
   {
    "duration": 104,
    "start_time": "2022-03-02T15:13:56.347Z"
   },
   {
    "duration": 1482,
    "start_time": "2022-03-02T15:17:14.089Z"
   },
   {
    "duration": 104,
    "start_time": "2022-03-02T15:17:15.574Z"
   },
   {
    "duration": -1665,
    "start_time": "2022-03-02T15:17:17.347Z"
   },
   {
    "duration": -1667,
    "start_time": "2022-03-02T15:17:17.351Z"
   },
   {
    "duration": -1668,
    "start_time": "2022-03-02T15:17:17.353Z"
   },
   {
    "duration": -1695,
    "start_time": "2022-03-02T15:17:17.382Z"
   },
   {
    "duration": -1699,
    "start_time": "2022-03-02T15:17:17.388Z"
   },
   {
    "duration": -1705,
    "start_time": "2022-03-02T15:17:17.395Z"
   },
   {
    "duration": -1706,
    "start_time": "2022-03-02T15:17:17.398Z"
   },
   {
    "duration": -1712,
    "start_time": "2022-03-02T15:17:17.405Z"
   },
   {
    "duration": -1714,
    "start_time": "2022-03-02T15:17:17.409Z"
   },
   {
    "duration": -1715,
    "start_time": "2022-03-02T15:17:17.412Z"
   },
   {
    "duration": -1716,
    "start_time": "2022-03-02T15:17:17.414Z"
   },
   {
    "duration": -1719,
    "start_time": "2022-03-02T15:17:17.419Z"
   },
   {
    "duration": -1720,
    "start_time": "2022-03-02T15:17:17.421Z"
   },
   {
    "duration": -1721,
    "start_time": "2022-03-02T15:17:17.424Z"
   },
   {
    "duration": -1727,
    "start_time": "2022-03-02T15:17:17.432Z"
   },
   {
    "duration": -1730,
    "start_time": "2022-03-02T15:17:17.436Z"
   },
   {
    "duration": -1731,
    "start_time": "2022-03-02T15:17:17.438Z"
   },
   {
    "duration": -1733,
    "start_time": "2022-03-02T15:17:17.442Z"
   },
   {
    "duration": -1734,
    "start_time": "2022-03-02T15:17:17.444Z"
   },
   {
    "duration": -1735,
    "start_time": "2022-03-02T15:17:17.447Z"
   },
   {
    "duration": -1738,
    "start_time": "2022-03-02T15:17:17.451Z"
   },
   {
    "duration": -1663,
    "start_time": "2022-03-02T15:17:59.135Z"
   },
   {
    "duration": -1673,
    "start_time": "2022-03-02T15:17:59.146Z"
   },
   {
    "duration": -1702,
    "start_time": "2022-03-02T15:17:59.177Z"
   },
   {
    "duration": -1708,
    "start_time": "2022-03-02T15:17:59.185Z"
   },
   {
    "duration": -1710,
    "start_time": "2022-03-02T15:17:59.188Z"
   },
   {
    "duration": -1712,
    "start_time": "2022-03-02T15:17:59.192Z"
   },
   {
    "duration": -1714,
    "start_time": "2022-03-02T15:17:59.195Z"
   },
   {
    "duration": -1716,
    "start_time": "2022-03-02T15:17:59.199Z"
   },
   {
    "duration": -1718,
    "start_time": "2022-03-02T15:17:59.202Z"
   },
   {
    "duration": -1721,
    "start_time": "2022-03-02T15:17:59.206Z"
   },
   {
    "duration": -1722,
    "start_time": "2022-03-02T15:17:59.209Z"
   },
   {
    "duration": -1724,
    "start_time": "2022-03-02T15:17:59.212Z"
   },
   {
    "duration": -1726,
    "start_time": "2022-03-02T15:17:59.215Z"
   },
   {
    "duration": -1727,
    "start_time": "2022-03-02T15:17:59.218Z"
   },
   {
    "duration": -1728,
    "start_time": "2022-03-02T15:17:59.220Z"
   },
   {
    "duration": -1737,
    "start_time": "2022-03-02T15:17:59.230Z"
   },
   {
    "duration": -1741,
    "start_time": "2022-03-02T15:17:59.235Z"
   },
   {
    "duration": -1744,
    "start_time": "2022-03-02T15:17:59.239Z"
   },
   {
    "duration": -1744,
    "start_time": "2022-03-02T15:17:59.241Z"
   },
   {
    "duration": -1746,
    "start_time": "2022-03-02T15:17:59.244Z"
   },
   {
    "duration": -1747,
    "start_time": "2022-03-02T15:17:59.246Z"
   },
   {
    "duration": -1748,
    "start_time": "2022-03-02T15:17:59.249Z"
   },
   {
    "duration": -1750,
    "start_time": "2022-03-02T15:17:59.252Z"
   },
   {
    "duration": 1514,
    "start_time": "2022-03-02T15:18:08.356Z"
   },
   {
    "duration": 3,
    "start_time": "2022-03-02T15:18:09.873Z"
   },
   {
    "duration": 14,
    "start_time": "2022-03-02T15:18:09.881Z"
   },
   {
    "duration": 28,
    "start_time": "2022-03-02T15:18:09.898Z"
   },
   {
    "duration": 12,
    "start_time": "2022-03-02T15:18:09.933Z"
   },
   {
    "duration": 43,
    "start_time": "2022-03-02T15:18:09.948Z"
   },
   {
    "duration": 191,
    "start_time": "2022-03-02T15:18:09.997Z"
   },
   {
    "duration": 11,
    "start_time": "2022-03-02T15:18:10.192Z"
   },
   {
    "duration": 37,
    "start_time": "2022-03-02T15:18:10.205Z"
   },
   {
    "duration": 22,
    "start_time": "2022-03-02T15:18:10.245Z"
   },
   {
    "duration": 32,
    "start_time": "2022-03-02T15:18:10.269Z"
   },
   {
    "duration": 18,
    "start_time": "2022-03-02T15:18:10.333Z"
   },
   {
    "duration": 15,
    "start_time": "2022-03-02T15:18:10.353Z"
   },
   {
    "duration": 8,
    "start_time": "2022-03-02T15:18:10.370Z"
   },
   {
    "duration": 65,
    "start_time": "2022-03-02T15:18:10.380Z"
   },
   {
    "duration": 13,
    "start_time": "2022-03-02T15:18:10.448Z"
   },
   {
    "duration": 29,
    "start_time": "2022-03-02T15:18:10.464Z"
   },
   {
    "duration": 37,
    "start_time": "2022-03-02T15:18:10.495Z"
   },
   {
    "duration": 20,
    "start_time": "2022-03-02T15:18:10.535Z"
   },
   {
    "duration": 26,
    "start_time": "2022-03-02T15:18:10.557Z"
   },
   {
    "duration": 60,
    "start_time": "2022-03-02T15:18:10.586Z"
   },
   {
    "duration": 18,
    "start_time": "2022-03-02T15:18:10.650Z"
   },
   {
    "duration": 427,
    "start_time": "2022-03-02T15:18:10.671Z"
   },
   {
    "duration": 154,
    "start_time": "2022-03-02T15:19:08.332Z"
   },
   {
    "duration": 100,
    "start_time": "2022-03-02T15:23:08.326Z"
   },
   {
    "duration": 759,
    "start_time": "2022-03-02T15:23:48.977Z"
   },
   {
    "duration": 744,
    "start_time": "2022-03-02T15:24:16.361Z"
   },
   {
    "duration": 307,
    "start_time": "2022-03-02T15:24:44.478Z"
   },
   {
    "duration": 356,
    "start_time": "2022-03-02T15:25:02.193Z"
   },
   {
    "duration": 4557,
    "start_time": "2022-03-02T15:25:40.604Z"
   },
   {
    "duration": 361,
    "start_time": "2022-03-02T15:26:35.841Z"
   },
   {
    "duration": 1523,
    "start_time": "2022-03-02T15:26:53.304Z"
   },
   {
    "duration": 103,
    "start_time": "2022-03-02T15:26:54.830Z"
   },
   {
    "duration": -1643,
    "start_time": "2022-03-02T15:26:56.580Z"
   },
   {
    "duration": -1649,
    "start_time": "2022-03-02T15:26:56.587Z"
   },
   {
    "duration": -1660,
    "start_time": "2022-03-02T15:26:56.600Z"
   },
   {
    "duration": -1664,
    "start_time": "2022-03-02T15:26:56.606Z"
   },
   {
    "duration": -1668,
    "start_time": "2022-03-02T15:26:56.611Z"
   },
   {
    "duration": -1670,
    "start_time": "2022-03-02T15:26:56.615Z"
   },
   {
    "duration": -1675,
    "start_time": "2022-03-02T15:26:56.621Z"
   },
   {
    "duration": -1677,
    "start_time": "2022-03-02T15:26:56.624Z"
   },
   {
    "duration": -1677,
    "start_time": "2022-03-02T15:26:56.626Z"
   },
   {
    "duration": -1677,
    "start_time": "2022-03-02T15:26:56.628Z"
   },
   {
    "duration": -1679,
    "start_time": "2022-03-02T15:26:56.631Z"
   },
   {
    "duration": -1679,
    "start_time": "2022-03-02T15:26:56.633Z"
   },
   {
    "duration": -1680,
    "start_time": "2022-03-02T15:26:56.635Z"
   },
   {
    "duration": -1681,
    "start_time": "2022-03-02T15:26:56.638Z"
   },
   {
    "duration": -1682,
    "start_time": "2022-03-02T15:26:56.640Z"
   },
   {
    "duration": -1688,
    "start_time": "2022-03-02T15:26:56.648Z"
   },
   {
    "duration": -1690,
    "start_time": "2022-03-02T15:26:56.652Z"
   },
   {
    "duration": -1692,
    "start_time": "2022-03-02T15:26:56.655Z"
   },
   {
    "duration": -1710,
    "start_time": "2022-03-02T15:26:56.675Z"
   },
   {
    "duration": -1711,
    "start_time": "2022-03-02T15:26:56.678Z"
   },
   {
    "duration": -1713,
    "start_time": "2022-03-02T15:26:56.681Z"
   },
   {
    "duration": -1716,
    "start_time": "2022-03-02T15:26:56.686Z"
   },
   {
    "duration": 1563,
    "start_time": "2022-03-02T15:27:11.877Z"
   },
   {
    "duration": 6,
    "start_time": "2022-03-02T15:27:13.442Z"
   },
   {
    "duration": 13,
    "start_time": "2022-03-02T15:27:13.451Z"
   },
   {
    "duration": 11,
    "start_time": "2022-03-02T15:27:13.466Z"
   },
   {
    "duration": 77,
    "start_time": "2022-03-02T15:27:13.480Z"
   },
   {
    "duration": 163,
    "start_time": "2022-03-02T15:27:13.559Z"
   },
   {
    "duration": 17,
    "start_time": "2022-03-02T15:27:13.725Z"
   },
   {
    "duration": 19,
    "start_time": "2022-03-02T15:27:13.747Z"
   },
   {
    "duration": 20,
    "start_time": "2022-03-02T15:27:13.770Z"
   },
   {
    "duration": 61,
    "start_time": "2022-03-02T15:27:13.793Z"
   },
   {
    "duration": 20,
    "start_time": "2022-03-02T15:27:13.857Z"
   },
   {
    "duration": 17,
    "start_time": "2022-03-02T15:27:13.880Z"
   },
   {
    "duration": 9,
    "start_time": "2022-03-02T15:27:13.931Z"
   },
   {
    "duration": 27,
    "start_time": "2022-03-02T15:27:13.943Z"
   },
   {
    "duration": 12,
    "start_time": "2022-03-02T15:27:13.973Z"
   },
   {
    "duration": 61,
    "start_time": "2022-03-02T15:27:13.987Z"
   },
   {
    "duration": 8,
    "start_time": "2022-03-02T15:27:14.051Z"
   },
   {
    "duration": 21,
    "start_time": "2022-03-02T15:27:14.062Z"
   },
   {
    "duration": 60,
    "start_time": "2022-03-02T15:27:14.086Z"
   },
   {
    "duration": 21,
    "start_time": "2022-03-02T15:27:14.148Z"
   },
   {
    "duration": 22,
    "start_time": "2022-03-02T15:27:14.171Z"
   },
   {
    "duration": 3,
    "start_time": "2022-03-02T15:27:14.196Z"
   },
   {
    "duration": 383,
    "start_time": "2022-03-02T15:27:14.231Z"
   },
   {
    "duration": 473,
    "start_time": "2022-03-02T15:28:14.486Z"
   },
   {
    "duration": 840,
    "start_time": "2022-03-02T15:28:30.421Z"
   },
   {
    "duration": 5835,
    "start_time": "2022-03-02T15:29:04.986Z"
   },
   {
    "duration": 463,
    "start_time": "2022-03-02T15:30:44.273Z"
   },
   {
    "duration": 369,
    "start_time": "2022-03-02T15:31:48.846Z"
   },
   {
    "duration": 13,
    "start_time": "2022-03-02T15:32:13.431Z"
   },
   {
    "duration": 13,
    "start_time": "2022-03-02T15:33:39.082Z"
   },
   {
    "duration": 15,
    "start_time": "2022-03-02T15:33:51.484Z"
   },
   {
    "duration": 5483,
    "start_time": "2022-03-02T15:33:57.839Z"
   },
   {
    "duration": 3399,
    "start_time": "2022-03-02T15:37:41.962Z"
   },
   {
    "duration": 5744,
    "start_time": "2022-03-02T15:38:11.089Z"
   },
   {
    "duration": 1574,
    "start_time": "2022-03-03T11:28:25.747Z"
   },
   {
    "duration": 4,
    "start_time": "2022-03-03T11:28:27.323Z"
   },
   {
    "duration": 18,
    "start_time": "2022-03-03T11:28:27.330Z"
   },
   {
    "duration": 39,
    "start_time": "2022-03-03T11:28:27.350Z"
   },
   {
    "duration": 49,
    "start_time": "2022-03-03T11:28:27.391Z"
   },
   {
    "duration": 276,
    "start_time": "2022-03-03T11:28:27.443Z"
   },
   {
    "duration": 12,
    "start_time": "2022-03-03T11:28:27.723Z"
   },
   {
    "duration": 45,
    "start_time": "2022-03-03T11:28:27.741Z"
   },
   {
    "duration": 28,
    "start_time": "2022-03-03T11:28:27.791Z"
   },
   {
    "duration": 65,
    "start_time": "2022-03-03T11:28:27.822Z"
   },
   {
    "duration": 26,
    "start_time": "2022-03-03T11:28:27.890Z"
   },
   {
    "duration": 18,
    "start_time": "2022-03-03T11:28:27.918Z"
   },
   {
    "duration": 9,
    "start_time": "2022-03-03T11:28:27.939Z"
   },
   {
    "duration": 62,
    "start_time": "2022-03-03T11:28:27.951Z"
   },
   {
    "duration": 13,
    "start_time": "2022-03-03T11:28:28.016Z"
   },
   {
    "duration": 60,
    "start_time": "2022-03-03T11:28:28.032Z"
   },
   {
    "duration": 8,
    "start_time": "2022-03-03T11:28:28.094Z"
   },
   {
    "duration": 21,
    "start_time": "2022-03-03T11:28:28.105Z"
   },
   {
    "duration": 61,
    "start_time": "2022-03-03T11:28:28.129Z"
   },
   {
    "duration": 23,
    "start_time": "2022-03-03T11:28:28.192Z"
   },
   {
    "duration": 17,
    "start_time": "2022-03-03T11:28:28.218Z"
   },
   {
    "duration": 3,
    "start_time": "2022-03-03T11:28:28.238Z"
   },
   {
    "duration": 389,
    "start_time": "2022-03-03T11:28:28.244Z"
   },
   {
    "duration": 4289,
    "start_time": "2022-03-03T11:28:36.220Z"
   },
   {
    "duration": 285,
    "start_time": "2022-03-03T11:28:49.344Z"
   },
   {
    "duration": 1496,
    "start_time": "2022-03-03T11:29:00.891Z"
   },
   {
    "duration": 4,
    "start_time": "2022-03-03T11:29:02.389Z"
   },
   {
    "duration": 24,
    "start_time": "2022-03-03T11:29:02.396Z"
   },
   {
    "duration": 14,
    "start_time": "2022-03-03T11:29:02.423Z"
   },
   {
    "duration": 61,
    "start_time": "2022-03-03T11:29:02.440Z"
   },
   {
    "duration": 168,
    "start_time": "2022-03-03T11:29:02.504Z"
   },
   {
    "duration": 15,
    "start_time": "2022-03-03T11:29:02.675Z"
   },
   {
    "duration": 18,
    "start_time": "2022-03-03T11:29:02.694Z"
   },
   {
    "duration": 19,
    "start_time": "2022-03-03T11:29:02.715Z"
   },
   {
    "duration": 58,
    "start_time": "2022-03-03T11:29:02.737Z"
   },
   {
    "duration": 17,
    "start_time": "2022-03-03T11:29:02.798Z"
   },
   {
    "duration": 18,
    "start_time": "2022-03-03T11:29:02.817Z"
   },
   {
    "duration": 16,
    "start_time": "2022-03-03T11:29:02.838Z"
   },
   {
    "duration": 47,
    "start_time": "2022-03-03T11:29:02.857Z"
   },
   {
    "duration": 13,
    "start_time": "2022-03-03T11:29:02.906Z"
   },
   {
    "duration": 69,
    "start_time": "2022-03-03T11:29:02.922Z"
   },
   {
    "duration": 11,
    "start_time": "2022-03-03T11:29:02.995Z"
   },
   {
    "duration": 35,
    "start_time": "2022-03-03T11:29:03.009Z"
   },
   {
    "duration": 57,
    "start_time": "2022-03-03T11:29:03.047Z"
   },
   {
    "duration": 21,
    "start_time": "2022-03-03T11:29:03.106Z"
   },
   {
    "duration": 15,
    "start_time": "2022-03-03T11:29:03.130Z"
   },
   {
    "duration": 3,
    "start_time": "2022-03-03T11:29:03.148Z"
   },
   {
    "duration": 5948,
    "start_time": "2022-03-03T11:29:03.154Z"
   },
   {
    "duration": 1503,
    "start_time": "2022-03-03T11:32:07.402Z"
   },
   {
    "duration": 4,
    "start_time": "2022-03-03T11:32:08.908Z"
   },
   {
    "duration": 20,
    "start_time": "2022-03-03T11:32:08.915Z"
   },
   {
    "duration": 12,
    "start_time": "2022-03-03T11:32:08.938Z"
   },
   {
    "duration": 71,
    "start_time": "2022-03-03T11:32:08.952Z"
   },
   {
    "duration": 175,
    "start_time": "2022-03-03T11:32:09.026Z"
   },
   {
    "duration": 9,
    "start_time": "2022-03-03T11:32:09.204Z"
   },
   {
    "duration": 18,
    "start_time": "2022-03-03T11:32:09.217Z"
   },
   {
    "duration": 51,
    "start_time": "2022-03-03T11:32:09.239Z"
   },
   {
    "duration": 29,
    "start_time": "2022-03-03T11:32:09.293Z"
   },
   {
    "duration": 20,
    "start_time": "2022-03-03T11:32:09.324Z"
   },
   {
    "duration": 49,
    "start_time": "2022-03-03T11:32:09.347Z"
   },
   {
    "duration": 9,
    "start_time": "2022-03-03T11:32:09.398Z"
   },
   {
    "duration": 28,
    "start_time": "2022-03-03T11:32:09.409Z"
   },
   {
    "duration": 12,
    "start_time": "2022-03-03T11:32:09.440Z"
   },
   {
    "duration": 57,
    "start_time": "2022-03-03T11:32:09.454Z"
   },
   {
    "duration": 11,
    "start_time": "2022-03-03T11:32:09.513Z"
   },
   {
    "duration": 25,
    "start_time": "2022-03-03T11:32:09.527Z"
   },
   {
    "duration": 22,
    "start_time": "2022-03-03T11:32:09.588Z"
   },
   {
    "duration": 33,
    "start_time": "2022-03-03T11:32:09.613Z"
   },
   {
    "duration": 53,
    "start_time": "2022-03-03T11:32:09.649Z"
   },
   {
    "duration": 4,
    "start_time": "2022-03-03T11:32:09.705Z"
   },
   {
    "duration": 480,
    "start_time": "2022-03-03T11:32:09.714Z"
   },
   {
    "duration": 9371,
    "start_time": "2022-03-03T11:32:54.988Z"
   },
   {
    "duration": 5930,
    "start_time": "2022-03-03T11:39:45.005Z"
   },
   {
    "duration": 31,
    "start_time": "2022-03-03T11:41:45.784Z"
   },
   {
    "duration": 32,
    "start_time": "2022-03-03T11:42:04.095Z"
   },
   {
    "duration": 242,
    "start_time": "2022-03-03T11:42:13.223Z"
   },
   {
    "duration": 1608,
    "start_time": "2022-03-03T11:44:06.070Z"
   },
   {
    "duration": 5,
    "start_time": "2022-03-03T11:44:07.682Z"
   },
   {
    "duration": 19,
    "start_time": "2022-03-03T11:44:07.691Z"
   },
   {
    "duration": 21,
    "start_time": "2022-03-03T11:44:07.713Z"
   },
   {
    "duration": 59,
    "start_time": "2022-03-03T11:44:07.737Z"
   },
   {
    "duration": 172,
    "start_time": "2022-03-03T11:44:07.799Z"
   },
   {
    "duration": 16,
    "start_time": "2022-03-03T11:44:07.974Z"
   },
   {
    "duration": 19,
    "start_time": "2022-03-03T11:44:07.994Z"
   },
   {
    "duration": 18,
    "start_time": "2022-03-03T11:44:08.016Z"
   },
   {
    "duration": 60,
    "start_time": "2022-03-03T11:44:08.037Z"
   },
   {
    "duration": 18,
    "start_time": "2022-03-03T11:44:08.099Z"
   },
   {
    "duration": 17,
    "start_time": "2022-03-03T11:44:08.120Z"
   },
   {
    "duration": 11,
    "start_time": "2022-03-03T11:44:08.139Z"
   },
   {
    "duration": 59,
    "start_time": "2022-03-03T11:44:08.152Z"
   },
   {
    "duration": 15,
    "start_time": "2022-03-03T11:44:08.213Z"
   },
   {
    "duration": 61,
    "start_time": "2022-03-03T11:44:08.230Z"
   },
   {
    "duration": 9,
    "start_time": "2022-03-03T11:44:08.294Z"
   },
   {
    "duration": 24,
    "start_time": "2022-03-03T11:44:08.305Z"
   },
   {
    "duration": 57,
    "start_time": "2022-03-03T11:44:08.332Z"
   },
   {
    "duration": 24,
    "start_time": "2022-03-03T11:44:08.392Z"
   },
   {
    "duration": 379,
    "start_time": "2022-03-03T11:44:08.419Z"
   },
   {
    "duration": 8,
    "start_time": "2022-03-03T11:44:08.793Z"
   },
   {
    "duration": 2,
    "start_time": "2022-03-03T11:44:08.801Z"
   },
   {
    "duration": 49,
    "start_time": "2022-03-03T11:44:20.977Z"
   },
   {
    "duration": 32,
    "start_time": "2022-03-03T11:44:49.242Z"
   },
   {
    "duration": 257,
    "start_time": "2022-03-03T11:45:42.898Z"
   },
   {
    "duration": 985,
    "start_time": "2022-03-03T11:46:13.572Z"
   },
   {
    "duration": 47,
    "start_time": "2022-03-03T11:47:08.414Z"
   },
   {
    "duration": 53,
    "start_time": "2022-03-03T11:47:37.529Z"
   },
   {
    "duration": 35,
    "start_time": "2022-03-03T11:49:57.217Z"
   },
   {
    "duration": 272,
    "start_time": "2022-03-03T11:51:01.010Z"
   },
   {
    "duration": 70,
    "start_time": "2022-03-03T12:01:18.663Z"
   },
   {
    "duration": 80,
    "start_time": "2022-03-03T12:01:32.516Z"
   },
   {
    "duration": 78,
    "start_time": "2022-03-03T12:02:22.061Z"
   },
   {
    "duration": 77,
    "start_time": "2022-03-03T12:02:32.253Z"
   },
   {
    "duration": 73,
    "start_time": "2022-03-03T12:02:47.701Z"
   },
   {
    "duration": 4,
    "start_time": "2022-03-03T12:02:53.831Z"
   },
   {
    "duration": 2184,
    "start_time": "2022-03-03T12:03:01.122Z"
   },
   {
    "duration": 5,
    "start_time": "2022-03-03T12:03:03.309Z"
   },
   {
    "duration": 19,
    "start_time": "2022-03-03T12:03:03.318Z"
   },
   {
    "duration": 45,
    "start_time": "2022-03-03T12:03:03.341Z"
   },
   {
    "duration": 42,
    "start_time": "2022-03-03T12:03:03.389Z"
   },
   {
    "duration": 263,
    "start_time": "2022-03-03T12:03:03.433Z"
   },
   {
    "duration": 22,
    "start_time": "2022-03-03T12:03:03.699Z"
   },
   {
    "duration": 22,
    "start_time": "2022-03-03T12:03:03.725Z"
   },
   {
    "duration": 20,
    "start_time": "2022-03-03T12:03:03.751Z"
   },
   {
    "duration": 43,
    "start_time": "2022-03-03T12:03:03.788Z"
   },
   {
    "duration": 47,
    "start_time": "2022-03-03T12:03:03.834Z"
   },
   {
    "duration": 21,
    "start_time": "2022-03-03T12:03:03.883Z"
   },
   {
    "duration": 7,
    "start_time": "2022-03-03T12:03:03.906Z"
   },
   {
    "duration": 28,
    "start_time": "2022-03-03T12:03:03.916Z"
   },
   {
    "duration": 49,
    "start_time": "2022-03-03T12:03:03.946Z"
   },
   {
    "duration": 47,
    "start_time": "2022-03-03T12:03:03.998Z"
   },
   {
    "duration": 10,
    "start_time": "2022-03-03T12:03:04.048Z"
   },
   {
    "duration": 32,
    "start_time": "2022-03-03T12:03:04.087Z"
   },
   {
    "duration": 34,
    "start_time": "2022-03-03T12:03:04.123Z"
   },
   {
    "duration": 59,
    "start_time": "2022-03-03T12:03:04.161Z"
   },
   {
    "duration": 77,
    "start_time": "2022-03-03T12:03:04.223Z"
   },
   {
    "duration": -14,
    "start_time": "2022-03-03T12:03:04.317Z"
   },
   {
    "duration": -20,
    "start_time": "2022-03-03T12:03:04.325Z"
   },
   {
    "duration": 76,
    "start_time": "2022-03-03T12:04:23.288Z"
   },
   {
    "duration": 71,
    "start_time": "2022-03-03T12:04:34.375Z"
   },
   {
    "duration": 9,
    "start_time": "2022-03-03T12:04:45.407Z"
   },
   {
    "duration": 75,
    "start_time": "2022-03-03T12:04:47.247Z"
   },
   {
    "duration": 97,
    "start_time": "2022-03-03T12:05:01.608Z"
   },
   {
    "duration": 7,
    "start_time": "2022-03-03T12:05:15.119Z"
   },
   {
    "duration": 14,
    "start_time": "2022-03-03T12:05:31.269Z"
   },
   {
    "duration": 18,
    "start_time": "2022-03-03T12:06:00.456Z"
   },
   {
    "duration": 34,
    "start_time": "2022-03-03T12:06:35.608Z"
   },
   {
    "duration": 8,
    "start_time": "2022-03-03T12:12:06.765Z"
   },
   {
    "duration": 20,
    "start_time": "2022-03-03T12:12:13.444Z"
   },
   {
    "duration": 31,
    "start_time": "2022-03-03T12:12:29.805Z"
   },
   {
    "duration": 1529,
    "start_time": "2022-03-03T12:12:40.666Z"
   },
   {
    "duration": 4,
    "start_time": "2022-03-03T12:12:42.198Z"
   },
   {
    "duration": 21,
    "start_time": "2022-03-03T12:12:42.210Z"
   },
   {
    "duration": 55,
    "start_time": "2022-03-03T12:12:42.234Z"
   },
   {
    "duration": 62,
    "start_time": "2022-03-03T12:12:42.292Z"
   },
   {
    "duration": 192,
    "start_time": "2022-03-03T12:12:42.357Z"
   },
   {
    "duration": 9,
    "start_time": "2022-03-03T12:12:42.553Z"
   },
   {
    "duration": 31,
    "start_time": "2022-03-03T12:12:42.565Z"
   },
   {
    "duration": 22,
    "start_time": "2022-03-03T12:12:42.599Z"
   },
   {
    "duration": 29,
    "start_time": "2022-03-03T12:12:42.623Z"
   },
   {
    "duration": 18,
    "start_time": "2022-03-03T12:12:42.688Z"
   },
   {
    "duration": 17,
    "start_time": "2022-03-03T12:12:42.708Z"
   },
   {
    "duration": 6,
    "start_time": "2022-03-03T12:12:42.728Z"
   },
   {
    "duration": 56,
    "start_time": "2022-03-03T12:12:42.737Z"
   },
   {
    "duration": 12,
    "start_time": "2022-03-03T12:12:42.795Z"
   },
   {
    "duration": 10,
    "start_time": "2022-03-03T12:12:42.810Z"
   },
   {
    "duration": 33,
    "start_time": "2022-03-03T12:12:42.822Z"
   },
   {
    "duration": 34,
    "start_time": "2022-03-03T12:12:42.858Z"
   },
   {
    "duration": 21,
    "start_time": "2022-03-03T12:12:42.895Z"
   },
   {
    "duration": 23,
    "start_time": "2022-03-03T12:12:42.918Z"
   },
   {
    "duration": 53,
    "start_time": "2022-03-03T12:12:42.944Z"
   },
   {
    "duration": 8,
    "start_time": "2022-03-03T12:12:43.001Z"
   },
   {
    "duration": 38,
    "start_time": "2022-03-03T12:12:43.011Z"
   },
   {
    "duration": 3,
    "start_time": "2022-03-03T12:12:43.051Z"
   },
   {
    "duration": 6282,
    "start_time": "2022-03-03T12:12:43.056Z"
   },
   {
    "duration": 8,
    "start_time": "2022-03-03T12:18:20.999Z"
   },
   {
    "duration": 14,
    "start_time": "2022-03-03T12:18:50.750Z"
   },
   {
    "duration": 14,
    "start_time": "2022-03-03T12:19:04.918Z"
   },
   {
    "duration": 14,
    "start_time": "2022-03-03T12:19:16.321Z"
   },
   {
    "duration": 1484,
    "start_time": "2022-03-03T12:21:41.496Z"
   },
   {
    "duration": 4,
    "start_time": "2022-03-03T12:21:42.983Z"
   },
   {
    "duration": 20,
    "start_time": "2022-03-03T12:21:42.990Z"
   },
   {
    "duration": 12,
    "start_time": "2022-03-03T12:21:43.013Z"
   },
   {
    "duration": 67,
    "start_time": "2022-03-03T12:21:43.027Z"
   },
   {
    "duration": 169,
    "start_time": "2022-03-03T12:21:43.096Z"
   },
   {
    "duration": 19,
    "start_time": "2022-03-03T12:21:43.268Z"
   },
   {
    "duration": 18,
    "start_time": "2022-03-03T12:21:43.290Z"
   },
   {
    "duration": 19,
    "start_time": "2022-03-03T12:21:43.312Z"
   },
   {
    "duration": 55,
    "start_time": "2022-03-03T12:21:43.333Z"
   },
   {
    "duration": 17,
    "start_time": "2022-03-03T12:21:43.391Z"
   },
   {
    "duration": 16,
    "start_time": "2022-03-03T12:21:43.411Z"
   },
   {
    "duration": 7,
    "start_time": "2022-03-03T12:21:43.429Z"
   },
   {
    "duration": 62,
    "start_time": "2022-03-03T12:21:43.438Z"
   },
   {
    "duration": 12,
    "start_time": "2022-03-03T12:21:43.502Z"
   },
   {
    "duration": 29,
    "start_time": "2022-03-03T12:21:43.516Z"
   },
   {
    "duration": 15,
    "start_time": "2022-03-03T12:21:43.547Z"
   },
   {
    "duration": 12,
    "start_time": "2022-03-03T12:21:43.564Z"
   },
   {
    "duration": 24,
    "start_time": "2022-03-03T12:21:43.579Z"
   },
   {
    "duration": 25,
    "start_time": "2022-03-03T12:21:43.606Z"
   },
   {
    "duration": 56,
    "start_time": "2022-03-03T12:21:43.634Z"
   },
   {
    "duration": 10,
    "start_time": "2022-03-03T12:21:43.694Z"
   },
   {
    "duration": 11,
    "start_time": "2022-03-03T12:21:43.710Z"
   },
   {
    "duration": 4,
    "start_time": "2022-03-03T12:21:43.724Z"
   },
   {
    "duration": 5908,
    "start_time": "2022-03-03T12:21:43.731Z"
   },
   {
    "duration": 32,
    "start_time": "2022-03-03T12:23:25.029Z"
   },
   {
    "duration": 5938,
    "start_time": "2022-03-03T12:23:31.959Z"
   },
   {
    "duration": 5949,
    "start_time": "2022-03-03T12:25:32.062Z"
   },
   {
    "duration": 5757,
    "start_time": "2022-03-03T12:31:51.589Z"
   },
   {
    "duration": 738,
    "start_time": "2022-03-03T12:35:46.391Z"
   },
   {
    "duration": 8,
    "start_time": "2022-03-03T12:40:05.237Z"
   },
   {
    "duration": 245,
    "start_time": "2022-03-03T12:40:35.011Z"
   },
   {
    "duration": 554,
    "start_time": "2022-03-03T12:47:27.223Z"
   },
   {
    "duration": 708,
    "start_time": "2022-03-03T12:47:36.203Z"
   },
   {
    "duration": 249,
    "start_time": "2022-03-03T12:50:21.844Z"
   },
   {
    "duration": 255,
    "start_time": "2022-03-03T12:51:13.181Z"
   },
   {
    "duration": 13,
    "start_time": "2022-03-03T12:53:40.688Z"
   },
   {
    "duration": 24,
    "start_time": "2022-03-03T12:54:06.825Z"
   },
   {
    "duration": 21,
    "start_time": "2022-03-03T12:54:31.256Z"
   },
   {
    "duration": 1503,
    "start_time": "2022-03-03T12:54:41.268Z"
   },
   {
    "duration": 4,
    "start_time": "2022-03-03T12:54:42.774Z"
   },
   {
    "duration": 13,
    "start_time": "2022-03-03T12:54:42.788Z"
   },
   {
    "duration": 13,
    "start_time": "2022-03-03T12:54:42.804Z"
   },
   {
    "duration": 69,
    "start_time": "2022-03-03T12:54:42.819Z"
   },
   {
    "duration": 170,
    "start_time": "2022-03-03T12:54:42.890Z"
   },
   {
    "duration": 8,
    "start_time": "2022-03-03T12:54:43.064Z"
   },
   {
    "duration": 17,
    "start_time": "2022-03-03T12:54:43.087Z"
   },
   {
    "duration": 18,
    "start_time": "2022-03-03T12:54:43.107Z"
   },
   {
    "duration": 28,
    "start_time": "2022-03-03T12:54:43.127Z"
   },
   {
    "duration": 19,
    "start_time": "2022-03-03T12:54:43.188Z"
   },
   {
    "duration": 17,
    "start_time": "2022-03-03T12:54:43.210Z"
   },
   {
    "duration": 8,
    "start_time": "2022-03-03T12:54:43.229Z"
   },
   {
    "duration": 76,
    "start_time": "2022-03-03T12:54:43.240Z"
   },
   {
    "duration": 16,
    "start_time": "2022-03-03T12:54:43.319Z"
   },
   {
    "duration": 13,
    "start_time": "2022-03-03T12:54:43.338Z"
   },
   {
    "duration": 44,
    "start_time": "2022-03-03T12:54:43.353Z"
   },
   {
    "duration": 12,
    "start_time": "2022-03-03T12:54:43.400Z"
   },
   {
    "duration": 38,
    "start_time": "2022-03-03T12:54:43.414Z"
   },
   {
    "duration": 47,
    "start_time": "2022-03-03T12:54:43.454Z"
   },
   {
    "duration": 28,
    "start_time": "2022-03-03T12:54:43.504Z"
   },
   {
    "duration": 9,
    "start_time": "2022-03-03T12:54:43.537Z"
   },
   {
    "duration": 57,
    "start_time": "2022-03-03T12:54:43.549Z"
   },
   {
    "duration": 4,
    "start_time": "2022-03-03T12:54:43.608Z"
   },
   {
    "duration": 9,
    "start_time": "2022-03-03T12:54:43.614Z"
   },
   {
    "duration": 437,
    "start_time": "2022-03-03T12:54:43.625Z"
   },
   {
    "duration": -23,
    "start_time": "2022-03-03T12:54:44.088Z"
   },
   {
    "duration": 21,
    "start_time": "2022-03-03T12:54:59.027Z"
   },
   {
    "duration": 1057,
    "start_time": "2022-03-03T12:55:31.569Z"
   },
   {
    "duration": 845,
    "start_time": "2022-03-03T12:58:05.827Z"
   },
   {
    "duration": 866,
    "start_time": "2022-03-03T12:58:53.124Z"
   },
   {
    "duration": 1124,
    "start_time": "2022-03-03T12:59:57.774Z"
   },
   {
    "duration": 889,
    "start_time": "2022-03-03T13:00:51.079Z"
   },
   {
    "duration": 1482,
    "start_time": "2022-03-03T13:16:22.502Z"
   },
   {
    "duration": 4,
    "start_time": "2022-03-03T13:16:23.987Z"
   },
   {
    "duration": 15,
    "start_time": "2022-03-03T13:16:23.998Z"
   },
   {
    "duration": 11,
    "start_time": "2022-03-03T13:16:24.016Z"
   },
   {
    "duration": 85,
    "start_time": "2022-03-03T13:16:24.030Z"
   },
   {
    "duration": 171,
    "start_time": "2022-03-03T13:16:24.117Z"
   },
   {
    "duration": 8,
    "start_time": "2022-03-03T13:16:24.292Z"
   },
   {
    "duration": 18,
    "start_time": "2022-03-03T13:16:24.303Z"
   },
   {
    "duration": 17,
    "start_time": "2022-03-03T13:16:24.324Z"
   },
   {
    "duration": 60,
    "start_time": "2022-03-03T13:16:24.343Z"
   },
   {
    "duration": 17,
    "start_time": "2022-03-03T13:16:24.405Z"
   },
   {
    "duration": 15,
    "start_time": "2022-03-03T13:16:24.424Z"
   },
   {
    "duration": 7,
    "start_time": "2022-03-03T13:16:24.442Z"
   },
   {
    "duration": 27,
    "start_time": "2022-03-03T13:16:24.488Z"
   },
   {
    "duration": 13,
    "start_time": "2022-03-03T13:16:24.517Z"
   },
   {
    "duration": 9,
    "start_time": "2022-03-03T13:16:24.532Z"
   },
   {
    "duration": 47,
    "start_time": "2022-03-03T13:16:24.544Z"
   },
   {
    "duration": 12,
    "start_time": "2022-03-03T13:16:24.593Z"
   },
   {
    "duration": 20,
    "start_time": "2022-03-03T13:16:24.608Z"
   },
   {
    "duration": 25,
    "start_time": "2022-03-03T13:16:24.630Z"
   },
   {
    "duration": 48,
    "start_time": "2022-03-03T13:16:24.657Z"
   },
   {
    "duration": 5,
    "start_time": "2022-03-03T13:16:24.709Z"
   },
   {
    "duration": 13,
    "start_time": "2022-03-03T13:16:24.717Z"
   },
   {
    "duration": 4,
    "start_time": "2022-03-03T13:16:24.733Z"
   },
   {
    "duration": 12,
    "start_time": "2022-03-03T13:16:24.739Z"
   },
   {
    "duration": 41,
    "start_time": "2022-03-03T13:16:24.754Z"
   },
   {
    "duration": 881,
    "start_time": "2022-03-03T13:16:24.797Z"
   },
   {
    "duration": 10,
    "start_time": "2022-03-03T13:16:48.291Z"
   },
   {
    "duration": 31,
    "start_time": "2022-03-03T13:16:49.443Z"
   },
   {
    "duration": 3,
    "start_time": "2022-03-03T13:16:54.332Z"
   },
   {
    "duration": 4,
    "start_time": "2022-03-03T13:16:55.587Z"
   },
   {
    "duration": 21,
    "start_time": "2022-03-03T13:16:55.819Z"
   },
   {
    "duration": 1049,
    "start_time": "2022-03-03T13:16:56.061Z"
   },
   {
    "duration": 9,
    "start_time": "2022-03-03T17:32:11.780Z"
   },
   {
    "duration": 767,
    "start_time": "2022-03-03T17:33:36.739Z"
   },
   {
    "duration": 397,
    "start_time": "2022-03-03T17:34:21.813Z"
   },
   {
    "duration": 797,
    "start_time": "2022-03-03T17:35:30.651Z"
   },
   {
    "duration": 458,
    "start_time": "2022-03-03T17:35:41.709Z"
   },
   {
    "duration": 387,
    "start_time": "2022-03-03T17:35:51.598Z"
   },
   {
    "duration": 535,
    "start_time": "2022-03-03T17:36:26.440Z"
   },
   {
    "duration": 294,
    "start_time": "2022-03-03T17:37:00.653Z"
   },
   {
    "duration": 382,
    "start_time": "2022-03-03T17:37:12.782Z"
   },
   {
    "duration": 265,
    "start_time": "2022-03-03T17:38:26.502Z"
   },
   {
    "duration": 251,
    "start_time": "2022-03-03T17:39:53.393Z"
   },
   {
    "duration": 6027,
    "start_time": "2022-03-03T17:43:28.468Z"
   },
   {
    "duration": 1240,
    "start_time": "2022-03-03T17:45:35.199Z"
   },
   {
    "duration": 291,
    "start_time": "2022-03-03T17:46:38.039Z"
   },
   {
    "duration": 260,
    "start_time": "2022-03-03T17:47:45.634Z"
   },
   {
    "duration": 13,
    "start_time": "2022-03-03T17:48:15.777Z"
   },
   {
    "duration": 12,
    "start_time": "2022-03-03T17:48:27.799Z"
   },
   {
    "duration": 19,
    "start_time": "2022-03-03T17:49:28.504Z"
   },
   {
    "duration": 875,
    "start_time": "2022-03-03T17:49:47.776Z"
   },
   {
    "duration": 334,
    "start_time": "2022-03-03T17:51:00.378Z"
   },
   {
    "duration": 737,
    "start_time": "2022-03-03T17:51:15.555Z"
   },
   {
    "duration": 229,
    "start_time": "2022-03-03T17:53:59.005Z"
   },
   {
    "duration": 927,
    "start_time": "2022-03-03T17:54:47.997Z"
   },
   {
    "duration": 763,
    "start_time": "2022-03-03T17:55:22.150Z"
   },
   {
    "duration": 358,
    "start_time": "2022-03-03T17:57:06.032Z"
   },
   {
    "duration": 334,
    "start_time": "2022-03-03T17:57:19.168Z"
   },
   {
    "duration": 307,
    "start_time": "2022-03-03T17:57:40.312Z"
   },
   {
    "duration": 791,
    "start_time": "2022-03-03T18:04:54.798Z"
   },
   {
    "duration": 228,
    "start_time": "2022-03-03T18:11:24.492Z"
   },
   {
    "duration": 305,
    "start_time": "2022-03-03T18:11:40.763Z"
   },
   {
    "duration": 542,
    "start_time": "2022-03-03T18:12:17.949Z"
   },
   {
    "duration": 248,
    "start_time": "2022-03-03T18:12:36.725Z"
   },
   {
    "duration": 257,
    "start_time": "2022-03-03T18:32:36.183Z"
   },
   {
    "duration": 333,
    "start_time": "2022-03-03T18:33:18.135Z"
   },
   {
    "duration": 979,
    "start_time": "2022-03-03T18:33:54.391Z"
   },
   {
    "duration": 254,
    "start_time": "2022-03-03T18:34:49.361Z"
   },
   {
    "duration": 384,
    "start_time": "2022-03-03T18:34:58.137Z"
   },
   {
    "duration": 325,
    "start_time": "2022-03-03T18:35:23.315Z"
   },
   {
    "duration": 635,
    "start_time": "2022-03-03T18:35:38.016Z"
   },
   {
    "duration": 282,
    "start_time": "2022-03-03T18:43:02.600Z"
   },
   {
    "duration": 97,
    "start_time": "2022-03-03T18:43:28.898Z"
   },
   {
    "duration": 8,
    "start_time": "2022-03-03T18:44:49.755Z"
   },
   {
    "duration": 234,
    "start_time": "2022-03-03T18:47:58.908Z"
   },
   {
    "duration": 316,
    "start_time": "2022-03-03T18:48:23.870Z"
   },
   {
    "duration": 635,
    "start_time": "2022-03-03T18:48:28.645Z"
   },
   {
    "duration": 29,
    "start_time": "2022-03-03T18:49:30.198Z"
   },
   {
    "duration": 230,
    "start_time": "2022-03-03T18:49:35.926Z"
   },
   {
    "duration": 33,
    "start_time": "2022-03-03T18:49:42.542Z"
   },
   {
    "duration": 1518,
    "start_time": "2022-03-03T18:54:44.685Z"
   },
   {
    "duration": 4,
    "start_time": "2022-03-03T18:54:46.206Z"
   },
   {
    "duration": 31,
    "start_time": "2022-03-03T18:54:46.213Z"
   },
   {
    "duration": 13,
    "start_time": "2022-03-03T18:54:46.247Z"
   },
   {
    "duration": 55,
    "start_time": "2022-03-03T18:54:46.262Z"
   },
   {
    "duration": 182,
    "start_time": "2022-03-03T18:54:46.319Z"
   },
   {
    "duration": 12,
    "start_time": "2022-03-03T18:54:46.504Z"
   },
   {
    "duration": 19,
    "start_time": "2022-03-03T18:54:46.521Z"
   },
   {
    "duration": 56,
    "start_time": "2022-03-03T18:54:46.543Z"
   },
   {
    "duration": 29,
    "start_time": "2022-03-03T18:54:46.602Z"
   },
   {
    "duration": 31,
    "start_time": "2022-03-03T18:54:46.634Z"
   },
   {
    "duration": 35,
    "start_time": "2022-03-03T18:54:46.669Z"
   },
   {
    "duration": 11,
    "start_time": "2022-03-03T18:54:46.706Z"
   },
   {
    "duration": 42,
    "start_time": "2022-03-03T18:54:46.719Z"
   },
   {
    "duration": 26,
    "start_time": "2022-03-03T18:54:46.764Z"
   },
   {
    "duration": 11,
    "start_time": "2022-03-03T18:54:46.793Z"
   },
   {
    "duration": 23,
    "start_time": "2022-03-03T18:54:46.806Z"
   },
   {
    "duration": 9,
    "start_time": "2022-03-03T18:54:46.832Z"
   },
   {
    "duration": 44,
    "start_time": "2022-03-03T18:54:46.844Z"
   },
   {
    "duration": 25,
    "start_time": "2022-03-03T18:54:46.890Z"
   },
   {
    "duration": 22,
    "start_time": "2022-03-03T18:54:46.917Z"
   },
   {
    "duration": 45,
    "start_time": "2022-03-03T18:54:46.942Z"
   },
   {
    "duration": 36,
    "start_time": "2022-03-03T18:54:46.992Z"
   },
   {
    "duration": 4,
    "start_time": "2022-03-03T18:54:47.030Z"
   },
   {
    "duration": 10,
    "start_time": "2022-03-03T18:54:47.036Z"
   },
   {
    "duration": 47,
    "start_time": "2022-03-03T18:54:47.049Z"
   },
   {
    "duration": 1453,
    "start_time": "2022-03-03T18:54:47.099Z"
   },
   {
    "duration": 334,
    "start_time": "2022-03-03T18:54:48.555Z"
   },
   {
    "duration": 651,
    "start_time": "2022-03-03T18:54:48.892Z"
   },
   {
    "duration": 44,
    "start_time": "2022-03-03T18:54:49.545Z"
   },
   {
    "duration": 27,
    "start_time": "2022-03-03T18:56:26.204Z"
   },
   {
    "duration": 49,
    "start_time": "2022-03-03T18:56:58.628Z"
   },
   {
    "duration": 29,
    "start_time": "2022-03-03T18:57:15.824Z"
   },
   {
    "duration": 32,
    "start_time": "2022-03-03T18:58:00.541Z"
   },
   {
    "duration": 32,
    "start_time": "2022-03-03T18:58:09.743Z"
   },
   {
    "duration": 24,
    "start_time": "2022-03-03T18:58:24.808Z"
   },
   {
    "duration": 25,
    "start_time": "2022-03-03T18:59:21.366Z"
   },
   {
    "duration": 35,
    "start_time": "2022-03-03T18:59:31.174Z"
   },
   {
    "duration": 36,
    "start_time": "2022-03-03T18:59:41.351Z"
   },
   {
    "duration": 29,
    "start_time": "2022-03-03T19:00:15.790Z"
   },
   {
    "duration": 454,
    "start_time": "2022-03-03T19:02:05.688Z"
   },
   {
    "duration": 14,
    "start_time": "2022-03-03T19:03:28.115Z"
   },
   {
    "duration": 255,
    "start_time": "2022-03-03T19:03:43.426Z"
   },
   {
    "duration": 9,
    "start_time": "2022-03-03T19:04:08.522Z"
   },
   {
    "duration": 5516,
    "start_time": "2022-03-03T19:05:39.235Z"
   },
   {
    "duration": 5771,
    "start_time": "2022-03-03T19:06:03.228Z"
   },
   {
    "duration": 5456,
    "start_time": "2022-03-03T19:08:15.959Z"
   },
   {
    "duration": 5418,
    "start_time": "2022-03-03T19:08:30.231Z"
   },
   {
    "duration": 5514,
    "start_time": "2022-03-03T19:09:01.417Z"
   },
   {
    "duration": 5591,
    "start_time": "2022-03-03T19:09:33.639Z"
   },
   {
    "duration": 5280,
    "start_time": "2022-03-03T19:10:39.984Z"
   },
   {
    "duration": 5634,
    "start_time": "2022-03-03T19:12:03.862Z"
   },
   {
    "duration": 5453,
    "start_time": "2022-03-03T19:15:37.660Z"
   },
   {
    "duration": 5786,
    "start_time": "2022-03-03T19:16:01.334Z"
   },
   {
    "duration": 1500,
    "start_time": "2022-03-03T19:16:27.491Z"
   },
   {
    "duration": 4,
    "start_time": "2022-03-03T19:16:28.994Z"
   },
   {
    "duration": 27,
    "start_time": "2022-03-03T19:16:29.003Z"
   },
   {
    "duration": 19,
    "start_time": "2022-03-03T19:16:29.033Z"
   },
   {
    "duration": 69,
    "start_time": "2022-03-03T19:16:29.055Z"
   },
   {
    "duration": 180,
    "start_time": "2022-03-03T19:16:29.127Z"
   },
   {
    "duration": 12,
    "start_time": "2022-03-03T19:16:29.310Z"
   },
   {
    "duration": 19,
    "start_time": "2022-03-03T19:16:29.327Z"
   },
   {
    "duration": 53,
    "start_time": "2022-03-03T19:16:29.349Z"
   },
   {
    "duration": 30,
    "start_time": "2022-03-03T19:16:29.405Z"
   },
   {
    "duration": 49,
    "start_time": "2022-03-03T19:16:29.438Z"
   },
   {
    "duration": 17,
    "start_time": "2022-03-03T19:16:29.490Z"
   },
   {
    "duration": 8,
    "start_time": "2022-03-03T19:16:29.510Z"
   },
   {
    "duration": 28,
    "start_time": "2022-03-03T19:16:29.521Z"
   },
   {
    "duration": 16,
    "start_time": "2022-03-03T19:16:29.588Z"
   },
   {
    "duration": 9,
    "start_time": "2022-03-03T19:16:29.606Z"
   },
   {
    "duration": 16,
    "start_time": "2022-03-03T19:16:29.618Z"
   },
   {
    "duration": 9,
    "start_time": "2022-03-03T19:16:29.636Z"
   },
   {
    "duration": 54,
    "start_time": "2022-03-03T19:16:29.648Z"
   },
   {
    "duration": 25,
    "start_time": "2022-03-03T19:16:29.704Z"
   },
   {
    "duration": 22,
    "start_time": "2022-03-03T19:16:29.731Z"
   },
   {
    "duration": 38,
    "start_time": "2022-03-03T19:16:29.755Z"
   },
   {
    "duration": 35,
    "start_time": "2022-03-03T19:16:29.797Z"
   },
   {
    "duration": 4,
    "start_time": "2022-03-03T19:16:29.835Z"
   },
   {
    "duration": 12,
    "start_time": "2022-03-03T19:16:29.841Z"
   },
   {
    "duration": 50,
    "start_time": "2022-03-03T19:16:29.855Z"
   },
   {
    "duration": 1058,
    "start_time": "2022-03-03T19:16:29.907Z"
   },
   {
    "duration": 328,
    "start_time": "2022-03-03T19:16:30.967Z"
   },
   {
    "duration": 677,
    "start_time": "2022-03-03T19:16:31.298Z"
   },
   {
    "duration": 12,
    "start_time": "2022-03-03T19:16:31.978Z"
   },
   {
    "duration": 8,
    "start_time": "2022-03-03T19:16:47.190Z"
   },
   {
    "duration": 31,
    "start_time": "2022-03-03T19:17:51.919Z"
   },
   {
    "duration": 34,
    "start_time": "2022-03-03T19:18:24.551Z"
   },
   {
    "duration": 30,
    "start_time": "2022-03-03T19:20:40.986Z"
   },
   {
    "duration": 32,
    "start_time": "2022-03-03T19:20:53.561Z"
   },
   {
    "duration": 37,
    "start_time": "2022-03-03T19:22:52.684Z"
   },
   {
    "duration": 31,
    "start_time": "2022-03-03T19:23:05.380Z"
   },
   {
    "duration": 283,
    "start_time": "2022-03-04T17:15:16.722Z"
   },
   {
    "duration": 1218,
    "start_time": "2022-03-04T17:15:23.693Z"
   },
   {
    "duration": 3,
    "start_time": "2022-03-04T17:15:24.913Z"
   },
   {
    "duration": 18,
    "start_time": "2022-03-04T17:15:24.918Z"
   },
   {
    "duration": 9,
    "start_time": "2022-03-04T17:15:24.938Z"
   },
   {
    "duration": 27,
    "start_time": "2022-03-04T17:15:24.949Z"
   },
   {
    "duration": 110,
    "start_time": "2022-03-04T17:15:24.978Z"
   },
   {
    "duration": 11,
    "start_time": "2022-03-04T17:15:25.090Z"
   },
   {
    "duration": 14,
    "start_time": "2022-03-04T17:15:25.104Z"
   },
   {
    "duration": 14,
    "start_time": "2022-03-04T17:15:25.120Z"
   },
   {
    "duration": 22,
    "start_time": "2022-03-04T17:15:25.136Z"
   },
   {
    "duration": 47,
    "start_time": "2022-03-04T17:15:25.160Z"
   },
   {
    "duration": 19,
    "start_time": "2022-03-04T17:15:25.209Z"
   },
   {
    "duration": 10,
    "start_time": "2022-03-04T17:15:25.230Z"
   },
   {
    "duration": 27,
    "start_time": "2022-03-04T17:15:25.242Z"
   },
   {
    "duration": 10,
    "start_time": "2022-03-04T17:15:25.270Z"
   },
   {
    "duration": 26,
    "start_time": "2022-03-04T17:15:25.281Z"
   },
   {
    "duration": 17,
    "start_time": "2022-03-04T17:15:25.309Z"
   },
   {
    "duration": 8,
    "start_time": "2022-03-04T17:15:25.328Z"
   },
   {
    "duration": 29,
    "start_time": "2022-03-04T17:15:25.337Z"
   },
   {
    "duration": 35,
    "start_time": "2022-03-04T17:15:25.367Z"
   },
   {
    "duration": 17,
    "start_time": "2022-03-04T17:15:25.404Z"
   },
   {
    "duration": 8,
    "start_time": "2022-03-04T17:15:25.423Z"
   },
   {
    "duration": 29,
    "start_time": "2022-03-04T17:15:25.435Z"
   },
   {
    "duration": 2,
    "start_time": "2022-03-04T17:15:25.466Z"
   },
   {
    "duration": 10,
    "start_time": "2022-03-04T17:15:25.470Z"
   },
   {
    "duration": 33,
    "start_time": "2022-03-04T17:15:25.482Z"
   },
   {
    "duration": 663,
    "start_time": "2022-03-04T17:15:25.517Z"
   },
   {
    "duration": 333,
    "start_time": "2022-03-04T17:15:26.182Z"
   },
   {
    "duration": -30,
    "start_time": "2022-03-04T17:15:26.547Z"
   },
   {
    "duration": -31,
    "start_time": "2022-03-04T17:15:26.550Z"
   },
   {
    "duration": 3515,
    "start_time": "2022-03-04T17:15:41.997Z"
   },
   {
    "duration": 1174,
    "start_time": "2022-03-04T17:16:01.716Z"
   },
   {
    "duration": 3,
    "start_time": "2022-03-04T17:16:02.892Z"
   },
   {
    "duration": 30,
    "start_time": "2022-03-04T17:16:02.901Z"
   },
   {
    "duration": 23,
    "start_time": "2022-03-04T17:16:02.934Z"
   },
   {
    "duration": 49,
    "start_time": "2022-03-04T17:16:02.959Z"
   },
   {
    "duration": 100,
    "start_time": "2022-03-04T17:16:03.010Z"
   },
   {
    "duration": 9,
    "start_time": "2022-03-04T17:16:03.112Z"
   },
   {
    "duration": 28,
    "start_time": "2022-03-04T17:16:03.123Z"
   },
   {
    "duration": 13,
    "start_time": "2022-03-04T17:16:03.154Z"
   },
   {
    "duration": 40,
    "start_time": "2022-03-04T17:16:03.170Z"
   },
   {
    "duration": 13,
    "start_time": "2022-03-04T17:16:03.212Z"
   },
   {
    "duration": 21,
    "start_time": "2022-03-04T17:16:03.227Z"
   },
   {
    "duration": 15,
    "start_time": "2022-03-04T17:16:03.251Z"
   },
   {
    "duration": 36,
    "start_time": "2022-03-04T17:16:03.268Z"
   },
   {
    "duration": 22,
    "start_time": "2022-03-04T17:16:03.306Z"
   },
   {
    "duration": 8,
    "start_time": "2022-03-04T17:16:03.330Z"
   },
   {
    "duration": 26,
    "start_time": "2022-03-04T17:16:03.340Z"
   },
   {
    "duration": 17,
    "start_time": "2022-03-04T17:16:03.368Z"
   },
   {
    "duration": 24,
    "start_time": "2022-03-04T17:16:03.387Z"
   },
   {
    "duration": 31,
    "start_time": "2022-03-04T17:16:03.414Z"
   },
   {
    "duration": 16,
    "start_time": "2022-03-04T17:16:03.446Z"
   },
   {
    "duration": 7,
    "start_time": "2022-03-04T17:16:03.464Z"
   },
   {
    "duration": 39,
    "start_time": "2022-03-04T17:16:03.474Z"
   },
   {
    "duration": 9,
    "start_time": "2022-03-04T17:16:03.516Z"
   },
   {
    "duration": 11,
    "start_time": "2022-03-04T17:16:03.527Z"
   },
   {
    "duration": 19,
    "start_time": "2022-03-04T17:16:03.540Z"
   },
   {
    "duration": 942,
    "start_time": "2022-03-04T17:16:03.561Z"
   },
   {
    "duration": 210,
    "start_time": "2022-03-04T17:16:04.505Z"
   },
   {
    "duration": 496,
    "start_time": "2022-03-04T17:16:04.717Z"
   },
   {
    "duration": 339,
    "start_time": "2022-03-04T17:16:05.215Z"
   },
   {
    "duration": 216,
    "start_time": "2022-03-04T17:17:20.241Z"
   },
   {
    "duration": 21,
    "start_time": "2022-03-04T17:19:26.353Z"
   },
   {
    "duration": 6,
    "start_time": "2022-03-04T17:19:44.314Z"
   },
   {
    "duration": 1164,
    "start_time": "2022-03-04T17:23:25.144Z"
   },
   {
    "duration": 3,
    "start_time": "2022-03-04T17:23:26.310Z"
   },
   {
    "duration": 22,
    "start_time": "2022-03-04T17:23:26.315Z"
   },
   {
    "duration": 20,
    "start_time": "2022-03-04T17:23:26.340Z"
   },
   {
    "duration": 40,
    "start_time": "2022-03-04T17:23:26.362Z"
   },
   {
    "duration": 90,
    "start_time": "2022-03-04T17:23:26.404Z"
   },
   {
    "duration": 7,
    "start_time": "2022-03-04T17:23:26.502Z"
   },
   {
    "duration": 23,
    "start_time": "2022-03-04T17:23:26.512Z"
   },
   {
    "duration": 14,
    "start_time": "2022-03-04T17:23:26.538Z"
   },
   {
    "duration": 31,
    "start_time": "2022-03-04T17:23:26.554Z"
   },
   {
    "duration": 27,
    "start_time": "2022-03-04T17:23:26.587Z"
   },
   {
    "duration": 13,
    "start_time": "2022-03-04T17:23:26.616Z"
   },
   {
    "duration": 7,
    "start_time": "2022-03-04T17:23:26.632Z"
   },
   {
    "duration": 34,
    "start_time": "2022-03-04T17:23:26.641Z"
   },
   {
    "duration": 31,
    "start_time": "2022-03-04T17:23:26.677Z"
   },
   {
    "duration": 7,
    "start_time": "2022-03-04T17:23:26.710Z"
   },
   {
    "duration": 28,
    "start_time": "2022-03-04T17:23:26.719Z"
   },
   {
    "duration": 20,
    "start_time": "2022-03-04T17:23:26.749Z"
   },
   {
    "duration": 26,
    "start_time": "2022-03-04T17:23:26.771Z"
   },
   {
    "duration": 31,
    "start_time": "2022-03-04T17:23:26.799Z"
   },
   {
    "duration": 16,
    "start_time": "2022-03-04T17:23:26.832Z"
   },
   {
    "duration": 10,
    "start_time": "2022-03-04T17:23:26.850Z"
   },
   {
    "duration": 29,
    "start_time": "2022-03-04T17:23:26.864Z"
   },
   {
    "duration": 5,
    "start_time": "2022-03-04T17:23:26.895Z"
   },
   {
    "duration": 17,
    "start_time": "2022-03-04T17:23:26.901Z"
   },
   {
    "duration": 26,
    "start_time": "2022-03-04T17:23:26.920Z"
   },
   {
    "duration": 741,
    "start_time": "2022-03-04T17:23:26.948Z"
   },
   {
    "duration": 211,
    "start_time": "2022-03-04T17:23:27.690Z"
   },
   {
    "duration": 404,
    "start_time": "2022-03-04T17:23:27.902Z"
   },
   {
    "duration": 10,
    "start_time": "2022-03-04T17:23:28.308Z"
   },
   {
    "duration": 314,
    "start_time": "2022-03-04T17:23:28.319Z"
   },
   {
    "duration": 8,
    "start_time": "2022-03-04T17:23:47.558Z"
   },
   {
    "duration": 10,
    "start_time": "2022-03-04T17:29:50.639Z"
   },
   {
    "duration": 8,
    "start_time": "2022-03-04T17:29:54.871Z"
   },
   {
    "duration": 283,
    "start_time": "2022-03-04T17:30:09.594Z"
   },
   {
    "duration": 819,
    "start_time": "2022-03-04T17:30:50.437Z"
   },
   {
    "duration": 12,
    "start_time": "2022-03-04T17:31:25.281Z"
   },
   {
    "duration": 8,
    "start_time": "2022-03-04T17:31:32.936Z"
   },
   {
    "duration": 789,
    "start_time": "2022-03-04T17:33:38.969Z"
   },
   {
    "duration": 11,
    "start_time": "2022-03-04T17:37:11.854Z"
   },
   {
    "duration": 677,
    "start_time": "2022-03-04T17:37:22.917Z"
   },
   {
    "duration": 229,
    "start_time": "2022-03-04T18:46:54.239Z"
   },
   {
    "duration": 241,
    "start_time": "2022-03-04T18:47:59.241Z"
   },
   {
    "duration": 11,
    "start_time": "2022-03-04T18:54:59.424Z"
   },
   {
    "duration": 643,
    "start_time": "2022-03-04T18:55:04.871Z"
   },
   {
    "duration": 837,
    "start_time": "2022-03-04T18:55:57.264Z"
   },
   {
    "duration": 228,
    "start_time": "2022-03-04T18:56:15.200Z"
   },
   {
    "duration": 228,
    "start_time": "2022-03-04T18:58:07.993Z"
   },
   {
    "duration": 262,
    "start_time": "2022-03-04T19:00:04.205Z"
   },
   {
    "duration": 8,
    "start_time": "2022-03-04T19:00:25.082Z"
   },
   {
    "duration": 2755,
    "start_time": "2022-03-04T19:00:31.356Z"
   },
   {
    "duration": 9,
    "start_time": "2022-03-04T19:01:04.708Z"
   },
   {
    "duration": 6,
    "start_time": "2022-03-04T19:01:07.900Z"
   },
   {
    "duration": 9,
    "start_time": "2022-03-04T19:01:23.420Z"
   },
   {
    "duration": 11,
    "start_time": "2022-03-04T19:02:09.225Z"
   },
   {
    "duration": 66,
    "start_time": "2022-03-04T19:02:41.231Z"
   },
   {
    "duration": 1207,
    "start_time": "2022-03-04T19:02:59.200Z"
   },
   {
    "duration": 3,
    "start_time": "2022-03-04T19:03:00.410Z"
   },
   {
    "duration": 38,
    "start_time": "2022-03-04T19:03:00.415Z"
   },
   {
    "duration": 33,
    "start_time": "2022-03-04T19:03:00.456Z"
   },
   {
    "duration": 49,
    "start_time": "2022-03-04T19:03:00.492Z"
   },
   {
    "duration": 95,
    "start_time": "2022-03-04T19:03:00.543Z"
   },
   {
    "duration": 8,
    "start_time": "2022-03-04T19:03:00.640Z"
   },
   {
    "duration": 24,
    "start_time": "2022-03-04T19:03:00.651Z"
   },
   {
    "duration": 32,
    "start_time": "2022-03-04T19:03:00.678Z"
   },
   {
    "duration": 34,
    "start_time": "2022-03-04T19:03:00.712Z"
   },
   {
    "duration": 24,
    "start_time": "2022-03-04T19:03:00.748Z"
   },
   {
    "duration": 20,
    "start_time": "2022-03-04T19:03:00.774Z"
   },
   {
    "duration": 6,
    "start_time": "2022-03-04T19:03:00.796Z"
   },
   {
    "duration": 27,
    "start_time": "2022-03-04T19:03:00.804Z"
   },
   {
    "duration": 12,
    "start_time": "2022-03-04T19:03:00.833Z"
   },
   {
    "duration": 13,
    "start_time": "2022-03-04T19:03:00.847Z"
   },
   {
    "duration": 21,
    "start_time": "2022-03-04T19:03:00.862Z"
   },
   {
    "duration": 23,
    "start_time": "2022-03-04T19:03:00.885Z"
   },
   {
    "duration": 40,
    "start_time": "2022-03-04T19:03:00.910Z"
   },
   {
    "duration": 30,
    "start_time": "2022-03-04T19:03:00.952Z"
   },
   {
    "duration": 16,
    "start_time": "2022-03-04T19:03:00.984Z"
   },
   {
    "duration": 7,
    "start_time": "2022-03-04T19:03:01.002Z"
   },
   {
    "duration": 28,
    "start_time": "2022-03-04T19:03:01.012Z"
   },
   {
    "duration": 5,
    "start_time": "2022-03-04T19:03:01.042Z"
   },
   {
    "duration": 15,
    "start_time": "2022-03-04T19:03:01.049Z"
   },
   {
    "duration": 34,
    "start_time": "2022-03-04T19:03:01.067Z"
   },
   {
    "duration": 698,
    "start_time": "2022-03-04T19:03:01.103Z"
   },
   {
    "duration": 228,
    "start_time": "2022-03-04T19:03:01.803Z"
   },
   {
    "duration": 432,
    "start_time": "2022-03-04T19:03:02.034Z"
   },
   {
    "duration": 69,
    "start_time": "2022-03-04T19:03:02.468Z"
   },
   {
    "duration": -4,
    "start_time": "2022-03-04T19:03:02.543Z"
   },
   {
    "duration": 8,
    "start_time": "2022-03-04T19:03:13.531Z"
   },
   {
    "duration": 9,
    "start_time": "2022-03-04T19:03:17.928Z"
   },
   {
    "duration": 8,
    "start_time": "2022-03-04T19:03:52.395Z"
   },
   {
    "duration": 9,
    "start_time": "2022-03-04T19:03:58.690Z"
   },
   {
    "duration": 253,
    "start_time": "2022-03-05T20:15:58.365Z"
   },
   {
    "duration": 253,
    "start_time": "2022-03-05T20:17:14.294Z"
   },
   {
    "duration": 256,
    "start_time": "2022-03-05T20:21:16.697Z"
   },
   {
    "duration": 385,
    "start_time": "2022-03-05T20:22:07.793Z"
   },
   {
    "duration": 415,
    "start_time": "2022-03-05T20:23:40.587Z"
   },
   {
    "duration": 184,
    "start_time": "2022-03-05T20:27:39.849Z"
   },
   {
    "duration": 254,
    "start_time": "2022-03-05T20:27:53.320Z"
   },
   {
    "duration": 317,
    "start_time": "2022-03-05T20:28:26.714Z"
   },
   {
    "duration": 249,
    "start_time": "2022-03-05T20:29:19.443Z"
   },
   {
    "duration": 183,
    "start_time": "2022-03-05T20:31:20.085Z"
   },
   {
    "duration": 8,
    "start_time": "2022-03-05T20:32:00.917Z"
   },
   {
    "duration": 9,
    "start_time": "2022-03-05T20:32:03.114Z"
   },
   {
    "duration": 395,
    "start_time": "2022-03-07T10:10:42.595Z"
   },
   {
    "duration": 1516,
    "start_time": "2022-03-07T10:10:49.488Z"
   },
   {
    "duration": 3,
    "start_time": "2022-03-07T10:10:51.007Z"
   },
   {
    "duration": 26,
    "start_time": "2022-03-07T10:10:51.013Z"
   },
   {
    "duration": 15,
    "start_time": "2022-03-07T10:10:51.042Z"
   },
   {
    "duration": 46,
    "start_time": "2022-03-07T10:10:51.059Z"
   },
   {
    "duration": 180,
    "start_time": "2022-03-07T10:10:51.108Z"
   },
   {
    "duration": 9,
    "start_time": "2022-03-07T10:10:51.290Z"
   },
   {
    "duration": 37,
    "start_time": "2022-03-07T10:10:51.302Z"
   },
   {
    "duration": 18,
    "start_time": "2022-03-07T10:10:51.341Z"
   },
   {
    "duration": 26,
    "start_time": "2022-03-07T10:10:51.361Z"
   },
   {
    "duration": 46,
    "start_time": "2022-03-07T10:10:51.389Z"
   },
   {
    "duration": 23,
    "start_time": "2022-03-07T10:10:51.438Z"
   },
   {
    "duration": 11,
    "start_time": "2022-03-07T10:10:51.463Z"
   },
   {
    "duration": 39,
    "start_time": "2022-03-07T10:10:51.477Z"
   },
   {
    "duration": 24,
    "start_time": "2022-03-07T10:10:51.518Z"
   },
   {
    "duration": 10,
    "start_time": "2022-03-07T10:10:51.545Z"
   },
   {
    "duration": 19,
    "start_time": "2022-03-07T10:10:51.558Z"
   },
   {
    "duration": 15,
    "start_time": "2022-03-07T10:10:51.579Z"
   },
   {
    "duration": 38,
    "start_time": "2022-03-07T10:10:51.596Z"
   },
   {
    "duration": 21,
    "start_time": "2022-03-07T10:10:51.636Z"
   },
   {
    "duration": 20,
    "start_time": "2022-03-07T10:10:51.660Z"
   },
   {
    "duration": 30,
    "start_time": "2022-03-07T10:10:51.682Z"
   },
   {
    "duration": 21,
    "start_time": "2022-03-07T10:10:51.718Z"
   },
   {
    "duration": 38,
    "start_time": "2022-03-07T10:10:51.742Z"
   },
   {
    "duration": 3,
    "start_time": "2022-03-07T10:10:51.783Z"
   },
   {
    "duration": 17,
    "start_time": "2022-03-07T10:10:51.789Z"
   },
   {
    "duration": 42,
    "start_time": "2022-03-07T10:10:51.809Z"
   },
   {
    "duration": 1033,
    "start_time": "2022-03-07T10:10:51.853Z"
   },
   {
    "duration": 301,
    "start_time": "2022-03-07T10:10:52.889Z"
   },
   {
    "duration": 539,
    "start_time": "2022-03-07T10:10:53.192Z"
   },
   {
    "duration": -45,
    "start_time": "2022-03-07T10:10:53.779Z"
   },
   {
    "duration": -47,
    "start_time": "2022-03-07T10:10:53.783Z"
   },
   {
    "duration": 348,
    "start_time": "2022-03-07T10:23:12.160Z"
   },
   {
    "duration": 15,
    "start_time": "2022-03-07T10:27:14.473Z"
   },
   {
    "duration": 12,
    "start_time": "2022-03-07T10:28:10.374Z"
   },
   {
    "duration": 315,
    "start_time": "2022-03-07T10:37:09.266Z"
   },
   {
    "duration": 412,
    "start_time": "2022-03-07T10:38:59.822Z"
   },
   {
    "duration": 3513,
    "start_time": "2022-03-07T10:39:30.310Z"
   },
   {
    "duration": 446,
    "start_time": "2022-03-07T10:40:45.847Z"
   },
   {
    "duration": 1529,
    "start_time": "2022-03-07T10:40:52.593Z"
   },
   {
    "duration": 4,
    "start_time": "2022-03-07T10:40:54.124Z"
   },
   {
    "duration": 19,
    "start_time": "2022-03-07T10:40:54.131Z"
   },
   {
    "duration": 18,
    "start_time": "2022-03-07T10:40:54.153Z"
   },
   {
    "duration": 53,
    "start_time": "2022-03-07T10:40:54.173Z"
   },
   {
    "duration": 165,
    "start_time": "2022-03-07T10:40:54.228Z"
   },
   {
    "duration": 9,
    "start_time": "2022-03-07T10:40:54.396Z"
   },
   {
    "duration": 35,
    "start_time": "2022-03-07T10:40:54.409Z"
   },
   {
    "duration": 19,
    "start_time": "2022-03-07T10:40:54.447Z"
   },
   {
    "duration": 41,
    "start_time": "2022-03-07T10:40:54.469Z"
   },
   {
    "duration": 38,
    "start_time": "2022-03-07T10:40:54.512Z"
   },
   {
    "duration": 30,
    "start_time": "2022-03-07T10:40:54.552Z"
   },
   {
    "duration": 8,
    "start_time": "2022-03-07T10:40:54.585Z"
   },
   {
    "duration": 22,
    "start_time": "2022-03-07T10:40:54.596Z"
   },
   {
    "duration": 47,
    "start_time": "2022-03-07T10:40:54.621Z"
   },
   {
    "duration": 19,
    "start_time": "2022-03-07T10:40:54.671Z"
   },
   {
    "duration": 45,
    "start_time": "2022-03-07T10:40:54.693Z"
   },
   {
    "duration": 10,
    "start_time": "2022-03-07T10:40:54.741Z"
   },
   {
    "duration": 40,
    "start_time": "2022-03-07T10:40:54.754Z"
   },
   {
    "duration": 13,
    "start_time": "2022-03-07T10:40:54.797Z"
   },
   {
    "duration": 3499,
    "start_time": "2022-03-07T10:40:54.833Z"
   },
   {
    "duration": 646,
    "start_time": "2022-03-07T10:40:58.335Z"
   },
   {
    "duration": -74,
    "start_time": "2022-03-07T10:40:59.058Z"
   },
   {
    "duration": -104,
    "start_time": "2022-03-07T10:40:59.090Z"
   },
   {
    "duration": -107,
    "start_time": "2022-03-07T10:40:59.094Z"
   },
   {
    "duration": -107,
    "start_time": "2022-03-07T10:40:59.096Z"
   },
   {
    "duration": -109,
    "start_time": "2022-03-07T10:40:59.099Z"
   },
   {
    "duration": -109,
    "start_time": "2022-03-07T10:40:59.101Z"
   },
   {
    "duration": -110,
    "start_time": "2022-03-07T10:40:59.103Z"
   },
   {
    "duration": -110,
    "start_time": "2022-03-07T10:40:59.105Z"
   },
   {
    "duration": -112,
    "start_time": "2022-03-07T10:40:59.108Z"
   },
   {
    "duration": -112,
    "start_time": "2022-03-07T10:40:59.110Z"
   },
   {
    "duration": 366,
    "start_time": "2022-03-07T10:41:08.184Z"
   },
   {
    "duration": 1465,
    "start_time": "2022-03-07T10:41:35.757Z"
   },
   {
    "duration": 4,
    "start_time": "2022-03-07T10:41:37.225Z"
   },
   {
    "duration": 17,
    "start_time": "2022-03-07T10:41:37.232Z"
   },
   {
    "duration": 11,
    "start_time": "2022-03-07T10:41:37.252Z"
   },
   {
    "duration": 41,
    "start_time": "2022-03-07T10:41:37.265Z"
   },
   {
    "duration": 159,
    "start_time": "2022-03-07T10:41:37.333Z"
   },
   {
    "duration": 10,
    "start_time": "2022-03-07T10:41:37.495Z"
   },
   {
    "duration": 33,
    "start_time": "2022-03-07T10:41:37.509Z"
   },
   {
    "duration": 18,
    "start_time": "2022-03-07T10:41:37.545Z"
   },
   {
    "duration": 28,
    "start_time": "2022-03-07T10:41:37.565Z"
   },
   {
    "duration": 43,
    "start_time": "2022-03-07T10:41:37.595Z"
   },
   {
    "duration": 14,
    "start_time": "2022-03-07T10:41:37.640Z"
   },
   {
    "duration": 7,
    "start_time": "2022-03-07T10:41:37.657Z"
   },
   {
    "duration": 11,
    "start_time": "2022-03-07T10:41:37.666Z"
   },
   {
    "duration": 71,
    "start_time": "2022-03-07T10:41:37.680Z"
   },
   {
    "duration": 13,
    "start_time": "2022-03-07T10:41:37.754Z"
   },
   {
    "duration": 31,
    "start_time": "2022-03-07T10:41:37.770Z"
   },
   {
    "duration": 7,
    "start_time": "2022-03-07T10:41:37.832Z"
   },
   {
    "duration": 20,
    "start_time": "2022-03-07T10:41:37.842Z"
   },
   {
    "duration": 14,
    "start_time": "2022-03-07T10:41:37.864Z"
   },
   {
    "duration": 4,
    "start_time": "2022-03-07T10:41:37.881Z"
   },
   {
    "duration": 519,
    "start_time": "2022-03-07T10:41:37.888Z"
   },
   {
    "duration": -8,
    "start_time": "2022-03-07T10:41:38.418Z"
   },
   {
    "duration": -16,
    "start_time": "2022-03-07T10:41:38.428Z"
   },
   {
    "duration": -19,
    "start_time": "2022-03-07T10:41:38.432Z"
   },
   {
    "duration": -21,
    "start_time": "2022-03-07T10:41:38.436Z"
   },
   {
    "duration": -22,
    "start_time": "2022-03-07T10:41:38.438Z"
   },
   {
    "duration": -24,
    "start_time": "2022-03-07T10:41:38.442Z"
   },
   {
    "duration": -25,
    "start_time": "2022-03-07T10:41:38.444Z"
   },
   {
    "duration": -26,
    "start_time": "2022-03-07T10:41:38.447Z"
   },
   {
    "duration": -28,
    "start_time": "2022-03-07T10:41:38.450Z"
   },
   {
    "duration": -31,
    "start_time": "2022-03-07T10:41:38.454Z"
   },
   {
    "duration": 103,
    "start_time": "2022-03-07T10:42:52.395Z"
   },
   {
    "duration": 109,
    "start_time": "2022-03-07T10:43:19.618Z"
   },
   {
    "duration": 201,
    "start_time": "2022-03-07T10:45:31.729Z"
   },
   {
    "duration": 108,
    "start_time": "2022-03-07T10:45:57.434Z"
   },
   {
    "duration": 121,
    "start_time": "2022-03-07T10:46:02.129Z"
   },
   {
    "duration": 3533,
    "start_time": "2022-03-07T10:52:42.464Z"
   },
   {
    "duration": 356,
    "start_time": "2022-03-07T10:52:48.122Z"
   },
   {
    "duration": 592,
    "start_time": "2022-03-07T11:15:41.157Z"
   },
   {
    "duration": 536,
    "start_time": "2022-03-07T11:17:47.813Z"
   },
   {
    "duration": 369,
    "start_time": "2022-03-07T11:19:23.814Z"
   },
   {
    "duration": 23,
    "start_time": "2022-03-07T11:19:37.870Z"
   },
   {
    "duration": 9,
    "start_time": "2022-03-07T11:19:40.972Z"
   },
   {
    "duration": 32,
    "start_time": "2022-03-07T11:19:43.018Z"
   },
   {
    "duration": 8441,
    "start_time": "2022-03-07T11:19:46.926Z"
   },
   {
    "duration": 23,
    "start_time": "2022-03-07T11:21:00.010Z"
   },
   {
    "duration": 1068,
    "start_time": "2022-03-07T11:23:48.244Z"
   },
   {
    "duration": 26,
    "start_time": "2022-03-07T11:23:49.315Z"
   },
   {
    "duration": 1065,
    "start_time": "2022-03-07T11:24:09.828Z"
   },
   {
    "duration": 23,
    "start_time": "2022-03-07T11:24:20.058Z"
   },
   {
    "duration": 15,
    "start_time": "2022-03-07T11:24:36.170Z"
   },
   {
    "duration": 23,
    "start_time": "2022-03-07T11:24:55.082Z"
   },
   {
    "duration": 381,
    "start_time": "2022-03-07T11:25:14.172Z"
   },
   {
    "duration": 3261,
    "start_time": "2022-03-07T11:25:25.852Z"
   },
   {
    "duration": 487,
    "start_time": "2022-03-07T11:25:36.164Z"
   },
   {
    "duration": 22,
    "start_time": "2022-03-07T11:26:12.716Z"
   },
   {
    "duration": 554,
    "start_time": "2022-03-07T11:28:32.495Z"
   },
   {
    "duration": 568,
    "start_time": "2022-03-07T11:30:24.105Z"
   },
   {
    "duration": 571,
    "start_time": "2022-03-07T11:30:33.512Z"
   },
   {
    "duration": 1566,
    "start_time": "2022-03-07T11:41:22.668Z"
   },
   {
    "duration": 4,
    "start_time": "2022-03-07T11:41:24.237Z"
   },
   {
    "duration": 17,
    "start_time": "2022-03-07T11:41:24.244Z"
   },
   {
    "duration": 10,
    "start_time": "2022-03-07T11:41:24.264Z"
   },
   {
    "duration": 71,
    "start_time": "2022-03-07T11:41:24.277Z"
   },
   {
    "duration": 163,
    "start_time": "2022-03-07T11:41:24.350Z"
   },
   {
    "duration": 17,
    "start_time": "2022-03-07T11:41:24.516Z"
   },
   {
    "duration": 18,
    "start_time": "2022-03-07T11:41:24.537Z"
   },
   {
    "duration": 24,
    "start_time": "2022-03-07T11:41:24.558Z"
   },
   {
    "duration": 58,
    "start_time": "2022-03-07T11:41:24.584Z"
   },
   {
    "duration": 19,
    "start_time": "2022-03-07T11:41:24.645Z"
   },
   {
    "duration": 18,
    "start_time": "2022-03-07T11:41:24.667Z"
   },
   {
    "duration": 8,
    "start_time": "2022-03-07T11:41:24.687Z"
   },
   {
    "duration": 14,
    "start_time": "2022-03-07T11:41:24.733Z"
   },
   {
    "duration": 27,
    "start_time": "2022-03-07T11:41:24.749Z"
   },
   {
    "duration": 14,
    "start_time": "2022-03-07T11:41:24.779Z"
   },
   {
    "duration": 34,
    "start_time": "2022-03-07T11:41:24.833Z"
   },
   {
    "duration": 7,
    "start_time": "2022-03-07T11:41:24.869Z"
   },
   {
    "duration": 19,
    "start_time": "2022-03-07T11:41:24.878Z"
   },
   {
    "duration": 44,
    "start_time": "2022-03-07T11:41:24.900Z"
   },
   {
    "duration": 4,
    "start_time": "2022-03-07T11:41:24.946Z"
   },
   {
    "duration": 22,
    "start_time": "2022-03-07T11:41:24.952Z"
   },
   {
    "duration": 609,
    "start_time": "2022-03-07T11:41:24.978Z"
   },
   {
    "duration": 9,
    "start_time": "2022-03-07T11:41:25.590Z"
   },
   {
    "duration": 50,
    "start_time": "2022-03-07T11:41:25.601Z"
   },
   {
    "duration": 484,
    "start_time": "2022-03-07T11:41:25.653Z"
   },
   {
    "duration": -23,
    "start_time": "2022-03-07T11:41:26.162Z"
   },
   {
    "duration": -25,
    "start_time": "2022-03-07T11:41:26.166Z"
   },
   {
    "duration": -26,
    "start_time": "2022-03-07T11:41:26.169Z"
   },
   {
    "duration": -27,
    "start_time": "2022-03-07T11:41:26.171Z"
   },
   {
    "duration": -28,
    "start_time": "2022-03-07T11:41:26.174Z"
   },
   {
    "duration": -28,
    "start_time": "2022-03-07T11:41:26.176Z"
   },
   {
    "duration": 374,
    "start_time": "2022-03-07T11:42:49.988Z"
   },
   {
    "duration": 42,
    "start_time": "2022-03-07T11:46:27.204Z"
   },
   {
    "duration": 14,
    "start_time": "2022-03-07T11:46:31.627Z"
   },
   {
    "duration": 406,
    "start_time": "2022-03-07T11:49:11.885Z"
   },
   {
    "duration": 12,
    "start_time": "2022-03-07T11:50:10.574Z"
   },
   {
    "duration": 16,
    "start_time": "2022-03-07T11:50:15.269Z"
   },
   {
    "duration": 1469,
    "start_time": "2022-03-07T11:50:40.160Z"
   },
   {
    "duration": 3,
    "start_time": "2022-03-07T11:50:41.632Z"
   },
   {
    "duration": 15,
    "start_time": "2022-03-07T11:50:41.638Z"
   },
   {
    "duration": 12,
    "start_time": "2022-03-07T11:50:41.656Z"
   },
   {
    "duration": 69,
    "start_time": "2022-03-07T11:50:41.671Z"
   },
   {
    "duration": 157,
    "start_time": "2022-03-07T11:50:41.742Z"
   },
   {
    "duration": 9,
    "start_time": "2022-03-07T11:50:41.901Z"
   },
   {
    "duration": 29,
    "start_time": "2022-03-07T11:50:41.913Z"
   },
   {
    "duration": 18,
    "start_time": "2022-03-07T11:50:41.945Z"
   },
   {
    "duration": 27,
    "start_time": "2022-03-07T11:50:41.965Z"
   },
   {
    "duration": 46,
    "start_time": "2022-03-07T11:50:41.994Z"
   },
   {
    "duration": 15,
    "start_time": "2022-03-07T11:50:42.042Z"
   },
   {
    "duration": 7,
    "start_time": "2022-03-07T11:50:42.060Z"
   },
   {
    "duration": 13,
    "start_time": "2022-03-07T11:50:42.069Z"
   },
   {
    "duration": 63,
    "start_time": "2022-03-07T11:50:42.085Z"
   },
   {
    "duration": 12,
    "start_time": "2022-03-07T11:50:42.151Z"
   },
   {
    "duration": 36,
    "start_time": "2022-03-07T11:50:42.166Z"
   },
   {
    "duration": 37,
    "start_time": "2022-03-07T11:50:42.204Z"
   },
   {
    "duration": 8,
    "start_time": "2022-03-07T11:50:42.243Z"
   },
   {
    "duration": 21,
    "start_time": "2022-03-07T11:50:42.253Z"
   },
   {
    "duration": 20,
    "start_time": "2022-03-07T11:50:42.276Z"
   },
   {
    "duration": 3,
    "start_time": "2022-03-07T11:50:42.298Z"
   },
   {
    "duration": 22,
    "start_time": "2022-03-07T11:50:42.335Z"
   },
   {
    "duration": 604,
    "start_time": "2022-03-07T11:50:42.360Z"
   },
   {
    "duration": 10,
    "start_time": "2022-03-07T11:50:42.967Z"
   },
   {
    "duration": 61,
    "start_time": "2022-03-07T11:50:42.980Z"
   },
   {
    "duration": 462,
    "start_time": "2022-03-07T11:50:43.044Z"
   },
   {
    "duration": -55,
    "start_time": "2022-03-07T11:50:43.565Z"
   },
   {
    "duration": -60,
    "start_time": "2022-03-07T11:50:43.572Z"
   },
   {
    "duration": -60,
    "start_time": "2022-03-07T11:50:43.575Z"
   },
   {
    "duration": -64,
    "start_time": "2022-03-07T11:50:43.581Z"
   },
   {
    "duration": -68,
    "start_time": "2022-03-07T11:50:43.588Z"
   },
   {
    "duration": -68,
    "start_time": "2022-03-07T11:50:43.590Z"
   },
   {
    "duration": 13,
    "start_time": "2022-03-07T11:55:59.228Z"
   },
   {
    "duration": 39,
    "start_time": "2022-03-07T11:56:18.101Z"
   },
   {
    "duration": 12,
    "start_time": "2022-03-07T11:56:22.205Z"
   },
   {
    "duration": 6,
    "start_time": "2022-03-07T11:56:23.330Z"
   },
   {
    "duration": 19,
    "start_time": "2022-03-07T11:56:23.886Z"
   },
   {
    "duration": 13,
    "start_time": "2022-03-07T11:56:24.685Z"
   },
   {
    "duration": 16,
    "start_time": "2022-03-07T11:56:55.617Z"
   },
   {
    "duration": 14,
    "start_time": "2022-03-07T11:56:59.451Z"
   },
   {
    "duration": 655,
    "start_time": "2022-03-07T11:57:46.941Z"
   },
   {
    "duration": 751,
    "start_time": "2022-03-07T11:58:13.741Z"
   },
   {
    "duration": 12141,
    "start_time": "2022-03-07T12:00:53.256Z"
   },
   {
    "duration": 6,
    "start_time": "2022-03-07T12:05:29.411Z"
   },
   {
    "duration": 8,
    "start_time": "2022-03-07T12:05:36.851Z"
   },
   {
    "duration": 388,
    "start_time": "2022-03-07T12:08:35.927Z"
   },
   {
    "duration": 3916,
    "start_time": "2022-03-07T12:08:58.600Z"
   },
   {
    "duration": 5358,
    "start_time": "2022-03-07T12:09:23.441Z"
   },
   {
    "duration": 5038,
    "start_time": "2022-03-07T12:09:45.439Z"
   },
   {
    "duration": 4907,
    "start_time": "2022-03-07T12:10:48.266Z"
   },
   {
    "duration": 6179,
    "start_time": "2022-03-07T12:12:30.786Z"
   },
   {
    "duration": 6318,
    "start_time": "2022-03-07T12:14:04.747Z"
   },
   {
    "duration": 2180,
    "start_time": "2022-03-07T12:14:32.011Z"
   },
   {
    "duration": 6717,
    "start_time": "2022-03-07T12:15:27.069Z"
   },
   {
    "duration": 1499,
    "start_time": "2022-03-07T12:21:20.227Z"
   },
   {
    "duration": 4,
    "start_time": "2022-03-07T12:21:21.728Z"
   },
   {
    "duration": 18,
    "start_time": "2022-03-07T12:21:21.735Z"
   },
   {
    "duration": 12,
    "start_time": "2022-03-07T12:21:21.755Z"
   },
   {
    "duration": 65,
    "start_time": "2022-03-07T12:21:21.769Z"
   },
   {
    "duration": 160,
    "start_time": "2022-03-07T12:21:21.836Z"
   },
   {
    "duration": 9,
    "start_time": "2022-03-07T12:21:21.998Z"
   },
   {
    "duration": 30,
    "start_time": "2022-03-07T12:21:22.011Z"
   },
   {
    "duration": 19,
    "start_time": "2022-03-07T12:21:22.044Z"
   },
   {
    "duration": 27,
    "start_time": "2022-03-07T12:21:22.066Z"
   },
   {
    "duration": 48,
    "start_time": "2022-03-07T12:21:22.096Z"
   },
   {
    "duration": 17,
    "start_time": "2022-03-07T12:21:22.148Z"
   },
   {
    "duration": 8,
    "start_time": "2022-03-07T12:21:22.168Z"
   },
   {
    "duration": 55,
    "start_time": "2022-03-07T12:21:22.179Z"
   },
   {
    "duration": 33,
    "start_time": "2022-03-07T12:21:22.237Z"
   },
   {
    "duration": 23,
    "start_time": "2022-03-07T12:21:22.273Z"
   },
   {
    "duration": 42,
    "start_time": "2022-03-07T12:21:22.298Z"
   },
   {
    "duration": 14,
    "start_time": "2022-03-07T12:21:22.342Z"
   },
   {
    "duration": 20,
    "start_time": "2022-03-07T12:21:22.359Z"
   },
   {
    "duration": 14,
    "start_time": "2022-03-07T12:21:22.381Z"
   },
   {
    "duration": 3,
    "start_time": "2022-03-07T12:21:22.397Z"
   },
   {
    "duration": 49,
    "start_time": "2022-03-07T12:21:22.402Z"
   },
   {
    "duration": 742,
    "start_time": "2022-03-07T12:21:22.456Z"
   },
   {
    "duration": 9,
    "start_time": "2022-03-07T12:21:23.201Z"
   },
   {
    "duration": 509,
    "start_time": "2022-03-07T12:21:23.212Z"
   },
   {
    "duration": -38,
    "start_time": "2022-03-07T12:21:23.762Z"
   },
   {
    "duration": -42,
    "start_time": "2022-03-07T12:21:23.767Z"
   },
   {
    "duration": -44,
    "start_time": "2022-03-07T12:21:23.771Z"
   },
   {
    "duration": -47,
    "start_time": "2022-03-07T12:21:23.775Z"
   },
   {
    "duration": -48,
    "start_time": "2022-03-07T12:21:23.778Z"
   },
   {
    "duration": -50,
    "start_time": "2022-03-07T12:21:23.781Z"
   },
   {
    "duration": -51,
    "start_time": "2022-03-07T12:21:23.783Z"
   },
   {
    "duration": 5622,
    "start_time": "2022-03-07T12:21:37.046Z"
   },
   {
    "duration": 1396,
    "start_time": "2022-03-07T12:26:35.113Z"
   },
   {
    "duration": 118,
    "start_time": "2022-03-07T12:28:30.522Z"
   },
   {
    "duration": 14,
    "start_time": "2022-03-07T12:28:33.909Z"
   },
   {
    "duration": 1501,
    "start_time": "2022-03-07T12:28:41.956Z"
   },
   {
    "duration": 105,
    "start_time": "2022-03-07T12:28:50.604Z"
   },
   {
    "duration": 20,
    "start_time": "2022-03-07T12:29:08.555Z"
   },
   {
    "duration": 1356,
    "start_time": "2022-03-07T12:29:27.568Z"
   },
   {
    "duration": 348,
    "start_time": "2022-03-07T12:29:41.532Z"
   },
   {
    "duration": 1673,
    "start_time": "2022-03-07T12:29:52.068Z"
   },
   {
    "duration": 5,
    "start_time": "2022-03-07T12:29:53.745Z"
   },
   {
    "duration": 20,
    "start_time": "2022-03-07T12:29:53.753Z"
   },
   {
    "duration": 18,
    "start_time": "2022-03-07T12:29:53.777Z"
   },
   {
    "duration": 73,
    "start_time": "2022-03-07T12:29:53.800Z"
   },
   {
    "duration": 196,
    "start_time": "2022-03-07T12:29:53.876Z"
   },
   {
    "duration": 11,
    "start_time": "2022-03-07T12:29:54.074Z"
   },
   {
    "duration": 41,
    "start_time": "2022-03-07T12:29:54.091Z"
   },
   {
    "duration": 20,
    "start_time": "2022-03-07T12:29:54.136Z"
   },
   {
    "duration": 29,
    "start_time": "2022-03-07T12:29:54.159Z"
   },
   {
    "duration": 52,
    "start_time": "2022-03-07T12:29:54.191Z"
   },
   {
    "duration": 16,
    "start_time": "2022-03-07T12:29:54.246Z"
   },
   {
    "duration": 7,
    "start_time": "2022-03-07T12:29:54.265Z"
   },
   {
    "duration": 12,
    "start_time": "2022-03-07T12:29:54.275Z"
   },
   {
    "duration": 64,
    "start_time": "2022-03-07T12:29:54.290Z"
   },
   {
    "duration": 19,
    "start_time": "2022-03-07T12:29:54.357Z"
   },
   {
    "duration": 19,
    "start_time": "2022-03-07T12:29:54.378Z"
   },
   {
    "duration": 35,
    "start_time": "2022-03-07T12:29:54.399Z"
   },
   {
    "duration": 32,
    "start_time": "2022-03-07T12:29:54.437Z"
   },
   {
    "duration": 15,
    "start_time": "2022-03-07T12:29:54.471Z"
   },
   {
    "duration": 3,
    "start_time": "2022-03-07T12:29:54.489Z"
   },
   {
    "duration": 57,
    "start_time": "2022-03-07T12:29:54.495Z"
   },
   {
    "duration": 659,
    "start_time": "2022-03-07T12:29:54.557Z"
   },
   {
    "duration": 17,
    "start_time": "2022-03-07T12:29:55.219Z"
   },
   {
    "duration": 6374,
    "start_time": "2022-03-07T12:29:55.239Z"
   },
   {
    "duration": 130,
    "start_time": "2022-03-07T12:30:01.616Z"
   },
   {
    "duration": -26,
    "start_time": "2022-03-07T12:30:01.775Z"
   },
   {
    "duration": -33,
    "start_time": "2022-03-07T12:30:01.783Z"
   },
   {
    "duration": -36,
    "start_time": "2022-03-07T12:30:01.788Z"
   },
   {
    "duration": -38,
    "start_time": "2022-03-07T12:30:01.791Z"
   },
   {
    "duration": -38,
    "start_time": "2022-03-07T12:30:01.793Z"
   },
   {
    "duration": 1690,
    "start_time": "2022-03-07T12:30:08.931Z"
   },
   {
    "duration": 1500,
    "start_time": "2022-03-07T12:33:46.921Z"
   },
   {
    "duration": 3,
    "start_time": "2022-03-07T12:33:48.424Z"
   },
   {
    "duration": 16,
    "start_time": "2022-03-07T12:33:48.430Z"
   },
   {
    "duration": 11,
    "start_time": "2022-03-07T12:33:48.449Z"
   },
   {
    "duration": 38,
    "start_time": "2022-03-07T12:33:48.462Z"
   },
   {
    "duration": 494,
    "start_time": "2022-03-07T12:33:48.502Z"
   },
   {
    "duration": -70,
    "start_time": "2022-03-07T12:33:49.069Z"
   },
   {
    "duration": -74,
    "start_time": "2022-03-07T12:33:49.075Z"
   },
   {
    "duration": -83,
    "start_time": "2022-03-07T12:33:49.085Z"
   },
   {
    "duration": -84,
    "start_time": "2022-03-07T12:33:49.088Z"
   },
   {
    "duration": -95,
    "start_time": "2022-03-07T12:33:49.100Z"
   },
   {
    "duration": -96,
    "start_time": "2022-03-07T12:33:49.103Z"
   },
   {
    "duration": -98,
    "start_time": "2022-03-07T12:33:49.106Z"
   },
   {
    "duration": -106,
    "start_time": "2022-03-07T12:33:49.116Z"
   },
   {
    "duration": -108,
    "start_time": "2022-03-07T12:33:49.119Z"
   },
   {
    "duration": -109,
    "start_time": "2022-03-07T12:33:49.122Z"
   },
   {
    "duration": -118,
    "start_time": "2022-03-07T12:33:49.132Z"
   },
   {
    "duration": -119,
    "start_time": "2022-03-07T12:33:49.135Z"
   },
   {
    "duration": -121,
    "start_time": "2022-03-07T12:33:49.138Z"
   },
   {
    "duration": -124,
    "start_time": "2022-03-07T12:33:49.143Z"
   },
   {
    "duration": -131,
    "start_time": "2022-03-07T12:33:49.151Z"
   },
   {
    "duration": -134,
    "start_time": "2022-03-07T12:33:49.155Z"
   },
   {
    "duration": -136,
    "start_time": "2022-03-07T12:33:49.159Z"
   },
   {
    "duration": -142,
    "start_time": "2022-03-07T12:33:49.166Z"
   },
   {
    "duration": -143,
    "start_time": "2022-03-07T12:33:49.169Z"
   },
   {
    "duration": -145,
    "start_time": "2022-03-07T12:33:49.172Z"
   },
   {
    "duration": -149,
    "start_time": "2022-03-07T12:33:49.177Z"
   },
   {
    "duration": -155,
    "start_time": "2022-03-07T12:33:49.185Z"
   },
   {
    "duration": -158,
    "start_time": "2022-03-07T12:33:49.189Z"
   },
   {
    "duration": -167,
    "start_time": "2022-03-07T12:33:49.199Z"
   },
   {
    "duration": -168,
    "start_time": "2022-03-07T12:33:49.201Z"
   },
   {
    "duration": 14,
    "start_time": "2022-03-07T12:34:08.603Z"
   },
   {
    "duration": 1476,
    "start_time": "2022-03-07T12:34:16.851Z"
   },
   {
    "duration": 4,
    "start_time": "2022-03-07T12:34:18.330Z"
   },
   {
    "duration": 14,
    "start_time": "2022-03-07T12:34:18.340Z"
   },
   {
    "duration": 12,
    "start_time": "2022-03-07T12:34:18.356Z"
   },
   {
    "duration": 73,
    "start_time": "2022-03-07T12:34:18.371Z"
   },
   {
    "duration": 17,
    "start_time": "2022-03-07T12:34:18.447Z"
   },
   {
    "duration": 11,
    "start_time": "2022-03-07T12:34:18.469Z"
   },
   {
    "duration": 51,
    "start_time": "2022-03-07T12:34:18.483Z"
   },
   {
    "duration": 19,
    "start_time": "2022-03-07T12:34:18.537Z"
   },
   {
    "duration": 30,
    "start_time": "2022-03-07T12:34:18.558Z"
   },
   {
    "duration": 46,
    "start_time": "2022-03-07T12:34:18.590Z"
   },
   {
    "duration": 13,
    "start_time": "2022-03-07T12:34:18.639Z"
   },
   {
    "duration": 7,
    "start_time": "2022-03-07T12:34:18.655Z"
   },
   {
    "duration": 18,
    "start_time": "2022-03-07T12:34:18.665Z"
   },
   {
    "duration": 47,
    "start_time": "2022-03-07T12:34:18.685Z"
   },
   {
    "duration": 12,
    "start_time": "2022-03-07T12:34:18.735Z"
   },
   {
    "duration": 15,
    "start_time": "2022-03-07T12:34:18.750Z"
   },
   {
    "duration": 6,
    "start_time": "2022-03-07T12:34:18.767Z"
   },
   {
    "duration": 21,
    "start_time": "2022-03-07T12:34:18.776Z"
   },
   {
    "duration": 46,
    "start_time": "2022-03-07T12:34:18.799Z"
   },
   {
    "duration": 3,
    "start_time": "2022-03-07T12:34:18.847Z"
   },
   {
    "duration": 21,
    "start_time": "2022-03-07T12:34:18.854Z"
   },
   {
    "duration": 617,
    "start_time": "2022-03-07T12:34:18.878Z"
   },
   {
    "duration": 9,
    "start_time": "2022-03-07T12:34:19.498Z"
   },
   {
    "duration": 5856,
    "start_time": "2022-03-07T12:34:19.510Z"
   },
   {
    "duration": 9,
    "start_time": "2022-03-07T12:34:25.368Z"
   },
   {
    "duration": 832,
    "start_time": "2022-03-07T12:34:25.380Z"
   },
   {
    "duration": -23,
    "start_time": "2022-03-07T12:34:26.237Z"
   },
   {
    "duration": -26,
    "start_time": "2022-03-07T12:34:26.241Z"
   },
   {
    "duration": -27,
    "start_time": "2022-03-07T12:34:26.243Z"
   },
   {
    "duration": -27,
    "start_time": "2022-03-07T12:34:26.245Z"
   },
   {
    "duration": 12,
    "start_time": "2022-03-07T12:40:47.623Z"
   },
   {
    "duration": 882,
    "start_time": "2022-03-07T12:40:48.959Z"
   },
   {
    "duration": 573,
    "start_time": "2022-03-07T12:43:42.138Z"
   },
   {
    "duration": 10,
    "start_time": "2022-03-07T13:00:59.081Z"
   },
   {
    "duration": 13,
    "start_time": "2022-03-07T13:01:00.704Z"
   },
   {
    "duration": 17,
    "start_time": "2022-03-07T13:02:59.874Z"
   },
   {
    "duration": 19,
    "start_time": "2022-03-07T13:04:56.749Z"
   },
   {
    "duration": 19,
    "start_time": "2022-03-07T13:06:14.045Z"
   },
   {
    "duration": 354,
    "start_time": "2022-03-07T13:12:17.587Z"
   },
   {
    "duration": 364,
    "start_time": "2022-03-07T13:13:39.975Z"
   },
   {
    "duration": 23,
    "start_time": "2022-03-07T13:14:33.685Z"
   },
   {
    "duration": 24,
    "start_time": "2022-03-07T13:14:45.389Z"
   },
   {
    "duration": 23,
    "start_time": "2022-03-07T13:15:20.334Z"
   },
   {
    "duration": 23,
    "start_time": "2022-03-07T13:16:24.118Z"
   },
   {
    "duration": 23,
    "start_time": "2022-03-07T13:16:36.552Z"
   },
   {
    "duration": 600,
    "start_time": "2022-03-07T13:23:01.581Z"
   },
   {
    "duration": 327,
    "start_time": "2022-03-07T13:23:12.996Z"
   },
   {
    "duration": 635,
    "start_time": "2022-03-07T13:24:04.348Z"
   },
   {
    "duration": 1700,
    "start_time": "2022-03-07T13:24:26.854Z"
   },
   {
    "duration": 691,
    "start_time": "2022-03-07T13:24:37.550Z"
   },
   {
    "duration": 633,
    "start_time": "2022-03-07T13:24:48.879Z"
   },
   {
    "duration": 619,
    "start_time": "2022-03-07T13:27:51.928Z"
   },
   {
    "duration": 624,
    "start_time": "2022-03-07T13:28:40.920Z"
   },
   {
    "duration": 616,
    "start_time": "2022-03-07T13:28:47.921Z"
   },
   {
    "duration": 697,
    "start_time": "2022-03-07T13:29:14.905Z"
   },
   {
    "duration": 2715,
    "start_time": "2022-03-07T13:29:24.346Z"
   },
   {
    "duration": 611,
    "start_time": "2022-03-07T13:29:38.346Z"
   },
   {
    "duration": 8,
    "start_time": "2022-03-07T13:35:08.566Z"
   },
   {
    "duration": 7,
    "start_time": "2022-03-07T13:35:21.095Z"
   },
   {
    "duration": 401,
    "start_time": "2022-03-07T13:35:29.878Z"
   },
   {
    "duration": 599,
    "start_time": "2022-03-07T13:36:16.480Z"
   },
   {
    "duration": 600,
    "start_time": "2022-03-07T13:37:44.484Z"
   },
   {
    "duration": 601,
    "start_time": "2022-03-07T13:39:13.634Z"
   },
   {
    "duration": 36,
    "start_time": "2022-03-07T13:39:37.652Z"
   },
   {
    "duration": 12,
    "start_time": "2022-03-07T13:39:51.715Z"
   },
   {
    "duration": 621,
    "start_time": "2022-03-07T13:43:19.682Z"
   },
   {
    "duration": 608,
    "start_time": "2022-03-07T13:44:26.680Z"
   },
   {
    "duration": 330,
    "start_time": "2022-03-07T13:44:37.074Z"
   },
   {
    "duration": 332,
    "start_time": "2022-03-07T13:45:14.337Z"
   },
   {
    "duration": 342,
    "start_time": "2022-03-07T13:47:46.437Z"
   },
   {
    "duration": 6,
    "start_time": "2022-03-07T13:51:10.749Z"
   },
   {
    "duration": 1020,
    "start_time": "2022-03-07T13:51:22.173Z"
   },
   {
    "duration": 331,
    "start_time": "2022-03-07T13:52:08.075Z"
   },
   {
    "duration": 803,
    "start_time": "2022-03-07T13:52:13.879Z"
   },
   {
    "duration": 838,
    "start_time": "2022-03-07T13:52:51.055Z"
   },
   {
    "duration": 392,
    "start_time": "2022-03-07T13:54:19.087Z"
   },
   {
    "duration": 803,
    "start_time": "2022-03-07T14:10:53.120Z"
   },
   {
    "duration": 775,
    "start_time": "2022-03-07T14:12:55.563Z"
   },
   {
    "duration": 830,
    "start_time": "2022-03-07T14:13:20.016Z"
   },
   {
    "duration": 35,
    "start_time": "2022-03-07T14:17:36.860Z"
   },
   {
    "duration": 1358,
    "start_time": "2022-03-07T14:18:16.292Z"
   },
   {
    "duration": 803,
    "start_time": "2022-03-07T14:19:01.790Z"
   },
   {
    "duration": 441,
    "start_time": "2022-03-07T14:19:36.831Z"
   },
   {
    "duration": 991,
    "start_time": "2022-03-07T14:20:08.841Z"
   },
   {
    "duration": 1071,
    "start_time": "2022-03-07T14:21:24.264Z"
   },
   {
    "duration": 993,
    "start_time": "2022-03-07T14:21:39.257Z"
   },
   {
    "duration": 971,
    "start_time": "2022-03-07T14:21:48.608Z"
   },
   {
    "duration": 987,
    "start_time": "2022-03-07T14:23:34.139Z"
   },
   {
    "duration": 1095,
    "start_time": "2022-03-07T14:23:39.980Z"
   },
   {
    "duration": 11,
    "start_time": "2022-03-07T14:24:30.426Z"
   },
   {
    "duration": 1002,
    "start_time": "2022-03-07T14:25:37.140Z"
   },
   {
    "duration": 121,
    "start_time": "2022-03-07T14:30:58.520Z"
   },
   {
    "duration": 322,
    "start_time": "2022-03-07T14:31:09.963Z"
   },
   {
    "duration": 1470,
    "start_time": "2022-03-07T14:34:44.585Z"
   },
   {
    "duration": 3,
    "start_time": "2022-03-07T14:34:46.058Z"
   },
   {
    "duration": 17,
    "start_time": "2022-03-07T14:34:46.065Z"
   },
   {
    "duration": 13,
    "start_time": "2022-03-07T14:34:46.085Z"
   },
   {
    "duration": 66,
    "start_time": "2022-03-07T14:34:46.102Z"
   },
   {
    "duration": 16,
    "start_time": "2022-03-07T14:34:46.170Z"
   },
   {
    "duration": 9,
    "start_time": "2022-03-07T14:34:46.188Z"
   },
   {
    "duration": 14,
    "start_time": "2022-03-07T14:34:46.233Z"
   },
   {
    "duration": 19,
    "start_time": "2022-03-07T14:34:46.250Z"
   },
   {
    "duration": 27,
    "start_time": "2022-03-07T14:34:46.271Z"
   },
   {
    "duration": 21,
    "start_time": "2022-03-07T14:34:46.333Z"
   },
   {
    "duration": 15,
    "start_time": "2022-03-07T14:34:46.357Z"
   },
   {
    "duration": 7,
    "start_time": "2022-03-07T14:34:46.375Z"
   },
   {
    "duration": 51,
    "start_time": "2022-03-07T14:34:46.384Z"
   },
   {
    "duration": 18,
    "start_time": "2022-03-07T14:34:46.438Z"
   },
   {
    "duration": 14,
    "start_time": "2022-03-07T14:34:46.458Z"
   },
   {
    "duration": 15,
    "start_time": "2022-03-07T14:34:46.475Z"
   },
   {
    "duration": 42,
    "start_time": "2022-03-07T14:34:46.492Z"
   },
   {
    "duration": 28,
    "start_time": "2022-03-07T14:34:46.536Z"
   },
   {
    "duration": 14,
    "start_time": "2022-03-07T14:34:46.567Z"
   },
   {
    "duration": 3,
    "start_time": "2022-03-07T14:34:46.583Z"
   },
   {
    "duration": 55,
    "start_time": "2022-03-07T14:34:46.589Z"
   },
   {
    "duration": 735,
    "start_time": "2022-03-07T14:34:46.649Z"
   },
   {
    "duration": 7,
    "start_time": "2022-03-07T14:34:47.388Z"
   },
   {
    "duration": 6561,
    "start_time": "2022-03-07T14:34:47.397Z"
   },
   {
    "duration": 24,
    "start_time": "2022-03-07T14:34:53.961Z"
   },
   {
    "duration": 65,
    "start_time": "2022-03-07T14:34:53.987Z"
   },
   {
    "duration": 561,
    "start_time": "2022-03-07T14:34:54.055Z"
   },
   {
    "duration": 20,
    "start_time": "2022-03-07T14:34:54.619Z"
   },
   {
    "duration": 1281,
    "start_time": "2022-03-07T14:34:54.642Z"
   },
   {
    "duration": 16,
    "start_time": "2022-03-07T14:34:55.925Z"
   },
   {
    "duration": 1059,
    "start_time": "2022-03-07T14:34:55.944Z"
   },
   {
    "duration": 526,
    "start_time": "2022-03-07T14:34:57.006Z"
   },
   {
    "duration": 428,
    "start_time": "2022-03-07T14:36:52.562Z"
   },
   {
    "duration": 1038,
    "start_time": "2022-03-07T14:37:33.930Z"
   },
   {
    "duration": 279,
    "start_time": "2022-03-08T09:16:31.937Z"
   },
   {
    "duration": 1196,
    "start_time": "2022-03-08T09:16:39.180Z"
   },
   {
    "duration": 4,
    "start_time": "2022-03-08T09:16:40.378Z"
   },
   {
    "duration": 12,
    "start_time": "2022-03-08T09:16:40.384Z"
   },
   {
    "duration": 10,
    "start_time": "2022-03-08T09:16:40.398Z"
   },
   {
    "duration": 27,
    "start_time": "2022-03-08T09:16:40.410Z"
   },
   {
    "duration": 34,
    "start_time": "2022-03-08T09:16:40.439Z"
   },
   {
    "duration": 8,
    "start_time": "2022-03-08T09:16:40.475Z"
   },
   {
    "duration": 11,
    "start_time": "2022-03-08T09:16:40.486Z"
   },
   {
    "duration": 14,
    "start_time": "2022-03-08T09:16:40.500Z"
   },
   {
    "duration": 59,
    "start_time": "2022-03-08T09:16:40.515Z"
   },
   {
    "duration": 11,
    "start_time": "2022-03-08T09:16:40.576Z"
   },
   {
    "duration": 12,
    "start_time": "2022-03-08T09:16:40.588Z"
   },
   {
    "duration": 5,
    "start_time": "2022-03-08T09:16:40.602Z"
   },
   {
    "duration": 11,
    "start_time": "2022-03-08T09:16:40.608Z"
   },
   {
    "duration": 10,
    "start_time": "2022-03-08T09:16:40.621Z"
   },
   {
    "duration": 38,
    "start_time": "2022-03-08T09:16:40.632Z"
   },
   {
    "duration": 10,
    "start_time": "2022-03-08T09:16:40.672Z"
   },
   {
    "duration": 4,
    "start_time": "2022-03-08T09:16:40.684Z"
   },
   {
    "duration": 13,
    "start_time": "2022-03-08T09:16:40.690Z"
   },
   {
    "duration": 12,
    "start_time": "2022-03-08T09:16:40.705Z"
   },
   {
    "duration": 2,
    "start_time": "2022-03-08T09:16:40.719Z"
   },
   {
    "duration": 41,
    "start_time": "2022-03-08T09:16:40.723Z"
   },
   {
    "duration": 349,
    "start_time": "2022-03-08T09:16:40.767Z"
   },
   {
    "duration": 6,
    "start_time": "2022-03-08T09:16:41.117Z"
   },
   {
    "duration": 3360,
    "start_time": "2022-03-08T09:16:41.125Z"
   },
   {
    "duration": 16,
    "start_time": "2022-03-08T09:16:44.487Z"
   },
   {
    "duration": 23,
    "start_time": "2022-03-08T09:16:44.504Z"
   },
   {
    "duration": 218,
    "start_time": "2022-03-08T09:16:44.528Z"
   },
   {
    "duration": 16,
    "start_time": "2022-03-08T09:16:44.747Z"
   },
   {
    "duration": 739,
    "start_time": "2022-03-08T09:16:44.765Z"
   },
   {
    "duration": 9,
    "start_time": "2022-03-08T09:16:45.506Z"
   },
   {
    "duration": 609,
    "start_time": "2022-03-08T09:16:45.517Z"
   },
   {
    "duration": 250,
    "start_time": "2022-03-08T09:16:46.127Z"
   },
   {
    "duration": 594,
    "start_time": "2022-03-08T09:16:46.378Z"
   },
   {
    "duration": 901,
    "start_time": "2022-03-08T09:26:05.027Z"
   },
   {
    "duration": 699,
    "start_time": "2022-03-08T09:26:24.857Z"
   },
   {
    "duration": 710,
    "start_time": "2022-03-08T09:28:51.581Z"
   },
   {
    "duration": 845,
    "start_time": "2022-03-08T09:29:14.424Z"
   },
   {
    "duration": 1027,
    "start_time": "2022-03-08T09:29:57.806Z"
   },
   {
    "duration": 604,
    "start_time": "2022-03-08T09:31:52.616Z"
   },
   {
    "duration": 581,
    "start_time": "2022-03-08T09:32:08.672Z"
   },
   {
    "duration": 584,
    "start_time": "2022-03-08T09:32:16.849Z"
   },
   {
    "duration": 553,
    "start_time": "2022-03-08T09:32:32.912Z"
   },
   {
    "duration": 601,
    "start_time": "2022-03-08T09:32:41.921Z"
   },
   {
    "duration": 589,
    "start_time": "2022-03-08T09:32:50.824Z"
   },
   {
    "duration": 640,
    "start_time": "2022-03-08T09:37:04.860Z"
   },
   {
    "duration": 636,
    "start_time": "2022-03-08T09:37:31.815Z"
   },
   {
    "duration": 773,
    "start_time": "2022-03-08T09:38:29.461Z"
   },
   {
    "duration": 685,
    "start_time": "2022-03-08T09:38:53.127Z"
   },
   {
    "duration": 548,
    "start_time": "2022-03-08T09:39:02.591Z"
   },
   {
    "duration": 643,
    "start_time": "2022-03-08T09:39:12.455Z"
   },
   {
    "duration": 708,
    "start_time": "2022-03-08T09:49:44.728Z"
   },
   {
    "duration": 1501,
    "start_time": "2022-03-08T10:00:18.321Z"
   },
   {
    "duration": 683,
    "start_time": "2022-03-08T10:05:15.453Z"
   },
   {
    "duration": 735,
    "start_time": "2022-03-08T10:06:56.823Z"
   },
   {
    "duration": 9,
    "start_time": "2022-03-08T10:07:22.440Z"
   },
   {
    "duration": 4,
    "start_time": "2022-03-08T10:23:39.966Z"
   },
   {
    "duration": 12,
    "start_time": "2022-03-08T10:24:47.626Z"
   },
   {
    "duration": 11,
    "start_time": "2022-03-08T10:25:42.711Z"
   },
   {
    "duration": 12,
    "start_time": "2022-03-08T10:26:04.224Z"
   },
   {
    "duration": 11,
    "start_time": "2022-03-08T10:27:49.601Z"
   },
   {
    "duration": 245,
    "start_time": "2022-03-08T10:51:04.186Z"
   },
   {
    "duration": 6,
    "start_time": "2022-03-08T10:51:12.132Z"
   },
   {
    "duration": 89,
    "start_time": "2022-03-08T10:55:11.763Z"
   },
   {
    "duration": 7,
    "start_time": "2022-03-08T10:56:58.133Z"
   },
   {
    "duration": 82,
    "start_time": "2022-03-08T11:46:11.654Z"
   },
   {
    "duration": 747,
    "start_time": "2022-03-08T11:46:50.074Z"
   },
   {
    "duration": 558,
    "start_time": "2022-03-08T11:48:52.818Z"
   },
   {
    "duration": 678,
    "start_time": "2022-03-08T11:49:36.891Z"
   },
   {
    "duration": 562,
    "start_time": "2022-03-08T11:52:30.422Z"
   },
   {
    "duration": 22,
    "start_time": "2022-03-08T11:53:54.693Z"
   },
   {
    "duration": 627,
    "start_time": "2022-03-08T12:02:31.727Z"
   },
   {
    "duration": 979,
    "start_time": "2022-03-08T12:03:16.215Z"
   },
   {
    "duration": 687,
    "start_time": "2022-03-08T12:03:39.623Z"
   },
   {
    "duration": 1753,
    "start_time": "2022-03-08T12:09:18.331Z"
   },
   {
    "duration": 836,
    "start_time": "2022-03-08T12:11:39.302Z"
   },
   {
    "duration": 589,
    "start_time": "2022-03-08T12:14:53.465Z"
   },
   {
    "duration": -47,
    "start_time": "2022-03-08T12:14:54.103Z"
   },
   {
    "duration": 846,
    "start_time": "2022-03-08T12:16:08.233Z"
   },
   {
    "duration": 333,
    "start_time": "2022-03-08T12:17:07.283Z"
   },
   {
    "duration": 985,
    "start_time": "2022-03-08T12:27:39.396Z"
   },
   {
    "duration": 580,
    "start_time": "2022-03-08T12:28:27.725Z"
   },
   {
    "duration": 1215,
    "start_time": "2022-03-08T12:29:05.597Z"
   },
   {
    "duration": 9,
    "start_time": "2022-03-08T16:20:21.334Z"
   },
   {
    "duration": 6,
    "start_time": "2022-03-08T16:20:44.771Z"
   },
   {
    "duration": 8,
    "start_time": "2022-03-08T16:23:20.813Z"
   },
   {
    "duration": 6,
    "start_time": "2022-03-08T16:23:41.033Z"
   },
   {
    "duration": 9,
    "start_time": "2022-03-08T16:24:17.687Z"
   },
   {
    "duration": 4,
    "start_time": "2022-03-08T16:24:19.103Z"
   },
   {
    "duration": 10,
    "start_time": "2022-03-08T16:24:37.038Z"
   },
   {
    "duration": 5,
    "start_time": "2022-03-08T16:24:37.585Z"
   },
   {
    "duration": 4,
    "start_time": "2022-03-08T16:25:34.272Z"
   },
   {
    "duration": 215,
    "start_time": "2022-03-08T16:25:58.736Z"
   },
   {
    "duration": 5,
    "start_time": "2022-03-08T16:25:59.431Z"
   },
   {
    "duration": 7,
    "start_time": "2022-03-08T16:28:20.266Z"
   },
   {
    "duration": 398,
    "start_time": "2022-03-08T16:29:01.091Z"
   },
   {
    "duration": 8,
    "start_time": "2022-03-08T16:29:10.187Z"
   },
   {
    "duration": 4,
    "start_time": "2022-03-08T16:29:17.195Z"
   },
   {
    "duration": 8,
    "start_time": "2022-03-08T16:29:32.867Z"
   },
   {
    "duration": 4,
    "start_time": "2022-03-08T16:29:35.274Z"
   },
   {
    "duration": 8,
    "start_time": "2022-03-08T16:29:47.682Z"
   },
   {
    "duration": 7,
    "start_time": "2022-03-08T16:29:49.051Z"
   },
   {
    "duration": 7,
    "start_time": "2022-03-08T16:30:46.328Z"
   },
   {
    "duration": 5,
    "start_time": "2022-03-08T16:30:46.980Z"
   },
   {
    "duration": 6,
    "start_time": "2022-03-08T16:31:40.420Z"
   },
   {
    "duration": 6,
    "start_time": "2022-03-08T16:32:17.668Z"
   },
   {
    "duration": 6,
    "start_time": "2022-03-08T16:32:34.125Z"
   },
   {
    "duration": 229,
    "start_time": "2022-03-08T16:36:55.033Z"
   },
   {
    "duration": 5,
    "start_time": "2022-03-08T16:37:13.083Z"
   },
   {
    "duration": 6,
    "start_time": "2022-03-08T16:37:25.122Z"
   },
   {
    "duration": 6,
    "start_time": "2022-03-08T16:37:28.137Z"
   },
   {
    "duration": 228,
    "start_time": "2022-03-08T16:39:55.460Z"
   },
   {
    "duration": 6,
    "start_time": "2022-03-08T16:40:14.669Z"
   },
   {
    "duration": 4,
    "start_time": "2022-03-08T16:40:23.061Z"
   },
   {
    "duration": 6,
    "start_time": "2022-03-08T16:41:10.830Z"
   },
   {
    "duration": 4,
    "start_time": "2022-03-08T16:41:11.558Z"
   },
   {
    "duration": 1232,
    "start_time": "2022-03-08T16:44:41.236Z"
   },
   {
    "duration": 3,
    "start_time": "2022-03-08T16:44:42.470Z"
   },
   {
    "duration": 14,
    "start_time": "2022-03-08T16:44:42.475Z"
   },
   {
    "duration": 8,
    "start_time": "2022-03-08T16:44:42.492Z"
   },
   {
    "duration": 26,
    "start_time": "2022-03-08T16:44:42.502Z"
   },
   {
    "duration": 36,
    "start_time": "2022-03-08T16:44:42.530Z"
   },
   {
    "duration": 10,
    "start_time": "2022-03-08T16:44:42.568Z"
   },
   {
    "duration": 14,
    "start_time": "2022-03-08T16:44:42.583Z"
   },
   {
    "duration": 20,
    "start_time": "2022-03-08T16:44:42.600Z"
   },
   {
    "duration": 55,
    "start_time": "2022-03-08T16:44:42.622Z"
   },
   {
    "duration": 17,
    "start_time": "2022-03-08T16:44:42.679Z"
   },
   {
    "duration": 14,
    "start_time": "2022-03-08T16:44:42.698Z"
   },
   {
    "duration": 7,
    "start_time": "2022-03-08T16:44:42.715Z"
   },
   {
    "duration": 42,
    "start_time": "2022-03-08T16:44:42.724Z"
   },
   {
    "duration": 10,
    "start_time": "2022-03-08T16:44:42.768Z"
   },
   {
    "duration": 9,
    "start_time": "2022-03-08T16:44:42.780Z"
   },
   {
    "duration": 12,
    "start_time": "2022-03-08T16:44:42.790Z"
   },
   {
    "duration": 5,
    "start_time": "2022-03-08T16:44:42.804Z"
   },
   {
    "duration": 15,
    "start_time": "2022-03-08T16:44:42.810Z"
   },
   {
    "duration": 44,
    "start_time": "2022-03-08T16:44:42.827Z"
   },
   {
    "duration": 2,
    "start_time": "2022-03-08T16:44:42.873Z"
   },
   {
    "duration": 24,
    "start_time": "2022-03-08T16:44:42.877Z"
   },
   {
    "duration": 361,
    "start_time": "2022-03-08T16:44:42.904Z"
   },
   {
    "duration": 6,
    "start_time": "2022-03-08T16:44:43.268Z"
   },
   {
    "duration": 3627,
    "start_time": "2022-03-08T16:44:43.276Z"
   },
   {
    "duration": 16,
    "start_time": "2022-03-08T16:44:46.904Z"
   },
   {
    "duration": 22,
    "start_time": "2022-03-08T16:44:46.921Z"
   },
   {
    "duration": 214,
    "start_time": "2022-03-08T16:44:46.944Z"
   },
   {
    "duration": 7,
    "start_time": "2022-03-08T16:44:47.162Z"
   },
   {
    "duration": 769,
    "start_time": "2022-03-08T16:44:47.171Z"
   },
   {
    "duration": 8,
    "start_time": "2022-03-08T16:44:47.941Z"
   },
   {
    "duration": 697,
    "start_time": "2022-03-08T16:44:47.951Z"
   },
   {
    "duration": 17,
    "start_time": "2022-03-08T16:44:48.649Z"
   },
   {
    "duration": 636,
    "start_time": "2022-03-08T16:44:48.667Z"
   },
   {
    "duration": 3,
    "start_time": "2022-03-08T16:44:49.305Z"
   },
   {
    "duration": 15,
    "start_time": "2022-03-08T16:44:49.310Z"
   },
   {
    "duration": 13,
    "start_time": "2022-03-08T16:44:49.327Z"
   },
   {
    "duration": 34,
    "start_time": "2022-03-08T16:44:49.341Z"
   },
   {
    "duration": 12,
    "start_time": "2022-03-08T16:44:49.377Z"
   },
   {
    "duration": 11,
    "start_time": "2022-03-08T16:44:49.390Z"
   },
   {
    "duration": 11,
    "start_time": "2022-03-08T16:44:49.402Z"
   },
   {
    "duration": 6,
    "start_time": "2022-03-08T16:44:49.415Z"
   },
   {
    "duration": 42,
    "start_time": "2022-03-08T16:44:49.423Z"
   },
   {
    "duration": 1515,
    "start_time": "2022-03-08T16:44:49.467Z"
   },
   {
    "duration": 5,
    "start_time": "2022-03-08T16:44:50.984Z"
   },
   {
    "duration": 5,
    "start_time": "2022-03-08T16:44:50.991Z"
   },
   {
    "duration": 7,
    "start_time": "2022-03-08T16:44:50.998Z"
   },
   {
    "duration": 9,
    "start_time": "2022-03-08T16:44:51.007Z"
   },
   {
    "duration": 9,
    "start_time": "2022-03-08T16:45:11.373Z"
   },
   {
    "duration": 5,
    "start_time": "2022-03-08T16:45:13.492Z"
   },
   {
    "duration": 4,
    "start_time": "2022-03-08T16:45:27.756Z"
   },
   {
    "duration": 5,
    "start_time": "2022-03-08T16:45:31.004Z"
   },
   {
    "duration": 7,
    "start_time": "2022-03-08T16:45:58.316Z"
   },
   {
    "duration": 10,
    "start_time": "2022-03-08T16:46:00.261Z"
   },
   {
    "duration": 5,
    "start_time": "2022-03-08T16:46:00.772Z"
   },
   {
    "duration": 8,
    "start_time": "2022-03-08T16:48:19.560Z"
   },
   {
    "duration": 6,
    "start_time": "2022-03-08T16:48:43.839Z"
   },
   {
    "duration": 4,
    "start_time": "2022-03-08T16:48:44.487Z"
   },
   {
    "duration": 6,
    "start_time": "2022-03-08T16:48:59.910Z"
   },
   {
    "duration": 9,
    "start_time": "2022-03-08T16:49:42.962Z"
   },
   {
    "duration": 6,
    "start_time": "2022-03-08T16:49:48.168Z"
   },
   {
    "duration": 5,
    "start_time": "2022-03-08T16:49:56.584Z"
   },
   {
    "duration": 6,
    "start_time": "2022-03-08T16:49:58.015Z"
   },
   {
    "duration": 5,
    "start_time": "2022-03-08T16:50:00.146Z"
   },
   {
    "duration": 1501,
    "start_time": "2022-03-08T16:51:25.058Z"
   },
   {
    "duration": 4,
    "start_time": "2022-03-08T16:51:26.561Z"
   },
   {
    "duration": 16,
    "start_time": "2022-03-08T16:51:26.568Z"
   },
   {
    "duration": 8,
    "start_time": "2022-03-08T16:51:26.587Z"
   },
   {
    "duration": 35,
    "start_time": "2022-03-08T16:51:26.596Z"
   },
   {
    "duration": 11,
    "start_time": "2022-03-08T16:51:26.632Z"
   },
   {
    "duration": 7,
    "start_time": "2022-03-08T16:51:26.663Z"
   },
   {
    "duration": 14,
    "start_time": "2022-03-08T16:51:26.673Z"
   },
   {
    "duration": 13,
    "start_time": "2022-03-08T16:51:26.689Z"
   },
   {
    "duration": 19,
    "start_time": "2022-03-08T16:51:26.704Z"
   },
   {
    "duration": 11,
    "start_time": "2022-03-08T16:51:26.725Z"
   },
   {
    "duration": 10,
    "start_time": "2022-03-08T16:51:26.763Z"
   },
   {
    "duration": 6,
    "start_time": "2022-03-08T16:51:26.775Z"
   },
   {
    "duration": 14,
    "start_time": "2022-03-08T16:51:26.782Z"
   },
   {
    "duration": 10,
    "start_time": "2022-03-08T16:51:26.797Z"
   },
   {
    "duration": 9,
    "start_time": "2022-03-08T16:51:26.809Z"
   },
   {
    "duration": 43,
    "start_time": "2022-03-08T16:51:26.820Z"
   },
   {
    "duration": 5,
    "start_time": "2022-03-08T16:51:26.865Z"
   },
   {
    "duration": 16,
    "start_time": "2022-03-08T16:51:26.872Z"
   },
   {
    "duration": 13,
    "start_time": "2022-03-08T16:51:26.889Z"
   },
   {
    "duration": 2,
    "start_time": "2022-03-08T16:51:26.904Z"
   },
   {
    "duration": 17,
    "start_time": "2022-03-08T16:51:26.907Z"
   },
   {
    "duration": 367,
    "start_time": "2022-03-08T16:51:26.927Z"
   },
   {
    "duration": 6,
    "start_time": "2022-03-08T16:51:27.296Z"
   },
   {
    "duration": 3481,
    "start_time": "2022-03-08T16:51:27.303Z"
   },
   {
    "duration": 17,
    "start_time": "2022-03-08T16:51:30.786Z"
   },
   {
    "duration": 23,
    "start_time": "2022-03-08T16:51:30.805Z"
   },
   {
    "duration": 217,
    "start_time": "2022-03-08T16:51:30.830Z"
   },
   {
    "duration": 7,
    "start_time": "2022-03-08T16:51:31.049Z"
   },
   {
    "duration": 683,
    "start_time": "2022-03-08T16:51:31.063Z"
   },
   {
    "duration": 18,
    "start_time": "2022-03-08T16:51:31.748Z"
   },
   {
    "duration": 702,
    "start_time": "2022-03-08T16:51:31.768Z"
   },
   {
    "duration": 8,
    "start_time": "2022-03-08T16:51:32.472Z"
   },
   {
    "duration": 597,
    "start_time": "2022-03-08T16:51:32.482Z"
   },
   {
    "duration": 3,
    "start_time": "2022-03-08T16:51:33.081Z"
   },
   {
    "duration": 20,
    "start_time": "2022-03-08T16:51:33.086Z"
   },
   {
    "duration": 18,
    "start_time": "2022-03-08T16:51:33.109Z"
   },
   {
    "duration": 17,
    "start_time": "2022-03-08T16:51:33.129Z"
   },
   {
    "duration": 12,
    "start_time": "2022-03-08T16:51:33.163Z"
   },
   {
    "duration": 13,
    "start_time": "2022-03-08T16:51:33.178Z"
   },
   {
    "duration": 12,
    "start_time": "2022-03-08T16:51:33.194Z"
   },
   {
    "duration": 7,
    "start_time": "2022-03-08T16:51:33.209Z"
   },
   {
    "duration": 49,
    "start_time": "2022-03-08T16:51:33.218Z"
   },
   {
    "duration": 1503,
    "start_time": "2022-03-08T16:51:33.269Z"
   },
   {
    "duration": 5,
    "start_time": "2022-03-08T16:51:34.774Z"
   },
   {
    "duration": 8,
    "start_time": "2022-03-08T16:51:34.781Z"
   },
   {
    "duration": 10,
    "start_time": "2022-03-08T16:51:34.791Z"
   },
   {
    "duration": 9,
    "start_time": "2022-03-08T16:51:34.803Z"
   },
   {
    "duration": 6,
    "start_time": "2022-03-08T16:53:35.424Z"
   },
   {
    "duration": 7,
    "start_time": "2022-03-08T16:53:50.032Z"
   },
   {
    "duration": 4,
    "start_time": "2022-03-08T16:53:50.792Z"
   },
   {
    "duration": 5,
    "start_time": "2022-03-08T16:53:53.650Z"
   },
   {
    "duration": 7,
    "start_time": "2022-03-08T16:54:16.904Z"
   },
   {
    "duration": 4,
    "start_time": "2022-03-08T16:54:17.672Z"
   },
   {
    "duration": 10,
    "start_time": "2022-03-08T16:55:35.146Z"
   },
   {
    "duration": 4,
    "start_time": "2022-03-08T16:55:56.154Z"
   },
   {
    "duration": 6,
    "start_time": "2022-03-08T16:56:12.300Z"
   },
   {
    "duration": 5,
    "start_time": "2022-03-08T16:56:13.089Z"
   },
   {
    "duration": 4,
    "start_time": "2022-03-08T16:56:14.226Z"
   },
   {
    "duration": 79,
    "start_time": "2022-03-08T16:57:03.923Z"
   },
   {
    "duration": 6,
    "start_time": "2022-03-08T16:57:19.519Z"
   },
   {
    "duration": 99,
    "start_time": "2022-03-08T16:57:40.891Z"
   },
   {
    "duration": 68,
    "start_time": "2022-03-08T16:58:42.364Z"
   },
   {
    "duration": 333,
    "start_time": "2022-03-08T17:01:39.918Z"
   },
   {
    "duration": 8,
    "start_time": "2022-03-08T17:01:56.647Z"
   },
   {
    "duration": 5,
    "start_time": "2022-03-08T17:01:56.689Z"
   },
   {
    "duration": 4,
    "start_time": "2022-03-08T17:01:59.102Z"
   },
   {
    "duration": 8,
    "start_time": "2022-03-08T17:02:21.367Z"
   },
   {
    "duration": 7,
    "start_time": "2022-03-08T17:05:57.955Z"
   },
   {
    "duration": 5,
    "start_time": "2022-03-08T17:05:59.027Z"
   },
   {
    "duration": 7,
    "start_time": "2022-03-08T17:06:06.844Z"
   },
   {
    "duration": 9,
    "start_time": "2022-03-08T17:06:13.290Z"
   },
   {
    "duration": 4,
    "start_time": "2022-03-08T17:07:00.428Z"
   },
   {
    "duration": 8,
    "start_time": "2022-03-08T17:08:13.205Z"
   },
   {
    "duration": 5,
    "start_time": "2022-03-08T17:08:13.933Z"
   },
   {
    "duration": 5,
    "start_time": "2022-03-08T17:08:26.381Z"
   },
   {
    "duration": 7,
    "start_time": "2022-03-08T17:09:37.038Z"
   },
   {
    "duration": 1169,
    "start_time": "2022-03-08T17:10:16.193Z"
   },
   {
    "duration": 3,
    "start_time": "2022-03-08T17:10:17.364Z"
   },
   {
    "duration": 11,
    "start_time": "2022-03-08T17:10:17.373Z"
   },
   {
    "duration": 9,
    "start_time": "2022-03-08T17:10:17.386Z"
   },
   {
    "duration": 32,
    "start_time": "2022-03-08T17:10:17.396Z"
   },
   {
    "duration": 35,
    "start_time": "2022-03-08T17:10:17.429Z"
   },
   {
    "duration": 7,
    "start_time": "2022-03-08T17:10:17.466Z"
   },
   {
    "duration": 10,
    "start_time": "2022-03-08T17:10:17.475Z"
   },
   {
    "duration": 13,
    "start_time": "2022-03-08T17:10:17.486Z"
   },
   {
    "duration": 18,
    "start_time": "2022-03-08T17:10:17.501Z"
   },
   {
    "duration": 11,
    "start_time": "2022-03-08T17:10:17.520Z"
   },
   {
    "duration": 11,
    "start_time": "2022-03-08T17:10:17.563Z"
   },
   {
    "duration": 4,
    "start_time": "2022-03-08T17:10:17.576Z"
   },
   {
    "duration": 14,
    "start_time": "2022-03-08T17:10:17.581Z"
   },
   {
    "duration": 14,
    "start_time": "2022-03-08T17:10:17.596Z"
   },
   {
    "duration": 8,
    "start_time": "2022-03-08T17:10:17.611Z"
   },
   {
    "duration": 11,
    "start_time": "2022-03-08T17:10:17.620Z"
   },
   {
    "duration": 5,
    "start_time": "2022-03-08T17:10:17.632Z"
   },
   {
    "duration": 35,
    "start_time": "2022-03-08T17:10:17.638Z"
   },
   {
    "duration": 12,
    "start_time": "2022-03-08T17:10:17.674Z"
   },
   {
    "duration": 5,
    "start_time": "2022-03-08T17:10:17.687Z"
   },
   {
    "duration": 17,
    "start_time": "2022-03-08T17:10:17.695Z"
   },
   {
    "duration": 351,
    "start_time": "2022-03-08T17:10:17.714Z"
   },
   {
    "duration": 5,
    "start_time": "2022-03-08T17:10:18.067Z"
   },
   {
    "duration": 3274,
    "start_time": "2022-03-08T17:10:18.074Z"
   },
   {
    "duration": 25,
    "start_time": "2022-03-08T17:10:21.349Z"
   },
   {
    "duration": 21,
    "start_time": "2022-03-08T17:10:21.375Z"
   },
   {
    "duration": 200,
    "start_time": "2022-03-08T17:10:21.398Z"
   },
   {
    "duration": 7,
    "start_time": "2022-03-08T17:10:21.600Z"
   },
   {
    "duration": 723,
    "start_time": "2022-03-08T17:10:21.609Z"
   },
   {
    "duration": 8,
    "start_time": "2022-03-08T17:10:22.334Z"
   },
   {
    "duration": 605,
    "start_time": "2022-03-08T17:10:22.343Z"
   },
   {
    "duration": 13,
    "start_time": "2022-03-08T17:10:22.950Z"
   },
   {
    "duration": 595,
    "start_time": "2022-03-08T17:10:22.965Z"
   },
   {
    "duration": 3,
    "start_time": "2022-03-08T17:10:23.563Z"
   },
   {
    "duration": 16,
    "start_time": "2022-03-08T17:10:23.567Z"
   },
   {
    "duration": 9,
    "start_time": "2022-03-08T17:10:23.585Z"
   },
   {
    "duration": 10,
    "start_time": "2022-03-08T17:10:23.596Z"
   },
   {
    "duration": 9,
    "start_time": "2022-03-08T17:10:23.608Z"
   },
   {
    "duration": 9,
    "start_time": "2022-03-08T17:10:23.618Z"
   },
   {
    "duration": 43,
    "start_time": "2022-03-08T17:10:23.629Z"
   },
   {
    "duration": 6,
    "start_time": "2022-03-08T17:10:23.674Z"
   },
   {
    "duration": 8,
    "start_time": "2022-03-08T17:10:23.682Z"
   },
   {
    "duration": 1515,
    "start_time": "2022-03-08T17:10:23.692Z"
   },
   {
    "duration": 5,
    "start_time": "2022-03-08T17:10:25.208Z"
   },
   {
    "duration": 8,
    "start_time": "2022-03-08T17:10:25.216Z"
   },
   {
    "duration": 321,
    "start_time": "2022-03-08T17:10:25.226Z"
   },
   {
    "duration": 9,
    "start_time": "2022-03-08T17:11:09.875Z"
   },
   {
    "duration": 9,
    "start_time": "2022-03-08T17:15:01.215Z"
   },
   {
    "duration": 1608,
    "start_time": "2022-03-08T17:16:28.730Z"
   },
   {
    "duration": 1192,
    "start_time": "2022-03-08T17:17:16.771Z"
   },
   {
    "duration": 3,
    "start_time": "2022-03-08T17:17:17.965Z"
   },
   {
    "duration": 14,
    "start_time": "2022-03-08T17:17:17.970Z"
   },
   {
    "duration": 10,
    "start_time": "2022-03-08T17:17:17.986Z"
   },
   {
    "duration": 26,
    "start_time": "2022-03-08T17:17:17.998Z"
   },
   {
    "duration": 11,
    "start_time": "2022-03-08T17:17:18.026Z"
   },
   {
    "duration": 29,
    "start_time": "2022-03-08T17:17:18.039Z"
   },
   {
    "duration": 13,
    "start_time": "2022-03-08T17:17:18.071Z"
   },
   {
    "duration": 13,
    "start_time": "2022-03-08T17:17:18.086Z"
   },
   {
    "duration": 19,
    "start_time": "2022-03-08T17:17:18.101Z"
   },
   {
    "duration": 10,
    "start_time": "2022-03-08T17:17:18.122Z"
   },
   {
    "duration": 11,
    "start_time": "2022-03-08T17:17:18.162Z"
   },
   {
    "duration": 5,
    "start_time": "2022-03-08T17:17:18.175Z"
   },
   {
    "duration": 10,
    "start_time": "2022-03-08T17:17:18.182Z"
   },
   {
    "duration": 9,
    "start_time": "2022-03-08T17:17:18.194Z"
   },
   {
    "duration": 8,
    "start_time": "2022-03-08T17:17:18.205Z"
   },
   {
    "duration": 12,
    "start_time": "2022-03-08T17:17:18.215Z"
   },
   {
    "duration": 39,
    "start_time": "2022-03-08T17:17:18.229Z"
   },
   {
    "duration": 16,
    "start_time": "2022-03-08T17:17:18.269Z"
   },
   {
    "duration": 11,
    "start_time": "2022-03-08T17:17:18.286Z"
   },
   {
    "duration": 3,
    "start_time": "2022-03-08T17:17:18.299Z"
   },
   {
    "duration": 15,
    "start_time": "2022-03-08T17:17:18.304Z"
   },
   {
    "duration": 379,
    "start_time": "2022-03-08T17:17:18.324Z"
   },
   {
    "duration": 6,
    "start_time": "2022-03-08T17:17:18.706Z"
   },
   {
    "duration": 3586,
    "start_time": "2022-03-08T17:17:18.714Z"
   },
   {
    "duration": 16,
    "start_time": "2022-03-08T17:17:22.302Z"
   },
   {
    "duration": 44,
    "start_time": "2022-03-08T17:17:22.320Z"
   },
   {
    "duration": 200,
    "start_time": "2022-03-08T17:17:22.366Z"
   },
   {
    "duration": 9,
    "start_time": "2022-03-08T17:17:22.568Z"
   },
   {
    "duration": 692,
    "start_time": "2022-03-08T17:17:22.579Z"
   },
   {
    "duration": 9,
    "start_time": "2022-03-08T17:17:23.273Z"
   },
   {
    "duration": 668,
    "start_time": "2022-03-08T17:17:23.283Z"
   },
   {
    "duration": 17,
    "start_time": "2022-03-08T17:17:23.953Z"
   },
   {
    "duration": 603,
    "start_time": "2022-03-08T17:17:23.972Z"
   },
   {
    "duration": 3,
    "start_time": "2022-03-08T17:17:24.577Z"
   },
   {
    "duration": 14,
    "start_time": "2022-03-08T17:17:24.582Z"
   },
   {
    "duration": 10,
    "start_time": "2022-03-08T17:17:24.598Z"
   },
   {
    "duration": 11,
    "start_time": "2022-03-08T17:17:24.610Z"
   },
   {
    "duration": 41,
    "start_time": "2022-03-08T17:17:24.623Z"
   },
   {
    "duration": 13,
    "start_time": "2022-03-08T17:17:24.666Z"
   },
   {
    "duration": 10,
    "start_time": "2022-03-08T17:17:24.680Z"
   },
   {
    "duration": 5,
    "start_time": "2022-03-08T17:17:24.691Z"
   },
   {
    "duration": 7,
    "start_time": "2022-03-08T17:17:24.698Z"
   },
   {
    "duration": 1542,
    "start_time": "2022-03-08T17:17:24.706Z"
   },
   {
    "duration": 17,
    "start_time": "2022-03-08T17:17:26.250Z"
   },
   {
    "duration": 11,
    "start_time": "2022-03-08T17:17:26.268Z"
   },
   {
    "duration": 18,
    "start_time": "2022-03-08T17:18:56.868Z"
   },
   {
    "duration": 1013,
    "start_time": "2022-03-08T17:19:36.696Z"
   },
   {
    "duration": 1068,
    "start_time": "2022-03-08T17:21:38.486Z"
   },
   {
    "duration": 1026,
    "start_time": "2022-03-08T17:22:08.648Z"
   },
   {
    "duration": 1038,
    "start_time": "2022-03-08T17:23:14.505Z"
   },
   {
    "duration": 1041,
    "start_time": "2022-03-08T17:24:44.521Z"
   },
   {
    "duration": 1506,
    "start_time": "2022-03-09T08:29:31.679Z"
   },
   {
    "duration": 4,
    "start_time": "2022-03-09T08:29:33.188Z"
   },
   {
    "duration": 33,
    "start_time": "2022-03-09T08:29:33.195Z"
   },
   {
    "duration": 26,
    "start_time": "2022-03-09T08:29:33.230Z"
   },
   {
    "duration": 54,
    "start_time": "2022-03-09T08:29:33.258Z"
   },
   {
    "duration": 14,
    "start_time": "2022-03-09T08:29:33.314Z"
   },
   {
    "duration": 17,
    "start_time": "2022-03-09T08:29:33.331Z"
   },
   {
    "duration": 23,
    "start_time": "2022-03-09T08:29:33.352Z"
   },
   {
    "duration": 27,
    "start_time": "2022-03-09T08:29:33.383Z"
   },
   {
    "duration": 29,
    "start_time": "2022-03-09T08:29:33.412Z"
   },
   {
    "duration": 20,
    "start_time": "2022-03-09T08:29:33.443Z"
   },
   {
    "duration": 28,
    "start_time": "2022-03-09T08:29:33.465Z"
   },
   {
    "duration": 20,
    "start_time": "2022-03-09T08:29:33.495Z"
   },
   {
    "duration": 21,
    "start_time": "2022-03-09T08:29:33.517Z"
   },
   {
    "duration": 22,
    "start_time": "2022-03-09T08:29:33.540Z"
   },
   {
    "duration": 31,
    "start_time": "2022-03-09T08:29:33.564Z"
   },
   {
    "duration": 30,
    "start_time": "2022-03-09T08:29:33.597Z"
   },
   {
    "duration": 17,
    "start_time": "2022-03-09T08:29:33.629Z"
   },
   {
    "duration": 42,
    "start_time": "2022-03-09T08:29:33.648Z"
   },
   {
    "duration": 22,
    "start_time": "2022-03-09T08:29:33.692Z"
   },
   {
    "duration": 17,
    "start_time": "2022-03-09T08:29:33.716Z"
   },
   {
    "duration": 42,
    "start_time": "2022-03-09T08:29:33.735Z"
   },
   {
    "duration": 568,
    "start_time": "2022-03-09T08:29:33.783Z"
   },
   {
    "duration": 7,
    "start_time": "2022-03-09T08:29:34.354Z"
   },
   {
    "duration": 5362,
    "start_time": "2022-03-09T08:29:34.363Z"
   },
   {
    "duration": 26,
    "start_time": "2022-03-09T08:29:39.728Z"
   },
   {
    "duration": 51,
    "start_time": "2022-03-09T08:29:39.756Z"
   },
   {
    "duration": 335,
    "start_time": "2022-03-09T08:29:39.810Z"
   },
   {
    "duration": 9,
    "start_time": "2022-03-09T08:29:40.147Z"
   },
   {
    "duration": 955,
    "start_time": "2022-03-09T08:29:40.159Z"
   },
   {
    "duration": 11,
    "start_time": "2022-03-09T08:29:41.117Z"
   },
   {
    "duration": 985,
    "start_time": "2022-03-09T08:29:41.130Z"
   },
   {
    "duration": 12,
    "start_time": "2022-03-09T08:29:42.117Z"
   },
   {
    "duration": 1014,
    "start_time": "2022-03-09T08:29:42.131Z"
   },
   {
    "duration": 4,
    "start_time": "2022-03-09T08:29:43.148Z"
   },
   {
    "duration": 36,
    "start_time": "2022-03-09T08:29:43.155Z"
   },
   {
    "duration": 14,
    "start_time": "2022-03-09T08:29:43.194Z"
   },
   {
    "duration": 19,
    "start_time": "2022-03-09T08:29:43.210Z"
   },
   {
    "duration": 17,
    "start_time": "2022-03-09T08:29:43.231Z"
   },
   {
    "duration": 43,
    "start_time": "2022-03-09T08:29:43.250Z"
   },
   {
    "duration": 17,
    "start_time": "2022-03-09T08:29:43.295Z"
   },
   {
    "duration": 9,
    "start_time": "2022-03-09T08:29:43.314Z"
   },
   {
    "duration": 16,
    "start_time": "2022-03-09T08:29:43.326Z"
   },
   {
    "duration": 1738,
    "start_time": "2022-03-09T08:29:43.344Z"
   },
   {
    "duration": 14,
    "start_time": "2022-03-09T08:29:45.084Z"
   },
   {
    "duration": 28,
    "start_time": "2022-03-09T08:29:45.101Z"
   },
   {
    "duration": 10,
    "start_time": "2022-03-09T17:07:28.332Z"
   },
   {
    "duration": 8,
    "start_time": "2022-03-09T17:07:56.803Z"
   },
   {
    "duration": 6,
    "start_time": "2022-03-09T17:08:10.607Z"
   },
   {
    "duration": 8,
    "start_time": "2022-03-09T17:08:17.403Z"
   },
   {
    "duration": 442,
    "start_time": "2022-03-09T17:08:41.729Z"
   },
   {
    "duration": 278,
    "start_time": "2022-03-09T17:08:51.970Z"
   },
   {
    "duration": 296,
    "start_time": "2022-03-09T17:08:58.448Z"
   },
   {
    "duration": 269,
    "start_time": "2022-03-09T17:09:58.583Z"
   },
   {
    "duration": 12,
    "start_time": "2022-03-09T17:10:16.020Z"
   },
   {
    "duration": 12,
    "start_time": "2022-03-09T17:10:49.787Z"
   },
   {
    "duration": 36,
    "start_time": "2022-03-09T17:11:28.282Z"
   },
   {
    "duration": 210,
    "start_time": "2022-03-10T17:29:10.326Z"
   },
   {
    "duration": 1141,
    "start_time": "2022-03-10T17:29:17.285Z"
   },
   {
    "duration": 4,
    "start_time": "2022-03-10T17:29:18.428Z"
   },
   {
    "duration": 10,
    "start_time": "2022-03-10T17:29:18.434Z"
   },
   {
    "duration": 8,
    "start_time": "2022-03-10T17:29:18.446Z"
   },
   {
    "duration": 26,
    "start_time": "2022-03-10T17:29:18.455Z"
   },
   {
    "duration": 10,
    "start_time": "2022-03-10T17:29:18.483Z"
   },
   {
    "duration": 6,
    "start_time": "2022-03-10T17:29:18.495Z"
   },
   {
    "duration": 14,
    "start_time": "2022-03-10T17:29:18.534Z"
   },
   {
    "duration": 19,
    "start_time": "2022-03-10T17:29:18.550Z"
   },
   {
    "duration": 9,
    "start_time": "2022-03-10T17:29:18.571Z"
   },
   {
    "duration": 9,
    "start_time": "2022-03-10T17:29:18.582Z"
   },
   {
    "duration": 8,
    "start_time": "2022-03-10T17:29:18.593Z"
   },
   {
    "duration": 35,
    "start_time": "2022-03-10T17:29:18.602Z"
   },
   {
    "duration": 9,
    "start_time": "2022-03-10T17:29:18.638Z"
   },
   {
    "duration": 5,
    "start_time": "2022-03-10T17:29:18.649Z"
   },
   {
    "duration": 14,
    "start_time": "2022-03-10T17:29:18.655Z"
   },
   {
    "duration": 8,
    "start_time": "2022-03-10T17:29:18.670Z"
   },
   {
    "duration": 2,
    "start_time": "2022-03-10T17:29:18.680Z"
   },
   {
    "duration": 14,
    "start_time": "2022-03-10T17:29:18.683Z"
   },
   {
    "duration": 378,
    "start_time": "2022-03-10T17:29:18.699Z"
   },
   {
    "duration": 6,
    "start_time": "2022-03-10T17:29:19.079Z"
   },
   {
    "duration": 3372,
    "start_time": "2022-03-10T17:29:19.087Z"
   },
   {
    "duration": 16,
    "start_time": "2022-03-10T17:29:22.462Z"
   },
   {
    "duration": 22,
    "start_time": "2022-03-10T17:29:22.479Z"
   },
   {
    "duration": 267,
    "start_time": "2022-03-10T17:29:22.503Z"
   },
   {
    "duration": 19,
    "start_time": "2022-03-10T17:29:22.772Z"
   },
   {
    "duration": 6,
    "start_time": "2022-03-10T17:29:22.792Z"
   },
   {
    "duration": 596,
    "start_time": "2022-03-10T17:29:22.800Z"
   },
   {
    "duration": 8,
    "start_time": "2022-03-10T17:29:23.397Z"
   },
   {
    "duration": 592,
    "start_time": "2022-03-10T17:29:23.407Z"
   },
   {
    "duration": 7,
    "start_time": "2022-03-10T17:29:24.001Z"
   },
   {
    "duration": 604,
    "start_time": "2022-03-10T17:29:24.010Z"
   },
   {
    "duration": 3,
    "start_time": "2022-03-10T17:29:24.616Z"
   },
   {
    "duration": 18,
    "start_time": "2022-03-10T17:29:24.621Z"
   },
   {
    "duration": 9,
    "start_time": "2022-03-10T17:29:24.641Z"
   },
   {
    "duration": 10,
    "start_time": "2022-03-10T17:29:24.651Z"
   },
   {
    "duration": 9,
    "start_time": "2022-03-10T17:29:24.662Z"
   },
   {
    "duration": 9,
    "start_time": "2022-03-10T17:29:24.673Z"
   },
   {
    "duration": 9,
    "start_time": "2022-03-10T17:29:24.684Z"
   },
   {
    "duration": 6,
    "start_time": "2022-03-10T17:29:24.733Z"
   },
   {
    "duration": 7,
    "start_time": "2022-03-10T17:29:24.741Z"
   },
   {
    "duration": 1019,
    "start_time": "2022-03-10T17:29:24.750Z"
   },
   {
    "duration": 9,
    "start_time": "2022-03-10T17:29:25.771Z"
   },
   {
    "duration": 7,
    "start_time": "2022-03-10T17:29:25.782Z"
   },
   {
    "duration": 10,
    "start_time": "2022-03-10T18:21:35.333Z"
   },
   {
    "duration": 35,
    "start_time": "2022-03-10T18:21:59.014Z"
   },
   {
    "duration": 1059,
    "start_time": "2022-03-10T18:22:13.567Z"
   },
   {
    "duration": 10,
    "start_time": "2022-03-10T18:22:14.627Z"
   },
   {
    "duration": 26,
    "start_time": "2022-03-10T18:22:14.638Z"
   },
   {
    "duration": 3,
    "start_time": "2022-03-10T18:22:14.666Z"
   },
   {
    "duration": 13,
    "start_time": "2022-03-10T18:22:14.670Z"
   },
   {
    "duration": 10,
    "start_time": "2022-03-10T18:22:14.684Z"
   },
   {
    "duration": 6,
    "start_time": "2022-03-10T18:22:14.695Z"
   },
   {
    "duration": 41,
    "start_time": "2022-03-10T18:22:14.703Z"
   },
   {
    "duration": 18,
    "start_time": "2022-03-10T18:22:14.746Z"
   },
   {
    "duration": 4,
    "start_time": "2022-03-10T18:22:14.766Z"
   },
   {
    "duration": 13,
    "start_time": "2022-03-10T18:22:14.772Z"
   },
   {
    "duration": 9,
    "start_time": "2022-03-10T18:22:14.787Z"
   },
   {
    "duration": 7,
    "start_time": "2022-03-10T18:22:14.798Z"
   },
   {
    "duration": 32,
    "start_time": "2022-03-10T18:22:14.807Z"
   },
   {
    "duration": 6,
    "start_time": "2022-03-10T18:22:14.841Z"
   },
   {
    "duration": 23,
    "start_time": "2022-03-10T18:22:14.848Z"
   },
   {
    "duration": 10,
    "start_time": "2022-03-10T18:22:14.873Z"
   },
   {
    "duration": 3,
    "start_time": "2022-03-10T18:22:14.885Z"
   },
   {
    "duration": 50,
    "start_time": "2022-03-10T18:22:14.889Z"
   },
   {
    "duration": 360,
    "start_time": "2022-03-10T18:22:14.941Z"
   },
   {
    "duration": 6,
    "start_time": "2022-03-10T18:22:15.302Z"
   },
   {
    "duration": 3386,
    "start_time": "2022-03-10T18:22:15.309Z"
   },
   {
    "duration": 17,
    "start_time": "2022-03-10T18:22:18.698Z"
   },
   {
    "duration": 37,
    "start_time": "2022-03-10T18:22:18.717Z"
   },
   {
    "duration": 259,
    "start_time": "2022-03-10T18:22:18.755Z"
   },
   {
    "duration": 29,
    "start_time": "2022-03-10T18:22:19.016Z"
   },
   {
    "duration": 6,
    "start_time": "2022-03-10T18:22:19.047Z"
   },
   {
    "duration": 637,
    "start_time": "2022-03-10T18:22:19.055Z"
   },
   {
    "duration": 9,
    "start_time": "2022-03-10T18:22:19.693Z"
   },
   {
    "duration": 612,
    "start_time": "2022-03-10T18:22:19.704Z"
   },
   {
    "duration": 16,
    "start_time": "2022-03-10T18:22:20.318Z"
   },
   {
    "duration": 571,
    "start_time": "2022-03-10T18:22:20.336Z"
   },
   {
    "duration": 3,
    "start_time": "2022-03-10T18:22:20.909Z"
   },
   {
    "duration": 24,
    "start_time": "2022-03-10T18:22:20.914Z"
   },
   {
    "duration": 10,
    "start_time": "2022-03-10T18:22:20.940Z"
   },
   {
    "duration": 10,
    "start_time": "2022-03-10T18:22:20.951Z"
   },
   {
    "duration": 10,
    "start_time": "2022-03-10T18:22:20.962Z"
   },
   {
    "duration": 9,
    "start_time": "2022-03-10T18:22:20.974Z"
   },
   {
    "duration": 9,
    "start_time": "2022-03-10T18:22:20.985Z"
   },
   {
    "duration": 39,
    "start_time": "2022-03-10T18:22:20.995Z"
   },
   {
    "duration": 6,
    "start_time": "2022-03-10T18:22:21.035Z"
   },
   {
    "duration": 1179,
    "start_time": "2022-03-10T18:22:21.043Z"
   },
   {
    "duration": 13,
    "start_time": "2022-03-10T18:22:22.223Z"
   },
   {
    "duration": 12,
    "start_time": "2022-03-10T18:22:22.238Z"
   },
   {
    "duration": 1560,
    "start_time": "2022-03-16T13:00:36.019Z"
   },
   {
    "duration": 14,
    "start_time": "2022-03-16T13:00:37.582Z"
   },
   {
    "duration": 58,
    "start_time": "2022-03-16T13:00:37.599Z"
   },
   {
    "duration": 4,
    "start_time": "2022-03-16T13:00:37.660Z"
   },
   {
    "duration": 17,
    "start_time": "2022-03-16T13:00:37.668Z"
   },
   {
    "duration": 16,
    "start_time": "2022-03-16T13:00:37.688Z"
   },
   {
    "duration": 46,
    "start_time": "2022-03-16T13:00:37.707Z"
   },
   {
    "duration": 19,
    "start_time": "2022-03-16T13:00:37.756Z"
   },
   {
    "duration": 28,
    "start_time": "2022-03-16T13:00:37.779Z"
   },
   {
    "duration": 7,
    "start_time": "2022-03-16T13:00:37.810Z"
   },
   {
    "duration": 37,
    "start_time": "2022-03-16T13:00:37.820Z"
   },
   {
    "duration": 16,
    "start_time": "2022-03-16T13:00:37.860Z"
   },
   {
    "duration": 13,
    "start_time": "2022-03-16T13:00:37.879Z"
   },
   {
    "duration": 20,
    "start_time": "2022-03-16T13:00:37.894Z"
   },
   {
    "duration": 40,
    "start_time": "2022-03-16T13:00:37.917Z"
   },
   {
    "duration": 19,
    "start_time": "2022-03-16T13:00:37.960Z"
   },
   {
    "duration": 15,
    "start_time": "2022-03-16T13:00:37.982Z"
   },
   {
    "duration": 4,
    "start_time": "2022-03-16T13:00:37.999Z"
   },
   {
    "duration": 60,
    "start_time": "2022-03-16T13:00:38.005Z"
   },
   {
    "duration": 768,
    "start_time": "2022-03-16T13:00:38.067Z"
   },
   {
    "duration": 19,
    "start_time": "2022-03-16T13:00:38.837Z"
   },
   {
    "duration": 9151,
    "start_time": "2022-03-16T13:00:38.858Z"
   },
   {
    "duration": 39,
    "start_time": "2022-03-16T13:00:48.012Z"
   },
   {
    "duration": 52,
    "start_time": "2022-03-16T13:00:48.054Z"
   },
   {
    "duration": 353,
    "start_time": "2022-03-16T13:00:48.109Z"
   },
   {
    "duration": 40,
    "start_time": "2022-03-16T13:00:48.465Z"
   },
   {
    "duration": 11,
    "start_time": "2022-03-16T13:00:48.510Z"
   },
   {
    "duration": 1194,
    "start_time": "2022-03-16T13:00:48.524Z"
   },
   {
    "duration": 12,
    "start_time": "2022-03-16T13:00:49.721Z"
   },
   {
    "duration": 938,
    "start_time": "2022-03-16T13:00:49.752Z"
   },
   {
    "duration": 11,
    "start_time": "2022-03-16T13:00:50.693Z"
   },
   {
    "duration": 1032,
    "start_time": "2022-03-16T13:00:50.708Z"
   },
   {
    "duration": 10,
    "start_time": "2022-03-16T13:00:51.742Z"
   },
   {
    "duration": 20,
    "start_time": "2022-03-16T13:00:51.755Z"
   },
   {
    "duration": 16,
    "start_time": "2022-03-16T13:00:51.778Z"
   },
   {
    "duration": 18,
    "start_time": "2022-03-16T13:00:51.796Z"
   },
   {
    "duration": 16,
    "start_time": "2022-03-16T13:00:51.851Z"
   },
   {
    "duration": 17,
    "start_time": "2022-03-16T13:00:51.870Z"
   },
   {
    "duration": 18,
    "start_time": "2022-03-16T13:00:51.890Z"
   },
   {
    "duration": 48,
    "start_time": "2022-03-16T13:00:51.911Z"
   },
   {
    "duration": 18,
    "start_time": "2022-03-16T13:00:51.962Z"
   },
   {
    "duration": 2049,
    "start_time": "2022-03-16T13:00:51.982Z"
   },
   {
    "duration": 28,
    "start_time": "2022-03-16T13:00:54.034Z"
   },
   {
    "duration": 16,
    "start_time": "2022-03-16T13:00:54.065Z"
   },
   {
    "duration": 1452,
    "start_time": "2022-03-16T14:47:02.475Z"
   },
   {
    "duration": 14,
    "start_time": "2022-03-16T14:47:03.930Z"
   },
   {
    "duration": 45,
    "start_time": "2022-03-16T14:47:03.952Z"
   },
   {
    "duration": 5,
    "start_time": "2022-03-16T14:47:04.000Z"
   },
   {
    "duration": 15,
    "start_time": "2022-03-16T14:47:04.008Z"
   },
   {
    "duration": 16,
    "start_time": "2022-03-16T14:47:04.052Z"
   },
   {
    "duration": 4,
    "start_time": "2022-03-16T14:47:04.070Z"
   },
   {
    "duration": 13,
    "start_time": "2022-03-16T14:47:04.077Z"
   },
   {
    "duration": 21,
    "start_time": "2022-03-16T14:47:04.093Z"
   },
   {
    "duration": 61,
    "start_time": "2022-03-16T14:47:04.116Z"
   },
   {
    "duration": 7,
    "start_time": "2022-03-16T14:47:04.180Z"
   },
   {
    "duration": 14,
    "start_time": "2022-03-16T14:47:04.190Z"
   },
   {
    "duration": 52,
    "start_time": "2022-03-16T14:47:04.207Z"
   },
   {
    "duration": 13,
    "start_time": "2022-03-16T14:47:04.261Z"
   },
   {
    "duration": 16,
    "start_time": "2022-03-16T14:47:04.276Z"
   },
   {
    "duration": 8,
    "start_time": "2022-03-16T14:47:04.294Z"
   },
   {
    "duration": 59,
    "start_time": "2022-03-16T14:47:04.304Z"
   },
   {
    "duration": 14,
    "start_time": "2022-03-16T14:47:04.365Z"
   },
   {
    "duration": 3,
    "start_time": "2022-03-16T14:47:04.381Z"
   },
   {
    "duration": 28,
    "start_time": "2022-03-16T14:47:04.386Z"
   },
   {
    "duration": 597,
    "start_time": "2022-03-16T14:47:04.417Z"
   },
   {
    "duration": 7,
    "start_time": "2022-03-16T14:47:05.017Z"
   },
   {
    "duration": 5139,
    "start_time": "2022-03-16T14:47:05.029Z"
   },
   {
    "duration": 23,
    "start_time": "2022-03-16T14:47:10.171Z"
   },
   {
    "duration": 58,
    "start_time": "2022-03-16T14:47:10.196Z"
   },
   {
    "duration": 332,
    "start_time": "2022-03-16T14:47:10.257Z"
   },
   {
    "duration": 33,
    "start_time": "2022-03-16T14:47:10.591Z"
   },
   {
    "duration": 26,
    "start_time": "2022-03-16T14:47:10.626Z"
   },
   {
    "duration": 1166,
    "start_time": "2022-03-16T14:47:10.654Z"
   },
   {
    "duration": 12,
    "start_time": "2022-03-16T14:47:11.823Z"
   },
   {
    "duration": 931,
    "start_time": "2022-03-16T14:47:11.852Z"
   },
   {
    "duration": 13,
    "start_time": "2022-03-16T14:47:12.785Z"
   },
   {
    "duration": 1154,
    "start_time": "2022-03-16T14:47:12.800Z"
   },
   {
    "duration": 4,
    "start_time": "2022-03-16T14:47:13.957Z"
   },
   {
    "duration": 19,
    "start_time": "2022-03-16T14:47:13.963Z"
   },
   {
    "duration": 15,
    "start_time": "2022-03-16T14:47:13.984Z"
   },
   {
    "duration": 52,
    "start_time": "2022-03-16T14:47:14.001Z"
   },
   {
    "duration": 17,
    "start_time": "2022-03-16T14:47:14.055Z"
   },
   {
    "duration": 15,
    "start_time": "2022-03-16T14:47:14.074Z"
   },
   {
    "duration": 14,
    "start_time": "2022-03-16T14:47:14.091Z"
   },
   {
    "duration": 44,
    "start_time": "2022-03-16T14:47:14.107Z"
   },
   {
    "duration": 9,
    "start_time": "2022-03-16T14:47:14.154Z"
   },
   {
    "duration": 1805,
    "start_time": "2022-03-16T14:47:14.165Z"
   },
   {
    "duration": 13,
    "start_time": "2022-03-16T14:47:15.973Z"
   },
   {
    "duration": 11,
    "start_time": "2022-03-16T14:47:15.989Z"
   },
   {
    "duration": 7,
    "start_time": "2022-03-16T14:52:21.806Z"
   },
   {
    "duration": 9,
    "start_time": "2022-03-16T14:52:44.815Z"
   },
   {
    "duration": 398,
    "start_time": "2022-03-16T14:53:23.245Z"
   },
   {
    "duration": 9,
    "start_time": "2022-03-16T14:55:14.453Z"
   },
   {
    "duration": 10,
    "start_time": "2022-03-16T14:56:02.489Z"
   },
   {
    "duration": 10,
    "start_time": "2022-03-16T14:56:17.481Z"
   },
   {
    "duration": 21,
    "start_time": "2022-03-16T14:59:01.952Z"
   },
   {
    "duration": 11,
    "start_time": "2022-03-16T15:01:52.941Z"
   },
   {
    "duration": 8,
    "start_time": "2022-03-16T15:02:13.152Z"
   },
   {
    "duration": 1863,
    "start_time": "2022-03-16T15:05:28.476Z"
   },
   {
    "duration": 16,
    "start_time": "2022-03-16T15:05:30.342Z"
   },
   {
    "duration": 60,
    "start_time": "2022-03-16T15:05:30.361Z"
   },
   {
    "duration": 4,
    "start_time": "2022-03-16T15:05:30.424Z"
   },
   {
    "duration": 29,
    "start_time": "2022-03-16T15:05:30.430Z"
   },
   {
    "duration": 16,
    "start_time": "2022-03-16T15:05:30.462Z"
   },
   {
    "duration": 4,
    "start_time": "2022-03-16T15:05:30.481Z"
   },
   {
    "duration": 18,
    "start_time": "2022-03-16T15:05:30.487Z"
   },
   {
    "duration": 43,
    "start_time": "2022-03-16T15:05:30.510Z"
   },
   {
    "duration": 110,
    "start_time": "2022-03-16T15:05:30.557Z"
   },
   {
    "duration": -417,
    "start_time": "2022-03-16T15:05:31.090Z"
   },
   {
    "duration": -419,
    "start_time": "2022-03-16T15:05:31.094Z"
   },
   {
    "duration": -423,
    "start_time": "2022-03-16T15:05:31.100Z"
   },
   {
    "duration": -438,
    "start_time": "2022-03-16T15:05:31.117Z"
   },
   {
    "duration": -443,
    "start_time": "2022-03-16T15:05:31.123Z"
   },
   {
    "duration": -447,
    "start_time": "2022-03-16T15:05:31.128Z"
   },
   {
    "duration": -451,
    "start_time": "2022-03-16T15:05:31.134Z"
   },
   {
    "duration": -454,
    "start_time": "2022-03-16T15:05:31.139Z"
   },
   {
    "duration": -460,
    "start_time": "2022-03-16T15:05:31.146Z"
   },
   {
    "duration": -463,
    "start_time": "2022-03-16T15:05:31.151Z"
   },
   {
    "duration": -466,
    "start_time": "2022-03-16T15:05:31.155Z"
   },
   {
    "duration": -470,
    "start_time": "2022-03-16T15:05:31.161Z"
   },
   {
    "duration": -476,
    "start_time": "2022-03-16T15:05:31.168Z"
   },
   {
    "duration": -494,
    "start_time": "2022-03-16T15:05:31.187Z"
   },
   {
    "duration": -498,
    "start_time": "2022-03-16T15:05:31.193Z"
   },
   {
    "duration": -504,
    "start_time": "2022-03-16T15:05:31.200Z"
   },
   {
    "duration": -508,
    "start_time": "2022-03-16T15:05:31.206Z"
   },
   {
    "duration": -516,
    "start_time": "2022-03-16T15:05:31.215Z"
   },
   {
    "duration": -519,
    "start_time": "2022-03-16T15:05:31.219Z"
   },
   {
    "duration": -522,
    "start_time": "2022-03-16T15:05:31.224Z"
   },
   {
    "duration": -527,
    "start_time": "2022-03-16T15:05:31.230Z"
   },
   {
    "duration": -531,
    "start_time": "2022-03-16T15:05:31.235Z"
   },
   {
    "duration": -534,
    "start_time": "2022-03-16T15:05:31.239Z"
   },
   {
    "duration": -547,
    "start_time": "2022-03-16T15:05:31.254Z"
   },
   {
    "duration": -555,
    "start_time": "2022-03-16T15:05:31.263Z"
   },
   {
    "duration": -559,
    "start_time": "2022-03-16T15:05:31.268Z"
   },
   {
    "duration": -523,
    "start_time": "2022-03-16T15:05:31.273Z"
   },
   {
    "duration": -532,
    "start_time": "2022-03-16T15:05:31.284Z"
   },
   {
    "duration": -539,
    "start_time": "2022-03-16T15:05:31.292Z"
   },
   {
    "duration": -544,
    "start_time": "2022-03-16T15:05:31.299Z"
   },
   {
    "duration": -549,
    "start_time": "2022-03-16T15:05:31.306Z"
   },
   {
    "duration": -554,
    "start_time": "2022-03-16T15:05:31.312Z"
   },
   {
    "duration": -557,
    "start_time": "2022-03-16T15:05:31.317Z"
   },
   {
    "duration": -565,
    "start_time": "2022-03-16T15:05:31.326Z"
   },
   {
    "duration": -569,
    "start_time": "2022-03-16T15:05:31.332Z"
   },
   {
    "duration": -584,
    "start_time": "2022-03-16T15:05:31.348Z"
   },
   {
    "duration": -587,
    "start_time": "2022-03-16T15:05:31.353Z"
   },
   {
    "duration": 1491,
    "start_time": "2022-03-16T15:05:52.131Z"
   },
   {
    "duration": 15,
    "start_time": "2022-03-16T15:05:53.625Z"
   },
   {
    "duration": 42,
    "start_time": "2022-03-16T15:05:53.652Z"
   },
   {
    "duration": 4,
    "start_time": "2022-03-16T15:05:53.698Z"
   },
   {
    "duration": 16,
    "start_time": "2022-03-16T15:05:53.705Z"
   },
   {
    "duration": 18,
    "start_time": "2022-03-16T15:05:53.752Z"
   },
   {
    "duration": 5,
    "start_time": "2022-03-16T15:05:53.772Z"
   },
   {
    "duration": 16,
    "start_time": "2022-03-16T15:05:53.781Z"
   },
   {
    "duration": 11,
    "start_time": "2022-03-16T15:05:53.801Z"
   },
   {
    "duration": 46,
    "start_time": "2022-03-16T15:05:53.814Z"
   },
   {
    "duration": 21,
    "start_time": "2022-03-16T15:05:53.863Z"
   },
   {
    "duration": 29,
    "start_time": "2022-03-16T15:05:53.886Z"
   },
   {
    "duration": 8,
    "start_time": "2022-03-16T15:05:53.950Z"
   },
   {
    "duration": 16,
    "start_time": "2022-03-16T15:05:53.961Z"
   },
   {
    "duration": 20,
    "start_time": "2022-03-16T15:05:53.979Z"
   },
   {
    "duration": 26,
    "start_time": "2022-03-16T15:05:54.002Z"
   },
   {
    "duration": 34,
    "start_time": "2022-03-16T15:05:54.031Z"
   },
   {
    "duration": 9,
    "start_time": "2022-03-16T15:05:54.069Z"
   },
   {
    "duration": 44,
    "start_time": "2022-03-16T15:05:54.081Z"
   },
   {
    "duration": 37,
    "start_time": "2022-03-16T15:05:54.128Z"
   },
   {
    "duration": 3,
    "start_time": "2022-03-16T15:05:54.168Z"
   },
   {
    "duration": 52,
    "start_time": "2022-03-16T15:05:54.173Z"
   },
   {
    "duration": 803,
    "start_time": "2022-03-16T15:05:54.232Z"
   },
   {
    "duration": 15,
    "start_time": "2022-03-16T15:05:55.039Z"
   },
   {
    "duration": 8528,
    "start_time": "2022-03-16T15:05:55.057Z"
   },
   {
    "duration": 25,
    "start_time": "2022-03-16T15:06:03.588Z"
   },
   {
    "duration": 72,
    "start_time": "2022-03-16T15:06:03.616Z"
   },
   {
    "duration": 460,
    "start_time": "2022-03-16T15:06:03.691Z"
   },
   {
    "duration": 45,
    "start_time": "2022-03-16T15:06:04.154Z"
   },
   {
    "duration": 12,
    "start_time": "2022-03-16T15:06:04.202Z"
   },
   {
    "duration": 1377,
    "start_time": "2022-03-16T15:06:04.217Z"
   },
   {
    "duration": 12,
    "start_time": "2022-03-16T15:06:05.597Z"
   },
   {
    "duration": 1046,
    "start_time": "2022-03-16T15:06:05.612Z"
   },
   {
    "duration": 12,
    "start_time": "2022-03-16T15:06:06.661Z"
   },
   {
    "duration": 1104,
    "start_time": "2022-03-16T15:06:06.676Z"
   },
   {
    "duration": 6,
    "start_time": "2022-03-16T15:06:07.783Z"
   },
   {
    "duration": 26,
    "start_time": "2022-03-16T15:06:07.792Z"
   },
   {
    "duration": 47,
    "start_time": "2022-03-16T15:06:07.821Z"
   },
   {
    "duration": 16,
    "start_time": "2022-03-16T15:06:07.871Z"
   },
   {
    "duration": 19,
    "start_time": "2022-03-16T15:06:07.889Z"
   },
   {
    "duration": 57,
    "start_time": "2022-03-16T15:06:07.911Z"
   },
   {
    "duration": 18,
    "start_time": "2022-03-16T15:06:07.971Z"
   },
   {
    "duration": 8,
    "start_time": "2022-03-16T15:06:07.992Z"
   },
   {
    "duration": 54,
    "start_time": "2022-03-16T15:06:08.003Z"
   },
   {
    "duration": 1831,
    "start_time": "2022-03-16T15:06:08.060Z"
   },
   {
    "duration": 14,
    "start_time": "2022-03-16T15:06:09.894Z"
   },
   {
    "duration": 41,
    "start_time": "2022-03-16T15:06:09.911Z"
   },
   {
    "duration": 58,
    "start_time": "2022-03-16T15:50:44.161Z"
   },
   {
    "duration": 11,
    "start_time": "2022-03-16T15:50:50.648Z"
   },
   {
    "duration": 30,
    "start_time": "2022-03-16T15:51:35.626Z"
   },
   {
    "duration": 7,
    "start_time": "2022-03-16T15:52:12.312Z"
   },
   {
    "duration": 6,
    "start_time": "2022-03-16T15:52:26.566Z"
   },
   {
    "duration": 6,
    "start_time": "2022-03-16T15:53:22.578Z"
   },
   {
    "duration": 1371,
    "start_time": "2022-03-17T09:58:40.193Z"
   },
   {
    "duration": 54,
    "start_time": "2022-03-17T09:58:41.566Z"
   },
   {
    "duration": 15,
    "start_time": "2022-03-17T09:58:41.622Z"
   },
   {
    "duration": 45,
    "start_time": "2022-03-17T09:58:41.639Z"
   },
   {
    "duration": 6,
    "start_time": "2022-03-17T09:58:41.686Z"
   },
   {
    "duration": 40,
    "start_time": "2022-03-17T09:58:41.694Z"
   },
   {
    "duration": 43,
    "start_time": "2022-03-17T09:58:41.736Z"
   },
   {
    "duration": 24,
    "start_time": "2022-03-17T09:58:41.781Z"
   },
   {
    "duration": 25,
    "start_time": "2022-03-17T09:58:41.807Z"
   },
   {
    "duration": 35,
    "start_time": "2022-03-17T09:58:41.837Z"
   },
   {
    "duration": 28,
    "start_time": "2022-03-17T09:58:41.874Z"
   },
   {
    "duration": 16,
    "start_time": "2022-03-17T09:58:41.904Z"
   },
   {
    "duration": 25,
    "start_time": "2022-03-17T09:58:41.921Z"
   },
   {
    "duration": 58,
    "start_time": "2022-03-17T09:58:41.948Z"
   },
   {
    "duration": 31,
    "start_time": "2022-03-17T09:58:42.008Z"
   },
   {
    "duration": 17,
    "start_time": "2022-03-17T09:58:42.041Z"
   },
   {
    "duration": 38,
    "start_time": "2022-03-17T09:58:42.060Z"
   },
   {
    "duration": 26,
    "start_time": "2022-03-17T09:58:42.100Z"
   },
   {
    "duration": 28,
    "start_time": "2022-03-17T09:58:42.127Z"
   },
   {
    "duration": 24,
    "start_time": "2022-03-17T09:58:42.157Z"
   },
   {
    "duration": 13,
    "start_time": "2022-03-17T09:58:42.183Z"
   },
   {
    "duration": 454,
    "start_time": "2022-03-17T09:58:42.198Z"
   },
   {
    "duration": 0,
    "start_time": "2022-03-17T09:58:42.655Z"
   },
   {
    "duration": 0,
    "start_time": "2022-03-17T09:58:42.656Z"
   },
   {
    "duration": 0,
    "start_time": "2022-03-17T09:58:42.657Z"
   },
   {
    "duration": 0,
    "start_time": "2022-03-17T09:58:42.658Z"
   },
   {
    "duration": 1,
    "start_time": "2022-03-17T09:58:42.662Z"
   },
   {
    "duration": 0,
    "start_time": "2022-03-17T09:58:42.663Z"
   },
   {
    "duration": 0,
    "start_time": "2022-03-17T09:58:42.664Z"
   },
   {
    "duration": 0,
    "start_time": "2022-03-17T09:58:42.665Z"
   },
   {
    "duration": 0,
    "start_time": "2022-03-17T09:58:42.666Z"
   },
   {
    "duration": 0,
    "start_time": "2022-03-17T09:58:42.667Z"
   },
   {
    "duration": 0,
    "start_time": "2022-03-17T09:58:42.668Z"
   },
   {
    "duration": 0,
    "start_time": "2022-03-17T09:58:42.669Z"
   },
   {
    "duration": 0,
    "start_time": "2022-03-17T09:58:42.670Z"
   },
   {
    "duration": 0,
    "start_time": "2022-03-17T09:58:42.671Z"
   },
   {
    "duration": 0,
    "start_time": "2022-03-17T09:58:42.672Z"
   },
   {
    "duration": 0,
    "start_time": "2022-03-17T09:58:42.673Z"
   },
   {
    "duration": 0,
    "start_time": "2022-03-17T09:58:42.674Z"
   },
   {
    "duration": 0,
    "start_time": "2022-03-17T09:58:42.675Z"
   },
   {
    "duration": 0,
    "start_time": "2022-03-17T09:58:42.676Z"
   },
   {
    "duration": 0,
    "start_time": "2022-03-17T09:58:42.677Z"
   },
   {
    "duration": 0,
    "start_time": "2022-03-17T09:58:42.678Z"
   },
   {
    "duration": 0,
    "start_time": "2022-03-17T09:58:42.679Z"
   },
   {
    "duration": 0,
    "start_time": "2022-03-17T09:58:42.680Z"
   },
   {
    "duration": 0,
    "start_time": "2022-03-17T09:58:42.680Z"
   },
   {
    "duration": 0,
    "start_time": "2022-03-17T09:58:42.681Z"
   },
   {
    "duration": 0,
    "start_time": "2022-03-17T09:58:42.683Z"
   },
   {
    "duration": 351,
    "start_time": "2022-03-17T09:59:51.051Z"
   },
   {
    "duration": 19,
    "start_time": "2022-03-17T10:12:30.685Z"
   },
   {
    "duration": 213,
    "start_time": "2022-03-17T10:13:08.997Z"
   },
   {
    "duration": 1126,
    "start_time": "2022-03-17T10:14:06.303Z"
   },
   {
    "duration": 51,
    "start_time": "2022-03-17T10:14:07.431Z"
   },
   {
    "duration": 15,
    "start_time": "2022-03-17T10:14:07.484Z"
   },
   {
    "duration": 25,
    "start_time": "2022-03-17T10:14:07.502Z"
   },
   {
    "duration": 3,
    "start_time": "2022-03-17T10:14:07.528Z"
   },
   {
    "duration": 33,
    "start_time": "2022-03-17T10:14:07.532Z"
   },
   {
    "duration": 11,
    "start_time": "2022-03-17T10:14:07.566Z"
   },
   {
    "duration": 4,
    "start_time": "2022-03-17T10:14:07.579Z"
   },
   {
    "duration": 5,
    "start_time": "2022-03-17T10:14:07.584Z"
   },
   {
    "duration": 10,
    "start_time": "2022-03-17T10:14:07.593Z"
   },
   {
    "duration": 16,
    "start_time": "2022-03-17T10:14:07.604Z"
   },
   {
    "duration": 2,
    "start_time": "2022-03-17T10:14:07.622Z"
   },
   {
    "duration": 40,
    "start_time": "2022-03-17T10:14:07.626Z"
   },
   {
    "duration": 10,
    "start_time": "2022-03-17T10:14:07.668Z"
   },
   {
    "duration": 9,
    "start_time": "2022-03-17T10:14:07.680Z"
   },
   {
    "duration": 9,
    "start_time": "2022-03-17T10:14:07.691Z"
   },
   {
    "duration": 14,
    "start_time": "2022-03-17T10:14:07.702Z"
   },
   {
    "duration": 5,
    "start_time": "2022-03-17T10:14:07.718Z"
   },
   {
    "duration": 42,
    "start_time": "2022-03-17T10:14:07.724Z"
   },
   {
    "duration": 24,
    "start_time": "2022-03-17T10:14:07.768Z"
   },
   {
    "duration": 2,
    "start_time": "2022-03-17T10:14:07.793Z"
   },
   {
    "duration": 218,
    "start_time": "2022-03-17T10:14:07.797Z"
   },
   {
    "duration": 276,
    "start_time": "2022-03-17T10:14:08.016Z"
   },
   {
    "duration": 5,
    "start_time": "2022-03-17T10:14:08.294Z"
   },
   {
    "duration": 2424,
    "start_time": "2022-03-17T10:14:08.301Z"
   },
   {
    "duration": 17,
    "start_time": "2022-03-17T10:14:10.726Z"
   },
   {
    "duration": 38,
    "start_time": "2022-03-17T10:14:10.744Z"
   },
   {
    "duration": 205,
    "start_time": "2022-03-17T10:14:10.785Z"
   },
   {
    "duration": 135,
    "start_time": "2022-03-17T10:14:10.992Z"
   },
   {
    "duration": 19,
    "start_time": "2022-03-17T10:14:11.129Z"
   },
   {
    "duration": 13,
    "start_time": "2022-03-17T10:14:11.150Z"
   },
   {
    "duration": 253,
    "start_time": "2022-03-17T10:14:11.165Z"
   },
   {
    "duration": 7,
    "start_time": "2022-03-17T10:14:11.420Z"
   },
   {
    "duration": 236,
    "start_time": "2022-03-17T10:14:11.429Z"
   },
   {
    "duration": 8,
    "start_time": "2022-03-17T10:14:11.667Z"
   },
   {
    "duration": 371,
    "start_time": "2022-03-17T10:14:11.676Z"
   },
   {
    "duration": 3,
    "start_time": "2022-03-17T10:14:12.049Z"
   },
   {
    "duration": 17,
    "start_time": "2022-03-17T10:14:12.054Z"
   },
   {
    "duration": 13,
    "start_time": "2022-03-17T10:14:12.072Z"
   },
   {
    "duration": 10,
    "start_time": "2022-03-17T10:14:12.086Z"
   },
   {
    "duration": 13,
    "start_time": "2022-03-17T10:14:12.098Z"
   },
   {
    "duration": 12,
    "start_time": "2022-03-17T10:14:12.112Z"
   },
   {
    "duration": 40,
    "start_time": "2022-03-17T10:14:12.125Z"
   },
   {
    "duration": 5,
    "start_time": "2022-03-17T10:14:12.167Z"
   },
   {
    "duration": 8,
    "start_time": "2022-03-17T10:14:12.173Z"
   },
   {
    "duration": 621,
    "start_time": "2022-03-17T10:14:12.183Z"
   },
   {
    "duration": 6,
    "start_time": "2022-03-17T10:14:12.806Z"
   },
   {
    "duration": 7,
    "start_time": "2022-03-17T10:14:12.814Z"
   },
   {
    "duration": 395,
    "start_time": "2022-03-17T10:18:14.306Z"
   },
   {
    "duration": 914,
    "start_time": "2022-03-17T10:18:34.841Z"
   },
   {
    "duration": 384,
    "start_time": "2022-03-17T10:18:49.161Z"
   },
   {
    "duration": 404,
    "start_time": "2022-03-17T10:19:43.761Z"
   },
   {
    "duration": 501,
    "start_time": "2022-03-17T10:19:54.153Z"
   },
   {
    "duration": 152,
    "start_time": "2022-03-17T10:20:15.555Z"
   },
   {
    "duration": 473,
    "start_time": "2022-03-17T10:20:21.051Z"
   },
   {
    "duration": 394,
    "start_time": "2022-03-17T10:20:32.508Z"
   },
   {
    "duration": 180,
    "start_time": "2022-03-17T10:20:53.666Z"
   },
   {
    "duration": 394,
    "start_time": "2022-03-17T10:21:01.219Z"
   },
   {
    "duration": 246,
    "start_time": "2022-03-17T10:21:09.851Z"
   },
   {
    "duration": 239,
    "start_time": "2022-03-17T10:21:22.467Z"
   },
   {
    "duration": 234,
    "start_time": "2022-03-17T10:21:46.987Z"
   },
   {
    "duration": 242,
    "start_time": "2022-03-17T10:23:15.510Z"
   },
   {
    "duration": 237,
    "start_time": "2022-03-17T10:23:22.180Z"
   },
   {
    "duration": 246,
    "start_time": "2022-03-17T10:23:33.358Z"
   },
   {
    "duration": 588,
    "start_time": "2022-03-17T10:23:42.653Z"
   },
   {
    "duration": 1188,
    "start_time": "2022-03-17T10:23:55.718Z"
   },
   {
    "duration": 709,
    "start_time": "2022-03-17T10:24:10.457Z"
   },
   {
    "duration": 508,
    "start_time": "2022-03-17T10:24:41.802Z"
   },
   {
    "duration": 504,
    "start_time": "2022-03-17T10:24:48.901Z"
   },
   {
    "duration": 501,
    "start_time": "2022-03-17T10:25:38.789Z"
   },
   {
    "duration": 530,
    "start_time": "2022-03-17T10:26:00.551Z"
   },
   {
    "duration": 5,
    "start_time": "2022-03-17T13:16:20.222Z"
   },
   {
    "duration": 1438,
    "start_time": "2022-03-17T16:17:35.112Z"
   },
   {
    "duration": 67,
    "start_time": "2022-03-17T16:17:36.552Z"
   },
   {
    "duration": 19,
    "start_time": "2022-03-17T16:17:36.621Z"
   },
   {
    "duration": 38,
    "start_time": "2022-03-17T16:17:36.642Z"
   },
   {
    "duration": 4,
    "start_time": "2022-03-17T16:17:36.682Z"
   },
   {
    "duration": 11,
    "start_time": "2022-03-17T16:17:36.688Z"
   },
   {
    "duration": 13,
    "start_time": "2022-03-17T16:17:36.701Z"
   },
   {
    "duration": 4,
    "start_time": "2022-03-17T16:17:36.715Z"
   },
   {
    "duration": 4,
    "start_time": "2022-03-17T16:17:36.721Z"
   },
   {
    "duration": 40,
    "start_time": "2022-03-17T16:17:36.730Z"
   },
   {
    "duration": 5,
    "start_time": "2022-03-17T16:17:36.772Z"
   },
   {
    "duration": 4,
    "start_time": "2022-03-17T16:17:36.779Z"
   },
   {
    "duration": 9,
    "start_time": "2022-03-17T16:17:36.785Z"
   },
   {
    "duration": 11,
    "start_time": "2022-03-17T16:17:36.796Z"
   },
   {
    "duration": 10,
    "start_time": "2022-03-17T16:17:36.809Z"
   },
   {
    "duration": 11,
    "start_time": "2022-03-17T16:17:36.820Z"
   },
   {
    "duration": 11,
    "start_time": "2022-03-17T16:17:36.867Z"
   },
   {
    "duration": 7,
    "start_time": "2022-03-17T16:17:36.879Z"
   },
   {
    "duration": 14,
    "start_time": "2022-03-17T16:17:36.887Z"
   },
   {
    "duration": 17,
    "start_time": "2022-03-17T16:17:36.903Z"
   },
   {
    "duration": 3,
    "start_time": "2022-03-17T16:17:36.921Z"
   },
   {
    "duration": 250,
    "start_time": "2022-03-17T16:17:36.926Z"
   },
   {
    "duration": 281,
    "start_time": "2022-03-17T16:17:37.178Z"
   },
   {
    "duration": 6,
    "start_time": "2022-03-17T16:17:37.463Z"
   },
   {
    "duration": 4034,
    "start_time": "2022-03-17T16:17:37.471Z"
   },
   {
    "duration": 19,
    "start_time": "2022-03-17T16:17:41.507Z"
   },
   {
    "duration": 43,
    "start_time": "2022-03-17T16:17:41.528Z"
   },
   {
    "duration": 215,
    "start_time": "2022-03-17T16:17:41.575Z"
   },
   {
    "duration": 852,
    "start_time": "2022-03-17T16:17:41.792Z"
   },
   {
    "duration": 29,
    "start_time": "2022-03-17T16:17:42.646Z"
   },
   {
    "duration": 6,
    "start_time": "2022-03-17T16:17:42.677Z"
   },
   {
    "duration": 311,
    "start_time": "2022-03-17T16:17:42.684Z"
   },
   {
    "duration": 0,
    "start_time": "2022-03-17T16:17:42.996Z"
   },
   {
    "duration": 0,
    "start_time": "2022-03-17T16:17:42.998Z"
   },
   {
    "duration": 0,
    "start_time": "2022-03-17T16:17:42.999Z"
   },
   {
    "duration": 0,
    "start_time": "2022-03-17T16:17:43.000Z"
   },
   {
    "duration": 0,
    "start_time": "2022-03-17T16:17:43.000Z"
   },
   {
    "duration": 0,
    "start_time": "2022-03-17T16:17:43.001Z"
   },
   {
    "duration": 0,
    "start_time": "2022-03-17T16:17:43.002Z"
   },
   {
    "duration": 0,
    "start_time": "2022-03-17T16:17:43.004Z"
   },
   {
    "duration": 0,
    "start_time": "2022-03-17T16:17:43.005Z"
   },
   {
    "duration": 0,
    "start_time": "2022-03-17T16:17:43.005Z"
   },
   {
    "duration": 0,
    "start_time": "2022-03-17T16:17:43.006Z"
   },
   {
    "duration": 0,
    "start_time": "2022-03-17T16:17:43.008Z"
   },
   {
    "duration": 0,
    "start_time": "2022-03-17T16:17:43.009Z"
   },
   {
    "duration": 0,
    "start_time": "2022-03-17T16:17:43.010Z"
   },
   {
    "duration": 0,
    "start_time": "2022-03-17T16:17:43.011Z"
   },
   {
    "duration": 0,
    "start_time": "2022-03-17T16:17:43.012Z"
   },
   {
    "duration": 0,
    "start_time": "2022-03-17T16:17:43.014Z"
   },
   {
    "duration": 0,
    "start_time": "2022-03-17T16:17:43.015Z"
   },
   {
    "duration": 0,
    "start_time": "2022-03-17T16:17:43.016Z"
   },
   {
    "duration": 0,
    "start_time": "2022-03-17T16:17:43.017Z"
   },
   {
    "duration": 0,
    "start_time": "2022-03-17T16:17:43.018Z"
   },
   {
    "duration": 0,
    "start_time": "2022-03-17T16:17:43.019Z"
   },
   {
    "duration": 0,
    "start_time": "2022-03-17T16:17:43.020Z"
   },
   {
    "duration": 14,
    "start_time": "2022-03-17T17:18:01.005Z"
   },
   {
    "duration": 5,
    "start_time": "2022-03-17T17:19:02.182Z"
   },
   {
    "duration": 35,
    "start_time": "2022-03-17T17:19:08.410Z"
   },
   {
    "duration": 639,
    "start_time": "2022-03-17T17:24:04.158Z"
   },
   {
    "duration": 4,
    "start_time": "2022-03-17T17:24:24.523Z"
   },
   {
    "duration": 13,
    "start_time": "2022-03-17T17:24:30.318Z"
   },
   {
    "duration": 1196,
    "start_time": "2022-03-17T17:36:32.054Z"
   },
   {
    "duration": 50,
    "start_time": "2022-03-17T17:36:33.252Z"
   },
   {
    "duration": 14,
    "start_time": "2022-03-17T17:36:33.303Z"
   },
   {
    "duration": 24,
    "start_time": "2022-03-17T17:36:33.319Z"
   },
   {
    "duration": 19,
    "start_time": "2022-03-17T17:36:33.344Z"
   },
   {
    "duration": 12,
    "start_time": "2022-03-17T17:36:33.365Z"
   },
   {
    "duration": 10,
    "start_time": "2022-03-17T17:36:33.378Z"
   },
   {
    "duration": 4,
    "start_time": "2022-03-17T17:36:33.389Z"
   },
   {
    "duration": 4,
    "start_time": "2022-03-17T17:36:33.394Z"
   },
   {
    "duration": 10,
    "start_time": "2022-03-17T17:36:33.402Z"
   },
   {
    "duration": 8,
    "start_time": "2022-03-17T17:36:33.414Z"
   },
   {
    "duration": 42,
    "start_time": "2022-03-17T17:36:33.424Z"
   },
   {
    "duration": 16,
    "start_time": "2022-03-17T17:36:33.468Z"
   },
   {
    "duration": 7,
    "start_time": "2022-03-17T17:36:33.486Z"
   },
   {
    "duration": 11,
    "start_time": "2022-03-17T17:36:33.495Z"
   },
   {
    "duration": 8,
    "start_time": "2022-03-17T17:36:33.508Z"
   },
   {
    "duration": 7,
    "start_time": "2022-03-17T17:36:33.518Z"
   },
   {
    "duration": 12,
    "start_time": "2022-03-17T17:36:33.527Z"
   },
   {
    "duration": 29,
    "start_time": "2022-03-17T17:36:33.541Z"
   },
   {
    "duration": 9,
    "start_time": "2022-03-17T17:36:33.572Z"
   },
   {
    "duration": 11,
    "start_time": "2022-03-17T17:36:33.582Z"
   },
   {
    "duration": 6,
    "start_time": "2022-03-17T17:36:33.594Z"
   },
   {
    "duration": 23,
    "start_time": "2022-03-17T17:36:33.601Z"
   },
   {
    "duration": 14,
    "start_time": "2022-03-17T17:36:33.626Z"
   },
   {
    "duration": 2,
    "start_time": "2022-03-17T17:36:33.662Z"
   },
   {
    "duration": 219,
    "start_time": "2022-03-17T17:36:33.666Z"
   },
   {
    "duration": 276,
    "start_time": "2022-03-17T17:36:33.887Z"
   },
   {
    "duration": 7,
    "start_time": "2022-03-17T17:36:34.167Z"
   },
   {
    "duration": 2474,
    "start_time": "2022-03-17T17:36:34.175Z"
   },
   {
    "duration": 19,
    "start_time": "2022-03-17T17:36:36.650Z"
   },
   {
    "duration": 20,
    "start_time": "2022-03-17T17:36:36.671Z"
   },
   {
    "duration": 232,
    "start_time": "2022-03-17T17:36:36.693Z"
   },
   {
    "duration": 577,
    "start_time": "2022-03-17T17:36:36.927Z"
   },
   {
    "duration": 22,
    "start_time": "2022-03-17T17:36:37.506Z"
   },
   {
    "duration": 5,
    "start_time": "2022-03-17T17:36:37.530Z"
   },
   {
    "duration": 318,
    "start_time": "2022-03-17T17:36:37.536Z"
   },
   {
    "duration": 9,
    "start_time": "2022-03-17T17:36:37.863Z"
   },
   {
    "duration": 261,
    "start_time": "2022-03-17T17:36:37.874Z"
   },
   {
    "duration": 9,
    "start_time": "2022-03-17T17:36:38.137Z"
   },
   {
    "duration": 245,
    "start_time": "2022-03-17T17:36:38.164Z"
   },
   {
    "duration": 8,
    "start_time": "2022-03-17T17:36:38.411Z"
   },
   {
    "duration": 260,
    "start_time": "2022-03-17T17:36:38.421Z"
   },
   {
    "duration": 8,
    "start_time": "2022-03-17T17:36:38.683Z"
   },
   {
    "duration": 359,
    "start_time": "2022-03-17T17:36:38.693Z"
   },
   {
    "duration": 15,
    "start_time": "2022-03-17T17:36:39.054Z"
   },
   {
    "duration": 238,
    "start_time": "2022-03-17T17:36:39.071Z"
   },
   {
    "duration": 386,
    "start_time": "2022-03-17T17:36:39.310Z"
   },
   {
    "duration": 3,
    "start_time": "2022-03-17T17:36:39.698Z"
   },
   {
    "duration": 18,
    "start_time": "2022-03-17T17:36:39.703Z"
   },
   {
    "duration": 12,
    "start_time": "2022-03-17T17:36:39.723Z"
   },
   {
    "duration": 29,
    "start_time": "2022-03-17T17:36:39.737Z"
   },
   {
    "duration": 11,
    "start_time": "2022-03-17T17:36:39.768Z"
   },
   {
    "duration": 12,
    "start_time": "2022-03-17T17:36:39.781Z"
   },
   {
    "duration": 12,
    "start_time": "2022-03-17T17:36:39.795Z"
   },
   {
    "duration": 6,
    "start_time": "2022-03-17T17:36:39.809Z"
   },
   {
    "duration": 13,
    "start_time": "2022-03-17T17:36:39.817Z"
   },
   {
    "duration": 644,
    "start_time": "2022-03-17T17:36:39.831Z"
   },
   {
    "duration": 7,
    "start_time": "2022-03-17T17:36:40.477Z"
   },
   {
    "duration": 9,
    "start_time": "2022-03-17T17:36:40.486Z"
   },
   {
    "duration": 7,
    "start_time": "2022-03-17T17:40:03.437Z"
   },
   {
    "duration": 138,
    "start_time": "2022-03-17T17:43:33.880Z"
   },
   {
    "duration": 450,
    "start_time": "2022-03-17T17:43:35.334Z"
   },
   {
    "duration": 98,
    "start_time": "2022-03-17T17:43:57.554Z"
   },
   {
    "duration": 235,
    "start_time": "2022-03-17T17:43:58.052Z"
   },
   {
    "duration": 6,
    "start_time": "2022-03-17T17:44:18.875Z"
   },
   {
    "duration": 12,
    "start_time": "2022-03-17T17:54:35.629Z"
   },
   {
    "duration": 10,
    "start_time": "2022-03-17T17:54:41.629Z"
   },
   {
    "duration": 5,
    "start_time": "2022-03-17T17:54:53.009Z"
   },
   {
    "duration": 9,
    "start_time": "2022-03-17T17:55:04.386Z"
   },
   {
    "duration": 546,
    "start_time": "2022-03-17T17:56:10.331Z"
   },
   {
    "duration": 653,
    "start_time": "2022-03-17T17:56:45.898Z"
   },
   {
    "duration": 515,
    "start_time": "2022-03-17T17:59:31.348Z"
   },
   {
    "duration": 9,
    "start_time": "2022-03-17T18:00:29.566Z"
   },
   {
    "duration": 1248,
    "start_time": "2022-03-17T18:00:42.205Z"
   },
   {
    "duration": 80,
    "start_time": "2022-03-17T18:00:43.456Z"
   },
   {
    "duration": 14,
    "start_time": "2022-03-17T18:00:43.538Z"
   },
   {
    "duration": 35,
    "start_time": "2022-03-17T18:00:43.554Z"
   },
   {
    "duration": 2,
    "start_time": "2022-03-17T18:00:43.591Z"
   },
   {
    "duration": 20,
    "start_time": "2022-03-17T18:00:43.595Z"
   },
   {
    "duration": 11,
    "start_time": "2022-03-17T18:00:43.617Z"
   },
   {
    "duration": 5,
    "start_time": "2022-03-17T18:00:43.630Z"
   },
   {
    "duration": 24,
    "start_time": "2022-03-17T18:00:43.636Z"
   },
   {
    "duration": 9,
    "start_time": "2022-03-17T18:00:43.663Z"
   },
   {
    "duration": 8,
    "start_time": "2022-03-17T18:00:43.673Z"
   },
   {
    "duration": 22,
    "start_time": "2022-03-17T18:00:43.683Z"
   },
   {
    "duration": 15,
    "start_time": "2022-03-17T18:00:43.707Z"
   },
   {
    "duration": 7,
    "start_time": "2022-03-17T18:00:43.724Z"
   },
   {
    "duration": 13,
    "start_time": "2022-03-17T18:00:43.732Z"
   },
   {
    "duration": 16,
    "start_time": "2022-03-17T18:00:43.747Z"
   },
   {
    "duration": 10,
    "start_time": "2022-03-17T18:00:43.765Z"
   },
   {
    "duration": 20,
    "start_time": "2022-03-17T18:00:43.777Z"
   },
   {
    "duration": 11,
    "start_time": "2022-03-17T18:00:43.799Z"
   },
   {
    "duration": 14,
    "start_time": "2022-03-17T18:00:43.812Z"
   },
   {
    "duration": 17,
    "start_time": "2022-03-17T18:00:43.827Z"
   },
   {
    "duration": 18,
    "start_time": "2022-03-17T18:00:43.846Z"
   },
   {
    "duration": 26,
    "start_time": "2022-03-17T18:00:43.866Z"
   },
   {
    "duration": 18,
    "start_time": "2022-03-17T18:00:43.894Z"
   },
   {
    "duration": 3,
    "start_time": "2022-03-17T18:00:43.913Z"
   },
   {
    "duration": 227,
    "start_time": "2022-03-17T18:00:43.917Z"
   },
   {
    "duration": 283,
    "start_time": "2022-03-17T18:00:44.145Z"
   },
   {
    "duration": 6,
    "start_time": "2022-03-17T18:00:44.431Z"
   },
   {
    "duration": 2445,
    "start_time": "2022-03-17T18:00:44.439Z"
   },
   {
    "duration": 16,
    "start_time": "2022-03-17T18:00:46.886Z"
   },
   {
    "duration": 22,
    "start_time": "2022-03-17T18:00:46.904Z"
   },
   {
    "duration": 240,
    "start_time": "2022-03-17T18:00:46.928Z"
   },
   {
    "duration": 519,
    "start_time": "2022-03-17T18:00:47.170Z"
   },
   {
    "duration": 20,
    "start_time": "2022-03-17T18:00:47.691Z"
   },
   {
    "duration": 7,
    "start_time": "2022-03-17T18:00:47.713Z"
   },
   {
    "duration": 283,
    "start_time": "2022-03-17T18:00:47.721Z"
   },
   {
    "duration": 9,
    "start_time": "2022-03-17T18:00:48.006Z"
   },
   {
    "duration": 258,
    "start_time": "2022-03-17T18:00:48.017Z"
   },
   {
    "duration": 8,
    "start_time": "2022-03-17T18:00:48.277Z"
   },
   {
    "duration": 381,
    "start_time": "2022-03-17T18:00:48.287Z"
   },
   {
    "duration": 8,
    "start_time": "2022-03-17T18:00:48.670Z"
   },
   {
    "duration": 266,
    "start_time": "2022-03-17T18:00:48.680Z"
   },
   {
    "duration": 16,
    "start_time": "2022-03-17T18:00:48.948Z"
   },
   {
    "duration": 262,
    "start_time": "2022-03-17T18:00:48.965Z"
   },
   {
    "duration": 8,
    "start_time": "2022-03-17T18:00:49.229Z"
   },
   {
    "duration": 265,
    "start_time": "2022-03-17T18:00:49.238Z"
   },
   {
    "duration": 8,
    "start_time": "2022-03-17T18:00:49.505Z"
   },
   {
    "duration": 6,
    "start_time": "2022-03-17T18:00:49.515Z"
   },
   {
    "duration": 17,
    "start_time": "2022-03-17T18:00:49.522Z"
   },
   {
    "duration": 30,
    "start_time": "2022-03-17T18:00:49.541Z"
   },
   {
    "duration": 11,
    "start_time": "2022-03-17T18:00:49.573Z"
   },
   {
    "duration": 21,
    "start_time": "2022-03-17T18:00:49.586Z"
   },
   {
    "duration": 12,
    "start_time": "2022-03-17T18:00:49.609Z"
   },
   {
    "duration": 11,
    "start_time": "2022-03-17T18:00:49.623Z"
   },
   {
    "duration": 30,
    "start_time": "2022-03-17T18:00:49.636Z"
   },
   {
    "duration": 13,
    "start_time": "2022-03-17T18:00:49.667Z"
   },
   {
    "duration": 626,
    "start_time": "2022-03-17T18:00:49.681Z"
   },
   {
    "duration": 7,
    "start_time": "2022-03-17T18:00:50.309Z"
   },
   {
    "duration": 14,
    "start_time": "2022-03-17T18:00:50.318Z"
   },
   {
    "duration": 100,
    "start_time": "2022-03-17T18:01:09.088Z"
   },
   {
    "duration": 10,
    "start_time": "2022-03-17T18:01:46.224Z"
   },
   {
    "duration": 10,
    "start_time": "2022-03-17T18:06:32.789Z"
   },
   {
    "duration": 24,
    "start_time": "2022-03-17T18:06:59.501Z"
   },
   {
    "duration": 15,
    "start_time": "2022-03-17T18:08:48.544Z"
   },
   {
    "duration": 13,
    "start_time": "2022-03-17T18:11:50.145Z"
   },
   {
    "duration": 14,
    "start_time": "2022-03-17T18:12:10.874Z"
   },
   {
    "duration": 19,
    "start_time": "2022-03-17T18:12:42.945Z"
   },
   {
    "duration": 15,
    "start_time": "2022-03-17T18:13:06.075Z"
   },
   {
    "duration": 15,
    "start_time": "2022-03-17T18:13:16.326Z"
   },
   {
    "duration": 27,
    "start_time": "2022-03-17T18:15:03.374Z"
   },
   {
    "duration": 31,
    "start_time": "2022-03-17T18:15:23.436Z"
   },
   {
    "duration": 25,
    "start_time": "2022-03-17T18:20:05.539Z"
   },
   {
    "duration": 0,
    "start_time": "2022-03-18T05:49:44.193Z"
   },
   {
    "duration": 0,
    "start_time": "2022-03-18T05:49:44.195Z"
   },
   {
    "duration": 0,
    "start_time": "2022-03-18T05:49:44.197Z"
   },
   {
    "duration": 1,
    "start_time": "2022-03-18T05:49:44.198Z"
   },
   {
    "duration": 0,
    "start_time": "2022-03-18T05:49:44.243Z"
   },
   {
    "duration": 0,
    "start_time": "2022-03-18T05:49:44.245Z"
   },
   {
    "duration": 0,
    "start_time": "2022-03-18T05:49:44.246Z"
   },
   {
    "duration": 0,
    "start_time": "2022-03-18T05:49:44.248Z"
   },
   {
    "duration": 0,
    "start_time": "2022-03-18T05:49:44.250Z"
   },
   {
    "duration": 0,
    "start_time": "2022-03-18T05:49:44.251Z"
   },
   {
    "duration": 0,
    "start_time": "2022-03-18T05:49:44.253Z"
   },
   {
    "duration": 0,
    "start_time": "2022-03-18T05:49:44.255Z"
   },
   {
    "duration": 0,
    "start_time": "2022-03-18T05:49:44.256Z"
   },
   {
    "duration": 0,
    "start_time": "2022-03-18T05:49:44.258Z"
   },
   {
    "duration": 0,
    "start_time": "2022-03-18T05:49:44.260Z"
   },
   {
    "duration": 1,
    "start_time": "2022-03-18T05:49:44.261Z"
   },
   {
    "duration": 0,
    "start_time": "2022-03-18T05:49:44.263Z"
   },
   {
    "duration": 1,
    "start_time": "2022-03-18T05:49:44.264Z"
   },
   {
    "duration": 0,
    "start_time": "2022-03-18T05:49:44.267Z"
   },
   {
    "duration": 0,
    "start_time": "2022-03-18T05:49:44.268Z"
   },
   {
    "duration": 0,
    "start_time": "2022-03-18T05:49:44.270Z"
   },
   {
    "duration": 0,
    "start_time": "2022-03-18T05:49:44.271Z"
   },
   {
    "duration": 0,
    "start_time": "2022-03-18T05:49:44.273Z"
   },
   {
    "duration": 0,
    "start_time": "2022-03-18T05:49:44.274Z"
   },
   {
    "duration": 0,
    "start_time": "2022-03-18T05:49:44.275Z"
   },
   {
    "duration": 0,
    "start_time": "2022-03-18T05:49:44.276Z"
   },
   {
    "duration": 0,
    "start_time": "2022-03-18T05:49:44.278Z"
   },
   {
    "duration": 0,
    "start_time": "2022-03-18T05:49:44.279Z"
   },
   {
    "duration": 0,
    "start_time": "2022-03-18T05:49:44.280Z"
   },
   {
    "duration": 0,
    "start_time": "2022-03-18T05:49:44.344Z"
   },
   {
    "duration": 0,
    "start_time": "2022-03-18T05:49:44.346Z"
   },
   {
    "duration": 0,
    "start_time": "2022-03-18T05:49:44.347Z"
   },
   {
    "duration": 1,
    "start_time": "2022-03-18T05:49:44.348Z"
   },
   {
    "duration": 0,
    "start_time": "2022-03-18T05:49:44.350Z"
   },
   {
    "duration": 0,
    "start_time": "2022-03-18T05:49:44.351Z"
   },
   {
    "duration": 0,
    "start_time": "2022-03-18T05:49:44.352Z"
   },
   {
    "duration": 0,
    "start_time": "2022-03-18T05:49:44.354Z"
   },
   {
    "duration": 0,
    "start_time": "2022-03-18T05:49:44.356Z"
   },
   {
    "duration": 0,
    "start_time": "2022-03-18T05:49:44.357Z"
   },
   {
    "duration": 0,
    "start_time": "2022-03-18T05:49:44.358Z"
   },
   {
    "duration": 0,
    "start_time": "2022-03-18T05:49:44.360Z"
   },
   {
    "duration": 0,
    "start_time": "2022-03-18T05:49:44.361Z"
   },
   {
    "duration": 0,
    "start_time": "2022-03-18T05:49:44.363Z"
   },
   {
    "duration": 0,
    "start_time": "2022-03-18T05:49:44.364Z"
   },
   {
    "duration": 0,
    "start_time": "2022-03-18T05:49:44.366Z"
   },
   {
    "duration": 0,
    "start_time": "2022-03-18T05:49:44.368Z"
   },
   {
    "duration": 0,
    "start_time": "2022-03-18T05:49:44.369Z"
   },
   {
    "duration": 0,
    "start_time": "2022-03-18T05:49:44.371Z"
   },
   {
    "duration": 0,
    "start_time": "2022-03-18T05:49:44.373Z"
   },
   {
    "duration": 0,
    "start_time": "2022-03-18T05:49:44.374Z"
   },
   {
    "duration": 0,
    "start_time": "2022-03-18T05:49:44.376Z"
   },
   {
    "duration": 0,
    "start_time": "2022-03-18T05:49:44.378Z"
   },
   {
    "duration": 0,
    "start_time": "2022-03-18T05:49:44.443Z"
   },
   {
    "duration": 0,
    "start_time": "2022-03-18T05:49:44.445Z"
   },
   {
    "duration": 0,
    "start_time": "2022-03-18T05:49:44.447Z"
   },
   {
    "duration": 0,
    "start_time": "2022-03-18T05:49:44.448Z"
   },
   {
    "duration": 0,
    "start_time": "2022-03-18T05:49:44.450Z"
   },
   {
    "duration": 0,
    "start_time": "2022-03-18T05:49:44.451Z"
   },
   {
    "duration": 0,
    "start_time": "2022-03-18T05:49:44.452Z"
   },
   {
    "duration": 1451,
    "start_time": "2022-03-18T05:50:40.276Z"
   },
   {
    "duration": 70,
    "start_time": "2022-03-18T05:50:41.730Z"
   },
   {
    "duration": 22,
    "start_time": "2022-03-18T05:50:41.803Z"
   },
   {
    "duration": 50,
    "start_time": "2022-03-18T05:50:41.829Z"
   },
   {
    "duration": 4,
    "start_time": "2022-03-18T05:50:41.882Z"
   },
   {
    "duration": 14,
    "start_time": "2022-03-18T05:50:41.889Z"
   },
   {
    "duration": 53,
    "start_time": "2022-03-18T05:50:41.905Z"
   },
   {
    "duration": 6,
    "start_time": "2022-03-18T05:50:41.960Z"
   },
   {
    "duration": 11,
    "start_time": "2022-03-18T05:50:41.968Z"
   },
   {
    "duration": 13,
    "start_time": "2022-03-18T05:50:41.985Z"
   },
   {
    "duration": 53,
    "start_time": "2022-03-18T05:50:42.001Z"
   },
   {
    "duration": 15,
    "start_time": "2022-03-18T05:50:42.056Z"
   },
   {
    "duration": 17,
    "start_time": "2022-03-18T05:50:42.073Z"
   },
   {
    "duration": 9,
    "start_time": "2022-03-18T05:50:42.092Z"
   },
   {
    "duration": 11,
    "start_time": "2022-03-18T05:50:42.144Z"
   },
   {
    "duration": 5,
    "start_time": "2022-03-18T05:50:42.158Z"
   },
   {
    "duration": 7,
    "start_time": "2022-03-18T05:50:42.165Z"
   },
   {
    "duration": 13,
    "start_time": "2022-03-18T05:50:42.174Z"
   },
   {
    "duration": 12,
    "start_time": "2022-03-18T05:50:42.189Z"
   },
   {
    "duration": 51,
    "start_time": "2022-03-18T05:50:42.203Z"
   },
   {
    "duration": 18,
    "start_time": "2022-03-18T05:50:42.256Z"
   },
   {
    "duration": 7,
    "start_time": "2022-03-18T05:50:42.276Z"
   },
   {
    "duration": 19,
    "start_time": "2022-03-18T05:50:42.285Z"
   },
   {
    "duration": 19,
    "start_time": "2022-03-18T05:50:42.343Z"
   },
   {
    "duration": 3,
    "start_time": "2022-03-18T05:50:42.365Z"
   },
   {
    "duration": 403,
    "start_time": "2022-03-18T05:50:42.371Z"
   },
   {
    "duration": 478,
    "start_time": "2022-03-18T05:50:42.776Z"
   },
   {
    "duration": 8,
    "start_time": "2022-03-18T05:50:43.260Z"
   },
   {
    "duration": 3842,
    "start_time": "2022-03-18T05:50:43.270Z"
   },
   {
    "duration": 34,
    "start_time": "2022-03-18T05:50:47.115Z"
   },
   {
    "duration": 32,
    "start_time": "2022-03-18T05:50:47.151Z"
   },
   {
    "duration": 331,
    "start_time": "2022-03-18T05:50:47.185Z"
   },
   {
    "duration": 1166,
    "start_time": "2022-03-18T05:50:47.518Z"
   },
   {
    "duration": 33,
    "start_time": "2022-03-18T05:50:48.686Z"
   },
   {
    "duration": 26,
    "start_time": "2022-03-18T05:50:48.722Z"
   },
   {
    "duration": 459,
    "start_time": "2022-03-18T05:50:48.750Z"
   },
   {
    "duration": 12,
    "start_time": "2022-03-18T05:50:49.211Z"
   },
   {
    "duration": 473,
    "start_time": "2022-03-18T05:50:49.225Z"
   },
   {
    "duration": 11,
    "start_time": "2022-03-18T05:50:49.700Z"
   },
   {
    "duration": 484,
    "start_time": "2022-03-18T05:50:49.713Z"
   },
   {
    "duration": 11,
    "start_time": "2022-03-18T05:50:50.199Z"
   },
   {
    "duration": 504,
    "start_time": "2022-03-18T05:50:50.212Z"
   },
   {
    "duration": 25,
    "start_time": "2022-03-18T05:50:50.718Z"
   },
   {
    "duration": 479,
    "start_time": "2022-03-18T05:50:50.745Z"
   },
   {
    "duration": 20,
    "start_time": "2022-03-18T05:50:51.226Z"
   },
   {
    "duration": 489,
    "start_time": "2022-03-18T05:50:51.249Z"
   },
   {
    "duration": 156,
    "start_time": "2022-03-18T05:50:51.744Z"
   },
   {
    "duration": 0,
    "start_time": "2022-03-18T05:50:51.902Z"
   },
   {
    "duration": 0,
    "start_time": "2022-03-18T05:50:51.904Z"
   },
   {
    "duration": 0,
    "start_time": "2022-03-18T05:50:51.905Z"
   },
   {
    "duration": 0,
    "start_time": "2022-03-18T05:50:51.907Z"
   },
   {
    "duration": 0,
    "start_time": "2022-03-18T05:50:51.908Z"
   },
   {
    "duration": 0,
    "start_time": "2022-03-18T05:50:51.909Z"
   },
   {
    "duration": 0,
    "start_time": "2022-03-18T05:50:51.911Z"
   },
   {
    "duration": 0,
    "start_time": "2022-03-18T05:50:51.912Z"
   },
   {
    "duration": 0,
    "start_time": "2022-03-18T05:50:51.914Z"
   },
   {
    "duration": 0,
    "start_time": "2022-03-18T05:50:51.943Z"
   },
   {
    "duration": 0,
    "start_time": "2022-03-18T05:50:51.946Z"
   },
   {
    "duration": 0,
    "start_time": "2022-03-18T05:50:51.947Z"
   },
   {
    "duration": 20,
    "start_time": "2022-03-18T05:51:24.743Z"
   },
   {
    "duration": 1391,
    "start_time": "2022-03-18T05:51:37.752Z"
   },
   {
    "duration": 15,
    "start_time": "2022-03-18T05:56:24.955Z"
   },
   {
    "duration": 1164,
    "start_time": "2022-03-18T05:58:32.504Z"
   },
   {
    "duration": 1219,
    "start_time": "2022-03-18T05:59:38.056Z"
   },
   {
    "duration": 1519,
    "start_time": "2022-03-18T06:02:19.074Z"
   },
   {
    "duration": 85,
    "start_time": "2022-03-18T06:02:20.596Z"
   },
   {
    "duration": 20,
    "start_time": "2022-03-18T06:02:20.684Z"
   },
   {
    "duration": 63,
    "start_time": "2022-03-18T06:02:20.708Z"
   },
   {
    "duration": 5,
    "start_time": "2022-03-18T06:02:20.774Z"
   },
   {
    "duration": 16,
    "start_time": "2022-03-18T06:02:20.782Z"
   },
   {
    "duration": 44,
    "start_time": "2022-03-18T06:02:20.800Z"
   },
   {
    "duration": 5,
    "start_time": "2022-03-18T06:02:20.847Z"
   },
   {
    "duration": 5,
    "start_time": "2022-03-18T06:02:20.854Z"
   },
   {
    "duration": 12,
    "start_time": "2022-03-18T06:02:20.864Z"
   },
   {
    "duration": 9,
    "start_time": "2022-03-18T06:02:20.878Z"
   },
   {
    "duration": 53,
    "start_time": "2022-03-18T06:02:20.889Z"
   },
   {
    "duration": 16,
    "start_time": "2022-03-18T06:02:20.945Z"
   },
   {
    "duration": 9,
    "start_time": "2022-03-18T06:02:20.963Z"
   },
   {
    "duration": 11,
    "start_time": "2022-03-18T06:02:20.974Z"
   },
   {
    "duration": 7,
    "start_time": "2022-03-18T06:02:20.987Z"
   },
   {
    "duration": 50,
    "start_time": "2022-03-18T06:02:20.996Z"
   },
   {
    "duration": 17,
    "start_time": "2022-03-18T06:02:21.049Z"
   },
   {
    "duration": 13,
    "start_time": "2022-03-18T06:02:21.069Z"
   },
   {
    "duration": 13,
    "start_time": "2022-03-18T06:02:21.084Z"
   },
   {
    "duration": 48,
    "start_time": "2022-03-18T06:02:21.099Z"
   },
   {
    "duration": 8,
    "start_time": "2022-03-18T06:02:21.149Z"
   },
   {
    "duration": 19,
    "start_time": "2022-03-18T06:02:21.159Z"
   },
   {
    "duration": 24,
    "start_time": "2022-03-18T06:02:21.180Z"
   },
   {
    "duration": 35,
    "start_time": "2022-03-18T06:02:21.207Z"
   },
   {
    "duration": 390,
    "start_time": "2022-03-18T06:02:21.245Z"
   },
   {
    "duration": 489,
    "start_time": "2022-03-18T06:02:21.637Z"
   },
   {
    "duration": 8,
    "start_time": "2022-03-18T06:02:22.145Z"
   },
   {
    "duration": 4223,
    "start_time": "2022-03-18T06:02:22.155Z"
   },
   {
    "duration": 24,
    "start_time": "2022-03-18T06:02:26.381Z"
   },
   {
    "duration": 56,
    "start_time": "2022-03-18T06:02:26.407Z"
   },
   {
    "duration": 309,
    "start_time": "2022-03-18T06:02:26.465Z"
   },
   {
    "duration": 1216,
    "start_time": "2022-03-18T06:02:26.776Z"
   },
   {
    "duration": 49,
    "start_time": "2022-03-18T06:02:27.994Z"
   },
   {
    "duration": 12,
    "start_time": "2022-03-18T06:02:28.045Z"
   },
   {
    "duration": 571,
    "start_time": "2022-03-18T06:02:28.059Z"
   },
   {
    "duration": 12,
    "start_time": "2022-03-18T06:02:28.643Z"
   },
   {
    "duration": 464,
    "start_time": "2022-03-18T06:02:28.658Z"
   },
   {
    "duration": 20,
    "start_time": "2022-03-18T06:02:29.126Z"
   },
   {
    "duration": 461,
    "start_time": "2022-03-18T06:02:29.149Z"
   },
   {
    "duration": 12,
    "start_time": "2022-03-18T06:02:29.612Z"
   },
   {
    "duration": 448,
    "start_time": "2022-03-18T06:02:29.642Z"
   },
   {
    "duration": 11,
    "start_time": "2022-03-18T06:02:30.092Z"
   },
   {
    "duration": 463,
    "start_time": "2022-03-18T06:02:30.105Z"
   },
   {
    "duration": 12,
    "start_time": "2022-03-18T06:02:30.571Z"
   },
   {
    "duration": 479,
    "start_time": "2022-03-18T06:02:30.586Z"
   },
   {
    "duration": 1267,
    "start_time": "2022-03-18T06:02:31.067Z"
   },
   {
    "duration": 0,
    "start_time": "2022-03-18T06:02:32.337Z"
   },
   {
    "duration": 0,
    "start_time": "2022-03-18T06:02:32.343Z"
   },
   {
    "duration": 0,
    "start_time": "2022-03-18T06:02:32.344Z"
   },
   {
    "duration": 0,
    "start_time": "2022-03-18T06:02:32.346Z"
   },
   {
    "duration": 0,
    "start_time": "2022-03-18T06:02:32.347Z"
   },
   {
    "duration": 0,
    "start_time": "2022-03-18T06:02:32.348Z"
   },
   {
    "duration": 0,
    "start_time": "2022-03-18T06:02:32.350Z"
   },
   {
    "duration": 0,
    "start_time": "2022-03-18T06:02:32.351Z"
   },
   {
    "duration": 0,
    "start_time": "2022-03-18T06:02:32.353Z"
   },
   {
    "duration": 0,
    "start_time": "2022-03-18T06:02:32.354Z"
   },
   {
    "duration": 0,
    "start_time": "2022-03-18T06:02:32.355Z"
   },
   {
    "duration": 0,
    "start_time": "2022-03-18T06:02:32.357Z"
   },
   {
    "duration": 1614,
    "start_time": "2022-03-18T07:59:38.909Z"
   },
   {
    "duration": 86,
    "start_time": "2022-03-18T07:59:40.526Z"
   },
   {
    "duration": 28,
    "start_time": "2022-03-18T07:59:40.615Z"
   },
   {
    "duration": 38,
    "start_time": "2022-03-18T07:59:40.647Z"
   },
   {
    "duration": 5,
    "start_time": "2022-03-18T07:59:40.687Z"
   },
   {
    "duration": 22,
    "start_time": "2022-03-18T07:59:40.694Z"
   },
   {
    "duration": 37,
    "start_time": "2022-03-18T07:59:40.718Z"
   },
   {
    "duration": 17,
    "start_time": "2022-03-18T07:59:40.757Z"
   },
   {
    "duration": 8,
    "start_time": "2022-03-18T07:59:40.776Z"
   },
   {
    "duration": 19,
    "start_time": "2022-03-18T07:59:40.789Z"
   },
   {
    "duration": 9,
    "start_time": "2022-03-18T07:59:40.811Z"
   },
   {
    "duration": 28,
    "start_time": "2022-03-18T07:59:40.822Z"
   },
   {
    "duration": 29,
    "start_time": "2022-03-18T07:59:40.852Z"
   },
   {
    "duration": 10,
    "start_time": "2022-03-18T07:59:40.883Z"
   },
   {
    "duration": 23,
    "start_time": "2022-03-18T07:59:40.895Z"
   },
   {
    "duration": 25,
    "start_time": "2022-03-18T07:59:40.921Z"
   },
   {
    "duration": 18,
    "start_time": "2022-03-18T07:59:40.949Z"
   },
   {
    "duration": 32,
    "start_time": "2022-03-18T07:59:40.969Z"
   },
   {
    "duration": 20,
    "start_time": "2022-03-18T07:59:41.003Z"
   },
   {
    "duration": 33,
    "start_time": "2022-03-18T07:59:41.026Z"
   },
   {
    "duration": 28,
    "start_time": "2022-03-18T07:59:41.062Z"
   },
   {
    "duration": 9,
    "start_time": "2022-03-18T07:59:41.092Z"
   },
   {
    "duration": 27,
    "start_time": "2022-03-18T07:59:41.103Z"
   },
   {
    "duration": 33,
    "start_time": "2022-03-18T07:59:41.132Z"
   },
   {
    "duration": 4,
    "start_time": "2022-03-18T07:59:41.167Z"
   },
   {
    "duration": 397,
    "start_time": "2022-03-18T07:59:41.173Z"
   },
   {
    "duration": 480,
    "start_time": "2022-03-18T07:59:41.573Z"
   },
   {
    "duration": 7,
    "start_time": "2022-03-18T07:59:42.059Z"
   },
   {
    "duration": 4331,
    "start_time": "2022-03-18T07:59:42.068Z"
   },
   {
    "duration": 21,
    "start_time": "2022-03-18T07:59:46.401Z"
   },
   {
    "duration": 51,
    "start_time": "2022-03-18T07:59:46.424Z"
   },
   {
    "duration": 303,
    "start_time": "2022-03-18T07:59:46.477Z"
   },
   {
    "duration": 1223,
    "start_time": "2022-03-18T07:59:46.783Z"
   },
   {
    "duration": 45,
    "start_time": "2022-03-18T07:59:48.009Z"
   },
   {
    "duration": 10,
    "start_time": "2022-03-18T07:59:48.056Z"
   },
   {
    "duration": 454,
    "start_time": "2022-03-18T07:59:48.068Z"
   },
   {
    "duration": 20,
    "start_time": "2022-03-18T07:59:48.524Z"
   },
   {
    "duration": 461,
    "start_time": "2022-03-18T07:59:48.546Z"
   },
   {
    "duration": 12,
    "start_time": "2022-03-18T07:59:49.010Z"
   },
   {
    "duration": 453,
    "start_time": "2022-03-18T07:59:49.024Z"
   },
   {
    "duration": 12,
    "start_time": "2022-03-18T07:59:49.480Z"
   },
   {
    "duration": 463,
    "start_time": "2022-03-18T07:59:49.495Z"
   },
   {
    "duration": 11,
    "start_time": "2022-03-18T07:59:49.960Z"
   },
   {
    "duration": 445,
    "start_time": "2022-03-18T07:59:49.973Z"
   },
   {
    "duration": 24,
    "start_time": "2022-03-18T07:59:50.420Z"
   },
   {
    "duration": 445,
    "start_time": "2022-03-18T07:59:50.446Z"
   },
   {
    "duration": 1243,
    "start_time": "2022-03-18T07:59:50.893Z"
   },
   {
    "duration": 0,
    "start_time": "2022-03-18T07:59:52.143Z"
   },
   {
    "duration": 0,
    "start_time": "2022-03-18T07:59:52.145Z"
   },
   {
    "duration": 0,
    "start_time": "2022-03-18T07:59:52.147Z"
   },
   {
    "duration": 0,
    "start_time": "2022-03-18T07:59:52.149Z"
   },
   {
    "duration": 0,
    "start_time": "2022-03-18T07:59:52.150Z"
   },
   {
    "duration": 0,
    "start_time": "2022-03-18T07:59:52.152Z"
   },
   {
    "duration": 0,
    "start_time": "2022-03-18T07:59:52.153Z"
   },
   {
    "duration": 0,
    "start_time": "2022-03-18T07:59:52.156Z"
   },
   {
    "duration": 0,
    "start_time": "2022-03-18T07:59:52.157Z"
   },
   {
    "duration": 0,
    "start_time": "2022-03-18T07:59:52.158Z"
   },
   {
    "duration": 0,
    "start_time": "2022-03-18T07:59:52.160Z"
   },
   {
    "duration": 0,
    "start_time": "2022-03-18T07:59:52.161Z"
   },
   {
    "duration": 9,
    "start_time": "2022-03-18T08:01:48.622Z"
   },
   {
    "duration": 42,
    "start_time": "2022-03-18T08:02:07.389Z"
   },
   {
    "duration": 18,
    "start_time": "2022-03-18T08:02:43.256Z"
   },
   {
    "duration": 1911,
    "start_time": "2022-03-18T08:03:02.232Z"
   },
   {
    "duration": 100,
    "start_time": "2022-03-18T08:03:04.147Z"
   },
   {
    "duration": 28,
    "start_time": "2022-03-18T08:03:04.249Z"
   },
   {
    "duration": 40,
    "start_time": "2022-03-18T08:03:04.280Z"
   },
   {
    "duration": 5,
    "start_time": "2022-03-18T08:03:04.345Z"
   },
   {
    "duration": 15,
    "start_time": "2022-03-18T08:03:04.352Z"
   },
   {
    "duration": 10,
    "start_time": "2022-03-18T08:03:04.369Z"
   },
   {
    "duration": 6,
    "start_time": "2022-03-18T08:03:04.381Z"
   },
   {
    "duration": 5,
    "start_time": "2022-03-18T08:03:04.389Z"
   },
   {
    "duration": 57,
    "start_time": "2022-03-18T08:03:04.396Z"
   },
   {
    "duration": 9,
    "start_time": "2022-03-18T08:03:04.455Z"
   },
   {
    "duration": 11,
    "start_time": "2022-03-18T08:03:04.465Z"
   },
   {
    "duration": 18,
    "start_time": "2022-03-18T08:03:04.480Z"
   },
   {
    "duration": 9,
    "start_time": "2022-03-18T08:03:04.544Z"
   },
   {
    "duration": 10,
    "start_time": "2022-03-18T08:03:04.556Z"
   },
   {
    "duration": 8,
    "start_time": "2022-03-18T08:03:04.569Z"
   },
   {
    "duration": 8,
    "start_time": "2022-03-18T08:03:04.579Z"
   },
   {
    "duration": 53,
    "start_time": "2022-03-18T08:03:04.590Z"
   },
   {
    "duration": 16,
    "start_time": "2022-03-18T08:03:04.645Z"
   },
   {
    "duration": 13,
    "start_time": "2022-03-18T08:03:04.663Z"
   },
   {
    "duration": 21,
    "start_time": "2022-03-18T08:03:04.678Z"
   },
   {
    "duration": 44,
    "start_time": "2022-03-18T08:03:04.701Z"
   },
   {
    "duration": 19,
    "start_time": "2022-03-18T08:03:04.748Z"
   },
   {
    "duration": 20,
    "start_time": "2022-03-18T08:03:04.769Z"
   },
   {
    "duration": 3,
    "start_time": "2022-03-18T08:03:04.792Z"
   },
   {
    "duration": 419,
    "start_time": "2022-03-18T08:03:04.798Z"
   },
   {
    "duration": 484,
    "start_time": "2022-03-18T08:03:05.219Z"
   },
   {
    "duration": 8,
    "start_time": "2022-03-18T08:03:05.705Z"
   },
   {
    "duration": 4128,
    "start_time": "2022-03-18T08:03:05.715Z"
   },
   {
    "duration": 26,
    "start_time": "2022-03-18T08:03:09.845Z"
   },
   {
    "duration": 140,
    "start_time": "2022-03-18T08:03:09.874Z"
   },
   {
    "duration": 260,
    "start_time": "2022-03-18T08:03:10.016Z"
   },
   {
    "duration": 1217,
    "start_time": "2022-03-18T08:03:10.279Z"
   },
   {
    "duration": 52,
    "start_time": "2022-03-18T08:03:11.498Z"
   },
   {
    "duration": 10,
    "start_time": "2022-03-18T08:03:11.553Z"
   },
   {
    "duration": 447,
    "start_time": "2022-03-18T08:03:11.565Z"
   },
   {
    "duration": 11,
    "start_time": "2022-03-18T08:03:12.014Z"
   },
   {
    "duration": 462,
    "start_time": "2022-03-18T08:03:12.043Z"
   },
   {
    "duration": 11,
    "start_time": "2022-03-18T08:03:12.508Z"
   },
   {
    "duration": 470,
    "start_time": "2022-03-18T08:03:12.521Z"
   },
   {
    "duration": 11,
    "start_time": "2022-03-18T08:03:12.997Z"
   },
   {
    "duration": 459,
    "start_time": "2022-03-18T08:03:13.010Z"
   },
   {
    "duration": 11,
    "start_time": "2022-03-18T08:03:13.472Z"
   },
   {
    "duration": 460,
    "start_time": "2022-03-18T08:03:13.486Z"
   },
   {
    "duration": 13,
    "start_time": "2022-03-18T08:03:13.949Z"
   },
   {
    "duration": 458,
    "start_time": "2022-03-18T08:03:13.964Z"
   },
   {
    "duration": 1239,
    "start_time": "2022-03-18T08:03:14.424Z"
   },
   {
    "duration": 0,
    "start_time": "2022-03-18T08:03:15.666Z"
   },
   {
    "duration": 0,
    "start_time": "2022-03-18T08:03:15.667Z"
   },
   {
    "duration": 0,
    "start_time": "2022-03-18T08:03:15.669Z"
   },
   {
    "duration": 0,
    "start_time": "2022-03-18T08:03:15.671Z"
   },
   {
    "duration": 0,
    "start_time": "2022-03-18T08:03:15.673Z"
   },
   {
    "duration": 0,
    "start_time": "2022-03-18T08:03:15.675Z"
   },
   {
    "duration": 0,
    "start_time": "2022-03-18T08:03:15.677Z"
   },
   {
    "duration": 1,
    "start_time": "2022-03-18T08:03:15.678Z"
   },
   {
    "duration": 0,
    "start_time": "2022-03-18T08:03:15.680Z"
   },
   {
    "duration": 0,
    "start_time": "2022-03-18T08:03:15.683Z"
   },
   {
    "duration": 0,
    "start_time": "2022-03-18T08:03:15.684Z"
   },
   {
    "duration": 0,
    "start_time": "2022-03-18T08:03:15.687Z"
   },
   {
    "duration": 1210,
    "start_time": "2022-03-18T08:03:33.606Z"
   },
   {
    "duration": 1602,
    "start_time": "2022-03-18T08:04:15.638Z"
   },
   {
    "duration": 1566,
    "start_time": "2022-03-18T08:06:54.585Z"
   },
   {
    "duration": 73,
    "start_time": "2022-03-18T08:06:56.154Z"
   },
   {
    "duration": 28,
    "start_time": "2022-03-18T08:06:56.229Z"
   },
   {
    "duration": 37,
    "start_time": "2022-03-18T08:06:56.261Z"
   },
   {
    "duration": 4,
    "start_time": "2022-03-18T08:06:56.300Z"
   },
   {
    "duration": 40,
    "start_time": "2022-03-18T08:06:56.306Z"
   },
   {
    "duration": 12,
    "start_time": "2022-03-18T08:06:56.348Z"
   },
   {
    "duration": 6,
    "start_time": "2022-03-18T08:06:56.362Z"
   },
   {
    "duration": 10,
    "start_time": "2022-03-18T08:06:56.370Z"
   },
   {
    "duration": 13,
    "start_time": "2022-03-18T08:06:56.384Z"
   },
   {
    "duration": 9,
    "start_time": "2022-03-18T08:06:56.400Z"
   },
   {
    "duration": 10,
    "start_time": "2022-03-18T08:06:56.442Z"
   },
   {
    "duration": 16,
    "start_time": "2022-03-18T08:06:56.455Z"
   },
   {
    "duration": 9,
    "start_time": "2022-03-18T08:06:56.474Z"
   },
   {
    "duration": 12,
    "start_time": "2022-03-18T08:06:56.485Z"
   },
   {
    "duration": 46,
    "start_time": "2022-03-18T08:06:56.499Z"
   },
   {
    "duration": 7,
    "start_time": "2022-03-18T08:06:56.548Z"
   },
   {
    "duration": 15,
    "start_time": "2022-03-18T08:06:56.558Z"
   },
   {
    "duration": 12,
    "start_time": "2022-03-18T08:06:56.575Z"
   },
   {
    "duration": 13,
    "start_time": "2022-03-18T08:06:56.590Z"
   },
   {
    "duration": 53,
    "start_time": "2022-03-18T08:06:56.605Z"
   },
   {
    "duration": 9,
    "start_time": "2022-03-18T08:06:56.661Z"
   },
   {
    "duration": 20,
    "start_time": "2022-03-18T08:06:56.673Z"
   },
   {
    "duration": 60,
    "start_time": "2022-03-18T08:06:56.695Z"
   },
   {
    "duration": 3,
    "start_time": "2022-03-18T08:06:56.757Z"
   },
   {
    "duration": 391,
    "start_time": "2022-03-18T08:06:56.762Z"
   },
   {
    "duration": 476,
    "start_time": "2022-03-18T08:06:57.156Z"
   },
   {
    "duration": 7,
    "start_time": "2022-03-18T08:06:57.644Z"
   },
   {
    "duration": 4172,
    "start_time": "2022-03-18T08:06:57.654Z"
   },
   {
    "duration": 32,
    "start_time": "2022-03-18T08:07:01.828Z"
   },
   {
    "duration": 33,
    "start_time": "2022-03-18T08:07:01.863Z"
   },
   {
    "duration": 334,
    "start_time": "2022-03-18T08:07:01.899Z"
   },
   {
    "duration": 1249,
    "start_time": "2022-03-18T08:07:02.235Z"
   },
   {
    "duration": 32,
    "start_time": "2022-03-18T08:07:03.486Z"
   },
   {
    "duration": 28,
    "start_time": "2022-03-18T08:07:03.520Z"
   },
   {
    "duration": 448,
    "start_time": "2022-03-18T08:07:03.550Z"
   },
   {
    "duration": 10,
    "start_time": "2022-03-18T08:07:04.001Z"
   },
   {
    "duration": 458,
    "start_time": "2022-03-18T08:07:04.013Z"
   },
   {
    "duration": 13,
    "start_time": "2022-03-18T08:07:04.474Z"
   },
   {
    "duration": 463,
    "start_time": "2022-03-18T08:07:04.490Z"
   },
   {
    "duration": 22,
    "start_time": "2022-03-18T08:07:04.956Z"
   },
   {
    "duration": 454,
    "start_time": "2022-03-18T08:07:04.980Z"
   },
   {
    "duration": 17,
    "start_time": "2022-03-18T08:07:05.436Z"
   },
   {
    "duration": 456,
    "start_time": "2022-03-18T08:07:05.456Z"
   },
   {
    "duration": 11,
    "start_time": "2022-03-18T08:07:05.915Z"
   },
   {
    "duration": 597,
    "start_time": "2022-03-18T08:07:05.929Z"
   },
   {
    "duration": 1927,
    "start_time": "2022-03-18T08:07:06.529Z"
   },
   {
    "duration": 5,
    "start_time": "2022-03-18T08:07:08.458Z"
   },
   {
    "duration": 29,
    "start_time": "2022-03-18T08:07:08.465Z"
   },
   {
    "duration": 14,
    "start_time": "2022-03-18T08:07:08.497Z"
   },
   {
    "duration": 21,
    "start_time": "2022-03-18T08:07:08.513Z"
   },
   {
    "duration": 20,
    "start_time": "2022-03-18T08:07:08.536Z"
   },
   {
    "duration": 27,
    "start_time": "2022-03-18T08:07:08.558Z"
   },
   {
    "duration": 23,
    "start_time": "2022-03-18T08:07:08.587Z"
   },
   {
    "duration": 17,
    "start_time": "2022-03-18T08:07:08.612Z"
   },
   {
    "duration": 18,
    "start_time": "2022-03-18T08:07:08.631Z"
   },
   {
    "duration": 1264,
    "start_time": "2022-03-18T08:07:08.651Z"
   },
   {
    "duration": 13,
    "start_time": "2022-03-18T08:07:09.917Z"
   },
   {
    "duration": 12,
    "start_time": "2022-03-18T08:07:09.944Z"
   },
   {
    "duration": 16,
    "start_time": "2022-03-18T08:07:44.339Z"
   },
   {
    "duration": 20,
    "start_time": "2022-03-18T08:07:48.827Z"
   },
   {
    "duration": 25,
    "start_time": "2022-03-18T08:07:52.970Z"
   },
   {
    "duration": 11,
    "start_time": "2022-03-18T08:08:07.908Z"
   },
   {
    "duration": 20,
    "start_time": "2022-03-18T08:08:11.907Z"
   },
   {
    "duration": 19,
    "start_time": "2022-03-18T08:08:14.479Z"
   },
   {
    "duration": 1588,
    "start_time": "2022-03-18T08:10:17.658Z"
   },
   {
    "duration": 91,
    "start_time": "2022-03-18T08:10:19.249Z"
   },
   {
    "duration": 27,
    "start_time": "2022-03-18T08:10:19.343Z"
   },
   {
    "duration": 38,
    "start_time": "2022-03-18T08:10:19.374Z"
   },
   {
    "duration": 29,
    "start_time": "2022-03-18T08:10:19.415Z"
   },
   {
    "duration": 13,
    "start_time": "2022-03-18T08:10:19.447Z"
   },
   {
    "duration": 9,
    "start_time": "2022-03-18T08:10:19.463Z"
   },
   {
    "duration": 6,
    "start_time": "2022-03-18T08:10:19.474Z"
   },
   {
    "duration": 4,
    "start_time": "2022-03-18T08:10:19.482Z"
   },
   {
    "duration": 59,
    "start_time": "2022-03-18T08:10:19.490Z"
   },
   {
    "duration": 10,
    "start_time": "2022-03-18T08:10:19.551Z"
   },
   {
    "duration": 12,
    "start_time": "2022-03-18T08:10:19.564Z"
   },
   {
    "duration": 18,
    "start_time": "2022-03-18T08:10:19.579Z"
   },
   {
    "duration": 45,
    "start_time": "2022-03-18T08:10:19.600Z"
   },
   {
    "duration": 11,
    "start_time": "2022-03-18T08:10:19.647Z"
   },
   {
    "duration": 8,
    "start_time": "2022-03-18T08:10:19.661Z"
   },
   {
    "duration": 8,
    "start_time": "2022-03-18T08:10:19.671Z"
   },
   {
    "duration": 14,
    "start_time": "2022-03-18T08:10:19.682Z"
   },
   {
    "duration": 16,
    "start_time": "2022-03-18T08:10:19.744Z"
   },
   {
    "duration": 14,
    "start_time": "2022-03-18T08:10:19.762Z"
   },
   {
    "duration": 17,
    "start_time": "2022-03-18T08:10:19.779Z"
   },
   {
    "duration": 7,
    "start_time": "2022-03-18T08:10:19.798Z"
   },
   {
    "duration": 21,
    "start_time": "2022-03-18T08:10:19.842Z"
   },
   {
    "duration": 19,
    "start_time": "2022-03-18T08:10:19.866Z"
   },
   {
    "duration": 4,
    "start_time": "2022-03-18T08:10:19.887Z"
   },
   {
    "duration": 428,
    "start_time": "2022-03-18T08:10:19.893Z"
   },
   {
    "duration": 647,
    "start_time": "2022-03-18T08:10:20.323Z"
   },
   {
    "duration": 8,
    "start_time": "2022-03-18T08:10:20.978Z"
   },
   {
    "duration": 4161,
    "start_time": "2022-03-18T08:10:20.988Z"
   },
   {
    "duration": 23,
    "start_time": "2022-03-18T08:10:25.151Z"
   },
   {
    "duration": 32,
    "start_time": "2022-03-18T08:10:25.176Z"
   },
   {
    "duration": 289,
    "start_time": "2022-03-18T08:10:25.242Z"
   },
   {
    "duration": 1239,
    "start_time": "2022-03-18T08:10:25.534Z"
   },
   {
    "duration": 34,
    "start_time": "2022-03-18T08:10:26.776Z"
   },
   {
    "duration": 33,
    "start_time": "2022-03-18T08:10:26.812Z"
   },
   {
    "duration": 446,
    "start_time": "2022-03-18T08:10:26.847Z"
   },
   {
    "duration": 11,
    "start_time": "2022-03-18T08:10:27.296Z"
   },
   {
    "duration": 450,
    "start_time": "2022-03-18T08:10:27.309Z"
   },
   {
    "duration": 16,
    "start_time": "2022-03-18T08:10:27.761Z"
   },
   {
    "duration": 451,
    "start_time": "2022-03-18T08:10:27.779Z"
   },
   {
    "duration": 19,
    "start_time": "2022-03-18T08:10:28.232Z"
   },
   {
    "duration": 451,
    "start_time": "2022-03-18T08:10:28.253Z"
   },
   {
    "duration": 11,
    "start_time": "2022-03-18T08:10:28.706Z"
   },
   {
    "duration": 465,
    "start_time": "2022-03-18T08:10:28.719Z"
   },
   {
    "duration": 15,
    "start_time": "2022-03-18T08:10:29.187Z"
   },
   {
    "duration": 466,
    "start_time": "2022-03-18T08:10:29.204Z"
   },
   {
    "duration": 3292,
    "start_time": "2022-03-18T08:10:29.672Z"
   },
   {
    "duration": 5,
    "start_time": "2022-03-18T08:10:32.966Z"
   },
   {
    "duration": 27,
    "start_time": "2022-03-18T08:10:32.973Z"
   },
   {
    "duration": 24,
    "start_time": "2022-03-18T08:10:33.004Z"
   },
   {
    "duration": 16,
    "start_time": "2022-03-18T08:10:33.031Z"
   },
   {
    "duration": 16,
    "start_time": "2022-03-18T08:10:33.050Z"
   },
   {
    "duration": 16,
    "start_time": "2022-03-18T08:10:33.069Z"
   },
   {
    "duration": 16,
    "start_time": "2022-03-18T08:10:33.087Z"
   },
   {
    "duration": 44,
    "start_time": "2022-03-18T08:10:33.105Z"
   },
   {
    "duration": 8,
    "start_time": "2022-03-18T08:10:33.152Z"
   },
   {
    "duration": 1176,
    "start_time": "2022-03-18T08:10:33.163Z"
   },
   {
    "duration": 9,
    "start_time": "2022-03-18T08:10:34.344Z"
   },
   {
    "duration": 16,
    "start_time": "2022-03-18T08:10:34.355Z"
   },
   {
    "duration": 92,
    "start_time": "2022-03-18T15:07:50.471Z"
   },
   {
    "duration": 1729,
    "start_time": "2022-03-18T15:07:56.797Z"
   },
   {
    "duration": 145,
    "start_time": "2022-03-18T15:07:58.529Z"
   },
   {
    "duration": 22,
    "start_time": "2022-03-18T15:07:58.676Z"
   },
   {
    "duration": 44,
    "start_time": "2022-03-18T15:07:58.701Z"
   },
   {
    "duration": 29,
    "start_time": "2022-03-18T15:07:58.747Z"
   },
   {
    "duration": 13,
    "start_time": "2022-03-18T15:07:58.779Z"
   },
   {
    "duration": 11,
    "start_time": "2022-03-18T15:07:58.794Z"
   },
   {
    "duration": 17,
    "start_time": "2022-03-18T15:07:58.807Z"
   },
   {
    "duration": 9,
    "start_time": "2022-03-18T15:07:58.827Z"
   },
   {
    "duration": 40,
    "start_time": "2022-03-18T15:07:58.840Z"
   },
   {
    "duration": 9,
    "start_time": "2022-03-18T15:07:58.882Z"
   },
   {
    "duration": 14,
    "start_time": "2022-03-18T15:07:58.895Z"
   },
   {
    "duration": 20,
    "start_time": "2022-03-18T15:07:58.911Z"
   },
   {
    "duration": 41,
    "start_time": "2022-03-18T15:07:58.933Z"
   },
   {
    "duration": 10,
    "start_time": "2022-03-18T15:07:58.977Z"
   },
   {
    "duration": 9,
    "start_time": "2022-03-18T15:07:58.989Z"
   },
   {
    "duration": 9,
    "start_time": "2022-03-18T15:07:59.000Z"
   },
   {
    "duration": 15,
    "start_time": "2022-03-18T15:07:59.012Z"
   },
   {
    "duration": 51,
    "start_time": "2022-03-18T15:07:59.030Z"
   },
   {
    "duration": 13,
    "start_time": "2022-03-18T15:07:59.083Z"
   },
   {
    "duration": 32,
    "start_time": "2022-03-18T15:07:59.098Z"
   },
   {
    "duration": 7,
    "start_time": "2022-03-18T15:07:59.132Z"
   },
   {
    "duration": 44,
    "start_time": "2022-03-18T15:07:59.142Z"
   },
   {
    "duration": 21,
    "start_time": "2022-03-18T15:07:59.188Z"
   },
   {
    "duration": 4,
    "start_time": "2022-03-18T15:07:59.211Z"
   },
   {
    "duration": 535,
    "start_time": "2022-03-18T15:07:59.218Z"
   },
   {
    "duration": 499,
    "start_time": "2022-03-18T15:07:59.755Z"
   },
   {
    "duration": 18,
    "start_time": "2022-03-18T15:08:00.260Z"
   },
   {
    "duration": 4216,
    "start_time": "2022-03-18T15:08:00.280Z"
   },
   {
    "duration": 24,
    "start_time": "2022-03-18T15:08:04.499Z"
   },
   {
    "duration": 143,
    "start_time": "2022-03-18T15:08:04.526Z"
   },
   {
    "duration": 228,
    "start_time": "2022-03-18T15:08:04.671Z"
   },
   {
    "duration": 1258,
    "start_time": "2022-03-18T15:08:04.901Z"
   },
   {
    "duration": 43,
    "start_time": "2022-03-18T15:08:06.161Z"
   },
   {
    "duration": 10,
    "start_time": "2022-03-18T15:08:06.207Z"
   },
   {
    "duration": 472,
    "start_time": "2022-03-18T15:08:06.220Z"
   },
   {
    "duration": 11,
    "start_time": "2022-03-18T15:08:06.695Z"
   },
   {
    "duration": 467,
    "start_time": "2022-03-18T15:08:06.709Z"
   },
   {
    "duration": 11,
    "start_time": "2022-03-18T15:08:07.179Z"
   },
   {
    "duration": 465,
    "start_time": "2022-03-18T15:08:07.193Z"
   },
   {
    "duration": 24,
    "start_time": "2022-03-18T15:08:07.660Z"
   },
   {
    "duration": 546,
    "start_time": "2022-03-18T15:08:07.686Z"
   },
   {
    "duration": 12,
    "start_time": "2022-03-18T15:08:08.234Z"
   },
   {
    "duration": 467,
    "start_time": "2022-03-18T15:08:08.248Z"
   },
   {
    "duration": 12,
    "start_time": "2022-03-18T15:08:08.718Z"
   },
   {
    "duration": 483,
    "start_time": "2022-03-18T15:08:08.732Z"
   },
   {
    "duration": 7377,
    "start_time": "2022-03-18T15:08:09.217Z"
   },
   {
    "duration": 10,
    "start_time": "2022-03-18T15:08:16.597Z"
   },
   {
    "duration": 31,
    "start_time": "2022-03-18T15:08:16.610Z"
   },
   {
    "duration": 15,
    "start_time": "2022-03-18T15:08:16.644Z"
   },
   {
    "duration": 23,
    "start_time": "2022-03-18T15:08:16.662Z"
   },
   {
    "duration": 17,
    "start_time": "2022-03-18T15:08:16.687Z"
   },
   {
    "duration": 16,
    "start_time": "2022-03-18T15:08:16.706Z"
   },
   {
    "duration": 53,
    "start_time": "2022-03-18T15:08:16.724Z"
   },
   {
    "duration": 10,
    "start_time": "2022-03-18T15:08:16.779Z"
   },
   {
    "duration": 14,
    "start_time": "2022-03-18T15:08:16.791Z"
   },
   {
    "duration": 1221,
    "start_time": "2022-03-18T15:08:16.807Z"
   },
   {
    "duration": 10,
    "start_time": "2022-03-18T15:08:18.031Z"
   },
   {
    "duration": 32,
    "start_time": "2022-03-18T15:08:18.044Z"
   },
   {
    "duration": 7376,
    "start_time": "2022-03-18T15:18:01.746Z"
   },
   {
    "duration": 144,
    "start_time": "2022-03-18T15:23:32.446Z"
   },
   {
    "duration": 675,
    "start_time": "2022-03-18T15:24:58.687Z"
   },
   {
    "duration": 714,
    "start_time": "2022-03-18T15:25:30.239Z"
   },
   {
    "duration": 686,
    "start_time": "2022-03-18T15:25:55.535Z"
   },
   {
    "duration": 544,
    "start_time": "2022-03-18T15:27:13.600Z"
   },
   {
    "duration": 513,
    "start_time": "2022-03-18T15:27:24.161Z"
   },
   {
    "duration": 452,
    "start_time": "2022-03-18T15:28:25.530Z"
   },
   {
    "duration": 669,
    "start_time": "2022-03-18T15:28:36.427Z"
   },
   {
    "duration": 735,
    "start_time": "2022-03-18T15:29:21.218Z"
   },
   {
    "duration": 836,
    "start_time": "2022-03-18T15:29:51.498Z"
   },
   {
    "duration": 664,
    "start_time": "2022-03-18T15:30:20.204Z"
   },
   {
    "duration": 551,
    "start_time": "2022-03-18T15:31:52.918Z"
   },
   {
    "duration": 552,
    "start_time": "2022-03-18T15:32:14.941Z"
   },
   {
    "duration": 545,
    "start_time": "2022-03-18T15:32:38.599Z"
   },
   {
    "duration": 568,
    "start_time": "2022-03-18T15:32:48.190Z"
   },
   {
    "duration": 571,
    "start_time": "2022-03-18T15:33:06.639Z"
   },
   {
    "duration": 706,
    "start_time": "2022-03-18T15:33:19.943Z"
   },
   {
    "duration": 554,
    "start_time": "2022-03-18T15:33:41.344Z"
   },
   {
    "duration": 553,
    "start_time": "2022-03-18T15:33:52.048Z"
   },
   {
    "duration": 538,
    "start_time": "2022-03-18T15:34:01.759Z"
   },
   {
    "duration": 434,
    "start_time": "2022-03-18T15:34:36.543Z"
   },
   {
    "duration": 577,
    "start_time": "2022-03-18T15:34:46.796Z"
   },
   {
    "duration": 547,
    "start_time": "2022-03-18T15:34:55.271Z"
   },
   {
    "duration": 705,
    "start_time": "2022-03-18T15:36:02.439Z"
   },
   {
    "duration": 544,
    "start_time": "2022-03-18T15:37:18.629Z"
   },
   {
    "duration": 547,
    "start_time": "2022-03-18T15:37:25.839Z"
   },
   {
    "duration": 545,
    "start_time": "2022-03-18T15:40:07.468Z"
   },
   {
    "duration": 687,
    "start_time": "2022-03-18T15:40:48.054Z"
   },
   {
    "duration": 548,
    "start_time": "2022-03-18T15:43:53.025Z"
   },
   {
    "duration": 607,
    "start_time": "2022-03-18T15:44:13.967Z"
   },
   {
    "duration": 1317,
    "start_time": "2022-03-19T09:52:59.298Z"
   },
   {
    "duration": 50,
    "start_time": "2022-03-19T09:53:00.617Z"
   },
   {
    "duration": 16,
    "start_time": "2022-03-19T09:53:00.668Z"
   },
   {
    "duration": 42,
    "start_time": "2022-03-19T09:53:00.686Z"
   },
   {
    "duration": 3,
    "start_time": "2022-03-19T09:53:00.729Z"
   },
   {
    "duration": 14,
    "start_time": "2022-03-19T09:53:00.734Z"
   },
   {
    "duration": 7,
    "start_time": "2022-03-19T09:53:00.750Z"
   },
   {
    "duration": 9,
    "start_time": "2022-03-19T09:53:00.759Z"
   },
   {
    "duration": 18,
    "start_time": "2022-03-19T09:53:00.770Z"
   },
   {
    "duration": 21,
    "start_time": "2022-03-19T09:53:00.791Z"
   },
   {
    "duration": 16,
    "start_time": "2022-03-19T09:53:00.814Z"
   },
   {
    "duration": 13,
    "start_time": "2022-03-19T09:53:00.832Z"
   },
   {
    "duration": 18,
    "start_time": "2022-03-19T09:53:00.847Z"
   },
   {
    "duration": 6,
    "start_time": "2022-03-19T09:53:00.867Z"
   },
   {
    "duration": 13,
    "start_time": "2022-03-19T09:53:00.875Z"
   },
   {
    "duration": 23,
    "start_time": "2022-03-19T09:53:00.890Z"
   },
   {
    "duration": 11,
    "start_time": "2022-03-19T09:53:00.914Z"
   },
   {
    "duration": 16,
    "start_time": "2022-03-19T09:53:00.926Z"
   },
   {
    "duration": 10,
    "start_time": "2022-03-19T09:53:00.944Z"
   },
   {
    "duration": 31,
    "start_time": "2022-03-19T09:53:00.955Z"
   },
   {
    "duration": 30,
    "start_time": "2022-03-19T09:53:00.988Z"
   },
   {
    "duration": 10,
    "start_time": "2022-03-19T09:53:01.019Z"
   },
   {
    "duration": 24,
    "start_time": "2022-03-19T09:53:01.030Z"
   },
   {
    "duration": 34,
    "start_time": "2022-03-19T09:53:01.056Z"
   },
   {
    "duration": 18,
    "start_time": "2022-03-19T09:53:01.092Z"
   },
   {
    "duration": 247,
    "start_time": "2022-03-19T09:53:01.112Z"
   },
   {
    "duration": 302,
    "start_time": "2022-03-19T09:53:01.361Z"
   },
   {
    "duration": 6,
    "start_time": "2022-03-19T09:53:01.667Z"
   },
   {
    "duration": 3503,
    "start_time": "2022-03-19T09:53:01.674Z"
   },
   {
    "duration": 16,
    "start_time": "2022-03-19T09:53:05.179Z"
   },
   {
    "duration": 93,
    "start_time": "2022-03-19T09:53:05.208Z"
   },
   {
    "duration": 152,
    "start_time": "2022-03-19T09:53:05.309Z"
   },
   {
    "duration": 605,
    "start_time": "2022-03-19T09:53:05.463Z"
   },
   {
    "duration": 21,
    "start_time": "2022-03-19T09:53:06.070Z"
   },
   {
    "duration": 20,
    "start_time": "2022-03-19T09:53:06.093Z"
   },
   {
    "duration": 281,
    "start_time": "2022-03-19T09:53:06.114Z"
   },
   {
    "duration": 12,
    "start_time": "2022-03-19T09:53:06.397Z"
   },
   {
    "duration": 277,
    "start_time": "2022-03-19T09:53:06.411Z"
   },
   {
    "duration": 20,
    "start_time": "2022-03-19T09:53:06.690Z"
   },
   {
    "duration": 290,
    "start_time": "2022-03-19T09:53:06.712Z"
   },
   {
    "duration": 9,
    "start_time": "2022-03-19T09:53:07.008Z"
   },
   {
    "duration": 277,
    "start_time": "2022-03-19T09:53:07.018Z"
   },
   {
    "duration": 18,
    "start_time": "2022-03-19T09:53:07.296Z"
   },
   {
    "duration": 275,
    "start_time": "2022-03-19T09:53:07.316Z"
   },
   {
    "duration": 18,
    "start_time": "2022-03-19T09:53:07.592Z"
   },
   {
    "duration": 275,
    "start_time": "2022-03-19T09:53:07.611Z"
   },
   {
    "duration": 378,
    "start_time": "2022-03-19T09:53:07.887Z"
   },
   {
    "duration": 3,
    "start_time": "2022-03-19T09:53:08.267Z"
   },
   {
    "duration": 16,
    "start_time": "2022-03-19T09:53:08.272Z"
   },
   {
    "duration": 11,
    "start_time": "2022-03-19T09:53:08.289Z"
   },
   {
    "duration": 13,
    "start_time": "2022-03-19T09:53:08.302Z"
   },
   {
    "duration": 12,
    "start_time": "2022-03-19T09:53:08.317Z"
   },
   {
    "duration": 10,
    "start_time": "2022-03-19T09:53:08.331Z"
   },
   {
    "duration": 12,
    "start_time": "2022-03-19T09:53:08.343Z"
   },
   {
    "duration": 6,
    "start_time": "2022-03-19T09:53:08.357Z"
   },
   {
    "duration": 14,
    "start_time": "2022-03-19T09:53:08.365Z"
   },
   {
    "duration": 755,
    "start_time": "2022-03-19T09:53:08.408Z"
   },
   {
    "duration": 8,
    "start_time": "2022-03-19T09:53:09.165Z"
   },
   {
    "duration": 14,
    "start_time": "2022-03-19T09:53:09.175Z"
   },
   {
    "duration": 279,
    "start_time": "2022-03-19T09:53:20.463Z"
   },
   {
    "duration": 25,
    "start_time": "2022-03-19T09:56:49.371Z"
   },
   {
    "duration": 344,
    "start_time": "2022-03-19T09:57:01.907Z"
   },
   {
    "duration": 361,
    "start_time": "2022-03-19T09:57:06.817Z"
   },
   {
    "duration": 403,
    "start_time": "2022-03-19T09:57:15.844Z"
   },
   {
    "duration": 310,
    "start_time": "2022-03-19T09:57:21.218Z"
   },
   {
    "duration": 373,
    "start_time": "2022-03-19T09:57:28.076Z"
   },
   {
    "duration": 307,
    "start_time": "2022-03-19T09:57:33.027Z"
   },
   {
    "duration": 342,
    "start_time": "2022-03-19T09:57:39.458Z"
   },
   {
    "duration": 335,
    "start_time": "2022-03-19T09:57:58.140Z"
   },
   {
    "duration": 370,
    "start_time": "2022-03-19T09:58:08.430Z"
   },
   {
    "duration": 449,
    "start_time": "2022-03-19T09:58:26.611Z"
   },
   {
    "duration": 164,
    "start_time": "2022-03-19T10:02:55.055Z"
   },
   {
    "duration": 19,
    "start_time": "2022-03-19T10:03:27.714Z"
   },
   {
    "duration": 602,
    "start_time": "2022-03-19T10:04:37.193Z"
   },
   {
    "duration": 159,
    "start_time": "2022-03-19T10:04:48.848Z"
   },
   {
    "duration": 355,
    "start_time": "2022-03-19T10:05:14.600Z"
   },
   {
    "duration": 357,
    "start_time": "2022-03-19T10:06:01.266Z"
   },
   {
    "duration": 475,
    "start_time": "2022-03-19T10:06:16.304Z"
   },
   {
    "duration": 422,
    "start_time": "2022-03-19T10:06:44.386Z"
   },
   {
    "duration": 357,
    "start_time": "2022-03-19T10:07:09.514Z"
   },
   {
    "duration": 520,
    "start_time": "2022-03-19T10:07:15.052Z"
   },
   {
    "duration": 121,
    "start_time": "2022-03-19T10:07:24.170Z"
   },
   {
    "duration": 485,
    "start_time": "2022-03-19T10:07:29.500Z"
   },
   {
    "duration": 386,
    "start_time": "2022-03-19T10:08:18.555Z"
   },
   {
    "duration": 471,
    "start_time": "2022-03-19T10:08:25.030Z"
   },
   {
    "duration": 451,
    "start_time": "2022-03-19T10:08:37.848Z"
   },
   {
    "duration": 117,
    "start_time": "2022-03-19T10:15:00.507Z"
   },
   {
    "duration": 0,
    "start_time": "2022-03-19T10:15:00.626Z"
   },
   {
    "duration": 99,
    "start_time": "2022-03-19T10:17:07.161Z"
   },
   {
    "duration": 20,
    "start_time": "2022-03-19T10:18:27.092Z"
   },
   {
    "duration": 93,
    "start_time": "2022-03-19T10:19:12.043Z"
   },
   {
    "duration": 114,
    "start_time": "2022-03-19T10:20:10.373Z"
   },
   {
    "duration": 15,
    "start_time": "2022-03-19T10:22:46.102Z"
   },
   {
    "duration": 14,
    "start_time": "2022-03-19T10:22:53.879Z"
   },
   {
    "duration": 11,
    "start_time": "2022-03-19T10:23:29.469Z"
   },
   {
    "duration": 12,
    "start_time": "2022-03-19T10:23:29.523Z"
   },
   {
    "duration": 4,
    "start_time": "2022-03-19T10:30:34.044Z"
   },
   {
    "duration": 20,
    "start_time": "2022-03-19T10:30:38.148Z"
   },
   {
    "duration": 4,
    "start_time": "2022-03-19T10:31:18.420Z"
   },
   {
    "duration": 23,
    "start_time": "2022-03-19T10:31:21.636Z"
   },
   {
    "duration": 4,
    "start_time": "2022-03-19T10:31:33.084Z"
   },
   {
    "duration": 21,
    "start_time": "2022-03-19T10:31:34.300Z"
   },
   {
    "duration": 4,
    "start_time": "2022-03-19T10:31:42.509Z"
   },
   {
    "duration": 11,
    "start_time": "2022-03-19T10:31:43.294Z"
   },
   {
    "duration": 840,
    "start_time": "2022-03-19T10:38:22.698Z"
   },
   {
    "duration": 1105,
    "start_time": "2022-03-19T10:53:40.271Z"
   },
   {
    "duration": 8,
    "start_time": "2022-03-19T10:54:19.586Z"
   },
   {
    "duration": 14,
    "start_time": "2022-03-19T11:20:03.094Z"
   },
   {
    "duration": 16,
    "start_time": "2022-03-19T11:20:38.431Z"
   },
   {
    "duration": 14,
    "start_time": "2022-03-19T11:21:17.296Z"
   },
   {
    "duration": 8,
    "start_time": "2022-03-19T11:22:55.479Z"
   },
   {
    "duration": 1238,
    "start_time": "2022-03-19T11:23:44.294Z"
   },
   {
    "duration": 52,
    "start_time": "2022-03-19T11:23:45.534Z"
   },
   {
    "duration": 24,
    "start_time": "2022-03-19T11:23:45.588Z"
   },
   {
    "duration": 27,
    "start_time": "2022-03-19T11:23:45.614Z"
   },
   {
    "duration": 3,
    "start_time": "2022-03-19T11:23:45.643Z"
   },
   {
    "duration": 16,
    "start_time": "2022-03-19T11:23:45.647Z"
   },
   {
    "duration": 6,
    "start_time": "2022-03-19T11:23:45.665Z"
   },
   {
    "duration": 36,
    "start_time": "2022-03-19T11:23:45.673Z"
   },
   {
    "duration": 2,
    "start_time": "2022-03-19T11:23:45.711Z"
   },
   {
    "duration": 10,
    "start_time": "2022-03-19T11:23:45.716Z"
   },
   {
    "duration": 7,
    "start_time": "2022-03-19T11:23:45.727Z"
   },
   {
    "duration": 8,
    "start_time": "2022-03-19T11:23:45.736Z"
   },
   {
    "duration": 14,
    "start_time": "2022-03-19T11:23:45.745Z"
   },
   {
    "duration": 7,
    "start_time": "2022-03-19T11:23:45.809Z"
   },
   {
    "duration": 12,
    "start_time": "2022-03-19T11:23:45.817Z"
   },
   {
    "duration": 113,
    "start_time": "2022-03-19T11:23:45.830Z"
   },
   {
    "duration": 0,
    "start_time": "2022-03-19T11:23:45.946Z"
   },
   {
    "duration": 0,
    "start_time": "2022-03-19T11:23:45.947Z"
   },
   {
    "duration": 0,
    "start_time": "2022-03-19T11:23:45.948Z"
   },
   {
    "duration": 0,
    "start_time": "2022-03-19T11:23:45.950Z"
   },
   {
    "duration": 0,
    "start_time": "2022-03-19T11:23:45.951Z"
   },
   {
    "duration": 0,
    "start_time": "2022-03-19T11:23:45.952Z"
   },
   {
    "duration": 0,
    "start_time": "2022-03-19T11:23:45.953Z"
   },
   {
    "duration": 0,
    "start_time": "2022-03-19T11:23:45.954Z"
   },
   {
    "duration": 0,
    "start_time": "2022-03-19T11:23:45.955Z"
   },
   {
    "duration": 0,
    "start_time": "2022-03-19T11:23:45.956Z"
   },
   {
    "duration": 0,
    "start_time": "2022-03-19T11:23:45.957Z"
   },
   {
    "duration": 0,
    "start_time": "2022-03-19T11:23:45.958Z"
   },
   {
    "duration": 0,
    "start_time": "2022-03-19T11:23:45.959Z"
   },
   {
    "duration": 0,
    "start_time": "2022-03-19T11:23:45.961Z"
   },
   {
    "duration": 0,
    "start_time": "2022-03-19T11:23:45.962Z"
   },
   {
    "duration": 0,
    "start_time": "2022-03-19T11:23:45.963Z"
   },
   {
    "duration": 0,
    "start_time": "2022-03-19T11:23:45.964Z"
   },
   {
    "duration": 0,
    "start_time": "2022-03-19T11:23:45.965Z"
   },
   {
    "duration": 0,
    "start_time": "2022-03-19T11:23:45.966Z"
   },
   {
    "duration": 0,
    "start_time": "2022-03-19T11:23:45.967Z"
   },
   {
    "duration": 0,
    "start_time": "2022-03-19T11:23:45.968Z"
   },
   {
    "duration": 0,
    "start_time": "2022-03-19T11:23:46.009Z"
   },
   {
    "duration": 0,
    "start_time": "2022-03-19T11:23:46.010Z"
   },
   {
    "duration": 0,
    "start_time": "2022-03-19T11:23:46.011Z"
   },
   {
    "duration": 0,
    "start_time": "2022-03-19T11:23:46.013Z"
   },
   {
    "duration": 0,
    "start_time": "2022-03-19T11:23:46.014Z"
   },
   {
    "duration": 0,
    "start_time": "2022-03-19T11:23:46.015Z"
   },
   {
    "duration": 0,
    "start_time": "2022-03-19T11:23:46.016Z"
   },
   {
    "duration": 0,
    "start_time": "2022-03-19T11:23:46.017Z"
   },
   {
    "duration": 0,
    "start_time": "2022-03-19T11:23:46.018Z"
   },
   {
    "duration": 0,
    "start_time": "2022-03-19T11:23:46.019Z"
   },
   {
    "duration": 0,
    "start_time": "2022-03-19T11:23:46.020Z"
   },
   {
    "duration": 0,
    "start_time": "2022-03-19T11:23:46.021Z"
   },
   {
    "duration": 0,
    "start_time": "2022-03-19T11:23:46.022Z"
   },
   {
    "duration": 0,
    "start_time": "2022-03-19T11:23:46.023Z"
   },
   {
    "duration": 0,
    "start_time": "2022-03-19T11:23:46.023Z"
   },
   {
    "duration": 0,
    "start_time": "2022-03-19T11:23:46.024Z"
   },
   {
    "duration": 0,
    "start_time": "2022-03-19T11:23:46.026Z"
   },
   {
    "duration": 0,
    "start_time": "2022-03-19T11:23:46.027Z"
   },
   {
    "duration": 0,
    "start_time": "2022-03-19T11:23:46.028Z"
   },
   {
    "duration": 0,
    "start_time": "2022-03-19T11:23:46.029Z"
   },
   {
    "duration": 0,
    "start_time": "2022-03-19T11:23:46.030Z"
   },
   {
    "duration": 0,
    "start_time": "2022-03-19T11:23:46.031Z"
   },
   {
    "duration": 1168,
    "start_time": "2022-03-19T11:24:39.032Z"
   },
   {
    "duration": 49,
    "start_time": "2022-03-19T11:24:40.202Z"
   },
   {
    "duration": 14,
    "start_time": "2022-03-19T11:24:40.253Z"
   },
   {
    "duration": 40,
    "start_time": "2022-03-19T11:24:40.269Z"
   },
   {
    "duration": 4,
    "start_time": "2022-03-19T11:24:40.311Z"
   },
   {
    "duration": 11,
    "start_time": "2022-03-19T11:24:40.317Z"
   },
   {
    "duration": 8,
    "start_time": "2022-03-19T11:24:40.329Z"
   },
   {
    "duration": 4,
    "start_time": "2022-03-19T11:24:40.338Z"
   },
   {
    "duration": 6,
    "start_time": "2022-03-19T11:24:40.344Z"
   },
   {
    "duration": 9,
    "start_time": "2022-03-19T11:24:40.353Z"
   },
   {
    "duration": 7,
    "start_time": "2022-03-19T11:24:40.363Z"
   },
   {
    "duration": 43,
    "start_time": "2022-03-19T11:24:40.371Z"
   },
   {
    "duration": 13,
    "start_time": "2022-03-19T11:24:40.416Z"
   },
   {
    "duration": 7,
    "start_time": "2022-03-19T11:24:40.430Z"
   },
   {
    "duration": 10,
    "start_time": "2022-03-19T11:24:40.439Z"
   },
   {
    "duration": 13,
    "start_time": "2022-03-19T11:24:40.450Z"
   },
   {
    "duration": 7,
    "start_time": "2022-03-19T11:24:40.465Z"
   },
   {
    "duration": 43,
    "start_time": "2022-03-19T11:24:40.474Z"
   },
   {
    "duration": 10,
    "start_time": "2022-03-19T11:24:40.518Z"
   },
   {
    "duration": 10,
    "start_time": "2022-03-19T11:24:40.529Z"
   },
   {
    "duration": 11,
    "start_time": "2022-03-19T11:24:40.540Z"
   },
   {
    "duration": 5,
    "start_time": "2022-03-19T11:24:40.553Z"
   },
   {
    "duration": 14,
    "start_time": "2022-03-19T11:24:40.560Z"
   },
   {
    "duration": 19,
    "start_time": "2022-03-19T11:24:40.609Z"
   },
   {
    "duration": 3,
    "start_time": "2022-03-19T11:24:40.630Z"
   },
   {
    "duration": 260,
    "start_time": "2022-03-19T11:24:40.635Z"
   },
   {
    "duration": 318,
    "start_time": "2022-03-19T11:24:40.897Z"
   },
   {
    "duration": 5,
    "start_time": "2022-03-19T11:24:41.220Z"
   },
   {
    "duration": 2632,
    "start_time": "2022-03-19T11:24:41.227Z"
   },
   {
    "duration": 16,
    "start_time": "2022-03-19T11:24:43.860Z"
   },
   {
    "duration": 101,
    "start_time": "2022-03-19T11:24:43.877Z"
   },
   {
    "duration": 145,
    "start_time": "2022-03-19T11:24:43.980Z"
   },
   {
    "duration": 599,
    "start_time": "2022-03-19T11:24:44.127Z"
   },
   {
    "duration": 21,
    "start_time": "2022-03-19T11:24:44.728Z"
   },
   {
    "duration": 7,
    "start_time": "2022-03-19T11:24:44.750Z"
   },
   {
    "duration": 289,
    "start_time": "2022-03-19T11:24:44.759Z"
   },
   {
    "duration": 9,
    "start_time": "2022-03-19T11:24:45.050Z"
   },
   {
    "duration": 277,
    "start_time": "2022-03-19T11:24:45.062Z"
   },
   {
    "duration": 9,
    "start_time": "2022-03-19T11:24:45.342Z"
   },
   {
    "duration": 283,
    "start_time": "2022-03-19T11:24:45.353Z"
   },
   {
    "duration": 8,
    "start_time": "2022-03-19T11:24:45.638Z"
   },
   {
    "duration": 286,
    "start_time": "2022-03-19T11:24:45.648Z"
   },
   {
    "duration": 8,
    "start_time": "2022-03-19T11:24:45.935Z"
   },
   {
    "duration": 279,
    "start_time": "2022-03-19T11:24:45.945Z"
   },
   {
    "duration": 8,
    "start_time": "2022-03-19T11:24:46.225Z"
   },
   {
    "duration": 301,
    "start_time": "2022-03-19T11:24:46.235Z"
   },
   {
    "duration": 543,
    "start_time": "2022-03-19T11:24:46.538Z"
   },
   {
    "duration": 3,
    "start_time": "2022-03-19T11:24:47.083Z"
   },
   {
    "duration": 19,
    "start_time": "2022-03-19T11:24:47.088Z"
   },
   {
    "duration": 14,
    "start_time": "2022-03-19T11:24:47.108Z"
   },
   {
    "duration": 11,
    "start_time": "2022-03-19T11:24:47.124Z"
   },
   {
    "duration": 10,
    "start_time": "2022-03-19T11:24:47.137Z"
   },
   {
    "duration": 11,
    "start_time": "2022-03-19T11:24:47.149Z"
   },
   {
    "duration": 47,
    "start_time": "2022-03-19T11:24:47.162Z"
   },
   {
    "duration": 6,
    "start_time": "2022-03-19T11:24:47.212Z"
   },
   {
    "duration": 5,
    "start_time": "2022-03-19T11:24:47.220Z"
   },
   {
    "duration": 856,
    "start_time": "2022-03-19T11:24:47.227Z"
   },
   {
    "duration": 8,
    "start_time": "2022-03-19T11:24:48.085Z"
   },
   {
    "duration": 20,
    "start_time": "2022-03-19T11:24:48.095Z"
   },
   {
    "duration": 11,
    "start_time": "2022-03-19T11:40:16.086Z"
   },
   {
    "duration": 23,
    "start_time": "2022-03-19T11:40:20.112Z"
   },
   {
    "duration": 1198,
    "start_time": "2022-03-19T11:50:56.800Z"
   },
   {
    "duration": 57,
    "start_time": "2022-03-19T11:50:58.000Z"
   },
   {
    "duration": 14,
    "start_time": "2022-03-19T11:50:58.058Z"
   },
   {
    "duration": 39,
    "start_time": "2022-03-19T11:50:58.074Z"
   },
   {
    "duration": 4,
    "start_time": "2022-03-19T11:50:58.115Z"
   },
   {
    "duration": 13,
    "start_time": "2022-03-19T11:50:58.122Z"
   },
   {
    "duration": 8,
    "start_time": "2022-03-19T11:50:58.137Z"
   },
   {
    "duration": 5,
    "start_time": "2022-03-19T11:50:58.146Z"
   },
   {
    "duration": 3,
    "start_time": "2022-03-19T11:50:58.153Z"
   },
   {
    "duration": 49,
    "start_time": "2022-03-19T11:50:58.160Z"
   },
   {
    "duration": 11,
    "start_time": "2022-03-19T11:50:58.211Z"
   },
   {
    "duration": 11,
    "start_time": "2022-03-19T11:50:58.223Z"
   },
   {
    "duration": 11,
    "start_time": "2022-03-19T11:50:58.236Z"
   },
   {
    "duration": 7,
    "start_time": "2022-03-19T11:50:58.249Z"
   },
   {
    "duration": 10,
    "start_time": "2022-03-19T11:50:58.257Z"
   },
   {
    "duration": 44,
    "start_time": "2022-03-19T11:50:58.268Z"
   },
   {
    "duration": 6,
    "start_time": "2022-03-19T11:50:58.315Z"
   },
   {
    "duration": 13,
    "start_time": "2022-03-19T11:50:58.323Z"
   },
   {
    "duration": 16,
    "start_time": "2022-03-19T11:50:58.337Z"
   },
   {
    "duration": 9,
    "start_time": "2022-03-19T11:50:58.355Z"
   },
   {
    "duration": 8,
    "start_time": "2022-03-19T11:50:58.366Z"
   },
   {
    "duration": 37,
    "start_time": "2022-03-19T11:50:58.376Z"
   },
   {
    "duration": 7,
    "start_time": "2022-03-19T11:50:58.416Z"
   },
   {
    "duration": 17,
    "start_time": "2022-03-19T11:50:58.425Z"
   },
   {
    "duration": 14,
    "start_time": "2022-03-19T11:50:58.444Z"
   },
   {
    "duration": 2,
    "start_time": "2022-03-19T11:50:58.460Z"
   },
   {
    "duration": 279,
    "start_time": "2022-03-19T11:50:58.463Z"
   },
   {
    "duration": 320,
    "start_time": "2022-03-19T11:50:58.747Z"
   },
   {
    "duration": 6,
    "start_time": "2022-03-19T11:50:59.069Z"
   },
   {
    "duration": 3780,
    "start_time": "2022-03-19T11:50:59.076Z"
   },
   {
    "duration": 17,
    "start_time": "2022-03-19T11:51:02.857Z"
   },
   {
    "duration": 111,
    "start_time": "2022-03-19T11:51:02.876Z"
   },
   {
    "duration": 157,
    "start_time": "2022-03-19T11:51:02.989Z"
   },
   {
    "duration": 610,
    "start_time": "2022-03-19T11:51:03.148Z"
   },
   {
    "duration": 22,
    "start_time": "2022-03-19T11:51:03.760Z"
   },
   {
    "duration": 7,
    "start_time": "2022-03-19T11:51:03.784Z"
   },
   {
    "duration": 264,
    "start_time": "2022-03-19T11:51:03.809Z"
   },
   {
    "duration": 7,
    "start_time": "2022-03-19T11:51:04.075Z"
   },
   {
    "duration": 285,
    "start_time": "2022-03-19T11:51:04.084Z"
   },
   {
    "duration": 8,
    "start_time": "2022-03-19T11:51:04.370Z"
   },
   {
    "duration": 295,
    "start_time": "2022-03-19T11:51:04.379Z"
   },
   {
    "duration": 8,
    "start_time": "2022-03-19T11:51:04.676Z"
   },
   {
    "duration": 296,
    "start_time": "2022-03-19T11:51:04.685Z"
   },
   {
    "duration": 8,
    "start_time": "2022-03-19T11:51:04.983Z"
   },
   {
    "duration": 273,
    "start_time": "2022-03-19T11:51:05.009Z"
   },
   {
    "duration": 8,
    "start_time": "2022-03-19T11:51:05.283Z"
   },
   {
    "duration": 287,
    "start_time": "2022-03-19T11:51:05.292Z"
   },
   {
    "duration": 559,
    "start_time": "2022-03-19T11:51:05.581Z"
   },
   {
    "duration": 3,
    "start_time": "2022-03-19T11:51:06.142Z"
   },
   {
    "duration": 14,
    "start_time": "2022-03-19T11:51:06.147Z"
   },
   {
    "duration": 11,
    "start_time": "2022-03-19T11:51:06.162Z"
   },
   {
    "duration": 11,
    "start_time": "2022-03-19T11:51:06.174Z"
   },
   {
    "duration": 11,
    "start_time": "2022-03-19T11:51:06.187Z"
   },
   {
    "duration": 20,
    "start_time": "2022-03-19T11:51:06.200Z"
   },
   {
    "duration": 15,
    "start_time": "2022-03-19T11:51:06.222Z"
   },
   {
    "duration": 8,
    "start_time": "2022-03-19T11:51:06.239Z"
   },
   {
    "duration": 5,
    "start_time": "2022-03-19T11:51:06.249Z"
   },
   {
    "duration": 910,
    "start_time": "2022-03-19T11:51:06.255Z"
   },
   {
    "duration": 7,
    "start_time": "2022-03-19T11:51:07.167Z"
   },
   {
    "duration": 7,
    "start_time": "2022-03-19T11:51:07.176Z"
   },
   {
    "duration": 1112,
    "start_time": "2022-03-19T11:52:42.673Z"
   },
   {
    "duration": 52,
    "start_time": "2022-03-19T11:52:43.789Z"
   },
   {
    "duration": 16,
    "start_time": "2022-03-19T11:52:43.842Z"
   },
   {
    "duration": 24,
    "start_time": "2022-03-19T11:52:43.860Z"
   },
   {
    "duration": 3,
    "start_time": "2022-03-19T11:52:43.885Z"
   },
   {
    "duration": 14,
    "start_time": "2022-03-19T11:52:43.908Z"
   },
   {
    "duration": 7,
    "start_time": "2022-03-19T11:52:43.924Z"
   },
   {
    "duration": 4,
    "start_time": "2022-03-19T11:52:43.933Z"
   },
   {
    "duration": 4,
    "start_time": "2022-03-19T11:52:43.939Z"
   },
   {
    "duration": 9,
    "start_time": "2022-03-19T11:52:43.946Z"
   },
   {
    "duration": 7,
    "start_time": "2022-03-19T11:52:43.956Z"
   },
   {
    "duration": 45,
    "start_time": "2022-03-19T11:52:43.965Z"
   },
   {
    "duration": 16,
    "start_time": "2022-03-19T11:52:44.012Z"
   },
   {
    "duration": 8,
    "start_time": "2022-03-19T11:52:44.030Z"
   },
   {
    "duration": 12,
    "start_time": "2022-03-19T11:52:44.040Z"
   },
   {
    "duration": 9,
    "start_time": "2022-03-19T11:52:44.054Z"
   },
   {
    "duration": 11,
    "start_time": "2022-03-19T11:52:44.064Z"
   },
   {
    "duration": 32,
    "start_time": "2022-03-19T11:52:44.076Z"
   },
   {
    "duration": 9,
    "start_time": "2022-03-19T11:52:44.110Z"
   },
   {
    "duration": 6,
    "start_time": "2022-03-19T11:52:44.121Z"
   },
   {
    "duration": 8,
    "start_time": "2022-03-19T11:52:44.128Z"
   },
   {
    "duration": 12,
    "start_time": "2022-03-19T11:52:44.137Z"
   },
   {
    "duration": 8,
    "start_time": "2022-03-19T11:52:44.152Z"
   },
   {
    "duration": 7,
    "start_time": "2022-03-19T11:52:44.162Z"
   },
   {
    "duration": 47,
    "start_time": "2022-03-19T11:52:44.171Z"
   },
   {
    "duration": 6,
    "start_time": "2022-03-19T11:52:44.220Z"
   },
   {
    "duration": 15,
    "start_time": "2022-03-19T11:52:44.228Z"
   },
   {
    "duration": 16,
    "start_time": "2022-03-19T11:52:44.246Z"
   },
   {
    "duration": 2,
    "start_time": "2022-03-19T11:52:44.263Z"
   },
   {
    "duration": 282,
    "start_time": "2022-03-19T11:52:44.267Z"
   },
   {
    "duration": 322,
    "start_time": "2022-03-19T11:52:44.551Z"
   },
   {
    "duration": 6,
    "start_time": "2022-03-19T11:52:44.875Z"
   },
   {
    "duration": 3805,
    "start_time": "2022-03-19T11:52:44.882Z"
   },
   {
    "duration": 22,
    "start_time": "2022-03-19T11:52:48.689Z"
   },
   {
    "duration": 111,
    "start_time": "2022-03-19T11:52:48.713Z"
   },
   {
    "duration": 160,
    "start_time": "2022-03-19T11:52:48.826Z"
   },
   {
    "duration": 629,
    "start_time": "2022-03-19T11:52:48.987Z"
   },
   {
    "duration": 25,
    "start_time": "2022-03-19T11:52:49.619Z"
   },
   {
    "duration": 8,
    "start_time": "2022-03-19T11:52:49.646Z"
   },
   {
    "duration": 304,
    "start_time": "2022-03-19T11:52:49.655Z"
   },
   {
    "duration": 10,
    "start_time": "2022-03-19T11:52:49.961Z"
   },
   {
    "duration": 297,
    "start_time": "2022-03-19T11:52:49.973Z"
   },
   {
    "duration": 8,
    "start_time": "2022-03-19T11:52:50.272Z"
   },
   {
    "duration": 293,
    "start_time": "2022-03-19T11:52:50.282Z"
   },
   {
    "duration": 7,
    "start_time": "2022-03-19T11:52:50.577Z"
   },
   {
    "duration": 337,
    "start_time": "2022-03-19T11:52:50.586Z"
   },
   {
    "duration": 12,
    "start_time": "2022-03-19T11:52:50.925Z"
   },
   {
    "duration": 299,
    "start_time": "2022-03-19T11:52:50.939Z"
   },
   {
    "duration": 8,
    "start_time": "2022-03-19T11:52:51.239Z"
   },
   {
    "duration": 295,
    "start_time": "2022-03-19T11:52:51.248Z"
   },
   {
    "duration": 544,
    "start_time": "2022-03-19T11:52:51.545Z"
   },
   {
    "duration": 4,
    "start_time": "2022-03-19T11:52:52.090Z"
   },
   {
    "duration": 23,
    "start_time": "2022-03-19T11:52:52.096Z"
   },
   {
    "duration": 13,
    "start_time": "2022-03-19T11:52:52.121Z"
   },
   {
    "duration": 10,
    "start_time": "2022-03-19T11:52:52.136Z"
   },
   {
    "duration": 15,
    "start_time": "2022-03-19T11:52:52.147Z"
   },
   {
    "duration": 17,
    "start_time": "2022-03-19T11:52:52.164Z"
   },
   {
    "duration": 30,
    "start_time": "2022-03-19T11:52:52.183Z"
   },
   {
    "duration": 21,
    "start_time": "2022-03-19T11:52:52.215Z"
   },
   {
    "duration": 4,
    "start_time": "2022-03-19T11:52:52.238Z"
   },
   {
    "duration": 875,
    "start_time": "2022-03-19T11:52:52.244Z"
   },
   {
    "duration": 11,
    "start_time": "2022-03-19T11:52:53.122Z"
   },
   {
    "duration": 6,
    "start_time": "2022-03-19T11:52:53.135Z"
   },
   {
    "duration": 9,
    "start_time": "2022-03-19T11:54:58.458Z"
   },
   {
    "duration": 1223,
    "start_time": "2022-03-19T12:00:11.704Z"
   },
   {
    "duration": 65,
    "start_time": "2022-03-19T12:00:12.929Z"
   },
   {
    "duration": 23,
    "start_time": "2022-03-19T12:00:12.996Z"
   },
   {
    "duration": 30,
    "start_time": "2022-03-19T12:00:13.021Z"
   },
   {
    "duration": 4,
    "start_time": "2022-03-19T12:00:13.052Z"
   },
   {
    "duration": 12,
    "start_time": "2022-03-19T12:00:13.057Z"
   },
   {
    "duration": 19,
    "start_time": "2022-03-19T12:00:13.070Z"
   },
   {
    "duration": 18,
    "start_time": "2022-03-19T12:00:13.091Z"
   },
   {
    "duration": 3,
    "start_time": "2022-03-19T12:00:13.110Z"
   },
   {
    "duration": 12,
    "start_time": "2022-03-19T12:00:13.116Z"
   },
   {
    "duration": 7,
    "start_time": "2022-03-19T12:00:13.130Z"
   },
   {
    "duration": 7,
    "start_time": "2022-03-19T12:00:13.139Z"
   },
   {
    "duration": 14,
    "start_time": "2022-03-19T12:00:13.148Z"
   },
   {
    "duration": 6,
    "start_time": "2022-03-19T12:00:13.163Z"
   },
   {
    "duration": 44,
    "start_time": "2022-03-19T12:00:13.170Z"
   },
   {
    "duration": 11,
    "start_time": "2022-03-19T12:00:13.217Z"
   },
   {
    "duration": 10,
    "start_time": "2022-03-19T12:00:13.230Z"
   },
   {
    "duration": 5,
    "start_time": "2022-03-19T12:00:13.241Z"
   },
   {
    "duration": 8,
    "start_time": "2022-03-19T12:00:13.248Z"
   },
   {
    "duration": 12,
    "start_time": "2022-03-19T12:00:13.258Z"
   },
   {
    "duration": 44,
    "start_time": "2022-03-19T12:00:13.272Z"
   },
   {
    "duration": 12,
    "start_time": "2022-03-19T12:00:13.318Z"
   },
   {
    "duration": 11,
    "start_time": "2022-03-19T12:00:13.332Z"
   },
   {
    "duration": 5,
    "start_time": "2022-03-19T12:00:13.345Z"
   },
   {
    "duration": 14,
    "start_time": "2022-03-19T12:00:13.351Z"
   },
   {
    "duration": 45,
    "start_time": "2022-03-19T12:00:13.366Z"
   },
   {
    "duration": 2,
    "start_time": "2022-03-19T12:00:13.413Z"
   },
   {
    "duration": 262,
    "start_time": "2022-03-19T12:00:13.421Z"
   },
   {
    "duration": 327,
    "start_time": "2022-03-19T12:00:13.685Z"
   },
   {
    "duration": 6,
    "start_time": "2022-03-19T12:00:14.014Z"
   },
   {
    "duration": 3081,
    "start_time": "2022-03-19T12:00:14.022Z"
   },
   {
    "duration": 19,
    "start_time": "2022-03-19T12:00:17.108Z"
   },
   {
    "duration": 120,
    "start_time": "2022-03-19T12:00:17.129Z"
   },
   {
    "duration": 164,
    "start_time": "2022-03-19T12:00:17.251Z"
   },
   {
    "duration": 617,
    "start_time": "2022-03-19T12:00:17.417Z"
   },
   {
    "duration": 22,
    "start_time": "2022-03-19T12:00:18.036Z"
   },
   {
    "duration": 9,
    "start_time": "2022-03-19T12:00:18.060Z"
   },
   {
    "duration": 301,
    "start_time": "2022-03-19T12:00:18.070Z"
   },
   {
    "duration": 9,
    "start_time": "2022-03-19T12:00:18.372Z"
   },
   {
    "duration": 285,
    "start_time": "2022-03-19T12:00:18.382Z"
   },
   {
    "duration": 8,
    "start_time": "2022-03-19T12:00:18.669Z"
   },
   {
    "duration": 295,
    "start_time": "2022-03-19T12:00:18.679Z"
   },
   {
    "duration": 9,
    "start_time": "2022-03-19T12:00:18.975Z"
   },
   {
    "duration": 293,
    "start_time": "2022-03-19T12:00:18.985Z"
   },
   {
    "duration": 9,
    "start_time": "2022-03-19T12:00:19.280Z"
   },
   {
    "duration": 295,
    "start_time": "2022-03-19T12:00:19.290Z"
   },
   {
    "duration": 8,
    "start_time": "2022-03-19T12:00:19.587Z"
   },
   {
    "duration": 305,
    "start_time": "2022-03-19T12:00:19.609Z"
   },
   {
    "duration": 545,
    "start_time": "2022-03-19T12:00:19.916Z"
   },
   {
    "duration": 3,
    "start_time": "2022-03-19T12:00:20.463Z"
   },
   {
    "duration": 17,
    "start_time": "2022-03-19T12:00:20.468Z"
   },
   {
    "duration": 12,
    "start_time": "2022-03-19T12:00:20.487Z"
   },
   {
    "duration": 20,
    "start_time": "2022-03-19T12:00:20.501Z"
   },
   {
    "duration": 13,
    "start_time": "2022-03-19T12:00:20.523Z"
   },
   {
    "duration": 10,
    "start_time": "2022-03-19T12:00:20.538Z"
   },
   {
    "duration": 16,
    "start_time": "2022-03-19T12:00:20.550Z"
   },
   {
    "duration": 7,
    "start_time": "2022-03-19T12:00:20.569Z"
   },
   {
    "duration": 5,
    "start_time": "2022-03-19T12:00:20.578Z"
   },
   {
    "duration": 939,
    "start_time": "2022-03-19T12:00:20.609Z"
   },
   {
    "duration": 8,
    "start_time": "2022-03-19T12:00:21.549Z"
   },
   {
    "duration": 12,
    "start_time": "2022-03-19T12:00:21.559Z"
   },
   {
    "duration": 25,
    "start_time": "2022-03-19T12:05:44.239Z"
   },
   {
    "duration": 26,
    "start_time": "2022-03-19T12:06:28.502Z"
   },
   {
    "duration": 7,
    "start_time": "2022-03-19T12:10:00.176Z"
   },
   {
    "duration": 1180,
    "start_time": "2022-03-19T12:10:35.016Z"
   },
   {
    "duration": 66,
    "start_time": "2022-03-19T12:10:36.198Z"
   },
   {
    "duration": 15,
    "start_time": "2022-03-19T12:10:36.265Z"
   },
   {
    "duration": 46,
    "start_time": "2022-03-19T12:10:36.282Z"
   },
   {
    "duration": 4,
    "start_time": "2022-03-19T12:10:36.330Z"
   },
   {
    "duration": 24,
    "start_time": "2022-03-19T12:10:36.336Z"
   },
   {
    "duration": 20,
    "start_time": "2022-03-19T12:10:36.362Z"
   },
   {
    "duration": 8,
    "start_time": "2022-03-19T12:10:36.384Z"
   },
   {
    "duration": 6,
    "start_time": "2022-03-19T12:10:36.394Z"
   },
   {
    "duration": 20,
    "start_time": "2022-03-19T12:10:36.404Z"
   },
   {
    "duration": 8,
    "start_time": "2022-03-19T12:10:36.426Z"
   },
   {
    "duration": 7,
    "start_time": "2022-03-19T12:10:36.437Z"
   },
   {
    "duration": 13,
    "start_time": "2022-03-19T12:10:36.446Z"
   },
   {
    "duration": 8,
    "start_time": "2022-03-19T12:10:36.461Z"
   },
   {
    "duration": 9,
    "start_time": "2022-03-19T12:10:36.470Z"
   },
   {
    "duration": 8,
    "start_time": "2022-03-19T12:10:36.512Z"
   },
   {
    "duration": 12,
    "start_time": "2022-03-19T12:10:36.522Z"
   },
   {
    "duration": 5,
    "start_time": "2022-03-19T12:10:36.536Z"
   },
   {
    "duration": 8,
    "start_time": "2022-03-19T12:10:36.542Z"
   },
   {
    "duration": 18,
    "start_time": "2022-03-19T12:10:36.551Z"
   },
   {
    "duration": 9,
    "start_time": "2022-03-19T12:10:36.571Z"
   },
   {
    "duration": 13,
    "start_time": "2022-03-19T12:10:36.610Z"
   },
   {
    "duration": 15,
    "start_time": "2022-03-19T12:10:36.625Z"
   },
   {
    "duration": 6,
    "start_time": "2022-03-19T12:10:36.642Z"
   },
   {
    "duration": 14,
    "start_time": "2022-03-19T12:10:36.650Z"
   },
   {
    "duration": 57,
    "start_time": "2022-03-19T12:10:36.665Z"
   },
   {
    "duration": 4,
    "start_time": "2022-03-19T12:10:36.724Z"
   },
   {
    "duration": 260,
    "start_time": "2022-03-19T12:10:36.733Z"
   },
   {
    "duration": 337,
    "start_time": "2022-03-19T12:10:36.995Z"
   },
   {
    "duration": 6,
    "start_time": "2022-03-19T12:10:37.334Z"
   },
   {
    "duration": 2916,
    "start_time": "2022-03-19T12:10:37.341Z"
   },
   {
    "duration": 19,
    "start_time": "2022-03-19T12:10:40.259Z"
   },
   {
    "duration": 121,
    "start_time": "2022-03-19T12:10:40.280Z"
   },
   {
    "duration": 164,
    "start_time": "2022-03-19T12:10:40.403Z"
   },
   {
    "duration": 647,
    "start_time": "2022-03-19T12:10:40.569Z"
   },
   {
    "duration": 23,
    "start_time": "2022-03-19T12:10:41.219Z"
   },
   {
    "duration": 8,
    "start_time": "2022-03-19T12:10:41.244Z"
   },
   {
    "duration": 298,
    "start_time": "2022-03-19T12:10:41.253Z"
   },
   {
    "duration": 10,
    "start_time": "2022-03-19T12:10:41.552Z"
   },
   {
    "duration": 304,
    "start_time": "2022-03-19T12:10:41.564Z"
   },
   {
    "duration": 9,
    "start_time": "2022-03-19T12:10:41.869Z"
   },
   {
    "duration": 300,
    "start_time": "2022-03-19T12:10:41.879Z"
   },
   {
    "duration": 8,
    "start_time": "2022-03-19T12:10:42.181Z"
   },
   {
    "duration": 301,
    "start_time": "2022-03-19T12:10:42.191Z"
   },
   {
    "duration": 16,
    "start_time": "2022-03-19T12:10:42.494Z"
   },
   {
    "duration": 282,
    "start_time": "2022-03-19T12:10:42.512Z"
   },
   {
    "duration": 18,
    "start_time": "2022-03-19T12:10:42.795Z"
   },
   {
    "duration": 276,
    "start_time": "2022-03-19T12:10:42.815Z"
   },
   {
    "duration": 520,
    "start_time": "2022-03-19T12:10:43.093Z"
   },
   {
    "duration": 5,
    "start_time": "2022-03-19T12:10:43.615Z"
   },
   {
    "duration": 17,
    "start_time": "2022-03-19T12:10:43.622Z"
   },
   {
    "duration": 10,
    "start_time": "2022-03-19T12:10:43.640Z"
   },
   {
    "duration": 9,
    "start_time": "2022-03-19T12:10:43.652Z"
   },
   {
    "duration": 11,
    "start_time": "2022-03-19T12:10:43.663Z"
   },
   {
    "duration": 40,
    "start_time": "2022-03-19T12:10:43.675Z"
   },
   {
    "duration": 14,
    "start_time": "2022-03-19T12:10:43.717Z"
   },
   {
    "duration": 5,
    "start_time": "2022-03-19T12:10:43.733Z"
   },
   {
    "duration": 3,
    "start_time": "2022-03-19T12:10:43.740Z"
   },
   {
    "duration": 1395,
    "start_time": "2022-03-19T12:10:43.745Z"
   },
   {
    "duration": 8,
    "start_time": "2022-03-19T12:10:45.142Z"
   },
   {
    "duration": 71,
    "start_time": "2022-03-19T12:10:45.151Z"
   },
   {
    "duration": 8,
    "start_time": "2022-03-19T12:11:04.064Z"
   },
   {
    "duration": 263,
    "start_time": "2022-03-19T12:11:06.174Z"
   },
   {
    "duration": 20,
    "start_time": "2022-03-19T12:26:25.459Z"
   },
   {
    "duration": 1180,
    "start_time": "2022-03-19T12:57:39.717Z"
   },
   {
    "duration": 58,
    "start_time": "2022-03-19T12:57:40.899Z"
   },
   {
    "duration": 16,
    "start_time": "2022-03-19T12:57:40.958Z"
   },
   {
    "duration": 34,
    "start_time": "2022-03-19T12:57:40.976Z"
   },
   {
    "duration": 3,
    "start_time": "2022-03-19T12:57:41.012Z"
   },
   {
    "duration": 10,
    "start_time": "2022-03-19T12:57:41.017Z"
   },
   {
    "duration": 9,
    "start_time": "2022-03-19T12:57:41.028Z"
   },
   {
    "duration": 4,
    "start_time": "2022-03-19T12:57:41.039Z"
   },
   {
    "duration": 5,
    "start_time": "2022-03-19T12:57:41.044Z"
   },
   {
    "duration": 9,
    "start_time": "2022-03-19T12:57:41.052Z"
   },
   {
    "duration": 7,
    "start_time": "2022-03-19T12:57:41.063Z"
   },
   {
    "duration": 41,
    "start_time": "2022-03-19T12:57:41.071Z"
   },
   {
    "duration": 14,
    "start_time": "2022-03-19T12:57:41.114Z"
   },
   {
    "duration": 7,
    "start_time": "2022-03-19T12:57:41.129Z"
   },
   {
    "duration": 10,
    "start_time": "2022-03-19T12:57:41.138Z"
   },
   {
    "duration": 11,
    "start_time": "2022-03-19T12:57:41.150Z"
   },
   {
    "duration": 53,
    "start_time": "2022-03-19T12:57:41.162Z"
   },
   {
    "duration": 5,
    "start_time": "2022-03-19T12:57:41.216Z"
   },
   {
    "duration": 5,
    "start_time": "2022-03-19T12:57:41.223Z"
   },
   {
    "duration": 13,
    "start_time": "2022-03-19T12:57:41.229Z"
   },
   {
    "duration": 9,
    "start_time": "2022-03-19T12:57:41.244Z"
   },
   {
    "duration": 14,
    "start_time": "2022-03-19T12:57:41.255Z"
   },
   {
    "duration": 48,
    "start_time": "2022-03-19T12:57:41.271Z"
   },
   {
    "duration": 6,
    "start_time": "2022-03-19T12:57:41.321Z"
   },
   {
    "duration": 16,
    "start_time": "2022-03-19T12:57:41.329Z"
   },
   {
    "duration": 16,
    "start_time": "2022-03-19T12:57:41.346Z"
   },
   {
    "duration": 3,
    "start_time": "2022-03-19T12:57:41.363Z"
   },
   {
    "duration": 272,
    "start_time": "2022-03-19T12:57:41.371Z"
   },
   {
    "duration": 311,
    "start_time": "2022-03-19T12:57:41.646Z"
   },
   {
    "duration": 6,
    "start_time": "2022-03-19T12:57:41.959Z"
   },
   {
    "duration": 2645,
    "start_time": "2022-03-19T12:57:41.967Z"
   },
   {
    "duration": 15,
    "start_time": "2022-03-19T12:57:44.614Z"
   },
   {
    "duration": 106,
    "start_time": "2022-03-19T12:57:44.631Z"
   },
   {
    "duration": 152,
    "start_time": "2022-03-19T12:57:44.739Z"
   },
   {
    "duration": 589,
    "start_time": "2022-03-19T12:57:44.893Z"
   },
   {
    "duration": 31,
    "start_time": "2022-03-19T12:57:45.484Z"
   },
   {
    "duration": 9,
    "start_time": "2022-03-19T12:57:45.516Z"
   },
   {
    "duration": 274,
    "start_time": "2022-03-19T12:57:45.527Z"
   },
   {
    "duration": 10,
    "start_time": "2022-03-19T12:57:45.804Z"
   },
   {
    "duration": 269,
    "start_time": "2022-03-19T12:57:45.816Z"
   },
   {
    "duration": 8,
    "start_time": "2022-03-19T12:57:46.087Z"
   },
   {
    "duration": 265,
    "start_time": "2022-03-19T12:57:46.109Z"
   },
   {
    "duration": 8,
    "start_time": "2022-03-19T12:57:46.375Z"
   },
   {
    "duration": 284,
    "start_time": "2022-03-19T12:57:46.385Z"
   },
   {
    "duration": 8,
    "start_time": "2022-03-19T12:57:46.671Z"
   },
   {
    "duration": 287,
    "start_time": "2022-03-19T12:57:46.681Z"
   },
   {
    "duration": 8,
    "start_time": "2022-03-19T12:57:46.969Z"
   },
   {
    "duration": 279,
    "start_time": "2022-03-19T12:57:46.979Z"
   },
   {
    "duration": 509,
    "start_time": "2022-03-19T12:57:47.260Z"
   },
   {
    "duration": 4,
    "start_time": "2022-03-19T12:57:47.770Z"
   },
   {
    "duration": 13,
    "start_time": "2022-03-19T12:57:47.776Z"
   },
   {
    "duration": 11,
    "start_time": "2022-03-19T12:57:47.790Z"
   },
   {
    "duration": 10,
    "start_time": "2022-03-19T12:57:47.803Z"
   },
   {
    "duration": 12,
    "start_time": "2022-03-19T12:57:47.814Z"
   },
   {
    "duration": 9,
    "start_time": "2022-03-19T12:57:47.828Z"
   },
   {
    "duration": 12,
    "start_time": "2022-03-19T12:57:47.839Z"
   },
   {
    "duration": 10,
    "start_time": "2022-03-19T12:57:47.852Z"
   },
   {
    "duration": 3,
    "start_time": "2022-03-19T12:57:47.863Z"
   },
   {
    "duration": 868,
    "start_time": "2022-03-19T12:57:47.868Z"
   },
   {
    "duration": 8,
    "start_time": "2022-03-19T12:57:48.738Z"
   },
   {
    "duration": 10,
    "start_time": "2022-03-19T12:57:48.748Z"
   },
   {
    "duration": 1407,
    "start_time": "2022-03-19T19:02:40.656Z"
   },
   {
    "duration": 67,
    "start_time": "2022-03-19T19:02:42.066Z"
   },
   {
    "duration": 20,
    "start_time": "2022-03-19T19:02:42.139Z"
   },
   {
    "duration": 55,
    "start_time": "2022-03-19T19:02:42.162Z"
   },
   {
    "duration": 4,
    "start_time": "2022-03-19T19:02:42.219Z"
   },
   {
    "duration": 14,
    "start_time": "2022-03-19T19:02:42.226Z"
   },
   {
    "duration": 40,
    "start_time": "2022-03-19T19:02:42.242Z"
   },
   {
    "duration": 5,
    "start_time": "2022-03-19T19:02:42.284Z"
   },
   {
    "duration": 6,
    "start_time": "2022-03-19T19:02:42.291Z"
   },
   {
    "duration": 15,
    "start_time": "2022-03-19T19:02:42.299Z"
   },
   {
    "duration": 9,
    "start_time": "2022-03-19T19:02:42.316Z"
   },
   {
    "duration": 10,
    "start_time": "2022-03-19T19:02:42.327Z"
   },
   {
    "duration": 17,
    "start_time": "2022-03-19T19:02:42.384Z"
   },
   {
    "duration": 9,
    "start_time": "2022-03-19T19:02:42.403Z"
   },
   {
    "duration": 10,
    "start_time": "2022-03-19T19:02:42.414Z"
   },
   {
    "duration": 12,
    "start_time": "2022-03-19T19:02:42.426Z"
   },
   {
    "duration": 49,
    "start_time": "2022-03-19T19:02:42.440Z"
   },
   {
    "duration": 6,
    "start_time": "2022-03-19T19:02:42.491Z"
   },
   {
    "duration": 8,
    "start_time": "2022-03-19T19:02:42.499Z"
   },
   {
    "duration": 12,
    "start_time": "2022-03-19T19:02:42.510Z"
   },
   {
    "duration": 13,
    "start_time": "2022-03-19T19:02:42.524Z"
   },
   {
    "duration": 49,
    "start_time": "2022-03-19T19:02:42.539Z"
   },
   {
    "duration": 17,
    "start_time": "2022-03-19T19:02:42.590Z"
   },
   {
    "duration": 6,
    "start_time": "2022-03-19T19:02:42.610Z"
   },
   {
    "duration": 22,
    "start_time": "2022-03-19T19:02:42.618Z"
   },
   {
    "duration": 48,
    "start_time": "2022-03-19T19:02:42.642Z"
   },
   {
    "duration": 3,
    "start_time": "2022-03-19T19:02:42.692Z"
   },
   {
    "duration": 377,
    "start_time": "2022-03-19T19:02:42.698Z"
   },
   {
    "duration": 464,
    "start_time": "2022-03-19T19:02:43.077Z"
   },
   {
    "duration": 8,
    "start_time": "2022-03-19T19:02:43.543Z"
   },
   {
    "duration": 4004,
    "start_time": "2022-03-19T19:02:43.553Z"
   },
   {
    "duration": 39,
    "start_time": "2022-03-19T19:02:47.560Z"
   },
   {
    "duration": 120,
    "start_time": "2022-03-19T19:02:47.602Z"
   },
   {
    "duration": 211,
    "start_time": "2022-03-19T19:02:47.726Z"
   },
   {
    "duration": 1263,
    "start_time": "2022-03-19T19:02:47.939Z"
   },
   {
    "duration": 35,
    "start_time": "2022-03-19T19:02:49.204Z"
   },
   {
    "duration": 45,
    "start_time": "2022-03-19T19:02:49.241Z"
   },
   {
    "duration": 505,
    "start_time": "2022-03-19T19:02:49.290Z"
   },
   {
    "duration": 12,
    "start_time": "2022-03-19T19:02:49.798Z"
   },
   {
    "duration": 459,
    "start_time": "2022-03-19T19:02:49.816Z"
   },
   {
    "duration": 13,
    "start_time": "2022-03-19T19:02:50.277Z"
   },
   {
    "duration": 440,
    "start_time": "2022-03-19T19:02:50.292Z"
   },
   {
    "duration": 12,
    "start_time": "2022-03-19T19:02:50.735Z"
   },
   {
    "duration": 452,
    "start_time": "2022-03-19T19:02:50.749Z"
   },
   {
    "duration": 12,
    "start_time": "2022-03-19T19:02:51.203Z"
   },
   {
    "duration": 435,
    "start_time": "2022-03-19T19:02:51.218Z"
   },
   {
    "duration": 28,
    "start_time": "2022-03-19T19:02:51.656Z"
   },
   {
    "duration": 417,
    "start_time": "2022-03-19T19:02:51.686Z"
   },
   {
    "duration": 845,
    "start_time": "2022-03-19T19:02:52.105Z"
   },
   {
    "duration": 5,
    "start_time": "2022-03-19T19:02:52.952Z"
   },
   {
    "duration": 34,
    "start_time": "2022-03-19T19:02:52.959Z"
   },
   {
    "duration": 15,
    "start_time": "2022-03-19T19:02:52.995Z"
   },
   {
    "duration": 14,
    "start_time": "2022-03-19T19:02:53.013Z"
   },
   {
    "duration": 14,
    "start_time": "2022-03-19T19:02:53.029Z"
   },
   {
    "duration": 50,
    "start_time": "2022-03-19T19:02:53.045Z"
   },
   {
    "duration": 15,
    "start_time": "2022-03-19T19:02:53.097Z"
   },
   {
    "duration": 7,
    "start_time": "2022-03-19T19:02:53.114Z"
   },
   {
    "duration": 6,
    "start_time": "2022-03-19T19:02:53.124Z"
   },
   {
    "duration": 1256,
    "start_time": "2022-03-19T19:02:53.132Z"
   },
   {
    "duration": 11,
    "start_time": "2022-03-19T19:02:54.391Z"
   },
   {
    "duration": 10,
    "start_time": "2022-03-19T19:02:54.405Z"
   },
   {
    "duration": 1171,
    "start_time": "2022-03-19T19:08:07.040Z"
   },
   {
    "duration": 1140,
    "start_time": "2022-03-19T19:08:20.542Z"
   },
   {
    "duration": 1150,
    "start_time": "2022-03-19T19:08:42.849Z"
   },
   {
    "duration": 1314,
    "start_time": "2023-02-26T13:27:28.594Z"
   },
   {
    "duration": 217,
    "start_time": "2023-02-26T13:27:29.910Z"
   },
   {
    "duration": 15,
    "start_time": "2023-02-26T13:27:30.129Z"
   },
   {
    "duration": 37,
    "start_time": "2023-02-26T13:27:30.146Z"
   },
   {
    "duration": 4,
    "start_time": "2023-02-26T13:27:30.191Z"
   },
   {
    "duration": 21,
    "start_time": "2023-02-26T13:27:30.198Z"
   },
   {
    "duration": 36,
    "start_time": "2023-02-26T13:27:30.221Z"
   },
   {
    "duration": 28,
    "start_time": "2023-02-26T13:27:30.259Z"
   },
   {
    "duration": 29,
    "start_time": "2023-02-26T13:27:30.289Z"
   },
   {
    "duration": 31,
    "start_time": "2023-02-26T13:27:30.320Z"
   },
   {
    "duration": 27,
    "start_time": "2023-02-26T13:27:30.353Z"
   },
   {
    "duration": 41,
    "start_time": "2023-02-26T13:27:30.382Z"
   },
   {
    "duration": 47,
    "start_time": "2023-02-26T13:27:30.425Z"
   },
   {
    "duration": 24,
    "start_time": "2023-02-26T13:27:30.476Z"
   },
   {
    "duration": 11,
    "start_time": "2023-02-26T13:27:30.502Z"
   },
   {
    "duration": 52,
    "start_time": "2023-02-26T13:27:30.515Z"
   },
   {
    "duration": 49,
    "start_time": "2023-02-26T13:27:30.569Z"
   },
   {
    "duration": 51,
    "start_time": "2023-02-26T13:27:30.620Z"
   },
   {
    "duration": 33,
    "start_time": "2023-02-26T13:27:30.673Z"
   },
   {
    "duration": 41,
    "start_time": "2023-02-26T13:27:30.707Z"
   },
   {
    "duration": 33,
    "start_time": "2023-02-26T13:27:30.750Z"
   },
   {
    "duration": 63,
    "start_time": "2023-02-26T13:27:30.784Z"
   },
   {
    "duration": 51,
    "start_time": "2023-02-26T13:27:30.849Z"
   },
   {
    "duration": 46,
    "start_time": "2023-02-26T13:27:30.902Z"
   },
   {
    "duration": 271,
    "start_time": "2023-02-26T13:27:30.950Z"
   },
   {
    "duration": 319,
    "start_time": "2023-02-26T13:27:31.223Z"
   },
   {
    "duration": 6,
    "start_time": "2023-02-26T13:27:31.544Z"
   },
   {
    "duration": 2531,
    "start_time": "2023-02-26T13:27:31.552Z"
   },
   {
    "duration": 17,
    "start_time": "2023-02-26T13:27:34.092Z"
   },
   {
    "duration": 114,
    "start_time": "2023-02-26T13:27:34.111Z"
   },
   {
    "duration": 148,
    "start_time": "2023-02-26T13:27:34.227Z"
   },
   {
    "duration": 597,
    "start_time": "2023-02-26T13:27:34.377Z"
   },
   {
    "duration": 31,
    "start_time": "2023-02-26T13:27:34.976Z"
   },
   {
    "duration": 12,
    "start_time": "2023-02-26T13:27:35.009Z"
   },
   {
    "duration": 274,
    "start_time": "2023-02-26T13:27:35.023Z"
   },
   {
    "duration": 9,
    "start_time": "2023-02-26T13:27:35.299Z"
   },
   {
    "duration": 282,
    "start_time": "2023-02-26T13:27:35.309Z"
   },
   {
    "duration": 8,
    "start_time": "2023-02-26T13:27:35.593Z"
   },
   {
    "duration": 272,
    "start_time": "2023-02-26T13:27:35.603Z"
   },
   {
    "duration": 16,
    "start_time": "2023-02-26T13:27:35.876Z"
   },
   {
    "duration": 339,
    "start_time": "2023-02-26T13:27:35.896Z"
   },
   {
    "duration": 9,
    "start_time": "2023-02-26T13:27:36.237Z"
   },
   {
    "duration": 286,
    "start_time": "2023-02-26T13:27:36.247Z"
   },
   {
    "duration": 8,
    "start_time": "2023-02-26T13:27:36.535Z"
   },
   {
    "duration": 268,
    "start_time": "2023-02-26T13:27:36.545Z"
   },
   {
    "duration": 478,
    "start_time": "2023-02-26T13:27:36.815Z"
   },
   {
    "duration": 3,
    "start_time": "2023-02-26T13:27:37.295Z"
   },
   {
    "duration": 21,
    "start_time": "2023-02-26T13:27:37.300Z"
   },
   {
    "duration": 10,
    "start_time": "2023-02-26T13:27:37.322Z"
   },
   {
    "duration": 14,
    "start_time": "2023-02-26T13:27:37.334Z"
   },
   {
    "duration": 10,
    "start_time": "2023-02-26T13:27:37.350Z"
   },
   {
    "duration": 38,
    "start_time": "2023-02-26T13:27:37.362Z"
   },
   {
    "duration": 13,
    "start_time": "2023-02-26T13:27:37.401Z"
   },
   {
    "duration": 5,
    "start_time": "2023-02-26T13:27:37.415Z"
   },
   {
    "duration": 785,
    "start_time": "2023-02-26T13:27:37.422Z"
   },
   {
    "duration": 7,
    "start_time": "2023-02-26T13:27:38.209Z"
   },
   {
    "duration": 10,
    "start_time": "2023-02-26T13:27:38.217Z"
   }
  ],
  "kernelspec": {
   "display_name": "Python 3 (ipykernel)",
   "language": "python",
   "name": "python3"
  },
  "language_info": {
   "codemirror_mode": {
    "name": "ipython",
    "version": 3
   },
   "file_extension": ".py",
   "mimetype": "text/x-python",
   "name": "python",
   "nbconvert_exporter": "python",
   "pygments_lexer": "ipython3",
   "version": "3.9.5"
  },
  "toc": {
   "base_numbering": 1,
   "nav_menu": {},
   "number_sections": true,
   "sideBar": true,
   "skip_h1_title": true,
   "title_cell": "Table of Contents",
   "title_sidebar": "Contents",
   "toc_cell": false,
   "toc_position": {
    "height": "calc(100% - 180px)",
    "left": "10px",
    "top": "150px",
    "width": "255.312px"
   },
   "toc_section_display": true,
   "toc_window_display": true
  }
 },
 "nbformat": 4,
 "nbformat_minor": 2
}
