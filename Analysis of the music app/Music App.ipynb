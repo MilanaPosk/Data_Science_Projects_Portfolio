{
 "cells": [
  {
   "cell_type": "markdown",
   "metadata": {
    "id": "Ml1hmfXC_Zcs"
   },
   "source": [
    "## Обзор данных\n"
   ]
  },
  {
   "cell_type": "code",
   "execution_count": 1,
   "metadata": {
    "id": "AXN7PHPN_Zcs"
   },
   "outputs": [],
   "source": [
    "import pandas as pd# импорт библиотеки pandas"
   ]
  },
  {
   "cell_type": "code",
   "execution_count": 2,
   "metadata": {
    "id": "fFVu7vqh_Zct"
   },
   "outputs": [],
   "source": [
    "df = pd.read_csv('/datasets/yandex_music_project.csv')# чтение файла с данными и сохранение в df"
   ]
  },
  {
   "cell_type": "code",
   "execution_count": 3,
   "metadata": {
    "id": "oWTVX3gW_Zct",
    "scrolled": true
   },
   "outputs": [
    {
     "data": {
      "text/html": [
       "<div>\n",
       "<style scoped>\n",
       "    .dataframe tbody tr th:only-of-type {\n",
       "        vertical-align: middle;\n",
       "    }\n",
       "\n",
       "    .dataframe tbody tr th {\n",
       "        vertical-align: top;\n",
       "    }\n",
       "\n",
       "    .dataframe thead th {\n",
       "        text-align: right;\n",
       "    }\n",
       "</style>\n",
       "<table border=\"1\" class=\"dataframe\">\n",
       "  <thead>\n",
       "    <tr style=\"text-align: right;\">\n",
       "      <th></th>\n",
       "      <th>userID</th>\n",
       "      <th>Track</th>\n",
       "      <th>artist</th>\n",
       "      <th>genre</th>\n",
       "      <th>City</th>\n",
       "      <th>time</th>\n",
       "      <th>Day</th>\n",
       "    </tr>\n",
       "  </thead>\n",
       "  <tbody>\n",
       "    <tr>\n",
       "      <td>0</td>\n",
       "      <td>FFB692EC</td>\n",
       "      <td>Kamigata To Boots</td>\n",
       "      <td>The Mass Missile</td>\n",
       "      <td>rock</td>\n",
       "      <td>Saint-Petersburg</td>\n",
       "      <td>20:28:33</td>\n",
       "      <td>Wednesday</td>\n",
       "    </tr>\n",
       "    <tr>\n",
       "      <td>1</td>\n",
       "      <td>55204538</td>\n",
       "      <td>Delayed Because of Accident</td>\n",
       "      <td>Andreas Rönnberg</td>\n",
       "      <td>rock</td>\n",
       "      <td>Moscow</td>\n",
       "      <td>14:07:09</td>\n",
       "      <td>Friday</td>\n",
       "    </tr>\n",
       "    <tr>\n",
       "      <td>2</td>\n",
       "      <td>20EC38</td>\n",
       "      <td>Funiculì funiculà</td>\n",
       "      <td>Mario Lanza</td>\n",
       "      <td>pop</td>\n",
       "      <td>Saint-Petersburg</td>\n",
       "      <td>20:58:07</td>\n",
       "      <td>Wednesday</td>\n",
       "    </tr>\n",
       "    <tr>\n",
       "      <td>3</td>\n",
       "      <td>A3DD03C9</td>\n",
       "      <td>Dragons in the Sunset</td>\n",
       "      <td>Fire + Ice</td>\n",
       "      <td>folk</td>\n",
       "      <td>Saint-Petersburg</td>\n",
       "      <td>08:37:09</td>\n",
       "      <td>Monday</td>\n",
       "    </tr>\n",
       "    <tr>\n",
       "      <td>4</td>\n",
       "      <td>E2DC1FAE</td>\n",
       "      <td>Soul People</td>\n",
       "      <td>Space Echo</td>\n",
       "      <td>dance</td>\n",
       "      <td>Moscow</td>\n",
       "      <td>08:34:34</td>\n",
       "      <td>Monday</td>\n",
       "    </tr>\n",
       "    <tr>\n",
       "      <td>5</td>\n",
       "      <td>842029A1</td>\n",
       "      <td>Преданная</td>\n",
       "      <td>IMPERVTOR</td>\n",
       "      <td>rusrap</td>\n",
       "      <td>Saint-Petersburg</td>\n",
       "      <td>13:09:41</td>\n",
       "      <td>Friday</td>\n",
       "    </tr>\n",
       "    <tr>\n",
       "      <td>6</td>\n",
       "      <td>4CB90AA5</td>\n",
       "      <td>True</td>\n",
       "      <td>Roman Messer</td>\n",
       "      <td>dance</td>\n",
       "      <td>Moscow</td>\n",
       "      <td>13:00:07</td>\n",
       "      <td>Wednesday</td>\n",
       "    </tr>\n",
       "    <tr>\n",
       "      <td>7</td>\n",
       "      <td>F03E1C1F</td>\n",
       "      <td>Feeling This Way</td>\n",
       "      <td>Polina Griffith</td>\n",
       "      <td>dance</td>\n",
       "      <td>Moscow</td>\n",
       "      <td>20:47:49</td>\n",
       "      <td>Wednesday</td>\n",
       "    </tr>\n",
       "    <tr>\n",
       "      <td>8</td>\n",
       "      <td>8FA1D3BE</td>\n",
       "      <td>И вновь продолжается бой</td>\n",
       "      <td>NaN</td>\n",
       "      <td>ruspop</td>\n",
       "      <td>Moscow</td>\n",
       "      <td>09:17:40</td>\n",
       "      <td>Friday</td>\n",
       "    </tr>\n",
       "    <tr>\n",
       "      <td>9</td>\n",
       "      <td>E772D5C0</td>\n",
       "      <td>Pessimist</td>\n",
       "      <td>NaN</td>\n",
       "      <td>dance</td>\n",
       "      <td>Saint-Petersburg</td>\n",
       "      <td>21:20:49</td>\n",
       "      <td>Wednesday</td>\n",
       "    </tr>\n",
       "    <tr>\n",
       "      <td>10</td>\n",
       "      <td>BC5A3A29</td>\n",
       "      <td>Gool la Mita</td>\n",
       "      <td>Shireen Abdul Wahab</td>\n",
       "      <td>world</td>\n",
       "      <td>Moscow</td>\n",
       "      <td>14:08:42</td>\n",
       "      <td>Monday</td>\n",
       "    </tr>\n",
       "    <tr>\n",
       "      <td>11</td>\n",
       "      <td>8B5192C0</td>\n",
       "      <td>Is There Anybody Out There? (Panoramic Paralys...</td>\n",
       "      <td>Pink Floyd Floydhead</td>\n",
       "      <td>electronic</td>\n",
       "      <td>Moscow</td>\n",
       "      <td>13:47:49</td>\n",
       "      <td>Monday</td>\n",
       "    </tr>\n",
       "    <tr>\n",
       "      <td>12</td>\n",
       "      <td>FF3FD2BD</td>\n",
       "      <td>Мина син генэ кирэк</td>\n",
       "      <td>Ильдар Хакимов</td>\n",
       "      <td>pop</td>\n",
       "      <td>Moscow</td>\n",
       "      <td>09:19:49</td>\n",
       "      <td>Monday</td>\n",
       "    </tr>\n",
       "    <tr>\n",
       "      <td>13</td>\n",
       "      <td>CC782B0F</td>\n",
       "      <td>After School Special</td>\n",
       "      <td>Detroit Grand Pubahs</td>\n",
       "      <td>dance</td>\n",
       "      <td>Moscow</td>\n",
       "      <td>20:04:12</td>\n",
       "      <td>Friday</td>\n",
       "    </tr>\n",
       "    <tr>\n",
       "      <td>14</td>\n",
       "      <td>94EB25C2</td>\n",
       "      <td>Make Love Whenever You Can</td>\n",
       "      <td>Arabesque</td>\n",
       "      <td>pop</td>\n",
       "      <td>Saint-Petersburg</td>\n",
       "      <td>13:22:08</td>\n",
       "      <td>Wednesday</td>\n",
       "    </tr>\n",
       "    <tr>\n",
       "      <td>15</td>\n",
       "      <td>E3C5756F</td>\n",
       "      <td>NaN</td>\n",
       "      <td>NaN</td>\n",
       "      <td>NaN</td>\n",
       "      <td>Moscow</td>\n",
       "      <td>09:24:51</td>\n",
       "      <td>Monday</td>\n",
       "    </tr>\n",
       "    <tr>\n",
       "      <td>16</td>\n",
       "      <td>81D05C7D</td>\n",
       "      <td>SLAVES OF FEAR</td>\n",
       "      <td>HEALTH</td>\n",
       "      <td>alternative</td>\n",
       "      <td>Saint-Petersburg</td>\n",
       "      <td>20:54:48</td>\n",
       "      <td>Monday</td>\n",
       "    </tr>\n",
       "    <tr>\n",
       "      <td>17</td>\n",
       "      <td>39DE290E</td>\n",
       "      <td>Веснянка</td>\n",
       "      <td>Веданъ Колодъ</td>\n",
       "      <td>folk</td>\n",
       "      <td>Saint-Petersburg</td>\n",
       "      <td>14:36:47</td>\n",
       "      <td>Monday</td>\n",
       "    </tr>\n",
       "    <tr>\n",
       "      <td>18</td>\n",
       "      <td>58AE138A</td>\n",
       "      <td>Pat-a-Cake</td>\n",
       "      <td>Mother Goose Club</td>\n",
       "      <td>children</td>\n",
       "      <td>Saint-Petersburg</td>\n",
       "      <td>20:04:56</td>\n",
       "      <td>Monday</td>\n",
       "    </tr>\n",
       "    <tr>\n",
       "      <td>19</td>\n",
       "      <td>772F5B59</td>\n",
       "      <td>Sweetback</td>\n",
       "      <td>The Fabulous Three</td>\n",
       "      <td>rnb</td>\n",
       "      <td>Moscow</td>\n",
       "      <td>13:56:42</td>\n",
       "      <td>Wednesday</td>\n",
       "    </tr>\n",
       "  </tbody>\n",
       "</table>\n",
       "</div>"
      ],
      "text/plain": [
       "      userID                                              Track  \\\n",
       "0   FFB692EC                                  Kamigata To Boots   \n",
       "1   55204538                        Delayed Because of Accident   \n",
       "2     20EC38                                  Funiculì funiculà   \n",
       "3   A3DD03C9                              Dragons in the Sunset   \n",
       "4   E2DC1FAE                                        Soul People   \n",
       "5   842029A1                                          Преданная   \n",
       "6   4CB90AA5                                               True   \n",
       "7   F03E1C1F                                   Feeling This Way   \n",
       "8   8FA1D3BE                           И вновь продолжается бой   \n",
       "9   E772D5C0                                          Pessimist   \n",
       "10  BC5A3A29                                       Gool la Mita   \n",
       "11  8B5192C0  Is There Anybody Out There? (Panoramic Paralys...   \n",
       "12  FF3FD2BD                                Мина син генэ кирэк   \n",
       "13  CC782B0F                               After School Special   \n",
       "14  94EB25C2                         Make Love Whenever You Can   \n",
       "15  E3C5756F                                                NaN   \n",
       "16  81D05C7D                                     SLAVES OF FEAR   \n",
       "17  39DE290E                                           Веснянка   \n",
       "18  58AE138A                                         Pat-a-Cake   \n",
       "19  772F5B59                                          Sweetback   \n",
       "\n",
       "                  artist        genre            City        time        Day  \n",
       "0       The Mass Missile         rock  Saint-Petersburg  20:28:33  Wednesday  \n",
       "1       Andreas Rönnberg         rock            Moscow  14:07:09     Friday  \n",
       "2            Mario Lanza          pop  Saint-Petersburg  20:58:07  Wednesday  \n",
       "3             Fire + Ice         folk  Saint-Petersburg  08:37:09     Monday  \n",
       "4             Space Echo        dance            Moscow  08:34:34     Monday  \n",
       "5              IMPERVTOR       rusrap  Saint-Petersburg  13:09:41     Friday  \n",
       "6           Roman Messer        dance            Moscow  13:00:07  Wednesday  \n",
       "7        Polina Griffith        dance            Moscow  20:47:49  Wednesday  \n",
       "8                    NaN       ruspop            Moscow  09:17:40     Friday  \n",
       "9                    NaN        dance  Saint-Petersburg  21:20:49  Wednesday  \n",
       "10   Shireen Abdul Wahab        world            Moscow  14:08:42     Monday  \n",
       "11  Pink Floyd Floydhead   electronic            Moscow  13:47:49     Monday  \n",
       "12        Ильдар Хакимов          pop            Moscow  09:19:49     Monday  \n",
       "13  Detroit Grand Pubahs        dance            Moscow  20:04:12     Friday  \n",
       "14             Arabesque          pop  Saint-Petersburg  13:22:08  Wednesday  \n",
       "15                   NaN          NaN            Moscow  09:24:51     Monday  \n",
       "16                HEALTH  alternative  Saint-Petersburg  20:54:48     Monday  \n",
       "17         Веданъ Колодъ         folk  Saint-Petersburg  14:36:47     Monday  \n",
       "18     Mother Goose Club     children  Saint-Petersburg  20:04:56     Monday  \n",
       "19    The Fabulous Three          rnb            Moscow  13:56:42  Wednesday  "
      ]
     },
     "execution_count": 3,
     "metadata": {},
     "output_type": "execute_result"
    }
   ],
   "source": [
    "df.head(20)# получение первых 10 строк таблицы df"
   ]
  },
  {
   "cell_type": "code",
   "execution_count": 4,
   "metadata": {
    "id": "DSf2kIb-_Zct"
   },
   "outputs": [
    {
     "name": "stdout",
     "output_type": "stream",
     "text": [
      "<class 'pandas.core.frame.DataFrame'>\n",
      "RangeIndex: 65079 entries, 0 to 65078\n",
      "Data columns (total 7 columns):\n",
      "  userID    65079 non-null object\n",
      "Track       63848 non-null object\n",
      "artist      57876 non-null object\n",
      "genre       63881 non-null object\n",
      "  City      65079 non-null object\n",
      "time        65079 non-null object\n",
      "Day         65079 non-null object\n",
      "dtypes: object(7)\n",
      "memory usage: 3.5+ MB\n"
     ]
    }
   ],
   "source": [
    "df.info()# получение общей информации о данных в таблице df"
   ]
  },
  {
   "cell_type": "markdown",
   "metadata": {
    "id": "TaQ2Iwbr_Zct"
   },
   "source": [
    "Итак, в таблице семь столбцов. Тип данных во всех столбцах — `object`.\n",
    "\n",
    "Согласно документации к данным:\n",
    "* `userID` — идентификатор пользователя;\n",
    "* `Track` — название трека;  \n",
    "* `artist` — имя исполнителя;\n",
    "* `genre` — название жанра;\n",
    "* `City` — город пользователя;\n",
    "* `time` — время начала прослушивания;\n",
    "* `Day` — день недели.\n",
    "\n",
    "В названиях колонок видны три нарушения стиля:\n",
    "1. Строчные буквы сочетаются с прописными.\n",
    "2. Встречаются пробелы.\n",
    "3. Записать некоторые названия лучше используя \"змеиный_регистор\"\n",
    "\n",
    "\n",
    "\n",
    "Количество значений в столбцах различается. Значит, в данных есть пропущенные значения.\n"
   ]
  },
  {
   "cell_type": "markdown",
   "metadata": {
    "id": "MCB6-dXG_Zct"
   },
   "source": [
    "**Выводы**\n",
    "\n",
    "В каждой строке таблицы — данные о прослушанном треке. Часть колонок описывает саму композицию: название, исполнителя и жанр. Остальные данные рассказывают о пользователе: из какого он города, когда он слушал музыку. \n",
    "\n",
    "Предварительно можно утверждать, что, данных достаточно для проверки гипотез. Но встречаются пропуски в данных, а в названиях колонок — расхождения с хорошим стилем.\n",
    "\n",
    "Чтобы двигаться дальше, нужно устранить проблемы в данных."
   ]
  },
  {
   "cell_type": "markdown",
   "metadata": {
    "id": "SjYF6Ub9_Zct"
   },
   "source": [
    "## Предобработка данных\n"
   ]
  },
  {
   "cell_type": "markdown",
   "metadata": {
    "id": "dIaKXr29_Zct"
   },
   "source": [
    "### Стиль заголовков\n"
   ]
  },
  {
   "cell_type": "code",
   "execution_count": 5,
   "metadata": {
    "id": "oKOTdF_Q_Zct"
   },
   "outputs": [
    {
     "data": {
      "text/plain": [
       "Index(['  userID', 'Track', 'artist', 'genre', '  City  ', 'time', 'Day'], dtype='object')"
      ]
     },
     "execution_count": 5,
     "metadata": {},
     "output_type": "execute_result"
    }
   ],
   "source": [
    "df.columns# перечень названий столбцов таблицы df"
   ]
  },
  {
   "cell_type": "code",
   "execution_count": 6,
   "metadata": {
    "id": "ISlFqs5y_Zct"
   },
   "outputs": [],
   "source": [
    "df = df.rename(columns={'  userID': 'user_id', 'Track': 'track', '  City  ':'city', 'Day':'day'})# переименование столбцов"
   ]
  },
  {
   "cell_type": "code",
   "execution_count": 7,
   "metadata": {
    "id": "d4NOAmTW_Zct"
   },
   "outputs": [
    {
     "data": {
      "text/plain": [
       "Index(['user_id', 'track', 'artist', 'genre', 'city', 'time', 'day'], dtype='object')"
      ]
     },
     "metadata": {},
     "output_type": "display_data"
    }
   ],
   "source": [
    "display(df.columns)# проверка результатов - перечень названий столбцов"
   ]
  },
  {
   "cell_type": "markdown",
   "metadata": {
    "id": "5ISfbcfY_Zct"
   },
   "source": [
    "### Пропуски значений\n"
   ]
  },
  {
   "cell_type": "code",
   "execution_count": 8,
   "metadata": {
    "id": "RskX29qr_Zct",
    "scrolled": true
   },
   "outputs": [
    {
     "name": "stdout",
     "output_type": "stream",
     "text": [
      "user_id       0\n",
      "track      1231\n",
      "artist     7203\n",
      "genre      1198\n",
      "city          0\n",
      "time          0\n",
      "day           0\n",
      "dtype: int64\n"
     ]
    }
   ],
   "source": [
    "print(df.isna().sum())# подсчёт пропусков"
   ]
  },
  {
   "cell_type": "code",
   "execution_count": 9,
   "metadata": {
    "id": "KplB5qWs_Zct",
    "scrolled": true
   },
   "outputs": [],
   "source": [
    "columns_to_replace = ['track','artist','genre']\n",
    "for columns in columns_to_replace:\n",
    "    df[columns] = df[columns].fillna('unknown')#перебор названий столбцов в цикле и замена пропущенных значений на 'unknown'"
   ]
  },
  {
   "cell_type": "code",
   "execution_count": 10,
   "metadata": {
    "id": "Tq4nYRX4_Zct"
   },
   "outputs": [
    {
     "name": "stdout",
     "output_type": "stream",
     "text": [
      "user_id    0\n",
      "track      0\n",
      "artist     0\n",
      "genre      0\n",
      "city       0\n",
      "time       0\n",
      "day        0\n",
      "dtype: int64\n"
     ]
    }
   ],
   "source": [
    "print(df.isna().sum())# подсчёт пропусков"
   ]
  },
  {
   "cell_type": "markdown",
   "metadata": {
    "id": "BWKRtBJ3_Zct"
   },
   "source": [
    "### Дубликаты\n"
   ]
  },
  {
   "cell_type": "code",
   "execution_count": 11,
   "metadata": {
    "id": "36eES_S0_Zct"
   },
   "outputs": [
    {
     "data": {
      "text/plain": [
       "3826"
      ]
     },
     "execution_count": 11,
     "metadata": {},
     "output_type": "execute_result"
    }
   ],
   "source": [
    "df.duplicated().sum()# подсчёт явных дубликатов"
   ]
  },
  {
   "cell_type": "code",
   "execution_count": 12,
   "metadata": {
    "id": "exFHq6tt_Zct"
   },
   "outputs": [],
   "source": [
    "df = df.drop_duplicates().reset_index(drop=True)# удаление явных дубликатов (с удалением старых индексов и формированием новых)"
   ]
  },
  {
   "cell_type": "code",
   "execution_count": 13,
   "metadata": {
    "id": "-8PuNWQ0_Zct"
   },
   "outputs": [
    {
     "data": {
      "text/plain": [
       "0"
      ]
     },
     "execution_count": 13,
     "metadata": {},
     "output_type": "execute_result"
    }
   ],
   "source": [
    "df.duplicated().sum()# проверка на отсутствие дубликатов"
   ]
  },
  {
   "cell_type": "code",
   "execution_count": 14,
   "metadata": {
    "id": "JIUcqzZN_Zct"
   },
   "outputs": [
    {
     "data": {
      "text/plain": [
       "array(['rock', 'pop', 'folk', 'dance', 'rusrap', 'ruspop', 'world',\n",
       "       'electronic', 'unknown', 'alternative', 'children', 'rnb', 'hip',\n",
       "       'jazz', 'postrock', 'latin', 'classical', 'metal', 'reggae',\n",
       "       'tatar', 'blues', 'instrumental', 'rusrock', 'dnb', 'türk', 'post',\n",
       "       'country', 'psychedelic', 'conjazz', 'indie', 'posthardcore',\n",
       "       'local', 'avantgarde', 'punk', 'videogame', 'techno', 'house',\n",
       "       'christmas', 'melodic', 'caucasian', 'reggaeton', 'soundtrack',\n",
       "       'singer', 'ska', 'shanson', 'ambient', 'film', 'western', 'rap',\n",
       "       'beats', \"hard'n'heavy\", 'progmetal', 'minimal', 'contemporary',\n",
       "       'new', 'soul', 'holiday', 'german', 'tropical', 'fairytail',\n",
       "       'spiritual', 'urban', 'gospel', 'nujazz', 'folkmetal', 'trance',\n",
       "       'miscellaneous', 'anime', 'hardcore', 'progressive', 'chanson',\n",
       "       'numetal', 'vocal', 'estrada', 'russian', 'classicmetal',\n",
       "       'dubstep', 'club', 'deep', 'southern', 'black', 'folkrock',\n",
       "       'fitness', 'french', 'disco', 'religious', 'hiphop', 'drum',\n",
       "       'extrememetal', 'türkçe', 'experimental', 'easy', 'metalcore',\n",
       "       'modern', 'argentinetango', 'old', 'breaks', 'eurofolk',\n",
       "       'stonerrock', 'industrial', 'funk', 'jpop', 'middle', 'variété',\n",
       "       'other', 'adult', 'christian', 'gothic', 'international', 'muslim',\n",
       "       'relax', 'schlager', 'caribbean', 'ukrrock', 'nu', 'breakbeat',\n",
       "       'comedy', 'chill', 'newage', 'specialty', 'uzbek', 'k-pop',\n",
       "       'balkan', 'chinese', 'meditative', 'dub', 'power', 'death',\n",
       "       'grime', 'arabesk', 'romance', 'flamenco', 'leftfield', 'european',\n",
       "       'tech', 'newwave', 'dancehall', 'mpb', 'piano', 'top', 'bigroom',\n",
       "       'opera', 'celtic', 'tradjazz', 'acoustic', 'epicmetal', 'hip-hop',\n",
       "       'historisch', 'downbeat', 'downtempo', 'africa', 'audiobook',\n",
       "       'jewish', 'sängerportrait', 'deutschrock', 'eastern', 'action',\n",
       "       'future', 'electropop', 'folklore', 'bollywood', 'marschmusik',\n",
       "       'rnr', 'karaoke', 'indian', 'rancheras', 'электроника',\n",
       "       'afrikaans', 'tango', 'rhythm', 'sound', 'deutschspr', 'trip',\n",
       "       'lovers', 'choral', 'dancepop', 'podcasts', 'retro', 'smooth',\n",
       "       'mexican', 'brazilian', 'ïîï', 'mood', 'surf', 'author', 'gangsta',\n",
       "       'triphop', 'inspirational', 'idm', 'ethnic', 'bluegrass',\n",
       "       'broadway', 'animated', 'americana', 'karadeniz', 'rockabilly',\n",
       "       'colombian', 'self', 'hop', 'synthrock', 'sertanejo', 'japanese',\n",
       "       'canzone', 'swing', 'lounge', 'sport', 'korean', 'ragga',\n",
       "       'traditional', 'gitarre', 'frankreich', 'alternativepunk', 'emo',\n",
       "       'laiko', 'cantopop', 'glitch', 'documentary', 'rockalternative',\n",
       "       'thrash', 'hymn', 'oceania', 'rockother', 'popeurodance', 'dark',\n",
       "       'vi', 'grunge', 'hardstyle', 'samba', 'garage', 'soft', 'art',\n",
       "       'folktronica', 'entehno', 'mediterranean', 'chamber', 'cuban',\n",
       "       'taraftar', 'rockindie', 'gypsy', 'hardtechno', 'shoegazing',\n",
       "       'skarock', 'bossa', 'salsa', 'latino', 'worldbeat', 'malaysian',\n",
       "       'baile', 'ghazal', 'loungeelectronic', 'arabic', 'popelectronic',\n",
       "       'acid', 'kayokyoku', 'neoklassik', 'tribal', 'tanzorchester',\n",
       "       'native', 'independent', 'cantautori', 'handsup', 'poprussian',\n",
       "       'punjabi', 'synthpop', 'rave', 'französisch', 'quebecois',\n",
       "       'speech', 'soulful', 'teen', 'jam', 'ram', 'horror', 'scenic',\n",
       "       'orchestral', 'neue', 'roots', 'slow', 'jungle', 'indipop', 'axé',\n",
       "       'fado', 'showtunes', 'arena', 'irish', 'mandopop', 'forró',\n",
       "       'popdance', 'dirty', 'regional'], dtype=object)"
      ]
     },
     "metadata": {},
     "output_type": "display_data"
    }
   ],
   "source": [
    "display(df['genre'].unique())# Просмотр уникальных названий жанров"
   ]
  },
  {
   "cell_type": "code",
   "execution_count": 15,
   "metadata": {
    "id": "ErNDkmns_Zct"
   },
   "outputs": [],
   "source": [
    "def replace_wrong_genres(wrong_genres, correct_genres):\n",
    "    for wrong_genres in wrong_genres:\n",
    "        df['genre'] = df['genre'].replace(wrong_genres, correct_genres)\n",
    "    # Функция для замены неявных дубликатов"
   ]
  },
  {
   "cell_type": "code",
   "execution_count": 16,
   "metadata": {
    "id": "YN5i2hpmSo09"
   },
   "outputs": [],
   "source": [
    "replace_wrong_genres(['hip', 'hop', 'hip-hop'], 'hiphop') \n",
    "# Устранение неявных дубликатов"
   ]
  },
  {
   "cell_type": "code",
   "execution_count": 17,
   "metadata": {
    "id": "wvixALnFG15m"
   },
   "outputs": [
    {
     "data": {
      "text/plain": [
       "0              rock\n",
       "1              rock\n",
       "2               pop\n",
       "3              folk\n",
       "4             dance\n",
       "            ...    \n",
       "61248           rnb\n",
       "61249        hiphop\n",
       "61250    industrial\n",
       "61251          rock\n",
       "61252       country\n",
       "Name: genre, Length: 61253, dtype: object"
      ]
     },
     "metadata": {},
     "output_type": "display_data"
    }
   ],
   "source": [
    "display(df['genre'])# Проверка на неявные дубликаты"
   ]
  },
  {
   "cell_type": "markdown",
   "metadata": {
    "id": "jz6a9-7HQUDd"
   },
   "source": [
    "**Выводы**\n",
    "\n",
    "Предобработка обнаружила три проблемы в данных:\n",
    "\n",
    "- нарушения в стиле заголовков,\n",
    "- пропущенные значения,\n",
    "- дубликаты — явные и неявные.\n",
    "\n",
    "Исправили заголовки, чтобы упростить работу с таблицей. Без дубликатов исследование станет более точным.\n",
    "\n",
    "Пропущенные значения заменили на `'unknown'`. Ещё предстоит увидеть, не повредят ли исследованию пропуски в колонке `genre`."
   ]
  },
  {
   "cell_type": "markdown",
   "metadata": {
    "id": "WttZHXH0SqKk"
   },
   "source": [
    "## Проверка гипотез"
   ]
  },
  {
   "cell_type": "markdown",
   "metadata": {
    "id": "Im936VVi_Zcu"
   },
   "source": [
    "### Сравнение поведения пользователей двух столиц"
   ]
  },
  {
   "cell_type": "markdown",
   "metadata": {
    "id": "nwt_MuaL_Zcu"
   },
   "source": [
    "Первая гипотеза утверждает, что пользователи по-разному слушают музыку в Москве и Санкт-Петербурге. Проверить это предположение по данным о трёх днях недели — понедельнике, среде и пятнице. "
   ]
  },
  {
   "cell_type": "code",
   "execution_count": 18,
   "metadata": {
    "id": "0_Qs96oh_Zcu"
   },
   "outputs": [
    {
     "data": {
      "text/plain": [
       "city\n",
       "Moscow              42741\n",
       "Saint-Petersburg    18512\n",
       "Name: city, dtype: int64"
      ]
     },
     "execution_count": 18,
     "metadata": {},
     "output_type": "execute_result"
    }
   ],
   "source": [
    "df.groupby('city')['city'].count()# Подсчёт прослушиваний в каждом городе"
   ]
  },
  {
   "cell_type": "markdown",
   "metadata": {
    "id": "dzli3w8o_Zcu"
   },
   "source": [
    "В Москве прослушиваний больше, чем в Петербурге. Из этого не следует, что московские пользователи чаще слушают музыку. Просто самих пользователей в Москве больше.\n",
    "\n",
    "Теперь сгруппируем данные по дню недели и подсчитаем прослушивания в понедельник, среду и пятницу. "
   ]
  },
  {
   "cell_type": "code",
   "execution_count": 19,
   "metadata": {
    "id": "uZMKjiJz_Zcu"
   },
   "outputs": [
    {
     "data": {
      "text/plain": [
       "day\n",
       "Friday       21840\n",
       "Monday       21354\n",
       "Wednesday    18059\n",
       "Name: day, dtype: int64"
      ]
     },
     "execution_count": 19,
     "metadata": {},
     "output_type": "execute_result"
    }
   ],
   "source": [
    "df.groupby('day')['day'].count()# Подсчёт прослушиваний в каждый из трёх дней"
   ]
  },
  {
   "cell_type": "markdown",
   "metadata": {
    "id": "cC2tNrlL_Zcu"
   },
   "source": [
    "В среднем пользователи из двух городов менее активны по средам. Но картина может измениться, если рассмотреть каждый город в отдельности."
   ]
  },
  {
   "cell_type": "code",
   "execution_count": 20,
   "metadata": {
    "id": "Nz3GdQB1_Zcu"
   },
   "outputs": [],
   "source": [
    "def number_tracks(day, city):\n",
    "    track_list = df[(df['day'] == day)&(df['city'] == city)]\n",
    "    track_list_count = track_list['user_id'].count()\n",
    "    return track_list_count\n",
    "# <создание функции number_tracks()>\n",
    "# Объявляется функция с двумя параметрами: day, city.\n",
    "# В переменной track_list сохраняются те строки таблицы df, для которых \n",
    "# значение в столбце 'day' равно параметру day и одновременно значение\n",
    "# в столбце 'city' равно параметру city (используйте последовательную фильтрацию\n",
    "# с помощью логической индексации).\n",
    "# В переменной track_list_count сохраняется число значений столбца 'user_id',\n",
    "# рассчитанное методом count() для таблицы track_list.\n",
    "# Функция возвращает число - значение track_list_count.\n",
    "\n",
    "# Функция для подсчёта прослушиваний для конкретного города и дня.\n",
    "# С помощью последовательной фильтрации с логической индексацией она \n",
    "# сначала получит из исходной таблицы строки с нужным днём,\n",
    "# затем из результата отфильтрует строки с нужным городом,\n",
    "# методом count() посчитает количество значений в колонке user_id. \n",
    "# Это количество функция вернёт в качестве результата"
   ]
  },
  {
   "cell_type": "code",
   "execution_count": 21,
   "metadata": {
    "id": "rJcRATNQ_Zcu",
    "scrolled": false
   },
   "outputs": [
    {
     "data": {
      "text/plain": [
       "15740"
      ]
     },
     "execution_count": 21,
     "metadata": {},
     "output_type": "execute_result"
    }
   ],
   "source": [
    "number_tracks('Monday', 'Moscow')# количество прослушиваний в Москве по понедельникам"
   ]
  },
  {
   "cell_type": "code",
   "execution_count": 22,
   "metadata": {
    "id": "hq_ncZ5T_Zcu"
   },
   "outputs": [
    {
     "data": {
      "text/plain": [
       "5614"
      ]
     },
     "execution_count": 22,
     "metadata": {},
     "output_type": "execute_result"
    }
   ],
   "source": [
    "number_tracks('Monday', 'Saint-Petersburg')# количество прослушиваний в Санкт-Петербурге по понедельникам"
   ]
  },
  {
   "cell_type": "code",
   "execution_count": 23,
   "metadata": {
    "id": "_NTy2VPU_Zcu"
   },
   "outputs": [
    {
     "data": {
      "text/plain": [
       "11056"
      ]
     },
     "execution_count": 23,
     "metadata": {},
     "output_type": "execute_result"
    }
   ],
   "source": [
    "number_tracks('Wednesday', 'Moscow')# количество прослушиваний в Москве по средам"
   ]
  },
  {
   "cell_type": "code",
   "execution_count": 24,
   "metadata": {
    "id": "j2y3TAwo_Zcu"
   },
   "outputs": [
    {
     "data": {
      "text/plain": [
       "7003"
      ]
     },
     "execution_count": 24,
     "metadata": {},
     "output_type": "execute_result"
    }
   ],
   "source": [
    "number_tracks('Wednesday', 'Saint-Petersburg')# количество прослушиваний в Санкт-Петербурге по средам"
   ]
  },
  {
   "cell_type": "code",
   "execution_count": 25,
   "metadata": {
    "id": "vYDw5u_K_Zcu"
   },
   "outputs": [
    {
     "data": {
      "text/plain": [
       "15945"
      ]
     },
     "execution_count": 25,
     "metadata": {},
     "output_type": "execute_result"
    }
   ],
   "source": [
    "number_tracks('Friday', 'Moscow')# количество прослушиваний в Москве по пятницам"
   ]
  },
  {
   "cell_type": "code",
   "execution_count": 26,
   "metadata": {
    "id": "8_yzFtW3_Zcu"
   },
   "outputs": [
    {
     "data": {
      "text/plain": [
       "5895"
      ]
     },
     "execution_count": 26,
     "metadata": {},
     "output_type": "execute_result"
    }
   ],
   "source": [
    "number_tracks('Friday', 'Saint-Petersburg')# количество прослушиваний в Санкт-Петербурге по пятницам"
   ]
  },
  {
   "cell_type": "code",
   "execution_count": 27,
   "metadata": {
    "id": "APAcLpOr_Zcu",
    "scrolled": false
   },
   "outputs": [
    {
     "data": {
      "text/html": [
       "<div>\n",
       "<style scoped>\n",
       "    .dataframe tbody tr th:only-of-type {\n",
       "        vertical-align: middle;\n",
       "    }\n",
       "\n",
       "    .dataframe tbody tr th {\n",
       "        vertical-align: top;\n",
       "    }\n",
       "\n",
       "    .dataframe thead th {\n",
       "        text-align: right;\n",
       "    }\n",
       "</style>\n",
       "<table border=\"1\" class=\"dataframe\">\n",
       "  <thead>\n",
       "    <tr style=\"text-align: right;\">\n",
       "      <th></th>\n",
       "      <th>city</th>\n",
       "      <th>monday</th>\n",
       "      <th>wednesday</th>\n",
       "      <th>friday</th>\n",
       "    </tr>\n",
       "  </thead>\n",
       "  <tbody>\n",
       "    <tr>\n",
       "      <td>0</td>\n",
       "      <td>Moscow</td>\n",
       "      <td>15740</td>\n",
       "      <td>11056</td>\n",
       "      <td>15945</td>\n",
       "    </tr>\n",
       "    <tr>\n",
       "      <td>1</td>\n",
       "      <td>Saint-Petersburg</td>\n",
       "      <td>5614</td>\n",
       "      <td>7003</td>\n",
       "      <td>5895</td>\n",
       "    </tr>\n",
       "  </tbody>\n",
       "</table>\n",
       "</div>"
      ],
      "text/plain": [
       "               city  monday   wednesday  friday\n",
       "0            Moscow    15740      11056   15945\n",
       "1  Saint-Petersburg     5614       7003    5895"
      ]
     },
     "metadata": {},
     "output_type": "display_data"
    }
   ],
   "source": [
    "data = [['Moscow', 15740, 11056, 15945],\n",
    "       ['Saint-Petersburg', 5614, 7003, 5895]\n",
    "       ]\n",
    "columns = ['city', 'monday ', 'wednesday', 'friday']\n",
    "dataFrame1 = pd.DataFrame(data = data, columns = columns)\n",
    "display(dataFrame1)# Таблица с результатами"
   ]
  },
  {
   "cell_type": "markdown",
   "metadata": {
    "id": "-EgPIHYu_Zcu"
   },
   "source": [
    "**Выводы**\n",
    "\n",
    "Данные показывают разницу поведения пользователей:\n",
    "\n",
    "- В Москве пик прослушиваний приходится на понедельник и пятницу, а в среду заметен спад.\n",
    "- В Петербурге, наоборот, больше слушают музыку по средам. Активность в понедельник и пятницу здесь почти в равной мере уступает среде.\n",
    "\n",
    "Значит, данные говорят в пользу первой гипотезы."
   ]
  },
  {
   "cell_type": "markdown",
   "metadata": {
    "id": "atZAxtq4_Zcu"
   },
   "source": [
    "### Музыка в начале и в конце недели"
   ]
  },
  {
   "cell_type": "markdown",
   "metadata": {
    "id": "eXrQqXFH_Zcu"
   },
   "source": [
    "Согласно второй гипотезе, утром в понедельник в Москве преобладают одни жанры, а в Петербурге — другие. Так же и вечером пятницы преобладают разные жанры — в зависимости от города."
   ]
  },
  {
   "cell_type": "code",
   "execution_count": 28,
   "metadata": {
    "id": "qeaFfM_P_Zcu"
   },
   "outputs": [],
   "source": [
    "moscow_general = df[df['city'] == 'Moscow'] # получение таблицы moscow_general из тех строк таблицы df, \n",
    "# для которых значение в столбце 'city' равно 'Moscow'\n"
   ]
  },
  {
   "cell_type": "code",
   "execution_count": 29,
   "metadata": {
    "id": "ORaVRKto_Zcu"
   },
   "outputs": [],
   "source": [
    "spb_general = df[df['city'] == 'Saint-Petersburg']# получение таблицы spb_general из тех строк таблицы df,\n",
    "# для которых значение в столбце 'city' равно 'Saint-Petersburg'\n"
   ]
  },
  {
   "cell_type": "code",
   "execution_count": 30,
   "metadata": {
    "id": "laJT9BYl_Zcu"
   },
   "outputs": [],
   "source": [
    "def genre_weekday(table, day, time1, time2):\n",
    "    genre_df = table[(table['day'] == day)&(table['time']>time1)&(table['time']<time2)]\n",
    "    genre_df_count = genre_df.groupby('genre')['genre'].count()\n",
    "    genre_df_sorted = genre_df_count.sort_values(ascending=False).head(30)\n",
    "    return genre_df_sorted\n",
    "# Объявление функции genre_weekday() с параметрами table, day, time1, time2,\n",
    "# которая возвращает информацию о самых популярных жанрах в указанный день в\n",
    "# заданное время:\n",
    "# 1) в переменную genre_df сохраняются те строки переданного датафрейма table, для\n",
    "#    которых одновременно:\n",
    "#    - значение в столбце day равно значению аргумента day\n",
    "#    - значение в столбце time больше значения аргумента time1\n",
    "#    - значение в столбце time меньше значения аргумента time2\n",
    "#    Используйте последовательную фильтрацию с помощью логической индексации.\n",
    "# 2) сгруппировать датафрейм genre_df по столбцу genre, взять один из его\n",
    "#    столбцов и посчитать методом count() количество записей для каждого из\n",
    "#    присутствующих жанров, получившийся Series записать в переменную\n",
    "#    genre_df_count\n",
    "# 3) отсортировать genre_df_count по убыванию встречаемости и сохранить\n",
    "#    в переменную genre_df_sorted\n",
    "# 4) вернуть Series из 10 первых значений genre_df_sorted, это будут топ-10\n",
    "#    популярных жанров (в указанный день, в заданное время)"
   ]
  },
  {
   "cell_type": "code",
   "execution_count": 31,
   "metadata": {
    "id": "yz7itPUQ_Zcu"
   },
   "outputs": [
    {
     "data": {
      "text/plain": [
       "genre\n",
       "pop              717\n",
       "dance            524\n",
       "rock             518\n",
       "electronic       485\n",
       "hiphop           238\n",
       "alternative      182\n",
       "world            172\n",
       "classical        172\n",
       "ruspop           149\n",
       "rusrap           133\n",
       "jazz             124\n",
       "unknown          109\n",
       "soundtrack        92\n",
       "folk              89\n",
       "metal             88\n",
       "rnb               81\n",
       "latin             72\n",
       "rap               61\n",
       "children          58\n",
       "rusrock           56\n",
       "indie             56\n",
       "new               52\n",
       "reggae            49\n",
       "country           46\n",
       "blues             42\n",
       "miscellaneous     39\n",
       "easy              31\n",
       "psychedelic       31\n",
       "film              29\n",
       "local             28\n",
       "Name: genre, dtype: int64"
      ]
     },
     "execution_count": 31,
     "metadata": {},
     "output_type": "execute_result"
    }
   ],
   "source": [
    "genre_weekday(moscow_general, 'Monday', '17:00', '23:00')\n",
    "# вызов функции для утра понедельника в Москве (вместо df — таблица moscow_general)\n",
    "# объекты, хранящие время, являются строками и сравниваются как строки\n",
    "# пример вызова: genre_weekday(moscow_general, 'Monday', '07:00', '11:00')"
   ]
  },
  {
   "cell_type": "code",
   "execution_count": 32,
   "metadata": {
    "id": "kwUcHPdy_Zcu"
   },
   "outputs": [
    {
     "data": {
      "text/plain": [
       "genre\n",
       "pop             218\n",
       "dance           182\n",
       "rock            162\n",
       "electronic      147\n",
       "hiphop           80\n",
       "ruspop           64\n",
       "alternative      58\n",
       "rusrap           55\n",
       "jazz             44\n",
       "classical        40\n",
       "world            36\n",
       "rap              32\n",
       "soundtrack       31\n",
       "metal            27\n",
       "rnb              27\n",
       "folk             24\n",
       "latin            19\n",
       "indie            19\n",
       "unknown          18\n",
       "rusrock          17\n",
       "punk             16\n",
       "reggae           16\n",
       "new              15\n",
       "blues            11\n",
       "instrumental     11\n",
       "country          10\n",
       "children         10\n",
       "house             8\n",
       "film              8\n",
       "singer            8\n",
       "Name: genre, dtype: int64"
      ]
     },
     "execution_count": 32,
     "metadata": {},
     "output_type": "execute_result"
    }
   ],
   "source": [
    "genre_weekday(spb_general, 'Monday', '07:00', '11:00')# вызов функции для утра понедельника в Петербурге (вместо df — таблица spb_general)"
   ]
  },
  {
   "cell_type": "code",
   "execution_count": 33,
   "metadata": {
    "id": "EzXVRE1o_Zcu"
   },
   "outputs": [
    {
     "data": {
      "text/plain": [
       "genre\n",
       "pop              713\n",
       "rock             517\n",
       "dance            495\n",
       "electronic       482\n",
       "hiphop           273\n",
       "world            208\n",
       "ruspop           170\n",
       "alternative      163\n",
       "classical        163\n",
       "rusrap           142\n",
       "jazz             111\n",
       "unknown          110\n",
       "soundtrack       105\n",
       "rnb               90\n",
       "metal             88\n",
       "folk              83\n",
       "latin             75\n",
       "rap               71\n",
       "rusrock           68\n",
       "indie             59\n",
       "children          53\n",
       "reggae            53\n",
       "blues             52\n",
       "punk              43\n",
       "country           41\n",
       "house             38\n",
       "film              36\n",
       "new               32\n",
       "miscellaneous     29\n",
       "local             29\n",
       "Name: genre, dtype: int64"
      ]
     },
     "execution_count": 33,
     "metadata": {},
     "output_type": "execute_result"
    }
   ],
   "source": [
    "table = moscow_general\n",
    "day = 'Friday'\n",
    "time1 = '17:00'\n",
    "time2 = '23:00'\n",
    "genre_weekday(moscow_general, 'Friday', '17:00', '23:00')# вызов функции для вечера пятницы в Москве"
   ]
  },
  {
   "cell_type": "code",
   "execution_count": 34,
   "metadata": {
    "id": "JZaEKu5v_Zcu"
   },
   "outputs": [
    {
     "data": {
      "text/plain": [
       "genre\n",
       "pop              256\n",
       "rock             216\n",
       "electronic       216\n",
       "dance            210\n",
       "hiphop            97\n",
       "alternative       63\n",
       "jazz              61\n",
       "classical         60\n",
       "rusrap            59\n",
       "world             54\n",
       "ruspop            47\n",
       "unknown           47\n",
       "soundtrack        40\n",
       "metal             39\n",
       "rap               36\n",
       "latin             35\n",
       "folk              31\n",
       "rnb               31\n",
       "indie             29\n",
       "children          23\n",
       "rusrock           19\n",
       "new               18\n",
       "miscellaneous     16\n",
       "local             15\n",
       "country           15\n",
       "blues             15\n",
       "holiday           13\n",
       "punk              12\n",
       "psychedelic       11\n",
       "reggae            11\n",
       "Name: genre, dtype: int64"
      ]
     },
     "execution_count": 34,
     "metadata": {},
     "output_type": "execute_result"
    }
   ],
   "source": [
    "table = spb_general\n",
    "day = 'Friday'\n",
    "time1 = '17:00'\n",
    "time2 = '23:00'\n",
    "genre_weekday(spb_general, 'Friday', '17:00', '23:00')# вызов функции для вечера пятницы в Петербурге"
   ]
  },
  {
   "cell_type": "markdown",
   "metadata": {
    "id": "wrCe4MNX_Zcu"
   },
   "source": [
    "**Выводы**\n",
    "\n",
    "Если сравнить топ-10 жанров в понедельник утром, можно сделать такие выводы:\n",
    "\n",
    "1. В Москве и Петербурге слушают похожую музыку. Единственное отличие — в московский рейтинг вошёл жанр “world”, а в петербургский — джаз и классика.\n",
    "\n",
    "2. В Москве пропущенных значений оказалось так много, что значение `'unknown'` заняло десятое место среди самых популярных жанров. Значит, пропущенные значения занимают существенную долю в данных и угрожают достоверности исследования.\n",
    "\n",
    "Вечер пятницы не меняет эту картину. Некоторые жанры поднимаются немного выше, другие спускаются, но в целом топ-10 остаётся тем же самым.\n",
    "\n",
    "Таким образом, вторая гипотеза подтвердилась лишь частично:\n",
    "* Пользователи слушают похожую музыку в начале недели и в конце.\n",
    "* Разница между Москвой и Петербургом не слишком выражена. В Москве чаще слушают русскую популярную музыку, в Петербурге — джаз.\n",
    "\n",
    "Однако пропуски в данных ставят под сомнение этот результат. В Москве их так много, что рейтинг топ-10 мог бы выглядеть иначе, если бы не утерянные  данные о жанрах."
   ]
  },
  {
   "cell_type": "markdown",
   "metadata": {
    "id": "JolODAqr_Zcu"
   },
   "source": [
    "### Жанровые предпочтения в Москве и Петербурге\n",
    "\n",
    "Гипотеза: Петербург — столица рэпа, музыку этого жанра там слушают чаще, чем в Москве.  А Москва — город контрастов, в котором, тем не менее, преобладает поп-музыка."
   ]
  },
  {
   "cell_type": "code",
   "execution_count": 35,
   "metadata": {
    "id": "r19lIPke_Zcu"
   },
   "outputs": [],
   "source": [
    "moscow_genres = moscow_general.groupby('genre').count().sort_values(by='genre', ascending=False)\n",
    "# одной строкой: группировка таблицы moscow_general по столбцу 'genre', \n",
    "# подсчёт числа значений 'genre' в этой группировке методом count(), \n",
    "# сортировка получившегося Series в порядке убывания и сохранение в moscow_genres"
   ]
  },
  {
   "cell_type": "code",
   "execution_count": 37,
   "metadata": {
    "id": "WhCSooF8_Zcv"
   },
   "outputs": [
    {
     "data": {
      "text/html": [
       "<div>\n",
       "<style scoped>\n",
       "    .dataframe tbody tr th:only-of-type {\n",
       "        vertical-align: middle;\n",
       "    }\n",
       "\n",
       "    .dataframe tbody tr th {\n",
       "        vertical-align: top;\n",
       "    }\n",
       "\n",
       "    .dataframe thead th {\n",
       "        text-align: right;\n",
       "    }\n",
       "</style>\n",
       "<table border=\"1\" class=\"dataframe\">\n",
       "  <thead>\n",
       "    <tr style=\"text-align: right;\">\n",
       "      <th></th>\n",
       "      <th>user_id</th>\n",
       "      <th>track</th>\n",
       "      <th>artist</th>\n",
       "      <th>city</th>\n",
       "      <th>time</th>\n",
       "      <th>day</th>\n",
       "    </tr>\n",
       "    <tr>\n",
       "      <th>genre</th>\n",
       "      <th></th>\n",
       "      <th></th>\n",
       "      <th></th>\n",
       "      <th></th>\n",
       "      <th></th>\n",
       "      <th></th>\n",
       "    </tr>\n",
       "  </thead>\n",
       "  <tbody>\n",
       "    <tr>\n",
       "      <td>ïîï</td>\n",
       "      <td>1</td>\n",
       "      <td>1</td>\n",
       "      <td>1</td>\n",
       "      <td>1</td>\n",
       "      <td>1</td>\n",
       "      <td>1</td>\n",
       "    </tr>\n",
       "    <tr>\n",
       "      <td>worldbeat</td>\n",
       "      <td>1</td>\n",
       "      <td>1</td>\n",
       "      <td>1</td>\n",
       "      <td>1</td>\n",
       "      <td>1</td>\n",
       "      <td>1</td>\n",
       "    </tr>\n",
       "    <tr>\n",
       "      <td>world</td>\n",
       "      <td>1432</td>\n",
       "      <td>1432</td>\n",
       "      <td>1432</td>\n",
       "      <td>1432</td>\n",
       "      <td>1432</td>\n",
       "      <td>1432</td>\n",
       "    </tr>\n",
       "    <tr>\n",
       "      <td>western</td>\n",
       "      <td>64</td>\n",
       "      <td>64</td>\n",
       "      <td>64</td>\n",
       "      <td>64</td>\n",
       "      <td>64</td>\n",
       "      <td>64</td>\n",
       "    </tr>\n",
       "    <tr>\n",
       "      <td>vocal</td>\n",
       "      <td>68</td>\n",
       "      <td>68</td>\n",
       "      <td>68</td>\n",
       "      <td>68</td>\n",
       "      <td>68</td>\n",
       "      <td>68</td>\n",
       "    </tr>\n",
       "    <tr>\n",
       "      <td>videogame</td>\n",
       "      <td>66</td>\n",
       "      <td>66</td>\n",
       "      <td>66</td>\n",
       "      <td>66</td>\n",
       "      <td>66</td>\n",
       "      <td>66</td>\n",
       "    </tr>\n",
       "    <tr>\n",
       "      <td>vi</td>\n",
       "      <td>2</td>\n",
       "      <td>2</td>\n",
       "      <td>2</td>\n",
       "      <td>2</td>\n",
       "      <td>2</td>\n",
       "      <td>2</td>\n",
       "    </tr>\n",
       "    <tr>\n",
       "      <td>variété</td>\n",
       "      <td>24</td>\n",
       "      <td>24</td>\n",
       "      <td>24</td>\n",
       "      <td>24</td>\n",
       "      <td>24</td>\n",
       "      <td>24</td>\n",
       "    </tr>\n",
       "    <tr>\n",
       "      <td>uzbek</td>\n",
       "      <td>16</td>\n",
       "      <td>16</td>\n",
       "      <td>16</td>\n",
       "      <td>16</td>\n",
       "      <td>16</td>\n",
       "      <td>16</td>\n",
       "    </tr>\n",
       "    <tr>\n",
       "      <td>urban</td>\n",
       "      <td>158</td>\n",
       "      <td>158</td>\n",
       "      <td>158</td>\n",
       "      <td>158</td>\n",
       "      <td>158</td>\n",
       "      <td>158</td>\n",
       "    </tr>\n",
       "  </tbody>\n",
       "</table>\n",
       "</div>"
      ],
      "text/plain": [
       "           user_id  track  artist  city  time   day\n",
       "genre                                              \n",
       "ïîï              1      1       1     1     1     1\n",
       "worldbeat        1      1       1     1     1     1\n",
       "world         1432   1432    1432  1432  1432  1432\n",
       "western         64     64      64    64    64    64\n",
       "vocal           68     68      68    68    68    68\n",
       "videogame       66     66      66    66    66    66\n",
       "vi               2      2       2     2     2     2\n",
       "variété         24     24      24    24    24    24\n",
       "uzbek           16     16      16    16    16    16\n",
       "urban          158    158     158   158   158   158"
      ]
     },
     "metadata": {},
     "output_type": "display_data"
    }
   ],
   "source": [
    "display(moscow_genres.head(10))# просмотр первых 10 строк moscow_genres"
   ]
  },
  {
   "cell_type": "code",
   "execution_count": 38,
   "metadata": {
    "id": "gluLIpE7_Zcv"
   },
   "outputs": [],
   "source": [
    "spb_genres = spb_general.groupby('genre').count().sort_values(by='genre', ascending=False)\n",
    "# одной строкой: группировка таблицы spb_general по столбцу 'genre', \n",
    "# подсчёт числа значений 'genre' в этой группировке методом count(), \n",
    "# сортировка получившегося Series в порядке убывания и сохранение в spb_genres"
   ]
  },
  {
   "cell_type": "code",
   "execution_count": 39,
   "metadata": {
    "id": "uaGJHjVU_Zcv"
   },
   "outputs": [
    {
     "data": {
      "text/html": [
       "<div>\n",
       "<style scoped>\n",
       "    .dataframe tbody tr th:only-of-type {\n",
       "        vertical-align: middle;\n",
       "    }\n",
       "\n",
       "    .dataframe tbody tr th {\n",
       "        vertical-align: top;\n",
       "    }\n",
       "\n",
       "    .dataframe thead th {\n",
       "        text-align: right;\n",
       "    }\n",
       "</style>\n",
       "<table border=\"1\" class=\"dataframe\">\n",
       "  <thead>\n",
       "    <tr style=\"text-align: right;\">\n",
       "      <th></th>\n",
       "      <th>user_id</th>\n",
       "      <th>track</th>\n",
       "      <th>artist</th>\n",
       "      <th>city</th>\n",
       "      <th>time</th>\n",
       "      <th>day</th>\n",
       "    </tr>\n",
       "    <tr>\n",
       "      <th>genre</th>\n",
       "      <th></th>\n",
       "      <th></th>\n",
       "      <th></th>\n",
       "      <th></th>\n",
       "      <th></th>\n",
       "      <th></th>\n",
       "    </tr>\n",
       "  </thead>\n",
       "  <tbody>\n",
       "    <tr>\n",
       "      <td>электроника</td>\n",
       "      <td>1</td>\n",
       "      <td>1</td>\n",
       "      <td>1</td>\n",
       "      <td>1</td>\n",
       "      <td>1</td>\n",
       "      <td>1</td>\n",
       "    </tr>\n",
       "    <tr>\n",
       "      <td>worldbeat</td>\n",
       "      <td>1</td>\n",
       "      <td>1</td>\n",
       "      <td>1</td>\n",
       "      <td>1</td>\n",
       "      <td>1</td>\n",
       "      <td>1</td>\n",
       "    </tr>\n",
       "    <tr>\n",
       "      <td>world</td>\n",
       "      <td>515</td>\n",
       "      <td>515</td>\n",
       "      <td>515</td>\n",
       "      <td>515</td>\n",
       "      <td>515</td>\n",
       "      <td>515</td>\n",
       "    </tr>\n",
       "    <tr>\n",
       "      <td>western</td>\n",
       "      <td>33</td>\n",
       "      <td>33</td>\n",
       "      <td>33</td>\n",
       "      <td>33</td>\n",
       "      <td>33</td>\n",
       "      <td>33</td>\n",
       "    </tr>\n",
       "    <tr>\n",
       "      <td>vocal</td>\n",
       "      <td>25</td>\n",
       "      <td>25</td>\n",
       "      <td>25</td>\n",
       "      <td>25</td>\n",
       "      <td>25</td>\n",
       "      <td>25</td>\n",
       "    </tr>\n",
       "    <tr>\n",
       "      <td>videogame</td>\n",
       "      <td>48</td>\n",
       "      <td>48</td>\n",
       "      <td>48</td>\n",
       "      <td>48</td>\n",
       "      <td>48</td>\n",
       "      <td>48</td>\n",
       "    </tr>\n",
       "    <tr>\n",
       "      <td>vi</td>\n",
       "      <td>1</td>\n",
       "      <td>1</td>\n",
       "      <td>1</td>\n",
       "      <td>1</td>\n",
       "      <td>1</td>\n",
       "      <td>1</td>\n",
       "    </tr>\n",
       "    <tr>\n",
       "      <td>variété</td>\n",
       "      <td>14</td>\n",
       "      <td>14</td>\n",
       "      <td>14</td>\n",
       "      <td>14</td>\n",
       "      <td>14</td>\n",
       "      <td>14</td>\n",
       "    </tr>\n",
       "    <tr>\n",
       "      <td>uzbek</td>\n",
       "      <td>12</td>\n",
       "      <td>12</td>\n",
       "      <td>12</td>\n",
       "      <td>12</td>\n",
       "      <td>12</td>\n",
       "      <td>12</td>\n",
       "    </tr>\n",
       "    <tr>\n",
       "      <td>urban</td>\n",
       "      <td>76</td>\n",
       "      <td>76</td>\n",
       "      <td>76</td>\n",
       "      <td>76</td>\n",
       "      <td>76</td>\n",
       "      <td>76</td>\n",
       "    </tr>\n",
       "  </tbody>\n",
       "</table>\n",
       "</div>"
      ],
      "text/plain": [
       "             user_id  track  artist  city  time  day\n",
       "genre                                               \n",
       "электроника        1      1       1     1     1    1\n",
       "worldbeat          1      1       1     1     1    1\n",
       "world            515    515     515   515   515  515\n",
       "western           33     33      33    33    33   33\n",
       "vocal             25     25      25    25    25   25\n",
       "videogame         48     48      48    48    48   48\n",
       "vi                 1      1       1     1     1    1\n",
       "variété           14     14      14    14    14   14\n",
       "uzbek             12     12      12    12    12   12\n",
       "urban             76     76      76    76    76   76"
      ]
     },
     "metadata": {},
     "output_type": "display_data"
    }
   ],
   "source": [
    "display(spb_genres.head(10))# просмотр первых 10 строк spb_genres"
   ]
  },
  {
   "cell_type": "markdown",
   "metadata": {
    "id": "RY51YJYu_Zcv"
   },
   "source": [
    "**Выводы**"
   ]
  },
  {
   "cell_type": "markdown",
   "metadata": {
    "id": "nVhnJEm__Zcv"
   },
   "source": [
    "Гипотеза частично подтвердилась:\n",
    "* Поп-музыка — самый популярный жанр в Москве, как и предполагала гипотеза. Более того, в топ-10 жанров встречается близкий жанр — русская популярная музыка.\n",
    "* Вопреки ожиданиям, рэп одинаково популярен в Москве и Петербурге. \n"
   ]
  },
  {
   "cell_type": "markdown",
   "metadata": {
    "id": "ykKQ0N65_Zcv"
   },
   "source": [
    "## Итоги исследования"
   ]
  },
  {
   "cell_type": "markdown",
   "metadata": {
    "id": "tjUwbHb3_Zcv"
   },
   "source": [
    "Проверили три гипотезы и установили:\n",
    "\n",
    "1. День недели по-разному влияет на активность пользователей в Москве и Петербурге. \n",
    "\n",
    "Первая гипотеза полностью подтвердилась.\n",
    "\n",
    "2. Музыкальные предпочтения не сильно меняются в течение недели — будь то Москва или Петербург. Небольшие различия заметны в начале недели, по понедельникам:\n",
    "* в Москве слушают музыку жанра “world”,\n",
    "* в Петербурге — джаз и классику.\n",
    "\n",
    "Таким образом, вторая гипотеза подтвердилась лишь отчасти. Этот результат мог оказаться иным, если бы не пропуски в данных.\n",
    "\n",
    "3. Во вкусах пользователей Москвы и Петербурга больше общего чем различий. Вопреки ожиданиям, предпочтения жанров в Петербурге напоминают московские.\n",
    "\n",
    "Третья гипотеза не подтвердилась. Если различия в предпочтениях и существуют, на основной массе пользователей они незаметны.\n"
   ]
  }
 ],
 "metadata": {
  "ExecuteTimeLog": [
   {
    "duration": 567,
    "start_time": "2022-01-05T16:53:28.429Z"
   },
   {
    "duration": 116,
    "start_time": "2022-01-05T16:53:33.590Z"
   },
   {
    "duration": 16,
    "start_time": "2022-01-05T16:54:12.350Z"
   },
   {
    "duration": 23,
    "start_time": "2022-01-05T16:54:28.362Z"
   },
   {
    "duration": 4,
    "start_time": "2022-01-05T16:55:11.311Z"
   },
   {
    "duration": 20,
    "start_time": "2022-01-05T16:55:20.195Z"
   },
   {
    "duration": 3,
    "start_time": "2022-01-05T16:55:25.143Z"
   },
   {
    "duration": 21,
    "start_time": "2022-01-05T16:55:28.056Z"
   },
   {
    "duration": 104,
    "start_time": "2022-01-05T16:55:36.053Z"
   },
   {
    "duration": 230,
    "start_time": "2022-01-05T17:02:04.095Z"
   },
   {
    "duration": 103,
    "start_time": "2022-01-05T17:03:47.826Z"
   },
   {
    "duration": 116,
    "start_time": "2022-01-05T17:04:38.184Z"
   },
   {
    "duration": 103,
    "start_time": "2022-01-05T17:07:50.593Z"
   },
   {
    "duration": 82,
    "start_time": "2022-01-07T04:11:24.840Z"
   },
   {
    "duration": 92,
    "start_time": "2022-01-07T04:11:34.987Z"
   },
   {
    "duration": 79,
    "start_time": "2022-01-07T04:11:38.804Z"
   },
   {
    "duration": 98,
    "start_time": "2022-01-07T04:11:42.220Z"
   },
   {
    "duration": 83,
    "start_time": "2022-01-07T04:11:44.138Z"
   },
   {
    "duration": 82,
    "start_time": "2022-01-07T04:11:45.764Z"
   },
   {
    "duration": 78,
    "start_time": "2022-01-07T04:11:47.051Z"
   },
   {
    "duration": 81,
    "start_time": "2022-01-07T04:11:48.612Z"
   },
   {
    "duration": 92,
    "start_time": "2022-01-07T04:11:52.342Z"
   },
   {
    "duration": 608,
    "start_time": "2022-01-07T04:26:18.438Z"
   },
   {
    "duration": 2,
    "start_time": "2022-01-07T04:26:41.433Z"
   },
   {
    "duration": 4,
    "start_time": "2022-01-07T04:26:45.477Z"
   },
   {
    "duration": 3,
    "start_time": "2022-01-07T04:31:40.909Z"
   },
   {
    "duration": 3,
    "start_time": "2022-01-07T04:55:59.807Z"
   },
   {
    "duration": 148,
    "start_time": "2022-01-07T04:55:59.813Z"
   },
   {
    "duration": 19,
    "start_time": "2022-01-07T04:55:59.963Z"
   },
   {
    "duration": 30,
    "start_time": "2022-01-07T04:55:59.984Z"
   },
   {
    "duration": 5,
    "start_time": "2022-01-07T04:56:00.016Z"
   },
   {
    "duration": 55,
    "start_time": "2022-01-07T04:56:00.023Z"
   },
   {
    "duration": 4,
    "start_time": "2022-01-07T04:56:00.081Z"
   },
   {
    "duration": 26,
    "start_time": "2022-01-07T04:56:00.087Z"
   },
   {
    "duration": 87,
    "start_time": "2022-01-07T04:56:00.116Z"
   },
   {
    "duration": -72,
    "start_time": "2022-01-07T04:56:00.278Z"
   },
   {
    "duration": -71,
    "start_time": "2022-01-07T04:56:00.279Z"
   },
   {
    "duration": -72,
    "start_time": "2022-01-07T04:56:00.281Z"
   },
   {
    "duration": -74,
    "start_time": "2022-01-07T04:56:00.285Z"
   },
   {
    "duration": -341,
    "start_time": "2022-01-07T04:56:00.553Z"
   },
   {
    "duration": -344,
    "start_time": "2022-01-07T04:56:00.558Z"
   },
   {
    "duration": -345,
    "start_time": "2022-01-07T04:56:00.560Z"
   },
   {
    "duration": -346,
    "start_time": "2022-01-07T04:56:00.562Z"
   },
   {
    "duration": -346,
    "start_time": "2022-01-07T04:56:00.564Z"
   },
   {
    "duration": -347,
    "start_time": "2022-01-07T04:56:00.566Z"
   },
   {
    "duration": -347,
    "start_time": "2022-01-07T04:56:00.568Z"
   },
   {
    "duration": -348,
    "start_time": "2022-01-07T04:56:00.570Z"
   },
   {
    "duration": -348,
    "start_time": "2022-01-07T04:56:00.572Z"
   },
   {
    "duration": -350,
    "start_time": "2022-01-07T04:56:00.575Z"
   },
   {
    "duration": -349,
    "start_time": "2022-01-07T04:56:00.576Z"
   },
   {
    "duration": -350,
    "start_time": "2022-01-07T04:56:00.578Z"
   },
   {
    "duration": -351,
    "start_time": "2022-01-07T04:56:00.580Z"
   },
   {
    "duration": -351,
    "start_time": "2022-01-07T04:56:00.582Z"
   },
   {
    "duration": -351,
    "start_time": "2022-01-07T04:56:00.583Z"
   },
   {
    "duration": -351,
    "start_time": "2022-01-07T04:56:00.585Z"
   },
   {
    "duration": -351,
    "start_time": "2022-01-07T04:56:00.586Z"
   },
   {
    "duration": -352,
    "start_time": "2022-01-07T04:56:00.588Z"
   },
   {
    "duration": -351,
    "start_time": "2022-01-07T04:56:00.589Z"
   },
   {
    "duration": -352,
    "start_time": "2022-01-07T04:56:00.591Z"
   },
   {
    "duration": -351,
    "start_time": "2022-01-07T04:56:00.592Z"
   },
   {
    "duration": -352,
    "start_time": "2022-01-07T04:56:00.594Z"
   },
   {
    "duration": -357,
    "start_time": "2022-01-07T04:56:00.600Z"
   },
   {
    "duration": -356,
    "start_time": "2022-01-07T04:56:00.601Z"
   },
   {
    "duration": -359,
    "start_time": "2022-01-07T04:56:00.606Z"
   },
   {
    "duration": 310,
    "start_time": "2022-01-07T05:12:19.980Z"
   },
   {
    "duration": 326,
    "start_time": "2022-01-07T05:18:13.960Z"
   },
   {
    "duration": 243,
    "start_time": "2022-01-07T05:18:53.365Z"
   },
   {
    "duration": 455,
    "start_time": "2022-01-07T05:21:21.085Z"
   },
   {
    "duration": 6473,
    "start_time": "2022-01-07T05:30:29.073Z"
   },
   {
    "duration": 6532,
    "start_time": "2022-01-07T05:32:13.621Z"
   },
   {
    "duration": 88,
    "start_time": "2022-01-07T05:58:09.966Z"
   },
   {
    "duration": 6555,
    "start_time": "2022-01-07T05:58:28.384Z"
   },
   {
    "duration": 5946,
    "start_time": "2022-01-07T05:59:04.104Z"
   },
   {
    "duration": 444,
    "start_time": "2022-01-07T08:25:04.908Z"
   },
   {
    "duration": 791,
    "start_time": "2022-01-07T08:25:17.753Z"
   },
   {
    "duration": 173,
    "start_time": "2022-01-07T08:25:18.547Z"
   },
   {
    "duration": 38,
    "start_time": "2022-01-07T08:25:18.723Z"
   },
   {
    "duration": 31,
    "start_time": "2022-01-07T08:25:18.763Z"
   },
   {
    "duration": 5,
    "start_time": "2022-01-07T08:25:18.796Z"
   },
   {
    "duration": 56,
    "start_time": "2022-01-07T08:25:18.804Z"
   },
   {
    "duration": 5,
    "start_time": "2022-01-07T08:25:18.863Z"
   },
   {
    "duration": 30,
    "start_time": "2022-01-07T08:25:18.871Z"
   },
   {
    "duration": 749,
    "start_time": "2022-01-07T09:06:53.017Z"
   },
   {
    "duration": 175,
    "start_time": "2022-01-07T09:06:53.768Z"
   },
   {
    "duration": 31,
    "start_time": "2022-01-07T09:06:53.946Z"
   },
   {
    "duration": 33,
    "start_time": "2022-01-07T09:06:53.979Z"
   },
   {
    "duration": 5,
    "start_time": "2022-01-07T09:06:54.014Z"
   },
   {
    "duration": 61,
    "start_time": "2022-01-07T09:06:54.021Z"
   },
   {
    "duration": 9,
    "start_time": "2022-01-07T09:06:54.085Z"
   },
   {
    "duration": 29,
    "start_time": "2022-01-07T09:06:54.097Z"
   },
   {
    "duration": 788,
    "start_time": "2022-01-07T09:09:26.632Z"
   },
   {
    "duration": 174,
    "start_time": "2022-01-07T09:09:27.423Z"
   },
   {
    "duration": 30,
    "start_time": "2022-01-07T09:09:27.601Z"
   },
   {
    "duration": 53,
    "start_time": "2022-01-07T09:09:27.634Z"
   },
   {
    "duration": 5,
    "start_time": "2022-01-07T09:09:27.689Z"
   },
   {
    "duration": 28,
    "start_time": "2022-01-07T09:09:27.696Z"
   },
   {
    "duration": 33,
    "start_time": "2022-01-07T09:09:27.726Z"
   },
   {
    "duration": 35,
    "start_time": "2022-01-07T09:09:27.762Z"
   },
   {
    "duration": 4656243,
    "start_time": "2022-01-07T09:09:27.800Z"
   },
   {
    "duration": 32,
    "start_time": "2022-01-07T10:27:04.046Z"
   },
   {
    "duration": 95,
    "start_time": "2022-01-07T10:27:04.081Z"
   },
   {
    "duration": 109,
    "start_time": "2022-01-07T10:27:04.178Z"
   },
   {
    "duration": 86,
    "start_time": "2022-01-07T10:27:04.290Z"
   },
   {
    "duration": 3,
    "start_time": "2022-01-07T10:27:04.378Z"
   },
   {
    "duration": 8,
    "start_time": "2022-01-07T10:27:04.383Z"
   },
   {
    "duration": 5,
    "start_time": "2022-01-07T10:27:04.393Z"
   },
   {
    "duration": 9,
    "start_time": "2022-01-07T10:27:04.400Z"
   },
   {
    "duration": 8,
    "start_time": "2022-01-07T10:27:04.411Z"
   },
   {
    "duration": 4,
    "start_time": "2022-01-07T10:27:04.422Z"
   },
   {
    "duration": 30,
    "start_time": "2022-01-07T10:27:04.429Z"
   },
   {
    "duration": 10,
    "start_time": "2022-01-07T10:27:04.462Z"
   },
   {
    "duration": 6,
    "start_time": "2022-01-07T10:27:04.474Z"
   },
   {
    "duration": 3,
    "start_time": "2022-01-07T10:27:04.485Z"
   },
   {
    "duration": 6,
    "start_time": "2022-01-07T10:27:04.491Z"
   },
   {
    "duration": 6,
    "start_time": "2022-01-07T10:27:04.499Z"
   },
   {
    "duration": 8,
    "start_time": "2022-01-07T10:27:04.508Z"
   },
   {
    "duration": 5,
    "start_time": "2022-01-07T10:27:04.518Z"
   },
   {
    "duration": 36,
    "start_time": "2022-01-07T10:27:04.525Z"
   },
   {
    "duration": 6,
    "start_time": "2022-01-07T10:27:04.564Z"
   },
   {
    "duration": 5,
    "start_time": "2022-01-07T10:27:04.573Z"
   },
   {
    "duration": 7,
    "start_time": "2022-01-07T10:27:04.580Z"
   },
   {
    "duration": 5,
    "start_time": "2022-01-07T10:27:04.589Z"
   },
   {
    "duration": 6,
    "start_time": "2022-01-07T10:27:04.597Z"
   },
   {
    "duration": 6,
    "start_time": "2022-01-07T10:27:04.605Z"
   },
   {
    "duration": 46,
    "start_time": "2022-01-07T10:27:04.613Z"
   },
   {
    "duration": 5,
    "start_time": "2022-01-07T10:27:04.661Z"
   },
   {
    "duration": 5,
    "start_time": "2022-01-07T10:27:04.668Z"
   },
   {
    "duration": 6,
    "start_time": "2022-01-07T10:27:04.676Z"
   },
   {
    "duration": 325,
    "start_time": "2022-01-07T14:40:07.471Z"
   },
   {
    "duration": 803,
    "start_time": "2022-01-07T14:50:36.339Z"
   },
   {
    "duration": 198,
    "start_time": "2022-01-07T14:50:37.145Z"
   },
   {
    "duration": 38,
    "start_time": "2022-01-07T14:50:37.347Z"
   },
   {
    "duration": 33,
    "start_time": "2022-01-07T14:50:37.388Z"
   },
   {
    "duration": 6,
    "start_time": "2022-01-07T14:50:37.424Z"
   },
   {
    "duration": 63,
    "start_time": "2022-01-07T14:50:37.432Z"
   },
   {
    "duration": 8,
    "start_time": "2022-01-07T14:50:37.498Z"
   },
   {
    "duration": 31,
    "start_time": "2022-01-07T14:50:37.510Z"
   },
   {
    "duration": 729,
    "start_time": "2022-01-07T15:44:35.820Z"
   },
   {
    "duration": 194,
    "start_time": "2022-01-07T15:44:36.551Z"
   },
   {
    "duration": 32,
    "start_time": "2022-01-07T15:44:36.748Z"
   },
   {
    "duration": 35,
    "start_time": "2022-01-07T15:44:36.783Z"
   },
   {
    "duration": 6,
    "start_time": "2022-01-07T15:44:36.821Z"
   },
   {
    "duration": 60,
    "start_time": "2022-01-07T15:44:36.830Z"
   },
   {
    "duration": 6,
    "start_time": "2022-01-07T15:44:36.893Z"
   },
   {
    "duration": 39,
    "start_time": "2022-01-07T15:44:36.904Z"
   },
   {
    "duration": 799,
    "start_time": "2022-01-07T17:02:43.340Z"
   },
   {
    "duration": 190,
    "start_time": "2022-01-07T17:02:44.141Z"
   },
   {
    "duration": 35,
    "start_time": "2022-01-07T17:02:44.334Z"
   },
   {
    "duration": 35,
    "start_time": "2022-01-07T17:02:44.371Z"
   },
   {
    "duration": 5,
    "start_time": "2022-01-07T17:02:44.409Z"
   },
   {
    "duration": 59,
    "start_time": "2022-01-07T17:02:44.416Z"
   },
   {
    "duration": 8,
    "start_time": "2022-01-07T17:02:44.477Z"
   },
   {
    "duration": 33,
    "start_time": "2022-01-07T17:02:44.488Z"
   },
   {
    "duration": 794,
    "start_time": "2022-01-07T17:55:15.401Z"
   },
   {
    "duration": 195,
    "start_time": "2022-01-07T17:55:16.197Z"
   },
   {
    "duration": 29,
    "start_time": "2022-01-07T17:55:16.395Z"
   },
   {
    "duration": 50,
    "start_time": "2022-01-07T17:55:16.427Z"
   },
   {
    "duration": 6,
    "start_time": "2022-01-07T17:55:16.479Z"
   },
   {
    "duration": 32,
    "start_time": "2022-01-07T17:55:16.487Z"
   },
   {
    "duration": 8,
    "start_time": "2022-01-07T17:55:16.521Z"
   },
   {
    "duration": 61,
    "start_time": "2022-01-07T17:55:16.532Z"
   },
   {
    "duration": 355,
    "start_time": "2022-01-08T05:27:37.436Z"
   },
   {
    "duration": 753,
    "start_time": "2022-01-08T05:27:53.905Z"
   },
   {
    "duration": 3,
    "start_time": "2022-01-08T05:28:46.210Z"
   },
   {
    "duration": 185,
    "start_time": "2022-01-08T05:28:46.219Z"
   },
   {
    "duration": 39,
    "start_time": "2022-01-08T05:28:46.407Z"
   },
   {
    "duration": 32,
    "start_time": "2022-01-08T05:28:46.449Z"
   },
   {
    "duration": 5,
    "start_time": "2022-01-08T05:28:46.484Z"
   },
   {
    "duration": 30,
    "start_time": "2022-01-08T05:28:46.523Z"
   },
   {
    "duration": 8,
    "start_time": "2022-01-08T05:28:46.555Z"
   },
   {
    "duration": 62,
    "start_time": "2022-01-08T05:28:46.565Z"
   },
   {
    "duration": 740,
    "start_time": "2022-01-08T05:29:50.808Z"
   },
   {
    "duration": 173,
    "start_time": "2022-01-08T05:29:51.551Z"
   },
   {
    "duration": 28,
    "start_time": "2022-01-08T05:29:51.728Z"
   },
   {
    "duration": 31,
    "start_time": "2022-01-08T05:29:51.759Z"
   },
   {
    "duration": 33,
    "start_time": "2022-01-08T05:29:51.793Z"
   },
   {
    "duration": 27,
    "start_time": "2022-01-08T05:29:51.828Z"
   },
   {
    "duration": 5,
    "start_time": "2022-01-08T05:29:51.858Z"
   },
   {
    "duration": 56,
    "start_time": "2022-01-08T05:29:51.866Z"
   },
   {
    "duration": 4335865,
    "start_time": "2022-01-08T05:29:51.925Z"
   },
   {
    "duration": 31,
    "start_time": "2022-01-08T06:42:07.792Z"
   },
   {
    "duration": 77,
    "start_time": "2022-01-08T06:42:07.826Z"
   },
   {
    "duration": 97,
    "start_time": "2022-01-08T06:42:07.905Z"
   },
   {
    "duration": 79,
    "start_time": "2022-01-08T06:42:08.005Z"
   },
   {
    "duration": 8,
    "start_time": "2022-01-08T06:42:08.087Z"
   },
   {
    "duration": 4,
    "start_time": "2022-01-08T06:42:08.097Z"
   },
   {
    "duration": 27,
    "start_time": "2022-01-08T06:42:08.103Z"
   },
   {
    "duration": 10,
    "start_time": "2022-01-08T06:42:08.133Z"
   },
   {
    "duration": 68,
    "start_time": "2022-01-08T06:42:08.145Z"
   },
   {
    "duration": 418,
    "start_time": "2022-01-08T06:42:08.224Z"
   },
   {
    "duration": -1066125,
    "start_time": "2022-01-08T06:59:54.769Z"
   },
   {
    "duration": -1066127,
    "start_time": "2022-01-08T06:59:54.773Z"
   },
   {
    "duration": -1066128,
    "start_time": "2022-01-08T06:59:54.776Z"
   },
   {
    "duration": -1066130,
    "start_time": "2022-01-08T06:59:54.779Z"
   },
   {
    "duration": -1066135,
    "start_time": "2022-01-08T06:59:54.785Z"
   },
   {
    "duration": -1066137,
    "start_time": "2022-01-08T06:59:54.789Z"
   },
   {
    "duration": -1066141,
    "start_time": "2022-01-08T06:59:54.794Z"
   },
   {
    "duration": -1066145,
    "start_time": "2022-01-08T06:59:54.799Z"
   },
   {
    "duration": -1066148,
    "start_time": "2022-01-08T06:59:54.804Z"
   },
   {
    "duration": -1066151,
    "start_time": "2022-01-08T06:59:54.808Z"
   },
   {
    "duration": -1066167,
    "start_time": "2022-01-08T06:59:54.826Z"
   },
   {
    "duration": -1066169,
    "start_time": "2022-01-08T06:59:54.829Z"
   },
   {
    "duration": -1066173,
    "start_time": "2022-01-08T06:59:54.834Z"
   },
   {
    "duration": -1066178,
    "start_time": "2022-01-08T06:59:54.841Z"
   },
   {
    "duration": -1066180,
    "start_time": "2022-01-08T06:59:54.844Z"
   },
   {
    "duration": -1066182,
    "start_time": "2022-01-08T06:59:54.847Z"
   },
   {
    "duration": -1066185,
    "start_time": "2022-01-08T06:59:54.851Z"
   },
   {
    "duration": -1066185,
    "start_time": "2022-01-08T06:59:54.853Z"
   },
   {
    "duration": -1066185,
    "start_time": "2022-01-08T06:59:54.854Z"
   },
   {
    "duration": 14,
    "start_time": "2022-01-08T07:01:50.523Z"
   },
   {
    "duration": 92,
    "start_time": "2022-01-08T07:02:11.563Z"
   },
   {
    "duration": 104,
    "start_time": "2022-01-08T07:02:57.382Z"
   },
   {
    "duration": 106,
    "start_time": "2022-01-08T07:03:09.032Z"
   },
   {
    "duration": 93,
    "start_time": "2022-01-08T07:03:13.016Z"
   },
   {
    "duration": 84,
    "start_time": "2022-01-08T07:03:49.830Z"
   },
   {
    "duration": 91,
    "start_time": "2022-01-08T07:04:10.828Z"
   },
   {
    "duration": 98,
    "start_time": "2022-01-08T07:05:00.595Z"
   },
   {
    "duration": 97,
    "start_time": "2022-01-08T07:06:07.887Z"
   },
   {
    "duration": 94,
    "start_time": "2022-01-08T07:07:32.387Z"
   },
   {
    "duration": 106,
    "start_time": "2022-01-08T07:07:38.500Z"
   },
   {
    "duration": 122,
    "start_time": "2022-01-08T07:07:42.245Z"
   },
   {
    "duration": 95,
    "start_time": "2022-01-08T07:09:53.287Z"
   },
   {
    "duration": 106,
    "start_time": "2022-01-08T07:10:12.085Z"
   },
   {
    "duration": 86,
    "start_time": "2022-01-08T07:10:36.111Z"
   },
   {
    "duration": 107,
    "start_time": "2022-01-08T07:11:12.909Z"
   },
   {
    "duration": 348,
    "start_time": "2022-01-08T07:12:19.679Z"
   },
   {
    "duration": 745,
    "start_time": "2022-01-08T07:15:18.083Z"
   },
   {
    "duration": 169,
    "start_time": "2022-01-08T07:15:18.831Z"
   },
   {
    "duration": 32,
    "start_time": "2022-01-08T07:15:19.003Z"
   },
   {
    "duration": 33,
    "start_time": "2022-01-08T07:15:19.039Z"
   },
   {
    "duration": 6,
    "start_time": "2022-01-08T07:15:19.075Z"
   },
   {
    "duration": 62,
    "start_time": "2022-01-08T07:15:19.084Z"
   },
   {
    "duration": 8,
    "start_time": "2022-01-08T07:15:19.148Z"
   },
   {
    "duration": 28,
    "start_time": "2022-01-08T07:15:19.162Z"
   },
   {
    "duration": 601,
    "start_time": "2022-01-09T10:28:49.597Z"
   },
   {
    "duration": 142,
    "start_time": "2022-01-09T10:28:50.200Z"
   },
   {
    "duration": 18,
    "start_time": "2022-01-09T10:28:50.345Z"
   },
   {
    "duration": 33,
    "start_time": "2022-01-09T10:28:50.365Z"
   },
   {
    "duration": 29,
    "start_time": "2022-01-09T10:28:50.400Z"
   },
   {
    "duration": 39,
    "start_time": "2022-01-09T10:28:50.431Z"
   },
   {
    "duration": 29,
    "start_time": "2022-01-09T10:28:50.471Z"
   },
   {
    "duration": 45,
    "start_time": "2022-01-09T10:28:50.502Z"
   },
   {
    "duration": 636,
    "start_time": "2022-01-09T10:30:21.726Z"
   },
   {
    "duration": 139,
    "start_time": "2022-01-09T10:30:22.363Z"
   },
   {
    "duration": 18,
    "start_time": "2022-01-09T10:30:22.504Z"
   },
   {
    "duration": 32,
    "start_time": "2022-01-09T10:30:22.524Z"
   },
   {
    "duration": 4,
    "start_time": "2022-01-09T10:30:22.560Z"
   },
   {
    "duration": 27,
    "start_time": "2022-01-09T10:30:22.566Z"
   },
   {
    "duration": 4,
    "start_time": "2022-01-09T10:30:22.595Z"
   },
   {
    "duration": 27,
    "start_time": "2022-01-09T10:30:22.601Z"
   },
   {
    "duration": 675,
    "start_time": "2022-01-09T10:32:50.422Z"
   },
   {
    "duration": 150,
    "start_time": "2022-01-09T10:32:51.099Z"
   },
   {
    "duration": 20,
    "start_time": "2022-01-09T10:32:51.251Z"
   },
   {
    "duration": 24,
    "start_time": "2022-01-09T10:32:51.273Z"
   },
   {
    "duration": 4,
    "start_time": "2022-01-09T10:32:51.300Z"
   },
   {
    "duration": 23,
    "start_time": "2022-01-09T10:32:51.305Z"
   },
   {
    "duration": 32,
    "start_time": "2022-01-09T10:32:51.330Z"
   },
   {
    "duration": 40,
    "start_time": "2022-01-09T10:32:51.365Z"
   },
   {
    "duration": 619,
    "start_time": "2022-01-09T10:40:39.257Z"
   },
   {
    "duration": 139,
    "start_time": "2022-01-09T10:40:39.878Z"
   },
   {
    "duration": 19,
    "start_time": "2022-01-09T10:40:40.019Z"
   },
   {
    "duration": 40,
    "start_time": "2022-01-09T10:40:40.041Z"
   },
   {
    "duration": 7,
    "start_time": "2022-01-09T10:40:40.083Z"
   },
   {
    "duration": 24,
    "start_time": "2022-01-09T10:40:40.092Z"
   },
   {
    "duration": 6,
    "start_time": "2022-01-09T10:40:40.118Z"
   },
   {
    "duration": 50,
    "start_time": "2022-01-09T10:40:40.127Z"
   },
   {
    "duration": 566,
    "start_time": "2022-01-09T10:44:15.007Z"
   },
   {
    "duration": 138,
    "start_time": "2022-01-09T10:44:17.929Z"
   },
   {
    "duration": 19,
    "start_time": "2022-01-09T10:44:20.833Z"
   },
   {
    "duration": 25,
    "start_time": "2022-01-09T10:44:25.620Z"
   },
   {
    "duration": 5,
    "start_time": "2022-01-09T10:44:58.914Z"
   },
   {
    "duration": 21,
    "start_time": "2022-01-09T10:45:13.746Z"
   },
   {
    "duration": 4,
    "start_time": "2022-01-09T10:45:25.201Z"
   },
   {
    "duration": 23,
    "start_time": "2022-01-09T10:45:32.409Z"
   },
   {
    "duration": 21,
    "start_time": "2022-01-09T10:45:38.586Z"
   },
   {
    "duration": 63,
    "start_time": "2022-01-09T10:45:40.919Z"
   },
   {
    "duration": 69,
    "start_time": "2022-01-09T10:45:42.143Z"
   },
   {
    "duration": 54,
    "start_time": "2022-01-09T10:46:37.921Z"
   },
   {
    "duration": 6,
    "start_time": "2022-01-09T10:46:38.469Z"
   },
   {
    "duration": 3,
    "start_time": "2022-01-09T10:46:39.051Z"
   },
   {
    "duration": 11,
    "start_time": "2022-01-09T10:46:39.419Z"
   },
   {
    "duration": 5,
    "start_time": "2022-01-09T10:46:40.350Z"
   },
   {
    "duration": 32,
    "start_time": "2022-01-09T10:46:45.170Z"
   },
   {
    "duration": 11,
    "start_time": "2022-01-09T10:46:45.649Z"
   },
   {
    "duration": 126,
    "start_time": "2022-01-09T10:46:46.216Z"
   },
   {
    "duration": 351,
    "start_time": "2022-01-09T10:46:46.808Z"
   },
   {
    "duration": 3455,
    "start_time": "2022-01-09T10:46:43.706Z"
   },
   {
    "duration": 288,
    "start_time": "2022-01-09T10:46:47.531Z"
   },
   {
    "duration": 3444,
    "start_time": "2022-01-09T10:46:44.377Z"
   },
   {
    "duration": 262,
    "start_time": "2022-01-09T10:46:47.994Z"
   },
   {
    "duration": 338,
    "start_time": "2022-01-09T10:46:48.382Z"
   },
   {
    "duration": 7,
    "start_time": "2022-01-09T10:54:30.001Z"
   },
   {
    "duration": 238,
    "start_time": "2022-01-09T10:56:30.132Z"
   },
   {
    "duration": 242,
    "start_time": "2022-01-09T10:56:31.283Z"
   },
   {
    "duration": 236,
    "start_time": "2022-01-09T10:56:32.022Z"
   },
   {
    "duration": 235,
    "start_time": "2022-01-09T10:56:32.475Z"
   },
   {
    "duration": 249,
    "start_time": "2022-01-09T10:56:32.935Z"
   },
   {
    "duration": 399,
    "start_time": "2022-01-09T10:56:35.633Z"
   },
   {
    "duration": 13,
    "start_time": "2022-01-09T10:56:40.193Z"
   },
   {
    "duration": 12,
    "start_time": "2022-01-09T10:56:40.793Z"
   },
   {
    "duration": 13,
    "start_time": "2022-01-09T10:56:43.424Z"
   },
   {
    "duration": 23,
    "start_time": "2022-01-09T10:58:43.478Z"
   },
   {
    "duration": 18,
    "start_time": "2022-01-09T10:58:44.327Z"
   },
   {
    "duration": 23,
    "start_time": "2022-01-09T10:58:44.659Z"
   },
   {
    "duration": 19,
    "start_time": "2022-01-09T10:58:45.170Z"
   },
   {
    "duration": 250,
    "start_time": "2022-01-09T10:58:48.451Z"
   },
   {
    "duration": 336,
    "start_time": "2022-01-09T10:58:51.181Z"
   },
   {
    "duration": 255,
    "start_time": "2022-01-09T10:58:52.444Z"
   },
   {
    "duration": 788,
    "start_time": "2022-01-09T10:58:52.932Z"
   },
   {
    "duration": 433,
    "start_time": "2022-01-09T13:34:23.011Z"
   },
   {
    "duration": 721,
    "start_time": "2022-01-09T13:34:41.302Z"
   },
   {
    "duration": 199,
    "start_time": "2022-01-09T13:34:42.025Z"
   },
   {
    "duration": 38,
    "start_time": "2022-01-09T13:34:42.228Z"
   },
   {
    "duration": 35,
    "start_time": "2022-01-09T13:34:42.269Z"
   },
   {
    "duration": 5,
    "start_time": "2022-01-09T13:34:42.306Z"
   },
   {
    "duration": 65,
    "start_time": "2022-01-09T13:34:42.314Z"
   },
   {
    "duration": 6,
    "start_time": "2022-01-09T13:34:42.382Z"
   },
   {
    "duration": 31,
    "start_time": "2022-01-09T13:34:42.392Z"
   },
   {
    "duration": 52,
    "start_time": "2022-01-09T13:34:42.427Z"
   },
   {
    "duration": 29,
    "start_time": "2022-01-09T13:34:42.481Z"
   },
   {
    "duration": 109,
    "start_time": "2022-01-09T13:34:42.513Z"
   },
   {
    "duration": 111,
    "start_time": "2022-01-09T13:34:42.624Z"
   },
   {
    "duration": 85,
    "start_time": "2022-01-09T13:34:42.738Z"
   },
   {
    "duration": 10,
    "start_time": "2022-01-09T13:34:42.825Z"
   },
   {
    "duration": 4,
    "start_time": "2022-01-09T13:34:42.837Z"
   },
   {
    "duration": 14,
    "start_time": "2022-01-09T13:34:42.862Z"
   },
   {
    "duration": 12,
    "start_time": "2022-01-09T13:34:42.879Z"
   },
   {
    "duration": 69,
    "start_time": "2022-01-09T13:34:42.894Z"
   },
   {
    "duration": 14,
    "start_time": "2022-01-09T13:34:42.966Z"
   },
   {
    "duration": 99,
    "start_time": "2022-01-09T13:34:42.982Z"
   },
   {
    "duration": -600,
    "start_time": "2022-01-09T13:34:43.684Z"
   },
   {
    "duration": -603,
    "start_time": "2022-01-09T13:34:43.689Z"
   },
   {
    "duration": -606,
    "start_time": "2022-01-09T13:34:43.693Z"
   },
   {
    "duration": -609,
    "start_time": "2022-01-09T13:34:43.697Z"
   },
   {
    "duration": -612,
    "start_time": "2022-01-09T13:34:43.702Z"
   },
   {
    "duration": -621,
    "start_time": "2022-01-09T13:34:43.713Z"
   },
   {
    "duration": -625,
    "start_time": "2022-01-09T13:34:43.718Z"
   },
   {
    "duration": -627,
    "start_time": "2022-01-09T13:34:43.722Z"
   },
   {
    "duration": -630,
    "start_time": "2022-01-09T13:34:43.726Z"
   },
   {
    "duration": -632,
    "start_time": "2022-01-09T13:34:43.730Z"
   },
   {
    "duration": -634,
    "start_time": "2022-01-09T13:34:43.734Z"
   },
   {
    "duration": -639,
    "start_time": "2022-01-09T13:34:43.740Z"
   },
   {
    "duration": -642,
    "start_time": "2022-01-09T13:34:43.745Z"
   },
   {
    "duration": -645,
    "start_time": "2022-01-09T13:34:43.749Z"
   },
   {
    "duration": -647,
    "start_time": "2022-01-09T13:34:43.753Z"
   },
   {
    "duration": -650,
    "start_time": "2022-01-09T13:34:43.757Z"
   },
   {
    "duration": -653,
    "start_time": "2022-01-09T13:34:43.761Z"
   },
   {
    "duration": -655,
    "start_time": "2022-01-09T13:34:43.765Z"
   },
   {
    "duration": 17,
    "start_time": "2022-01-09T13:36:07.622Z"
   },
   {
    "duration": 6,
    "start_time": "2022-01-09T13:36:10.233Z"
   },
   {
    "duration": 110,
    "start_time": "2022-01-09T13:36:40.332Z"
   },
   {
    "duration": 93,
    "start_time": "2022-01-09T13:36:51.050Z"
   },
   {
    "duration": 96,
    "start_time": "2022-01-09T13:37:18.212Z"
   },
   {
    "duration": 14,
    "start_time": "2022-01-09T13:37:48.935Z"
   },
   {
    "duration": 12,
    "start_time": "2022-01-09T13:37:52.484Z"
   },
   {
    "duration": 20,
    "start_time": "2022-01-09T13:37:55.224Z"
   },
   {
    "duration": 31,
    "start_time": "2022-01-09T13:38:05.132Z"
   },
   {
    "duration": 13,
    "start_time": "2022-01-09T13:38:16.230Z"
   },
   {
    "duration": 397,
    "start_time": "2022-01-09T13:38:19.475Z"
   },
   {
    "duration": 20,
    "start_time": "2022-01-09T13:39:10.412Z"
   },
   {
    "duration": 13,
    "start_time": "2022-01-09T13:39:16.234Z"
   },
   {
    "duration": 55,
    "start_time": "2022-01-09T13:48:26.420Z"
   },
   {
    "duration": 27,
    "start_time": "2022-01-09T13:49:05.841Z"
   },
   {
    "duration": 279,
    "start_time": "2022-01-09T13:51:10.902Z"
   },
   {
    "duration": 35,
    "start_time": "2022-01-09T13:51:47.354Z"
   },
   {
    "duration": 567,
    "start_time": "2022-01-09T13:52:46.143Z"
   },
   {
    "duration": 34,
    "start_time": "2022-01-09T13:53:31.408Z"
   },
   {
    "duration": 33,
    "start_time": "2022-01-09T13:56:43.333Z"
   },
   {
    "duration": 23,
    "start_time": "2022-01-09T14:02:56.059Z"
   },
   {
    "duration": 34,
    "start_time": "2022-01-09T14:03:00.503Z"
   },
   {
    "duration": 34,
    "start_time": "2022-01-09T14:06:20.260Z"
   },
   {
    "duration": 17,
    "start_time": "2022-01-09T14:08:04.189Z"
   },
   {
    "duration": 41,
    "start_time": "2022-01-09T14:08:11.566Z"
   },
   {
    "duration": 41,
    "start_time": "2022-01-09T14:08:23.019Z"
   },
   {
    "duration": 290,
    "start_time": "2022-01-09T14:20:13.026Z"
   },
   {
    "duration": 5,
    "start_time": "2022-01-09T14:23:23.156Z"
   },
   {
    "duration": 21,
    "start_time": "2022-01-09T14:23:57.358Z"
   },
   {
    "duration": 22,
    "start_time": "2022-01-09T14:27:08.450Z"
   },
   {
    "duration": 19,
    "start_time": "2022-01-09T14:27:21.608Z"
   },
   {
    "duration": 21,
    "start_time": "2022-01-09T14:27:24.593Z"
   },
   {
    "duration": 16,
    "start_time": "2022-01-09T14:27:28.968Z"
   },
   {
    "duration": 4,
    "start_time": "2022-01-09T14:27:44.172Z"
   },
   {
    "duration": 314,
    "start_time": "2022-01-09T14:27:44.182Z"
   },
   {
    "duration": 27,
    "start_time": "2022-01-09T14:27:44.500Z"
   },
   {
    "duration": 54,
    "start_time": "2022-01-09T14:27:44.530Z"
   },
   {
    "duration": 5,
    "start_time": "2022-01-09T14:27:44.587Z"
   },
   {
    "duration": 21,
    "start_time": "2022-01-09T14:27:44.594Z"
   },
   {
    "duration": 5,
    "start_time": "2022-01-09T14:27:44.617Z"
   },
   {
    "duration": 63,
    "start_time": "2022-01-09T14:27:44.624Z"
   },
   {
    "duration": 22,
    "start_time": "2022-01-09T14:27:44.691Z"
   },
   {
    "duration": 56,
    "start_time": "2022-01-09T14:27:44.717Z"
   },
   {
    "duration": 98,
    "start_time": "2022-01-09T14:27:44.777Z"
   },
   {
    "duration": 105,
    "start_time": "2022-01-09T14:27:44.877Z"
   },
   {
    "duration": 86,
    "start_time": "2022-01-09T14:27:44.984Z"
   },
   {
    "duration": 10,
    "start_time": "2022-01-09T14:27:45.073Z"
   },
   {
    "duration": 10,
    "start_time": "2022-01-09T14:27:45.086Z"
   },
   {
    "duration": 22,
    "start_time": "2022-01-09T14:27:45.098Z"
   },
   {
    "duration": 42,
    "start_time": "2022-01-09T14:27:45.123Z"
   },
   {
    "duration": 45,
    "start_time": "2022-01-09T14:27:45.167Z"
   },
   {
    "duration": 14,
    "start_time": "2022-01-09T14:27:45.214Z"
   },
   {
    "duration": 157,
    "start_time": "2022-01-09T14:27:45.264Z"
   },
   {
    "duration": -573,
    "start_time": "2022-01-09T14:27:45.998Z"
   },
   {
    "duration": -576,
    "start_time": "2022-01-09T14:27:46.003Z"
   },
   {
    "duration": -579,
    "start_time": "2022-01-09T14:27:46.007Z"
   },
   {
    "duration": -582,
    "start_time": "2022-01-09T14:27:46.012Z"
   },
   {
    "duration": -585,
    "start_time": "2022-01-09T14:27:46.016Z"
   },
   {
    "duration": -593,
    "start_time": "2022-01-09T14:27:46.026Z"
   },
   {
    "duration": -627,
    "start_time": "2022-01-09T14:27:46.061Z"
   },
   {
    "duration": -635,
    "start_time": "2022-01-09T14:27:46.071Z"
   },
   {
    "duration": -638,
    "start_time": "2022-01-09T14:27:46.076Z"
   },
   {
    "duration": -640,
    "start_time": "2022-01-09T14:27:46.080Z"
   },
   {
    "duration": -643,
    "start_time": "2022-01-09T14:27:46.084Z"
   },
   {
    "duration": -645,
    "start_time": "2022-01-09T14:27:46.088Z"
   },
   {
    "duration": -648,
    "start_time": "2022-01-09T14:27:46.092Z"
   },
   {
    "duration": -650,
    "start_time": "2022-01-09T14:27:46.096Z"
   },
   {
    "duration": -652,
    "start_time": "2022-01-09T14:27:46.100Z"
   },
   {
    "duration": -664,
    "start_time": "2022-01-09T14:27:46.114Z"
   },
   {
    "duration": -667,
    "start_time": "2022-01-09T14:27:46.119Z"
   },
   {
    "duration": -670,
    "start_time": "2022-01-09T14:27:46.123Z"
   },
   {
    "duration": 13,
    "start_time": "2022-01-09T14:34:25.444Z"
   },
   {
    "duration": 95,
    "start_time": "2022-01-09T14:35:07.868Z"
   },
   {
    "duration": 413,
    "start_time": "2022-01-09T14:41:17.930Z"
   },
   {
    "duration": 881,
    "start_time": "2022-01-09T14:41:33.700Z"
   },
   {
    "duration": 195,
    "start_time": "2022-01-09T14:41:34.584Z"
   },
   {
    "duration": 29,
    "start_time": "2022-01-09T14:41:34.782Z"
   },
   {
    "duration": 53,
    "start_time": "2022-01-09T14:41:34.814Z"
   },
   {
    "duration": 6,
    "start_time": "2022-01-09T14:41:34.870Z"
   },
   {
    "duration": 34,
    "start_time": "2022-01-09T14:41:34.878Z"
   },
   {
    "duration": 8,
    "start_time": "2022-01-09T14:41:34.915Z"
   },
   {
    "duration": 65,
    "start_time": "2022-01-09T14:41:34.926Z"
   },
   {
    "duration": 25,
    "start_time": "2022-01-09T14:41:34.997Z"
   },
   {
    "duration": 63,
    "start_time": "2022-01-09T14:41:35.025Z"
   },
   {
    "duration": 116,
    "start_time": "2022-01-09T14:41:35.091Z"
   },
   {
    "duration": 122,
    "start_time": "2022-01-09T14:41:35.210Z"
   },
   {
    "duration": 106,
    "start_time": "2022-01-09T14:41:35.335Z"
   },
   {
    "duration": 30,
    "start_time": "2022-01-09T14:41:35.444Z"
   },
   {
    "duration": 5,
    "start_time": "2022-01-09T14:41:35.478Z"
   },
   {
    "duration": 15,
    "start_time": "2022-01-09T14:41:35.486Z"
   },
   {
    "duration": 8,
    "start_time": "2022-01-09T14:41:35.504Z"
   },
   {
    "duration": 89,
    "start_time": "2022-01-09T14:41:35.515Z"
   },
   {
    "duration": 14,
    "start_time": "2022-01-09T14:41:35.607Z"
   },
   {
    "duration": 136,
    "start_time": "2022-01-09T14:41:35.623Z"
   },
   {
    "duration": -583,
    "start_time": "2022-01-09T14:41:36.345Z"
   },
   {
    "duration": -587,
    "start_time": "2022-01-09T14:41:36.351Z"
   },
   {
    "duration": -589,
    "start_time": "2022-01-09T14:41:36.355Z"
   },
   {
    "duration": -592,
    "start_time": "2022-01-09T14:41:36.360Z"
   },
   {
    "duration": -594,
    "start_time": "2022-01-09T14:41:36.364Z"
   },
   {
    "duration": -596,
    "start_time": "2022-01-09T14:41:36.368Z"
   },
   {
    "duration": -599,
    "start_time": "2022-01-09T14:41:36.372Z"
   },
   {
    "duration": -601,
    "start_time": "2022-01-09T14:41:36.376Z"
   },
   {
    "duration": -620,
    "start_time": "2022-01-09T14:41:36.397Z"
   },
   {
    "duration": -623,
    "start_time": "2022-01-09T14:41:36.402Z"
   },
   {
    "duration": -626,
    "start_time": "2022-01-09T14:41:36.407Z"
   },
   {
    "duration": -630,
    "start_time": "2022-01-09T14:41:36.412Z"
   },
   {
    "duration": -632,
    "start_time": "2022-01-09T14:41:36.416Z"
   },
   {
    "duration": -635,
    "start_time": "2022-01-09T14:41:36.421Z"
   },
   {
    "duration": -637,
    "start_time": "2022-01-09T14:41:36.425Z"
   },
   {
    "duration": -640,
    "start_time": "2022-01-09T14:41:36.429Z"
   },
   {
    "duration": -642,
    "start_time": "2022-01-09T14:41:36.433Z"
   },
   {
    "duration": -644,
    "start_time": "2022-01-09T14:41:36.437Z"
   },
   {
    "duration": 15,
    "start_time": "2022-01-09T14:42:07.968Z"
   },
   {
    "duration": 13,
    "start_time": "2022-01-09T14:42:09.230Z"
   },
   {
    "duration": 6,
    "start_time": "2022-01-09T14:42:11.722Z"
   },
   {
    "duration": 23,
    "start_time": "2022-01-09T14:42:16.187Z"
   },
   {
    "duration": 16,
    "start_time": "2022-01-09T14:42:19.180Z"
   },
   {
    "duration": 23,
    "start_time": "2022-01-09T14:42:21.780Z"
   },
   {
    "duration": 17,
    "start_time": "2022-01-09T14:42:23.435Z"
   },
   {
    "duration": 17,
    "start_time": "2022-01-09T14:42:52.800Z"
   },
   {
    "duration": 33,
    "start_time": "2022-01-09T14:43:10.649Z"
   },
   {
    "duration": 12,
    "start_time": "2022-01-09T14:43:24.750Z"
   },
   {
    "duration": 18,
    "start_time": "2022-01-09T14:43:44.340Z"
   },
   {
    "duration": 13,
    "start_time": "2022-01-09T14:43:47.589Z"
   },
   {
    "duration": 23,
    "start_time": "2022-01-09T14:44:03.600Z"
   },
   {
    "duration": 15,
    "start_time": "2022-01-09T14:44:50.356Z"
   },
   {
    "duration": 537,
    "start_time": "2022-01-10T11:01:51.977Z"
   },
   {
    "duration": 149,
    "start_time": "2022-01-10T11:01:52.516Z"
   },
   {
    "duration": 17,
    "start_time": "2022-01-10T11:01:52.666Z"
   },
   {
    "duration": 25,
    "start_time": "2022-01-10T11:01:52.685Z"
   },
   {
    "duration": 15,
    "start_time": "2022-01-10T11:01:52.712Z"
   },
   {
    "duration": 19,
    "start_time": "2022-01-10T11:01:52.730Z"
   },
   {
    "duration": 7,
    "start_time": "2022-01-10T11:01:52.750Z"
   },
   {
    "duration": 25,
    "start_time": "2022-01-10T11:01:52.758Z"
   },
   {
    "duration": 18,
    "start_time": "2022-01-10T11:01:52.785Z"
   },
   {
    "duration": 43,
    "start_time": "2022-01-10T11:01:52.805Z"
   },
   {
    "duration": 52,
    "start_time": "2022-01-10T11:01:52.849Z"
   },
   {
    "duration": 76,
    "start_time": "2022-01-10T11:01:52.902Z"
   },
   {
    "duration": 49,
    "start_time": "2022-01-10T11:01:52.980Z"
   },
   {
    "duration": 8,
    "start_time": "2022-01-10T11:01:53.030Z"
   },
   {
    "duration": 4,
    "start_time": "2022-01-10T11:01:53.041Z"
   },
   {
    "duration": 13,
    "start_time": "2022-01-10T11:01:53.046Z"
   },
   {
    "duration": 4,
    "start_time": "2022-01-10T11:01:53.061Z"
   },
   {
    "duration": 29,
    "start_time": "2022-01-10T11:01:53.066Z"
   },
   {
    "duration": 31,
    "start_time": "2022-01-10T11:01:53.097Z"
   },
   {
    "duration": 85,
    "start_time": "2022-01-10T11:01:53.135Z"
   },
   {
    "duration": -1237,
    "start_time": "2022-01-10T11:01:54.459Z"
   },
   {
    "duration": -1238,
    "start_time": "2022-01-10T11:01:54.461Z"
   },
   {
    "duration": -1239,
    "start_time": "2022-01-10T11:01:54.463Z"
   },
   {
    "duration": -1240,
    "start_time": "2022-01-10T11:01:54.465Z"
   },
   {
    "duration": -1245,
    "start_time": "2022-01-10T11:01:54.470Z"
   },
   {
    "duration": -1244,
    "start_time": "2022-01-10T11:01:54.472Z"
   },
   {
    "duration": -1244,
    "start_time": "2022-01-10T11:01:54.473Z"
   },
   {
    "duration": -1245,
    "start_time": "2022-01-10T11:01:54.475Z"
   },
   {
    "duration": -1246,
    "start_time": "2022-01-10T11:01:54.477Z"
   },
   {
    "duration": -1246,
    "start_time": "2022-01-10T11:01:54.478Z"
   },
   {
    "duration": -1247,
    "start_time": "2022-01-10T11:01:54.480Z"
   },
   {
    "duration": -1248,
    "start_time": "2022-01-10T11:01:54.482Z"
   },
   {
    "duration": -1249,
    "start_time": "2022-01-10T11:01:54.485Z"
   },
   {
    "duration": -1248,
    "start_time": "2022-01-10T11:01:54.486Z"
   },
   {
    "duration": -1249,
    "start_time": "2022-01-10T11:01:54.488Z"
   },
   {
    "duration": -1250,
    "start_time": "2022-01-10T11:01:54.490Z"
   },
   {
    "duration": -1251,
    "start_time": "2022-01-10T11:01:54.492Z"
   },
   {
    "duration": -1252,
    "start_time": "2022-01-10T11:01:54.494Z"
   },
   {
    "duration": 12,
    "start_time": "2022-01-10T11:02:56.034Z"
   },
   {
    "duration": 4,
    "start_time": "2022-01-10T11:02:57.186Z"
   },
   {
    "duration": 581,
    "start_time": "2022-01-10T11:03:04.847Z"
   },
   {
    "duration": 141,
    "start_time": "2022-01-10T11:03:05.430Z"
   },
   {
    "duration": 17,
    "start_time": "2022-01-10T11:03:05.573Z"
   },
   {
    "duration": 22,
    "start_time": "2022-01-10T11:03:05.592Z"
   },
   {
    "duration": 9,
    "start_time": "2022-01-10T11:03:05.628Z"
   },
   {
    "duration": 29,
    "start_time": "2022-01-10T11:03:05.638Z"
   },
   {
    "duration": 23,
    "start_time": "2022-01-10T11:03:05.668Z"
   },
   {
    "duration": 34,
    "start_time": "2022-01-10T11:03:05.693Z"
   },
   {
    "duration": 38,
    "start_time": "2022-01-10T11:03:05.731Z"
   },
   {
    "duration": 20,
    "start_time": "2022-01-10T11:03:05.771Z"
   },
   {
    "duration": 75,
    "start_time": "2022-01-10T11:03:05.792Z"
   },
   {
    "duration": 82,
    "start_time": "2022-01-10T11:03:05.868Z"
   },
   {
    "duration": 51,
    "start_time": "2022-01-10T11:03:05.952Z"
   },
   {
    "duration": 6,
    "start_time": "2022-01-10T11:03:06.005Z"
   },
   {
    "duration": 19,
    "start_time": "2022-01-10T11:03:06.012Z"
   },
   {
    "duration": 26,
    "start_time": "2022-01-10T11:03:06.033Z"
   },
   {
    "duration": 7,
    "start_time": "2022-01-10T11:03:06.060Z"
   },
   {
    "duration": 45,
    "start_time": "2022-01-10T11:03:06.068Z"
   },
   {
    "duration": 11,
    "start_time": "2022-01-10T11:03:06.114Z"
   },
   {
    "duration": 94,
    "start_time": "2022-01-10T11:03:06.126Z"
   },
   {
    "duration": -1238,
    "start_time": "2022-01-10T11:03:07.460Z"
   },
   {
    "duration": -1239,
    "start_time": "2022-01-10T11:03:07.462Z"
   },
   {
    "duration": -1240,
    "start_time": "2022-01-10T11:03:07.464Z"
   },
   {
    "duration": -1241,
    "start_time": "2022-01-10T11:03:07.466Z"
   },
   {
    "duration": -1241,
    "start_time": "2022-01-10T11:03:07.468Z"
   },
   {
    "duration": -1248,
    "start_time": "2022-01-10T11:03:07.477Z"
   },
   {
    "duration": -1249,
    "start_time": "2022-01-10T11:03:07.479Z"
   },
   {
    "duration": -1253,
    "start_time": "2022-01-10T11:03:07.485Z"
   },
   {
    "duration": -1254,
    "start_time": "2022-01-10T11:03:07.487Z"
   },
   {
    "duration": -1255,
    "start_time": "2022-01-10T11:03:07.489Z"
   },
   {
    "duration": -1256,
    "start_time": "2022-01-10T11:03:07.491Z"
   },
   {
    "duration": -1257,
    "start_time": "2022-01-10T11:03:07.493Z"
   },
   {
    "duration": -1258,
    "start_time": "2022-01-10T11:03:07.495Z"
   },
   {
    "duration": -1258,
    "start_time": "2022-01-10T11:03:07.496Z"
   },
   {
    "duration": -1259,
    "start_time": "2022-01-10T11:03:07.498Z"
   },
   {
    "duration": -1259,
    "start_time": "2022-01-10T11:03:07.499Z"
   },
   {
    "duration": -1261,
    "start_time": "2022-01-10T11:03:07.501Z"
   },
   {
    "duration": -1262,
    "start_time": "2022-01-10T11:03:07.503Z"
   },
   {
    "duration": 385,
    "start_time": "2022-01-10T11:04:26.457Z"
   },
   {
    "duration": -1246,
    "start_time": "2022-01-10T11:04:28.091Z"
   },
   {
    "duration": -1247,
    "start_time": "2022-01-10T11:04:28.093Z"
   },
   {
    "duration": 264,
    "start_time": "2022-01-10T11:04:26.979Z"
   },
   {
    "duration": -1257,
    "start_time": "2022-01-10T11:04:28.501Z"
   },
   {
    "duration": 322,
    "start_time": "2022-01-10T11:04:27.332Z"
   },
   {
    "duration": 255,
    "start_time": "2022-01-10T11:04:28.207Z"
   },
   {
    "duration": 10,
    "start_time": "2022-01-10T11:04:32.199Z"
   },
   {
    "duration": 8,
    "start_time": "2022-01-10T11:04:32.347Z"
   },
   {
    "duration": 5,
    "start_time": "2022-01-10T11:04:32.928Z"
   },
   {
    "duration": 14,
    "start_time": "2022-01-10T11:04:34.070Z"
   },
   {
    "duration": 10,
    "start_time": "2022-01-10T11:04:34.686Z"
   },
   {
    "duration": 15,
    "start_time": "2022-01-10T11:04:35.497Z"
   },
   {
    "duration": 10,
    "start_time": "2022-01-10T11:04:36.713Z"
   },
   {
    "duration": 20,
    "start_time": "2022-01-10T11:05:09.545Z"
   },
   {
    "duration": 8,
    "start_time": "2022-01-10T11:05:10.555Z"
   },
   {
    "duration": 13,
    "start_time": "2022-01-10T11:05:10.901Z"
   },
   {
    "duration": 7,
    "start_time": "2022-01-10T11:05:11.710Z"
   },
   {
    "duration": 571,
    "start_time": "2022-01-10T11:05:28.324Z"
   },
   {
    "duration": 126,
    "start_time": "2022-01-10T11:05:28.897Z"
   },
   {
    "duration": 16,
    "start_time": "2022-01-10T11:05:29.025Z"
   },
   {
    "duration": 23,
    "start_time": "2022-01-10T11:05:29.043Z"
   },
   {
    "duration": 5,
    "start_time": "2022-01-10T11:05:29.067Z"
   },
   {
    "duration": 19,
    "start_time": "2022-01-10T11:05:29.073Z"
   },
   {
    "duration": 42,
    "start_time": "2022-01-10T11:05:29.094Z"
   },
   {
    "duration": 4,
    "start_time": "2022-01-10T11:05:29.138Z"
   },
   {
    "duration": 21,
    "start_time": "2022-01-10T11:05:29.145Z"
   },
   {
    "duration": 17,
    "start_time": "2022-01-10T11:05:29.168Z"
   },
   {
    "duration": 55,
    "start_time": "2022-01-10T11:05:29.186Z"
   },
   {
    "duration": 58,
    "start_time": "2022-01-10T11:05:29.243Z"
   },
   {
    "duration": 67,
    "start_time": "2022-01-10T11:05:29.302Z"
   },
   {
    "duration": 42,
    "start_time": "2022-01-10T11:05:29.371Z"
   },
   {
    "duration": 14,
    "start_time": "2022-01-10T11:05:29.415Z"
   },
   {
    "duration": 2,
    "start_time": "2022-01-10T11:05:29.430Z"
   },
   {
    "duration": 12,
    "start_time": "2022-01-10T11:05:29.434Z"
   },
   {
    "duration": 4,
    "start_time": "2022-01-10T11:05:29.447Z"
   },
   {
    "duration": 28,
    "start_time": "2022-01-10T11:05:29.452Z"
   },
   {
    "duration": 9,
    "start_time": "2022-01-10T11:05:29.482Z"
   },
   {
    "duration": 77,
    "start_time": "2022-01-10T11:05:29.492Z"
   },
   {
    "duration": -1242,
    "start_time": "2022-01-10T11:05:30.813Z"
   },
   {
    "duration": -1244,
    "start_time": "2022-01-10T11:05:30.816Z"
   },
   {
    "duration": -1249,
    "start_time": "2022-01-10T11:05:30.823Z"
   },
   {
    "duration": -1253,
    "start_time": "2022-01-10T11:05:30.828Z"
   },
   {
    "duration": -1254,
    "start_time": "2022-01-10T11:05:30.830Z"
   },
   {
    "duration": -1254,
    "start_time": "2022-01-10T11:05:30.832Z"
   },
   {
    "duration": -1258,
    "start_time": "2022-01-10T11:05:30.837Z"
   },
   {
    "duration": -1259,
    "start_time": "2022-01-10T11:05:30.839Z"
   },
   {
    "duration": -1260,
    "start_time": "2022-01-10T11:05:30.841Z"
   },
   {
    "duration": -1260,
    "start_time": "2022-01-10T11:05:30.843Z"
   },
   {
    "duration": -1262,
    "start_time": "2022-01-10T11:05:30.846Z"
   },
   {
    "duration": -1262,
    "start_time": "2022-01-10T11:05:30.848Z"
   },
   {
    "duration": -1265,
    "start_time": "2022-01-10T11:05:30.852Z"
   },
   {
    "duration": -1267,
    "start_time": "2022-01-10T11:05:30.855Z"
   },
   {
    "duration": -1267,
    "start_time": "2022-01-10T11:05:30.856Z"
   },
   {
    "duration": -1267,
    "start_time": "2022-01-10T11:05:30.858Z"
   },
   {
    "duration": -1267,
    "start_time": "2022-01-10T11:05:30.859Z"
   },
   {
    "duration": -1268,
    "start_time": "2022-01-10T11:05:30.861Z"
   },
   {
    "duration": 535,
    "start_time": "2022-01-10T11:05:54.343Z"
   },
   {
    "duration": 120,
    "start_time": "2022-01-10T11:05:54.880Z"
   },
   {
    "duration": 25,
    "start_time": "2022-01-10T11:05:55.004Z"
   },
   {
    "duration": 23,
    "start_time": "2022-01-10T11:05:55.031Z"
   },
   {
    "duration": 7,
    "start_time": "2022-01-10T11:05:55.056Z"
   },
   {
    "duration": 19,
    "start_time": "2022-01-10T11:05:55.065Z"
   },
   {
    "duration": 4,
    "start_time": "2022-01-10T11:05:55.085Z"
   },
   {
    "duration": 41,
    "start_time": "2022-01-10T11:05:55.093Z"
   },
   {
    "duration": 17,
    "start_time": "2022-01-10T11:05:55.137Z"
   },
   {
    "duration": 21,
    "start_time": "2022-01-10T11:05:55.156Z"
   },
   {
    "duration": 74,
    "start_time": "2022-01-10T11:05:55.178Z"
   },
   {
    "duration": 62,
    "start_time": "2022-01-10T11:05:55.254Z"
   },
   {
    "duration": 49,
    "start_time": "2022-01-10T11:05:55.327Z"
   },
   {
    "duration": 8,
    "start_time": "2022-01-10T11:05:55.377Z"
   },
   {
    "duration": 3,
    "start_time": "2022-01-10T11:05:55.387Z"
   },
   {
    "duration": 35,
    "start_time": "2022-01-10T11:05:55.392Z"
   },
   {
    "duration": 6,
    "start_time": "2022-01-10T11:05:55.428Z"
   },
   {
    "duration": 29,
    "start_time": "2022-01-10T11:05:55.435Z"
   },
   {
    "duration": 9,
    "start_time": "2022-01-10T11:05:55.466Z"
   },
   {
    "duration": 76,
    "start_time": "2022-01-10T11:05:55.477Z"
   },
   {
    "duration": -1250,
    "start_time": "2022-01-10T11:05:56.806Z"
   },
   {
    "duration": -1251,
    "start_time": "2022-01-10T11:05:56.808Z"
   },
   {
    "duration": -1253,
    "start_time": "2022-01-10T11:05:56.810Z"
   },
   {
    "duration": -1254,
    "start_time": "2022-01-10T11:05:56.812Z"
   },
   {
    "duration": -1255,
    "start_time": "2022-01-10T11:05:56.814Z"
   },
   {
    "duration": -1256,
    "start_time": "2022-01-10T11:05:56.816Z"
   },
   {
    "duration": -1256,
    "start_time": "2022-01-10T11:05:56.817Z"
   },
   {
    "duration": -1257,
    "start_time": "2022-01-10T11:05:56.819Z"
   },
   {
    "duration": -1258,
    "start_time": "2022-01-10T11:05:56.821Z"
   },
   {
    "duration": -1259,
    "start_time": "2022-01-10T11:05:56.823Z"
   },
   {
    "duration": -1259,
    "start_time": "2022-01-10T11:05:56.824Z"
   },
   {
    "duration": -1260,
    "start_time": "2022-01-10T11:05:56.826Z"
   },
   {
    "duration": -1261,
    "start_time": "2022-01-10T11:05:56.828Z"
   },
   {
    "duration": -1264,
    "start_time": "2022-01-10T11:05:56.832Z"
   },
   {
    "duration": -1269,
    "start_time": "2022-01-10T11:05:56.837Z"
   },
   {
    "duration": -1270,
    "start_time": "2022-01-10T11:05:56.839Z"
   },
   {
    "duration": -1271,
    "start_time": "2022-01-10T11:05:56.841Z"
   },
   {
    "duration": -1272,
    "start_time": "2022-01-10T11:05:56.843Z"
   },
   {
    "duration": 10,
    "start_time": "2022-01-10T11:06:16.938Z"
   },
   {
    "duration": 8,
    "start_time": "2022-01-10T11:06:17.266Z"
   },
   {
    "duration": 4,
    "start_time": "2022-01-10T11:06:19.192Z"
   },
   {
    "duration": 16,
    "start_time": "2022-01-10T11:06:19.611Z"
   },
   {
    "duration": 10,
    "start_time": "2022-01-10T11:06:19.797Z"
   },
   {
    "duration": 18,
    "start_time": "2022-01-10T11:06:19.986Z"
   },
   {
    "duration": 10,
    "start_time": "2022-01-10T11:06:20.172Z"
   },
   {
    "duration": 19,
    "start_time": "2022-01-10T11:06:21.289Z"
   },
   {
    "duration": 10,
    "start_time": "2022-01-10T11:06:23.428Z"
   },
   {
    "duration": 14,
    "start_time": "2022-01-10T11:06:24.148Z"
   },
   {
    "duration": 8,
    "start_time": "2022-01-10T11:06:25.191Z"
   },
   {
    "duration": 523,
    "start_time": "2022-01-10T12:43:10.577Z"
   },
   {
    "duration": 1027,
    "start_time": "2022-01-10T12:45:19.561Z"
   },
   {
    "duration": 186,
    "start_time": "2022-01-10T12:45:20.590Z"
   },
   {
    "duration": 27,
    "start_time": "2022-01-10T12:45:20.779Z"
   },
   {
    "duration": 52,
    "start_time": "2022-01-10T12:45:20.809Z"
   },
   {
    "duration": 6,
    "start_time": "2022-01-10T12:45:20.863Z"
   },
   {
    "duration": 27,
    "start_time": "2022-01-10T12:45:20.872Z"
   },
   {
    "duration": 7,
    "start_time": "2022-01-10T12:45:20.901Z"
   },
   {
    "duration": 88,
    "start_time": "2022-01-10T12:45:20.913Z"
   },
   {
    "duration": 22,
    "start_time": "2022-01-10T12:45:21.005Z"
   },
   {
    "duration": 53,
    "start_time": "2022-01-10T12:45:21.030Z"
   },
   {
    "duration": 107,
    "start_time": "2022-01-10T12:45:21.087Z"
   },
   {
    "duration": 142,
    "start_time": "2022-01-10T12:45:21.197Z"
   },
   {
    "duration": 85,
    "start_time": "2022-01-10T12:45:21.341Z"
   },
   {
    "duration": 9,
    "start_time": "2022-01-10T12:45:21.429Z"
   },
   {
    "duration": 21,
    "start_time": "2022-01-10T12:45:21.440Z"
   },
   {
    "duration": 25,
    "start_time": "2022-01-10T12:45:21.465Z"
   },
   {
    "duration": 10,
    "start_time": "2022-01-10T12:45:21.493Z"
   },
   {
    "duration": 54,
    "start_time": "2022-01-10T12:45:21.506Z"
   },
   {
    "duration": 18,
    "start_time": "2022-01-10T12:45:21.563Z"
   },
   {
    "duration": 126,
    "start_time": "2022-01-10T12:45:21.584Z"
   },
   {
    "duration": -1066,
    "start_time": "2022-01-10T12:45:22.779Z"
   },
   {
    "duration": -1074,
    "start_time": "2022-01-10T12:45:22.789Z"
   },
   {
    "duration": -1078,
    "start_time": "2022-01-10T12:45:22.794Z"
   },
   {
    "duration": -1086,
    "start_time": "2022-01-10T12:45:22.804Z"
   },
   {
    "duration": -1096,
    "start_time": "2022-01-10T12:45:22.815Z"
   },
   {
    "duration": -1100,
    "start_time": "2022-01-10T12:45:22.821Z"
   },
   {
    "duration": -1102,
    "start_time": "2022-01-10T12:45:22.824Z"
   },
   {
    "duration": -1107,
    "start_time": "2022-01-10T12:45:22.831Z"
   },
   {
    "duration": -1112,
    "start_time": "2022-01-10T12:45:22.837Z"
   },
   {
    "duration": -1141,
    "start_time": "2022-01-10T12:45:22.868Z"
   },
   {
    "duration": -1143,
    "start_time": "2022-01-10T12:45:22.871Z"
   },
   {
    "duration": -1146,
    "start_time": "2022-01-10T12:45:22.876Z"
   },
   {
    "duration": -1327,
    "start_time": "2022-01-10T12:45:23.058Z"
   },
   {
    "duration": -1673,
    "start_time": "2022-01-10T12:45:23.406Z"
   },
   {
    "duration": -1680,
    "start_time": "2022-01-10T12:45:23.414Z"
   },
   {
    "duration": -1688,
    "start_time": "2022-01-10T12:45:23.424Z"
   },
   {
    "duration": -1786,
    "start_time": "2022-01-10T12:45:23.523Z"
   },
   {
    "duration": -1797,
    "start_time": "2022-01-10T12:45:23.535Z"
   },
   {
    "duration": 837,
    "start_time": "2022-01-10T13:40:00.181Z"
   },
   {
    "duration": 213,
    "start_time": "2022-01-10T13:40:01.022Z"
   },
   {
    "duration": 32,
    "start_time": "2022-01-10T13:40:01.238Z"
   },
   {
    "duration": 36,
    "start_time": "2022-01-10T13:40:01.273Z"
   },
   {
    "duration": 7,
    "start_time": "2022-01-10T13:40:01.312Z"
   },
   {
    "duration": 32,
    "start_time": "2022-01-10T13:40:01.321Z"
   },
   {
    "duration": 10,
    "start_time": "2022-01-10T13:40:01.356Z"
   },
   {
    "duration": 35,
    "start_time": "2022-01-10T13:40:01.369Z"
   },
   {
    "duration": 22,
    "start_time": "2022-01-10T13:40:01.407Z"
   },
   {
    "duration": 30,
    "start_time": "2022-01-10T13:40:01.432Z"
   },
   {
    "duration": 97,
    "start_time": "2022-01-10T13:40:01.464Z"
   },
   {
    "duration": 108,
    "start_time": "2022-01-10T13:40:01.563Z"
   },
   {
    "duration": 80,
    "start_time": "2022-01-10T13:40:01.673Z"
   },
   {
    "duration": 9,
    "start_time": "2022-01-10T13:40:01.760Z"
   },
   {
    "duration": 4,
    "start_time": "2022-01-10T13:40:01.772Z"
   },
   {
    "duration": 20,
    "start_time": "2022-01-10T13:40:01.778Z"
   },
   {
    "duration": 21,
    "start_time": "2022-01-10T13:40:01.800Z"
   },
   {
    "duration": 23,
    "start_time": "2022-01-10T13:40:01.824Z"
   },
   {
    "duration": 15,
    "start_time": "2022-01-10T13:40:01.850Z"
   },
   {
    "duration": 161,
    "start_time": "2022-01-10T13:40:01.867Z"
   },
   {
    "duration": -1024,
    "start_time": "2022-01-10T13:40:03.055Z"
   },
   {
    "duration": -1196,
    "start_time": "2022-01-10T13:40:03.229Z"
   },
   {
    "duration": -1213,
    "start_time": "2022-01-10T13:40:03.247Z"
   },
   {
    "duration": -1217,
    "start_time": "2022-01-10T13:40:03.252Z"
   },
   {
    "duration": -1220,
    "start_time": "2022-01-10T13:40:03.257Z"
   },
   {
    "duration": -1223,
    "start_time": "2022-01-10T13:40:03.261Z"
   },
   {
    "duration": -1226,
    "start_time": "2022-01-10T13:40:03.265Z"
   },
   {
    "duration": -1228,
    "start_time": "2022-01-10T13:40:03.269Z"
   },
   {
    "duration": -1231,
    "start_time": "2022-01-10T13:40:03.273Z"
   },
   {
    "duration": -1234,
    "start_time": "2022-01-10T13:40:03.277Z"
   },
   {
    "duration": -1235,
    "start_time": "2022-01-10T13:40:03.280Z"
   },
   {
    "duration": -1239,
    "start_time": "2022-01-10T13:40:03.285Z"
   },
   {
    "duration": -1242,
    "start_time": "2022-01-10T13:40:03.289Z"
   },
   {
    "duration": -1256,
    "start_time": "2022-01-10T13:40:03.305Z"
   },
   {
    "duration": -1258,
    "start_time": "2022-01-10T13:40:03.309Z"
   },
   {
    "duration": -1263,
    "start_time": "2022-01-10T13:40:03.315Z"
   },
   {
    "duration": -1276,
    "start_time": "2022-01-10T13:40:03.329Z"
   },
   {
    "duration": -1288,
    "start_time": "2022-01-10T13:40:03.343Z"
   },
   {
    "duration": 115,
    "start_time": "2022-01-10T13:41:59.617Z"
   },
   {
    "duration": 122,
    "start_time": "2022-01-10T14:00:47.859Z"
   },
   {
    "duration": 133,
    "start_time": "2022-01-10T14:02:24.656Z"
   },
   {
    "duration": 125,
    "start_time": "2022-01-10T14:02:46.793Z"
   },
   {
    "duration": 5,
    "start_time": "2022-01-10T14:04:45.805Z"
   },
   {
    "duration": 840,
    "start_time": "2022-01-10T14:04:53.119Z"
   },
   {
    "duration": 805,
    "start_time": "2022-01-10T14:05:37.138Z"
   },
   {
    "duration": 5,
    "start_time": "2022-01-10T14:06:36.324Z"
   },
   {
    "duration": 42,
    "start_time": "2022-01-10T14:06:40.868Z"
   },
   {
    "duration": 4,
    "start_time": "2022-01-10T14:08:57.370Z"
   },
   {
    "duration": 725,
    "start_time": "2022-01-10T14:09:01.407Z"
   },
   {
    "duration": 4,
    "start_time": "2022-01-10T14:09:54.344Z"
   },
   {
    "duration": 20,
    "start_time": "2022-01-10T14:09:57.831Z"
   },
   {
    "duration": 375,
    "start_time": "2022-01-10T14:10:00.581Z"
   },
   {
    "duration": 27,
    "start_time": "2022-01-10T14:10:36.153Z"
   },
   {
    "duration": 20,
    "start_time": "2022-01-10T14:10:38.602Z"
   },
   {
    "duration": 20,
    "start_time": "2022-01-10T14:10:39.616Z"
   },
   {
    "duration": 23,
    "start_time": "2022-01-10T14:10:40.638Z"
   },
   {
    "duration": 22,
    "start_time": "2022-01-10T14:10:41.376Z"
   },
   {
    "duration": 368,
    "start_time": "2022-01-10T14:10:45.088Z"
   },
   {
    "duration": 394,
    "start_time": "2022-01-10T14:24:30.024Z"
   },
   {
    "duration": 15,
    "start_time": "2022-01-10T14:26:00.600Z"
   },
   {
    "duration": 14,
    "start_time": "2022-01-10T14:26:02.623Z"
   },
   {
    "duration": 9,
    "start_time": "2022-01-10T14:26:04.869Z"
   },
   {
    "duration": 21,
    "start_time": "2022-01-10T14:26:13.010Z"
   },
   {
    "duration": 15,
    "start_time": "2022-01-10T14:26:18.076Z"
   },
   {
    "duration": 23,
    "start_time": "2022-01-10T14:26:28.281Z"
   },
   {
    "duration": 16,
    "start_time": "2022-01-10T14:26:28.849Z"
   },
   {
    "duration": 49,
    "start_time": "2022-01-10T14:26:39.585Z"
   },
   {
    "duration": 19,
    "start_time": "2022-01-10T14:26:45.487Z"
   },
   {
    "duration": 26,
    "start_time": "2022-01-10T14:26:49.532Z"
   },
   {
    "duration": 24,
    "start_time": "2022-01-10T14:26:52.608Z"
   },
   {
    "duration": 481,
    "start_time": "2022-01-10T14:28:34.673Z"
   },
   {
    "duration": 355,
    "start_time": "2022-01-10T14:28:53.535Z"
   },
   {
    "duration": 364,
    "start_time": "2022-01-10T14:42:42.436Z"
   },
   {
    "duration": 354,
    "start_time": "2022-01-10T14:42:56.811Z"
   },
   {
    "duration": 368,
    "start_time": "2022-01-10T14:43:16.747Z"
   },
   {
    "duration": 364,
    "start_time": "2022-01-10T14:47:06.628Z"
   },
   {
    "duration": 445,
    "start_time": "2022-01-10T14:50:45.782Z"
   },
   {
    "duration": 380,
    "start_time": "2022-01-10T15:01:43.910Z"
   },
   {
    "duration": 395,
    "start_time": "2022-01-10T15:02:03.586Z"
   },
   {
    "duration": 22,
    "start_time": "2022-01-10T15:34:30.828Z"
   },
   {
    "duration": 9,
    "start_time": "2022-01-10T15:35:49.235Z"
   },
   {
    "duration": 768,
    "start_time": "2022-01-10T15:35:53.501Z"
   },
   {
    "duration": 7,
    "start_time": "2022-01-10T15:37:40.077Z"
   },
   {
    "duration": 24,
    "start_time": "2022-01-10T15:37:43.654Z"
   },
   {
    "duration": 6,
    "start_time": "2022-01-10T15:38:15.435Z"
   },
   {
    "duration": 34,
    "start_time": "2022-01-10T15:38:18.687Z"
   },
   {
    "duration": 40,
    "start_time": "2022-01-10T15:38:30.189Z"
   },
   {
    "duration": 7,
    "start_time": "2022-01-10T15:38:46.615Z"
   },
   {
    "duration": 22,
    "start_time": "2022-01-10T15:38:48.055Z"
   },
   {
    "duration": 15,
    "start_time": "2022-01-10T16:12:12.312Z"
   },
   {
    "duration": 388,
    "start_time": "2022-01-10T16:45:02.084Z"
   },
   {
    "duration": 368,
    "start_time": "2022-01-10T16:45:11.991Z"
   },
   {
    "duration": 6,
    "start_time": "2022-01-10T16:45:38.288Z"
   },
   {
    "duration": 13,
    "start_time": "2022-01-10T16:46:07.478Z"
   },
   {
    "duration": 7,
    "start_time": "2022-01-10T16:56:34.529Z"
   },
   {
    "duration": 20,
    "start_time": "2022-01-10T16:56:39.585Z"
   },
   {
    "duration": 22,
    "start_time": "2022-01-10T16:56:55.784Z"
   },
   {
    "duration": 25,
    "start_time": "2022-01-10T16:57:12.006Z"
   },
   {
    "duration": 6,
    "start_time": "2022-01-10T17:02:03.949Z"
   },
   {
    "duration": 29,
    "start_time": "2022-01-10T17:02:06.593Z"
   },
   {
    "duration": 19,
    "start_time": "2022-01-10T17:02:14.318Z"
   },
   {
    "duration": 38,
    "start_time": "2022-01-10T17:02:16.346Z"
   },
   {
    "duration": 17,
    "start_time": "2022-01-10T17:02:18.010Z"
   },
   {
    "duration": 32,
    "start_time": "2022-01-10T17:02:40.017Z"
   },
   {
    "duration": 12,
    "start_time": "2022-01-10T17:02:45.983Z"
   },
   {
    "duration": 26,
    "start_time": "2022-01-10T17:02:49.541Z"
   },
   {
    "duration": 19,
    "start_time": "2022-01-10T17:02:51.488Z"
   },
   {
    "duration": 800,
    "start_time": "2022-01-10T19:04:44.030Z"
   },
   {
    "duration": 193,
    "start_time": "2022-01-10T19:04:44.832Z"
   },
   {
    "duration": 33,
    "start_time": "2022-01-10T19:04:45.028Z"
   },
   {
    "duration": 37,
    "start_time": "2022-01-10T19:04:45.065Z"
   },
   {
    "duration": 5,
    "start_time": "2022-01-10T19:04:45.105Z"
   },
   {
    "duration": 67,
    "start_time": "2022-01-10T19:04:45.113Z"
   },
   {
    "duration": 7,
    "start_time": "2022-01-10T19:04:45.184Z"
   },
   {
    "duration": 30,
    "start_time": "2022-01-10T19:04:45.196Z"
   },
   {
    "duration": 22,
    "start_time": "2022-01-10T19:04:45.259Z"
   },
   {
    "duration": 29,
    "start_time": "2022-01-10T19:04:45.283Z"
   },
   {
    "duration": 113,
    "start_time": "2022-01-10T19:04:45.315Z"
   },
   {
    "duration": 153,
    "start_time": "2022-01-10T19:04:45.432Z"
   },
   {
    "duration": 93,
    "start_time": "2022-01-10T19:04:45.588Z"
   },
   {
    "duration": 13,
    "start_time": "2022-01-10T19:04:45.683Z"
   },
   {
    "duration": 4,
    "start_time": "2022-01-10T19:04:45.699Z"
   },
   {
    "duration": 16,
    "start_time": "2022-01-10T19:04:45.706Z"
   },
   {
    "duration": 42,
    "start_time": "2022-01-10T19:04:45.724Z"
   },
   {
    "duration": 17,
    "start_time": "2022-01-10T19:04:45.769Z"
   },
   {
    "duration": 13,
    "start_time": "2022-01-10T19:04:45.788Z"
   },
   {
    "duration": 6,
    "start_time": "2022-01-10T19:04:45.804Z"
   },
   {
    "duration": 67,
    "start_time": "2022-01-10T19:04:45.813Z"
   },
   {
    "duration": 19,
    "start_time": "2022-01-10T19:04:45.882Z"
   },
   {
    "duration": 18,
    "start_time": "2022-01-10T19:04:45.905Z"
   },
   {
    "duration": 49,
    "start_time": "2022-01-10T19:04:45.926Z"
   },
   {
    "duration": 23,
    "start_time": "2022-01-10T19:04:45.977Z"
   },
   {
    "duration": 56,
    "start_time": "2022-01-10T19:04:46.003Z"
   },
   {
    "duration": 15,
    "start_time": "2022-01-10T19:04:46.063Z"
   },
   {
    "duration": 21,
    "start_time": "2022-01-10T19:04:46.081Z"
   },
   {
    "duration": 17,
    "start_time": "2022-01-10T19:04:46.105Z"
   },
   {
    "duration": 40,
    "start_time": "2022-01-10T19:04:46.125Z"
   },
   {
    "duration": 40,
    "start_time": "2022-01-10T19:04:46.168Z"
   },
   {
    "duration": 20,
    "start_time": "2022-01-10T19:04:46.211Z"
   },
   {
    "duration": 26,
    "start_time": "2022-01-10T19:04:46.258Z"
   },
   {
    "duration": 18,
    "start_time": "2022-01-10T19:04:46.286Z"
   },
   {
    "duration": 87,
    "start_time": "2022-01-10T19:04:46.308Z"
   },
   {
    "duration": 19,
    "start_time": "2022-01-10T19:04:46.399Z"
   },
   {
    "duration": 18,
    "start_time": "2022-01-10T19:04:46.420Z"
   },
   {
    "duration": 12,
    "start_time": "2022-01-10T19:04:46.459Z"
   },
   {
    "duration": 11,
    "start_time": "2022-01-10T19:06:22.032Z"
   },
   {
    "duration": 770,
    "start_time": "2022-01-10T19:06:32.128Z"
   },
   {
    "duration": 204,
    "start_time": "2022-01-10T19:06:32.901Z"
   },
   {
    "duration": 32,
    "start_time": "2022-01-10T19:06:33.108Z"
   },
   {
    "duration": 55,
    "start_time": "2022-01-10T19:06:33.143Z"
   },
   {
    "duration": 7,
    "start_time": "2022-01-10T19:06:33.201Z"
   },
   {
    "duration": 63,
    "start_time": "2022-01-10T19:06:33.211Z"
   },
   {
    "duration": 12,
    "start_time": "2022-01-10T19:06:33.277Z"
   },
   {
    "duration": 72,
    "start_time": "2022-01-10T19:06:33.294Z"
   },
   {
    "duration": 29,
    "start_time": "2022-01-10T19:06:33.372Z"
   },
   {
    "duration": 29,
    "start_time": "2022-01-10T19:06:33.404Z"
   },
   {
    "duration": 113,
    "start_time": "2022-01-10T19:06:33.436Z"
   },
   {
    "duration": 130,
    "start_time": "2022-01-10T19:06:33.551Z"
   },
   {
    "duration": 99,
    "start_time": "2022-01-10T19:06:33.684Z"
   },
   {
    "duration": 9,
    "start_time": "2022-01-10T19:06:33.785Z"
   },
   {
    "duration": 8,
    "start_time": "2022-01-10T19:06:33.796Z"
   },
   {
    "duration": 23,
    "start_time": "2022-01-10T19:06:33.807Z"
   },
   {
    "duration": 7,
    "start_time": "2022-01-10T19:06:33.833Z"
   },
   {
    "duration": 16,
    "start_time": "2022-01-10T19:06:33.860Z"
   },
   {
    "duration": 18,
    "start_time": "2022-01-10T19:06:33.879Z"
   },
   {
    "duration": 5,
    "start_time": "2022-01-10T19:06:33.899Z"
   },
   {
    "duration": 79,
    "start_time": "2022-01-10T19:06:33.906Z"
   },
   {
    "duration": 19,
    "start_time": "2022-01-10T19:06:33.987Z"
   },
   {
    "duration": 51,
    "start_time": "2022-01-10T19:06:34.011Z"
   },
   {
    "duration": 25,
    "start_time": "2022-01-10T19:06:34.066Z"
   },
   {
    "duration": 22,
    "start_time": "2022-01-10T19:06:34.094Z"
   },
   {
    "duration": 57,
    "start_time": "2022-01-10T19:06:34.118Z"
   },
   {
    "duration": 17,
    "start_time": "2022-01-10T19:06:34.178Z"
   },
   {
    "duration": 23,
    "start_time": "2022-01-10T19:06:34.198Z"
   },
   {
    "duration": 48,
    "start_time": "2022-01-10T19:06:34.224Z"
   },
   {
    "duration": 11,
    "start_time": "2022-01-10T19:06:34.275Z"
   },
   {
    "duration": 44,
    "start_time": "2022-01-10T19:06:34.289Z"
   },
   {
    "duration": 44,
    "start_time": "2022-01-10T19:06:34.336Z"
   },
   {
    "duration": 37,
    "start_time": "2022-01-10T19:06:34.383Z"
   },
   {
    "duration": 58,
    "start_time": "2022-01-10T19:06:34.424Z"
   },
   {
    "duration": 31,
    "start_time": "2022-01-10T19:06:34.485Z"
   },
   {
    "duration": 43,
    "start_time": "2022-01-10T19:06:34.518Z"
   },
   {
    "duration": 16,
    "start_time": "2022-01-10T19:06:34.565Z"
   },
   {
    "duration": 21,
    "start_time": "2022-01-10T19:06:34.584Z"
   },
   {
    "duration": 12,
    "start_time": "2022-01-10T19:06:34.608Z"
   },
   {
    "duration": 17,
    "start_time": "2022-01-10T19:06:38.337Z"
   }
  ],
  "colab": {
   "collapsed_sections": [
    "E0vqbgi9ay0H",
    "VUC88oWjTJw2"
   ],
   "name": "yandex_music_project_2021.2.ipynb",
   "provenance": []
  },
  "kernelspec": {
   "display_name": "Python 3 (ipykernel)",
   "language": "python",
   "name": "python3"
  },
  "language_info": {
   "codemirror_mode": {
    "name": "ipython",
    "version": 3
   },
   "file_extension": ".py",
   "mimetype": "text/x-python",
   "name": "python",
   "nbconvert_exporter": "python",
   "pygments_lexer": "ipython3",
   "version": "3.9.5"
  },
  "toc": {
   "base_numbering": 1,
   "nav_menu": {},
   "number_sections": true,
   "sideBar": true,
   "skip_h1_title": true,
   "title_cell": "Table of Contents",
   "title_sidebar": "Contents",
   "toc_cell": false,
   "toc_position": {
    "height": "calc(100% - 180px)",
    "left": "10px",
    "top": "150px",
    "width": "206.648px"
   },
   "toc_section_display": true,
   "toc_window_display": true
  }
 },
 "nbformat": 4,
 "nbformat_minor": 1
}
