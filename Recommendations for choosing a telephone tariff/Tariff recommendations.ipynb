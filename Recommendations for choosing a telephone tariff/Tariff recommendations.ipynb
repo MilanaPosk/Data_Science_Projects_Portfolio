{
 "cells": [
  {
   "cell_type": "markdown",
   "metadata": {},
   "source": [
    "## Открытие файла с данными и изучение информации"
   ]
  },
  {
   "cell_type": "code",
   "execution_count": 1,
   "metadata": {},
   "outputs": [],
   "source": [
    "import pandas as pd\n",
    "from sklearn.tree import DecisionTreeClassifier\n",
    "from sklearn.metrics import accuracy_score\n",
    "from sklearn.ensemble import RandomForestClassifier\n",
    "from sklearn.model_selection import train_test_split\n",
    "from sklearn.linear_model import LogisticRegression\n",
    "from sklearn.dummy import DummyClassifier\n"
   ]
  },
  {
   "cell_type": "code",
   "execution_count": 2,
   "metadata": {},
   "outputs": [
    {
     "name": "stdout",
     "output_type": "stream",
     "text": [
      "<class 'pandas.core.frame.DataFrame'>\n",
      "RangeIndex: 3214 entries, 0 to 3213\n",
      "Data columns (total 5 columns):\n",
      " #   Column    Non-Null Count  Dtype  \n",
      "---  ------    --------------  -----  \n",
      " 0   calls     3214 non-null   float64\n",
      " 1   minutes   3214 non-null   float64\n",
      " 2   messages  3214 non-null   float64\n",
      " 3   mb_used   3214 non-null   float64\n",
      " 4   is_ultra  3214 non-null   int64  \n",
      "dtypes: float64(4), int64(1)\n",
      "memory usage: 125.7 KB\n"
     ]
    }
   ],
   "source": [
    "df = pd.read_csv('/datasets/users_behavior.csv')\n",
    "df.info()"
   ]
  },
  {
   "cell_type": "code",
   "execution_count": 3,
   "metadata": {},
   "outputs": [
    {
     "data": {
      "text/html": [
       "<div>\n",
       "<style scoped>\n",
       "    .dataframe tbody tr th:only-of-type {\n",
       "        vertical-align: middle;\n",
       "    }\n",
       "\n",
       "    .dataframe tbody tr th {\n",
       "        vertical-align: top;\n",
       "    }\n",
       "\n",
       "    .dataframe thead th {\n",
       "        text-align: right;\n",
       "    }\n",
       "</style>\n",
       "<table border=\"1\" class=\"dataframe\">\n",
       "  <thead>\n",
       "    <tr style=\"text-align: right;\">\n",
       "      <th></th>\n",
       "      <th>calls</th>\n",
       "      <th>minutes</th>\n",
       "      <th>messages</th>\n",
       "      <th>mb_used</th>\n",
       "      <th>is_ultra</th>\n",
       "    </tr>\n",
       "  </thead>\n",
       "  <tbody>\n",
       "    <tr>\n",
       "      <th>0</th>\n",
       "      <td>40.0</td>\n",
       "      <td>311.90</td>\n",
       "      <td>83.0</td>\n",
       "      <td>19915.42</td>\n",
       "      <td>0</td>\n",
       "    </tr>\n",
       "    <tr>\n",
       "      <th>1</th>\n",
       "      <td>85.0</td>\n",
       "      <td>516.75</td>\n",
       "      <td>56.0</td>\n",
       "      <td>22696.96</td>\n",
       "      <td>0</td>\n",
       "    </tr>\n",
       "    <tr>\n",
       "      <th>2</th>\n",
       "      <td>77.0</td>\n",
       "      <td>467.66</td>\n",
       "      <td>86.0</td>\n",
       "      <td>21060.45</td>\n",
       "      <td>0</td>\n",
       "    </tr>\n",
       "    <tr>\n",
       "      <th>3</th>\n",
       "      <td>106.0</td>\n",
       "      <td>745.53</td>\n",
       "      <td>81.0</td>\n",
       "      <td>8437.39</td>\n",
       "      <td>1</td>\n",
       "    </tr>\n",
       "    <tr>\n",
       "      <th>4</th>\n",
       "      <td>66.0</td>\n",
       "      <td>418.74</td>\n",
       "      <td>1.0</td>\n",
       "      <td>14502.75</td>\n",
       "      <td>0</td>\n",
       "    </tr>\n",
       "  </tbody>\n",
       "</table>\n",
       "</div>"
      ],
      "text/plain": [
       "   calls  minutes  messages   mb_used  is_ultra\n",
       "0   40.0   311.90      83.0  19915.42         0\n",
       "1   85.0   516.75      56.0  22696.96         0\n",
       "2   77.0   467.66      86.0  21060.45         0\n",
       "3  106.0   745.53      81.0   8437.39         1\n",
       "4   66.0   418.74       1.0  14502.75         0"
      ]
     },
     "execution_count": 3,
     "metadata": {},
     "output_type": "execute_result"
    }
   ],
   "source": [
    "df.head()"
   ]
  },
  {
   "cell_type": "code",
   "execution_count": 4,
   "metadata": {},
   "outputs": [
    {
     "data": {
      "text/html": [
       "<div>\n",
       "<style scoped>\n",
       "    .dataframe tbody tr th:only-of-type {\n",
       "        vertical-align: middle;\n",
       "    }\n",
       "\n",
       "    .dataframe tbody tr th {\n",
       "        vertical-align: top;\n",
       "    }\n",
       "\n",
       "    .dataframe thead th {\n",
       "        text-align: right;\n",
       "    }\n",
       "</style>\n",
       "<table border=\"1\" class=\"dataframe\">\n",
       "  <thead>\n",
       "    <tr style=\"text-align: right;\">\n",
       "      <th></th>\n",
       "      <th>calls</th>\n",
       "      <th>minutes</th>\n",
       "      <th>messages</th>\n",
       "      <th>mb_used</th>\n",
       "      <th>is_ultra</th>\n",
       "    </tr>\n",
       "  </thead>\n",
       "  <tbody>\n",
       "    <tr>\n",
       "      <th>count</th>\n",
       "      <td>3214.000000</td>\n",
       "      <td>3214.000000</td>\n",
       "      <td>3214.000000</td>\n",
       "      <td>3214.000000</td>\n",
       "      <td>3214.000000</td>\n",
       "    </tr>\n",
       "    <tr>\n",
       "      <th>mean</th>\n",
       "      <td>63.038892</td>\n",
       "      <td>438.208787</td>\n",
       "      <td>38.281269</td>\n",
       "      <td>17207.673836</td>\n",
       "      <td>0.306472</td>\n",
       "    </tr>\n",
       "    <tr>\n",
       "      <th>std</th>\n",
       "      <td>33.236368</td>\n",
       "      <td>234.569872</td>\n",
       "      <td>36.148326</td>\n",
       "      <td>7570.968246</td>\n",
       "      <td>0.461100</td>\n",
       "    </tr>\n",
       "    <tr>\n",
       "      <th>min</th>\n",
       "      <td>0.000000</td>\n",
       "      <td>0.000000</td>\n",
       "      <td>0.000000</td>\n",
       "      <td>0.000000</td>\n",
       "      <td>0.000000</td>\n",
       "    </tr>\n",
       "    <tr>\n",
       "      <th>25%</th>\n",
       "      <td>40.000000</td>\n",
       "      <td>274.575000</td>\n",
       "      <td>9.000000</td>\n",
       "      <td>12491.902500</td>\n",
       "      <td>0.000000</td>\n",
       "    </tr>\n",
       "    <tr>\n",
       "      <th>50%</th>\n",
       "      <td>62.000000</td>\n",
       "      <td>430.600000</td>\n",
       "      <td>30.000000</td>\n",
       "      <td>16943.235000</td>\n",
       "      <td>0.000000</td>\n",
       "    </tr>\n",
       "    <tr>\n",
       "      <th>75%</th>\n",
       "      <td>82.000000</td>\n",
       "      <td>571.927500</td>\n",
       "      <td>57.000000</td>\n",
       "      <td>21424.700000</td>\n",
       "      <td>1.000000</td>\n",
       "    </tr>\n",
       "    <tr>\n",
       "      <th>max</th>\n",
       "      <td>244.000000</td>\n",
       "      <td>1632.060000</td>\n",
       "      <td>224.000000</td>\n",
       "      <td>49745.730000</td>\n",
       "      <td>1.000000</td>\n",
       "    </tr>\n",
       "  </tbody>\n",
       "</table>\n",
       "</div>"
      ],
      "text/plain": [
       "             calls      minutes     messages       mb_used     is_ultra\n",
       "count  3214.000000  3214.000000  3214.000000   3214.000000  3214.000000\n",
       "mean     63.038892   438.208787    38.281269  17207.673836     0.306472\n",
       "std      33.236368   234.569872    36.148326   7570.968246     0.461100\n",
       "min       0.000000     0.000000     0.000000      0.000000     0.000000\n",
       "25%      40.000000   274.575000     9.000000  12491.902500     0.000000\n",
       "50%      62.000000   430.600000    30.000000  16943.235000     0.000000\n",
       "75%      82.000000   571.927500    57.000000  21424.700000     1.000000\n",
       "max     244.000000  1632.060000   224.000000  49745.730000     1.000000"
      ]
     },
     "execution_count": 4,
     "metadata": {},
     "output_type": "execute_result"
    }
   ],
   "source": [
    "df.describe() "
   ]
  },
  {
   "cell_type": "code",
   "execution_count": 5,
   "metadata": {},
   "outputs": [
    {
     "data": {
      "text/plain": [
       "0    2229\n",
       "1     985\n",
       "Name: is_ultra, dtype: int64"
      ]
     },
     "execution_count": 5,
     "metadata": {},
     "output_type": "execute_result"
    }
   ],
   "source": [
    "df['is_ultra'].value_counts()"
   ]
  },
  {
   "cell_type": "markdown",
   "metadata": {},
   "source": [
    "**Вывод:** В данных всего 3214 строк и 5 колонок, с количественными и вещественными типами данных. Числовые данные распределены достаточно равномерно. Столбец \"is_ultra\" содержит категориальный признак, что означает тип тарифа, «Ультра» — 1, «Смарт» — 0. В данном столбце других значений нет. Датасет готов к исследованию."
   ]
  },
  {
   "cell_type": "markdown",
   "metadata": {},
   "source": [
    "## Разделение данных на выборки"
   ]
  },
  {
   "cell_type": "code",
   "execution_count": 6,
   "metadata": {},
   "outputs": [],
   "source": [
    "df_train, df_test = train_test_split(df, test_size=0.25, random_state=12345)\n",
    "df_train, df_valid = train_test_split(df_train, test_size=0.333, random_state=12345)"
   ]
  },
  {
   "cell_type": "code",
   "execution_count": 7,
   "metadata": {
    "scrolled": true
   },
   "outputs": [
    {
     "name": "stdout",
     "output_type": "stream",
     "text": [
      "(1607, 4)\n",
      "(1607,)\n",
      "(804, 4)\n",
      "(804,)\n",
      "(803, 4)\n",
      "(803,)\n"
     ]
    }
   ],
   "source": [
    "features_train = df_train.drop(['is_ultra'], axis=1)\n",
    "target_train = df_train['is_ultra']\n",
    "\n",
    "features_test = df_test.drop(['is_ultra'], axis=1)\n",
    "target_test = df_test['is_ultra']\n",
    "\n",
    "features_valid = df_valid.drop(['is_ultra'], axis=1)\n",
    "target_valid = df_valid['is_ultra']\n",
    "\n",
    "print(features_train.shape)\n",
    "print(target_train.shape)\n",
    "print(features_test.shape)\n",
    "print(target_test.shape)\n",
    "print(features_valid.shape)\n",
    "print(target_valid.shape)"
   ]
  },
  {
   "cell_type": "markdown",
   "metadata": {},
   "source": [
    "**Вывод:** Данные разбили на три выборки в соотношении 50%, 25% и 25%. Создали параметр с признаками и целевым признаком."
   ]
  },
  {
   "cell_type": "markdown",
   "metadata": {},
   "source": [
    "## Исследование моделей"
   ]
  },
  {
   "cell_type": "markdown",
   "metadata": {},
   "source": [
    "### Модель: решающее дерево"
   ]
  },
  {
   "cell_type": "code",
   "execution_count": 8,
   "metadata": {},
   "outputs": [
    {
     "name": "stdout",
     "output_type": "stream",
     "text": [
      "Accuracy лучшей модели решающие дерево валидационной выборки: 0.7870485678704857\n",
      "Лучшее гиперпараметры модели решающие дерево валидационной выборки: DecisionTreeClassifier(max_depth=3, random_state=12345)\n"
     ]
    }
   ],
   "source": [
    "best_model_decision_tree = None\n",
    "best_result_decision_tree = 0\n",
    "for depth in range(1, 6):\n",
    "\tmodel_decision_tree = DecisionTreeClassifier(random_state=12345, max_depth=depth)\n",
    "\tmodel_decision_tree.fit(features_train,target_train) \n",
    "\tpredictions = model_decision_tree.predict(features_valid) \n",
    "\tresult = accuracy_score(target_valid, predictions) \n",
    "\tif result > best_result_decision_tree:\n",
    "\t\tbest_model_decision_tree = model_decision_tree\n",
    "\t\tbest_result_decision_tree = result\n",
    "        \n",
    "print(\"Accuracy лучшей модели решающие дерево валидационной выборки:\", best_result_decision_tree)\n",
    "print(\"Лучшее гиперпараметры модели решающие дерево валидационной выборки:\", best_model_decision_tree)"
   ]
  },
  {
   "cell_type": "markdown",
   "metadata": {},
   "source": [
    "### Модель: случайный лес"
   ]
  },
  {
   "cell_type": "code",
   "execution_count": 9,
   "metadata": {},
   "outputs": [
    {
     "name": "stdout",
     "output_type": "stream",
     "text": [
      "Accuracy наилучшей модели случайный лес на валидационной выборке: 0.8194271481942715\n",
      "Лучшее гиперпараметры модели случайный лес на валидационной выборки: RandomForestClassifier(max_depth=9, n_estimators=31, random_state=12345)\n"
     ]
    }
   ],
   "source": [
    "best_model_random_forest = None\n",
    "best_result_random_forest = 0\n",
    "for est in range(1, 52, 10):\n",
    "    for depth in range(1, 15, 2):\n",
    "        model_random_forest = RandomForestClassifier(random_state=12345, n_estimators=est, max_depth=depth)\n",
    "        model_random_forest.fit(features_train,target_train ) \n",
    "        result = model_random_forest.score(features_valid, target_valid)\n",
    "        if result > best_result_random_forest:\n",
    "            best_model_random_forest = model_random_forest\n",
    "            best_result_random_forest =result \n",
    "\n",
    "print(\"Accuracy наилучшей модели случайный лес на валидационной выборке:\", best_result_random_forest)\n",
    "print(\"Лучшее гиперпараметры модели случайный лес на валидационной выборки:\", best_model_random_forest)"
   ]
  },
  {
   "cell_type": "markdown",
   "metadata": {},
   "source": [
    "### Модель: логистической регрессии"
   ]
  },
  {
   "cell_type": "code",
   "execution_count": 10,
   "metadata": {
    "scrolled": true
   },
   "outputs": [
    {
     "name": "stderr",
     "output_type": "stream",
     "text": [
      "/opt/conda/lib/python3.9/site-packages/scipy/optimize/_linesearch.py:456: LineSearchWarning: The line search algorithm did not converge\n",
      "  warn('The line search algorithm did not converge', LineSearchWarning)\n",
      "/opt/conda/lib/python3.9/site-packages/scipy/optimize/_linesearch.py:305: LineSearchWarning: The line search algorithm did not converge\n",
      "  warn('The line search algorithm did not converge', LineSearchWarning)\n",
      "/opt/conda/lib/python3.9/site-packages/sklearn/linear_model/_sag.py:328: ConvergenceWarning: The max_iter was reached which means the coef_ did not converge\n",
      "  warnings.warn(\"The max_iter was reached which means \"\n",
      "/opt/conda/lib/python3.9/site-packages/sklearn/linear_model/_sag.py:328: ConvergenceWarning: The max_iter was reached which means the coef_ did not converge\n",
      "  warnings.warn(\"The max_iter was reached which means \"\n",
      "/opt/conda/lib/python3.9/site-packages/scipy/optimize/_linesearch.py:456: LineSearchWarning: The line search algorithm did not converge\n",
      "  warn('The line search algorithm did not converge', LineSearchWarning)\n",
      "/opt/conda/lib/python3.9/site-packages/scipy/optimize/_linesearch.py:305: LineSearchWarning: The line search algorithm did not converge\n",
      "  warn('The line search algorithm did not converge', LineSearchWarning)\n",
      "/opt/conda/lib/python3.9/site-packages/sklearn/linear_model/_sag.py:328: ConvergenceWarning: The max_iter was reached which means the coef_ did not converge\n",
      "  warnings.warn(\"The max_iter was reached which means \"\n"
     ]
    },
    {
     "name": "stdout",
     "output_type": "stream",
     "text": [
      "Accuracy лучшей модели логистической регрессии валидационной выборки: 0.7372353673723536\n",
      "Лучшее гиперпараметры модели логистической регрессии валидационной выборки: LogisticRegression(max_iter=1000, random_state=12345, solver='newton-cg')\n"
     ]
    },
    {
     "name": "stderr",
     "output_type": "stream",
     "text": [
      "/opt/conda/lib/python3.9/site-packages/sklearn/linear_model/_sag.py:328: ConvergenceWarning: The max_iter was reached which means the coef_ did not converge\n",
      "  warnings.warn(\"The max_iter was reached which means \"\n"
     ]
    }
   ],
   "source": [
    "best_model_logistic_regression = None\n",
    "best_result_logistic_regression = 0\n",
    "for max_iter in range(1000, 3000, 1000):\n",
    "    for solver in ('newton-cg','lbfgs','liblinear', 'sag', 'saga'):\n",
    "\t    model_logistic_regression = LogisticRegression(random_state=12345, solver=solver, max_iter=max_iter) # обучите модель с заданной глубиной дерева\n",
    "\t    model_logistic_regression.fit(features_train,target_train) # обучите модель\n",
    "\t    predictions = model_logistic_regression.predict(features_valid) # получите предсказания модели\n",
    "\t    result = accuracy_score(target_valid, predictions) # посчитайте качество модели\n",
    "\t    if result > best_result_logistic_regression:\n",
    "\t\t    best_model_logistic_regression = model_logistic_regression\n",
    "\t\t    best_result_logistic_regression = result\n",
    "        \n",
    "print(\"Accuracy лучшей модели логистической регрессии валидационной выборки:\", best_result_logistic_regression)\n",
    "print(\"Лучшее гиперпараметры модели логистической регрессии валидационной выборки:\", best_model_logistic_regression)"
   ]
  },
  {
   "cell_type": "markdown",
   "metadata": {},
   "source": [
    "**Вывод:** Провели исследование данных на трех моделях, меняя гиперпараметры.</font><br>\n",
    "В модели \"Решающее дерево\" меняли один гиперпараметр (глубина дерева), в диапазоне от 1-5. Получили лучшее Accuracy  0.794, при глубине 3.</font><br>\n",
    "В модели \"Случайный лес\" меняли два гиперпараметра (количество листьев и глубина дерева) в диапазоне от 1-50, с шагом 10, и 1-10 соответственно. Получили лучшее Accuracy  0.834, при глубине 9 и количестве листьев 21.</font><br>\n",
    "В модели \"Логистическая регрессия\" меняли два гиперпараметра (количество итераций обучения и алгоритмы, который будут строить модель). Получили лучшее Accuracy  0.741, при количество итераций обучения 1000 и алгоритме \"newton-cg\".</font><br>\n",
    "Соответственно для дальнейшей проверке на тестовой выборке выбираем модель \"Случайны лес\", т.к. они имеет наилучшее качество."
   ]
  },
  {
   "cell_type": "markdown",
   "metadata": {},
   "source": [
    "## Проверка модели на тестовой выборке"
   ]
  },
  {
   "cell_type": "code",
   "execution_count": 11,
   "metadata": {},
   "outputs": [
    {
     "name": "stdout",
     "output_type": "stream",
     "text": [
      "Accuracy лучшей модели на тестовой выборке: 0.7960199004975125\n"
     ]
    }
   ],
   "source": [
    "model= RandomForestClassifier(random_state=12345, n_estimators=21, max_depth=9)\n",
    "model.fit(features_train, target_train)\n",
    "predictions = model.predict(features_test) \n",
    "result_random_forest = accuracy_score(target_test, predictions)\n",
    "\n",
    "        \n",
    "print(\"Accuracy лучшей модели на тестовой выборке:\", result_random_forest)"
   ]
  },
  {
   "cell_type": "markdown",
   "metadata": {},
   "source": [
    "**Вывод:** Цель достигнута, Accuracy на тестовой выборке равна 0.8. Модель \"Случайный лес\" можно применять в бизнесе."
   ]
  },
  {
   "cell_type": "markdown",
   "metadata": {},
   "source": [
    "## Проверка модели на адекватность"
   ]
  },
  {
   "cell_type": "code",
   "execution_count": 12,
   "metadata": {},
   "outputs": [
    {
     "data": {
      "text/plain": [
       "0.7002487562189055"
      ]
     },
     "execution_count": 12,
     "metadata": {},
     "output_type": "execute_result"
    }
   ],
   "source": [
    "dummy_clf = DummyClassifier(strategy='most_frequent', random_state=12345)\n",
    "dummy_clf.fit(features_train, target_train)\n",
    "\n",
    "dummy_clf.score(features_test, target_test)"
   ]
  },
  {
   "cell_type": "markdown",
   "metadata": {},
   "source": [
    "**Вывод:** При проверке выбранной модели на адекватность сравним ее с более простым классификатором, DummyClassifier. Правильность данной модели составила 0.7, что подтверждает правильность использования выбранной модели \"Случайный лес\"."
   ]
  }
 ],
 "metadata": {
  "ExecuteTimeLog": [
   {
    "duration": 1581,
    "start_time": "2022-03-20T09:02:16.758Z"
   },
   {
    "duration": 21,
    "start_time": "2022-03-20T09:02:18.341Z"
   },
   {
    "duration": 15,
    "start_time": "2022-03-20T09:02:18.364Z"
   },
   {
    "duration": 20,
    "start_time": "2022-03-20T09:02:18.381Z"
   },
   {
    "duration": 4,
    "start_time": "2022-03-20T09:02:18.403Z"
   },
   {
    "duration": 8,
    "start_time": "2022-03-20T09:02:18.409Z"
   },
   {
    "duration": 10,
    "start_time": "2022-03-20T09:02:18.418Z"
   },
   {
    "duration": 169,
    "start_time": "2022-03-20T09:02:18.429Z"
   },
   {
    "duration": 12,
    "start_time": "2022-03-20T09:03:22.598Z"
   },
   {
    "duration": 8,
    "start_time": "2022-03-20T09:04:51.743Z"
   },
   {
    "duration": 2651,
    "start_time": "2022-03-20T09:04:55.680Z"
   },
   {
    "duration": 21,
    "start_time": "2022-03-20T09:10:46.227Z"
   },
   {
    "duration": 22,
    "start_time": "2022-03-20T09:12:24.549Z"
   },
   {
    "duration": 2515,
    "start_time": "2022-03-20T09:12:50.506Z"
   },
   {
    "duration": 2538,
    "start_time": "2022-03-20T09:15:36.577Z"
   },
   {
    "duration": 5,
    "start_time": "2022-03-20T09:17:33.170Z"
   },
   {
    "duration": 11,
    "start_time": "2022-03-20T09:17:48.674Z"
   },
   {
    "duration": 2572,
    "start_time": "2022-03-20T09:18:11.538Z"
   },
   {
    "duration": 9,
    "start_time": "2022-03-20T09:21:15.197Z"
   },
   {
    "duration": 11,
    "start_time": "2022-03-20T09:22:07.734Z"
   },
   {
    "duration": 1182,
    "start_time": "2022-03-20T17:12:52.493Z"
   },
   {
    "duration": 36,
    "start_time": "2022-03-20T17:12:53.677Z"
   },
   {
    "duration": 16,
    "start_time": "2022-03-20T17:12:53.715Z"
   },
   {
    "duration": 30,
    "start_time": "2022-03-20T17:12:53.733Z"
   },
   {
    "duration": 5,
    "start_time": "2022-03-20T17:12:53.766Z"
   },
   {
    "duration": 9,
    "start_time": "2022-03-20T17:12:53.773Z"
   },
   {
    "duration": 13,
    "start_time": "2022-03-20T17:12:53.784Z"
   },
   {
    "duration": 120,
    "start_time": "2022-03-20T17:12:53.799Z"
   },
   {
    "duration": 15,
    "start_time": "2022-03-20T17:14:33.759Z"
   },
   {
    "duration": 23,
    "start_time": "2022-03-20T17:15:03.104Z"
   },
   {
    "duration": 179,
    "start_time": "2022-03-20T17:21:38.460Z"
   },
   {
    "duration": 32,
    "start_time": "2022-03-20T17:23:13.830Z"
   },
   {
    "duration": 32,
    "start_time": "2022-03-20T17:23:17.165Z"
   },
   {
    "duration": 269,
    "start_time": "2022-03-20T17:24:21.647Z"
   },
   {
    "duration": 248,
    "start_time": "2022-03-20T17:24:24.367Z"
   },
   {
    "duration": 34,
    "start_time": "2022-03-20T17:25:45.217Z"
   },
   {
    "duration": 60,
    "start_time": "2022-03-20T17:25:46.872Z"
   },
   {
    "duration": 25,
    "start_time": "2022-03-20T17:36:26.625Z"
   },
   {
    "duration": 1270,
    "start_time": "2022-03-20T18:04:05.520Z"
   },
   {
    "duration": 100,
    "start_time": "2022-03-20T18:04:06.792Z"
   },
   {
    "duration": 17,
    "start_time": "2022-03-20T18:04:06.894Z"
   },
   {
    "duration": 24,
    "start_time": "2022-03-20T18:04:06.913Z"
   },
   {
    "duration": 6,
    "start_time": "2022-03-20T18:04:06.939Z"
   },
   {
    "duration": 15,
    "start_time": "2022-03-20T18:04:06.947Z"
   },
   {
    "duration": 10,
    "start_time": "2022-03-20T18:04:06.964Z"
   },
   {
    "duration": 25,
    "start_time": "2022-03-20T18:04:06.976Z"
   },
   {
    "duration": 51,
    "start_time": "2022-03-20T18:04:07.003Z"
   },
   {
    "duration": 33,
    "start_time": "2022-03-20T18:04:07.057Z"
   },
   {
    "duration": 297,
    "start_time": "2022-03-20T18:04:07.092Z"
   },
   {
    "duration": 276,
    "start_time": "2022-03-20T18:04:07.391Z"
   },
   {
    "duration": 33,
    "start_time": "2022-03-20T18:04:07.670Z"
   },
   {
    "duration": 52,
    "start_time": "2022-03-20T18:04:07.705Z"
   },
   {
    "duration": 28,
    "start_time": "2022-03-20T18:04:07.759Z"
   },
   {
    "duration": 6,
    "start_time": "2022-03-20T18:04:07.789Z"
   },
   {
    "duration": 1674,
    "start_time": "2022-03-21T16:54:34.538Z"
   },
   {
    "duration": 29,
    "start_time": "2022-03-21T16:54:36.215Z"
   },
   {
    "duration": 48,
    "start_time": "2022-03-21T16:54:36.247Z"
   },
   {
    "duration": 34,
    "start_time": "2022-03-21T16:54:36.298Z"
   },
   {
    "duration": 7,
    "start_time": "2022-03-21T16:54:36.337Z"
   },
   {
    "duration": 43,
    "start_time": "2022-03-21T16:54:36.347Z"
   },
   {
    "duration": 22,
    "start_time": "2022-03-21T16:54:36.393Z"
   },
   {
    "duration": 33,
    "start_time": "2022-03-21T16:54:36.416Z"
   },
   {
    "duration": 73,
    "start_time": "2022-03-21T16:54:36.451Z"
   },
   {
    "duration": 46,
    "start_time": "2022-03-21T16:54:36.527Z"
   },
   {
    "duration": 371,
    "start_time": "2022-03-21T16:54:36.589Z"
   },
   {
    "duration": 2559,
    "start_time": "2022-03-21T16:54:36.962Z"
   },
   {
    "duration": 78,
    "start_time": "2022-03-21T16:54:39.524Z"
   },
   {
    "duration": 68,
    "start_time": "2022-03-21T16:54:39.608Z"
   },
   {
    "duration": 966,
    "start_time": "2022-03-21T16:54:39.679Z"
   },
   {
    "duration": 65,
    "start_time": "2022-03-21T16:54:40.647Z"
   },
   {
    "duration": 10,
    "start_time": "2022-03-21T16:54:40.714Z"
   },
   {
    "duration": 1304,
    "start_time": "2022-03-22T07:19:20.727Z"
   },
   {
    "duration": 25,
    "start_time": "2022-03-22T07:19:22.033Z"
   },
   {
    "duration": 14,
    "start_time": "2022-03-22T07:19:22.059Z"
   },
   {
    "duration": 21,
    "start_time": "2022-03-22T07:19:22.075Z"
   },
   {
    "duration": 4,
    "start_time": "2022-03-22T07:19:22.098Z"
   },
   {
    "duration": 8,
    "start_time": "2022-03-22T07:19:22.103Z"
   },
   {
    "duration": 9,
    "start_time": "2022-03-22T07:19:22.113Z"
   },
   {
    "duration": 19,
    "start_time": "2022-03-22T07:19:22.124Z"
   },
   {
    "duration": 111,
    "start_time": "2022-03-22T07:19:22.145Z"
   },
   {
    "duration": 0,
    "start_time": "2022-03-22T07:19:22.258Z"
   },
   {
    "duration": 1,
    "start_time": "2022-03-22T07:19:22.260Z"
   },
   {
    "duration": 0,
    "start_time": "2022-03-22T07:19:22.262Z"
   },
   {
    "duration": 1,
    "start_time": "2022-03-22T07:19:22.280Z"
   },
   {
    "duration": 0,
    "start_time": "2022-03-22T07:19:22.282Z"
   },
   {
    "duration": 13,
    "start_time": "2022-03-22T07:19:53.470Z"
   },
   {
    "duration": 1573,
    "start_time": "2022-03-22T07:20:13.819Z"
   },
   {
    "duration": 26,
    "start_time": "2022-03-22T07:20:15.394Z"
   },
   {
    "duration": 16,
    "start_time": "2022-03-22T07:20:15.422Z"
   },
   {
    "duration": 22,
    "start_time": "2022-03-22T07:20:15.440Z"
   },
   {
    "duration": 18,
    "start_time": "2022-03-22T07:20:15.464Z"
   },
   {
    "duration": 6,
    "start_time": "2022-03-22T07:20:15.483Z"
   },
   {
    "duration": 10,
    "start_time": "2022-03-22T07:20:15.491Z"
   },
   {
    "duration": 22,
    "start_time": "2022-03-22T07:20:15.503Z"
   },
   {
    "duration": 103,
    "start_time": "2022-03-22T07:20:15.526Z"
   },
   {
    "duration": 0,
    "start_time": "2022-03-22T07:20:15.631Z"
   },
   {
    "duration": 0,
    "start_time": "2022-03-22T07:20:15.632Z"
   },
   {
    "duration": 0,
    "start_time": "2022-03-22T07:20:15.633Z"
   },
   {
    "duration": 0,
    "start_time": "2022-03-22T07:20:15.634Z"
   },
   {
    "duration": 0,
    "start_time": "2022-03-22T07:20:15.635Z"
   },
   {
    "duration": 44,
    "start_time": "2022-03-22T07:21:01.927Z"
   },
   {
    "duration": 1171,
    "start_time": "2022-03-22T07:21:03.359Z"
   },
   {
    "duration": 449,
    "start_time": "2022-03-22T07:21:04.975Z"
   },
   {
    "duration": 9,
    "start_time": "2022-03-22T07:21:15.446Z"
   },
   {
    "duration": 10,
    "start_time": "2022-03-22T07:21:17.231Z"
   },
   {
    "duration": 10,
    "start_time": "2022-03-22T07:21:38.519Z"
   },
   {
    "duration": 138,
    "start_time": "2022-03-22T07:21:57.504Z"
   },
   {
    "duration": 11,
    "start_time": "2022-03-22T07:22:09.440Z"
   },
   {
    "duration": 149,
    "start_time": "2022-03-22T07:22:17.144Z"
   },
   {
    "duration": 140,
    "start_time": "2022-03-22T07:22:42.113Z"
   },
   {
    "duration": 10,
    "start_time": "2022-03-22T07:23:24.561Z"
   },
   {
    "duration": 11,
    "start_time": "2022-03-22T07:25:10.196Z"
   },
   {
    "duration": 225,
    "start_time": "2022-03-22T07:25:18.051Z"
   },
   {
    "duration": 166,
    "start_time": "2022-03-22T07:27:22.349Z"
   },
   {
    "duration": 1295,
    "start_time": "2022-03-22T07:27:39.766Z"
   },
   {
    "duration": 26,
    "start_time": "2022-03-22T07:27:41.063Z"
   },
   {
    "duration": 14,
    "start_time": "2022-03-22T07:27:41.090Z"
   },
   {
    "duration": 21,
    "start_time": "2022-03-22T07:27:41.106Z"
   },
   {
    "duration": 5,
    "start_time": "2022-03-22T07:27:41.128Z"
   },
   {
    "duration": 6,
    "start_time": "2022-03-22T07:27:41.134Z"
   },
   {
    "duration": 8,
    "start_time": "2022-03-22T07:27:41.142Z"
   },
   {
    "duration": 41,
    "start_time": "2022-03-22T07:27:41.151Z"
   },
   {
    "duration": 28,
    "start_time": "2022-03-22T07:27:41.193Z"
   },
   {
    "duration": 1071,
    "start_time": "2022-03-22T07:27:41.223Z"
   },
   {
    "duration": 608,
    "start_time": "2022-03-22T07:27:42.296Z"
   },
   {
    "duration": 9,
    "start_time": "2022-03-22T07:27:42.905Z"
   },
   {
    "duration": 190,
    "start_time": "2022-03-22T07:27:42.916Z"
   },
   {
    "duration": 6,
    "start_time": "2022-03-22T07:27:43.108Z"
   },
   {
    "duration": 1563,
    "start_time": "2022-03-22T07:31:25.137Z"
   },
   {
    "duration": 26,
    "start_time": "2022-03-22T07:31:26.702Z"
   },
   {
    "duration": 14,
    "start_time": "2022-03-22T07:31:26.729Z"
   },
   {
    "duration": 20,
    "start_time": "2022-03-22T07:31:26.744Z"
   },
   {
    "duration": 4,
    "start_time": "2022-03-22T07:31:26.766Z"
   },
   {
    "duration": 5,
    "start_time": "2022-03-22T07:31:26.781Z"
   },
   {
    "duration": 7,
    "start_time": "2022-03-22T07:31:26.788Z"
   },
   {
    "duration": 17,
    "start_time": "2022-03-22T07:31:26.797Z"
   },
   {
    "duration": 28,
    "start_time": "2022-03-22T07:31:26.815Z"
   },
   {
    "duration": 1151,
    "start_time": "2022-03-22T07:31:26.844Z"
   },
   {
    "duration": 485,
    "start_time": "2022-03-22T07:31:27.997Z"
   },
   {
    "duration": 10,
    "start_time": "2022-03-22T07:31:28.483Z"
   },
   {
    "duration": 71,
    "start_time": "2022-03-22T07:31:28.494Z"
   },
   {
    "duration": 5,
    "start_time": "2022-03-22T07:31:28.581Z"
   },
   {
    "duration": 1460,
    "start_time": "2022-03-22T08:38:15.459Z"
   },
   {
    "duration": 26,
    "start_time": "2022-03-22T08:38:16.921Z"
   },
   {
    "duration": 14,
    "start_time": "2022-03-22T08:38:16.949Z"
   },
   {
    "duration": 36,
    "start_time": "2022-03-22T08:38:16.966Z"
   },
   {
    "duration": 8,
    "start_time": "2022-03-22T08:38:17.003Z"
   },
   {
    "duration": 19,
    "start_time": "2022-03-22T08:38:17.013Z"
   },
   {
    "duration": 26,
    "start_time": "2022-03-22T08:38:17.034Z"
   },
   {
    "duration": 42,
    "start_time": "2022-03-22T08:38:17.062Z"
   },
   {
    "duration": 1165,
    "start_time": "2022-03-22T08:38:17.106Z"
   },
   {
    "duration": 585,
    "start_time": "2022-03-22T08:38:18.280Z"
   },
   {
    "duration": 18,
    "start_time": "2022-03-22T08:38:18.867Z"
   },
   {
    "duration": 109,
    "start_time": "2022-03-22T08:38:18.886Z"
   },
   {
    "duration": 6,
    "start_time": "2022-03-22T08:38:18.996Z"
   },
   {
    "duration": 10,
    "start_time": "2022-03-22T08:39:45.019Z"
   },
   {
    "duration": 1378,
    "start_time": "2022-03-22T20:23:27.545Z"
   },
   {
    "duration": 98,
    "start_time": "2022-03-22T20:23:28.925Z"
   },
   {
    "duration": 20,
    "start_time": "2022-03-22T20:23:29.025Z"
   },
   {
    "duration": 32,
    "start_time": "2022-03-22T20:23:29.049Z"
   },
   {
    "duration": 7,
    "start_time": "2022-03-22T20:23:29.083Z"
   },
   {
    "duration": 9,
    "start_time": "2022-03-22T20:23:29.092Z"
   },
   {
    "duration": 11,
    "start_time": "2022-03-22T20:23:29.104Z"
   },
   {
    "duration": 45,
    "start_time": "2022-03-22T20:23:29.117Z"
   },
   {
    "duration": 1218,
    "start_time": "2022-03-22T20:23:29.164Z"
   },
   {
    "duration": 804,
    "start_time": "2022-03-22T20:23:30.386Z"
   },
   {
    "duration": 11,
    "start_time": "2022-03-22T20:23:31.192Z"
   },
   {
    "duration": 101,
    "start_time": "2022-03-22T20:23:31.205Z"
   },
   {
    "duration": 6,
    "start_time": "2022-03-22T20:23:31.308Z"
   },
   {
    "duration": 1200,
    "start_time": "2022-03-23T06:01:30.136Z"
   },
   {
    "duration": 86,
    "start_time": "2022-03-23T06:01:31.338Z"
   },
   {
    "duration": 17,
    "start_time": "2022-03-23T06:01:31.427Z"
   },
   {
    "duration": 51,
    "start_time": "2022-03-23T06:01:31.447Z"
   },
   {
    "duration": 6,
    "start_time": "2022-03-23T06:01:31.500Z"
   },
   {
    "duration": 26,
    "start_time": "2022-03-23T06:01:31.507Z"
   },
   {
    "duration": 20,
    "start_time": "2022-03-23T06:01:31.535Z"
   },
   {
    "duration": 17,
    "start_time": "2022-03-23T06:01:31.558Z"
   },
   {
    "duration": 49,
    "start_time": "2022-03-23T06:01:31.578Z"
   },
   {
    "duration": 2998,
    "start_time": "2022-03-23T06:01:31.630Z"
   },
   {
    "duration": 506,
    "start_time": "2022-03-23T06:01:34.630Z"
   },
   {
    "duration": 2,
    "start_time": "2022-03-23T06:01:35.138Z"
   },
   {
    "duration": 89,
    "start_time": "2022-03-23T06:01:35.142Z"
   },
   {
    "duration": 6,
    "start_time": "2022-03-23T06:01:35.233Z"
   },
   {
    "duration": 6,
    "start_time": "2022-03-23T06:08:25.945Z"
   },
   {
    "duration": 8,
    "start_time": "2022-03-23T06:08:29.182Z"
   },
   {
    "duration": 6,
    "start_time": "2022-03-23T06:08:48.117Z"
   },
   {
    "duration": 8,
    "start_time": "2022-03-23T06:08:49.377Z"
   },
   {
    "duration": 4,
    "start_time": "2022-03-23T06:21:01.866Z"
   },
   {
    "duration": 4,
    "start_time": "2022-03-23T06:21:37.066Z"
   },
   {
    "duration": 16143,
    "start_time": "2022-03-23T06:21:49.547Z"
   },
   {
    "duration": 1095,
    "start_time": "2022-03-23T06:23:52.373Z"
   },
   {
    "duration": 1181,
    "start_time": "2022-03-23T06:32:13.823Z"
   },
   {
    "duration": 23,
    "start_time": "2022-03-23T06:32:15.007Z"
   },
   {
    "duration": 18,
    "start_time": "2022-03-23T06:32:15.031Z"
   },
   {
    "duration": 27,
    "start_time": "2022-03-23T06:32:15.051Z"
   },
   {
    "duration": 4,
    "start_time": "2022-03-23T06:32:15.079Z"
   },
   {
    "duration": 9,
    "start_time": "2022-03-23T06:32:15.085Z"
   },
   {
    "duration": 14,
    "start_time": "2022-03-23T06:32:15.096Z"
   },
   {
    "duration": 35,
    "start_time": "2022-03-23T06:32:15.111Z"
   },
   {
    "duration": 2807,
    "start_time": "2022-03-23T06:32:15.148Z"
   },
   {
    "duration": 1167,
    "start_time": "2022-03-23T06:32:17.957Z"
   },
   {
    "duration": 66,
    "start_time": "2022-03-23T06:32:19.125Z"
   },
   {
    "duration": 0,
    "start_time": "2022-03-23T06:32:19.192Z"
   },
   {
    "duration": 0,
    "start_time": "2022-03-23T06:32:19.193Z"
   },
   {
    "duration": 0,
    "start_time": "2022-03-23T06:32:19.194Z"
   },
   {
    "duration": 64,
    "start_time": "2022-03-23T06:33:33.852Z"
   },
   {
    "duration": 1165,
    "start_time": "2022-03-23T06:34:05.792Z"
   },
   {
    "duration": 25,
    "start_time": "2022-03-23T06:34:06.959Z"
   },
   {
    "duration": 18,
    "start_time": "2022-03-23T06:34:06.986Z"
   },
   {
    "duration": 22,
    "start_time": "2022-03-23T06:34:07.008Z"
   },
   {
    "duration": 5,
    "start_time": "2022-03-23T06:34:07.032Z"
   },
   {
    "duration": 8,
    "start_time": "2022-03-23T06:34:07.039Z"
   },
   {
    "duration": 7,
    "start_time": "2022-03-23T06:34:07.048Z"
   },
   {
    "duration": 54,
    "start_time": "2022-03-23T06:34:07.057Z"
   },
   {
    "duration": 2818,
    "start_time": "2022-03-23T06:34:07.112Z"
   },
   {
    "duration": 1201,
    "start_time": "2022-03-23T06:34:09.932Z"
   },
   {
    "duration": 3,
    "start_time": "2022-03-23T06:34:11.135Z"
   },
   {
    "duration": 79,
    "start_time": "2022-03-23T06:34:11.140Z"
   },
   {
    "duration": 5,
    "start_time": "2022-03-23T06:34:11.221Z"
   },
   {
    "duration": 1170,
    "start_time": "2023-02-26T16:03:51.370Z"
   },
   {
    "duration": 129,
    "start_time": "2023-02-26T16:03:52.543Z"
   },
   {
    "duration": 16,
    "start_time": "2023-02-26T16:03:52.673Z"
   },
   {
    "duration": 25,
    "start_time": "2023-02-26T16:03:52.690Z"
   },
   {
    "duration": 5,
    "start_time": "2023-02-26T16:03:52.717Z"
   },
   {
    "duration": 11,
    "start_time": "2023-02-26T16:03:52.723Z"
   },
   {
    "duration": 9,
    "start_time": "2023-02-26T16:03:52.735Z"
   },
   {
    "duration": 49,
    "start_time": "2023-02-26T16:03:52.745Z"
   },
   {
    "duration": 2802,
    "start_time": "2023-02-26T16:03:52.796Z"
   },
   {
    "duration": 1293,
    "start_time": "2023-02-26T16:03:55.599Z"
   },
   {
    "duration": 65,
    "start_time": "2023-02-26T16:03:56.893Z"
   },
   {
    "duration": 6,
    "start_time": "2023-02-26T16:03:56.961Z"
   }
  ],
  "kernelspec": {
   "display_name": "Python 3 (ipykernel)",
   "language": "python",
   "name": "python3"
  },
  "language_info": {
   "codemirror_mode": {
    "name": "ipython",
    "version": 3
   },
   "file_extension": ".py",
   "mimetype": "text/x-python",
   "name": "python",
   "nbconvert_exporter": "python",
   "pygments_lexer": "ipython3",
   "version": "3.9.5"
  },
  "toc": {
   "base_numbering": 1,
   "nav_menu": {},
   "number_sections": true,
   "sideBar": true,
   "skip_h1_title": true,
   "title_cell": "Table of Contents",
   "title_sidebar": "Contents",
   "toc_cell": false,
   "toc_position": {},
   "toc_section_display": true,
   "toc_window_display": false
  }
 },
 "nbformat": 4,
 "nbformat_minor": 2
}
