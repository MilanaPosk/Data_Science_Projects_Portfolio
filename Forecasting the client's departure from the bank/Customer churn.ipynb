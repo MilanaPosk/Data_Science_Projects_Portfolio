{
 "cells": [
  {
   "cell_type": "markdown",
   "metadata": {},
   "source": [
    "## Подготовка данных\n",
    "- импорт необходимых библиотек\n",
    "- визуализация данных\n",
    "- проверка на дубли и пропуски\n",
    "- приведение данных в необходимый тип"
   ]
  },
  {
   "cell_type": "code",
   "execution_count": 1,
   "metadata": {},
   "outputs": [],
   "source": [
    "import pandas as pd\n",
    "import re\n",
    "import numpy as np\n",
    "import matplotlib.pyplot as plt\n",
    "import seaborn as sns\n",
    "from sklearn.model_selection import train_test_split\n",
    "from sklearn.metrics import accuracy_score\n",
    "from sklearn.metrics import precision_score, recall_score\n",
    "from sklearn.metrics import f1_score\n",
    "from sklearn.metrics import mean_squared_error\n",
    "from sklearn.metrics import  r2_score\n",
    "from sklearn.metrics import mean_absolute_error\n",
    "from sklearn.utils import shuffle\n",
    "from sklearn.metrics import roc_curve\n",
    "from sklearn.metrics import roc_auc_score\n",
    "from sklearn.tree import DecisionTreeClassifier\n",
    "from sklearn.ensemble import RandomForestClassifier\n",
    "from sklearn.linear_model import LogisticRegression\n",
    "from sklearn.preprocessing import StandardScaler\n",
    "from sklearn.model_selection import GridSearchCV\n",
    "from sklearn.dummy import DummyClassifier"
   ]
  },
  {
   "cell_type": "code",
   "execution_count": 2,
   "metadata": {},
   "outputs": [
    {
     "data": {
      "text/html": [
       "<div>\n",
       "<style scoped>\n",
       "    .dataframe tbody tr th:only-of-type {\n",
       "        vertical-align: middle;\n",
       "    }\n",
       "\n",
       "    .dataframe tbody tr th {\n",
       "        vertical-align: top;\n",
       "    }\n",
       "\n",
       "    .dataframe thead th {\n",
       "        text-align: right;\n",
       "    }\n",
       "</style>\n",
       "<table border=\"1\" class=\"dataframe\">\n",
       "  <thead>\n",
       "    <tr style=\"text-align: right;\">\n",
       "      <th></th>\n",
       "      <th>RowNumber</th>\n",
       "      <th>CustomerId</th>\n",
       "      <th>Surname</th>\n",
       "      <th>CreditScore</th>\n",
       "      <th>Geography</th>\n",
       "      <th>Gender</th>\n",
       "      <th>Age</th>\n",
       "      <th>Tenure</th>\n",
       "      <th>Balance</th>\n",
       "      <th>NumOfProducts</th>\n",
       "      <th>HasCrCard</th>\n",
       "      <th>IsActiveMember</th>\n",
       "      <th>EstimatedSalary</th>\n",
       "      <th>Exited</th>\n",
       "    </tr>\n",
       "  </thead>\n",
       "  <tbody>\n",
       "    <tr>\n",
       "      <th>0</th>\n",
       "      <td>1</td>\n",
       "      <td>15634602</td>\n",
       "      <td>Hargrave</td>\n",
       "      <td>619</td>\n",
       "      <td>France</td>\n",
       "      <td>Female</td>\n",
       "      <td>42</td>\n",
       "      <td>2.0</td>\n",
       "      <td>0.00</td>\n",
       "      <td>1</td>\n",
       "      <td>1</td>\n",
       "      <td>1</td>\n",
       "      <td>101348.88</td>\n",
       "      <td>1</td>\n",
       "    </tr>\n",
       "    <tr>\n",
       "      <th>1</th>\n",
       "      <td>2</td>\n",
       "      <td>15647311</td>\n",
       "      <td>Hill</td>\n",
       "      <td>608</td>\n",
       "      <td>Spain</td>\n",
       "      <td>Female</td>\n",
       "      <td>41</td>\n",
       "      <td>1.0</td>\n",
       "      <td>83807.86</td>\n",
       "      <td>1</td>\n",
       "      <td>0</td>\n",
       "      <td>1</td>\n",
       "      <td>112542.58</td>\n",
       "      <td>0</td>\n",
       "    </tr>\n",
       "    <tr>\n",
       "      <th>2</th>\n",
       "      <td>3</td>\n",
       "      <td>15619304</td>\n",
       "      <td>Onio</td>\n",
       "      <td>502</td>\n",
       "      <td>France</td>\n",
       "      <td>Female</td>\n",
       "      <td>42</td>\n",
       "      <td>8.0</td>\n",
       "      <td>159660.80</td>\n",
       "      <td>3</td>\n",
       "      <td>1</td>\n",
       "      <td>0</td>\n",
       "      <td>113931.57</td>\n",
       "      <td>1</td>\n",
       "    </tr>\n",
       "    <tr>\n",
       "      <th>3</th>\n",
       "      <td>4</td>\n",
       "      <td>15701354</td>\n",
       "      <td>Boni</td>\n",
       "      <td>699</td>\n",
       "      <td>France</td>\n",
       "      <td>Female</td>\n",
       "      <td>39</td>\n",
       "      <td>1.0</td>\n",
       "      <td>0.00</td>\n",
       "      <td>2</td>\n",
       "      <td>0</td>\n",
       "      <td>0</td>\n",
       "      <td>93826.63</td>\n",
       "      <td>0</td>\n",
       "    </tr>\n",
       "    <tr>\n",
       "      <th>4</th>\n",
       "      <td>5</td>\n",
       "      <td>15737888</td>\n",
       "      <td>Mitchell</td>\n",
       "      <td>850</td>\n",
       "      <td>Spain</td>\n",
       "      <td>Female</td>\n",
       "      <td>43</td>\n",
       "      <td>2.0</td>\n",
       "      <td>125510.82</td>\n",
       "      <td>1</td>\n",
       "      <td>1</td>\n",
       "      <td>1</td>\n",
       "      <td>79084.10</td>\n",
       "      <td>0</td>\n",
       "    </tr>\n",
       "  </tbody>\n",
       "</table>\n",
       "</div>"
      ],
      "text/plain": [
       "   RowNumber  CustomerId   Surname  CreditScore Geography  Gender  Age  \\\n",
       "0          1    15634602  Hargrave          619    France  Female   42   \n",
       "1          2    15647311      Hill          608     Spain  Female   41   \n",
       "2          3    15619304      Onio          502    France  Female   42   \n",
       "3          4    15701354      Boni          699    France  Female   39   \n",
       "4          5    15737888  Mitchell          850     Spain  Female   43   \n",
       "\n",
       "   Tenure    Balance  NumOfProducts  HasCrCard  IsActiveMember  \\\n",
       "0     2.0       0.00              1          1               1   \n",
       "1     1.0   83807.86              1          0               1   \n",
       "2     8.0  159660.80              3          1               0   \n",
       "3     1.0       0.00              2          0               0   \n",
       "4     2.0  125510.82              1          1               1   \n",
       "\n",
       "   EstimatedSalary  Exited  \n",
       "0        101348.88       1  \n",
       "1        112542.58       0  \n",
       "2        113931.57       1  \n",
       "3         93826.63       0  \n",
       "4         79084.10       0  "
      ]
     },
     "execution_count": 2,
     "metadata": {},
     "output_type": "execute_result"
    }
   ],
   "source": [
    "data = pd.read_csv('/datasets/Churn.csv')\n",
    "data.head()"
   ]
  },
  {
   "cell_type": "code",
   "execution_count": 3,
   "metadata": {},
   "outputs": [],
   "source": [
    "columns = data.columns\n",
    "columns_new = []\n",
    "for name in columns:\n",
    "  columns_new.append(re.sub(r'(?<!^)(?=[A-Z])', '_', name).lower())\n",
    "data.set_axis(columns_new, axis='columns', inplace=True)"
   ]
  },
  {
   "cell_type": "code",
   "execution_count": 4,
   "metadata": {
    "scrolled": true
   },
   "outputs": [
    {
     "name": "stdout",
     "output_type": "stream",
     "text": [
      "<class 'pandas.core.frame.DataFrame'>\n",
      "RangeIndex: 10000 entries, 0 to 9999\n",
      "Data columns (total 14 columns):\n",
      " #   Column            Non-Null Count  Dtype  \n",
      "---  ------            --------------  -----  \n",
      " 0   row_number        10000 non-null  int64  \n",
      " 1   customer_id       10000 non-null  int64  \n",
      " 2   surname           10000 non-null  object \n",
      " 3   credit_score      10000 non-null  int64  \n",
      " 4   geography         10000 non-null  object \n",
      " 5   gender            10000 non-null  object \n",
      " 6   age               10000 non-null  int64  \n",
      " 7   tenure            9091 non-null   float64\n",
      " 8   balance           10000 non-null  float64\n",
      " 9   num_of_products   10000 non-null  int64  \n",
      " 10  has_cr_card       10000 non-null  int64  \n",
      " 11  is_active_member  10000 non-null  int64  \n",
      " 12  estimated_salary  10000 non-null  float64\n",
      " 13  exited            10000 non-null  int64  \n",
      "dtypes: float64(3), int64(8), object(3)\n",
      "memory usage: 1.1+ MB\n"
     ]
    }
   ],
   "source": [
    "data.info()"
   ]
  },
  {
   "cell_type": "code",
   "execution_count": 5,
   "metadata": {},
   "outputs": [
    {
     "data": {
      "text/plain": [
       "row_number            0\n",
       "customer_id           0\n",
       "surname               0\n",
       "credit_score          0\n",
       "geography             0\n",
       "gender                0\n",
       "age                   0\n",
       "tenure              909\n",
       "balance               0\n",
       "num_of_products       0\n",
       "has_cr_card           0\n",
       "is_active_member      0\n",
       "estimated_salary      0\n",
       "exited                0\n",
       "dtype: int64"
      ]
     },
     "execution_count": 5,
     "metadata": {},
     "output_type": "execute_result"
    }
   ],
   "source": [
    "data.isnull().sum(axis = 0)"
   ]
  },
  {
   "cell_type": "code",
   "execution_count": 6,
   "metadata": {
    "scrolled": true
   },
   "outputs": [
    {
     "data": {
      "text/plain": [
       "<bound method IndexOpsMixin.value_counts of 0        2.0\n",
       "1        1.0\n",
       "2        8.0\n",
       "3        1.0\n",
       "4        2.0\n",
       "        ... \n",
       "9995     5.0\n",
       "9996    10.0\n",
       "9997     7.0\n",
       "9998     3.0\n",
       "9999     NaN\n",
       "Name: tenure, Length: 10000, dtype: float64>"
      ]
     },
     "execution_count": 6,
     "metadata": {},
     "output_type": "execute_result"
    }
   ],
   "source": [
    "data.tenure.value_counts"
   ]
  },
  {
   "cell_type": "code",
   "execution_count": 7,
   "metadata": {
    "scrolled": false
   },
   "outputs": [
    {
     "data": {
      "text/html": [
       "<div>\n",
       "<style scoped>\n",
       "    .dataframe tbody tr th:only-of-type {\n",
       "        vertical-align: middle;\n",
       "    }\n",
       "\n",
       "    .dataframe tbody tr th {\n",
       "        vertical-align: top;\n",
       "    }\n",
       "\n",
       "    .dataframe thead th {\n",
       "        text-align: right;\n",
       "    }\n",
       "</style>\n",
       "<table border=\"1\" class=\"dataframe\">\n",
       "  <thead>\n",
       "    <tr style=\"text-align: right;\">\n",
       "      <th></th>\n",
       "      <th>row_number</th>\n",
       "      <th>customer_id</th>\n",
       "      <th>surname</th>\n",
       "      <th>credit_score</th>\n",
       "      <th>geography</th>\n",
       "      <th>gender</th>\n",
       "      <th>age</th>\n",
       "      <th>tenure</th>\n",
       "      <th>balance</th>\n",
       "      <th>num_of_products</th>\n",
       "      <th>has_cr_card</th>\n",
       "      <th>is_active_member</th>\n",
       "      <th>estimated_salary</th>\n",
       "      <th>exited</th>\n",
       "    </tr>\n",
       "  </thead>\n",
       "  <tbody>\n",
       "    <tr>\n",
       "      <th>30</th>\n",
       "      <td>31</td>\n",
       "      <td>15589475</td>\n",
       "      <td>Azikiwe</td>\n",
       "      <td>591</td>\n",
       "      <td>Spain</td>\n",
       "      <td>Female</td>\n",
       "      <td>39</td>\n",
       "      <td>NaN</td>\n",
       "      <td>0.00</td>\n",
       "      <td>3</td>\n",
       "      <td>1</td>\n",
       "      <td>0</td>\n",
       "      <td>140469.38</td>\n",
       "      <td>1</td>\n",
       "    </tr>\n",
       "    <tr>\n",
       "      <th>48</th>\n",
       "      <td>49</td>\n",
       "      <td>15766205</td>\n",
       "      <td>Yin</td>\n",
       "      <td>550</td>\n",
       "      <td>Germany</td>\n",
       "      <td>Male</td>\n",
       "      <td>38</td>\n",
       "      <td>NaN</td>\n",
       "      <td>103391.38</td>\n",
       "      <td>1</td>\n",
       "      <td>0</td>\n",
       "      <td>1</td>\n",
       "      <td>90878.13</td>\n",
       "      <td>0</td>\n",
       "    </tr>\n",
       "    <tr>\n",
       "      <th>51</th>\n",
       "      <td>52</td>\n",
       "      <td>15768193</td>\n",
       "      <td>Trevisani</td>\n",
       "      <td>585</td>\n",
       "      <td>Germany</td>\n",
       "      <td>Male</td>\n",
       "      <td>36</td>\n",
       "      <td>NaN</td>\n",
       "      <td>146050.97</td>\n",
       "      <td>2</td>\n",
       "      <td>0</td>\n",
       "      <td>0</td>\n",
       "      <td>86424.57</td>\n",
       "      <td>0</td>\n",
       "    </tr>\n",
       "    <tr>\n",
       "      <th>53</th>\n",
       "      <td>54</td>\n",
       "      <td>15702298</td>\n",
       "      <td>Parkhill</td>\n",
       "      <td>655</td>\n",
       "      <td>Germany</td>\n",
       "      <td>Male</td>\n",
       "      <td>41</td>\n",
       "      <td>NaN</td>\n",
       "      <td>125561.97</td>\n",
       "      <td>1</td>\n",
       "      <td>0</td>\n",
       "      <td>0</td>\n",
       "      <td>164040.94</td>\n",
       "      <td>1</td>\n",
       "    </tr>\n",
       "    <tr>\n",
       "      <th>60</th>\n",
       "      <td>61</td>\n",
       "      <td>15651280</td>\n",
       "      <td>Hunter</td>\n",
       "      <td>742</td>\n",
       "      <td>Germany</td>\n",
       "      <td>Male</td>\n",
       "      <td>35</td>\n",
       "      <td>NaN</td>\n",
       "      <td>136857.00</td>\n",
       "      <td>1</td>\n",
       "      <td>0</td>\n",
       "      <td>0</td>\n",
       "      <td>84509.57</td>\n",
       "      <td>0</td>\n",
       "    </tr>\n",
       "    <tr>\n",
       "      <th>...</th>\n",
       "      <td>...</td>\n",
       "      <td>...</td>\n",
       "      <td>...</td>\n",
       "      <td>...</td>\n",
       "      <td>...</td>\n",
       "      <td>...</td>\n",
       "      <td>...</td>\n",
       "      <td>...</td>\n",
       "      <td>...</td>\n",
       "      <td>...</td>\n",
       "      <td>...</td>\n",
       "      <td>...</td>\n",
       "      <td>...</td>\n",
       "      <td>...</td>\n",
       "    </tr>\n",
       "    <tr>\n",
       "      <th>9944</th>\n",
       "      <td>9945</td>\n",
       "      <td>15703923</td>\n",
       "      <td>Cameron</td>\n",
       "      <td>744</td>\n",
       "      <td>Germany</td>\n",
       "      <td>Male</td>\n",
       "      <td>41</td>\n",
       "      <td>NaN</td>\n",
       "      <td>190409.34</td>\n",
       "      <td>2</td>\n",
       "      <td>1</td>\n",
       "      <td>1</td>\n",
       "      <td>138361.48</td>\n",
       "      <td>0</td>\n",
       "    </tr>\n",
       "    <tr>\n",
       "      <th>9956</th>\n",
       "      <td>9957</td>\n",
       "      <td>15707861</td>\n",
       "      <td>Nucci</td>\n",
       "      <td>520</td>\n",
       "      <td>France</td>\n",
       "      <td>Female</td>\n",
       "      <td>46</td>\n",
       "      <td>NaN</td>\n",
       "      <td>85216.61</td>\n",
       "      <td>1</td>\n",
       "      <td>1</td>\n",
       "      <td>0</td>\n",
       "      <td>117369.52</td>\n",
       "      <td>1</td>\n",
       "    </tr>\n",
       "    <tr>\n",
       "      <th>9964</th>\n",
       "      <td>9965</td>\n",
       "      <td>15642785</td>\n",
       "      <td>Douglas</td>\n",
       "      <td>479</td>\n",
       "      <td>France</td>\n",
       "      <td>Male</td>\n",
       "      <td>34</td>\n",
       "      <td>NaN</td>\n",
       "      <td>117593.48</td>\n",
       "      <td>2</td>\n",
       "      <td>0</td>\n",
       "      <td>0</td>\n",
       "      <td>113308.29</td>\n",
       "      <td>0</td>\n",
       "    </tr>\n",
       "    <tr>\n",
       "      <th>9985</th>\n",
       "      <td>9986</td>\n",
       "      <td>15586914</td>\n",
       "      <td>Nepean</td>\n",
       "      <td>659</td>\n",
       "      <td>France</td>\n",
       "      <td>Male</td>\n",
       "      <td>36</td>\n",
       "      <td>NaN</td>\n",
       "      <td>123841.49</td>\n",
       "      <td>2</td>\n",
       "      <td>1</td>\n",
       "      <td>0</td>\n",
       "      <td>96833.00</td>\n",
       "      <td>0</td>\n",
       "    </tr>\n",
       "    <tr>\n",
       "      <th>9999</th>\n",
       "      <td>10000</td>\n",
       "      <td>15628319</td>\n",
       "      <td>Walker</td>\n",
       "      <td>792</td>\n",
       "      <td>France</td>\n",
       "      <td>Female</td>\n",
       "      <td>28</td>\n",
       "      <td>NaN</td>\n",
       "      <td>130142.79</td>\n",
       "      <td>1</td>\n",
       "      <td>1</td>\n",
       "      <td>0</td>\n",
       "      <td>38190.78</td>\n",
       "      <td>0</td>\n",
       "    </tr>\n",
       "  </tbody>\n",
       "</table>\n",
       "<p>909 rows × 14 columns</p>\n",
       "</div>"
      ],
      "text/plain": [
       "      row_number  customer_id    surname  credit_score geography  gender  age  \\\n",
       "30            31     15589475    Azikiwe           591     Spain  Female   39   \n",
       "48            49     15766205        Yin           550   Germany    Male   38   \n",
       "51            52     15768193  Trevisani           585   Germany    Male   36   \n",
       "53            54     15702298   Parkhill           655   Germany    Male   41   \n",
       "60            61     15651280     Hunter           742   Germany    Male   35   \n",
       "...          ...          ...        ...           ...       ...     ...  ...   \n",
       "9944        9945     15703923    Cameron           744   Germany    Male   41   \n",
       "9956        9957     15707861      Nucci           520    France  Female   46   \n",
       "9964        9965     15642785    Douglas           479    France    Male   34   \n",
       "9985        9986     15586914     Nepean           659    France    Male   36   \n",
       "9999       10000     15628319     Walker           792    France  Female   28   \n",
       "\n",
       "      tenure    balance  num_of_products  has_cr_card  is_active_member  \\\n",
       "30       NaN       0.00                3            1                 0   \n",
       "48       NaN  103391.38                1            0                 1   \n",
       "51       NaN  146050.97                2            0                 0   \n",
       "53       NaN  125561.97                1            0                 0   \n",
       "60       NaN  136857.00                1            0                 0   \n",
       "...      ...        ...              ...          ...               ...   \n",
       "9944     NaN  190409.34                2            1                 1   \n",
       "9956     NaN   85216.61                1            1                 0   \n",
       "9964     NaN  117593.48                2            0                 0   \n",
       "9985     NaN  123841.49                2            1                 0   \n",
       "9999     NaN  130142.79                1            1                 0   \n",
       "\n",
       "      estimated_salary  exited  \n",
       "30           140469.38       1  \n",
       "48            90878.13       0  \n",
       "51            86424.57       0  \n",
       "53           164040.94       1  \n",
       "60            84509.57       0  \n",
       "...                ...     ...  \n",
       "9944         138361.48       0  \n",
       "9956         117369.52       1  \n",
       "9964         113308.29       0  \n",
       "9985          96833.00       0  \n",
       "9999          38190.78       0  \n",
       "\n",
       "[909 rows x 14 columns]"
      ]
     },
     "execution_count": 7,
     "metadata": {},
     "output_type": "execute_result"
    }
   ],
   "source": [
    "bool_series = pd.isnull(data['tenure']) \n",
    "data[bool_series]"
   ]
  },
  {
   "cell_type": "code",
   "execution_count": 8,
   "metadata": {},
   "outputs": [],
   "source": [
    "data = data.dropna(subset=['tenure']).reset_index(drop=True)"
   ]
  },
  {
   "cell_type": "code",
   "execution_count": 9,
   "metadata": {},
   "outputs": [
    {
     "data": {
      "text/plain": [
       "0"
      ]
     },
     "execution_count": 9,
     "metadata": {},
     "output_type": "execute_result"
    }
   ],
   "source": [
    "data['customer_id'].duplicated().sum()"
   ]
  },
  {
   "cell_type": "code",
   "execution_count": 10,
   "metadata": {},
   "outputs": [],
   "source": [
    "df = data.drop(['row_number','customer_id','surname'], axis=1)"
   ]
  },
  {
   "cell_type": "code",
   "execution_count": 11,
   "metadata": {},
   "outputs": [
    {
     "data": {
      "text/plain": [
       "array(['France', 'Spain', 'Germany'], dtype=object)"
      ]
     },
     "execution_count": 11,
     "metadata": {},
     "output_type": "execute_result"
    }
   ],
   "source": [
    "df['geography'].unique()"
   ]
  },
  {
   "cell_type": "code",
   "execution_count": 12,
   "metadata": {},
   "outputs": [
    {
     "data": {
      "text/plain": [
       "array(['Female', 'Male'], dtype=object)"
      ]
     },
     "execution_count": 12,
     "metadata": {},
     "output_type": "execute_result"
    }
   ],
   "source": [
    "df['gender'].unique()"
   ]
  },
  {
   "cell_type": "code",
   "execution_count": 13,
   "metadata": {},
   "outputs": [],
   "source": [
    "df['tenure'] = df['tenure'].astype(int)\n",
    "df['balance'] = df['balance'].astype(int)\n",
    "df['estimated_salary'] = df['estimated_salary'].astype(int)"
   ]
  },
  {
   "cell_type": "code",
   "execution_count": 14,
   "metadata": {},
   "outputs": [
    {
     "name": "stdout",
     "output_type": "stream",
     "text": [
      "<class 'pandas.core.frame.DataFrame'>\n",
      "RangeIndex: 9091 entries, 0 to 9090\n",
      "Data columns (total 11 columns):\n",
      " #   Column            Non-Null Count  Dtype \n",
      "---  ------            --------------  ----- \n",
      " 0   credit_score      9091 non-null   int64 \n",
      " 1   geography         9091 non-null   object\n",
      " 2   gender            9091 non-null   object\n",
      " 3   age               9091 non-null   int64 \n",
      " 4   tenure            9091 non-null   int64 \n",
      " 5   balance           9091 non-null   int64 \n",
      " 6   num_of_products   9091 non-null   int64 \n",
      " 7   has_cr_card       9091 non-null   int64 \n",
      " 8   is_active_member  9091 non-null   int64 \n",
      " 9   estimated_salary  9091 non-null   int64 \n",
      " 10  exited            9091 non-null   int64 \n",
      "dtypes: int64(9), object(2)\n",
      "memory usage: 781.4+ KB\n"
     ]
    }
   ],
   "source": [
    "df.info()"
   ]
  },
  {
   "cell_type": "markdown",
   "metadata": {},
   "source": [
    "**Вывод:** В исследуемом датасете изначально было 1000 строк с типами данных float, int, object. Переименованы название столбцов в более читаемый формат. Пропуски обнаружены по столбцу \"Tenure\" (сколько лет человек является клиентом банка) в количестве 909 строк (9,1%). Строки с пропусками были удалены. Также удалены столбцы \"row_number\", \"customer_id\", \"'surname\", т.к. эти данные не информативные для дальнейшего исследования. Явных дубликатов не обнаружено. Столбцы \"tenure\", \"balance\", \"estimated_salary\" переведены в количественный тип."
   ]
  },
  {
   "cell_type": "markdown",
   "metadata": {},
   "source": [
    "## Исследование задачи\n",
    "- проверка зависимости данных друг от друга\n",
    "- обход дамми-ловушки\n",
    "- деление датасета на выборки\n",
    "- выделение x и y для выборок"
   ]
  },
  {
   "cell_type": "code",
   "execution_count": 15,
   "metadata": {
    "scrolled": true
   },
   "outputs": [
    {
     "data": {
      "image/png": "[encoded data removed]",
      "text/plain": [
       "<Figure size 1152x432 with 2 Axes>"
      ]
     },
     "metadata": {
      "needs_background": "light"
     },
     "output_type": "display_data"
    }
   ],
   "source": [
    "#Построение корреляционной матрицы\n",
    "plt.figure(figsize = (16,6))\n",
    "corr_matrix = sns.heatmap(df[['credit_score','age','tenure','balance','num_of_products','has_cr_card','is_active_member','estimated_salary',\n",
    "                            'exited']].corr(), annot=True)\n",
    "plt.show()"
   ]
  },
  {
   "cell_type": "code",
   "execution_count": 16,
   "metadata": {},
   "outputs": [
    {
     "data": {
      "text/html": [
       "<div>\n",
       "<style scoped>\n",
       "    .dataframe tbody tr th:only-of-type {\n",
       "        vertical-align: middle;\n",
       "    }\n",
       "\n",
       "    .dataframe tbody tr th {\n",
       "        vertical-align: top;\n",
       "    }\n",
       "\n",
       "    .dataframe thead th {\n",
       "        text-align: right;\n",
       "    }\n",
       "</style>\n",
       "<table border=\"1\" class=\"dataframe\">\n",
       "  <thead>\n",
       "    <tr style=\"text-align: right;\">\n",
       "      <th></th>\n",
       "      <th>credit_score</th>\n",
       "      <th>age</th>\n",
       "      <th>tenure</th>\n",
       "      <th>balance</th>\n",
       "      <th>num_of_products</th>\n",
       "      <th>has_cr_card</th>\n",
       "      <th>is_active_member</th>\n",
       "      <th>estimated_salary</th>\n",
       "      <th>exited</th>\n",
       "      <th>geography_Germany</th>\n",
       "      <th>geography_Spain</th>\n",
       "      <th>gender_Male</th>\n",
       "    </tr>\n",
       "  </thead>\n",
       "  <tbody>\n",
       "    <tr>\n",
       "      <th>0</th>\n",
       "      <td>619</td>\n",
       "      <td>42</td>\n",
       "      <td>2</td>\n",
       "      <td>0</td>\n",
       "      <td>1</td>\n",
       "      <td>1</td>\n",
       "      <td>1</td>\n",
       "      <td>101348</td>\n",
       "      <td>1</td>\n",
       "      <td>0</td>\n",
       "      <td>0</td>\n",
       "      <td>0</td>\n",
       "    </tr>\n",
       "    <tr>\n",
       "      <th>1</th>\n",
       "      <td>608</td>\n",
       "      <td>41</td>\n",
       "      <td>1</td>\n",
       "      <td>83807</td>\n",
       "      <td>1</td>\n",
       "      <td>0</td>\n",
       "      <td>1</td>\n",
       "      <td>112542</td>\n",
       "      <td>0</td>\n",
       "      <td>0</td>\n",
       "      <td>1</td>\n",
       "      <td>0</td>\n",
       "    </tr>\n",
       "    <tr>\n",
       "      <th>2</th>\n",
       "      <td>502</td>\n",
       "      <td>42</td>\n",
       "      <td>8</td>\n",
       "      <td>159660</td>\n",
       "      <td>3</td>\n",
       "      <td>1</td>\n",
       "      <td>0</td>\n",
       "      <td>113931</td>\n",
       "      <td>1</td>\n",
       "      <td>0</td>\n",
       "      <td>0</td>\n",
       "      <td>0</td>\n",
       "    </tr>\n",
       "    <tr>\n",
       "      <th>3</th>\n",
       "      <td>699</td>\n",
       "      <td>39</td>\n",
       "      <td>1</td>\n",
       "      <td>0</td>\n",
       "      <td>2</td>\n",
       "      <td>0</td>\n",
       "      <td>0</td>\n",
       "      <td>93826</td>\n",
       "      <td>0</td>\n",
       "      <td>0</td>\n",
       "      <td>0</td>\n",
       "      <td>0</td>\n",
       "    </tr>\n",
       "    <tr>\n",
       "      <th>4</th>\n",
       "      <td>850</td>\n",
       "      <td>43</td>\n",
       "      <td>2</td>\n",
       "      <td>125510</td>\n",
       "      <td>1</td>\n",
       "      <td>1</td>\n",
       "      <td>1</td>\n",
       "      <td>79084</td>\n",
       "      <td>0</td>\n",
       "      <td>0</td>\n",
       "      <td>1</td>\n",
       "      <td>0</td>\n",
       "    </tr>\n",
       "    <tr>\n",
       "      <th>...</th>\n",
       "      <td>...</td>\n",
       "      <td>...</td>\n",
       "      <td>...</td>\n",
       "      <td>...</td>\n",
       "      <td>...</td>\n",
       "      <td>...</td>\n",
       "      <td>...</td>\n",
       "      <td>...</td>\n",
       "      <td>...</td>\n",
       "      <td>...</td>\n",
       "      <td>...</td>\n",
       "      <td>...</td>\n",
       "    </tr>\n",
       "    <tr>\n",
       "      <th>9086</th>\n",
       "      <td>800</td>\n",
       "      <td>29</td>\n",
       "      <td>2</td>\n",
       "      <td>0</td>\n",
       "      <td>2</td>\n",
       "      <td>0</td>\n",
       "      <td>0</td>\n",
       "      <td>167773</td>\n",
       "      <td>0</td>\n",
       "      <td>0</td>\n",
       "      <td>0</td>\n",
       "      <td>0</td>\n",
       "    </tr>\n",
       "    <tr>\n",
       "      <th>9087</th>\n",
       "      <td>771</td>\n",
       "      <td>39</td>\n",
       "      <td>5</td>\n",
       "      <td>0</td>\n",
       "      <td>2</td>\n",
       "      <td>1</td>\n",
       "      <td>0</td>\n",
       "      <td>96270</td>\n",
       "      <td>0</td>\n",
       "      <td>0</td>\n",
       "      <td>0</td>\n",
       "      <td>1</td>\n",
       "    </tr>\n",
       "    <tr>\n",
       "      <th>9088</th>\n",
       "      <td>516</td>\n",
       "      <td>35</td>\n",
       "      <td>10</td>\n",
       "      <td>57369</td>\n",
       "      <td>1</td>\n",
       "      <td>1</td>\n",
       "      <td>1</td>\n",
       "      <td>101699</td>\n",
       "      <td>0</td>\n",
       "      <td>0</td>\n",
       "      <td>0</td>\n",
       "      <td>1</td>\n",
       "    </tr>\n",
       "    <tr>\n",
       "      <th>9089</th>\n",
       "      <td>709</td>\n",
       "      <td>36</td>\n",
       "      <td>7</td>\n",
       "      <td>0</td>\n",
       "      <td>1</td>\n",
       "      <td>0</td>\n",
       "      <td>1</td>\n",
       "      <td>42085</td>\n",
       "      <td>1</td>\n",
       "      <td>0</td>\n",
       "      <td>0</td>\n",
       "      <td>0</td>\n",
       "    </tr>\n",
       "    <tr>\n",
       "      <th>9090</th>\n",
       "      <td>772</td>\n",
       "      <td>42</td>\n",
       "      <td>3</td>\n",
       "      <td>75075</td>\n",
       "      <td>2</td>\n",
       "      <td>1</td>\n",
       "      <td>0</td>\n",
       "      <td>92888</td>\n",
       "      <td>1</td>\n",
       "      <td>1</td>\n",
       "      <td>0</td>\n",
       "      <td>1</td>\n",
       "    </tr>\n",
       "  </tbody>\n",
       "</table>\n",
       "<p>9091 rows × 12 columns</p>\n",
       "</div>"
      ],
      "text/plain": [
       "      credit_score  age  tenure  balance  num_of_products  has_cr_card  \\\n",
       "0              619   42       2        0                1            1   \n",
       "1              608   41       1    83807                1            0   \n",
       "2              502   42       8   159660                3            1   \n",
       "3              699   39       1        0                2            0   \n",
       "4              850   43       2   125510                1            1   \n",
       "...            ...  ...     ...      ...              ...          ...   \n",
       "9086           800   29       2        0                2            0   \n",
       "9087           771   39       5        0                2            1   \n",
       "9088           516   35      10    57369                1            1   \n",
       "9089           709   36       7        0                1            0   \n",
       "9090           772   42       3    75075                2            1   \n",
       "\n",
       "      is_active_member  estimated_salary  exited  geography_Germany  \\\n",
       "0                    1            101348       1                  0   \n",
       "1                    1            112542       0                  0   \n",
       "2                    0            113931       1                  0   \n",
       "3                    0             93826       0                  0   \n",
       "4                    1             79084       0                  0   \n",
       "...                ...               ...     ...                ...   \n",
       "9086                 0            167773       0                  0   \n",
       "9087                 0             96270       0                  0   \n",
       "9088                 1            101699       0                  0   \n",
       "9089                 1             42085       1                  0   \n",
       "9090                 0             92888       1                  1   \n",
       "\n",
       "      geography_Spain  gender_Male  \n",
       "0                   0            0  \n",
       "1                   1            0  \n",
       "2                   0            0  \n",
       "3                   0            0  \n",
       "4                   1            0  \n",
       "...               ...          ...  \n",
       "9086                0            0  \n",
       "9087                0            1  \n",
       "9088                0            1  \n",
       "9089                0            0  \n",
       "9090                0            1  \n",
       "\n",
       "[9091 rows x 12 columns]"
      ]
     },
     "execution_count": 16,
     "metadata": {},
     "output_type": "execute_result"
    }
   ],
   "source": [
    "df_ohe = pd.get_dummies(df, drop_first=True)\n",
    "df_ohe"
   ]
  },
  {
   "cell_type": "code",
   "execution_count": 17,
   "metadata": {},
   "outputs": [],
   "source": [
    "df_train, df_test = train_test_split(df_ohe, test_size=0.25, random_state=12345)\n",
    "df_train, df_valid = train_test_split(df_train, test_size=0.333, random_state=12345)"
   ]
  },
  {
   "cell_type": "code",
   "execution_count": 18,
   "metadata": {},
   "outputs": [
    {
     "name": "stdout",
     "output_type": "stream",
     "text": [
      "(4547, 11)\n",
      "(4547,)\n",
      "(2273, 11)\n",
      "(2273,)\n",
      "(2271, 11)\n",
      "(2271,)\n"
     ]
    }
   ],
   "source": [
    "features_train = df_train.drop(['exited'], axis=1)\n",
    "target_train = df_train['exited']\n",
    "\n",
    "features_test = df_test.drop(['exited'], axis=1)\n",
    "target_test = df_test['exited']\n",
    "\n",
    "features_valid = df_valid.drop(['exited'], axis=1)\n",
    "target_valid = df_valid['exited']\n",
    "\n",
    "print(features_train.shape)\n",
    "print(target_train.shape)\n",
    "print(features_test.shape)\n",
    "print(target_test.shape)\n",
    "print(features_valid.shape)\n",
    "print(target_valid.shape)"
   ]
  },
  {
   "cell_type": "markdown",
   "metadata": {},
   "source": [
    "**Вывод:** \n",
    "1. Явно выраженных линейных зависимостей между числовыми параметрами нет. Есть невысокая 0,28 между возрастом и фактов ухода из банка. также есть отрицательные зависимости между балансом на счету и количеством продуктов в банке -0,3;\n",
    "2. Выделены новые столбцы \"geography_Germany\", \"geography_Spain\" и \"gender_Male\", обойдя дамми-ловушку;\n",
    "3. Выделены выборки обучающая, валидационная и тестировочная, в процентном соотношении 50/25/25."
   ]
  },
  {
   "cell_type": "markdown",
   "metadata": {},
   "source": [
    "## Борьба с дисбалансом\n",
    "- масштабирование данных\n",
    "- проверка данных на одной модели без подбора гиперпараметров, при дисбалансе\n",
    "- подсчёт классов в целевом признаке\n",
    "- проверим данных на трех моделях: логистической регрессии, решающего леса и случайного леса, при дисбалансе и балансе данных.</font><br>\n",
    "Дисбаланс моделей будем убирать с помощью методов: взвешивания классов, увеличения и уменьшения выборок."
   ]
  },
  {
   "cell_type": "code",
   "execution_count": 19,
   "metadata": {},
   "outputs": [],
   "source": [
    "#Масштабирование признаков\n",
    "numeric = ['credit_score','age','balance','estimated_salary']\n",
    "\n",
    "pd.options.mode.chained_assignment = None\n",
    "scaler = StandardScaler()\n",
    "scaler.fit(features_train[numeric])\n",
    "features_train[numeric] = scaler.transform(features_train[numeric])\n",
    "features_valid[numeric] = scaler.transform(features_valid[numeric])\n",
    "features_test[numeric] = scaler.transform(features_test[numeric])"
   ]
  },
  {
   "cell_type": "code",
   "execution_count": 20,
   "metadata": {},
   "outputs": [
    {
     "name": "stdout",
     "output_type": "stream",
     "text": [
      "F1: 0.2698412698412698\n"
     ]
    }
   ],
   "source": [
    "model_logistic_regression_imbalance = LogisticRegression(random_state=12345, solver='liblinear') \n",
    "model_logistic_regression_imbalance.fit(features_train,target_train) \n",
    "predictions_logistic_regression_imbalance = model_logistic_regression_imbalance.predict(features_valid)\n",
    "\n",
    "print(\"F1:\", f1_score(target_valid, predictions_logistic_regression_imbalance))"
   ]
  },
  {
   "cell_type": "code",
   "execution_count": 21,
   "metadata": {},
   "outputs": [
    {
     "name": "stdout",
     "output_type": "stream",
     "text": [
      "ROC-AUC: 0.7607674769716992\n"
     ]
    },
    {
     "data": {
      "image/png": "[encoded data removed]",
      "text/plain": [
       "<Figure size 432x288 with 1 Axes>"
      ]
     },
     "metadata": {
      "needs_background": "light"
     },
     "output_type": "display_data"
    }
   ],
   "source": [
    "def plt_roc_curve(model, features, target):\n",
    "    \"\"\"Построение ROC-кривой и расчет метрики AUC-ROC\"\"\"\n",
    "    probabilities_one_test = model.predict_proba(features)[:, 1]\n",
    "    print(\"ROC-AUC:\", roc_auc_score(target, probabilities_one_test))\n",
    "    fpr, tpr, thresholds = roc_curve(target, probabilities_one_test)\n",
    "\n",
    "    plt.figure()\n",
    "    plt.plot(fpr, tpr)\n",
    "    plt.plot([0, 1], [0, 1], linestyle='--')\n",
    "    plt.xlim([0.0, 1.0])\n",
    "    plt.ylim([0.0, 1.0])\n",
    "    plt.xlabel('False Positive Rate')\n",
    "    plt.ylabel('True Positive Rate')\n",
    "    plt.title('ROC-кривая')\n",
    "    plt.show()\n",
    "plt_roc_curve(model_logistic_regression_imbalance, features_valid, target_valid)    "
   ]
  },
  {
   "cell_type": "code",
   "execution_count": 22,
   "metadata": {},
   "outputs": [
    {
     "name": "stdout",
     "output_type": "stream",
     "text": [
      "0    0.796062\n",
      "1    0.203938\n",
      "Name: exited, dtype: float64\n"
     ]
    },
    {
     "data": {
      "text/plain": [
       "<AxesSubplot:>"
      ]
     },
     "execution_count": 22,
     "metadata": {},
     "output_type": "execute_result"
    },
    {
     "data": {
      "image/png": "[encoded data removed]",
      "text/plain": [
       "<Figure size 432x288 with 1 Axes>"
      ]
     },
     "metadata": {
      "needs_background": "light"
     },
     "output_type": "display_data"
    }
   ],
   "source": [
    "#Подсчёт классов в целевом признаке \n",
    "class_frequency = df_ohe['exited'].value_counts(normalize=True)\n",
    "print(class_frequency)\n",
    "class_frequency.plot(kind='bar')"
   ]
  },
  {
   "cell_type": "markdown",
   "metadata": {},
   "source": [
    "**Вывод:** \n",
    "1. Промасштабировали данных по столбцам \"credit_score\",\"age\",\"balance\",\"estimated_salary\" во всех Х-ых выборках.\n",
    "2. Проверка несбалансированных данных на модели Логистической регрессии без гиперпараметров показала метрику F1: 0.27, а AUC-ROC: 0.57.\n",
    "3. Из подсчета классов целевого признака видно, что 1 в 4 раза меньше чем 0. Данных имеют достаточно сильных дисбаланс."
   ]
  },
  {
   "cell_type": "markdown",
   "metadata": {},
   "source": [
    "### Модель: логистической регрессии"
   ]
  },
  {
   "cell_type": "code",
   "execution_count": 23,
   "metadata": {
    "collapsed": true
   },
   "outputs": [
    {
     "name": "stderr",
     "output_type": "stream",
     "text": [
      "/opt/conda/lib/python3.9/site-packages/sklearn/utils/optimize.py:202: ConvergenceWarning: newton-cg failed to converge. Increase the number of iterations.\n",
      "  warnings.warn(\"newton-cg failed to converge. Increase the \"\n",
      "/opt/conda/lib/python3.9/site-packages/sklearn/utils/optimize.py:202: ConvergenceWarning: newton-cg failed to converge. Increase the number of iterations.\n",
      "  warnings.warn(\"newton-cg failed to converge. Increase the \"\n",
      "/opt/conda/lib/python3.9/site-packages/sklearn/utils/optimize.py:202: ConvergenceWarning: newton-cg failed to converge. Increase the number of iterations.\n",
      "  warnings.warn(\"newton-cg failed to converge. Increase the \"\n",
      "/opt/conda/lib/python3.9/site-packages/sklearn/utils/optimize.py:202: ConvergenceWarning: newton-cg failed to converge. Increase the number of iterations.\n",
      "  warnings.warn(\"newton-cg failed to converge. Increase the \"\n",
      "/opt/conda/lib/python3.9/site-packages/sklearn/utils/optimize.py:202: ConvergenceWarning: newton-cg failed to converge. Increase the number of iterations.\n",
      "  warnings.warn(\"newton-cg failed to converge. Increase the \"\n",
      "/opt/conda/lib/python3.9/site-packages/sklearn/linear_model/_logistic.py:763: ConvergenceWarning: lbfgs failed to converge (status=1):\n",
      "STOP: TOTAL NO. of ITERATIONS REACHED LIMIT.\n",
      "\n",
      "Increase the number of iterations (max_iter) or scale the data as shown in:\n",
      "    https://scikit-learn.org/stable/modules/preprocessing.html\n",
      "Please also refer to the documentation for alternative solver options:\n",
      "    https://scikit-learn.org/stable/modules/linear_model.html#logistic-regression\n",
      "  n_iter_i = _check_optimize_result(\n",
      "/opt/conda/lib/python3.9/site-packages/sklearn/linear_model/_logistic.py:763: ConvergenceWarning: lbfgs failed to converge (status=1):\n",
      "STOP: TOTAL NO. of ITERATIONS REACHED LIMIT.\n",
      "\n",
      "Increase the number of iterations (max_iter) or scale the data as shown in:\n",
      "    https://scikit-learn.org/stable/modules/preprocessing.html\n",
      "Please also refer to the documentation for alternative solver options:\n",
      "    https://scikit-learn.org/stable/modules/linear_model.html#logistic-regression\n",
      "  n_iter_i = _check_optimize_result(\n",
      "/opt/conda/lib/python3.9/site-packages/sklearn/linear_model/_logistic.py:763: ConvergenceWarning: lbfgs failed to converge (status=1):\n",
      "STOP: TOTAL NO. of ITERATIONS REACHED LIMIT.\n",
      "\n",
      "Increase the number of iterations (max_iter) or scale the data as shown in:\n",
      "    https://scikit-learn.org/stable/modules/preprocessing.html\n",
      "Please also refer to the documentation for alternative solver options:\n",
      "    https://scikit-learn.org/stable/modules/linear_model.html#logistic-regression\n",
      "  n_iter_i = _check_optimize_result(\n",
      "/opt/conda/lib/python3.9/site-packages/sklearn/linear_model/_logistic.py:763: ConvergenceWarning: lbfgs failed to converge (status=1):\n",
      "STOP: TOTAL NO. of ITERATIONS REACHED LIMIT.\n",
      "\n",
      "Increase the number of iterations (max_iter) or scale the data as shown in:\n",
      "    https://scikit-learn.org/stable/modules/preprocessing.html\n",
      "Please also refer to the documentation for alternative solver options:\n",
      "    https://scikit-learn.org/stable/modules/linear_model.html#logistic-regression\n",
      "  n_iter_i = _check_optimize_result(\n",
      "/opt/conda/lib/python3.9/site-packages/sklearn/linear_model/_logistic.py:763: ConvergenceWarning: lbfgs failed to converge (status=1):\n",
      "STOP: TOTAL NO. of ITERATIONS REACHED LIMIT.\n",
      "\n",
      "Increase the number of iterations (max_iter) or scale the data as shown in:\n",
      "    https://scikit-learn.org/stable/modules/preprocessing.html\n",
      "Please also refer to the documentation for alternative solver options:\n",
      "    https://scikit-learn.org/stable/modules/linear_model.html#logistic-regression\n",
      "  n_iter_i = _check_optimize_result(\n",
      "/opt/conda/lib/python3.9/site-packages/sklearn/svm/_base.py:985: ConvergenceWarning: Liblinear failed to converge, increase the number of iterations.\n",
      "  warnings.warn(\"Liblinear failed to converge, increase \"\n",
      "/opt/conda/lib/python3.9/site-packages/sklearn/svm/_base.py:985: ConvergenceWarning: Liblinear failed to converge, increase the number of iterations.\n",
      "  warnings.warn(\"Liblinear failed to converge, increase \"\n",
      "/opt/conda/lib/python3.9/site-packages/sklearn/svm/_base.py:985: ConvergenceWarning: Liblinear failed to converge, increase the number of iterations.\n",
      "  warnings.warn(\"Liblinear failed to converge, increase \"\n",
      "/opt/conda/lib/python3.9/site-packages/sklearn/svm/_base.py:985: ConvergenceWarning: Liblinear failed to converge, increase the number of iterations.\n",
      "  warnings.warn(\"Liblinear failed to converge, increase \"\n",
      "/opt/conda/lib/python3.9/site-packages/sklearn/svm/_base.py:985: ConvergenceWarning: Liblinear failed to converge, increase the number of iterations.\n",
      "  warnings.warn(\"Liblinear failed to converge, increase \"\n",
      "/opt/conda/lib/python3.9/site-packages/sklearn/linear_model/_sag.py:328: ConvergenceWarning: The max_iter was reached which means the coef_ did not converge\n",
      "  warnings.warn(\"The max_iter was reached which means \"\n",
      "/opt/conda/lib/python3.9/site-packages/sklearn/linear_model/_sag.py:328: ConvergenceWarning: The max_iter was reached which means the coef_ did not converge\n",
      "  warnings.warn(\"The max_iter was reached which means \"\n",
      "/opt/conda/lib/python3.9/site-packages/sklearn/linear_model/_sag.py:328: ConvergenceWarning: The max_iter was reached which means the coef_ did not converge\n",
      "  warnings.warn(\"The max_iter was reached which means \"\n",
      "/opt/conda/lib/python3.9/site-packages/sklearn/linear_model/_sag.py:328: ConvergenceWarning: The max_iter was reached which means the coef_ did not converge\n",
      "  warnings.warn(\"The max_iter was reached which means \"\n",
      "/opt/conda/lib/python3.9/site-packages/sklearn/linear_model/_sag.py:328: ConvergenceWarning: The max_iter was reached which means the coef_ did not converge\n",
      "  warnings.warn(\"The max_iter was reached which means \"\n",
      "/opt/conda/lib/python3.9/site-packages/sklearn/linear_model/_sag.py:328: ConvergenceWarning: The max_iter was reached which means the coef_ did not converge\n",
      "  warnings.warn(\"The max_iter was reached which means \"\n",
      "/opt/conda/lib/python3.9/site-packages/sklearn/linear_model/_sag.py:328: ConvergenceWarning: The max_iter was reached which means the coef_ did not converge\n",
      "  warnings.warn(\"The max_iter was reached which means \"\n",
      "/opt/conda/lib/python3.9/site-packages/sklearn/linear_model/_sag.py:328: ConvergenceWarning: The max_iter was reached which means the coef_ did not converge\n",
      "  warnings.warn(\"The max_iter was reached which means \"\n",
      "/opt/conda/lib/python3.9/site-packages/sklearn/linear_model/_sag.py:328: ConvergenceWarning: The max_iter was reached which means the coef_ did not converge\n",
      "  warnings.warn(\"The max_iter was reached which means \"\n",
      "/opt/conda/lib/python3.9/site-packages/sklearn/linear_model/_sag.py:328: ConvergenceWarning: The max_iter was reached which means the coef_ did not converge\n",
      "  warnings.warn(\"The max_iter was reached which means \"\n",
      "/opt/conda/lib/python3.9/site-packages/sklearn/utils/optimize.py:202: ConvergenceWarning: newton-cg failed to converge. Increase the number of iterations.\n",
      "  warnings.warn(\"newton-cg failed to converge. Increase the \"\n",
      "/opt/conda/lib/python3.9/site-packages/sklearn/utils/optimize.py:202: ConvergenceWarning: newton-cg failed to converge. Increase the number of iterations.\n",
      "  warnings.warn(\"newton-cg failed to converge. Increase the \"\n",
      "/opt/conda/lib/python3.9/site-packages/sklearn/utils/optimize.py:202: ConvergenceWarning: newton-cg failed to converge. Increase the number of iterations.\n",
      "  warnings.warn(\"newton-cg failed to converge. Increase the \"\n",
      "/opt/conda/lib/python3.9/site-packages/sklearn/utils/optimize.py:202: ConvergenceWarning: newton-cg failed to converge. Increase the number of iterations.\n",
      "  warnings.warn(\"newton-cg failed to converge. Increase the \"\n",
      "/opt/conda/lib/python3.9/site-packages/sklearn/utils/optimize.py:202: ConvergenceWarning: newton-cg failed to converge. Increase the number of iterations.\n",
      "  warnings.warn(\"newton-cg failed to converge. Increase the \"\n",
      "/opt/conda/lib/python3.9/site-packages/sklearn/linear_model/_logistic.py:763: ConvergenceWarning: lbfgs failed to converge (status=1):\n",
      "STOP: TOTAL NO. of ITERATIONS REACHED LIMIT.\n",
      "\n",
      "Increase the number of iterations (max_iter) or scale the data as shown in:\n",
      "    https://scikit-learn.org/stable/modules/preprocessing.html\n",
      "Please also refer to the documentation for alternative solver options:\n",
      "    https://scikit-learn.org/stable/modules/linear_model.html#logistic-regression\n",
      "  n_iter_i = _check_optimize_result(\n",
      "/opt/conda/lib/python3.9/site-packages/sklearn/linear_model/_logistic.py:763: ConvergenceWarning: lbfgs failed to converge (status=1):\n",
      "STOP: TOTAL NO. of ITERATIONS REACHED LIMIT.\n",
      "\n",
      "Increase the number of iterations (max_iter) or scale the data as shown in:\n",
      "    https://scikit-learn.org/stable/modules/preprocessing.html\n",
      "Please also refer to the documentation for alternative solver options:\n",
      "    https://scikit-learn.org/stable/modules/linear_model.html#logistic-regression\n",
      "  n_iter_i = _check_optimize_result(\n",
      "/opt/conda/lib/python3.9/site-packages/sklearn/linear_model/_logistic.py:763: ConvergenceWarning: lbfgs failed to converge (status=1):\n",
      "STOP: TOTAL NO. of ITERATIONS REACHED LIMIT.\n",
      "\n",
      "Increase the number of iterations (max_iter) or scale the data as shown in:\n",
      "    https://scikit-learn.org/stable/modules/preprocessing.html\n",
      "Please also refer to the documentation for alternative solver options:\n",
      "    https://scikit-learn.org/stable/modules/linear_model.html#logistic-regression\n",
      "  n_iter_i = _check_optimize_result(\n",
      "/opt/conda/lib/python3.9/site-packages/sklearn/linear_model/_logistic.py:763: ConvergenceWarning: lbfgs failed to converge (status=1):\n",
      "STOP: TOTAL NO. of ITERATIONS REACHED LIMIT.\n",
      "\n",
      "Increase the number of iterations (max_iter) or scale the data as shown in:\n",
      "    https://scikit-learn.org/stable/modules/preprocessing.html\n",
      "Please also refer to the documentation for alternative solver options:\n",
      "    https://scikit-learn.org/stable/modules/linear_model.html#logistic-regression\n",
      "  n_iter_i = _check_optimize_result(\n",
      "/opt/conda/lib/python3.9/site-packages/sklearn/linear_model/_logistic.py:763: ConvergenceWarning: lbfgs failed to converge (status=1):\n",
      "STOP: TOTAL NO. of ITERATIONS REACHED LIMIT.\n",
      "\n",
      "Increase the number of iterations (max_iter) or scale the data as shown in:\n",
      "    https://scikit-learn.org/stable/modules/preprocessing.html\n",
      "Please also refer to the documentation for alternative solver options:\n",
      "    https://scikit-learn.org/stable/modules/linear_model.html#logistic-regression\n",
      "  n_iter_i = _check_optimize_result(\n",
      "/opt/conda/lib/python3.9/site-packages/sklearn/svm/_base.py:985: ConvergenceWarning: Liblinear failed to converge, increase the number of iterations.\n",
      "  warnings.warn(\"Liblinear failed to converge, increase \"\n",
      "/opt/conda/lib/python3.9/site-packages/sklearn/svm/_base.py:985: ConvergenceWarning: Liblinear failed to converge, increase the number of iterations.\n",
      "  warnings.warn(\"Liblinear failed to converge, increase \"\n",
      "/opt/conda/lib/python3.9/site-packages/sklearn/svm/_base.py:985: ConvergenceWarning: Liblinear failed to converge, increase the number of iterations.\n",
      "  warnings.warn(\"Liblinear failed to converge, increase \"\n",
      "/opt/conda/lib/python3.9/site-packages/sklearn/svm/_base.py:985: ConvergenceWarning: Liblinear failed to converge, increase the number of iterations.\n",
      "  warnings.warn(\"Liblinear failed to converge, increase \"\n",
      "/opt/conda/lib/python3.9/site-packages/sklearn/svm/_base.py:985: ConvergenceWarning: Liblinear failed to converge, increase the number of iterations.\n",
      "  warnings.warn(\"Liblinear failed to converge, increase \"\n",
      "/opt/conda/lib/python3.9/site-packages/sklearn/linear_model/_sag.py:328: ConvergenceWarning: The max_iter was reached which means the coef_ did not converge\n",
      "  warnings.warn(\"The max_iter was reached which means \"\n",
      "/opt/conda/lib/python3.9/site-packages/sklearn/linear_model/_sag.py:328: ConvergenceWarning: The max_iter was reached which means the coef_ did not converge\n",
      "  warnings.warn(\"The max_iter was reached which means \"\n",
      "/opt/conda/lib/python3.9/site-packages/sklearn/linear_model/_sag.py:328: ConvergenceWarning: The max_iter was reached which means the coef_ did not converge\n",
      "  warnings.warn(\"The max_iter was reached which means \"\n",
      "/opt/conda/lib/python3.9/site-packages/sklearn/linear_model/_sag.py:328: ConvergenceWarning: The max_iter was reached which means the coef_ did not converge\n",
      "  warnings.warn(\"The max_iter was reached which means \"\n",
      "/opt/conda/lib/python3.9/site-packages/sklearn/linear_model/_sag.py:328: ConvergenceWarning: The max_iter was reached which means the coef_ did not converge\n",
      "  warnings.warn(\"The max_iter was reached which means \"\n",
      "/opt/conda/lib/python3.9/site-packages/sklearn/linear_model/_sag.py:328: ConvergenceWarning: The max_iter was reached which means the coef_ did not converge\n",
      "  warnings.warn(\"The max_iter was reached which means \"\n",
      "/opt/conda/lib/python3.9/site-packages/sklearn/linear_model/_sag.py:328: ConvergenceWarning: The max_iter was reached which means the coef_ did not converge\n",
      "  warnings.warn(\"The max_iter was reached which means \"\n",
      "/opt/conda/lib/python3.9/site-packages/sklearn/linear_model/_sag.py:328: ConvergenceWarning: The max_iter was reached which means the coef_ did not converge\n",
      "  warnings.warn(\"The max_iter was reached which means \"\n",
      "/opt/conda/lib/python3.9/site-packages/sklearn/linear_model/_sag.py:328: ConvergenceWarning: The max_iter was reached which means the coef_ did not converge\n",
      "  warnings.warn(\"The max_iter was reached which means \"\n",
      "/opt/conda/lib/python3.9/site-packages/sklearn/linear_model/_sag.py:328: ConvergenceWarning: The max_iter was reached which means the coef_ did not converge\n",
      "  warnings.warn(\"The max_iter was reached which means \"\n",
      "/opt/conda/lib/python3.9/site-packages/sklearn/utils/optimize.py:202: ConvergenceWarning: newton-cg failed to converge. Increase the number of iterations.\n",
      "  warnings.warn(\"newton-cg failed to converge. Increase the \"\n",
      "/opt/conda/lib/python3.9/site-packages/sklearn/utils/optimize.py:202: ConvergenceWarning: newton-cg failed to converge. Increase the number of iterations.\n",
      "  warnings.warn(\"newton-cg failed to converge. Increase the \"\n",
      "/opt/conda/lib/python3.9/site-packages/sklearn/utils/optimize.py:202: ConvergenceWarning: newton-cg failed to converge. Increase the number of iterations.\n",
      "  warnings.warn(\"newton-cg failed to converge. Increase the \"\n",
      "/opt/conda/lib/python3.9/site-packages/sklearn/utils/optimize.py:202: ConvergenceWarning: newton-cg failed to converge. Increase the number of iterations.\n",
      "  warnings.warn(\"newton-cg failed to converge. Increase the \"\n",
      "/opt/conda/lib/python3.9/site-packages/sklearn/utils/optimize.py:202: ConvergenceWarning: newton-cg failed to converge. Increase the number of iterations.\n",
      "  warnings.warn(\"newton-cg failed to converge. Increase the \"\n",
      "/opt/conda/lib/python3.9/site-packages/sklearn/linear_model/_logistic.py:763: ConvergenceWarning: lbfgs failed to converge (status=1):\n",
      "STOP: TOTAL NO. of ITERATIONS REACHED LIMIT.\n",
      "\n",
      "Increase the number of iterations (max_iter) or scale the data as shown in:\n",
      "    https://scikit-learn.org/stable/modules/preprocessing.html\n",
      "Please also refer to the documentation for alternative solver options:\n",
      "    https://scikit-learn.org/stable/modules/linear_model.html#logistic-regression\n",
      "  n_iter_i = _check_optimize_result(\n",
      "/opt/conda/lib/python3.9/site-packages/sklearn/linear_model/_logistic.py:763: ConvergenceWarning: lbfgs failed to converge (status=1):\n",
      "STOP: TOTAL NO. of ITERATIONS REACHED LIMIT.\n",
      "\n",
      "Increase the number of iterations (max_iter) or scale the data as shown in:\n",
      "    https://scikit-learn.org/stable/modules/preprocessing.html\n",
      "Please also refer to the documentation for alternative solver options:\n",
      "    https://scikit-learn.org/stable/modules/linear_model.html#logistic-regression\n",
      "  n_iter_i = _check_optimize_result(\n",
      "/opt/conda/lib/python3.9/site-packages/sklearn/linear_model/_logistic.py:763: ConvergenceWarning: lbfgs failed to converge (status=1):\n",
      "STOP: TOTAL NO. of ITERATIONS REACHED LIMIT.\n",
      "\n",
      "Increase the number of iterations (max_iter) or scale the data as shown in:\n",
      "    https://scikit-learn.org/stable/modules/preprocessing.html\n",
      "Please also refer to the documentation for alternative solver options:\n",
      "    https://scikit-learn.org/stable/modules/linear_model.html#logistic-regression\n",
      "  n_iter_i = _check_optimize_result(\n",
      "/opt/conda/lib/python3.9/site-packages/sklearn/linear_model/_logistic.py:763: ConvergenceWarning: lbfgs failed to converge (status=1):\n",
      "STOP: TOTAL NO. of ITERATIONS REACHED LIMIT.\n",
      "\n",
      "Increase the number of iterations (max_iter) or scale the data as shown in:\n",
      "    https://scikit-learn.org/stable/modules/preprocessing.html\n",
      "Please also refer to the documentation for alternative solver options:\n",
      "    https://scikit-learn.org/stable/modules/linear_model.html#logistic-regression\n",
      "  n_iter_i = _check_optimize_result(\n",
      "/opt/conda/lib/python3.9/site-packages/sklearn/linear_model/_logistic.py:763: ConvergenceWarning: lbfgs failed to converge (status=1):\n",
      "STOP: TOTAL NO. of ITERATIONS REACHED LIMIT.\n",
      "\n",
      "Increase the number of iterations (max_iter) or scale the data as shown in:\n",
      "    https://scikit-learn.org/stable/modules/preprocessing.html\n",
      "Please also refer to the documentation for alternative solver options:\n",
      "    https://scikit-learn.org/stable/modules/linear_model.html#logistic-regression\n",
      "  n_iter_i = _check_optimize_result(\n",
      "/opt/conda/lib/python3.9/site-packages/sklearn/linear_model/_sag.py:328: ConvergenceWarning: The max_iter was reached which means the coef_ did not converge\n",
      "  warnings.warn(\"The max_iter was reached which means \"\n",
      "/opt/conda/lib/python3.9/site-packages/sklearn/linear_model/_sag.py:328: ConvergenceWarning: The max_iter was reached which means the coef_ did not converge\n",
      "  warnings.warn(\"The max_iter was reached which means \"\n",
      "/opt/conda/lib/python3.9/site-packages/sklearn/linear_model/_sag.py:328: ConvergenceWarning: The max_iter was reached which means the coef_ did not converge\n",
      "  warnings.warn(\"The max_iter was reached which means \"\n",
      "/opt/conda/lib/python3.9/site-packages/sklearn/linear_model/_sag.py:328: ConvergenceWarning: The max_iter was reached which means the coef_ did not converge\n",
      "  warnings.warn(\"The max_iter was reached which means \"\n",
      "/opt/conda/lib/python3.9/site-packages/sklearn/linear_model/_sag.py:328: ConvergenceWarning: The max_iter was reached which means the coef_ did not converge\n",
      "  warnings.warn(\"The max_iter was reached which means \"\n",
      "/opt/conda/lib/python3.9/site-packages/sklearn/linear_model/_sag.py:328: ConvergenceWarning: The max_iter was reached which means the coef_ did not converge\n",
      "  warnings.warn(\"The max_iter was reached which means \"\n",
      "/opt/conda/lib/python3.9/site-packages/sklearn/linear_model/_sag.py:328: ConvergenceWarning: The max_iter was reached which means the coef_ did not converge\n",
      "  warnings.warn(\"The max_iter was reached which means \"\n",
      "/opt/conda/lib/python3.9/site-packages/sklearn/linear_model/_sag.py:328: ConvergenceWarning: The max_iter was reached which means the coef_ did not converge\n",
      "  warnings.warn(\"The max_iter was reached which means \"\n",
      "/opt/conda/lib/python3.9/site-packages/sklearn/linear_model/_sag.py:328: ConvergenceWarning: The max_iter was reached which means the coef_ did not converge\n",
      "  warnings.warn(\"The max_iter was reached which means \"\n",
      "/opt/conda/lib/python3.9/site-packages/sklearn/linear_model/_sag.py:328: ConvergenceWarning: The max_iter was reached which means the coef_ did not converge\n",
      "  warnings.warn(\"The max_iter was reached which means \"\n",
      "/opt/conda/lib/python3.9/site-packages/sklearn/utils/optimize.py:202: ConvergenceWarning: newton-cg failed to converge. Increase the number of iterations.\n",
      "  warnings.warn(\"newton-cg failed to converge. Increase the \"\n",
      "/opt/conda/lib/python3.9/site-packages/sklearn/utils/optimize.py:202: ConvergenceWarning: newton-cg failed to converge. Increase the number of iterations.\n",
      "  warnings.warn(\"newton-cg failed to converge. Increase the \"\n",
      "/opt/conda/lib/python3.9/site-packages/sklearn/utils/optimize.py:202: ConvergenceWarning: newton-cg failed to converge. Increase the number of iterations.\n",
      "  warnings.warn(\"newton-cg failed to converge. Increase the \"\n",
      "/opt/conda/lib/python3.9/site-packages/sklearn/utils/optimize.py:202: ConvergenceWarning: newton-cg failed to converge. Increase the number of iterations.\n",
      "  warnings.warn(\"newton-cg failed to converge. Increase the \"\n",
      "/opt/conda/lib/python3.9/site-packages/sklearn/utils/optimize.py:202: ConvergenceWarning: newton-cg failed to converge. Increase the number of iterations.\n",
      "  warnings.warn(\"newton-cg failed to converge. Increase the \"\n",
      "/opt/conda/lib/python3.9/site-packages/sklearn/linear_model/_logistic.py:763: ConvergenceWarning: lbfgs failed to converge (status=1):\n",
      "STOP: TOTAL NO. of ITERATIONS REACHED LIMIT.\n",
      "\n",
      "Increase the number of iterations (max_iter) or scale the data as shown in:\n",
      "    https://scikit-learn.org/stable/modules/preprocessing.html\n",
      "Please also refer to the documentation for alternative solver options:\n",
      "    https://scikit-learn.org/stable/modules/linear_model.html#logistic-regression\n",
      "  n_iter_i = _check_optimize_result(\n",
      "/opt/conda/lib/python3.9/site-packages/sklearn/linear_model/_logistic.py:763: ConvergenceWarning: lbfgs failed to converge (status=1):\n",
      "STOP: TOTAL NO. of ITERATIONS REACHED LIMIT.\n",
      "\n",
      "Increase the number of iterations (max_iter) or scale the data as shown in:\n",
      "    https://scikit-learn.org/stable/modules/preprocessing.html\n",
      "Please also refer to the documentation for alternative solver options:\n",
      "    https://scikit-learn.org/stable/modules/linear_model.html#logistic-regression\n",
      "  n_iter_i = _check_optimize_result(\n",
      "/opt/conda/lib/python3.9/site-packages/sklearn/linear_model/_logistic.py:763: ConvergenceWarning: lbfgs failed to converge (status=1):\n",
      "STOP: TOTAL NO. of ITERATIONS REACHED LIMIT.\n",
      "\n",
      "Increase the number of iterations (max_iter) or scale the data as shown in:\n",
      "    https://scikit-learn.org/stable/modules/preprocessing.html\n",
      "Please also refer to the documentation for alternative solver options:\n",
      "    https://scikit-learn.org/stable/modules/linear_model.html#logistic-regression\n",
      "  n_iter_i = _check_optimize_result(\n",
      "/opt/conda/lib/python3.9/site-packages/sklearn/linear_model/_logistic.py:763: ConvergenceWarning: lbfgs failed to converge (status=1):\n",
      "STOP: TOTAL NO. of ITERATIONS REACHED LIMIT.\n",
      "\n",
      "Increase the number of iterations (max_iter) or scale the data as shown in:\n",
      "    https://scikit-learn.org/stable/modules/preprocessing.html\n",
      "Please also refer to the documentation for alternative solver options:\n",
      "    https://scikit-learn.org/stable/modules/linear_model.html#logistic-regression\n",
      "  n_iter_i = _check_optimize_result(\n",
      "/opt/conda/lib/python3.9/site-packages/sklearn/linear_model/_logistic.py:763: ConvergenceWarning: lbfgs failed to converge (status=1):\n",
      "STOP: TOTAL NO. of ITERATIONS REACHED LIMIT.\n",
      "\n",
      "Increase the number of iterations (max_iter) or scale the data as shown in:\n",
      "    https://scikit-learn.org/stable/modules/preprocessing.html\n",
      "Please also refer to the documentation for alternative solver options:\n",
      "    https://scikit-learn.org/stable/modules/linear_model.html#logistic-regression\n",
      "  n_iter_i = _check_optimize_result(\n",
      "/opt/conda/lib/python3.9/site-packages/sklearn/linear_model/_sag.py:328: ConvergenceWarning: The max_iter was reached which means the coef_ did not converge\n",
      "  warnings.warn(\"The max_iter was reached which means \"\n",
      "/opt/conda/lib/python3.9/site-packages/sklearn/linear_model/_sag.py:328: ConvergenceWarning: The max_iter was reached which means the coef_ did not converge\n",
      "  warnings.warn(\"The max_iter was reached which means \"\n",
      "/opt/conda/lib/python3.9/site-packages/sklearn/linear_model/_sag.py:328: ConvergenceWarning: The max_iter was reached which means the coef_ did not converge\n",
      "  warnings.warn(\"The max_iter was reached which means \"\n",
      "/opt/conda/lib/python3.9/site-packages/sklearn/linear_model/_sag.py:328: ConvergenceWarning: The max_iter was reached which means the coef_ did not converge\n",
      "  warnings.warn(\"The max_iter was reached which means \"\n",
      "/opt/conda/lib/python3.9/site-packages/sklearn/linear_model/_sag.py:328: ConvergenceWarning: The max_iter was reached which means the coef_ did not converge\n",
      "  warnings.warn(\"The max_iter was reached which means \"\n",
      "/opt/conda/lib/python3.9/site-packages/sklearn/linear_model/_sag.py:328: ConvergenceWarning: The max_iter was reached which means the coef_ did not converge\n",
      "  warnings.warn(\"The max_iter was reached which means \"\n",
      "/opt/conda/lib/python3.9/site-packages/sklearn/linear_model/_sag.py:328: ConvergenceWarning: The max_iter was reached which means the coef_ did not converge\n",
      "  warnings.warn(\"The max_iter was reached which means \"\n",
      "/opt/conda/lib/python3.9/site-packages/sklearn/linear_model/_sag.py:328: ConvergenceWarning: The max_iter was reached which means the coef_ did not converge\n",
      "  warnings.warn(\"The max_iter was reached which means \"\n",
      "/opt/conda/lib/python3.9/site-packages/sklearn/linear_model/_sag.py:328: ConvergenceWarning: The max_iter was reached which means the coef_ did not converge\n",
      "  warnings.warn(\"The max_iter was reached which means \"\n",
      "/opt/conda/lib/python3.9/site-packages/sklearn/linear_model/_sag.py:328: ConvergenceWarning: The max_iter was reached which means the coef_ did not converge\n",
      "  warnings.warn(\"The max_iter was reached which means \"\n",
      "/opt/conda/lib/python3.9/site-packages/sklearn/utils/optimize.py:202: ConvergenceWarning: newton-cg failed to converge. Increase the number of iterations.\n",
      "  warnings.warn(\"newton-cg failed to converge. Increase the \"\n",
      "/opt/conda/lib/python3.9/site-packages/sklearn/utils/optimize.py:202: ConvergenceWarning: newton-cg failed to converge. Increase the number of iterations.\n",
      "  warnings.warn(\"newton-cg failed to converge. Increase the \"\n",
      "/opt/conda/lib/python3.9/site-packages/sklearn/utils/optimize.py:202: ConvergenceWarning: newton-cg failed to converge. Increase the number of iterations.\n",
      "  warnings.warn(\"newton-cg failed to converge. Increase the \"\n",
      "/opt/conda/lib/python3.9/site-packages/sklearn/utils/optimize.py:202: ConvergenceWarning: newton-cg failed to converge. Increase the number of iterations.\n",
      "  warnings.warn(\"newton-cg failed to converge. Increase the \"\n",
      "/opt/conda/lib/python3.9/site-packages/sklearn/utils/optimize.py:202: ConvergenceWarning: newton-cg failed to converge. Increase the number of iterations.\n",
      "  warnings.warn(\"newton-cg failed to converge. Increase the \"\n",
      "/opt/conda/lib/python3.9/site-packages/sklearn/linear_model/_logistic.py:763: ConvergenceWarning: lbfgs failed to converge (status=1):\n",
      "STOP: TOTAL NO. of ITERATIONS REACHED LIMIT.\n",
      "\n",
      "Increase the number of iterations (max_iter) or scale the data as shown in:\n",
      "    https://scikit-learn.org/stable/modules/preprocessing.html\n",
      "Please also refer to the documentation for alternative solver options:\n",
      "    https://scikit-learn.org/stable/modules/linear_model.html#logistic-regression\n",
      "  n_iter_i = _check_optimize_result(\n",
      "/opt/conda/lib/python3.9/site-packages/sklearn/linear_model/_logistic.py:763: ConvergenceWarning: lbfgs failed to converge (status=1):\n",
      "STOP: TOTAL NO. of ITERATIONS REACHED LIMIT.\n",
      "\n",
      "Increase the number of iterations (max_iter) or scale the data as shown in:\n",
      "    https://scikit-learn.org/stable/modules/preprocessing.html\n",
      "Please also refer to the documentation for alternative solver options:\n",
      "    https://scikit-learn.org/stable/modules/linear_model.html#logistic-regression\n",
      "  n_iter_i = _check_optimize_result(\n",
      "/opt/conda/lib/python3.9/site-packages/sklearn/linear_model/_logistic.py:763: ConvergenceWarning: lbfgs failed to converge (status=1):\n",
      "STOP: TOTAL NO. of ITERATIONS REACHED LIMIT.\n",
      "\n",
      "Increase the number of iterations (max_iter) or scale the data as shown in:\n",
      "    https://scikit-learn.org/stable/modules/preprocessing.html\n",
      "Please also refer to the documentation for alternative solver options:\n",
      "    https://scikit-learn.org/stable/modules/linear_model.html#logistic-regression\n",
      "  n_iter_i = _check_optimize_result(\n",
      "/opt/conda/lib/python3.9/site-packages/sklearn/linear_model/_logistic.py:763: ConvergenceWarning: lbfgs failed to converge (status=1):\n",
      "STOP: TOTAL NO. of ITERATIONS REACHED LIMIT.\n",
      "\n",
      "Increase the number of iterations (max_iter) or scale the data as shown in:\n",
      "    https://scikit-learn.org/stable/modules/preprocessing.html\n",
      "Please also refer to the documentation for alternative solver options:\n",
      "    https://scikit-learn.org/stable/modules/linear_model.html#logistic-regression\n",
      "  n_iter_i = _check_optimize_result(\n",
      "/opt/conda/lib/python3.9/site-packages/sklearn/linear_model/_logistic.py:763: ConvergenceWarning: lbfgs failed to converge (status=1):\n",
      "STOP: TOTAL NO. of ITERATIONS REACHED LIMIT.\n",
      "\n",
      "Increase the number of iterations (max_iter) or scale the data as shown in:\n",
      "    https://scikit-learn.org/stable/modules/preprocessing.html\n",
      "Please also refer to the documentation for alternative solver options:\n",
      "    https://scikit-learn.org/stable/modules/linear_model.html#logistic-regression\n",
      "  n_iter_i = _check_optimize_result(\n",
      "/opt/conda/lib/python3.9/site-packages/sklearn/linear_model/_sag.py:328: ConvergenceWarning: The max_iter was reached which means the coef_ did not converge\n",
      "  warnings.warn(\"The max_iter was reached which means \"\n",
      "/opt/conda/lib/python3.9/site-packages/sklearn/linear_model/_sag.py:328: ConvergenceWarning: The max_iter was reached which means the coef_ did not converge\n",
      "  warnings.warn(\"The max_iter was reached which means \"\n",
      "/opt/conda/lib/python3.9/site-packages/sklearn/linear_model/_sag.py:328: ConvergenceWarning: The max_iter was reached which means the coef_ did not converge\n",
      "  warnings.warn(\"The max_iter was reached which means \"\n",
      "/opt/conda/lib/python3.9/site-packages/sklearn/linear_model/_sag.py:328: ConvergenceWarning: The max_iter was reached which means the coef_ did not converge\n",
      "  warnings.warn(\"The max_iter was reached which means \"\n",
      "/opt/conda/lib/python3.9/site-packages/sklearn/linear_model/_sag.py:328: ConvergenceWarning: The max_iter was reached which means the coef_ did not converge\n",
      "  warnings.warn(\"The max_iter was reached which means \"\n",
      "/opt/conda/lib/python3.9/site-packages/sklearn/linear_model/_sag.py:328: ConvergenceWarning: The max_iter was reached which means the coef_ did not converge\n",
      "  warnings.warn(\"The max_iter was reached which means \"\n",
      "/opt/conda/lib/python3.9/site-packages/sklearn/linear_model/_sag.py:328: ConvergenceWarning: The max_iter was reached which means the coef_ did not converge\n",
      "  warnings.warn(\"The max_iter was reached which means \"\n",
      "/opt/conda/lib/python3.9/site-packages/sklearn/linear_model/_sag.py:328: ConvergenceWarning: The max_iter was reached which means the coef_ did not converge\n",
      "  warnings.warn(\"The max_iter was reached which means \"\n",
      "/opt/conda/lib/python3.9/site-packages/sklearn/linear_model/_sag.py:328: ConvergenceWarning: The max_iter was reached which means the coef_ did not converge\n",
      "  warnings.warn(\"The max_iter was reached which means \"\n",
      "/opt/conda/lib/python3.9/site-packages/sklearn/linear_model/_sag.py:328: ConvergenceWarning: The max_iter was reached which means the coef_ did not converge\n",
      "  warnings.warn(\"The max_iter was reached which means \"\n",
      "/opt/conda/lib/python3.9/site-packages/sklearn/linear_model/_sag.py:328: ConvergenceWarning: The max_iter was reached which means the coef_ did not converge\n",
      "  warnings.warn(\"The max_iter was reached which means \"\n"
     ]
    },
    {
     "name": "stdout",
     "output_type": "stream",
     "text": [
      "{'max_iter': 6, 'solver': 'sag'}\n",
      "F1: 0.35068562932443303\n",
      "AUC-ROC: 0.5501098877876629\n",
      "CPU times: user 9.94 s, sys: 12.9 s, total: 22.8 s\n",
      "Wall time: 23 s\n"
     ]
    }
   ],
   "source": [
    "%%time\n",
    "# Подбор гиперпараметров\n",
    "parametrs = {'solver': ['newton-cg','lbfgs','liblinear', 'sag', 'saga'],\n",
    "            'max_iter':range(5, 10, 1)}\n",
    "model_logistic_regression = LogisticRegression(random_state=12345)\n",
    "grid_model = GridSearchCV(model_logistic_regression, parametrs, scoring ='f1' )\n",
    "grid_model.fit(features_train,target_train)\n",
    "predictions_logistic_regression = grid_model.predict(features_valid)\n",
    "print(grid_model.best_params_)\n",
    "print(\"F1:\",grid_model.best_score_)\n",
    "print(\"AUC-ROC:\", roc_auc_score(target_valid,predictions_logistic_regression))"
   ]
  },
  {
   "cell_type": "code",
   "execution_count": 24,
   "metadata": {},
   "outputs": [],
   "source": [
    "best_model_logistic_regression = grid_model.best_estimator_"
   ]
  },
  {
   "cell_type": "code",
   "execution_count": 25,
   "metadata": {},
   "outputs": [
    {
     "name": "stdout",
     "output_type": "stream",
     "text": [
      "F1: 0.5024356297842729\n"
     ]
    },
    {
     "name": "stderr",
     "output_type": "stream",
     "text": [
      "/opt/conda/lib/python3.9/site-packages/sklearn/linear_model/_sag.py:328: ConvergenceWarning: The max_iter was reached which means the coef_ did not converge\n",
      "  warnings.warn(\"The max_iter was reached which means \"\n"
     ]
    }
   ],
   "source": [
    "#Взвешивание классов\n",
    "best_model_logistic_regression_weighted = LogisticRegression(random_state=12345, solver='sag', max_iter=6,\n",
    "                                               class_weight='balanced') \n",
    "best_model_logistic_regression_weighted.fit(features_train,target_train) \n",
    "predictions_logistic_regression_weighted = best_model_logistic_regression_weighted.predict(features_valid)\n",
    "\n",
    "print(\"F1:\", f1_score(target_valid, predictions_logistic_regression_weighted))"
   ]
  },
  {
   "cell_type": "code",
   "execution_count": 26,
   "metadata": {},
   "outputs": [
    {
     "name": "stdout",
     "output_type": "stream",
     "text": [
      "F1: 0.5077720207253886\n"
     ]
    },
    {
     "name": "stderr",
     "output_type": "stream",
     "text": [
      "/opt/conda/lib/python3.9/site-packages/sklearn/linear_model/_sag.py:328: ConvergenceWarning: The max_iter was reached which means the coef_ did not converge\n",
      "  warnings.warn(\"The max_iter was reached which means \"\n"
     ]
    }
   ],
   "source": [
    "#Увеличение выборки\n",
    "def upsample(features, target, repeat):\n",
    "    features_zeros = features[target == 0]\n",
    "    features_ones = features[target == 1]\n",
    "    target_zeros = target[target == 0]\n",
    "    target_ones = target[target == 1]\n",
    "\n",
    "    features_upsampled = pd.concat([features_zeros] + [features_ones] * repeat)\n",
    "    target_upsampled = pd.concat([target_zeros] + [target_ones] * repeat)\n",
    "    \n",
    "    features_upsampled, target_upsampled = shuffle(\n",
    "        features_upsampled, target_upsampled, random_state=12345)\n",
    "    \n",
    "    return features_upsampled, target_upsampled\n",
    "\n",
    "features_upsampled, target_upsampled = upsample(features_train, target_train, 4)\n",
    "\n",
    "best_model_logistic_regression.fit(features_upsampled, target_upsampled)\n",
    "predictions_logistic_regression_upsample = best_model_logistic_regression.predict(features_valid)\n",
    "\n",
    "\n",
    "print(\"F1:\", f1_score(target_valid, predictions_logistic_regression_upsample))"
   ]
  },
  {
   "cell_type": "code",
   "execution_count": 27,
   "metadata": {},
   "outputs": [
    {
     "data": {
      "text/plain": [
       "<AxesSubplot:>"
      ]
     },
     "execution_count": 27,
     "metadata": {},
     "output_type": "execute_result"
    },
    {
     "data": {
      "image/png": "[encoded data removed]",
      "text/plain": [
       "<Figure size 432x288 with 1 Axes>"
      ]
     },
     "metadata": {
      "needs_background": "light"
     },
     "output_type": "display_data"
    }
   ],
   "source": [
    "class_target_upsampled = target_upsampled.value_counts(normalize=True)\n",
    "class_target_upsampled.plot(kind='bar')"
   ]
  },
  {
   "cell_type": "code",
   "execution_count": 28,
   "metadata": {},
   "outputs": [
    {
     "name": "stdout",
     "output_type": "stream",
     "text": [
      "F1: 0.5125268432355046\n"
     ]
    },
    {
     "name": "stderr",
     "output_type": "stream",
     "text": [
      "/opt/conda/lib/python3.9/site-packages/sklearn/linear_model/_sag.py:328: ConvergenceWarning: The max_iter was reached which means the coef_ did not converge\n",
      "  warnings.warn(\"The max_iter was reached which means \"\n"
     ]
    }
   ],
   "source": [
    "#Уменьшение выборки\n",
    "def downsample(features, target, fraction):\n",
    "    features_zeros = features[target == 0]\n",
    "    features_ones = features[target == 1]\n",
    "    target_zeros = target[target == 0]\n",
    "    target_ones = target[target == 1]\n",
    "\n",
    "    features_downsampled = pd.concat(\n",
    "        [features_zeros.sample(frac=fraction, random_state=12345)] + [features_ones])\n",
    "    target_downsampled = pd.concat(\n",
    "        [target_zeros.sample(frac=fraction, random_state=12345)] + [target_ones])\n",
    "    \n",
    "    features_downsampled, target_downsampled = shuffle(\n",
    "        features_downsampled, target_downsampled, random_state=12345)\n",
    "    \n",
    "    return features_downsampled, target_downsampled\n",
    "\n",
    "features_downsampled, target_downsampled = downsample(features_train, target_train, 0.25)\n",
    "\n",
    "best_model_logistic_regression.fit(features_downsampled, target_downsampled)\n",
    "predictions_logistic_regression_downsample = best_model_logistic_regression.predict(features_valid)\n",
    "\n",
    "print(\"F1:\", f1_score(target_valid, predictions_logistic_regression_downsample))"
   ]
  },
  {
   "cell_type": "code",
   "execution_count": 29,
   "metadata": {},
   "outputs": [
    {
     "data": {
      "text/plain": [
       "<AxesSubplot:>"
      ]
     },
     "execution_count": 29,
     "metadata": {},
     "output_type": "execute_result"
    },
    {
     "data": {
      "image/png": "[encoded data removed]",
      "text/plain": [
       "<Figure size 432x288 with 1 Axes>"
      ]
     },
     "metadata": {
      "needs_background": "light"
     },
     "output_type": "display_data"
    }
   ],
   "source": [
    "class_target_downsampled = target_downsampled.value_counts(normalize=True)\n",
    "class_target_downsampled.plot(kind='bar')"
   ]
  },
  {
   "cell_type": "code",
   "execution_count": 30,
   "metadata": {},
   "outputs": [
    {
     "name": "stdout",
     "output_type": "stream",
     "text": [
      "ROC-AUC: 0.7588080462280078\n"
     ]
    },
    {
     "data": {
      "image/png": "[encoded data removed]",
      "text/plain": [
       "<Figure size 432x288 with 1 Axes>"
      ]
     },
     "metadata": {
      "needs_background": "light"
     },
     "output_type": "display_data"
    }
   ],
   "source": [
    "plt_roc_curve(best_model_logistic_regression, features_valid, target_valid) "
   ]
  },
  {
   "cell_type": "markdown",
   "metadata": {},
   "source": [
    "**Вывод:** При подборе гиперпараметров в Логистической регрессии лучшими параметрами оказались \"max_iter\"- 6, \"solver\" - 'sag' и значением F1-меры 0.35 на несбалансированных данных.</font><br>\n",
    "Наилучшим показателем F1-меры 0.513 оказалось при уменьшении выборки."
   ]
  },
  {
   "cell_type": "markdown",
   "metadata": {},
   "source": [
    "### Решающее дерево"
   ]
  },
  {
   "cell_type": "code",
   "execution_count": 31,
   "metadata": {},
   "outputs": [
    {
     "name": "stdout",
     "output_type": "stream",
     "text": [
      "{'criterion': 'gini', 'max_depth': 7}\n",
      "F1: 0.5419242411415268\n",
      "CPU times: user 710 ms, sys: 0 ns, total: 710 ms\n",
      "Wall time: 816 ms\n"
     ]
    }
   ],
   "source": [
    "%%time\n",
    "# Подбор гиперпараметров\n",
    "parametrs = {'criterion': ['entropy', 'gini'],\n",
    "            'max_depth':range(1, 10, 2)}\n",
    "model_decision_tree = DecisionTreeClassifier(random_state=12345)\n",
    "grid_model = GridSearchCV(model_decision_tree, parametrs, scoring ='f1' )\n",
    "grid_model.fit(features_train,target_train)\n",
    "predictions_decision_tree = grid_model.predict(features_valid)\n",
    "print(grid_model.best_params_)\n",
    "print(\"F1:\",grid_model.best_score_)"
   ]
  },
  {
   "cell_type": "code",
   "execution_count": 32,
   "metadata": {},
   "outputs": [],
   "source": [
    "best_model_decision_tree = grid_model.best_estimator_"
   ]
  },
  {
   "cell_type": "code",
   "execution_count": 33,
   "metadata": {},
   "outputs": [
    {
     "name": "stdout",
     "output_type": "stream",
     "text": [
      "F1: 0.566358024691358\n"
     ]
    }
   ],
   "source": [
    "#Взвешивание классов\n",
    "model_decision_tree_weighted = DecisionTreeClassifier(random_state=12345, criterion ='gini', max_depth=6,class_weight='balanced')\n",
    "model_decision_tree_weighted.fit(features_train,target_train) \n",
    "predictions_decision_tree_weighted = model_decision_tree_weighted.predict(features_valid)\n",
    "print(\"F1:\", f1_score(target_valid, predictions_decision_tree_weighted))"
   ]
  },
  {
   "cell_type": "code",
   "execution_count": 34,
   "metadata": {},
   "outputs": [
    {
     "name": "stdout",
     "output_type": "stream",
     "text": [
      "F1: 0.579454253611557\n"
     ]
    }
   ],
   "source": [
    "#Увеличение выборки\n",
    "best_model_decision_tree.fit(features_upsampled, target_upsampled)\n",
    "predictions_decision_tree_upsample = best_model_decision_tree.predict(features_valid)\n",
    "\n",
    "print(\"F1:\", f1_score(target_valid, predictions_decision_tree_upsample))"
   ]
  },
  {
   "cell_type": "code",
   "execution_count": 35,
   "metadata": {},
   "outputs": [
    {
     "name": "stdout",
     "output_type": "stream",
     "text": [
      "F1: 0.5621716287215412\n"
     ]
    }
   ],
   "source": [
    "#Уменьшение выборки\n",
    "best_model_decision_tree.fit(features_downsampled, target_downsampled)\n",
    "predictions_decision_tree_downsample = best_model_decision_tree.predict(features_valid)\n",
    "\n",
    "print(\"F1:\", f1_score(target_valid, predictions_decision_tree_downsample))"
   ]
  },
  {
   "cell_type": "code",
   "execution_count": 36,
   "metadata": {},
   "outputs": [
    {
     "name": "stdout",
     "output_type": "stream",
     "text": [
      "ROC-AUC: 0.8038737793180852\n"
     ]
    },
    {
     "data": {
      "image/png": "[encoded data removed]",
      "text/plain": [
       "<Figure size 432x288 with 1 Axes>"
      ]
     },
     "metadata": {
      "needs_background": "light"
     },
     "output_type": "display_data"
    }
   ],
   "source": [
    "plt_roc_curve(best_model_decision_tree, features_valid, target_valid) "
   ]
  },
  {
   "cell_type": "markdown",
   "metadata": {},
   "source": [
    "**Вывод:** При подборе гиперпараметров в Решающем дереве лучшими параметрами оказались \"criterion\"- 'gini', \"max_depth\"- 7 и значением F1-меры 0.542 на несбалансированных данных.</font><br>\n",
    "Наилучшим показателем F1-меры 0.579 оказалось при увеличении выборки."
   ]
  },
  {
   "cell_type": "markdown",
   "metadata": {},
   "source": [
    "### Случайный лес"
   ]
  },
  {
   "cell_type": "code",
   "execution_count": 37,
   "metadata": {},
   "outputs": [],
   "source": [
    "#%%time\n",
    "# Подбор гиперпараметров\n",
    "\n",
    "#parametrs = {'n_estimators': range(1, 10, 1),'max_depth':range(10, 15, 1)}\n",
    "#model_random_fores = RandomForestClassifier(random_state=12345)\n",
    "#grid_model = GridSearchCV(model_random_fores, parametrs, scoring ='f1' )\n",
    "#grid_model.fit(features_train,target_train)\n",
    "#predictions_random_forest = grid_model.predict(features_valid)\n",
    "#print(grid_model.best_params_)\n",
    "#print(\"F1:\",grid_model.best_score_)\n",
    "#{'max_depth': 12, 'n_estimators': 7}\n",
    "#F1: 0.5553318307527724\n",
    "#CPU times: user 9.24 s, sys: 0 ns, total: 9.24 s\n",
    "#Wall time: 9.24 s"
   ]
  },
  {
   "cell_type": "code",
   "execution_count": 38,
   "metadata": {},
   "outputs": [
    {
     "name": "stdout",
     "output_type": "stream",
     "text": [
      "Accuracy наилучшей модели случайный лес на валидационной выборке: 0.8630559225011009\n",
      "Лучшее гиперпараметры модели случайный лес на валидационной выборки: RandomForestClassifier(max_depth=11, n_estimators=51, random_state=12345)\n"
     ]
    }
   ],
   "source": [
    "best_model_random_forest = None\n",
    "best_result_random_forest = 0\n",
    "for est in range(1, 60, 10):\n",
    "    for depth in range(1, 15, 2):\n",
    "        model_random_forest = RandomForestClassifier(random_state=12345, n_estimators=est, max_depth=depth)\n",
    "        model_random_forest.fit(features_train,target_train ) \n",
    "        result = model_random_forest.score(features_valid, target_valid)\n",
    "        if result > best_result_random_forest:\n",
    "            best_model_random_forest = model_random_forest\n",
    "            best_result_random_forest =result \n",
    "\n",
    "print(\"Accuracy наилучшей модели случайный лес на валидационной выборке:\", best_result_random_forest)\n",
    "print(\"Лучшее гиперпараметры модели случайный лес на валидационной выборки:\", best_model_random_forest)"
   ]
  },
  {
   "cell_type": "code",
   "execution_count": 39,
   "metadata": {},
   "outputs": [
    {
     "name": "stdout",
     "output_type": "stream",
     "text": [
      "F1: 0.5601131541725601\n"
     ]
    }
   ],
   "source": [
    "model_random_forest = RandomForestClassifier(random_state=12345, n_estimators=51, max_depth=11)\n",
    "model_random_forest.fit(features_train,target_train) \n",
    "predictions_random_forest = model_random_forest.predict(features_valid)\n",
    "\n",
    "print(\"F1:\", f1_score(target_valid, predictions_random_forest))"
   ]
  },
  {
   "cell_type": "code",
   "execution_count": 40,
   "metadata": {},
   "outputs": [
    {
     "name": "stdout",
     "output_type": "stream",
     "text": [
      "F1: 0.5992779783393503\n"
     ]
    }
   ],
   "source": [
    "#Взвешивание классов\n",
    "model_random_forest_weighted = RandomForestClassifier(random_state=12345, n_estimators=51, max_depth=11, \n",
    "                                             class_weight='balanced')\n",
    "model_random_forest_weighted.fit(features_train,target_train) \n",
    "predictions_random_forest_weighted = model_random_forest_weighted.predict(features_valid)\n",
    "f1_random_forest = f1_score(target_valid, predictions_random_forest_weighted)\n",
    "roc_au_random_forest = roc_auc_score(target_valid, predictions_random_forest_weighted) \n",
    "\n",
    "print(\"F1:\", f1_random_forest)"
   ]
  },
  {
   "cell_type": "code",
   "execution_count": 41,
   "metadata": {},
   "outputs": [
    {
     "name": "stdout",
     "output_type": "stream",
     "text": [
      "F1: 0.6275720164609053\n"
     ]
    }
   ],
   "source": [
    "#Увеличение выборки\n",
    "model_random_forest.fit(features_upsampled, target_upsampled)\n",
    "predictions_random_forest_upsample = model_random_forest.predict(features_valid)\n",
    "\n",
    "print(\"F1:\", f1_score(target_valid, predictions_random_forest_upsample))"
   ]
  },
  {
   "cell_type": "code",
   "execution_count": 42,
   "metadata": {},
   "outputs": [
    {
     "name": "stdout",
     "output_type": "stream",
     "text": [
      "F1: 0.5844155844155844\n"
     ]
    }
   ],
   "source": [
    "#Уменьшение выборки\n",
    "model_random_forest.fit(features_downsampled, target_downsampled)\n",
    "predictions_random_forest_downsample = model_random_forest.predict(features_valid)\n",
    "\n",
    "print(\"F1:\", f1_score(target_valid, predictions_random_forest_downsample))"
   ]
  },
  {
   "cell_type": "code",
   "execution_count": 43,
   "metadata": {},
   "outputs": [
    {
     "name": "stdout",
     "output_type": "stream",
     "text": [
      "ROC-AUC: 0.844761780651766\n"
     ]
    },
    {
     "data": {
      "image/png": "[encoded data removed]",
      "text/plain": [
       "<Figure size 432x288 with 1 Axes>"
      ]
     },
     "metadata": {
      "needs_background": "light"
     },
     "output_type": "display_data"
    }
   ],
   "source": [
    "plt_roc_curve(model_random_forest, features_valid, target_valid) "
   ]
  },
  {
   "cell_type": "markdown",
   "metadata": {},
   "source": [
    "**Вывод:** При подборе гиперпараметров в Случайны лес лучшими параметрами оказались \"n_estimators\" - 51, \"max_depth\" - 11 и значением F1-меры 0.56 на несбалансированных данных, полученные путем циклов. При кросc-валидации F1-меры получилась меньше 0.555</font><br>\n",
    "Наилучшим показателем F1-меры 0.628 оказалось при увеличении выборки, в ROC-AUC 0.845. Цель достигнута"
   ]
  },
  {
   "cell_type": "markdown",
   "metadata": {},
   "source": [
    "## Проверка модели на тестовой выборке\n",
    "- проверка тестовой выборке на тестовых данных на модели Случайного леса при увеличенной выбрке\n",
    "- исследование метрики AUC-ROC\n",
    "- проверить модель на адекватность"
   ]
  },
  {
   "cell_type": "code",
   "execution_count": 44,
   "metadata": {},
   "outputs": [
    {
     "name": "stdout",
     "output_type": "stream",
     "text": [
      "F1: 0.6064382139148494\n",
      "Accuracy: 0.8332600087989441\n"
     ]
    }
   ],
   "source": [
    "model_random_forest.fit(features_upsampled, target_upsampled)\n",
    "predictions_random_forest_upsample = model_random_forest.predict(features_test)\n",
    "\n",
    "print(\"F1:\", f1_score(target_test, predictions_random_forest_upsample))\n",
    "print(\"Accuracy:\", accuracy_score(target_test, predictions_random_forest_upsample))"
   ]
  },
  {
   "cell_type": "code",
   "execution_count": 45,
   "metadata": {
    "scrolled": false
   },
   "outputs": [
    {
     "name": "stdout",
     "output_type": "stream",
     "text": [
      "AUC-ROC: 0.8610101713231482\n"
     ]
    },
    {
     "data": {
      "image/png": "[encoded data removed]",
      "text/plain": [
       "<Figure size 432x288 with 1 Axes>"
      ]
     },
     "metadata": {
      "needs_background": "light"
     },
     "output_type": "display_data"
    }
   ],
   "source": [
    "# ROC-кривая на тестовых данных выбранной модели\n",
    "probabilities_test = model_random_forest.predict_proba(features_test)\n",
    "probabilities_one_test = probabilities_test[:, 1]\n",
    "print(\"AUC-ROC:\", roc_auc_score(target_test, probabilities_one_test))\n",
    "fpr, tpr, thresholds = roc_curve(target_test, probabilities_one_test)\n",
    "\n",
    "plt.figure()\n",
    "plt.plot(fpr, tpr)\n",
    "plt.plot([0, 1], [0, 1], linestyle='--')\n",
    "plt.xlim([0.0, 1.0])\n",
    "plt.ylim([0.0, 1.0])\n",
    "plt.xlabel('False Positive Rate')\n",
    "plt.ylabel('True Positive Rate')\n",
    "plt.title('ROC-кривая')\n",
    "plt.show()"
   ]
  },
  {
   "cell_type": "code",
   "execution_count": 46,
   "metadata": {},
   "outputs": [],
   "source": [
    "#dummy_clf = DummyClassifier(strategy='most_frequent', random_state=12345)\n",
    "#dummy_clf.fit(features_train, target_train)\n",
    "\n",
    "#dummy_clf.score(features_test, target_test)"
   ]
  },
  {
   "cell_type": "code",
   "execution_count": 47,
   "metadata": {},
   "outputs": [
    {
     "name": "stdout",
     "output_type": "stream",
     "text": [
      "0.7960620393796062\n"
     ]
    }
   ],
   "source": [
    "target = df_ohe['exited']\n",
    "features = df_ohe.drop('exited', axis=1)\n",
    "\n",
    "target_pred_constant = pd.Series([0]*len(target) )\n",
    "\n",
    "print(accuracy_score(target, target_pred_constant))"
   ]
  },
  {
   "cell_type": "code",
   "execution_count": 48,
   "metadata": {
    "scrolled": true
   },
   "outputs": [
    {
     "data": {
      "image/png": "[encoded data removed]",
      "text/plain": [
       "<Figure size 720x576 with 1 Axes>"
      ]
     },
     "metadata": {
      "needs_background": "light"
     },
     "output_type": "display_data"
    }
   ],
   "source": [
    "forest_importances = pd.Series(model_random_forest.feature_importances_,\n",
    "                         df_ohe.drop(['exited'], axis=1).columns).sort_values(ascending=False)\n",
    "\n",
    "fig, ax = plt.subplots(figsize=(10,8))\n",
    "forest_importances.plot.bar(ax=ax)\n",
    "ax.set_title(\"Важность признаков\")\n",
    "ax.set_ylabel('Важность')\n",
    "fig.tight_layout()"
   ]
  },
  {
   "cell_type": "markdown",
   "metadata": {},
   "source": [
    "## Общий вывод\n",
    "При исследовании данных были проведены следующие действия:\n",
    "1. Подготовка данных.\n",
    "- обнаружены и удалены пропуски по столбцу \"Tenure\", т.к. составляли менее 10% от самого столбца;\n",
    "- удалены столбцы \"row_number\", \"customer_id\", \"surname\", потому что неинформативны для анализа; \n",
    "- переведены три столбца из flot в int, при чем без этого действия итоговая F1-мера на тестовых данных была меньше 0,609.\n",
    "2. Исследование задачи\n",
    "- сильных линейных зависимостей не обнаружено, можно выделить незначительную 0,28 между возрастом и фактов ухода из банка, и  отрицательную между балансом на счету и количеством продуктов в банке -0,3;\n",
    "- данные разделены выборки обучающая, валидационная и тестировочная, в процентном соотношении 50/25/25 соответственно.\n",
    "3. Борьба с дисбалансом\n",
    "- в данных по целевому признаку есть сильный дисбаланс классов, количество фактов ухода превышает в 4 раза, чем оставшихся в банке;\n",
    "- масштабировали данные по столбцам \"credit_score\",\"age\",\"balance\",\"estimated_salary\";\n",
    "- проверка несбалансированных данных на модели Логистической регрессии без гиперпараметров показала метрику F1: 0.27, а AUC-ROC: 0.57, что не является не высокой опираться на такие данных не следует;\n",
    "- данных были проверен на трех моделях логистической регрессии, решающего леса и случайного леса, лучшей из которой с показателем F1-меры 0.628 оказалось при увеличении выборки случайного леса. \n",
    "4. Проверка модели\n",
    "- на тестовой выборке выбранная модель показала F1 0.606, Accuracy 0.833, AUC-ROC 0.86, что является хорошими показателями и удовлетворяет цели нашей задачи;\n",
    "- при проверке выбранной модели на адекватность сравним ее с константной моделью, где Accuracy составила 0.796, что подтверждает правильность использования выбранной модели \"Случайный лес\";\n",
    "- важными факторами, влияющие на нашу метрику, является возвраст и количество продуктов в банке."
   ]
  }
 ],
 "metadata": {
  "ExecuteTimeLog": [
   {
    "duration": 1594,
    "start_time": "2022-03-29T18:30:34.647Z"
   },
   {
    "duration": 59,
    "start_time": "2022-03-29T18:30:40.783Z"
   },
   {
    "duration": 19,
    "start_time": "2022-03-29T18:31:42.969Z"
   },
   {
    "duration": 5,
    "start_time": "2022-03-29T18:35:02.363Z"
   },
   {
    "duration": 10,
    "start_time": "2022-03-29T18:41:26.049Z"
   },
   {
    "duration": 19,
    "start_time": "2022-03-29T18:44:39.355Z"
   },
   {
    "duration": 13,
    "start_time": "2022-03-29T18:45:00.344Z"
   },
   {
    "duration": 8,
    "start_time": "2022-03-29T18:47:24.775Z"
   },
   {
    "duration": 11,
    "start_time": "2022-03-29T18:48:22.998Z"
   },
   {
    "duration": 147,
    "start_time": "2022-03-29T18:48:36.393Z"
   },
   {
    "duration": 12,
    "start_time": "2022-03-29T18:48:48.509Z"
   },
   {
    "duration": 10,
    "start_time": "2022-03-29T18:49:06.088Z"
   },
   {
    "duration": 12,
    "start_time": "2022-03-29T18:49:15.405Z"
   },
   {
    "duration": 4,
    "start_time": "2022-03-29T18:50:35.474Z"
   },
   {
    "duration": 8,
    "start_time": "2022-03-29T18:50:45.025Z"
   },
   {
    "duration": 12,
    "start_time": "2022-03-29T18:51:35.873Z"
   },
   {
    "duration": 40,
    "start_time": "2022-03-29T18:52:01.509Z"
   },
   {
    "duration": 50,
    "start_time": "2022-03-29T18:52:16.752Z"
   },
   {
    "duration": 22,
    "start_time": "2022-03-29T18:53:49.205Z"
   },
   {
    "duration": 24,
    "start_time": "2022-03-29T18:53:55.964Z"
   },
   {
    "duration": 23,
    "start_time": "2022-03-29T18:54:07.639Z"
   },
   {
    "duration": 7,
    "start_time": "2022-03-29T18:54:13.780Z"
   },
   {
    "duration": 45,
    "start_time": "2022-03-29T18:54:21.090Z"
   },
   {
    "duration": 16,
    "start_time": "2022-03-29T18:54:34.564Z"
   },
   {
    "duration": 13,
    "start_time": "2022-03-29T18:54:51.466Z"
   },
   {
    "duration": 13,
    "start_time": "2022-03-29T18:54:55.653Z"
   },
   {
    "duration": 42,
    "start_time": "2022-03-29T18:55:52.125Z"
   },
   {
    "duration": 1767,
    "start_time": "2022-03-29T18:56:30.188Z"
   },
   {
    "duration": 62,
    "start_time": "2022-03-29T18:56:31.958Z"
   },
   {
    "duration": 4,
    "start_time": "2022-03-29T18:56:32.023Z"
   },
   {
    "duration": 27,
    "start_time": "2022-03-29T18:56:32.030Z"
   },
   {
    "duration": 12,
    "start_time": "2022-03-29T18:56:32.060Z"
   },
   {
    "duration": 8,
    "start_time": "2022-03-29T18:56:32.075Z"
   },
   {
    "duration": 6,
    "start_time": "2022-03-29T18:56:32.085Z"
   },
   {
    "duration": 77,
    "start_time": "2022-03-29T18:56:32.093Z"
   },
   {
    "duration": 2019,
    "start_time": "2022-03-30T16:58:14.577Z"
   },
   {
    "duration": 91,
    "start_time": "2022-03-30T16:58:16.599Z"
   },
   {
    "duration": 284,
    "start_time": "2022-03-30T16:58:16.692Z"
   },
   {
    "duration": 0,
    "start_time": "2022-03-30T16:58:16.979Z"
   },
   {
    "duration": 0,
    "start_time": "2022-03-30T16:58:16.982Z"
   },
   {
    "duration": 0,
    "start_time": "2022-03-30T16:58:16.983Z"
   },
   {
    "duration": 0,
    "start_time": "2022-03-30T16:58:16.985Z"
   },
   {
    "duration": 0,
    "start_time": "2022-03-30T16:58:16.987Z"
   },
   {
    "duration": 0,
    "start_time": "2022-03-30T16:58:16.988Z"
   },
   {
    "duration": 1235,
    "start_time": "2022-03-30T17:08:05.935Z"
   },
   {
    "duration": 51,
    "start_time": "2022-03-30T17:08:07.172Z"
   },
   {
    "duration": 4,
    "start_time": "2022-03-30T17:08:07.224Z"
   },
   {
    "duration": 40,
    "start_time": "2022-03-30T17:08:07.230Z"
   },
   {
    "duration": 29,
    "start_time": "2022-03-30T17:08:07.271Z"
   },
   {
    "duration": 19,
    "start_time": "2022-03-30T17:08:07.302Z"
   },
   {
    "duration": 62,
    "start_time": "2022-03-30T17:08:07.323Z"
   },
   {
    "duration": 123,
    "start_time": "2022-03-30T17:08:07.388Z"
   },
   {
    "duration": 0,
    "start_time": "2022-03-30T17:08:07.513Z"
   },
   {
    "duration": 7,
    "start_time": "2022-03-30T17:08:50.593Z"
   },
   {
    "duration": 5,
    "start_time": "2022-03-30T17:08:51.753Z"
   },
   {
    "duration": 9,
    "start_time": "2022-03-30T17:09:31.800Z"
   },
   {
    "duration": 5,
    "start_time": "2022-03-30T17:09:37.569Z"
   },
   {
    "duration": 9,
    "start_time": "2022-03-30T17:14:02.710Z"
   },
   {
    "duration": 13,
    "start_time": "2022-03-30T17:14:16.021Z"
   },
   {
    "duration": 2876,
    "start_time": "2022-03-30T17:25:07.600Z"
   },
   {
    "duration": 21,
    "start_time": "2022-03-30T17:28:45.501Z"
   },
   {
    "duration": 5,
    "start_time": "2022-03-30T17:29:05.910Z"
   },
   {
    "duration": 23,
    "start_time": "2022-03-30T17:29:58.378Z"
   },
   {
    "duration": 3,
    "start_time": "2022-03-30T17:30:45.949Z"
   },
   {
    "duration": 36,
    "start_time": "2022-03-30T17:30:56.436Z"
   },
   {
    "duration": 3,
    "start_time": "2022-03-30T17:34:43.112Z"
   },
   {
    "duration": 1688,
    "start_time": "2022-03-31T16:46:58.860Z"
   },
   {
    "duration": 61,
    "start_time": "2022-03-31T16:47:00.551Z"
   },
   {
    "duration": 5,
    "start_time": "2022-03-31T16:47:00.614Z"
   },
   {
    "duration": 40,
    "start_time": "2022-03-31T16:47:00.622Z"
   },
   {
    "duration": 27,
    "start_time": "2022-03-31T16:47:00.664Z"
   },
   {
    "duration": 27,
    "start_time": "2022-03-31T16:47:00.693Z"
   },
   {
    "duration": 48,
    "start_time": "2022-03-31T16:47:00.723Z"
   },
   {
    "duration": 25,
    "start_time": "2022-03-31T16:47:00.774Z"
   },
   {
    "duration": 22,
    "start_time": "2022-03-31T16:47:00.802Z"
   },
   {
    "duration": 29,
    "start_time": "2022-03-31T16:47:00.828Z"
   },
   {
    "duration": 22,
    "start_time": "2022-03-31T16:47:00.860Z"
   },
   {
    "duration": 25,
    "start_time": "2022-03-31T16:47:00.884Z"
   },
   {
    "duration": 31,
    "start_time": "2022-03-31T16:47:00.911Z"
   },
   {
    "duration": 25,
    "start_time": "2022-03-31T16:47:00.945Z"
   },
   {
    "duration": 210,
    "start_time": "2022-03-31T16:47:00.972Z"
   },
   {
    "duration": 0,
    "start_time": "2022-03-31T16:47:01.184Z"
   },
   {
    "duration": 7,
    "start_time": "2022-03-31T16:52:26.811Z"
   },
   {
    "duration": 28,
    "start_time": "2022-03-31T16:53:13.475Z"
   },
   {
    "duration": 7,
    "start_time": "2022-03-31T16:57:12.409Z"
   },
   {
    "duration": 11,
    "start_time": "2022-03-31T16:57:22.612Z"
   },
   {
    "duration": 29,
    "start_time": "2022-03-31T16:58:04.037Z"
   },
   {
    "duration": 1690,
    "start_time": "2022-03-31T16:58:16.596Z"
   },
   {
    "duration": 59,
    "start_time": "2022-03-31T16:58:18.288Z"
   },
   {
    "duration": 5,
    "start_time": "2022-03-31T16:58:18.349Z"
   },
   {
    "duration": 32,
    "start_time": "2022-03-31T16:58:18.357Z"
   },
   {
    "duration": 11,
    "start_time": "2022-03-31T16:58:18.391Z"
   },
   {
    "duration": 10,
    "start_time": "2022-03-31T16:58:18.404Z"
   },
   {
    "duration": 40,
    "start_time": "2022-03-31T16:58:18.416Z"
   },
   {
    "duration": 16,
    "start_time": "2022-03-31T16:58:18.484Z"
   },
   {
    "duration": 5,
    "start_time": "2022-03-31T16:58:18.503Z"
   },
   {
    "duration": 10,
    "start_time": "2022-03-31T16:58:18.512Z"
   },
   {
    "duration": 8,
    "start_time": "2022-03-31T16:58:18.525Z"
   },
   {
    "duration": 15,
    "start_time": "2022-03-31T16:58:18.535Z"
   },
   {
    "duration": 18,
    "start_time": "2022-03-31T16:58:18.585Z"
   },
   {
    "duration": 31,
    "start_time": "2022-03-31T16:58:18.606Z"
   },
   {
    "duration": 45,
    "start_time": "2022-03-31T16:58:18.640Z"
   },
   {
    "duration": 17,
    "start_time": "2022-03-31T16:58:18.688Z"
   },
   {
    "duration": 28,
    "start_time": "2022-03-31T16:58:18.707Z"
   },
   {
    "duration": 197,
    "start_time": "2022-03-31T16:58:18.737Z"
   },
   {
    "duration": 0,
    "start_time": "2022-03-31T16:58:18.936Z"
   },
   {
    "duration": 8,
    "start_time": "2022-03-31T17:00:23.443Z"
   },
   {
    "duration": 11,
    "start_time": "2022-03-31T17:00:30.665Z"
   },
   {
    "duration": 31,
    "start_time": "2022-03-31T17:07:25.684Z"
   },
   {
    "duration": 48,
    "start_time": "2022-03-31T17:13:14.307Z"
   },
   {
    "duration": 15,
    "start_time": "2022-03-31T17:15:25.998Z"
   },
   {
    "duration": 1560,
    "start_time": "2022-03-31T17:16:04.681Z"
   },
   {
    "duration": 1426,
    "start_time": "2022-03-31T17:16:40.501Z"
   },
   {
    "duration": 1555,
    "start_time": "2022-03-31T17:17:02.095Z"
   },
   {
    "duration": 59,
    "start_time": "2022-03-31T17:17:03.653Z"
   },
   {
    "duration": 5,
    "start_time": "2022-03-31T17:17:03.714Z"
   },
   {
    "duration": 24,
    "start_time": "2022-03-31T17:17:03.723Z"
   },
   {
    "duration": 11,
    "start_time": "2022-03-31T17:17:03.749Z"
   },
   {
    "duration": 9,
    "start_time": "2022-03-31T17:17:03.784Z"
   },
   {
    "duration": 32,
    "start_time": "2022-03-31T17:17:03.795Z"
   },
   {
    "duration": 15,
    "start_time": "2022-03-31T17:17:03.829Z"
   },
   {
    "duration": 41,
    "start_time": "2022-03-31T17:17:03.846Z"
   },
   {
    "duration": 16,
    "start_time": "2022-03-31T17:17:03.891Z"
   },
   {
    "duration": 9,
    "start_time": "2022-03-31T17:17:03.910Z"
   },
   {
    "duration": 16,
    "start_time": "2022-03-31T17:17:03.921Z"
   },
   {
    "duration": 24,
    "start_time": "2022-03-31T17:17:03.940Z"
   },
   {
    "duration": 31,
    "start_time": "2022-03-31T17:17:03.983Z"
   },
   {
    "duration": 9,
    "start_time": "2022-03-31T17:17:04.017Z"
   },
   {
    "duration": 2431,
    "start_time": "2022-03-31T17:17:04.029Z"
   },
   {
    "duration": 0,
    "start_time": "2022-03-31T17:17:06.463Z"
   },
   {
    "duration": 0,
    "start_time": "2022-03-31T17:17:06.466Z"
   },
   {
    "duration": 0,
    "start_time": "2022-03-31T17:17:06.468Z"
   },
   {
    "duration": 0,
    "start_time": "2022-03-31T17:17:06.470Z"
   },
   {
    "duration": 29,
    "start_time": "2022-03-31T17:17:39.927Z"
   },
   {
    "duration": 13,
    "start_time": "2022-03-31T17:21:35.549Z"
   },
   {
    "duration": 13,
    "start_time": "2022-03-31T17:21:46.501Z"
   },
   {
    "duration": 6,
    "start_time": "2022-03-31T17:25:03.957Z"
   },
   {
    "duration": 11,
    "start_time": "2022-03-31T17:25:28.011Z"
   },
   {
    "duration": 22,
    "start_time": "2022-03-31T17:25:34.723Z"
   },
   {
    "duration": 1623,
    "start_time": "2022-03-31T17:25:52.696Z"
   },
   {
    "duration": 64,
    "start_time": "2022-03-31T17:25:54.321Z"
   },
   {
    "duration": 5,
    "start_time": "2022-03-31T17:25:54.387Z"
   },
   {
    "duration": 23,
    "start_time": "2022-03-31T17:25:54.395Z"
   },
   {
    "duration": 10,
    "start_time": "2022-03-31T17:25:54.420Z"
   },
   {
    "duration": 8,
    "start_time": "2022-03-31T17:25:54.432Z"
   },
   {
    "duration": 71,
    "start_time": "2022-03-31T17:25:54.441Z"
   },
   {
    "duration": 16,
    "start_time": "2022-03-31T17:25:54.514Z"
   },
   {
    "duration": 6,
    "start_time": "2022-03-31T17:25:54.532Z"
   },
   {
    "duration": 7,
    "start_time": "2022-03-31T17:25:54.541Z"
   },
   {
    "duration": 40,
    "start_time": "2022-03-31T17:25:54.550Z"
   },
   {
    "duration": 9,
    "start_time": "2022-03-31T17:25:54.592Z"
   },
   {
    "duration": 18,
    "start_time": "2022-03-31T17:25:54.603Z"
   },
   {
    "duration": 61,
    "start_time": "2022-03-31T17:25:54.623Z"
   },
   {
    "duration": 7,
    "start_time": "2022-03-31T17:25:54.686Z"
   },
   {
    "duration": 11,
    "start_time": "2022-03-31T17:25:54.695Z"
   },
   {
    "duration": 16,
    "start_time": "2022-03-31T17:25:54.708Z"
   },
   {
    "duration": 23,
    "start_time": "2022-03-31T17:25:54.726Z"
   },
   {
    "duration": 49,
    "start_time": "2022-03-31T17:25:54.751Z"
   },
   {
    "duration": 176,
    "start_time": "2022-03-31T17:25:54.802Z"
   },
   {
    "duration": 1,
    "start_time": "2022-03-31T17:25:54.984Z"
   },
   {
    "duration": 31,
    "start_time": "2022-03-31T17:26:30.758Z"
   },
   {
    "duration": 23,
    "start_time": "2022-03-31T17:27:59.779Z"
   },
   {
    "duration": 1821,
    "start_time": "2022-03-31T17:28:50.419Z"
   },
   {
    "duration": 0,
    "start_time": "2022-03-31T17:28:52.243Z"
   },
   {
    "duration": 1558,
    "start_time": "2022-03-31T17:29:07.967Z"
   },
   {
    "duration": 56,
    "start_time": "2022-03-31T17:29:09.528Z"
   },
   {
    "duration": 5,
    "start_time": "2022-03-31T17:29:09.586Z"
   },
   {
    "duration": 21,
    "start_time": "2022-03-31T17:29:09.592Z"
   },
   {
    "duration": 10,
    "start_time": "2022-03-31T17:29:09.616Z"
   },
   {
    "duration": 12,
    "start_time": "2022-03-31T17:29:09.628Z"
   },
   {
    "duration": 64,
    "start_time": "2022-03-31T17:29:09.642Z"
   },
   {
    "duration": 15,
    "start_time": "2022-03-31T17:29:09.708Z"
   },
   {
    "duration": 5,
    "start_time": "2022-03-31T17:29:09.725Z"
   },
   {
    "duration": 7,
    "start_time": "2022-03-31T17:29:09.733Z"
   },
   {
    "duration": 7,
    "start_time": "2022-03-31T17:29:09.742Z"
   },
   {
    "duration": 6,
    "start_time": "2022-03-31T17:29:09.783Z"
   },
   {
    "duration": 18,
    "start_time": "2022-03-31T17:29:09.791Z"
   },
   {
    "duration": 29,
    "start_time": "2022-03-31T17:29:09.812Z"
   },
   {
    "duration": 42,
    "start_time": "2022-03-31T17:29:09.844Z"
   },
   {
    "duration": 8,
    "start_time": "2022-03-31T17:29:09.888Z"
   },
   {
    "duration": 12,
    "start_time": "2022-03-31T17:29:09.898Z"
   },
   {
    "duration": 178,
    "start_time": "2022-03-31T17:29:09.912Z"
   },
   {
    "duration": 0,
    "start_time": "2022-03-31T17:29:10.093Z"
   },
   {
    "duration": 0,
    "start_time": "2022-03-31T17:29:10.095Z"
   },
   {
    "duration": 0,
    "start_time": "2022-03-31T17:29:10.096Z"
   },
   {
    "duration": 0,
    "start_time": "2022-03-31T17:29:10.098Z"
   },
   {
    "duration": 0,
    "start_time": "2022-03-31T17:29:10.099Z"
   },
   {
    "duration": 28,
    "start_time": "2022-03-31T17:29:31.062Z"
   },
   {
    "duration": 2015,
    "start_time": "2022-03-31T17:30:12.377Z"
   },
   {
    "duration": 1560,
    "start_time": "2022-03-31T17:30:20.713Z"
   },
   {
    "duration": 60,
    "start_time": "2022-03-31T17:30:22.276Z"
   },
   {
    "duration": 5,
    "start_time": "2022-03-31T17:30:22.339Z"
   },
   {
    "duration": 38,
    "start_time": "2022-03-31T17:30:22.346Z"
   },
   {
    "duration": 11,
    "start_time": "2022-03-31T17:30:22.386Z"
   },
   {
    "duration": 8,
    "start_time": "2022-03-31T17:30:22.399Z"
   },
   {
    "duration": 34,
    "start_time": "2022-03-31T17:30:22.409Z"
   },
   {
    "duration": 52,
    "start_time": "2022-03-31T17:30:22.446Z"
   },
   {
    "duration": 6,
    "start_time": "2022-03-31T17:30:22.500Z"
   },
   {
    "duration": 8,
    "start_time": "2022-03-31T17:30:22.509Z"
   },
   {
    "duration": 7,
    "start_time": "2022-03-31T17:30:22.519Z"
   },
   {
    "duration": 7,
    "start_time": "2022-03-31T17:30:22.528Z"
   },
   {
    "duration": 61,
    "start_time": "2022-03-31T17:30:22.537Z"
   },
   {
    "duration": 28,
    "start_time": "2022-03-31T17:30:22.600Z"
   },
   {
    "duration": 2270,
    "start_time": "2022-03-31T17:30:22.631Z"
   },
   {
    "duration": 0,
    "start_time": "2022-03-31T17:30:24.904Z"
   },
   {
    "duration": 0,
    "start_time": "2022-03-31T17:30:24.905Z"
   },
   {
    "duration": 0,
    "start_time": "2022-03-31T17:30:24.907Z"
   },
   {
    "duration": 0,
    "start_time": "2022-03-31T17:30:24.909Z"
   },
   {
    "duration": 0,
    "start_time": "2022-03-31T17:30:24.910Z"
   },
   {
    "duration": 0,
    "start_time": "2022-03-31T17:30:24.912Z"
   },
   {
    "duration": 13,
    "start_time": "2022-03-31T17:30:54.165Z"
   },
   {
    "duration": 14,
    "start_time": "2022-03-31T17:30:55.745Z"
   },
   {
    "duration": 11,
    "start_time": "2022-03-31T17:31:20.486Z"
   },
   {
    "duration": 28,
    "start_time": "2022-03-31T17:31:22.155Z"
   },
   {
    "duration": 13,
    "start_time": "2022-03-31T17:32:18.391Z"
   },
   {
    "duration": 31,
    "start_time": "2022-03-31T17:33:06.662Z"
   },
   {
    "duration": 16,
    "start_time": "2022-03-31T17:34:27.248Z"
   },
   {
    "duration": 10,
    "start_time": "2022-03-31T17:37:22.634Z"
   },
   {
    "duration": 6,
    "start_time": "2022-03-31T17:37:24.324Z"
   },
   {
    "duration": 16,
    "start_time": "2022-03-31T17:37:30.176Z"
   },
   {
    "duration": 1603,
    "start_time": "2022-03-31T17:43:12.653Z"
   },
   {
    "duration": 57,
    "start_time": "2022-03-31T17:43:14.259Z"
   },
   {
    "duration": 5,
    "start_time": "2022-03-31T17:43:14.318Z"
   },
   {
    "duration": 30,
    "start_time": "2022-03-31T17:43:14.326Z"
   },
   {
    "duration": 24,
    "start_time": "2022-03-31T17:43:14.358Z"
   },
   {
    "duration": 32,
    "start_time": "2022-03-31T17:43:14.384Z"
   },
   {
    "duration": 45,
    "start_time": "2022-03-31T17:43:14.418Z"
   },
   {
    "duration": 24,
    "start_time": "2022-03-31T17:43:14.465Z"
   },
   {
    "duration": 18,
    "start_time": "2022-03-31T17:43:14.491Z"
   },
   {
    "duration": 3603,
    "start_time": "2022-03-31T17:43:14.512Z"
   },
   {
    "duration": 0,
    "start_time": "2022-03-31T17:43:18.117Z"
   },
   {
    "duration": 0,
    "start_time": "2022-03-31T17:43:18.119Z"
   },
   {
    "duration": 0,
    "start_time": "2022-03-31T17:43:18.120Z"
   },
   {
    "duration": 0,
    "start_time": "2022-03-31T17:43:18.122Z"
   },
   {
    "duration": 0,
    "start_time": "2022-03-31T17:43:18.124Z"
   },
   {
    "duration": 0,
    "start_time": "2022-03-31T17:43:18.125Z"
   },
   {
    "duration": 0,
    "start_time": "2022-03-31T17:43:18.127Z"
   },
   {
    "duration": 0,
    "start_time": "2022-03-31T17:43:18.129Z"
   },
   {
    "duration": 0,
    "start_time": "2022-03-31T17:43:18.130Z"
   },
   {
    "duration": 0,
    "start_time": "2022-03-31T17:43:18.132Z"
   },
   {
    "duration": 0,
    "start_time": "2022-03-31T17:43:18.134Z"
   },
   {
    "duration": 1580,
    "start_time": "2022-03-31T17:43:57.950Z"
   },
   {
    "duration": 58,
    "start_time": "2022-03-31T17:43:59.533Z"
   },
   {
    "duration": 5,
    "start_time": "2022-03-31T17:43:59.593Z"
   },
   {
    "duration": 42,
    "start_time": "2022-03-31T17:43:59.601Z"
   },
   {
    "duration": 11,
    "start_time": "2022-03-31T17:43:59.645Z"
   },
   {
    "duration": 25,
    "start_time": "2022-03-31T17:43:59.658Z"
   },
   {
    "duration": 36,
    "start_time": "2022-03-31T17:43:59.685Z"
   },
   {
    "duration": 14,
    "start_time": "2022-03-31T17:43:59.723Z"
   },
   {
    "duration": 23,
    "start_time": "2022-03-31T17:43:59.739Z"
   },
   {
    "duration": 18,
    "start_time": "2022-03-31T17:43:59.766Z"
   },
   {
    "duration": 24,
    "start_time": "2022-03-31T17:43:59.786Z"
   },
   {
    "duration": 25,
    "start_time": "2022-03-31T17:43:59.813Z"
   },
   {
    "duration": 27,
    "start_time": "2022-03-31T17:43:59.840Z"
   },
   {
    "duration": 26,
    "start_time": "2022-03-31T17:43:59.870Z"
   },
   {
    "duration": 27,
    "start_time": "2022-03-31T17:43:59.899Z"
   },
   {
    "duration": 24,
    "start_time": "2022-03-31T17:43:59.928Z"
   },
   {
    "duration": 49,
    "start_time": "2022-03-31T17:43:59.954Z"
   },
   {
    "duration": 46,
    "start_time": "2022-03-31T17:44:00.005Z"
   },
   {
    "duration": 33,
    "start_time": "2022-03-31T17:44:00.053Z"
   },
   {
    "duration": 188,
    "start_time": "2022-03-31T17:44:00.088Z"
   },
   {
    "duration": 0,
    "start_time": "2022-03-31T17:44:00.283Z"
   },
   {
    "duration": 36,
    "start_time": "2022-03-31T17:45:05.214Z"
   },
   {
    "duration": 17,
    "start_time": "2022-03-31T17:45:13.857Z"
   },
   {
    "duration": 10,
    "start_time": "2022-03-31T17:45:27.185Z"
   },
   {
    "duration": 19,
    "start_time": "2022-03-31T17:45:32.987Z"
   },
   {
    "duration": 1522,
    "start_time": "2022-03-31T17:45:55.734Z"
   },
   {
    "duration": 60,
    "start_time": "2022-03-31T17:45:57.259Z"
   },
   {
    "duration": 5,
    "start_time": "2022-03-31T17:45:57.321Z"
   },
   {
    "duration": 21,
    "start_time": "2022-03-31T17:45:57.329Z"
   },
   {
    "duration": 9,
    "start_time": "2022-03-31T17:45:57.353Z"
   },
   {
    "duration": 11,
    "start_time": "2022-03-31T17:45:57.385Z"
   },
   {
    "duration": 35,
    "start_time": "2022-03-31T17:45:57.397Z"
   },
   {
    "duration": 16,
    "start_time": "2022-03-31T17:45:57.434Z"
   },
   {
    "duration": 37,
    "start_time": "2022-03-31T17:45:57.452Z"
   },
   {
    "duration": 16,
    "start_time": "2022-03-31T17:45:57.492Z"
   },
   {
    "duration": 14,
    "start_time": "2022-03-31T17:45:57.511Z"
   },
   {
    "duration": 13,
    "start_time": "2022-03-31T17:45:57.527Z"
   },
   {
    "duration": 41,
    "start_time": "2022-03-31T17:45:57.542Z"
   },
   {
    "duration": 29,
    "start_time": "2022-03-31T17:45:57.586Z"
   },
   {
    "duration": 12,
    "start_time": "2022-03-31T17:45:57.617Z"
   },
   {
    "duration": 15,
    "start_time": "2022-03-31T17:45:57.632Z"
   },
   {
    "duration": 54,
    "start_time": "2022-03-31T17:45:57.650Z"
   },
   {
    "duration": 16,
    "start_time": "2022-03-31T17:45:57.706Z"
   },
   {
    "duration": 16,
    "start_time": "2022-03-31T17:45:57.725Z"
   },
   {
    "duration": 190,
    "start_time": "2022-03-31T17:45:57.743Z"
   },
   {
    "duration": 0,
    "start_time": "2022-03-31T17:45:57.936Z"
   },
   {
    "duration": 1532,
    "start_time": "2022-03-31T17:47:35.019Z"
   },
   {
    "duration": 58,
    "start_time": "2022-03-31T17:47:36.554Z"
   },
   {
    "duration": 6,
    "start_time": "2022-03-31T17:47:36.614Z"
   },
   {
    "duration": 19,
    "start_time": "2022-03-31T17:47:36.623Z"
   },
   {
    "duration": 11,
    "start_time": "2022-03-31T17:47:36.645Z"
   },
   {
    "duration": 33,
    "start_time": "2022-03-31T17:47:36.658Z"
   },
   {
    "duration": 40,
    "start_time": "2022-03-31T17:47:36.693Z"
   },
   {
    "duration": 5,
    "start_time": "2022-03-31T17:47:36.735Z"
   },
   {
    "duration": 43,
    "start_time": "2022-03-31T17:47:36.741Z"
   },
   {
    "duration": 7,
    "start_time": "2022-03-31T17:47:36.788Z"
   },
   {
    "duration": 8,
    "start_time": "2022-03-31T17:47:36.797Z"
   },
   {
    "duration": 10,
    "start_time": "2022-03-31T17:47:36.807Z"
   },
   {
    "duration": 8,
    "start_time": "2022-03-31T17:47:36.819Z"
   },
   {
    "duration": 55,
    "start_time": "2022-03-31T17:47:36.829Z"
   },
   {
    "duration": 29,
    "start_time": "2022-03-31T17:47:36.886Z"
   },
   {
    "duration": 12,
    "start_time": "2022-03-31T17:47:36.917Z"
   },
   {
    "duration": 9,
    "start_time": "2022-03-31T17:47:36.932Z"
   },
   {
    "duration": 62,
    "start_time": "2022-03-31T17:47:36.943Z"
   },
   {
    "duration": 17,
    "start_time": "2022-03-31T17:47:37.007Z"
   },
   {
    "duration": 13,
    "start_time": "2022-03-31T17:47:37.026Z"
   },
   {
    "duration": 201,
    "start_time": "2022-03-31T17:47:37.041Z"
   },
   {
    "duration": 0,
    "start_time": "2022-03-31T17:47:37.244Z"
   },
   {
    "duration": 11,
    "start_time": "2022-03-31T17:50:27.232Z"
   },
   {
    "duration": 17,
    "start_time": "2022-03-31T17:50:30.609Z"
   },
   {
    "duration": 1522,
    "start_time": "2022-03-31T17:52:12.313Z"
   },
   {
    "duration": 58,
    "start_time": "2022-03-31T17:52:13.838Z"
   },
   {
    "duration": 5,
    "start_time": "2022-03-31T17:52:13.898Z"
   },
   {
    "duration": 19,
    "start_time": "2022-03-31T17:52:13.906Z"
   },
   {
    "duration": 10,
    "start_time": "2022-03-31T17:52:13.927Z"
   },
   {
    "duration": 7,
    "start_time": "2022-03-31T17:52:13.940Z"
   },
   {
    "duration": 67,
    "start_time": "2022-03-31T17:52:13.949Z"
   },
   {
    "duration": 12,
    "start_time": "2022-03-31T17:52:14.018Z"
   },
   {
    "duration": 166,
    "start_time": "2022-03-31T17:52:14.032Z"
   },
   {
    "duration": 0,
    "start_time": "2022-03-31T17:52:14.201Z"
   },
   {
    "duration": 0,
    "start_time": "2022-03-31T17:52:14.203Z"
   },
   {
    "duration": 0,
    "start_time": "2022-03-31T17:52:14.204Z"
   },
   {
    "duration": 0,
    "start_time": "2022-03-31T17:52:14.206Z"
   },
   {
    "duration": 0,
    "start_time": "2022-03-31T17:52:14.207Z"
   },
   {
    "duration": 0,
    "start_time": "2022-03-31T17:52:14.208Z"
   },
   {
    "duration": 0,
    "start_time": "2022-03-31T17:52:14.209Z"
   },
   {
    "duration": 0,
    "start_time": "2022-03-31T17:52:14.211Z"
   },
   {
    "duration": 0,
    "start_time": "2022-03-31T17:52:14.212Z"
   },
   {
    "duration": 0,
    "start_time": "2022-03-31T17:52:14.214Z"
   },
   {
    "duration": 0,
    "start_time": "2022-03-31T17:52:14.215Z"
   },
   {
    "duration": 0,
    "start_time": "2022-03-31T17:52:14.216Z"
   },
   {
    "duration": 10,
    "start_time": "2022-03-31T17:54:42.001Z"
   },
   {
    "duration": 7,
    "start_time": "2022-03-31T17:55:07.463Z"
   },
   {
    "duration": 5,
    "start_time": "2022-03-31T17:55:12.814Z"
   },
   {
    "duration": 8,
    "start_time": "2022-03-31T17:55:13.819Z"
   },
   {
    "duration": 7,
    "start_time": "2022-03-31T17:55:15.273Z"
   },
   {
    "duration": 19,
    "start_time": "2022-03-31T17:55:16.930Z"
   },
   {
    "duration": 1639,
    "start_time": "2022-03-31T17:55:27.135Z"
   },
   {
    "duration": 61,
    "start_time": "2022-03-31T17:55:28.777Z"
   },
   {
    "duration": 6,
    "start_time": "2022-03-31T17:55:28.841Z"
   },
   {
    "duration": 45,
    "start_time": "2022-03-31T17:55:28.852Z"
   },
   {
    "duration": 13,
    "start_time": "2022-03-31T17:55:28.899Z"
   },
   {
    "duration": 10,
    "start_time": "2022-03-31T17:55:28.914Z"
   },
   {
    "duration": 69,
    "start_time": "2022-03-31T17:55:28.927Z"
   },
   {
    "duration": 15,
    "start_time": "2022-03-31T17:55:28.999Z"
   },
   {
    "duration": 8,
    "start_time": "2022-03-31T17:55:29.016Z"
   },
   {
    "duration": 7,
    "start_time": "2022-03-31T17:55:29.029Z"
   },
   {
    "duration": 48,
    "start_time": "2022-03-31T17:55:29.038Z"
   },
   {
    "duration": 8,
    "start_time": "2022-03-31T17:55:29.089Z"
   },
   {
    "duration": 21,
    "start_time": "2022-03-31T17:55:29.100Z"
   },
   {
    "duration": 30,
    "start_time": "2022-03-31T17:55:29.124Z"
   },
   {
    "duration": 16,
    "start_time": "2022-03-31T17:55:29.185Z"
   },
   {
    "duration": 16,
    "start_time": "2022-03-31T17:55:29.203Z"
   },
   {
    "duration": 30,
    "start_time": "2022-03-31T17:55:29.222Z"
   },
   {
    "duration": 40,
    "start_time": "2022-03-31T17:55:29.255Z"
   },
   {
    "duration": 17,
    "start_time": "2022-03-31T17:55:29.297Z"
   },
   {
    "duration": 69,
    "start_time": "2022-03-31T17:55:29.316Z"
   },
   {
    "duration": 28,
    "start_time": "2022-03-31T17:55:29.387Z"
   },
   {
    "duration": 17,
    "start_time": "2022-03-31T17:56:48.534Z"
   },
   {
    "duration": 5,
    "start_time": "2022-03-31T18:04:35.549Z"
   },
   {
    "duration": 56,
    "start_time": "2022-03-31T18:04:51.410Z"
   },
   {
    "duration": 986,
    "start_time": "2022-03-31T18:16:47.698Z"
   },
   {
    "duration": 177,
    "start_time": "2022-03-31T18:17:05.205Z"
   },
   {
    "duration": 8,
    "start_time": "2022-03-31T18:39:10.291Z"
   },
   {
    "duration": 11,
    "start_time": "2022-03-31T18:39:25.545Z"
   },
   {
    "duration": 214,
    "start_time": "2022-03-31T18:43:04.568Z"
   },
   {
    "duration": 5,
    "start_time": "2022-03-31T18:43:14.207Z"
   },
   {
    "duration": 58,
    "start_time": "2022-03-31T18:43:24.139Z"
   },
   {
    "duration": 79,
    "start_time": "2022-04-01T15:35:24.805Z"
   },
   {
    "duration": 1829,
    "start_time": "2022-04-01T15:35:34.134Z"
   },
   {
    "duration": 59,
    "start_time": "2022-04-01T15:35:35.966Z"
   },
   {
    "duration": 5,
    "start_time": "2022-04-01T15:35:36.027Z"
   },
   {
    "duration": 36,
    "start_time": "2022-04-01T15:35:36.035Z"
   },
   {
    "duration": 82,
    "start_time": "2022-04-01T15:35:36.073Z"
   },
   {
    "duration": 32,
    "start_time": "2022-04-01T15:35:36.157Z"
   },
   {
    "duration": 79,
    "start_time": "2022-04-01T15:35:36.192Z"
   },
   {
    "duration": 28,
    "start_time": "2022-04-01T15:35:36.274Z"
   },
   {
    "duration": 18,
    "start_time": "2022-04-01T15:35:36.304Z"
   },
   {
    "duration": 42,
    "start_time": "2022-04-01T15:35:36.327Z"
   },
   {
    "duration": 27,
    "start_time": "2022-04-01T15:35:36.371Z"
   },
   {
    "duration": 23,
    "start_time": "2022-04-01T15:35:36.401Z"
   },
   {
    "duration": 35,
    "start_time": "2022-04-01T15:35:36.426Z"
   },
   {
    "duration": 27,
    "start_time": "2022-04-01T15:35:36.463Z"
   },
   {
    "duration": 35,
    "start_time": "2022-04-01T15:35:36.492Z"
   },
   {
    "duration": 42,
    "start_time": "2022-04-01T15:35:36.530Z"
   },
   {
    "duration": 39,
    "start_time": "2022-04-01T15:35:36.574Z"
   },
   {
    "duration": 15,
    "start_time": "2022-04-01T15:35:36.616Z"
   },
   {
    "duration": 22,
    "start_time": "2022-04-01T15:35:36.633Z"
   },
   {
    "duration": 117,
    "start_time": "2022-04-01T15:35:36.659Z"
   },
   {
    "duration": 45,
    "start_time": "2022-04-01T15:35:36.778Z"
   },
   {
    "duration": 842,
    "start_time": "2022-04-01T15:35:36.826Z"
   },
   {
    "duration": 66,
    "start_time": "2022-04-01T15:35:37.670Z"
   },
   {
    "duration": 10,
    "start_time": "2022-04-01T15:35:37.738Z"
   },
   {
    "duration": 205,
    "start_time": "2022-04-01T15:35:37.750Z"
   },
   {
    "duration": 5,
    "start_time": "2022-04-01T15:36:36.127Z"
   },
   {
    "duration": 102,
    "start_time": "2022-04-01T15:36:47.596Z"
   },
   {
    "duration": 245,
    "start_time": "2022-04-01T15:38:31.539Z"
   },
   {
    "duration": 93,
    "start_time": "2022-04-01T15:38:36.850Z"
   },
   {
    "duration": 112,
    "start_time": "2022-04-01T15:38:43.473Z"
   },
   {
    "duration": 105,
    "start_time": "2022-04-01T15:38:50.495Z"
   },
   {
    "duration": 37,
    "start_time": "2022-04-01T15:58:04.352Z"
   },
   {
    "duration": 96,
    "start_time": "2022-04-01T16:01:38.990Z"
   },
   {
    "duration": 5,
    "start_time": "2022-04-01T16:02:34.812Z"
   },
   {
    "duration": 153,
    "start_time": "2022-04-01T16:02:44.432Z"
   },
   {
    "duration": 6,
    "start_time": "2022-04-01T16:03:20.469Z"
   },
   {
    "duration": 265,
    "start_time": "2022-04-01T16:03:29.662Z"
   },
   {
    "duration": 5,
    "start_time": "2022-04-01T16:32:41.207Z"
   },
   {
    "duration": 14,
    "start_time": "2022-04-01T16:33:27.959Z"
   },
   {
    "duration": 6,
    "start_time": "2022-04-01T16:33:48.250Z"
   },
   {
    "duration": 188,
    "start_time": "2022-04-01T16:33:55.641Z"
   },
   {
    "duration": 12,
    "start_time": "2022-04-01T16:34:55.579Z"
   },
   {
    "duration": 5,
    "start_time": "2022-04-01T16:36:31.622Z"
   },
   {
    "duration": 7,
    "start_time": "2022-04-01T16:36:43.167Z"
   },
   {
    "duration": 221,
    "start_time": "2022-04-01T16:49:21.171Z"
   },
   {
    "duration": 7,
    "start_time": "2022-04-01T16:49:52.594Z"
   },
   {
    "duration": 173,
    "start_time": "2022-04-01T16:49:56.710Z"
   },
   {
    "duration": 27,
    "start_time": "2022-04-01T16:54:31.687Z"
   },
   {
    "duration": 2281,
    "start_time": "2022-04-01T16:59:39.795Z"
   },
   {
    "duration": 81,
    "start_time": "2022-04-01T16:59:42.080Z"
   },
   {
    "duration": 8,
    "start_time": "2022-04-01T16:59:42.163Z"
   },
   {
    "duration": 22,
    "start_time": "2022-04-01T16:59:42.186Z"
   },
   {
    "duration": 12,
    "start_time": "2022-04-01T16:59:42.211Z"
   },
   {
    "duration": 11,
    "start_time": "2022-04-01T16:59:42.226Z"
   },
   {
    "duration": 87,
    "start_time": "2022-04-01T16:59:42.240Z"
   },
   {
    "duration": 16,
    "start_time": "2022-04-01T16:59:42.330Z"
   },
   {
    "duration": 9,
    "start_time": "2022-04-01T16:59:42.348Z"
   },
   {
    "duration": 26,
    "start_time": "2022-04-01T16:59:42.360Z"
   },
   {
    "duration": 12,
    "start_time": "2022-04-01T16:59:42.388Z"
   },
   {
    "duration": 8,
    "start_time": "2022-04-01T16:59:42.403Z"
   },
   {
    "duration": 25,
    "start_time": "2022-04-01T16:59:42.414Z"
   },
   {
    "duration": 78,
    "start_time": "2022-04-01T16:59:42.442Z"
   },
   {
    "duration": 30,
    "start_time": "2022-04-01T16:59:42.523Z"
   },
   {
    "duration": 29,
    "start_time": "2022-04-01T16:59:42.555Z"
   },
   {
    "duration": 39,
    "start_time": "2022-04-01T16:59:42.588Z"
   },
   {
    "duration": 23,
    "start_time": "2022-04-01T16:59:42.630Z"
   },
   {
    "duration": 14,
    "start_time": "2022-04-01T16:59:42.683Z"
   },
   {
    "duration": 48,
    "start_time": "2022-04-01T16:59:42.700Z"
   },
   {
    "duration": 52,
    "start_time": "2022-04-01T16:59:42.751Z"
   },
   {
    "duration": 213,
    "start_time": "2022-04-01T16:59:42.806Z"
   },
   {
    "duration": 69,
    "start_time": "2022-04-01T16:59:43.021Z"
   },
   {
    "duration": 10,
    "start_time": "2022-04-01T16:59:43.092Z"
   },
   {
    "duration": 351,
    "start_time": "2022-04-01T16:59:43.104Z"
   },
   {
    "duration": 0,
    "start_time": "2022-04-01T16:59:43.458Z"
   },
   {
    "duration": 0,
    "start_time": "2022-04-01T16:59:43.461Z"
   },
   {
    "duration": 0,
    "start_time": "2022-04-01T16:59:43.462Z"
   },
   {
    "duration": 0,
    "start_time": "2022-04-01T16:59:43.465Z"
   },
   {
    "duration": 0,
    "start_time": "2022-04-01T16:59:43.467Z"
   },
   {
    "duration": 118,
    "start_time": "2022-04-01T17:00:36.476Z"
   },
   {
    "duration": 92,
    "start_time": "2022-04-01T17:02:14.992Z"
   },
   {
    "duration": 13,
    "start_time": "2022-04-01T17:02:17.230Z"
   },
   {
    "duration": 219,
    "start_time": "2022-04-01T17:03:11.210Z"
   },
   {
    "duration": 181,
    "start_time": "2022-04-01T17:03:19.644Z"
   },
   {
    "duration": 8,
    "start_time": "2022-04-01T17:03:25.884Z"
   },
   {
    "duration": 142,
    "start_time": "2022-04-01T17:03:31.445Z"
   },
   {
    "duration": 71,
    "start_time": "2022-04-01T17:03:58.115Z"
   },
   {
    "duration": 43,
    "start_time": "2022-04-01T17:04:09.743Z"
   },
   {
    "duration": 212,
    "start_time": "2022-04-02T07:38:15.201Z"
   },
   {
    "duration": 1762,
    "start_time": "2022-04-02T07:38:20.309Z"
   },
   {
    "duration": 56,
    "start_time": "2022-04-02T07:38:22.074Z"
   },
   {
    "duration": 4,
    "start_time": "2022-04-02T07:38:22.132Z"
   },
   {
    "duration": 17,
    "start_time": "2022-04-02T07:38:22.138Z"
   },
   {
    "duration": 7,
    "start_time": "2022-04-02T07:38:22.156Z"
   },
   {
    "duration": 6,
    "start_time": "2022-04-02T07:38:22.164Z"
   },
   {
    "duration": 50,
    "start_time": "2022-04-02T07:38:22.172Z"
   },
   {
    "duration": 12,
    "start_time": "2022-04-02T07:38:22.224Z"
   },
   {
    "duration": 5,
    "start_time": "2022-04-02T07:38:22.238Z"
   },
   {
    "duration": 7,
    "start_time": "2022-04-02T07:38:22.246Z"
   },
   {
    "duration": 15,
    "start_time": "2022-04-02T07:38:22.255Z"
   },
   {
    "duration": 9,
    "start_time": "2022-04-02T07:38:22.272Z"
   },
   {
    "duration": 12,
    "start_time": "2022-04-02T07:38:22.302Z"
   },
   {
    "duration": 19,
    "start_time": "2022-04-02T07:38:22.315Z"
   },
   {
    "duration": 9,
    "start_time": "2022-04-02T07:38:22.336Z"
   },
   {
    "duration": 17,
    "start_time": "2022-04-02T07:38:22.347Z"
   },
   {
    "duration": 36,
    "start_time": "2022-04-02T07:38:22.366Z"
   },
   {
    "duration": 16,
    "start_time": "2022-04-02T07:38:22.404Z"
   },
   {
    "duration": 10,
    "start_time": "2022-04-02T07:38:22.422Z"
   },
   {
    "duration": 38,
    "start_time": "2022-04-02T07:38:22.434Z"
   },
   {
    "duration": 35,
    "start_time": "2022-04-02T07:38:22.474Z"
   },
   {
    "duration": 132,
    "start_time": "2022-04-02T07:38:22.511Z"
   },
   {
    "duration": 42,
    "start_time": "2022-04-02T07:38:22.645Z"
   },
   {
    "duration": 16,
    "start_time": "2022-04-02T07:38:22.688Z"
   },
   {
    "duration": 106,
    "start_time": "2022-04-02T07:38:22.706Z"
   },
   {
    "duration": 23,
    "start_time": "2022-04-02T07:38:22.901Z"
   },
   {
    "duration": 317,
    "start_time": "2022-04-02T07:38:23.005Z"
   },
   {
    "duration": 145,
    "start_time": "2022-04-02T07:38:23.325Z"
   },
   {
    "duration": 7,
    "start_time": "2022-04-02T07:38:23.472Z"
   },
   {
    "duration": 220,
    "start_time": "2022-04-02T07:38:23.481Z"
   },
   {
    "duration": 194,
    "start_time": "2022-04-02T07:38:23.703Z"
   },
   {
    "duration": 61,
    "start_time": "2022-04-02T07:38:44.593Z"
   },
   {
    "duration": 72,
    "start_time": "2022-04-02T07:45:25.165Z"
   },
   {
    "duration": 74,
    "start_time": "2022-04-02T07:47:15.790Z"
   },
   {
    "duration": 316,
    "start_time": "2022-04-02T07:50:50.587Z"
   },
   {
    "duration": 209,
    "start_time": "2022-04-02T07:51:49.493Z"
   },
   {
    "duration": 148,
    "start_time": "2022-04-02T07:52:03.953Z"
   },
   {
    "duration": 7,
    "start_time": "2022-04-02T07:55:10.476Z"
   },
   {
    "duration": 72,
    "start_time": "2022-04-02T07:55:13.435Z"
   },
   {
    "duration": 70,
    "start_time": "2022-04-02T08:01:21.711Z"
   },
   {
    "duration": 10,
    "start_time": "2022-04-02T08:09:00.823Z"
   },
   {
    "duration": 25,
    "start_time": "2022-04-02T08:10:22.782Z"
   },
   {
    "duration": 26,
    "start_time": "2022-04-02T08:11:04.252Z"
   },
   {
    "duration": 208,
    "start_time": "2022-04-02T08:15:40.576Z"
   },
   {
    "duration": 21,
    "start_time": "2022-04-02T08:15:53.383Z"
   },
   {
    "duration": 13602,
    "start_time": "2022-04-02T08:18:07.671Z"
   },
   {
    "duration": 56,
    "start_time": "2022-04-02T08:20:29.172Z"
   },
   {
    "duration": 14624,
    "start_time": "2022-04-02T08:21:47.691Z"
   },
   {
    "duration": 135,
    "start_time": "2022-04-02T08:53:13.524Z"
   },
   {
    "duration": 214,
    "start_time": "2022-04-02T08:56:46.079Z"
   },
   {
    "duration": 147,
    "start_time": "2022-04-02T08:56:59.498Z"
   },
   {
    "duration": 1469,
    "start_time": "2022-04-02T09:03:42.049Z"
   },
   {
    "duration": 43,
    "start_time": "2022-04-02T09:03:43.520Z"
   },
   {
    "duration": 4,
    "start_time": "2022-04-02T09:03:43.564Z"
   },
   {
    "duration": 15,
    "start_time": "2022-04-02T09:03:43.570Z"
   },
   {
    "duration": 16,
    "start_time": "2022-04-02T09:03:43.586Z"
   },
   {
    "duration": 5,
    "start_time": "2022-04-02T09:03:43.604Z"
   },
   {
    "duration": 23,
    "start_time": "2022-04-02T09:03:43.611Z"
   },
   {
    "duration": 11,
    "start_time": "2022-04-02T09:03:43.635Z"
   },
   {
    "duration": 5,
    "start_time": "2022-04-02T09:03:43.648Z"
   },
   {
    "duration": 6,
    "start_time": "2022-04-02T09:03:43.655Z"
   },
   {
    "duration": 10,
    "start_time": "2022-04-02T09:03:43.662Z"
   },
   {
    "duration": 29,
    "start_time": "2022-04-02T09:03:43.674Z"
   },
   {
    "duration": 12,
    "start_time": "2022-04-02T09:03:43.704Z"
   },
   {
    "duration": 18,
    "start_time": "2022-04-02T09:03:43.717Z"
   },
   {
    "duration": 9,
    "start_time": "2022-04-02T09:03:43.736Z"
   },
   {
    "duration": 10,
    "start_time": "2022-04-02T09:03:43.746Z"
   },
   {
    "duration": 43,
    "start_time": "2022-04-02T09:03:43.758Z"
   },
   {
    "duration": 10,
    "start_time": "2022-04-02T09:03:43.803Z"
   },
   {
    "duration": 9,
    "start_time": "2022-04-02T09:03:43.814Z"
   },
   {
    "duration": 27,
    "start_time": "2022-04-02T09:03:43.825Z"
   },
   {
    "duration": 19,
    "start_time": "2022-04-02T09:03:43.853Z"
   },
   {
    "duration": 143,
    "start_time": "2022-04-02T09:03:43.874Z"
   },
   {
    "duration": 109,
    "start_time": "2022-04-02T09:03:44.018Z"
   },
   {
    "duration": 0,
    "start_time": "2022-04-02T09:03:44.129Z"
   },
   {
    "duration": 0,
    "start_time": "2022-04-02T09:03:44.130Z"
   },
   {
    "duration": 0,
    "start_time": "2022-04-02T09:03:44.131Z"
   },
   {
    "duration": 0,
    "start_time": "2022-04-02T09:03:44.132Z"
   },
   {
    "duration": 0,
    "start_time": "2022-04-02T09:03:44.133Z"
   },
   {
    "duration": 0,
    "start_time": "2022-04-02T09:03:44.134Z"
   },
   {
    "duration": 0,
    "start_time": "2022-04-02T09:03:44.135Z"
   },
   {
    "duration": 0,
    "start_time": "2022-04-02T09:03:44.135Z"
   },
   {
    "duration": 0,
    "start_time": "2022-04-02T09:03:44.136Z"
   },
   {
    "duration": 0,
    "start_time": "2022-04-02T09:03:44.137Z"
   },
   {
    "duration": 0,
    "start_time": "2022-04-02T09:03:44.138Z"
   },
   {
    "duration": 1951,
    "start_time": "2022-04-02T09:04:41.022Z"
   },
   {
    "duration": 55,
    "start_time": "2022-04-02T09:04:42.976Z"
   },
   {
    "duration": 4,
    "start_time": "2022-04-02T09:04:43.033Z"
   },
   {
    "duration": 19,
    "start_time": "2022-04-02T09:04:43.039Z"
   },
   {
    "duration": 9,
    "start_time": "2022-04-02T09:04:43.060Z"
   },
   {
    "duration": 6,
    "start_time": "2022-04-02T09:04:43.071Z"
   },
   {
    "duration": 41,
    "start_time": "2022-04-02T09:04:43.079Z"
   },
   {
    "duration": 11,
    "start_time": "2022-04-02T09:04:43.123Z"
   },
   {
    "duration": 6,
    "start_time": "2022-04-02T09:04:43.135Z"
   },
   {
    "duration": 4,
    "start_time": "2022-04-02T09:04:43.144Z"
   },
   {
    "duration": 8,
    "start_time": "2022-04-02T09:04:43.149Z"
   },
   {
    "duration": 6,
    "start_time": "2022-04-02T09:04:43.159Z"
   },
   {
    "duration": 44,
    "start_time": "2022-04-02T09:04:43.167Z"
   },
   {
    "duration": 22,
    "start_time": "2022-04-02T09:04:43.213Z"
   },
   {
    "duration": 11,
    "start_time": "2022-04-02T09:04:43.237Z"
   },
   {
    "duration": 9,
    "start_time": "2022-04-02T09:04:43.250Z"
   },
   {
    "duration": 45,
    "start_time": "2022-04-02T09:04:43.261Z"
   },
   {
    "duration": 12,
    "start_time": "2022-04-02T09:04:43.308Z"
   },
   {
    "duration": 9,
    "start_time": "2022-04-02T09:04:43.322Z"
   },
   {
    "duration": 30,
    "start_time": "2022-04-02T09:04:43.332Z"
   },
   {
    "duration": 43,
    "start_time": "2022-04-02T09:04:43.364Z"
   },
   {
    "duration": 116,
    "start_time": "2022-04-02T09:04:43.409Z"
   },
   {
    "duration": 41,
    "start_time": "2022-04-02T09:04:43.526Z"
   },
   {
    "duration": 7,
    "start_time": "2022-04-02T09:04:43.569Z"
   },
   {
    "duration": 224,
    "start_time": "2022-04-02T09:04:43.577Z"
   },
   {
    "duration": 22,
    "start_time": "2022-04-02T09:04:43.803Z"
   },
   {
    "duration": 302,
    "start_time": "2022-04-02T09:04:43.826Z"
   },
   {
    "duration": 117,
    "start_time": "2022-04-02T09:04:44.131Z"
   },
   {
    "duration": 6,
    "start_time": "2022-04-02T09:04:44.249Z"
   },
   {
    "duration": 335,
    "start_time": "2022-04-02T09:04:44.256Z"
   },
   {
    "duration": 0,
    "start_time": "2022-04-02T09:04:44.593Z"
   },
   {
    "duration": 0,
    "start_time": "2022-04-02T09:04:44.601Z"
   },
   {
    "duration": 0,
    "start_time": "2022-04-02T09:04:44.602Z"
   },
   {
    "duration": 0,
    "start_time": "2022-04-02T09:04:44.603Z"
   },
   {
    "duration": 2767,
    "start_time": "2022-04-03T08:23:27.854Z"
   },
   {
    "duration": 59,
    "start_time": "2022-04-03T08:23:30.625Z"
   },
   {
    "duration": 6,
    "start_time": "2022-04-03T08:23:30.686Z"
   },
   {
    "duration": 27,
    "start_time": "2022-04-03T08:23:30.696Z"
   },
   {
    "duration": 25,
    "start_time": "2022-04-03T08:23:30.726Z"
   },
   {
    "duration": 20,
    "start_time": "2022-04-03T08:23:30.753Z"
   },
   {
    "duration": 55,
    "start_time": "2022-04-03T08:23:30.776Z"
   },
   {
    "duration": 17,
    "start_time": "2022-04-03T08:23:30.834Z"
   },
   {
    "duration": 8,
    "start_time": "2022-04-03T08:23:30.854Z"
   },
   {
    "duration": 13,
    "start_time": "2022-04-03T08:23:30.868Z"
   },
   {
    "duration": 20,
    "start_time": "2022-04-03T08:23:30.884Z"
   },
   {
    "duration": 22,
    "start_time": "2022-04-03T08:23:30.906Z"
   },
   {
    "duration": 26,
    "start_time": "2022-04-03T08:23:30.930Z"
   },
   {
    "duration": 32,
    "start_time": "2022-04-03T08:23:30.958Z"
   },
   {
    "duration": 31,
    "start_time": "2022-04-03T08:23:30.992Z"
   },
   {
    "duration": 20,
    "start_time": "2022-04-03T08:23:31.026Z"
   },
   {
    "duration": 48,
    "start_time": "2022-04-03T08:23:31.048Z"
   },
   {
    "duration": 28,
    "start_time": "2022-04-03T08:23:31.098Z"
   },
   {
    "duration": 44,
    "start_time": "2022-04-03T08:23:31.128Z"
   },
   {
    "duration": 56,
    "start_time": "2022-04-03T08:23:31.174Z"
   },
   {
    "duration": 29,
    "start_time": "2022-04-03T08:23:31.232Z"
   },
   {
    "duration": 199,
    "start_time": "2022-04-03T08:23:31.263Z"
   },
   {
    "duration": 59,
    "start_time": "2022-04-03T08:23:31.464Z"
   },
   {
    "duration": 22,
    "start_time": "2022-04-03T08:23:31.526Z"
   },
   {
    "duration": 193,
    "start_time": "2022-04-03T08:23:31.551Z"
   },
   {
    "duration": 123,
    "start_time": "2022-04-03T08:23:31.747Z"
   },
   {
    "duration": 319,
    "start_time": "2022-04-03T08:23:31.873Z"
   },
   {
    "duration": 197,
    "start_time": "2022-04-03T08:23:32.197Z"
   },
   {
    "duration": 9,
    "start_time": "2022-04-03T08:23:32.396Z"
   },
   {
    "duration": 525,
    "start_time": "2022-04-03T08:23:32.408Z"
   },
   {
    "duration": 0,
    "start_time": "2022-04-03T08:23:32.935Z"
   },
   {
    "duration": 0,
    "start_time": "2022-04-03T08:23:32.937Z"
   },
   {
    "duration": 0,
    "start_time": "2022-04-03T08:23:32.938Z"
   },
   {
    "duration": 0,
    "start_time": "2022-04-03T08:23:32.943Z"
   },
   {
    "duration": 2506,
    "start_time": "2022-04-03T08:24:12.546Z"
   },
   {
    "duration": 71,
    "start_time": "2022-04-03T08:24:15.055Z"
   },
   {
    "duration": 6,
    "start_time": "2022-04-03T08:24:15.128Z"
   },
   {
    "duration": 30,
    "start_time": "2022-04-03T08:24:15.143Z"
   },
   {
    "duration": 13,
    "start_time": "2022-04-03T08:24:15.176Z"
   },
   {
    "duration": 12,
    "start_time": "2022-04-03T08:24:15.191Z"
   },
   {
    "duration": 45,
    "start_time": "2022-04-03T08:24:15.206Z"
   },
   {
    "duration": 14,
    "start_time": "2022-04-03T08:24:15.253Z"
   },
   {
    "duration": 10,
    "start_time": "2022-04-03T08:24:15.269Z"
   },
   {
    "duration": 8,
    "start_time": "2022-04-03T08:24:15.282Z"
   },
   {
    "duration": 16,
    "start_time": "2022-04-03T08:24:15.292Z"
   },
   {
    "duration": 35,
    "start_time": "2022-04-03T08:24:15.310Z"
   },
   {
    "duration": 30,
    "start_time": "2022-04-03T08:24:15.347Z"
   },
   {
    "duration": 27,
    "start_time": "2022-04-03T08:24:15.379Z"
   },
   {
    "duration": 27,
    "start_time": "2022-04-03T08:24:15.408Z"
   },
   {
    "duration": 16,
    "start_time": "2022-04-03T08:24:15.437Z"
   },
   {
    "duration": 44,
    "start_time": "2022-04-03T08:24:15.455Z"
   },
   {
    "duration": 15,
    "start_time": "2022-04-03T08:24:15.501Z"
   },
   {
    "duration": 12,
    "start_time": "2022-04-03T08:24:15.518Z"
   },
   {
    "duration": 60,
    "start_time": "2022-04-03T08:24:15.532Z"
   },
   {
    "duration": 28,
    "start_time": "2022-04-03T08:24:15.595Z"
   },
   {
    "duration": 215,
    "start_time": "2022-04-03T08:24:15.625Z"
   },
   {
    "duration": 57,
    "start_time": "2022-04-03T08:24:15.844Z"
   },
   {
    "duration": 40,
    "start_time": "2022-04-03T08:24:15.904Z"
   },
   {
    "duration": 201,
    "start_time": "2022-04-03T08:24:15.946Z"
   },
   {
    "duration": 103,
    "start_time": "2022-04-03T08:24:16.242Z"
   },
   {
    "duration": 343,
    "start_time": "2022-04-03T08:24:16.348Z"
   },
   {
    "duration": 195,
    "start_time": "2022-04-03T08:24:16.696Z"
   },
   {
    "duration": 8,
    "start_time": "2022-04-03T08:24:16.893Z"
   },
   {
    "duration": 144,
    "start_time": "2022-04-03T08:24:16.903Z"
   },
   {
    "duration": 421,
    "start_time": "2022-04-03T08:24:17.050Z"
   },
   {
    "duration": 0,
    "start_time": "2022-04-03T08:24:17.473Z"
   },
   {
    "duration": 0,
    "start_time": "2022-04-03T08:24:17.475Z"
   },
   {
    "duration": 0,
    "start_time": "2022-04-03T08:24:17.477Z"
   },
   {
    "duration": 180,
    "start_time": "2022-04-03T08:24:56.781Z"
   },
   {
    "duration": 68,
    "start_time": "2022-04-03T08:24:59.111Z"
   },
   {
    "duration": 1954,
    "start_time": "2022-04-03T09:07:18.424Z"
   },
   {
    "duration": 55,
    "start_time": "2022-04-03T09:07:20.380Z"
   },
   {
    "duration": 6,
    "start_time": "2022-04-03T09:07:20.437Z"
   },
   {
    "duration": 19,
    "start_time": "2022-04-03T09:07:20.446Z"
   },
   {
    "duration": 10,
    "start_time": "2022-04-03T09:07:20.468Z"
   },
   {
    "duration": 8,
    "start_time": "2022-04-03T09:07:20.480Z"
   },
   {
    "duration": 83,
    "start_time": "2022-04-03T09:07:20.491Z"
   },
   {
    "duration": 18,
    "start_time": "2022-04-03T09:07:20.577Z"
   },
   {
    "duration": 9,
    "start_time": "2022-04-03T09:07:20.598Z"
   },
   {
    "duration": 32,
    "start_time": "2022-04-03T09:07:20.613Z"
   },
   {
    "duration": 9,
    "start_time": "2022-04-03T09:07:20.648Z"
   },
   {
    "duration": 8,
    "start_time": "2022-04-03T09:07:20.660Z"
   },
   {
    "duration": 21,
    "start_time": "2022-04-03T09:07:20.670Z"
   },
   {
    "duration": 80,
    "start_time": "2022-04-03T09:07:20.694Z"
   },
   {
    "duration": 15,
    "start_time": "2022-04-03T09:07:20.777Z"
   },
   {
    "duration": 10,
    "start_time": "2022-04-03T09:07:20.794Z"
   },
   {
    "duration": 56,
    "start_time": "2022-04-03T09:07:20.806Z"
   },
   {
    "duration": 16,
    "start_time": "2022-04-03T09:07:20.864Z"
   },
   {
    "duration": 12,
    "start_time": "2022-04-03T09:07:20.882Z"
   },
   {
    "duration": 13,
    "start_time": "2022-04-03T09:07:20.896Z"
   },
   {
    "duration": 52,
    "start_time": "2022-04-03T09:07:20.912Z"
   },
   {
    "duration": 203,
    "start_time": "2022-04-03T09:07:20.966Z"
   },
   {
    "duration": 11,
    "start_time": "2022-04-03T09:07:21.171Z"
   },
   {
    "duration": 178,
    "start_time": "2022-04-03T09:07:21.184Z"
   },
   {
    "duration": 0,
    "start_time": "2022-04-03T09:07:21.364Z"
   },
   {
    "duration": 0,
    "start_time": "2022-04-03T09:07:21.366Z"
   },
   {
    "duration": 0,
    "start_time": "2022-04-03T09:07:21.368Z"
   },
   {
    "duration": 1,
    "start_time": "2022-04-03T09:07:21.369Z"
   },
   {
    "duration": 0,
    "start_time": "2022-04-03T09:07:21.371Z"
   },
   {
    "duration": 0,
    "start_time": "2022-04-03T09:07:21.373Z"
   },
   {
    "duration": 0,
    "start_time": "2022-04-03T09:07:21.375Z"
   },
   {
    "duration": 0,
    "start_time": "2022-04-03T09:07:21.377Z"
   },
   {
    "duration": 0,
    "start_time": "2022-04-03T09:07:21.380Z"
   },
   {
    "duration": 0,
    "start_time": "2022-04-03T09:07:21.382Z"
   },
   {
    "duration": 2084,
    "start_time": "2022-04-03T09:09:47.483Z"
   },
   {
    "duration": 57,
    "start_time": "2022-04-03T09:09:49.570Z"
   },
   {
    "duration": 7,
    "start_time": "2022-04-03T09:09:49.629Z"
   },
   {
    "duration": 20,
    "start_time": "2022-04-03T09:09:49.645Z"
   },
   {
    "duration": 10,
    "start_time": "2022-04-03T09:09:49.667Z"
   },
   {
    "duration": 7,
    "start_time": "2022-04-03T09:09:49.679Z"
   },
   {
    "duration": 72,
    "start_time": "2022-04-03T09:09:49.689Z"
   },
   {
    "duration": 14,
    "start_time": "2022-04-03T09:09:49.763Z"
   },
   {
    "duration": 8,
    "start_time": "2022-04-03T09:09:49.780Z"
   },
   {
    "duration": 5,
    "start_time": "2022-04-03T09:09:49.792Z"
   },
   {
    "duration": 49,
    "start_time": "2022-04-03T09:09:49.799Z"
   },
   {
    "duration": 11,
    "start_time": "2022-04-03T09:09:49.851Z"
   },
   {
    "duration": 17,
    "start_time": "2022-04-03T09:09:49.864Z"
   },
   {
    "duration": 60,
    "start_time": "2022-04-03T09:09:49.883Z"
   },
   {
    "duration": 15,
    "start_time": "2022-04-03T09:09:49.946Z"
   },
   {
    "duration": 16,
    "start_time": "2022-04-03T09:09:49.964Z"
   },
   {
    "duration": 62,
    "start_time": "2022-04-03T09:09:49.982Z"
   },
   {
    "duration": 16,
    "start_time": "2022-04-03T09:09:50.046Z"
   },
   {
    "duration": 13,
    "start_time": "2022-04-03T09:09:50.064Z"
   },
   {
    "duration": 10,
    "start_time": "2022-04-03T09:09:50.079Z"
   },
   {
    "duration": 66,
    "start_time": "2022-04-03T09:09:50.091Z"
   },
   {
    "duration": 212,
    "start_time": "2022-04-03T09:09:50.159Z"
   },
   {
    "duration": 11,
    "start_time": "2022-04-03T09:09:50.374Z"
   },
   {
    "duration": 270,
    "start_time": "2022-04-03T09:09:50.388Z"
   },
   {
    "duration": 1,
    "start_time": "2022-04-03T09:09:50.661Z"
   },
   {
    "duration": 0,
    "start_time": "2022-04-03T09:09:50.663Z"
   },
   {
    "duration": 0,
    "start_time": "2022-04-03T09:09:50.665Z"
   },
   {
    "duration": 0,
    "start_time": "2022-04-03T09:09:50.667Z"
   },
   {
    "duration": 0,
    "start_time": "2022-04-03T09:09:50.670Z"
   },
   {
    "duration": 0,
    "start_time": "2022-04-03T09:09:50.671Z"
   },
   {
    "duration": 0,
    "start_time": "2022-04-03T09:09:50.673Z"
   },
   {
    "duration": 0,
    "start_time": "2022-04-03T09:09:50.676Z"
   },
   {
    "duration": 0,
    "start_time": "2022-04-03T09:09:50.678Z"
   },
   {
    "duration": 0,
    "start_time": "2022-04-03T09:09:50.680Z"
   },
   {
    "duration": 0,
    "start_time": "2022-04-03T09:15:20.650Z"
   },
   {
    "duration": 0,
    "start_time": "2022-04-03T09:15:20.651Z"
   },
   {
    "duration": 0,
    "start_time": "2022-04-03T09:15:20.653Z"
   },
   {
    "duration": 0,
    "start_time": "2022-04-03T09:15:20.654Z"
   },
   {
    "duration": 0,
    "start_time": "2022-04-03T09:15:20.655Z"
   },
   {
    "duration": 0,
    "start_time": "2022-04-03T09:15:20.656Z"
   },
   {
    "duration": 0,
    "start_time": "2022-04-03T09:15:20.657Z"
   },
   {
    "duration": 0,
    "start_time": "2022-04-03T09:15:20.658Z"
   },
   {
    "duration": 0,
    "start_time": "2022-04-03T09:15:20.660Z"
   },
   {
    "duration": 0,
    "start_time": "2022-04-03T09:15:20.661Z"
   },
   {
    "duration": 0,
    "start_time": "2022-04-03T09:15:20.662Z"
   },
   {
    "duration": 0,
    "start_time": "2022-04-03T09:15:20.663Z"
   },
   {
    "duration": 0,
    "start_time": "2022-04-03T09:15:20.665Z"
   },
   {
    "duration": 0,
    "start_time": "2022-04-03T09:15:20.666Z"
   },
   {
    "duration": 0,
    "start_time": "2022-04-03T09:15:20.668Z"
   },
   {
    "duration": 0,
    "start_time": "2022-04-03T09:15:20.669Z"
   },
   {
    "duration": 0,
    "start_time": "2022-04-03T09:15:20.670Z"
   },
   {
    "duration": 0,
    "start_time": "2022-04-03T09:15:20.671Z"
   },
   {
    "duration": 0,
    "start_time": "2022-04-03T09:15:20.673Z"
   },
   {
    "duration": 0,
    "start_time": "2022-04-03T09:15:20.674Z"
   },
   {
    "duration": 0,
    "start_time": "2022-04-03T09:15:20.675Z"
   },
   {
    "duration": 0,
    "start_time": "2022-04-03T09:15:20.676Z"
   },
   {
    "duration": 0,
    "start_time": "2022-04-03T09:15:20.677Z"
   },
   {
    "duration": 0,
    "start_time": "2022-04-03T09:15:20.678Z"
   },
   {
    "duration": 0,
    "start_time": "2022-04-03T09:15:20.679Z"
   },
   {
    "duration": 0,
    "start_time": "2022-04-03T09:15:20.681Z"
   },
   {
    "duration": 0,
    "start_time": "2022-04-03T09:15:20.682Z"
   },
   {
    "duration": 0,
    "start_time": "2022-04-03T09:15:20.683Z"
   },
   {
    "duration": 0,
    "start_time": "2022-04-03T09:15:20.684Z"
   },
   {
    "duration": 0,
    "start_time": "2022-04-03T09:15:20.743Z"
   },
   {
    "duration": 0,
    "start_time": "2022-04-03T09:15:20.744Z"
   },
   {
    "duration": 0,
    "start_time": "2022-04-03T09:15:20.745Z"
   },
   {
    "duration": 0,
    "start_time": "2022-04-03T09:15:20.747Z"
   },
   {
    "duration": 0,
    "start_time": "2022-04-03T09:15:20.748Z"
   },
   {
    "duration": 2551,
    "start_time": "2022-04-03T09:16:01.095Z"
   },
   {
    "duration": 57,
    "start_time": "2022-04-03T09:16:03.649Z"
   },
   {
    "duration": 6,
    "start_time": "2022-04-03T09:16:03.708Z"
   },
   {
    "duration": 33,
    "start_time": "2022-04-03T09:16:03.718Z"
   },
   {
    "duration": 10,
    "start_time": "2022-04-03T09:16:03.754Z"
   },
   {
    "duration": 8,
    "start_time": "2022-04-03T09:16:03.766Z"
   },
   {
    "duration": 34,
    "start_time": "2022-04-03T09:16:03.776Z"
   },
   {
    "duration": 43,
    "start_time": "2022-04-03T09:16:03.812Z"
   },
   {
    "duration": 7,
    "start_time": "2022-04-03T09:16:03.857Z"
   },
   {
    "duration": 6,
    "start_time": "2022-04-03T09:16:03.868Z"
   },
   {
    "duration": 7,
    "start_time": "2022-04-03T09:16:03.876Z"
   },
   {
    "duration": 8,
    "start_time": "2022-04-03T09:16:03.886Z"
   },
   {
    "duration": 63,
    "start_time": "2022-04-03T09:16:03.896Z"
   },
   {
    "duration": 29,
    "start_time": "2022-04-03T09:16:03.962Z"
   },
   {
    "duration": 17,
    "start_time": "2022-04-03T09:16:03.994Z"
   },
   {
    "duration": 11,
    "start_time": "2022-04-03T09:16:04.044Z"
   },
   {
    "duration": 30,
    "start_time": "2022-04-03T09:16:04.057Z"
   },
   {
    "duration": 15,
    "start_time": "2022-04-03T09:16:04.089Z"
   },
   {
    "duration": 41,
    "start_time": "2022-04-03T09:16:04.107Z"
   },
   {
    "duration": 7,
    "start_time": "2022-04-03T09:16:04.150Z"
   },
   {
    "duration": 31,
    "start_time": "2022-04-03T09:16:04.159Z"
   },
   {
    "duration": 207,
    "start_time": "2022-04-03T09:16:04.192Z"
   },
   {
    "duration": 11,
    "start_time": "2022-04-03T09:16:04.402Z"
   },
   {
    "duration": 3368,
    "start_time": "2022-04-03T09:16:04.415Z"
   },
   {
    "duration": 314,
    "start_time": "2022-04-03T09:16:07.845Z"
   },
   {
    "duration": 0,
    "start_time": "2022-04-03T09:16:08.161Z"
   },
   {
    "duration": 0,
    "start_time": "2022-04-03T09:16:08.163Z"
   },
   {
    "duration": 0,
    "start_time": "2022-04-03T09:16:08.165Z"
   },
   {
    "duration": 0,
    "start_time": "2022-04-03T09:16:08.166Z"
   },
   {
    "duration": 0,
    "start_time": "2022-04-03T09:16:08.168Z"
   },
   {
    "duration": 0,
    "start_time": "2022-04-03T09:16:08.169Z"
   },
   {
    "duration": 0,
    "start_time": "2022-04-03T09:16:08.170Z"
   },
   {
    "duration": 0,
    "start_time": "2022-04-03T09:16:08.172Z"
   },
   {
    "duration": 0,
    "start_time": "2022-04-03T09:16:08.173Z"
   },
   {
    "duration": 1989,
    "start_time": "2022-04-03T09:18:37.957Z"
   },
   {
    "duration": 64,
    "start_time": "2022-04-03T09:18:39.949Z"
   },
   {
    "duration": 6,
    "start_time": "2022-04-03T09:18:40.015Z"
   },
   {
    "duration": 21,
    "start_time": "2022-04-03T09:18:40.024Z"
   },
   {
    "duration": 10,
    "start_time": "2022-04-03T09:18:40.047Z"
   },
   {
    "duration": 8,
    "start_time": "2022-04-03T09:18:40.059Z"
   },
   {
    "duration": 34,
    "start_time": "2022-04-03T09:18:40.069Z"
   },
   {
    "duration": 41,
    "start_time": "2022-04-03T09:18:40.105Z"
   },
   {
    "duration": 6,
    "start_time": "2022-04-03T09:18:40.148Z"
   },
   {
    "duration": 6,
    "start_time": "2022-04-03T09:18:40.158Z"
   },
   {
    "duration": 9,
    "start_time": "2022-04-03T09:18:40.166Z"
   },
   {
    "duration": 8,
    "start_time": "2022-04-03T09:18:40.178Z"
   },
   {
    "duration": 66,
    "start_time": "2022-04-03T09:18:40.188Z"
   },
   {
    "duration": 27,
    "start_time": "2022-04-03T09:18:40.257Z"
   },
   {
    "duration": 14,
    "start_time": "2022-04-03T09:18:40.286Z"
   },
   {
    "duration": 40,
    "start_time": "2022-04-03T09:18:40.303Z"
   },
   {
    "duration": 30,
    "start_time": "2022-04-03T09:18:40.345Z"
   },
   {
    "duration": 17,
    "start_time": "2022-04-03T09:18:40.378Z"
   },
   {
    "duration": 54,
    "start_time": "2022-04-03T09:18:40.397Z"
   },
   {
    "duration": 9,
    "start_time": "2022-04-03T09:18:40.453Z"
   },
   {
    "duration": 36,
    "start_time": "2022-04-03T09:18:40.464Z"
   },
   {
    "duration": 215,
    "start_time": "2022-04-03T09:18:40.503Z"
   },
   {
    "duration": 10,
    "start_time": "2022-04-03T09:18:40.720Z"
   },
   {
    "duration": 3036,
    "start_time": "2022-04-03T09:18:40.743Z"
   },
   {
    "duration": 266,
    "start_time": "2022-04-03T09:18:43.845Z"
   },
   {
    "duration": 0,
    "start_time": "2022-04-03T09:18:44.114Z"
   },
   {
    "duration": 0,
    "start_time": "2022-04-03T09:18:44.116Z"
   },
   {
    "duration": 0,
    "start_time": "2022-04-03T09:18:44.117Z"
   },
   {
    "duration": 0,
    "start_time": "2022-04-03T09:18:44.118Z"
   },
   {
    "duration": 0,
    "start_time": "2022-04-03T09:18:44.120Z"
   },
   {
    "duration": 0,
    "start_time": "2022-04-03T09:18:44.121Z"
   },
   {
    "duration": 0,
    "start_time": "2022-04-03T09:18:44.123Z"
   },
   {
    "duration": 0,
    "start_time": "2022-04-03T09:18:44.124Z"
   },
   {
    "duration": 1,
    "start_time": "2022-04-03T09:18:44.142Z"
   },
   {
    "duration": 5079,
    "start_time": "2022-04-03T09:21:19.703Z"
   },
   {
    "duration": 15588,
    "start_time": "2022-04-03T09:21:42.093Z"
   },
   {
    "duration": 7979,
    "start_time": "2022-04-03T09:22:47.868Z"
   },
   {
    "duration": 10798,
    "start_time": "2022-04-03T09:23:03.846Z"
   },
   {
    "duration": 8303,
    "start_time": "2022-04-03T09:23:28.040Z"
   },
   {
    "duration": 3008,
    "start_time": "2022-04-03T09:23:47.970Z"
   },
   {
    "duration": 6852,
    "start_time": "2022-04-03T09:24:12.331Z"
   },
   {
    "duration": 9238,
    "start_time": "2022-04-03T09:24:28.910Z"
   },
   {
    "duration": 12113,
    "start_time": "2022-04-03T09:25:11.470Z"
   },
   {
    "duration": 3125,
    "start_time": "2022-04-03T16:51:48.213Z"
   },
   {
    "duration": 55,
    "start_time": "2022-04-03T16:51:51.340Z"
   },
   {
    "duration": 5,
    "start_time": "2022-04-03T16:51:51.397Z"
   },
   {
    "duration": 39,
    "start_time": "2022-04-03T16:51:51.405Z"
   },
   {
    "duration": 11,
    "start_time": "2022-04-03T16:51:51.446Z"
   },
   {
    "duration": 10,
    "start_time": "2022-04-03T16:51:51.459Z"
   },
   {
    "duration": 30,
    "start_time": "2022-04-03T16:51:51.471Z"
   },
   {
    "duration": 50,
    "start_time": "2022-04-03T16:51:51.503Z"
   },
   {
    "duration": 7,
    "start_time": "2022-04-03T16:51:51.555Z"
   },
   {
    "duration": 6,
    "start_time": "2022-04-03T16:51:51.567Z"
   },
   {
    "duration": 10,
    "start_time": "2022-04-03T16:51:51.575Z"
   },
   {
    "duration": 8,
    "start_time": "2022-04-03T16:51:51.587Z"
   },
   {
    "duration": 19,
    "start_time": "2022-04-03T16:51:51.644Z"
   },
   {
    "duration": 28,
    "start_time": "2022-04-03T16:51:51.665Z"
   },
   {
    "duration": 14,
    "start_time": "2022-04-03T16:51:51.695Z"
   },
   {
    "duration": 13,
    "start_time": "2022-04-03T16:51:51.744Z"
   },
   {
    "duration": 27,
    "start_time": "2022-04-03T16:51:51.760Z"
   },
   {
    "duration": 62,
    "start_time": "2022-04-03T16:51:51.790Z"
   },
   {
    "duration": 13,
    "start_time": "2022-04-03T16:51:51.854Z"
   },
   {
    "duration": 7,
    "start_time": "2022-04-03T16:51:51.869Z"
   },
   {
    "duration": 26,
    "start_time": "2022-04-03T16:51:51.878Z"
   },
   {
    "duration": 227,
    "start_time": "2022-04-03T16:51:51.906Z"
   },
   {
    "duration": 12,
    "start_time": "2022-04-03T16:51:52.144Z"
   },
   {
    "duration": 19125,
    "start_time": "2022-04-03T16:51:52.158Z"
   },
   {
    "duration": 260,
    "start_time": "2022-04-03T16:52:11.345Z"
   },
   {
    "duration": 0,
    "start_time": "2022-04-03T16:52:11.608Z"
   },
   {
    "duration": 0,
    "start_time": "2022-04-03T16:52:11.610Z"
   },
   {
    "duration": 0,
    "start_time": "2022-04-03T16:52:11.611Z"
   },
   {
    "duration": 0,
    "start_time": "2022-04-03T16:52:11.613Z"
   },
   {
    "duration": 0,
    "start_time": "2022-04-03T16:52:11.614Z"
   },
   {
    "duration": 0,
    "start_time": "2022-04-03T16:52:11.616Z"
   },
   {
    "duration": 1,
    "start_time": "2022-04-03T16:52:11.617Z"
   },
   {
    "duration": 0,
    "start_time": "2022-04-03T16:52:11.619Z"
   },
   {
    "duration": 0,
    "start_time": "2022-04-03T16:52:11.620Z"
   },
   {
    "duration": 1118,
    "start_time": "2022-04-03T16:52:31.146Z"
   },
   {
    "duration": 9224,
    "start_time": "2022-04-03T16:52:47.132Z"
   },
   {
    "duration": 4762,
    "start_time": "2022-04-03T16:53:40.919Z"
   },
   {
    "duration": 5816,
    "start_time": "2022-04-03T16:54:41.783Z"
   },
   {
    "duration": 122,
    "start_time": "2022-04-03T16:54:47.652Z"
   },
   {
    "duration": 10328,
    "start_time": "2022-04-03T16:55:27.263Z"
   },
   {
    "duration": 3786,
    "start_time": "2022-04-03T16:56:07.390Z"
   },
   {
    "duration": 5528,
    "start_time": "2022-04-03T16:56:44.423Z"
   },
   {
    "duration": 44,
    "start_time": "2022-04-03T17:01:15.398Z"
   },
   {
    "duration": 55,
    "start_time": "2022-04-03T17:03:32.296Z"
   },
   {
    "duration": 44,
    "start_time": "2022-04-03T17:05:14.105Z"
   },
   {
    "duration": 107,
    "start_time": "2022-04-03T17:07:51.538Z"
   },
   {
    "duration": 93,
    "start_time": "2022-04-03T17:09:35.067Z"
   },
   {
    "duration": 142,
    "start_time": "2022-04-03T17:10:07.011Z"
   },
   {
    "duration": 36,
    "start_time": "2022-04-03T17:11:29.962Z"
   },
   {
    "duration": 78,
    "start_time": "2022-04-03T17:14:17.056Z"
   },
   {
    "duration": 30,
    "start_time": "2022-04-03T17:15:11.602Z"
   },
   {
    "duration": 39,
    "start_time": "2022-04-03T17:19:20.080Z"
   },
   {
    "duration": 13,
    "start_time": "2022-04-03T17:20:43.593Z"
   },
   {
    "duration": 6,
    "start_time": "2022-04-03T17:21:48.290Z"
   },
   {
    "duration": 7733,
    "start_time": "2022-04-03T17:21:52.440Z"
   },
   {
    "duration": 7648,
    "start_time": "2022-04-03T17:22:22.839Z"
   },
   {
    "duration": 736,
    "start_time": "2022-04-03T17:25:25.542Z"
   },
   {
    "duration": 1058,
    "start_time": "2022-04-03T17:27:24.387Z"
   },
   {
    "duration": 243,
    "start_time": "2022-04-03T17:28:08.829Z"
   },
   {
    "duration": 496,
    "start_time": "2022-04-03T17:29:46.848Z"
   },
   {
    "duration": 113,
    "start_time": "2022-04-03T17:35:30.133Z"
   },
   {
    "duration": 141,
    "start_time": "2022-04-03T17:35:43.714Z"
   },
   {
    "duration": 2147,
    "start_time": "2022-04-03T17:52:35.644Z"
   },
   {
    "duration": 65,
    "start_time": "2022-04-03T17:52:37.795Z"
   },
   {
    "duration": 6,
    "start_time": "2022-04-03T17:52:37.862Z"
   },
   {
    "duration": 21,
    "start_time": "2022-04-03T17:52:37.871Z"
   },
   {
    "duration": 11,
    "start_time": "2022-04-03T17:52:37.894Z"
   },
   {
    "duration": 39,
    "start_time": "2022-04-03T17:52:37.907Z"
   },
   {
    "duration": 34,
    "start_time": "2022-04-03T17:52:37.949Z"
   },
   {
    "duration": 13,
    "start_time": "2022-04-03T17:52:37.985Z"
   },
   {
    "duration": 42,
    "start_time": "2022-04-03T17:52:38.001Z"
   },
   {
    "duration": 5,
    "start_time": "2022-04-03T17:52:38.047Z"
   },
   {
    "duration": 9,
    "start_time": "2022-04-03T17:52:38.054Z"
   },
   {
    "duration": 8,
    "start_time": "2022-04-03T17:52:38.066Z"
   },
   {
    "duration": 20,
    "start_time": "2022-04-03T17:52:38.076Z"
   },
   {
    "duration": 63,
    "start_time": "2022-04-03T17:52:38.098Z"
   },
   {
    "duration": 13,
    "start_time": "2022-04-03T17:52:38.163Z"
   },
   {
    "duration": 10,
    "start_time": "2022-04-03T17:52:38.177Z"
   },
   {
    "duration": 55,
    "start_time": "2022-04-03T17:52:38.189Z"
   },
   {
    "duration": 16,
    "start_time": "2022-04-03T17:52:38.246Z"
   },
   {
    "duration": 9,
    "start_time": "2022-04-03T17:52:38.264Z"
   },
   {
    "duration": 12,
    "start_time": "2022-04-03T17:52:38.276Z"
   },
   {
    "duration": 13,
    "start_time": "2022-04-03T17:52:38.290Z"
   },
   {
    "duration": 70,
    "start_time": "2022-04-03T17:52:38.305Z"
   },
   {
    "duration": 209,
    "start_time": "2022-04-03T17:52:38.377Z"
   },
   {
    "duration": 5556,
    "start_time": "2022-04-03T17:52:38.588Z"
   },
   {
    "duration": 206,
    "start_time": "2022-04-03T17:52:44.147Z"
   },
   {
    "duration": 191,
    "start_time": "2022-04-03T17:52:44.357Z"
   },
   {
    "duration": 292,
    "start_time": "2022-04-03T17:52:44.551Z"
   },
   {
    "duration": 114,
    "start_time": "2022-04-03T17:52:44.848Z"
   },
   {
    "duration": 225,
    "start_time": "2022-04-03T17:52:45.044Z"
   },
   {
    "duration": 0,
    "start_time": "2022-04-03T17:52:45.271Z"
   },
   {
    "duration": 0,
    "start_time": "2022-04-03T17:52:45.273Z"
   },
   {
    "duration": 0,
    "start_time": "2022-04-03T17:52:45.275Z"
   },
   {
    "duration": 0,
    "start_time": "2022-04-03T17:52:45.277Z"
   },
   {
    "duration": 0,
    "start_time": "2022-04-03T17:52:45.279Z"
   },
   {
    "duration": 0,
    "start_time": "2022-04-03T17:52:45.280Z"
   },
   {
    "duration": 0,
    "start_time": "2022-04-03T17:52:45.282Z"
   },
   {
    "duration": 0,
    "start_time": "2022-04-03T17:52:45.283Z"
   },
   {
    "duration": 0,
    "start_time": "2022-04-03T17:52:45.284Z"
   },
   {
    "duration": 0,
    "start_time": "2022-04-03T17:52:45.285Z"
   },
   {
    "duration": 0,
    "start_time": "2022-04-03T17:52:45.286Z"
   },
   {
    "duration": 1882,
    "start_time": "2022-04-03T18:04:19.863Z"
   },
   {
    "duration": 56,
    "start_time": "2022-04-03T18:04:21.748Z"
   },
   {
    "duration": 5,
    "start_time": "2022-04-03T18:04:21.806Z"
   },
   {
    "duration": 32,
    "start_time": "2022-04-03T18:04:21.814Z"
   },
   {
    "duration": 10,
    "start_time": "2022-04-03T18:04:21.848Z"
   },
   {
    "duration": 9,
    "start_time": "2022-04-03T18:04:21.860Z"
   },
   {
    "duration": 31,
    "start_time": "2022-04-03T18:04:21.871Z"
   },
   {
    "duration": 42,
    "start_time": "2022-04-03T18:04:21.904Z"
   },
   {
    "duration": 7,
    "start_time": "2022-04-03T18:04:21.948Z"
   },
   {
    "duration": 7,
    "start_time": "2022-04-03T18:04:21.959Z"
   },
   {
    "duration": 8,
    "start_time": "2022-04-03T18:04:21.968Z"
   },
   {
    "duration": 8,
    "start_time": "2022-04-03T18:04:21.978Z"
   },
   {
    "duration": 59,
    "start_time": "2022-04-03T18:04:21.988Z"
   },
   {
    "duration": 28,
    "start_time": "2022-04-03T18:04:22.050Z"
   },
   {
    "duration": 14,
    "start_time": "2022-04-03T18:04:22.081Z"
   },
   {
    "duration": 49,
    "start_time": "2022-04-03T18:04:22.098Z"
   },
   {
    "duration": 25,
    "start_time": "2022-04-03T18:04:22.149Z"
   },
   {
    "duration": 15,
    "start_time": "2022-04-03T18:04:22.176Z"
   },
   {
    "duration": 10,
    "start_time": "2022-04-03T18:04:22.193Z"
   },
   {
    "duration": 43,
    "start_time": "2022-04-03T18:04:22.205Z"
   },
   {
    "duration": 11,
    "start_time": "2022-04-03T18:04:22.251Z"
   },
   {
    "duration": 313,
    "start_time": "2022-04-03T18:04:22.265Z"
   },
   {
    "duration": 0,
    "start_time": "2022-04-03T18:04:22.580Z"
   },
   {
    "duration": 0,
    "start_time": "2022-04-03T18:04:22.581Z"
   },
   {
    "duration": 0,
    "start_time": "2022-04-03T18:04:22.583Z"
   },
   {
    "duration": 0,
    "start_time": "2022-04-03T18:04:22.584Z"
   },
   {
    "duration": 0,
    "start_time": "2022-04-03T18:04:22.586Z"
   },
   {
    "duration": 0,
    "start_time": "2022-04-03T18:04:22.587Z"
   },
   {
    "duration": 0,
    "start_time": "2022-04-03T18:04:22.589Z"
   },
   {
    "duration": 0,
    "start_time": "2022-04-03T18:04:22.590Z"
   },
   {
    "duration": 1,
    "start_time": "2022-04-03T18:04:22.591Z"
   },
   {
    "duration": 0,
    "start_time": "2022-04-03T18:04:22.593Z"
   },
   {
    "duration": 0,
    "start_time": "2022-04-03T18:04:22.594Z"
   },
   {
    "duration": 0,
    "start_time": "2022-04-03T18:04:22.596Z"
   },
   {
    "duration": 0,
    "start_time": "2022-04-03T18:04:22.597Z"
   },
   {
    "duration": 0,
    "start_time": "2022-04-03T18:04:22.598Z"
   },
   {
    "duration": 0,
    "start_time": "2022-04-03T18:04:22.599Z"
   },
   {
    "duration": 0,
    "start_time": "2022-04-03T18:04:22.601Z"
   },
   {
    "duration": 0,
    "start_time": "2022-04-03T18:04:22.602Z"
   },
   {
    "duration": 0,
    "start_time": "2022-04-03T18:04:22.603Z"
   },
   {
    "duration": 1958,
    "start_time": "2022-04-03T18:04:56.320Z"
   },
   {
    "duration": 56,
    "start_time": "2022-04-03T18:04:58.281Z"
   },
   {
    "duration": 5,
    "start_time": "2022-04-03T18:04:58.339Z"
   },
   {
    "duration": 21,
    "start_time": "2022-04-03T18:04:58.347Z"
   },
   {
    "duration": 10,
    "start_time": "2022-04-03T18:04:58.370Z"
   },
   {
    "duration": 8,
    "start_time": "2022-04-03T18:04:58.382Z"
   },
   {
    "duration": 63,
    "start_time": "2022-04-03T18:04:58.392Z"
   },
   {
    "duration": 15,
    "start_time": "2022-04-03T18:04:58.457Z"
   },
   {
    "duration": 6,
    "start_time": "2022-04-03T18:04:58.474Z"
   },
   {
    "duration": 5,
    "start_time": "2022-04-03T18:04:58.484Z"
   },
   {
    "duration": 9,
    "start_time": "2022-04-03T18:04:58.491Z"
   },
   {
    "duration": 42,
    "start_time": "2022-04-03T18:04:58.502Z"
   },
   {
    "duration": 18,
    "start_time": "2022-04-03T18:04:58.546Z"
   },
   {
    "duration": 28,
    "start_time": "2022-04-03T18:04:58.566Z"
   },
   {
    "duration": 14,
    "start_time": "2022-04-03T18:04:58.595Z"
   },
   {
    "duration": 37,
    "start_time": "2022-04-03T18:04:58.611Z"
   },
   {
    "duration": 24,
    "start_time": "2022-04-03T18:04:58.650Z"
   },
   {
    "duration": 16,
    "start_time": "2022-04-03T18:04:58.676Z"
   },
   {
    "duration": 8,
    "start_time": "2022-04-03T18:04:58.694Z"
   },
   {
    "duration": 46,
    "start_time": "2022-04-03T18:04:58.704Z"
   },
   {
    "duration": 11,
    "start_time": "2022-04-03T18:04:58.752Z"
   },
   {
    "duration": 88,
    "start_time": "2022-04-03T18:04:58.765Z"
   },
   {
    "duration": 31,
    "start_time": "2022-04-03T18:04:58.944Z"
   },
   {
    "duration": 214,
    "start_time": "2022-04-03T18:04:58.977Z"
   },
   {
    "duration": 5767,
    "start_time": "2022-04-03T18:04:59.193Z"
   },
   {
    "duration": 201,
    "start_time": "2022-04-03T18:05:05.045Z"
   },
   {
    "duration": 196,
    "start_time": "2022-04-03T18:05:05.249Z"
   },
   {
    "duration": 199,
    "start_time": "2022-04-03T18:05:05.453Z"
   },
   {
    "duration": 101,
    "start_time": "2022-04-03T18:05:05.743Z"
   },
   {
    "duration": 209,
    "start_time": "2022-04-03T18:05:05.852Z"
   },
   {
    "duration": 30,
    "start_time": "2022-04-03T18:05:06.063Z"
   },
   {
    "duration": 70,
    "start_time": "2022-04-03T18:05:06.095Z"
   },
   {
    "duration": 21,
    "start_time": "2022-04-03T18:05:06.168Z"
   },
   {
    "duration": 56,
    "start_time": "2022-04-03T18:05:06.192Z"
   },
   {
    "duration": 6123,
    "start_time": "2022-04-03T18:05:06.249Z"
   },
   {
    "duration": 363,
    "start_time": "2022-04-03T18:05:12.374Z"
   },
   {
    "duration": 357,
    "start_time": "2022-04-03T18:05:12.743Z"
   },
   {
    "duration": 659,
    "start_time": "2022-04-03T18:05:13.102Z"
   },
   {
    "duration": 185,
    "start_time": "2022-04-03T18:05:13.764Z"
   },
   {
    "duration": 184,
    "start_time": "2022-04-03T18:05:13.952Z"
   },
   {
    "duration": 2071,
    "start_time": "2022-04-05T14:31:28.413Z"
   },
   {
    "duration": 50,
    "start_time": "2022-04-05T14:31:30.487Z"
   },
   {
    "duration": 5,
    "start_time": "2022-04-05T14:31:30.539Z"
   },
   {
    "duration": 38,
    "start_time": "2022-04-05T14:31:30.547Z"
   },
   {
    "duration": 15,
    "start_time": "2022-04-05T14:31:30.588Z"
   },
   {
    "duration": 9,
    "start_time": "2022-04-05T14:31:30.605Z"
   },
   {
    "duration": 38,
    "start_time": "2022-04-05T14:31:30.616Z"
   },
   {
    "duration": 30,
    "start_time": "2022-04-05T14:31:30.656Z"
   },
   {
    "duration": 13,
    "start_time": "2022-04-05T14:31:30.688Z"
   },
   {
    "duration": 10,
    "start_time": "2022-04-05T14:31:30.704Z"
   },
   {
    "duration": 12,
    "start_time": "2022-04-05T14:31:30.716Z"
   },
   {
    "duration": 10,
    "start_time": "2022-04-05T14:31:30.731Z"
   },
   {
    "duration": 39,
    "start_time": "2022-04-05T14:31:30.744Z"
   },
   {
    "duration": 29,
    "start_time": "2022-04-05T14:31:30.786Z"
   },
   {
    "duration": 15,
    "start_time": "2022-04-05T14:31:30.817Z"
   },
   {
    "duration": 41,
    "start_time": "2022-04-05T14:31:30.835Z"
   },
   {
    "duration": 30,
    "start_time": "2022-04-05T14:31:30.878Z"
   },
   {
    "duration": 30,
    "start_time": "2022-04-05T14:31:30.910Z"
   },
   {
    "duration": 220,
    "start_time": "2022-04-05T14:31:30.943Z"
   },
   {
    "duration": 0,
    "start_time": "2022-04-05T14:31:31.166Z"
   },
   {
    "duration": 0,
    "start_time": "2022-04-05T14:31:31.168Z"
   },
   {
    "duration": 0,
    "start_time": "2022-04-05T14:31:31.169Z"
   },
   {
    "duration": 0,
    "start_time": "2022-04-05T14:31:31.173Z"
   },
   {
    "duration": 0,
    "start_time": "2022-04-05T14:31:31.175Z"
   },
   {
    "duration": 0,
    "start_time": "2022-04-05T14:31:31.177Z"
   },
   {
    "duration": 0,
    "start_time": "2022-04-05T14:31:31.178Z"
   },
   {
    "duration": 0,
    "start_time": "2022-04-05T14:31:31.180Z"
   },
   {
    "duration": 0,
    "start_time": "2022-04-05T14:31:31.181Z"
   },
   {
    "duration": 0,
    "start_time": "2022-04-05T14:31:31.183Z"
   },
   {
    "duration": 0,
    "start_time": "2022-04-05T14:31:31.184Z"
   },
   {
    "duration": 0,
    "start_time": "2022-04-05T14:31:31.186Z"
   },
   {
    "duration": 0,
    "start_time": "2022-04-05T14:31:31.187Z"
   },
   {
    "duration": 0,
    "start_time": "2022-04-05T14:31:31.188Z"
   },
   {
    "duration": 0,
    "start_time": "2022-04-05T14:31:31.190Z"
   },
   {
    "duration": 0,
    "start_time": "2022-04-05T14:31:31.191Z"
   },
   {
    "duration": 0,
    "start_time": "2022-04-05T14:31:31.193Z"
   },
   {
    "duration": 0,
    "start_time": "2022-04-05T14:31:31.194Z"
   },
   {
    "duration": 0,
    "start_time": "2022-04-05T14:31:31.195Z"
   },
   {
    "duration": 0,
    "start_time": "2022-04-05T14:31:31.196Z"
   },
   {
    "duration": 0,
    "start_time": "2022-04-05T14:31:31.198Z"
   },
   {
    "duration": 0,
    "start_time": "2022-04-05T14:31:31.199Z"
   },
   {
    "duration": 102,
    "start_time": "2022-04-05T14:34:13.166Z"
   },
   {
    "duration": 15,
    "start_time": "2022-04-05T14:34:23.970Z"
   },
   {
    "duration": 14,
    "start_time": "2022-04-05T14:34:28.291Z"
   },
   {
    "duration": 33,
    "start_time": "2022-04-05T14:34:51.947Z"
   },
   {
    "duration": 8,
    "start_time": "2022-04-05T14:38:30.659Z"
   },
   {
    "duration": 14,
    "start_time": "2022-04-05T14:38:32.509Z"
   },
   {
    "duration": 5,
    "start_time": "2022-04-05T14:39:28.143Z"
   },
   {
    "duration": 17,
    "start_time": "2022-04-05T14:39:29.833Z"
   },
   {
    "duration": 6,
    "start_time": "2022-04-05T14:40:01.618Z"
   },
   {
    "duration": 15,
    "start_time": "2022-04-05T14:40:02.668Z"
   },
   {
    "duration": 17,
    "start_time": "2022-04-05T14:40:09.413Z"
   },
   {
    "duration": 14,
    "start_time": "2022-04-05T14:40:20.109Z"
   },
   {
    "duration": 17,
    "start_time": "2022-04-05T14:41:23.458Z"
   },
   {
    "duration": 15,
    "start_time": "2022-04-05T14:41:37.252Z"
   },
   {
    "duration": 208,
    "start_time": "2022-04-05T14:42:30.517Z"
   },
   {
    "duration": 1966,
    "start_time": "2022-04-05T14:42:37.952Z"
   },
   {
    "duration": 609,
    "start_time": "2022-04-05T14:43:05.248Z"
   },
   {
    "duration": 1129,
    "start_time": "2022-04-05T14:44:42.737Z"
   },
   {
    "duration": 2318,
    "start_time": "2022-04-05T17:29:18.040Z"
   },
   {
    "duration": 188,
    "start_time": "2022-04-05T17:29:20.360Z"
   },
   {
    "duration": 6,
    "start_time": "2022-04-05T17:29:20.550Z"
   },
   {
    "duration": 21,
    "start_time": "2022-04-05T17:29:20.559Z"
   },
   {
    "duration": 9,
    "start_time": "2022-04-05T17:29:20.583Z"
   },
   {
    "duration": 8,
    "start_time": "2022-04-05T17:29:20.594Z"
   },
   {
    "duration": 64,
    "start_time": "2022-04-05T17:29:20.603Z"
   },
   {
    "duration": 18,
    "start_time": "2022-04-05T17:29:20.669Z"
   },
   {
    "duration": 7,
    "start_time": "2022-04-05T17:29:20.689Z"
   },
   {
    "duration": 10,
    "start_time": "2022-04-05T17:29:20.699Z"
   },
   {
    "duration": 34,
    "start_time": "2022-04-05T17:29:20.711Z"
   },
   {
    "duration": 8,
    "start_time": "2022-04-05T17:29:20.747Z"
   },
   {
    "duration": 15,
    "start_time": "2022-04-05T17:29:20.757Z"
   },
   {
    "duration": 21,
    "start_time": "2022-04-05T17:29:20.774Z"
   },
   {
    "duration": 46,
    "start_time": "2022-04-05T17:29:20.797Z"
   },
   {
    "duration": 13,
    "start_time": "2022-04-05T17:29:20.845Z"
   },
   {
    "duration": 9,
    "start_time": "2022-04-05T17:29:20.860Z"
   },
   {
    "duration": 19,
    "start_time": "2022-04-05T17:29:20.871Z"
   },
   {
    "duration": 15,
    "start_time": "2022-04-05T17:29:20.892Z"
   },
   {
    "duration": 1176,
    "start_time": "2022-04-05T17:29:20.943Z"
   },
   {
    "duration": 8,
    "start_time": "2022-04-05T17:29:22.122Z"
   },
   {
    "duration": 13,
    "start_time": "2022-04-05T17:29:22.132Z"
   },
   {
    "duration": 13,
    "start_time": "2022-04-05T17:29:22.147Z"
   },
   {
    "duration": 31,
    "start_time": "2022-04-05T17:29:22.162Z"
   },
   {
    "duration": 64,
    "start_time": "2022-04-05T17:29:22.195Z"
   },
   {
    "duration": 283,
    "start_time": "2022-04-05T17:29:22.345Z"
   },
   {
    "duration": 6529,
    "start_time": "2022-04-05T17:29:22.630Z"
   },
   {
    "duration": 195,
    "start_time": "2022-04-05T17:29:29.250Z"
   },
   {
    "duration": 196,
    "start_time": "2022-04-05T17:29:29.449Z"
   },
   {
    "duration": 297,
    "start_time": "2022-04-05T17:29:29.649Z"
   },
   {
    "duration": 201,
    "start_time": "2022-04-05T17:29:29.950Z"
   },
   {
    "duration": 217,
    "start_time": "2022-04-05T17:29:30.244Z"
   },
   {
    "duration": 83,
    "start_time": "2022-04-05T17:29:30.463Z"
   },
   {
    "duration": 100,
    "start_time": "2022-04-05T17:29:30.548Z"
   },
   {
    "duration": 19,
    "start_time": "2022-04-05T17:29:30.650Z"
   },
   {
    "duration": 83,
    "start_time": "2022-04-05T17:29:30.671Z"
   },
   {
    "duration": 6520,
    "start_time": "2022-04-05T17:29:30.756Z"
   },
   {
    "duration": 355,
    "start_time": "2022-04-05T17:29:37.278Z"
   },
   {
    "duration": 353,
    "start_time": "2022-04-05T17:29:37.643Z"
   },
   {
    "duration": 686,
    "start_time": "2022-04-05T17:29:37.998Z"
   },
   {
    "duration": 193,
    "start_time": "2022-04-05T17:29:38.686Z"
   },
   {
    "duration": 195,
    "start_time": "2022-04-05T17:29:38.881Z"
   },
   {
    "duration": 6,
    "start_time": "2022-04-05T17:38:52.197Z"
   },
   {
    "duration": 26194,
    "start_time": "2022-04-05T17:44:37.224Z"
   },
   {
    "duration": 3,
    "start_time": "2022-04-05T17:47:47.011Z"
   },
   {
    "duration": 176,
    "start_time": "2022-04-05T17:56:39.804Z"
   },
   {
    "duration": 204,
    "start_time": "2022-04-05T18:10:06.489Z"
   },
   {
    "duration": 9,
    "start_time": "2022-04-05T18:10:47.819Z"
   },
   {
    "duration": 108,
    "start_time": "2022-04-05T18:33:35.173Z"
   },
   {
    "duration": 28463,
    "start_time": "2022-04-05T18:36:15.884Z"
   },
   {
    "duration": 33605,
    "start_time": "2022-04-05T18:38:51.550Z"
   },
   {
    "duration": 1444,
    "start_time": "2022-04-05T19:18:42.861Z"
   },
   {
    "duration": 4,
    "start_time": "2022-04-05T19:18:48.527Z"
   },
   {
    "duration": 6875,
    "start_time": "2022-04-05T19:25:37.498Z"
   },
   {
    "duration": 76349,
    "start_time": "2022-04-05T19:26:11.076Z"
   },
   {
    "duration": 2633,
    "start_time": "2022-04-06T05:32:41.628Z"
   },
   {
    "duration": 62,
    "start_time": "2022-04-06T05:32:44.263Z"
   },
   {
    "duration": 6,
    "start_time": "2022-04-06T05:32:44.327Z"
   },
   {
    "duration": 47,
    "start_time": "2022-04-06T05:32:44.336Z"
   },
   {
    "duration": 12,
    "start_time": "2022-04-06T05:32:44.386Z"
   },
   {
    "duration": 8,
    "start_time": "2022-04-06T05:32:44.400Z"
   },
   {
    "duration": 63,
    "start_time": "2022-04-06T05:32:44.411Z"
   },
   {
    "duration": 25,
    "start_time": "2022-04-06T05:32:44.476Z"
   },
   {
    "duration": 7,
    "start_time": "2022-04-06T05:32:44.506Z"
   },
   {
    "duration": 9,
    "start_time": "2022-04-06T05:32:44.517Z"
   },
   {
    "duration": 15,
    "start_time": "2022-04-06T05:32:44.529Z"
   },
   {
    "duration": 29,
    "start_time": "2022-04-06T05:32:44.547Z"
   },
   {
    "duration": 10,
    "start_time": "2022-04-06T05:32:44.578Z"
   },
   {
    "duration": 17,
    "start_time": "2022-04-06T05:32:44.592Z"
   },
   {
    "duration": 29,
    "start_time": "2022-04-06T05:32:44.612Z"
   },
   {
    "duration": 42,
    "start_time": "2022-04-06T05:32:44.644Z"
   },
   {
    "duration": 10,
    "start_time": "2022-04-06T05:32:44.689Z"
   },
   {
    "duration": 24,
    "start_time": "2022-04-06T05:32:44.702Z"
   },
   {
    "duration": 56,
    "start_time": "2022-04-06T05:32:44.729Z"
   },
   {
    "duration": 1251,
    "start_time": "2022-04-06T05:32:44.787Z"
   },
   {
    "duration": 9,
    "start_time": "2022-04-06T05:32:46.041Z"
   },
   {
    "duration": 32,
    "start_time": "2022-04-06T05:32:46.052Z"
   },
   {
    "duration": 22,
    "start_time": "2022-04-06T05:32:46.086Z"
   },
   {
    "duration": 32,
    "start_time": "2022-04-06T05:32:46.110Z"
   },
   {
    "duration": 144,
    "start_time": "2022-04-06T05:32:46.144Z"
   },
   {
    "duration": 274,
    "start_time": "2022-04-06T05:32:46.292Z"
   },
   {
    "duration": 29808,
    "start_time": "2022-04-06T05:32:46.574Z"
   },
   {
    "duration": 5,
    "start_time": "2022-04-06T05:33:16.390Z"
   },
   {
    "duration": 198,
    "start_time": "2022-04-06T05:33:16.400Z"
   },
   {
    "duration": 97,
    "start_time": "2022-04-06T05:33:16.600Z"
   },
   {
    "duration": 197,
    "start_time": "2022-04-06T05:33:16.699Z"
   },
   {
    "duration": 123,
    "start_time": "2022-04-06T05:33:16.974Z"
   },
   {
    "duration": 1100,
    "start_time": "2022-04-06T05:33:17.101Z"
   },
   {
    "duration": 4,
    "start_time": "2022-04-06T05:33:18.204Z"
   },
   {
    "duration": 9,
    "start_time": "2022-04-06T05:33:18.210Z"
   },
   {
    "duration": 99,
    "start_time": "2022-04-06T05:33:18.222Z"
   },
   {
    "duration": 23,
    "start_time": "2022-04-06T05:33:18.324Z"
   },
   {
    "duration": 47,
    "start_time": "2022-04-06T05:33:18.349Z"
   },
   {
    "duration": 9627,
    "start_time": "2022-04-06T05:33:18.398Z"
   },
   {
    "duration": 4,
    "start_time": "2022-04-06T05:33:28.027Z"
   },
   {
    "duration": 9,
    "start_time": "2022-04-06T05:33:28.033Z"
   },
   {
    "duration": 399,
    "start_time": "2022-04-06T05:33:28.045Z"
   },
   {
    "duration": 397,
    "start_time": "2022-04-06T05:33:28.447Z"
   },
   {
    "duration": 136,
    "start_time": "2022-04-06T05:33:28.846Z"
   },
   {
    "duration": 46,
    "start_time": "2022-04-06T05:33:28.985Z"
   },
   {
    "duration": 278,
    "start_time": "2022-04-06T05:33:29.033Z"
   },
   {
    "duration": 9,
    "start_time": "2022-04-06T05:33:29.313Z"
   },
   {
    "duration": 74,
    "start_time": "2022-04-06T05:38:18.312Z"
   },
   {
    "duration": 382,
    "start_time": "2022-04-06T05:38:32.954Z"
   },
   {
    "duration": 74,
    "start_time": "2022-04-06T05:38:52.643Z"
   },
   {
    "duration": 73,
    "start_time": "2022-04-06T05:39:23.927Z"
   },
   {
    "duration": 380,
    "start_time": "2022-04-06T05:39:33.782Z"
   },
   {
    "duration": 393,
    "start_time": "2022-04-06T05:39:44.233Z"
   },
   {
    "duration": 41,
    "start_time": "2022-04-06T06:04:01.686Z"
   },
   {
    "duration": 255,
    "start_time": "2022-04-06T06:04:56.230Z"
   },
   {
    "duration": 12,
    "start_time": "2022-04-06T06:05:06.560Z"
   },
   {
    "duration": 193,
    "start_time": "2022-04-06T06:06:42.703Z"
   },
   {
    "duration": 8,
    "start_time": "2022-04-06T06:07:03.787Z"
   },
   {
    "duration": 9,
    "start_time": "2022-04-06T06:07:06.789Z"
   },
   {
    "duration": 114,
    "start_time": "2022-04-06T06:08:52.329Z"
   },
   {
    "duration": 49,
    "start_time": "2022-04-06T06:08:59.753Z"
   },
   {
    "duration": 2189,
    "start_time": "2022-04-06T06:17:41.944Z"
   },
   {
    "duration": 77,
    "start_time": "2022-04-06T06:17:44.136Z"
   },
   {
    "duration": 6,
    "start_time": "2022-04-06T06:17:44.216Z"
   },
   {
    "duration": 19,
    "start_time": "2022-04-06T06:17:44.225Z"
   },
   {
    "duration": 29,
    "start_time": "2022-04-06T06:17:44.246Z"
   },
   {
    "duration": 12,
    "start_time": "2022-04-06T06:17:44.278Z"
   },
   {
    "duration": 51,
    "start_time": "2022-04-06T06:17:44.292Z"
   },
   {
    "duration": 43,
    "start_time": "2022-04-06T06:17:44.346Z"
   },
   {
    "duration": 7,
    "start_time": "2022-04-06T06:17:44.392Z"
   },
   {
    "duration": 9,
    "start_time": "2022-04-06T06:17:44.403Z"
   },
   {
    "duration": 13,
    "start_time": "2022-04-06T06:17:44.415Z"
   },
   {
    "duration": 16,
    "start_time": "2022-04-06T06:17:44.430Z"
   },
   {
    "duration": 31,
    "start_time": "2022-04-06T06:17:44.448Z"
   },
   {
    "duration": 29,
    "start_time": "2022-04-06T06:17:44.482Z"
   },
   {
    "duration": 21,
    "start_time": "2022-04-06T06:17:44.514Z"
   },
   {
    "duration": 4,
    "start_time": "2022-04-06T06:17:44.537Z"
   },
   {
    "duration": 31,
    "start_time": "2022-04-06T06:17:44.543Z"
   },
   {
    "duration": 40,
    "start_time": "2022-04-06T06:17:44.578Z"
   },
   {
    "duration": 16,
    "start_time": "2022-04-06T06:17:44.620Z"
   },
   {
    "duration": 2385,
    "start_time": "2022-04-06T06:17:44.638Z"
   },
   {
    "duration": 74,
    "start_time": "2022-04-06T06:17:47.025Z"
   },
   {
    "duration": 9,
    "start_time": "2022-04-06T06:17:47.102Z"
   },
   {
    "duration": 65,
    "start_time": "2022-04-06T06:17:47.113Z"
   },
   {
    "duration": 44,
    "start_time": "2022-04-06T06:17:47.181Z"
   },
   {
    "duration": 205,
    "start_time": "2022-04-06T06:17:47.275Z"
   },
   {
    "duration": 420,
    "start_time": "2022-04-06T06:17:47.483Z"
   },
   {
    "duration": 20977,
    "start_time": "2022-04-06T06:17:47.905Z"
   },
   {
    "duration": 8,
    "start_time": "2022-04-06T06:18:08.973Z"
   },
   {
    "duration": 93,
    "start_time": "2022-04-06T06:18:08.984Z"
   },
   {
    "duration": 197,
    "start_time": "2022-04-06T06:18:09.081Z"
   },
   {
    "duration": 199,
    "start_time": "2022-04-06T06:18:09.281Z"
   },
   {
    "duration": 10,
    "start_time": "2022-04-06T06:18:09.484Z"
   },
   {
    "duration": 0,
    "start_time": "2022-04-06T06:18:09.576Z"
   },
   {
    "duration": 0,
    "start_time": "2022-04-06T06:18:09.579Z"
   },
   {
    "duration": 0,
    "start_time": "2022-04-06T06:18:09.581Z"
   },
   {
    "duration": 0,
    "start_time": "2022-04-06T06:18:09.584Z"
   },
   {
    "duration": 0,
    "start_time": "2022-04-06T06:18:09.587Z"
   },
   {
    "duration": 0,
    "start_time": "2022-04-06T06:18:09.589Z"
   },
   {
    "duration": 0,
    "start_time": "2022-04-06T06:18:09.591Z"
   },
   {
    "duration": 0,
    "start_time": "2022-04-06T06:18:09.593Z"
   },
   {
    "duration": 0,
    "start_time": "2022-04-06T06:18:09.595Z"
   },
   {
    "duration": 0,
    "start_time": "2022-04-06T06:18:09.596Z"
   },
   {
    "duration": 0,
    "start_time": "2022-04-06T06:18:09.598Z"
   },
   {
    "duration": 0,
    "start_time": "2022-04-06T06:18:09.599Z"
   },
   {
    "duration": 0,
    "start_time": "2022-04-06T06:18:09.601Z"
   },
   {
    "duration": 1,
    "start_time": "2022-04-06T06:18:09.602Z"
   },
   {
    "duration": 8,
    "start_time": "2022-04-06T06:21:17.799Z"
   },
   {
    "duration": 1026,
    "start_time": "2022-04-06T06:21:33.910Z"
   },
   {
    "duration": 1932,
    "start_time": "2022-04-06T06:23:28.427Z"
   },
   {
    "duration": 60,
    "start_time": "2022-04-06T06:23:30.362Z"
   },
   {
    "duration": 6,
    "start_time": "2022-04-06T06:23:30.424Z"
   },
   {
    "duration": 39,
    "start_time": "2022-04-06T06:23:30.432Z"
   },
   {
    "duration": 20,
    "start_time": "2022-04-06T06:23:30.476Z"
   },
   {
    "duration": 18,
    "start_time": "2022-04-06T06:23:30.498Z"
   },
   {
    "duration": 41,
    "start_time": "2022-04-06T06:23:30.518Z"
   },
   {
    "duration": 37,
    "start_time": "2022-04-06T06:23:30.562Z"
   },
   {
    "duration": 6,
    "start_time": "2022-04-06T06:23:30.602Z"
   },
   {
    "duration": 24,
    "start_time": "2022-04-06T06:23:30.610Z"
   },
   {
    "duration": 16,
    "start_time": "2022-04-06T06:23:30.636Z"
   },
   {
    "duration": 14,
    "start_time": "2022-04-06T06:23:30.654Z"
   },
   {
    "duration": 22,
    "start_time": "2022-04-06T06:23:30.670Z"
   },
   {
    "duration": 26,
    "start_time": "2022-04-06T06:23:30.696Z"
   },
   {
    "duration": 1467,
    "start_time": "2022-04-06T06:23:30.724Z"
   },
   {
    "duration": 27,
    "start_time": "2022-04-06T06:23:32.193Z"
   },
   {
    "duration": 12,
    "start_time": "2022-04-06T06:23:32.223Z"
   },
   {
    "duration": 12,
    "start_time": "2022-04-06T06:23:32.237Z"
   },
   {
    "duration": 60,
    "start_time": "2022-04-06T06:23:32.252Z"
   },
   {
    "duration": 69,
    "start_time": "2022-04-06T06:23:32.314Z"
   },
   {
    "duration": 302,
    "start_time": "2022-04-06T06:23:32.386Z"
   },
   {
    "duration": 21012,
    "start_time": "2022-04-06T06:23:32.691Z"
   },
   {
    "duration": 70,
    "start_time": "2022-04-06T06:23:53.706Z"
   },
   {
    "duration": 205,
    "start_time": "2022-04-06T06:23:53.782Z"
   },
   {
    "duration": 189,
    "start_time": "2022-04-06T06:23:53.992Z"
   },
   {
    "duration": 193,
    "start_time": "2022-04-06T06:23:54.184Z"
   },
   {
    "duration": 1076,
    "start_time": "2022-04-06T06:23:54.380Z"
   },
   {
    "duration": 4,
    "start_time": "2022-04-06T06:23:55.458Z"
   },
   {
    "duration": 51,
    "start_time": "2022-04-06T06:23:55.464Z"
   },
   {
    "duration": 65,
    "start_time": "2022-04-06T06:23:55.517Z"
   },
   {
    "duration": 21,
    "start_time": "2022-04-06T06:23:55.585Z"
   },
   {
    "duration": 9575,
    "start_time": "2022-04-06T06:23:55.608Z"
   },
   {
    "duration": 4,
    "start_time": "2022-04-06T06:24:05.187Z"
   },
   {
    "duration": 419,
    "start_time": "2022-04-06T06:24:05.193Z"
   },
   {
    "duration": 408,
    "start_time": "2022-04-06T06:24:05.614Z"
   },
   {
    "duration": 192,
    "start_time": "2022-04-06T06:24:06.025Z"
   },
   {
    "duration": 1,
    "start_time": "2022-04-06T06:24:06.219Z"
   },
   {
    "duration": 0,
    "start_time": "2022-04-06T06:24:06.221Z"
   },
   {
    "duration": 0,
    "start_time": "2022-04-06T06:24:06.223Z"
   },
   {
    "duration": 0,
    "start_time": "2022-04-06T06:24:06.224Z"
   },
   {
    "duration": 0,
    "start_time": "2022-04-06T06:24:06.226Z"
   },
   {
    "duration": 785,
    "start_time": "2022-04-06T06:25:05.812Z"
   },
   {
    "duration": 211,
    "start_time": "2022-04-06T06:25:13.112Z"
   },
   {
    "duration": 47,
    "start_time": "2022-04-06T06:25:21.156Z"
   },
   {
    "duration": 247,
    "start_time": "2022-04-06T06:25:24.405Z"
   },
   {
    "duration": 10,
    "start_time": "2022-04-06T06:25:26.227Z"
   },
   {
    "duration": 10,
    "start_time": "2022-04-06T06:25:29.322Z"
   },
   {
    "duration": 2425,
    "start_time": "2022-04-06T06:28:31.788Z"
   },
   {
    "duration": 110,
    "start_time": "2022-04-06T06:28:34.215Z"
   },
   {
    "duration": 7,
    "start_time": "2022-04-06T06:28:34.375Z"
   },
   {
    "duration": 27,
    "start_time": "2022-04-06T06:28:34.386Z"
   },
   {
    "duration": 10,
    "start_time": "2022-04-06T06:28:34.415Z"
   },
   {
    "duration": 10,
    "start_time": "2022-04-06T06:28:34.476Z"
   },
   {
    "duration": 86,
    "start_time": "2022-04-06T06:28:34.489Z"
   },
   {
    "duration": 30,
    "start_time": "2022-04-06T06:28:34.578Z"
   },
   {
    "duration": 7,
    "start_time": "2022-04-06T06:28:34.611Z"
   },
   {
    "duration": 52,
    "start_time": "2022-04-06T06:28:34.622Z"
   },
   {
    "duration": 25,
    "start_time": "2022-04-06T06:28:34.677Z"
   },
   {
    "duration": 8,
    "start_time": "2022-04-06T06:28:34.704Z"
   },
   {
    "duration": 5,
    "start_time": "2022-04-06T06:28:34.714Z"
   },
   {
    "duration": 68,
    "start_time": "2022-04-06T06:28:34.720Z"
   },
   {
    "duration": 2519,
    "start_time": "2022-04-06T06:28:34.791Z"
   },
   {
    "duration": 39,
    "start_time": "2022-04-06T06:28:37.313Z"
   },
   {
    "duration": 27,
    "start_time": "2022-04-06T06:28:37.354Z"
   },
   {
    "duration": 13,
    "start_time": "2022-04-06T06:28:37.388Z"
   },
   {
    "duration": 44,
    "start_time": "2022-04-06T06:28:37.404Z"
   },
   {
    "duration": 129,
    "start_time": "2022-04-06T06:28:37.450Z"
   },
   {
    "duration": 292,
    "start_time": "2022-04-06T06:28:37.582Z"
   },
   {
    "duration": 20208,
    "start_time": "2022-04-06T06:28:37.880Z"
   },
   {
    "duration": 82,
    "start_time": "2022-04-06T06:28:58.092Z"
   },
   {
    "duration": 98,
    "start_time": "2022-04-06T06:28:58.177Z"
   },
   {
    "duration": 203,
    "start_time": "2022-04-06T06:28:58.278Z"
   },
   {
    "duration": 192,
    "start_time": "2022-04-06T06:28:58.484Z"
   },
   {
    "duration": 1123,
    "start_time": "2022-04-06T06:28:58.679Z"
   },
   {
    "duration": 4,
    "start_time": "2022-04-06T06:28:59.807Z"
   },
   {
    "duration": 41,
    "start_time": "2022-04-06T06:28:59.813Z"
   },
   {
    "duration": 70,
    "start_time": "2022-04-06T06:28:59.856Z"
   },
   {
    "duration": 23,
    "start_time": "2022-04-06T06:28:59.928Z"
   },
   {
    "duration": 10102,
    "start_time": "2022-04-06T06:28:59.974Z"
   },
   {
    "duration": 9,
    "start_time": "2022-04-06T06:29:10.079Z"
   },
   {
    "duration": 404,
    "start_time": "2022-04-06T06:29:10.090Z"
   },
   {
    "duration": 402,
    "start_time": "2022-04-06T06:29:10.496Z"
   },
   {
    "duration": 877,
    "start_time": "2022-04-06T06:29:10.901Z"
   },
   {
    "duration": 206,
    "start_time": "2022-04-06T06:29:11.786Z"
   },
   {
    "duration": 41,
    "start_time": "2022-04-06T06:29:11.995Z"
   },
   {
    "duration": 252,
    "start_time": "2022-04-06T06:29:12.038Z"
   },
   {
    "duration": 11,
    "start_time": "2022-04-06T06:29:12.293Z"
   },
   {
    "duration": 24,
    "start_time": "2022-04-06T06:29:12.306Z"
   },
   {
    "duration": 7,
    "start_time": "2022-04-06T06:31:09.894Z"
   },
   {
    "duration": 20,
    "start_time": "2022-04-06T06:31:11.486Z"
   },
   {
    "duration": 8,
    "start_time": "2022-04-06T06:31:52.738Z"
   },
   {
    "duration": 18,
    "start_time": "2022-04-06T06:31:53.888Z"
   },
   {
    "duration": 2081,
    "start_time": "2022-04-06T06:33:20.462Z"
   },
   {
    "duration": 63,
    "start_time": "2022-04-06T06:33:22.546Z"
   },
   {
    "duration": 5,
    "start_time": "2022-04-06T06:33:22.611Z"
   },
   {
    "duration": 26,
    "start_time": "2022-04-06T06:33:22.619Z"
   },
   {
    "duration": 28,
    "start_time": "2022-04-06T06:33:22.647Z"
   },
   {
    "duration": 11,
    "start_time": "2022-04-06T06:33:22.678Z"
   },
   {
    "duration": 48,
    "start_time": "2022-04-06T06:33:22.691Z"
   },
   {
    "duration": 15,
    "start_time": "2022-04-06T06:33:22.741Z"
   },
   {
    "duration": 19,
    "start_time": "2022-04-06T06:33:22.758Z"
   },
   {
    "duration": 18,
    "start_time": "2022-04-06T06:33:22.783Z"
   },
   {
    "duration": 9,
    "start_time": "2022-04-06T06:33:22.803Z"
   },
   {
    "duration": 8,
    "start_time": "2022-04-06T06:33:22.814Z"
   },
   {
    "duration": 7,
    "start_time": "2022-04-06T06:33:22.824Z"
   },
   {
    "duration": 58,
    "start_time": "2022-04-06T06:33:22.832Z"
   },
   {
    "duration": 1823,
    "start_time": "2022-04-06T06:33:22.892Z"
   },
   {
    "duration": 70,
    "start_time": "2022-04-06T06:33:24.717Z"
   },
   {
    "duration": 10,
    "start_time": "2022-04-06T06:33:24.789Z"
   },
   {
    "duration": 12,
    "start_time": "2022-04-06T06:33:24.800Z"
   },
   {
    "duration": 103,
    "start_time": "2022-04-06T06:33:24.814Z"
   },
   {
    "duration": 256,
    "start_time": "2022-04-06T06:33:24.920Z"
   },
   {
    "duration": 439,
    "start_time": "2022-04-06T06:33:25.179Z"
   },
   {
    "duration": 21355,
    "start_time": "2022-04-06T06:33:25.621Z"
   },
   {
    "duration": 5,
    "start_time": "2022-04-06T06:33:46.980Z"
   },
   {
    "duration": 186,
    "start_time": "2022-04-06T06:33:46.992Z"
   },
   {
    "duration": 201,
    "start_time": "2022-04-06T06:33:47.180Z"
   },
   {
    "duration": 195,
    "start_time": "2022-04-06T06:33:47.384Z"
   },
   {
    "duration": 1092,
    "start_time": "2022-04-06T06:33:47.582Z"
   },
   {
    "duration": 5,
    "start_time": "2022-04-06T06:33:48.682Z"
   },
   {
    "duration": 59,
    "start_time": "2022-04-06T06:33:48.690Z"
   },
   {
    "duration": 70,
    "start_time": "2022-04-06T06:33:48.752Z"
   },
   {
    "duration": 21,
    "start_time": "2022-04-06T06:33:48.825Z"
   },
   {
    "duration": 9267,
    "start_time": "2022-04-06T06:33:48.848Z"
   },
   {
    "duration": 4,
    "start_time": "2022-04-06T06:33:58.118Z"
   },
   {
    "duration": 395,
    "start_time": "2022-04-06T06:33:58.125Z"
   },
   {
    "duration": 390,
    "start_time": "2022-04-06T06:33:58.523Z"
   },
   {
    "duration": 763,
    "start_time": "2022-04-06T06:33:58.916Z"
   },
   {
    "duration": 213,
    "start_time": "2022-04-06T06:33:59.682Z"
   },
   {
    "duration": 41,
    "start_time": "2022-04-06T06:33:59.897Z"
   },
   {
    "duration": 254,
    "start_time": "2022-04-06T06:33:59.941Z"
   },
   {
    "duration": 10,
    "start_time": "2022-04-06T06:34:00.198Z"
   },
   {
    "duration": 25,
    "start_time": "2022-04-06T06:34:00.210Z"
   },
   {
    "duration": 1914,
    "start_time": "2022-04-06T08:17:34.490Z"
   },
   {
    "duration": 52,
    "start_time": "2022-04-06T08:17:36.407Z"
   },
   {
    "duration": 5,
    "start_time": "2022-04-06T08:17:36.462Z"
   },
   {
    "duration": 20,
    "start_time": "2022-04-06T08:17:36.475Z"
   },
   {
    "duration": 11,
    "start_time": "2022-04-06T08:17:36.500Z"
   },
   {
    "duration": 10,
    "start_time": "2022-04-06T08:17:36.514Z"
   },
   {
    "duration": 75,
    "start_time": "2022-04-06T08:17:36.526Z"
   },
   {
    "duration": 14,
    "start_time": "2022-04-06T08:17:36.604Z"
   },
   {
    "duration": 16,
    "start_time": "2022-04-06T08:17:36.620Z"
   },
   {
    "duration": 28,
    "start_time": "2022-04-06T08:17:36.638Z"
   },
   {
    "duration": 31,
    "start_time": "2022-04-06T08:17:36.668Z"
   },
   {
    "duration": 26,
    "start_time": "2022-04-06T08:17:36.701Z"
   },
   {
    "duration": 21,
    "start_time": "2022-04-06T08:17:36.729Z"
   },
   {
    "duration": 31,
    "start_time": "2022-04-06T08:17:36.756Z"
   },
   {
    "duration": 1232,
    "start_time": "2022-04-06T08:17:36.790Z"
   },
   {
    "duration": 30,
    "start_time": "2022-04-06T08:17:38.025Z"
   },
   {
    "duration": 18,
    "start_time": "2022-04-06T08:17:38.057Z"
   },
   {
    "duration": 13,
    "start_time": "2022-04-06T08:17:38.077Z"
   },
   {
    "duration": 32,
    "start_time": "2022-04-06T08:17:38.092Z"
   },
   {
    "duration": 64,
    "start_time": "2022-04-06T08:17:38.127Z"
   },
   {
    "duration": 300,
    "start_time": "2022-04-06T08:17:38.276Z"
   },
   {
    "duration": 28908,
    "start_time": "2022-04-06T08:17:38.579Z"
   },
   {
    "duration": 5,
    "start_time": "2022-04-06T08:18:07.578Z"
   },
   {
    "duration": 199,
    "start_time": "2022-04-06T08:18:07.675Z"
   },
   {
    "duration": 198,
    "start_time": "2022-04-06T08:18:07.876Z"
   },
   {
    "duration": 197,
    "start_time": "2022-04-06T08:18:08.076Z"
   },
   {
    "duration": 968,
    "start_time": "2022-04-06T08:18:08.276Z"
   },
   {
    "duration": 4,
    "start_time": "2022-04-06T08:18:09.246Z"
   },
   {
    "duration": 48,
    "start_time": "2022-04-06T08:18:09.252Z"
   },
   {
    "duration": 50,
    "start_time": "2022-04-06T08:18:09.302Z"
   },
   {
    "duration": 21,
    "start_time": "2022-04-06T08:18:09.374Z"
   },
   {
    "duration": 131,
    "start_time": "2022-04-06T08:18:09.398Z"
   },
   {
    "duration": 0,
    "start_time": "2022-04-06T08:18:09.532Z"
   },
   {
    "duration": 0,
    "start_time": "2022-04-06T08:18:09.533Z"
   },
   {
    "duration": 0,
    "start_time": "2022-04-06T08:18:09.535Z"
   },
   {
    "duration": 0,
    "start_time": "2022-04-06T08:18:09.537Z"
   },
   {
    "duration": 0,
    "start_time": "2022-04-06T08:18:09.538Z"
   },
   {
    "duration": 0,
    "start_time": "2022-04-06T08:18:09.539Z"
   },
   {
    "duration": 0,
    "start_time": "2022-04-06T08:18:09.541Z"
   },
   {
    "duration": 0,
    "start_time": "2022-04-06T08:18:09.542Z"
   },
   {
    "duration": 1901,
    "start_time": "2022-04-06T08:18:55.346Z"
   },
   {
    "duration": 51,
    "start_time": "2022-04-06T08:18:57.250Z"
   },
   {
    "duration": 5,
    "start_time": "2022-04-06T08:18:57.303Z"
   },
   {
    "duration": 20,
    "start_time": "2022-04-06T08:18:57.311Z"
   },
   {
    "duration": 10,
    "start_time": "2022-04-06T08:18:57.334Z"
   },
   {
    "duration": 34,
    "start_time": "2022-04-06T08:18:57.346Z"
   },
   {
    "duration": 40,
    "start_time": "2022-04-06T08:18:57.383Z"
   },
   {
    "duration": 14,
    "start_time": "2022-04-06T08:18:57.426Z"
   },
   {
    "duration": 34,
    "start_time": "2022-04-06T08:18:57.443Z"
   },
   {
    "duration": 11,
    "start_time": "2022-04-06T08:18:57.482Z"
   },
   {
    "duration": 14,
    "start_time": "2022-04-06T08:18:57.496Z"
   },
   {
    "duration": 7,
    "start_time": "2022-04-06T08:18:57.513Z"
   },
   {
    "duration": 8,
    "start_time": "2022-04-06T08:18:57.522Z"
   },
   {
    "duration": 51,
    "start_time": "2022-04-06T08:18:57.532Z"
   },
   {
    "duration": 1177,
    "start_time": "2022-04-06T08:18:57.585Z"
   },
   {
    "duration": 27,
    "start_time": "2022-04-06T08:18:58.765Z"
   },
   {
    "duration": 10,
    "start_time": "2022-04-06T08:18:58.794Z"
   },
   {
    "duration": 18,
    "start_time": "2022-04-06T08:18:58.805Z"
   },
   {
    "duration": 54,
    "start_time": "2022-04-06T08:18:58.825Z"
   },
   {
    "duration": 96,
    "start_time": "2022-04-06T08:18:58.881Z"
   },
   {
    "duration": 295,
    "start_time": "2022-04-06T08:18:58.981Z"
   },
   {
    "duration": 28114,
    "start_time": "2022-04-06T08:18:59.279Z"
   },
   {
    "duration": 5,
    "start_time": "2022-04-06T08:19:27.473Z"
   },
   {
    "duration": 196,
    "start_time": "2022-04-06T08:19:27.482Z"
   },
   {
    "duration": 198,
    "start_time": "2022-04-06T08:19:27.681Z"
   },
   {
    "duration": 101,
    "start_time": "2022-04-06T08:19:27.975Z"
   },
   {
    "duration": 1026,
    "start_time": "2022-04-06T08:19:28.079Z"
   },
   {
    "duration": 4,
    "start_time": "2022-04-06T08:19:29.110Z"
   },
   {
    "duration": 33,
    "start_time": "2022-04-06T08:19:29.116Z"
   },
   {
    "duration": 70,
    "start_time": "2022-04-06T08:19:29.151Z"
   },
   {
    "duration": 21,
    "start_time": "2022-04-06T08:19:29.224Z"
   },
   {
    "duration": 28,
    "start_time": "2022-04-06T08:19:29.247Z"
   },
   {
    "duration": 97,
    "start_time": "2022-04-06T08:19:29.277Z"
   },
   {
    "duration": 0,
    "start_time": "2022-04-06T08:19:29.376Z"
   },
   {
    "duration": 0,
    "start_time": "2022-04-06T08:19:29.377Z"
   },
   {
    "duration": 1,
    "start_time": "2022-04-06T08:19:29.378Z"
   },
   {
    "duration": 0,
    "start_time": "2022-04-06T08:19:29.380Z"
   },
   {
    "duration": 0,
    "start_time": "2022-04-06T08:19:29.381Z"
   },
   {
    "duration": 0,
    "start_time": "2022-04-06T08:19:29.382Z"
   },
   {
    "duration": 0,
    "start_time": "2022-04-06T08:19:29.384Z"
   },
   {
    "duration": 2220,
    "start_time": "2022-04-06T08:20:05.999Z"
   },
   {
    "duration": 55,
    "start_time": "2022-04-06T08:20:08.222Z"
   },
   {
    "duration": 5,
    "start_time": "2022-04-06T08:20:08.280Z"
   },
   {
    "duration": 22,
    "start_time": "2022-04-06T08:20:08.287Z"
   },
   {
    "duration": 10,
    "start_time": "2022-04-06T08:20:08.312Z"
   },
   {
    "duration": 8,
    "start_time": "2022-04-06T08:20:08.325Z"
   },
   {
    "duration": 68,
    "start_time": "2022-04-06T08:20:08.335Z"
   },
   {
    "duration": 14,
    "start_time": "2022-04-06T08:20:08.405Z"
   },
   {
    "duration": 6,
    "start_time": "2022-04-06T08:20:08.422Z"
   },
   {
    "duration": 9,
    "start_time": "2022-04-06T08:20:08.430Z"
   },
   {
    "duration": 38,
    "start_time": "2022-04-06T08:20:08.441Z"
   },
   {
    "duration": 10,
    "start_time": "2022-04-06T08:20:08.482Z"
   },
   {
    "duration": 9,
    "start_time": "2022-04-06T08:20:08.494Z"
   },
   {
    "duration": 20,
    "start_time": "2022-04-06T08:20:08.508Z"
   },
   {
    "duration": 1207,
    "start_time": "2022-04-06T08:20:08.531Z"
   },
   {
    "duration": 28,
    "start_time": "2022-04-06T08:20:09.740Z"
   },
   {
    "duration": 9,
    "start_time": "2022-04-06T08:20:09.770Z"
   },
   {
    "duration": 11,
    "start_time": "2022-04-06T08:20:09.781Z"
   },
   {
    "duration": 33,
    "start_time": "2022-04-06T08:20:09.794Z"
   },
   {
    "duration": 143,
    "start_time": "2022-04-06T08:20:09.830Z"
   },
   {
    "duration": 286,
    "start_time": "2022-04-06T08:20:09.977Z"
   },
   {
    "duration": 27117,
    "start_time": "2022-04-06T08:20:10.266Z"
   },
   {
    "duration": 5,
    "start_time": "2022-04-06T08:20:37.476Z"
   },
   {
    "duration": 192,
    "start_time": "2022-04-06T08:20:37.483Z"
   },
   {
    "duration": 198,
    "start_time": "2022-04-06T08:20:37.679Z"
   },
   {
    "duration": 196,
    "start_time": "2022-04-06T08:20:37.880Z"
   },
   {
    "duration": 1030,
    "start_time": "2022-04-06T08:20:38.079Z"
   },
   {
    "duration": 3,
    "start_time": "2022-04-06T08:20:39.112Z"
   },
   {
    "duration": 44,
    "start_time": "2022-04-06T08:20:39.118Z"
   },
   {
    "duration": 50,
    "start_time": "2022-04-06T08:20:39.173Z"
   },
   {
    "duration": 20,
    "start_time": "2022-04-06T08:20:39.225Z"
   },
   {
    "duration": 27,
    "start_time": "2022-04-06T08:20:39.247Z"
   },
   {
    "duration": 5968,
    "start_time": "2022-04-06T08:20:39.276Z"
   },
   {
    "duration": 369,
    "start_time": "2022-04-06T08:20:45.246Z"
   },
   {
    "duration": 367,
    "start_time": "2022-04-06T08:20:45.618Z"
   },
   {
    "duration": 712,
    "start_time": "2022-04-06T08:20:45.987Z"
   },
   {
    "duration": 192,
    "start_time": "2022-04-06T08:20:46.701Z"
   },
   {
    "duration": 39,
    "start_time": "2022-04-06T08:20:46.895Z"
   },
   {
    "duration": 230,
    "start_time": "2022-04-06T08:20:46.936Z"
   },
   {
    "duration": 11,
    "start_time": "2022-04-06T08:20:47.168Z"
   },
   {
    "duration": 1839,
    "start_time": "2022-04-06T13:51:12.388Z"
   },
   {
    "duration": 46,
    "start_time": "2022-04-06T13:51:14.229Z"
   },
   {
    "duration": 4,
    "start_time": "2022-04-06T13:51:14.277Z"
   },
   {
    "duration": 27,
    "start_time": "2022-04-06T13:51:14.283Z"
   },
   {
    "duration": 8,
    "start_time": "2022-04-06T13:51:14.312Z"
   },
   {
    "duration": 7,
    "start_time": "2022-04-06T13:51:14.322Z"
   },
   {
    "duration": 25,
    "start_time": "2022-04-06T13:51:14.331Z"
   },
   {
    "duration": 43,
    "start_time": "2022-04-06T13:51:14.358Z"
   },
   {
    "duration": 7,
    "start_time": "2022-04-06T13:51:14.403Z"
   },
   {
    "duration": 6,
    "start_time": "2022-04-06T13:51:14.414Z"
   },
   {
    "duration": 11,
    "start_time": "2022-04-06T13:51:14.422Z"
   },
   {
    "duration": 6,
    "start_time": "2022-04-06T13:51:14.436Z"
   },
   {
    "duration": 7,
    "start_time": "2022-04-06T13:51:14.444Z"
   },
   {
    "duration": 50,
    "start_time": "2022-04-06T13:51:14.454Z"
   },
   {
    "duration": 1256,
    "start_time": "2022-04-06T13:51:14.506Z"
   },
   {
    "duration": 20,
    "start_time": "2022-04-06T13:51:15.764Z"
   },
   {
    "duration": 7,
    "start_time": "2022-04-06T13:51:15.786Z"
   },
   {
    "duration": 15,
    "start_time": "2022-04-06T13:51:15.794Z"
   },
   {
    "duration": 38,
    "start_time": "2022-04-06T13:51:15.811Z"
   },
   {
    "duration": 164,
    "start_time": "2022-04-06T13:51:15.852Z"
   },
   {
    "duration": 402,
    "start_time": "2022-04-06T13:51:16.019Z"
   },
   {
    "duration": 15583,
    "start_time": "2022-04-06T13:51:16.423Z"
   },
   {
    "duration": 4,
    "start_time": "2022-04-06T13:51:32.009Z"
   },
   {
    "duration": 203,
    "start_time": "2022-04-06T13:51:32.015Z"
   },
   {
    "duration": 130,
    "start_time": "2022-04-06T13:51:32.302Z"
   },
   {
    "duration": 173,
    "start_time": "2022-04-06T13:51:32.435Z"
   },
   {
    "duration": 15510,
    "start_time": "2022-04-06T13:51:32.611Z"
   },
   {
    "duration": 772,
    "start_time": "2022-04-06T13:51:48.124Z"
   },
   {
    "duration": 3,
    "start_time": "2022-04-06T13:51:48.901Z"
   },
   {
    "duration": 23,
    "start_time": "2022-04-06T13:51:48.906Z"
   },
   {
    "duration": 34,
    "start_time": "2022-04-06T13:51:48.931Z"
   },
   {
    "duration": 43,
    "start_time": "2022-04-06T13:51:48.967Z"
   },
   {
    "duration": 3,
    "start_time": "2022-04-06T13:51:49.012Z"
   },
   {
    "duration": 4127,
    "start_time": "2022-04-06T13:51:49.016Z"
   },
   {
    "duration": 318,
    "start_time": "2022-04-06T13:51:53.145Z"
   },
   {
    "duration": 311,
    "start_time": "2022-04-06T13:51:53.466Z"
   },
   {
    "duration": 663,
    "start_time": "2022-04-06T13:51:53.782Z"
   },
   {
    "duration": 200,
    "start_time": "2022-04-06T13:51:54.448Z"
   },
   {
    "duration": 31,
    "start_time": "2022-04-06T13:51:54.650Z"
   },
   {
    "duration": 161,
    "start_time": "2022-04-06T13:51:54.683Z"
   },
   {
    "duration": 7,
    "start_time": "2022-04-06T13:51:54.846Z"
   },
   {
    "duration": 14042,
    "start_time": "2022-04-06T13:52:26.660Z"
   },
   {
    "duration": 104,
    "start_time": "2022-04-06T13:52:53.930Z"
   },
   {
    "duration": 129,
    "start_time": "2022-04-06T13:54:47.779Z"
   },
   {
    "duration": 90,
    "start_time": "2022-04-06T13:54:52.185Z"
   },
   {
    "duration": 104,
    "start_time": "2022-04-06T13:55:34.803Z"
   },
   {
    "duration": 174,
    "start_time": "2022-04-06T13:55:54.364Z"
   },
   {
    "duration": 190,
    "start_time": "2022-04-06T13:56:02.811Z"
   },
   {
    "duration": 99,
    "start_time": "2022-04-06T13:56:05.585Z"
   },
   {
    "duration": 124,
    "start_time": "2022-04-06T13:56:16.824Z"
   },
   {
    "duration": 11,
    "start_time": "2022-04-06T13:56:24.655Z"
   },
   {
    "duration": 115,
    "start_time": "2022-04-06T13:56:36.395Z"
   },
   {
    "duration": 105,
    "start_time": "2022-04-06T13:56:37.570Z"
   },
   {
    "duration": 1684,
    "start_time": "2022-04-06T13:59:26.324Z"
   },
   {
    "duration": 43,
    "start_time": "2022-04-06T13:59:28.011Z"
   },
   {
    "duration": 4,
    "start_time": "2022-04-06T13:59:28.057Z"
   },
   {
    "duration": 17,
    "start_time": "2022-04-06T13:59:28.063Z"
   },
   {
    "duration": 23,
    "start_time": "2022-04-06T13:59:28.082Z"
   },
   {
    "duration": 6,
    "start_time": "2022-04-06T13:59:28.107Z"
   },
   {
    "duration": 21,
    "start_time": "2022-04-06T13:59:28.115Z"
   },
   {
    "duration": 10,
    "start_time": "2022-04-06T13:59:28.138Z"
   },
   {
    "duration": 5,
    "start_time": "2022-04-06T13:59:28.150Z"
   },
   {
    "duration": 6,
    "start_time": "2022-04-06T13:59:28.157Z"
   },
   {
    "duration": 39,
    "start_time": "2022-04-06T13:59:28.164Z"
   },
   {
    "duration": 11,
    "start_time": "2022-04-06T13:59:28.205Z"
   },
   {
    "duration": 11,
    "start_time": "2022-04-06T13:59:28.218Z"
   },
   {
    "duration": 18,
    "start_time": "2022-04-06T13:59:28.234Z"
   },
   {
    "duration": 1172,
    "start_time": "2022-04-06T13:59:28.254Z"
   },
   {
    "duration": 19,
    "start_time": "2022-04-06T13:59:29.428Z"
   },
   {
    "duration": 8,
    "start_time": "2022-04-06T13:59:29.449Z"
   },
   {
    "duration": 9,
    "start_time": "2022-04-06T13:59:29.458Z"
   },
   {
    "duration": 32,
    "start_time": "2022-04-06T13:59:29.469Z"
   },
   {
    "duration": 22,
    "start_time": "2022-04-06T13:59:29.503Z"
   },
   {
    "duration": 283,
    "start_time": "2022-04-06T13:59:29.528Z"
   },
   {
    "duration": 19292,
    "start_time": "2022-04-06T13:59:29.813Z"
   },
   {
    "duration": 6,
    "start_time": "2022-04-06T13:59:49.107Z"
   },
   {
    "duration": 106,
    "start_time": "2022-04-06T13:59:49.115Z"
   },
   {
    "duration": 197,
    "start_time": "2022-04-06T13:59:49.223Z"
   },
   {
    "duration": 329,
    "start_time": "2022-04-06T13:59:49.422Z"
   },
   {
    "duration": 60,
    "start_time": "2022-04-06T13:59:49.752Z"
   },
   {
    "duration": 221,
    "start_time": "2022-04-06T13:59:49.814Z"
   },
   {
    "duration": 954,
    "start_time": "2022-04-06T13:59:50.037Z"
   },
   {
    "duration": 9,
    "start_time": "2022-04-06T13:59:50.993Z"
   },
   {
    "duration": 37,
    "start_time": "2022-04-06T13:59:51.003Z"
   },
   {
    "duration": 27,
    "start_time": "2022-04-06T13:59:51.042Z"
   },
   {
    "duration": 33,
    "start_time": "2022-04-06T13:59:51.071Z"
   },
   {
    "duration": 2,
    "start_time": "2022-04-06T13:59:51.106Z"
   },
   {
    "duration": 4156,
    "start_time": "2022-04-06T13:59:51.110Z"
   },
   {
    "duration": 267,
    "start_time": "2022-04-06T13:59:55.269Z"
   },
   {
    "duration": 258,
    "start_time": "2022-04-06T13:59:55.538Z"
   },
   {
    "duration": 506,
    "start_time": "2022-04-06T13:59:55.801Z"
   },
   {
    "duration": 158,
    "start_time": "2022-04-06T13:59:56.309Z"
   },
   {
    "duration": 42,
    "start_time": "2022-04-06T13:59:56.469Z"
   },
   {
    "duration": 141,
    "start_time": "2022-04-06T13:59:56.515Z"
   },
   {
    "duration": 7,
    "start_time": "2022-04-06T13:59:56.658Z"
   },
   {
    "duration": 201,
    "start_time": "2022-04-06T14:11:40.584Z"
   },
   {
    "duration": 133,
    "start_time": "2022-04-06T14:11:51.054Z"
   },
   {
    "duration": 7,
    "start_time": "2022-04-06T14:12:00.759Z"
   },
   {
    "duration": 134,
    "start_time": "2022-04-06T14:12:12.082Z"
   },
   {
    "duration": 28,
    "start_time": "2022-04-06T14:13:12.345Z"
   },
   {
    "duration": 324,
    "start_time": "2022-04-06T14:20:30.509Z"
   },
   {
    "duration": 1573,
    "start_time": "2022-04-06T16:22:07.036Z"
   },
   {
    "duration": 37,
    "start_time": "2022-04-06T16:22:08.611Z"
   },
   {
    "duration": 4,
    "start_time": "2022-04-06T16:22:08.649Z"
   },
   {
    "duration": 16,
    "start_time": "2022-04-06T16:22:08.654Z"
   },
   {
    "duration": 6,
    "start_time": "2022-04-06T16:22:08.672Z"
   },
   {
    "duration": 9,
    "start_time": "2022-04-06T16:22:08.680Z"
   },
   {
    "duration": 21,
    "start_time": "2022-04-06T16:22:08.691Z"
   },
   {
    "duration": 29,
    "start_time": "2022-04-06T16:22:08.714Z"
   },
   {
    "duration": 5,
    "start_time": "2022-04-06T16:22:08.744Z"
   },
   {
    "duration": 8,
    "start_time": "2022-04-06T16:22:08.751Z"
   },
   {
    "duration": 8,
    "start_time": "2022-04-06T16:22:08.760Z"
   },
   {
    "duration": 8,
    "start_time": "2022-04-06T16:22:08.769Z"
   },
   {
    "duration": 9,
    "start_time": "2022-04-06T16:22:08.778Z"
   },
   {
    "duration": 12,
    "start_time": "2022-04-06T16:22:08.790Z"
   },
   {
    "duration": 838,
    "start_time": "2022-04-06T16:22:08.804Z"
   },
   {
    "duration": 18,
    "start_time": "2022-04-06T16:22:09.644Z"
   },
   {
    "duration": 7,
    "start_time": "2022-04-06T16:22:09.663Z"
   },
   {
    "duration": 10,
    "start_time": "2022-04-06T16:22:09.671Z"
   },
   {
    "duration": 26,
    "start_time": "2022-04-06T16:22:09.682Z"
   },
   {
    "duration": 37,
    "start_time": "2022-04-06T16:22:09.709Z"
   },
   {
    "duration": 301,
    "start_time": "2022-04-06T16:22:09.747Z"
   },
   {
    "duration": 21790,
    "start_time": "2022-04-06T16:22:10.049Z"
   },
   {
    "duration": 4,
    "start_time": "2022-04-06T16:22:31.841Z"
   },
   {
    "duration": 102,
    "start_time": "2022-04-06T16:22:31.937Z"
   },
   {
    "duration": 118,
    "start_time": "2022-04-06T16:22:32.042Z"
   },
   {
    "duration": 358,
    "start_time": "2022-04-06T16:22:32.162Z"
   },
   {
    "duration": 31,
    "start_time": "2022-04-06T16:22:32.522Z"
   },
   {
    "duration": 261,
    "start_time": "2022-04-06T16:22:32.555Z"
   },
   {
    "duration": 628,
    "start_time": "2022-04-06T16:22:32.817Z"
   },
   {
    "duration": 3,
    "start_time": "2022-04-06T16:22:33.446Z"
   },
   {
    "duration": 24,
    "start_time": "2022-04-06T16:22:33.450Z"
   },
   {
    "duration": 23,
    "start_time": "2022-04-06T16:22:33.476Z"
   },
   {
    "duration": 36,
    "start_time": "2022-04-06T16:22:33.501Z"
   },
   {
    "duration": 3,
    "start_time": "2022-04-06T16:22:33.539Z"
   },
   {
    "duration": 3908,
    "start_time": "2022-04-06T16:22:33.544Z"
   },
   {
    "duration": 248,
    "start_time": "2022-04-06T16:22:37.454Z"
   },
   {
    "duration": 251,
    "start_time": "2022-04-06T16:22:37.703Z"
   },
   {
    "duration": 321,
    "start_time": "2022-04-06T16:22:37.956Z"
   },
   {
    "duration": 146,
    "start_time": "2022-04-06T16:22:38.279Z"
   },
   {
    "duration": 312,
    "start_time": "2022-04-06T16:22:38.427Z"
   },
   {
    "duration": 144,
    "start_time": "2022-04-06T16:22:38.742Z"
   },
   {
    "duration": 6,
    "start_time": "2022-04-06T16:22:38.887Z"
   },
   {
    "duration": 9,
    "start_time": "2022-04-06T16:29:33.931Z"
   },
   {
    "duration": 4,
    "start_time": "2022-04-06T16:36:35.509Z"
   },
   {
    "duration": 48,
    "start_time": "2022-04-06T16:36:35.515Z"
   },
   {
    "duration": 3,
    "start_time": "2022-04-06T16:36:35.564Z"
   },
   {
    "duration": 20,
    "start_time": "2022-04-06T16:36:35.569Z"
   },
   {
    "duration": 6,
    "start_time": "2022-04-06T16:36:35.591Z"
   },
   {
    "duration": 12,
    "start_time": "2022-04-06T16:36:35.599Z"
   },
   {
    "duration": 35,
    "start_time": "2022-04-06T16:36:35.612Z"
   },
   {
    "duration": 6,
    "start_time": "2022-04-06T16:36:35.648Z"
   },
   {
    "duration": 7,
    "start_time": "2022-04-06T16:36:35.656Z"
   },
   {
    "duration": 12,
    "start_time": "2022-04-06T16:36:35.664Z"
   },
   {
    "duration": 13,
    "start_time": "2022-04-06T16:36:35.678Z"
   },
   {
    "duration": 26,
    "start_time": "2022-04-06T16:36:35.692Z"
   },
   {
    "duration": 6,
    "start_time": "2022-04-06T16:36:35.719Z"
   },
   {
    "duration": 24,
    "start_time": "2022-04-06T16:36:35.726Z"
   },
   {
    "duration": 741,
    "start_time": "2022-04-06T16:36:35.752Z"
   },
   {
    "duration": 18,
    "start_time": "2022-04-06T16:36:36.495Z"
   },
   {
    "duration": 24,
    "start_time": "2022-04-06T16:36:36.515Z"
   },
   {
    "duration": 8,
    "start_time": "2022-04-06T16:36:36.541Z"
   },
   {
    "duration": 23,
    "start_time": "2022-04-06T16:36:36.551Z"
   },
   {
    "duration": 62,
    "start_time": "2022-04-06T16:36:36.576Z"
   },
   {
    "duration": 201,
    "start_time": "2022-04-06T16:36:36.641Z"
   },
   {
    "duration": 21601,
    "start_time": "2022-04-06T16:36:36.843Z"
   },
   {
    "duration": 93,
    "start_time": "2022-04-06T16:36:58.446Z"
   },
   {
    "duration": 108,
    "start_time": "2022-04-06T16:36:58.541Z"
   },
   {
    "duration": 202,
    "start_time": "2022-04-06T16:36:58.651Z"
   },
   {
    "duration": 179,
    "start_time": "2022-04-06T16:36:58.937Z"
   },
   {
    "duration": 38,
    "start_time": "2022-04-06T16:36:59.117Z"
   },
   {
    "duration": 253,
    "start_time": "2022-04-06T16:36:59.157Z"
   },
   {
    "duration": 628,
    "start_time": "2022-04-06T16:36:59.412Z"
   },
   {
    "duration": 3,
    "start_time": "2022-04-06T16:37:00.043Z"
   },
   {
    "duration": 26,
    "start_time": "2022-04-06T16:37:00.048Z"
   },
   {
    "duration": 25,
    "start_time": "2022-04-06T16:37:00.076Z"
   },
   {
    "duration": 45,
    "start_time": "2022-04-06T16:37:00.103Z"
   },
   {
    "duration": 4,
    "start_time": "2022-04-06T16:37:00.150Z"
   },
   {
    "duration": 3902,
    "start_time": "2022-04-06T16:37:00.155Z"
   },
   {
    "duration": 250,
    "start_time": "2022-04-06T16:37:04.059Z"
   },
   {
    "duration": 246,
    "start_time": "2022-04-06T16:37:04.311Z"
   },
   {
    "duration": 306,
    "start_time": "2022-04-06T16:37:04.558Z"
   },
   {
    "duration": 151,
    "start_time": "2022-04-06T16:37:04.869Z"
   },
   {
    "duration": 317,
    "start_time": "2022-04-06T16:37:05.022Z"
   },
   {
    "duration": 139,
    "start_time": "2022-04-06T16:37:05.341Z"
   },
   {
    "duration": 2,
    "start_time": "2022-04-06T16:37:05.482Z"
   },
   {
    "duration": 12,
    "start_time": "2022-04-06T16:37:05.485Z"
   },
   {
    "duration": 1424,
    "start_time": "2022-04-06T16:37:22.791Z"
   },
   {
    "duration": 39,
    "start_time": "2022-04-06T16:37:24.217Z"
   },
   {
    "duration": 4,
    "start_time": "2022-04-06T16:37:24.258Z"
   },
   {
    "duration": 21,
    "start_time": "2022-04-06T16:37:24.264Z"
   },
   {
    "duration": 8,
    "start_time": "2022-04-06T16:37:24.286Z"
   },
   {
    "duration": 13,
    "start_time": "2022-04-06T16:37:24.295Z"
   },
   {
    "duration": 29,
    "start_time": "2022-04-06T16:37:24.310Z"
   },
   {
    "duration": 9,
    "start_time": "2022-04-06T16:37:24.340Z"
   },
   {
    "duration": 11,
    "start_time": "2022-04-06T16:37:24.350Z"
   },
   {
    "duration": 10,
    "start_time": "2022-04-06T16:37:24.363Z"
   },
   {
    "duration": 9,
    "start_time": "2022-04-06T16:37:24.375Z"
   },
   {
    "duration": 11,
    "start_time": "2022-04-06T16:37:24.386Z"
   },
   {
    "duration": 14,
    "start_time": "2022-04-06T16:37:24.398Z"
   },
   {
    "duration": 16,
    "start_time": "2022-04-06T16:37:24.413Z"
   },
   {
    "duration": 787,
    "start_time": "2022-04-06T16:37:24.431Z"
   },
   {
    "duration": 19,
    "start_time": "2022-04-06T16:37:25.220Z"
   },
   {
    "duration": 6,
    "start_time": "2022-04-06T16:37:25.241Z"
   },
   {
    "duration": 11,
    "start_time": "2022-04-06T16:37:25.249Z"
   },
   {
    "duration": 26,
    "start_time": "2022-04-06T16:37:25.262Z"
   },
   {
    "duration": 54,
    "start_time": "2022-04-06T16:37:25.289Z"
   },
   {
    "duration": 215,
    "start_time": "2022-04-06T16:37:25.345Z"
   },
   {
    "duration": 21885,
    "start_time": "2022-04-06T16:37:25.562Z"
   },
   {
    "duration": 4,
    "start_time": "2022-04-06T16:37:47.539Z"
   },
   {
    "duration": 114,
    "start_time": "2022-04-06T16:37:47.545Z"
   },
   {
    "duration": 193,
    "start_time": "2022-04-06T16:37:47.661Z"
   },
   {
    "duration": 357,
    "start_time": "2022-04-06T16:37:47.857Z"
   },
   {
    "duration": 102,
    "start_time": "2022-04-06T16:37:48.238Z"
   },
   {
    "duration": 178,
    "start_time": "2022-04-06T16:37:48.345Z"
   },
   {
    "duration": 721,
    "start_time": "2022-04-06T16:37:48.525Z"
   },
   {
    "duration": 2,
    "start_time": "2022-04-06T16:37:49.247Z"
   },
   {
    "duration": 22,
    "start_time": "2022-04-06T16:37:49.251Z"
   },
   {
    "duration": 22,
    "start_time": "2022-04-06T16:37:49.275Z"
   },
   {
    "duration": 13,
    "start_time": "2022-04-06T16:37:49.299Z"
   },
   {
    "duration": 2,
    "start_time": "2022-04-06T16:37:49.314Z"
   },
   {
    "duration": 3896,
    "start_time": "2022-04-06T16:37:49.317Z"
   },
   {
    "duration": 240,
    "start_time": "2022-04-06T16:37:53.215Z"
   },
   {
    "duration": 242,
    "start_time": "2022-04-06T16:37:53.458Z"
   },
   {
    "duration": 309,
    "start_time": "2022-04-06T16:37:53.702Z"
   },
   {
    "duration": 144,
    "start_time": "2022-04-06T16:37:54.013Z"
   },
   {
    "duration": 312,
    "start_time": "2022-04-06T16:37:54.159Z"
   },
   {
    "duration": 138,
    "start_time": "2022-04-06T16:37:54.472Z"
   },
   {
    "duration": 2,
    "start_time": "2022-04-06T16:37:54.612Z"
   },
   {
    "duration": 14,
    "start_time": "2022-04-06T16:37:54.615Z"
   },
   {
    "duration": 53,
    "start_time": "2022-04-06T16:52:31.540Z"
   },
   {
    "duration": 1689,
    "start_time": "2022-04-06T16:53:02.943Z"
   },
   {
    "duration": 37,
    "start_time": "2022-04-06T16:53:04.634Z"
   },
   {
    "duration": 4,
    "start_time": "2022-04-06T16:53:04.673Z"
   },
   {
    "duration": 15,
    "start_time": "2022-04-06T16:53:04.679Z"
   },
   {
    "duration": 7,
    "start_time": "2022-04-06T16:53:04.696Z"
   },
   {
    "duration": 9,
    "start_time": "2022-04-06T16:53:04.704Z"
   },
   {
    "duration": 36,
    "start_time": "2022-04-06T16:53:04.714Z"
   },
   {
    "duration": 9,
    "start_time": "2022-04-06T16:53:04.751Z"
   },
   {
    "duration": 5,
    "start_time": "2022-04-06T16:53:04.762Z"
   },
   {
    "duration": 11,
    "start_time": "2022-04-06T16:53:04.769Z"
   },
   {
    "duration": 10,
    "start_time": "2022-04-06T16:53:04.782Z"
   },
   {
    "duration": 6,
    "start_time": "2022-04-06T16:53:04.794Z"
   },
   {
    "duration": 7,
    "start_time": "2022-04-06T16:53:04.802Z"
   },
   {
    "duration": 37,
    "start_time": "2022-04-06T16:53:04.811Z"
   },
   {
    "duration": 845,
    "start_time": "2022-04-06T16:53:04.849Z"
   },
   {
    "duration": 18,
    "start_time": "2022-04-06T16:53:05.695Z"
   },
   {
    "duration": 7,
    "start_time": "2022-04-06T16:53:05.714Z"
   },
   {
    "duration": 8,
    "start_time": "2022-04-06T16:53:05.722Z"
   },
   {
    "duration": 32,
    "start_time": "2022-04-06T16:53:05.732Z"
   },
   {
    "duration": 73,
    "start_time": "2022-04-06T16:53:05.765Z"
   },
   {
    "duration": 216,
    "start_time": "2022-04-06T16:53:05.841Z"
   },
   {
    "duration": 22381,
    "start_time": "2022-04-06T16:53:06.059Z"
   },
   {
    "duration": 4,
    "start_time": "2022-04-06T16:53:28.442Z"
   },
   {
    "duration": 18,
    "start_time": "2022-04-06T16:53:28.539Z"
   },
   {
    "duration": 201,
    "start_time": "2022-04-06T16:53:28.560Z"
   },
   {
    "duration": 346,
    "start_time": "2022-04-06T16:53:28.764Z"
   },
   {
    "duration": 33,
    "start_time": "2022-04-06T16:53:29.112Z"
   },
   {
    "duration": 177,
    "start_time": "2022-04-06T16:53:29.243Z"
   },
   {
    "duration": 605,
    "start_time": "2022-04-06T16:53:29.437Z"
   },
   {
    "duration": 3,
    "start_time": "2022-04-06T16:53:30.044Z"
   },
   {
    "duration": 27,
    "start_time": "2022-04-06T16:53:30.048Z"
   },
   {
    "duration": 25,
    "start_time": "2022-04-06T16:53:30.076Z"
   },
   {
    "duration": 14,
    "start_time": "2022-04-06T16:53:30.102Z"
   },
   {
    "duration": 3,
    "start_time": "2022-04-06T16:53:30.138Z"
   },
   {
    "duration": 3953,
    "start_time": "2022-04-06T16:53:30.143Z"
   },
   {
    "duration": 238,
    "start_time": "2022-04-06T16:53:34.097Z"
   },
   {
    "duration": 251,
    "start_time": "2022-04-06T16:53:34.338Z"
   },
   {
    "duration": 313,
    "start_time": "2022-04-06T16:53:34.591Z"
   },
   {
    "duration": 152,
    "start_time": "2022-04-06T16:53:34.906Z"
   },
   {
    "duration": 321,
    "start_time": "2022-04-06T16:53:35.060Z"
   },
   {
    "duration": 151,
    "start_time": "2022-04-06T16:53:35.383Z"
   },
   {
    "duration": 2,
    "start_time": "2022-04-06T16:53:35.537Z"
   },
   {
    "duration": 12,
    "start_time": "2022-04-06T16:53:35.540Z"
   },
   {
    "duration": 10,
    "start_time": "2022-04-06T16:53:35.554Z"
   },
   {
    "duration": 107,
    "start_time": "2022-04-06T16:56:13.775Z"
   },
   {
    "duration": 16,
    "start_time": "2022-04-06T16:57:14.908Z"
   },
   {
    "duration": 266,
    "start_time": "2022-04-06T16:57:45.508Z"
   },
   {
    "duration": 163,
    "start_time": "2022-04-06T17:05:12.592Z"
   },
   {
    "duration": 377,
    "start_time": "2022-04-06T17:05:46.760Z"
   },
   {
    "duration": 340,
    "start_time": "2022-04-06T17:06:17.585Z"
   },
   {
    "duration": 272,
    "start_time": "2022-04-06T17:06:29.742Z"
   },
   {
    "duration": 1866,
    "start_time": "2022-04-07T05:53:23.274Z"
   },
   {
    "duration": 57,
    "start_time": "2022-04-07T05:53:25.143Z"
   },
   {
    "duration": 5,
    "start_time": "2022-04-07T05:53:25.202Z"
   },
   {
    "duration": 27,
    "start_time": "2022-04-07T05:53:25.210Z"
   },
   {
    "duration": 8,
    "start_time": "2022-04-07T05:53:25.239Z"
   },
   {
    "duration": 11,
    "start_time": "2022-04-07T05:53:25.249Z"
   },
   {
    "duration": 44,
    "start_time": "2022-04-07T05:53:25.262Z"
   },
   {
    "duration": 17,
    "start_time": "2022-04-07T05:53:25.308Z"
   },
   {
    "duration": 6,
    "start_time": "2022-04-07T05:53:25.326Z"
   },
   {
    "duration": 8,
    "start_time": "2022-04-07T05:53:25.335Z"
   },
   {
    "duration": 13,
    "start_time": "2022-04-07T05:53:25.345Z"
   },
   {
    "duration": 7,
    "start_time": "2022-04-07T05:53:25.360Z"
   },
   {
    "duration": 9,
    "start_time": "2022-04-07T05:53:25.368Z"
   },
   {
    "duration": 36,
    "start_time": "2022-04-07T05:53:25.379Z"
   },
   {
    "duration": 857,
    "start_time": "2022-04-07T05:53:25.417Z"
   },
   {
    "duration": 20,
    "start_time": "2022-04-07T05:53:26.276Z"
   },
   {
    "duration": 9,
    "start_time": "2022-04-07T05:53:26.298Z"
   },
   {
    "duration": 16,
    "start_time": "2022-04-07T05:53:26.309Z"
   },
   {
    "duration": 28,
    "start_time": "2022-04-07T05:53:26.327Z"
   },
   {
    "duration": 143,
    "start_time": "2022-04-07T05:53:26.357Z"
   },
   {
    "duration": 301,
    "start_time": "2022-04-07T05:53:26.504Z"
   },
   {
    "duration": 149,
    "start_time": "2022-04-07T05:53:26.807Z"
   },
   {
    "duration": 22059,
    "start_time": "2022-04-07T05:53:26.958Z"
   },
   {
    "duration": 96,
    "start_time": "2022-04-07T05:53:49.109Z"
   },
   {
    "duration": 96,
    "start_time": "2022-04-07T05:53:49.209Z"
   },
   {
    "duration": 121,
    "start_time": "2022-04-07T05:53:49.308Z"
   },
   {
    "duration": 188,
    "start_time": "2022-04-07T05:53:49.502Z"
   },
   {
    "duration": 96,
    "start_time": "2022-04-07T05:53:49.705Z"
   },
   {
    "duration": 181,
    "start_time": "2022-04-07T05:53:49.804Z"
   },
   {
    "duration": 707,
    "start_time": "2022-04-07T05:53:49.987Z"
   },
   {
    "duration": 3,
    "start_time": "2022-04-07T05:53:50.700Z"
   },
   {
    "duration": 28,
    "start_time": "2022-04-07T05:53:50.705Z"
   },
   {
    "duration": 29,
    "start_time": "2022-04-07T05:53:50.735Z"
   },
   {
    "duration": 38,
    "start_time": "2022-04-07T05:53:50.766Z"
   },
   {
    "duration": 3,
    "start_time": "2022-04-07T05:53:50.806Z"
   },
   {
    "duration": 4509,
    "start_time": "2022-04-07T05:53:50.811Z"
   },
   {
    "duration": 383,
    "start_time": "2022-04-07T05:53:55.322Z"
   },
   {
    "duration": 279,
    "start_time": "2022-04-07T05:53:55.707Z"
   },
   {
    "duration": 360,
    "start_time": "2022-04-07T05:53:55.988Z"
   },
   {
    "duration": 173,
    "start_time": "2022-04-07T05:53:56.350Z"
   },
   {
    "duration": 359,
    "start_time": "2022-04-07T05:53:56.525Z"
   },
   {
    "duration": 156,
    "start_time": "2022-04-07T05:53:56.886Z"
   },
   {
    "duration": 2,
    "start_time": "2022-04-07T05:53:57.044Z"
   },
   {
    "duration": 13,
    "start_time": "2022-04-07T05:53:57.048Z"
   },
   {
    "duration": 323,
    "start_time": "2022-04-07T05:53:57.062Z"
   },
   {
    "duration": 288,
    "start_time": "2022-04-07T05:56:59.415Z"
   },
   {
    "duration": 329,
    "start_time": "2022-04-07T05:59:50.974Z"
   },
   {
    "duration": 361,
    "start_time": "2022-04-07T06:07:19.450Z"
   },
   {
    "duration": 342,
    "start_time": "2022-04-07T06:07:31.945Z"
   },
   {
    "duration": 255,
    "start_time": "2022-04-07T06:13:49.859Z"
   },
   {
    "duration": 118,
    "start_time": "2022-04-07T06:14:16.074Z"
   },
   {
    "duration": 141,
    "start_time": "2022-04-07T06:15:02.619Z"
   },
   {
    "duration": 118,
    "start_time": "2022-04-07T06:18:48.659Z"
   },
   {
    "duration": 324,
    "start_time": "2022-04-07T06:23:34.569Z"
   },
   {
    "duration": 1728,
    "start_time": "2022-04-07T06:25:52.126Z"
   },
   {
    "duration": 43,
    "start_time": "2022-04-07T06:25:53.856Z"
   },
   {
    "duration": 4,
    "start_time": "2022-04-07T06:25:53.901Z"
   },
   {
    "duration": 22,
    "start_time": "2022-04-07T06:25:53.907Z"
   },
   {
    "duration": 10,
    "start_time": "2022-04-07T06:25:53.931Z"
   },
   {
    "duration": 9,
    "start_time": "2022-04-07T06:25:53.942Z"
   },
   {
    "duration": 30,
    "start_time": "2022-04-07T06:25:53.952Z"
   },
   {
    "duration": 29,
    "start_time": "2022-04-07T06:25:53.984Z"
   },
   {
    "duration": 5,
    "start_time": "2022-04-07T06:25:54.015Z"
   },
   {
    "duration": 8,
    "start_time": "2022-04-07T06:25:54.023Z"
   },
   {
    "duration": 12,
    "start_time": "2022-04-07T06:25:54.033Z"
   },
   {
    "duration": 10,
    "start_time": "2022-04-07T06:25:54.047Z"
   },
   {
    "duration": 12,
    "start_time": "2022-04-07T06:25:54.059Z"
   },
   {
    "duration": 35,
    "start_time": "2022-04-07T06:25:54.073Z"
   },
   {
    "duration": 812,
    "start_time": "2022-04-07T06:25:54.110Z"
   },
   {
    "duration": 20,
    "start_time": "2022-04-07T06:25:54.924Z"
   },
   {
    "duration": 8,
    "start_time": "2022-04-07T06:25:54.945Z"
   },
   {
    "duration": 8,
    "start_time": "2022-04-07T06:25:54.955Z"
   },
   {
    "duration": 41,
    "start_time": "2022-04-07T06:25:54.965Z"
   },
   {
    "duration": 107,
    "start_time": "2022-04-07T06:25:55.008Z"
   },
   {
    "duration": 313,
    "start_time": "2022-04-07T06:25:55.202Z"
   },
   {
    "duration": 124,
    "start_time": "2022-04-07T06:25:55.517Z"
   },
   {
    "duration": 22967,
    "start_time": "2022-04-07T06:25:55.643Z"
   },
   {
    "duration": 89,
    "start_time": "2022-04-07T06:26:18.613Z"
   },
   {
    "duration": 192,
    "start_time": "2022-04-07T06:26:18.709Z"
   },
   {
    "duration": 195,
    "start_time": "2022-04-07T06:26:18.910Z"
   },
   {
    "duration": 199,
    "start_time": "2022-04-07T06:26:19.111Z"
   },
   {
    "duration": 24,
    "start_time": "2022-04-07T06:26:19.314Z"
   },
   {
    "duration": 186,
    "start_time": "2022-04-07T06:26:19.402Z"
   },
   {
    "duration": 304,
    "start_time": "2022-04-07T06:26:19.602Z"
   },
   {
    "duration": 821,
    "start_time": "2022-04-07T06:26:19.908Z"
   },
   {
    "duration": 2,
    "start_time": "2022-04-07T06:26:20.731Z"
   },
   {
    "duration": 47,
    "start_time": "2022-04-07T06:26:20.735Z"
   },
   {
    "duration": 32,
    "start_time": "2022-04-07T06:26:20.783Z"
   },
   {
    "duration": 16,
    "start_time": "2022-04-07T06:26:20.817Z"
   },
   {
    "duration": 135,
    "start_time": "2022-04-07T06:26:20.835Z"
   },
   {
    "duration": 3,
    "start_time": "2022-04-07T06:26:20.972Z"
   },
   {
    "duration": 5318,
    "start_time": "2022-04-07T06:26:20.977Z"
   },
   {
    "duration": 314,
    "start_time": "2022-04-07T06:26:26.297Z"
   },
   {
    "duration": 301,
    "start_time": "2022-04-07T06:26:26.612Z"
   },
   {
    "duration": 385,
    "start_time": "2022-04-07T06:26:26.916Z"
   },
   {
    "duration": 178,
    "start_time": "2022-04-07T06:26:27.303Z"
   },
   {
    "duration": 157,
    "start_time": "2022-04-07T06:26:27.483Z"
   },
   {
    "duration": 383,
    "start_time": "2022-04-07T06:26:27.642Z"
   },
   {
    "duration": 163,
    "start_time": "2022-04-07T06:26:28.027Z"
   },
   {
    "duration": 9,
    "start_time": "2022-04-07T06:26:28.192Z"
   },
   {
    "duration": 12,
    "start_time": "2022-04-07T06:26:28.204Z"
   },
   {
    "duration": 351,
    "start_time": "2022-04-07T06:26:28.218Z"
   }
  ],
  "kernelspec": {
   "display_name": "Python 3 (ipykernel)",
   "language": "python",
   "name": "python3"
  },
  "language_info": {
   "codemirror_mode": {
    "name": "ipython",
    "version": 3
   },
   "file_extension": ".py",
   "mimetype": "text/x-python",
   "name": "python",
   "nbconvert_exporter": "python",
   "pygments_lexer": "ipython3",
   "version": "3.9.5"
  },
  "toc": {
   "base_numbering": 1,
   "nav_menu": {},
   "number_sections": true,
   "sideBar": true,
   "skip_h1_title": true,
   "title_cell": "Содержание",
   "title_sidebar": "Contents",
   "toc_cell": true,
   "toc_position": {
    "height": "calc(100% - 180px)",
    "left": "10px",
    "top": "150px",
    "width": "255.594px"
   },
   "toc_section_display": true,
   "toc_window_display": true
  }
 },
 "nbformat": 4,
 "nbformat_minor": 2
}
