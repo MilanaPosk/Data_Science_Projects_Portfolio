{
 "cells": [
  {
   "cell_type": "markdown",
   "metadata": {},
   "source": [
    "## Подготовка данных"
   ]
  },
  {
   "cell_type": "code",
   "execution_count": 1,
   "metadata": {},
   "outputs": [],
   "source": [
    "import matplotlib.pyplot as plt\n",
    "import numpy as np\n",
    "import pandas as pd\n",
    "import seaborn as sns\n",
    "\n",
    "from catboost import CatBoostRegressor\n",
    "from lightgbm import LGBMRegressor\n",
    "from sklearn.ensemble import RandomForestRegressor\n",
    "from sklearn.linear_model import LinearRegression\n",
    "from sklearn.metrics import mean_squared_error\n",
    "from sklearn.model_selection import GridSearchCV\n",
    "from sklearn.model_selection import train_test_split\n",
    "from sklearn.preprocessing import OrdinalEncoder \n",
    "from sklearn.preprocessing import StandardScaler\n",
    "from sklearn.tree import DecisionTreeRegressor"
   ]
  },
  {
   "cell_type": "code",
   "execution_count": 2,
   "metadata": {},
   "outputs": [],
   "source": [
    "data = pd.read_csv('/datasets/autos.csv')"
   ]
  },
  {
   "cell_type": "code",
   "execution_count": 3,
   "metadata": {
    "scrolled": false
   },
   "outputs": [
    {
     "data": {
      "text/html": [
       "<div>\n",
       "<style scoped>\n",
       "    .dataframe tbody tr th:only-of-type {\n",
       "        vertical-align: middle;\n",
       "    }\n",
       "\n",
       "    .dataframe tbody tr th {\n",
       "        vertical-align: top;\n",
       "    }\n",
       "\n",
       "    .dataframe thead th {\n",
       "        text-align: right;\n",
       "    }\n",
       "</style>\n",
       "<table border=\"1\" class=\"dataframe\">\n",
       "  <thead>\n",
       "    <tr style=\"text-align: right;\">\n",
       "      <th></th>\n",
       "      <th>DateCrawled</th>\n",
       "      <th>Price</th>\n",
       "      <th>VehicleType</th>\n",
       "      <th>RegistrationYear</th>\n",
       "      <th>Gearbox</th>\n",
       "      <th>Power</th>\n",
       "      <th>Model</th>\n",
       "      <th>Kilometer</th>\n",
       "      <th>RegistrationMonth</th>\n",
       "      <th>FuelType</th>\n",
       "      <th>Brand</th>\n",
       "      <th>NotRepaired</th>\n",
       "      <th>DateCreated</th>\n",
       "      <th>NumberOfPictures</th>\n",
       "      <th>PostalCode</th>\n",
       "      <th>LastSeen</th>\n",
       "    </tr>\n",
       "  </thead>\n",
       "  <tbody>\n",
       "    <tr>\n",
       "      <th>0</th>\n",
       "      <td>2016-03-24 11:52:17</td>\n",
       "      <td>480</td>\n",
       "      <td>NaN</td>\n",
       "      <td>1993</td>\n",
       "      <td>manual</td>\n",
       "      <td>0</td>\n",
       "      <td>golf</td>\n",
       "      <td>150000</td>\n",
       "      <td>0</td>\n",
       "      <td>petrol</td>\n",
       "      <td>volkswagen</td>\n",
       "      <td>NaN</td>\n",
       "      <td>2016-03-24 00:00:00</td>\n",
       "      <td>0</td>\n",
       "      <td>70435</td>\n",
       "      <td>2016-04-07 03:16:57</td>\n",
       "    </tr>\n",
       "    <tr>\n",
       "      <th>1</th>\n",
       "      <td>2016-03-24 10:58:45</td>\n",
       "      <td>18300</td>\n",
       "      <td>coupe</td>\n",
       "      <td>2011</td>\n",
       "      <td>manual</td>\n",
       "      <td>190</td>\n",
       "      <td>NaN</td>\n",
       "      <td>125000</td>\n",
       "      <td>5</td>\n",
       "      <td>gasoline</td>\n",
       "      <td>audi</td>\n",
       "      <td>yes</td>\n",
       "      <td>2016-03-24 00:00:00</td>\n",
       "      <td>0</td>\n",
       "      <td>66954</td>\n",
       "      <td>2016-04-07 01:46:50</td>\n",
       "    </tr>\n",
       "    <tr>\n",
       "      <th>2</th>\n",
       "      <td>2016-03-14 12:52:21</td>\n",
       "      <td>9800</td>\n",
       "      <td>suv</td>\n",
       "      <td>2004</td>\n",
       "      <td>auto</td>\n",
       "      <td>163</td>\n",
       "      <td>grand</td>\n",
       "      <td>125000</td>\n",
       "      <td>8</td>\n",
       "      <td>gasoline</td>\n",
       "      <td>jeep</td>\n",
       "      <td>NaN</td>\n",
       "      <td>2016-03-14 00:00:00</td>\n",
       "      <td>0</td>\n",
       "      <td>90480</td>\n",
       "      <td>2016-04-05 12:47:46</td>\n",
       "    </tr>\n",
       "    <tr>\n",
       "      <th>3</th>\n",
       "      <td>2016-03-17 16:54:04</td>\n",
       "      <td>1500</td>\n",
       "      <td>small</td>\n",
       "      <td>2001</td>\n",
       "      <td>manual</td>\n",
       "      <td>75</td>\n",
       "      <td>golf</td>\n",
       "      <td>150000</td>\n",
       "      <td>6</td>\n",
       "      <td>petrol</td>\n",
       "      <td>volkswagen</td>\n",
       "      <td>no</td>\n",
       "      <td>2016-03-17 00:00:00</td>\n",
       "      <td>0</td>\n",
       "      <td>91074</td>\n",
       "      <td>2016-03-17 17:40:17</td>\n",
       "    </tr>\n",
       "    <tr>\n",
       "      <th>4</th>\n",
       "      <td>2016-03-31 17:25:20</td>\n",
       "      <td>3600</td>\n",
       "      <td>small</td>\n",
       "      <td>2008</td>\n",
       "      <td>manual</td>\n",
       "      <td>69</td>\n",
       "      <td>fabia</td>\n",
       "      <td>90000</td>\n",
       "      <td>7</td>\n",
       "      <td>gasoline</td>\n",
       "      <td>skoda</td>\n",
       "      <td>no</td>\n",
       "      <td>2016-03-31 00:00:00</td>\n",
       "      <td>0</td>\n",
       "      <td>60437</td>\n",
       "      <td>2016-04-06 10:17:21</td>\n",
       "    </tr>\n",
       "  </tbody>\n",
       "</table>\n",
       "</div>"
      ],
      "text/plain": [
       "           DateCrawled  Price VehicleType  RegistrationYear Gearbox  Power  \\\n",
       "0  2016-03-24 11:52:17    480         NaN              1993  manual      0   \n",
       "1  2016-03-24 10:58:45  18300       coupe              2011  manual    190   \n",
       "2  2016-03-14 12:52:21   9800         suv              2004    auto    163   \n",
       "3  2016-03-17 16:54:04   1500       small              2001  manual     75   \n",
       "4  2016-03-31 17:25:20   3600       small              2008  manual     69   \n",
       "\n",
       "   Model  Kilometer  RegistrationMonth  FuelType       Brand NotRepaired  \\\n",
       "0   golf     150000                  0    petrol  volkswagen         NaN   \n",
       "1    NaN     125000                  5  gasoline        audi         yes   \n",
       "2  grand     125000                  8  gasoline        jeep         NaN   \n",
       "3   golf     150000                  6    petrol  volkswagen          no   \n",
       "4  fabia      90000                  7  gasoline       skoda          no   \n",
       "\n",
       "           DateCreated  NumberOfPictures  PostalCode             LastSeen  \n",
       "0  2016-03-24 00:00:00                 0       70435  2016-04-07 03:16:57  \n",
       "1  2016-03-24 00:00:00                 0       66954  2016-04-07 01:46:50  \n",
       "2  2016-03-14 00:00:00                 0       90480  2016-04-05 12:47:46  \n",
       "3  2016-03-17 00:00:00                 0       91074  2016-03-17 17:40:17  \n",
       "4  2016-03-31 00:00:00                 0       60437  2016-04-06 10:17:21  "
      ]
     },
     "metadata": {},
     "output_type": "display_data"
    },
    {
     "data": {
      "text/html": [
       "<div>\n",
       "<style scoped>\n",
       "    .dataframe tbody tr th:only-of-type {\n",
       "        vertical-align: middle;\n",
       "    }\n",
       "\n",
       "    .dataframe tbody tr th {\n",
       "        vertical-align: top;\n",
       "    }\n",
       "\n",
       "    .dataframe thead th {\n",
       "        text-align: right;\n",
       "    }\n",
       "</style>\n",
       "<table border=\"1\" class=\"dataframe\">\n",
       "  <thead>\n",
       "    <tr style=\"text-align: right;\">\n",
       "      <th></th>\n",
       "      <th>Price</th>\n",
       "      <th>RegistrationYear</th>\n",
       "      <th>Power</th>\n",
       "      <th>Kilometer</th>\n",
       "      <th>RegistrationMonth</th>\n",
       "      <th>NumberOfPictures</th>\n",
       "      <th>PostalCode</th>\n",
       "    </tr>\n",
       "  </thead>\n",
       "  <tbody>\n",
       "    <tr>\n",
       "      <th>count</th>\n",
       "      <td>354369.000000</td>\n",
       "      <td>354369.000000</td>\n",
       "      <td>354369.000000</td>\n",
       "      <td>354369.000000</td>\n",
       "      <td>354369.000000</td>\n",
       "      <td>354369.0</td>\n",
       "      <td>354369.000000</td>\n",
       "    </tr>\n",
       "    <tr>\n",
       "      <th>mean</th>\n",
       "      <td>4416.656776</td>\n",
       "      <td>2004.234448</td>\n",
       "      <td>110.094337</td>\n",
       "      <td>128211.172535</td>\n",
       "      <td>5.714645</td>\n",
       "      <td>0.0</td>\n",
       "      <td>50508.689087</td>\n",
       "    </tr>\n",
       "    <tr>\n",
       "      <th>std</th>\n",
       "      <td>4514.158514</td>\n",
       "      <td>90.227958</td>\n",
       "      <td>189.850405</td>\n",
       "      <td>37905.341530</td>\n",
       "      <td>3.726421</td>\n",
       "      <td>0.0</td>\n",
       "      <td>25783.096248</td>\n",
       "    </tr>\n",
       "    <tr>\n",
       "      <th>min</th>\n",
       "      <td>0.000000</td>\n",
       "      <td>1000.000000</td>\n",
       "      <td>0.000000</td>\n",
       "      <td>5000.000000</td>\n",
       "      <td>0.000000</td>\n",
       "      <td>0.0</td>\n",
       "      <td>1067.000000</td>\n",
       "    </tr>\n",
       "    <tr>\n",
       "      <th>25%</th>\n",
       "      <td>1050.000000</td>\n",
       "      <td>1999.000000</td>\n",
       "      <td>69.000000</td>\n",
       "      <td>125000.000000</td>\n",
       "      <td>3.000000</td>\n",
       "      <td>0.0</td>\n",
       "      <td>30165.000000</td>\n",
       "    </tr>\n",
       "    <tr>\n",
       "      <th>50%</th>\n",
       "      <td>2700.000000</td>\n",
       "      <td>2003.000000</td>\n",
       "      <td>105.000000</td>\n",
       "      <td>150000.000000</td>\n",
       "      <td>6.000000</td>\n",
       "      <td>0.0</td>\n",
       "      <td>49413.000000</td>\n",
       "    </tr>\n",
       "    <tr>\n",
       "      <th>75%</th>\n",
       "      <td>6400.000000</td>\n",
       "      <td>2008.000000</td>\n",
       "      <td>143.000000</td>\n",
       "      <td>150000.000000</td>\n",
       "      <td>9.000000</td>\n",
       "      <td>0.0</td>\n",
       "      <td>71083.000000</td>\n",
       "    </tr>\n",
       "    <tr>\n",
       "      <th>max</th>\n",
       "      <td>20000.000000</td>\n",
       "      <td>9999.000000</td>\n",
       "      <td>20000.000000</td>\n",
       "      <td>150000.000000</td>\n",
       "      <td>12.000000</td>\n",
       "      <td>0.0</td>\n",
       "      <td>99998.000000</td>\n",
       "    </tr>\n",
       "  </tbody>\n",
       "</table>\n",
       "</div>"
      ],
      "text/plain": [
       "               Price  RegistrationYear          Power      Kilometer  \\\n",
       "count  354369.000000     354369.000000  354369.000000  354369.000000   \n",
       "mean     4416.656776       2004.234448     110.094337  128211.172535   \n",
       "std      4514.158514         90.227958     189.850405   37905.341530   \n",
       "min         0.000000       1000.000000       0.000000    5000.000000   \n",
       "25%      1050.000000       1999.000000      69.000000  125000.000000   \n",
       "50%      2700.000000       2003.000000     105.000000  150000.000000   \n",
       "75%      6400.000000       2008.000000     143.000000  150000.000000   \n",
       "max     20000.000000       9999.000000   20000.000000  150000.000000   \n",
       "\n",
       "       RegistrationMonth  NumberOfPictures     PostalCode  \n",
       "count      354369.000000          354369.0  354369.000000  \n",
       "mean            5.714645               0.0   50508.689087  \n",
       "std             3.726421               0.0   25783.096248  \n",
       "min             0.000000               0.0    1067.000000  \n",
       "25%             3.000000               0.0   30165.000000  \n",
       "50%             6.000000               0.0   49413.000000  \n",
       "75%             9.000000               0.0   71083.000000  \n",
       "max            12.000000               0.0   99998.000000  "
      ]
     },
     "metadata": {},
     "output_type": "display_data"
    },
    {
     "name": "stdout",
     "output_type": "stream",
     "text": [
      "<class 'pandas.core.frame.DataFrame'>\n",
      "RangeIndex: 354369 entries, 0 to 354368\n",
      "Data columns (total 16 columns):\n",
      " #   Column             Non-Null Count   Dtype \n",
      "---  ------             --------------   ----- \n",
      " 0   DateCrawled        354369 non-null  object\n",
      " 1   Price              354369 non-null  int64 \n",
      " 2   VehicleType        316879 non-null  object\n",
      " 3   RegistrationYear   354369 non-null  int64 \n",
      " 4   Gearbox            334536 non-null  object\n",
      " 5   Power              354369 non-null  int64 \n",
      " 6   Model              334664 non-null  object\n",
      " 7   Kilometer          354369 non-null  int64 \n",
      " 8   RegistrationMonth  354369 non-null  int64 \n",
      " 9   FuelType           321474 non-null  object\n",
      " 10  Brand              354369 non-null  object\n",
      " 11  NotRepaired        283215 non-null  object\n",
      " 12  DateCreated        354369 non-null  object\n",
      " 13  NumberOfPictures   354369 non-null  int64 \n",
      " 14  PostalCode         354369 non-null  int64 \n",
      " 15  LastSeen           354369 non-null  object\n",
      "dtypes: int64(7), object(9)\n",
      "memory usage: 43.3+ MB\n"
     ]
    },
    {
     "data": {
      "text/plain": [
       "None"
      ]
     },
     "metadata": {},
     "output_type": "display_data"
    },
    {
     "data": {
      "text/plain": [
       "DateCrawled              0\n",
       "Price                    0\n",
       "VehicleType          37490\n",
       "RegistrationYear         0\n",
       "Gearbox              19833\n",
       "Power                    0\n",
       "Model                19705\n",
       "Kilometer                0\n",
       "RegistrationMonth        0\n",
       "FuelType             32895\n",
       "Brand                    0\n",
       "NotRepaired          71154\n",
       "DateCreated              0\n",
       "NumberOfPictures         0\n",
       "PostalCode               0\n",
       "LastSeen                 0\n",
       "dtype: int64"
      ]
     },
     "metadata": {},
     "output_type": "display_data"
    }
   ],
   "source": [
    "display(data.head())\n",
    "display(data.describe())\n",
    "display(data.info())\n",
    "display(data.isnull().sum(axis = 0))"
   ]
  },
  {
   "cell_type": "markdown",
   "metadata": {},
   "source": [
    "<font>В датасете имеется признаки, которые влияют на целевой признак, цену, а так же признаки, при изменении которых цена наврали поменяется. Поэтому следует их удалить.</font><br> \n",
    "<font>Столбец \"NumberOfPictures\" попал в датасет, скорее всего из-за технического сбоя, так как его значения только 0.</font><br>\n",
    "<font>Есть пропуски, которые нужно обработать. Перед построением моделей, необходимо проанализировать зависимость признаков и закодировать их.</font><br>"
   ]
  },
  {
   "cell_type": "code",
   "execution_count": 4,
   "metadata": {},
   "outputs": [],
   "source": [
    "# заполнять пропуски усредненными соседних столбцов данными считаю некорректным, т.к. слишком большой размах по маркам,\n",
    "# годам, и ценам на автомобили, поэтому пропуски заполним формальной заглушкой - \"unknown\" - данные неизвестны\n",
    "\n",
    "data[['VehicleType','Gearbox','Model','FuelType','NotRepaired']] = data[['VehicleType','Gearbox','Model',\n",
    "                                                                         'FuelType','NotRepaired']].fillna('unknown')"
   ]
  },
  {
   "cell_type": "code",
   "execution_count": 5,
   "metadata": {
    "scrolled": true
   },
   "outputs": [
    {
     "data": {
      "text/html": [
       "<div>\n",
       "<style scoped>\n",
       "    .dataframe tbody tr th:only-of-type {\n",
       "        vertical-align: middle;\n",
       "    }\n",
       "\n",
       "    .dataframe tbody tr th {\n",
       "        vertical-align: top;\n",
       "    }\n",
       "\n",
       "    .dataframe thead th {\n",
       "        text-align: right;\n",
       "    }\n",
       "</style>\n",
       "<table border=\"1\" class=\"dataframe\">\n",
       "  <thead>\n",
       "    <tr style=\"text-align: right;\">\n",
       "      <th></th>\n",
       "      <th>DateCrawled</th>\n",
       "      <th>Price</th>\n",
       "      <th>VehicleType</th>\n",
       "      <th>RegistrationYear</th>\n",
       "      <th>Gearbox</th>\n",
       "      <th>Power</th>\n",
       "      <th>Model</th>\n",
       "      <th>Kilometer</th>\n",
       "      <th>RegistrationMonth</th>\n",
       "      <th>FuelType</th>\n",
       "      <th>Brand</th>\n",
       "      <th>NotRepaired</th>\n",
       "      <th>DateCreated</th>\n",
       "      <th>NumberOfPictures</th>\n",
       "      <th>PostalCode</th>\n",
       "      <th>LastSeen</th>\n",
       "    </tr>\n",
       "  </thead>\n",
       "  <tbody>\n",
       "    <tr>\n",
       "      <th>7</th>\n",
       "      <td>2016-03-21 18:54:38</td>\n",
       "      <td>0</td>\n",
       "      <td>sedan</td>\n",
       "      <td>1980</td>\n",
       "      <td>manual</td>\n",
       "      <td>50</td>\n",
       "      <td>other</td>\n",
       "      <td>40000</td>\n",
       "      <td>7</td>\n",
       "      <td>petrol</td>\n",
       "      <td>volkswagen</td>\n",
       "      <td>no</td>\n",
       "      <td>2016-03-21 00:00:00</td>\n",
       "      <td>0</td>\n",
       "      <td>19348</td>\n",
       "      <td>2016-03-25 16:47:58</td>\n",
       "    </tr>\n",
       "    <tr>\n",
       "      <th>40</th>\n",
       "      <td>2016-03-26 22:06:17</td>\n",
       "      <td>0</td>\n",
       "      <td>unknown</td>\n",
       "      <td>1990</td>\n",
       "      <td>unknown</td>\n",
       "      <td>0</td>\n",
       "      <td>corsa</td>\n",
       "      <td>150000</td>\n",
       "      <td>1</td>\n",
       "      <td>petrol</td>\n",
       "      <td>opel</td>\n",
       "      <td>unknown</td>\n",
       "      <td>2016-03-26 00:00:00</td>\n",
       "      <td>0</td>\n",
       "      <td>56412</td>\n",
       "      <td>2016-03-27 17:43:34</td>\n",
       "    </tr>\n",
       "    <tr>\n",
       "      <th>111</th>\n",
       "      <td>2016-03-19 18:40:12</td>\n",
       "      <td>0</td>\n",
       "      <td>unknown</td>\n",
       "      <td>2017</td>\n",
       "      <td>manual</td>\n",
       "      <td>0</td>\n",
       "      <td>golf</td>\n",
       "      <td>5000</td>\n",
       "      <td>12</td>\n",
       "      <td>petrol</td>\n",
       "      <td>volkswagen</td>\n",
       "      <td>unknown</td>\n",
       "      <td>2016-03-19 00:00:00</td>\n",
       "      <td>0</td>\n",
       "      <td>21698</td>\n",
       "      <td>2016-04-01 08:47:05</td>\n",
       "    </tr>\n",
       "    <tr>\n",
       "      <th>115</th>\n",
       "      <td>2016-03-20 18:53:27</td>\n",
       "      <td>0</td>\n",
       "      <td>small</td>\n",
       "      <td>1999</td>\n",
       "      <td>unknown</td>\n",
       "      <td>0</td>\n",
       "      <td>unknown</td>\n",
       "      <td>5000</td>\n",
       "      <td>0</td>\n",
       "      <td>petrol</td>\n",
       "      <td>volkswagen</td>\n",
       "      <td>unknown</td>\n",
       "      <td>2016-03-20 00:00:00</td>\n",
       "      <td>0</td>\n",
       "      <td>37520</td>\n",
       "      <td>2016-04-07 02:45:22</td>\n",
       "    </tr>\n",
       "    <tr>\n",
       "      <th>152</th>\n",
       "      <td>2016-03-11 18:55:53</td>\n",
       "      <td>0</td>\n",
       "      <td>bus</td>\n",
       "      <td>2004</td>\n",
       "      <td>manual</td>\n",
       "      <td>101</td>\n",
       "      <td>meriva</td>\n",
       "      <td>150000</td>\n",
       "      <td>10</td>\n",
       "      <td>lpg</td>\n",
       "      <td>opel</td>\n",
       "      <td>yes</td>\n",
       "      <td>2016-03-11 00:00:00</td>\n",
       "      <td>0</td>\n",
       "      <td>27432</td>\n",
       "      <td>2016-03-12 23:47:10</td>\n",
       "    </tr>\n",
       "    <tr>\n",
       "      <th>...</th>\n",
       "      <td>...</td>\n",
       "      <td>...</td>\n",
       "      <td>...</td>\n",
       "      <td>...</td>\n",
       "      <td>...</td>\n",
       "      <td>...</td>\n",
       "      <td>...</td>\n",
       "      <td>...</td>\n",
       "      <td>...</td>\n",
       "      <td>...</td>\n",
       "      <td>...</td>\n",
       "      <td>...</td>\n",
       "      <td>...</td>\n",
       "      <td>...</td>\n",
       "      <td>...</td>\n",
       "      <td>...</td>\n",
       "    </tr>\n",
       "    <tr>\n",
       "      <th>354205</th>\n",
       "      <td>2016-03-09 15:56:30</td>\n",
       "      <td>0</td>\n",
       "      <td>unknown</td>\n",
       "      <td>2000</td>\n",
       "      <td>manual</td>\n",
       "      <td>65</td>\n",
       "      <td>corsa</td>\n",
       "      <td>150000</td>\n",
       "      <td>0</td>\n",
       "      <td>unknown</td>\n",
       "      <td>opel</td>\n",
       "      <td>yes</td>\n",
       "      <td>2016-03-09 00:00:00</td>\n",
       "      <td>0</td>\n",
       "      <td>23758</td>\n",
       "      <td>2016-03-30 11:16:08</td>\n",
       "    </tr>\n",
       "    <tr>\n",
       "      <th>354238</th>\n",
       "      <td>2016-03-20 14:55:07</td>\n",
       "      <td>0</td>\n",
       "      <td>small</td>\n",
       "      <td>2002</td>\n",
       "      <td>manual</td>\n",
       "      <td>60</td>\n",
       "      <td>fiesta</td>\n",
       "      <td>150000</td>\n",
       "      <td>3</td>\n",
       "      <td>petrol</td>\n",
       "      <td>ford</td>\n",
       "      <td>unknown</td>\n",
       "      <td>2016-03-20 00:00:00</td>\n",
       "      <td>0</td>\n",
       "      <td>33659</td>\n",
       "      <td>2016-04-06 18:45:23</td>\n",
       "    </tr>\n",
       "    <tr>\n",
       "      <th>354248</th>\n",
       "      <td>2016-03-24 13:48:05</td>\n",
       "      <td>0</td>\n",
       "      <td>small</td>\n",
       "      <td>1999</td>\n",
       "      <td>manual</td>\n",
       "      <td>53</td>\n",
       "      <td>swift</td>\n",
       "      <td>150000</td>\n",
       "      <td>3</td>\n",
       "      <td>petrol</td>\n",
       "      <td>suzuki</td>\n",
       "      <td>unknown</td>\n",
       "      <td>2016-03-24 00:00:00</td>\n",
       "      <td>0</td>\n",
       "      <td>42329</td>\n",
       "      <td>2016-04-07 05:17:24</td>\n",
       "    </tr>\n",
       "    <tr>\n",
       "      <th>354277</th>\n",
       "      <td>2016-03-10 22:55:50</td>\n",
       "      <td>0</td>\n",
       "      <td>small</td>\n",
       "      <td>1999</td>\n",
       "      <td>manual</td>\n",
       "      <td>37</td>\n",
       "      <td>arosa</td>\n",
       "      <td>150000</td>\n",
       "      <td>7</td>\n",
       "      <td>petrol</td>\n",
       "      <td>seat</td>\n",
       "      <td>yes</td>\n",
       "      <td>2016-03-10 00:00:00</td>\n",
       "      <td>0</td>\n",
       "      <td>22559</td>\n",
       "      <td>2016-03-12 23:46:32</td>\n",
       "    </tr>\n",
       "    <tr>\n",
       "      <th>354364</th>\n",
       "      <td>2016-03-21 09:50:58</td>\n",
       "      <td>0</td>\n",
       "      <td>unknown</td>\n",
       "      <td>2005</td>\n",
       "      <td>manual</td>\n",
       "      <td>0</td>\n",
       "      <td>colt</td>\n",
       "      <td>150000</td>\n",
       "      <td>7</td>\n",
       "      <td>petrol</td>\n",
       "      <td>mitsubishi</td>\n",
       "      <td>yes</td>\n",
       "      <td>2016-03-21 00:00:00</td>\n",
       "      <td>0</td>\n",
       "      <td>2694</td>\n",
       "      <td>2016-03-21 10:42:49</td>\n",
       "    </tr>\n",
       "  </tbody>\n",
       "</table>\n",
       "<p>10772 rows × 16 columns</p>\n",
       "</div>"
      ],
      "text/plain": [
       "                DateCrawled  Price VehicleType  RegistrationYear  Gearbox  \\\n",
       "7       2016-03-21 18:54:38      0       sedan              1980   manual   \n",
       "40      2016-03-26 22:06:17      0     unknown              1990  unknown   \n",
       "111     2016-03-19 18:40:12      0     unknown              2017   manual   \n",
       "115     2016-03-20 18:53:27      0       small              1999  unknown   \n",
       "152     2016-03-11 18:55:53      0         bus              2004   manual   \n",
       "...                     ...    ...         ...               ...      ...   \n",
       "354205  2016-03-09 15:56:30      0     unknown              2000   manual   \n",
       "354238  2016-03-20 14:55:07      0       small              2002   manual   \n",
       "354248  2016-03-24 13:48:05      0       small              1999   manual   \n",
       "354277  2016-03-10 22:55:50      0       small              1999   manual   \n",
       "354364  2016-03-21 09:50:58      0     unknown              2005   manual   \n",
       "\n",
       "        Power    Model  Kilometer  RegistrationMonth FuelType       Brand  \\\n",
       "7          50    other      40000                  7   petrol  volkswagen   \n",
       "40          0    corsa     150000                  1   petrol        opel   \n",
       "111         0     golf       5000                 12   petrol  volkswagen   \n",
       "115         0  unknown       5000                  0   petrol  volkswagen   \n",
       "152       101   meriva     150000                 10      lpg        opel   \n",
       "...       ...      ...        ...                ...      ...         ...   \n",
       "354205     65    corsa     150000                  0  unknown        opel   \n",
       "354238     60   fiesta     150000                  3   petrol        ford   \n",
       "354248     53    swift     150000                  3   petrol      suzuki   \n",
       "354277     37    arosa     150000                  7   petrol        seat   \n",
       "354364      0     colt     150000                  7   petrol  mitsubishi   \n",
       "\n",
       "       NotRepaired          DateCreated  NumberOfPictures  PostalCode  \\\n",
       "7               no  2016-03-21 00:00:00                 0       19348   \n",
       "40         unknown  2016-03-26 00:00:00                 0       56412   \n",
       "111        unknown  2016-03-19 00:00:00                 0       21698   \n",
       "115        unknown  2016-03-20 00:00:00                 0       37520   \n",
       "152            yes  2016-03-11 00:00:00                 0       27432   \n",
       "...            ...                  ...               ...         ...   \n",
       "354205         yes  2016-03-09 00:00:00                 0       23758   \n",
       "354238     unknown  2016-03-20 00:00:00                 0       33659   \n",
       "354248     unknown  2016-03-24 00:00:00                 0       42329   \n",
       "354277         yes  2016-03-10 00:00:00                 0       22559   \n",
       "354364         yes  2016-03-21 00:00:00                 0        2694   \n",
       "\n",
       "                   LastSeen  \n",
       "7       2016-03-25 16:47:58  \n",
       "40      2016-03-27 17:43:34  \n",
       "111     2016-04-01 08:47:05  \n",
       "115     2016-04-07 02:45:22  \n",
       "152     2016-03-12 23:47:10  \n",
       "...                     ...  \n",
       "354205  2016-03-30 11:16:08  \n",
       "354238  2016-04-06 18:45:23  \n",
       "354248  2016-04-07 05:17:24  \n",
       "354277  2016-03-12 23:46:32  \n",
       "354364  2016-03-21 10:42:49  \n",
       "\n",
       "[10772 rows x 16 columns]"
      ]
     },
     "execution_count": 5,
     "metadata": {},
     "output_type": "execute_result"
    }
   ],
   "source": [
    "data.loc[(data['Price'] == 0)]"
   ]
  },
  {
   "cell_type": "code",
   "execution_count": 6,
   "metadata": {},
   "outputs": [],
   "source": [
    "# отбросим строки с ценами менее 50 евро, наврятли за меньшую стоимость их можно купить\n",
    "\n",
    "data = data.query('Price > 50')"
   ]
  },
  {
   "cell_type": "code",
   "execution_count": 7,
   "metadata": {},
   "outputs": [],
   "source": [
    "# удалим неиформативные столбцы, так как они не являются признакоми, которые влияют на цену авто\n",
    "\n",
    "data = data.drop(['DateCrawled','NumberOfPictures','PostalCode','DateCreated','LastSeen','RegistrationMonth'], axis=1)"
   ]
  },
  {
   "cell_type": "code",
   "execution_count": 8,
   "metadata": {
    "scrolled": false
   },
   "outputs": [
    {
     "data": {
      "text/plain": [
       "2000    22761\n",
       "1999    21871\n",
       "2005    21389\n",
       "2006    19648\n",
       "2001    19584\n",
       "        ...  \n",
       "1949        1\n",
       "2222        1\n",
       "5300        1\n",
       "8888        1\n",
       "2290        1\n",
       "Name: RegistrationYear, Length: 139, dtype: int64"
      ]
     },
     "execution_count": 8,
     "metadata": {},
     "output_type": "execute_result"
    }
   ],
   "source": [
    "data['RegistrationYear'].value_counts()"
   ]
  },
  {
   "cell_type": "code",
   "execution_count": 9,
   "metadata": {},
   "outputs": [],
   "source": [
    "# отбросим строки с несуществующими годами в столбце \"RegistrationYear\"\n",
    "\n",
    "data = data.query('1960 < RegistrationYear < 2022')"
   ]
  },
  {
   "cell_type": "code",
   "execution_count": 10,
   "metadata": {
    "scrolled": true
   },
   "outputs": [
    {
     "data": {
      "text/plain": [
       "<AxesSubplot:>"
      ]
     },
     "execution_count": 10,
     "metadata": {},
     "output_type": "execute_result"
    },
    {
     "data": {
      "image/png": "[encoded data removed]",
      "text/plain": [
       "<Figure size 504x360 with 1 Axes>"
      ]
     },
     "metadata": {
      "needs_background": "light"
     },
     "output_type": "display_data"
    }
   ],
   "source": [
    "data['RegistrationYear'].hist(bins=100, figsize=(7,5))"
   ]
  },
  {
   "cell_type": "code",
   "execution_count": 11,
   "metadata": {
    "scrolled": true
   },
   "outputs": [
    {
     "data": {
      "text/html": [
       "<div>\n",
       "<style scoped>\n",
       "    .dataframe tbody tr th:only-of-type {\n",
       "        vertical-align: middle;\n",
       "    }\n",
       "\n",
       "    .dataframe tbody tr th {\n",
       "        vertical-align: top;\n",
       "    }\n",
       "\n",
       "    .dataframe thead th {\n",
       "        text-align: right;\n",
       "    }\n",
       "</style>\n",
       "<table border=\"1\" class=\"dataframe\">\n",
       "  <thead>\n",
       "    <tr style=\"text-align: right;\">\n",
       "      <th></th>\n",
       "      <th>Price</th>\n",
       "      <th>VehicleType</th>\n",
       "      <th>RegistrationYear</th>\n",
       "      <th>Gearbox</th>\n",
       "      <th>Power</th>\n",
       "      <th>Model</th>\n",
       "      <th>Kilometer</th>\n",
       "      <th>FuelType</th>\n",
       "      <th>Brand</th>\n",
       "      <th>NotRepaired</th>\n",
       "    </tr>\n",
       "  </thead>\n",
       "  <tbody>\n",
       "    <tr>\n",
       "      <th>0</th>\n",
       "      <td>480</td>\n",
       "      <td>unknown</td>\n",
       "      <td>1993</td>\n",
       "      <td>manual</td>\n",
       "      <td>0</td>\n",
       "      <td>golf</td>\n",
       "      <td>150000</td>\n",
       "      <td>petrol</td>\n",
       "      <td>volkswagen</td>\n",
       "      <td>unknown</td>\n",
       "    </tr>\n",
       "    <tr>\n",
       "      <th>32</th>\n",
       "      <td>245</td>\n",
       "      <td>sedan</td>\n",
       "      <td>1994</td>\n",
       "      <td>unknown</td>\n",
       "      <td>0</td>\n",
       "      <td>golf</td>\n",
       "      <td>150000</td>\n",
       "      <td>petrol</td>\n",
       "      <td>volkswagen</td>\n",
       "      <td>no</td>\n",
       "    </tr>\n",
       "    <tr>\n",
       "      <th>37</th>\n",
       "      <td>1500</td>\n",
       "      <td>unknown</td>\n",
       "      <td>2016</td>\n",
       "      <td>unknown</td>\n",
       "      <td>0</td>\n",
       "      <td>kangoo</td>\n",
       "      <td>150000</td>\n",
       "      <td>gasoline</td>\n",
       "      <td>renault</td>\n",
       "      <td>no</td>\n",
       "    </tr>\n",
       "    <tr>\n",
       "      <th>54</th>\n",
       "      <td>4700</td>\n",
       "      <td>wagon</td>\n",
       "      <td>2005</td>\n",
       "      <td>manual</td>\n",
       "      <td>0</td>\n",
       "      <td>signum</td>\n",
       "      <td>150000</td>\n",
       "      <td>unknown</td>\n",
       "      <td>opel</td>\n",
       "      <td>no</td>\n",
       "    </tr>\n",
       "    <tr>\n",
       "      <th>55</th>\n",
       "      <td>550</td>\n",
       "      <td>wagon</td>\n",
       "      <td>1999</td>\n",
       "      <td>manual</td>\n",
       "      <td>0</td>\n",
       "      <td>astra</td>\n",
       "      <td>150000</td>\n",
       "      <td>gasoline</td>\n",
       "      <td>opel</td>\n",
       "      <td>yes</td>\n",
       "    </tr>\n",
       "    <tr>\n",
       "      <th>...</th>\n",
       "      <td>...</td>\n",
       "      <td>...</td>\n",
       "      <td>...</td>\n",
       "      <td>...</td>\n",
       "      <td>...</td>\n",
       "      <td>...</td>\n",
       "      <td>...</td>\n",
       "      <td>...</td>\n",
       "      <td>...</td>\n",
       "      <td>...</td>\n",
       "    </tr>\n",
       "    <tr>\n",
       "      <th>354336</th>\n",
       "      <td>3299</td>\n",
       "      <td>unknown</td>\n",
       "      <td>2005</td>\n",
       "      <td>auto</td>\n",
       "      <td>0</td>\n",
       "      <td>outlander</td>\n",
       "      <td>150000</td>\n",
       "      <td>petrol</td>\n",
       "      <td>mitsubishi</td>\n",
       "      <td>unknown</td>\n",
       "    </tr>\n",
       "    <tr>\n",
       "      <th>354338</th>\n",
       "      <td>180</td>\n",
       "      <td>unknown</td>\n",
       "      <td>1995</td>\n",
       "      <td>unknown</td>\n",
       "      <td>0</td>\n",
       "      <td>unknown</td>\n",
       "      <td>125000</td>\n",
       "      <td>petrol</td>\n",
       "      <td>opel</td>\n",
       "      <td>unknown</td>\n",
       "    </tr>\n",
       "    <tr>\n",
       "      <th>354346</th>\n",
       "      <td>2600</td>\n",
       "      <td>unknown</td>\n",
       "      <td>2005</td>\n",
       "      <td>auto</td>\n",
       "      <td>0</td>\n",
       "      <td>c_klasse</td>\n",
       "      <td>150000</td>\n",
       "      <td>unknown</td>\n",
       "      <td>mercedes_benz</td>\n",
       "      <td>unknown</td>\n",
       "    </tr>\n",
       "    <tr>\n",
       "      <th>354363</th>\n",
       "      <td>1150</td>\n",
       "      <td>bus</td>\n",
       "      <td>2000</td>\n",
       "      <td>manual</td>\n",
       "      <td>0</td>\n",
       "      <td>zafira</td>\n",
       "      <td>150000</td>\n",
       "      <td>petrol</td>\n",
       "      <td>opel</td>\n",
       "      <td>no</td>\n",
       "    </tr>\n",
       "    <tr>\n",
       "      <th>354365</th>\n",
       "      <td>2200</td>\n",
       "      <td>unknown</td>\n",
       "      <td>2005</td>\n",
       "      <td>unknown</td>\n",
       "      <td>0</td>\n",
       "      <td>unknown</td>\n",
       "      <td>20000</td>\n",
       "      <td>unknown</td>\n",
       "      <td>sonstige_autos</td>\n",
       "      <td>unknown</td>\n",
       "    </tr>\n",
       "  </tbody>\n",
       "</table>\n",
       "<p>35091 rows × 10 columns</p>\n",
       "</div>"
      ],
      "text/plain": [
       "        Price VehicleType  RegistrationYear  Gearbox  Power      Model  \\\n",
       "0         480     unknown              1993   manual      0       golf   \n",
       "32        245       sedan              1994  unknown      0       golf   \n",
       "37       1500     unknown              2016  unknown      0     kangoo   \n",
       "54       4700       wagon              2005   manual      0     signum   \n",
       "55        550       wagon              1999   manual      0      astra   \n",
       "...       ...         ...               ...      ...    ...        ...   \n",
       "354336   3299     unknown              2005     auto      0  outlander   \n",
       "354338    180     unknown              1995  unknown      0    unknown   \n",
       "354346   2600     unknown              2005     auto      0   c_klasse   \n",
       "354363   1150         bus              2000   manual      0     zafira   \n",
       "354365   2200     unknown              2005  unknown      0    unknown   \n",
       "\n",
       "        Kilometer  FuelType           Brand NotRepaired  \n",
       "0          150000    petrol      volkswagen     unknown  \n",
       "32         150000    petrol      volkswagen          no  \n",
       "37         150000  gasoline         renault          no  \n",
       "54         150000   unknown            opel          no  \n",
       "55         150000  gasoline            opel         yes  \n",
       "...           ...       ...             ...         ...  \n",
       "354336     150000    petrol      mitsubishi     unknown  \n",
       "354338     125000    petrol            opel     unknown  \n",
       "354346     150000   unknown   mercedes_benz     unknown  \n",
       "354363     150000    petrol            opel          no  \n",
       "354365      20000   unknown  sonstige_autos     unknown  \n",
       "\n",
       "[35091 rows x 10 columns]"
      ]
     },
     "execution_count": 11,
     "metadata": {},
     "output_type": "execute_result"
    }
   ],
   "source": [
    "data.loc[(data['Power'] == 0)]"
   ]
  },
  {
   "cell_type": "code",
   "execution_count": 12,
   "metadata": {},
   "outputs": [],
   "source": [
    "# отбросим в столбце \"Power\", машин с менее 5 л.с. и более 1100 л.с., остальные данные аномальные\n",
    "\n",
    "data = data.query('5 < Power < 1100')"
   ]
  },
  {
   "cell_type": "code",
   "execution_count": 13,
   "metadata": {},
   "outputs": [
    {
     "data": {
      "text/html": [
       "<div>\n",
       "<style scoped>\n",
       "    .dataframe tbody tr th:only-of-type {\n",
       "        vertical-align: middle;\n",
       "    }\n",
       "\n",
       "    .dataframe tbody tr th {\n",
       "        vertical-align: top;\n",
       "    }\n",
       "\n",
       "    .dataframe thead th {\n",
       "        text-align: right;\n",
       "    }\n",
       "</style>\n",
       "<table border=\"1\" class=\"dataframe\">\n",
       "  <thead>\n",
       "    <tr style=\"text-align: right;\">\n",
       "      <th></th>\n",
       "      <th>Price</th>\n",
       "      <th>VehicleType</th>\n",
       "      <th>RegistrationYear</th>\n",
       "      <th>Gearbox</th>\n",
       "      <th>Power</th>\n",
       "      <th>Model</th>\n",
       "      <th>Kilometer</th>\n",
       "      <th>FuelType</th>\n",
       "      <th>Brand</th>\n",
       "      <th>NotRepaired</th>\n",
       "    </tr>\n",
       "  </thead>\n",
       "  <tbody>\n",
       "    <tr>\n",
       "      <th>1</th>\n",
       "      <td>18300</td>\n",
       "      <td>coupe</td>\n",
       "      <td>2011</td>\n",
       "      <td>manual</td>\n",
       "      <td>190</td>\n",
       "      <td>unknown</td>\n",
       "      <td>125000</td>\n",
       "      <td>gasoline</td>\n",
       "      <td>audi</td>\n",
       "      <td>yes</td>\n",
       "    </tr>\n",
       "    <tr>\n",
       "      <th>2</th>\n",
       "      <td>9800</td>\n",
       "      <td>suv</td>\n",
       "      <td>2004</td>\n",
       "      <td>auto</td>\n",
       "      <td>163</td>\n",
       "      <td>grand</td>\n",
       "      <td>125000</td>\n",
       "      <td>gasoline</td>\n",
       "      <td>jeep</td>\n",
       "      <td>unknown</td>\n",
       "    </tr>\n",
       "    <tr>\n",
       "      <th>3</th>\n",
       "      <td>1500</td>\n",
       "      <td>small</td>\n",
       "      <td>2001</td>\n",
       "      <td>manual</td>\n",
       "      <td>75</td>\n",
       "      <td>golf</td>\n",
       "      <td>150000</td>\n",
       "      <td>petrol</td>\n",
       "      <td>volkswagen</td>\n",
       "      <td>no</td>\n",
       "    </tr>\n",
       "    <tr>\n",
       "      <th>4</th>\n",
       "      <td>3600</td>\n",
       "      <td>small</td>\n",
       "      <td>2008</td>\n",
       "      <td>manual</td>\n",
       "      <td>69</td>\n",
       "      <td>fabia</td>\n",
       "      <td>90000</td>\n",
       "      <td>gasoline</td>\n",
       "      <td>skoda</td>\n",
       "      <td>no</td>\n",
       "    </tr>\n",
       "    <tr>\n",
       "      <th>5</th>\n",
       "      <td>650</td>\n",
       "      <td>sedan</td>\n",
       "      <td>1995</td>\n",
       "      <td>manual</td>\n",
       "      <td>102</td>\n",
       "      <td>3er</td>\n",
       "      <td>150000</td>\n",
       "      <td>petrol</td>\n",
       "      <td>bmw</td>\n",
       "      <td>yes</td>\n",
       "    </tr>\n",
       "    <tr>\n",
       "      <th>6</th>\n",
       "      <td>2200</td>\n",
       "      <td>convertible</td>\n",
       "      <td>2004</td>\n",
       "      <td>manual</td>\n",
       "      <td>109</td>\n",
       "      <td>2_reihe</td>\n",
       "      <td>150000</td>\n",
       "      <td>petrol</td>\n",
       "      <td>peugeot</td>\n",
       "      <td>no</td>\n",
       "    </tr>\n",
       "    <tr>\n",
       "      <th>8</th>\n",
       "      <td>14500</td>\n",
       "      <td>bus</td>\n",
       "      <td>2014</td>\n",
       "      <td>manual</td>\n",
       "      <td>125</td>\n",
       "      <td>c_max</td>\n",
       "      <td>30000</td>\n",
       "      <td>petrol</td>\n",
       "      <td>ford</td>\n",
       "      <td>unknown</td>\n",
       "    </tr>\n",
       "    <tr>\n",
       "      <th>9</th>\n",
       "      <td>999</td>\n",
       "      <td>small</td>\n",
       "      <td>1998</td>\n",
       "      <td>manual</td>\n",
       "      <td>101</td>\n",
       "      <td>golf</td>\n",
       "      <td>150000</td>\n",
       "      <td>unknown</td>\n",
       "      <td>volkswagen</td>\n",
       "      <td>unknown</td>\n",
       "    </tr>\n",
       "    <tr>\n",
       "      <th>10</th>\n",
       "      <td>2000</td>\n",
       "      <td>sedan</td>\n",
       "      <td>2004</td>\n",
       "      <td>manual</td>\n",
       "      <td>105</td>\n",
       "      <td>3_reihe</td>\n",
       "      <td>150000</td>\n",
       "      <td>petrol</td>\n",
       "      <td>mazda</td>\n",
       "      <td>no</td>\n",
       "    </tr>\n",
       "    <tr>\n",
       "      <th>11</th>\n",
       "      <td>2799</td>\n",
       "      <td>wagon</td>\n",
       "      <td>2005</td>\n",
       "      <td>manual</td>\n",
       "      <td>140</td>\n",
       "      <td>passat</td>\n",
       "      <td>150000</td>\n",
       "      <td>gasoline</td>\n",
       "      <td>volkswagen</td>\n",
       "      <td>yes</td>\n",
       "    </tr>\n",
       "  </tbody>\n",
       "</table>\n",
       "</div>"
      ],
      "text/plain": [
       "    Price  VehicleType  RegistrationYear Gearbox  Power    Model  Kilometer  \\\n",
       "1   18300        coupe              2011  manual    190  unknown     125000   \n",
       "2    9800          suv              2004    auto    163    grand     125000   \n",
       "3    1500        small              2001  manual     75     golf     150000   \n",
       "4    3600        small              2008  manual     69    fabia      90000   \n",
       "5     650        sedan              1995  manual    102      3er     150000   \n",
       "6    2200  convertible              2004  manual    109  2_reihe     150000   \n",
       "8   14500          bus              2014  manual    125    c_max      30000   \n",
       "9     999        small              1998  manual    101     golf     150000   \n",
       "10   2000        sedan              2004  manual    105  3_reihe     150000   \n",
       "11   2799        wagon              2005  manual    140   passat     150000   \n",
       "\n",
       "    FuelType       Brand NotRepaired  \n",
       "1   gasoline        audi         yes  \n",
       "2   gasoline        jeep     unknown  \n",
       "3     petrol  volkswagen          no  \n",
       "4   gasoline       skoda          no  \n",
       "5     petrol         bmw         yes  \n",
       "6     petrol     peugeot          no  \n",
       "8     petrol        ford     unknown  \n",
       "9    unknown  volkswagen     unknown  \n",
       "10    petrol       mazda          no  \n",
       "11  gasoline  volkswagen         yes  "
      ]
     },
     "metadata": {},
     "output_type": "display_data"
    },
    {
     "name": "stdout",
     "output_type": "stream",
     "text": [
      "<class 'pandas.core.frame.DataFrame'>\n",
      "Int64Index: 305605 entries, 1 to 354368\n",
      "Data columns (total 10 columns):\n",
      " #   Column            Non-Null Count   Dtype \n",
      "---  ------            --------------   ----- \n",
      " 0   Price             305605 non-null  int64 \n",
      " 1   VehicleType       305605 non-null  object\n",
      " 2   RegistrationYear  305605 non-null  int64 \n",
      " 3   Gearbox           305605 non-null  object\n",
      " 4   Power             305605 non-null  int64 \n",
      " 5   Model             305605 non-null  object\n",
      " 6   Kilometer         305605 non-null  int64 \n",
      " 7   FuelType          305605 non-null  object\n",
      " 8   Brand             305605 non-null  object\n",
      " 9   NotRepaired       305605 non-null  object\n",
      "dtypes: int64(4), object(6)\n",
      "memory usage: 25.6+ MB\n"
     ]
    },
    {
     "data": {
      "text/plain": [
       "None"
      ]
     },
     "metadata": {},
     "output_type": "display_data"
    },
    {
     "data": {
      "text/html": [
       "<div>\n",
       "<style scoped>\n",
       "    .dataframe tbody tr th:only-of-type {\n",
       "        vertical-align: middle;\n",
       "    }\n",
       "\n",
       "    .dataframe tbody tr th {\n",
       "        vertical-align: top;\n",
       "    }\n",
       "\n",
       "    .dataframe thead th {\n",
       "        text-align: right;\n",
       "    }\n",
       "</style>\n",
       "<table border=\"1\" class=\"dataframe\">\n",
       "  <thead>\n",
       "    <tr style=\"text-align: right;\">\n",
       "      <th></th>\n",
       "      <th>Price</th>\n",
       "      <th>RegistrationYear</th>\n",
       "      <th>Power</th>\n",
       "      <th>Kilometer</th>\n",
       "    </tr>\n",
       "  </thead>\n",
       "  <tbody>\n",
       "    <tr>\n",
       "      <th>count</th>\n",
       "      <td>305605.000000</td>\n",
       "      <td>305605.000000</td>\n",
       "      <td>305605.000000</td>\n",
       "      <td>305605.000000</td>\n",
       "    </tr>\n",
       "    <tr>\n",
       "      <th>mean</th>\n",
       "      <td>4823.875624</td>\n",
       "      <td>2003.343951</td>\n",
       "      <td>120.552468</td>\n",
       "      <td>128499.664600</td>\n",
       "    </tr>\n",
       "    <tr>\n",
       "      <th>std</th>\n",
       "      <td>4584.821569</td>\n",
       "      <td>6.810168</td>\n",
       "      <td>55.295200</td>\n",
       "      <td>36612.804387</td>\n",
       "    </tr>\n",
       "    <tr>\n",
       "      <th>min</th>\n",
       "      <td>55.000000</td>\n",
       "      <td>1961.000000</td>\n",
       "      <td>6.000000</td>\n",
       "      <td>5000.000000</td>\n",
       "    </tr>\n",
       "    <tr>\n",
       "      <th>25%</th>\n",
       "      <td>1350.000000</td>\n",
       "      <td>1999.000000</td>\n",
       "      <td>75.000000</td>\n",
       "      <td>125000.000000</td>\n",
       "    </tr>\n",
       "    <tr>\n",
       "      <th>50%</th>\n",
       "      <td>3150.000000</td>\n",
       "      <td>2003.000000</td>\n",
       "      <td>110.000000</td>\n",
       "      <td>150000.000000</td>\n",
       "    </tr>\n",
       "    <tr>\n",
       "      <th>75%</th>\n",
       "      <td>6950.000000</td>\n",
       "      <td>2008.000000</td>\n",
       "      <td>150.000000</td>\n",
       "      <td>150000.000000</td>\n",
       "    </tr>\n",
       "    <tr>\n",
       "      <th>max</th>\n",
       "      <td>20000.000000</td>\n",
       "      <td>2019.000000</td>\n",
       "      <td>1090.000000</td>\n",
       "      <td>150000.000000</td>\n",
       "    </tr>\n",
       "  </tbody>\n",
       "</table>\n",
       "</div>"
      ],
      "text/plain": [
       "               Price  RegistrationYear          Power      Kilometer\n",
       "count  305605.000000     305605.000000  305605.000000  305605.000000\n",
       "mean     4823.875624       2003.343951     120.552468  128499.664600\n",
       "std      4584.821569          6.810168      55.295200   36612.804387\n",
       "min        55.000000       1961.000000       6.000000    5000.000000\n",
       "25%      1350.000000       1999.000000      75.000000  125000.000000\n",
       "50%      3150.000000       2003.000000     110.000000  150000.000000\n",
       "75%      6950.000000       2008.000000     150.000000  150000.000000\n",
       "max     20000.000000       2019.000000    1090.000000  150000.000000"
      ]
     },
     "metadata": {},
     "output_type": "display_data"
    },
    {
     "data": {
      "text/plain": [
       "Price               0\n",
       "VehicleType         0\n",
       "RegistrationYear    0\n",
       "Gearbox             0\n",
       "Power               0\n",
       "Model               0\n",
       "Kilometer           0\n",
       "FuelType            0\n",
       "Brand               0\n",
       "NotRepaired         0\n",
       "dtype: int64"
      ]
     },
     "metadata": {},
     "output_type": "display_data"
    }
   ],
   "source": [
    "display(data.head(10))\n",
    "display(data.info())\n",
    "display(data.describe())\n",
    "display(data.isnull().sum(axis = 0))"
   ]
  },
  {
   "cell_type": "markdown",
   "metadata": {},
   "source": [
    "**Вывод** \n",
    "\n",
    "<font>На данном этапе был проделан первичный анализ и предобработка данных.</font><br> \n",
    "<font>Датасет изначально содержит 354369 строк и 16 столбцов с типами int и object. После обработки осталось строк 306989 и 10 столбцов.</font><br>\n",
    "<font>Также имеются пропуски по некоторым столбцам, от которых избавились с помощью заглушки unknown.</font><br>\n",
    "<font>Были удалены неинформативные столбцы и отсортированы нулевые значения по ценам, по мощности и несуществующие года.</font><br>"
   ]
  },
  {
   "cell_type": "markdown",
   "metadata": {},
   "source": [
    "## Обучение моделей"
   ]
  },
  {
   "cell_type": "code",
   "execution_count": 14,
   "metadata": {},
   "outputs": [],
   "source": [
    "# кодирование категориальных столбцов\n",
    "\n",
    "encoder = OrdinalEncoder()\n",
    "data_cod = pd.DataFrame(encoder.fit_transform(data[['VehicleType', 'Gearbox', 'Model', 'FuelType', 'Brand', 'NotRepaired']]),\n",
    "                            columns=data[['VehicleType', 'Gearbox', 'Model', 'FuelType', 'Brand', 'NotRepaired']].columns)"
   ]
  },
  {
   "cell_type": "code",
   "execution_count": 15,
   "metadata": {},
   "outputs": [
    {
     "data": {
      "text/html": [
       "<div>\n",
       "<style scoped>\n",
       "    .dataframe tbody tr th:only-of-type {\n",
       "        vertical-align: middle;\n",
       "    }\n",
       "\n",
       "    .dataframe tbody tr th {\n",
       "        vertical-align: top;\n",
       "    }\n",
       "\n",
       "    .dataframe thead th {\n",
       "        text-align: right;\n",
       "    }\n",
       "</style>\n",
       "<table border=\"1\" class=\"dataframe\">\n",
       "  <thead>\n",
       "    <tr style=\"text-align: right;\">\n",
       "      <th></th>\n",
       "      <th>VehicleType</th>\n",
       "      <th>Gearbox</th>\n",
       "      <th>Model</th>\n",
       "      <th>FuelType</th>\n",
       "      <th>Brand</th>\n",
       "      <th>NotRepaired</th>\n",
       "      <th>Price</th>\n",
       "      <th>RegistrationYear</th>\n",
       "      <th>Power</th>\n",
       "      <th>Kilometer</th>\n",
       "    </tr>\n",
       "  </thead>\n",
       "  <tbody>\n",
       "    <tr>\n",
       "      <th>0</th>\n",
       "      <td>2.0</td>\n",
       "      <td>1.0</td>\n",
       "      <td>227.0</td>\n",
       "      <td>2.0</td>\n",
       "      <td>1.0</td>\n",
       "      <td>2.0</td>\n",
       "      <td>18300</td>\n",
       "      <td>2011</td>\n",
       "      <td>190</td>\n",
       "      <td>125000</td>\n",
       "    </tr>\n",
       "    <tr>\n",
       "      <th>1</th>\n",
       "      <td>6.0</td>\n",
       "      <td>0.0</td>\n",
       "      <td>117.0</td>\n",
       "      <td>2.0</td>\n",
       "      <td>14.0</td>\n",
       "      <td>1.0</td>\n",
       "      <td>9800</td>\n",
       "      <td>2004</td>\n",
       "      <td>163</td>\n",
       "      <td>125000</td>\n",
       "    </tr>\n",
       "    <tr>\n",
       "      <th>2</th>\n",
       "      <td>5.0</td>\n",
       "      <td>1.0</td>\n",
       "      <td>116.0</td>\n",
       "      <td>6.0</td>\n",
       "      <td>38.0</td>\n",
       "      <td>0.0</td>\n",
       "      <td>1500</td>\n",
       "      <td>2001</td>\n",
       "      <td>75</td>\n",
       "      <td>150000</td>\n",
       "    </tr>\n",
       "    <tr>\n",
       "      <th>3</th>\n",
       "      <td>5.0</td>\n",
       "      <td>1.0</td>\n",
       "      <td>101.0</td>\n",
       "      <td>2.0</td>\n",
       "      <td>31.0</td>\n",
       "      <td>0.0</td>\n",
       "      <td>3600</td>\n",
       "      <td>2008</td>\n",
       "      <td>69</td>\n",
       "      <td>90000</td>\n",
       "    </tr>\n",
       "    <tr>\n",
       "      <th>4</th>\n",
       "      <td>4.0</td>\n",
       "      <td>1.0</td>\n",
       "      <td>11.0</td>\n",
       "      <td>6.0</td>\n",
       "      <td>2.0</td>\n",
       "      <td>2.0</td>\n",
       "      <td>650</td>\n",
       "      <td>1995</td>\n",
       "      <td>102</td>\n",
       "      <td>150000</td>\n",
       "    </tr>\n",
       "    <tr>\n",
       "      <th>...</th>\n",
       "      <td>...</td>\n",
       "      <td>...</td>\n",
       "      <td>...</td>\n",
       "      <td>...</td>\n",
       "      <td>...</td>\n",
       "      <td>...</td>\n",
       "      <td>...</td>\n",
       "      <td>...</td>\n",
       "      <td>...</td>\n",
       "      <td>...</td>\n",
       "    </tr>\n",
       "    <tr>\n",
       "      <th>305600</th>\n",
       "      <td>7.0</td>\n",
       "      <td>0.0</td>\n",
       "      <td>4.0</td>\n",
       "      <td>7.0</td>\n",
       "      <td>0.0</td>\n",
       "      <td>0.0</td>\n",
       "      <td>5250</td>\n",
       "      <td>2016</td>\n",
       "      <td>150</td>\n",
       "      <td>150000</td>\n",
       "    </tr>\n",
       "    <tr>\n",
       "      <th>305601</th>\n",
       "      <td>4.0</td>\n",
       "      <td>1.0</td>\n",
       "      <td>140.0</td>\n",
       "      <td>6.0</td>\n",
       "      <td>30.0</td>\n",
       "      <td>2.0</td>\n",
       "      <td>3200</td>\n",
       "      <td>2004</td>\n",
       "      <td>225</td>\n",
       "      <td>150000</td>\n",
       "    </tr>\n",
       "    <tr>\n",
       "      <th>305602</th>\n",
       "      <td>1.0</td>\n",
       "      <td>0.0</td>\n",
       "      <td>106.0</td>\n",
       "      <td>6.0</td>\n",
       "      <td>32.0</td>\n",
       "      <td>0.0</td>\n",
       "      <td>1199</td>\n",
       "      <td>2000</td>\n",
       "      <td>101</td>\n",
       "      <td>125000</td>\n",
       "    </tr>\n",
       "    <tr>\n",
       "      <th>305603</th>\n",
       "      <td>0.0</td>\n",
       "      <td>1.0</td>\n",
       "      <td>223.0</td>\n",
       "      <td>2.0</td>\n",
       "      <td>38.0</td>\n",
       "      <td>0.0</td>\n",
       "      <td>9200</td>\n",
       "      <td>1996</td>\n",
       "      <td>102</td>\n",
       "      <td>150000</td>\n",
       "    </tr>\n",
       "    <tr>\n",
       "      <th>305604</th>\n",
       "      <td>8.0</td>\n",
       "      <td>1.0</td>\n",
       "      <td>116.0</td>\n",
       "      <td>2.0</td>\n",
       "      <td>38.0</td>\n",
       "      <td>1.0</td>\n",
       "      <td>3400</td>\n",
       "      <td>2002</td>\n",
       "      <td>100</td>\n",
       "      <td>150000</td>\n",
       "    </tr>\n",
       "  </tbody>\n",
       "</table>\n",
       "<p>305605 rows × 10 columns</p>\n",
       "</div>"
      ],
      "text/plain": [
       "        VehicleType  Gearbox  Model  FuelType  Brand  NotRepaired  Price  \\\n",
       "0               2.0      1.0  227.0       2.0    1.0          2.0  18300   \n",
       "1               6.0      0.0  117.0       2.0   14.0          1.0   9800   \n",
       "2               5.0      1.0  116.0       6.0   38.0          0.0   1500   \n",
       "3               5.0      1.0  101.0       2.0   31.0          0.0   3600   \n",
       "4               4.0      1.0   11.0       6.0    2.0          2.0    650   \n",
       "...             ...      ...    ...       ...    ...          ...    ...   \n",
       "305600          7.0      0.0    4.0       7.0    0.0          0.0   5250   \n",
       "305601          4.0      1.0  140.0       6.0   30.0          2.0   3200   \n",
       "305602          1.0      0.0  106.0       6.0   32.0          0.0   1199   \n",
       "305603          0.0      1.0  223.0       2.0   38.0          0.0   9200   \n",
       "305604          8.0      1.0  116.0       2.0   38.0          1.0   3400   \n",
       "\n",
       "        RegistrationYear  Power  Kilometer  \n",
       "0                   2011    190     125000  \n",
       "1                   2004    163     125000  \n",
       "2                   2001     75     150000  \n",
       "3                   2008     69      90000  \n",
       "4                   1995    102     150000  \n",
       "...                  ...    ...        ...  \n",
       "305600              2016    150     150000  \n",
       "305601              2004    225     150000  \n",
       "305602              2000    101     125000  \n",
       "305603              1996    102     150000  \n",
       "305604              2002    100     150000  \n",
       "\n",
       "[305605 rows x 10 columns]"
      ]
     },
     "execution_count": 15,
     "metadata": {},
     "output_type": "execute_result"
    }
   ],
   "source": [
    "data_cod[['Price', 'RegistrationYear', 'Power', 'Kilometer']] = data[['Price', 'RegistrationYear', 'Power',\n",
    "                                                                      'Kilometer']].reset_index(drop=True)\n",
    "data_cod"
   ]
  },
  {
   "cell_type": "code",
   "execution_count": 16,
   "metadata": {
    "scrolled": true
   },
   "outputs": [
    {
     "data": {
      "image/png": "[encoded data removed]",
      "text/plain": [
       "<Figure size 720x288 with 2 Axes>"
      ]
     },
     "metadata": {
      "needs_background": "light"
     },
     "output_type": "display_data"
    }
   ],
   "source": [
    "# построение корреляционной матрицы\n",
    "\n",
    "plt.figure(figsize = (10,4))\n",
    "corr_matrix = sns.heatmap(data_cod.corr(), annot=True)\n",
    "plt.show()"
   ]
  },
  {
   "cell_type": "code",
   "execution_count": 17,
   "metadata": {},
   "outputs": [],
   "source": [
    "# разобьем датасет на три выборки: обучающую, валидационною и тестовую\n",
    "\n",
    "data_train, data_test = train_test_split(data_cod, test_size=0.25, random_state=12345)\n",
    "data_train, data_valid = train_test_split(data_train, test_size=0.333, random_state=12345)"
   ]
  },
  {
   "cell_type": "code",
   "execution_count": 18,
   "metadata": {
    "scrolled": true
   },
   "outputs": [
    {
     "name": "stdout",
     "output_type": "stream",
     "text": [
      "(152878, 9)\n",
      "(152878,)\n",
      "(76402, 9)\n",
      "(76402,)\n",
      "(76325, 9)\n",
      "(76325,)\n"
     ]
    }
   ],
   "source": [
    "# сохраним признаки в переменные\n",
    "\n",
    "features_train = data_train.drop(['Price'], axis=1)\n",
    "target_train = data_train['Price']\n",
    "\n",
    "features_test = data_test.drop(['Price'], axis=1)\n",
    "target_test = data_test['Price']\n",
    "\n",
    "features_valid = data_valid.drop(['Price'], axis=1)\n",
    "target_valid = data_valid['Price']\n",
    "\n",
    "print(features_train.shape)\n",
    "print(target_train.shape)\n",
    "print(features_test.shape)\n",
    "print(target_test.shape)\n",
    "print(features_valid.shape)\n",
    "print(target_valid.shape)"
   ]
  },
  {
   "cell_type": "markdown",
   "metadata": {},
   "source": [
    "### Линейная регрессия"
   ]
  },
  {
   "cell_type": "code",
   "execution_count": 19,
   "metadata": {
    "scrolled": true
   },
   "outputs": [
    {
     "name": "stdout",
     "output_type": "stream",
     "text": [
      "RMSE: 2951.7271076553884\n",
      "CPU times: user 34.6 ms, sys: 21.6 ms, total: 56.2 ms\n",
      "Wall time: 46.3 ms\n"
     ]
    }
   ],
   "source": [
    "%%time\n",
    "\n",
    "model_LR = LinearRegression()\n",
    "model_LR.fit(features_train, target_train) \n",
    "predictions_valid_LR = model_LR.predict(features_valid)\n",
    "mse_LR = mean_squared_error(target_valid, predictions_valid_LR)\n",
    "\n",
    "print(\"RMSE:\", mse_LR ** 0.5)"
   ]
  },
  {
   "cell_type": "markdown",
   "metadata": {},
   "source": [
    "### Градиентный бустинг с LightGBM"
   ]
  },
  {
   "cell_type": "code",
   "execution_count": 20,
   "metadata": {},
   "outputs": [
    {
     "name": "stdout",
     "output_type": "stream",
     "text": [
      "RMSE: 1578.2657608279242\n",
      "CPU times: user 3min 3s, sys: 923 ms, total: 3min 4s\n",
      "Wall time: 3min 5s\n"
     ]
    }
   ],
   "source": [
    "%%time\n",
    "\n",
    "model_LGBM = LGBMRegressor(learning_rate=0.1, \n",
    "                      num_leaves=200, \n",
    "                      random_state=12345)\n",
    "model_LGBM.fit(features_train, target_train)\n",
    "\n",
    "predictions_valid_LGBM = model_LGBM.predict(features_valid)\n",
    "\n",
    "mse_LGBM = mean_squared_error(target_valid, predictions_valid_LGBM)\n",
    "\n",
    "print(\"RMSE:\", mse_LGBM ** 0.5)"
   ]
  },
  {
   "cell_type": "markdown",
   "metadata": {},
   "source": [
    "### Градиентный бустинг с CatBoost"
   ]
  },
  {
   "cell_type": "code",
   "execution_count": 21,
   "metadata": {
    "scrolled": false
   },
   "outputs": [
    {
     "name": "stdout",
     "output_type": "stream",
     "text": [
      "0:\tlearn: 3136.2433425\ttotal: 102ms\tremaining: 20.3s\n",
      "10:\tlearn: 1795.8510503\ttotal: 505ms\tremaining: 8.67s\n",
      "20:\tlearn: 1690.7722691\ttotal: 864ms\tremaining: 7.36s\n",
      "30:\tlearn: 1629.8657579\ttotal: 1.23s\tremaining: 6.69s\n",
      "40:\tlearn: 1574.9798398\ttotal: 1.59s\tremaining: 6.19s\n",
      "50:\tlearn: 1541.1538923\ttotal: 1.96s\tremaining: 5.73s\n",
      "60:\tlearn: 1515.3114084\ttotal: 2.34s\tremaining: 5.33s\n",
      "70:\tlearn: 1489.3420028\ttotal: 2.7s\tremaining: 4.91s\n",
      "80:\tlearn: 1467.6359050\ttotal: 3.06s\tremaining: 4.5s\n",
      "90:\tlearn: 1448.7791217\ttotal: 3.43s\tremaining: 4.11s\n",
      "100:\tlearn: 1433.8029877\ttotal: 3.79s\tremaining: 3.71s\n",
      "110:\tlearn: 1415.6872075\ttotal: 4.15s\tremaining: 3.33s\n",
      "120:\tlearn: 1402.8645713\ttotal: 4.51s\tremaining: 2.94s\n",
      "130:\tlearn: 1391.4471489\ttotal: 4.87s\tremaining: 2.57s\n",
      "140:\tlearn: 1379.7163244\ttotal: 5.23s\tremaining: 2.19s\n",
      "150:\tlearn: 1368.0290926\ttotal: 5.59s\tremaining: 1.81s\n",
      "160:\tlearn: 1357.6280585\ttotal: 6.02s\tremaining: 1.46s\n",
      "170:\tlearn: 1346.6081183\ttotal: 6.39s\tremaining: 1.08s\n",
      "180:\tlearn: 1336.3697101\ttotal: 6.76s\tremaining: 710ms\n",
      "190:\tlearn: 1327.9313815\ttotal: 7.12s\tremaining: 336ms\n",
      "199:\tlearn: 1321.3243793\ttotal: 7.46s\tremaining: 0us\n",
      "RMSE: 1593.5876595626023\n",
      "CPU times: user 7.55 s, sys: 53.8 ms, total: 7.6 s\n",
      "Wall time: 8.19 s\n"
     ]
    }
   ],
   "source": [
    "%%time\n",
    "\n",
    "model_CBR = CatBoostRegressor(iterations=200, learning_rate=0.5, depth = 10)\n",
    "model_CBR.fit(features_train, target_train, verbose=10) \n",
    "predictions_valid_CBR = model_CBR.predict(features_valid)\n",
    "mse_CBR = mean_squared_error(target_valid, predictions_valid_CBR)\n",
    "\n",
    "print(\"RMSE:\", mse_CBR ** 0.5)"
   ]
  },
  {
   "cell_type": "markdown",
   "metadata": {},
   "source": [
    "### Случайный лес"
   ]
  },
  {
   "cell_type": "code",
   "execution_count": 22,
   "metadata": {},
   "outputs": [
    {
     "name": "stdout",
     "output_type": "stream",
     "text": [
      "Accuracy наилучшей модели случайный лес на валидационной выборке: 0.8595762832376851\n",
      "Лучшее гиперпараметры модели случайный лес на валидационной выборки: RandomForestRegressor(max_depth=13, n_estimators=51, random_state=12345)\n",
      "CPU times: user 2min 10s, sys: 193 ms, total: 2min 10s\n",
      "Wall time: 2min 10s\n"
     ]
    }
   ],
   "source": [
    "%%time\n",
    "\n",
    "best_model_random_forest = None\n",
    "best_result_random_forest = 0\n",
    "for est in range(1, 60, 10):\n",
    "    for depth in range(1, 15, 2):\n",
    "        model_random_forest = RandomForestRegressor(random_state=12345, n_estimators=est, max_depth=depth)\n",
    "        model_random_forest.fit(features_train,target_train ) \n",
    "        result = model_random_forest.score(features_valid, target_valid)\n",
    "        if result > best_result_random_forest:\n",
    "            best_model_random_forest = model_random_forest\n",
    "            best_result_random_forest =result \n",
    "\n",
    "print(\"Accuracy наилучшей модели случайный лес на валидационной выборке:\", best_result_random_forest)\n",
    "print(\"Лучшее гиперпараметры модели случайный лес на валидационной выборки:\", best_model_random_forest)"
   ]
  },
  {
   "cell_type": "code",
   "execution_count": 23,
   "metadata": {},
   "outputs": [
    {
     "name": "stdout",
     "output_type": "stream",
     "text": [
      "RMSE: 1707.7518177190511\n"
     ]
    }
   ],
   "source": [
    "model_random_forest = RandomForestRegressor(random_state=12345, n_estimators=51, max_depth=13)\n",
    "model_random_forest.fit(features_train,target_train) \n",
    "predictions_valid_random_forest = model_random_forest.predict(features_valid)\n",
    "\n",
    "mse_random_forest= mean_squared_error(target_valid, predictions_valid_random_forest)\n",
    "\n",
    "print(\"RMSE:\", mse_random_forest ** 0.5)"
   ]
  },
  {
   "cell_type": "markdown",
   "metadata": {},
   "source": [
    "**Вывод** \n",
    "\n",
    "<font>Все категориальные признаки закодировали с помощью OrdinalEncoder.</font><br>\n",
    "<font>При построении корреляционной матрицы установили слабые зависимости между:\n",
    "- ценой и километражем -0,38;\n",
    "- ценой и типом топлива -0,3;\n",
    "- брендом и моделью 0,44;\n",
    "- ценой и годом выпуска 0,43.</font><br> \n",
    "<font>Данные разбили на три выборки обучающую, валидационную и тестовую.</font><br> \n",
    "Для обучения данных были выбраны модели: линейной регрессии, градиентный бустинг с LightGBM и CatBoost и случайный лес."
   ]
  },
  {
   "cell_type": "markdown",
   "metadata": {},
   "source": [
    "## Анализ моделей"
   ]
  },
  {
   "cell_type": "code",
   "execution_count": 24,
   "metadata": {},
   "outputs": [
    {
     "name": "stdout",
     "output_type": "stream",
     "text": [
      "RMSE: 1581.4175045121356\n",
      "CPU times: user 791 ms, sys: 9.99 ms, total: 801 ms\n",
      "Wall time: 778 ms\n"
     ]
    }
   ],
   "source": [
    "%%time\n",
    "\n",
    "predictions_valid_LGBM = model_LGBM.predict(features_test)\n",
    "\n",
    "mse_LGBM = mean_squared_error(target_test, predictions_valid_LGBM)\n",
    "\n",
    "print(\"RMSE:\", mse_LGBM ** 0.5)"
   ]
  },
  {
   "cell_type": "code",
   "execution_count": 25,
   "metadata": {},
   "outputs": [
    {
     "name": "stdout",
     "output_type": "stream",
     "text": [
      "RMSE: 1593.4517021997153\n",
      "CPU times: user 59.7 ms, sys: 11 µs, total: 59.7 ms\n",
      "Wall time: 102 ms\n"
     ]
    }
   ],
   "source": [
    "%%time\n",
    "\n",
    "predictions_valid_CBR = model_CBR.predict(features_test)\n",
    "mse_CBR = mean_squared_error(target_test, predictions_valid_CBR)\n",
    "\n",
    "print(\"RMSE:\", mse_CBR ** 0.5)"
   ]
  },
  {
   "cell_type": "code",
   "execution_count": 26,
   "metadata": {},
   "outputs": [
    {
     "name": "stdout",
     "output_type": "stream",
     "text": [
      "RMSE: 1715.117199377744\n",
      "CPU times: user 445 ms, sys: 72 µs, total: 446 ms\n",
      "Wall time: 448 ms\n"
     ]
    }
   ],
   "source": [
    "%%time\n",
    "\n",
    "predictions_valid_random_forest = model_random_forest.predict(features_test)\n",
    "mse_random_forest= mean_squared_error(target_test, predictions_valid_random_forest)\n",
    "\n",
    "print(\"RMSE:\", mse_random_forest ** 0.5)"
   ]
  },
  {
   "cell_type": "code",
   "execution_count": 27,
   "metadata": {},
   "outputs": [
    {
     "data": {
      "text/html": [
       "<div>\n",
       "<style scoped>\n",
       "    .dataframe tbody tr th:only-of-type {\n",
       "        vertical-align: middle;\n",
       "    }\n",
       "\n",
       "    .dataframe tbody tr th {\n",
       "        vertical-align: top;\n",
       "    }\n",
       "\n",
       "    .dataframe thead th {\n",
       "        text-align: right;\n",
       "    }\n",
       "</style>\n",
       "<table border=\"1\" class=\"dataframe\">\n",
       "  <thead>\n",
       "    <tr style=\"text-align: right;\">\n",
       "      <th></th>\n",
       "      <th>Линейная регрессия</th>\n",
       "      <th>LGBM</th>\n",
       "      <th>CatBoost</th>\n",
       "      <th>Случайный лес</th>\n",
       "    </tr>\n",
       "  </thead>\n",
       "  <tbody>\n",
       "    <tr>\n",
       "      <th>time for training</th>\n",
       "      <td>46.3 ms</td>\n",
       "      <td>3min 5s</td>\n",
       "      <td>8.19 s</td>\n",
       "      <td>2min 10s</td>\n",
       "    </tr>\n",
       "    <tr>\n",
       "      <th>time to complete</th>\n",
       "      <td>-</td>\n",
       "      <td>778 ms</td>\n",
       "      <td>102 ms</td>\n",
       "      <td>448 ms</td>\n",
       "    </tr>\n",
       "    <tr>\n",
       "      <th>RMSE on valid</th>\n",
       "      <td>2951.72</td>\n",
       "      <td>1578.26</td>\n",
       "      <td>1593.58</td>\n",
       "      <td>1707.75</td>\n",
       "    </tr>\n",
       "    <tr>\n",
       "      <th>RMSE on test</th>\n",
       "      <td>-</td>\n",
       "      <td>1581.41</td>\n",
       "      <td>1593.45</td>\n",
       "      <td>1715.11</td>\n",
       "    </tr>\n",
       "  </tbody>\n",
       "</table>\n",
       "</div>"
      ],
      "text/plain": [
       "                  Линейная регрессия     LGBM CatBoost Случайный лес\n",
       "time for training            46.3 ms  3min 5s   8.19 s      2min 10s\n",
       "time to complete                   -   778 ms   102 ms        448 ms\n",
       "RMSE on valid                2951.72  1578.26  1593.58       1707.75\n",
       "RMSE on test                       -  1581.41  1593.45       1715.11"
      ]
     },
     "execution_count": 27,
     "metadata": {},
     "output_type": "execute_result"
    }
   ],
   "source": [
    "# сводная таблица результатов\n",
    "\n",
    "result = {'Линейная регрессия': pd.Series(['46.3 ms', '-', 2951.72, '-'],\n",
    "                      index=['time for training', 'time to complete', 'RMSE on valid', 'RMSE on test']),\n",
    "     'LGBM': pd.Series(['3min 5s', '778 ms', 1578.26, 1581.41],\n",
    "                      index=['time for training', 'time to complete', 'RMSE on valid', 'RMSE on test']),\n",
    "     'CatBoost': pd.Series(['8.19 s', '102 ms', 1593.58, 1593.45],\n",
    "                      index=['time for training', 'time to complete', 'RMSE on valid', 'RMSE on test']),\n",
    "     'Случайный лес': pd.Series(['2min 10s', '448 ms', 1707.75, 1715.11],\n",
    "                      index=['time for training', 'time to complete', 'RMSE on valid', 'RMSE on test'])\n",
    "                             }\n",
    " \n",
    "pd.DataFrame(result)"
   ]
  },
  {
   "cell_type": "markdown",
   "metadata": {},
   "source": [
    "## Общий вывод\n",
    "\n",
    "Для анализа данных по определению потенциально выгодной платформы и игры были проделаны следующие действия:\n",
    "\n",
    "1. Подготовка данных\n",
    "- удалены неинформативные столбцы: DateCrawled, NumberOfPictures, PostalCode, DateCreated, LastSeen, RegistrationMonth;\n",
    "- пропуски заполнены значениями unknown;\n",
    "- отброшены выбросы в RegistrationYear;\n",
    "- удалены строки с ценой 0.\n",
    "\n",
    "2. Обучение моделей\n",
    "- корреляционный анализ не показал сильных зависимостей между признаками;\n",
    "- данные разбиты на три выборки: train, valid и test;\n",
    "- с худшим показателем RMSE - **Линейная регрессия: RMSE = 2951.72;**\n",
    "- самой продолжительной моделью по времени обучения стала: **Градиентный бустинг с LightGBM: время обучения 3min 5s;**\n",
    "- самой быстрой и качественной моделью стал - **Градиентный бустинг с CatBoost: время обучения 8.52 s и RMSE = 1619;**\n",
    "- а деревянная модель показала длительное время, но хорошее качество - **Случайный лес: время обучения 2min 22s и RMSE = 1721.**\n",
    "\n",
    "3. Анализ моделей\n",
    "\n",
    "На тестовых данные проверим три модели подходящий заданный критерий, RMSE < 2500.\n",
    "\n",
    "- **Градиентный бустинг с LightGBM: время обучения 778 ms и RMSE = 1581;**\n",
    "- **Градиентный бустинг с CatBoost: время обучения 102 ms и RMSE = 1593;**\n",
    "- **Случайный лес: время обучения 448 ms и RMSE = 1715;**\n",
    "\n",
    "Лучшая модель по RMSE на валидационной (1578) и тестовой выборке (1581) это градиентный бустинг с помощью LightGBM, но по времени обучения модели лучная стала градиентный бустинг с CatBoost, при это имея тоже хорошие показатели RMSE, выше LGBM всего на 12 пунктов."
   ]
  }
 ],
 "metadata": {
  "ExecuteTimeLog": [
   {
    "duration": 1298,
    "start_time": "2022-06-09T17:02:01.039Z"
   },
   {
    "duration": 1119,
    "start_time": "2022-06-09T17:02:03.644Z"
   },
   {
    "duration": 250,
    "start_time": "2022-06-09T17:02:05.599Z"
   },
   {
    "duration": 36,
    "start_time": "2022-06-09T17:05:23.968Z"
   },
   {
    "duration": 9,
    "start_time": "2022-06-09T17:06:00.569Z"
   },
   {
    "duration": 45,
    "start_time": "2022-06-09T17:06:42.564Z"
   },
   {
    "duration": 11,
    "start_time": "2022-06-09T17:06:58.846Z"
   },
   {
    "duration": 35,
    "start_time": "2022-06-09T17:07:11.903Z"
   },
   {
    "duration": 52,
    "start_time": "2022-06-09T17:07:53.501Z"
   },
   {
    "duration": 36,
    "start_time": "2022-06-09T17:08:13.103Z"
   },
   {
    "duration": 42,
    "start_time": "2022-06-09T17:08:48.410Z"
   },
   {
    "duration": 199,
    "start_time": "2022-06-09T17:18:24.660Z"
   },
   {
    "duration": 23,
    "start_time": "2022-06-09T17:19:40.627Z"
   },
   {
    "duration": 21,
    "start_time": "2022-06-09T17:19:56.997Z"
   },
   {
    "duration": 26,
    "start_time": "2022-06-09T17:20:37.550Z"
   },
   {
    "duration": 23,
    "start_time": "2022-06-09T17:26:42.844Z"
   },
   {
    "duration": 33,
    "start_time": "2022-06-09T17:33:13.005Z"
   },
   {
    "duration": 91,
    "start_time": "2022-06-09T17:33:14.840Z"
   },
   {
    "duration": 1036,
    "start_time": "2022-06-09T17:33:27.000Z"
   },
   {
    "duration": 741,
    "start_time": "2022-06-09T17:33:28.038Z"
   },
   {
    "duration": 235,
    "start_time": "2022-06-09T17:33:28.781Z"
   },
   {
    "duration": 7,
    "start_time": "2022-06-09T17:33:29.018Z"
   },
   {
    "duration": 55,
    "start_time": "2022-06-09T17:33:29.026Z"
   },
   {
    "duration": 94,
    "start_time": "2022-06-09T17:33:29.083Z"
   },
   {
    "duration": 0,
    "start_time": "2022-06-09T17:33:29.179Z"
   },
   {
    "duration": 0,
    "start_time": "2022-06-09T17:33:29.180Z"
   },
   {
    "duration": 1061,
    "start_time": "2022-06-09T17:34:15.266Z"
   },
   {
    "duration": 839,
    "start_time": "2022-06-09T17:34:16.329Z"
   },
   {
    "duration": 276,
    "start_time": "2022-06-09T17:34:17.169Z"
   },
   {
    "duration": 13,
    "start_time": "2022-06-09T17:34:17.448Z"
   },
   {
    "duration": 36,
    "start_time": "2022-06-09T17:34:17.462Z"
   },
   {
    "duration": 139,
    "start_time": "2022-06-09T17:34:17.501Z"
   },
   {
    "duration": 42,
    "start_time": "2022-06-09T17:34:17.642Z"
   },
   {
    "duration": 5,
    "start_time": "2022-06-09T17:34:17.686Z"
   },
   {
    "duration": 3,
    "start_time": "2022-06-09T17:34:28.933Z"
   },
   {
    "duration": 89,
    "start_time": "2022-06-09T17:34:41.462Z"
   },
   {
    "duration": 1080,
    "start_time": "2022-06-09T17:35:33.995Z"
   },
   {
    "duration": 816,
    "start_time": "2022-06-09T17:35:35.077Z"
   },
   {
    "duration": 249,
    "start_time": "2022-06-09T17:35:35.895Z"
   },
   {
    "duration": 17,
    "start_time": "2022-06-09T17:35:36.145Z"
   },
   {
    "duration": 41,
    "start_time": "2022-06-09T17:35:36.164Z"
   },
   {
    "duration": 128,
    "start_time": "2022-06-09T17:35:36.206Z"
   },
   {
    "duration": 3,
    "start_time": "2022-06-09T17:35:36.335Z"
   },
   {
    "duration": 53,
    "start_time": "2022-06-09T17:35:36.339Z"
   },
   {
    "duration": 121,
    "start_time": "2022-06-09T17:36:15.511Z"
   },
   {
    "duration": 36,
    "start_time": "2022-06-09T17:36:53.861Z"
   },
   {
    "duration": 24,
    "start_time": "2022-06-09T17:37:19.703Z"
   },
   {
    "duration": 10,
    "start_time": "2022-06-09T17:37:21.603Z"
   },
   {
    "duration": 20,
    "start_time": "2022-06-09T17:38:07.746Z"
   },
   {
    "duration": 21,
    "start_time": "2022-06-09T17:38:11.207Z"
   },
   {
    "duration": 66,
    "start_time": "2022-06-09T17:38:58.057Z"
   },
   {
    "duration": 5,
    "start_time": "2022-06-09T17:39:52.204Z"
   },
   {
    "duration": 13,
    "start_time": "2022-06-09T17:39:56.439Z"
   },
   {
    "duration": 63,
    "start_time": "2022-06-09T17:39:59.818Z"
   },
   {
    "duration": 6,
    "start_time": "2022-06-09T17:40:16.089Z"
   },
   {
    "duration": 15,
    "start_time": "2022-06-09T17:44:02.571Z"
   },
   {
    "duration": 202,
    "start_time": "2022-06-09T17:44:27.408Z"
   },
   {
    "duration": 115,
    "start_time": "2022-06-09T17:44:33.620Z"
   },
   {
    "duration": 223,
    "start_time": "2022-06-09T17:44:45.712Z"
   },
   {
    "duration": 25,
    "start_time": "2022-06-09T17:44:51.908Z"
   },
   {
    "duration": 10,
    "start_time": "2022-06-09T17:44:59.048Z"
   },
   {
    "duration": 159,
    "start_time": "2022-06-09T17:45:31.456Z"
   },
   {
    "duration": 123,
    "start_time": "2022-06-09T17:46:08.933Z"
   },
   {
    "duration": 264,
    "start_time": "2022-06-09T17:49:19.010Z"
   },
   {
    "duration": 1054,
    "start_time": "2022-06-09T17:53:18.502Z"
   },
   {
    "duration": 854,
    "start_time": "2022-06-09T17:53:19.562Z"
   },
   {
    "duration": 408,
    "start_time": "2022-06-09T17:53:20.418Z"
   },
   {
    "duration": 8,
    "start_time": "2022-06-09T17:53:20.827Z"
   },
   {
    "duration": 53,
    "start_time": "2022-06-09T17:53:20.837Z"
   },
   {
    "duration": 184,
    "start_time": "2022-06-09T17:53:20.891Z"
   },
   {
    "duration": 0,
    "start_time": "2022-06-09T17:53:21.076Z"
   },
   {
    "duration": 0,
    "start_time": "2022-06-09T17:53:21.077Z"
   },
   {
    "duration": 382,
    "start_time": "2022-06-09T17:54:01.821Z"
   },
   {
    "duration": 1119,
    "start_time": "2022-06-09T17:54:52.387Z"
   },
   {
    "duration": 859,
    "start_time": "2022-06-09T17:54:53.509Z"
   },
   {
    "duration": 378,
    "start_time": "2022-06-09T17:54:54.371Z"
   },
   {
    "duration": 20,
    "start_time": "2022-06-09T17:54:54.751Z"
   },
   {
    "duration": 43,
    "start_time": "2022-06-09T17:54:54.773Z"
   },
   {
    "duration": 331,
    "start_time": "2022-06-09T17:54:54.818Z"
   },
   {
    "duration": 136,
    "start_time": "2022-06-09T17:54:55.151Z"
   },
   {
    "duration": 0,
    "start_time": "2022-06-09T17:54:55.289Z"
   },
   {
    "duration": 0,
    "start_time": "2022-06-09T17:54:55.290Z"
   },
   {
    "duration": 21,
    "start_time": "2022-06-09T17:55:12.844Z"
   },
   {
    "duration": 46,
    "start_time": "2022-06-09T17:55:39.751Z"
   },
   {
    "duration": 157,
    "start_time": "2022-06-09T17:56:05.524Z"
   },
   {
    "duration": 170,
    "start_time": "2022-06-09T17:56:06.826Z"
   },
   {
    "duration": 39,
    "start_time": "2022-06-09T17:56:46.822Z"
   },
   {
    "duration": 1031,
    "start_time": "2022-06-09T17:56:52.813Z"
   },
   {
    "duration": 768,
    "start_time": "2022-06-09T17:56:53.845Z"
   },
   {
    "duration": 361,
    "start_time": "2022-06-09T17:56:54.614Z"
   },
   {
    "duration": 7,
    "start_time": "2022-06-09T17:56:54.977Z"
   },
   {
    "duration": 32,
    "start_time": "2022-06-09T17:56:54.986Z"
   },
   {
    "duration": 56,
    "start_time": "2022-06-09T17:56:55.020Z"
   },
   {
    "duration": 8,
    "start_time": "2022-06-09T17:56:55.078Z"
   },
   {
    "duration": 41,
    "start_time": "2022-06-09T17:56:55.087Z"
   },
   {
    "duration": 185,
    "start_time": "2022-06-09T17:56:55.130Z"
   },
   {
    "duration": 1106,
    "start_time": "2022-06-09T17:57:54.860Z"
   },
   {
    "duration": 783,
    "start_time": "2022-06-09T17:57:55.968Z"
   },
   {
    "duration": 356,
    "start_time": "2022-06-09T17:57:56.753Z"
   },
   {
    "duration": 8,
    "start_time": "2022-06-09T17:57:57.111Z"
   },
   {
    "duration": 49,
    "start_time": "2022-06-09T17:57:57.120Z"
   },
   {
    "duration": 47,
    "start_time": "2022-06-09T17:57:57.171Z"
   },
   {
    "duration": 51,
    "start_time": "2022-06-09T17:57:57.220Z"
   },
   {
    "duration": 217,
    "start_time": "2022-06-09T17:57:57.273Z"
   },
   {
    "duration": 11,
    "start_time": "2022-06-09T17:58:26.153Z"
   },
   {
    "duration": 440,
    "start_time": "2022-06-09T17:58:30.745Z"
   },
   {
    "duration": 509,
    "start_time": "2022-06-09T17:59:13.357Z"
   },
   {
    "duration": 10,
    "start_time": "2022-06-09T17:59:51.836Z"
   },
   {
    "duration": 97,
    "start_time": "2022-06-09T17:59:53.600Z"
   },
   {
    "duration": 11,
    "start_time": "2022-06-09T18:00:01.113Z"
   },
   {
    "duration": 1095,
    "start_time": "2022-06-09T18:00:18.852Z"
   },
   {
    "duration": 823,
    "start_time": "2022-06-09T18:00:19.949Z"
   },
   {
    "duration": 369,
    "start_time": "2022-06-09T18:00:20.774Z"
   },
   {
    "duration": 17,
    "start_time": "2022-06-09T18:00:21.145Z"
   },
   {
    "duration": 48,
    "start_time": "2022-06-09T18:00:21.163Z"
   },
   {
    "duration": 8,
    "start_time": "2022-06-09T18:00:21.213Z"
   },
   {
    "duration": 46,
    "start_time": "2022-06-09T18:00:21.223Z"
   },
   {
    "duration": 256,
    "start_time": "2022-06-09T18:00:21.271Z"
   },
   {
    "duration": 30,
    "start_time": "2022-06-09T18:00:45.322Z"
   },
   {
    "duration": 519,
    "start_time": "2022-06-09T18:00:47.856Z"
   },
   {
    "duration": 9,
    "start_time": "2022-06-09T18:00:52.905Z"
   },
   {
    "duration": 8,
    "start_time": "2022-06-09T18:02:33.823Z"
   },
   {
    "duration": 38,
    "start_time": "2022-06-09T18:12:33.401Z"
   },
   {
    "duration": 490,
    "start_time": "2022-06-09T18:12:38.598Z"
   },
   {
    "duration": 103,
    "start_time": "2022-06-09T18:16:36.299Z"
   },
   {
    "duration": 85,
    "start_time": "2022-06-09T18:16:50.296Z"
   },
   {
    "duration": 454,
    "start_time": "2022-06-09T18:16:55.093Z"
   },
   {
    "duration": 1056,
    "start_time": "2022-06-09T18:17:15.606Z"
   },
   {
    "duration": 848,
    "start_time": "2022-06-09T18:17:16.664Z"
   },
   {
    "duration": 350,
    "start_time": "2022-06-09T18:17:17.514Z"
   },
   {
    "duration": 8,
    "start_time": "2022-06-09T18:17:17.866Z"
   },
   {
    "duration": 26,
    "start_time": "2022-06-09T18:17:17.875Z"
   },
   {
    "duration": 76,
    "start_time": "2022-06-09T18:17:17.903Z"
   },
   {
    "duration": 38,
    "start_time": "2022-06-09T18:17:17.981Z"
   },
   {
    "duration": 116,
    "start_time": "2022-06-09T18:17:18.021Z"
   },
   {
    "duration": 245,
    "start_time": "2022-06-09T18:17:18.138Z"
   },
   {
    "duration": 101,
    "start_time": "2022-06-09T18:17:45.382Z"
   },
   {
    "duration": 234,
    "start_time": "2022-06-09T18:17:50.819Z"
   },
   {
    "duration": 242,
    "start_time": "2022-06-09T18:22:36.200Z"
   },
   {
    "duration": 1345,
    "start_time": "2022-06-10T16:58:46.684Z"
   },
   {
    "duration": 1067,
    "start_time": "2022-06-10T16:58:48.031Z"
   },
   {
    "duration": 389,
    "start_time": "2022-06-10T16:58:49.100Z"
   },
   {
    "duration": 8,
    "start_time": "2022-06-10T16:58:49.491Z"
   },
   {
    "duration": 46,
    "start_time": "2022-06-10T16:58:49.501Z"
   },
   {
    "duration": 90,
    "start_time": "2022-06-10T16:58:49.549Z"
   },
   {
    "duration": 121,
    "start_time": "2022-06-10T16:58:49.640Z"
   },
   {
    "duration": 0,
    "start_time": "2022-06-10T16:58:49.763Z"
   },
   {
    "duration": 0,
    "start_time": "2022-06-10T16:58:49.764Z"
   },
   {
    "duration": 1066,
    "start_time": "2022-06-10T17:01:34.840Z"
   },
   {
    "duration": 835,
    "start_time": "2022-06-10T17:01:35.908Z"
   },
   {
    "duration": 410,
    "start_time": "2022-06-10T17:01:36.745Z"
   },
   {
    "duration": 9,
    "start_time": "2022-06-10T17:01:37.157Z"
   },
   {
    "duration": 28,
    "start_time": "2022-06-10T17:01:37.167Z"
   },
   {
    "duration": 152,
    "start_time": "2022-06-10T17:01:37.196Z"
   },
   {
    "duration": 118,
    "start_time": "2022-06-10T17:01:37.350Z"
   },
   {
    "duration": 0,
    "start_time": "2022-06-10T17:01:37.469Z"
   },
   {
    "duration": 0,
    "start_time": "2022-06-10T17:01:37.470Z"
   },
   {
    "duration": 17,
    "start_time": "2022-06-10T17:01:58.979Z"
   },
   {
    "duration": 119,
    "start_time": "2022-06-10T17:02:00.600Z"
   },
   {
    "duration": 255,
    "start_time": "2022-06-10T17:02:01.527Z"
   },
   {
    "duration": 33,
    "start_time": "2022-06-10T17:02:31.036Z"
   },
   {
    "duration": 27,
    "start_time": "2022-06-10T17:05:38.795Z"
   },
   {
    "duration": 228,
    "start_time": "2022-06-10T17:05:44.025Z"
   },
   {
    "duration": 8,
    "start_time": "2022-06-10T17:05:57.120Z"
   },
   {
    "duration": 318,
    "start_time": "2022-06-10T17:08:02.610Z"
   },
   {
    "duration": 181,
    "start_time": "2022-06-10T17:08:51.337Z"
   },
   {
    "duration": 170,
    "start_time": "2022-06-10T17:09:02.632Z"
   },
   {
    "duration": 141,
    "start_time": "2022-06-10T17:10:08.581Z"
   },
   {
    "duration": 1136,
    "start_time": "2022-06-10T17:10:21.614Z"
   },
   {
    "duration": 815,
    "start_time": "2022-06-10T17:10:22.752Z"
   },
   {
    "duration": 354,
    "start_time": "2022-06-10T17:10:23.569Z"
   },
   {
    "duration": 8,
    "start_time": "2022-06-10T17:10:23.925Z"
   },
   {
    "duration": 38,
    "start_time": "2022-06-10T17:10:23.935Z"
   },
   {
    "duration": 95,
    "start_time": "2022-06-10T17:10:23.975Z"
   },
   {
    "duration": 41,
    "start_time": "2022-06-10T17:10:24.071Z"
   },
   {
    "duration": 125,
    "start_time": "2022-06-10T17:10:24.114Z"
   },
   {
    "duration": 143,
    "start_time": "2022-06-10T17:10:24.241Z"
   },
   {
    "duration": 221,
    "start_time": "2022-06-10T17:10:24.386Z"
   },
   {
    "duration": 191,
    "start_time": "2022-06-10T17:13:33.389Z"
   },
   {
    "duration": 271,
    "start_time": "2022-06-10T17:14:03.436Z"
   },
   {
    "duration": 10,
    "start_time": "2022-06-10T17:15:38.308Z"
   },
   {
    "duration": 18,
    "start_time": "2022-06-10T17:15:50.819Z"
   },
   {
    "duration": 10,
    "start_time": "2022-06-10T17:16:28.063Z"
   },
   {
    "duration": 34,
    "start_time": "2022-06-10T17:17:22.898Z"
   },
   {
    "duration": 215,
    "start_time": "2022-06-10T17:17:33.580Z"
   },
   {
    "duration": 228,
    "start_time": "2022-06-10T17:17:44.189Z"
   },
   {
    "duration": 13,
    "start_time": "2022-06-10T17:18:55.329Z"
   },
   {
    "duration": 39,
    "start_time": "2022-06-10T17:18:56.061Z"
   },
   {
    "duration": 5,
    "start_time": "2022-06-10T17:19:08.494Z"
   },
   {
    "duration": 34,
    "start_time": "2022-06-10T17:19:10.131Z"
   },
   {
    "duration": 5,
    "start_time": "2022-06-10T17:19:38.827Z"
   },
   {
    "duration": 5,
    "start_time": "2022-06-10T17:19:45.187Z"
   },
   {
    "duration": 33,
    "start_time": "2022-06-10T17:19:45.865Z"
   },
   {
    "duration": 1057,
    "start_time": "2022-06-10T17:20:08.771Z"
   },
   {
    "duration": 845,
    "start_time": "2022-06-10T17:20:09.830Z"
   },
   {
    "duration": 351,
    "start_time": "2022-06-10T17:20:10.679Z"
   },
   {
    "duration": 8,
    "start_time": "2022-06-10T17:20:11.032Z"
   },
   {
    "duration": 37,
    "start_time": "2022-06-10T17:20:11.041Z"
   },
   {
    "duration": 82,
    "start_time": "2022-06-10T17:20:11.080Z"
   },
   {
    "duration": 39,
    "start_time": "2022-06-10T17:20:11.164Z"
   },
   {
    "duration": 122,
    "start_time": "2022-06-10T17:20:11.205Z"
   },
   {
    "duration": 28,
    "start_time": "2022-06-10T17:20:11.330Z"
   },
   {
    "duration": 244,
    "start_time": "2022-06-10T17:20:11.360Z"
   },
   {
    "duration": 100,
    "start_time": "2022-06-10T17:23:18.697Z"
   },
   {
    "duration": 302,
    "start_time": "2022-06-10T17:25:17.920Z"
   },
   {
    "duration": 35,
    "start_time": "2022-06-10T17:25:48.997Z"
   },
   {
    "duration": 239,
    "start_time": "2022-06-10T17:25:49.689Z"
   },
   {
    "duration": 21,
    "start_time": "2022-06-10T17:26:47.663Z"
   },
   {
    "duration": 29,
    "start_time": "2022-06-10T17:37:06.307Z"
   },
   {
    "duration": 191,
    "start_time": "2022-06-10T17:37:07.295Z"
   },
   {
    "duration": 125,
    "start_time": "2022-06-10T17:40:24.515Z"
   },
   {
    "duration": 122,
    "start_time": "2022-06-10T17:40:41.229Z"
   },
   {
    "duration": 129,
    "start_time": "2022-06-10T17:41:01.529Z"
   },
   {
    "duration": 125,
    "start_time": "2022-06-10T17:41:11.583Z"
   },
   {
    "duration": 127,
    "start_time": "2022-06-10T17:41:23.616Z"
   },
   {
    "duration": 373,
    "start_time": "2022-06-10T17:47:39.291Z"
   },
   {
    "duration": 338,
    "start_time": "2022-06-10T17:48:35.993Z"
   },
   {
    "duration": 663,
    "start_time": "2022-06-10T17:49:24.686Z"
   },
   {
    "duration": 11,
    "start_time": "2022-06-10T18:17:50.258Z"
   },
   {
    "duration": 252,
    "start_time": "2022-06-10T18:17:58.248Z"
   },
   {
    "duration": 420,
    "start_time": "2022-06-10T18:18:03.436Z"
   },
   {
    "duration": 439,
    "start_time": "2022-06-10T18:18:20.783Z"
   },
   {
    "duration": 14,
    "start_time": "2022-06-10T18:19:15.522Z"
   },
   {
    "duration": 25,
    "start_time": "2022-06-10T18:19:52.870Z"
   },
   {
    "duration": 48,
    "start_time": "2022-06-10T18:21:55.944Z"
   },
   {
    "duration": 57,
    "start_time": "2022-06-10T18:22:03.382Z"
   },
   {
    "duration": 27,
    "start_time": "2022-06-10T18:23:11.799Z"
   },
   {
    "duration": 33,
    "start_time": "2022-06-10T18:23:12.629Z"
   },
   {
    "duration": 1297,
    "start_time": "2022-06-10T18:23:38.067Z"
   },
   {
    "duration": 1009,
    "start_time": "2022-06-10T18:23:39.370Z"
   },
   {
    "duration": 414,
    "start_time": "2022-06-10T18:23:40.381Z"
   },
   {
    "duration": 9,
    "start_time": "2022-06-10T18:23:40.797Z"
   },
   {
    "duration": 39,
    "start_time": "2022-06-10T18:23:40.824Z"
   },
   {
    "duration": 85,
    "start_time": "2022-06-10T18:23:40.865Z"
   },
   {
    "duration": 41,
    "start_time": "2022-06-10T18:23:40.953Z"
   },
   {
    "duration": 129,
    "start_time": "2022-06-10T18:23:40.996Z"
   },
   {
    "duration": 0,
    "start_time": "2022-06-10T18:23:41.128Z"
   },
   {
    "duration": 0,
    "start_time": "2022-06-10T18:23:41.130Z"
   },
   {
    "duration": 0,
    "start_time": "2022-06-10T18:23:41.132Z"
   },
   {
    "duration": 0,
    "start_time": "2022-06-10T18:23:41.134Z"
   },
   {
    "duration": 0,
    "start_time": "2022-06-10T18:23:41.135Z"
   },
   {
    "duration": 0,
    "start_time": "2022-06-10T18:23:41.136Z"
   },
   {
    "duration": 0,
    "start_time": "2022-06-10T18:23:41.138Z"
   },
   {
    "duration": 0,
    "start_time": "2022-06-10T18:23:41.140Z"
   },
   {
    "duration": 10,
    "start_time": "2022-06-10T18:24:34.366Z"
   },
   {
    "duration": 1258,
    "start_time": "2022-06-10T18:25:19.982Z"
   },
   {
    "duration": 800,
    "start_time": "2022-06-10T18:25:21.242Z"
   },
   {
    "duration": 357,
    "start_time": "2022-06-10T18:25:22.043Z"
   },
   {
    "duration": 140,
    "start_time": "2022-06-10T18:25:22.402Z"
   },
   {
    "duration": 40,
    "start_time": "2022-06-10T18:25:22.544Z"
   },
   {
    "duration": 85,
    "start_time": "2022-06-10T18:25:22.587Z"
   },
   {
    "duration": 61,
    "start_time": "2022-06-10T18:25:22.675Z"
   },
   {
    "duration": 139,
    "start_time": "2022-06-10T18:25:22.738Z"
   },
   {
    "duration": 0,
    "start_time": "2022-06-10T18:25:22.879Z"
   },
   {
    "duration": 0,
    "start_time": "2022-06-10T18:25:22.880Z"
   },
   {
    "duration": 1,
    "start_time": "2022-06-10T18:25:22.881Z"
   },
   {
    "duration": 0,
    "start_time": "2022-06-10T18:25:22.883Z"
   },
   {
    "duration": 0,
    "start_time": "2022-06-10T18:25:22.884Z"
   },
   {
    "duration": 0,
    "start_time": "2022-06-10T18:25:22.885Z"
   },
   {
    "duration": 0,
    "start_time": "2022-06-10T18:25:22.886Z"
   },
   {
    "duration": 0,
    "start_time": "2022-06-10T18:25:22.887Z"
   },
   {
    "duration": 3,
    "start_time": "2022-06-10T18:26:09.054Z"
   },
   {
    "duration": 4,
    "start_time": "2022-06-10T18:26:22.772Z"
   },
   {
    "duration": 1285,
    "start_time": "2022-06-10T18:28:53.975Z"
   },
   {
    "duration": 828,
    "start_time": "2022-06-10T18:28:55.262Z"
   },
   {
    "duration": 379,
    "start_time": "2022-06-10T18:28:56.091Z"
   },
   {
    "duration": 119,
    "start_time": "2022-06-10T18:28:56.472Z"
   },
   {
    "duration": 40,
    "start_time": "2022-06-10T18:28:56.593Z"
   },
   {
    "duration": 60,
    "start_time": "2022-06-10T18:28:56.635Z"
   },
   {
    "duration": 4,
    "start_time": "2022-06-10T18:28:56.697Z"
   },
   {
    "duration": 0,
    "start_time": "2022-06-10T18:28:56.723Z"
   },
   {
    "duration": 0,
    "start_time": "2022-06-10T18:28:56.724Z"
   },
   {
    "duration": 0,
    "start_time": "2022-06-10T18:28:56.726Z"
   },
   {
    "duration": 0,
    "start_time": "2022-06-10T18:28:56.727Z"
   },
   {
    "duration": 0,
    "start_time": "2022-06-10T18:28:56.729Z"
   },
   {
    "duration": 0,
    "start_time": "2022-06-10T18:28:56.730Z"
   },
   {
    "duration": 0,
    "start_time": "2022-06-10T18:28:56.732Z"
   },
   {
    "duration": 0,
    "start_time": "2022-06-10T18:28:56.733Z"
   },
   {
    "duration": 0,
    "start_time": "2022-06-10T18:28:56.735Z"
   },
   {
    "duration": 0,
    "start_time": "2022-06-10T18:28:56.736Z"
   },
   {
    "duration": 12,
    "start_time": "2022-06-10T18:29:04.856Z"
   },
   {
    "duration": 20,
    "start_time": "2022-06-10T18:29:16.485Z"
   },
   {
    "duration": 1237,
    "start_time": "2022-06-10T18:29:53.149Z"
   },
   {
    "duration": 763,
    "start_time": "2022-06-10T18:29:54.388Z"
   },
   {
    "duration": 355,
    "start_time": "2022-06-10T18:29:55.153Z"
   },
   {
    "duration": 119,
    "start_time": "2022-06-10T18:29:55.510Z"
   },
   {
    "duration": 28,
    "start_time": "2022-06-10T18:29:55.631Z"
   },
   {
    "duration": 68,
    "start_time": "2022-06-10T18:29:55.661Z"
   },
   {
    "duration": 38,
    "start_time": "2022-06-10T18:29:55.730Z"
   },
   {
    "duration": 17,
    "start_time": "2022-06-10T18:29:55.769Z"
   },
   {
    "duration": 7,
    "start_time": "2022-06-10T18:29:55.787Z"
   },
   {
    "duration": 52,
    "start_time": "2022-06-10T18:29:55.796Z"
   },
   {
    "duration": 263,
    "start_time": "2022-06-10T18:29:55.849Z"
   },
   {
    "duration": 27,
    "start_time": "2022-06-10T18:29:56.113Z"
   },
   {
    "duration": 29,
    "start_time": "2022-06-10T18:29:56.142Z"
   },
   {
    "duration": 215,
    "start_time": "2022-06-10T18:29:56.173Z"
   },
   {
    "duration": 348,
    "start_time": "2022-06-10T18:29:56.390Z"
   },
   {
    "duration": 442,
    "start_time": "2022-06-10T18:29:56.740Z"
   },
   {
    "duration": 26,
    "start_time": "2022-06-10T18:29:57.184Z"
   },
   {
    "duration": 100,
    "start_time": "2022-06-10T18:32:29.069Z"
   },
   {
    "duration": 17,
    "start_time": "2022-06-10T18:32:59.409Z"
   },
   {
    "duration": 76,
    "start_time": "2022-06-10T18:33:06.195Z"
   },
   {
    "duration": 20,
    "start_time": "2022-06-10T18:33:59.013Z"
   },
   {
    "duration": 66,
    "start_time": "2022-06-10T18:36:50.684Z"
   },
   {
    "duration": 13,
    "start_time": "2022-06-10T18:36:51.434Z"
   },
   {
    "duration": 1649,
    "start_time": "2022-06-11T13:48:45.574Z"
   },
   {
    "duration": 1477,
    "start_time": "2022-06-11T14:28:56.041Z"
   },
   {
    "duration": 2887,
    "start_time": "2022-06-11T14:28:57.521Z"
   },
   {
    "duration": 519,
    "start_time": "2022-06-11T14:29:00.409Z"
   },
   {
    "duration": 143,
    "start_time": "2022-06-11T14:29:00.931Z"
   },
   {
    "duration": 37,
    "start_time": "2022-06-11T14:29:01.076Z"
   },
   {
    "duration": 94,
    "start_time": "2022-06-11T14:29:01.115Z"
   },
   {
    "duration": 62,
    "start_time": "2022-06-11T14:29:01.211Z"
   },
   {
    "duration": 44,
    "start_time": "2022-06-11T14:29:01.280Z"
   },
   {
    "duration": 44,
    "start_time": "2022-06-11T14:29:01.326Z"
   },
   {
    "duration": 44,
    "start_time": "2022-06-11T14:29:01.376Z"
   },
   {
    "duration": 345,
    "start_time": "2022-06-11T14:29:01.423Z"
   },
   {
    "duration": 30,
    "start_time": "2022-06-11T14:29:01.770Z"
   },
   {
    "duration": 37,
    "start_time": "2022-06-11T14:29:01.802Z"
   },
   {
    "duration": 325,
    "start_time": "2022-06-11T14:29:01.842Z"
   },
   {
    "duration": 455,
    "start_time": "2022-06-11T14:29:02.169Z"
   },
   {
    "duration": 586,
    "start_time": "2022-06-11T14:29:02.626Z"
   },
   {
    "duration": 28,
    "start_time": "2022-06-11T14:29:03.214Z"
   },
   {
    "duration": 96,
    "start_time": "2022-06-11T14:29:03.243Z"
   },
   {
    "duration": 113,
    "start_time": "2022-06-11T14:29:03.340Z"
   },
   {
    "duration": 146,
    "start_time": "2022-06-11T14:29:03.463Z"
   },
   {
    "duration": 1527,
    "start_time": "2022-06-11T14:30:17.689Z"
   },
   {
    "duration": 1036,
    "start_time": "2022-06-11T14:30:19.218Z"
   },
   {
    "duration": 530,
    "start_time": "2022-06-11T14:30:20.256Z"
   },
   {
    "duration": 152,
    "start_time": "2022-06-11T14:30:20.790Z"
   },
   {
    "duration": 50,
    "start_time": "2022-06-11T14:30:20.944Z"
   },
   {
    "duration": 67,
    "start_time": "2022-06-11T14:30:20.996Z"
   },
   {
    "duration": 47,
    "start_time": "2022-06-11T14:30:21.065Z"
   },
   {
    "duration": 16,
    "start_time": "2022-06-11T14:30:21.115Z"
   },
   {
    "duration": 33,
    "start_time": "2022-06-11T14:30:21.133Z"
   },
   {
    "duration": 44,
    "start_time": "2022-06-11T14:30:21.167Z"
   },
   {
    "duration": 331,
    "start_time": "2022-06-11T14:30:21.213Z"
   },
   {
    "duration": 42,
    "start_time": "2022-06-11T14:30:21.546Z"
   },
   {
    "duration": 41,
    "start_time": "2022-06-11T14:30:21.590Z"
   },
   {
    "duration": 279,
    "start_time": "2022-06-11T14:30:21.633Z"
   },
   {
    "duration": 478,
    "start_time": "2022-06-11T14:30:21.915Z"
   },
   {
    "duration": 594,
    "start_time": "2022-06-11T14:30:22.395Z"
   },
   {
    "duration": 27,
    "start_time": "2022-06-11T14:30:22.991Z"
   },
   {
    "duration": 95,
    "start_time": "2022-06-11T14:30:23.020Z"
   },
   {
    "duration": 107,
    "start_time": "2022-06-11T14:30:23.117Z"
   },
   {
    "duration": 145,
    "start_time": "2022-06-11T14:30:23.226Z"
   },
   {
    "duration": 1601,
    "start_time": "2022-06-11T14:31:16.235Z"
   },
   {
    "duration": 1109,
    "start_time": "2022-06-11T14:31:17.838Z"
   },
   {
    "duration": 507,
    "start_time": "2022-06-11T14:31:18.949Z"
   },
   {
    "duration": 137,
    "start_time": "2022-06-11T14:31:19.459Z"
   },
   {
    "duration": 34,
    "start_time": "2022-06-11T14:31:19.598Z"
   },
   {
    "duration": 76,
    "start_time": "2022-06-11T14:31:19.634Z"
   },
   {
    "duration": 62,
    "start_time": "2022-06-11T14:31:19.712Z"
   },
   {
    "duration": 17,
    "start_time": "2022-06-11T14:31:19.776Z"
   },
   {
    "duration": 9,
    "start_time": "2022-06-11T14:31:19.795Z"
   },
   {
    "duration": 32,
    "start_time": "2022-06-11T14:31:19.806Z"
   },
   {
    "duration": 299,
    "start_time": "2022-06-11T14:31:19.840Z"
   },
   {
    "duration": 40,
    "start_time": "2022-06-11T14:31:20.141Z"
   },
   {
    "duration": 33,
    "start_time": "2022-06-11T14:31:20.182Z"
   },
   {
    "duration": 257,
    "start_time": "2022-06-11T14:31:20.217Z"
   },
   {
    "duration": 354,
    "start_time": "2022-06-11T14:31:20.476Z"
   },
   {
    "duration": 540,
    "start_time": "2022-06-11T14:31:20.833Z"
   },
   {
    "duration": 25,
    "start_time": "2022-06-11T14:31:21.376Z"
   },
   {
    "duration": 85,
    "start_time": "2022-06-11T14:31:21.403Z"
   },
   {
    "duration": 94,
    "start_time": "2022-06-11T14:31:21.489Z"
   },
   {
    "duration": 86,
    "start_time": "2022-06-11T14:31:21.585Z"
   },
   {
    "duration": 896755,
    "start_time": "2022-06-11T14:31:21.672Z"
   },
   {
    "duration": 9941,
    "start_time": "2022-06-11T14:46:18.428Z"
   },
   {
    "duration": 48,
    "start_time": "2022-06-11T14:46:28.371Z"
   },
   {
    "duration": 174775,
    "start_time": "2022-06-11T14:46:28.421Z"
   },
   {
    "duration": 2,
    "start_time": "2022-06-11T14:49:23.198Z"
   },
   {
    "duration": 1697,
    "start_time": "2022-06-11T14:55:29.002Z"
   },
   {
    "duration": 1373,
    "start_time": "2022-06-11T14:55:30.701Z"
   },
   {
    "duration": 658,
    "start_time": "2022-06-11T14:55:32.076Z"
   },
   {
    "duration": 190,
    "start_time": "2022-06-11T14:55:32.737Z"
   },
   {
    "duration": 40,
    "start_time": "2022-06-11T14:55:32.928Z"
   },
   {
    "duration": 72,
    "start_time": "2022-06-11T14:55:32.971Z"
   },
   {
    "duration": 75,
    "start_time": "2022-06-11T14:55:33.045Z"
   },
   {
    "duration": 27,
    "start_time": "2022-06-11T14:55:33.123Z"
   },
   {
    "duration": 44,
    "start_time": "2022-06-11T14:55:33.161Z"
   },
   {
    "duration": 37,
    "start_time": "2022-06-11T14:55:33.209Z"
   },
   {
    "duration": 359,
    "start_time": "2022-06-11T14:55:33.248Z"
   },
   {
    "duration": 25,
    "start_time": "2022-06-11T14:55:33.609Z"
   },
   {
    "duration": 38,
    "start_time": "2022-06-11T14:55:33.635Z"
   },
   {
    "duration": 315,
    "start_time": "2022-06-11T14:55:33.675Z"
   },
   {
    "duration": 429,
    "start_time": "2022-06-11T14:55:33.992Z"
   },
   {
    "duration": 626,
    "start_time": "2022-06-11T14:55:34.423Z"
   },
   {
    "duration": 40,
    "start_time": "2022-06-11T14:55:35.051Z"
   },
   {
    "duration": 112,
    "start_time": "2022-06-11T14:55:35.093Z"
   },
   {
    "duration": 129,
    "start_time": "2022-06-11T14:55:35.207Z"
   },
   {
    "duration": 143,
    "start_time": "2022-06-11T14:55:35.339Z"
   },
   {
    "duration": 2224303,
    "start_time": "2022-06-11T14:55:35.487Z"
   },
   {
    "duration": 11846,
    "start_time": "2022-06-11T15:32:39.792Z"
   },
   {
    "duration": 987,
    "start_time": "2022-06-11T15:32:51.640Z"
   },
   {
    "duration": 195296,
    "start_time": "2022-06-11T15:32:52.629Z"
   },
   {
    "duration": 12,
    "start_time": "2022-06-11T15:36:07.927Z"
   },
   {
    "duration": 13553,
    "start_time": "2022-06-11T17:52:18.831Z"
   },
   {
    "duration": 13240,
    "start_time": "2022-06-11T17:52:48.018Z"
   },
   {
    "duration": 11,
    "start_time": "2022-06-11T18:28:22.192Z"
   },
   {
    "duration": 10,
    "start_time": "2022-06-11T18:28:53.535Z"
   },
   {
    "duration": 12,
    "start_time": "2022-06-11T18:29:48.000Z"
   },
   {
    "duration": 448968,
    "start_time": "2022-06-11T18:39:35.606Z"
   },
   {
    "duration": 1406,
    "start_time": "2022-06-12T07:10:08.404Z"
   },
   {
    "duration": 1068,
    "start_time": "2022-06-12T07:10:09.812Z"
   },
   {
    "duration": 326,
    "start_time": "2022-06-12T07:10:10.881Z"
   },
   {
    "duration": 125,
    "start_time": "2022-06-12T07:10:11.209Z"
   },
   {
    "duration": 35,
    "start_time": "2022-06-12T07:10:11.335Z"
   },
   {
    "duration": 49,
    "start_time": "2022-06-12T07:10:11.371Z"
   },
   {
    "duration": 45,
    "start_time": "2022-06-12T07:10:11.422Z"
   },
   {
    "duration": 7,
    "start_time": "2022-06-12T07:10:11.469Z"
   },
   {
    "duration": 28,
    "start_time": "2022-06-12T07:10:11.478Z"
   },
   {
    "duration": 252,
    "start_time": "2022-06-12T07:10:11.508Z"
   },
   {
    "duration": 19,
    "start_time": "2022-06-12T07:10:11.762Z"
   },
   {
    "duration": 21,
    "start_time": "2022-06-12T07:10:11.783Z"
   },
   {
    "duration": 215,
    "start_time": "2022-06-12T07:10:11.805Z"
   },
   {
    "duration": 424,
    "start_time": "2022-06-12T07:10:12.022Z"
   },
   {
    "duration": 27,
    "start_time": "2022-06-12T07:10:12.448Z"
   },
   {
    "duration": 1087,
    "start_time": "2022-06-12T07:10:12.477Z"
   },
   {
    "duration": 60,
    "start_time": "2022-06-12T07:10:13.566Z"
   },
   {
    "duration": 22,
    "start_time": "2022-06-12T07:10:13.628Z"
   },
   {
    "duration": 111,
    "start_time": "2022-06-12T07:10:13.652Z"
   },
   {
    "duration": 12002,
    "start_time": "2022-06-12T07:10:13.765Z"
   },
   {
    "duration": 8455,
    "start_time": "2022-06-12T07:10:25.769Z"
   },
   {
    "duration": 143742,
    "start_time": "2022-06-12T07:10:34.226Z"
   },
   {
    "duration": 11471,
    "start_time": "2022-06-12T07:12:57.970Z"
   },
   {
    "duration": 832,
    "start_time": "2022-06-12T07:13:09.443Z"
   },
   {
    "duration": 111,
    "start_time": "2022-06-12T07:13:10.277Z"
   },
   {
    "duration": 486,
    "start_time": "2022-06-12T07:13:10.389Z"
   },
   {
    "duration": 234,
    "start_time": "2022-06-12T07:40:04.020Z"
   },
   {
    "duration": 174,
    "start_time": "2022-06-12T07:40:19.180Z"
   },
   {
    "duration": 1278,
    "start_time": "2022-06-12T08:06:06.511Z"
   },
   {
    "duration": 758,
    "start_time": "2022-06-12T08:06:07.791Z"
   },
   {
    "duration": 388,
    "start_time": "2022-06-12T08:06:08.551Z"
   },
   {
    "duration": 119,
    "start_time": "2022-06-12T08:06:08.941Z"
   },
   {
    "duration": 30,
    "start_time": "2022-06-12T08:06:09.061Z"
   },
   {
    "duration": 72,
    "start_time": "2022-06-12T08:06:09.093Z"
   },
   {
    "duration": 38,
    "start_time": "2022-06-12T08:06:09.167Z"
   },
   {
    "duration": 11,
    "start_time": "2022-06-12T08:06:09.206Z"
   },
   {
    "duration": 49,
    "start_time": "2022-06-12T08:06:09.218Z"
   },
   {
    "duration": 229,
    "start_time": "2022-06-12T08:06:09.269Z"
   },
   {
    "duration": 21,
    "start_time": "2022-06-12T08:06:09.500Z"
   },
   {
    "duration": 39,
    "start_time": "2022-06-12T08:06:09.523Z"
   },
   {
    "duration": 196,
    "start_time": "2022-06-12T08:06:09.564Z"
   },
   {
    "duration": 417,
    "start_time": "2022-06-12T08:06:09.761Z"
   },
   {
    "duration": 23,
    "start_time": "2022-06-12T08:06:10.180Z"
   },
   {
    "duration": 1007,
    "start_time": "2022-06-12T08:06:10.205Z"
   },
   {
    "duration": 69,
    "start_time": "2022-06-12T08:06:11.214Z"
   },
   {
    "duration": 12,
    "start_time": "2022-06-12T08:06:11.285Z"
   },
   {
    "duration": 66,
    "start_time": "2022-06-12T08:06:11.299Z"
   },
   {
    "duration": 11602,
    "start_time": "2022-06-12T08:06:11.367Z"
   },
   {
    "duration": 8528,
    "start_time": "2022-06-12T08:06:22.971Z"
   },
   {
    "duration": 142435,
    "start_time": "2022-06-12T08:06:31.501Z"
   },
   {
    "duration": 11848,
    "start_time": "2022-06-12T08:08:53.938Z"
   },
   {
    "duration": 789,
    "start_time": "2022-06-12T08:09:05.788Z"
   },
   {
    "duration": 60,
    "start_time": "2022-06-12T08:09:06.659Z"
   },
   {
    "duration": 508,
    "start_time": "2022-06-12T08:09:06.721Z"
   },
   {
    "duration": 58,
    "start_time": "2022-06-12T09:10:32.502Z"
   },
   {
    "duration": 24,
    "start_time": "2022-06-12T09:11:23.940Z"
   },
   {
    "duration": 1455,
    "start_time": "2022-06-13T09:44:14.385Z"
   },
   {
    "duration": 2719,
    "start_time": "2022-06-13T09:44:15.842Z"
   },
   {
    "duration": 273,
    "start_time": "2022-06-13T09:44:18.562Z"
   },
   {
    "duration": 94,
    "start_time": "2022-06-13T09:44:18.837Z"
   },
   {
    "duration": 25,
    "start_time": "2022-06-13T09:44:18.933Z"
   },
   {
    "duration": 59,
    "start_time": "2022-06-13T09:44:18.960Z"
   },
   {
    "duration": 234,
    "start_time": "2022-06-13T09:44:19.021Z"
   },
   {
    "duration": 37,
    "start_time": "2022-06-13T09:44:19.256Z"
   },
   {
    "duration": 8,
    "start_time": "2022-06-13T09:44:19.294Z"
   },
   {
    "duration": 35,
    "start_time": "2022-06-13T09:44:19.304Z"
   },
   {
    "duration": 270,
    "start_time": "2022-06-13T09:44:19.341Z"
   },
   {
    "duration": 19,
    "start_time": "2022-06-13T09:44:19.613Z"
   },
   {
    "duration": 20,
    "start_time": "2022-06-13T09:44:19.634Z"
   },
   {
    "duration": 183,
    "start_time": "2022-06-13T09:44:19.655Z"
   },
   {
    "duration": 4,
    "start_time": "2022-06-13T09:44:19.839Z"
   },
   {
    "duration": 0,
    "start_time": "2022-06-13T09:44:19.844Z"
   },
   {
    "duration": 0,
    "start_time": "2022-06-13T09:44:19.845Z"
   },
   {
    "duration": 0,
    "start_time": "2022-06-13T09:44:19.846Z"
   },
   {
    "duration": 0,
    "start_time": "2022-06-13T09:44:19.847Z"
   },
   {
    "duration": 0,
    "start_time": "2022-06-13T09:44:19.848Z"
   },
   {
    "duration": 0,
    "start_time": "2022-06-13T09:44:19.849Z"
   },
   {
    "duration": 0,
    "start_time": "2022-06-13T09:44:19.850Z"
   },
   {
    "duration": 0,
    "start_time": "2022-06-13T09:44:19.851Z"
   },
   {
    "duration": 0,
    "start_time": "2022-06-13T09:44:19.852Z"
   },
   {
    "duration": 0,
    "start_time": "2022-06-13T09:44:19.853Z"
   },
   {
    "duration": 0,
    "start_time": "2022-06-13T09:44:19.854Z"
   },
   {
    "duration": 0,
    "start_time": "2022-06-13T09:44:19.855Z"
   },
   {
    "duration": 137,
    "start_time": "2022-06-13T09:44:55.234Z"
   },
   {
    "duration": 9,
    "start_time": "2022-06-13T09:45:31.524Z"
   },
   {
    "duration": 683,
    "start_time": "2022-06-13T09:45:35.383Z"
   },
   {
    "duration": 43,
    "start_time": "2022-06-13T16:34:06.572Z"
   },
   {
    "duration": 1439,
    "start_time": "2022-06-13T16:34:12.214Z"
   },
   {
    "duration": 1143,
    "start_time": "2022-06-13T16:34:13.655Z"
   },
   {
    "duration": 382,
    "start_time": "2022-06-13T16:34:14.800Z"
   },
   {
    "duration": 122,
    "start_time": "2022-06-13T16:34:15.184Z"
   },
   {
    "duration": 39,
    "start_time": "2022-06-13T16:34:15.308Z"
   },
   {
    "duration": 61,
    "start_time": "2022-06-13T16:34:15.348Z"
   },
   {
    "duration": 1463,
    "start_time": "2022-06-13T16:34:15.411Z"
   },
   {
    "duration": 31,
    "start_time": "2022-06-13T16:34:16.876Z"
   },
   {
    "duration": 35,
    "start_time": "2022-06-13T16:34:16.908Z"
   },
   {
    "duration": 30,
    "start_time": "2022-06-13T16:34:16.945Z"
   },
   {
    "duration": 230,
    "start_time": "2022-06-13T16:34:16.976Z"
   },
   {
    "duration": 32,
    "start_time": "2022-06-13T16:34:17.207Z"
   },
   {
    "duration": 22,
    "start_time": "2022-06-13T16:34:17.240Z"
   },
   {
    "duration": 211,
    "start_time": "2022-06-13T16:34:17.264Z"
   },
   {
    "duration": 3,
    "start_time": "2022-06-13T16:34:17.477Z"
   },
   {
    "duration": 0,
    "start_time": "2022-06-13T16:34:17.482Z"
   },
   {
    "duration": 0,
    "start_time": "2022-06-13T16:34:17.483Z"
   },
   {
    "duration": 0,
    "start_time": "2022-06-13T16:34:17.484Z"
   },
   {
    "duration": 0,
    "start_time": "2022-06-13T16:34:17.485Z"
   },
   {
    "duration": 0,
    "start_time": "2022-06-13T16:34:17.487Z"
   },
   {
    "duration": 0,
    "start_time": "2022-06-13T16:34:17.488Z"
   },
   {
    "duration": 0,
    "start_time": "2022-06-13T16:34:17.489Z"
   },
   {
    "duration": 0,
    "start_time": "2022-06-13T16:34:17.491Z"
   },
   {
    "duration": 0,
    "start_time": "2022-06-13T16:34:17.492Z"
   },
   {
    "duration": 0,
    "start_time": "2022-06-13T16:34:17.494Z"
   },
   {
    "duration": 1,
    "start_time": "2022-06-13T16:34:17.528Z"
   },
   {
    "duration": 0,
    "start_time": "2022-06-13T16:34:17.529Z"
   },
   {
    "duration": 336,
    "start_time": "2022-06-13T16:36:18.506Z"
   },
   {
    "duration": 20,
    "start_time": "2022-06-13T16:39:07.564Z"
   },
   {
    "duration": 235,
    "start_time": "2022-06-13T16:39:08.662Z"
   },
   {
    "duration": 233,
    "start_time": "2022-06-13T16:40:04.968Z"
   },
   {
    "duration": 231,
    "start_time": "2022-06-13T16:41:44.323Z"
   },
   {
    "duration": 202,
    "start_time": "2022-06-13T16:42:17.000Z"
   },
   {
    "duration": 225,
    "start_time": "2022-06-13T16:42:39.345Z"
   },
   {
    "duration": 370,
    "start_time": "2022-06-13T16:44:10.289Z"
   },
   {
    "duration": 9,
    "start_time": "2022-06-13T16:53:38.396Z"
   },
   {
    "duration": 189,
    "start_time": "2022-06-13T16:53:40.766Z"
   },
   {
    "duration": 230,
    "start_time": "2022-06-13T16:53:49.919Z"
   },
   {
    "duration": 6,
    "start_time": "2022-06-13T16:54:12.162Z"
   },
   {
    "duration": 198,
    "start_time": "2022-06-13T16:54:13.044Z"
   },
   {
    "duration": 202,
    "start_time": "2022-06-13T16:54:21.134Z"
   },
   {
    "duration": 5,
    "start_time": "2022-06-13T16:54:32.578Z"
   },
   {
    "duration": 188,
    "start_time": "2022-06-13T16:54:37.868Z"
   },
   {
    "duration": 1253,
    "start_time": "2022-06-13T16:55:03.181Z"
   },
   {
    "duration": 793,
    "start_time": "2022-06-13T16:55:04.436Z"
   },
   {
    "duration": 400,
    "start_time": "2022-06-13T16:55:05.230Z"
   },
   {
    "duration": 122,
    "start_time": "2022-06-13T16:55:05.633Z"
   },
   {
    "duration": 29,
    "start_time": "2022-06-13T16:55:05.757Z"
   },
   {
    "duration": 75,
    "start_time": "2022-06-13T16:55:05.788Z"
   },
   {
    "duration": 38,
    "start_time": "2022-06-13T16:55:05.865Z"
   },
   {
    "duration": 10,
    "start_time": "2022-06-13T16:55:05.905Z"
   },
   {
    "duration": 29,
    "start_time": "2022-06-13T16:55:05.927Z"
   },
   {
    "duration": 246,
    "start_time": "2022-06-13T16:55:05.959Z"
   },
   {
    "duration": 31,
    "start_time": "2022-06-13T16:55:06.207Z"
   },
   {
    "duration": 28,
    "start_time": "2022-06-13T16:55:06.240Z"
   },
   {
    "duration": 350,
    "start_time": "2022-06-13T16:55:06.270Z"
   },
   {
    "duration": 213,
    "start_time": "2022-06-13T16:55:06.622Z"
   },
   {
    "duration": 5,
    "start_time": "2022-06-13T16:55:06.837Z"
   },
   {
    "duration": 0,
    "start_time": "2022-06-13T16:55:06.844Z"
   },
   {
    "duration": 0,
    "start_time": "2022-06-13T16:55:06.845Z"
   },
   {
    "duration": 0,
    "start_time": "2022-06-13T16:55:06.846Z"
   },
   {
    "duration": 0,
    "start_time": "2022-06-13T16:55:06.848Z"
   },
   {
    "duration": 0,
    "start_time": "2022-06-13T16:55:06.849Z"
   },
   {
    "duration": 0,
    "start_time": "2022-06-13T16:55:06.852Z"
   },
   {
    "duration": 0,
    "start_time": "2022-06-13T16:55:06.853Z"
   },
   {
    "duration": 0,
    "start_time": "2022-06-13T16:55:06.855Z"
   },
   {
    "duration": 0,
    "start_time": "2022-06-13T16:55:06.856Z"
   },
   {
    "duration": 0,
    "start_time": "2022-06-13T16:55:06.857Z"
   },
   {
    "duration": 0,
    "start_time": "2022-06-13T16:55:06.858Z"
   },
   {
    "duration": 0,
    "start_time": "2022-06-13T16:55:06.859Z"
   },
   {
    "duration": 1291,
    "start_time": "2022-06-13T17:18:03.093Z"
   },
   {
    "duration": 760,
    "start_time": "2022-06-13T17:18:04.385Z"
   },
   {
    "duration": 371,
    "start_time": "2022-06-13T17:18:05.147Z"
   },
   {
    "duration": 118,
    "start_time": "2022-06-13T17:18:05.520Z"
   },
   {
    "duration": 27,
    "start_time": "2022-06-13T17:18:05.640Z"
   },
   {
    "duration": 66,
    "start_time": "2022-06-13T17:18:05.668Z"
   },
   {
    "duration": 35,
    "start_time": "2022-06-13T17:18:05.735Z"
   },
   {
    "duration": 24,
    "start_time": "2022-06-13T17:18:05.772Z"
   },
   {
    "duration": 48,
    "start_time": "2022-06-13T17:18:05.798Z"
   },
   {
    "duration": 236,
    "start_time": "2022-06-13T17:18:05.848Z"
   },
   {
    "duration": 19,
    "start_time": "2022-06-13T17:18:06.086Z"
   },
   {
    "duration": 36,
    "start_time": "2022-06-13T17:18:06.107Z"
   },
   {
    "duration": 247,
    "start_time": "2022-06-13T17:18:06.145Z"
   },
   {
    "duration": 434,
    "start_time": "2022-06-13T17:18:06.395Z"
   },
   {
    "duration": 25,
    "start_time": "2022-06-13T17:18:06.831Z"
   },
   {
    "duration": 1005,
    "start_time": "2022-06-13T17:18:06.858Z"
   },
   {
    "duration": 57,
    "start_time": "2022-06-13T17:18:07.865Z"
   },
   {
    "duration": 12,
    "start_time": "2022-06-13T17:18:07.924Z"
   },
   {
    "duration": 93,
    "start_time": "2022-06-13T17:18:07.938Z"
   },
   {
    "duration": 11695,
    "start_time": "2022-06-13T17:18:08.033Z"
   },
   {
    "duration": 8005,
    "start_time": "2022-06-13T17:18:19.729Z"
   },
   {
    "duration": 1353,
    "start_time": "2022-06-13T17:20:06.192Z"
   },
   {
    "duration": 810,
    "start_time": "2022-06-13T17:20:07.546Z"
   },
   {
    "duration": 347,
    "start_time": "2022-06-13T17:20:08.358Z"
   },
   {
    "duration": 120,
    "start_time": "2022-06-13T17:20:08.707Z"
   },
   {
    "duration": 28,
    "start_time": "2022-06-13T17:20:08.829Z"
   },
   {
    "duration": 71,
    "start_time": "2022-06-13T17:20:08.858Z"
   },
   {
    "duration": 36,
    "start_time": "2022-06-13T17:20:08.931Z"
   },
   {
    "duration": 11,
    "start_time": "2022-06-13T17:20:08.968Z"
   },
   {
    "duration": 48,
    "start_time": "2022-06-13T17:20:08.980Z"
   },
   {
    "duration": 242,
    "start_time": "2022-06-13T17:20:09.031Z"
   },
   {
    "duration": 21,
    "start_time": "2022-06-13T17:20:09.275Z"
   },
   {
    "duration": 48,
    "start_time": "2022-06-13T17:20:09.298Z"
   },
   {
    "duration": 200,
    "start_time": "2022-06-13T17:20:09.348Z"
   },
   {
    "duration": 429,
    "start_time": "2022-06-13T17:20:09.549Z"
   },
   {
    "duration": 23,
    "start_time": "2022-06-13T17:20:09.980Z"
   },
   {
    "duration": 1009,
    "start_time": "2022-06-13T17:20:10.005Z"
   },
   {
    "duration": 56,
    "start_time": "2022-06-13T17:20:11.016Z"
   },
   {
    "duration": 12,
    "start_time": "2022-06-13T17:20:11.074Z"
   },
   {
    "duration": 140,
    "start_time": "2022-06-13T17:20:11.088Z"
   },
   {
    "duration": 40709,
    "start_time": "2022-06-13T17:20:11.231Z"
   },
   {
    "duration": 7974,
    "start_time": "2022-06-13T17:20:51.942Z"
   },
   {
    "duration": 138340,
    "start_time": "2022-06-13T17:20:59.918Z"
   },
   {
    "duration": 10885,
    "start_time": "2022-06-13T17:23:18.260Z"
   },
   {
    "duration": 797,
    "start_time": "2022-06-13T17:23:29.147Z"
   },
   {
    "duration": 126,
    "start_time": "2022-06-13T17:23:29.945Z"
   },
   {
    "duration": 480,
    "start_time": "2022-06-13T17:23:30.073Z"
   },
   {
    "duration": 43,
    "start_time": "2022-06-13T17:23:30.555Z"
   },
   {
    "duration": 17,
    "start_time": "2022-06-13T17:47:41.929Z"
   },
   {
    "duration": 5,
    "start_time": "2022-06-13T17:47:48.457Z"
   },
   {
    "duration": 10,
    "start_time": "2022-06-13T17:48:05.482Z"
   },
   {
    "duration": 1262,
    "start_time": "2022-06-13T17:48:52.160Z"
   },
   {
    "duration": 767,
    "start_time": "2022-06-13T17:48:53.424Z"
   },
   {
    "duration": 330,
    "start_time": "2022-06-13T17:48:54.192Z"
   },
   {
    "duration": 110,
    "start_time": "2022-06-13T17:48:54.524Z"
   },
   {
    "duration": 27,
    "start_time": "2022-06-13T17:48:54.635Z"
   },
   {
    "duration": 69,
    "start_time": "2022-06-13T17:48:54.663Z"
   },
   {
    "duration": 39,
    "start_time": "2022-06-13T17:48:54.733Z"
   },
   {
    "duration": 9,
    "start_time": "2022-06-13T17:48:54.774Z"
   },
   {
    "duration": 44,
    "start_time": "2022-06-13T17:48:54.784Z"
   },
   {
    "duration": 235,
    "start_time": "2022-06-13T17:48:54.830Z"
   },
   {
    "duration": 19,
    "start_time": "2022-06-13T17:48:55.067Z"
   },
   {
    "duration": 22,
    "start_time": "2022-06-13T17:48:55.088Z"
   },
   {
    "duration": 213,
    "start_time": "2022-06-13T17:48:55.111Z"
   },
   {
    "duration": 403,
    "start_time": "2022-06-13T17:48:55.327Z"
   },
   {
    "duration": 25,
    "start_time": "2022-06-13T17:48:55.731Z"
   },
   {
    "duration": 1037,
    "start_time": "2022-06-13T17:48:55.758Z"
   },
   {
    "duration": 57,
    "start_time": "2022-06-13T17:48:56.796Z"
   },
   {
    "duration": 12,
    "start_time": "2022-06-13T17:48:56.854Z"
   },
   {
    "duration": 69,
    "start_time": "2022-06-13T17:48:56.867Z"
   },
   {
    "duration": 11512,
    "start_time": "2022-06-13T17:48:57.029Z"
   },
   {
    "duration": 8287,
    "start_time": "2022-06-13T17:49:08.542Z"
   },
   {
    "duration": 135721,
    "start_time": "2022-06-13T17:49:16.830Z"
   },
   {
    "duration": 10963,
    "start_time": "2022-06-13T17:51:32.553Z"
   },
   {
    "duration": 835,
    "start_time": "2022-06-13T17:51:43.517Z"
   },
   {
    "duration": 108,
    "start_time": "2022-06-13T17:51:44.353Z"
   },
   {
    "duration": 469,
    "start_time": "2022-06-13T17:51:44.463Z"
   },
   {
    "duration": 78,
    "start_time": "2022-06-13T17:51:44.934Z"
   },
   {
    "duration": 1365,
    "start_time": "2022-06-14T06:00:57.639Z"
   },
   {
    "duration": 2945,
    "start_time": "2022-06-14T06:00:59.006Z"
   },
   {
    "duration": 350,
    "start_time": "2022-06-14T06:01:01.954Z"
   },
   {
    "duration": 106,
    "start_time": "2022-06-14T06:01:02.306Z"
   },
   {
    "duration": 38,
    "start_time": "2022-06-14T06:01:02.414Z"
   },
   {
    "duration": 54,
    "start_time": "2022-06-14T06:01:02.453Z"
   },
   {
    "duration": 45,
    "start_time": "2022-06-14T06:01:02.508Z"
   },
   {
    "duration": 27,
    "start_time": "2022-06-14T06:01:02.555Z"
   },
   {
    "duration": 30,
    "start_time": "2022-06-14T06:01:02.583Z"
   },
   {
    "duration": 214,
    "start_time": "2022-06-14T06:01:02.616Z"
   },
   {
    "duration": 20,
    "start_time": "2022-06-14T06:01:02.838Z"
   },
   {
    "duration": 21,
    "start_time": "2022-06-14T06:01:02.859Z"
   },
   {
    "duration": 195,
    "start_time": "2022-06-14T06:01:02.882Z"
   },
   {
    "duration": 400,
    "start_time": "2022-06-14T06:01:03.078Z"
   },
   {
    "duration": 22,
    "start_time": "2022-06-14T06:01:03.480Z"
   },
   {
    "duration": 1063,
    "start_time": "2022-06-14T06:01:03.503Z"
   },
   {
    "duration": 70,
    "start_time": "2022-06-14T06:01:04.568Z"
   },
   {
    "duration": 12,
    "start_time": "2022-06-14T06:01:04.641Z"
   },
   {
    "duration": 77,
    "start_time": "2022-06-14T06:01:04.654Z"
   },
   {
    "duration": 185615,
    "start_time": "2022-06-14T06:01:04.732Z"
   },
   {
    "duration": 8193,
    "start_time": "2022-06-14T06:04:10.348Z"
   },
   {
    "duration": 130591,
    "start_time": "2022-06-14T06:04:18.542Z"
   },
   {
    "duration": 10424,
    "start_time": "2022-06-14T06:06:29.134Z"
   },
   {
    "duration": 781,
    "start_time": "2022-06-14T06:06:39.559Z"
   },
   {
    "duration": 106,
    "start_time": "2022-06-14T06:06:40.344Z"
   },
   {
    "duration": 451,
    "start_time": "2022-06-14T06:06:40.451Z"
   },
   {
    "duration": 10,
    "start_time": "2022-06-14T07:15:53.293Z"
   },
   {
    "duration": 31,
    "start_time": "2022-06-14T14:49:46.703Z"
   }
  ],
  "kernelspec": {
   "display_name": "Python 3 (ipykernel)",
   "language": "python",
   "name": "python3"
  },
  "language_info": {
   "codemirror_mode": {
    "name": "ipython",
    "version": 3
   },
   "file_extension": ".py",
   "mimetype": "text/x-python",
   "name": "python",
   "nbconvert_exporter": "python",
   "pygments_lexer": "ipython3",
   "version": "3.9.5"
  },
  "toc": {
   "base_numbering": 1,
   "nav_menu": {},
   "number_sections": true,
   "sideBar": true,
   "skip_h1_title": true,
   "title_cell": "Table of Contents",
   "title_sidebar": "Contents",
   "toc_cell": false,
   "toc_position": {},
   "toc_section_display": true,
   "toc_window_display": false
  }
 },
 "nbformat": 4,
 "nbformat_minor": 2
}
